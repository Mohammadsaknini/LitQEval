{
 "cells": [
  {
   "cell_type": "markdown",
   "metadata": {},
   "source": [
    " #### The goal of this notebook to create the embeddings for the core publications and visualize their semantic menaing in the embedding space"
   ]
  },
  {
   "cell_type": "code",
   "execution_count": 28,
   "metadata": {},
   "outputs": [],
   "source": [
    "from langchain_openai.embeddings import OpenAIEmbeddings\n",
    "from langchain_core.documents import Document\n",
    "from langchain_chroma import Chroma\n",
    "from sklearn.cluster import KMeans\n",
    "from sklearn.manifold import TSNE\n",
    "from textwrap import shorten\n",
    "import plotly.graph_objects as go\n",
    "import plotly.express as px\n",
    "import plotly.io as pio\n",
    "import pandas as pd\n",
    "import numpy as np\n",
    "import umap\n",
    "\n",
    "pio.templates.default = \"seaborn\"\n",
    "COLORS = [\n",
    "    '#1f77b4', '#ff7f0e', '#2ca02c', '#d62728', '#9467bd',\n",
    "    '#8c564b', '#e377c2', '#7f7f7f', '#bcbd22', '#17becf',\n",
    "    '#ff33cc', '#00cc99', '#ffcc00', '#3399ff', '#9933cc',\n",
    "    '#66ff66', '#ff0066', '#669999', '#996633', '#00cccc'\n",
    "]\n",
    "PLOT_CONFIGS = dict(\n",
    "    title_x=0.5, title_font_size=30, title_font_family=\"Modern Computer\", font_family=\"Modern Computer\",\n",
    "    xaxis_title=\"\", yaxis_title=\"\", showlegend=True, legend_title=\"\",\n",
    "    xaxis_tickfont_size=5, yaxis_tickfont_size=5, legend_font_size=15,\n",
    "    xaxis_title_font_size=10, yaxis_title_font_size=10,\n",
    "    width=750, height=400,\n",
    "    # legend_orientation=\"h\", legend_yanchor=\"bottom\", legend_y=-0.5, legend_xanchor=\"center\", legend_x=0.5\n",
    "    )\n",
    "SLR_TOPICS = [\"Software Process Line\", \"Data Stream Processing Latency\", \"Business Process Meta Models\", \"Multicore Performance Prediction\", \"Cloud Migration\", \"Software Fault Prediction Metrics\", \"Software Defect Prediction\"]\n"
   ]
  },
  {
   "cell_type": "code",
   "execution_count": 29,
   "metadata": {},
   "outputs": [],
   "source": [
    "df = pd.read_excel(\"./data/metadata.xlsx\")\n",
    "core_pubs = pd.read_excel(\"./data/core_publications.xlsx\")"
   ]
  },
  {
   "cell_type": "code",
   "execution_count": 30,
   "metadata": {},
   "outputs": [],
   "source": [
    "documents = []\n",
    "pub_ids = []\n",
    "# id, title and abstract as meta data\n",
    "for i, row in df.iterrows():\n",
    "    pub_id = row[\"id\"]\n",
    "    group = core_pubs[core_pubs[\"Pub_id\"] == pub_id]\n",
    "    if group.empty:\n",
    "        group = \"Survey\"\n",
    "    else:\n",
    "        group = group[\"Topic\"].values[0]\n",
    "    content = f'Title: {row[\"title\"]}\\nAbstract: {row[\"abstract\"]}'\n",
    "    doc = Document(page_content=content, metadata={\"id\": row[\"id\"], \"topic\": group})\n",
    "    documents.append(doc)\n",
    "    pub_ids.append(row[\"id\"])\n",
    "\n",
    "def create_embeddings(documents, ids):\n",
    "    embedding_model = OpenAIEmbeddings(model=\"text-embedding-3-small\")\n",
    "    vs = Chroma(\"core_publications\", embedding_model, persist_directory=\"./data/vs/core_publications\")\n",
    "    vs.add_documents(documents, ids=ids)\n",
    "    return vs\n",
    "# create_embeddings(documents, pub_ids)"
   ]
  },
  {
   "cell_type": "code",
   "execution_count": 31,
   "metadata": {},
   "outputs": [
    {
     "name": "stderr",
     "output_type": "stream",
     "text": [
      "c:\\Users\\Moham\\AppData\\Local\\pypoetry\\Cache\\virtualenvs\\litqeval-2HojBpDP-py3.10\\lib\\site-packages\\umap\\umap_.py:1952: UserWarning:\n",
      "\n",
      "n_jobs value 1 overridden to 1 by setting random_state. Use no seed for parallelism.\n",
      "\n"
     ]
    }
   ],
   "source": [
    "collection = Chroma(\"core_publications\", persist_directory=\"./data/vs/core_publications\")\n",
    "pub_ids = collection.get()[\"ids\"]\n",
    "all_embeddings = []\n",
    "labels = []\n",
    "for i in pub_ids:\n",
    "    all_embeddings.append(collection.get(i, include=[\"embeddings\"])[\"embeddings\"])\n",
    "    labels.append(collection.get(i)[\"metadatas\"][0][\"topic\"])\n",
    "\n",
    "all_embeddings = np.squeeze(all_embeddings)\n",
    "n_clusters = len(core_pubs[\"Topic\"].unique())\n",
    "kmeans = KMeans(n_clusters=n_clusters, random_state=0).fit(all_embeddings)\n",
    "cluster_labels = kmeans.labels_\n",
    "\n",
    "umap_embeddings = umap.UMAP(metric=\"cosine\",random_state=0).fit_transform(\n",
    "    all_embeddings\n",
    ")"
   ]
  },
  {
   "cell_type": "code",
   "execution_count": 32,
   "metadata": {},
   "outputs": [],
   "source": [
    "plot_df = pd.DataFrame(umap_embeddings, columns=[\"x\", \"y\"])\n",
    "plot_df[\"label\"] = labels\n",
    "plot_df[\"cluster\"] = cluster_labels\n",
    "plot_df[\"pub_id\"] = pub_ids\n",
    "plot_df = plot_df.merge(df, left_on=\"pub_id\", right_on=\"id\")\n",
    "plot_df[\"survey_group\"] = plot_df.apply(\n",
    "    lambda x: f\"{x['label']} - {core_pubs[core_pubs['Survey'] == x['pub_id']]['Topic'].values[0]}\"\n",
    "    if x[\"label\"] == \"Survey\"\n",
    "    else \"\",\n",
    "    axis=1,\n",
    ")\n",
    "plot_df[\"Type\"] = \"Bibliometric Analysis\"\n",
    "plot_df.loc[plot_df[\"label\"].isin(SLR_TOPICS), \"Type\"] = \"Systematic Literature Review\""
   ]
  },
  {
   "cell_type": "code",
   "execution_count": 33,
   "metadata": {},
   "outputs": [
    {
     "data": {
      "application/vnd.plotly.v1+json": {
       "config": {
        "plotlyServerURL": "https://plot.ly"
       },
       "data": [
        {
         "customdata": [
          [
           "Improved reverse bias stability in p–i–n perovskite solar cells with optimized hole transport materials and less reactive electrodes",
           "As perovskite photovoltaics stride towards commercialization, reverse bias degradation in shaded cells that must current match illuminated cells is a<br>serious challenge. Previous research has emphasized the role of iodide and silver oxidation, and the role of hole tunnelling from the electron-<br>transport layer into the perovskite to enable the flow of current under reverse bias in causing degradation. Here we show that device architecture<br>engineering has a significant impact on the reverse bias behaviour of perovskite solar cells. By implementing both a ~35-nm-thick conjugated [...]"
          ],
          [
           "Bimolecularly passivated interface enables efficient and stable inverted perovskite solar cells",
           "Compared with the n-i-p structure, inverted (p-i-n) perovskite solar cells (PSCs) promise increased operating stability, but these photovoltaic cells<br>often exhibit lower power conversion efficiencies (PCEs) because of nonradiative recombination losses, particularly at the perovskite/C<sub>60</sub><br>interface. We passivated surface defects and enabled reflection of minority carriers from the interface into the bulk using two types of functional<br>molecules. We used sulfur-modified methylthio molecules to passivate surface defects and suppress recombination through strong [...]"
          ],
          [
           "Inverted perovskite solar cells with over 2,000 h operational stability at 85 °C using fixed charge passivation",
           "High-quality defect passivation at perovskite/charge extraction layer heterojunctions in perovskite solar cells is critical to solar device operation.<br>Here we report a ‘physical’ passivation method by producing fixed charges with aluminium oxide (negative fixed charges) or silicon oxide (positive<br>fixed charges) interlayers grown by atomic layer deposition at perovskite/charge extraction layer heterojunctions. Through experimental and modelling<br>approaches, we find that the fixed charge passivation (FCP) modifies carrier concentration distribution near the heterojunctions, which [...]"
          ],
          [
           "Reduction of bulk and surface defects in inverted methylammonium- and bromide-free formamidinium perovskite solar cells",
           "Power conversion efficiencies of inverted perovskite solar cells (PSCs) based on methylammonium- and bromide-free formamidinium lead triiodide<br>(FAPbI3) perovskites still lag behind PSCs with a regular configuration. Here we improve the quality of both the bulk and surface of FA0.98Cs0.02PbI3<br>perovskite films to reduce the efficiency gap. First, we use dibutyl sulfoxide, a Lewis base additive, to improve the crystallinity and reduce the<br>defect density and internal residual stress of the perovskite bulk. Then, we treat the surface of the perovskite film with trifluorocarbon- [...]"
          ],
          [
           "Lead-chelating hole-transport layers for efficient and stable perovskite minimodules",
           "The defective bottom interfaces of perovskites and hole-transport layers (HTLs) limit the performance of p-i-n structure perovskite solar cells. We<br>report that the addition of lead chelation molecules into HTLs can strongly interact with lead(II) ion (Pb<sup>2+</sup>), resulting in a reduced<br>amorphous region in perovskites near HTLs and a passivated perovskite bottom surface. The minimodule with an aperture area of 26.9 square centimeters<br>has a power conversion efficiency (PCE) of 21.8% (stabilized at 21.1%) that is certified by the National Renewable Energy Laboratory (NREL), [...]"
          ],
          [
           "Highly efficient p-i-n perovskite solar cells that endure temperature variations",
           "Daily temperature variations induce phase transitions and lattice strains in halide perovskites, challenging their stability in solar cells. We<br>stabilized the perovskite black phase and improved solar cell performance using the ordered dipolar structure of β-poly(1,1-difluoroethylene) to<br>control perovskite film crystallization and energy alignment. We demonstrated p-i-n perovskite solar cells with a record power conversion efficiency<br>of 24.6% over 18 square millimeters and 23.1% over 1 square centimeter, which retained 96 and 88% of the efficiency after 1000 hours of 1-sun [...]"
          ],
          [
           "Ion-modulated radical doping of spiro-OMeTAD for more efficient and stable perovskite solar cells",
           "Record power conversion efficiencies (PCEs) of perovskite solar cells (PSCs) have been obtained with the organic hole transporter<br>2,2',7,7'-tetrakis(<i>N</i>,<i>N</i>-di-<i>p</i>-methoxyphenyl-amine)9,9'-spirobifluorene (spiro-OMeTAD). Conventional doping of spiro-OMeTAD with<br>hygroscopic lithium salts and volatile 4-<i>tert</i>-butylpyridine is a time-consuming process and also leads to poor device stability. We developed a<br>new doping strategy for spiro-OMeTAD that avoids post-oxidation by using stable organic radicals as the dopant and ionic salts as the doping [...]"
          ],
          [
           "Towards linking lab and field lifetimes of perovskite solar cells",
           "Metal halide perovskite solar cells (PSCs) represent a promising low-cost thin-film photovoltaic technology, with unprecedented power conversion<br>efficiencies obtained for both single-junction and tandem applications1–8. To push PSCs towards commercialization, it is critical, albeit challenging,<br>to understand device reliability under real-world outdoor conditions where multiple stress factors (for example, light, heat and humidity) coexist,<br>generating complicated degradation behaviours9–13. To quickly guide PSC development, it is necessary to identify accelerated indoor testing [...]"
          ],
          [
           "Uracil Induced Simultaneously Strengthening Grain Boundaries and Interfaces Enables High‐Performance Perovskite Solar Cells with Superior Operational Stability",
           "The operational stability is a huge obstacle to further commercialization of perovskite solar cells. To address this critical issue, in this work,<br>uracil is introduced as a \"binder\" into the perovskite film to simultaneously improve the power conversion efficiency (PCE) and operational stability.<br>Uracil can efficiently passivate defects and strengthen grain boundaries to enhance the stability of perovskite films. Moreover, the uracil also<br>strengthens the interface between the perovskite and the Tin oxide (SnO<sub>2</sub> ) electron transport layer to increase the binding force. [...]"
          ],
          [
           "Extending the π‐Conjugated System in Spiro‐Type Hole Transport Material Enhances the Efficiency and Stability of Perovskite Solar Modules",
           "Hole transport materials (HTMs) are a key component of perovskite solar cells (PSCs). The small molecular 2,2',7,7'-tetrakis(N,N-di-p-<br>methoxyphenyl)-amine-9,9'-spirobifluorene (spiro-OMeTAD, termed \"Spiro\") is the most successful HTM used in PSCs, but its versatility is imperfect. To<br>improve its performance, we developed a novel spiro-type HTM (termed \"DP\") by substituting four anisole units on Spiro with 4-methoxybiphenyl<br>moieties. By extending the π-conjugation of Spiro in this way, the HOMO level of the HTM matches well with the perovskite valence band, enhancing [...]"
          ],
          [
           "Minimizing buried interfacial defects for efficient inverted perovskite solar cells",
           "Controlling the perovskite morphology and defects at the buried perovskite-substrate interface is challenging for inverted perovskite solar cells. In<br>this work, we report an amphiphilic molecular hole transporter, (2-(4-(bis(4-methoxyphenyl)amino)phenyl)-1-cyanovinyl)phosphonic acid, that features a<br>multifunctional cyanovinyl phosphonic acid group and forms a superwetting underlayer for perovskite deposition, which enables high-quality perovskite<br>films with minimized defects at the buried interface. The resulting perovskite film has a photoluminescence quantum yield of 17% and a [...]"
          ],
          [
           "Rational design of Lewis base molecules for stable and efficient inverted perovskite solar cells",
           "Lewis base molecules that bind undercoordinated lead atoms at interfaces and grain boundaries (GBs) are known to enhance the durability of metal<br>halide perovskite solar cells (PSCs). Using density functional theory calculations, we found that phosphine-containing molecules have the strongest<br>binding energy among members of a library of Lewis base molecules studied herein. Experimentally, we found that the best inverted PSC treated with<br>1,3-bis(diphenylphosphino)propane (DPPP), a diphosphine Lewis base that passivates, binds, and bridges interfaces and GBs, retained a power [...]"
          ],
          [
           "Scalable processing for realizing 21.7%-efficient all-perovskite tandem solar modules",
           "Challenges in fabricating all-perovskite tandem solar cells as modules rather than as single-junction configurations include growing high-quality<br>wide-bandgap perovskites and mitigating irreversible degradation caused by halide and metal interdiffusion at the interconnecting contacts. We<br>demonstrate efficient all-perovskite tandem solar modules using scalable fabrication techniques. By systematically tuning the cesium ratio of a<br>methylammonium-free 1.8-electron volt mixed-halide perovskite, we improve the homogeneity of crystallization for blade-coated films over large [...]"
          ],
          [
           "Record‐Efficiency Flexible Perovskite Solar Cells Enabled by Multifunctional Organic Ions Interface Passivation",
           "Flexible perovskite solar cells (f-PSCs) have attracted great attention because of their unique advantages in lightweight and portable electronics<br>applications. However, their efficiencies are far inferior to those of their rigid counterparts. Herein, a novel histamine diiodate (HADI) is designed<br>based on theoretical study to modify the SnO<sub>2</sub> /perovskite interface. Systematic experimental results reveal that the HADI serves<br>effectively as a multifunctional agent mainly in three aspects: 1) surface modification to realign the SnO<sub>2</sub> conduction band upward [...]"
          ],
          [
           "Perovskite–organic tandem solar cells with indium oxide interconnect",
           "Multijunction solar cells can overcome the fundamental efficiency limits of single-junction devices. The bandgap tunability of metal halide perovskite<br>solar cells renders them attractive for multijunction architectures1. Combinations with silicon and copper indium gallium selenide (CIGS), as well as<br>all-perovskite tandem cells, have been reported2–5. Meanwhile, narrow-gap non-fullerene acceptors have unlocked skyrocketing efficiencies for organic<br>solar cells6,7. Organic and perovskite semiconductors are an attractive combination, sharing similar processing technologies. [...]"
          ],
          [
           "Origins and influences of metallic lead in perovskite solar cells",
           "Metallic lead (Pb0) impurities in metal-halide perovskites have attracted tremendous research concerns owing to their detrimental effects on<br>perovskite solar cells (PSCs). However, the origins and influences of the Pb0 behind this issue have yet to be well understood. Herein, we show that<br>Pb0 is hardly formed in the growth of halide perovskites but is easily postformed in the perovskite films with excess PbI2. It is found that Pb0<br>impurities are decomposition byproducts of residual PbI2 in perovskites under light or X-ray irradiation. Therefore, PSCs obtained using [...]"
          ],
          [
           "Chlorobenzenesulfonic Potassium Salts as the Efficient Multifunctional Passivator for the Buried Interface in Regular Perovskite Solar Cells",
           "Abstract The interfacial properties for the buried junctions of the perovskite solar cells (PSCs) play a crucial role for the further enhancement of<br>the power conversion efficiency (PCE) and stability of devices. Delicate manipulation of the interface properties such as the defect density, energy<br>alignment, perovskite film quality, etc., guarantees efficient extraction and transport of photogenerated carriers. Herein, chlorobenzenesulfonic<br>potassium salts are presented as a novel multifunctional agent to modify the buried tin oxide (SnO 2 )/perovskite interface for regular PSCs. [...]"
          ],
          [
           "Conformal quantum dot–SnO2 layers as electron transporters for efficient perovskite solar cells",
           "Improvements to perovskite solar cells (PSCs) have focused on increasing their power conversion efficiency (PCE) and operational stability and<br>maintaining high performance upon scale-up to module sizes. We report that replacing the commonly used mesoporous-titanium dioxide electron transport<br>layer (ETL) with a thin layer of polyacrylic acid-stabilized tin(IV) oxide quantum dots (paa-QD-SnO<sub>2</sub>) on the compact-titanium dioxide<br>enhanced light capture and largely suppressed nonradiative recombination at the ETL-perovskite interface. The use of paa-QD-SnO<sub>2</sub> [...]"
          ],
          [
           "Evolution of defects during the degradation of metal halide perovskite solar cells under reverse bias and illumination",
           "The efficiency and stability of perovskite solar cells are essentially determined by defects in the perovskite layer, yet their chemical nature and<br>linking with the degradation mechanism of devices remain unclear. Here we uncover where degradation occurs and the underlying mechanisms and defects<br>involved in the performance degradation of p–i–n perovskite solar cells under illumination or reverse bias. Light-induced degradation starts with the<br>generation of iodide interstitials at the interfacial region between the perovskite and both charge transport layers. While we observe [...]"
          ],
          [
           "Over 21% Efficiency Stable 2D Perovskite Solar Cells",
           "Owing to their insufficient light absorption and charge transport, 2D Ruddlesden-Popper (RP) perovskites show relatively low efficiency. In this work,<br>methylammonium (MA), formamidinum (FA), and FA/MA mixed 2D perovskite solar cells (PSCs) are fabricated. Incorporating FA cations extends the<br>absorption range and enhances the light absorption. Optical spectroscopy shows that FA cations substantially increase the portion of 3D-like phase to<br>2D phases, and X-ray diffraction (XRD) studies reveal that FA-based 2D perovskite possesses an oblique crystal orientation. Nevertheless, [...]"
          ],
          [
           "Stabilized hole-selective layer for high-performance inverted p-i-n perovskite solar cells",
           "P-i-n geometry perovskite solar cells (PSCs) offer simplified fabrication, greater amenability to charge extraction layers, and low-temperature<br>processing over n-i-p counterparts. Self-assembled monolayers (SAMs) can enhance the performance of p-i-n PSCs but ultrathin SAMs can be thermally<br>unstable. We report a thermally robust hole-selective layer comprised of nickel oxide (NiO<sub>x</sub>) nanoparticle film with a surface-anchored<br>(4-(3,11-dimethoxy-7H-dibenzo[c,g]carbazol-7-yl)butyl)phosphonic acid (MeO-4PADBC) SAM that can improve and stabilize the [...]"
          ],
          [
           "Engineering ligand reactivity enables high-temperature operation of stable perovskite solar cells",
           "Perovskite solar cells (PSCs) consisting of interfacial two- and three-dimensional heterostructures that incorporate ammonium ligand intercalation<br>have enabled rapid progress toward the goal of uniting performance with stability. However, as the field continues to seek ever-higher durability,<br>additional tools that avoid progressive ligand intercalation are needed to minimize degradation at high temperatures. We used ammonium ligands that<br>are nonreactive with the bulk of perovskites and investigated a library that varies ligand molecular structure systematically. We found [...]"
          ],
          [
           "In Situ Polymerizing Internal Encapsulation Strategy Enables Stable Perovskite Solar Cells toward Lead Leakage Suppression",
           "Abstract Despite the outstanding power conversion efficiency (PCE) of perovskite solar cells (PSCs) achieved over the years, unsatisfactory stability<br>and lead toxicity remain obstacles that limit their competitiveness and large‐scale practical deployment. In this study, in situ polymerizing internal<br>encapsulation (IPIE) is developed as a holistic approach to overcome these challenges. The uniform polymer internal package layer constructed by<br>thermally triggered cross‐linkable monomers not only solidifies the ionic perovskite crystalline by strong electron‐withdrawing/donating [...]"
          ],
          [
           "Organometallic-functionalized interfaces for highly efficient inverted perovskite solar cells",
           "Further enhancing the performance and stability of inverted perovskite solar cells (PSCs) is crucial for their commercialization. We report that the<br>functionalization of multication and halide perovskite interfaces with an organometallic compound, ferrocenyl-bis-thiophene-2-carboxylate<br>(FcTc<sub>2</sub>), simultaneously enhanced the efficiency and stability of inverted PSCs. The resultant devices achieved a power conversion<br>efficiency of 25.0% and maintained &gt;98% of their initial efficiency after continuously operating at the maximum power point for 1500 hours [...]"
          ],
          [
           "Stability-limiting heterointerfaces of perovskite photovoltaics",
           "Optoelectronic devices consist of heterointerfaces formed between dissimilar semiconducting materials. The relative energy-level alignment between<br>contacting semiconductors determinately affects the heterointerface charge injection and extraction dynamics. For perovskite solar cells (PSCs), the<br>heterointerface between the top perovskite surface and a charge-transporting material is often treated for defect passivation1–4 to improve the PSC<br>stability and performance. However, such surface treatments can also affect the heterointerface energetics1. Here we show that surface [...]"
          ],
          [
           "Temperature‐Reliable Low‐Dimensional Perovskites Passivated Black‐Phase CsPbI3 toward Stable and Efficient Photovoltaics",
           "Low-dimensional (LD) perovskites can effectively passivate and stabilize 3D perovskites for high-performance perovskite solar cells (PSCs). Regards<br>CsPbI<sub>3</sub> -based PSCs, the influence of high-temperature annealing on the LD perovskite passivation effect has to be taken into account due to<br>fact the black-phase CsPbI<sub>3</sub> crystallization requires high-temperature treatment, however, which has been rarely concerned so far. Here, the<br>thermal stability of LD perovskites based on three hydrophobic organic ammonium salts and their passivation effect toward [...]"
          ],
          [
           "Damp heat–stable perovskite solar cells with tailored-dimensionality 2D/3D heterojunctions",
           "If perovskite solar cells (PSCs) with high power conversion efficiencies (PCEs) are to be commercialized, they must achieve long-term stability, which<br>is usually assessed with accelerated degradation tests. One of the persistent obstacles for PSCs has been successfully passing the damp-heat test<br>(85°C and 85% relative humidity), which is the standard for verifying the stability of commercial photovoltaic (PV) modules. We fabricated damp heat-<br>stable PSCs by tailoring the dimensional fragments of two-dimensional perovskite layers formed at room temperature with oleylammonium [...]"
          ],
          [
           "Constructing heterojunctions by surface sulfidation for efficient inverted perovskite solar cells",
           "A stable perovskite heterojunction was constructed for inverted solar cells through surface sulfidation of lead (Pb)-rich perovskite films. The formed<br>lead-sulfur (Pb-S) bonds upshifted the Fermi level at the perovskite interface and induced an extra back-surface field for electron extraction. The<br>resulting inverted devices exhibited a power conversion efficiency (PCE) >24% with a high open-circuit voltage of 1.19 volts, corresponding to a low<br>voltage loss of 0.36 volts. The strong Pb-S bonds could stabilize perovskite heterojunctions and strengthen underlying perovskite [...]"
          ],
          [
           "Facet orientation tailoring via 2D-seed- induced growth enables highly efficient and stable perovskite solar cells",
           "Adding 2D perovskite to 3D perovskite has been developed to effectively enhance the intrinsic stability, but it will inevitably compromise the power<br>conversion efficiency (PCE). Here, in a novel way, we introduced highly oriented 2D (BDA)PbI4 perovskites as seeds to optimize the growth kinetics of<br>3D perovskite and make its crystallization directly stride over the nucleation stage. Therefore, the seeds preferentially act as templates to<br>epitaxially grow 3D perovskite with the desired facet orientation and stacking mode. Moreover, the 2D seeds are transformed into the grain [...]"
          ]
         ],
         "hovertemplate": "Topic=Perovskite Solar Cells Stability<br>x=%{x}<br>y=%{y}<br>title=%{customdata[0]}<br>abstract=%{customdata[1]}<extra></extra>",
         "legendgroup": "Perovskite Solar Cells Stability",
         "marker": {
          "color": "#1f77b4",
          "size": 5,
          "symbol": "circle"
         },
         "mode": "markers",
         "name": "Perovskite Solar Cells Stability",
         "orientation": "v",
         "showlegend": true,
         "type": "scatter",
         "x": [
          -0.21490741,
          -0.2170481,
          -0.3571202,
          -0.2854461,
          -0.10758924,
          -0.18414955,
          -0.060847063,
          -0.19962782,
          -0.24151766,
          -0.074290834,
          -0.22889777,
          -0.12990554,
          -0.12059307,
          -0.08552122,
          -0.20532525,
          -0.10660595,
          -0.15858284,
          -0.07088298,
          -0.25316876,
          -0.2072247,
          -0.16989598,
          -0.16982536,
          -0.07838957,
          -0.25860044,
          -0.27597153,
          -0.13666531,
          -0.09007288,
          -0.32205042,
          -0.19636239
         ],
         "xaxis": "x",
         "y": [
          -1.2153857,
          -1.2870923,
          -1.074361,
          -1.2238435,
          -1.3206575,
          -1.1232032,
          -1.4008707,
          -1.0111804,
          -1.415964,
          -1.3595383,
          -1.2549564,
          -1.3076538,
          -1.3529743,
          -1.2788959,
          -1.3958828,
          -1.1463666,
          -1.3717285,
          -1.3755274,
          -1.0761327,
          -1.1945978,
          -1.2454541,
          -1.1435766,
          -1.3549528,
          -1.2070937,
          -1.1420987,
          -1.2710394,
          -1.1242744,
          -1.2459191,
          -1.2184297
         ],
         "yaxis": "y"
        },
        {
         "customdata": [
          [
           "Using smart lighting systems to reduce energy costs in warehouses: A simulation study",
           "Despite the various technical solutions for making lighting ‘smart,’ today’s lighting systems are often kept simple, and they are frequently not<br>adjusted to user behaviours. This is especially the case for production and logistics facilities such as warehouses, where large areas have to be<br>illuminated, and where lighting is often fully turned on while the warehouse operates. This paper presents a simulation model developed to evaluate<br>the cost benefits potentially resulting from using smart lighting systems in warehouses. The simulation model allows for varying warehouse design [...]"
          ],
          [
           "Green warehousing, logistics optimization, social values and ethics and economic performance: the role of supply chain sustainability",
           "Purpose This study primarily explores the influence of green warehousing, logistics optimization and social values and ethics on supply chain<br>sustainability and economic performance. The study further examines the mediating role of supply chain sustainability between economic performance and<br>green warehousing, logistics optimization and social values and ethics. Design/methodology/approach The study employs a quantitative research<br>approach where survey data are collected from 200 managers of manufacturing companies in Ghana. The dataset is analyzed using partial least [...]"
          ],
          [
           "Smart energy harvesting performance of photovoltaic roof assemblies in Canadian climate",
           "In Canada, the solar electricity sector is growing rapidly. Much of this success is based on the growth of the Ontario solar market where more than<br>99% of Canada’s solar electricity is generated. Ontario has developed a globally recognized solar market sector. The vast surface area of existing<br>residential roofs across Canada represents an untapped resource for capitalizing on passive and active management of impinging solar insolation. The<br>aim of the current research study is to evaluate the new energy harvesting technologies such as a thin-film PV integrated roof system that [...]"
          ],
          [
           "Effect of skylight–roof ratio on warehouse building energy balance and thermal–visual comfort in hot-humid climate area",
           "Skylight–roofs installation on low-rise commercial/industrial building has the potentials to reduce energy consumption through the use of daylighting,<br>yet it may also lead to an increase in room temperature and thermal discomfort for the occupants. The purpose of this numerical study is to evaluate<br>the effect of the skylights ratios on the roof to the energy efficiency for artificial lighting, indoor daylight illuminance level and thermal<br>discomfort in a warehousing building in the tropics. The simulations of low-rise warehouse building are performed using different simulation [...]"
          ],
          [
           "Barriers to low-carbon warehousing and the link to carbon abatement",
           "Purpose Warehouses are large emitters of greenhouse gases and their impact on climate change is under<br>increasing focus. The purpose of this paper is to investigate the barriers that inhibit the adoption of low-carbon warehousing in Asia-Pacific and<br>their links to carbon abatement performance. Design/methodology/approach<br>An exploratory conceptual model was first developed from a literature review of the general barriers to sustainable supply chain practices and hence<br>potentially in low-carbon warehousing. A large contract logistics services provider in the Asia-Pacific served [...]"
          ],
          [
           "Comparison of annual cooling energy demand between conventional and inflatable dock door shelters for refrigerated and frozen food warehouses",
           "The aim of this study is to estimate the energy savings potential that can be achieved using inflatable dock shelters versus simple curtain dock<br>shelters for loading/unloading activities in logistics warehouses. The article describes how these savings have been analysed and quantified in a big<br>logistics centre of a Spanish dealer. It takes into account different refrigeration applications (i.e. for different warehouse dock temperatures),<br>exterior conditions and daily loading/unloading schedules and their duration. We have used mean typical years for the different Spanish [...]"
          ],
          [
           "Impacts of Solar PV, Battery Storage and HVAC Set Point Adjustments on Energy Savings and Peak Demand Reduction Potentials in Buildings",
           "This paper discusses and compares three alternatives to reduce electrical energy consumption (kWh) and peak demand (kW) in buildings, namely<br>deployment of rooftop solar PV, battery energy storage and HVAC set point adjustments. The building model of a warehouse located in Alexandria, VA,<br>was developed in eQUEST, and its electrical consumption was validated with metered data. To perform the overall analysis, adjustment of HVAC set<br>points was conducted in eQUEST, while Solar PV and battery models were developed and deployed on top of the developed eQUEST building model. [...]"
          ],
          [
           "A comparative study of fluorescent and LED lighting in industrial facilities",
           "Industrial facilities have always been in search for reducing outgoings and minimizing energy consumption. Rapid developments in lighting technology<br>require more energy efficient solutions not only for industries but also for many sectors and for households. Addition of solid-state technology has<br>brought LED lamps into play and with LED lamp usage, efficacy level has reached its current values. Lighting systems which uses fluorescent and LED<br>lamps have become the prior choice for many industrial facilities. This paper presents a comparative study about fluorescent and LED based [...]"
          ],
          [
           "The potential for cool roofs to improve the energy efficiency of single storey warehouse-type retail buildings in Australia: A simulation case study",
           "Australia’s commercial building stock exceeds 134 million m2 of net lettable area, with retail buildings contributing 35% to this sector’s energy<br>use. The energy intensity of retail buildings in hotter climates is higher than the national average, as is the energy intensity of smaller buildings<br>(under 1500m2) that are not considered ‘high-end’ commercial properties. Little attention has been paid to improving the energy efficiency of these<br>types of buildings through regulation (for new buildings) or through market mechanisms (for retrofitting). As many of these buildings are [...]"
          ],
          [
           "Towards energy efficient operation of Heating, Ventilation and Air Conditioning systems via advanced supervisory control design",
           "This paper presents conceptual control solution for reliable and energy efficient operation of heating, ventilation and air conditioning (HVAC)<br>systems used in large volume building applications, e.g. warehouse facilities or exhibition centres. Advanced two-level scalable control solution,<br>designed to extend capabilities of the existing low-level control strategies via remote internet connection, is presented. The high-level, supervisory<br>controller is based on Model Predictive Control (MPC) architecture, which is the state-of-the-art for indoor climate control systems. The [...]"
          ],
          [
           "An Assessment of Motivations on Green Warehousing in Thailand",
           "The objectives of this research are to assess the levels of green warehousing and its motivations, and to examine the impact of motivations on green<br>warehousing in Thailand. Green warehousing and motivations frameworks were developed from literature review, validated by experts and statistical<br>techniques. Data was collected from 261 warehouses managers. Descriptive statistics and multiple regressions were applied for data analysis. It was<br>found that, for green warehousing, utilities for green warehousing had the highest score; while, green management had the lowest score. [...]"
          ],
          [
           "Decarbonizing warehousing activities through digitalization and automatization with WMS integration for sustainability supporting operations",
           "The current strong outsourcing trend dictates that the efficiency of outsourced warehousing is a big contributing impact factor<br>for the carbon footprint from supply chains. A good warehouse management system boosts warehousing eco-friendliest by reducing space waste and<br>unnecessary number of material movements, to ensure continuous fast materials flow and to keep the heating and cooling costs to a minimum. All this<br>may happen on some lengths inside the traditional manual warehousing scenes, but in fact, if the highest level of efficiency is wanted/needed, the<br>operator shall [...]"
          ],
          [
           "Integration of green supply chain management practices in construction supply chain of CPEC",
           "Purpose China Pakistan Economic Corridor (CPEC) projects are widely spread throughout Pakistan with the potential to have a massive impact on<br>Pakistan’s economic future. CPEC projects have, therefore, made it imperative that green practices are adapted to provide sustainability to the CPEC<br>projects. The adoption of green supply chain management (GSCM) framework will significantly increase the value attained from CPEC projects through the<br>increased benefits to the socio-cultural and economic conditions of Pakistan without causing harm to the environment. The purpose of this paper [...]"
          ],
          [
           "Life-Cycle Cost, Cooling Degree Day, and Carbon Dioxide Emission Assessments of Insulation of Refrigerated Warehouses Industry in Turkey",
           "In this study, cooling degree day (CDD) and life cycle cost (LCC) analyses are applied to refrigerated warehouses in Turkey to determine the optimum<br>insulation thickness. The external wall of refrigerated warehouses is considered as a sandwich wall and the insulation material is taken to be<br>expanded polystyrene. Also, the base temperatures are assumed to be −20°C, −18°C, −12°C, 0°C, and 6°C, while coefficient of performance (COP) values<br>are 1.2, 1.5, 1.8, 2.1, and 2.5. As a result: (1) the insulation thickness is directly proportional to the insulation cost; (2) insulation [...]"
          ],
          [
           "Problems in the Operating and Calculation of Payback of Photovoltaic Systems in Buildings",
           "The objects of the research are the solar photovoltaic systems (PV) that generate a significant amount of the electrical consumption in the building.<br>This paper describes the parameters that affect the payback period of photovoltaic systems. Analysis of the first year of use of specific photovoltaic<br>system (Building of a warehouse in Pärnu) is presented. The paper contains a analysis of the actual payback of photovoltaic systems under different<br>scenarios of changes in electrical tariffs in the future. If calculating based on positive scenario (significant increase of tariffs) [...]"
          ],
          [
           "Hydrogen Powered Fuel Cell Forklifts — Demonstration of Green Warehouse Logistics",
           "An Austrian consortium of industry and research partners demonstrates a system solution for renewable hydrogen powered fuel cell range extender<br>vehicles applied in intralogistics. The core element of this development, the “HYLOG Fleet Energy Cell” by Fronius International, replaces the lead-<br>acid battery in conventional battery-electric propulsion systems for warehouse logistics. In collaboration with Linde Material Handling a warehouse<br>truck fleet of 10 class-3 vehicles has been adapted accordingly at an Austrian site of the global logistics company DB Schenker. Renewable [...]"
          ],
          [
           "Energy Performance of Sustainable Roofing Systems",
           "This study presents efforts to analyze how sustainable roofing technologies can contribute to the energy budget of buildings, and the resulting<br>implications for heating and cooling energy use. The data analyzed in this study were obtained from a field experiment performed on a four story<br>warehouse/office building in Portland, Oregon USA. The building’s roof includes a 216 panel, 45.6 kW solar photovoltaic array in combination with 576<br>m2 of vegetated green roofing. While most of the surface consists of green roof shaded by photovoltaic panels, the roof also has test patches of [...]"
          ],
          [
           "Dual command cycle dynamic sequencing method to consider GHG efficiency in unit-load multiple-rack automated storage and retrieval systems",
           "In some AS/RS, the S/R machine executes a storage request and then a retrieval request to form a dual command (DC) cycle. This paper deals with a DC<br>cycle “dynamic sequencing” method in unit-load multiple-rack AS/RS system. To create a kind of greenhouse gas (GHG) efficiency in the model, tax cost,<br>penalty cost and discount of produced GHG emissions, limitations on available time of all facilities and total permitted GHG emissions produced by all<br>equipment are considered in the model. In addition, an ant colony optimization (ACO) is employed to find a near-optimum solution of [...]"
          ],
          [
           "Assessing the environmental impact of integrated inventory and warehouse management",
           "There has been considerable research on the environmental impact of supply chains but most of this has concentrated on the transport elements. The<br>environmental impact of warehousing has received relatively little attention except within the context of distribution networks. A high proportion of<br>total warehouse emissions emanate from heating, cooling, air conditioning and lighting and these aspects are largely related to warehouse size. This<br>in turn is greatly influenced by inventory management, affecting stockholding levels, and warehouse design, affecting the footprint [...]"
          ],
          [
           "Towards low-energy retail warehouse building",
           "Retail warehouse buildings consume a growing proportion of the energy used within Australia and they have potential to be designed much more<br>efficiently. This article outlines the results of modelling reductions in the energy consumption for a retail warehouse building in the Sydney,<br>Australia climate. The design evaluated in this research consumes 73% less energy than does the base-case building, resulting in a significant<br>reduction in on-going costs and in greenhouse gas emissions that are associated with the operation of this building. Techniques for reducing the [...]"
          ],
          [
           "Assessment of CO2 emissions reduction in a distribution warehouse",
           "Building energy use accounts for almost 50% of the total CO2 emissions in the UK. Most of the research has focused on reducing the operational impact<br>of buildings, however in recent years many studies have indicated the significance of embodied energy in different building types. This paper<br>primarily focuses on illustrating the relative importance of operational and embodied energy in a flexible use light distribution warehouse. The<br>building is chosen for the study as it is relatively easy to model and represents many distribution centres and industrial warehouses in [...]"
          ],
          [
           "Sustainable warehouse management",
           "Sustainable warehouse is about integrating, balancing and managing the economic, environmental and social inputs and outputs of the warehouse<br>operations. Sustainability is a core value to many businesses but they find it hard to implement in their current business setting especially when<br>they use third party logistics management system like warehousing and distribution in their supply chain business network. This paper explores the<br>application of sustainability principles in the context of warehouse storage and distribution management and introduces a sustainability model [...]"
          ],
          [
           "Greening the food supply chain: an optimisation model for sustainable design of refrigerated automated warehouses",
           "An optimisation model for the sustainable design of refrigerated automated storage and retrieval systems is proposed, which takes into account<br>specific features of the food supply chain, such as temperature control. Rack configuration as well as surfaces and volumes of the cold cell are<br>conjointly optimised in order to minimise the total yearly cost of the automated storage facility, introducing energy requirements both for<br>refrigeration and picking operations explicitly, other than investment costs. Crane plus satellite systems are modelled in order to enable deep [...]"
          ],
          [
           "A Control Strategy for Smart Energy Charging of Warehouse Material Handling Equipment",
           "The common driver of the ‘green-warehouse’ strategy is based on the reduction of energy consumption. In warehouses with ‘picker-to-part’ operations<br>the minimization of energy due to material handling activities can be achieved by means of different policies: by adopting smart automatic picking<br>systems, by adopting energy-efficient material handling equipment (MHE) as well as by identifying flexible layouts. In most cases, these strategies<br>require investments characterized by high pay-back times. In this context, management strategies focused on the adoption of available [...]"
          ],
          [
           "A Study on the Factors Influencing Green Warehouse Practice",
           "Going green in logistics business operation has been the main initiatives to reduce the carbon footprint while generating profit. This study described<br>about the green practice and the drivers in the Malaysia warehousing industry. The purpose of the study is to investigate the factors of adopting<br>green warehousing (GWH) with the main aim of exploring current green warehouse practice (GHP) in Malaysia and the factors affecting them. The<br>relationship between government engagement, customer, supplier, manager, employee’s engagement, technology innovation and green warehouse practice [...]"
          ],
          [
           "Green warehousing: Systematic literature review and bibliometric analysis",
           "Warehouses are major contributors to the rise of greenhouse gas emissions in supply chains. Thus, it is not surprising that the attention of academic<br>research to green and sustainable warehousing has been growing in recent years. This attention has led to an increasing number of publications in this<br>field, which is why a systematic literature review on the topic of green warehousing is proposed in the paper at hand. This work provides a<br>comprehensive overview and classification of the existing research on green warehousing, summarizes and synthesizes the available knowledge on [...]"
          ],
          [
           "System Design and Energy Management for a Fuel Cell/Battery Hybrid Forklift",
           "Electric forklifts, dominantly powered by lead acid batteries, are widely used for material handling in factories, warehouses, and docks. The long<br>charging time and short working time characteristics of the lead acid battery module results in the necessity of several battery modules to support<br>one forklift. Compared with the cost and time consuming lead acid battery charging system, a fuel cell/battery hybrid power module could be more<br>convenient for a forklift with fast hydrogen refueling and long working time. In this paper, based on the characteristics of a fuel cell and [...]"
          ],
          [
           "Assessing the driving forces for greening business practices: Empirical evidence from the United Arab Emirates’ logistics service industry",
           "The uprising economic, social and political pressures on achieving a good level of environmental governance have forced companies to adopt business<br>practices that aim to mitigate CO2 emissions. Logistics industry is considered as one of the major areas that could make a considerable improvement in<br>reducing the environmental impact of business activities. The aim of this study is to investigate the driving forces that influence the adoption of<br>environmentally friendly logistics activities. Following a detailed literature review, a theoretical model, which encompassed several [...]"
          ],
          [
           "Minimizing the carbon footprint of material handling equipment: Comparison of electric and LPG forklifts",
           "Purpose: The aim of this study is to identify the best Material Handling Equipment (MHE) to minimize the carbon footprint of inbound logistic<br>activities, based on the type of the warehouse (layout, facilities and order-picking strategy) as well as the weight of the loads to be handled.<br>Design/methodology/approach: A model to select the best environmental MHE for inbound logistic activities has been developed. Environmental<br>performance of the MHE has been evaluated in terms of carbon Footprint (CF). The model is tested with a tool adopting a VBA macro as well as a<br>simulation [...]"
          ],
          [
           "Environmental impact of warehousing: a scenario analysis for the United States",
           "In recent years, there has been observed a continued growth of global carbon dioxide emissions, which are considered as a crucial factor for the<br>greenhouse effect and associated with substantial environmental damages. Amongst others, logistic activities in global supply chains have become a<br>major cause of industrial emissions and the progressing environmental pollution. Although a significant amount of logistic-related carbon dioxide<br>emissions is caused by storage and material handling processes in warehouses, prior research mostly focused on the transport elements. [...]"
          ],
          [
           "Energy efficiency model for the mini-load automated storage and retrieval systems",
           "In this paper, the energy efficiency model for the mini-load AS/RS is presented. As the existing models of AS/RS apply to already well-known<br>objectives (minimum travel time, maximum throughput and minimum cost), the energy efficiency model for the mini-load AS/RS is proposed and discussed.<br>According to global trends in material handling and warehousing, the design process should encompass not only the application of the equipment with<br>fastest drives but should also consider the energy and environment aspect on the installed equipment. The proposed energy efficiency model for [...]"
          ],
          [
           "Incorporating the environmental dimension in the assessment of automated warehouses",
           "In today’s competitive context, the paradigm of sustainable development is becoming more and more significant, also in warehousing. Managers are<br>progressively considering not only purely economic aspects but also environmental concerns. Despite such consciousness, the selection of automated<br>warehousing solutions has been mainly based on operational and economic performance in both practice and theory so far, whereas energy consumption and<br>environmental performance have not been adequately taken into account. To fill this lack, a model is proposed to evaluate the energy [...]"
          ],
          [
           "Logistics social responsibility: Standard adoption and practices in Italian companies",
           "This paper deals with Logistics Social Responsibility (LSR), i.e. the socially responsible management of the supply chain under a cross-functional<br>perspective. In particular, the goal of the paper is to develop a taxonomy of the LSR practices adopted by firms. The taxonomy is built based on a<br>literature review and an empirical analysis. In particular, the empirical analysis deals with the analysis of the non-financial reports (i.e. social,<br>environmental, sustainability report, environmental statement, and/or SA8000 report) published by a sample of Italian companies.The taxonomy [...]"
          ],
          [
           "Economic evaluation for cooling and ventilation of medicine storage warehouses utilizing wind catchers",
           "Renewable energy consumption has become a dominant issue in many countries because of environmental crisis, pollution, climate change and increased<br>costs of non-renewable sources like fossil fuels. Because of global warming and energy prices designers are refocusing on the low carbon credentials<br>of new equivalents. In this context, the main target of the proposed study is to present a new innovative method of cooling the non-refrigerator<br>medicine storage warehouses in order to minimize energy costs and environmental hazards for the city of Yazd in Iran. For this purpose, [...]"
          ]
         ],
         "hovertemplate": "Topic=Green Warehousing<br>x=%{x}<br>y=%{y}<br>title=%{customdata[0]}<br>abstract=%{customdata[1]}<extra></extra>",
         "legendgroup": "Green Warehousing",
         "marker": {
          "color": "#ff7f0e",
          "size": 5,
          "symbol": "circle"
         },
         "mode": "markers",
         "name": "Green Warehousing",
         "orientation": "v",
         "showlegend": true,
         "type": "scatter",
         "x": [
          0.09538247,
          0.15248255,
          0.024635246,
          0.090033576,
          0.039409496,
          0.20711692,
          0.057223834,
          0.08579775,
          0.121576026,
          0.07612141,
          0.072469875,
          0.0681314,
          0.13443963,
          0.22478548,
          -0.004871426,
          0.28619772,
          0.075345844,
          0.1589135,
          0.054152906,
          0.044606857,
          0.01398402,
          0.016471762,
          0.16041508,
          0.11064347,
          0.08985089,
          0.047626633,
          0.24417539,
          0.06744865,
          0.106575154,
          0.021605786,
          0.16078828,
          0.020546732,
          0.14873387,
          0.14687689
         ],
         "xaxis": "x",
         "y": [
          1.8730339,
          2.5007927,
          1.4439613,
          1.6275109,
          2.2895815,
          1.7135355,
          1.6234623,
          1.775881,
          1.6129652,
          1.7550164,
          2.3940408,
          2.1744132,
          2.4653645,
          1.8015817,
          1.4919964,
          1.9660702,
          1.6092525,
          2.0053067,
          2.1617668,
          1.646952,
          1.9428842,
          2.3105805,
          2.0342817,
          2.105804,
          2.4169507,
          2.305172,
          1.8922497,
          2.3880446,
          2.0520968,
          2.1821437,
          2.0361044,
          2.230595,
          2.498529,
          1.6083575
         ],
         "yaxis": "y"
        },
        {
         "customdata": [
          [
           "Optimal UAV Caching and Trajectory in Aerial-Assisted Vehicular Networks: A Learning-Based Approach",
           "In this article, we investigate the UAV-aided edge caching to assist terrestrial vehicular networks in delivering high-bandwidth content files. Aiming<br>at maximizing the overall network throughput, we formulate a joint caching and trajectory optimization (JCTO) problem to make decisions on content<br>placement, content delivery, and UAV trajectory simultaneously. As the decisions interact with each other and the UAV energy is limited, the<br>formulated JCTO problem is intractable directly and timely. To this end, we propose a deep supervised learning scheme to enable intelligent edge [...]"
          ],
          [
           "Artificial Intelligence Enabled Online Non-intrusive Load Monitoring Embedded in Smart Plugs",
           "Abstract As an Internet-of-Things (IoT) device for smart homes, smart plugs have been pervasive in households, which enable users to monitor and<br>control their electrical appliances remotely and automatically. It is promising that, the networks of smart plugs in the power system will enable<br>autonomous demand response for optimal grid operation. This benefits power systems from several aspects, e.g., enhancing renewable penetration and<br>reducing the peak load. In order to facilitate energy management and minimize the impact of load shedding on the customers, it is meaningful to [...]"
          ],
          [
           "SCEH: Smart Customized E-health Framework for Countryside Using Edge AI and Body Sensor Networks",
           "Due to the shortage and unbalance of medical resources, it is difficult for patients in the countryside to get high-quality and timely medical<br>services from the central medical facility. Existing researches of fog e-health has the potential of providing real-time medical services for the<br>countryside with body sensor networks (BSN), but there are two limitations. On one hand, because of the medical services requiring not only low-<br>latency but also high-quality, constructing an AI e-health service on resource-constrained fog with edge AI is necessary but unsolved. On the [...]"
          ],
          [
           "An Efficient Distributed Deep Learning Framework for Fog-based IoT Systems",
           "Deep neural networks (DNNs) are the key techniques to enable edge/fog intelligence. By far, it remains challenging to conduct distributed deployment<br>of DNN models onto resource-constrained fog nodes with low latency. Existing solutions adopt either model compression techniques to reduce the<br>computation loads on fog nodes, or horizontal model partition techniques, which exploit particular communication and computation patterns to partition<br>different layers of DNNs onto fog nodes. Nonetheless, sometimes even resource demands of particular layers can be unaffordable to fog nodes, [...]"
          ],
          [
           "Towards low-power random forest using asynchronous computing with streams",
           "We propose a sensor architecture for the internet of things (IoT), smartdust or edge-intelligence (EI) that combines near-analog-memory (NAM)<br>processing and asynchronous computing with streams (ACS) addressing the need for machine learning (ML) capabilities at low power budgets. In ACS an<br>analog value is mapped to an asynchronous stream that can take one of two values (vh, vl). This stream-based data representation enables area-power<br>efficient computing units such as the multiplier implemented as an AND gate yielding savings in power of 90% compared with digital [...]"
          ],
          [
           "EDGE AI for Heterogeneous and Massive IoT Networks",
           "By combining multiple sensing and wireless access technologies, the Internet of Things (IoT) shall exhibit features with large-scale, massive, and<br>heterogeneous sensors and data. To integrate diverse radio access technologies, we present the architecture of heterogeneous IoT system for smart<br>industrial parks and build an IoT experimental platform. Various sensors are installed on the IoT devices deployed on the experimental platform. To<br>efficiently process the raw sensor data and realize edge artificial intelligence (AI), we describe four statistical features of the raw sensor [...]"
          ],
          [
           "Environmental Intelligence for Embedded Real-time Traffic Sound Classification",
           "In this paper a prototype to classify sounds emitted by car engines to be used for urban traffic management in smart cities is presented. The solution<br>is based on Artificial Neural Network (ANN) executed on a resource constrained low cost embedded micro controller integrated into a sensing unit very<br>close to the microphone. The prototype operates without the need of being connected to a remote server through an always-on connectivity. The adoption<br>of an on-the-edge artificial intelligence architecture brings a set of advantages: safety, reliability, promptness and low power [...]"
          ],
          [
           "Artificial Intelligence-based Service Aggregation for Mobile-Agent in Edge Computing",
           "The ongoing development of edge computing in fifth-generation (5G) networks promises to provide an artificial intelligence-as-a-service (AIaaS) for<br>meeting the stringent requirements of everything as a service (XaaS) in the edge of the networks. Therefore, the concept of edge-artificial<br>intelligence (edge-AI) is not only evolving but also emergent enabler toward AI service fulfillment. In this paper, we investigate an AI-based service<br>aggregation problem for a mobile agent in AIaaS-enabled edge computing. First, we propose an optimization problem for the mobile agent and [...]"
          ],
          [
           "OpenEI: An Open Framework for Edge Intelligence",
           "In the last five years, edge computing has attracted tremendous attention from industry and academia due to its promise to reduce latency, save<br>bandwidth, improve availability, and protect data privacy to keep data secure. At the same time, we have witnessed the proliferation of AI algorithms<br>and models which accelerate the successful deployment of intelligence mainly in cloud services. These two trends, combined together, have created a<br>new horizon: Edge Intelligence (EI). The development of EI requires much attention from both the computer systems research community and the [...]"
          ],
          [
           "Client Selection for Federated Learning with Heterogeneous Resources in Mobile Edge",
           "We envision a mobile edge computing (MEC) framework for machine learning (ML) technologies, which leverages distributed client data and computation<br>resources for training high-performance ML models while preserving client privacy. Toward this future goal, this work aims to extend Federated<br>Learning (FL), a decentralized learning framework that enables privacy-preserving training of models, to work with heterogeneous clients in a<br>practical cellular network. The FL protocol iteratively asks random clients to download a trainable model from a server, update it with own data, [...]"
          ],
          [
           "A Heterogeneous IoT Data Analysis Framework with Collaboration of Edge-Cloud Computing: Focusing on Indoor PM10 and PM2.5 Status Prediction",
           "The edge platform has evolved to become a part of a distributed computing environment. While typical edges do not have enough processing power to<br>train machine learning models in real time, it is common to generate models in the cloud for use on the edge. The pattern of heterogeneous Internet of<br>Things (IoT) data is dependent on individual circumstances. It is not easy to guarantee prediction performance when a monolithic model is used without<br>considering the spatial characteristics of the space generating those data. In this paper, we propose a collaborative framework using a [...]"
          ],
          [
           "Intelligent Edge Computing for IoT-Based Energy Management in Smart Cities",
           "In recent years, green energy management systems (smart grid, smart buildings, and so on) have received huge research and industrial attention with<br>the explosive development of smart cities. By introducing Internet of Things (loT) technology, smart cities are able to achieve exquisite energy<br>management by ubiquitous monitoring and reliable communications. However, long-term energy efficiency has become an important issue when using an loT-<br>based network structure. In this article, we focus on designing an IoT-based energy management system based on edge computing infrastructure [...]"
          ],
          [
           "A Novel 1D-Convolution Accelerator for Low-Power Real-time CNN processing on the Edge",
           "With the rise of deep learning, the demand for real-time edge intelligence is greater than ever. Current algorithm and hardware realizations often<br>focus on the cloud paradigm and maintain the assumption that the entire frames data is available in large batches. As a result, obtaining real-time AI<br>inference at the edge has been a tough goal due to tight-latency awareness as well as streaming nature of the data. There is an inherent need for<br>novel architectures that can realize latency-aware agile deep learning algorithms at the edge. This paper introduces a novel joint [...]"
          ],
          [
           "An Edge Based Smart Parking Solution Using Camera Networks and Deep Learning",
           "The smart parking industry continues to evolve as an increasing number of cities struggle with traffic congestion and inadequate parking availability.<br>For urban dwellers, few things are more irritating than anxiously searching for a parking space. Research results show that as much as 30% of traffic<br>is caused by drivers driving around looking for parking spaces in congested city areas. There has been considerable activity among researchers to<br>develop smart technologies that can help drivers find a parking spot with greater ease, not only reducing traffic congestion but also the [...]"
          ],
          [
           "Edge Intelligence: Challenges and Opportunities of Near-Sensor Machine Learning Applications",
           "The number of connected IoT devices is expected to reach over 20 billion by 2020. These range from basic sensor nodes that log and report the data for<br>cloud processing, to the ones on the edge, that are capable of processing and analyzing the incoming information and taking an action accordingly.<br>Machine learning, and in particular deep learning, is the defacto processing paradigm for intelligently processing these immense volumes of data.<br>However, the resource inhibited environment of edge devices, owing to their limited energy budget, and low compute capabilities, render them [...]"
          ],
          [
           "Edge Enhanced Deep Learning System for Large-scale Video Stream Analytics",
           "Applying deep learning models to large-scale IoT data is a compute-intensive task and needs significant computational resources. Existing approaches<br>transfer this big data from IoT devices to a central cloud where inference is performed using a machine learning model. However, the network<br>connecting the data capture source and the cloud platform can become a bottleneck. We address this problem by distributing the deep learning pipeline<br>across edge and cloudlet/fog resources. The basic processing stages and trained models are distributed towards the edge of the network and on [...]"
          ],
          [
           "A New Deep Learning-Based Food Recognition System for Dietary Assessment on An Edge Computing Service Infrastructure",
           "Literature has indicated that accurate dietary assessment is very important for assessing the effectiveness of weight loss interventions. However,<br>most of the existing dietary assessment methods rely on memory. With the help of pervasive mobile devices and rich cloud services, it is now possible<br>to develop new computer-aided food recognition system for accurate dietary assessment. However, enabling this future Internet of Things-based dietary<br>assessment imposes several fundamental challenges on algorithm development and system design. In this paper, we set to address these [...]"
          ],
          [
           "Exploring the Connection Between Binary and Spiking Neural Networks",
           "On-chip edge intelligence has necessitated the exploration of algorithmic techniques to reduce the compute requirements of current machine learning<br>frameworks. This work aims to bridge the recent algorithmic progress in training Binary Neural Networks and Spiking Neural Networks-both of which are<br>driven by the same motivation and yet synergies between the two have not been fully explored. We show that training Spiking Neural Networks in the<br>extreme quantization regime results in near full precision accuracies on large-scale datasets like CIFAR-100 and ImageNet. An important [...]"
          ],
          [
           "Binarizing Weights Wisely for Edge Intelligence: Guide for Partial Binarization of Deconvolution-Based Generators",
           "This article explores the weight binarization of the deconvolution-based generator in a generative adversarial network (GAN) for memory saving and<br>speedup of image construction on the edge. This article suggests that different from convolutional neural networks (including the discriminator) where<br>all layers can be binarized, only some of the layers in the generator can be binarized without significant performance loss. Supported by theoretical<br>analysis and verified by experiments, a direct metric based on the dimension of deconvolution operations is established, which can be [...]"
          ],
          [
           "Constructing energy-efficient mixed-precision neural networks through principal component analysis for edge intelligence",
           "The ‘Internet of Things’ has brought increased demand for artificial intelligence-based edge computing in applications ranging from healthcare<br>monitoring systems to autonomous vehicles. Quantization is a powerful tool to address the growing computational cost of such applications and yields<br>significant compression over full-precision networks. However, quantization can result in substantial loss of performance for complex image<br>classification tasks. To address this, we propose a principal component analysis (PCA)-driven methodology to identify the important layers of a [...]"
          ],
          [
           "Application of Edge Intelligent Computing in Satellite Internet of Things",
           "With the advancement of aerospace technology and the investment of commercial satellite companies in the satellite industry, the number of satellites<br>is increasing. Satellites become an important part of the IoT and 5G/6G communications. The sensors on the satellite will generate a large amount of<br>data every day. However, due to the current on-board processing capability and the limitation of the inter-satellite communication rate, the data<br>acquisition from the satellite has a higher delay and the data utilization rate is lower. In order to use the satellite Internet of [...]"
          ],
          [
           "Edge AI: On-Demand Accelerating Deep Neural Network Inference via Edge Computing",
           "As a key technology of enabling Artificial Intelligence (AI) applications in 5G era, Deep Neural Networks (DNNs) have quickly attracted widespread<br>attention. However, it is challenging to run computation-intensive DNN-based tasks on mobile devices due to the limited computation resources. What’s<br>worse, traditional cloud-assisted DNN inference is heavily hindered by the significant wide-area network latency, leading to poor real-time<br>performance as well as low quality of user experience. To address these challenges, in this paper, we propose Edgent, a framework that leverages [...]"
          ],
          [
           "Edge Intelligence based Co-training of CNN",
           "Improving training efficiency is a long-term major topic of neural network. With the popularity of intelligent terminal devices, such as smart phones<br>and smart household electrical appliances, edge computing is gradually developing to edge intelligence (EI), which provides support to multiple<br>terminals and play a role of a mini cloud. By making full use of the computing power of intelligent terminals in EI, while cooperating with edge<br>servers, the training efficiency of convolution neural network (CNN) can effectively be improved. In this paper, an EI based co-training model [...]"
          ],
          [
           "Soft Weight-Sharing for Neural Network Compression",
           "The success of deep learning in numerous application domains created the de- sire to run and train them on mobile devices. This however, conflicts<br>with their computationally, memory and energy intense nature, leading to a growing interest in compression. Recent work by Han et al. (2015a) propose<br>a pipeline that involves retraining, pruning and quantization of neural network weights, obtaining state-of-the-art compression rates. In this paper,<br>we show that competitive compression rates can be achieved by using a version of soft weight-sharing (Nowlan & Hinton, 1992). Our method [...]"
          ],
          [
           "A 64-mW DNN-Based Visual Navigation Engine for Autonomous Nano-Drones",
           "Fully miniaturized robots (e.g., drones), with artificial intelligence (AI)-based visual navigation capabilities, are extremely challenging drivers of<br>Internet-of-Things edge intelligence capabilities. Visual navigation based on AI approaches, such as deep neural networks (DNNs) are becoming<br>pervasive for standard-size drones, but are considered out of reach for nano-drones with a size of a few cm2. In this paper, we present the first (to<br>the best of our knowledge) demonstration of a navigation engine for autonomous nano-drones capable of closed-loop end-to-end DNN-based [...]"
          ],
          [
           "Learning IoT in Edge: Deep Learning for the Internet of Things with Edge Computing",
           "Deep learning is a promising approach for extracting accurate information from raw sensor data from IoT devices deployed in complex environments.<br>Because of its multilayer structure, deep learning is also appropriate for the edge computing environment. Therefore, in this article, we first<br>introduce deep learning for IoTs into the edge computing environment. Since existing edge nodes have limited processing capability, we also design a<br>novel offloading strategy to optimize the performance of IoT deep learning applications with edge computing. In the performance evaluation, we [...]"
          ],
          [
           "Exploring the computational cost of machine learning at the edge for human-centric Internet of Things",
           "In response to users’ demand for privacy, trust and control over their data, executing machine learning tasks at the edge of the system has the<br>potential to make the Internet of Things (IoT) applications and services more human-centric. This implies moving complex computation to a local stage,<br>where edge devices must balance the computational cost of the machine learning techniques to meet the available resources. Thus, in this paper, we<br>analyze all the factors affecting the classification process and empirically evaluate their impact in terms of performance and cost. We put the [...]"
          ],
          [
           "A Smart, Efficient, and Reliable Parking Surveillance System With Edge Artificial Intelligence on IoT Devices",
           "Cloud computing has been a main-stream computing service for years. Recently, with the rapid development in urbanization, massive video surveillance<br>data are produced at an unprecedented speed. A traditional solution to deal with the big data would require a large amount of computing and storage<br>resources. With the advances in Internet of things (IoT), artificial intelligence, and communication technologies, edge computing offers a new<br>solution to the problem by processing all or part of the data locally at the edge of a surveillance system. In this study, we investigate [...]"
          ],
          [
           "Convergence of Edge Computing and Deep Learning: A Comprehensive Survey",
           "Ubiquitous sensors and smart devices from factories and communities are generating massive amounts of data, and ever-increasing computing power is<br>driving the core of computation and services from the cloud to the edge of the network. As an important enabler broadly changing people’s lives, from<br>face recognition to ambitious smart factories and cities, developments of artificial intelligence (especially deep learning, DL) based applications<br>and services are thriving. However, due to efficiency and latency issues, the current cloud computing service architecture hinders the [...]"
          ],
          [
           "Lightweight Convolution Neural Networks for Mobile Edge Computing in Transportation Cyber Physical Systems",
           "Cloud computing extends Transportation Cyber-Physical Systems (T-CPS) with provision of enhanced computing and storage capability via offloading<br>computing tasks to remote cloud servers. However, cloud computing cannot fulfill the requirements such as low latency and context awareness in T-CPS.<br>The appearance of Mobile Edge Computing (MEC) can overcome the limitations of cloud computing via offloading the computing tasks at edge servers in<br>approximation to users, consequently reducing the latency and improving the context awareness. Although MEC has the potential in improving [...]"
          ],
          [
           "Boomerang: On-Demand Cooperative Deep Neural Network Inference for Edge Intelligence on the Industrial Internet of Things",
           "With the revolution of smart industry, more and more Industrial Internet of Things (IIoT) devices as well as AI algorithms are deployed to achieve<br>industrial intelligence. While applying computation-intensive deep learning on IIoT devices, however, it is challenging to meet the critical latency<br>requirement for industrial manufacturing. Traditional wisdom resorts to the cloud-centric paradigm but still works either inefficiently or<br>ineffectively due to the heavy transmission latency overhead. To address this challenge, we propose Boomerang, an on-demand cooperative DNN [...]"
          ],
          [
           "Edge Intelligence in the Cognitive Internet of Things: Improving Sensitivity and Interactivity",
           "A new network paradigm, CIoT, has been proposed by applying cognitive computing technologies, which is derived from cognitive science and artificial<br>intelligence in combination with the data generated by connected IoT devices and the actions that these devices perform. The development of cognitive<br>computing is very important in the above process to meet key technical challenges, such as generation of big sensory data, efficient computing/storage<br>at the CIoT edge, and integration of multiple data sources and types. On the other hand, to evolve with the new computing and [...]"
          ],
          [
           "Lightweight Privacy-Preserving Ensemble Classification for Face Recognition",
           "The development of machine learning technology and visual sensors is promoting the wider applications of face recognition into our daily life.<br>However, if the face features in the servers are abused by the adversary, our privacy and wealth can be faced with great threat. Many security experts<br>have pointed out that, by 3-D-printing technology, the adversary can utilize the leaked face feature data to masquerade others and break the E-bank<br>accounts. Therefore, in this paper, we propose a lightweight privacy-preserving adaptive boosting (AdaBoost) classification framework for [...]"
          ],
          [
           "POWER: A Parallel-Optimization-Based Framework Towards Edge Intelligent Image Recognition and a Case Study",
           "To improve the intelligent image recognition abilities of edge devices, a parallel-optimization-based framework called POWER is introduced in this<br>paper. With FPGA (Field-Programmable Gate Array) as its hardware module, POWER provides well extensibility and flexible customization capability for<br>developing intelligent firmware suitable for different types of edge devices in various scenarios. Through an actual case study, we design and<br>implement a firmware prototype following the specification of POWER and explore its performance improvement using parallel optimization. [...]"
          ],
          [
           "Data Stream Mining in Fog Computing Environment with Feature Selection Using Ensemble of Swarm Search Algorithms",
           "Fog computing emerged as a contemporary strategy to process big streaming data efficiently. It is designed as a distributed computing platform for<br>supporting the data analytics for Internet of Things (IoT) applications that pushes the data analytics from Cloud server to the far edge of a sensor<br>network. As the name suggests, ubiquitous data which is collected from the sensors are processed locally rather than on the central servers. Fog<br>computing helps avoid performance bottleneck at the center point and relieves raw data from overwhelming towards the center of the network. [...]"
          ],
          [
           "Help your Mobile Applications with Fog Computing",
           "Cloud computing has paved a way for resource-constrained mobile devices to speed up their computing tasks and to expand their storage capacity.<br>However, cloud computing is not necessary a panacea for all mobile applications. The high network latency to cloud data centers may not be ideal for<br>delay-sensitive applications while storing everything on public clouds risks users' security and privacy. In this paper, we discuss two preliminary<br>ideas, one for mobile application offloading and the other for mobile storage expansion, by leveraging the edge intelligence offered by fog [...]"
          ]
         ],
         "hovertemplate": "Topic=AI on Edge Devices<br>x=%{x}<br>y=%{y}<br>title=%{customdata[0]}<br>abstract=%{customdata[1]}<extra></extra>",
         "legendgroup": "AI on Edge Devices",
         "marker": {
          "color": "#2ca02c",
          "size": 5,
          "symbol": "circle"
         },
         "mode": "markers",
         "name": "AI on Edge Devices",
         "orientation": "v",
         "showlegend": true,
         "type": "scatter",
         "x": [
          11.997563,
          11.557603,
          10.603531,
          11.484874,
          11.063948,
          11.54171,
          11.467358,
          11.473156,
          11.543353,
          11.506441,
          11.349738,
          11.419856,
          11.722999,
          11.523111,
          11.420658,
          11.371898,
          11.206961,
          11.746349,
          11.718261,
          11.681324,
          11.454946,
          11.649794,
          11.735469,
          11.803003,
          11.971249,
          11.43155,
          11.425338,
          11.50662,
          11.444669,
          11.76634,
          11.688981,
          11.477801,
          11.307311,
          11.7897415,
          10.889733,
          10.840908
         ],
         "xaxis": "x",
         "y": [
          14.67024,
          14.672816,
          14.312248,
          14.795071,
          14.913293,
          14.779498,
          14.529126,
          14.772394,
          14.879544,
          14.929127,
          14.718664,
          14.703894,
          14.942716,
          14.655096,
          14.883352,
          14.829442,
          14.854171,
          14.909669,
          14.975898,
          14.9834585,
          14.762701,
          14.847933,
          14.928798,
          14.987037,
          14.634631,
          14.721768,
          14.809844,
          14.626153,
          14.92141,
          14.91961,
          14.758866,
          14.890296,
          14.809009,
          14.9401,
          14.605477,
          14.531737
         ],
         "yaxis": "y"
        },
        {
         "customdata": [
          [
           "Development of renewable energy sources market and biofuels in The European Union",
           "The aim of the paper is to present renewable energy market development with particular regard paid to biofuels in the EU. The analysis included data<br>on the share of renewables in Gross Island energy consumption, changes of renewable energy in the years 2004–2016 and the amount of liquid biofuels.<br>The authors of the paper used descriptive and statistical methods to describe the changes in bioenergy development in the European Union (EU). The<br>biggest share of biofuels and renewable waste can be seen in Latvia (31.2%), Finland (26.7%) and Sweden (24.8%). The highest percentage of [...]"
          ],
          [
           "Enzymatic transesterification for biodiesel production from used cooking oil, a review",
           "This paper reviews various aspects of the enzymatic transesterification method to convert used cooking oil to biodiesel. The goal of this paper is to<br>provide a thorough overview from general biodiesel production processes, reaction conditions, challenges, and solutions for higher biodiesel<br>production yield through introducing various microorganisms that are capable of producing the enzymes required to convert used cooking oil into<br>biodiesel. The characteristics, composition, and advantages of the used cooking oil, as feedstock for biodiesel, is also discussed. In addition, [...]"
          ],
          [
           "Efficient biodiesel production from Jatropha curcus using CaSO4/Fe2O3-SiO2 core-shell magnetic nanoparticles",
           "Core shell nanostructures have endorsed great enhancements in the production of biodiesel with well-controlled size, shape, and surface properties. A<br>simple and reproducible hierarchically porous core-shell CaSO4/Fe2O3-SiO2 material with controllable core morphology was developed. The materials with<br>a well mesoporous structure were prepared by ethanol/H2O media using NaNO3 as the etchant to construct the co-valent bond in Fe2O3 framework, and the<br>CH3COONa was an electrostatic supporter and subordinate reducing agent under mild. Solvothermal conditions. The morphology, porosity [...]"
          ],
          [
           "A study on performance, combustion and emission behaviour of diesel engine powered by novel nano nerium oleander biofuel",
           "In connection with the threating environmental pollution and stringent emission norms, the present experimental research studies the effect of<br>utilizing cerium oxide nanoparticle mixed with an emulsion of nerium oleander biofuel (ENOB) on a compression ignition (CI) direct injection (DI)<br>diesel engine. The whole probe was persuaded using a mono-cylinder 4-stroke direct injection CI engine. A novel nerium olender biofuel was extracted<br>and esterified. Later it was converted into the emulsion of nerium oleander biofuel, that ensued in diluted oxides of nitrogen and in reduced [...]"
          ],
          [
           "The Indirect Land Use Impacts of United States Biofuel Policies: The Importance of Acreage, Yield, and Bilateral Trade Responses",
           "Abstract Recent analysis has highlighted agricultural land conversion as a significant debit in the greenhouse gas accounting of ethanol as an<br>alternative fuel. A controversial element of this debate is the role of crop yield growth as a means of avoiding cropland conversion in the face of<br>biofuels growth. We find that standard assumptions of yield response are unduly restrictive. Furthermore, we identify both the acreage response and<br>bilateral trade specifications as critical considerations for predicting global land use change. Sensitivity analysis reveals that each of [...]"
          ],
          [
           "Social life cycle assessment of biodiesel production at three levels: a literature review and development needs",
           "Assessment of social impacts of products and services has gained increasing interest in society. Life cycle assessment (LCA) is a tool developed to<br>estimate the impacts of products and services from cradle to grave. Traditionally LCA has focused on environmental impacts, but recently approaches<br>for social life cycle assessment (SLCA) have also been developed. Most of them fairly address social performances of business, but the aim of this<br>paper is to analyse the possibilities and development needs in the complementary approach, which is the evaluation of social impacts in LCA. [...]"
          ],
          [
           "Production of palm and jatropha based biodiesel and investigation of palm-jatropha combined blend properties, performance, exhaust emission and noise in an unmodified diesel engine",
           "An ever increasing drift of energy consumption, unequal geographical distribution of natural wealth and the quest for low carbon fuel for a cleaner<br>environment are sparking off the production and use of biodiesels in many countries around the globe. In this work, palm biodiesel and jatropha<br>biodiesel were produced from the respective crude vegetable oils through transesterification, and the different physicochemical properties of the<br>produced biodiesels have been presented, and found to be acceptable according to the ASTM standard of biodiesel specification. This paper [...]"
          ],
          [
           "Brazilian biofuels and social exclusion: established and concentrated ethanol versus emerging and dispersed biodiesel",
           "Increasing interest in biofuels trade between developed and developing countries has spurred worldwide discussions on issues such as subsidies and the<br>‘food for fuel’ crisis. One issue missing in recent discourse is the pressure exerted on developing countries to adopt large-scale mechanized farming<br>practices to increase economic efficiencies. Such approaches often exclude small-scale farmers from participating in the emerging biofuels market,<br>thus exacerbating poverty and social exclusion. Drawing on both qualitative and technical data, we discuss such pressures using Brazilian [...]"
          ],
          [
           "Simulation and life cycle assessment of process design alternatives for biodiesel production from waste vegetable oils",
           "This study uses the process simulator ASPEN Plus® and Life Cycle Assessment (LCA) to compare three process design alternatives for biodiesel<br>production from waste vegetable oils that are: the conventional alkali-catalyzed process including a free fatty acids (FFAs) pre-treatment, the acid-<br>catalyzed process, and the supercritical methanol process using propane as co-solvent. Results show that the supercritical methanol process using<br>propane as co-solvent is the most environmentally favorable alternative. Its smaller steam consumption in comparison with the other process [...]"
          ],
          [
           "Integrated environmental assessment of biodiesel production from soybean in Brazil",
           "This paper presents the results of an environmental impact assessment of biodiesel production from soybean in Brazil. In order to achieve this<br>objective, environmental impact indicators provided by Emergy Accounting (EA), Embodied Energy Analysis (EEA) and Material Flow Accounting (MFA) were<br>used. The results showed that for one liter of biodiesel 8.8kg of topsoil are lost in erosion, besides the cost of 0.2kg of fertilizers, about 5.2m2<br>of crop area, 7.33kg of abiotic materials, 9.0 tons of water and 0.66kg of air and about 0.86kg of CO2 were released. About 0.27kg of crude [...]"
          ],
          [
           "Isolation of promising bacterial strains from soil and marine environment for polyhydroxyalkanoates (PHAs) production utilizing Jatropha biodiesel byproduct",
           "PHAs are biodegradable and environmentally friendly thermoplastics. The major contributor to PHA production cost is carbon substrate cost, therefore<br>it is desirable to produce PHA from waste/byproducts like Jatropha biodiesel byproducts. This study was done using Jatropha biodiesel byproduct as<br>carbon source, to decrease production cost for PHAs. Total 41 isolates from soil and marine source were able to utilize Jatropha biodiesel byproduct.<br>Nine bacteria were selected for further studies, which were found positive for Nile red viable colony screening. Two bacterial isolates [...]"
          ],
          [
           "Biodiesel production from vegetable oil by using modified CaO as solid basic catalysts",
           "A high efficient production of fatty acid methyl ester (FAME) from soybean oil and rapeseed oil was carried out using modified CaO as solid basic<br>catalyst by connecting bromooctane to the surface of CaO chemically in a simple way. It was found that 99.5% yield of the FAME over modified CaO was<br>obtained from soybean oil using 15:1 molar ratio of methanol to oil after 3 h at reaction temperature of 65 °C, which is much higher than the yield of<br>35.4% over commercial CaO at the same reaction conditions. For the transesterification between rapeseed oil and methanol, the reaction time [...]"
          ],
          [
           "Photosynthetic bioenergy utilizing CO2: an approach on flue gases utilization for third generation biofuels",
           "One of the most important industrial activities related to the greenhouse gases emissions is the cement manufacturing process, which produces large<br>amounts of carbon dioxide (CO2). Only in 2010, 8% of CO2 global emissions were due to cement industry. In this work, the use of CO2 released by the<br>cement sector is described as potential gas for microalgae culture since their biofixation efficiency is higher than terrestrial plants. Therefore,<br>transformation of polluting gas fluxes into new and valuable products is feasible. In addition, bulk applications such as wastewater [...]"
          ],
          [
           "Demand-pull and technology-push public support for eco-innovation: The case of the biofuels sector",
           "The purpose of this paper is to explore the differentiated impact of demand-pull and technology-push policies in shaping technological patterns in the<br>biofuels sector. The empirical analysis is based on a novel and original database (BioPat) containing patents in the field of biofuels selected using<br>appropriate keywords and classified according to the technological content of the invention. Our results generally show that technological<br>capabilities and environmental regulation spur innovative activities in the biofuels sector. Both demand-pull and technology-push factors are [...]"
          ],
          [
           "Exergy analysis applied to biodiesel production",
           "In our aim to decrease the consumption of materials and energy and promote the use of renewable resources, such as biofuels, rises the need to measure<br>materials and energy fluxes. This paper suggests the use of Exergy Flow Analysis (ExFA) as an environmental assessment tool to account wastes and<br>emissions, determine the exergetic efficiency, compare substitutes and other types of energy sources: all useful in defining environmental and<br>economical policies for resource use. In order to illustrate how ExFA is used, it is applied to the process of biodiesel production. The results [...]"
          ],
          [
           "Parametric sensitivity in transesterification of waste cooking oil for biodiesel production—A review",
           "Methods of pretreatment and transesterification of waste cooking oils (WCOs) to yield fatty acid alkyl esters (biodiesel) qualitatively comparable<br>with fossil diesel fuels have been discussed. The effect of different operating and processing variables viz. reaction temperature, molar ratio of<br>alcohol to oil, the type of alcohol used, type of catalyst used and its concentration, reaction time, presence of moisture and free fatty acids (FFA)<br>content on transesterification and different pretreatment procedures have been thoroughly reviewed. The recent advancements involving [...]"
          ],
          [
           "Life cycle costing and externalities of palm oil biodiesel in Thailand",
           "One of the issues related to the increased use of biofuel (ethanol and biodiesel) in the transport sector concerns their higher production costs,<br>either in pure or blended form, as compared to conventional fuels (gasoline and diesel). Based on the average cost of biodiesel, the former is not<br>able to compete with diesel if no subsidies are provided by the government to boost its cost competitiveness. However, such a cost comparison is not a<br>true reflection of the various potential benefits of biofuels. This study aims to evaluate the influence of externalities on the cost [...]"
          ],
          [
           "State of the Art of Catalysts for Biodiesel Production",
           "Biodiesel is one of the potential alternative energy sources that can be derived from renewable and low-grade origin through different processes. One<br>of the processes is alcoholysis or transesterification in the presence of a suitable catalyst. The catalyst can be either homogeneous or<br>heterogeneous. This article reviews various catalysts used for biodiesel production to date, presents the state of the art of types of catalysts, and<br>compares their suitability and associated challenges in the transesterification process. Biodiesel production using homogeneous and [...]"
          ],
          [
           "Impact of carbon emissions in a sustainable supply chain management for a second generation biofuel",
           "Global warming due to excessive use of fossil fuels has driven researchers to focus on sustainable energy sources for the future. For clean production<br>systems, biofuel is expanding the domain of renewable and sustainable energy supplies. An efficient and sustainable supply chain plays a pivotal role<br>in ensuring this supply. In this research, crop residuals in different agricultural zones, transportation for shipment of residual biomass as well as<br>biofuel, multiple biorefineries, and multiple market centers are considered. The expense of the resources, the yield of residual [...]"
          ],
          [
           "A multi-objective robust possibilistic programming approach to sustainable switchgrass-based bioethanol supply chain network design",
           "This paper proposes a multi-objective robust possibilistic programming model for the design of a sustainable switchgrass-based bioethanol supply<br>chain network under the epistemic uncertainty of input data considering conflicting economic, environmental and social objectives. The newest and most<br>effective environmental and social life cycle assessment-based methods are applied to the proposed model to measure the relevant environmental and<br>social impacts. To deal with uncertain parameters effectively, a novel multi-objective robust possibilistic programming approach is developed [...]"
          ],
          [
           "The Global Impacts of Biofuel Mandates",
           "The rise in world oil prices, coupled with heightened interest in the abatement of greenhouse gas emissions, led to a sharp increase in biofuels<br>production around the world. Previous authors have devoted considerable attention to the impacts of these policies on a country-by-country basis.<br>However, there are also strong interactions among these programs, as they compete in world markets for feedstocks and ultimately for a limited supply<br>of global land. In this paper, we offer the first global assessment of biofuel programs - focusing particularly on the EU and US. We begin with [...]"
          ],
          [
           "The Economics of a Blend Mandate for Biofuels",
           "Abstract A biofuel blend mandate may increase or decrease consumer fuel prices with endogenous oil prices, depending on relative supply elasticities.<br>Biofuel tax credits always reduce fuel prices. Tax credits result in lower fuel prices than under a mandate for the same level of biofuel production.<br>If tax credits are implemented alongside mandates, then tax credits subsidize fuel consumption instead of biofuels. This contradicts energy policy<br>goals by increasing oil dependency, CO 2 emissions, and traffic congestion, while providing little benefit to either corn or ethanol [...]"
          ],
          [
           "A new processing route for cleaner production of biodiesel fuel using a choline chloride based deep eutectic solvent",
           "In this study, the free fatty acids (FFA) content in acidic crude palm oil (ACPO) was converted to fatty acid methyl esters (FAME) using a choline<br>chloride based deep eutectic solvent (ChCl-DES) for the first time. This DES is composed of a mixture of a hydrogen bond donor (i.e. p-toluenesulfonic<br>acid monohydrate) and a salt (i.e. choline chloride). The pre-treatment esterification stage involved the use of ChCl-DES. A dosage of 0.75 mass ratio<br>of ChCl-DES to ACPO resulted in reducing the FFA of ACPO from 9.00% to less than 1%. The molar ratio of methanol to oil was 10:1 [...]"
          ],
          [
           "Biofuel-related price transmission literature: A review",
           "In this article, an extensive review of the rapidly growing biofuel-related time-series literature is carried out. The data used, the modeling<br>techniques and the main findings of this literature are discussed. Providing a review of this flourishing research area is relevant as a guidepost for<br>future research. This literature concludes that energy prices drive long-run agricultural price levels and that instability in energy markets is<br>transferred to food markets."
          ],
          [
           "Energy- and greenhouse gas-based LCA of biofuel and bioenergy systems: Key issues, ranges and recommendations",
           "With increasing use of biomass for energy, questions arise about the validity of bioenergy as a means to reduce greenhouse gas emissions and<br>dependence on fossil fuels. Life Cycle Assessment (LCA) is a methodology able to reveal these environmental and energy performances, but results may<br>differ even for apparently similar bioenergy systems. Differences are due to several reasons: type and management of raw materials, conversion<br>technologies, end-use technologies, system boundaries and reference energy system with which the bioenergy chain is compared. Based on review [...]"
          ],
          [
           "A sustainable second-generation biodiesel supply chain network design problem under risk",
           "This paper presents a multi-objective possibilistic programming model to design a second-generation biodiesel supply chain network under risk. The<br>proposed model minimizes the total costs of biodiesel supply chain from feedstock supply centers to customer centers besides minimizing the<br>environmental impact (EI) of all involved processes under a well-to-wheel perspective. Non-edible feedstocks are considered for biodiesel production.<br>Variable cultivation cost of non-edible feedstock is assumed to be non-linear and dependent upon the amount of cultivated area. New formulation [...]"
          ],
          [
           "The Social Costs and Benefits of Biofuels: The Intersection of Environmental, Energy and Agricultural Policy",
           "Abstract The efficacy of alternative biofuel policies in achieving energy, environmental and agricultural policy goals is assessed using economic<br>cost‐benefit analysis. Government mandates are superior to consumption subsidies, especially with suboptimal fuel taxes and the higher costs involved<br>with raising tax revenues. But subsidies with mandates cause adverse interaction effects; oil consumption is subsidized instead. This unique result<br>also applies to renewable electricity that faces similar policy combinations. Ethanol policy can have a significant impact on corn prices; if [...]"
          ],
          [
           "Multistage optimization of the supply chains of biofuels",
           "In this study, a mathematical model that integrates spatial and temporal dimensions is developed for strategic planning of future bioethanol supply<br>chain systems. The planning objective is to minimize the cost of the entire supply chain of biofuel from biowaste feedstock fields to end users over<br>the entire planning horizon, simultaneously satisfying demand, resource, and technology constraints. This model is used to evaluate the economic<br>potential and infrastructure requirements for bioethanol production from eight waste biomass resources in California as a case study. It is [...]"
          ],
          [
           "Potential Land Use Implications of a Global Biofuels Industry",
           "In this paper we investigate the potential production and implications of a global biofuels industry. We develop alternative approaches to<br>consistently introduce land as an economic factor input and in physical terms into a computable general equilibrium framework. The approach allows us<br>to parameterize biomass production consistent with agro-engineering information on yields and a \"second generation\" cellulosic biomass conversion<br>technology. We explicitly model land conversion from natural areas to agricultural use in two different ways: in one approach we introduced a [...]"
          ],
          [
           "Review of evolution, technology and sustainability assessments of biofuel production",
           "Biofuel is recognised as an important renewable and sustainable energy source to substitute fossil fuel. To date, biofuel has been evolved from first<br>to fourth generation and they are mainly differed in feedstock and production technologies. Along with the evolution, various studies on different<br>sustainability criteria have been conducted. In this review paper, the state of the art of technologies and assessment methods on economic<br>performance, safety, health and environment (SHE) as well as social impact for biofuel production are reviewed. In addition, this review paper [...]"
          ],
          [
           "Jatropha plantations for biodiesel in Tamil Nadu, India: Viability, livelihood trade-offs, and latent conflict",
           "Researchers, policy makers and civil society organizations have been discussing the potential of biofuels as partial substitutes for fossil fuels and<br>thereby as a simultaneous solution for climate change and rural poverty. Research has highlighted the ambiguity of these claims across various<br>dimensions and scales, focusing on ethanol-producing or oilseed crops in agricultural lands or Jatropha-type crops on common lands. We studied the<br>agronomic and economic viability and livelihood impacts of Jatropha curcas plantations on private farms in Tamil Nadu, India. We found that [...]"
          ],
          [
           "A life-cycle comparison between inorganic and biological catalysis for the production of biodiesel",
           "Life cycle assessment (LCA) has been used to compare inorganic and biological catalysis for the production of biodiesel by transesterification. The<br>inorganic route, using catalysis by sodium hydroxide, has been compared with a conceptual biological one using enzymatic catalysis by the lipase<br>produced by Candida antarctica. Although biological catalysis has not been used for industrial production of biodiesel to date, results from<br>laboratory experiments suggest that it could have distinct advantages over the inorganic route, particularly with regard to a simplified flowsheet [...]"
          ],
          [
           "Comparative LCA of the use of biodiesel, diesel and gasoline for transportation",
           "The energy fuels used for in the Greek transport sector are made up of gasoline consumed by automobiles, diesel oil consumed by taxis, trucks,<br>maritime transport and railroads, and jet fuel used in the aircrafts. All these fuels are hydrocarbons that emit great amounts of CO2 which has a<br>major impact in the global warming phenomenon. The issues relating to climate change, the soaring energy prices, and the uncertainty of future oil<br>supplies, have created a strong interest in alternative transportation fuels. During the past decade biofuels in the form of blended gasoline [...]"
          ],
          [
           "LCA studies comparing biodiesel synthesized by conventional and supercritical methanol methods",
           "Biodiesel is one of the candidates for alternative fuels since it is renewable, sustainable and produced from domestic or non-food crop resources with<br>less detrimental environmental impact. There are several different approaches to the production process. In this paper a new production method, the<br>supercritical methanol process, was investigated and its environmental performance was compared with the conventional alkali-catalyzed process using<br>LCA as a tool. The supercritical process is technically a simpler production process and offers the advantages of higher yields and the [...]"
          ],
          [
           "Cumulative causation in the formation of a technological innovation system: The case of biofuels in the Netherlands",
           "Despite its worldwide success, the innovation systems approach is often criticised for being theoretically underdeveloped. This paper aims to<br>contribute to the conceptual and methodological basis of the (technological) innovation systems approach. We propose an alteration that improves the<br>analysis of dynamics, especially with respect to emerging innovation systems. We do this by expanding on the technological innovation systems and<br>system functions literature, and by employing the method of ‘event history analysis’. By mapping events, the interactions between system functions [...]"
          ],
          [
           "A review of cleaner intensification technologies in biodiesel production",
           "Biodiesel is envisaged as environmentally benign fuel due to its unique properties, such as biodegradability, renewability and non-toxicity. Its<br>utilisation leads to the reduction of sulphur oxide and greenhouse gas emissions as it produces quite lower amounts of carbon and sulphur based gases<br>in comparison to conventional fossil fuels. This paper is a review of the recent achievements of the cleaner intensification technologies for<br>biodiesel production. Merits and limitations of the cleaner intensification technologies have been discussed. Mechanical stirring [...]"
          ],
          [
           "Correlations between biofuels and related commodities before and during the food crisis: A taxonomy perspective",
           "In this paper, we analyze the relationships between the prices of biodiesel, ethanol and related fuels and agricultural commodities with a use of<br>minimal spanning trees and hierarchical trees. To distinguish between short-term and medium-term effects, we construct these trees for different<br>frequencies (weekly and monthly). We find that in short-term, both ethanol and biodiesel are very weakly connected with the other commodities. In<br>medium-term, the biofuels network becomes more structured. The system splits into two well separated branches — a fuels part and a food [...]"
          ],
          [
           "Production and use of immobilized lipases in/on nanomaterials: A review from the waste to biodiesel production",
           "As a highly efficient and environmentally friendly biocatalyst, immobilized lipase has received incredible interest among the biotechnology community<br>for the production of biodiesel. Nanomaterials possess high enzyme loading, low mass transfer limitation, and good dispersibility, making them<br>suitable biocatalytic supports for biodiesel production. In addition to traditional nanomaterials such as nano‑silicon, magnetic nanoparticles and<br>nano metal particles, novel nanostructured forms such as nanoflowers, carbon nanotubes, nanofibers and metal-organic frameworks (MOFs) have also [...]"
          ],
          [
           "Sustainable biomass production under CO2 conditions and effective wet microalgae lipid extraction for biodiesel production",
           "The freshwater microalga Chlorella vulgaris MSU AGM 14 was cultured at different CO2 conditions (up to 8%) with 100 μmol photons m−2 s−1 to evaluate<br>biomass and lipid productivity. For effective extraction of intra-cellular lipids, a novel method based on mild pressure (1–2.5 kg/cm2) with short<br>period (5–15 min) of heat shock (50–70 °C) were studied for the wet biomass. The transesterified lipids were qualitatively and quantitatively analysed<br>using Gas Chromatography coupled with Mass Spectrometry (GC-MS). The higher CO2 aeration (8%) significantly increased the biomass [...]"
          ],
          [
           "Biodiesel production from Calophyllum inophyllum-Ceiba pentandra oil mixture: Optimization and characterization",
           "In this study, a novel modeling approach (artificial neural networks (ANN) and ant colony optimization (ACO)) was used to optimize the process<br>variables for alkaline-catalyzed transesterification of CI40CP60 oil mixture (40 wt% of Calophyllum inophyllum oil mixed with 60 wt% of Ceiba<br>pentandra oil) in order to maximize the biodiesel yield. The optimum values of the methanol-to-oil molar ratio, potassium hydroxide catalyst<br>concentration, and reaction time predicted by the ANN-ACO model are 37%, 0.78 wt%, and 153 min, respectively, at a constant reaction temperature [...]"
          ],
          [
           "Biofuel policy in India: A review of policy barriers in sustainable marketing of biofuel",
           "Global warming issue due to the combustion of fossil fuel pushes the world to produce renewable and environmental friendly fuel from sustainable<br>feedstock. There are several measures on different levels to reduce the global warming including clean energies from wind, solar, and biomass. There<br>are different aspects in bringing these technologies into a reality including development of technology, economic feasibilities, environmental<br>sustainability and finally, support from the government in the form of effective policies and public awareness. Adequate R&D efforts could [...]"
          ],
          [
           "A review on sustainable microalgae based biofuel and bioenergy production: Recent developments",
           "Climate changes induced by anthropogenic greenhouse gas emissions (mainly carbon dioxide) is one of the major threats of the modern era. Primary<br>causes are the high reliance on fossil fuels for power generation, transportation, manufacturing and the intensive land usage (deforestation). The<br>current share of renewable biofuel production in the overall fuel demand has been found insufficient to replace fossil fuels. Microalgae can deliver a<br>sustainable and complementary biofuel platform with some important advantages. This review aims to offer a state-of-the art review of algal [...]"
          ],
          [
           "Will EU biofuel policies affect global agricultural markets?",
           "This article assesses the implications of the EU Biofuels Directive (BFD) using a computable general equilibrium framework with endogenous land<br>supply. The results show that, without policy intervention to stimulate the use of biofuel crops, the targets of the BFD will not be met. With the<br>BFD, the enhanced demand for biofuel crops has a strong impact on agriculture globally and within Europe, leading to an increase in land use. On the<br>other hand, the long-term declining trend in real agricultural prices may slow down or even reverse."
          ],
          [
           "Agricultural crop-based biofuels – resource efficiency and environmental performance including direct land use changes",
           "This paper analyses biofuels from agricultural crops in northern Europe regarding area and energy efficiency, greenhouse gases and eutrophication. The<br>overall findings are that direct land use changes have a significant impact on GHG balances and eutrophication for all biofuels, the choice of<br>calculation methods when by-products are included affecting the performance of food crop-based biofuels considerably, and the technical design of<br>production systems may in specific cases be of major importance. The presented results are essential knowledge for the development of [...]"
          ],
          [
           "A process model to estimate the cost of industrial scale biodiesel production from waste cooking oil by supercritical transesterification",
           "This paper describes the conceptual design of a production process in which waste cooking oil is converted via supercritical transesterification with<br>methanol to methyl esters (biodiesel).Since waste cooking oil contains water and free fatty acids, supercritical transesterification offers great<br>advantage to eliminate the pre-treatment capital and operating cost.A supercritical transesterification process for biodiesel continuous production<br>from waste cooking oil has been studied for three plant capacities (125,000; 80,000 and 8000tonnes biodiesel/year). It can be concluded that [...]"
          ],
          [
           "Life cycle assessment of macroalgae cultivation and processing for biofuel production",
           "There has been a recent resurgence in research investigating bioenergy production from algal biomass due to the potential environmental benefits in<br>comparison to conventional bioenergy crops and conventional fossil fuels. This life cycle assessment (LCA) considered the energy return and<br>environmental impacts of the cultivation and processing of macroalgae (seaweed) to bioethanol and biogas with a particular focus on specific species<br>(Gracilaria chilensis and Macrocystis pyrifera) and cultivation methods (bottom planting and long-line cultivation). The study was based mainly [...]"
          ],
          [
           "Biodiesel production from waste cooking oil using bifunctional heterogeneous solid catalysts",
           "In the present work, bifunctional heterogeneous catalysts were studied to develop an effective catalyst for biodiesel production from waste cooking<br>oil with improved catalytic activity and stability. The catalysts were characterized by various analytical techniques to explore their physicochemical<br>properties. The catalytic activity was evaluated in the transesterification of waste cooking oil for low cost biodiesel production. The bifunctional<br>heterogeneous catalysts show improved transesterification activities. Among the different catalysts tested, the Mo–Mn/γ-Al2O3-15 wt% MgO [...]"
          ],
          [
           "Bioethanol supply chain system planning under supply and demand uncertainties",
           "A mixed integer stochastic programming model is established to support strategic planning of bioenergy supply chain systems and optimal feedstock<br>resource allocation in an uncertain decision environment. The two-stage stochastic programming model, together with a Lagrange relaxation based<br>decomposition solution algorithm, was implemented in a real-world case study in California to explore the potential of waste-based bioethanol<br>production. The model results show that biowaste-based ethanol can be a viable part of sustainable energy solution for the future."
          ]
         ],
         "hovertemplate": "Topic=Sustainable Biofuel Economy<br>x=%{x}<br>y=%{y}<br>title=%{customdata[0]}<br>abstract=%{customdata[1]}<extra></extra>",
         "legendgroup": "Sustainable Biofuel Economy",
         "marker": {
          "color": "#d62728",
          "size": 5,
          "symbol": "circle"
         },
         "mode": "markers",
         "name": "Sustainable Biofuel Economy",
         "orientation": "v",
         "showlegend": true,
         "type": "scatter",
         "x": [
          11.263759,
          10.261509,
          10.265515,
          10.331792,
          11.315106,
          10.657555,
          10.499819,
          11.134973,
          10.437346,
          10.810249,
          10.524029,
          10.210062,
          10.754314,
          11.310072,
          10.50647,
          10.285157,
          10.687952,
          10.179419,
          11.126711,
          11.054757,
          11.280202,
          11.231741,
          10.198197,
          11.426719,
          11.131904,
          10.973212,
          11.285994,
          11.092546,
          11.316618,
          11.145064,
          10.873349,
          10.3936,
          10.622279,
          10.440263,
          11.317224,
          10.317769,
          11.335938,
          10.198823,
          10.550618,
          10.245306,
          11.14773,
          10.839241,
          11.333501,
          11.27306,
          10.404474,
          10.749989,
          10.186187,
          11.033252
         ],
         "xaxis": "x",
         "y": [
          2.8087997,
          2.7609043,
          2.69886,
          2.7470577,
          2.9958894,
          2.7590554,
          2.7462757,
          2.9627614,
          2.8583603,
          2.9141943,
          2.7775338,
          2.736725,
          2.7923174,
          3.0343418,
          2.8509607,
          2.7355452,
          2.9091187,
          2.7995822,
          3.1358829,
          3.222049,
          3.1223333,
          3.1934867,
          2.7566078,
          3.0454156,
          2.8517692,
          3.1633306,
          3.0806558,
          3.2507615,
          2.9844632,
          2.9028819,
          2.8301537,
          2.7678618,
          2.8253818,
          2.7983046,
          2.9785266,
          2.760903,
          3.051796,
          2.7188683,
          2.726656,
          2.6664746,
          2.9042354,
          2.749814,
          3.0055397,
          2.8900375,
          2.8584652,
          2.7263572,
          2.812402,
          3.2339265
         ],
         "yaxis": "y"
        },
        {
         "customdata": [
          [
           "Unmanned Aerial Vehicles (UAVs): A Survey on Civil Applications and Key Research Challenges",
           "The use of unmanned aerial vehicles (UAVs) is growing rapidly across many civil application domains, including real-time monitoring, providing<br>wireless coverage, remote sensing, search and rescue, delivery of goods, security and surveillance, precision agriculture, and civil infrastructure<br>inspection. Smart UAVs are the next big revolution in the UAV technology promising to provide new opportunities in different applications, especially<br>in civil infrastructure in terms of reduced risks and lower cost. Civil infrastructure is expected to dominate more than $45 Billion market [...]"
          ],
          [
           "Hyperspectral Imaging: A Review on UAV-Based Sensors, Data Processing and Applications for Agriculture and Forestry",
           "Traditional imagery—provided, for example, by RGB and/or NIR sensors—has proven to be useful in many agroforestry applications. However, it lacks the<br>spectral range and precision to profile materials and organisms that only hyperspectral sensors can provide. This kind of high-resolution spectroscopy<br>was firstly used in satellites and later in manned aircraft, which are significantly expensive platforms and extremely restrictive due to availability<br>limitations and/or complex logistics. More recently, UAS have emerged as a very popular and cost-effective remote sensing technology, [...]"
          ],
          [
           "Processing and Assessment of Spectrometric, Stereoscopic Imagery Collected Using a Lightweight UAV Spectral Camera for Precision Agriculture",
           "Imaging using lightweight, unmanned airborne vehicles (UAVs) is one of the most rapidly developing fields in remote sensing technology. The new,<br>tunable, Fabry-Perot interferometer-based (FPI) spectral camera, which weighs less than 700 g, makes it possible to collect spectrometric image blocks<br>with stereoscopic overlaps using light-weight UAV platforms. This new technology is highly relevant, because it opens up new possibilities for<br>measuring and monitoring the environment, which is becoming increasingly important for many environmental challenges. Our objectives were [...]"
          ],
          [
           "Imaging from an unmanned aerial vehicle: agricultural surveillance and decision support",
           "In September 2002, NASA’s solar-powered Pathfinder-Plus unmanned aerial vehicle (UAV) was used to conduct a proof-of-concept mission in US national<br>airspace above the 1500ha plantation of the Kauai Coffee Company in Hawaii. While in national airspace, the transponder-equipped UAV was supervised by<br>regional air traffic controllers and treated like a conventionally piloted aircraft. High resolution color and multispectral imaging payloads, both<br>drawing from the aircraft’s solar power system, were housed in exterior-mounted environmental pressure pods. A local area network (LAN) [...]"
          ],
          [
           "Development of a low-cost agricultural remote sensing system based on an autonomous unmanned aerial vehicle (UAV)",
           "To provide and improved remote sensing a system based on an autonomous UAV was developed. The system was based on an easily transportable helicopter<br>platform weighing less than 14 kg. Equipped with a multi-spectral camera and autonomous system, the UAV system was capable of acquiring multi-spectral<br>images at the desired locations and times. An extended Kalman filter (EKF) based UAV navigation system was designed and implemented using sensor<br>fusion techniques. A ground station was designed to be the interface between a human operator and the UAV to carry out mission planning, [...]"
          ],
          [
           "Evaluating Multispectral Images and Vegetation Indices for Precision Farming Applications from UAV Images",
           "Unmanned Aerial Vehicles (UAV)-based remote sensing offers great possibilities to acquire in a fast and easy way field data for precision agriculture<br>applications. This field of study is rapidly increasing due to the benefits and advantages for farm resources management, particularly for studying<br>crop health. This paper reports some experiences related to the analysis of cultivations (vineyards and tomatoes) with Tetracam multispectral data.<br>The Tetracam camera was mounted on a multi-rotor hexacopter. The multispectral data were processed with a photogrammetric pipeline to [...]"
          ],
          [
           "Science, technology and the future of small autonomous drones",
           "We are witnessing the advent of a new era of robots — drones — that can autonomously fly in natural and man-made environments. These robots, often<br>associated with defence applications, could have a major impact on civilian tasks, including transportation, communication, agriculture, disaster<br>mitigation and environment preservation. Autonomous flight in confined spaces presents great scientific and technical challenges owing to the<br>energetic cost of staying airborne and to the perceptual intelligence required to negotiate complex environments. We identify scientific [...]"
          ],
          [
           "Intercomparison of UAV, Aircraft and Satellite Remote Sensing Platforms for Precision Viticulture",
           "Precision Viticulture is experiencing substantial growth thanks to the availability of improved and cost-effective instruments and methodologies for<br>data acquisition and analysis, such as Unmanned Aerial Vehicles (UAV), that demonstrated to compete with traditional acquisition platforms, such as<br>satellite and aircraft, due to low operational costs, high operational flexibility and high spatial resolution of imagery. In order to optimize the<br>use of these technologies for precision viticulture, their technical, scientific and economic performances need to be assessed. The aim of [...]"
          ],
          [
           "Combined Optic-Flow and Stereo-Based Navigation of Urban Canyons for a UAV",
           "We present a novel vision-based technique for navigating an Unmanned Aerial Vehicle (UAV) through urban canyons. Our technique relies on both optic<br>flow and stereo vision information. We show that the combination of stereo and optic-flow (stereo-flow) is more effective at navigating urban canyons<br>than either technique alone. Optic flow from a pair of sideways-looking cameras is used to stay centered in a canyon and initiate turns at junctions,<br>while stereo vision from a forward-facing stereo head is used to avoid obstacles to the front. The technique was tested in full on an [...]"
          ],
          [
           "A review of supervised object-based land-cover image classification",
           "Object-based image classification for land-cover mapping purposes using remote-sensing imagery has attracted significant attention in recent years.<br>Numerous studies conducted over the past decade have investigated a broad array of sensors, feature selection, classifiers, and other factors of<br>interest. However, these research results have not yet been synthesized to provide coherent guidance on the effect of different supervised object-<br>based land-cover classification processes. In this study, we first construct a database with 28 fields using qualitative and quantitative [...]"
          ],
          [
           "Thermal and Narrowband Multispectral Remote Sensing for Vegetation Monitoring from an Unmanned Aerial Vehicle",
           "Two critical limitations for using current satellite sensors in real-time crop management are the lack of imagery with optimum spatial and spectral<br>resolutions and an unfavorable revisit time for most crop stress-detection applications. Alternatives based on manned airborne platforms are lacking<br>due to their high operational costs. A fundamental requirement for providing useful remote sensing products in agriculture is the capacity to combine<br>high spatial resolution and quick turnaround times. Remote sensing sensors placed on unmanned aerial vehicles (UAVs) could fill this gap, [...]"
          ],
          [
           "Low-Altitude Unmanned Aerial Vehicles-Based Internet of Things Services: Comprehensive Survey and Future Perspectives",
           "Recently, unmanned aerial vehicles (UAVs), or drones, have attracted a lot of attention, since they represent a new potential market. Along with the<br>maturity of the technology and relevant regulations, a worldwide deployment of these UAVs is expected. Thanks to the high mobility of drones, they can<br>be used to provide a lot of applications, such as service delivery, pollution mitigation, farming, and in the rescue operations. Due to its ubiquitous<br>usability, the UAV will play an important role in the Internet of Things (IoT) vision, and it may become the main key enabler of this [...]"
          ],
          [
           "A Rotary-wing Unmanned Air Vehicle for Aquatic Weed Surveillance and Management",
           "This paper addresses the novel application of an autonomous rotary-wing unmanned air vehicle (RUAV) as a cost-effective tool for the surveillance and<br>management of aquatic weeds. A conservative estimate of the annual loss of agricultural revenue to the Australian economy due to weeds is in the order<br>of A$4 billion, hence the reason why weed control is of national significance. The presented system locates and identifies weeds in inaccessible<br>locations. The RUAV is equipped with low-cost sensor suites and various weed detection algorithms. In order to provide the weed control [...]"
          ],
          [
           "Coordinated aerobiological sampling of a plant pathogen in the lower atmosphere using two autonomous unmanned aerial vehicles",
           "Abstract Unmanned aerial vehicles (UAVs) are an important tool to track the long‐distance movement of plant pathogens above crop fields. Here, we<br>describe the use of a control strategy (coordination via speed modulation) to synchronize two autonomous UAVs during aerobiological sampling of the<br>potato late blight pathogen, Phytophthora infestans . The UAVs shared position coordinates via a wireless mesh network and modulated their speeds so<br>that they were properly phased within their sampling orbits. Three coordinated control experiments were performed August 14–15, 2008. In the [...]"
          ],
          [
           "The application of small unmanned aerial systems for precision agriculture: a review",
           "Precision agriculture (PA) is the application of geospatial techniques and sensors (e.g., geographic information systems, remote sensing, GPS) to<br>identify variations in the field and to deal with them using alternative strategies. In particular, high-resolution satellite imagery is now more<br>commonly used to study these variations for crop and soil conditions. However, the availability and the often prohibitive costs of such imagery would<br>suggest an alternative product for this particular application in PA. Specifically, images taken by low altitude remote sensing platforms, or [...]"
          ],
          [
           "UAV for 3D mapping applications: a review",
           "Unmanned aerial vehicle (UAV) platforms are nowadays a valuable source of data for inspection, surveillance, mapping, and 3D modeling issues. As UAVs<br>can be considered as a low-cost alternative to the classical manned aerial photogrammetry, new applications in the short- and close-range domain are<br>introduced. Rotary or fixed-wing UAVs, capable of performing the photogrammetric data acquisition with amateur or SLR digital cameras, can fly in<br>manual, semiautomated, and autonomous modes. Following a typical photogrammetric workflow, 3D results like digital surface or terrain [...]"
          ],
          [
           "Estimating Biomass of Barley Using Crop Surface Models (CSMs) Derived from UAV-Based RGB Imaging",
           "Crop monitoring is important in precision agriculture. Estimating above-ground biomass helps to monitor crop vitality and to predict yield. In this<br>study, we estimated fresh and dry biomass on a summer barley test site with 18 cultivars and two nitrogen (N)-treatments using the plant height (PH)<br>from crop surface models (CSMs). The super-high resolution, multi-temporal (1 cm/pixel) CSMs were derived from red, green, blue (RGB) images captured<br>from a small unmanned aerial vehicle (UAV). Comparison with PH reference measurements yielded an R2 of 0.92. The test site with different [...]"
          ],
          [
           "Tree height quantification using very high resolution imagery acquired from an unmanned aerial vehicle (UAV) and automatic 3D photo-reconstruction methods",
           "This study provides insight into the assessment of canopy biophysical parameter retrieval using passive sensors and specifically into the<br>quantification of tree height in a discontinuous canopy using a low-cost camera on board an unmanned aerial vehicle (UAV). The UAV was a 2-m wingspan<br>fixed-wing platform with 5.8kg take-off weight and 63km/h ground speed. It carried a consumer-grade RGB camera modified for color-infrared detection<br>(CIR) and synchronized with a GPS unit. In this study, the configuration of the electric UAV carrying the camera payload enabled the acquisition [...]"
          ],
          [
           "Generating 3D hyperspectral information with lightweight UAV snapshot cameras for vegetation monitoring: From camera calibration to quality assurance",
           "This paper describes a novel method to derive 3D hyperspectral information from lightweight snapshot cameras for unmanned aerial vehicles for<br>vegetation monitoring. Snapshot cameras record an image cube with one spectral and two spatial dimensions with every exposure. First, we describe and<br>apply methods to radiometrically characterize and calibrate these cameras. Then, we introduce our processing chain to derive 3D hyperspectral<br>information from the calibrated image cubes based on structure from motion. The approach includes a novel way for quality assurance of the data [...]"
          ],
          [
           "Assessment of Unmanned Aerial Vehicles Imagery for Quantitative Monitoring of Wheat Crop in Small Plots",
           "This paper outlines how light Unmanned Aerial Vehicles (UAV) can be used in remote sensing for precision farming. It focuses on the combination of<br>simple digital photographic cameras with spectral filters, designed to provide multispectral images in the visible and near-infrared domains. In 2005,<br>these instruments were fitted to powered glider and parachute, and flown at six dates staggered over the crop season. We monitored ten varieties of<br>wheat, grown in trial micro-plots in the South-West of France. For each date, we acquired multiple views in four spectral bands [...]"
          ],
          [
           "UAVs challenge to assess water stress for sustainable agriculture",
           "Unmanned aerial vehicles (UAVs) present an exciting opportunity to monitor crop fields with high spatial and temporal resolution remote sensing<br>capable of improving water stress management in agriculture. In this study, we reviewed the application of different types of UAVs using different<br>remote sensors and compared their performance with ground-truth plant data. Several reflectance indices, such as NDVI, TCARI/OSAVI and PRInorm<br>obtained from UAVs have shown positive correlations related to water stress indicators such as water potential (Ψ) and stomatal conductance [...]"
          ],
          [
           "Development and application of an autonomous unmanned aerial vehicle for precise aerobiological sampling above agricultural fields",
           "Abstract Remote‐controlled (RC) unmanned aerial vehicles (UAVs) have been used to study the movement of agricultural threat agents (e.g., plant and<br>animal pathogens, invasive weeds, and exotic insects) above crop fields, but these RC UAVs are operated entirely by a ground‐based pilot and often<br>demonstrate large fluctuations in sampling height, sampling pattern, and sampling speed. In this paper, we describe the development and application of<br>an autonomous UAV for precise aerobiological sampling tens to hundreds of meters above agricultural fields. We equipped a Senior Telemaster [...]"
          ],
          [
           "Acquisition of NIR-Green-Blue Digital Photographs from Unmanned Aircraft for Crop Monitoring",
           "Payload size and weight are critical factors for small Unmanned Aerial Vehicles (UAVs). Digital color-infrared photographs were acquired from a single<br>12-megapixel camera that did not have an internal hot-mirror filter and had a red-light-blocking filter in front of the lens, resulting in near-<br>infrared (NIR), green and blue images. We tested the UAV-camera system over two variably-fertilized fields of winter wheat and found a good<br>correlation between leaf area index and the green normalized difference vegetation index (GNDVI). The low cost and very-high spatial [...]"
          ]
         ],
         "hovertemplate": "Topic=Drones in Agriculture<br>x=%{x}<br>y=%{y}<br>title=%{customdata[0]}<br>abstract=%{customdata[1]}<extra></extra>",
         "legendgroup": "Drones in Agriculture",
         "marker": {
          "color": "#9467bd",
          "size": 5,
          "symbol": "circle"
         },
         "mode": "markers",
         "name": "Drones in Agriculture",
         "orientation": "v",
         "showlegend": true,
         "type": "scatter",
         "x": [
          15.643731,
          15.639032,
          15.50863,
          15.565576,
          15.494253,
          15.506524,
          15.663304,
          15.560605,
          12.283545,
          15.771276,
          15.522955,
          15.711393,
          15.5000925,
          15.53883,
          15.680161,
          15.610077,
          15.649381,
          15.50574,
          15.545581,
          15.551383,
          15.64058,
          15.51209,
          15.553937
         ],
         "xaxis": "x",
         "y": [
          12.577814,
          12.463965,
          12.372166,
          12.334572,
          12.402456,
          12.406066,
          12.673922,
          12.395098,
          14.491717,
          12.192624,
          12.341016,
          12.671825,
          12.40698,
          12.3967495,
          12.538457,
          12.514207,
          12.092205,
          12.291169,
          12.32862,
          12.319643,
          12.494438,
          12.401858,
          12.285806
         ],
         "yaxis": "y"
        },
        {
         "customdata": [
          [
           "An assessment of early functional rehabilitation and hospital discharge in conventional versus robotic-arm assisted unicompartmental knee arthroplasty: a prospective cohort study.",
           "AIMS: The objectives of this study were to compare postoperative pain, analgesia requirements, inpatient functional rehabilitation, time to hospital<br>discharge, and complications in patients undergoing conventional jig-based unicompartmental knee arthroplasty (UKA) versus robotic-arm assisted UKA.<br>PATIENTS AND METHODS: This prospective cohort study included 146 patients with symptomatic medial compartment knee osteoarthritis undergoing primary<br>UKA performed by a single surgeon. This included 73 consecutive patients undergoing conventional jig-based mobile bearing UKA, followed by [...]"
          ],
          [
           "The learning curve associated with robotic-arm assisted unicompartmental knee arthroplasty: a prospective cohort study.",
           "Aims: The primary aim of this study was to determine the surgical team's learning curve for introducing robotic-arm assisted unicompartmental knee<br>arthroplasty (UKA) into routine surgical practice. The secondary objective was to compare accuracy of implant positioning in conventional jig-based<br>UKA versus robotic-arm assisted UKA. Patients and Methods: This prospective single-surgeon cohort study included 60 consecutive conventional jig-based<br>UKAs compared with 60 consecutive robotic-arm assisted UKAs for medial compartment knee osteoarthritis. Patients undergoing conventional [...]"
          ],
          [
           "Robotic-arm assisted total knee arthroplasty is associated with improved early functional recovery and reduced time to hospital discharge compared with conventional jig-based total knee arthroplasty",
           "Aims: The objective of this study was to compare early postoperative functional outcomes and time to hospital discharge between conventional jig-based<br>total knee arthroplasty (TKA) and robotic-arm assisted TKA. Patients and Methods: This prospective cohort study included 40 consecutive patients<br>undergoing conventional jig-based TKA followed by 40 consecutive patients receiving robotic-arm assisted TKA. All surgical procedures were performed<br>by a single surgeon using the medial parapatellar approach with identical implant designs and standardized postoperative inpatient [...]"
          ],
          [
           "Robotic Total Knee Arthroplasty with a Cruciate-Retaining Implant: A 10-Year Follow-up Study",
           "BACKGROUND: This study compared clinical and radiological results between robotic total knee arthroplasty (TKA) and conventional TKA with a cruciate-<br>retaining implant at 10-year follow-up. The hypothesis was that robotic TKA would allow for more accurate leg alignment and component placement, and<br>thus enhance clinical and radiological results and long-term survival rates. METHODS: A total of 113 primary TKAs performed using a cruciate-retaining<br>implant in 102 patients from 2004 to 2007 were reviewed retrospectively. Of the 113 TKAs, 71 were robotic TKAs and 42 were conventional [...]"
          ],
          [
           "Technology and cost-effectiveness in knee arthroplasty: computer navigation and robotics.",
           "Our aim in this article is to describe the impact that navigation technology has had on the market share of a community hospital and, specifically, to<br>determine whether a high-volume surgeon using these technologies actually costs the hospital more than other surgeons at the same hospital and more<br>than national means. In addition, we develop a comparable cost-effectiveness model for robotic technology in unicompartmental knee arthroplasty to<br>demonstrate the potential cost-effectiveness at the same hospital."
          ],
          [
           "Improved Accuracy of Component Positioning with Robotic-Assisted Unicompartmental Knee Arthroplasty",
           "BACKGROUND: Higher revision rates have been reported in patients who have undergone unicompartmental knee arthroplasty compared with patients who have<br>undergone total knee arthroplasty, with poor component positioning identified as a factor in implant failure. A robotic-assisted surgical procedure<br>has been proposed as a method of improving the accuracy of component implantation in arthroplasty. The aim of this prospective, randomized, single-<br>blinded, controlled trial was to evaluate the accuracy of component positioning in unicompartmental knee arthroplasty comparing robotic- [...]"
          ],
          [
           "Comparison of robotic-assisted and manual implantation of a primary total hip replacement. A prospective study.",
           "BACKGROUND: Robotic-assisted total hip replacement has become a common method of implantation, especially in Europe. It frequently has been postulated<br>that robotic reaming would result in an improved clinical outcome due to the better fit of the prosthesis, but that has never been demonstrated in a<br>prospective study, to our knowledge. The purpose of this study was to compare robotic-assisted implantation of a total hip replacement with<br>conventional manual implantation. METHODS: One hundred and fifty-four patients scheduled for total hip replacement were randomly assigned to [...]"
          ],
          [
           "Robotic‐assisted total knee arthroplasty may lead to improvement in quality‐of‐life measures: a 2‐year follow‐up of a prospective randomized trial",
           "PURPOSE: Despite reduction in radiological outliers in previous randomized trials comparing robotic-assisted versus conventional total knee<br>arthroplasty (TKA), no differences in short-term functional outcomes were observed. The aim of this study was to determine whether there was<br>improvement in functional outcomes and quality-of-life (QoL) measures between robotic-assisted and conventional TKA. METHODS: All 60 knees (31<br>robotic-assisted; 29 conventional) from a previous randomized trial were available for analysis. Differences in range of motion, Knee Society (KSS)<br>knee and [...]"
          ],
          [
           "Robotics in Arthroplasty: A Comprehensive Review",
           "Robotic-assisted orthopedic surgery has been available clinically in some form for over 2 decades, claiming to improve total joint arthroplasty by<br>enhancing the surgeon's ability to reproduce alignment and therefore better restore normal kinematics. Various current systems include a robotic arm,<br>robotic-guided cutting jigs, and robotic milling systems with a diversity of different navigation strategies using active, semiactive, or passive<br>control systems. Semiactive systems have become dominant, providing a haptic window through which the surgeon is able to consistently prepare [...]"
          ],
          [
           "Obesity has no effect on outcomes following unicompartmental knee arthroplasty",
           "PURPOSE: Although obesity has historically been described as a contraindication to UKA, improved outcomes with modern UKA implant designs have<br>challenged this perception. The purpose of this study was to assess the influence of obesity on the outcomes of UKA with a robotic-assisted system at<br>a minimum follow-up of 24 months with the hypothesis that obesity has no effect on robotic-assisted UKA outcomes. METHODS: There were 746 medial<br>robotic-assisted UKAs (672 patients) with a mean age of 64 years (SD 11) and a mean follow-up time of 34.6 months (SD 7.8). Mean overall body [...]"
          ],
          [
           "Accuracy of Component Positioning in 1980 Total Hip Arthroplasties: A Comparative Analysis by Surgical Technique and Mode of Guidance",
           "The purpose of this multi-surgeon study was to assess and compare the accuracy of acetabular component placement, leg length discrepancy (LLD), and<br>global offset difference (GOD) between six different surgical techniques and modes of guidance in total hip arthroplasty (THA). A total of 1980 THAs<br>met inclusion criteria. Robotic- and navigation-guided techniques were more consistent than other techniques in placing the acetabular cup into<br>Lewinnek's safe zone (P<0.005 and P<0.05, respectively). Robotic-guided surgery was more consistent than other techniques in placing the [...]"
          ],
          [
           "The first clinical application of a “hands‐on” robotic knee surgery system",
           "The performance of a novel \"hands-on\" robotic system for total knee replacement (TKR) surgery is evaluated. An integrated robotic system for<br>accurately machining the bone surfaces in TKR surgery is described. Details of the system, comprising an \"active constraint\" robot, called Acrobot, a<br>\"gross positioning\" robot, and patient clamps, are provided. The intraoperative protocol and the preoperative, CT-based, planning system are also<br>described. A number of anatomical registration and cutting trials, using plastic bones, are described, followed by results from two [...]"
          ],
          [
           "Adoption of Robotic vs Fluoroscopic Guidance in Total Hip Arthroplasty: Is Acetabular Positioning Improved in the Learning Curve?",
           "BACKGROUND: Acetabulum positioning affects dislocation rates, component impingement, bearing surface wear rates, and need for revision surgery. Novel<br>techniques purport to improve the accuracy and precision of acetabular component position, but may have a significant learning curve. Our aim was to<br>assess whether adopting robotic or fluoroscopic techniques improve acetabulum positioning compared to manual total hip arthroplasty (THA) during the<br>learning curve. METHODS: Three types of THAs were compared in this retrospective cohort: (1) the first 100 fluoroscopically guided direct [...]"
          ],
          [
           "Robotic Guidance Does Not Improve Component Position or Short-Term Outcome in Medial Unicompartmental Knee Arthroplasty",
           "We performed a retrospective review in a matched group of patients on the use of robotic-assisted UKA implantation versus UKA performed using standard<br>operative techniques to assess differences between procedures. While both techniques resulted in reproducible and excellent outcomes with low<br>complication rates, the results demonstrate little to no clinical or radiographic difference in outcomes between cohorts. Average operative time<br>differed significantly with, and average of 20 minutes greater in, the robotic-assisted UKA group (P=0.010). Our minimal clinical and [...]"
          ],
          [
           "Simultaneous bilateral total knee arthroplasty with robotic and conventional techniques: a prospective, randomized study",
           "PURPOSE: The authors performed this study to compare the outcomes of robotic-assisted and conventional TKA in same patient simultaneously. It was<br>hypothesized that the robotic-assisted procedure would produce better leg alignment and component orientation, and thus, improve patient satisfaction<br>and clinical and radiological outcomes. METHODS: Thirty patients underwent bilateral sequential total knee replacement. One knee was replaced by<br>robotic-assisted implantation and the other by conventional implantation. RESULTS: Radiographic results showed significantly more postoperative [...]"
          ],
          [
           "Robotic Arm‐assisted UKA Improves Tibial Component Alignment: A Pilot Study",
           "The alignment of the components of unicompartmental knee arthroplasty (UKA) reportedly influences outcomes and durability. A novel robotic arm<br>technology has been developed with the expectation that it could improve the accuracy of bone preparation in UKA. During the study period, we compared<br>the postoperative radiographic alignment of the tibial component with the preoperatively planned position in 31 knees in 31 consecutive patients<br>undergoing UKA using robotic arm-assisted bone preparation and in 27 consecutive patients who underwent unilateral UKA using conventional [...]"
          ],
          [
           "Comparison of Robotic-Assisted and Conventional Manual Implantation of a Primary Total Knee Arthroplasty",
           "This study was aimed to compare robotic-assisted implantation of a total knee arthroplasty with conventional manual implantation. We controlled,<br>randomized, and reviewed 72 patients for total knee arthroplasty assigned to undergo either conventional manual implantation (excluding navigation-<br>assisted implantation cases) of a Zimmer LPS prosthesis (Zimmer, Warsaw, Ind) (30 patients: group 1) or robotic-assisted implantation of such a<br>prosthesis (32 patients: group 2). The femoral flexion angle (gamma angle) and tibial angle (delta angle) in the lateral x-ray of group 1 were [...]"
          ],
          [
           "Robotic‐assisted TKA Reduces Postoperative Alignment Outliers and Improves Gap Balance Compared to Conventional TKA",
           "BACKGROUND: Several studies have shown mechanical alignment influences the outcome of TKA. Robotic systems have been developed to improve the<br>precision and accuracy of achieving component position and mechanical alignment. QUESTIONS/PURPOSES: We determined whether robotic-assisted<br>implantation for TKA (1) improved clinical outcome; (2) improved mechanical axis alignment and implant inclination in the coronal and sagittal planes;<br>(3) improved the balance (flexion and extension gaps); and (4) reduced complications, postoperative drainage, and operative time when compared [...]"
          ],
          [
           "Robot-assisted unicompartmental knee arthroplasty can reduce radiologic outliers compared to conventional techniques",
           "BACKGROUND: The aim of this study was to compare the clinical and radiologic outcomes of robot-assisted unicompartmental knee arthroplasty (UKA) to<br>those of conventional UKA in Asian patients. METHODS: Fifty-five patients underwent robot-assisted UKA and 57 patients underwent conventional UKA were<br>assessed in this study. Preoperative and postoperative range of motion (ROM), American Knee Society (AKS) score, Western Ontario McMaster University<br>Osteoarthritis Index scale score (WOMAC), and patellofemoral (PF) score values were compared between the two groups. The mechanical [...]"
          ],
          [
           "Intraoperative placement of total hip arthroplasty components with robotic-arm assisted technology correlates with postoperative implant position: a CT-based study.",
           "AIMS: The aim of this study was to evaluate the accuracy of implant placement when using robotic assistance during total hip arthroplasty (THA).<br>PATIENTS AND METHODS: A total of 20 patients underwent a planned THA using preoperative CT scans and robotic-assisted software. There were nine men<br>and 11 women (n = 20 hips) with a mean age of 60.8 years (sd 6.0). Pelvic and femoral bone models were constructed by segmenting both preoperative and<br>postoperative CT scan images. The preoperative anatomical landmarks using the robotic-assisted system were matched to the postoperative [...]"
          ],
          [
           "Robotic‐arm assisted total knee arthroplasty has a learning curve of seven cases for integration into the surgical workflow but no learning curve effect for accuracy of implant positioning",
           "PURPOSE: The primary objective of this study was to determine the surgical team's learning curve for robotic-arm assisted TKA through assessments of<br>operative times, surgical team comfort levels, accuracy of implant positioning, limb alignment, and postoperative complications. Secondary objectives<br>were to compare accuracy of implant positioning and limb alignment in conventional jig-based TKA versus robotic-arm assisted TKA. METHODS: This<br>prospective cohort study included 60 consecutive conventional jig-based TKAs followed by 60 consecutive robotic-arm assisted TKAs performed by [...]"
          ],
          [
           "Improved implant position and lower revision rate with robotic‐assisted unicompartmental knee arthroplasty",
           "PURPOSE: The aim of this case-control study was to compare implant position and revision rate for UKA, performed with either a robotic-assisted system<br>or with conventional technique. METHODS: Eighty UKA (57 medial, 23 lateral) were performed with robotic assistance (BlueBelt Navio system) between<br>2013 and 2017. These patients were matched with 80 patients undergoing UKA using the same prosthesis, implanted using conventional technique. The<br>sagittal and coronal component position was assessed on postoperative radiographs. The revision rate was reported at last follow-up. RESULTS: [...]"
          ],
          [
           "Survivorship and patient satisfaction of robotic-assisted medial unicompartmental knee arthroplasty at a minimum two-year follow-up",
           "BACKGROUND: Successful clinical outcomes following unicompartmental knee arthroplasty (UKA) depend on lower limb alignment, soft tissue balance and<br>component positioning, which can be difficult to control using manual instrumentation. Although robotic-assisted surgery more reliably controls these<br>surgical factors, studies assessing outcomes of robotic-assisted UKA are lacking. Therefore, a prospective multicenter study was performed to assess<br>outcomes of robotic-assisted UKA. METHODS: A total of 1007 consecutive patients (1135 knees) underwent robotic-assisted medial UKA surgery [...]"
          ],
          [
           "An integrated system for cementless hip replacement",
           "Describes robotics and medical imaging technology in the enhancement of precision surgery. The authors consider: cementless total hip replacement<br>application; system overview; ORTHODOC preoperative planning workstation; ROBODOC surgical assistant; safety features; surgical protocol.<>"
          ],
          [
           "Hands-on robotic unicompartmental knee replacement",
           "We performed a prospective, randomised controlled trial of unicompartmental knee arthroplasty comparing the performance of the Acrobot system with<br>conventional surgery. A total of 27 patients (28 knees) awaiting unicompartmental knee arthroplasty were randomly allocated to have the operation<br>performed conventionally or with the assistance of the Acrobot. The primary outcome measurement was the angle of tibiofemoral alignment in the coronal<br>plane, measured by CT. Other secondary parameters were evaluated and are reported. All of the Acrobot group had tibiofemoral alignment in the [...]"
          ],
          [
           "Robot-Assisted Total Knee Arthroplasty Accurately Restores the Joint Line and Mechanical Axis. A Prospective Randomised Study",
           "Robot-assisted Total Knee Arthroplasty (TKA) improves the accuracy and precision of component implantation and mechanical axis (MA) alignment. Joint-<br>line restoration in robot-assisted TKA is not widely described and joint-line deviation of>5mm results in mid-flexion instability and poor outcomes.<br>We prospectively randomised 60 patients into two groups: 31 patients (robot-assisted), 29 patients (conventional). No MA outliers (>±3° from neutral)<br>or notching was noted in the robot-assisted group as compared with 19.4% (P=0.049) and 10.3% (P=0.238) respectively in the conventional [...]"
          ],
          [
           "Comparison Between Hand Rasping and Robotic Milling for Stem Implantation in Cementless Total Hip Arthroplasty",
           "We evaluated the effects of conventional hand rasping and robotic milling on the clinical and radiographic results of cementless total hip<br>arthroplasty, with the same computed tomography (CT)-based 3-dimensional preoperative planning using a ROBODOC workstation (Integrated Surgical<br>Systems, Davis, Calif). The robotic milling group consisted of 78 hips, and the hand-rasping group 78 hips. The radiographic findings from the<br>preoperative planning and postoperative CT data were evaluated using the most accurate CT images reconstructed by the ROBODOC workstation. The [...]"
          ],
          [
           "Robot-assisted Total Knee Arthroplasty",
           "Increasing evidence suggests performing total knee arthroplasty using computer navigation can lead to more accurate surgical positioning of the<br>components and knee alignment compared to a conventional operating technique without computer assistance. The use of robotic technology could<br>theoretically take this accuracy one level further because it uses navigation in combination with ultimate mechanical precision, which could eliminate<br>or reduce the inevitable margin of error during mechanical preparation of the bony cuts of total knee arthroplasty by the surgeon. We [...]"
          ],
          [
           "Comparison of Robotic-assisted and Conventional Acetabular Cup Placement in THA: A Matched-pair Controlled Study",
           "BackgroundImproper acetabular component orientation in THA has been associated with increased dislocation rates, component impingement, bearing<br>surface wear, and a greater likelihood of revision. Therefore, any reasonable steps to improve acetabular component orientation should be considered<br>and explored.Questions/purposesWe therefore sought to compare THA with a robotic-assisted posterior approach with manual alignment techniques through<br>a posterior approach, using a matched-pair controlled study design, to assess whether the use of the robot made it more likely for the [...]"
          ],
          [
           "Robotic technology in total knee arthroplasty: a systematic review.",
           "Robotic total knee arthroplasty (TKA) improves the accuracy of implant positioning and reduces outliers in achieving the planned limb alignment<br>compared to conventional jig-based TKA.Robotic TKA does not have a learning curve effect for achieving the planned implant positioning. The learning<br>curve for achieving operative times comparable to conventional jig-based TKA is 7-20 robotic TKA cases.Cadaveric studies have shown robotic TKA is<br>associated with reduced iatrogenic injury to the periarticular soft tissue envelope compared to conventional jig-based TKA.Robotic TKA is [...]"
          ],
          [
           "Robotic-Arm–Assisted vs Conventional Unicompartmental Knee Arthroplasty. The 2-Year Clinical Outcomes of a Randomized Controlled Trial",
           "BACKGROUND: Unicompartmental knee arthroplasty (UKA) for treatment of medial compartment osteoarthritis has potential benefits over total knee<br>arthroplasty but UKA has a higher revision rate. Robotic-assisted UKA is increasingly common and offers more accurate implant positioning and limb<br>alignment, lower early postoperative pain but evidence of functional outcome is lacking. The aim was to assess the clinical outcomes of a single-<br>centre, prospective, randomised controlled trial, comparing robotic-arm-assisted UKA with conventional surgery. METHODS: A total of 139 [...]"
          ],
          [
           "Midterm Survivorship and Patient Satisfaction of Robotic-Arm-Assisted Medial Unicompartmental Knee Arthroplasty: A Multicenter Study",
           "BACKGROUND: Studies have showed improved accuracy of lower leg alignment, precise component position, and soft-tissue balance with robotic-assisted<br>unicompartmental knee arthroplasty (UKA). No studies, however, have assessed the effect on midterm survivorship. Therefore, the purpose of this<br>prospective, multicenter study was to determine midtem survivorship, modes of failure, and satisfaction of robotic-assisted medial UKA. METHODS: A<br>total of 473 consecutive patients (528 knees) underwent robotic-arm-assisted medial UKA surgery at 4 separate institutions between March 2009 [...]"
          ],
          [
           "The Learning Curve Associated with Robotic Total Knee Arthroplasty",
           "As with most new surgical technologies, there is an associated learning curve with robotic-assisted total knee arthroplasty (TKA) before surgeons can<br>expect ease of use to be similar to that of manual cases. Therefore, the purpose of this study was to (1) assess robotic-assisted versus manual<br>operative times of two joint reconstructive surgeons separately as well as (2) find an overall learning curve. A total of 240 robotic-assisted TKAs<br>performed by two board-certified surgeons were analyzed. The cases were sequentially grouped into 20 cases and a learning curve was created [...]"
          ],
          [
           "Patient Satisfaction Outcomes after Robotic Arm-Assisted Total Knee Arthroplasty: A Short-Term Evaluation",
           "Abstract Robotic arm-assisted total knee arthroplasty (RATKA) presents a potential, new added value for orthopedic surgeons. In<br>today's health care system, a major determinant of value can be assessed by patient satisfaction scores. Therefore, the purpose of the study was to<br>analyze patient satisfaction outcomes between RATKA and manual total knee arthroplasty (TKA). Specifically, we used the Western Ontario and McMaster<br>Universities Arthritis Index (WOMAC) to compare (1) pain scores, (2) physical function scores, and (3) total patient satisfaction outcomes in manual<br>and [...]"
          ],
          [
           "Improved joint-line restitution in unicompartmental knee arthroplasty using a robotic-assisted surgical technique",
           "PurposeJoint-line restitution is one objective of unicompartmental knee arthroplasty (UKA). However, the joint line is often lowered when resurfacing<br>femoral implants are used. The aim of this study was to compare the joint-line height in UKA performed by robotic-assisted and conventional<br>techniques.MethodsThis retrospective case–control study compared two matched groups of patients receiving a resurfacing UKA between 2013 and 2016 by<br>either a robotic-assisted (n = 40) or conventional (n = 40) technique. Each group comprised 27 women and 13 menm wuth a mean age of 69 and 68 [...]"
          ],
          [
           "Robotic-Assisted Total Hip Arthroplasty: Outcomes at Minimum Two-Year Follow-Up.",
           "BACKGROUND: Component malposition in total hip arthroplasty (THA) contributes to instability and early failure. Robotic-assisted total hip<br>arthroplasty (rTHA) utilizes CT-based planning with haptically-guided bone preparation and implant insertion to optimize component position accuracy.<br>This study compared acetabular component position and postoperative complications following manual THA (mTHA) with rTHA. MATERIALS AND METHODS:<br>Consecutive primary THAs performed by one surgeon at three intervals were analyzed in this retrospective cohort study: the initial 100 [...]"
          ],
          [
           "Robotic systems in orthopaedic surgery.",
           "Robots have been used in surgery since the late 1980s. Orthopaedic surgery began to incorporate robotic technology in 1992, with the introduction of<br>ROBODOC, for the planning and performance of total hip replacement. The use of robotic systems has subsequently increased, with promising short-term<br>radiological outcomes when compared with traditional orthopaedic procedures. Robotic systems can be classified into two categories: autonomous and<br>haptic (or surgeon-guided). Passive surgery systems, which represent a third type of technology, have also been adopted recently by [...]"
          ],
          [
           "The hands-on orthopaedic robot \"acrobot\": Early clinical trials of total knee replacement surgery",
           "A \"hands-on\" robotic system for total knee replacement (TKR) surgery is presented. A computer tomography-based preoperative planning software is used<br>to accurately plan the procedure. Intraoperatively, the surgeon guides a small special-purpose robot, called Acrobot, which is mounted on a gross<br>positioning device. The Acrobot uses active constraint control, which constrains the motion to a predefined region, and thus allows the surgeon to<br>safely cut the knee bones to fit a TKR prosthesis with high precision. A noninvasive anatomical registration method is described. The system [...]"
          ],
          [
           "Primary and Revision Total Hip Replacement Using the Robodoc® System",
           "The ROBODOC system was designed to address potential human errors in performing cementless total hip replacement. The system consists of a<br>preoperative planning computer workstation (called ORTHODOC) and a five-axis robotic arm with a high speed milling device as an end effector. The<br>combined experience of the United States Food and Drug Administration multicenter trial and the German postmarket use of the system are reported. The<br>United States study is controlled and randomized with 136 hip replacements performed at three centers (65 ROBODOC and 62 control). Followup was 1 [...]"
          ],
          [
           "Computer Assisted Knee Replacement",
           "Accurate alignment of knee implants is essential for the success of total knee replacement. Although mechanical alignment guides have been designed to<br>improve alignment accuracy, there are several fundamental limitations of this technology that will inhibit additional improvements. Various computer<br>assisted techniques have been developed to examine the potential to install knee implants more accurately and consistently than can be done with<br>mechanical guides. For example, computer integrated instrumentation incorporates highly accurate measurement devices to locate joint [...]"
          ],
          [
           "Technique and first clinical results of robot-assisted total knee replacement",
           "Total knee replacement (TKR) is a common procedure for treatment of severe gonarthrosis, but the outcome may be unsatisfactory due to primary<br>malalignment of the prosthetic components. In order to improve precision and accuracy of this surgical procedure, a commercial robotic surgical system<br>(CASPAR) has been adapted to assist the surgeon in the preoperative planning and intraoperative execution of TKR. So far, 70 patients with idiopathic<br>gonarthrosis were successfully treated with a robot-assisted technique in our institution. No major adverse events related to the use of the [...]"
          ],
          [
           "Can Robot-Assisted Unicompartmental Knee Arthroplasty Be Cost-Effective? A Markov Decision Analysis",
           "BACKGROUND: Unicompartmental knee arthroplasty (UKA) is a treatment option for single-compartment knee osteoarthritis. Robotic assistance may improve<br>survival rates of UKA, but the cost-effectiveness of robot-assisted UKA is unknown. The purpose of this study was to delineate the revision rate,<br>hospital volume, and robotic system costs for which this technology would be cost-effective. METHODS: We created a Markov decision analysis to<br>evaluate the costs, outcomes, and incremental cost-effectiveness of robot-assisted UKA in 64-year-old patients with end-stage unicompartmental [...]"
          ],
          [
           "Computer-Assisted Orthopaedic Surgery and Robotic Surgery in Total Hip Arthroplasty",
           "Various systems of computer-assisted orthopaedic surgery (CAOS) in total hip arthroplasty (THA) were reviewed. The first clinically applied system was<br>an active robotic system (ROBODOC), which performed femoral implant cavity preparation as programmed preoperatively. Several reports on cementless THA<br>with ROBODOC showed better stem alignment and less variance in limb-length inequality on radiographic evaluation, less incidence of pulmonary embolic<br>events on transesophageal cardioechogram, and less stress shielding on the dual energy X-ray absorptiometry analysis than [...]"
          ],
          [
           "Results of total hip replacement using the Robodoc surgical assistant system: clinical outcome and evaluation of complications for 97 procedures",
           "BACKGROUND: A computerized robotic surgical system was developed from 1986 by the Thomas J. Watson Research Center. In 1992 the system unit Orthodoc<br>and the milling robot Robodoc were first used on humans. We present the results achieved with Robodoc-assisted total hip arthroplasty in 97 hips.<br>METHODS: Between 1997 and 2002, 143 total hip replacements (128 patients) were performed using the Robodoc system. This is a consecutive series.<br>Complete follow-up was possible in 97 hips at a mean follow-up period of 3.8 years. RESULTS: Technical complications directly related to the [...]"
          ],
          [
           "Accuracy of Dynamic Tactile-Guided Unicompartmental Knee Arthroplasty",
           "Unicompartmental knee arthroplasty (UKA) can achieve excellent clinical and functional results for patients having single-compartment osteoarthritis.<br>However, UKA is considered to be technically challenging to perform, and malalignment of implant components significantly contributes to UKA failures.<br>It has been shown that surgical navigation and tactile robotics could be used to provide very accurate component placement when the bones were rigidly<br>fixed in a stereotactic frame during preparation. The purpose of this investigation was to determine the clinically realized accuracy [...]"
          ],
          [
           "A Comparison between Robotic-assisted and Manual Implantation of Cementless Total Hip Arthroplasty",
           "BackgroundThe benefits of robotic techniques for implanting femoral components during THA are still controversial.Questions/PurposesThe purpose of<br>this study was to prospectively compare the results and complications of robotic-assisted and hand-rasping stem implantation techniques.MethodThe<br>minimum followup was 5 years (mean, 67 months; range, 60–85 months). One hundred forty-six primary THAs on 130 patients were included in this study.<br>Robot-assisted primary THA was performed on 75 hips and a hand-rasping technique was used on 71 hips.ResultsAt 2 and 3 years postoperatively, [...]"
          ],
          [
           "Achieving Accurate Ligament Balancing Using Robotic‐Assisted Unicompartmental Knee Arthroplasty",
           "Unicompartmental knee arthroplasty (UKA) allows replacement of a single compartment in patients with limited disease. However, UKA is technically<br>challenging and relies on accurate component positioning and restoration of natural knee kinematics. This study examined the accuracy of dynamic,<br>real-time ligament balancing using a robotic-assisted UKA system. Surgical data obtained from the computer system were prospectively collected from 51<br>patients (52 knees) undergoing robotic-assisted medial UKA by a single surgeon. Dynamic ligament balancing of the knee was obtained under [...]"
          ]
         ],
         "hovertemplate": "Topic=Robotic Arthroplasty<br>x=%{x}<br>y=%{y}<br>title=%{customdata[0]}<br>abstract=%{customdata[1]}<extra></extra>",
         "legendgroup": "Robotic Arthroplasty",
         "marker": {
          "color": "#8c564b",
          "size": 5,
          "symbol": "circle"
         },
         "mode": "markers",
         "name": "Robotic Arthroplasty",
         "orientation": "v",
         "showlegend": true,
         "type": "scatter",
         "x": [
          12.173266,
          12.212486,
          12.389378,
          12.480778,
          12.701221,
          12.301701,
          12.962038,
          12.32633,
          12.804502,
          12.090981,
          12.975072,
          12.731448,
          12.927174,
          12.1644335,
          12.625021,
          12.157703,
          12.820909,
          12.502426,
          12.207278,
          12.862739,
          12.49947,
          12.106822,
          12.101771,
          12.903686,
          12.483832,
          12.527854,
          13.0160885,
          12.693804,
          12.974959,
          12.702928,
          12.245118,
          12.095868,
          12.533763,
          12.337575,
          12.10462,
          12.98646,
          12.915465,
          12.697338,
          12.954734,
          12.589592,
          12.704671,
          12.246542,
          12.849114,
          13.090869,
          12.117799,
          12.990501,
          12.081181
         ],
         "xaxis": "x",
         "y": [
          -7.088206,
          -7.1176934,
          -7.3022475,
          -7.364543,
          -7.096825,
          -7.0900645,
          -7.4693623,
          -7.2560124,
          -7.2939277,
          -6.9480243,
          -7.533726,
          -7.1285887,
          -7.467802,
          -7.0408278,
          -7.4306087,
          -7.028071,
          -7.4594107,
          -7.2790527,
          -7.0616064,
          -7.359617,
          -7.380415,
          -6.988254,
          -6.98405,
          -7.2761154,
          -6.98732,
          -7.318462,
          -7.4113994,
          -7.203687,
          -7.4842286,
          -7.257751,
          -7.156026,
          -6.9857755,
          -7.3144364,
          -7.332518,
          -7.026895,
          -7.4486346,
          -7.237179,
          -7.1294613,
          -7.3571177,
          -7.1094947,
          -7.3374767,
          -7.0549874,
          -7.2021036,
          -7.5755806,
          -6.9589634,
          -7.4720454,
          -7.015138
         ],
         "yaxis": "y"
        },
        {
         "customdata": [
          [
           "Artificial intelligence approach for the prediction of Robusta coffee yield using soil fertility properties",
           "As a commodity for daily consumption, coffee plays a crucial role in the economy of several African, American and Asian countries; yet, the accurate<br>prediction of coffee yield based on environmental, climatic and soil fertility conditions remains a challenge for agricultural system modellers. The<br>ability of an Extreme Learning Machine (ELM) model to analyse soil fertility properties and to generate an accurate estimation of Robusta coffee yield<br>was assessed in this study. The performance of 18 different ELM-based models with single and multiple combinations of the predictor [...]"
          ],
          [
           "Sugarcane growth prediction based on meteorological parameters using extreme learning machine and artificial neural network",
           "Management strategies for sustainable sugarcane production need to deal with the increasing complexity and variability of the whole sugar system.<br>Moreover, they need to accommodate the multiple goals of different industry sectors and the wider community. Traditional disciplinary approaches are<br>unable to provide integrated management solutions, and an approach based on whole systems analysis is essential to bring about beneficial change to<br>industry and the community. The application of this approach to water management, environmental management and cane supply management is [...]"
          ],
          [
           "Machine learning methods for crop yield prediction and climate change impact assessment in agriculture",
           "Crop yields are critically dependent on weather. A growing empirical literature models this relationship in order to project climate change impacts on<br>the sector. We describe an approach to yield modeling that uses a semiparametric variant of a deep neural network, which can simultaneously account<br>for complex nonlinear relationships in high-dimensional datasets, as well as known parametric structure and unobserved cross-sectional heterogeneity.<br>Using data on corn yield from the US Midwest, we show that this approach outperforms both classical statistical methods and fully- [...]"
          ],
          [
           "Integration of high resolution remotely sensed data and machine learning techniques for spatial prediction of soil properties and corn yield",
           "Widespread adoption of precision agriculture requires timely acquisition of low-cost, high quality soil and crop yield maps. Integration of remotely<br>sensed data and machine learning algorithms offers cost-and time-effective approach for spatial prediction of soil properties and crop yield compared<br>to conventional approaches. The objectives of this study were to: (i) evaluate the role of remotely sensed images; (ii) compare the performance of<br>various machine learning algorithms; and (iii) identify the importance of remotely sensed image-derived variables, in spatial prediction of [...]"
          ],
          [
           "Yield Forecasting of Spring Maize Using Remote Sensing and Crop Modeling in Faisalabad-Punjab Pakistan",
           "Real time, accurate and reliable estimation of maize yield is valuable to policy makers in decision making. The current study was planned for yield<br>estimation of spring maize using remote sensing and crop modeling. In crop modeling, the CERES-Maize model was calibrated and evaluated with the field<br>experiment data and after calibration and evaluation, this model was used to forecast maize yield. A Field survey of 64 farm was also conducted in<br>Faisalabad to collect data on initial field conditions and crop management data. These data were used to forecast maize yield using crop [...]"
          ],
          [
           "Sugarcane Yield Grade Prediction Using Random Forest with Forward Feature Selection and Hyper-parameter Tuning",
           "This paper presents a Random Forest (RF) based method for predicting the sugarcane yield grade of a farmer plot. The dataset used in this work is<br>obtained from a set of sugarcane plots around a sugar mill in Thailand. The number of records in the train dataset and the test dataset are 8,765<br>records and 3,756 records, respectively. We propose a forward feature selection in conjunction with hyper-parameter tuning for training the random<br>forest classifier. The accuracy of our method is 71.88%. We compare the accuracy of our method with two non-machine-learning baselines. The [...]"
          ],
          [
           "Deep Transfer Learning for Crop Yield Prediction with Remote Sensing Data",
           "Accurate prediction of crop yields in developing countries in advance of harvest time is central to preventing famine, improving food security, and<br>sustainable development of agriculture. Existing techniques are expensive and difficult to scale as they require locally collected survey data.<br>Approaches utilizing remotely sensed data, such as satellite imagery, potentially provide a cheap, equally effective alternative. Our work shows<br>promising results in predicting soybean crop yields in Argentina using deep learning techniques. We also achieve satisfactory results with a [...]"
          ],
          [
           "Smart Farming System: Crop Yield Prediction Using Regression Techniques",
           "Due to ever increasing global population, there is an ever increase in demand for food; hence, new methods need to be devised to increase the crop<br>yield. This paper proposes an intelligent way to predict crop yield and suggest the optimal climatic factors to maximize crop yield. With the<br>advancement in technology, the focus has now shifted to using machines and control systems to automate the processes and optimize productivity. The<br>paper uses multivariate polynomial regression, support vector machine regression and random forest models to predict the crop yield per acre. [...]"
          ],
          [
           "Estimating Vineyard Grape Yield from Images",
           "Agricultural yield estimation from natural images is a challenging problem to which machine learning can be applied. Convolutional Neural Networks<br>have advanced the state of the art in many machine learning applications such as computer vision, speech recognition and natural language processing.<br>The proposed research uses convolution neural networks to develop models that can estimate the weight of grapes on a vine using an image. Trained and<br>tested with a dataset of 60 images of grape vines, the system manages to achieve a cross-validation yield estimation accuracy of 87%."
          ],
          [
           "Rice Crop Yield Prediction Using Artificial Neural Networks",
           "Rice crop production contributes to the food security of India, more than 40% to overall crop production. Its production is reliant on favorable<br>climatic conditions. Variability from season to season is detrimental to the farmer's income and livelihoods. Improving the ability of farmers to<br>predict crop productivity in under different climatic scenarios, can assist farmers and other stakeholders in making important decisions in terms of<br>agronomy and crop choice. This study aimed to use neural networks to predict rice production yield and investigate the factors affecting the rice [...]"
          ],
          [
           "Yield prediction of wheat in south-east region of Turkey by using artificial neural networks",
           "In Turkey, similarly to other grain producing countries, the prediction of wheat yield is an important problem. The objective in this study is to<br>build an artificial neural network model that could effectively predict wheat yield by using meteorological data such as temperature and rainfall<br>records. Multi-Layer Perceptron neural network model was chosen and the performance of the built network was tested for different input and neurons<br>number. For defining the model parameters back propagation training technique was used. During the training of the network, various learning [...]"
          ],
          [
           "Rice crop yield prediction in India using support vector machines",
           "Food production in India is largely dependent on cereal crops including rice, wheat and various pulses. The sustainability and productivity of rice<br>growing areas is dependent on suitable climatic conditions. Variability in seasonal climate conditions can have detrimental effect, with incidents of<br>drought reducing production. Developing better techniques to predict crop productivity in different climatic conditions can assist farmer and other<br>stakeholders in better decision making in terms of agronomy and crop choice. Machine learning techniques can be used to improve prediction [...]"
          ],
          [
           "Spiking Neural Networks for Crop Yield Estimation Based on Spatiotemporal Analysis of Image Time Series",
           "This paper presents spiking neural networks (SNNs) for remote sensing spatiotemporal analysis of image time series, which make use of the highly<br>parallel and low-power-consuming neuromorphic hardware platforms possible. This paper illustrates this concept with the introduction of the first SNN<br>computational model for crop yield estimation from normalized difference vegetation index image time series. It presents the development and testing<br>of a methodological framework which utilizes the spatial accumulation of time series of Moderate Resolution Imaging Spectroradiometer 250-m [...]"
          ],
          [
           "Application of Neural Networks and Image Visualization for Early Forecast of Apple Yield",
           "Early information on yield has a special importance in the intensive apple production. Since the majority of older forecast methods are labor, time,<br>organization and cost intensive a hybrid model based on image analysis and neural network was developed. From the end of fruit thinning in June till<br>harvesting digital images of 120 trees of yellow-skin ‘Golden Delicious’ (four times) and 120 trees of red-skin ‘Braeburn’ (five times) were captured<br>from intensive orchards. Firstly, each image was processed by image analysis algorithm to receive the data on number of fruits and a [...]"
          ],
          [
           "Crop yield forecasting on the Canadian Prairies by remotely sensed vegetation indices and machine learning methods",
           "Crop yield forecast models for barley, canola and spring wheat grown on the Canadian Prairies were developed using vegetation indices derived from<br>satellite data and machine learning methods. Hierarchical clustering was used to group the crop yield data from 40 Census Agricultural Regions (CARs)<br>into several larger regions for building the forecast models. The Normalized Difference Vegetation Index (NDVI) and Enhanced Vegetation Index (EVI)<br>derived from the Moderate-resolution Imaging Spectroradiometer (MODIS), and NDVI derived from the Advanced Very High Resolution Radiometer [...]"
          ],
          [
           "Regression Models for Spatial Data: An Example from Precision Agriculture",
           "The term precision agriculture refers to the application of state-of-the-art GPS technology in connection with small-scale, sensor-based treatment of<br>the crop. This data-driven approach to agriculture poses a number of data mining problems. One of those is also an obviously important task in<br>agriculture: yield prediction. Given a precise, geographically annotated data set for a certain field, can a season’s yield be predicted?Numerous<br>approaches have been proposed to solving this problem. In the past, classical regression models for non-spatial data have been used, like [...]"
          ],
          [
           "Random Forests for Global and Regional Crop Yield Predictions",
           "Accurate predictions of crop yield are critical for developing effective agricultural and food policies at the regional and global scales. We<br>evaluated a machine-learning method, Random Forests (RF), for its ability to predict crop yield responses to climate and biophysical variables at<br>global and regional scales in wheat, maize, and potato in comparison with multiple linear regressions (MLR) serving as a benchmark. We used crop yield<br>data from various sources and regions for model training and testing: 1) gridded global wheat grain yield, 2) maize grain yield from US counties [...]"
          ],
          [
           "Paddy acreage mapping and yield prediction using sentinel-based optical and SAR data in Sahibganj district, Jharkhand (India)",
           "Rice is an important staple food for the billions of world population. Mapping the spatial distribution of paddy and predicting yields are crucial for<br>food security measures. Over the last three decades, remote sensing techniques have been widely used for monitoring and management of agricultural<br>systems. This study has employed Sentinel-based both optical (Sentinel-2B) and SAR (Sentinel-1A) sensors data for paddy acreage mapping in Sahibganj<br>district, Jharkhand during the monsoon season in 2017. A robust machine learning Random Forest (RF) classification technique was deployed [...]"
          ],
          [
           "An approach to forecast grain crop yield using multi-layered, multi-farm data sets and machine learning",
           "Many broadacre farmers have a time series of crop yield monitor data for their fields which are often augmented with additional data, such as soil<br>apparent electrical conductivity surveys and soil test results. In addition there are now readily available national and global datasets, such as<br>rainfall and MODIS, which can be used to represent the crop-growing environment. Rather than analysing one field at a time as is typical in precision<br>agriculture research, there is an opportunity to explore the value of combining data over multiple fields/farms and years into one dataset. [...]"
          ],
          [
           "Hierarchical modeling of seed variety yields and decision making for future planting plans",
           "Eradicating hunger and malnutrition is a key development goal of the twenty first century. This paper addresses the problem of optimally identifying<br>seed varieties to reliably increase crop yield within a risk-sensitive decision making framework. Specifically, a novel hierarchical machine learning<br>mechanism for predicting crop yield (the yield of different seed varieties of the same crop) is introduced. This prediction mechanism is then<br>integrated with a weather forecasting model and three different approaches for decision making under uncertainty to select seed varieties for [...]"
          ],
          [
           "A Study on Crop Yield Forecasting Using Classification Techniques",
           "India is generally an agricultural country. Agriculture is the single most important contributor to the Indian economy. Agriculture crop production<br>depends on the season, biological, and economic cause. The prognosticating of agricultural yield is a challenging and desirable task for every nation.<br>Nowadays, Farmers are struggling to produce the yield because of unpredictable climatic changes and drastically reduce in water resource so; we are<br>creating an agriculture data. This data could be gathered, stored and analyzed for useful information. It is used to promote new advanced [...]"
          ],
          [
           "Analysis of Soil Behaviour and Prediction of Crop Yield Using Data Mining Approach",
           "Yield prediction is very popular among farmers these days, which particularly contributes to the proper selection of crops for sowing. This makes the<br>problem of predicting the yielding of crops an interesting challenge. Earlier yield prediction was performed by considering the farmer's experience on<br>a particular field and crop. This work presents a system, which uses data mining techniques in order to predict the category of the analyzed soil<br>datasets. The category, thus predicted will indicate the yielding of crops. The problem of predicting the crop yield is formalized as a [...]"
          ],
          [
           "Sugarcane yield prediction in Brazil using NDVI time series and neural networks ensemble",
           "The objective of this study is to predict the sugarcane yield in São Paulo State, Brazil, using metrics derived from normalized difference vegetation<br>index (NDVI) time series from the Moderate Resolution Imaging Spectroradiometer (MODIS) sensor and an ensemble model of artificial neural networks<br>(ANNs). Sixty municipalities were selected and spectral metrics were extracted from the NDVI time series for each municipality from 2003 to 2012. A<br>neural network wrapper with sequential backward elimination was applied to remove irrelevant and/or redundant features from the initial data [...]"
          ],
          [
           "Predicting Early Crop Production by Analysing Prior Environment Factors",
           "Bangladesh has an agriculture dependent economy and hence prediction of agricultural production is of great importance to us. In this research we<br>develop a model that considers and analyzes weather and climate prior to specific crop plantation and maps a correlation between these two. It allows<br>us to provide information about the crop state, in quantity and quality with the possibility of early warnings so that timely interventions can be<br>undertaken. The approach advocated in this paper is to help the people with food security and early warning system."
          ],
          [
           "Image Segmentation for Fruit Detection and Yield Estimation in Apple Orchards",
           "Ground vehicles equipped with monocular vision systems are a valuable source of high‐resolution image data for precision agriculture applications in<br>orchards. This paper presents an image processing framework for fruit detection and counting using orchard image data. A general‐purpose image<br>segmentation approach is used, including two feature learning algorithms; multiscale multilayered perceptrons (MLP) and convolutional neural networks<br>(CNN). These networks were extended by including contextual information about how the image data was captured (metadata), which correlates with [...]"
          ],
          [
           "Predictive ability of machine learning methods for massive crop yield prediction",
           "An important issue for agricultural planning purposes is the accurate yield estimation for the numerous crops involved in the planning. Machine<br>learning (ML) is an essential approach for achieving practical and effective solutions for this problem. Many comparisons of ML methods for yield<br>prediction have been made, seeking for the most accurate technique. Generally, the number of evaluated crops and techniques is too low and does not<br>provide enough information for agricultural planning purposes. This paper compares the predictive accuracy of ML and linear regression techniques [...]"
          ],
          [
           "Wheat yield prediction using machine learning and advanced sensing techniques",
           "Understanding yield limiting factors requires high resolution multi-layer information about factors affecting crop growth and yield. Therefore, on-<br>line proximal soil sensing for estimation of soil properties is required, due to the ability of these sensors to collect high resolution data (>1500<br>sample per ha), and subsequently reducing labor and time cost of soil sampling and analysis. The aim of this paper is to predict within field<br>variation in wheat yield, based on on-line multi-layer soil data, and satellite imagery crop growth characteristics. Supervised self-organizing [...]"
          ],
          [
           "Accurate prediction of sugarcane yield using a random forest algorithm",
           "Foreknowledge about sugarcane crop size can help industry members make more informed decisions. There exists many different combinations of climate<br>variables, seasonal climate prediction indices, and crop model outputs that could prove useful in explaining sugarcane crop size. A data mining method<br>like random forests can cope with generating a prediction model when the search space of predictor variables is large. Research that has investigated<br>the accuracy of random forests to explain annual variation in sugarcane productivity and the suitability of predictor variables [...]"
          ],
          [
           "Ensemble data mining approaches to forecast regional sugarcane crop production",
           "Accurate yield forecasts are pivotal for the success of any agricultural industry that plans or sells ahead of the annual harvest. Biophysical models<br>that integrate information about crop growing conditions can give early insight about the likely size of a crop. At a point scale, where highly<br>detailed knowledge about environmental and management conditions are known, the performance of reputable crop modelling approaches like APSIM have<br>been well established. However, regional growing conditions tend not to be homogenous. Heterogeneity is common in many agricultural systems, [...]"
          ],
          [
           "Maize yield forecasting by linear regression and artificial neural networks in Jilin, China",
           "SUMMARY Forecasting the maize yield of China's Jilin province from 1962 to 2004, with climate conditions and fertilizer as<br>predictors, was investigated using multiple linear regression (MLR) and non-linear artificial neural network (ANN) models. Yield was set to be a<br>function of precipitation from July to August, precipitation in September and the amount of fertilizer used. Fertilizer emerged as the dominant<br>predictor and was non-linearly related to yield in the ANN model. Given the difficulty of acquiring fertilizer data for maize, the current study was<br>also tested using the [...]"
          ],
          [
           "Data Mining with Neural Networks for Wheat Yield Prediction",
           "Precision agriculture (PA) and information technology (IT) are closely interwoven. The former usually refers to the application of nowadays’<br>technology to agriculture. Due to the use of sensors and GPS technology, in today’s agriculture many data are collected. Making use of those data via<br>IT often leads to dramatic improvements in efficiency. For this purpose, the challenge is to change these raw data into useful information. In this<br>paper we deal with neural networks and their usage in mining these data. Our particular focus is whether neural networks can be used for [...]"
          ],
          [
           "Yield Prediction Using Artificial Neural Networks",
           "Artificial Neural Network (ANN’s) technology with PSO as optimization technique was used for the approximation and prediction of paddy yield at 3<br>different districts in different climatic zones based on 10 years of historical data sets of yields of paddy ,daily temperature(mean and maximum) and<br>precipitation(rainfall)."
          ],
          [
           "Using classification algorithms for predicting durum wheat yield in the province of Buenos Aires",
           "Wheat is one of the most important cereals worldwide for human nutrition. Tetraploid wheat (Triticum turgidum L. ssp. durum, 2n =28, genomes AABB) is<br>mainly used to produce pasta. The main objective of durum wheat breeding programs is to develop varieties with good quality and high yields. Yield is<br>a very complex trait, and depends on different yield components that are genetically controlled and affected by environmental constraints. In this<br>context, machine learning constitutes an excellent alternative for the analysis of a high number of traits in order to extract the most [...]"
          ],
          [
           "Design of an integrated climatic assessment indicator (ICAI) for wheat production: A case study in Jiangsu Province, China",
           "Agro-meteorological condition plays a fundamental role in crop production. For a specific region, the comprehensive effects of multiple<br>meteorological factors are important indicators for the climatic suitability of the crops. To evaluate the synthetic effects, an integrated climatic<br>assessment indicator (ICAI) are developed in Jiangsu Province, China. A newly produced meteorological assimilation driving datasets (CMADS V1.0)<br>combined with observation data are used in establishing the indicator. The procedure to construct the indicator involves building statistical [...]"
          ],
          [
           "Applying Data Mining Techniques to Predict Annual Yield of Major Crops and Recommend Planting Different Crops in Different Districts in Bangladesh",
           "Agricultural crop production depends on various factors such as biology, climate, economy and geography. Several factors have different impacts on<br>agriculture, which can be quantified using appropriate statistical methodologies. Applying such methodologies and techniques on historical yield of<br>crops, it is possible to obtain information or knowledge which can be helpful to farmers and government organizations for making better decisions and<br>policies which lead to increased production. In this paper, our focus is on application of data mining techniques to extract knowledge from [...]"
          ],
          [
           "Machine Learning Facilitated Rice Prediction in Bangladesh",
           "The climate of a region is often determined by its landscape and amount of vegetation present in it. Environment parameters such as rainfall, wind-<br>speed and humidity are highly influenced by these alluvial features. Bangladesh, a country situated on the banks of the Himalaya, does not have a<br>homogeneous topography. Human settlement over the course of centuries has led to pockets of micro-regions. Each of those regions has a different micro<br>climate. An entrepreneur involved in the food industry therefore has to carefully choose regions of land that will give him/her the [...]"
          ],
          [
           "CRY — An improved crop yield prediction model using bee hive clustering approach for agricultural data sets",
           "Agricultural researchers over the world insist on the need for an efficient mechanism to predict and improve the crop growth. The need for an<br>integrated crop growth control with accurate predictive yield management methodology is highly felt among farming community. The complexity of<br>predicting the crop yield is highly due to multi dimensional variable metrics and unavailability of predictive modeling approach, which leads to loss<br>in crop yield. This research paper suggests a crop yield prediction model (CRY) which works on an adaptive cluster approach over dynamically [...]"
          ],
          [
           "Applying machine learning on sensor data for irrigation recommendations: revealing the agronomist’s tacit knowledge",
           "Jojoba Israel is a world-leading producer of Jojoba products, whose orchards are covered with sensors that collect soil moisture data for monitoring<br>plant needs at real-time. Based on these data, the company’s agronomist defines a weekly irrigation plan. In addition, data on weather, irrigation,<br>and yield are recorded from other sources (e.g. meteorological station and irrigation-plan records). However, so far, there has been no attempt to use<br>the entire set of collected data to reveal insights and interesting relationships between different variables, such as soil, weather, [...]"
          ],
          [
           "Support vector machine-based open crop model (SBOCM): Case of rice production in China",
           "Existing crop models produce unsatisfactory simulation results and are operationally complicated. The present study, however, demonstrated the unique<br>advantages of statistical crop models for large-scale simulation. Using rice as the research crop, a support vector machine-based open crop model<br>(SBOCM) was developed by integrating developmental stage and yield prediction models. Basic geographical information obtained by surface weather<br>observation stations in China and the 1:1000000 soil database published by the Chinese Academy of Sciences were used. Based on the principle of [...]"
          ],
          [
           "Modeling Managed Grassland Biomass Estimation by Using Multitemporal Remote Sensing DataA Machine Learning Approach",
           "More than 80 of agricultural land in Ireland is grassland, which is a major feed source for the pasture based dairy farming and livestock industry.<br>Many studies have been undertaken globally to estimate grassland biomass by using satellite remote sensing data, but rarely in systems like Ireland's<br>intensively managed, but small-scale pastures, where grass is grazed as well as harvested for winter fodder. Multiple linear regression (MLR),<br>artificial neural network (ANN) and adaptive neuro-fuzzy inference system (ANFIS) models were developed to estimate the grassland biomass (kg [...]"
          ],
          [
           "Spatial yield estimates of fast‐growing willow plantations for energy based on climatic variables in northern Europe",
           "Abstract Spatially accurate and reliable estimates from fast‐growing plantations are a key factor for planning energy supply. This study aimed to<br>estimate the yield of biomass from short rotation willow plantations in northern Europe. The data were based on harvesting records from 1790<br>commercial plantations in Sweden, grouped into three ad hoc categories: low, middle and high performance. The predictors included climatic variables,<br>allowing the spatial extrapolation to nearby countries. The modeling and spatialization of the estimates used boosted regression trees, a method [...]"
          ],
          [
           "Early Yield Prediction Using Image Analysis of Apple Fruit and Tree Canopy Features with Neural Networks",
           "(1) Background: Since early yield prediction is relevant for resource requirements of harvesting and marketing in the whole fruit industry, this paper<br>presents a new approach of using image analysis and tree canopy features to predict early yield with artificial neural networks (ANN); (2) Methods:<br>Two back propagation neural network (BPNN) models were developed for the early period after natural fruit drop in June and the ripening period,<br>respectively. Within the same periods, images of apple cv. “Gala” trees were captured from an orchard near Bonn, Germany. Two sample sets [...]"
          ],
          [
           "Application of Supervised Self Organising Models for Wheat Yield Prediction",
           "The management of wheat yield behavior in agricultural areas is a very important task because it influences and specifies the wheat yield production.<br>An efficient knowledge-based approach utilizing an efficient Machine Learning algorithm for characterizing wheat yield behavior is presented in this<br>research work. The novelty of the method is based on the use of Supervised Self Organizing Maps to handle existent sensor information by using a<br>supervised learning algorithm so as to assess measurement data and update initial knowledge. The advent of precision farming generates data [...]"
          ],
          [
           "Determining the Most Important Physiological and Agronomic Traits Contributing to Maize Grain Yield through Machine Learning Algorithms: A New Avenue in Intelligent Agriculture",
           "Prediction is an attempt to accurately forecast the outcome of a specific situation while using input information obtained from a set of variables<br>that potentially describe the situation. They can be used to project physiological and agronomic processes; regarding this fact, agronomic traits such<br>as yield can be affected by a large number of variables. In this study, we analyzed a large number of physiological and agronomic traits by screening,<br>clustering, and decision tree models to select the most relevant factors for the prospect of accurately increasing maize grain yield. [...]"
          ]
         ],
         "hovertemplate": "Topic=Crop Yield Prediction<br>x=%{x}<br>y=%{y}<br>title=%{customdata[0]}<br>abstract=%{customdata[1]}<extra></extra>",
         "legendgroup": "Crop Yield Prediction",
         "marker": {
          "color": "#e377c2",
          "size": 5,
          "symbol": "circle"
         },
         "mode": "markers",
         "name": "Crop Yield Prediction",
         "orientation": "v",
         "showlegend": true,
         "type": "scatter",
         "x": [
          16.877651,
          17.034716,
          16.763365,
          16.640215,
          16.6149,
          16.991478,
          16.518759,
          16.71285,
          16.406101,
          16.650694,
          16.601404,
          16.579426,
          16.54634,
          16.466534,
          16.692694,
          16.699703,
          16.828474,
          16.520477,
          16.59453,
          16.723814,
          16.715153,
          16.581554,
          17.043951,
          16.632177,
          16.390713,
          16.758307,
          16.576353,
          17.002653,
          16.993065,
          16.63276,
          16.621086,
          16.573215,
          16.587023,
          16.501984,
          16.632526,
          16.674442,
          16.754137,
          16.646523,
          16.618528,
          16.521463,
          16.722336,
          16.478283,
          16.54385,
          16.745878
         ],
         "xaxis": "x",
         "y": [
          10.444474,
          10.34746,
          10.285466,
          10.506226,
          10.53782,
          10.377574,
          10.331056,
          10.425524,
          9.984505,
          10.258782,
          10.118096,
          10.427448,
          10.129742,
          10.068122,
          10.598193,
          10.306329,
          10.593547,
          10.50209,
          10.525233,
          10.37219,
          10.528387,
          10.42071,
          10.292783,
          10.570314,
          9.991318,
          10.411004,
          10.272361,
          10.447533,
          10.385156,
          10.361777,
          10.145279,
          10.156182,
          10.2657175,
          10.630125,
          10.545558,
          10.555683,
          10.413396,
          10.439233,
          10.580092,
          10.793988,
          10.716829,
          10.045027,
          10.352988,
          10.407612
         ],
         "yaxis": "y"
        },
        {
         "customdata": [
          [
           "A DASH-based Free Viewpoint Video Streaming System",
           "We present an interactive free-viewpoint video (FVV) streaming system that is based on the dynamic adaptive streaming over HTTP (DASH) standard. The<br>system uses standard HTTP Web servers to achieve scalability with a large number of users and performs view synthesis and rate adaptation at the<br>client-side to achieve high response time. We propose a rate adaptation logic based on sampled rate-distortion (R-D) values, which relate the<br>distortion of synthesized view to the bit rates of the texture and depth components of the reference views, to maximize the quality of [...]"
          ],
          [
           "E-AHRW: An Energy-Efficient Adaptive Hash Scheduler for Stream Processing on Multi-core Servers",
           "We study a streaming network application -- video transcoding to be executed on a multi-core server. It is important for the scheduler to minimize the<br>total processing time and preserve good video quality in an energy-efficient manner. However, the performance of existing scheduling schemes is<br>largely limited by ineffective use of the multi-core architecture characteristic and undifferentiated transcoding cost in terms of energy consumption.<br>In this paper, we identify three key factors that collectively play important roles in affecting transcoding performance: memory access [...]"
          ],
          [
           "Drizzle",
           "Large scale streaming systems aim to provide high throughput and low latency. They are often used to run mission-critical applications, and must be<br>available 24x7. Thus such systems need to adapt to failures and inherent changes in workloads, with minimal impact on latency and throughput.<br>Unfortunately, existing solutions require operators to choose between achieving low latency during normal operation and incurring minimal impact<br>during adaptation. Continuous operator streaming systems, such as Naiad and Flink, provide low latency during normal execution but incur [...]"
          ],
          [
           "Parallel Stream Processing Against Workload Skewness and Variance",
           "Key-based workload partitioning is a common strategy used in parallel stream processing engines, enabling effective key-value tuple distribution over<br>worker threads in a logical operator. It is likely to generate poor balancing performance when workload variance occurs on the incoming data stream.<br>This paper presents a new key-based workload partitioning framework, with practical algorithms to support dynamic workload assignment for stateful<br>operators. The framework combines hash-based and explicit key-based routing strategies for workload distribution, which specifies the [...]"
          ],
          [
           "QoE-driven optimization for cloud-assisted DASH-based scalable interactive multiview video streaming over wireless network",
           "In interactive multiview video streaming (IMVS), the viewers can periodically switch viewpoints. If the captured view is not available at the desired<br>viewpoint, virtual views can be rendered from neighboring coded views using view synthesis techniques. Dynamic adaptive streaming over HTTP (DASH) is<br>a new standard that allows to adjust the quality of video streaming based on the network condition. In this paper, an improved DASH-based IMVS<br>framework is proposed. It has the following characteristics. First, virtual views could be adaptively generated at either the cloud-based [...]"
          ],
          [
           "Delving into internet streaming media delivery",
           "Modern Internet streaming services have utilized various techniques to improve the quality of streaming media delivery. Despite the characterization<br>of media access patterns and user behaviors in many measurement studies, few studies have focused on the streaming techniques themselves, particularly<br>on the quality of streaming experiences they offer end users and on the resources of the media systems that they consume. In order to gain insights<br>into current streaming services techniques and thus provide guidance on designing resource-efficient and high quality streaming media [...]"
          ],
          [
           "Teddies: Trained Eddies for Reactive Stream Processing",
           "In this paper, we present an adaptive stream query processor, Teddies, that combines the key advantages of the Eddies system with the scalability of<br>the more traditional dataflow model. In particular, we introduce the notion of adaptive packetization of tuples to overcome the large memory<br>requirements of the Eddies system. The Teddies optimizer groups tuples with the same history into data packets which are then scheduled on a per<br>packet basis through the query tree. Corresponding to the introduction of this second dimension – the packet granularity – we propose an [...]"
          ],
          [
           "Adaptive segment-based patching scheme for video streaming delivery system",
           "In on-demand video streaming system, periodic broadcast technique scheme has been shown to be very effective for serving a popular video in reducing<br>the demand on server bandwidth. On the contrary, reactive server transmission approach is more suitable for the video that is not popular enough.<br>However, the level of demand on a video may change by time. In this paper, we propose a segment-based patching scheme which allocates adaptively<br>transmission resources according to the varying client request rate. Our technique smoothly adjusts itself to cope with the changing workloads. [...]"
          ],
          [
           "Adaptive interface selection over cloud-based split-layer video streaming via multi-wireless networks",
           "As mobile devices such as tablet PCs and smartphones proliferate, the online video consumption over a wireless network has been accelerated. From<br>this phenomenon, there are several challenges to provide the video streaming service more efficiently and stably in the heterogeneous mobile<br>environment. In order to guarantee the QoS of real-time HD video services, the steady and reliable wireless mesh is necessary. Furthermore, the video<br>service providers have to maintain the QoS by provisioning streaming servers to respond the clients’ request of different video resolution. In [...]"
          ],
          [
           "Changing flights in mid-air",
           "Continuous queries can run for unpredictably long periods of time. During their lifetime, these queries may need to be adapted either due to changes<br>in application semantics (e.g., the implementation of a new alert detection policy), or due to changes in the system's behavior (e.g., adapting<br>performance to a changing load). While in previous works query modification has been implicitly utilized to serve specific purposes (e.g., load<br>management), to date no research has been done that defines a general-purpose, reliable, and efficiently implementable model for modifying [...]"
          ],
          [
           "Active workflow system for near real-time extreme-scale science",
           "In recent years, streaming-based data processing has been gaining substantial traction for dealing with overwhelming data generated by real-time<br>applications, from both enterprise sources and scientific computing. In this work, however, we look at an emerging class of scientific data with Near<br>Real-Time (NRT) requirement, in which data is typically generated in a bursty fashion with the near real-time constraints being applied primarily<br>between bursts, rather than within a stream. A key challenge for this types of data sources is that the processing time per data element is [...]"
          ],
          [
           "A Quality-Aware Voice Streaming System for Wireless Sensor Networks",
           "Recent years have witnessed the pilot deployments of audio or low-rate video wireless sensor networks for a class of mission-critical applications<br>including search-and-rescue, security surveillance, and disaster management. In this article, we report the design and implementation of Quality-aware<br>Voice Streaming (QVS) for wireless sensor networks. QVS is built upon SenEar, a new sensor hardware platform we developed for high-bandwidth wireless<br>audio communication. QVS comprises several novel components, which include an empirical model for online voice-quality evaluation and [...]"
          ],
          [
           "Massively-parallel stream processing under QoS constraints with Nephele",
           "Today, a growing number of commodity devices, like mobile phones or smart meters, is equipped with rich sensors and capable of producing continuous<br>data streams. The sheer amount of these devices and the resulting overall data volumes of the streams raise new challenges with respect to the<br>scalability of existing stream processing systems. At the same time, massively-parallel data processing systems like MapReduce have proven that they<br>scale to large numbers of nodes and efficiently organize data transfers between them. Many of these systems also provide streaming [...]"
          ],
          [
           "Input-adaptive parallel sparse fast fourier transform for stream processing",
           "Fast Fourier Transform (FFT) is frequently invoked in stream processing, e.g., calculating the spectral representation of audio/video frames, and in<br>many cases the inputs are sparse, i.e., most of the inputs' Fourier coefficients being zero. Many sparse FFT algorithms have been proposed to improve<br>FFT's efficiency when inputs are known to be sparse. However, like their \"dense\" counterparts, existing sparse FFT implementations are input oblivious<br>in the sense that how the algorithms work is not affected by the value of input. The sparse FFT computation on one frame is exactly the [...]"
          ],
          [
           "TimeStream",
           "TimeStream is a distributed system designed specifically for low-latency continuous processing of big streaming data on a large cluster of commodity<br>machines. The unique characteristics of this emerging application domain have led to a significantly different design from the popular MapReduce-style<br>batch data processing. In particular, we advocate a powerful new abstraction called resilient substitution that caters to the specific needs in this<br>new computation model to handle failure recovery and dynamic reconfiguration in response to load changes. Several real-world [...]"
          ],
          [
           "Adaptive data acquisition strategies for energy-efficient, smartphone-based, continuous processing of sensor streams",
           "There is a growing interest in applications that utilize continuous sensing of individual activity or context, via sensors embedded or associated with<br>personal mobile devices (e.g., smartphones). Reducing the energy overheads of sensor data acquisition and processing is essential to ensure the<br>successful continuous operation of such applications, especially on battery-limited mobile devices. To achieve this goal, this paper presents a<br>framework, called ACQUA, for ‘acquisition-cost’ aware continuous query processing. ACQUA replaces the current paradigm, where the data is [...]"
          ],
          [
           "Fast Heuristics for Near-Optimal Task Allocation in Data Stream Processing over Clusters",
           "We study provisioning and job reconfiguration techniques for adapting to execution environment changes when processing data streams on cluster-based<br>deployments. By monitoring the performance of an executing job, we identify computation and communication bottlenecks. In such cases we reconfigure<br>the job by reallocating its tasks to minimize the communication cost. Our work targets data-intensive applications where the inter-node transfer<br>latency is significant. We aim to minimize the transfer latency while keeping the nodes below some computational load threshold. We propose a [...]"
          ],
          [
           "Adaptive resource management for P2P live streaming systems",
           "Peer-to-Peer (P2P) has become a popular live streaming delivery technology owing to its scalability and low cost. P2P streaming systems often employ<br>multi-channels to deliver streaming to users simultaneously, which leads to a great challenge of allocating server resources among these channels<br>appropriately. Most existing P2P systems resort to over-allocating server resources to different channels, which results in low-efficiency and high-<br>cost. To allocate server resources to different channels efficiently, we propose a dynamic resource allocation algorithm based on a streaming [...]"
          ],
          [
           "MCEP",
           "With the proliferation of mobile devices and sensors, complex event proceesing (CEP) is becoming increasingly important to scalably detect situations<br>in real time. Current CEP systems are not capable of dealing efficiently with highly dynamic mobile consumers whose interests change with their<br>location. We introduce the distributed mobile CEP (MCEP) system which automatically adapts the processing of events according to a consumer's<br>location. MCEP significantly reduces latency, network utilization, and processing overhead by providing on-demand and opportunistic [...]"
          ],
          [
           "C-MR",
           "The widespread appeal of MapReduce is due, in part, to its simple programming model. Programmers provide only application logic while the MapReduce<br>framework handles the logistics of data distribution and parallel task management. We present the Continuous-MapReduce (C-MR) framework which<br>implements a modified MapReduce processing model to continuously execute workflows of MapReduce jobs on unbounded data streams. In keeping with the<br>philosophy of MapReduce, C-MR abstracts away the complexities of parallel stream processing and workflow scheduling while providing the simple [...]"
          ],
          [
           "Self-tuning query mesh for adaptive multi-route query processing",
           "In real-life applications, different subsets of data may have distinct statistical properties, e.g., various websites may have diverse visitation<br>rates, different categories of stocks may have dissimilar price fluctuation patterns. For such applications, it can be fruitful to eliminate the<br>commonly made single execution plan assumption and instead execute a query using several plans, each optimally serving a subset of data with<br>particular statistical properties. Furthermore, in dynamic environments, data properties may change continuously, thus calling for adaptivity. [...]"
          ],
          [
           "Dynamic Adaptive Point Cloud Streaming",
           "High-quality point clouds have recently gained interest as an emerging form of representing immersive 3D graphics. Unfortunately, these 3D media are<br>bulky and severely bandwidth intensive, which makes it difficult for streaming to resource-limited and mobile devices. This has called researchers to<br>propose efficient and adaptive approaches for streaming of high-quality point clouds. In this paper, we run a pilot study towards dynamic adaptive<br>point cloud streaming, and extend the concept of dynamic adaptive streaming over HTTP (DASH) towards DASH-PC, a dynamic adaptive bandwidth- [...]"
          ],
          [
           "TCEP",
           "Operator placement has a profound impact on the performance of a distributed complex event processing system (DCEP). Since the behavior of a placement<br>mechanism strongly depends on its environment; a single placement mechanism is often not enough to fulfill stringent performance requirements under<br>environmental changes. In this paper, we show how DCEP can benefit from the adaptive use of multiple placement mechanisms. We propose Tcep, a DCEP<br>system to integrate multiple placement mechanisms. By enabling transitions, Tcep can seamlessly exchange distinct operator mechanisms at [...]"
          ],
          [
           "Decentralized self-adaptation for elastic Data Stream Processing",
           "Data Stream Processing (DSP) applications are widely used to develop new pervasive services, which require to seamlessly process huge amounts of data<br>in a near real-time fashion. To keep up with the high volume of daily produced data, these applications need to dynamically scale their execution on<br>multiple computing nodes, so to process the incoming data flow in parallel. In this paper, we present a hierarchical distributed architecture for the<br>autonomous control of elastic DSP applications. It consists of a two-layered hierarchical solution, where a centralized per-application [...]"
          ],
          [
           "Elastic-PPQ: A two-level autonomic system for spatial preference query processing over dynamic data streams",
           "Paradigms like Internet of Things and the most recent Internet of Everything are shifting the attention towards systems able to process unbounded<br>sequences of items in the form of data streams. In the real world, data streams may be highly variable, exhibiting burstiness in the arrival rate and<br>non-stationarities such as trends and cyclic behaviors. Furthermore, input items may be not ordered according to timestamps. This raises the<br>complexity of stream processing systems, which must support elastic resource management and autonomic QoS control through sophisticated strategies [...]"
          ],
          [
           "Delay Management in Mesh-Based P2P Live Streaming Using a Three-Stage Peer Selection Strategy",
           "Peer-to-peer (P2P) live streaming systems have gained popularity due to the self-scalability property of the P2P overlay networks. In P2P live<br>streaming, peers retrieve stream content from other peers in the system. Therefore, peer selection strategy is a fundamental element to build an<br>overlay which manages the playback delay and startup delay experienced by the peers. In this paper, we propose a peer selection strategy which manages<br>to build a minimum delay overlay using three different stages of overlay construction. In the first stage, the tracker suggests some peers [...]"
          ],
          [
           "Toward high-performance distributed stream processing via approximate fault tolerance",
           "Fault tolerance is critical for distributed stream processing systems, yet achieving error-free fault tolerance often incurs<br>substantial performance overhead. We present AF-Stream , a distributed stream processing system that addresses<br>the trade-off between performance and accuracy in fault tolerance. AF-Stream builds on a notion called approximate fault tolerance<br>, whose idea is to mitigate backup overhead by adaptively issuing backups, while ensuring that the errors upon failures are bounded with theoretical<br>guarantees. Our AF-Stream design provides an extensible [...]"
          ],
          [
           "Migration Towards Cloud-Assisted Live Media Streaming",
           "Live media streaming has become one of the most popular applications over the Internet. We have witnessed the successful deployment of commercial<br>systems with content delivery network (CDN)- or peer-to-peer-based engines. While each being effective in certain aspects, having an all-round<br>scalable, reliable, responsive, and cost-effective solution remains an illusive goal. Moreover, today's live streaming services have become highly<br>globalized, with subscribers from all over the world. Such a globalization makes user behaviors and demands even more diverse and dynamic, [...]"
          ],
          [
           "Enorm",
           "Modern distributed stream processing systems (DSPS), such as Storm, typically provide a flexible programming model, where computation is specified as<br>complicated UDFs and data is opaque to the system. While such a programming framework provides very high flexibility to the developers, it does not<br>provide much semantic information to the system and hence it is hard to perform optimizations that has already been proved very effective in<br>conventional stream systems. Examples include sharing computation among overlapping windows, co-partitioning operators to save communication [...]"
          ],
          [
           "Dynamic Resource Management In a Massively Parallel Stream Processing Engine",
           "The emerging interest in Massively Parallel Stream Processing Engines (MPSPEs), which are able to process long-standing computations over data streams<br>with ever-growing velocity at a large-scale cluster, calls for efficient dynamic resource management techniques to avoid any waste of resources and/or<br>excessive processing latency. In this paper, we propose an approach to integrate dynamic resource management with passive fault-tolerance mechanisms<br>in a MPSPE so that we can harvest the checkpoints prepared for failure recovery to enhance the efficiency of dynamic load migrations. [...]"
          ],
          [
           "Adaptable system based on Scalable Video Coding for high-quality video service",
           "Content adaptation to a heterogeneous environment like the Internet is a key process for improving the perceived quality of the user. This paper<br>presents an adaptive streaming system using Scalable Video Coding (SVC) technology. Using feedback information from clients about the transmission<br>status, the server is able to select the most suitable combination of SVC layers for the available bandwidth. The estimation of the available<br>bandwidth is carried out with non-intrusive methods, based on classic metrics such as packet loss, jitter and novel metrics like the linearity [...]"
          ],
          [
           "Scalable stream join processing with expensive predicates",
           "Multi-way stream joins with expensive join predicates lead to great challenge for real-time (or close to real-time) stream processing. Given the<br>memory- and CPU-intensive nature of such stream join queries, scalable processing on a cluster must be employed. This paper proposes a novel scheme<br>for distributed processing of generic multi-way joins with window constraints, called Pipelined State Partitioning (PSP). We target generic joins with<br>arbitrarily join conditions, which are used in non-trivial stream applications such as image matching and biometric recognizing. The PSP [...]"
          ],
          [
           "Attributed Graph Rewriting for Complex Event Processing Self-Management",
           "The use of Complex Event Processing (CEP) and Stream Processing (SP) systems to process high-volume, high-velocity Big Data has<br>renewed interest in procedures for managing these systems. In particular, self-management and adaptation of runtime platforms have been common<br>research themes, as most of these systems run under dynamic conditions. Nevertheless, the research landscape in this area is still young and<br>fragmented. Most research is performed in the context of specific systems, and it is difficult to generalize the results obtained to other contexts.<br>To enable generic and [...]"
          ],
          [
           "Adaptive rate stream processing for smart grid applications on clouds",
           "Pervasive smart meters that continuously measure power usage by consumers within a smart (power) grid are providing utilities and power systems<br>researchers with unprecedented volumes of information through streams that need to be processed and analyzed in near realtime. We introduce the use of<br>Cloud platforms to perform scalable, latency sensitive stream processing for eEngineering applications in the smart grid domain. One unique aspect of<br>our work is the use of adaptive rate control to throttle the rate of generation of power events by smart meters, which meets accuracy [...]"
          ],
          [
           "A delay-based aggregate rate control for P2P streaming systems",
           "In this paper we consider mesh based P2P streaming systems focusing on the problem of regulating peer transmission rate to match the system demand<br>while not overloading each peer upload link capacity. We propose Hose Rate Control (HRC), a novel scheme to control the speed at which peers offer<br>chunks to other peers, ultimately controlling peer uplink capacity utilization. This is of critical importance for heterogeneous scenarios like the<br>one faced in the Internet, where peer upload capacity is unknown and varies widely.HRC nicely adapts to the actual peer available upload [...]"
          ],
          [
           "Streaming video over wireless channels: Exploiting reduced-reference quality estimation at the user-side",
           "We propose a source rate control scheme for streaming video sequences over wireless channels by resorting on a reduced-reference (RR) quality<br>estimation approach. It works as follows: the server extracts important features of the original video, which are coded and sent through the channel<br>along with the video sequence and then exploited at the decoder to compute the actual quality; the observed quality is analyzed to obtain information<br>on the impact of the source rate at the given system configuration; at the receiver, decisions are taken on the optimal source rate to be [...]"
          ],
          [
           "Proactive elasticity and energy awareness in data stream processing",
           "Data stream processing applications have a long running nature (24 hr/7 d) with workload conditions that may exhibit wide variations at run-time.<br>Elasticity is the term coined to describe the capability of applications to change dynamically their resource usage in response to workload<br>fluctuations. This paper focuses on strategies for elastic data stream processing targeting multicore systems. The key idea is to exploit Model<br>Predictive Control, a control-theoretic method that takes into account the system behavior over a future time horizon in order to decide the [...]"
          ],
          [
           "AdaptStream",
           "Stream-based systems are frequently subject to changes in their operational environments due to fluctuations in the available computation and<br>communication resources. Dynamic adaptation is a mechanism to improve the fitness of such systems. However, adaptation can block one or more streams<br>thus inadvertently affecting the timeliness properties of streams. This paper describes AdaptStream, an adaptation framework that provides timeliness<br>support for stream-based adaptations. We introduce the concept of fluidity to measure the temporal alignment of stream synchronization [...]"
          ],
          [
           "Data-driven memory management for stream join",
           "Memory management is a critical issue in stream processing involving stateful operators such as join. Traditionally, the memory requirement for a<br>stream join is query-driven: a query has to explicitly define a window for each (potentially unbounded) input. The window essentially bounds the size<br>of the buffer allocated for that stream. However, output produced this way may not be desirable (if the window size is not part of the intended query<br>semantic) due to the volatile input characteristics. We discover that when streams are ordered or partially ordered, it is possible to use [...]"
          ],
          [
           "Biologically-Inspired Distributed Middleware Management for Stream Processing Systems",
           "We present a decentralized and dynamic biologically-inspired algorithm for placing dataflow graphs composed of stream processing tasks onto a<br>distributed network of machines, while minimizing the end-to-end latency. Our algorithm responds on-the-fly to placement requests of new flow graphs<br>or to modifications of an already running stream processing flow graph, and dynamically adapts to changes in performance characteristics such as<br>message rates or service times as well as to changes in processor availability or link performance during runtime. Our algorithm is derived by [...]"
          ],
          [
           "Adaptive input admission and management for parallel stream processing",
           "In this paper, we propose a framework for adaptive admission control and management of a large number of dynamic input streams in parallel stream<br>processing engines. The framework takes as input any available information about input stream behaviors and the requirements of the query processing<br>layer, and adaptively decides how to adjust the entry points of streams to the system. As the optimization decisions propagate early from input<br>management layer to the query processing layer, the size of the cluster is minimized, the load balance is maintained, and latency bounds of [...]"
          ],
          [
           "A Game-Theoretic Approach for Elastic Distributed Data Stream Processing",
           "Distributed data stream processing applications are structured as graphs of interconnected modules able to ingest high-speed data and to transform<br>them in order to generate results of interest. Elasticity is one of the most appealing features of stream processing applications. It makes it<br>possible to scale up/down the allocated computing resources on demand in response to fluctuations of the workload. On clouds, this represents a<br>necessary feature to keep the operating cost at affordable levels while accommodating user-defined QoS requirements. In this article, we study [...]"
          ],
          [
           "P-Scheduler",
           "With ever-accelerating data creation rates in Big Data applications, there is a need for efficient stream processing engines. Apache Storm has been of<br>interest in both academia and industry because of its real-time, distributed, scalable and reliable framework for stream processing. In this paper, we<br>propose an adaptive hierarchical scheduler for the Storm framework, to allocate the resources more efficiently and improve performance. In our method,<br>we consider the data transfer rate and traffic pattern between Storm's tasks and assign highly-communicating task pairs to the same [...]"
          ],
          [
           "Henge",
           "We present Henge, a system to support intent-based multi-tenancy in modern distributed stream processing systems. Henge supports multi-tenancy as a<br>first-class citizen: everyone in an organization can now submit their stream processing jobs to a single, shared, consolidated cluster. Secondly,<br>Henge allows each job to specify its own intents (i.e., requirements) as a Service Level Objective (SLO) that captures latency and/or throughput<br>needs. In such an intent-driven multi-tenant cluster, the Henge scheduler adapts continually to meet jobs' respective SLOs in spite of limited [...]"
          ],
          [
           "Providing streaming joins as a service at Facebook",
           "Stream processing applications reduce the latency of batch data pipelines and enable engineers to quickly identify production<br>issues. Many times, a service can log data to distinct streams, even if they relate to the same real-world event (e.g., a search on Facebook's search<br>bar). Furthermore, the logging of related events can appear on the server side with different delay, causing one stream to be significantly behind the<br>other in terms of logged event times for a given log entry. To be able to stitch this information together<br>with low latency , we need to be able to join [...]"
          ],
          [
           "AWStream",
           "The emerging class of wide-area streaming analytics faces the challenge of scarce and variable WAN bandwidth. Non-adaptive applications built with TCP<br>or UDP suffer from increased latency or degraded accuracy. State-of-the-art approaches that adapt to network changes require developer writing sub-<br>optimal manual policies or are limited to application-specific optimizations. We present AWStream, a stream processing system that simultaneously<br>achieves low latency and high accuracy in the wide area, requiring minimal developer efforts. To realize this, AWStream uses three ideas: [...]"
          ],
          [
           "Dhalion",
           "In recent years, there has been an explosion of large-scale real-time analytics needs and a plethora of streaming systems have been developed to<br>support such applications. These systems are able to continue stream processing even when faced with hardware and software failures. However, these<br>systems do not address some crucial challenges facing their operators: the manual, time-consuming and error-prone tasks of tuning various<br>configuration knobs to achieve service level objectives (SLO) as well as the maintenance of SLOs in the face of sudden, unpredictable load [...]"
          ],
          [
           "Latency Aware Elastic Switching-based Stream Processing Over Compressed Data Streams",
           "Elastic scaling of event stream processing systems has gained significant attention recently due to the prevalence of cloud computing technologies. We<br>investigate on the complexities associated with elastic scaling of an event processing system in a private/public cloud scenario. We develop an<br>Elastic Switching Mechanism (ESM) which reduces the overall average latency of event processing jobs by significant amount considering the cost of<br>operating the system. ESM is augmented with adaptive compressing of upstream data. The ESM conducts one of the two types of switching where [...]"
          ],
          [
           "An adaptive replication scheme for elastic data stream processing systems",
           "A major challenge for cloud-based systems is to be fault tolerant to cope with an increasing probability of faults in cloud environments. This is<br>especially true for in-memory computing solutions like data stream processing systems, where a single host failure might result in an unrecoverable<br>information loss. In state of the art data streaming systems either active replication or upstream backup are applied to ensure fault tolerance, which<br>have a high resource overhead or a high recovery time respectively. This paper combines these two fault tolerance mechanisms in one system [...]"
          ],
          [
           "Liquid Stream Processing Across Web Browsers and Web Servers",
           "The recently proposed API definition WebRTC introduced peer-to-peer real time communication between Web browsers, allowing streaming systems to be<br>deployed on browsers in addition to traditional server-side execution environments. While streaming applications can be adapted to run on Web<br>browsers, it remains difficult to deal with temporary disconnections, energy consumption on mobile devices and a potentially very large number of<br>heterogeneous peers that join and leave the execution environment affecting the quality of the stream. In this paper we present the [...]"
          ],
          [
           "Practical Identification of Dynamic Precedence Criteria to Produce Critical Results from Big Data Streams",
           "During periods of high volume, big data stream applications may not have enough resources to process all incoming tuples. To maximize the production<br>of the most critical results under such resource shortages, a recent solution, PR (short for Preferential Result), utilizes both static criteria<br>(defined at compile-time) and dynamic criteria (identified online at run-time) to prioritize the processing of tuples throughout the query pipeline.<br>Unfortunately, locating the optimal criteria placement (i.e., where in the query pipeline to evaluate each prioritization criteria) is [...]"
          ],
          [
           "Achieving self-aware parallelism in stream programs",
           "The age of big data open the door to a new approach in data exploration and utilization. With the increasing complexities and dynamics of modern IT<br>systems and services, it has become a challenge to effectively exploit parallelism on multicore platforms in computing systems that are heterogeneous,<br>dynamic and decentralised. Self-aware software is a response to these demands in dealing with distributed applications in changing environments. It is<br>a closed-loop system with a series of optimization strategies to adjust itself dynamicly during data processing. We focus on [...]"
          ],
          [
           "Dynamic Load Balancing Techniques for Distributed Complex Event Processing Systems",
           "Applying real-time, cost-effective Complex Event processing (CEP) in the cloud has been an important goal in recent years. Distributed Stream<br>Processing Systems (DSPS) have been widely adopted by major computing companies such as Facebook and Twitter for performing scalable event processing<br>in streaming data. However, dynamically balancing the load of the DSPS’ components can be particularly challenging due to the high volume of data, the<br>components’ state management needs, and the low latency processing requirements. Systems should be able to cope with these challenges and [...]"
          ],
          [
           "Design and deployment of a hybrid CDN-P2P system for live video streaming",
           "We present our design and deployment experiences with LiveSky, a commercially deployed hybrid CDN-P2P live streaming system. CDNs and P2P systems are<br>the common techniques used for live streaming, each having its own set of advantages and disadvantages. LiveSky inherits the best of both worlds: the<br>quality control and reliability of a CDN and the inherent scalability of a P2P system. We address several key challenges in the system design and<br>implementation including (a) dynamic resource scaling while guaranteeing stream quality, (b) providing low startup latency, (c) ease of [...]"
          ],
          [
           "JetStream: Enabling high throughput live event streaming on multi-site clouds",
           "Scientific and commercial applications operate nowadays on tens of cloud datacenters around the globe, following similar patterns: they aggregate<br>monitoring or sensor data, assess the QoS or run global data mining queries based on inter-site event stream processing. Enabling fast data transfers<br>across geographically distributed sites allows such applications to manage the continuous streams of events in real time and quickly react to changes.<br>However, traditional event processing engines often consider data resources as second-class citizens and support access to data only as a [...]"
          ],
          [
           "Real-time, load-adaptive processing of continuous queries over data streams",
           "We introduce a new type of query, called a real-time continuous query (RCQ) that captures the real-time requirements of processing data streams. We<br>develop techniques to efficiently process the RCQs in the presence of fluctuating query load and data load. We show that Rate-Monotonic scheduling is<br>applicable to this problem domain, and show how to make this method adaptive to varying load conditions. When a set of queries becomes unschedulable<br>due to load variations, we perform controlled input load shedding by dropping tuples using a novel feedback-based approach to decide which [...]"
          ],
          [
           "Locality-Aware Routing in Stateful Streaming Applications",
           "Distributed stream processing engines continuously execute series of operators on data streams. Horizontal scaling is achieved by deploying multiple<br>instances of each operator in order to process data tuples in parallel. As the application is distributed on an increasingly high number of servers,<br>the likelihood that the stream is sent to a different server for each operator increases. This is particularly important in the case of stateful<br>applications that rely on keys to deterministically route messages to a specific instance of an operator. Since network is a bottleneck for [...]"
          ],
          [
           "Scalable Distributed Stream Join Processing",
           "Efficient and scalable stream joins play an important role in performing real-time analytics for many cloud applications. However, like in<br>conventional database processing, online theta-joins over data streams are computationally expensive and moreover, being memory-based processing, they<br>impose high memory requirement on the system. In this paper, we propose a novel stream join model, called join-biclique, which organizes a large<br>cluster as a complete bipartite graph. Join-biclique has several strengths over state-of-the-art techniques, including memory-efficiency, [...]"
          ],
          [
           "Adaptive streaming of interactive free viewpoint videos to heterogeneous clients",
           "Recent advances in video capturing and rendering technologies have paved the way for new video streaming applications. Free-viewpoint video (FVV)<br>streaming is one such application where users are able to interact with the scene by navigating to different viewpoints. Free-viewpoint videos are<br>composed of multiple streams representing the captured scene and its geometry from different vantage points. Rendering non-captured views at the<br>client requires transmitting multiple views with associated depth map streams, thereby increasing the network traffic requirements for such [...]"
          ],
          [
           "Dynamic Load Balancing for Ordered Data-Parallel Regions in Distributed Streaming Systems",
           "Distributed stream computing has emerged as a technology that can satisfy the low latency, high throughput demands of big data. Stream computing<br>naturally exposes pipeline, task and data parallelism. Meeting the throughput and latency demands of online big data requires exploiting such<br>parallelism across heterogeneous clusters. When a single job is running on a homogeneous cluster, load balancing is important. When multiple jobs are<br>running across a heterogeneous cluster, load balancing becomes critical. The data parallel regions of distributed streaming applications [...]"
          ],
          [
           "Adaptive Stream Processing using Dynamic Batch Sizing",
           "The need for real-time processing of \"big data\" has led to the development of frameworks for distributed stream processing in clusters. It is<br>important for such frameworks to be robust against variable operating conditions such as server failures, changes in data ingestion rates, and<br>workload characteristics. To provide fault tolerance and efficient stream processing at scale, recent stream processing frameworks have proposed to<br>treat streaming workloads as a series of batch jobs on small batches of streaming data. However, the robustness of such frameworks against [...]"
          ],
          [
           "QoS4IVSaaS: a QoS management framework for intelligent video surveillance as a service",
           "Quality of service (QoS) is critical for real-time intelligent video surveillance as a service (IVSaaS) platform, which is both computation intensive<br>and data intensive by nature. However, there is scarce work on a QoS framework for IVSaaS platform. In this paper, we propose QoS for intelligent<br>video surveillance as a service, a QoS framework to make computing resources highly available. In the framework, multiple metrics such as throughput,<br>loads of CPU/GPU, memory and IO are taken into account with different time series models to enhance the adaptivity of different video [...]"
          ],
          [
           "Link-Aware Reconfigurable Point-to-Point Video Streaming for Mobile Devices",
           "Even though people of all social standings use current mobile devices in the wide spectrum of purpose from entertainment tools to<br>communication means, some issues with real-time video streaming in hostile wireless environment still exist. In this article, we introduce<br>CoSA , a link-aware real-time video streaming system for mobile devices. The proposed system utilizes a 3D camera to distinguish<br>the region of importance (ROI) and non-ROI region within the video frame. Based on the link-state feedback from the receiver, the proposed system<br>allocates a higher bandwidth for the [...]"
          ],
          [
           "Toward Massive Query Optimization in Large-Scale Distributed Stream Systems",
           "Existing distributed stream systems adopt a tightly-coupled communication paradigm and focus on fine-tuning of operator placements to achieve<br>communication efficiency. This kind of approach is hard to scale (both to the nodes in the network and the users). In this paper, we propose a<br>fundamentally different approach and present the design of a middleware for optimizing massive queries. Our approach takes the advantages of existing<br>Publish/Subscribe systems (Pub/Sub) to achieve loosely-coupled communication and to “intelligently” exploit the sharing of communication [...]"
          ],
          [
           "A Native and Adaptive Approach for Unified Processing of Linked Streams and Linked Data",
           "In this paper we address the problem of scalable, native and adaptive query processing over Linked Stream Data integrated with Linked Data. Linked<br>Stream Data consists of data generated by stream sources, e.g., sensors, enriched with semantic descriptions, following the standards proposed for<br>Linked Data. This enables the integration of stream data with Linked Data collections and facilitates a wide range of novel applications. Currently<br>available systems use a “black box” approach which delegates the processing to other engines such as stream/event processing engines and SPARQL [...]"
          ],
          [
           "Self-adaptive processing graph with operator fission for elastic stream processing",
           "Nowadays, information generated by the Internet interactions is growing exponentially, creating massive and continuous flows of events from the most<br>diverse sources. These interactions contain valuable information for domains such as government, commerce, and banks, among others. Extracting<br>information in near real-time from such data requires powerful processing tools to cope with the high-velocity and the high-volume stream of events.<br>Specially designed distributed processing engines build a graph-based topology of a static number of processing operators creating bottlenecks [...]"
          ],
          [
           "Avoiding class warfare: managing continuous queries with differentiated classes of service",
           "Data stream management systems (DSMSs) offer the most effective solution for processing data streams by efficiently executing continuous queries (CQs)<br>over the incoming data. CQs inherently have different levels of criticality and hence different levels of expected quality of service (QoS) and<br>quality of data (QoD). Adhering to such expected QoS/QoD metrics is even more important in cases of multi-tenant data stream management services. In<br>this work, we propose DILoS, a framework that, through priority-based scheduling and load shedding, supports differentiated QoS and QoD for [...]"
          ],
          [
           "On the source switching problem of Peer-to-Peer streaming",
           "Peer-to-Peer(P2P) streaming has been proved a popular and efficient paradigm of Internet media streaming. In some applications, such as an Internet<br>video distance education system, there are multiple media sources which work alternately. A fundamental problem in designing such kind of P2P<br>streaming system is how to achieve fast source switching so that the startup delay of the new source can be minimized. In this paper, we propose an<br>efficient solution to this problem. We model the source switch process, formulate it into an optimization problem and derive its theoretical [...]"
          ]
         ],
         "hovertemplate": "Topic=Data Stream Processing Latency<br>x=%{x}<br>y=%{y}<br>title=%{customdata[0]}<br>abstract=%{customdata[1]}<extra></extra>",
         "legendgroup": "Data Stream Processing Latency",
         "marker": {
          "color": "#7f7f7f",
          "size": 5,
          "symbol": "x"
         },
         "mode": "markers",
         "name": "Data Stream Processing Latency",
         "orientation": "v",
         "showlegend": true,
         "type": "scatter",
         "x": [
          7.49492,
          7.912039,
          8.018568,
          8.137956,
          7.503621,
          7.6036787,
          8.45109,
          7.625781,
          7.5383606,
          8.625813,
          8.020403,
          7.584005,
          8.0585,
          8.237421,
          7.9672847,
          8.493475,
          8.137958,
          7.6880302,
          7.9267807,
          8.252326,
          8.630816,
          7.509295,
          7.9906564,
          8.1202965,
          8.331324,
          7.695228,
          7.8276772,
          7.672407,
          8.015422,
          8.194489,
          7.5278044,
          8.417423,
          8.025921,
          8.050489,
          7.7233233,
          7.54148,
          8.12399,
          7.892729,
          8.428791,
          8.28669,
          8.392971,
          8.15799,
          7.9641767,
          8.012274,
          8.359895,
          7.944164,
          8.195956,
          8.092474,
          8.0865965,
          7.7413516,
          8.5021,
          8.275679,
          7.998501,
          7.6641684,
          7.8937473,
          8.5346155,
          8.216104,
          8.433079,
          7.472063,
          8.250466,
          8.001474,
          7.531581,
          7.5419526,
          8.610175,
          8.597824,
          8.172747,
          8.542574,
          7.659407
         ],
         "xaxis": "x",
         "y": [
          17.948128,
          18.790413,
          18.877892,
          18.899078,
          17.971703,
          18.071392,
          19.204407,
          18.067669,
          17.933243,
          19.135164,
          18.932753,
          17.927488,
          19.159185,
          19.322372,
          18.87649,
          19.08239,
          19.048721,
          18.12516,
          19.407822,
          19.149988,
          19.24274,
          18.08152,
          19.460894,
          19.115084,
          19.219536,
          18.113329,
          18.846575,
          18.185972,
          18.973433,
          19.133846,
          17.944263,
          18.80905,
          19.472088,
          19.040424,
          18.101242,
          17.894053,
          19.17806,
          18.844297,
          18.765203,
          18.99476,
          19.111633,
          19.230917,
          18.978144,
          18.975616,
          18.785872,
          18.70829,
          18.9438,
          19.14206,
          19.114286,
          18.422691,
          19.129704,
          19.216331,
          19.265917,
          18.116854,
          18.64157,
          19.139393,
          18.843185,
          18.86231,
          17.922123,
          18.844734,
          18.958748,
          17.903362,
          17.911304,
          18.994051,
          18.995514,
          19.287823,
          19.118128,
          18.100033
         ],
         "yaxis": "y"
        },
        {
         "customdata": [
          [
           "Evolution and Search Based Metrics to Improve Defects Prediction",
           "Testing activity is the most widely adopted practice to ensure software quality. Testing effort should be focused on defect prone and critical<br>resources i.e., on resources highly coupled with other entities of the software application. In this paper, we used search based techniques to define<br>software metrics accounting for the role a class plays in the class diagram and for its evolution over time. We applied Chidamber and Kemerer and the<br>newly defined metrics to Rhino, a Java ECMA script interpreter, to predict version 1.6R5 defect prone classes. Preliminary results show that [...]"
          ],
          [
           "An Extensive Comparison of Bug Prediction Approaches",
           "Reliably predicting software defects is one of software engineering's holy grails. Researchers have devised and implemented a plethora of bug<br>prediction approaches varying in terms of accuracy, complexity and the input data they require. However, the absence of an established benchmark makes<br>it hard, if not impossible, to compare approaches. We present a benchmark for defect prediction, in the form of a publicly available data set<br>consisting of several software systems, and provide an extensive comparison of the explanative and predictive power of well-known bug [...]"
          ],
          [
           "Fault Prediction using Early Lifecycle Data",
           "The prediction of fault-prone modules in a software project has been the topic of many studies. In this paper, we investigate whether metrics<br>available early in the development lifecycle can be used to identify fault-prone software modules. More precisely, we build predictive models using<br>the metrics that characterize textual requirements. We compare the performance of requirements-based models against the performance of code-based<br>models and models that combine requirement and code metrics. Using a range of modeling techniques and the data from three NASA projects, our [...]"
          ],
          [
           "How Good is Your Blind Spot Sampling Policy?",
           "Assessing software costs money and better assessment costs exponentially more money. Given finite budgets, assessment resources are typically skewed<br>towards areas that are believed to be mission critical. This leaves blind spots: portions of the system that may contain defects which may be missed.<br>Therefore, in addition to rigorously assessing mission critical areas, a parallel activity should sample the blind spots. This paper assesses defect<br>detectors based on static code measures as a blind spot sampling method. In contrast to previous results, we find that such defect [...]"
          ],
          [
           "Predicting fault-prone classes with design measures in object-oriented systems",
           "The paper aims at empirically exploring the relationships between existing object oriented coupling, cohesion, and inheritance measures and the<br>probability of fault detection in system classes during testing. The underlying goal of such a study is to better understand the relationship between<br>existing product measurement in OO systems and the quality of the software developed. It is shown that by using a subset of existing measures,<br>accurate models can be built to predict in which classes most of the faults are likely to lie in. By inspecting 48% of the classes, it is possible [...]"
          ],
          [
           "Finding Predictors of Field Defects for Open Source Software Systems in Commonly Available Data Sources: a Case Study of OpenBSD",
           "Open source software systems are important components of many business software applications. Field defect predictions for open source software<br>systems may allow organizations to make informed decisions regarding open source software components. In this paper, we remotely measure and analyze<br>predictors (metrics available before release) mined from established data sources (the code repository and the request tracking system) as well as a<br>novel source of data (mailing list archives) for nine releases of OpenBSD. First, we attempt to predict field defects by extending a [...]"
          ],
          [
           "Validation of the coupling dependency metric as a predictor of run-time failures and maintenance measures",
           "The coupling dependency metric (CDM) is a successful design quality metric. Here we apply it to four case studies: run-time failure data for a COBOL<br>registration system; maintenance data for a C text-processing utility; maintenance data for a C++ patient collaborative care system; and maintenance<br>data for a Java electronic file transfer facility. CDM outperformed a wide variety of competing metrics in predicting run-time failures and a number<br>of different maintenance measures. These results imply that coupling metrics may be good predictors of levels of interaction within a [...]"
          ],
          [
           "Code churn: a measure for estimating the impact of code change",
           "This study presents a methodology that will produce a viable fault surrogate. The focus of the effort is on the precise measurement of software<br>development process and product outcomes. Tools and processes for the static measurement of the source code have been installed and made operational<br>in a large embedded software system. Source code measurements have been gathered unobtrusively for each build in the software evolution process. The<br>measurements are synthesized to obtain the fault surrogate. The complexity of sequential builds is compared and a new measure, code churn, [...]"
          ],
          [
           "An Investigation of the Relationships between Lines of Code and Defects",
           "It is always desirable to understand the quality of a software system based on static code metrics. In this paper, we analyze the relationships<br>between Lines of Code (LOC) and defects (including both pre-release and post-release defects). We confirm the ranking ability of (LOC) discovered by<br>Fenton and Ohlsson. Furthermore, we find that the ranking ability of LOC can be formally described using Weibull functions. We can use defect density<br>values calculated from a small percentage of largest modules to predict the number of total defects accurately. We also find that, given LOC [...]"
          ],
          [
           "Defect Prediction Using Combined Product and Project Metrics a Case Study from the Open Source “Apache” MyFaces Project Family",
           "The quality evaluation of open source software (OSS) products, e.g., defect estimation and prediction approaches of individual releases, gains<br>importance with increasing OSS adoption in industry applications. Most empirical studies on the accuracy of defect prediction and software maintenance<br>focus on product metrics as predictors that are available only when the product is finished. Only few prediction models consider information on the<br>development process (project metrics) that seems relevant to quality improvement of the software product. In this paper, we investigate [...]"
          ],
          [
           "Using Historical In-Process and Product Metrics for Early Estimation of Software Failures",
           "The benefits that a software organization obtains from estimates of product quality are dependent upon how early in the product cycle that these<br>estimates are available. Early estimation of software quality can help organizations make informed decisions about corrective actions. To provide such<br>early estimates we present an empirical case study of two large scale commercial operating systems, Windows XP and Windows Server 2003. In particular,<br>we leverage various historical in-process and product metrics from Windows XP binaries to create statistical predictors to estimate the [...]"
          ],
          [
           "New Conceptual Coupling and Cohesion Metrics for Object-Oriented Systems",
           "The paper presents two novel conceptual metrics for measuring coupling and cohesion in software systems. Our first metric, Conceptual Coupling between<br>Object classes (CCBO), is based on the well-known CBO coupling metric, while the other metric, Conceptual Lack of Cohesion on Methods (CLCOM5), is<br>based on the LCOM5 cohesion metric. One advantage of the proposed conceptual metrics is that they can be computed in a simpler (and in many cases,<br>programming language independent) way as compared to some of the structural metrics. We empirically studied CCBO and CLCOM5 for predicting [...]"
          ],
          [
           "Using the Conceptual Cohesion of Classes for Fault Prediction in Object-Oriented Systems",
           "High cohesion is a desirable property of software as it positively impacts understanding, reuse, and maintenance. Currently proposed measures for<br>cohesion in Object-Oriented (OO) software reflect particular interpretations of cohesion and capture different aspects of it. Existing approaches are<br>largely based on using the structural information from the source code, such as attribute references, in methods to measure cohesion. This paper<br>proposes a new measure for the cohesion of classes in OO software systems based on the analysis of the unstructured information embedded in the [...]"
          ],
          [
           "Empirical Validation of Three Software Metrics Suites to Predict Fault-Proneness of Object-Oriented Classes Developed Using Highly Iterative or Agile Software Development Processes",
           "Empirical validation of software metrics suites to predict fault proneness in object-oriented (OO) components is essential to ensure their practical<br>use in industrial settings. In this paper, we empirically validate three OO metrics suites for their ability to predict software quality in terms of<br>fault-proneness: the Chidamber and Kemerer (CK) metrics, Abreu's Metrics for Object-Oriented Design (MOOD), and Bansiya and Davis' Quality Metrics for<br>Object-Oriented Design (QMOOD). Some CK class metrics have previously been shown to be good predictors of initial OO software quality. [...]"
          ],
          [
           "Empirical validation of object-oriented metrics on open source software for fault prediction",
           "Open source software systems are becoming increasingly important these days. Many companies are investing in open source projects and lots of them are<br>also using such software in their own work. But, because open source software is often developed with a different management style than the industrial<br>ones, the quality and reliability of the code needs to be studied. Hence, the characteristics of the source code of these projects need to be measured<br>to obtain more information about it. This paper describes how we calculated the object-oriented metrics given by Chidamber and [...]"
          ],
          [
           "Predicting fault incidence using software change history",
           "This paper is an attempt to understand the processes by which software ages. We define code to be aged or decayed if its structure makes it<br>unnecessarily difficult to understand or change and we measure the extent of decay by counting the number of faults in code in a period of time. Using<br>change management data from a very large, long-lived software system, we explore the extent to which measurements from the change history are<br>successful in predicting the distribution over modules of these incidences of faults. In general, process measures based on the change history [...]"
          ],
          [
           "Predicting defects using network analysis on dependency graphs",
           "In software development, resources for quality assurance are limited by time and by cost. In order to allocate resources effectively, managers need to<br>rely on their experience backed by code complexity metrics. But often dependencies exist between various pieces of code over which managers may have<br>little knowledge. These dependencies can be construed as a low level graph of the entire system. In this paper, we propose to use network analysis on<br>these dependency graphs. This allows managers to identify central program units that are more likely to face defects. In our evaluation [...]"
          ],
          [
           "An application of fuzzy clustering to software quality prediction",
           "The ever increasing demand for high software reliability requires more robust modeling techniques for software quality prediction. The paper presents<br>a modeling technique that integrates fuzzy subtractive clustering with module-order modeling for software quality prediction. First fuzzy subtractive<br>clustering is used to predict the number of faults, then module-order modeling is used to predict whether modules are fault-prone or not. Note that<br>multiple linear regression is a special case of fuzzy subtractive clustering. We conducted a case study of a large legacy [...]"
          ],
          [
           "Predicting faults using the complexity of code changes",
           "Predicting the incidence of faults in code has been commonly associated with measuring complexity. In this paper, we propose complexity metrics that<br>are based on the code change process instead of on the code. We conjecture that a complex code change process negatively affects its product, i.e.,<br>the software system. We validate our hypothesis empirically through a case study using data derived from the change history for six large open source<br>projects. Our case study shows that our change complexity metrics are better predictors of fault potential in comparison to other well- [...]"
          ],
          [
           "Metrics That Matter",
           "Within NASA, there is an increasing awareness that software is of growing importance to the success of missions. Much data has been collected, and<br>many theories have been advanced on how to reduce or eliminate errors in code. However, learning requires experience. This article documents a new<br>NASA initiative to build a centralized repository of software defect data; in particular, it documents one specific case study on software metrics.<br>Software metrics are used as a basis for prediction of errors in code modules, but there are many different metrics available. McCabe is one of [...]"
          ],
          [
           "Change Bursts as Defect Predictors",
           "In software development, every change induces a risk. What happens if code changes again and again in some period of time? In an empirical study on<br>Windows Vista, we found that the features of such change bursts have the highest predictive power for defect-prone components. With precision and<br>recall values well above 90%, change bursts significantly improve upon earlier predictors such as complexity metrics, code churn, or organizational<br>structure. As they only rely on version history and a controlled change process, change bursts are straight-forward to detect and deploy."
          ],
          [
           "Ineffectiveness of Use of Software Science Metrics as Predictors of Defects in Object Oriented Software",
           "Software science metrics (SSM) have been widely used as predictors of software defects. The usage of SSM is an effect of correlation of size and<br>complexity metrics with number of defects. The SSM have been proposed keeping in view the procedural paradigm and structural nature of the programs.<br>There has been a shift in software development paradigm from procedural to object oriented (OO) and SSM have been used as defect predictors of OO<br>software as well. However, the effectiveness of SSM in OO software needs to be established. This paper investigates the effectiveness of use of [...]"
          ],
          [
           "Prediction of fault-proneness at early phase in object-oriented development",
           "To analyse the complexity of object-oriented software, several metrics have been proposed. Among them, Chidamber and Kemerer's (1994) metrics are<br>well-known object-oriented metrics. Also, their effectiveness has been empirically evaluated from the viewpoint of estimating the fault-proneness of<br>object-oriented software. In the evaluations, these metrics were applied, not to the design specification but to the source code, because some of them<br>measure the inner complexity of a class, and such information cannot be obtained until the algorithm and the class structure are determined [...]"
          ],
          [
           "On the Relationship between Change Coupling and Software Defects",
           "Change coupling is the implicit relationship between two or more software artifacts that have been observed to frequently change together during the<br>evolution of a software system. Researchers have studied this dependency and have observed that it points to design issues such as architectural<br>decay. It is still unknown whether change coupling correlates with a tangible effect of design issues, i.e., software defects. In this paper we<br>analyze the relationship between change coupling and software defects on three large software systems. We investigate whether change [...]"
          ],
          [
           "Predicting fault-proneness using OO metrics. An industrial case study",
           "Software quality is an important external software attribute that is difficult to measure objectively. In this case study, we empirically validate a<br>set of object-oriented metrics in terms of their usefulness in predicting fault-proneness, an important software quality indicator We use a set of ten<br>software product metrics that relate to the following software attributes: the size of the software, coupling, cohesion, inheritance, and reuse. Eight<br>hypotheses on the correlations of the metrics with fault-proneness are given. These hypotheses are empirically tested in a case study, [...]"
          ],
          [
           "An Empirical Approach for Software Fault Prediction",
           "Measuring software quality in terms of fault proneness of data can help the tomorrow's programmers to predict the fault prone areas in the projects<br>before development. Knowing the faulty areas early from previous developed projects can be used to allocate experienced professionals for development<br>of fault prone modules. Experienced persons can emphasize the faulty areas and can get the solutions in minimum time and budget that in turn increases<br>software quality and customer satisfaction. We have used Fuzzy C Means clustering technique for the prediction of faulty/non-faulty [...]"
          ],
          [
           "An Empirical Study on Object-Oriented Metrics and Software Evolution in order to Reduce Testing Costs by Predicting Change-Prone Classes",
           "Software maintenance cost is typically more than fifty percent of the cost of the total software life cycle and software testing plays a critical role<br>in reducing it. Determining the critical parts of a software system is an important issue, because they are the best place to start testing in order<br>to reduce cost and duration of tests. Software quality is an important key factor to determine critical parts since high quality parts of software are<br>less error prone and easy to maintain. As object oriented software metrics give important evidence about design quality, they can help [...]"
          ],
          [
           "A study on fault-proneness detection of object-oriented systems",
           "Fault-proneness detection in object-oriented systems is an interesting area for software companies and researchers. Several hundred metrics have been<br>defined with the aim of measuring the different aspects of object-oriented systems. Only a few of them have been validated for fault detection, and<br>several interesting works with this view have been considered. This paper reports a research study starting from the analysis of more than 200<br>different object-oriented metrics extracted from the literature with the aim of identifying suitable models for the detection of the fault- [...]"
          ],
          [
           "Merits of using repository metrics in defect prediction for open source projects",
           "Many corporate code developers are the beta testers of open source software.They continue testing until they are sure that they have a stable version<br>to build their code on. In this respect defect predictors play a critical role to identify defective parts of the software. Performance of a defect<br>predictor is determined by correctly finding defective parts of the software without giving any false alarms. Having high false alarms means testers/<br>developers would inspect bug free code unnecessarily. Therefore in this research we focused on decreasing the false alarm rates by using [...]"
          ],
          [
           "Empirical Analysis of Software Fault Content and Fault Proneness Using Bayesian Methods",
           "We present a methodology for Bayesian analysis of software quality. We cast our research in the broader context of constructing a causal framework<br>that can include process, product, and other diverse sources of information regarding fault introduction during the software development process. In<br>this paper, we discuss the aspect of relating internal product metrics to external quality metrics. Specifically, we build a Bayesian network (BN)<br>model to relate object-oriented software metrics to software fault content and fault proneness. Assuming that the relationship can be [...]"
          ],
          [
           "Empirical Analysis of Object-Oriented Design Metrics for Predicting High and Low Severity Faults",
           "In the last decade, empirical studies on object-oriented design metrics have shown some of them to be useful for predicting the fault-proneness of<br>classes in object-oriented software systems. This research did not, however, distinguish among faults according to the severity of impact. It would be<br>valuable to know how object-oriented design metrics and class fault-proneness are related when fault severity is taken into account. In this paper, we<br>use logistic regression and machine learning methods to empirically investigate the usefulness of object-oriented design metrics, [...]"
          ],
          [
           "The confounding effect of class size on the validity of object-oriented metrics",
           "Much effort has been devoted to the development and empirical validation of object-oriented metrics. The empirical validations performed thus far<br>would suggest that a core set of validated metrics is close to being identified. However, none of these studies allow for the potentially confounding<br>effect of class size. We demonstrate a strong size confounding effect and question the results of previous object-oriented metrics validation studies.<br>We first investigated whether there is a confounding effect of class size in validation studies of object-oriented metrics and show that, [...]"
          ],
          [
           "Predicting fault-prone software modules in telephone switches",
           "An empirical study was carried out at Ericsson Telecom AB to investigate the relationship between several design metrics and the number of function<br>test failure reports associated with software modules. A tool, ERIMET, was developed to analyze the design documents automatically. Preliminary<br>results from the study of 130 modules showed that: based on fault and design data one can satisfactorily build, before coding has started, a<br>prediction model for identifying the most fault-prone modules. The data analyzed show that 20 percent of the most fault-prone modules account for [...]"
          ],
          [
           "The influence of organizational structure on software quality",
           "Often software systems are developed by organizations consisting of many teams of individuals working together. Brooks states in the Mythical Man<br>Month book that product quality is strongly affected by organization structure. Unfortunately there has been little empirical evidence to date to<br>substantiate this assertion. In this paper we present a metric scheme to quantify organizational complexity, in relation to the product development<br>process to identify if the metrics impact failure-proneness. In our case study, the organizational metrics when applied to data from Windows [...]"
          ],
          [
           "A comparative analysis of the efficiency of change metrics and static code attributes for defect prediction",
           "In this paper we present a comparative analysis of the predictive power of two different sets of metrics for defect prediction. We choose one set of<br>product related and one set of process related software metrics and use them for classifying Java files of the Eclipse project as defective respective<br>defect-free. Classification models are built using three common machine learners: logistic regression, Naïve Bayes, and decision trees. To allow<br>different costs for prediction errors we perform cost-sensitive classification, which proves to be very successful: >75% percentage of [...]"
          ],
          [
           "Use of relative code churn measures to predict system defect density",
           "Software systems evolve over time due to changes in requirements, optimization of code, fixes for security and reliability bugs etc. Code churn, which<br>measures the changes made to a component over a period of time, quantifies the extent of this change. We present a technique for early prediction of<br>system defect density using a set of relative code churn measures that relate the amount of churn to other variables such as component size and the<br>temporal extent of churn.Using statistical regression models, we show that while absolute measures of code churn are poor predictors of [...]"
          ],
          [
           "Evaluating the impact of object-oriented design on software quality",
           "Describes the results of a study where the impact of object-oriented (OO) design on software quality characteristics is experimentally evaluated. A<br>suite of Metrics for OO Design (MOOD) was adopted to measure the use of OO design mechanisms. Data collected on the development of eight small-sized<br>information management systems based on identical requirements were used to assess the referred impact. Data obtained in this experiment show how OO<br>design mechanisms such as inheritance, polymorphism, information hiding and coupling, can influence quality characteristics like [...]"
          ],
          [
           "Can Cohesion Predict Fault Density?",
           "Cohesion is an internal software attribute which depicts how well the components of a software module are connected. It is thought of as having effect<br>on the quality of the software system. This paper presents the results of an empirical investigation of whether cohesion of object-oriented systems<br>plays a role on software reliability. The paper presents a study of the correlation between cohesion measures and the number of defects in software<br>systems, using seven open source projects."
          ],
          [
           "Predicting Defects for Eclipse",
           "We have mapped defects from the bug database of Eclipse (one of the largest open-source projects) to source code locations. The resulting data set<br>lists the number of pre- and post-release defects for every package and file in the Eclipse releases 2.0, 2.1, and 3.0. We additionally annotated the<br>data with common complexity metrics. All data is publicly available and can serve as a benchmark for defect prediction models."
          ],
          [
           "Predicting Defects in SAP Java Code: An Experience Report",
           "Which components of a large software system are the most defect-prone? In a study on a large SAP Java system, we evaluated and compared a number of<br>defect predictors, based on code features such as complexity metrics, static error detectors, change frequency, or component imports, thus replicating<br>a number of earlier case studies in an industrial context. We found the overall predictive power to be lower than expected; still, the resulting<br>regression models successfully predicted 50–60% of the 20% most defect-prone components."
          ],
          [
           "Using product, process, and execution metrics to predict fault-prone software modules with classification trees",
           "Software-quality classification models can make predictions to guide improvement efforts to those modules that need it the most. Based on software<br>metrics, a model can predict which modules will be considered fault-prone, or not. We consider a module fault-prone if any faults were discovered by<br>customers. Useful predictions are contingent on the availability of candidate predictors that are actually related to faults discovered by customers.<br>With a diverse set of candidate predictors in hand, classification-tree modeling is a robust technique for building such software quality [...]"
          ],
          [
           "Assessing UML Design Metrics for Predicting Fault-prone Classes in a Java System",
           "Identifying and fixing software problems before implementation are believed to be much cheaper than after implementation. Hence, it follows that<br>predicting fault-proneness of software modules based on early software artifacts like software design is beneficial as it allows software engineers to<br>perform early predictions to anticipate and avoid faults early enough. Taking this motivation into consideration, in this paper we evaluate the<br>usefulness of UML design metrics to predict fault-proneness of Java classes. We use historical data of a significant industrial Java system to [...]"
          ],
          [
           "A comprehensive empirical validation of design measures for object-oriented systems",
           "This paper aims at empirically exploring the relationships between existing object-oriented coupling, cohesion, and inheritance measures and the<br>probability of fault detection in system classes during testing. The underlying goal of such a study is to better understand the relationship between<br>existing design measurement in OO systems and the quality of the software developed. Results show that many of the measures capture similar dimensions<br>in the data set, thus reflecting the fact that many of them are based on similar principles and hypotheses. Besides the size of classes, [...]"
          ],
          [
           "An empirical study on object-oriented metrics",
           "The objective of this study is the investigation of the correlation between object-oriented design metrics and the likelihood of the occurrence of<br>object oriented faults. Such a relationship, if identified, can be utilized to select effective testing techniques that take the characteristics of<br>the program under test into account. Our empirical study was conducted on three industrial real-time systems that contain a number of natural faults<br>reported for the past three years. The faults found in these three systems are classified into three types: object-oriented faults, object [...]"
          ],
          [
           "Using Software Dependencies and Churn Metrics to Predict Field Failures: An Empirical Case Study",
           "Commercial software development is a complex task that requires a thorough understanding of the architecture of the software system. We analyze the<br>Windows Server 2003 operating system in order to assess the relationship between its software dependencies, churn measures and post-release failures.<br>Our analysis indicates the ability of software dependencies and churn measures to be efficient predictors of post-release failures. Further, we<br>investigate the relationship between the software dependencies and churn measures and their ability to assess failure-proneness probabilities [...]"
          ],
          [
           "Data Mining Static Code Attributes to Learn Defect Predictors",
           "The value of using static code attributes to learn defect predictors has been widely debated. Prior work has explored issues like the merits of<br>\"McCabes versus Halstead versus lines of code counts\" for generating defect predictors. We show here that such debates are irrelevant since how the<br>attributes are used to build predictors is much more important than which particular attributes are used. Also, contrary to prior pessimism, we show<br>that such defect predictors are demonstrably useful and, on the data studied here, yield predictors with a mean probability of detection of 71 [...]"
          ],
          [
           "Assessing the applicability of fault-proneness models across object-oriented software projects",
           "A number of papers have investigated the relationships between design metrics and the detection of faults in object-oriented software. Several of<br>these studies have shown that such models can be accurate in predicting faulty classes within one particular software product. In practice, however,<br>prediction models are built on certain products to be used on subsequent software development projects. How accurate can these models be, considering<br>the inevitable differences that may exist across projects and systems? Organizations typically learn and change. From a more general [...]"
          ],
          [
           "A validation of object-oriented design metrics as quality indicators",
           "This paper presents the results of a study in which we empirically investigated the suite of object-oriented (OO) design metrics introduced in<br>(Chidamber and Kemerer, 1994). More specifically, our goal is to assess these metrics as predictors of fault-prone classes and, therefore, determine<br>whether they can be used as early quality indicators. This study is complementary to the work described in (Li and Henry, 1993) where the same suite<br>of metrics had been used to assess frequencies of maintenance changes to classes. To perform our validation accurately, we collected data on [...]"
          ]
         ],
         "hovertemplate": "Topic=Software Fault Prediction Metrics<br>x=%{x}<br>y=%{y}<br>title=%{customdata[0]}<br>abstract=%{customdata[1]}<extra></extra>",
         "legendgroup": "Software Fault Prediction Metrics",
         "marker": {
          "color": "#bcbd22",
          "size": 5,
          "symbol": "x"
         },
         "mode": "markers",
         "name": "Software Fault Prediction Metrics",
         "orientation": "v",
         "showlegend": true,
         "type": "scatter",
         "x": [
          -2.2434955,
          -2.0497246,
          -1.8633864,
          -2.1144004,
          -2.051585,
          -2.2826767,
          -2.2366858,
          -2.3738546,
          -2.264374,
          -2.2708395,
          -2.2462416,
          -2.1697044,
          -2.1649625,
          -2.0239873,
          -2.0279047,
          -2.2365541,
          -2.194262,
          -1.5957222,
          -2.3573506,
          -2.0360434,
          -2.36269,
          -2.0221574,
          -2.026782,
          -2.3763778,
          -1.9715494,
          -1.6966609,
          -2.123721,
          -1.94086,
          -2.37224,
          -1.6167718,
          -1.9303685,
          -2.0894382,
          -1.8052747,
          -2.261819,
          -2.332408,
          -2.3406138,
          -2.1069999,
          -2.2212143,
          -2.3029544,
          -2.2635696,
          -1.7004957,
          -1.8849074,
          -2.061984,
          -2.0425336,
          -2.2866673,
          -2.199926,
          -1.8896089,
          -2.0419657
         ],
         "xaxis": "x",
         "y": [
          19.892897,
          19.263723,
          19.957113,
          19.189291,
          20.615028,
          19.57184,
          20.62256,
          20.228827,
          19.576248,
          19.627285,
          20.04899,
          20.709646,
          20.625338,
          20.657976,
          20.611076,
          20.03614,
          19.66793,
          19.56988,
          20.191456,
          20.009897,
          19.981901,
          20.559175,
          20.746367,
          20.296938,
          20.652409,
          19.72664,
          20.665691,
          20.720991,
          19.609636,
          19.75775,
          20.605364,
          20.808777,
          20.065083,
          20.365843,
          19.63683,
          20.05756,
          20.796776,
          20.509516,
          19.570503,
          19.533827,
          19.658506,
          20.49915,
          20.720522,
          20.761255,
          20.10746,
          19.214785,
          20.462233,
          20.742088
         ],
         "yaxis": "y"
        },
        {
         "customdata": [
          [
           "An Approach to Manage and Customize Variability in Software Processes",
           "Resumo — Este artigo apresenta uma abordagem para gerencia e customizaçâo de variabilidades em processos de software. A abordagem oferece suporte para<br>a manipulaçâo automâtica de variaçöes ocorrendo em especificaçöes de processos, e promove a derivaçâo automâtica de customizaçöes especıficas de tais<br>processos. De forma a validar e demonstrar os benefıcios da abordagem, o artigo apresenta uma implementaçâo da abordagem que permite a customizaçâo de<br>processos especificados no Eclipse Processo Framework (EPF)."
          ],
          [
           "Process lines: a product line approach designed for process model development",
           "Standard process models like RUP or the German V-Modell XT are developed to be used in an organizational environment. Yet introducing such a process<br>model into an organization is no simple task. It is usually accompanied by either reorganizing internal processes to comply with a standard process<br>model or by adaptation of the process model to organizational structures. The latter is an approach that can often be found in practice and is subject<br>to this paper. The paper describes a generalization of the process model architecture of the V-Modell XT 1.3. Compared to the previous [...]"
          ],
          [
           "Definition of Software Process Lines for Integration of Scrum and CMMI",
           "The adoption of Agile Methods, like Scrum, in conjunction with maturity models, like Capability Maturity Model Integration (CMMI), often leads to<br>variation of process. Process definition is a complex and difficult task, requiring a lot of effort and experience. Software Process Line (SPrL) has<br>been considered a suitable paradigm for software process tailoring and reuse; and there is a lack of approaches that use SPrL concepts for modeling<br>these approaches in conjunction. This paper presents the definition of a SPrL considering Project Planning and Project Monitoring and Control [...]"
          ],
          [
           "Applying AOSE Concepts to Model Crosscutting Variability in Variant-Rich Processes",
           "Software process models need to be variant-rich, in the sense that they should be systematically customizable to specific project goals and project<br>environments. It is currently very difficult to model Variant-Rich Process (VRP) because variability mechanisms are largely missing in modern process<br>modeling languages. Variability mechanisms from other domains, such as programming languages, might be suitable for the representation of variability<br>and could be adapted to the modeling of software processes. Mechanisms from Software Product Line Engineering (SPLE) and concepts from [...]"
          ],
          [
           "Deriving Project-Specific Processes from Process Line Architecture with Commonality and Variability",
           "Definition and utilization of project-specific processes is important for effectively conducting industrial information system development. Process<br>tailoring is an approach of achieving processes optimized for the characteristics of a project. However, conventional tailoring techniques such as<br>component-based ones and generator ones lack a way to address the overall consistency or reuse process fragments. In this paper, we propose a<br>technique for establishing process lines, which are sets of common processes in particular problem domains, and process line architectures [...]"
          ],
          [
           "Software process reuse in an industrial setting",
           "The paper describes a method for creating reusable processes and the authors' experience using them in an industrial environment. A notation and<br>process for creating and tailoring reusable processes is described and applied to the building of a 120 process library at PRC Inc. Initial data<br>collected on use of the library indicates large potential payoffs from process reuse such as a 10 to 1 improvement in the time to develop a project<br>specific process."
          ],
          [
           "Activity-Based Software Process Lines Tailoring",
           "Software process definition requires choosing the process elements that appropriately fulfil the tailoring requirements, such as to prevent risks or<br>to satisfy quality goals. The selection of appropriate process elements is usually done manually, making this process complex, time-consuming and<br>error-prone. Our main objective is to define a systematic approach to tailor software process and a support tool to simplify and to support the<br>tailoring process by improving the selection process of reusable process elements. We developed a systematic approach to tailor software process [...]"
          ],
          [
           "Integrated Software Process and Product Lines",
           "Increasing demands imposed on software-intensive systems will require more rigorous engineering and management of software artifacts and processes.<br>Software product line engineering allows for the effective reuse of software artifacts based on the pro-active organization of similar artifacts<br>according to similarities and variances. Software processes – although also variable across projects – are still not managed in a similar systematic<br>way. This paper motivates the need for Software Process Lines similar to Product Lines. As a result of such organization, processes within [...]"
          ],
          [
           "Scoping software process lines",
           "Abstract Defining organization‐specific process standards by integrating, harmonizing, and standardizing heterogeneous and often implicit processes is<br>an important task, especially for large development organizations. On the one hand, such a standard must be generic enough to cover all of the<br>organization's development activities; on the other hand, it must be as detailed and precise as possible to support employees' daily work. Today,<br>organizations typically maintain and advance a plethora of individual processes, each addressing specific problems. This requires enormous [...]"
          ],
          [
           "On the use of variability operations in the V‐Modell XT software process line",
           "Abstract Software process lines provide a systematic approach to develop and manage software processes. It defines a reference process containing<br>general process assets, whereas a well‐defined customization approach allows process engineers to create new process variants, for example, by<br>extending or modifying process assets. Variability operations are an instrument to realize flexibility by explicitly declaring required modifications,<br>which are applied to create a procedurally generated company‐specific process. However, little is known about which variability operations [...]"
          ],
          [
           "Software process line discovery",
           "Companies define software processes for planning and guiding projects. Since process definition is expensive, and in practice, no one process \"fits<br>all\" projects, the current trend is to define a Software Process Line (SPrL): a base process that represents the common process elements, along with<br>its potential variability. Specifying a SPrL is more expensive than just specifying one process, but the SPrL can be adapted to specific project<br>contexts, minimizing the amount of extra work carried out by employees. Mining project logs has proven to be a promising approach for [...]"
          ],
          [
           "Using megamodeling to improve industrial adoption of complex MDE solutions",
           "Companies formalize their software processes as a way of organizing their development projects. As each project has its own requirements and<br>objectives, a family of processes is required in practice, in order to ensure that each project is handled appropriately. This family may be a<br>collection of predefined processes, but can also be automatically generated by tailoring a general process to a project’s context which requires<br>formalization and tool support to be successful. Model-driven engineering provides a formal framework for defining the models and [...]"
          ],
          [
           "MDE software process lines in small companies",
           "Software organizations specify their software processes so that process knowledge can be systematically reused across projects. However, different<br>projects may require different processes. Defining a separate process for each potential project context is expensive and error-prone, since these<br>processes must simultaneously evolve in a consistent manner. Moreover, an organization cannot envision all possible project contexts in advance<br>because several variables may be involved, and these may also be combined in different ways. This problem is even worse in small companies since [...]"
          ],
          [
           "Building Software Process Line Architectures from Bottom Up",
           "In this paper, we propose a technique for establishing process lines, which are sets of common processes in particular problem domains, and process<br>line architectures that incorporate commonality and variability. Process line architectures are used as a basis for deriving process lines from the<br>perspective of overall optimization. The proposed technique includes some extensions to the Software Process Engineering Metamodel for clearly<br>expressing the commonality and variability in the process workflows described as UML activity diagrams. As a result of applying the proposed [...]"
          ],
          [
           "Acquisition of a Project-Specific Process",
           "Currently, proposed development processes are often considered too generic for operational use. This often leads to a misunderstanding of the project-<br>specific processes and its refuse. One reason for non-appropriate project-specific processes is insufficient support for the tailoring of generic<br>processes to project characteristics and context constraints. To tackle this problem, we propose a method for the acquisition of a project-specific<br>process. This method uses a domain-specific process line for top-down process tailoring and supports bottom-up refinement of the defined [...]"
          ],
          [
           "Odyssey-ProcessCase",
           "Software processes have been the focus of discussion in the literature, but defining a software process that meets project-specific needs remains a<br>challenge. The Software Process Line (SPrL) technique offers a systematic to identify processes' similarities and variability to support software<br>process reuse. Based on a literature review analysis, a concentration of SPrL approaches that use mapping/rules techniques to support project-specific<br>software process definition was observed. However, the knowledge acquisition process required by this kind of technique is not trivial, due [...]"
          ],
          [
           "Development of Situational Requirements Engineering Processes: A Process Factory Approach",
           "The Software Product Line (SPL) approach is a paradigm for systematic reuse of software products, and a Software Factory is a SPL aimed at the<br>industrialization of software development. Based on the notion that a software/RE process can be developed via an engineering process (much akin to<br>engineering other types of software), this research aims to provide a feature-based RE process factory to develop RE processes based on the<br>characteristics of the project at hand (project situation). In our approach, the project situation is modeled as the problem domain through using [...]"
          ],
          [
           "A megamodel for Software Process Line modeling and evolution",
           "Companies formalize software processes as a way of organizing development projects. Since there are differences in project contexts, a one-size-fits-<br>all approach does not work well in practice. Some companies use a family of a predefined processes, but this approach has a high process maintenance<br>cost. Instead, we define Software Process Lines (SPrL), where a general process with variability is tailored to project contexts. Model- Driven<br>Engineering (MDE) provides a formal framework for defining the models and transformations required for automated SPrL tailoring. However, [...]"
          ],
          [
           "Leveraging CVL to Manage Variability in Software Process Lines",
           "Variability on project requirements often implies variability on software processes. To manage such variability, Software Process Lines (SPLs) can be<br>used to represent commonality (i.e., common practices) and variability (i.e., differences) of a set of related software processes. To this end, some<br>Software Process Modeling Languages (SPMLs) natively integrate variability mechanisms. Nevertheless, such a coupling between the SPML and the<br>variability mechanisms i) requires to interpret the requirements variability in terms of the processes variability, ii) limits the reuse of [...]"
          ],
          [
           "Variability in Software Process Models: Requirements for Adoption in Industrial Settings",
           "It is an increasing trend to apply Software Product Line (SPL) concepts and techniques for software process tailoring, generating a Software PRocess<br>Line (SPrL). However, there are several aspects that must be addressed before SPrLs can be fully adopted by industry, a key aspect being how software<br>process variability is specified and managed. In the literature, there are several general-purpose as well as domain-specific proposals for specifying<br>process variability. In this paper, we analyze the benefits and drawbacks of two general-purpose (feature models and OVM) and two [...]"
          ],
          [
           "Towards Systematic Compliance Evaluation Using Safety-Oriented Process Lines and Evidence Mapping",
           "The role of software is growing in safety related systems. This underlines the need for software process assessment in many safety-critical domains.<br>For example, the nuclear power industry has strict safety requirements for control systems and many methods are applied to evaluate compliance to<br>domain specific standards and requirements. This paper discusses the needs of the nuclear domain and presents alternatives to develop a process<br>assessment method that takes into account domain specific requirements. The aim is to provide an approach that facilitates the use of [...]"
          ],
          [
           "Representing Process Variation with a Process Family",
           "The formalization of process definitions has been an invaluable aid in many domains. However, noticeable variations in processes start to emerge as<br>precise details are added to process definitions. While each such variation gives rise to a different process, these processes might more usefully be<br>considered as variants of each other, rather than completely different processes. This paper proposes that it is beneficial to regard such an<br>appropriately close set of process variants as a process family. The paper suggests a characterization of what might comprise a process family [...]"
          ],
          [
           "Applying System Families Concepts to Requirements Engineering Process Definition",
           "In this paper, some experiences gained during the definition of a unified, common software development process for several companies in Telvent are<br>presented. Last year, Telvent made the decision of developing a unique software development process which was flexible enough to be adapted to<br>specific practices and needs of the different companies. In this paper we focus mainly on the experiences gained during the definition of the<br>requirements engineering process, al-though many of them are also applicable to other software development processes. One of the most [...]"
          ],
          [
           "A Process Family Approach for the reuse of development processes",
           "Development processes are often newly defined for every project. However, a reuse of the process knowledge between different projects rarely takes<br>place. In this paper, we present a concept which permits a general reuse of process knowledge on the basis of the process family approach and as well<br>the project individual customization of processes according to a mass customization."
          ],
          [
           "Development of flexible software process lines with variability operations",
           "Context: Software processes evolve over time and several approaches were proposed to support the required flexibility. Yet, little is known whether<br>these approaches sufficiently support the development of large software processes. A software process line helps to systematically develop and manage<br>families of processes and, as part of this, variability operations provide means to modify and reuse pre-defined process assets. Objective: Our goal<br>is to evaluate the feasibility of variability operations to support the development of flexible software process lines. Method: We [...]"
          ],
          [
           "An MDE approach to software process tailoring",
           "Defining organizational processes is essential for enhancing maturity. However the best process depends on the particularities of each project.<br>Typically a process engineer defines a specific process for each project in an ad-hoc fashion, which is expensive, unrepeatable and error prone.<br>Trying to deal with this challenge we propose a model-based approach to software process tailoring that generates project specific processes based on<br>the organizational process and the project context. The approach is systematic, repeatable and it does not depend on the people using it. The [...]"
          ],
          [
           "A Comparative Study for Scoping a Software Process Line",
           "Software process lines (SPrL) is an approach for facilitating the adaptation and evolution of a set of related software processes within a software<br>organization. In order to correctly establish the processes and process assets to be reused as well as to typify the situations under which the<br>processes will be used (the process demands) an implicit or explicit scoping activity that is normally performed. There are some methods oriented to<br>support this activity. In this article we explore the definition of the scope of a SPrL of a software company focused on the software testing [...]"
          ],
          [
           "Towards Quantitative Evaluation of Reuse Within Safety-Oriented Process Lines",
           "Recently, Safety-oriented Process Line Engineering (SoPLE) has been proposed as a sound solution to systematize reuse in the context of safety-<br>oriented processes described within safety-related standards. Currently, however, no metrics have been used to measure the actual gain in terms of<br>reuse that the application of this engineering method entails. To overcome this lack of quantitative evidence, we adopt the GQM$$^{+}$$ Strategies<br>model, an extension of the Goal/Question/Metric (GQM) paradigm, for measurements. After having defined our specific measurement goals, we build on [...]"
          ],
          [
           "Empirical study on software process variability modelling with SMartySPEM and vSPEM",
           "With the continuous improvement of software processes, it is possible to increase quality, to address different application domains and accelerate the<br>development of software products. However, existing process modelling notations like the SPEM meta‐model typically do not have appropriate constructs<br>for expressing process variability. Thus, SPEM‐based approaches such as SMartySPEM and vSPEM provide mechanisms for representing variabilities to<br>address characteristics of different projects. Here, the authors empirically compared SMartySPEM and for variability representation in [...]"
          ],
          [
           "Product families and process families",
           "Product lines or families represent an important way of organizing software products. Product families might include, for example, successive<br>revisions of a single application, versions of an application for different host platforms, or versions with varying features, e.g., different levels<br>of security. A software product family can thus be viewed as a collection of products that are similar in some important respects yet systematically<br>different in others. The family viewpoint emphasizes both the commonality among family members and the differences between them, and it [...]"
          ],
          [
           "Supporting the Definition of Software Processes at Consulting Organizations via Software Process Lines",
           "Software Process Consulting Organizations (SPCOs) support other organizations to define, deploy, and improve their software processes. Usually they<br>are requested to define similar processes to different organizations, leading to some process reuse opportunities. Software Process Lines (SPLs) are<br>reusable process architectures that model similarities and variabilities among processes, and could be of great value for SPCOs to derive multiple<br>processes based on the same original SPL. This paper presents a reuse-based software process definition approach that aims at making it [...]"
          ],
          [
           "Reducing Complexity of Process Tailoring Transformations Generation",
           "Tailoring software processes to particular contexts applying model transformations has proved to be appropriate and technically feasible. However, the<br>use of this approach can become awkward for most process engineers, because it requires knowledge about the process and its tailoring needs, and also<br>about building model transformations. In a previous work we have proposed a tool based on model-driven engineering (MDE) for automatically generating<br>software process model tailoring transformations. This paper presents an improved user interface of the tool and proposes a process [...]"
          ],
          [
           "A software process line for service-oriented applications",
           "The management of processes and systems is a complex and time-consuming activity for organizations and also an ongoing Information Technology (IT)<br>challenge. Among the different approaches for bringing flexibility to the business processes and systems are Service-Oriented Architecture (SOA) and<br>Business Process Management (BPM). The SOA approach has become popular providing services and interfaces, enabling integration of heterogeneous and<br>distributed platforms and BPM leverages the cycles of improvements, control and evaluation of business processes. BPM and SOA should work [...]"
          ],
          [
           "Realizing software process lines: insights and experiences",
           "Software process lines provide a systematic approach to construct and manage software processes. A process line defines a reference process containing<br>general process assets, whereas a well-defined customization approach allows process engineers to create new process variants by, e.g., extending or<br>altering process assets. Variability operations are a powerful instrument to realize a process line. However, little is known about which variability<br>operations are suitable in practice. In this paper, we present a study on the feasibility of variability operations to support process [...]"
          ],
          [
           "Collaboration optimization in software process composition",
           "Purpose: The purpose of this paper is to describe an optimization approach to maximize collaboration in software process composition. The research<br>question is: how to compose a process for a specific software development project context aiming to maximize collaboration among team members? The<br>optimization approach uses heuristic search algorithms to navigate the solution space and look for acceptable solutions.Design/methodology/approach:<br>The process composition approach was evaluated through an experimental study conducted in the context of a large oil company in Brazil. The [...]"
          ]
         ],
         "hovertemplate": "Topic=Software Process Line<br>x=%{x}<br>y=%{y}<br>title=%{customdata[0]}<br>abstract=%{customdata[1]}<extra></extra>",
         "legendgroup": "Software Process Line",
         "marker": {
          "color": "#17becf",
          "size": 5,
          "symbol": "x"
         },
         "mode": "markers",
         "name": "Software Process Line",
         "orientation": "v",
         "showlegend": true,
         "type": "scatter",
         "x": [
          3.670334,
          3.3933601,
          3.22243,
          3.6350107,
          3.419903,
          3.3100815,
          3.4012728,
          3.2182581,
          3.2049901,
          3.65921,
          3.3761475,
          3.35565,
          3.2749865,
          3.4119308,
          3.4480128,
          3.245649,
          3.403345,
          3.3639085,
          3.5139098,
          3.6123621,
          3.2907357,
          3.6181426,
          3.4351466,
          3.4851787,
          3.6610765,
          3.4670663,
          3.256048,
          3.2866042,
          3.6787605,
          3.3540359,
          3.2039983,
          3.415965,
          3.1794064,
          3.5567014,
          3.0779097
         ],
         "xaxis": "x",
         "y": [
          12.807236,
          12.950778,
          12.748419,
          12.77564,
          13.045353,
          12.911583,
          13.051633,
          12.7589445,
          12.7902775,
          12.819972,
          12.830886,
          13.259315,
          12.976126,
          13.042782,
          13.089964,
          12.821956,
          12.73009,
          13.146031,
          12.757151,
          12.806727,
          12.8067465,
          12.74048,
          12.856793,
          13.051119,
          12.783845,
          13.110643,
          12.801806,
          12.709203,
          12.769383,
          12.668646,
          12.810279,
          13.218988,
          13.020279,
          12.923822,
          13.16341
         ],
         "yaxis": "y"
        },
        {
         "customdata": [
          [
           "Legacy Application Migration to the Cloud: Practicability and Methodology",
           "Cloud computing technology has become popular of late due to several advantages it has compared to traditional computing models. For example, cloud<br>computing helps users to save a significant amount of cost that is related to infrastructure investment, management, and maintenance. Furthermore,<br>since cloud computing offers agility, flexibility, and scalability, applications could be deployed, developed, and scaled quickly and easily on the<br>cloud. Nevertheless, while it is not difficult to develop a new application on the cloud, there is a question of whether legacy applications [...]"
          ],
          [
           "Search-Based Genetic Optimization for Deployment and Reconfiguration of Software in the Cloud",
           "Migrating existing enterprise software to cloud platforms involves the comparison of competing cloud deployment options (CDOs). A CDO comprises a<br>combination of a specific cloud environment, deployment architecture, and runtime reconfiguration rules for dynamic resource scaling. Our simulator<br>CDOSim can evaluate CDOs, e.g., regarding response times and costs. However, the design space to be searched for well-suited solutions is extremely<br>huge. In this paper, we approach this optimization problem with the novel genetic algorithm CDOXplorer. It uses techniques of the search- [...]"
          ],
          [
           "A Practical Architecture of Cloudification of Legacy Applications",
           "Cloud computing has been attracting much attention since its birth. How to cloudify software systems especially legacy applications in the cloud era<br>is becoming increasingly important. Based on RGPS meta-model framework and International standards-ISO/IEC 19763, an architecture for cloudification<br>of legacy applications is proposed, which consists of three parts: a Web portal, a SaaS service supermarket, and a SaaS application development<br>platform. In this paper, we take an open source software as an example to illustrate the proposed approach. Based on the architecture and [...]"
          ],
          [
           "Migration of Multi-tier Applications to Infrastructure-as-a-Service Clouds: An Investigation Using Kernel-based Virtual Machines",
           "To investigate challenges of multi-tier application migration to Infrastructure-as-a-Service (laaS) clouds we performed an experimental investigation<br>by deploying a processor bound and input-output bound variant of the RUSLE2 erosion model to an laaS based private cloud. Scaling the applications to<br>achieve optimal system throughput is complex and involves much more than simply increasing the number of allotted virtual machines (VMs). While<br>scaling the application variants a series of bottlenecks were encountered unique to an application's processing., I/O., and memory [...]"
          ],
          [
           "Cloudstep: A Step-by-Step Decision Process to Support Legacy Application Migration to the Cloud",
           "Cloud computing is an emerging computing paradigm whose benefits (such as high scalability., reduced IT costs., self-service on demand., and pay-as-<br>you-go price models) have increasingly attracted the interest of the corporate world. Nevertheless., many organizations have found it difficult to<br>adopt cloud-based solutions., particularly regarding the migration of their existing legacy applications to this new environment. One of the main<br>obstacles faced by those organizations is the lack of a general process to help application developers not only in selecting the cloud models [...]"
          ],
          [
           "Migrating Service-Oriented System to Cloud Computing: An Experience Report",
           "Cloud computing has gained significant attention of industry and academic sectors which are interested in adopting or experimenting with this<br>technology. An increasing number of companies are expected to migrate their systems to cloud enabled infrastructures. However, there has not been much<br>attention paid to provide sufficient process support. Since migration projects are likely to encounter several kinds of challenges, it is important to<br>identify and share the process and logistical requirements of migration projects in order to build a body of knowledge of appropriate [...]"
          ],
          [
           "Cloud Migration: A Case Study of Migrating an Enterprise IT System to IaaS",
           "This case study illustrates the potential benefits and risks associated with the migration of an IT system in the oil & gas industry from an in-house<br>data center to Amazon EC2 from a broad variety of stakeholder perspectives across the enterprise, thus transcending the typical, yet narrow, financial<br>and technical analysis offered by providers. Our results show that the system infrastructure in the case study would have cost 37% less over 5 years<br>on EC2, and using cloud computing could have potentially eliminated 21% of the support calls for this system. These findings seem [...]"
          ],
          [
           "CDOSim: Simulating Cloud Deployment Options for Software Migration Support",
           "The evaluation of competing cloud deployment options (CDOs) forms a major challenge when migrating software systems to cloud environments. For<br>example, there exists a plethora of potential cloud provider candidates, components must be mapped to suitable virtual machine instances, and, to<br>exploit elasticity, appropriate runtime adaptation strategies for specific usage profiles have to be defined. But analyzing potential CDOs manually is<br>intractable, costly, and time-consuming due to the heterogeneity of the cloud environments and the overall combinatorial design space complexity. [...]"
          ],
          [
           "Size Estimation of Cloud Migration Projects with Cloud Migration Point (CMP)",
           "One major obstacle to enterprise adoption of cloud technologies has been the lack of visibility into migration effort and cost. In this paper, we<br>present a methodology, called Cloud Migration Point (CMP), for estimating the size of cloud migration projects, by recasting a well-known software<br>size estimation model called Function Point (FP) into the context of cloud migration. We empirically evaluate our CMP model by performing a cross-<br>validation on six different small-scale cloud migration projects and show that our size estimation model can be used as a reliable predictor [...]"
          ],
          [
           "Cloudward bound",
           "In this paper, we tackle challenges in migrating enterprise services into hybrid cloud-based deployments, where enterprise operations are partly<br>hosted on-premise and partly in the cloud. Such hybrid architectures enable enterprises to benefit from cloud-based architectures, while honoring<br>application performance requirements, and privacy restrictions on what services may be migrated to the cloud. We make several contributions. First, we<br>highlight the complexity inherent in enterprise applications today in terms of their multi-tiered nature, large number of application [...]"
          ],
          [
           "Application migration to cloud",
           "Cloud computing has attracted attention as an important platform for software deployment, with perceived benefits such as elasticity to fluctuating<br>load, and reduced operational costs compared to running in enterprise data centers. While some software is written from scratch specially for the<br>cloud, many organizations also wish to migrate existing applications to a cloud platform. Such a migration exercise to a cloud platform is not easy:<br>some changes need to be made to deal with differences in software environment, such as programming model and data storage APIs, as well as [...]"
          ],
          [
           "How to adapt applications for the Cloud environment",
           "The migration of existing applications to the Cloud requires adapting them to a new computing paradigm. Existing works have focused on migrating the<br>whole application stack by means of virtualization and deployment on the Cloud, delegating the required adaptation effort to the level of resource<br>management. With the proliferation of Cloud services allowing for more flexibility and better control over the application migration, the migration of<br>individual application layers, or even individual architectural components to the Cloud, becomes possible. Towards this goal, in this work [...]"
          ],
          [
           "Automatic conformance checking for migrating software systems to cloud infrastructures and platforms",
           "SUMMARY The migration of software systems to IaaS (infrastructure as a service)‐ or PaaS (platform as a service)‐based cloud environments enables SaaS<br>providers to benefit from the cloud's merits, such as smoothly scaling up and down existing applications. Our approach, CloudMIG, aims at supporting<br>SaaS providers to perform those migrations. Here, validating the specific constraints that are imposed by a cloud environment constitutes an important<br>early‐phase activity. For example, the access to the file system, number of files, or calls to specific methods may be restricted by [...]"
          ],
          [
           "Cloud adoption",
           "We motivate the need for a new requirements engineering methodology for systematically helping businesses and users to adopt cloud services and for<br>mitigating risks in such transition. The methodology is grounded in goal oriented approaches for requirements engineering. We argue that Goal Oriented<br>Requirements Engineering (GORE) is a promising paradigm to adopt for goals that are generic and flexible statements of users' requirements, which<br>could be refined, elaborated, negotiated, mitigated for risks and analysed for economics considerations. We describe the steps of the [...]"
          ],
          [
           "CloudGenius: Decision Support for Web Server Cloud Migration",
           "Cloud computing is the latest computing paradigm that delivers hardware and software resources as virtualized services in which users are free from<br>the burden of worrying about the low-level system administration details. Migrating Web applications to Cloud services and integrating Cloud services<br>into existing computing infrastructures is non-trivial. It leads to new challenges that often require innovation of paradigms and practices at all<br>levels: technical, cultural, legal, regulatory, and social. The key problem in mapping Web applications to virtualized Cloud services is [...]"
          ],
          [
           "Migration to Cloud as Real Option Investment decision under uncertainty",
           "If cloud is so good then why aren't companies using it more? In this paper we look at how companies should make a decision to move some IT services or<br>their IT infrastructure into the cloud. The move may initially look attractive in that it offers cost benefits but there is also considerable<br>uncertainty, not least around security and information stewardship. Within the paper we propose the use of a real option model to help think about<br>when to switch to cloud based on the expected benefits, uncertainties and the value a company puts on money."
          ],
          [
           "Workload Migration into Clouds - Challenges, Experiences, Opportunities",
           "The steady drumbeat of Cloud as a disruptive influence for Infrastructure Service Providers (ISP's) and the enablement vehicle for Software As A<br>Service (SAAS) providers can be heard loud and clear in the industry today. In fact, Cloud is probably at the peak of the hype curve, and already<br>there are identified challenges associated with effective deployment for business critical applications (so called Production Applications) in mature<br>enterprises. One of these challenges is the smooth migration of workload from the previous environment to the new cloud enabled environment in a [...]"
          ],
          [
           "An Extensible Architecture for Detecting Violations of a Cloud Environment's Constraints During Legacy Software System Migration",
           "By utilizing cloud infrastructures or platforms as services, SaaS providers can counter fluctuating loads through smoothly scaling up and down and<br>therefore improve resource-and cost-efficiency, or transfer responsibility for the maintenance of complete underlying software stacks to a cloud<br>provider, for instance. Our model-based approach CloudMIG aims at supporting SaaS providers to semiautomatically migrate legacy software systems to<br>the cloud. Thereby, the analysis of conformance with the specific constraints imposed by a cloud environment candidate along with the detection [...]"
          ],
          [
           "Software Engineering Challenges for Migration to the Service Cloud Paradigm",
           "This paper presents on-going work in a research project on defining methodology and tools for model-driven migration of legacy applications to a<br>service-oriented architecture with deployment in the cloud; i.e. the Service Cloud paradigm. We have performed a comprehensive state of the art<br>analysis and present some findings here. In parallel, the two industrial participants in the project have specified their requirements and<br>expectations regarding modernization of their applications. The SOA paradigm implies the breakdown of architecture into high-grain components<br>providing [...]"
          ],
          [
           "A tale of migration to cloud computing for sharing experiences and observations",
           "Cloud computing is an emerging paradigm, which promises to make the utility computing model comprehensively implemented by using virtualization<br>technologies. An increasing number of enterprises have started providing and using Cloud-enabled infrastructures and services. However, the<br>advancement of cloud computing poses several new challenges to existing methods and approaches to develop and evolve software intensive systems. This<br>paper reports our experiences and observations gained from migrating an Open Source Software (OSS), Hackystat, to cloud computing. We expect that [...]"
          ],
          [
           "The Cloud Adoption Toolkit: supporting cloud adoption decisions in the enterprise",
           "SUMMARY Cloud computing promises a radical shift in the provisioning of computing resources within the enterprise. This paper describes the challenges<br>that decision makers face when assessing the feasibility of the adoption of cloud computing in their organizations, and describes our Cloud Adoption<br>Toolkit, which has been developed to support this process. The toolkit provides a framework to support decision makers in identifying their concerns,<br>and matching these concerns to appropriate tools/techniques that can be used to address them. Cost Modeling is the most mature tool in [...]"
          ]
         ],
         "hovertemplate": "Topic=Cloud Migration<br>x=%{x}<br>y=%{y}<br>title=%{customdata[0]}<br>abstract=%{customdata[1]}<extra></extra>",
         "legendgroup": "Cloud Migration",
         "marker": {
          "color": "#ff33cc",
          "size": 5,
          "symbol": "x"
         },
         "mode": "markers",
         "name": "Cloud Migration",
         "orientation": "v",
         "showlegend": true,
         "type": "scatter",
         "x": [
          11.488474,
          11.37957,
          11.512758,
          11.440515,
          11.455089,
          11.534975,
          11.41889,
          11.3115,
          11.3651495,
          11.40496,
          11.468523,
          11.477496,
          11.380671,
          11.430778,
          11.335036,
          11.439389,
          11.411054,
          11.365429,
          11.492202,
          11.491558,
          11.437509
         ],
         "xaxis": "x",
         "y": [
          24.412838,
          24.380947,
          24.382627,
          24.433256,
          24.398552,
          24.518314,
          24.44997,
          24.327265,
          24.355541,
          24.467134,
          24.458307,
          24.446901,
          24.40603,
          24.40278,
          24.516462,
          24.42902,
          24.440626,
          24.48771,
          24.421795,
          24.50224,
          24.331276
         ],
         "yaxis": "y"
        },
        {
         "customdata": [
          [
           "Enabling the IoT paradigm in e-health solutions through the VIRTUS middleware",
           "In Europe, in a context of growing population and decreasing resources, ageing related diseases represent one of the most relevant challenges in terms<br>of healthcare organization complexity, plus care levels and system financing balancing. Nowadays there are several researches that are studying the<br>application of the IoT (Internet of Things) paradigm in the e-health field. This paper explains how a solution, built on the top of the VIRTUS IoT<br>middleware, provides a valid alternative to current IoT solutions, which are mainly based on SOA (Service Oriented Architecture). VIRTUS [...]"
          ],
          [
           "A Multi-Agent Architecture for Ontology-Based Diagnosis of Mental Disorders",
           "This paper presents a Multi-agent system that facilitates the remote monitoring of the elderly patients which are susceptible to mental disorder<br>diseases. In order to find early signs of health condition depreciation we have assessed four of the most common mental disorder diseases to find<br>which kind of sensors can detect specific symptoms with the main purpose of creating an early warning system. The diagnosis component is based on an<br>ontology that defines the relations between sensors, symptoms and diseases. Based on these relationships a specialized agent can inform the [...]"
          ],
          [
           "A Semantic Web-of-Things Architecture for Monitoring the Risk of Bedsores",
           "Bedsores are a common injury that mainly plagues elders and frail persons, and are a major cause of concerns in medical institutions. We present a<br>system based on the Internet-of-Things technologies, aiming at detecting the risk of bedsores using sensor fusion. This paper mainly focuses on the<br>software architecture of the proposed system, based on the principles of weak coupling and of semantic data exchange. We present a model of the<br>application in terms of the Semantic Sensor Network (SSN) ontology."
          ],
          [
           "IoT-Based Smart Rehabilitation System",
           "Internet of Things (IoT) makes all objects become interconnected and smart, which has been recognized as the next technological revolution. As its<br>typical case, IoT-based smart rehabilitation systems are becoming a better way to mitigate problems associated with aging populations and shortage of<br>health professionals. Although it has come into reality, critical problems still exist in automating design and reconfiguration of such a system<br>enabling it to respond to the patient’s requirements rapidly. This paper presents an ontology-based automating design methodology (ADM) for [...]"
          ],
          [
           "Distributed Analytics and Edge Intelligence",
           "Biomedical research and clinical practice are entering a data-driven era. One of the major applications of biomedical big data research is to utilize<br>inexpensive and unobtrusive mobile biomedical sensors and cloud computing for pervasive health monitoring. However, real-world user experiences with<br>mobile cloud-based health monitoring were poor, due to the factors such as excessive networking latency and longer response time. On the other hand,<br>fog computing, a newly proposed computing paradigm, utilizes a collaborative multitude of end-user clients or near-user edge devices to [...]"
          ],
          [
           "End-to-end security scheme for mobility enabled healthcare Internet of Things",
           "We propose an end-to-end security scheme for mobility enabled healthcare Internet of Things (IoT). The proposed scheme consists of (i) a secure and<br>efficient end-user authentication and authorization architecture based on the certificate based DTLS handshake, (ii) secure end-to-end communication<br>based on session resumption, and (iii) robust mobility based on interconnected smart gateways. The smart gateways act as an intermediate processing<br>layer (called fog layer) between IoT devices and sensors (device layer) and cloud services (cloud layer). In our scheme, the fog layer [...]"
          ],
          [
           "A Novel Approach to Unify Robotics, Sensors, and Cloud Computing Through IoT for a Smarter Healthcare Solution for Routine Checks and Fighting Epidemics",
           "This paper attempts to project a novel concept where medical sensors, cloud computing and robotic platform are unified to offer state-of-the-art<br>healthcare solutions to a wide variety of scenarios. The proposed solution is most effective if there is scarcity of healthcare providers or if<br>putting them in the field expose them into a high risk environment such as fighting epidemics. In addition, the proposed system will also benefit<br>routine checks in quarantine wards of hospitals where human reluctance of performing routine task by the healthcare providers can be avoided. [...]"
          ],
          [
           "Health and emergency-care platform for the elderly and disabled people in the Smart City",
           "Emergence of context-aware technologies and IoT devices reflect that the quality of a human life has become one of the most essential aspects in Smart<br>Cities. With this goal health monitoring of elderly and disabled people have got plenty of attention and focus in the research. The healthcare systems<br>rely on the components responsible for context sensing, processing, storage and inference, and response. In order to make the interoperability among<br>the various healthcare systems, a typical standard is needed in order to uniformly access the context-aware healthcare information [...]"
          ],
          [
           "Service-Oriented Security Framework for Remote Medical Services in the Internet of Things Environment",
           "OBJECTIVES: Remote medical services have been expanding globally, and this is expansion is steadily increasing. It has had many positive effects,<br>including medical access convenience, timeliness of service, and cost reduction. The speed of research and development in remote medical technology<br>has been gradually accelerating. Therefore, it is expected to expand to enable various high-tech information and communications technology (ICT)-based<br>remote medical services. However, the current state lacks an appropriate security framework that can resolve security issues centered on the [...]"
          ],
          [
           "A novel and secure IoT based cloud centric architecture to perform predictive analysis of users activities in sustainable health centres",
           "Diabetes, blood pressure, heart, and kidney, some of the diseases common across the world, are termed ’silent killers’. More than 50 % of the world’s<br>population are affected by these diseases. If suitable steps are not taken during the early stages then severe complications occur from these<br>diseases. In the work proposed, we have discussed the manner in which the Internet-of-Things based Cloud centric architecture is used for predictive<br>analysis of physical activities of the users in sustainable health centers. The architecture proposed is based on the embedded sensors of [...]"
          ],
          [
           "Exploiting IoT technologies for enhancing Health Smart Homes through patient identification and emotion recognition",
           "Currently, there is an increasing number of patients that are treated in-home, mainly in countries such as Japan, USA and Europe. As well as this, the<br>number of elderly people has increased significantly in the last 15 years and these people are often treated in-home and at times enter into a<br>critical situation that may require help (e.g. when facing an accident, or becoming depressed). Advances in ubiquitous computing and the Internet of<br>Things (IoT) have provided efficient and cheap equipments that include wireless communication and cameras, such as smartphones or embedded [...]"
          ],
          [
           "IREHMO: An Efficient IOT-Based Remote Health Monitoring System for Smart Regions",
           "The ageing population worldwide is constantly rising, both in urban and regional areas. There is a need for IoT-based remote health monitoring systems<br>that take care of the health of elderly people without compromising their convenience and preference of staying at home. However, such systems may<br>generate large amounts of data. The key research challenge addressed in this paper is to efficiently transmit healthcare data within the limit of the<br>existing network infrastructure, especially in remote areas. In this paper, we identified the key network requirements of a typical [...]"
          ],
          [
           "Intelligent Packaging and Intelligent Medicine Box for Medication Management towards the Internet-of-Things",
           "The medication noncompliance problem has caused serious threat to public health as well as huge financial waste would wide. The emerging pervasive<br>healthcare enabled by the Internet-of-Things offers promising solutions. In addition, an in-home healthcare station (IHHS) is needed to meet the<br>rapidly increasing demands for daily monitoring and on-site diagnosis and prognosis. In this paper, a pervasive and preventive medication management<br>solution is proposed based on intelligent and interactive packaging (I2Pack) and intelligent medicine box (iMedBox). The intelligent [...]"
          ],
          [
           "FIT: A Fog Computing Device for Speech Tele-Treatments",
           "There is an increasing demand for smart fog-computing gateways as the size of cloud data is growing. This paper presents a Fog computing<br>interface(FIT) for processing clinical speech data. FIT builds upon our previous work on EchoWear, a wearable technology that validated the use of<br>smartwatches for collecting clinical speech data from patients with Parkinson's disease(PD). The fog interface is a low-power embedded system that<br>acts as a smart interface between the smartwatch and the cloud. It collects, stores, and processes the speech data before sending speech features [...]"
          ],
          [
           "Fog Computing in Healthcare Internet of Things: A Case Study on ECG Feature Extraction",
           "Internet of Things technology provides a competent and structured approach to improve health and wellbeing of mankind. One of the feasible ways to<br>offer healthcare services based on loT is to monitor humans health in real-time using ubiquitous health monitoring systems which have the ability to<br>acquire bio-signals from sensor nodes and send the data to the gateway via a particular wireless communication protocol. The real-time data is then<br>transmitted to a remote cloud server for real-time processing, visualization, and diagnosis. In this paper, we enhance such a health [...]"
          ],
          [
           "Home Health Hub Internet of Things $({\\rm H}^{3}{\\rm IoT})$: An Architectural Framework for Monitoring Health of Elderly People",
           "Internet of Things (IoT) has paved a path towards the digitization of everyday things connecting each other through internet. Due to the huge advent<br>of IoT in recent years, researches have stared to accomplish the long cherished will of human being to make life simpler and better in many ways.<br>Health being the most valuable wealth of human, should be given most priority. Though health related research implyingIoT has been neglected due to<br>heterogeneity and interoperability issues. This literature presentstH3IoT a novel architectural framework for Home Health Hub Internet of [...]"
          ],
          [
           "IoT for Remote Elderly Patient Care Based on Fuzzy Logic",
           "In this paper we propose an in-home healthcare monitoring system offering several uses. It helps the elderly person to complete the activities<br>independently in their own lives and at the same time facilitates family members and care provider to track inhabitants. The main idea is to have<br>several sensors that can be used at home and enables full and tightly controlled elderly patient care. Each modality is processed and analyzed by<br>specific algorithms. A data approach based on fuzzy logic with a set of rules directed by medical recommendations."
          ],
          [
           "Internet of Things: Remote Patient Monitoring Using Web Services and Cloud Computing",
           "The focus on this paper is to build an Android platform based mobile application for the healthcare domain, which uses the idea of Internet of Things<br>(IoT) and cloud computing. We have built an application called ‘ECG Android App’ which provides the end user with visualization of their Electro<br>Cardiogram (ECG) waves and data logging functionality in the background. The logged data can be uploaded to the user's private centralized cloud or a<br>specific medical cloud, which keeps a record of all the monitored data and can be retrieved for analysis by the medical personnel. Though [...]"
          ],
          [
           "Effective Ways to Use Internet of Things in the Field of Medical and Smart Health Care",
           "The recent advancements in technology and the availability of the Internet make it possible to connect various devices that can communicate with each<br>other and share data. The Internet of Things (IoT) is a new concept that allows users to connect various sensors and smart devices to collect real-<br>time data from the environment. However, it has been observed that a comprehensive platform is still missing in the e-Health and m-Health<br>architectures to use smartphone sensors to sense and transmit important data related to a patient's health. In this paper, our contribution [...]"
          ],
          [
           "Internet of Things (IOT) Driven U-Healthcare System Architecture",
           "The IoT plays an important role in healthcare applications., from managing chronic diseases at one end of the spectrum to preventing disease at the<br>other. loT aims to provide means to access and control all kinds of ubiquitous and uniquely identifiable devices., facilities and assets. In this<br>paper we discussed the background of Internet of Things (loT) and its application to u-healthcare. This study aims to make mobile device gateway an<br>integrated gateway which supports heterogeneous devices for u-healthcare convergence."
          ],
          [
           "Low-Power Wearable ECG Monitoring System for Multiple-Patient Remote Monitoring",
           "Many devices and solutions for remote electrocardiogram (ECG) monitoring have been proposed in the literature. These solutions typically have a large<br>marginal cost per added sensor and are not seamlessly integrated with other smart home solutions. Here, we propose an ECG remote monitoring system<br>that is dedicated to non-technical users in need of long-term health monitoring in residential environments and is integrated in a broader Internet-<br>of-Things (IoT) infrastructure. Our prototype consists of a complete vertical solution with a series of advantages with respect to the [...]"
          ],
          [
           "Temporal Informative Analysis in Smart-ICU Monitoring: M-HealthCare Perspective",
           "The rapid introduction of Internet of Things (IoT) Technology has boosted the service deliverance aspects of health sector in terms of m-health, and<br>remote patient monitoring. IoT Technology is not only capable of sensing the acute details of sensitive events from wider perspectives, but it also<br>provides a means to deliver services in time sensitive and efficient manner. Henceforth, IoT Technology has been efficiently adopted in different<br>fields of the healthcare domain. In this paper, a framework for IoT based patient monitoring in Intensive Care Unit (ICU) is presented to [...]"
          ],
          [
           "Home Telehealth by Internet of Things (IoT)",
           "Home based Telehealth is a combination of communications, imaging, sensing and human computer interaction technologies targeted at diagnosis,<br>treatment and monitoring patients without disturbing the quality of lifestyle. This paper proposes development of a low cost medical sensing,<br>communication and analytics device that is real-time monitoring internet enabled patients physiological conditions. Internet of Things (IoT) network<br>will provide active and real-time engagement of patient, hospitals, caretaker and doctors. Massaging and synchronising the system has been the [...]"
          ],
          [
           "Exploiting the FIWARE Cloud Platform to Develop a Remote Patient Monitoring System",
           "FIWARE represents a new European Cloud platform that aims to land on the international ICT market bringing prominent novel advantages for societies.<br>In fact, it provides new compelling and novel software components, available through APIs, able to give developers new valuable Cloud platform<br>functionalities. The main contribution of this work consists in providing software architects an useful experience regarding the adoption of FIWARE<br>for the design of a Cloud and Internet of Things (IoT) architecture. More specifically, we describe how can be possible to use the FIWARE [...]"
          ],
          [
           "Bringing IoT and Cloud Computing towards Pervasive Healthcare",
           "Pervasive healthcare applications utilizing body sensor networks generate a vast amount of data that need to be managed and stored for processing and<br>future usage. Cloud computing among with the Internet of Things (IoT) concept is a new trend for efficient managing and processing of sensor data<br>online. This paper presents a platform based on Cloud Computing for management of mobile and wearable healthcare sensors, demonstrating this way the<br>IoT paradigm applied on pervasive healthcare."
          ],
          [
           "Patient Monitoring System Based on Internet of Things",
           "The increased use of mobile technologies and smart devices in the area of health has caused great impact on the world. Health experts are increasingly<br>taking advantage of the benefits these technologies bring, thus generating a significant improvement in health care in clinical settings and out of<br>them. Likewise, countless ordinary users are being served from the advantages of the M-Health (Mobile Health) applications and E-Health (health care<br>supported by ICT) to improve, help and assist their health. Applications that have had a major refuge for these users, so intuitive [...]"
          ],
          [
           "SPHERE: A Sensor Platform for Healthcare in a Residential Environment",
           "It can be tempting to think about smart homes like one thinks about smart cities. On the surface, smart homes and smart cities comprise coherent<br>systems enabled by similar sensing and interactive technologies. It can also be argued that both are broadly underpinned by shared goals of<br>sustainable development, inclusive user engagement and improved service delivery. However, the home possesses unique characteristics that must be<br>considered in order to develop effective smart home systems that are adopted in the real world [37]."
          ]
         ],
         "hovertemplate": "Topic=Internet of Things in Healthcare<br>x=%{x}<br>y=%{y}<br>title=%{customdata[0]}<br>abstract=%{customdata[1]}<extra></extra>",
         "legendgroup": "Internet of Things in Healthcare",
         "marker": {
          "color": "#00cc99",
          "size": 5,
          "symbol": "circle"
         },
         "mode": "markers",
         "name": "Internet of Things in Healthcare",
         "orientation": "v",
         "showlegend": true,
         "type": "scatter",
         "x": [
          9.954962,
          10.117416,
          10.055027,
          10.090759,
          10.770929,
          10.148071,
          10.257121,
          10.32172,
          9.973786,
          10.225943,
          10.310745,
          10.166391,
          10.077466,
          10.516073,
          10.455911,
          10.098976,
          10.195555,
          10.161086,
          10.058997,
          10.080081,
          10.27446,
          10.15099,
          10.210614,
          10.166066,
          10.166388,
          10.110005,
          10.409995
         ],
         "xaxis": "x",
         "y": [
          14.237945,
          14.052332,
          14.154089,
          14.095396,
          14.489973,
          14.2549305,
          14.142412,
          13.923628,
          14.267414,
          14.107146,
          13.970169,
          14.074311,
          13.996635,
          14.286506,
          14.243682,
          14.100144,
          13.986451,
          14.106192,
          14.188287,
          14.16693,
          13.994347,
          14.072753,
          14.001117,
          14.062011,
          14.1290245,
          14.024101,
          13.903793
         ],
         "yaxis": "y"
        },
        {
         "customdata": [
          [
           "A practical method for the software fault-prediction",
           "In the paper, a novel machine learning method, SimBoost, is proposed to handle the software fault-prediction problem when highly skewed datasets are<br>used. Although the method, proved by empirical results, can make the datasets much more balanced, the accuracy of the prediction is still not<br>satisfactory. Therefore, a fuzzy-based representation of the software module fault state has been presented instead of the original faulty/non-faulty<br>one. Several experiments were conducted using datasets from NASA Metrics Data Program. The discussion of the results of experiments is provided."
          ],
          [
           "Software Fault Prediction Based on Grey Neural Network",
           "Considering determining the number of software fault is an uncertain non-linear problem with only small sample, a novel software fault prediction<br>method based on grey neural network is put forward. Firstly, constructing the grey neural network topological structure according the small sample<br>sequence is necessary, and then the network learning algorithm is discussed. Finally, the grey neural network prediction model based on the grey<br>theory and artificial neural network is proposed. The sample fault sequences of some software project are used to verify the precision of this [...]"
          ],
          [
           "Empirical Case Studies in Attribute Noise Detection",
           "The quality of data is an important issue in any domain-specific data mining and knowledge discovery initiative. The validity of solutions produced by<br>data-driven algorithms can be diminished if the data being analyzed are of low quality. The quality of data is often realized in terms of data noise<br>present in the given dataset and can include noisy attributes or labeling errors. Hence, tools for improving the quality of data are important to the<br>data mining analyst. We present a comprehensive empirical investigation of our new and innovative technique for ranking attributes in a [...]"
          ],
          [
           "Comparing Boosting and Bagging Techniques with Noisy and Imbalanced Data",
           "This paper compares the performance of several boosting and bagging techniques in the context of learning from imbalanced and noisy binary-class data.<br>Noise and class imbalance are two well-established data characteristics encountered in a wide range of data mining and machine learning initiatives.<br>The learning algorithms studied in this paper, which include SMOTEBoost, RUSBoost, Exactly Balanced Bagging, and Roughly Balanced Bagging, combine<br>boosting or bagging with data sampling to make them more effective when data are imbalanced. These techniques are evaluated in a [...]"
          ],
          [
           "Data Quality: Some Comments on the NASA Software Defect Datasets",
           "Background--Self-evidently empirical analyses rely upon the quality of their data. Likewise, replications rely upon accurate reporting and using the<br>same rather than similar versions of datasets. In recent years, there has been much interest in using machine learners to classify software modules<br>into defect-prone and not defect-prone categories. The publicly available NASA datasets have been extensively used as part of this research. Objective<br>--This short note investigates the extent to which published analyses based on the NASA defect datasets are meaningful and comparable. [...]"
          ],
          [
           "Toward Comprehensible Software Fault Prediction Models Using Bayesian Network Classifiers",
           "Software testing is a crucial activity during software development and fault prediction models assist practitioners herein by providing an upfront<br>identification of faulty software code by drawing upon the machine learning literature. While especially the Naive Bayes classifier is often applied<br>in this regard, citing predictive performance and comprehensibility as its major strengths, a number of alternative Bayesian algorithms that boost the<br>possibility of constructing simpler networks with fewer nodes and arcs remain unexplored. This study contributes to the literature by [...]"
          ],
          [
           "Evolutionary Optimization of Software Quality Modeling with Multiple Repositories",
           "A novel search-based approach to software quality modeling with multiple software project repositories is presented. Training a software quality model<br>with only one software measurement and defect data set may not effectively encapsulate quality trends of the development organization. The inclusion<br>of additional software projects during the training process can provide a cross-project perspective on software quality modeling and prediction. The<br>genetic-programming-based approach includes three strategies for modeling with multiple software projects: Baseline Classifier, [...]"
          ],
          [
           "Predicting the location and number of faults in large software systems",
           "Advance knowledge of which files in the next release of a large software system are most likely to contain the largest numbers of faults can be a very<br>valuable asset. To accomplish this, a negative binomial regression model has been developed and used to predict the expected number of faults in each<br>file of the next release of a system. The predictions are based on the code of the file in the current release, and fault and modification history of<br>the file from previous releases. The model has been applied to two large industrial systems, one with a history of 17 consecutive [...]"
          ],
          [
           "Effective Software Fault Localization Using an RBF Neural Network",
           "We propose the application of a modified radial basis function neural network in the context of software fault localization, to assist programmers in<br>locating bugs effectively. This neural network is trained to learn the relationship between the statement coverage information of a test case and its<br>corresponding execution result, success or failure. The trained network is then given as input a set of virtual test cases, each covering a single<br>statement. The output of the network, for each virtual test case, is considered to be the suspiciousness of the corresponding covered [...]"
          ],
          [
           "Predicting software defects in varying development lifecycles using Bayesian nets",
           "An important decision in software projects is when to stop testing. Decision support tools for this have been built using causal models represented by<br>Bayesian Networks (BNs), incorporating empirical data and expert judgement. Previously, this required a custom BN for each development lifecycle. We<br>describe a more general approach that allows causal models to be applied to any lifecycle. The approach evolved through collaborative projects and<br>captures significant commercial input. For projects within the range of the models, defect predictions are very accurate. This approach [...]"
          ],
          [
           "Practical development of an Eclipse-based software fault prediction tool using Naive Bayes algorithm",
           "Despite the amount of effort software engineers have been putting into developing fault prediction models, software fault prediction still poses great<br>challenges. This research using machine learning and statistical techniques has been ongoing for 15years, and yet we still have not had a<br>breakthrough. Unfortunately, none of these prediction models have achieved widespread applicability in the software industry due to a lack of software<br>tools to automate this prediction process. Historical project data, including software faults and a robust software fault prediction tool, can [...]"
          ],
          [
           "Object oriented software quality prediction using general regression neural networks",
           "This paper discusses the application of General Regression Neural Network (GRNN) for predicting the software quality attribute -- fault ratio. This<br>study is carried out using static Object-Oriented (OO) measures (64 in total) as the independent variables and fault ratio as the dependent variable.<br>Software metrics used include those concerning inheritance, size, cohesion and coupling. Prediction models are designed using 15 possible combinations<br>of the four categories of the measures. We also tested the goodness of fit of the neural network model with the standard parameters. Our [...]"
          ],
          [
           "Transfer learning for cross-company software defect prediction",
           "ContextSoftware defect prediction studies usually built models using within-company data, but very few focused on the prediction models trained with<br>cross-company data. It is difficult to employ these models which are built on the within-company data in practice, because of the lack of these local<br>data repositories. Recently, transfer learning has attracted more and more attention for building classifier in target domain using the data from<br>related source domain. It is very useful in cases when distributions of training and test instances differ, but is it appropriate for cross- [...]"
          ],
          [
           "Investigating the effect of dataset size, metrics sets, and feature selection techniques on software fault prediction problem",
           "Software quality engineering comprises of several quality assurance activities such as testing, formal verification, inspection, fault tolerance, and<br>software fault prediction. Until now, many researchers developed and validated several fault prediction models by using machine learning and<br>statistical techniques. There have been used different kinds of software metrics and diverse feature reduction techniques in order to improve the<br>models’ performance. However, these studies did not investigate the effect of dataset size, metrics set, and feature selection techniques for [...]"
          ],
          [
           "Data mining source code for locating software bugs: A case study in telecommunication industry",
           "In a large software system knowing which files are most likely to be fault-prone is valuable information for project managers. They can use such<br>information in prioritizing software testing and allocating resources accordingly. However, our experience shows that it is difficult to collect and<br>analyze fine-grained test defects in a large and complex software system. On the other hand, previous research has shown that companies can safely use<br>cross-company data with nearest neighbor sampling to predict their defects in case they are unable to collect local data. In this study we [...]"
          ],
          [
           "Applying machine learning to software fault-proneness prediction",
           "The importance of software testing to quality assurance cannot be overemphasized. The estimation of a module’s fault-proneness is important for<br>minimizing cost and improving the effectiveness of the software testing process. Unfortunately, no general technique for estimating software fault-<br>proneness is available. The observed correlation between some software metrics and fault-proneness has resulted in a variety of predictive models<br>based on multiple metrics. Much work has concentrated on how to select the software metrics that are most likely to indicate fault-proneness. In [...]"
          ],
          [
           "User preferences based software defect detection algorithms selection using MCDM",
           "A variety of classification algorithms for software defect detection have been developed over the years. How to select an appropriate classifier for a<br>given task is an important issue in Data mining and knowledge discovery (DMKD). Many studies have compared different types of classification<br>algorithms and the performances of these algorithms may vary using different performance measures and under different circumstances. Since the<br>algorithm selection task needs to examine several criteria, such as accuracy, computational time, and misclassification rate, it can be modeled as [...]"
          ],
          [
           "An industrial case study of classifier ensembles for locating software defects",
           "As the application layer in embedded systems dominates over the hardware, ensuring software quality becomes a real challenge. Software testing is the<br>most time-consuming and costly project phase, specifically in the embedded software domain. Misclassifying a safe code as defective increases the cost<br>of projects, and hence leads to low margins. In this research, we present a defect prediction model based on an ensemble of classifiers. We have<br>collaborated with an industrial partner from the embedded systems domain. We use our generic defect prediction models with data coming from [...]"
          ],
          [
           "The design of polynomial function-based neural network predictors for detection of software defects",
           "In this study, we introduce a design methodology of polynomial function-based Neural Network (pf-NN) classifiers (predictors). The essential design<br>components include Fuzzy C-Means (FCM) regarded as a generic clustering algorithm and polynomials providing all required nonlinear capabilities of the<br>model. The learning method uses a weighted cost function (objective function) while to analyze the performance of the system we engage a standard<br>receiver operating characteristics (ROC) analysis. The proposed networks are used to detect software defects. From the conceptual [...]"
          ],
          [
           "An investigation of the effect of module size on defect prediction using static measures",
           "We used several machine learning algorithms to predict the defective modules in five NASA products, namely, CM1, JM1, KC1, KC2, and PC1. A set of<br>static measures were employed as predictor variables. While doing so, we observed that a large portion of the modules were small, as measured by lines<br>of code (LOC). When we experimented on the data subsets created by partitioning according to module size, we obtained higher prediction performance<br>for the subsets that include larger modules. We also performed defect prediction using class-level data for KC1 rather than the method-level [...]"
          ],
          [
           "Defect prediction from static code features: current results, limitations, new approaches",
           "Building quality software is expensive and software quality assurance (QA) budgets are limited. Data miners can learn defect predictors from static<br>code features which can be used to control QA resources; e.g. to focus on the parts of the code predicted to be more defective.Recent results show<br>that better data mining technology is not leading to better defect predictors. We hypothesize that we have reached the limits of the standard learning<br>goal of maximizing area under the curve (AUC) of the probability of false alarms and probability of detection “AUC(pd, pf)”; i.e. the area [...]"
          ],
          [
           "Feature Selection with Imbalanced Data for Software Defect Prediction",
           "In this paper, we study the learning impact of data sampling followed by attribute selection on the classification models built with binary class<br>imbalanced data within the scenario of software quality engineering. We use a wrapper-based attribute ranking technique to select a subset of<br>attributes, and the random undersampling technique (RUS) on the majority class to alleviate the negative effects of imbalanced data on the prediction<br>models. The datasets used in the empirical study were collected from numerous software projects. Five data preprocessing scenarios were explored [...]"
          ],
          [
           "A Unified Framework for Defect Data Analysis Using the MBR Technique",
           "Failures of mission-critical software systems can have catastrophic consequences and, hence, there is strong need for scientifically rigorous methods<br>for assuring high system reliability. To reduce the V&V cost for achieving high confidence levels, quantitatively based software defect prediction<br>techniques can be used to effectively estimate defects from prior data. Better prediction models facilitate better project planning and risk/cost<br>estimation. Memory Based Reasoning (MBR) is one such classifier that quantitatively solves new cases by reusing knowledge gained from [...]"
          ],
          [
           "A Novel Method for Early Software Quality Prediction Based on Support Vector Machine",
           "The software development process imposes major impacts on the quality of software at every development stage; therefore, a common goal of each<br>software development phase concerns how to improve software quality. Software quality prediction thus aims to evaluate software quality level<br>periodically and to indicate software quality problems early. In this paper, we propose a novel technique to predict software quality by adopting<br>Support Vector Machine (SVM) in the classification of software modules based on complexity metrics. Because only limited information of [...]"
          ],
          [
           "A Comparative Study of Ensemble Feature Selection Techniques for Software Defect Prediction",
           "Feature selection has become the essential step in many data mining applications. Using a single feature subset selection method may generate local<br>optima. Ensembles of feature selection methods attempt to combine multiple feature selection methods instead of using a single one. We present a<br>comprehensive empirical study examining 17 different ensembles of feature ranking techniques (rankers) including six commonly-used feature ranking<br>techniques, the signal-to-noise filter technique, and 11 threshold-based feature ranking techniques. This study utilized 16 real-world [...]"
          ],
          [
           "Extract Rules from Software Quality Prediction Model Based on Neural Network",
           "To get a highly reliable software product to the market on schedule, software engineers must allocate resources on the fault-prone software modules<br>across the development effort. Software quality models based upon data mining from past projects can identify fault-prone modules in current similar<br>development efforts. So that resources can be focused on fault-prone modules to improve quality prior to release. Many researchers have applied the<br>neural networks approach to predict software quality. Although neural networks have shown their strengths in solving complex problems, [...]"
          ],
          [
           "Using Coding-Based Ensemble Learning to Improve Software Defect Prediction",
           "Using classification methods to predict software defect proneness with static code attributes has attracted a great deal of attention. The class-<br>imbalance characteristic of software defect data makes the prediction much difficult; thus, a number of methods have been employed to address this<br>problem. However, these conventional methods, such as sampling, cost-sensitive learning, Bagging, and Boosting, could suffer from the loss of<br>important information, unexpected mistakes, and overfitting because they alter the original data distribution. This paper presents a novel method [...]"
          ],
          [
           "Software Quality Analysis of Unlabeled Program Modules with Semisupervised Clustering",
           "Software quality assurance is a vital component of software project development. A software quality estimation model is trained using software<br>measurement and defect (software quality) data of a previously developed release or similar project. Such an approach assumes that the development<br>organization has experience with systems similar to the current project and that defect data are available for all modules in the training data. In<br>software engineering practice, however, various practical issues limit the availability of defect data for modules in the training data. In [...]"
          ],
          [
           "Balancing Privacy and Utility in Cross-Company Defect Prediction",
           "Background: Cross-company defect prediction (CCDP) is a field of study where an organization lacking enough local data can use data from other<br>organizations for building defect predictors. To support CCDP, data must be shared. Such shared data must be privatized, but that privatization could<br>severely damage the utility of the data. Aim: To enable effective defect prediction from shared data while preserving privacy. Method: We explore<br>privatization algorithms that maintain class boundaries in a dataset. CLIFF is an instance pruner that deletes irrelevant examples. MORPH is a [...]"
          ],
          [
           "Using Class Imbalance Learning for Software Defect Prediction",
           "To facilitate software testing, and save testing costs, a wide range of machine learning methods have been studied to predict defects in software<br>modules. Unfortunately, the imbalanced nature of this type of data increases the learning difficulty of such a task. Class imbalance learning<br>specializes in tackling classification problems with imbalanced distributions, which could be helpful for defect prediction, but has not been<br>investigated in depth so far. in this paper, we study the issue of if and how class imbalance learning methods can benefit software defect [...]"
          ],
          [
           "Software Fault Prediction Using Quad Tree-Based K-Means Clustering Algorithm",
           "Unsupervised techniques like clustering may be used for fault prediction in software modules, more so in those cases where fault labels are not<br>available. In this paper a Quad Tree-based K-Means algorithm has been applied for predicting faults in program modules. The aims of this paper are<br>twofold. First, Quad Trees are applied for finding the initial cluster centers to be input to the A'-Means Algorithm. An input threshold parameter δ<br>governs the number of initial cluster centers and by varying δ the user can generate desired initial cluster centers. The concept of clustering [...]"
          ],
          [
           "Assessment of a New Three-Group Software Quality Classification Technique: An Empirical Case Study",
           "The primary aim of risk-based software quality classification models is to detect, prior to testing or operations, components that are most-likely to<br>be of high-risk. Their practical usage as quality assurance tools is gauged by the prediction-accuracy and cost-effective aspects of the models.<br>Classifying modules into two risk groups is the more commonly practiced trend. Such models assume that all modules predicted as high-risk will be<br>subjected to quality improvements. Due to the always-limited reliability improvement resources and the variability of the quality risk-factor, a [...]"
          ],
          [
           "Predicting defect-prone software modules using support vector machines",
           "Effective prediction of defect-prone software modules can enable software developers to focus quality assurance activities and allocate effort and<br>resources more efficiently. Support vector machines (SVM) have been successfully applied for solving both classification and regression problems in<br>many applications. This paper evaluates the capability of SVM in predicting defect-prone software modules and compares its prediction performance<br>against eight statistical and machine learning models in the context of four NASA datasets. The results indicate that the prediction performance [...]"
          ],
          [
           "An empirical comparison and characterization of high defect and high complexity modules",
           "We analyzed a large set of complexity metrics and defect data collected from six large-scale software products, two from IBM and four from Nortel<br>Networks, to compare and characterize the similarities and differences between the high defect (HD) and high complexity modules. We observed that the<br>most complex modules often have an acceptable quality and HD modules are not typically the most complex ones. This observation was statistically<br>validated through hypothesis testing. Our analyses also indicated that the clusters of modules with the highest defects are usually those [...]"
          ],
          [
           "On the relative value of cross-company and within-company data for defect prediction",
           "We propose a practical defect prediction approach for companies that do not track defect related data. Specifically, we investigate the applicability<br>of cross-company (CC) data for building localized defect predictors using static code features. Firstly, we analyze the conditions, where CC data can<br>be used as is. These conditions turn out to be quite few. Then we apply principles of analogy-based learning (i.e. nearest neighbor (NN) filtering) to<br>CC data, in order to fine tune these models for localization. We compare the performance of these models with that of defect [...]"
          ],
          [
           "Identifying and characterizing change-prone classes in two large-scale open-source products",
           "Developing and maintaining open-source software has become an important source of profit for many companies. Change-prone classes in open-source<br>products increase project costs by requiring developers to spend effort and time. Identifying and characterizing change-prone classes can enable<br>developers to focus timely preventive actions, for example, peer-reviews and inspections, on the classes with similar characteristics in the future<br>releases or products. In this study, we collected a set of static metrics and change data at class level from two open-source projects, KOffice [...]"
          ],
          [
           "Empirical Assessment of Machine Learning based Software Defect Prediction Techniques",
           "The wide-variety of real-time software systems, including telecontrolltelepresence systems, robotic systems, and mission planning systems, can entail<br>dynamic code synthesis based on runtime mission-specific requirements and operating conditions. This necessitates the need for dynamic dependability<br>assessment to ensure that these systems will perform as specified and will not fail in catastrophic ways. One approach in achieving this is to<br>dynamically assess the modules in the synthesized code using software defect prediction techniques. Statistical models, such as Stepwise Multi- [...]"
          ],
          [
           "A General Software Defect-Proneness Prediction Framework",
           "BACKGROUND - Predicting defect-prone software components is an economically important activity and so has received a good deal of attention. However,<br>making sense of the many, and sometimes seemingly inconsistent, results is difficult. OBJECTIVE - We propose and evaluate a general framework for<br>software defect prediction that supports 1) unbiased and 2) comprehensive comparison between competing prediction systems. METHOD - The framework is<br>comprised of 1) scheme evaluation and 2) defect prediction components. The scheme evaluation analyzes the prediction performance of [...]"
          ],
          [
           "Benchmarking Classification Models for Software Defect Prediction: A Proposed Framework and Novel Findings",
           "Software defect prediction strives to improve software quality and testing efficiency by constructing predictive classification models from code<br>attributes to enable a timely identification of fault-prone modules. Several classification models have been evaluated for this task. However, due to<br>inconsistent findings regarding the superiority of one classifier over another and the usefulness of metric-based classification in general, more<br>research is needed to improve convergence across studies and further advance confidence in experimental results. We consider three potential [...]"
          ],
          [
           "Software defect association mining and defect correction effort prediction",
           "Much current software defect prediction work focuses on the number of defects remaining in a software system. In this paper, we present association<br>rule mining based methods to predict defect associations and defect correction effort. This is to help developers detect software defects and assist<br>project managers in allocating testing resources more effectively. We applied the proposed methods to the SEL defect data consisting of more than 200<br>projects over more than 15 years. The results show that, for defect association prediction, the accuracy is very high and the false- [...]"
          ],
          [
           "Evaluating Stratification Alternatives to Improve Software Defect Prediction",
           "Numerous studies have applied machine learning to the software defect prediction problem, i.e. predicting which modules will experience a failure<br>during operation based on software metrics. However, skewness in defect-prediction datasets can mean that the resulting classifiers often predict the<br>faulty (minority) class less accurately. This problem is well known in machine learning, and is often referred to as “learning from imbalanced<br>datasets.” One common approach for mitigating skewness is to use stratification to homogenize class distributions; however, it is unclear [...]"
          ],
          [
           "A systematic review of software fault prediction studies",
           "This paper provides a systematic review of previous software fault prediction studies with a specific focus on metrics, methods, and datasets. The<br>review uses 74 software fault prediction papers in 11 journals and several conference proceedings. According to the review results, the usage<br>percentage of public datasets increased significantly and the usage percentage of machine learning algorithms increased slightly since 2005. In<br>addition, method-level metrics are still the most dominant metrics in fault prediction research area and machine learning algorithms are still [...]"
          ],
          [
           "Mining software repositories for comprehensible software fault prediction models",
           "Software managers are routinely confronted with software projects that contain errors or inconsistencies and exceed budget and time limits. By mining<br>software repositories with comprehensible data mining techniques, predictive models can be induced that offer software managers the insights they need<br>to tackle these quality and budgeting problems in an efficient way. This paper deals with the role that the Ant Colony Optimization (ACO)-based<br>classification technique AntMiner+ can play as a comprehensible data mining technique to predict erroneous software modules. In an [...]"
          ],
          [
           "Software fault prediction metrics: A systematic literature review",
           "ContextSoftware metrics may be used in fault prediction models to improve software quality by predicting fault location.ObjectiveThis paper aims to<br>identify software metrics and to assess their applicability in software fault prediction. We investigated the influence of context on metrics’<br>selection and performance.MethodThis systematic literature review includes 106 papers published between 1991 and 2011. The selected papers are<br>classified according to metrics and context properties.ResultsObject-oriented metrics (49%) were used nearly twice as often compared to [...]"
          ],
          [
           "An empirical study of predicting software faults with case-based reasoning",
           "The resources allocated for software quality assurance and improvement have not increased with the ever-increasing need for better software quality. A<br>targeted software quality inspection can detect faulty modules and reduce the number of faults occurring during operations. We present a software<br>fault prediction modeling approach with case-based reasoning (CBR), a part of the computational intelligence field focusing on automated reasoning<br>processes. A CBR system functions as a software fault prediction model by quantifying, for a module under development, the expected number of [...]"
          ],
          [
           "A systematic and comprehensive investigation of methods to build and evaluate fault prediction models",
           "This paper describes a study performed in an industrial setting that attempts to build predictive models to identify parts of a Java system with a<br>high fault probability. The system under consideration is constantly evolving as several releases a year are shipped to customers. Developers usually<br>have limited resources for their testing and would like to devote extra resources to faulty system parts. The main research focus of this paper is to<br>systematically assess three aspects on how to build and evaluate fault-proneness models in the context of this large Java legacy system [...]"
          ],
          [
           "Regression via Classification applied on software defect estimation",
           "In this paper we apply Regression via Classification (RvC) to the problem of estimating the number of software defects. This approach apart from a<br>certain number of faults, it also outputs an associated interval of values, within which this estimate lies with a certain confidence. RvC also allows<br>the production of comprehensible models of software defects exploiting symbolic learning algorithms. To evaluate this approach we perform an extensive<br>comparative experimental study of the effectiveness of several machine learning algorithms in two software data sets. RvC manages to get [...]"
          ],
          [
           "An ant colony optimization algorithm to improve software quality prediction models: Case of class stability",
           "ContextAssessing software quality at the early stages of the design and development process is very difficult since most of the software quality<br>characteristics are not directly measurable. Nonetheless, they can be derived from other measurable attributes. For this purpose, software quality<br>prediction models have been extensively used. However, building accurate prediction models is hard due to the lack of data in the domain of software<br>engineering. As a result, the prediction models built on one data set show a significant deterioration of their accuracy when they are used [...]"
          ],
          [
           "Cost-sensitive boosting neural networks for software defect prediction",
           "Software defect predictors which classify the software modules into defect-prone and not-defect-prone classes are effective tools to maintain the high<br>quality of software products. The early prediction of defect-proneness of the modules can allow software developers to allocate the limited resources<br>on those defect-prone modules such that high quality software can be produced on time and within budget. In the process of software defect prediction,<br>the misclassification of defect-prone modules generally incurs much higher cost than the misclassification of not-defect-prone ones. [...]"
          ]
         ],
         "hovertemplate": "Topic=Software Defect Prediction<br>x=%{x}<br>y=%{y}<br>title=%{customdata[0]}<br>abstract=%{customdata[1]}<extra></extra>",
         "legendgroup": "Software Defect Prediction",
         "marker": {
          "color": "#ffcc00",
          "size": 5,
          "symbol": "x"
         },
         "mode": "markers",
         "name": "Software Defect Prediction",
         "orientation": "v",
         "showlegend": true,
         "type": "scatter",
         "x": [
          -1.6628243,
          -1.3032873,
          -2.0089889,
          -1.6839259,
          -1.8045621,
          -1.4813664,
          -1.5566026,
          -1.8473012,
          -1.3773346,
          -1.6568341,
          -1.6301978,
          -1.6167268,
          -1.9213984,
          -1.6668663,
          -1.9913583,
          -1.4788553,
          -1.7420772,
          -1.8933169,
          -1.3834232,
          -2.078345,
          -2.0378215,
          -1.791351,
          -1.8606148,
          -1.4538463,
          -1.8280605,
          -1.4536538,
          -1.8092109,
          -1.5256824,
          -2.1179812,
          -1.7522264,
          -1.5241655,
          -1.5553116,
          -1.5150967,
          -2.209619,
          -2.1343148,
          -2.169001,
          -1.8067622,
          -1.9311255,
          -1.7809892,
          -2.0401137,
          -1.8028145,
          -1.8426133,
          -1.8134167,
          -1.9563727,
          -1.6606994,
          -1.8813385,
          -1.6862373,
          -1.5829954,
          -1.6427109
         ],
         "xaxis": "x",
         "y": [
          19.274252,
          19.670822,
          18.983568,
          18.87928,
          19.19482,
          19.6515,
          19.434343,
          19.803427,
          19.57295,
          19.683374,
          19.634481,
          20.266958,
          18.981848,
          19.419024,
          19.353271,
          19.49609,
          18.939938,
          19.060183,
          19.545538,
          19.49556,
          19.071196,
          18.901497,
          19.074947,
          19.442005,
          18.90606,
          19.625149,
          18.935194,
          19.573519,
          18.8321,
          18.90956,
          19.586391,
          19.389584,
          19.345337,
          19.645966,
          19.040682,
          20.41848,
          19.197325,
          19.034567,
          19.149832,
          19.299015,
          18.86155,
          19.806726,
          19.478823,
          20.182556,
          19.606571,
          20.006676,
          19.170485,
          19.359596,
          19.088984
         ],
         "yaxis": "y"
        },
        {
         "customdata": [
          [
           "Continuum robots - a state of the art",
           "Like the human limbs which inspired them most robots are discrete mechanisms with rigid links connected by single degree of freedom joints. In<br>contrast, 'continuum' and 'serpentine' robot mechanisms move by bending through a series of continuous arcs producing motion which resembles that of<br>biological tentacles or snakes. This paper provides a single reference to the expanding technology of continuum robot mechanisms. It defines the<br>fundamental difference between discrete, serpentine and continuum robot devices, presents the 'state of the art' of continuum robots, outlines [...]"
          ],
          [
           "Smooth Vertical Surface Climbing with Directional Adhesion",
           "Stickybot is a bioinspired robot that climbs smooth vertical surfaces such as glass, plastic, and ceramic tile at 4 cm/s. The robot employs several<br>design principles adapted from the GECKO including a hierarchy of compliant structures, directional adhesion, and control of tangential contact forces<br>to achieve control of adhesion. We describe the design and fabrication methods used to create underactuated, multimaterial structures that conform to<br>surfaces over a range of length scales from centimeters to micrometers. At the finest scale, the undersides of Stickybot's toes are [...]"
          ],
          [
           "Modeling of Biomimetic Robotic Fish Propelled by an Ionic Polymer–Metal Composite Caudal Fin",
           "In this paper, a physics-based model is proposed for a biomimetic robotic fish propelled by an ionic polymer–metal composite (IPMC) actuator. Inspired<br>by the biological fin structure, a passive plastic fin is further attached to the IPMC beam. The model incorporates both IPMC actuation dynamics and<br>the hydrodynamics, and predicts the steady-state cruising speed of the robot under a given periodic actuation voltage. The interactions between the<br>plastic fin and the IPMC actuator are also captured in the model. Experimental results have shown that the proposed model is able to [...]"
          ],
          [
           "Stiffening in Soft Robotics: A Review of the State of the Art",
           "The need for building robots with soft materials emerged recently from considerations of the limitations of service robots in negotiating natural<br>environments, from observation of the role of compliance in animals and plants [1], and even from the role attributed to the physical body in movement<br>control and intelligence, in the so-called embodied intelligence or morphological computation paradigm [2]-[4]. The wide spread of soft robotics<br>relies on numerous investigations of diverse materials and technologies for actuation and sensing, and on research of control techniques, all [...]"
          ],
          [
           "Deformation in Soft-Matter Robotics: A Categorization and Quantitative Characterization",
           "There has been an increasing interest in soft-robotics research in recent years, and this is reflected in a number of reviews of the topic from<br>different perspectives. For example, in what was probably the first review article using the term soft robotics, [1] focused on actuators, while [2]<br>reviewed the topic by concentrating on fabrication techniques. Three more reviews addressed control [3], biomimetics [4], and materials [5],<br>respectively. Furthermore, in the first issue of Soft Robotics, there are seven review articles from active researchers in the field. More [...]"
          ],
          [
           "A Review of Ionic Polymeric Soft Actuators and Sensors",
           "This article reviews properties and characteristics of soft ionic polymer–metal nanocomposites as soft biomimetic multifunctional distributed robotic<br>materials, soft actuators, soft sensors, soft transducers and energy harvesters, and artificial muscles. After presenting some fundamental properties<br>of biomimetic distributed nanosensing and nanoactuation of ionic polymer–metal composites, the discussion extends to some recent advances in<br>manufacturing techniques, 3D fabrication of these soft actuators and sensors and some recent modeling and simulations, sensing and transduction, [...]"
          ],
          [
           "Soft robot review",
           "Soft robots are often inspired from biological systems which consist of soft materials or are actuated by electrically activated materials. There are<br>several advantages of soft robots compared to the conventional robots; safe human-machine interaction, adaptability to wearable devices, simple<br>gripping system, and so on. Due to the unique features and advantages, soft robots have a considerable range of applications. This article reviews<br>state-of-the-art researches on soft robots and application areas. Actuation systems for soft robots can be categorized and analyzed into three [...]"
          ],
          [
           "Self-Organization, Embodiment, and Biologically Inspired Robotics",
           "Robotics researchers increasingly agree that ideas from biology and self-organization can strongly benefit the design of autonomous robots. Biological<br>organisms have evolved to perform and survive in a world characterized by rapid changes, high uncertainty, indefinite richness, and limited<br>availability of information. Industrial robots, in contrast, operate in highly controlled environments with no or very little uncertainty. Although<br>many challenges remain, concepts from biologically inspired (bio-inspired) robotics will eventually enable researchers to engineer machines for [...]"
          ],
          [
           "Stretchable nanoparticle conductors with self-organized conductive pathways",
           "Stretchable conductors have many applications, from flexible electronics to medical implants; here polyurethane is filled with gold nanoparticles to<br>give a composite with tunable viscoelastic properties arising from the dynamic self-organization of the nanoparticles under stress."
          ],
          [
           "25th Anniversary Article: A Soft Future: From Robots and Sensor Skin to Energy Harvesters",
           "Scientists are exploring elastic and soft forms of robots, electronic skin and energy harvesters, dreaming to mimic nature and to enable novel<br>applications in wide fields, from consumer and mobile appliances to biomedical systems, sports and healthcare. All conceivable classes of materials<br>with a wide range of mechanical, physical and chemical properties are employed, from liquids and gels to organic and inorganic solids. Functionalities<br>never seen before are achieved. In this review we discuss soft robots which allow actuation with several degrees of freedom. We show that [...]"
          ],
          [
           "A review on locomotion robophysics: the study of movement at the intersection of robotics, soft matter and dynamical systems",
           "Discovery of fundamental principles which govern and limit effective locomotion (self-propulsion) is of intellectual interest and practical<br>importance. Human technology has created robotic moving systems that excel in movement on and within environments of societal interest: paved roads,<br>open air and water. However, such devices cannot yet robustly and efficiently navigate (as animals do) the enormous diversity of natural environments<br>which might be of future interest for autonomous robots; examples include vertical surfaces like trees and cliffs, heterogeneous ground like [...]"
          ],
          [
           "The challenges ahead for bio-inspired 'soft' robotics",
           "Soft materials may enable the automation of tasks beyond the capacities of current robotic technology."
          ],
          [
           "Biomimetic electrochemistry from conducting polymers. A review Artificial muscles, smart membranes, smart drug delivery and computer/neuron interfaces",
           "Films of conducting polymers in the presence of electrolytes can be oxidized or reduced by the flow of anodic or cathodic currents. Ions and solvent<br>are exchanged during a reaction for charge and osmotic pressure balance. A reactive conducting polymer contains ions and solvent. Such variation of<br>composition during a reaction is reminiscent of the biological processes in cells. Along changes to the composition of the material during a reaction,<br>there are also changes to other properties, including: volume (electrochemomechanical), colour (electrochromic), stored charge [...]"
          ],
          [
           "Soft Manipulators and Grippers: A Review",
           "Soft robotics is a growing area of research which utilizes the compliance and adaptability of soft structures to develop highly adaptive robotics for<br>soft interactions. One area in which soft robotics has the ability to make significant impact is in the development of soft grippers and manipulators.<br>With an increased requirement for automation, robotics systems are required to perform task in unstructured and not well defined environments;<br>conditions which conventional rigid robotics are not best suited. This requires a paradigm shift in the methods and materials used to develop [...]"
          ],
          [
           "Soft Robotics: New Perspectives for Robot Bodyware and Control",
           "The remarkable advances of robotics in the last 50 years, which represent an incredible wealth of knowledge, are based on the fundamental assumption<br>that robots are chains of rigid links. The use of soft materials in robotics, driven not only by new scientific paradigms (biomimetics, morphological<br>computation, and others), but also by many applications (biomedical, service, rescue robots, and many more), is going to overcome these basic<br>assumptions and makes the well-known theories and techniques poorly applicable, opening new perspectives for robot design and control. The [...]"
          ],
          [
           "Soft Robotics: Review of Fluid‐Driven Intrinsically Soft Devices; Manufacturing, Sensing, Control, and Applications in Human‐Robot Interaction",
           "The emerging field of soft robotics makes use of many classes of materials including metals, low glass transition temperature (Tg) plastics, and<br>high Tg elastomers. Dependent on the specific design, all of these materials may result in extrinsically soft robots. Organic elastomers, however,<br>have elastic moduli ranging from tens of megapascals down to kilopascals; robots composed of such materials are intrinsically soft − they are always<br>compliant independent of their shape. This class of soft machines has been used to reduce control complexity and manufacturing cost of robots, [...]"
          ],
          [
           "Soft Robotics: Biological Inspiration, State of the Art, and Future Research",
           "Traditional robots have rigid underlying structures that limit their ability to interact with their environment. For example, conventional robot<br>manipulators have rigid links and can manipulate objects using only their specialised end effectors. These robots often encounter difficulties<br>operating in unstructured and highly congested environments. A variety of animals and plants exhibit complex movement with soft structures devoid of<br>rigid components. Muscular hydrostats (e.g. octopus arms and elephant trunks) are almost entirely composed of muscle and connective tissue and [...]"
          ],
          [
           "Self-Sensing Ionic Polymer Actuators: A Review",
           "Ionic electromechanically active polymers (IEAP) are laminar composites that can be considered attractive candidates for soft actuators. Their<br>outstanding properties such as low operating voltage, easy miniaturization, and noiseless operation are, however, marred by issues related to the<br>repeatability in the production and operation of these materials. Implementing closed-loop control for IEAP actuators is a viable option for<br>overcoming these issues. Since IEAP laminates also behave as mechanoelectrical sensors, it is advantageous to combine the actuating and [...]"
          ],
          [
           "Theory of dielectric elastomers",
           "In response to a stimulus, a soft material deforms, and the deformation provides a function. We call such a material a soft active material (SAM).<br>This review focuses on one class of soft active materials: dielectric elastomers. When a membrane of a dielectric elastomer is subject to a voltage<br>through its thickness, the membrane reduces thickness and expands area, possibly straining over 100%. The dielectric elastomers are being developed as<br>transducers for broad applications, including soft robots, adaptive optics, Braille displays, and electric generators. This paper reviews [...]"
          ],
          [
           "Multigait soft robot",
           "This manuscript describes a unique class of locomotive robot: A soft robot, composed exclusively of soft materials (elastomeric polymers), which is<br>inspired by animals (e.g., squid, starfish, worms) that do not have hard internal skeletons. Soft lithography was used to fabricate a pneumatically<br>actuated robot capable of sophisticated locomotion (e.g., fluid movement of limbs and multiple gaits). This robot is quadrupedal; it uses no sensors,<br>only five actuators, and a simple pneumatic valving system that operates at low pressures (< 10 psi). A combination of crawling and [...]"
          ],
          [
           "Towards flexible medical instruments: Review of flexible fluidic actuators",
           "Flexible instruments, i.e. instruments presenting a great number of degrees of freedom and able to perform snake-like movements when avoiding<br>obstacles, can find a lot of applications in the medical field. On the other hand, flexible fluidic actuators, i.e. actuators having a flexible<br>inflatable structure and actuated by fluid, present interesting features regarding medical applications. Therefore, this paper proposes to use these<br>actuators to develop medical flexible instruments.Firstly, the advantages and drawbacks linked to the use of flexible fluidic actuators are listed [...]"
          ],
          [
           "Soft Robotics for Chemists",
           "Soft robots: A methodology based on embedded pneumatic networks (PneuNets) is described that enables large‐amplitude actuations in soft elastomers by<br>pressurizing embedded channels. Examples include a structure that can change its curvature from convex to concave, and devices that act as compliant<br>grippers for handling fragile objects (e.g., a chicken egg)."
          ],
          [
           "Soft Robotics: Challenges and Perspectives",
           "There has been an increasing interest in the use of unconventional materials and morphologies in robotic systems because the underlying mechanical<br>properties (such as body shapes, elasticity, viscosity, softness, density and stickiness) are crucial research topics for our in-depth understanding<br>of embodied intelligence. The detailed investigations of physical system-environment interactions are particularly important for systematic<br>development of technologies and theories of emergent adaptive behaviors. Based on the presentations and discussion in the Future Emerging [...]"
          ],
          [
           "Electronic Muscles and Skins: A Review of Soft Sensors and Actuators",
           "This article reviews several classes of compliant materials that can be utilized to fabricate electronic muscles and skins. Different classes of<br>materials range from compliant conductors, semiconductors, to dielectrics, all of which play a vital and cohesive role in the development of next<br>generation electronics. This paper covers recent advances in the development of new materials, as well as the engineering of well-characterized<br>materials for the repurposing in applications of flexible and stretchable electronics. In addition to compliant materials, this article [...]"
          ],
          [
           "Soft robotics: Technologies and systems pushing the boundaries of robot abilities",
           "The proliferation of soft robotics research worldwide has brought substantial achievements in terms of principles, models, technologies, techniques,<br>and prototypes of soft robots. Such achievements are reviewed here in terms of the abilities that they provide robots that were not possible before.<br>An analysis of the evolution of this field shows how, after a few pioneering works in the years 2009 to 2012, breakthrough results were obtained by<br>taking seminal technological and scientific challenges related to soft robotics from actuation and sensing to modeling and control. Further [...]"
          ],
          [
           "Soft Robotics: A Perspective—Current Trends and Prospects for the Future",
           "Soft robots are primarily composed of easily deformable matter such as fluids, gels, and elastomers that match the elastic and rheological properties<br>of biological tissue and organs. Like an octopus squeezing through a narrow opening or a caterpillar rolling through uneven terrain, a soft robot must<br>adapt its shape and locomotion strategy for a broad range of tasks, obstacles, and environmental conditions. This emerging class of elastically soft,<br>versatile, and biologically inspired machines represents an exciting and highly interdisciplinary paradigm in engineering that could [...]"
          ],
          [
           "A review article: investigations on soft materials for soft robot manipulations",
           "In recent years, exploratory research on soft materials and their mechanism has been gaining in popularity. The investigations on soft materials are<br>mostly done for two reasons: (a) to develop an anthropomorphic/prosthetic hand or soft hand with human skin-like material to perform soft<br>manipulations and (b) to develop soft actuators. This paper presented a comprehensive investigation into researches on soft materials for robotic<br>applications. The primary interest of using soft materials is not to leave any marks or damage to objects during the manipulation. The other [...]"
          ],
          [
           "Soft Robotics, Transferring Theory to Application",
           "The research areas as well as the knowledge gained for the practical use of robots are growing and expanding beyond manufacturing and industrial<br>automation, making inroads in sectors such as health care and terrain sensing, as well as general assistive systems working in close interaction with<br>humans. In a situation like this, it is necessary for future robot systems to become less stiff and more specialized by taking inspiration from the<br>mechanical compliance and versatility found in natural materials and organisms. At present, a new discipline is emerging in this area, called [...]"
          ],
          [
           "Pneumatic and hydraulic microactuators: a review",
           "The development of MEMS actuators is rapidly evolving and continuously new progress in terms of efficiency, power and force output is reported.<br>Pneumatic and hydraulic are an interesting class of microactuators that are easily overlooked. Despite the 20 years of research, and hundreds of<br>publications on this topic, these actuators are only popular in microfluidic systems. In other MEMS applications, pneumatic and hydraulic actuators<br>are rare in comparison with electrostatic, thermal or piezo-electric actuators. However, several studies have shown that hydraulic and [...]"
          ],
          [
           "Review of manufacturing processes for soft biomimetic robots",
           "This paper reviews various processes for manufacturing new type of robots termed “soft biomimetic robots.” Most robots are made of rigid metallic<br>materials. But in recent years, various biomimetic robots based on soft materials and compliant parts have been developed. New manufacturing processes<br>are required to fabricate these types of robots, and the processes include Shape Deposition Manufacturing (SDM) and Smart Composite Microstructures<br>(SCM). Since the design of robots are limited by the available material and manufacturing processes, it is important to develop new [...]"
          ],
          [
           "An electrically and mechanically self-healing composite with pressure- and flexion-sensitive properties for electronic skin applications",
           "Pressure sensitivity and mechanical self-healing are two vital functions of the human skin. A flexible and electrically conducting material that can<br>sense mechanical forces and yet be able to self-heal repeatably can be of use in emerging fields such as soft robotics and biomimetic prostheses, but<br>combining all these properties together remains a challenging task. Here, we describe a composite material composed of a supramolecular organic<br>polymer with embedded nickel nanostructured microparticles, which shows mechanical and electrical self-healing properties at ambient [...]"
          ],
          [
           "Design, fabrication and control of soft robots",
           "Conventionally, engineers have employed rigid materials to fabricate precise, predictable robotic systems, which are easily modelled as rigid members<br>connected at discrete joints. Natural systems, however, often match or exceed the performance of robotic systems with deformable bodies. Cephalopods,<br>for example, achieve amazing feats of manipulation and locomotion without a skeleton; even vertebrates such as humans achieve dynamic gaits by storing<br>elastic energy in their compliant bones and soft tissues. Inspired by nature, engineers have begun to explore the design and control [...]"
          ],
          [
           "Soft robotics: a bioinspired evolution in robotics",
           "Animals exploit soft structures to move effectively in complex natural environments. These capabilities have inspired robotic engineers to incorporate<br>soft technologies into their designs. The goal is to endow robots with new, bioinspired capabilities that permit adaptive, flexible interactions with<br>unpredictable environments. Here, we review emerging soft-bodied robotic systems, and in particular recent developments inspired by soft-bodied<br>animals. Incorporating soft technologies can potentially reduce the mechanical and algorithmic complexity involved in robot design. [...]"
          ]
         ],
         "hovertemplate": "Topic=Soft Robotics<br>x=%{x}<br>y=%{y}<br>title=%{customdata[0]}<br>abstract=%{customdata[1]}<extra></extra>",
         "legendgroup": "Soft Robotics",
         "marker": {
          "color": "#3399ff",
          "size": 5,
          "symbol": "circle"
         },
         "mode": "markers",
         "name": "Soft Robotics",
         "orientation": "v",
         "showlegend": true,
         "type": "scatter",
         "x": [
          26.172483,
          26.204613,
          25.997972,
          26.2214,
          26.15593,
          26.003534,
          26.0255,
          26.293997,
          26.028522,
          26.04141,
          26.288244,
          26.155127,
          25.968725,
          26.09717,
          26.17778,
          26.02042,
          26.155085,
          25.954254,
          26.02657,
          26.168947,
          25.894424,
          26.099836,
          26.22133,
          25.92081,
          26.270226,
          26.272554,
          26.063988,
          26.213318,
          25.908539,
          26.059477,
          26.086649,
          26.0882,
          26.243357
         ],
         "xaxis": "x",
         "y": [
          2.2270982,
          2.2077465,
          2.7451336,
          2.2115502,
          2.279183,
          2.6904488,
          2.453129,
          2.0774822,
          2.7820663,
          2.658211,
          2.236961,
          2.1552482,
          2.781189,
          2.3801184,
          2.229366,
          2.4133756,
          2.2525826,
          2.7785919,
          2.7578447,
          2.1312964,
          2.7096322,
          2.3504503,
          2.2096946,
          2.704459,
          2.1469612,
          2.1804295,
          2.488121,
          2.213158,
          2.8118525,
          2.455312,
          2.7656877,
          2.3497477,
          2.1128714
         ],
         "yaxis": "y"
        },
        {
         "customdata": [
          [
           "Operations for cervical spondylotic myelopathy. A comparison of the results of anterior and posterior procedures.",
           "Over the past 19 years we have operated on 269 patients with myelopathy associated with cervical spondylosis. We report our results in 191 cases which<br>we have followed up for 1 to 12 years (average 31 months). The clinical state before and after operation was recorded using the criteria of the<br>Japanese Orthopaedic Association. Posterior operations gave better results than anterior for the more advanced myelopathies such as transverse<br>lesions, the Brown-Séquard syndrome and the motor syndromes, but the brachialgia and cord syndrome and the central cord syndrome were [...]"
          ],
          [
           "Cervical corpectomy and plate fixation for postlaminectomy kyphosis.",
           "Between 1987 and 1991, 20 patients with symptomatic postlaminectomy kyphosis were treated with anterior decompression, bone graft, and anterior<br>cervical plate. The patients were predominantly male (14:6) with a mean age of 58 years. The initial laminectomy was performed for either spondylosis<br>(80%) or spinal tumor (20%). All patients had anterior compressive pathology, which was associated with instability (45%), neck pain (75%),<br>myeloradiculopathy (90%), or severe neck deformity (30%). The mean degree of kyphosis was 38 degrees. Treatment consisted of a trial of [...]"
          ],
          [
           "Prospective, randomized, multicenter study of cervical arthroplasty: 269 patients from the Kineflex|C artificial disc investigational device exemption study with a minimum 2-year follow-up: clinical article.",
           "OBJECT: Cervical total disc replacement (CTDR) represents a relatively novel procedure intended to address some of the shortcomings associated with<br>anterior cervical discectomy and fusion (ACDF) by preserving motion at the treated level. This prospective, randomized, multicenter study evaluates<br>the safety and efficacy of a new metal-on-metal CTDR implant (Kineflex|C) by comparing it with ACDF in the treatment of single-level spondylosis with<br>radiculopathy. METHODS: The study was a prospective, randomized US FDA Investigational Device Exemption (IDE) pivotal trial conducted at 21 [...]"
          ],
          [
           "Anterior cervical decompression and arthrodesis for the treatment of cervical spondylotic myelopathy. Two to seventeen-year follow-up.",
           "We reviewed the cases of 108 patients with cervical spondylotic myelopathy who had been managed with anterior decompression and arthrodesis at our<br>institution. Operative treatment consisted of anterior discectomy, partial corpectomy, or subtotal corpectomy at one level or more, followed by<br>placement of autogenous bone graft from the iliac crest or the fibula. At the latest follow-up examination, thirty-eight of the eighty-two patients<br>who had had a preoperative gait abnormality had a normal gait, thirty-three had an improvement in gait, six had no change, four had improvement [...]"
          ],
          [
           "Neurologic Complications of Surgery for Cervical Compression Myelopathy",
           "Neurologic complications resulting from surgery for 384 cases of cervical myelopathy (cervical soft disc herniation, spondylosis, ossification of the<br>posterior longitudinal ligament) were reviewed. Surgical procedures performed included 134 anterior interbody fusions (Cloward or Robinson-Smith<br>technique), 70 subtotal corpectomies with strut bone graft, 85 laminectomies, and 95 laminoplasties. Twenty-one patients (5.5%) sustained neurologic<br>deterioration related to surgery. The deterioration was classified into two types on the basis of the neurologic signs observed: [...]"
          ],
          [
           "Diffusion-weighted MR Imaging with Apparent Diffusion Coefficient and Apparent Diffusion Tensor Maps in Cervical Spondylotic Myelopathy",
           "PURPOSE: To evaluate diffusion-weighted magnetic resonance (MR) imaging in patients with cervical spondylosis and/or myelopathy. MATERIALS AND<br>METHODS: A multishot echo-planar imaging sequence with calculation of apparent diffusion coefficient (ADC) and apparent diffusion tensor (ADT) was<br>applied in 36 patients with symptomatic cervical spondylosis. Diffusion-weighted images read by two neuroradiologists were compared with T2-weighted<br>fast spin-echo images read independently by three neuroradiologists with regard to clinical status (n = 36). MR findings in a selected subgroup of [...]"
          ],
          [
           "Cervical Laminectomy and Dentate Ligament Section for Cervical Spondylotic Myelopathy",
           "Seventy-five patients who underwent surgical treatment for cervical spondylotic myelopathy were evaluated with respect to the operative procedure<br>performed and their outcome. Forty patients underwent a laminectomy plus dentate ligament section (DLS), 18 underwent laminectomy alone, and 17<br>underwent an anterior cervical decompression and fusion (ACDF). The patients were evaluated postoperatively for both stability and for neurologic<br>outcome using a modification of the Japanese Orthopaedic Association Assessment Scale. Functional improvement occurred in all but one patient in [...]"
          ],
          [
           "Expansive Open-Door Laminoplasty for Cervical Spinal Stenotic Myelopathy",
           "Although the operative results have been improving since the air drill was introduced for cervical laminectomy instead of an ordinary rongeur, post-<br>laminectomy complications, such as postoperative fragility of the cervical spine to acute neck trauma, posterior spur formation at the vertebral body,<br>and malalignment of the lateral curvature have still remained as unsolved problems. In order to avoid these disadvantages, a new surgical technique<br>called \"expansive open-door laminoplasty\" was devised by the author in 1977, which is relatively easier, safer, and better than the [...]"
          ],
          [
           "Long-term Results of Expansive Open-Door Laminoplasty for Cervical Myelopathy−Average 14-Year Follow-up Study",
           "STUDY DESIGN: Retrospective case series on long-term follow-up results of original expansive open-door laminoplasty for cervical myelopathy due to<br>cervical spondylosis (CSM) and ossification of posterior longitudinal ligament (OPLL). OBJECTIVES: To elucidate efficacy and problems of original<br>open-door laminoplasty to improve future surgical outcomes. SUMMARY OF BACKGROUND DATA: Little information is available on long-term outcomes of<br>original open-door laminoplasty without grafts, implants, or instruments. METHOD: The study group included 80 patients who underwent original [...]"
          ],
          [
           "Long-Term Follow-up Studies of Open-Door Expansive Laminoplasty for Cervical Stenotic Myelopathy",
           "Follow-up at an average time of 7.8 years postoperatively on open-door expansive laminoplasty (EL) was carried out to determine the long-term results<br>of surgery. Thirty-three patients had ossification of the posterior longitudinal ligament and 18 had cervical spondylotic myelopathy. The average age<br>at operation was 54.7 years. Japanese Orthopaedic Association scores and recovery rates increased during the 3 years after surgery and then plateaued.<br>Radiographically, average spinal canal diameter remained enlarged past 5 years' follow-up. Factors leading to worsening of clinical [...]"
          ],
          [
           "Corpectomy Versus Laminoplasty for Multilevel Cervical Myelopathy",
           "STUDY DESIGN: Matched patient cohorts using retrospective chart and radiographic review with independent clinical and radiographic follow-up were<br>reviewed. OBJECTIVE: To compare the clinical and radiographic outcomes of multilevel corpectomy and laminoplasty using an independent matched-cohort<br>analysis. SUMMARY OF BACKGROUND DATA: The treatment of choice for multilevel cervical myelopathy remains a matter of investigation. For the<br>decompression of three or more motion segments, multilevel corpectomy and laminoplasty have proven effective while avoiding the pitfalls [...]"
          ],
          [
           "Local Kyphosis Reduces Surgical Outcomes of Expansive Open-Door Laminoplasty for Cervical Spondylotic Myelopathy",
           "STUDY DESIGN: This retrospective study analyzed the effects of cervical alignment on surgical results of expansive laminoplasty (ELAP) for cervical<br>spondylotic myelopathy (CSM). OBJECTIVE: To determine the limitation of posterior decompression by ELAP for CSM in the presence of local kyphosis.<br>SUMMARY OF BACKGROUND DATA: Several studies have reported that cervical malalignment affected surgical outcomes of ELAP. However, there has been no<br>report to demonstrate crucial determinants of surgical outcomes of ELAP for CSM in relation to cervical sagittal alignment. METHODS: The study [...]"
          ],
          [
           "Canal Diameter, Anteroposterior Compression Ratio, and Spondylotic Myelopathy of the Cervical Spine",
           "Nine patients with cervical spondylotic myelopathy, diagnosed during life, were subjected to detailed clinicopathologic study. The degree of cord<br>destruction was in good correlation with the ratio of the anteroposterior diameter to the transverse diameter, designated as an anteroposterior<br>compression ratio. Within the factors responsible for decrease in the ratio, developmental narrowing of the spinal canal was the most significant, and<br>multiplicity of spondylotic protrusion less so. The former resulted in an extensive demyelination of the posterolateral funiculus and infarction [...]"
          ],
          [
           "Preliminary Clinical Experience with the Bryan Cervical Disc Prosthesis",
           "OBJECTIVE: The concept of accelerated degeneration of adjacent disc levels as a consequence of increased stress caused by interbody fusion of the<br>cervical spine has been widely postulated. Therefore, reconstruction of a failed intervertebral disc with a functional disc prosthesis should offer<br>the same benefits as fusion while simultaneously providing motion and thereby protecting the adjacent level discs from the abnormal stresses<br>associated with fusion. This study was designed to determine whether a new, functional intervertebral cervical disc prosthesis can provide relief [...]"
          ],
          [
           "Cervical laminoplasty: a critical review.",
           "OBJECT: The technique of cervical laminoplasty was developed to decompress the spinal canal in patients with multi-level anterior compression caused<br>by ossification of the posterior longitudinal ligament or cervical spondylosis. There is a paucity of data confirming its superiority to laminectomy<br>with regard to neurological outcome, preserving spinal stability, preventing postlaminectomy kyphosis, and the development of the \"postlaminectomy<br>membrane.\" METHODS: The authors conducted a metaanalysis of the English-language laminoplasty literature, assessing neurological outcome, [...]"
          ],
          [
           "Long-term results of expansive laminoplasty for ossification of the posterior longitudinal ligament of the cervical spine: more than 10 years follow up.",
           "OBJECT: The authors report the long-term (more than 10-year) results of cervical laminoplasty for ossification of the posterior longitudinal ligament<br>(OPLL) of the cervical spine as well as the factors affecting long-term postoperative course. METHODS: The authors reviewed data obtained in 92<br>patients who underwent cervical laminoplasty between 1982 and 1990. Three patients were lost to follow up, 25 patients died within 10 years of<br>surgery, and 64 patients were followed for more than 10 years. Results were assessed using the Japanese Orthopaedic Association (JOA) scoring [...]"
          ],
          [
           "Incidence and outcome of kyphotic deformity following laminectomy for cervical spondylotic myelopathy.",
           "OBJECT: The authors undertook a study to explore the predisposing risk factors, frequency of occurrence, and clinical implications of kyphosis<br>following laminectomy for cervical spondylotic myelopathy (CSM). METHODS: Preoperative radiological studies were available in 46 patients with CSM who<br>had undergone laminectomy. Records were reviewed to obtain demographic data and operative reports. Preoperative radiographs were assessed to determine<br>spinal alignment. In a follow-up interview the authors established clinical outcome and patient satisfaction. Postoperative cervical [...]"
          ],
          [
           "Cervical corpectomy: report of 185 cases and review of the literature.",
           "OBJECT: This study was conducted to determine the indications, safety, efficacy, and complication rate associated with performing corpectomy to<br>achieve anterior decompression of neural elements or for removing anterior lesions. METHODS: Between 1987 and 1998, 185 patients underwent cervical<br>corpectomy for the treatment of degenerative spondylitic disease (81 cases), ossification of posterior longitudinal ligament (16 cases), correction of<br>postoperative kyphosis (31 cases), trauma (39 cases), tumor (10 cases), and infection (eight cases). Ninety-nine patients presented with [...]"
          ],
          [
           "Multilevel anterior cervical corpectomy and fibular allograft fusion for cervical myelopathy.",
           "This study was conducted to determine the safety and efficacy of multilevel anterior cervical corpectomy and stabilization using fibular allograft in<br>patients with cervical myelopathy. Thirty-six patients underwent this procedure for cervical myelopathy caused by spondylosis (20 patients), ossified<br>posterior longitudinal ligament (four patients), trauma (one patient), or a combination of lesions (11 patients). The mean age (+/- standard<br>deviation) of the patients was 58 +/- 10 years and 30 of the patients were men. The mean duration of symptoms before surgery was 30 +/- 6 months [...]"
          ],
          [
           "Surgical treatment for cervical spondylitic myelopathy.",
           "The long-term outcome of cervical spondylitic myelopathy after surgical treatment was retrospectively reviewed and critically evaluated in 100<br>patients with documented cervical myelopathy treated between 1978 and 1988 at our institution. Eighty-four patients were available for long-term<br>study. The median duration of follow up was 7.35 years (range 3 to 9.5 years). There were 67 men and 17 women; their ages ranged from 27 to 86 years.<br>The duration of preoperative symptoms ranged from 1 month to 10 years. Preoperative functional grade as evaluated with the Nurick Scale for the [...]"
          ],
          [
           "Radiculopathy and myelopathy at segments adjacent to the site of a previous anterior cervical arthrodesis.",
           "BACKGROUND: We studied the incidence, prevalence, and radiographic progression of symptomatic adjacent-segment disease, which we defined as the<br>development of new radiculopathy or myelopathy referable to a motion segment adjacent to the site of a previous anterior arthrodesis of the cervical<br>spine. METHODS: A consecutive series of 374 patients who had a total of 409 anterior cervical arthrodeses for the treatment of cervical spondylosis<br>with radiculopathy or myelopathy, or both, were followed for a maximum of twenty-one years after the operation. The annual incidence of [...]"
          ],
          [
           "Cervical kyphosis and myelopathy. Treatment by anterior corpectomy and strut-grafting.",
           "Between 1976 and 1984, fourteen patients who had severe cervical kyphosis and myelopathy were treated with anterior decompression and arthrodesis.<br>Eight had had spondylosis; five, a traumatic injury; and one, a benign intradural tumor. In eight of the fourteen patients, the severe kyphosis and<br>myelopathy had developed after a laminectomy of three, four, or five cervical vertebrae. The laminectomy had been done for the treatment of<br>spondylosis in five patients, of a traumatic lesion in two, and of a tumor in one. Considering all fourteen patients, an average of 2.25 [...]"
          ],
          [
           "Long-Term Results of Double-Door Laminoplasty for Cervical Stenotic Myelopathy",
           "STUDY DESIGN: A retrospective study of the long-term results from double-door laminoplasty (Kurokawa's method) for patients with myelopathy caused by<br>ossification of the posterior longitudinal ligament and cervical spondylosis was performed. OBJECTIVE: To know whether the short-term results from<br>double-door laminoplasty were maintained over a 10-year period and, if not, the cause of late deterioration. SUMMARY OF BACKGROUND DATA: There are few<br>long-term follow-up studies on the outcome of laminoplasty for cervical stenotic myelopathy. METHODS: In this study, 35 patients with [...]"
          ],
          [
           "Intermediate Follow-up After Treatment of Degenerative Disc Disease With the Bryan Cervical Disc Prosthesis: Single-Level and Bi-Level",
           "STUDY DESIGN: Prospective, concurrently enrolled, multicenter trials of the Bryan Cervical Disc Prosthesis (Medtronic Sofamor Danek, Memphis, TN) were<br>conducted for the treatment of patients with single-level and two-level (bi-level) degenerative disc disease of the cervical spine. OBJECTIVES: The<br>studies were designed to determine whether new functional intervertebral cervical disc prosthesis can provide relief from objective neurologic<br>symptoms and signs, improve the patient's ability to perform activities of daily living, decrease pain, and maintain stability and segmental [...]"
          ],
          [
           "Pedicle Screw Fixation for Nontraumatic Lesions of the Cervical Spine",
           "STUDY DESIGN: This retrospective study was conducted to analyze the clinical results in 45 patients with nontraumatic lesions of the cervical spine<br>treated by pedicle screw fixation. OBJECTIVES: To evaluate the effectiveness of pedicle screw fixation in reconstructive surgery for nontraumatic<br>cervical spinal disorders. SUMMARY OF BACKGROUND DATA: Pedicle screw fixation for hangman's fracture of the axis and traumatic lesions of the middle<br>and lower cervical spine has been reported; however, there have been no reports on pedicle screw fixation for nontraumatic lesions of the [...]"
          ],
          [
           "Interobserver and Intraobserver Reliability of the Japanese Orthopaedic Association Scoring System for Evaluation of Cervical Compression Myelopathy",
           "STUDY DESIGN: The inter- and intraobserver reliabilities of an assessment scale for cervical compression myelopathy were examined statistically. This<br>scoring system consists of seven categories: motor function of fingers, shoulder and elbow, and lower extremity; sensory function of upper extremity,<br>trunk and lower extremity; and function of the bladder. It evaluates the severity of myelopathy by allocating points based on degree of dysfunction in<br>each category. OBJECTIVES: To determine the inter- and intraobserver reliabilities of the revised scoring system (17 - 2 points) for [...]"
          ],
          [
           "Neck and Shoulder Pain After Laminoplasty",
           "STUDY DESIGN: The authors retrospectively analyzed the prevalence and features of neck and shoulder pain (axial symptoms) after anterior interbody<br>fusion and laminoplasty in patients with cervical spondylotic myelopathy. OBJECTIVES: To reveal the difference in prevalence of postoperative axial<br>symptoms between anterior interbody fusion and laminoplasty and to clarify the pathogenesis of axial symptoms after laminoplasty. SUMMARY OF<br>BACKGROUND DATA: Outcome of the cervical surgery is evaluated on neurologic status alone; axial symptoms after laminoplasty rarely have [...]"
          ],
          [
           "Anterior Cervical Discectomy and Fusion Associated Complications",
           "STUDY DESIGN: Retrospective review study with literature review. OBJECTIVE: The goal of our current study is to raise awareness on complications<br>associated with anterior cervical discectomy and fusion (ACDF) and their early detection and proper management. SUMMARY OF BACKGROUND DATA: It is<br>known that ACDF constitutes one of the most commonly performed spinal procedures. Its outcome is quite satisfactory in the majority of cases. However,<br>occasional complications can become troublesome, and in rare circumstances, catastrophic. Although there are several case reports describing [...]"
          ],
          [
           "Magnetic Resonance Imaging Study on the Results of Surgery for Cervical Compression Myelopathy",
           "The morphologic changes and signal intensity of the spinal cord on preoperative magnetic resonance images were correlated with postoperative outcomes<br>in 74 patients undergoing decompressive cervical surgery for compressive myelopathy. The transverse area of the spinal cord on T1-weighted images at<br>the level of maximum compression was closely correlated with the severity of myelopathy, duration of disease, and recovery rate as determined by the<br>Japanese Orthopaedic Association score. In patients with ossification of the posterior longitudinal ligament or cervical spondylotic [...]"
          ],
          [
           "Magnetic Resonance Imaging and Cervical Spondylotic Myelopathy",
           "Abstract Nineteen patients were examined for cervical spondylotic myelopathy with magnetic resonance imaging. Pre- and postoperative<br>magnetic resonance scans were obtained in most cases. Surgical confirmation of the pathological condition was obtained for all 19 patients. On the<br>T2-weighted scans, there was increased signal intensity within the spinal cord at the point of maximal compression. The exact cause of the increased<br>signal intensity on the T2-weighted images is not known, but is suspected to represent edema, inflammation, vascular ischemia, myelomalacia, or<br>gliosis. [...]"
          ],
          [
           "Early Reconstruction Failures After Multilevel Cervical Corpectomy",
           "STUDY DESIGN: A retrospective analysis of graft and plate complications after multilevel anterior cervical corpectomy and fusion (ACF) attributed to<br>spondylosis, stenosis, and ossification of posterior longitudinal ligament was conducted. OBJECTIVE: To identify factors contributing to graft and<br>plate complications in this population. SUMMARY OF BACKGROUND DATA: Biomechanical factors contributing to the increased morbidity associated with<br>plated multilevel ACF were evaluated. METHODS: Graft- and/or plate-related complications were retrospectively reviewed in 33 patients [...]"
          ],
          [
           "Subtotal Corpectomy Versus Laminoplasty For Multilevel Cervical Spondylotic Myelopathy",
           "STUDY DESIGN: A retrospective study was conducted. OBJECTIVE: To compare the long-term outcomes of subtotal corpectomy and laminoplasty for multilevel<br>cervical spondylotic myelopathy. SUMMARY OF BACKGROUND DATA: No study has compared the long-term outcomes between subtotal corpectomy and laminoplasty<br>for multilevel cervical spondylotic myelopathy. METHODS: In this study, 23 patients treated with subtotal corpectomy and 24 patients treated with<br>laminoplasty were followed up for 10 to 14 years after surgery. Neurologic recovery, late deterioration, axial pain, radiographic [...]"
          ],
          [
           "Technical Improvements and Results of Laminoplasty for Compressive Myelopathy in the Cervical Spine",
           "The laminoplasty reported in Spine 1982 by the author (H.T.) was modified by a technical improvement to obtain a more reliable enlargement of the<br>cervical spinal canal. The technical improvements and results are described in detail. The osteotomized laminae that floated en bloc like a hinged<br>door must be stabilized by bone blocks with wire ligatures. Thirty patients with severe cervical myelopathy due to multisegmental spondylosis or<br>ossification of posterior longitudinal ligament underwent surgery. The extent of the enlargement of the canal was 4.1 mm on the average in [...]"
          ],
          [
           "The prognosis of surgery for cervical compression myelopathy. An analysis of the factors involved.",
           "We have studied the morphometry of the spinal cord in 50 patients with cervical compression myelopathy. Computed tomographic myelography (CTM) showed<br>that the transverse area of the cord at the site of maximum compression correlated significantly with the results of surgery. In most patients with<br>less than 30 mm2 of spinal cord area, the results were poor; the cord was unable to survive. Several factors, such as chronicity of disease, age at<br>surgery and multiplicity of involvement are said to influence the results of surgery, but the transverse area of the cord at the level of [...]"
          ],
          [
           "Central corpectomy for cervical spondylotic myelopathy: a consecutive series with long-term follow-up evaluation.",
           "Since 1984, a consecutive series of patients with cervical spondylotic myelopathy has been treated by central corpectomy and strut grafting. This<br>report focuses on 40 cases operated on between 1984 and 1987 and followed from 2 to 5 years. The perioperative complication rate was 47.5%, with a<br>7.5% incidence of persistent sequelae: severe C-5 radiculopathy in one patient, swallowing dysfunction in one, and hypoglossal nerve palsy in one. No<br>single factor (age, duration of symptoms, or severity of myelopathy) was absolutely predictive of outcome; however, syndromes of short [...]"
          ],
          [
           "Complications and Mortality Associated With Cervical Spine Surgery for Degenerative Disease in the United States",
           "STUDY DESIGN: Retrospective cohort. OBJECTIVES: To describe the incidence of complications and mortality associated with surgery for degenerative<br>disease of the cervical spine using population-based data. To evaluate the associations between complications and mortality and age, primary diagnosis<br>and type of surgical procedure. SUMMARY OF BACKGROUND DATA: Recent studies have shown an increase in the number of cervical spine surgeries performed<br>for degenerative disease in the United States. However, the associations between complications and mortality and age, primary diagnosis [...]"
          ],
          [
           "Choice of Surgical Treatment for Multisegmental Cervical Spondylotic Myelopathy",
           "Three surgical procedures for multisegmental cervical spondylotic myelopathy were evaluated on the basis of a follow-up study (12-157 months) of 95<br>patients. Twenty-four patients were treated by extensive laminectomy, 50 by anterior interbody fusion by the Cloward and/or Smith-Robinson techniques,<br>and 21 by subtotal spondylectomy and fusion. Results of subtotal spondylectomy were significantly (P less than 0.01) better when compared with those<br>of the other two procedures. It was concluded that spondylosis up to three disc levels should be treated by subtotal spondylectomy and [...]"
          ],
          [
           "Laminoplasty Versus Laminectomy and Fusion for Multilevel Cervical Myelopathy",
           "STUDY DESIGN: A matched cohort clinical and radiographic retrospective analysis of laminoplasty and laminectomy with fusion for the treatment of<br>multilevel cervical myelopathy. OBJECTIVES: To compare the clinical and radiographic outcomes of two procedures increasingly used to treat multilevel<br>cervical myelopathy. SUMMARY OF BACKGROUND DATA: Traditional methods of treating multilevel cervical myelopathy (laminectomy and corpectomy) are<br>reported to have a notable frequency of complications. Laminoplasty and laminectomy with fusion have been advocated as superior procedures. [...]"
          ],
          [
           "Anterior Cervical Reconstruction Using Titanium Cages With Anterior Plating",
           "STUDY DESIGN: A preliminary outcome assessment study of titanium cage implants with anterior cervical plating in anterior cervical reconstruction.<br>OBJECTIVES: To evaluate the efficacy and safety of using titanium cage implants and anterior plating in cervical reconstruction. SUMMARY OF BACKGROUND<br>DATA: Anterior decompression and interbody fusion is a widely accepted surgical treatment for patients with cervical spondylosis. Tricortical iliac<br>crest autograft has been the gold standard but is associated with morbidity at the bone graft donor site, whereas allograft fibula is [...]"
          ],
          [
           "Late Radiographic Findings After Anterior Cervical Fusion for Spondylotic Myeloradiculopathy",
           "A retrospective study was performed to evaluate the radiographic changes that occurred at spinal levels adjacent to fused vertebrae after anterior<br>cervical fusion. One hundred six patients with cervical spondylotic myeloradiculopathy (88 men, 18 women) were followed for an average of 8.5 years.<br>The average age at follow-up was 64 years. Forty-two patients underwent a single-level fusion, 52 had a two-level fusion, and 12 had three levels<br>fused. Seventeen patients who underwent additional surgery after anterior fusion also were reviewed, with an average follow-up period of 2.9 [...]"
          ],
          [
           "Correlation Between Operative Outcomes of Cervical Compression Myelopathy and MRI of the Spinal Cord",
           "STUDY DESIGN: Magnetic resonance images of cervical compression myelopathy were retrospectively analyzed in comparison with surgical outcomes.<br>OBJECTIVES: To investigate which magnetic resonance findings in patients with cervical compression myelopathy reflect the clinical symptoms and<br>prognosis, and to determine the radiographic and clinical factors that correlate with the prognosis. SUMMARY OF BACKGROUND DATA: Signal intensity<br>changes of the spinal cord on magnetic resonance imaging in chronic cervical myelopathy are thought to be indicative of the prognosis. However, [...]"
          ],
          [
           "Laminoplasty Versus Subtotal Corpectomy| A Comparative Study of Results in Multisegmental Cervical Spondylotic Myelopathy",
           "A comparative study of surgical results was used to determine the treatment of choice for multisegmental cervical spondylotic myelopathy. Forty-one<br>patients who received subtotal corpectomy and strut grafting (SCS) and forty-two undergoing laminoplasty were followed up for at least 2 years after<br>surgery. Regarding factors known to affect surgical prognosis (age at surgery, duration of symptoms, severity of neurologic deficit, anteroposterior<br>canal diameter, transverse area of the cord at the site of maximum compression, number of levels involved), the two groups were [...]"
          ],
          [
           "Outcome of Patients Treated for Cervical Myelopathy",
           "STUDY DESIGN: This Cervical Spine Research Society (CSRS) Study is a prospective, multicenter, nonrandomized investigation of patients with cervical<br>spondylosis and disc disease. In this analysis, only patients with cervical myelopathy as the predominant syndrome were considered. OBJECTIVES: To<br>determine demographics, surgeon treatment practices, and outcomes in patients with symptomatic myelopathy. SUMMARY OF BACKGROUND DATA: Current data on<br>patient demographics and treatment practices of surgeons do not exist. There are no published prospective studies in which neurologic, [...]"
          ],
          [
           "Long-Term Follow-Up After Interbody Fusion of the Cervical Spine",
           "The aim of this work was to add to the body of data on the frequency and severity of degenerative radiographic findings at adjacent levels after<br>anterior cervical interbody fusion and on their clinical impact and to contribute to the insights about their pathogenesis. One hundred eighty<br>patients who were treated by anterior cervical interbody fusion and who had a follow-up of >60 months were clinically and radiologically examined by<br>independent investigators. For all patients, the long-term Odom score was compared with the score as obtained 6 weeks after surgery. For [...]"
          ]
         ],
         "hovertemplate": "Topic=Cervical Myelopathy<br>x=%{x}<br>y=%{y}<br>title=%{customdata[0]}<br>abstract=%{customdata[1]}<extra></extra>",
         "legendgroup": "Cervical Myelopathy",
         "marker": {
          "color": "#9933cc",
          "size": 5,
          "symbol": "circle"
         },
         "mode": "markers",
         "name": "Cervical Myelopathy",
         "orientation": "v",
         "showlegend": true,
         "type": "scatter",
         "x": [
          17.016119,
          17.021734,
          16.669064,
          16.847391,
          16.928358,
          17.030851,
          17.190264,
          17.32101,
          17.336166,
          17.330399,
          17.071419,
          17.200743,
          17.02366,
          16.685904,
          17.238314,
          17.261602,
          17.230959,
          16.89562,
          16.932676,
          17.019346,
          16.655859,
          16.987646,
          17.345121,
          16.64433,
          17.033422,
          17.035364,
          17.160282,
          16.788094,
          17.069601,
          17.028383,
          16.828407,
          17.202173,
          17.345608,
          17.032312,
          16.998442,
          16.858313,
          17.110653,
          17.222761,
          16.844471,
          16.732687,
          17.019411,
          17.183702,
          17.087177,
          16.704662
         ],
         "xaxis": "x",
         "y": [
          -11.684159,
          -12.066377,
          -11.883118,
          -11.82285,
          -11.634736,
          -11.528807,
          -12.060361,
          -12.161767,
          -12.189762,
          -12.163637,
          -12.095866,
          -12.043612,
          -11.485957,
          -11.881794,
          -12.257295,
          -12.114413,
          -12.15215,
          -11.980533,
          -11.918586,
          -11.804687,
          -11.842236,
          -12.037877,
          -12.193809,
          -11.9023695,
          -12.122969,
          -11.462265,
          -12.245224,
          -11.697091,
          -11.439014,
          -11.490382,
          -11.976019,
          -12.146064,
          -12.260926,
          -11.436605,
          -11.813352,
          -11.630198,
          -11.874645,
          -12.20724,
          -12.014174,
          -11.781257,
          -11.42787,
          -12.082764,
          -11.607539,
          -11.887109
         ],
         "yaxis": "y"
        },
        {
         "customdata": [
          [
           "The quest for resilience.",
           "In less turbulent times, executives had the luxury of assuming that business models were more or less immortal. Companies always had to work to get<br>better, but they seldom had to get different--not at their core, not in their essence. Today, getting different is the imperative. It's the challenge<br>facing Coca-Cola as it struggles to raise its \"share of throat\" in noncarbonated beverages. It's the task that bedevils McDonald's as it tries to<br>restart its growth in a burger-weary world. It's the hurdle for Sun Microsystems as it searches for ways to protect its high-margin server [...]"
          ],
          [
           "How resilience works.",
           "Why do some people bounce back from life's hardships while others despair? HBR senior editor Diane Coutu looks at the nature of individual and<br>organizational resilience, issues that have gained special urgency in light of the recent terrorist attacks, war, and recession. In the business<br>arena, resilience has found its way onto the list of qualities sought in employees. As one of Coutu's interviewees puts it, \"More than education, more<br>than experience, more than training, a person's level of resilience will determine who succeeds and who fails.\" Theories abound about what [...]"
          ],
          [
           "The Severity of Supply Chain Disruptions: Design Characteristics and Mitigation Capabilities",
           "Supply chain disruptions and the associated operational and financial risks represent the most pressing concern facing firms that compete in today's<br>global marketplace. Extant research has not only confirmed the costly nature of supply chain disruptions but has also contributed relevant insights on<br>such related issues as supply chain risks, vulnerability, resilience, and continuity. In this conceptual note, we focus on a relatively unexplored<br>issue, asking and answering the question of how and why one supply chain disruption would be more severe than another. In doing so, we [...]"
          ],
          [
           "Positive Organizational Behavior in the Workplace",
           "Drawing from the foundation of positive psychology and the recently emerging positive organizational behavior, two studies (N = 1,032 and N = 232)<br>test hypotheses on the impact that the selected positive psychological resource capacities of hope, optimism, and resilience have on desired work-<br>related employee outcomes. These outcomes include performance (self-reported in Study 1 and organizational performance appraisals in Study 2), job<br>satisfaction, work happiness, and organizational commitment. The findings generally support that employees' positive psychological resource [...]"
          ],
          [
           "Reclaiming resilience and safety: Resilience activation in the critical period of crisis",
           "When external events disrupt the normal flow of organizational and relational routines and practices, an organization’s latent capacity to rebound<br>activates to enable positive adaptation and bounce back. This article examines an unexpected organizational crisis (a shooting and standoff in a<br>business school) and presents a model for how resilience becomes activated in such situations. Three social mechanisms describe resilience activation.<br>Liminal suspension describes how crisis temporarily undoes and alters formal relational structures and opens a temporal space for organization [...]"
          ],
          [
           "The need for and meaning of positive organizational behavior",
           "Abstract This essay draws from the emerging positive psychology movement and the author's recent articles on the need for and meaning of a positive<br>approach to organizational behavior. Specifically, the argument is made that at this time, the OB field needs a proactive, positive approach<br>emphasizing strengths, rather than continuing in the downward spiral of negativity trying to fix weaknesses. However, to avoid the surface positivity<br>represented by the non‐sustainable best‐sellers, the case is made for positive organizational behavior (POB) to take advantage of the OB [...]"
          ],
          [
           "Supply chain resilience in the global financial crisis: an empirical study",
           "Purpose The objective of this paper is to conceptualise supply chain resilience (SCRES) and to identify and<br>explore empirically its relationship with the related concepts of supply chain vulnerability (SCV) and supply chain risk management (SCRM).<br>Design/methodology/approach From a review of the literature the conceptual domain of SCRES is defined and the proposed<br>relationships with SCRM and SCV are derived. Data from a longitudinal case study with three supply chains are presented to explore the relationship<br>between the concepts in the context of the global financial crisis. [...]"
          ],
          [
           "Managing Disruption Risks in Supply Chains",
           "There are two broad categories of risk affecting supply chain design and management: (1) risks arising from the problems of coordinating supply and<br>demand, and (2) risks arising from disruptions to normal activities. This paper is concerned with the second category of risks, which may arise from<br>natural disasters, from strikes and economic disruptions, and from acts of purposeful agents, including terrorists. The paper provides a conceptual<br>framework that reflects the joint activities of risk assessment and risk mitigation that are fundamental to disruption risk management in [...]"
          ],
          [
           "Building the Resilient Supply Chain",
           "In today's uncertain and turbulent markets, supply chain vulnerability has become an issue of significance for many companies. As supply chains become<br>more complex as a result of global sourcing and the continued trend to “leaning‐down”, supply chain risk increases. The challenge to business today is<br>to manage and mitigate that risk through creating more resilient supply chains."
          ],
          [
           "Disaster Dynamics: Understanding the Role of Quantity in Organizational Collapse",
           "This article examines the role that the quantity of non-novel events plays in precipitating disaster through the development of a formal<br>(mathematical) system-dynamics model. Building on existing case studies of disaster, we develop a general theory of how an organizational system<br>responds to an on-going stream of non-novel interruptions to existing plans and procedures. We show how an overaccumulation of interruptions can shift<br>an organizational system from a resilient, self-regulating regime, which offsets the effects of this accumulation, to a fragile, self- [...]"
          ],
          [
           "Adapting to environmental jolts.",
           "This paper examines organizational adaptations to an environmental jolt--a sudden and unprecedented event (in this case, a doctors' strike)-- that<br>created a natural experiment within a group of hospitals. Although adaptations were diverse and appeared anomalous, they are elucidated by considering<br>the hospitals' antecedent strategies, structures, ideologies, and stockpiles of slack resources. Assessments of the primacy of the antecedents suggest<br>that ideological and strategic variables are better predictors of adaptations to jolts than are structural variables or measures of [...]"
          ],
          [
           "POSITIVE PSYCHOLOGICAL CAPITAL: MEASUREMENT AND RELATIONSHIP WITH PERFORMANCE AND SATISFACTION",
           "Two studies were conducted to analyze how hope, resilience, optimism, and efficacy individually and as a composite higher‐order factor predicted work<br>performance and satisfaction. Results from Study 1 provided psychometric support for a new survey measure designed to assess each of these 4 facets,<br>as well as a composite factor. Study 2 results indicated a significant positive relationship regarding the composite of these 4 facets with<br>performance and satisfaction. Results from Study 2 also indicated that the composite factor may be a better predictor of performance and [...]"
          ],
          [
           "Can Positive Employees Help Positive Organizational Change? Impact of Psychological Capital and Emotions on Relevant Attitudes and Behaviors",
           "Although much attention has been devoted to understanding employee resistance to change, relatively little research examines the impact that positive<br>employees can have on organizational change. To help fill this need, the authors investigate whether a process of employees' positivity will have an<br>impact on relevant attitudes and behaviors. Specifically, this study surveyed 132 employees from a broad cross-section of organizations and jobs and<br>found: (a) Their psychological capital (a core factor consisting of hope, efficacy, optimism, and resilience) was related to their [...]"
          ],
          [
           "Psychological capital: A positive resource for combating employee stress and turnover",
           "Abstract Workplace stress is a growing concern for human resource managers. Although considerable scholarly and practical attention has been devoted<br>to stress management over the years, the time has come for new perspectives and research. Drawing from the emerging field of positive organizational<br>behavior, this study offers research findings with implications for combating occupational stress. Specifically, data from a large sample of working<br>adults across a variety of industries suggest that psychological capital (the positive resources of efficacy, hope, optimism, and [...]"
          ],
          [
           "ENSURING SUPPLY CHAIN RESILIENCE: DEVELOPMENT OF A CONCEPTUAL FRAMEWORK",
           "The views expressed in this article are those of the authors and do not necessarily reflect the official policy or position of the Air Force, the<br>Department of Defense, or the U.S. Government. In a world of turbulent change, resilience is a key competency since even the most carefully designed<br>supply chain is susceptible to unforeseen events. This article presents a new Supply Chain Resilience Framework to help businesses deal with change.<br>The conceptual framework is based on extant literature and refined through a focus group methodology. Our findings suggest that supply [...]"
          ],
          [
           "Psychological capital development: toward a micro‐intervention",
           "Abstract After first providing the meaning of psychological capital (PsyCap), we present a micro‐intervention to develop it. Drawn from hope,<br>optimism, efficacy, and resiliency development, this PsyCap Intervention (PCI) is shown to have preliminary support for not only increasing<br>participants' PsyCap, but also financial impact and high return on investment. Copyright © 2006 John Wiley & Sons, Ltd."
          ],
          [
           "Relationships, Layoffs, and Organizational Resilience",
           "The terrorist attacks of September 11, 2001, affected the U.S. airline industry more than almost any other industry. Certain airlines emerged<br>successful and demonstrated remarkable resilience while others languished. This investigation identifies reasons why some airline companies recovered<br>successfully after the attacks while others struggled. Evidence is provided that layoffs after the crisis, although intended to foster recovery,<br>instead inhibited recovery throughout the 4 years after the crisis. But, layoffs after the crisis were strongly correlated with lack of [...]"
          ],
          [
           "The development and resulting performance impact of positive psychological capital",
           "Abstract Recently, theory and research have supported psychological capital (PsyCap) as an emerging core construct linked to positive outcomes at the<br>individual and organizational level. However, to date, little attention has been given to PsyCap development through training interventions; nor have<br>there been attempts to determine empirically if such PsyCap development has a causal impact on participants' performance. To fill these gaps we first<br>conducted a pilot test of the PsyCap intervention (PCI) model with a randomized control group design. Next, we conducted a follow‐up [...]"
          ],
          [
           "The design of robust value-creating supply chain networks: A critical review",
           "This paper discusses Supply Chain Network (SCN) design problem under uncertainty, and presents a critical review of the optimization models proposed<br>in the literature. Some drawbacks and missing aspects in the literature are pointed out, thus motivating the development of a comprehensive SCN design<br>methodology. Through an analysis of supply chains uncertainty sources and risk exposures, the paper reviews key random environmental factors and<br>discusses the nature of major disruptive events threatening SCN. It also discusses relevant strategic SCN design evaluation criteria, and it [...]"
          ],
          [
           "Emerging Positive Organizational Behavior",
           "Although the value of positivity has been assumed over the years, only recently has it become a major focus area for theory building, research, and<br>application in psychology and now organizational behavior. This review article examines, in turn, selected representative positive traits (Big Five<br>personality, core self-evaluations, and character strengths and virtues), positive state-like psychological resource capacities (efficacy, hope,<br>optimism, resiliency, and psychological capital), positive organizations (drawn from positive organization scholarship), and positive [...]"
          ],
          [
           "Understanding the concept of supply chain resilience",
           "Purpose In the emerging disciplines of risk management and supply chain management, resilience is a<br>relatively undefined concept. The purpose of this paper is to present an integrated perspective on resilience through an extensive review of the<br>literature in a number of disciplines including developmental psychology and ecosystems. In addition, the paper identifies and addresses some of the<br>current theoretical gaps in the existing research. Design/methodology/approach<br>Supply chain resilience has been defined by a number of disciplines. An integrative literature review is [...]"
          ]
         ],
         "hovertemplate": "Topic=Resilience in Business and management<br>x=%{x}<br>y=%{y}<br>title=%{customdata[0]}<br>abstract=%{customdata[1]}<extra></extra>",
         "legendgroup": "Resilience in Business and management",
         "marker": {
          "color": "#66ff66",
          "size": 5,
          "symbol": "circle"
         },
         "mode": "markers",
         "name": "Resilience in Business and management",
         "orientation": "v",
         "showlegend": true,
         "type": "scatter",
         "x": [
          0.68852675,
          0.70682144,
          0.6064188,
          0.7463153,
          0.6497506,
          0.699122,
          0.56038016,
          0.58345115,
          0.6125422,
          0.62328506,
          0.69010574,
          0.7115748,
          0.74843276,
          0.7241809,
          0.5899641,
          0.73510844,
          0.67731124,
          0.7536381,
          0.57420033,
          0.7381858,
          0.55102116
         ],
         "xaxis": "x",
         "y": [
          3.9190123,
          3.9871166,
          3.6817746,
          4.3714128,
          3.9392033,
          4.32316,
          3.7079248,
          3.7102597,
          3.7762876,
          3.7542088,
          3.9502025,
          4.3331504,
          4.3695703,
          4.40223,
          3.7578907,
          4.3617506,
          3.8904605,
          4.411748,
          3.6709545,
          4.3659835,
          3.7324126
         ],
         "yaxis": "y"
        },
        {
         "customdata": [
          [
           "Fastflow: High‐Level and Efficient Streaming on Multicore",
           "This chapter first outlines FastFlow design and then shows sample use of the FastFlow programming environment together with performance results<br>achieved on various state‐of‐the‐art multicore architectures. The FastFlow framework has been designed according to four foundational principles:<br>layered design; efficiency in base mechanisms; support for stream parallelism; and a programming model based on design pattern/algorithmic skeleton<br>concepts. The core of the FastFlow framework provides an efficient implementation of single‐producer‐single‐consumer (SPSC) first in‐first out [...]"
          ],
          [
           "The Concurrency Challenge",
           "The evolutionary path of microprocessor design includes both multicore and many-core architectures. Harnessing the most computing throughput from<br>these architectures requires concurrent or parallel execution of instructions. The authors describe the challenges facing the industry as parallel-<br>computing platforms become even more widely available."
          ],
          [
           "Challenges and Potentials of Emerging Multicore Architectures",
           "We present performance results on two current multicore architectures, a STI (Sony, Toshiba, and IBM) Cell processor included in the new<br>Playstation™ 3 and a Sun UltraSPARC T2 (“Niagara 2”) machine. On the Niagara 2 we analyze typical performance patterns that emerge from the peculiar<br>way the memory controllers are activated on this chip using the standard STREAM benchmark and a shared-memory parallel lattice Boltzmann code. On the<br>Cell processor we measure the memory bandwidth and run performance tests for LBM simulations. Additionally, we show results for an application [...]"
          ],
          [
           "Software engineering for multicore systems",
           "The emergence of inexpensive parallel computers powered by multicore chips combined with stagnating clock rates raises new challenges for software<br>engineering. As future performance improvements will not come \"for free\" from increased clock rates, performance critical applications will need to be<br>parallelized. However, little is known about the engineering principles for parallel general-purpose applications. This paper presents an experience<br>report with four diverse case studies on multicore software development for general-purpose applications. They were programmed in [...]"
          ],
          [
           "Run-Time Automatic Performance Tuning for Multicore Applications",
           "Multicore hardware and system software have become complex and differ from platform to platform. Parallel application performance optimization and<br>portability are now a real challenge. In practice, the effects of tuning parameters are hard to predict. Programmers face even more difficulties when<br>several applications run in parallel and influence each other indirectly. We tackle these problems with Perpetuum, a novel operating-system-based<br>auto-tuner that is capable of tuning applications while they are running. We go beyond tuning one application in isolation and are the first [...]"
          ],
          [
           "Engineering parallel applications with tunable architectures",
           "Current multicore computers differ in many hardware characteristics. Software developers thus hand-tune their parallel programs for a specific<br>platform to achieve the best performance; this is tedious and leads to non-portable code. Although the software architecture also requires adaptation<br>to achieve best performance, it is rarely modified because of the additional implementation effort. The Tunable Architectures approach proposed in<br>this paper automates the architecture adaptation of parallel programs and uses an auto-tuner to find the best-performing software architecture [...]"
          ],
          [
           "An Approach to Performance Prediction for Parallel Applications",
           "Accurately modeling and predicting performance for large-scale applications becomes increasingly difficult as system complexity scales dramatically.<br>Analytic predictive models are useful, but are difficult to construct, usually limited in scope, and often fail to capture subtle interactions between<br>architecture and software. In contrast, we employ multilayer neural networks trained on input data from executions on the target platform. This<br>approach is useful for predicting many aspects of performance, and it captures full system complexity. Our models are developed automatically [...]"
          ],
          [
           "A view of the parallel computing landscape",
           "Writing programs that scale with increasing numbers of cores should be as easy as writing programs for sequential computers."
          ],
          [
           "Automated usability evaluation of parallel programming constructs (NIER track)",
           "Multicore computers are ubiquitous, and proposals to extend existing languages with parallel constructs mushroom. While everyone claims to make<br>parallel programming easier and less error-prone, empirical language usability evaluations are rarely done in-the-field with many users and real<br>programs. Key obstacles are costs and a lack of appropriate environments to gather enough data for representative conclusions. This paper discusses<br>the idea of automating the usability evaluation of parallel language constructs by gathering subjective and objective data directly in every [...]"
          ],
          [
           "Reengineering for Parallelism: an entry point into PLPP for legacy applications",
           "Abstract Many parallel programs begin as legacy sequential code that is later reengineered to take advantage of parallel hardware. This paper<br>presents a pattern called Reengineering for Parallelism to help with this task. The new pattern is intended to be used in conjunction with PLPP<br>(Pattern Language for Parallel Programming), described in our book (Mattson TG, Sanders BA, Massingill BL. Patterns for Parallel Programming .<br>Addison‐Wesley: Reading, MA, 2004). PLPP contains a structured collection of patterns and embodies a methodology for developing parallel programs [...]"
          ],
          [
           "Strategies for preparing computer science students for the multicore world",
           "Multicore computers have become standard, and the number of cores per computer is rising rapidly. How does the new demand for understanding of<br>parallel computing impact computer science education? In this paper, we examine several aspects of this question: (i) What parallelism body of<br>knowledge do today's students need to learn? (ii) How might these concepts and practices be incorporated into the computer science curriculum? (iii)<br>What resources will support computer science educators, including non-specialists, to teach parallel computing? (iv) What systemic obstacles [...]"
          ],
          [
           "A Modeling Approach based on UML/MARTE for GPU Architecture",
           "Nowadays, the High Performance Computing is part of the context of embedded systems. Graphics Processing Units (GPUs) are more and more used in<br>acceleration of the most part of algorithms and applications. Over the past years, not many efforts have been done to describe abstractions of<br>applications in relation to their target architectures. Thus, when developers need to associate applications and GPUs, for example, they find<br>difficulty and prefer using API for these architectures. This paper presents a metamodel extension for MARTE profile and a model for GPU<br>architectures. [...]"
          ],
          [
           "Moving Database Systems to Multicore: An Auto- Tuning Approach",
           "In the multicore era, database systems are facing new challenges to exploit parallelism and scale query performance on new processors. Taking<br>advantage of multicore, however, is not trivial and goes far beyond inserting parallel constructs into available database system code. Varying<br>hardware characteristics require different query parallelization strategies on each multicore platform. Query optimizers at the heart of each database<br>system have to be reengineered, but the problem is that these optimizers are complex. In addition, optimization best practices evolved during a [...]"
          ],
          [
           "AutoTunium: An Evolutionary Tuner for General-Purpose Multicore Applications",
           "Today's increasing diversity in multicore hardware challenges programmers when it comes to software performance optimization and portability. As<br>multicore processors are in almost every PC and server, programmers now have to parallelize a larger spectrum of applications, many of which are non-<br>numerical. To obtain good performance, programmers typically try out different software tuning parameter configurations on each platform. However,<br>this manual approach to finding good configurations in the search space is impractical due to combinatorial explosion, but yet it is common [...]"
          ],
          [
           "Performance Prophet: A Performance Modeling and Prediction Tool for Parallel and Distributed Programs",
           "High-performance computing is essential for solving large problems and for reducing the time to solution for a single problem. Current top high-<br>performance computing systems contain 1000's of processors. Therefore, new tools are needed to support the program development that will exploit high<br>degrees of parallelism. The issue of model-based performance evaluation of real world programs on large scale systems is addressed in this paper. We<br>present the PerformanceProphet, which is a performance modeling and prediction tool for parallel and distributed programs. One of the [...]"
          ],
          [
           "High-Level Multicore Programming with XJava",
           "Multicore chips are becoming mainstream, but programming them is difficult because the prevalent thread-based programming model is error-prone and<br>does not scale well. To address this problem, we designed XJava, an extension of Java that permits the direct expression of producer/consumer,<br>pipeline, master/slave, and data parallelism. The central concept of the extension is the task, a parallel activity similar to a filter in Unix. Tasks<br>can be combined with new operators to create arbitrary nestings of parallel activities. Preliminary experience with XJava and its compiler [...]"
          ],
          [
           "Performance Prediction of Parallel Applications Based on Small-Scale Executions",
           "Predicting the execution time of parallel applications in High Performance Computing (HPC) clusters has served different objectives, including helping<br>developers to find relevant areas of code that require fine tuning, designing better job schedulers to increase clusters' utilization, and detecting<br>system bottlenecks. We present a statistical approach to predict parallel application execution times using empirical analyses of the application<br>execution times for small input sizes and the time spent on various phases of execution. We model the execution time of each phase an [...]"
          ],
          [
           "CU2CL: A CUDA-to-OpenCL Translator for Multi- and Many-core Architectures",
           "The use of graphics processing units (GPUs) in high-performance parallel computing continues to become more prevalent, often as part of a<br>heterogeneous system. For years, CUDA has been the de facto programming environment for nearly all general-purpose GPU (GPGPU) applications. In spite<br>of this, the framework is available only on NVIDIA GPUs, traditionally requiring reimplementation in other frameworks in order to utilize additional<br>multi- or many-core devices. On the other hand, OpenCL provides an open and vendor-neutral programming environment and runtime system. [...]"
          ],
          [
           "Hybrid MPI/OpenMP Parallel Programming on Clusters of Multi-Core SMP Nodes",
           "Today most systems in high-performance computing (HPC) feature a hierarchical hardware design: Shared memory nodes with several multi-core CPUs are<br>connected via a network infrastructure. Parallel programming must combine distributed memory parallelization on the node interconnect with shared<br>memory parallelization inside each node. We describe potentials and challenges of the dominant programming models on hierarchically structured<br>hardware: Pure MPI (Message Passing Interface), pure OpenMP (with distributed shared memory extensions) and hybrid MPI+OpenMP in several flavors. [...]"
          ],
          [
           "Exploiting Fine-Grain Thread Parallelism on Multicore Architectures",
           "In this work we present a runtime threading system which provides an efficient substrate for fine-grain parallelism, suitable for deployment in<br>multicore platforms. Its architecture encompasses a number of optimizations that make it particularly effective in managing a large number of threads<br>and with low overheads. The runtime system has been integrated into an OpenMP implementation to allow for transparent usage under a high level<br>programming paradigm. We evaluate our implementation on two multicore systems using synthetic microbenchmarks and a real-time face [...]"
          ],
          [
           "Multicore compilation strategies and challenges",
           "To overcome challenges stemming from high power densities and thermal hot spots in microprocessors, multicore computing platforms have emerged as the<br>ubiquitous computing platform from servers down through embedded systems. Unfortunately, providing multiple cores does not directly translate into<br>increased performance or better energy efficiency for most applications. The burden is placed on software developers and tools to find and exploit<br>coarse-grain parallelism to effectively make use of the abundance of computing resources provided by these systems. Concurrent applications [...]"
          ],
          [
           "Parallelizing Bzip2: A Case Study in Multicore Software Engineering",
           "We conducted a case study of parallelizing a real program for multicore computers using currently available libraries and tools. We selected the<br>sequential Bzip2 compression program for the study because it's a computing-intensive, widely used, and relevant application in everyday life. Its<br>source code is available, and its algorithm is well documented. In addition, the algorithm is non-trivial, but, with 8,000 LOC, the application is<br>small enough to manage in a course."
          ],
          [
           "How Many Threads will be too Many? On the Scalability of OpenMP Implementations",
           "Exascale systems will exhibit much higher degrees of parallelism both in terms of the number of nodes and the number of cores per node. OpenMP is a<br>widely used standard for exploiting parallelism on the level of individual nodes. Although successfully used on today’s systems, it is unclear how<br>well OpenMP implementations will scale to much higher numbers of threads. In this work, we apply automated performance modeling to examine the<br>scalability of OpenMP constructs across different compilers and platforms. We ran tests on Intel Xeon multi-board, Intel Xeon Phi, and Blue Gene [...]"
          ],
          [
           "VERTAF/Multi-Core: A SysML-Based Application Framework for Multi-Core Embedded Software Development",
           "Multi-core processors are becoming prevalent rapidly in personal computing and embedded systems. Nevertheless, the programming environment for multi-<br>core processor-based systems is still quite immature and lacks efficient tools. In this work, we present a new VERTAF/Multi-Core framework and show<br>how software code can be automatically generated from SysML models of multi-core embedded systems. We illustrate how model-driven design based on<br>SysML can be seamlessly integrated with Intel’s threading building blocks (TBB) and the quantum framework (QF) middleware. We use a digital [...]"
          ],
          [
           "Programming Massively Parallel Architectures using MARTE: a Case Study",
           "Nowadays, several industrial applications are being ported to parallel architectures. These applications take advantage of the potential parallelism<br>provided by multiple core processors. Many-core processors, especially the GPUs(Graphics Processing Unit), have led the race of floating-point<br>performance since 2003. While the performance improvement of general- purpose microprocessors has slowed significantly, the GPUs have continued to<br>improve relentlessly. As of 2009, the ratio between many-core GPUs and multicore CPUs for peak floating-point calculation throughput is about [...]"
          ],
          [
           "Performance Modeling of MPI-based Applications on Cloud Multicore Servers",
           "While cloud computing is widely adopted in many application domains, it is not yet the case for the high performance computing (HPC) domain. HPC<br>traditionally runs on homogeneous, high-cost servers with fast networking providing for predictable performance; while bare-metal cloud offerings is<br>promising, the underlying hardware is heterogeneous, with slower network connection, making it difficult to predict performance and hence tune<br>applications. In this paper we consider performance modelling message passing interface (MPI)-based applications, being a major class of [...]"
          ],
          [
           "CUDA: SCALABLE PARALLEL PROGRAMMING FOR HIGH-PERFORMANCE SCIENTIFIC COMPUTING",
           "Graphics processing units (GPUs) originally designed for computer video cards have emerged as the most powerful chip in a high-performance<br>workstation. Unlike multicore CPU architectures, which currently ship with two or four cores, GPU architectures are “manycore” with hundreds of cores<br>capable of running thousands of threads in parallel. NVIDIA's CUDA is a co-evolved hardware-software architecture that enables high-performance<br>computing developers to harness the tremendous computational power and memory bandwidth of the GPU in a familiar programming environment - the [...]"
          ],
          [
           "Challenges in Software Development for Multicore System-on-Chip Development",
           "Multiprocessor Systems-on-Chip (MPSoC)-based platforms are becoming more common in the embedded domain. Such systems are a significant deviation from<br>the homogeneous, uniprocessor architectures that have been traditionally employed by embedded designers, thereby making the software development<br>process to effectively target the platform more challenging. Low-resource embedded systems rely on efficient implementations that are not well<br>supported by traditional solutions based on architecture virtualisation or middleware. Within this paper we examine these challenges and discuss [...]"
          ],
          [
           "A Survey of Parallel Programming Models and Tools in the Multi and Many-Core Era",
           "In this work, we present a survey of the different parallel programming models and tools available today with special consideration to their<br>suitability for high-performance computing. Thus, we review the shared and distributed memory approaches, as well as the current heterogeneous<br>parallel programming model. In addition, we analyze how the partitioned global address space (PGAS) and hybrid parallel programming models are used to<br>combine the advantages of shared and distributed memory systems. The work is completed by considering languages with specific parallel support and [...]"
          ],
          [
           "Resource Management on Multicore Systems: The ACTORS Approach",
           "High-performance embedded systems require the execution of many applications on multicore platforms and are subject to stringent restrictions and<br>constraints. The ACTORS project approach provides temporal isolation through resource reservation over a multicore platform, adapting the available<br>resources on the basis of the overall quality requirements. The architecture is fully operational on both ARM MPCore and x86 multicore platforms."
          ],
          [
           "Scala Actors: Unifying thread-based and event-based programming",
           "There is an impedance mismatch between message-passing concurrency and virtual machines, such as the JVM. VMs usually map their threads to heavyweight<br>OS processes. Without a lightweight process abstraction, users are often forced to write parts of concurrent applications in an event-driven style<br>which obscures control flow, and increases the burden on the programmer.In this paper we show how thread-based and event-based programming can be<br>unified under a single actor abstraction. Using advanced abstraction mechanisms of the Scala programming language, we implement our approach [...]"
          ],
          [
           "Modeling critical sections in Amdahl's law and its implications for multicore design",
           "This paper presents a fundamental law for parallel performance: it shows that parallel performance is not only limited by sequential code (as<br>suggested by Amdahl's law) but is also fundamentally limited by synchronization through critical sections. Extending Amdahl's software model to<br>include critical sections, we derive the surprising result that the impact of critical sections on parallel performance can be modeled as a completely<br>sequential part and a completely parallel part. The sequential part is determined by the probability for entering a critical section and [...]"
          ],
          [
           "Modeling and analysis of performances for concurrent multithread applications on multicore and graphics processing unit systems",
           "Summary The capabilities of multicore processors lead them to be widely adopted in systems at any scale, since their are able to provide more<br>computing power at a lower consumption and dissipation cost. System designers are challenged to a deeper understanding of multicore functioning in<br>order to fully exploit them while keeping the optimal balance between cores utilization and optimal throughput, response time and energy usage.<br>Besides the advancement of general purpose CPUs, the same technological evolution leads to the rise of GPUs, dramatic evolution of [...]"
          ]
         ],
         "hovertemplate": "Topic=Multicore Performance Prediction<br>x=%{x}<br>y=%{y}<br>title=%{customdata[0]}<br>abstract=%{customdata[1]}<extra></extra>",
         "legendgroup": "Multicore Performance Prediction",
         "marker": {
          "color": "#ff0066",
          "size": 5,
          "symbol": "x"
         },
         "mode": "markers",
         "name": "Multicore Performance Prediction",
         "orientation": "v",
         "showlegend": true,
         "type": "scatter",
         "x": [
          9.547166,
          10.098918,
          10.150046,
          9.943918,
          10.01299,
          10.047708,
          10.155859,
          10.127827,
          9.892694,
          10.025404,
          10.090009,
          10.340439,
          9.95282,
          9.953562,
          10.170798,
          9.847946,
          10.132527,
          10.222809,
          10.326616,
          10.086136,
          10.054875,
          10.073639,
          10.3654175,
          9.935469,
          10.374938,
          10.381371,
          10.340616,
          10.012241,
          10.366615,
          9.959033,
          9.7439995,
          10.24152,
          10.2467575
         ],
         "xaxis": "x",
         "y": [
          19.853765,
          20.078922,
          20.106977,
          20.086937,
          20.173044,
          20.213444,
          20.341757,
          20.050226,
          20.24628,
          20.080456,
          20.117456,
          20.236681,
          20.076923,
          20.15807,
          20.294329,
          19.930414,
          20.334263,
          20.169188,
          20.25476,
          20.07393,
          19.923382,
          20.218296,
          20.230946,
          20.029873,
          20.248863,
          20.332897,
          20.15401,
          19.886513,
          20.212833,
          19.888437,
          19.8267,
          20.122133,
          20.205809
         ],
         "yaxis": "y"
        },
        {
         "customdata": [
          [
           "Tourism and Economic Growth: The Case of Mauritius",
           "Tourism is now believed to provide an impetus to the economic progress of developing nations and its importance is gaining widespread recognition. In<br>fact, the relationship between exports and growth is the subject of ongoing debate, but the nature of exports has received little attention. Despite<br>the continuous efforts of developing countries to increase their exports, this strategy often adds little foreign exchange to their balance of<br>payments. For many reasons, the non-traditional exports of developing countries have too often failed to prove effective in economic [...]"
          ],
          [
           "Tourism as a Long-Run Economic Growth Factor: An Empirical Investigation for Greece Using Causality Analysis",
           "This paper empirically examines the impact of tourism on the long-run economic growth of Greece by using causality analysis of real gross domestic<br>product, real effective exchange rate and international tourism earnings. A Multivariate Auto Regressive (VAR) model is applied for the period<br>1960:I-2000:IV. The results of co-integration analysis suggest that there is one co-integrated vector among real gross domestic product, real<br>effective exchange rate and international tourism earnings. Granger causality tests based on Error Correction Models (ECMs), have indicated that [...]"
          ],
          [
           "The Effects of Tourism on Economic Growth and CO2 Emissions: A Comparison between Developed and Developing Economies",
           "This study empirically examines the dynamic relationships among tourism, economic growth, and CO 2 emissions and compares the effects of tourism on<br>economic growth and CO 2 emissions between developed and developing economies. By employing robust panel econometric techniques, the results show that<br>tourism has significant positive impacts on economic growth for both developed and developing economies, supporting the prevailing hypothesis of<br>tourism-led economic growth. The results also reveal that the impact of tourism on CO 2 emissions is reducing much faster in developed [...]"
          ],
          [
           "Does tourism development promote economic growth in transition countries? A panel data analysis",
           "This study examines causal relationships between tourism spending and economic growth in 10 transition countries for the period 1988–2011. Panel<br>causality analysis, which accounts for dependency and heterogeneity across countries, is used herein. Our empirical results support the evidence on<br>the direction of causality, and are consistent with the neutrality hypothesis for 3 of these 10 transition countries (i.e. Bulgaria, Romania and<br>Slovenia). The growth hypothesis holds for Cyprus, Latvia and Slovakia while reverse relationships were found for the Czech Republic and Poland. [...]"
          ],
          [
           "Tourism as a long-run economic growth factor: the Spanish case",
           "This paper examines the role of tourism in the Spanish long-run economic development. The tourism-led growth hypothesis is confirmed through<br>cointegration and causality testing. The results indicate that, at least, during the last three decades, economic growth in Spain has been sensible to<br>persistent expansion of international tourism. The increase of this activity has produced multiplier effects over time. External competitivity has<br>also been proved in the model to be a fundamental variable for Spanish economic growth. From the empirical analysis it can be inferred the [...]"
          ],
          [
           "Investigating the impacts of energy consumption, real GDP, tourism and trade on CO2 emissions by accounting for cross-sectional dependence: A panel study of OECD countries",
           "The objective of this study is to analyse the long-run dynamic relationship of carbon dioxide emissions, real gross domestic product (GDP), the square<br>of real GDP, energy consumption, trade and tourism under an Environmental Kuznets Curve (EKC) model for the Organization for Economic Co-operation and<br>Development (OECD) member countries. Since we find the presence of cross-sectional dependence within the panel time-series data, we apply second-<br>generation unit root tests, cointegration test and causality test which can deal with cross-sectional dependence problems. The cross- [...]"
          ],
          [
           "Tourism, trade and growth: the case of Cyprus",
           "Although the relationship between international trade and economic growth has found a wide application area in the literature over the years, this can<br>not be said about tourism and growth or trade and tourism. This study employs the bounds test for cointegration and Granger causality tests to<br>investigate a long-run equilibrium relationship between tourism, trade and real income growth, and the direction of causality among themselves for<br>Cyprus. Results reveal that tourism, trade and real income growth are cointegrated; thus, a long-run equilibrium relationship can be inferred [...]"
          ],
          [
           "Tourism and economic growth nexus revisited: A panel causality analysis for the case of the Mediterranean Region",
           "Tourism is perceived as an important source of foreign exchange that is used for financing economic growth. This study offers a modern approach to<br>tourism-led growth and investigates the causal relationship between tourism and economic growth in the European, Asian and African countries that<br>border the Mediterranean Sea. The study uses panel data for the period 1998–2011, and adopts a panel Granger causality analysis developed by<br>Dumitrescu and Hurlin (2012) to assess the contribution tourism makes to economic growth in each country. The results indicate that the direction [...]"
          ],
          [
           "Tourism expansion, tourism uncertainty and economic growth: New evidence from Taiwan and Korea",
           "This study examines the causal relationship between tourism expansion and economic growth in two Asian countries: Taiwan and South Korea. An EGARCH-M<br>model with uncertainty factors is employed to examine the direction of causality between tourism expansion and economic growth, as well as the impulse<br>impacts of uncertainty on both variables. The results indicate that the tourism-led economic growth hypothesis is supported for Taiwan while a<br>reciprocal causal relationship is found for South Korea. The significant impacts of uncertainty on growth are also identified."
          ],
          [
           "Investigating the influence of tourism on economic growth and carbon emissions: Evidence from panel analysis of the European Union",
           "The study investigates the influence of tourism on economic growth and CO2 emissions. In the empirical analysis, unit root and cointegration tests<br>using panel data of European Union countries from 1988 to 2009 are performed to examine the long-run equilibrium relationship among tourism, CO2<br>emissions, economic growth and foreign direct investment (FDI). Results from panel cointegration techniques and fixed-effects models indicate that a<br>long-run equilibrium relationship exists among these variables. Furthermore, tourism, CO2 emissions and FDI have high significant positive [...]"
          ],
          [
           "How strong is the linkage between tourism and economic growth in Europe?",
           "In this study, we examine the dynamic relationship between tourism growth and economic growth, using a newly introduced spillover index approach.<br>Based on monthly data for 10 European countries over the period 1995–2012, our analysis reveals the following empirical regularities. First, the<br>tourism-economic growth relationship is not stable over time in terms of both magnitude and direction, indicating that the tourism-led economic growth<br>(TLEG) and the economic-driven tourism growth (EDTG) hypotheses are time-dependent. Second, the aforementioned relationship is also highly [...]"
          ],
          [
           "Is tourism an engine for economic recovery? Theory and empirical evidence",
           "The purpose of this study is to examine the causal relationships between tourism development and economic growth. For this purpose, the Dumitrescu<br>and Hurlin (2012) technique was employed to analyze the casual link between tourism development and economic growth in seven European countries. The<br>results showed that there is bidirectional causality between growth in tourism receipts and economic growth, suggesting that economic growth and<br>tourism development are interdependent and that tourism development stimulates economic growth and vice versa in these countries. Theoretical [...]"
          ],
          [
           "Does Tourism Growth Influence Economic Development?",
           "Having recognized the importance of tourism to economic growth, most international organizations have begun to argue that tourism growth can<br>influence, as well, the economic and sociocultural development of society. However, recently, a new approach that criticizes the relationship between<br>both dimensions has begun to be developed; suggesting that this is not an automatic relationship. In this context, the aim of this<br>study is to determine whether the economic growth experienced in some countries as a result of the expansion of the tourism activity over the last two<br>decades [...]"
          ],
          [
           "Is the tourism-led growth hypothesis valid for Turkey?",
           "Like many developing countries, Turkey has also given priority to the development of tourism industry as a part of its economic growth strategy. This<br>study intends to investigate whether tourism has really contributed to the economic growth in Turkey. The interaction between tourism and economic<br>growth is investigated by making use of leveraged bootstrap causality tests. This method is robust to the existence of non-normality and ARCH effects.<br>Special attention is given to the choice of the optimal lag order of the empirical model. It is found that the tourism-led growth [...]"
          ],
          [
           "Tourism-led growth hypothesis in the top ten tourist destinations: New evidence using the quantile-on-quantile approach",
           "This paper examines the empirical validity of the tourism-led growth hypothesis in the top ten tourist destinations in the world (China, France,<br>Germany, Italy, Mexico, Russia, Spain, Turkey, the United Kingdom, and the United States) using the quantile-on-quantile (QQ) approach and a new index<br>of tourism activity that combines the most commonly used tourism indicators. This methodology, recently introduced by Sim and Zhou (2015), provides an<br>ideal framework with which to capture the overall dependence structure between tourism development and economic growth. The empirical [...]"
          ],
          [
           "Small sample evidence on the tourism-led growth hypothesis in Lebanon",
           "This paper investigates the contribution of tourism to economic growth in Lebanon for the time period of 1995–2010. The presence of long-run and<br>causal relationships is investigated applying the bounds testing approach to cointegration and Granger causality tests. Because of the small sample (T<br>= 16), econometric approaches and critical values used for testing receive special attention. Additionally, a number of diagnostic tests are utilised<br>to ensure that the model is suitable and correct. Interestingly, our results reveal that tourism and economic growth are cointegrated. The [...]"
          ],
          [
           "Does tourism effectively stimulate Malaysia's economic growth?",
           "This study attempts to further verify the validity of the tourism-led growth hypothesis in Malaysia using a multivariate model derived from the Solow<br>growth theory. It employs annual data from 1975 to 2011. We find that economic growth, tourism and other determinants are cointegrated. Specifically,<br>tourism has a positive impact on Malaysia's economic growth both in the short-run and in the long-run. The Granger causality test indicates that<br>tourism Granger-causes economic growth. All this provides the empirical support for the tourism-led growth hypothesis in Malaysia. In light [...]"
          ],
          [
           "Tourism expansion and economic development: The case of Taiwan",
           "This study examines the causal relationship between tourism expansion and economic development in Taiwan. A Granger causality test is performed<br>following the cointegration approach to reveal the direction of causality between economic growth and tourism expansion. Test results indicate a long-<br>run equilibrium relationship and further a bi-directional causality between the two factors. In other words, in Taiwan, tourism and economic<br>development reinforce each other. A discussion follows and managerial implications are identified based on the empirical findings."
          ],
          [
           "The impacts of international tourism demand on economic growth of small economies dependent on tourism",
           "This paper studies the impacts on economic growth of a small tourism-driven economy caused by an increase in the growth rate of international tourism<br>demand. We present a formal model and empirical evidence. The ingredients of the dynamic model are a large population of intertemporally optimizing<br>agents and an AK technology representing tourism production. The model shows that an increase in the growth of tourism demand leads to transitional<br>dynamics with gradually increasing economic growth and increasing terms of trade. In our empirical application, an econometric methodology [...]"
          ],
          [
           "How stable is the tourism-led growth hypothesis in Malaysia? Evidence from disaggregated tourism markets",
           "We contribute to the tourism-growth literature by applying the newly developed combined cointegration test and the recursive Granger causality test to<br>re-assess the stability of the tourism-led growth hypothesis in Malaysia with respect to 12 different tourism markets. The cointegration test results<br>suggest that economic growth of Malaysia is cointegrated with all the 12 selected tourism markets. However, the recursive Granger causality test shows<br>that the tourism-led growth hypothesis in Malaysia is valid and stable with respect to tourist arrivals from only 8 out of the 12 [...]"
          ],
          [
           "The contribution of tourism development to economic growth in the Korean economy",
           "This study investigates the causal relations between tourism growth and economic expansion for the Korean economy by using Engle and Granger two-stage<br>approach and a bivariate Vector Autoregression (VAR) model. Two principle results emerge from this study. First, the results of a cointegration test<br>indicate that there is no long-run equilibrium relation between two series. Second, the outcomes of Granger causality test imply the one-way causal<br>relationship of economic-driven tourism growth. The hypothesis of tourism-led economic growth is not held in the Korean economy. This [...]"
          ],
          [
           "Revisiting the tourism-led-growth hypothesis for Turkey using the bounds test and Johansen approach for cointegration",
           "This paper empirically revisits and investigates the tourism-led-growth (TLG) hypothesis in the case of Turkey by employing the bounds test and<br>Johansen approach for cointegration using annual data from 1960–2006. Although Gunduz and Hatemi-J (2005; Is the tourism-led growth hypothesis valid<br>for Turkey? Applied Economics Letters. 12, 499–504) support the TLG hypothesis for Turkey (suggesting unidirectional causation from tourism to<br>economic growth) by making use of the leveraged bootstrap causality tests, and Ongan and Demiroz (2005; The contribution of tourism to the long- [...]"
          ],
          [
           "Tourism development and economic growth: A closer look at panels",
           "This paper applies the new heterogeneous panel cointegration technique to re-investigate the long-run comovements and causal relationships between<br>tourism development and economic growth for OECD and nonOECD countries (including those in Asia, Latin America and Sub-Sahara Africa) for the<br>1990–2002 period. On the global scale, after allowing for the heterogeneous country effect, a cointegrated relationship between GDP and tourism<br>development is substantiated. It is also determined that tourism development has a greater impact on GDP in nonOECD countries than in OECD [...]"
          ],
          [
           "Assessing the dynamic economic impact of tourism for island economies",
           "Using a panel data of 19 island economies for the years that span from 1990 to 2007, this study explores the potential contribution of tourism to<br>economic growth and development within the conventional augmented Solow growth model. Since economic growth is argued to be essentially a dynamic<br>phenomenon we employ GMM method to account for these issues. The results show that tourism significantly contributes to the economic growth of island<br>economies. Moreover, the tourist-growth nexus is observed to be a dynamic phenomenon and granger causality analysis reveals a bi-causal [...]"
          ],
          [
           "The relationship between tourism receipts, real effective exchange rate and economic growth in Tunisia",
           "Abstract The objective of this paper is to analyse the role of tourism in the Tunisian economic growth. We used a trivariate model of real gross<br>domestic product (GDP), real international tourism receipts and real effective exchange rate to discuss the relationship between tourism and economic<br>growth. By using annual data for Tunisia for the period of 1970–2007, our results reveal that there is a cointegrating relationship between tourism<br>and economic growth. In addition, our results for the Granger causality test indicate that tourism has a positive impact on GDP [...]"
          ]
         ],
         "hovertemplate": "Topic=Tourism Growth Nexus<br>x=%{x}<br>y=%{y}<br>title=%{customdata[0]}<br>abstract=%{customdata[1]}<extra></extra>",
         "legendgroup": "Tourism Growth Nexus",
         "marker": {
          "color": "#669999",
          "size": 5,
          "symbol": "circle"
         },
         "mode": "markers",
         "name": "Tourism Growth Nexus",
         "orientation": "v",
         "showlegend": true,
         "type": "scatter",
         "x": [
          -7.056,
          -7.0506496,
          -7.0089064,
          -6.895943,
          -7.0285993,
          -6.90379,
          -7.066858,
          -6.9560513,
          -7.051156,
          -6.9738207,
          -6.9721465,
          -7.0908437,
          -7.0324907,
          -6.9172144,
          -6.9386787,
          -6.928342,
          -6.9490886,
          -7.129134,
          -7.008251,
          -6.9304643,
          -7.100064,
          -6.9645786,
          -7.0827785,
          -7.0093703,
          -7.064428
         ],
         "xaxis": "x",
         "y": [
          0.724568,
          0.7713144,
          0.70094067,
          0.59758663,
          0.7532815,
          0.5864285,
          0.8031705,
          0.6156934,
          0.8684307,
          0.63142085,
          0.7565511,
          0.70350635,
          0.7228917,
          0.6671424,
          0.65645814,
          0.6946262,
          0.6467884,
          0.89457893,
          0.7126088,
          0.6783365,
          0.89323354,
          0.73815674,
          0.696379,
          0.734059,
          0.6650551
         ],
         "yaxis": "y"
        },
        {
         "customdata": [
          [
           "Metal Oxide Nanoparticles as Bactericidal Agents",
           "Reactive magnesium oxide nanoparticles and halogen (Cl2, Br2) adducts of these MgO particles were allowed to contact certain bacteria and spore cells.<br>Bacteriological test data, atomic force microscopy (AFM) images, and electron microscopy (TEM) images are provided, which yield insight into the<br>biocidal action of these nanoscale materials. The tests show that these materials are very effective against Gram-positive and Gram-negative bacteria<br>as well as spores. ζ-Potential measurements show an attractive interaction between the MgO nanoparticles and bacteria and spore cells, [...]"
          ],
          [
           "Multifunctional Polymeric Micelles as Cancer-Targeted, MRI-Ultrasensitive Drug Delivery Systems",
           "We describe the development of multifunctional polymeric micelles with cancer-targeting capability via alpha(v)beta(3) integrins, controlled drug<br>delivery, and efficient magnetic resonance imaging (MRI) contrast characteristics. Doxorubicin and a cluster of superparamagnetic iron oxide (SPIO)<br>nanoparticles were loaded successfully inside the micelle core. The presence of cRGD on the micelle surface resulted in the cancer-targeted delivery<br>to alpha(v)beta(3)-expressing tumor cells. In vitro MRI and cytotoxicity studies demonstrated the ultrasensitive MRI imaging [...]"
          ],
          [
           "In vivo cancer targeting and imaging with semiconductor quantum dots",
           "We describe the development of multifunctional nanoparticle probes based on semiconductor quantum dots (QDs) for cancer targeting and imaging in<br>living animals. The structural design involves encapsulating luminescent QDs with an ABC triblock copolymer and linking this amphiphilic polymer to<br>tumor-targeting ligands and drug-delivery functionalities. In vivo targeting studies of human prostate cancer growing in nude mice indicate that the<br>QD probes accumulate at tumors both by the enhanced permeability and retention of tumor sites and by antibody binding to cancer-specific cell [...]"
          ],
          [
           "Evidence of RNAi in humans from systemically administered siRNA via targeted nanoparticles",
           "Human RNAi therapyThe ability to downregulate specific genes using systemically delivered short RNA molecules and the cellular mechanism known as RNA<br>interference has been shown previously in mouse and non-human primate models. Davis et al. have now demonstrated for the first time in humans that a<br>short interfering RNA (siRNA) molecule can be systemically delivered using nanoparticles to a solid tumour. The siRNA mediates directed cleavage of<br>its target mRNA, thereby also reducing the protein level. This proof-of-principle study confirms the potential of this technology as a [...]"
          ],
          [
           "A Nanoscale Optical Biosensor: Sensitivity and Selectivity of an Approach Based on the Localized Surface Plasmon Resonance Spectroscopy of Triangular Silver Nanoparticles",
           "Triangular silver nanoparticles ( approximately 100 nm wide and 50 nm high) have remarkable optical properties. In particular, the peak extinction<br>wavelength, lambda(max) of their localized surface plasmon resonance (LSPR) spectrum is unexpectedly sensitive to nanoparticle size, shape, and local<br>( approximately 10-30 nm) external dielectric environment. This sensitivity of the LSPR lambda(max) to the nanoenvironment has allowed us to develop a<br>new class of nanoscale affinity biosensors. The essential characteristics and operational principles of these LSPR nanobiosensors will be [...]"
          ],
          [
           "Graphene Oxide: Intrinsic Peroxidase Catalytic Activity and Its Application to Glucose Detection",
           "Carboxyl‐modified graphene oxide (GO–COOH) possesses intrinsic peroxidase‐like activity that can catalyze the reaction of peroxidase substrate<br>3,3,5,5‐tetramethylbenzidine (TMB) in the presence of H2O2 to produce a blue color reaction. A simple, cheap, and highly sensitive and selective<br>colorimetric method for glucose detection has been developed and will facilitate the utilization of GOCOOH intrinsic peroxidase activity in medical<br>diagnostics and biotechnology."
          ],
          [
           "‘Stealth’ corona-core nanoparticles surface modified by polyethylene glycol (PEG): influences of the corona (PEG chain length and surface density) and of the core composition on phagocytic uptake and plasma protein adsorption",
           "Nanoparticles possessing poly(ethylene glycol) (PEG) chains on their surface have been described as blood persistent drug delivery system with<br>potential applications for intravenous drug administration. Considering the importance of protein interactions with injected colloidal dug carriers<br>with regard to their in vivo fate, we analysed plasma protein adsorption onto biodegradable PEG-coated poly(lactic acid) (PLA), poly(lactic-co-<br>glycolic acid) (PLGA) and poly(varepsilon-caprolactone) (PCL) nanoparticles employing two-dimensional gel electrophoresis (2-D PAGE). A series [...]"
          ],
          [
           "Multifunctional Inorganic Nanoparticles for Imaging, Targeting, and Drug Delivery",
           "Drug delivery, magnetic resonance and fluorescence imaging, magnetic manipulation, and cell targeting are simultaneously possible using a<br>multifunctional mesoporous silica nanoparticle. Superparamagnetic iron oxide nanocrystals were encapsulated inside mesostructured silica spheres that<br>were labeled with fluorescent dye molecules and coated with hydrophilic groups to prevent aggregation. Water-insoluble anticancer drugs were delivered<br>into human cancer cells; surface conjugation with cancer-specific targeting agents increased the uptake into cancer cells relative to that in [...]"
          ],
          [
           "The effect of particle design on cellular internalization pathways",
           "The interaction of particles with cells is known to be strongly influenced by particle size, but little is known about the interdependent role that<br>size, shape, and surface chemistry have on cellular internalization and intracellular trafficking. We report on the internalization of specially<br>designed, monodisperse hydrogel particles into HeLa cells as a function of size, shape, and surface charge. We employ a top-down particle fabrication<br>technique called PRINT that is able to generate uniform populations of organic micro- and nanoparticles with complete control of size, shape, [...]"
          ],
          [
           "Targeted nanoparticle-aptamer bioconjugates for cancer chemotherapy in vivo",
           "Targeted uptake of therapeutic nanoparticles in a cell-, tissue-, or disease-specific manner represents a potentially powerful technology. Using<br>prostate cancer as a model, we report docetaxel (Dtxl)-encapsulated nanoparticles formulated with biocompatible and biodegradable poly(D,L-lactic-co-<br>glycolic acid)-block-poly(ethylene glycol) (PLGA-b-PEG) copolymer and surface functionalized with the A10 2'-fluoropyrimidine RNA aptamers that<br>recognize the extracellular domain of the prostate-specific membrane antigen (PSMA), a well characterized antigen expressed on the surface of [...]"
          ],
          [
           "PEG-modified gold nanorods with a stealth character for in vivo applications",
           "Gold nanorods prepared in hexadecyltrimethylammonium bromide (CTAB) solution are expected to provide novel materials for photothermal therapy and<br>photo-controlled drug delivery systems. Since gold nanorods stabilized with CTAB show strong cytotoxicity, we developed a technique to modify these<br>with polyethyleneglycol (PEG) for medical applications. PEG-modification was achieved by adding mPEG-SH in the CTAB solution, then, excess CTAB was<br>removed by dialysis. PEG-modified gold nanoparticles showed a nearly neutral surface, and had little cytotoxicity in vitro. Following [...]"
          ],
          [
           "Phase III Trial of Nanoparticle Albumin-Bound Paclitaxel Compared With Polyethylated Castor Oil–Based Paclitaxel in Women With Breast Cancer",
           "PURPOSE: ABI-007, the first biologically interactive albumin-bound paclitaxel in a nanameter particle, free of solvents, was compared with<br>polyethylated castor oil-based standard paclitaxel in patients with metastatic breast cancer (MBC). This phase III study was performed to confirm<br>preclinical studies demonstrating superior efficacy and reduced toxicity of ABI-007 compared with standard paclitaxel. PATIENTS AND METHODS: Patients<br>were randomly assigned to 3-week cycles of either ABI-007 260 mg/m(2) intravenously without premedication (n = 229) or standard paclitaxel 175 [...]"
          ],
          [
           "In vitro toxicity evaluation of graphene oxide on A549 cells",
           "Graphene and its derivatives have attracted great research interest for their potential applications in electronics, energy, materials and biomedical<br>areas. However, little information of their toxicity and biocompatibility is available. Herein, we performed a comprehensive study on the toxicity of<br>graphene oxide (GO) by examining the influences of GO on the morphology, viability, mortality and membrane integrity of A549 cells. The results<br>suggest that GO does not enter A549 cell and has no obvious cytotoxicity. But GO can cause a dose-dependent oxidative stress in cell and [...]"
          ],
          [
           "Formulation of functionalized PLGA–PEG nanoparticles for in vivo targeted drug delivery",
           "Nanoparticle (NP) size has been shown to significantly affect the biodistribution of targeted and non-targeted NPs in an organ specific manner. Herein<br>we have developed NPs from carboxy-terminated poly(d,L-lactide-co-glycolide)-block-poly(ethylene glycol) (PLGA-b-PEG-COOH) polymer and studied the<br>effects of altering the following formulation parameters on the size of NPs: (1) polymer concentration, (2) drug loading, (3) water miscibility of<br>solvent, and (4) the ratio of water to solvent. We found that NP mean volumetric size correlates linearly with polymer concentration for NPs [...]"
          ],
          [
           "Gold nanoparticles: a new X-ray contrast agent",
           "There have been few fundamental improvements in clinical X-ray contrast agents in more than 25 years, and the chemical platform of tri-iodobenzene has<br>not changed. Current agents impose serious limitations on medical imaging: short imaging times, the need for catheterization in many cases, occasional<br>renal toxicity, and poor contrast in large patients. This report is the first demonstration that gold nanoparticles may overcome these limitations.<br>Gold has higher absorption than iodine with less bone and tissue interference achieving better contrast with lower X-ray dose. [...]"
          ],
          [
           "Mediating Tumor Targeting Efficiency of Nanoparticles Through Design",
           "Here we systematically examined the effect of nanoparticle size (10-100 nm) and surface chemistry (i.e., poly(ethylene glycol)) on passive targeting<br>of tumors in vivo. We found that the physical and chemical properties of the nanoparticles influenced their pharmacokinetic behavior, which ultimately<br>determined their tumor accumulation capacity. Interestingly, the permeation of nanoparticles within the tumor is highly dependent on the overall size<br>of the nanoparticle, where larger nanoparticles appear to stay near the vasculature while smaller nanoparticles rapidly diffuse [...]"
          ],
          [
           "Elucidating the Mechanism of Cellular Uptake and Removal of Protein-Coated Gold Nanoparticles of Different Sizes and Shapes",
           "We investigated the mechanism by which transferrin-coated gold nanoparticles (Au NP) of different sizes and shapes entered mammalian cells. We<br>determined that transferrin-coated Au NP entered the cells via clathrin-mediated endocytosis pathway. The NPs exocytosed out of the cells in a linear<br>relationship to size. This was different than the relationship between uptake and size. Furthermore, we developed a mathematical equation to predict<br>the relationship of size versus exocytosis for different cell lines. These studies will provide guidelines for developing NPs for imaging and [...]"
          ],
          [
           "Effects of particle size and surface coating on cellular uptake of polymeric nanoparticles for oral delivery of anticancer drugs",
           "This study evaluated cellular uptake of polymeric nanoparticles by using Caco-2 cells, a human colon adenocarcinoma cell line, as an in vitro model<br>with the aim to apply nanoparticles of biodegradable polymers for oral chemotherapy. The feasibility was demonstrated by showing the localization and<br>quantification of the cell uptake of fluorescent polystyrene nanoparticles of standard size and poly(lactic-co-glycolic acid) (PLGA) nanoparticles<br>coated with polyvinyl alcohol (PVA) or vitamin E TPGS. Coumarin-6 loaded PLGA nanoparticles were prepared by a modified solvent [...]"
          ],
          [
           "Circulation and long-term fate of functionalized, biocompatible single-walled carbon nanotubes in mice probed by Raman spectroscopy",
           "Carbon nanotubes are promising new materials for molecular delivery in biological systems. The long-term fate of nanotubes intravenously injected into<br>animals in vivo is currently unknown, an issue critical to potential clinical applications of these materials. Here, using the intrinsic Raman<br>spectroscopic signatures of single-walled carbon nanotubes (SWNTs), we measured the blood circulation of intravenously injected SWNTs and detect SWNTs<br>in various organs and tissues of mice ex vivo over a period of three months. Functionalization of SWNTs by branched polyethylene-glycol [...]"
          ],
          [
           "Understanding the nanoparticle–protein corona using methods to quantify exchange rates and affinities of proteins for nanoparticles",
           "Due to their small size, nanoparticles have distinct properties compared with the bulk form of the same materials. These properties are rapidly<br>revolutionizing many areas of medicine and technology. Despite the remarkable speed of development of nanoscience, relatively little is known about<br>the interaction of nanoscale objects with living systems. In a biological fluid, proteins associate with nanoparticles, and the amount and<br>presentation of the proteins on the surface of the particles leads to an in vivo response. Proteins compete for the nanoparticle \"surface,\" leading [...]"
          ],
          [
           "Antimicrobial effects of silver nanoparticles",
           "The antimicrobial effects of silver (Ag) ion or salts are well known, but the effects of Ag nanoparticles on microorganisms and antimicrobial<br>mechanism have not been revealed clearly. Stable Ag nanoparticles were prepared and their shape and size distribution characterized by particle<br>characterizer and transmission electron microscopic study. The antimicrobial activity of Ag nanoparticles was investigated against yeast, Escherichia<br>coli, and Staphylococcus aureus. In these tests, Muller Hinton agar plates were used and Ag nanoparticles of various concentrations were [...]"
          ],
          [
           "Porous metal–organic-framework nanoscale carriers as a potential platform for drug delivery and imaging",
           "In the domain of health, one important challenge is the efficient delivery of drugs in the body using non-toxic nanocarriers. Most of the existing<br>carrier materials show poor drug loading (usually less than 5 wt% of the transported drug versus the carrier material) and/or rapid release of the<br>proportion of the drug that is simply adsorbed (or anchored) at the external surface of the nanocarrier. In this context, porous hybrid solids, with<br>the ability to tune their structures and porosities for better drug interactions and high loadings, are well suited to serve as nanocarriers [...]"
          ],
          [
           "Nanocrystal targeting in vivo",
           "Inorganic nanostructures that interface with biological systems have recently attracted widespread interest in biology and medicine. Nanoparticles are<br>thought to have potential as novel intravascular probes for both diagnostic (e.g., imaging) and therapeutic purposes (e.g., drug delivery). Critical<br>issues for successful nanoparticle delivery include the ability to target specific tissues and cell types and escape from the biological particulate<br>filter known as the reticuloendothelial system. We set out to explore the feasibility of in vivo targeting by using semiconductor [...]"
          ],
          [
           "In vivo photodynamic therapy using upconversion nanoparticles as remote-controlled nanotransducers",
           "A limitation of photodynamic therapy (PDT) is the depth of penetration of visible light needed for activation of the photosensitizers, restricting<br>treatment to tumors on or just under the skin’s surface or those lining internal organs and cavities. Niagara Muhammad Idris and colleagues have<br>addressed this issue by developing upconversion fluorescent nanoparticles (UNCs) that convert deeper penetrating near-infrared light to visible<br>wavelengths without sacrificing efficacy for singlet oxygen (1O2) production. The group tested the UNCs in vivo in a subcutaneous mouse tumor [...]"
          ],
          [
           "In vivo tumor targeting and spectroscopic detection with surface-enhanced Raman nanoparticle tags",
           "We describe biocompatible and nontoxic nanoparticles for in vivo tumor targeting and detection based on pegylated gold nanoparticles and surface-<br>enhanced Raman scattering (SERS). Colloidal gold has been safely used to treat rheumatoid arthritis for 50 years, and has recently been found to<br>amplify the efficiency of Raman scattering by 14–15 orders of magnitude. Here we show that large optical enhancements can be achieved under in vivo<br>conditions for tumor detection in live animals. An important finding is that small-molecule Raman reporters such as organic dyes were not [...]"
          ],
          [
           "Manufactured Nanomaterials (Fullerenes, C60) Induce Oxidative Stress in the Brain of Juvenile Largemouth Bass",
           "Although nanotechnology has vast potential in uses such as fuel cells, microreactors, drug delivery devices, and personal care products, it is prudent<br>to determine possible toxicity of nanotechnology-derived products before widespread use. It is likely that nanomaterials can affect wildlife if they<br>are accidentally released into the environment. The fullerenes are one type of manufactured nanoparticle that is being produced by tons each year, and<br>initially uncoated fullerenes can be modified with biocompatible coatings. Fullerenes are lipophilic and localize into lipid-rich [...]"
          ],
          [
           "Stimuli‐Responsive Controlled‐Release Delivery System Based on Mesoporous Silica Nanorods Capped with Magnetic Nanoparticles",
           "Stand and deliver! The release of pore‐encapsulated fluorescein molecules from a core/shell mesoporous silica nanorod/superparamagnetic iron oxide<br>nanoparticle carrier in the presence of an external magnetic field and only in response to cell‐produced antioxidants indicates promise for such<br>systems in controlled‐release drug delivery."
          ],
          [
           "Biocompatibility of Gold Nanoparticles and Their Endocytotic Fate Inside the Cellular Compartment: A Microscopic Overview",
           "Macrophages are one of the principal immune effector cells that play essential roles as secretory, phagocytic, and antigen-presenting cells in the<br>immune system. In this study, we address the issue of cytotoxicity and immunogenic effects of gold nanoparticles on RAW264.7 macrophage cells. The<br>cytotoxicity of gold nanoparticles has been correlated with a detailed study of their endocytotic uptake using various microscopy tools such as atomic<br>force microscopy (AFM), confocal-laser-scanning microscopy (CFLSM), and transmission electron microscopy (TEM). Our findings suggest that [...]"
          ],
          [
           "Silver nanoparticles as antimicrobial agent: a case study on E. coli as a model for Gram-negative bacteria",
           "The antimicrobial activity of silver nanoparticles against E. coli was investigated as a model for Gram-negative bacteria. Bacteriological tests were<br>performed in Luria-Bertani (LB) medium on solid agar plates and in liquid systems supplemented with different concentrations of nanosized silver<br>particles. These particles were shown to be an effective bactericide. Scanning and transmission electron microscopy (SEM and TEM) were used to study<br>the biocidal action of this nanoscale material. The results confirmed that the treated E. coli cells were damaged, showing formation of [...]"
          ],
          [
           "Noninvasive Imaging of Quantum Dots in Mice",
           "Quantum dots having four different surface coatings were tested for use in in vivo imaging. Localization was successfully monitored by fluorescence<br>imaging of living animals, by necropsy, by frozen tissue sections for optical microscopy, and by electron microscopy, on scales ranging from<br>centimeters to nanometers, using only quantum dots for detection. Circulating half-lives were found to be less than 12 min for amphiphilic<br>poly(acrylic acid), short-chain (750 Da) methoxy-PEG or long-chain (3400 Da) carboxy-PEG quantum dots, but approximately 70 min for long-chain (5000<br>Da) [...]"
          ],
          [
           "Oral gene delivery with chitosan–DNA nanoparticles generates immunologic protection in a murine model of peanut allergy",
           "Food allergy is a common and often fatal disease with no effective treatment. We describe here a new immunoprophylactic strategy using oral allergen-<br>gene immunization to modulate peanut antigen-induced murine anaphylactic responses. Oral administration of DNA nanoparticles synthesized by complexing<br>plasmid DNA with chitosan, a natural biocompatible polysaccharide, resulted in transduced gene expression in the intestinal epithelium. Mice receiving<br>nanoparticles containing a dominant peanut allergen gene (pCMVArah2) produced secretory IgA and serum IgG2a. Compared with non- [...]"
          ],
          [
           "A Mesoporous Silica Nanosphere-Based Carrier System with Chemically Removable CdS Nanoparticle Caps for Stimuli-Responsive Controlled Release of Neurotransmitters and Drug Molecules",
           "An MCM-41 type mesoporous silica nanosphere-based (MSN) controlled-release delivery system has been synthesized and characterized using surface-<br>derivatized cadmium sulfide (CdS) nanocrystals as chemically removable caps to encapsulate several pharmaceutical drug molecules and neurotransmitters<br>inside the organically functionalized MSN mesoporous framework. We studied the stimuli-responsive release profiles of vancomycin- and adenosine<br>triphosphate (ATP)-loaded MSN delivery systems by using disulfide bond-reducing molecules, such as dithiothreitol (DTT) and mercaptoethanol (ME), [...]"
          ],
          [
           "Multifunctional Uniform Nanoparticles Composed of a Magnetite Nanocrystal Core and a Mesoporous Silica Shell for Magnetic Resonance and Fluorescence Imaging and for Drug Delivery",
           "Magnetic, fluorescent core–shell nanoparticles consist of a single Fe3O4 nanocrystal core and a dye‐doped mesoporous silica shell with a poly(ethylene<br>glycol) coating (see picture of TEM images and schematic depictions). These nanoparticles can be used as magnetic resonance and fluorescence imaging<br>agents, and as drug delivery vehicles, thus making them novel candidates for simultaneous cancer diagnosis and therapy."
          ],
          [
           "Physical−Chemical Aspects of Protein Corona: Relevance to in Vitro and in Vivo Biological Impacts of Nanoparticles",
           "It is now clearly emerging that besides size and shape, the other primary defining element of nanoscale objects in biological media is their long-<br>lived protein (\"hard\") corona. This corona may be expressed as a durable, stabilizing coating of the bare surface of nanoparticle (NP) monomers, or it<br>may be reflected in different subpopulations of particle assemblies, each presenting a durable protein coating. Using the approach and concepts of<br>physical chemistry, we relate studies on the composition of the protein corona at different plasma concentrations with structural data on [...]"
          ],
          [
           "Effects of particle size and surface charge on cellular uptake and biodistribution of polymeric nanoparticles",
           "To elucidate the effects of particle size and surface charge on cellular uptake and biodistribution of polymeric nanoparticles (NPs), rhodamine B<br>(RhB) labeled carboxymethyl chitosan grafted NPs (RhB-CMCNP) and chitosan hydrochloride grafted NPs (RhB-CHNP) were developed as the model negatively<br>and positively charged polymeric NPs, respectively. These NPs owned well defined particle sizes (150-500 nm) and Zeta potentials (-40 mV - +35 mV).<br>FITC labeled protamine sulfate (FITC-PS) loaded RhB-CMCNP and camptothecin (CPT) loaded RhB-CHNP with high encapsulation efficiency were [...]"
          ],
          [
           "Shape effects of filaments versus spherical particles in flow and drug delivery",
           "Interaction of spherical particles with cells and within animals has been studied extensively, but the effects of shape have received little<br>attention. Here we use highly stable, polymer micelle assemblies known as filomicelles to compare the transport and trafficking of flexible filaments<br>with spheres of similar chemistry. In rodents, filomicelles persisted in the circulation up to one week after intravenous injection. This is about ten<br>times longer than their spherical counterparts and is more persistent than any known synthetic nanoparticle. Under fluid flow conditions, [...]"
          ],
          [
           "Micellar Nanocontainers Distribute to Defined Cytoplasmic Organelles",
           "Block copolymer micelles are water-soluble biocompatible nanocontainers with great potential for delivering hydrophobic drugs. An understanding of<br>their cellular distribution is essential to achieving selective delivery of drugs at the subcellular level. Triple-labeling confocal microscopy in<br>live cells revealed the localization of micelles in several cytoplasmic organelles, including mitochondria, but not in the nucleus. Moreover, micelles<br>change the cellular distribution of and increase the amount of the agent delivered to the cells. These micelles may thus be worth exploring [...]"
          ],
          [
           "Titanium Dioxide Nanoparticles in Food and Personal Care Products",
           "Titanium dioxide is a common additive in many food, personal care, and other consumer products used by people, which after use can enter the sewage<br>system and, subsequently, enter the environment as treated effluent discharged to surface waters or biosolids applied to agricultural land,<br>incinerated wastes, or landfill solids. This study quantifies the amount of titanium in common food products, derives estimates of human exposure to<br>dietary (nano-) TiO(2), and discusses the impact of the nanoscale fraction of TiO(2) entering the environment. The foods with the highest content [...]"
          ],
          [
           "Biodegradable luminescent porous silicon nanoparticles for in vivo applications",
           "Nanomaterials that can circulate in the body hold great potential to diagnose and treat disease, but suffer from problems such as toxicity. Porous<br>silicon nanoparticles have now been engineered to concomitantly image tumours or organs within the body, deliver therapeutics and resorb in vivo into<br>benign components that clear renally."
          ],
          [
           "Reconstituting Organ-Level Lung Functions on a Chip",
           "Here, we describe a biomimetic microsystem that reconstitutes the critical functional alveolar-capillary interface of the human lung. This bioinspired<br>microdevice reproduces complex integrated organ-level responses to bacteria and inflammatory cytokines introduced into the alveolar space. In<br>nanotoxicology studies, this lung mimic revealed that cyclic mechanical strain accentuates toxic and inflammatory responses of the lung to silica<br>nanoparticles. Mechanical strain also enhances epithelial and endothelial uptake of nanoparticulates and stimulates their transport into [...]"
          ],
          [
           "Aerosol-assisted self-assembly of mesostructured spherical nanoparticles",
           "Particles possessing nanometre-scale pores of well-defined size and connectivity are of interest for catalysis, chromatography and controlled release<br>of drugs, and as fillers with low dielectric constant, pigments and hosts for optically active compounds1,2. Silica containing ordered mesopores (of<br>nanometre-scale width) can be prepared by templating of surfactant3,4 and block copolymer5 liquid-crystalline mesophases, and interfacial phenomena<br>have been used to control the macroscopic form of these materials, providing mesoporous particles1,6, fibres7,8 and films9,10. A variety [...]"
          ],
          [
           "Transferrin-functionalized nanoparticles lose their targeting capabilities when a biomolecule corona adsorbs on the surface",
           "Nanoparticles have been proposed as carriers for drugs, genes and therapies to treat various diseases1,2. Many strategies have been developed to<br>target nanomaterials to specific or over-expressed receptors in diseased cells, and these typically involve functionalizing the surface of<br>nanoparticles with proteins, antibodies or other biomolecules. Here, we show that the targeting ability of such functionalized nanoparticles may<br>disappear when they are placed in a biological environment. Using transferrin-conjugated nanoparticles, we found that proteins in the media can [...]"
          ],
          [
           "Nanoparticle Size and Surface Chemistry Determine Serum Protein Adsorption and Macrophage Uptake",
           "Delivery and toxicity are critical issues facing nanomedicine research. Currently, there is limited understanding and connection between the<br>physicochemical properties of a nanomaterial and its interactions with a physiological system. As a result, it remains unclear how to optimally<br>synthesize and chemically modify nanomaterials for in vivo applications. It has been suggested that the physicochemical properties of a nanomaterial<br>after synthesis, known as its \"synthetic identity\", are not what a cell encounters in vivo. Adsorption of blood components and interactions [...]"
          ],
          [
           "Intrinsic peroxidase-like activity of ferromagnetic nanoparticles",
           "Nanoparticles containing magnetic materials, such as magnetite (Fe3O4), are particularly useful for imaging and separation techniques. As these<br>nanoparticles are generally considered to be biologically and chemically inert, they are typically coated with metal catalysts, antibodies or enzymes<br>to increase their functionality as separation agents. Here, we report that magnetite nanoparticles in fact possess an intrinsic enzyme mimetic<br>activity similar to that found in natural peroxidases, which are widely used to oxidize organic substrates in the treatment of wastewater or [...]"
          ],
          [
           "Accumulation of sub-100 nm polymeric micelles in poorly permeable tumours depends on size",
           "A major goal in cancer research is to develop carriers that can deliver drugs effectively and without side effects. Liposomal and particulate carriers<br>with diameters of ∼100 nm have been widely used to improve the distribution and tumour accumulation of cancer drugs, but so far they have only been<br>effective for treating highly permeable tumours. Here, we compare the accumulation and effectiveness of different sizes of long-circulating, drug-<br>loaded polymeric micelles (with diameters of 30, 50, 70 and 100 nm) in both highly and poorly permeable tumours. All the polymer micelles [...]"
          ],
          [
           "Colloidal Gold: A Novel Nanoparticle Vector for Tumor Directed Drug Delivery",
           "Colloidal gold, a sol comprised of nanoparticles of Au(0), has been used as a therapeutic for the treatment of cancer as well as an indicator for<br>immunodiagnostics. However, the use of these gold nanoparticles for in vivo drug delivery has never been described. This communication outlines the<br>development of a colloidal gold (cAu) nanoparticle vector that targets the delivery of tumor necrosis factor (TNF) to a solid tumor growing in mice.<br>The optimal vector, designated PT-cAu-TNF, consists of molecules of thiol-derivatized PEG (PT) and recombinant human TNF that are directly [...]"
          ],
          [
           "Tissue biodistribution and blood clearance rates of intravenously administered carbon nanotube radiotracers",
           "Carbon nanotubes (CNT) are intensively being developed for biomedical applications including drug and gene delivery. Although all possible clinical<br>applications will require compatibility of CNT with the biological milieu, their in vivo capabilities and limitations have not yet been explored. In<br>this work, water-soluble, single-walled CNT (SWNT) have been functionalized with the chelating molecule diethylentriaminepentaacetic (DTPA) and<br>labeled with indium ((111)In) for imaging purposes. Intravenous (i.v.) administration of these functionalized SWNT (f-SWNT) followed by [...]"
          ],
          [
           "Particle size-dependent organ distribution of gold nanoparticles after intravenous administration",
           "A kinetic study was performed to determine the influence of particle size on the in vivo tissue distribution of spherical-shaped gold nanoparticles in<br>the rat. Gold nanoparticles were chosen as model substances as they are used in several medical applications. In addition, the detection of the<br>presence of gold is feasible with no background levels in the body in the normal situation. Rats were intravenously injected in the tail vein with<br>gold nanoparticles with a diameter of 10, 50, 100 and 250 nm, respectively. After 24 h, the rats were sacrificed and blood and various organs [...]"
          ],
          [
           "Shell-isolated nanoparticle-enhanced Raman spectroscopy",
           "Raman spectroscopy unleashedSurface-enhanced Raman scattering (SERS) spectroscopy is a powerful analytical technique able to detect substances down to<br>single molecule level. Its applications are limited, however, because to realize a substantial Raman signal requires metal substrates that either have<br>roughened surfaces or take the form of nanoparticles. An innovative approach is now demonstrated, where the substance under investigation, on a<br>generic substrate, is covered by a layer of 'smart dust' consisting of gold nanoparticles coated by an ultrathin insulating shell of silica [...]"
          ],
          [
           "Cancer Cell Imaging and Photothermal Therapy in the Near-Infrared Region by Using Gold Nanorods",
           "Due to strong electric fields at the surface, the absorption and scattering of electromagnetic radiation by noble metal nanoparticles are strongly<br>enhanced. These unique properties provide the potential of designing novel optically active reagents for simultaneous molecular imaging and<br>photothermal cancer therapy. It is desirable to use agents that are active in the near-infrared (NIR) region of the radiation spectrum to minimize the<br>light extinction by intrinsic chromophores in native tissue. Gold nanorods with suitable aspect ratios (length divided by width) can absorb [...]"
          ]
         ],
         "hovertemplate": "Topic=Nanopharmaceuticals OR Nanonutraceuticals<br>x=%{x}<br>y=%{y}<br>title=%{customdata[0]}<br>abstract=%{customdata[1]}<extra></extra>",
         "legendgroup": "Nanopharmaceuticals OR Nanonutraceuticals",
         "marker": {
          "color": "#996633",
          "size": 5,
          "symbol": "circle"
         },
         "mode": "markers",
         "name": "Nanopharmaceuticals OR Nanonutraceuticals",
         "orientation": "v",
         "showlegend": true,
         "type": "scatter",
         "x": [
          14.198546,
          14.423052,
          14.496385,
          14.335911,
          14.085594,
          14.472329,
          13.706475,
          14.424846,
          13.91944,
          14.306128,
          14.30414,
          14.123254,
          14.35099,
          14.042017,
          14.179226,
          13.995663,
          13.8605175,
          14.048434,
          14.179786,
          13.749861,
          13.992369,
          14.362269,
          14.415198,
          14.439807,
          14.491806,
          13.934953,
          14.455616,
          13.856645,
          14.084387,
          14.357286,
          14.099781,
          14.372973,
          14.483432,
          13.747721,
          13.964747,
          14.044059,
          14.421648,
          13.943059,
          14.414012,
          14.549291,
          14.359933,
          13.870936,
          13.787103,
          14.492724,
          14.12428,
          14.257235,
          14.131059,
          13.923566,
          14.402015,
          14.4065075
         ],
         "xaxis": "x",
         "y": [
          -2.5524387,
          -2.4416904,
          -2.196197,
          -2.2325513,
          -2.4439805,
          -2.4532614,
          -2.3428233,
          -2.5511885,
          -2.553949,
          -2.358314,
          -2.1959012,
          -2.491313,
          -2.262289,
          -2.5400734,
          -2.0615127,
          -2.49961,
          -2.3731537,
          -2.5252483,
          -2.0236557,
          -2.418681,
          -2.5679626,
          -2.4355454,
          -2.2442515,
          -2.2172046,
          -2.2970667,
          -2.1692462,
          -2.6385078,
          -2.2505944,
          -2.5390112,
          -2.1314778,
          -2.3758466,
          -2.7396164,
          -2.5175314,
          -2.4203823,
          -2.5427544,
          -2.584342,
          -2.5056875,
          -2.1598926,
          -2.1798778,
          -1.9944628,
          -2.7458892,
          -2.4441354,
          -2.3416555,
          -2.56821,
          -2.5199568,
          -2.0988975,
          -2.0821369,
          -2.1286795,
          -2.4481766,
          -2.2064517
         ],
         "yaxis": "y"
        },
        {
         "customdata": [
          [
           "An evaluation of conceptual business process modelling languages",
           "Conceptual Business Process Modelling Languages (BPMLs) express certain aspects of processes (e.g. activities, roles, interactions, data, etc.) and<br>address different application areas. To evaluate BPMLs, a general framework is required. Although a lot of BPMLs are available in research and<br>industry, an established evaluation framework as well as a comprehensive evaluation of BPMLs is missing. To bridge this gap, we propose a generic<br>meta-model that captures a wide range of process concepts and evaluate seven BPMLs based on this meta-model."
          ],
          [
           "A language-mapping approach to action-oriented development of information systems",
           "Two important views in the development of information systems are the action view and the reaction view which govern the areas of business process<br>modelling and information systems modelling, respectively. We suggest an approach to mediate between these partially conflicting views by specifying a<br>language-mapping framework. In other words, we specify a transition from a process model with human actors to an IS model with inanimate agents."
          ],
          [
           "Workflow Resource Patterns: Identification, Representation and Tool Support",
           "In the main, the attention of workflow researchers and workflow developers has focussed on the process perspective, i.e., control-flow. As a result,<br>issues associated with the resource perspective, i.e., the people and machines actually doing the work, have been largely neglected. Although the<br>process perspective is of most significance, appropriate consideration of the resource perspective is essential for successful implementation of<br>workflow technology. Previous work has identified recurring, generic constructs in the control-flow and data perspectives, and presented them in [...]"
          ],
          [
           "UMLPACE for Modeling and Verification of Complex Business Requirements in Event-Driven Process Chain (EPC)",
           "Business processes (BPs) are often modeled to elaborate process-related business requirements (BRs). This leads to verify the complex BRs in early<br>automation stages. Among various BP languages, event-driven process chain (EPC) is a well-known semi-formal modeling language, which is verifiable<br>after transforming it into any other formal language, such as, timed automata or Petri nets. However, full potential of EPC cannot be exploited as yet<br>because existing EPC tools can only model or verify the simple patterns and they lack the modeling/verification of complex patterns. [...]"
          ],
          [
           "Configuration Based Workflow Composition",
           "Automatic or assisted workflow composition is a field of intense research for applications to the world wide web or to business process modeling.<br>Workflow composition is traditionally addressed in various ways, generally via theorem proving techniques. The originality of this research stems from<br>the observation that building a composite workflow bears strong relationships with finite model search, and that some workflow languages can be<br>defined as constrained object metamodels [1], [2]. This leads to consider the viability of applying configuration techniques to this problem. [...]"
          ],
          [
           "Modeling process-related RBAC models with extended UML activity models",
           "ContextBusiness processes are an important source for the engineering of customized software systems and are constantly gaining attention in the area<br>of software engineering as well as in the area of information and system security. While the need to integrate processes and role-based access control<br>(RBAC) models has been repeatedly identified in research and practice, standard process modeling languages do not provide corresponding language<br>elements.ObjectiveIn this paper, we are concerned with the definition of an integrated approach for modeling processes and process-related [...]"
          ],
          [
           "Formalising Workflow: A CCS-inspired Characterisation of the YAWL Workflow Patterns",
           "We present work concerning the formal specification of business processes. It is of substantial benefit to be able to pin down the meaning of business<br>processes precisely. This is an end in itself, but we are also concerned to do so in order that we might prove properties about the business processes<br>that are being specified. It is a notable characteristic of most languages for representing business processes that they lack a robust semantics, and<br>a notable characteristic of most commercial Business Process Management products that they have no support for verification of [...]"
          ],
          [
           "An Open Platform for Business Process Modeling and Verification",
           "In this paper we present the BPAL platform that includes a logicbased language for business process (BP) modeling and a reasoning mechanism providing<br>support for several tasks. Firstly, the definition of a BP meta-model (MM) consisting of a set of rules that guide the BP designers in their work.<br>Secondly, given a BP, the BPAL platform allows for the automatic verification of the compliance (well-formedness) of a given BP w.r.t. the defined MM.<br>Finally, the execution semantics of a BP is given in term of its instances (referred to as traces) to provide services for i) checking if [...]"
          ],
          [
           "Knowledge modelling in weakly‐structured business processes",
           "In this paper we present a new approach for integrating knowledge management and business process management. We focus on the modelling of<br>weakly‐structured knowledge‐intensive business processes. We develop a framework for modelling this type of processes that explicitly considers<br>knowledge‐related tasks and knowledge objects and present a workflow tool that is an implementation of our theoretical meta‐model. As an example, we<br>sketch one case study, the process for granting full old age pension as it is performed in the Greek Social Security Institution. Finally we [...]"
          ],
          [
           "Process Query Language: A Way to Make Workflow Processes More Flexible",
           "Many requirements for a business process depend on the workflow execution data that includes common data for all the population of processes, state of<br>resources, state of processes, etc. The natural way to specify and implement such requirements is to put them into the process definition. In order to<br>do it, we need: (1) a generalised workflow metamodel that includes data on the workflow environment, process definitions, and process execution; (2) a<br>powerful and flexible query language addressing the metamodel; (3) integration of a query language with a business process [...]"
          ],
          [
           "Beyond Control-Flow: Extending Business Process Configuration to Roles and Objects",
           "A configurable process model is an integrated representation of multiple variants of a business process. It is designed to be individualized to meet a<br>particular set of requirements. As such, configurable process models promote systematic reuse of proven or common practices. Existing notations for<br>configurable process modeling focus on capturing tasks and control-flow dependencies, neglecting equally important aspects of business processes such<br>as data flow, material flow and resource management. This paper fills this gap by proposing an integrated meta-model for configurable [...]"
          ],
          [
           "A Meta-Meta-Model For Seven Business Process Modeling Languages",
           "Many different business process modelling languages (BPMLs) have been designed in recent years. In cross-organizational business processes and<br>heterogeneous organizations where multiple BPMLs are deployed there is a need for a unified view to ease communication and foster understandability.<br>This paper proposes a language independent abstraction of seven mainstream BPMLs' concepts, in a unified meta-meta model based on an analysis of these<br>modelling languages. Generic concepts are identified and a unified meta-model is developed. An ontological analysis of the representational [...]"
          ],
          [
           "UML Metamodel-based Workflow Modeling and Execution",
           "In this paper, we present a UML metamodel-based approach for creating and executing workflow models. The workflow modeling language is introduced<br>through its abstract syntax, and an evaluation shows how this language supports known workflow patterns. Some patterns can be expressed easier<br>compared to established languages like EPCs or BPMN. Organizational and data aspects in workflow models can be described on the basis of the presented<br>metamodel. The workflow models can be instantiated and executed with a tool realizing parts of the UML action semantics. At an early stage of [...]"
          ],
          [
           "Extending BPMN for Business Activity Monitoring",
           "Real-time access to key performance indicators is necessary to ensure timeliness and effectiveness of operational business processes. The concept of<br>Business Activity Monitoring (BAM) refers to the observation, analysis, and presentation of real-time information about business activities across<br>systems and companies' borders. Designing and maintaining BAM applications is challenging, as the involved concepts (e.g., business processes, audit<br>logs, performance measures) though being strongly interrelated— are developed by different communities of practice. Also, they reside on [...]"
          ],
          [
           "A Metamodel Based Perspective on the Adaptation of a Semantic Business Process Modeling Language to the Financial Sector",
           "Process modeling is an important prerequisite to process reorganization and management. As a result, many companies have spent much effort on process<br>documentation, while hardly gaining equivalent benefits in the analysis and usage of the resulting process models. To balance the cost-benefit-ratio<br>of process modeling projects with respect to their later usage, especially regarding automatic process model analysis (i.e. for optimization purposes<br>etc.), new domain-specific and thus semantic business process modeling languages (SBPML) have been proposed for selected domains. In [...]"
          ],
          [
           "Towards a decision-aware declarative process modeling language for knowledge-intensive processes",
           "Modeling loosely framed and knowledge-intensive business processes with the currently available process modeling languages is very challenging. Some<br>lack the flexibility to model this type of processes, while others are missing one or more perspectives needed to add the necessary level of detail to<br>the models. In this paper we have composed a list of requirements that a modeling language should fulfil in order to adequately support the modeling<br>of this type of processes. Based on these requirements, a metamodel for a new modeling language was developed that satisfies them all. [...]"
          ],
          [
           "Towards a meta-modeling approach for social business process requirements capture",
           "A Social Business Process (SBP) is the result of blending social computing (a.k.a. Web 2.0) with business process (BP). Despite the benefits of SBP to<br>enterprises, several limitations continue to undermine them. In this paper, we address two specific limitations, namely the difficulty of capturing<br>SBP's requirements and the lack of a definition for SBP. Thus, meta-modeling is used to capture requirements from organizational, technological, and<br>management perspectives. In addition, we introduce a definition for SBP by enriching an existing BP meta-model with social concepts. To [...]"
          ],
          [
           "KnowledgeScope: managing knowledge in context",
           "Knowledge repositories have been implemented in many organizations, but they often suffer from non-use. This research considers two key design factors<br>that cause non-use: the extra burden on users to document knowledge in the repository, and the lack of a standard knowledge structure that facilitates<br>knowledge sharing among users with different perspectives. We propose a design of a knowledge management system called KnowledgeScope that addresses<br>these problems through (1) an integrated workflow support capability that captures and retrieves knowledge as an organizational [...]"
          ],
          [
           "Towards a BPMN 2.0 Ontology",
           "The Business Process Model and Notation (BPMN) is a widely used standard for business process modelling and maintained by the Object Management Group<br>(OMG). However, the BPMN 2.0 specification is quite comprehensive and spans more than 500 pages. The definition of an element is distributed across<br>different sections and sometimes conflicting. In addition, the structure of the elements and their relationships are described within the metamodel,<br>however, further syntactical rules are defined within the natural text. Therefore, this paper defines an ontology that formally represents [...]"
          ],
          [
           "A metamodel to integrate business processes time perspective in BPMN 2.0",
           "ContextBusiness Process Management (BPM) is becoming a strategic advantage for organizations to streamline their operations. Most business experts are<br>betting for OMG Business Process Model and Notation (BPMN) as de-facto standard (ISO/IEC 19510:2013) and selected technology to model processes. The<br>temporal dimension underlies in any kind of process however, technicians need to shape this perspective that must also coexist with task control flow<br>aspects, as well as resource and case perspectives. BPMN poorly gathers temporary rules. This is why there are contributions that [...]"
          ],
          [
           "M3D",
           "Nowadays, Web Applications (WAs) are complex software systems, used by multiple users with different roles and often developed to support and manage<br>business processes. Due to the changing nature of the supported processes, WAs need to be easily and quickly modified, to adapt and align them to the<br>processes they support. In recent years, Model Driven Engineering (MDE) approaches have been proposed and used to develop and evolve WAs. However, the<br>definition of appropriate MDE approaches for the development of flexible process-centric WAs is still limited. In particular, [...]"
          ],
          [
           "Integrating the Goal and Business Process Perspectives in Information System Analysis",
           "There are several motivations to promote investment and scientific effort in the integration of intentional and operational perspectives:<br>organisational reengineering, continuous improvement of business processes, alignment among complementary analysis perspectives, information<br>traceability, etc. In this paper we propose the integration of two modelling languages that support the creation of goal and business process models:<br>the i* goal-oriented modelling method and Communication Analysis, a communication-oriented business process modelling method. We describe [...]"
          ]
         ],
         "hovertemplate": "Topic=Business Process Meta Models<br>x=%{x}<br>y=%{y}<br>title=%{customdata[0]}<br>abstract=%{customdata[1]}<extra></extra>",
         "legendgroup": "Business Process Meta Models",
         "marker": {
          "color": "#00cccc",
          "size": 5,
          "symbol": "x"
         },
         "mode": "markers",
         "name": "Business Process Meta Models",
         "orientation": "v",
         "showlegend": true,
         "type": "scatter",
         "x": [
          2.8004162,
          2.784885,
          2.9776123,
          2.9692667,
          3.0079057,
          2.859366,
          2.942401,
          2.8878636,
          2.859319,
          2.8944414,
          2.7918181,
          2.7374399,
          2.997141,
          2.854978,
          2.7352405,
          2.7543566,
          2.771018,
          2.8970356,
          2.8047187,
          2.8598392,
          3.3089013,
          2.7231731
         ],
         "xaxis": "x",
         "y": [
          14.083621,
          13.898664,
          13.698867,
          13.943349,
          13.682284,
          14.016236,
          13.846625,
          14.05693,
          13.983852,
          14.03634,
          13.983936,
          14.104136,
          13.867225,
          14.106045,
          14.045167,
          13.942592,
          14.083065,
          13.674643,
          14.047448,
          14.014739,
          13.295387,
          14.008954
         ],
         "yaxis": "y"
        },
        {
         "customdata": [
          [
           "Accurate multiplex gene synthesis from programmable DNA microchips",
           "Testing the many hypotheses from genomics and systems biology experiments demands accurate and cost-effective gene and genome synthesis. Here we<br>describe a microchip-based technology for multiplex gene synthesis. Pools of thousands of ‘construction’ oligonucleotides and tagged complementary<br>‘selection’ oligonucleotides are synthesized on photo-programmable microfluidic chips1, released, amplified and selected by hybridization to reduce<br>synthesis errors ninefold. A one-step polymerase assembly multiplexing reaction assembles these into multiple genes. This technology enabled us [...]"
          ],
          [
           "Programmed population control by cell–cell communication and regulated killing",
           "De novo engineering of gene circuits inside cells is extremely difficult1,2,3,4,5,6,7,8,9, and efforts to realize predictable and robust performance<br>must deal with noise in gene expression and variation in phenotypes between cells10,11,12. Here we demonstrate that by coupling gene expression to<br>cell survival and death using cell–cell communication, we can programme the dynamics of a population despite variability in the behaviour of<br>individual cells. Specifically, we have built and characterized a ‘population control’ circuit that autonomously regulates the density of [...]"
          ],
          [
           "A tunable synthetic mammalian oscillator",
           "An around-the-clock synthetic gene circuitSynthetic gene circuits producing oscillating outputs have been developed only in bacteria, and it has been<br>difficult to make them reliable even there. Tigges et al. have now developed a synthetic sense–antisense circuit in mammalian cells that produces<br>autonomous, self-sustained and tunable cyclic gene expression. This synthetic mammalian clock will be of use in the study of oscillations in mammalian<br>cells, and may improve our understanding of the circadian clock and associated pathologies."
          ],
          [
           "Chemical Synthesis of Poliovirus cDNA: Generation of Infectious Virus in the Absence of Natural Template",
           "Full-length poliovirus complementary DNA (cDNA) was synthesized by assembling oligonucleotides of plus and minus strand polarity. The synthetic<br>poliovirus cDNA was transcribed by RNA polymerase into viral RNA, which translated and replicated in a cell-free extract, resulting in the de novo<br>synthesis of infectious poliovirus. Experiments in tissue culture using neutralizing antibodies and CD155 receptor-specific antibodies and<br>neurovirulence tests in CD155 transgenic mice confirmed that the synthetic virus had biochemical and pathogenic characteristics of poliovirus. [...]"
          ],
          [
           "Engineering Escherichia coli to see light",
           "These smart bacteria ‘photograph’ a light pattern as a high-definition chemical image."
          ],
          [
           "Generating a synthetic genome by whole genome assembly: φX174 bacteriophage from synthetic oligonucleotides",
           "We have improved upon the methodology and dramatically shortened the time required for accurate assembly of 5- to 6-kb segments of DNA from synthetic<br>oligonucleotides. As a test of this methodology, we have established conditions for the rapid (14-day) assembly of the complete infectious genome of<br>bacteriophage X174 (5386 bp) from a single pool of chemically synthesized oligonucleotides. The procedure involves three key steps: (i). gel<br>purification of pooled oligonucleotides to reduce contamination with molecules of incorrect chain length, (ii). ligation of the oligonucleotides [...]"
          ],
          [
           "Engineered gene circuits",
           "A central focus of postgenomic research will be to understand how cellular phenomena arise from the connectivity of genes and proteins. This<br>connectivity generates molecular network diagrams that resemble complex electrical circuits, and a systematic understanding will require the<br>development of a mathematical framework for describing the circuitry. From an engineering perspective, the natural path towards such a framework is<br>the construction and analysis of the underlying submodules that constitute the network. Recent experimental advances in both sequencing and [...]"
          ],
          [
           "A synthetic oscillatory network of transcriptional regulators",
           "Networks of interacting biomolecules carry out many essential functions in living cells1, but the ‘design principles’ underlying the functioning of<br>such intracellular networks remain poorly understood, despite intensive efforts including quantitative analysis of relatively simple systems2. Here we<br>present a complementary approach to this problem: the design and construction of a synthetic network to implement a particular function. We used three<br>transcriptional repressor systems that are not part of any natural biological clock3,4,5 to build an oscillating network, termed the [...]"
          ],
          [
           "Programmable cells: Interfacing natural and engineered gene networks",
           "Novel cellular behaviors and characteristics can be obtained by coupling engineered gene networks to the cell's natural regulatory circuitry through<br>appropriately designed input and output interfaces. Here, we demonstrate how an engineered genetic circuit can be used to construct cells that respond<br>to biological signals in a predetermined and programmable fashion. We employ a modular design strategy to create Escherichia coli strains where a<br>genetic toggle switch is interfaced with: (i) the SOS signaling pathway responding to DNA damage, and (ii) a transgenic quorum sensing [...]"
          ],
          [
           "Complete Chemical Synthesis, Assembly, and Cloning of a Mycoplasma genitalium Genome",
           "We have synthesized a 582,970-base pair Mycoplasma genitalium genome. This synthetic genome, named M. genitalium JCVI-1.0, contains all the genes of<br>wild-type M. genitalium G37 except MG408, which was disrupted by an antibiotic marker to block pathogenicity and to allow for selection. To identify<br>the genome as synthetic, we inserted \"watermarks\" at intergenic sites known to tolerate transposon insertions. Overlapping \"cassettes\" of 5 to 7<br>kilobases (kb), assembled from chemically synthesized oligonucleotides, were joined by in vitro recombination to produce intermediate [...]"
          ],
          [
           "Construction of a genetic toggle switch in Escherichia coli",
           "It has been proposed1 that gene-regulatory circuits with virtually any desired property can be constructed from networks of simple regulatory<br>elements. These properties, which include multistability and oscillations, have been found in specialized gene circuits such as the bacteriophage λ<br>switch2 and the Cyanobacteria circadian oscillator3. However, these behaviours have not been demonstrated in networks of non-specialized regulatory<br>components. Here we present the construction of a genetic toggle switch—a synthetic, bistable gene-regulatory network—in Escherichia coli and [...]"
          ],
          [
           "Synthetic biology",
           "Chemistry is a broadly powerful discipline in contemporary science because it has the ability to create new forms of the matter that it studies. By<br>doing so, chemistry can test models that connect molecular structure to behaviour without having to rely on what nature has provided. This creation,<br>known as 'synthesis', began to be applied to living systems in the 1980s as recombinant DNA technologies allowed biologists to deliberately change the<br>molecular structure of the microbes that they studied, and automated chemical synthesis of DNA became widely available to support these [...]"
          ],
          [
           "Reconstruction of genetic circuits",
           "The complex genetic circuits found in cells are ordinarily studied by analysis of genetic and biochemical perturbations. The inherent modularity of<br>biological components like genes and proteins enables a complementary approach: one can construct and analyse synthetic genetic circuits based on<br>their natural counterparts. Such synthetic circuits can be used as simple in vivo models to explore the relation between the structure and function of<br>a genetic circuit. Here we describe recent progress in this area of synthetic biology, highlighting newly developed genetic components and [...]"
          ],
          [
           "An engineered epigenetic transgene switch in mammalian cells",
           "In multicellular systems cell identity is imprinted by epigenetic regulation circuits, which determine the global transcriptome of adult cells in a<br>cell phenotype–specific manner1,2,3. By combining two repressors, which control each other's expression, we have developed a mammalian epigenetic<br>circuitry able to switch between two stable transgene expression states after transient administration of two alternate drugs. Engineered Chinese<br>hamster ovary cells (CHO-K1) showed toggle switch–specific expression profiles of a human glycoprotein in culture, as well as after [...]"
          ],
          [
           "A fast, robust and tunable synthetic gene oscillator",
           "A tunable synthetic gene oscillatorSynthetic biologists aim to apply well-known principles of gene regulation to build living systems with desired<br>properties, but practical applications have been disappointing. Jeff Hasty and colleagues have now combined microfluidics, single-cell microscopy and<br>computational modelling to develop a bacterial gene oscillator that is fast, robust, persistent and whose frequency can be tuned externally. Their<br>combination of experimental and theoretical work reveals a simplified oscillator design without the need for positive feedback."
          ],
          [
           "Foundations for engineering biology",
           "Engineered biological systems have been used to manipulate information, construct materials, process chemicals, produce energy, provide food, and help<br>maintain or enhance human health and our environment. Unfortunately, our ability to quickly and reliably engineer biological systems that behave as<br>expected remains quite limited. Foundational technologies that make routine the engineering of biology are needed. Vibrant, open research communities<br>and strategic leadership are necessary to ensure that the development and application of biological technologies remains overwhelmingly [...]"
          ],
          [
           "Creation of a Bacterial Cell Controlled by a Chemically Synthesized Genome",
           "We report the design, synthesis, and assembly of the 1.08-mega-base pair Mycoplasma mycoides JCVI-syn1.0 genome starting from digitized genome<br>sequence information and its transplantation into a M. capricolum recipient cell to create new M. mycoides cells that are controlled only by the<br>synthetic chromosome. The only DNA in the cells is the designed synthetic DNA sequence, including \"watermark\" sequences and other designed gene<br>deletions and polymorphisms, and mutations acquired during the building process. The new cells have expected phenotypic properties and are capable [...]"
          ],
          [
           "Engineering a mevalonate pathway in Escherichia coli for production of terpenoids",
           "Isoprenoids are the most numerous and structurally diverse family of natural products. Terpenoids, a class of isoprenoids often isolated from plants,<br>are used as commercial flavor and fragrance compounds and antimalarial or anticancer drugs. Because plant tissue extractions typically yield low<br>terpenoid concentrations, we sought an alternative method to produce high-value terpenoid compounds, such as the antimalarial drug artemisinin, in a<br>microbial host. We engineered the expression of a synthetic amorpha-4,11-diene synthase gene and the mevalonate isoprenoid pathway from [...]"
          ],
          [
           "Refinement and standardization of synthetic biological parts and devices",
           "The ability to quickly and reliably engineer many-component systems from libraries of standard interchangeable parts is one hallmark of modern<br>technologies. Whether the apparent complexity of living systems will permit biological engineers to develop similar capabilities is a pressing<br>research question. We propose to adapt existing frameworks for describing engineered devices to biological objects in order to (i) direct the<br>refinement and use of biological 'parts' and 'devices', (ii) support research on enabling reliable composition of standard biological parts and [...]"
          ],
          [
           "Diversity-based, model-guided construction of synthetic gene networks with predicted functions",
           "Ellis et al. describe a strategy for rationally assembling gene networks with predictable behaviors. Using mathematical models, they predict the<br>responses of complex synthetic gene networks built from quantitatively characterized promoter libraries, and harness these networks to regulate an<br>industrially relevant yeast phenotype."
          ],
          [
           "Directed evolution of a genetic circuit",
           "The construction of artificial networks of transcriptional control elements in living cells represents a new frontier for biological engineering.<br>However, biological circuit engineers will have to confront their inability to predict the precise behavior of even the most simple synthetic<br>networks, a serious shortcoming and challenge for the design and construction of more sophisticated genetic circuitry in the future. We propose a<br>combined rational and evolutionary design strategy for constructing genetic regulatory circuits, an approach that allows the engineer to fine-tune [...]"
          ],
          [
           "Combinatorial Synthesis of Genetic Networks",
           "A central problem in biology is determining how genes interact as parts of functional networks. Creation and analysis of synthetic networks, composed<br>of well-characterized genetic elements, provide a framework for theoretical modeling. Here, with the use of a combinatorial method, a library of<br>networks with varying connectivity was generated in Escherichia coli. These networks were composed of genes encoding the transcriptional regulators<br>LacI, TetR, and lambda CI, as well as the corresponding promoters. They displayed phenotypic behaviors resembling binary logical circuits, [...]"
          ],
          [
           "The second wave of synthetic biology: from modules to systems",
           "Key PointsIn the 'first wave' of synthetic biology, researchers developed basic elements and modules that allowed transcriptional, translational and<br>post-translational control of cellular processes.The 'second wave' of synthetic biology, in which researchers must integrate these basic elements and<br>modules to create systems-level circuitry, presents new challenges. Traditional principles for systems engineering must be supplemented with<br>approaches that attend to details of biological systems and contexts.Several groups have developed small synthetic systems, including [...]"
          ],
          [
           "Engineering stability in gene networks by autoregulation",
           "The genetic and biochemical networks which underlie such things as homeostasis in metabolism and the developmental programs of living cells, must<br>withstand considerable variations and random perturbations of biochemical parameters1,2,3. These occur as transient changes in, for example,<br>transcription, translation, and RNA and protein degradation. The intensity and duration of these perturbations differ between cells in a population4.<br>The unique state of cells, and thus the diversity in a population, is owing to the different environmental stimuli the individual cells experience [...]"
          ],
          [
           "RNA synthetic biology",
           "RNA molecules play important and diverse regulatory roles in the cell by virtue of their interaction with other nucleic acids, proteins and small<br>molecules. Inspired by this natural versatility, researchers have engineered RNA molecules with new biological functions. In the last two years<br>efforts in synthetic biology have produced novel, synthetic RNA components capable of regulating gene expression in vivo largely in bacteria and<br>yeast, setting the stage for scalable and programmable cellular behavior. Immediate challenges for this emerging field include determining [...]"
          ],
          [
           "Stochastic Gene Expression in a Single Cell",
           "Clonal populations of cells exhibit substantial phenotypic variation. Such heterogeneity can be essential for many biological processes and is<br>conjectured to arise from stochasticity, or noise, in gene expression. We constructed strains of Escherichia coli that enable detection of noise and<br>discrimination between the two mechanisms by which it is generated. Both stochasticity inherent in the biochemical process of gene expression<br>(intrinsic noise) and fluctuations in other cellular components (extrinsic noise) contribute substantially to overall variation. Transcription [...]"
          ],
          [
           "Environmentally Controlled Invasion of Cancer Cells by Engineered Bacteria",
           "Bacteria can sense their environment, distinguish between cell types, and deliver proteins to eukaryotic cells. Here, we engineer the interaction<br>between bacteria and cancer cells to depend on heterologous environmental signals. We have characterized invasin from Yersinia pseudotuburculosis as<br>an output module that enables Escherichia coli to invade cancer-derived cells, including HeLa, HepG2, and U2OS lines. To environmentally restrict<br>invasion, we placed this module under the control of heterologous sensors. With the Vibrio fischeri lux quorum sensing circuit, the hypoxia- [...]"
          ],
          [
           "Production of the antimalarial drug precursor artemisinic acid in engineered yeast",
           "Battling malariaDrug-resistant strains of the malaria parasite are widespread, and as a result mortality due to malaria has increased significantly in<br>recent years. Artemisinin, isolated from the herb Artemisia annua (sweet wormwood), is one drug that shows a high efficacy in killing multi-resistant<br>strains of the parasite. The drug is extremely expensive, and high demand has led to a shortage of artemisinin, available only by extraction from the<br>plant source. Ro et al. now report the development of a yeast strain engineered to carry a cytochrome P450 monooxygenase from A. annua [...]"
          ],
          [
           "A synthetic multicellular system for programmed pattern formation",
           "Pattern formation is in the genesMulticellular organisms, and some single-celled organisms, are capable of producing predetermined patterns.<br>Patterning is key to developmental processes, and is also relevant to tissue engineering and biomaterials design. Basu et al. describe a new synthetic<br>multicellular system in which cells are genetically programmed to form patterns on a surface based on cell–cell communication. Genetic circuits were<br>constructed from well defined simple parts in bacteria that integrate transcriptional regulation with cell–cell signalling elements. These [...]"
          ]
         ],
         "hovertemplate": "Topic=Synthetic Biology<br>x=%{x}<br>y=%{y}<br>title=%{customdata[0]}<br>abstract=%{customdata[1]}<extra></extra>",
         "legendgroup": "Synthetic Biology",
         "marker": {
          "color": "#1f77b4",
          "size": 5,
          "symbol": "circle"
         },
         "mode": "markers",
         "name": "Synthetic Biology",
         "orientation": "v",
         "showlegend": true,
         "type": "scatter",
         "x": [
          16.532372,
          16.663025,
          16.611752,
          16.55049,
          16.528873,
          16.534414,
          16.839115,
          16.687656,
          16.534073,
          16.52688,
          16.532475,
          16.96986,
          16.798079,
          16.466003,
          16.690786,
          16.963516,
          16.550966,
          16.215017,
          16.937613,
          16.74185,
          16.72575,
          16.699179,
          16.996643,
          16.68417,
          16.92348,
          16.58324,
          16.403349,
          16.17996,
          16.741976
         ],
         "xaxis": "x",
         "y": [
          -1.6222453,
          -1.3905194,
          -1.4724743,
          -1.7434032,
          -1.4858683,
          -1.7192752,
          -1.4822378,
          -1.3695176,
          -1.4225194,
          -1.7082059,
          -1.4228538,
          -1.5509789,
          -1.5041767,
          -1.4080384,
          -1.4448495,
          -1.5241376,
          -1.6980193,
          -1.6225175,
          -1.4974871,
          -1.4250493,
          -1.4436271,
          -1.5418576,
          -1.5180594,
          -1.3436466,
          -1.5015832,
          -1.2871686,
          -1.4987304,
          -1.6815902,
          -1.4429222
         ],
         "yaxis": "y"
        },
        {
         "hoverinfo": "text",
         "marker": {
          "color": "black",
          "size": 5
         },
         "mode": "markers",
         "name": "Survey",
         "text": [
          "Survey - Green Warehousing",
          "Survey - Robotic Arthroplasty",
          "Survey - Drones in Agriculture",
          "Survey - AI on Edge Devices",
          "Survey - Crop Yield Prediction",
          "Survey - Nanopharmaceuticals OR Nanonutraceuticals",
          "Survey - Software Process Line",
          "Survey - Cervical Myelopathy",
          "Survey - Soft Robotics",
          "Survey - Internet of Things in Healthcare",
          "Survey - Cloud Migration",
          "Survey - Perovskite Solar Cells Stability",
          "Survey - Sustainable Biofuel Economy",
          "Survey - Data Stream Processing Latency",
          "Survey - Multicore Performance Prediction",
          "Survey - Resilience in Business and management",
          "Survey - Business Process Meta Models",
          "Survey - Tourism Growth Nexus",
          "Survey - Synthetic Biology"
         ],
         "type": "scatter",
         "x": [
          0.121463664,
          12.678063,
          15.677247,
          11.335676,
          16.709518,
          13.753365,
          3.1872132,
          17.134386,
          26.156683,
          10.113936,
          11.433722,
          -0.27237198,
          11.237274,
          7.9372954,
          10.178769,
          0.6279825,
          2.7115717,
          -7.0085626,
          17.02266
         ],
         "y": [
          2.3014343,
          -7.2895765,
          12.603567,
          14.926992,
          10.28988,
          -2.2771153,
          12.74376,
          -11.692096,
          2.256706,
          14.127801,
          24.451725,
          -1.0127355,
          2.9296522,
          18.885988,
          20.223862,
          3.821708,
          13.9997425,
          0.70492655,
          -1.49354
         ]
        }
       ],
       "layout": {
        "font": {
         "family": "Modern Computer"
        },
        "height": 400,
        "legend": {
         "font": {
          "size": 15
         },
         "orientation": "h",
         "title": {
          "text": ""
         },
         "tracegroupgap": 0,
         "y": 0
        },
        "margin": {
         "t": 60
        },
        "showlegend": true,
        "template": {
         "data": {
          "bar": [
           {
            "error_x": {
             "color": "rgb(36,36,36)"
            },
            "error_y": {
             "color": "rgb(36,36,36)"
            },
            "marker": {
             "line": {
              "color": "rgb(234,234,242)",
              "width": 0.5
             },
             "pattern": {
              "fillmode": "overlay",
              "size": 10,
              "solidity": 0.2
             }
            },
            "type": "bar"
           }
          ],
          "barpolar": [
           {
            "marker": {
             "line": {
              "color": "rgb(234,234,242)",
              "width": 0.5
             },
             "pattern": {
              "fillmode": "overlay",
              "size": 10,
              "solidity": 0.2
             }
            },
            "type": "barpolar"
           }
          ],
          "carpet": [
           {
            "aaxis": {
             "endlinecolor": "rgb(36,36,36)",
             "gridcolor": "white",
             "linecolor": "white",
             "minorgridcolor": "white",
             "startlinecolor": "rgb(36,36,36)"
            },
            "baxis": {
             "endlinecolor": "rgb(36,36,36)",
             "gridcolor": "white",
             "linecolor": "white",
             "minorgridcolor": "white",
             "startlinecolor": "rgb(36,36,36)"
            },
            "type": "carpet"
           }
          ],
          "choropleth": [
           {
            "colorbar": {
             "outlinewidth": 0,
             "tickcolor": "rgb(36,36,36)",
             "ticklen": 8,
             "ticks": "outside",
             "tickwidth": 2
            },
            "type": "choropleth"
           }
          ],
          "contour": [
           {
            "colorbar": {
             "outlinewidth": 0,
             "tickcolor": "rgb(36,36,36)",
             "ticklen": 8,
             "ticks": "outside",
             "tickwidth": 2
            },
            "colorscale": [
             [
              0,
              "rgb(2,4,25)"
             ],
             [
              0.06274509803921569,
              "rgb(24,15,41)"
             ],
             [
              0.12549019607843137,
              "rgb(47,23,57)"
             ],
             [
              0.18823529411764706,
              "rgb(71,28,72)"
             ],
             [
              0.25098039215686274,
              "rgb(97,30,82)"
             ],
             [
              0.3137254901960784,
              "rgb(123,30,89)"
             ],
             [
              0.3764705882352941,
              "rgb(150,27,91)"
             ],
             [
              0.4392156862745098,
              "rgb(177,22,88)"
             ],
             [
              0.5019607843137255,
              "rgb(203,26,79)"
             ],
             [
              0.5647058823529412,
              "rgb(223,47,67)"
             ],
             [
              0.6274509803921569,
              "rgb(236,76,61)"
             ],
             [
              0.6901960784313725,
              "rgb(242,107,73)"
             ],
             [
              0.7529411764705882,
              "rgb(244,135,95)"
             ],
             [
              0.8156862745098039,
              "rgb(245,162,122)"
             ],
             [
              0.8784313725490196,
              "rgb(246,188,153)"
             ],
             [
              0.9411764705882353,
              "rgb(247,212,187)"
             ],
             [
              1,
              "rgb(250,234,220)"
             ]
            ],
            "type": "contour"
           }
          ],
          "contourcarpet": [
           {
            "colorbar": {
             "outlinewidth": 0,
             "tickcolor": "rgb(36,36,36)",
             "ticklen": 8,
             "ticks": "outside",
             "tickwidth": 2
            },
            "type": "contourcarpet"
           }
          ],
          "heatmap": [
           {
            "colorbar": {
             "outlinewidth": 0,
             "tickcolor": "rgb(36,36,36)",
             "ticklen": 8,
             "ticks": "outside",
             "tickwidth": 2
            },
            "colorscale": [
             [
              0,
              "rgb(2,4,25)"
             ],
             [
              0.06274509803921569,
              "rgb(24,15,41)"
             ],
             [
              0.12549019607843137,
              "rgb(47,23,57)"
             ],
             [
              0.18823529411764706,
              "rgb(71,28,72)"
             ],
             [
              0.25098039215686274,
              "rgb(97,30,82)"
             ],
             [
              0.3137254901960784,
              "rgb(123,30,89)"
             ],
             [
              0.3764705882352941,
              "rgb(150,27,91)"
             ],
             [
              0.4392156862745098,
              "rgb(177,22,88)"
             ],
             [
              0.5019607843137255,
              "rgb(203,26,79)"
             ],
             [
              0.5647058823529412,
              "rgb(223,47,67)"
             ],
             [
              0.6274509803921569,
              "rgb(236,76,61)"
             ],
             [
              0.6901960784313725,
              "rgb(242,107,73)"
             ],
             [
              0.7529411764705882,
              "rgb(244,135,95)"
             ],
             [
              0.8156862745098039,
              "rgb(245,162,122)"
             ],
             [
              0.8784313725490196,
              "rgb(246,188,153)"
             ],
             [
              0.9411764705882353,
              "rgb(247,212,187)"
             ],
             [
              1,
              "rgb(250,234,220)"
             ]
            ],
            "type": "heatmap"
           }
          ],
          "heatmapgl": [
           {
            "colorbar": {
             "outlinewidth": 0,
             "tickcolor": "rgb(36,36,36)",
             "ticklen": 8,
             "ticks": "outside",
             "tickwidth": 2
            },
            "colorscale": [
             [
              0,
              "rgb(2,4,25)"
             ],
             [
              0.06274509803921569,
              "rgb(24,15,41)"
             ],
             [
              0.12549019607843137,
              "rgb(47,23,57)"
             ],
             [
              0.18823529411764706,
              "rgb(71,28,72)"
             ],
             [
              0.25098039215686274,
              "rgb(97,30,82)"
             ],
             [
              0.3137254901960784,
              "rgb(123,30,89)"
             ],
             [
              0.3764705882352941,
              "rgb(150,27,91)"
             ],
             [
              0.4392156862745098,
              "rgb(177,22,88)"
             ],
             [
              0.5019607843137255,
              "rgb(203,26,79)"
             ],
             [
              0.5647058823529412,
              "rgb(223,47,67)"
             ],
             [
              0.6274509803921569,
              "rgb(236,76,61)"
             ],
             [
              0.6901960784313725,
              "rgb(242,107,73)"
             ],
             [
              0.7529411764705882,
              "rgb(244,135,95)"
             ],
             [
              0.8156862745098039,
              "rgb(245,162,122)"
             ],
             [
              0.8784313725490196,
              "rgb(246,188,153)"
             ],
             [
              0.9411764705882353,
              "rgb(247,212,187)"
             ],
             [
              1,
              "rgb(250,234,220)"
             ]
            ],
            "type": "heatmapgl"
           }
          ],
          "histogram": [
           {
            "marker": {
             "pattern": {
              "fillmode": "overlay",
              "size": 10,
              "solidity": 0.2
             }
            },
            "type": "histogram"
           }
          ],
          "histogram2d": [
           {
            "colorbar": {
             "outlinewidth": 0,
             "tickcolor": "rgb(36,36,36)",
             "ticklen": 8,
             "ticks": "outside",
             "tickwidth": 2
            },
            "colorscale": [
             [
              0,
              "rgb(2,4,25)"
             ],
             [
              0.06274509803921569,
              "rgb(24,15,41)"
             ],
             [
              0.12549019607843137,
              "rgb(47,23,57)"
             ],
             [
              0.18823529411764706,
              "rgb(71,28,72)"
             ],
             [
              0.25098039215686274,
              "rgb(97,30,82)"
             ],
             [
              0.3137254901960784,
              "rgb(123,30,89)"
             ],
             [
              0.3764705882352941,
              "rgb(150,27,91)"
             ],
             [
              0.4392156862745098,
              "rgb(177,22,88)"
             ],
             [
              0.5019607843137255,
              "rgb(203,26,79)"
             ],
             [
              0.5647058823529412,
              "rgb(223,47,67)"
             ],
             [
              0.6274509803921569,
              "rgb(236,76,61)"
             ],
             [
              0.6901960784313725,
              "rgb(242,107,73)"
             ],
             [
              0.7529411764705882,
              "rgb(244,135,95)"
             ],
             [
              0.8156862745098039,
              "rgb(245,162,122)"
             ],
             [
              0.8784313725490196,
              "rgb(246,188,153)"
             ],
             [
              0.9411764705882353,
              "rgb(247,212,187)"
             ],
             [
              1,
              "rgb(250,234,220)"
             ]
            ],
            "type": "histogram2d"
           }
          ],
          "histogram2dcontour": [
           {
            "colorbar": {
             "outlinewidth": 0,
             "tickcolor": "rgb(36,36,36)",
             "ticklen": 8,
             "ticks": "outside",
             "tickwidth": 2
            },
            "colorscale": [
             [
              0,
              "rgb(2,4,25)"
             ],
             [
              0.06274509803921569,
              "rgb(24,15,41)"
             ],
             [
              0.12549019607843137,
              "rgb(47,23,57)"
             ],
             [
              0.18823529411764706,
              "rgb(71,28,72)"
             ],
             [
              0.25098039215686274,
              "rgb(97,30,82)"
             ],
             [
              0.3137254901960784,
              "rgb(123,30,89)"
             ],
             [
              0.3764705882352941,
              "rgb(150,27,91)"
             ],
             [
              0.4392156862745098,
              "rgb(177,22,88)"
             ],
             [
              0.5019607843137255,
              "rgb(203,26,79)"
             ],
             [
              0.5647058823529412,
              "rgb(223,47,67)"
             ],
             [
              0.6274509803921569,
              "rgb(236,76,61)"
             ],
             [
              0.6901960784313725,
              "rgb(242,107,73)"
             ],
             [
              0.7529411764705882,
              "rgb(244,135,95)"
             ],
             [
              0.8156862745098039,
              "rgb(245,162,122)"
             ],
             [
              0.8784313725490196,
              "rgb(246,188,153)"
             ],
             [
              0.9411764705882353,
              "rgb(247,212,187)"
             ],
             [
              1,
              "rgb(250,234,220)"
             ]
            ],
            "type": "histogram2dcontour"
           }
          ],
          "mesh3d": [
           {
            "colorbar": {
             "outlinewidth": 0,
             "tickcolor": "rgb(36,36,36)",
             "ticklen": 8,
             "ticks": "outside",
             "tickwidth": 2
            },
            "type": "mesh3d"
           }
          ],
          "parcoords": [
           {
            "line": {
             "colorbar": {
              "outlinewidth": 0,
              "tickcolor": "rgb(36,36,36)",
              "ticklen": 8,
              "ticks": "outside",
              "tickwidth": 2
             }
            },
            "type": "parcoords"
           }
          ],
          "pie": [
           {
            "automargin": true,
            "type": "pie"
           }
          ],
          "scatter": [
           {
            "fillpattern": {
             "fillmode": "overlay",
             "size": 10,
             "solidity": 0.2
            },
            "type": "scatter"
           }
          ],
          "scatter3d": [
           {
            "line": {
             "colorbar": {
              "outlinewidth": 0,
              "tickcolor": "rgb(36,36,36)",
              "ticklen": 8,
              "ticks": "outside",
              "tickwidth": 2
             }
            },
            "marker": {
             "colorbar": {
              "outlinewidth": 0,
              "tickcolor": "rgb(36,36,36)",
              "ticklen": 8,
              "ticks": "outside",
              "tickwidth": 2
             }
            },
            "type": "scatter3d"
           }
          ],
          "scattercarpet": [
           {
            "marker": {
             "colorbar": {
              "outlinewidth": 0,
              "tickcolor": "rgb(36,36,36)",
              "ticklen": 8,
              "ticks": "outside",
              "tickwidth": 2
             }
            },
            "type": "scattercarpet"
           }
          ],
          "scattergeo": [
           {
            "marker": {
             "colorbar": {
              "outlinewidth": 0,
              "tickcolor": "rgb(36,36,36)",
              "ticklen": 8,
              "ticks": "outside",
              "tickwidth": 2
             }
            },
            "type": "scattergeo"
           }
          ],
          "scattergl": [
           {
            "marker": {
             "colorbar": {
              "outlinewidth": 0,
              "tickcolor": "rgb(36,36,36)",
              "ticklen": 8,
              "ticks": "outside",
              "tickwidth": 2
             }
            },
            "type": "scattergl"
           }
          ],
          "scattermapbox": [
           {
            "marker": {
             "colorbar": {
              "outlinewidth": 0,
              "tickcolor": "rgb(36,36,36)",
              "ticklen": 8,
              "ticks": "outside",
              "tickwidth": 2
             }
            },
            "type": "scattermapbox"
           }
          ],
          "scatterpolar": [
           {
            "marker": {
             "colorbar": {
              "outlinewidth": 0,
              "tickcolor": "rgb(36,36,36)",
              "ticklen": 8,
              "ticks": "outside",
              "tickwidth": 2
             }
            },
            "type": "scatterpolar"
           }
          ],
          "scatterpolargl": [
           {
            "marker": {
             "colorbar": {
              "outlinewidth": 0,
              "tickcolor": "rgb(36,36,36)",
              "ticklen": 8,
              "ticks": "outside",
              "tickwidth": 2
             }
            },
            "type": "scatterpolargl"
           }
          ],
          "scatterternary": [
           {
            "marker": {
             "colorbar": {
              "outlinewidth": 0,
              "tickcolor": "rgb(36,36,36)",
              "ticklen": 8,
              "ticks": "outside",
              "tickwidth": 2
             }
            },
            "type": "scatterternary"
           }
          ],
          "surface": [
           {
            "colorbar": {
             "outlinewidth": 0,
             "tickcolor": "rgb(36,36,36)",
             "ticklen": 8,
             "ticks": "outside",
             "tickwidth": 2
            },
            "colorscale": [
             [
              0,
              "rgb(2,4,25)"
             ],
             [
              0.06274509803921569,
              "rgb(24,15,41)"
             ],
             [
              0.12549019607843137,
              "rgb(47,23,57)"
             ],
             [
              0.18823529411764706,
              "rgb(71,28,72)"
             ],
             [
              0.25098039215686274,
              "rgb(97,30,82)"
             ],
             [
              0.3137254901960784,
              "rgb(123,30,89)"
             ],
             [
              0.3764705882352941,
              "rgb(150,27,91)"
             ],
             [
              0.4392156862745098,
              "rgb(177,22,88)"
             ],
             [
              0.5019607843137255,
              "rgb(203,26,79)"
             ],
             [
              0.5647058823529412,
              "rgb(223,47,67)"
             ],
             [
              0.6274509803921569,
              "rgb(236,76,61)"
             ],
             [
              0.6901960784313725,
              "rgb(242,107,73)"
             ],
             [
              0.7529411764705882,
              "rgb(244,135,95)"
             ],
             [
              0.8156862745098039,
              "rgb(245,162,122)"
             ],
             [
              0.8784313725490196,
              "rgb(246,188,153)"
             ],
             [
              0.9411764705882353,
              "rgb(247,212,187)"
             ],
             [
              1,
              "rgb(250,234,220)"
             ]
            ],
            "type": "surface"
           }
          ],
          "table": [
           {
            "cells": {
             "fill": {
              "color": "rgb(231,231,240)"
             },
             "line": {
              "color": "white"
             }
            },
            "header": {
             "fill": {
              "color": "rgb(183,183,191)"
             },
             "line": {
              "color": "white"
             }
            },
            "type": "table"
           }
          ]
         },
         "layout": {
          "annotationdefaults": {
           "arrowcolor": "rgb(67,103,167)"
          },
          "autotypenumbers": "strict",
          "coloraxis": {
           "colorbar": {
            "outlinewidth": 0,
            "tickcolor": "rgb(36,36,36)",
            "ticklen": 8,
            "ticks": "outside",
            "tickwidth": 2
           }
          },
          "colorscale": {
           "sequential": [
            [
             0,
             "rgb(2,4,25)"
            ],
            [
             0.06274509803921569,
             "rgb(24,15,41)"
            ],
            [
             0.12549019607843137,
             "rgb(47,23,57)"
            ],
            [
             0.18823529411764706,
             "rgb(71,28,72)"
            ],
            [
             0.25098039215686274,
             "rgb(97,30,82)"
            ],
            [
             0.3137254901960784,
             "rgb(123,30,89)"
            ],
            [
             0.3764705882352941,
             "rgb(150,27,91)"
            ],
            [
             0.4392156862745098,
             "rgb(177,22,88)"
            ],
            [
             0.5019607843137255,
             "rgb(203,26,79)"
            ],
            [
             0.5647058823529412,
             "rgb(223,47,67)"
            ],
            [
             0.6274509803921569,
             "rgb(236,76,61)"
            ],
            [
             0.6901960784313725,
             "rgb(242,107,73)"
            ],
            [
             0.7529411764705882,
             "rgb(244,135,95)"
            ],
            [
             0.8156862745098039,
             "rgb(245,162,122)"
            ],
            [
             0.8784313725490196,
             "rgb(246,188,153)"
            ],
            [
             0.9411764705882353,
             "rgb(247,212,187)"
            ],
            [
             1,
             "rgb(250,234,220)"
            ]
           ],
           "sequentialminus": [
            [
             0,
             "rgb(2,4,25)"
            ],
            [
             0.06274509803921569,
             "rgb(24,15,41)"
            ],
            [
             0.12549019607843137,
             "rgb(47,23,57)"
            ],
            [
             0.18823529411764706,
             "rgb(71,28,72)"
            ],
            [
             0.25098039215686274,
             "rgb(97,30,82)"
            ],
            [
             0.3137254901960784,
             "rgb(123,30,89)"
            ],
            [
             0.3764705882352941,
             "rgb(150,27,91)"
            ],
            [
             0.4392156862745098,
             "rgb(177,22,88)"
            ],
            [
             0.5019607843137255,
             "rgb(203,26,79)"
            ],
            [
             0.5647058823529412,
             "rgb(223,47,67)"
            ],
            [
             0.6274509803921569,
             "rgb(236,76,61)"
            ],
            [
             0.6901960784313725,
             "rgb(242,107,73)"
            ],
            [
             0.7529411764705882,
             "rgb(244,135,95)"
            ],
            [
             0.8156862745098039,
             "rgb(245,162,122)"
            ],
            [
             0.8784313725490196,
             "rgb(246,188,153)"
            ],
            [
             0.9411764705882353,
             "rgb(247,212,187)"
            ],
            [
             1,
             "rgb(250,234,220)"
            ]
           ]
          },
          "colorway": [
           "rgb(76,114,176)",
           "rgb(221,132,82)",
           "rgb(85,168,104)",
           "rgb(196,78,82)",
           "rgb(129,114,179)",
           "rgb(147,120,96)",
           "rgb(218,139,195)",
           "rgb(140,140,140)",
           "rgb(204,185,116)",
           "rgb(100,181,205)"
          ],
          "font": {
           "color": "rgb(36,36,36)"
          },
          "geo": {
           "bgcolor": "white",
           "lakecolor": "white",
           "landcolor": "rgb(234,234,242)",
           "showlakes": true,
           "showland": true,
           "subunitcolor": "white"
          },
          "hoverlabel": {
           "align": "left"
          },
          "hovermode": "closest",
          "paper_bgcolor": "white",
          "plot_bgcolor": "rgb(234,234,242)",
          "polar": {
           "angularaxis": {
            "gridcolor": "white",
            "linecolor": "white",
            "showgrid": true,
            "ticks": ""
           },
           "bgcolor": "rgb(234,234,242)",
           "radialaxis": {
            "gridcolor": "white",
            "linecolor": "white",
            "showgrid": true,
            "ticks": ""
           }
          },
          "scene": {
           "xaxis": {
            "backgroundcolor": "rgb(234,234,242)",
            "gridcolor": "white",
            "gridwidth": 2,
            "linecolor": "white",
            "showbackground": true,
            "showgrid": true,
            "ticks": "",
            "zerolinecolor": "white"
           },
           "yaxis": {
            "backgroundcolor": "rgb(234,234,242)",
            "gridcolor": "white",
            "gridwidth": 2,
            "linecolor": "white",
            "showbackground": true,
            "showgrid": true,
            "ticks": "",
            "zerolinecolor": "white"
           },
           "zaxis": {
            "backgroundcolor": "rgb(234,234,242)",
            "gridcolor": "white",
            "gridwidth": 2,
            "linecolor": "white",
            "showbackground": true,
            "showgrid": true,
            "ticks": "",
            "zerolinecolor": "white"
           }
          },
          "shapedefaults": {
           "fillcolor": "rgb(67,103,167)",
           "line": {
            "width": 0
           },
           "opacity": 0.5
          },
          "ternary": {
           "aaxis": {
            "gridcolor": "white",
            "linecolor": "white",
            "showgrid": true,
            "ticks": ""
           },
           "baxis": {
            "gridcolor": "white",
            "linecolor": "white",
            "showgrid": true,
            "ticks": ""
           },
           "bgcolor": "rgb(234,234,242)",
           "caxis": {
            "gridcolor": "white",
            "linecolor": "white",
            "showgrid": true,
            "ticks": ""
           }
          },
          "xaxis": {
           "automargin": true,
           "gridcolor": "white",
           "linecolor": "white",
           "showgrid": true,
           "ticks": "",
           "title": {
            "standoff": 15
           },
           "zerolinecolor": "white"
          },
          "yaxis": {
           "automargin": true,
           "gridcolor": "white",
           "linecolor": "white",
           "showgrid": true,
           "ticks": "",
           "title": {
            "standoff": 15
           },
           "zerolinecolor": "white"
          }
         }
        },
        "title": {
         "font": {
          "family": "Modern Computer",
          "size": 30
         },
         "text": "Clustering of Core Publications",
         "x": 0.5
        },
        "width": 750,
        "xaxis": {
         "anchor": "y",
         "domain": [
          0,
          1
         ],
         "showticklabels": false,
         "tickfont": {
          "size": 5
         },
         "title": {
          "font": {
           "size": 10
          },
          "text": ""
         }
        },
        "yaxis": {
         "anchor": "x",
         "domain": [
          0,
          1
         ],
         "showticklabels": false,
         "tickfont": {
          "size": 5
         },
         "title": {
          "font": {
           "size": 10
          },
          "text": ""
         }
        }
       }
      }
     },
     "metadata": {},
     "output_type": "display_data"
    }
   ],
   "source": [
    "\n",
    "plot_df[\"abstract\"] = plot_df[\"abstract\"].astype(str).str.wrap(150)\n",
    "plot_df[\"abstract\"] = plot_df[\"abstract\"].apply(lambda x: x.replace(\"\\n\", \"<br>\"))\n",
    "plot_df[\"abstract\"] = plot_df[\"abstract\"].apply(lambda x: shorten(x, width=600))\n",
    "fig = px.scatter(\n",
    "    plot_df[(plot_df[\"label\"] != \"Survey\")],\n",
    "    x=\"x\",\n",
    "    y=\"y\",\n",
    "    color=\"label\",\n",
    "    # hover_data=[\"label\", \"cluster\", \"pub_id\", \"survey_group\",\"Title\"],\n",
    "    hover_data=[\"title\", \"abstract\"],\n",
    "    labels={\"label\": \"Topic\"},\n",
    "    color_discrete_sequence=COLORS,\n",
    ")\n",
    "\n",
    "# Add survey \n",
    "fig.add_trace(\n",
    "    go.Scatter(\n",
    "        x=plot_df[plot_df[\"label\"] == \"Survey\"][\"x\"],\n",
    "        y=plot_df[plot_df[\"label\"] == \"Survey\"][\"y\"],\n",
    "        mode=\"markers\",\n",
    "        marker=dict(color=\"black\"),\n",
    "        name=\"Survey\",\n",
    "        hoverinfo=\"text\",\n",
    "        text=plot_df[plot_df[\"label\"] == \"Survey\"][\"survey_group\"],\n",
    "    )\n",
    ")\n",
    "fig.update_traces(marker_size=5)\n",
    "fig.update_layout(\n",
    "    title=\"Clustering of Core Publications\",\n",
    "    **PLOT_CONFIGS, legend_orientation=\"h\", legend_y=0,\n",
    "    xaxis_showticklabels=False,\n",
    "    yaxis_showticklabels=False,\n",
    "\n",
    ")\n",
    "\n",
    "# update markers of traces that has SLR topics\n",
    "for i in SLR_TOPICS:\n",
    "    fig.for_each_trace(\n",
    "        lambda trace: trace.update(marker=dict(symbol=\"x\") if trace.name == i else {})\n",
    "    )\n",
    "fig.show()\n",
    "# pio.write_image(fig, \"LitQEval-report/pics/umap_clustering.pdf\", width=1250)"
   ]
  }
 ],
 "metadata": {
  "kernelspec": {
   "display_name": "litqeval-2HojBpDP-py3.10",
   "language": "python",
   "name": "python3"
  },
  "language_info": {
   "codemirror_mode": {
    "name": "ipython",
    "version": 3
   },
   "file_extension": ".py",
   "mimetype": "text/x-python",
   "name": "python",
   "nbconvert_exporter": "python",
   "pygments_lexer": "ipython3",
   "version": "3.10.11"
  }
 },
 "nbformat": 4,
 "nbformat_minor": 2
}
