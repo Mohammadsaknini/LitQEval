{
 "cells": [
  {
   "cell_type": "markdown",
   "metadata": {},
   "source": [
    " #### The goal of this notebook to create the embeddings for the core publications and visualize their semantic menaing in the embedding space"
   ]
  },
  {
   "cell_type": "code",
   "execution_count": 17,
   "metadata": {},
   "outputs": [],
   "source": [
    "from langchain_openai.embeddings import OpenAIEmbeddings\n",
    "from langchain_core.documents import Document\n",
    "from langchain_chroma import Chroma\n",
    "from sklearn.cluster import KMeans\n",
    "from sklearn.manifold import TSNE\n",
    "from textwrap import shorten\n",
    "import plotly.graph_objects as go\n",
    "import plotly.express as px\n",
    "import plotly.io as pio\n",
    "import pandas as pd\n",
    "import numpy as np\n",
    "import umap\n",
    "\n",
    "pio.templates.default = \"seaborn\"\n",
    "COLORS = [\n",
    "    '#1f77b4', '#ff7f0e', '#2ca02c', '#d62728', '#9467bd',\n",
    "    '#8c564b', '#e377c2', '#7f7f7f', '#bcbd22', '#17becf',\n",
    "    '#ff33cc', '#00cc99', '#ffcc00', '#3399ff', '#9933cc',\n",
    "    '#66ff66', '#ff0066', '#669999', '#996633', '#00cccc'\n",
    "]\n",
    "PLOT_CONFIGS = dict(\n",
    "    title_x=0.5, title_font_size=20, title_font_family=\"Modern Computer\", font_family=\"Modern Computer\",\n",
    "    xaxis_title=\"\", yaxis_title=\"\", showlegend=True, legend_title=\"\",\n",
    "    xaxis_tickfont_size=5, yaxis_tickfont_size=5, legend_font_size=15,\n",
    "    xaxis_title_font_size=10, yaxis_title_font_size=10,\n",
    "    width=750, height=400,\n",
    "    # legend_orientation=\"h\", legend_yanchor=\"bottom\", legend_y=-0.5, legend_xanchor=\"center\", legend_x=0.5\n",
    "    )\n",
    "SLR_TOPICS = [\"Software Process Line\", \"Data Stream Processing Latency\", \"Business Process Meta Models\", \"Multicore Performance Prediction\", \"Cloud Migration\", \"Software Fault Prediction Metrics\", \"Software Defect Prediction\"]\n"
   ]
  },
  {
   "cell_type": "code",
   "execution_count": 2,
   "metadata": {},
   "outputs": [],
   "source": [
    "df = pd.read_excel(\"./data/metadata.xlsx\")\n",
    "core_pubs = pd.read_excel(\"./data/core_publications.xlsx\")"
   ]
  },
  {
   "cell_type": "code",
   "execution_count": 3,
   "metadata": {},
   "outputs": [],
   "source": [
    "documents = []\n",
    "pub_ids = []\n",
    "# id, title and abstract as meta data\n",
    "for i, row in df.iterrows():\n",
    "    pub_id = row[\"id\"]\n",
    "    group = core_pubs[core_pubs[\"Pub_id\"] == pub_id]\n",
    "    if group.empty:\n",
    "        group = \"Survey\"\n",
    "    else:\n",
    "        group = group[\"Topic\"].values[0]\n",
    "    content = f'Title: {row[\"title\"]}\\nAbstract: {row[\"abstract\"]}'\n",
    "    doc = Document(page_content=content, metadata={\"id\": row[\"id\"], \"topic\": group})\n",
    "    documents.append(doc)\n",
    "    pub_ids.append(row[\"id\"])\n",
    "\n",
    "def create_embeddings(documents, ids):\n",
    "    embedding_model = OpenAIEmbeddings(model=\"text-embedding-3-small\")\n",
    "    vs = Chroma(\"core_publications\", embedding_model, persist_directory=\"./data/vs/core_publications\")\n",
    "    vs.add_documents(documents, ids=ids)\n",
    "    return vs\n",
    "# create_embeddings(documents, pub_ids)"
   ]
  },
  {
   "cell_type": "code",
   "execution_count": 4,
   "metadata": {},
   "outputs": [
    {
     "name": "stderr",
     "output_type": "stream",
     "text": [
      "c:\\Users\\Moham\\AppData\\Local\\pypoetry\\Cache\\virtualenvs\\litqeval-2HojBpDP-py3.10\\lib\\site-packages\\joblib\\externals\\loky\\backend\\context.py:136: UserWarning: Could not find the number of physical cores for the following reason:\n",
      "[WinError 2] The system cannot find the file specified\n",
      "Returning the number of logical cores instead. You can silence this warning by setting LOKY_MAX_CPU_COUNT to the number of cores you want to use.\n",
      "  warnings.warn(\n",
      "  File \"c:\\Users\\Moham\\AppData\\Local\\pypoetry\\Cache\\virtualenvs\\litqeval-2HojBpDP-py3.10\\lib\\site-packages\\joblib\\externals\\loky\\backend\\context.py\", line 257, in _count_physical_cores\n",
      "    cpu_info = subprocess.run(\n",
      "  File \"C:\\Users\\Moham\\.pyenv\\pyenv-win\\versions\\3.10.11\\lib\\subprocess.py\", line 503, in run\n",
      "    with Popen(*popenargs, **kwargs) as process:\n",
      "  File \"C:\\Users\\Moham\\.pyenv\\pyenv-win\\versions\\3.10.11\\lib\\subprocess.py\", line 971, in __init__\n",
      "    self._execute_child(args, executable, preexec_fn, close_fds,\n",
      "  File \"C:\\Users\\Moham\\.pyenv\\pyenv-win\\versions\\3.10.11\\lib\\subprocess.py\", line 1456, in _execute_child\n",
      "    hp, ht, pid, tid = _winapi.CreateProcess(executable, args,\n",
      "c:\\Users\\Moham\\AppData\\Local\\pypoetry\\Cache\\virtualenvs\\litqeval-2HojBpDP-py3.10\\lib\\site-packages\\umap\\umap_.py:1952: UserWarning: n_jobs value 1 overridden to 1 by setting random_state. Use no seed for parallelism.\n",
      "  warn(\n"
     ]
    }
   ],
   "source": [
    "collection = Chroma(\"core_publications\", persist_directory=\"./data/vs/core_publications\")\n",
    "pub_ids = collection.get()[\"ids\"]\n",
    "all_embeddings = []\n",
    "labels = []\n",
    "for i in pub_ids:\n",
    "    all_embeddings.append(collection.get(i, include=[\"embeddings\"])[\"embeddings\"])\n",
    "    labels.append(collection.get(i)[\"metadatas\"][0][\"topic\"])\n",
    "\n",
    "all_embeddings = np.squeeze(all_embeddings)\n",
    "n_clusters = len(core_pubs[\"Topic\"].unique())\n",
    "kmeans = KMeans(n_clusters=n_clusters, random_state=0).fit(all_embeddings)\n",
    "cluster_labels = kmeans.labels_\n",
    "\n",
    "umap_embeddings = umap.UMAP(metric=\"cosine\",random_state=0).fit_transform(\n",
    "    all_embeddings\n",
    ")"
   ]
  },
  {
   "cell_type": "code",
   "execution_count": 5,
   "metadata": {},
   "outputs": [],
   "source": [
    "plot_df = pd.DataFrame(umap_embeddings, columns=[\"x\", \"y\"])\n",
    "plot_df[\"label\"] = labels\n",
    "plot_df[\"cluster\"] = cluster_labels\n",
    "plot_df[\"pub_id\"] = pub_ids\n",
    "plot_df = plot_df.merge(df, left_on=\"pub_id\", right_on=\"id\")\n",
    "plot_df[\"survey_group\"] = plot_df.apply(\n",
    "    lambda x: f\"{x['label']} - {core_pubs[core_pubs['Survey'] == x['pub_id']]['Topic'].values[0]}\"\n",
    "    if x[\"label\"] == \"Survey\"\n",
    "    else \"\",\n",
    "    axis=1,\n",
    ")\n",
    "plot_df[\"Type\"] = \"Bibliometric Analysis\"\n",
    "plot_df.loc[plot_df[\"label\"].isin(SLR_TOPICS), \"Type\"] = \"Systematic Literature Review\""
   ]
  },
  {
   "cell_type": "code",
   "execution_count": 19,
   "metadata": {},
   "outputs": [
    {
     "data": {
      "application/vnd.plotly.v1+json": {
       "config": {
        "plotlyServerURL": "https://plot.ly"
       },
       "data": [
        {
         "customdata": [
          [
           "Improved reverse bias stability in p–i–n perovskite solar cells with optimized hole transport materials and less reactive electrodes",
           "As perovskite photovoltaics stride towards commercialization, reverse bias degradation in shaded cells<br>that<br>must<br>current<br>match<br>illuminated<br>cells<br>is<br>a<br>serious challenge. Previous research has emphasized the role of iodide and<br>silver<br>oxidation,<br>and the role<br>of hole<br>tunnelling<br>from<br>the<br>electron-<br>transport layer into the perovskite to enable the flow of<br>current<br>under reverse<br>bias in causing<br>degradation.<br>Here we show<br>that<br>device<br>architecture<br>engineering has a significant impact<br>on the<br>reverse [...]"
          ],
          [
           "Reduction of bulk and surface defects in inverted methylammonium- and bromide-free formamidinium perovskite solar cells",
           "Power conversion efficiencies of inverted perovskite solar cells (PSCs) based<br>on<br>methylammonium-<br>and<br>bromide-<br>free<br>formamidinium<br>lead<br>triiodide<br>(FAPbI3) perovskites still lag behind PSCs with a<br>regular<br>configuration. Here we<br>improve the<br>quality of<br>both the<br>bulk and surface<br>of<br>FA0.98Cs0.02PbI3<br>perovskite films to reduce<br>the<br>efficiency gap. First, we use<br>dibutyl<br>sulfoxide, a Lewis base<br>additive,<br>to improve<br>the<br>crystallinity and reduce<br>the<br>defect<br>density and internal residual stress [...]"
          ],
          [
           "In Situ Polymerizing Internal Encapsulation Strategy Enables Stable Perovskite Solar Cells toward Lead Leakage Suppression",
           "Abstract Despite the outstanding power conversion efficiency (PCE) of perovskite solar<br>cells<br>(PSCs)<br>achieved<br>over<br>the<br>years,<br>unsatisfactory<br>stability<br>and lead toxicity remain obstacles that limit their<br>competitiveness<br>and<br>large‐scale<br>practical<br>deployment. In<br>this<br>study, in situ<br>polymerizing internal<br>encapsulation (IPIE) is<br>developed as a<br>holistic<br>approach to overcome<br>these<br>challenges. The uniform<br>polymer<br>internal package<br>layer constructed<br>by<br>thermally triggered<br>cross‐linkable<br>monomers not [...]"
          ],
          [
           "Extending the π‐Conjugated System in Spiro‐Type Hole Transport Material Enhances the Efficiency and Stability of Perovskite Solar Modules",
           "Hole transport materials (HTMs) are a key component of<br>perovskite<br>solar<br>cells<br>(PSCs).<br>The<br>small<br>molecular<br>2,2',7,7'-tetrakis(N,N-di-p-<br>methoxyphenyl)-amine-9,9'-spirobifluorene<br>(spiro-OMeTAD,<br>termed<br>\"Spiro\") is<br>the most<br>successful<br>HTM used<br>in PSCs, but<br>its versatility is imperfect. To<br>improve its<br>performance, we<br>developed a novel<br>spiro-type HTM<br>(termed<br>\"DP\") by<br>substituting four<br>anisole units on<br>Spiro with<br>4-methoxybiphenyl<br>moieties. By<br>extending the<br>π-conjugation of Spiro in<br>this way,<br>the [...]"
          ],
          [
           "Rational design of Lewis base molecules for stable and efficient inverted perovskite solar cells",
           "Lewis base molecules that bind undercoordinated lead atoms at interfaces and grain boundaries (GBs)<br>are<br>known<br>to<br>enhance<br>the<br>durability<br>of<br>metal<br>halide perovskite solar cells (PSCs). Using density functional theory<br>calculations, we<br>found<br>that<br>phosphine-<br>containing<br>molecules have<br>the<br>strongest<br>binding energy among members of a library of<br>Lewis base molecules<br>studied<br>herein.<br>Experimentally,<br>we found that<br>the best inverted<br>PSC<br>treated<br>with<br>1,3-bis(diphenylphosphino)propane (DPPP), a<br>diphosphine<br>Lewis [...]"
          ],
          [
           "Ion-modulated radical doping of spiro-OMeTAD for more efficient and stable perovskite solar cells",
           "Record power conversion efficiencies (PCEs) of perovskite solar cells (PSCs) have been<br>obtained<br>with<br>the<br>organic<br>hole<br>transporter<br<br><br>>2,2',7,7'-tetrakis(<i>N</i>,<i>N</i>-di-<i>p</i>-methoxyphenyl-<br>amine)9,9'-spirobifluorene<br>(spiro-<br>OMeTAD).<br>Conventional<br>doping<br>of<br>spiro-<br>OMeTAD with<br>hygroscopic lithium salts and volatile<br>4-<i>tert</i>-butylpyridine is a<br>time-consuming<br>process<br>and<br>also leads to<br>poor<br>device stability.<br>We developed a<br>new doping strategy<br>for spiro-OMeTAD that avoids post-<br>oxidation [...]"
          ],
          [
           "Record‐Efficiency Flexible Perovskite Solar Cells Enabled by Multifunctional Organic Ions Interface Passivation",
           "Flexible perovskite solar cells (f-PSCs) have attracted great attention because of<br>their<br>unique<br>advantages<br>in<br>lightweight<br>and<br>portable<br>electronics<br>applications. However, their efficiencies are far inferior to<br>those of<br>their<br>rigid<br>counterparts.<br>Herein, a novel<br>histamine<br>diiodate<br>(HADI) is designed<br>based on theoretical study to<br>modify<br>the<br>SnO<sub>2</sub><br>/perovskite interface.<br>Systematic experimental<br>results<br>reveal that the<br>HADI serves<br>effectively as<br>a<br>multifunctional<br>agent mainly in<br>three aspects: [...]"
          ],
          [
           "Origins and influences of metallic lead in perovskite solar cells",
           "Metallic lead (Pb0) impurities in metal-halide perovskites have attracted tremendous<br>research<br>concerns<br>owing<br>to<br>their<br>detrimental<br>effects<br>on<br>perovskite solar cells (PSCs). However, the origins and influences of<br>the Pb0<br>behind this<br>issue have<br>yet to<br>be well<br>understood.<br>Herein, we show<br>that<br>Pb0 is hardly formed in the growth of halide<br>perovskites<br>but is easily<br>postformed in<br>the<br>perovskite films<br>with excess PbI2.<br>It is found that<br>Pb0<br>impurities are<br>decomposition byproducts<br>of residual PbI2<br>in [...]"
          ],
          [
           "Chlorobenzenesulfonic Potassium Salts as the Efficient Multifunctional Passivator for the Buried Interface in Regular Perovskite Solar Cells",
           "Abstract The interfacial properties for the buried junctions of the perovskite solar cells (PSCs) play<br>a<br>crucial<br>role<br>for<br>the<br>further<br>enhancement<br>of<br>the power conversion efficiency (PCE) and stability of devices. Delicate<br>manipulation<br>of<br>the<br>interface<br>properties such<br>as the<br>defect density,<br>energy<br>alignment, perovskite film quality, etc.,<br>guarantees<br>efficient<br>extraction and<br>transport of<br>photogenerated<br>carriers.<br>Herein,<br>chlorobenzenesulfonic<br>potassium salts are<br>presented as a<br>novel<br>multifunctional [...]"
          ],
          [
           "Conformal quantum dot–SnO2 layers as electron transporters for efficient perovskite solar cells",
           "Improvements to perovskite solar cells (PSCs) have focused on increasing their<br>power<br>conversion<br>efficiency<br>(PCE)<br>and<br>operational<br>stability<br>and<br>maintaining high performance upon scale-up to module sizes. We<br>report<br>that replacing<br>the commonly<br>used<br>mesoporous-<br>titanium dioxide<br>electron<br>transport<br>layer (ETL) with a thin layer of<br>polyacrylic<br>acid-stabilized<br>tin(IV) oxide quantum<br>dots<br>(paa-QD-<br>SnO<sub>2</sub>) on the<br>compact-titanium<br>dioxide<br>enhanced<br>light capture and<br>largely suppressed<br>nonradiative [...]"
          ],
          [
           "Facet orientation tailoring via 2D-seed- induced growth enables highly efficient and stable perovskite solar cells",
           "Adding 2D perovskite to 3D perovskite has been developed to effectively enhance the intrinsic<br>stability,<br>but<br>it<br>will<br>inevitably<br>compromise<br>the<br>power<br>conversion efficiency (PCE). Here, in a novel way, we introduced highly<br>oriented<br>2D<br>(BDA)PbI4<br>perovskites<br>as seeds to<br>optimize the<br>growth<br>kinetics of<br>3D perovskite and make its crystallization<br>directly stride<br>over<br>the nucleation<br>stage.<br>Therefore, the seeds<br>preferentially act<br>as<br>templates to<br>epitaxially grow 3D<br>perovskite with the<br>desired [...]"
          ],
          [
           "Bimolecularly passivated interface enables efficient and stable inverted perovskite solar cells",
           "Compared with the n-i-p structure, inverted (p-i-n) perovskite solar cells (PSCs)<br>promise<br>increased<br>operating<br>stability,<br>but<br>these<br>photovoltaic<br>cells<br>often exhibit lower power conversion efficiencies (PCEs)<br>because of<br>nonradiative<br>recombination<br>losses,<br>particularly<br>at<br>the<br>perovskite/C<sub>60</sub><br>interface. We passivated surface<br>defects and<br>enabled reflection<br>of minority<br>carriers from<br>the interface into<br>the<br>bulk<br>using two types of functional<br>molecules.<br>We used sulfur-<br>modified methylthio<br>molecules [...]"
          ],
          [
           "Stabilized hole-selective layer for high-performance inverted p-i-n perovskite solar cells",
           "P-i-n geometry perovskite solar cells (PSCs) offer simplified fabrication, greater<br>amenability<br>to<br>charge<br>extraction<br>layers,<br>and<br>low-<br>temperature<br>processing over n-i-p counterparts. Self-assembled monolayers<br>(SAMs) can<br>enhance<br>the<br>performance of p-i-n<br>PSCs but<br>ultrathin<br>SAMs can<br>be thermally<br>unstable. We report a thermally robust<br>hole-selective<br>layer<br>comprised of<br>nickel [...]"
          ],
          [
           "Inverted perovskite solar cells with over 2,000 h operational stability at 85 °C using fixed charge passivation",
           "High-quality defect passivation at perovskite/charge extraction layer heterojunctions in perovskite<br>solar<br>cells<br>is<br>critical<br>to<br>solar<br>device<br>operation.<br>Here we report a ‘physical’ passivation method by producing fixed charges<br>with<br>aluminium<br>oxide<br>(negative<br>fixed<br>charges) or<br>silicon oxide<br>(positive<br>fixed charges) interlayers grown by atomic layer<br>deposition<br>at<br>perovskite/charge<br>extraction<br>layer<br>heterojunctions.<br>Through experimental<br>and modelling<br>approaches, we find that<br>the fixed<br>charge<br>passivation [...]"
          ],
          [
           "Towards linking lab and field lifetimes of perovskite solar cells",
           "Metal halide perovskite solar cells (PSCs) represent a promising low-cost<br>thin-<br>film<br>photovoltaic<br>technology,<br>with<br>unprecedented<br>power<br>conversion<br>efficiencies obtained for both single-junction<br>and<br>tandem<br>applications1–8. To push<br>PSCs<br>towards<br>commercialization, it is<br>critical,<br>albeit challenging,<br>to understand<br>device<br>reliability under<br>real-world outdoor<br>conditions where<br>multiple<br>stress factors (for example,<br>light, heat<br>and<br>humidity)<br>coexist,<br>generating complicated<br>degradation<br>behaviours9–13. To [...]"
          ],
          [
           "Uracil Induced Simultaneously Strengthening Grain Boundaries and Interfaces Enables High‐Performance Perovskite Solar Cells with Superior Operational Stability",
           "The operational stability is a huge obstacle to further commercialization of perovskite solar cells.<br>To<br>address<br>this<br>critical<br>issue,<br>in<br>this<br>work,<br>uracil is introduced as a \"binder\" into the perovskite film to simultaneously<br>improve<br>the<br>power<br>conversion efficiency<br>(PCE)<br>and<br>operational<br>stability.<br>Uracil can efficiently passivate defects and<br>strengthen<br>grain<br>boundaries to<br>enhance the stability of<br>perovskite<br>films.<br>Moreover, the<br>uracil also<br>strengthens the interface<br>between the<br>perovskite<br>and the Tin [...]"
          ],
          [
           "Engineering ligand reactivity enables high-temperature operation of stable perovskite solar cells",
           "Perovskite solar cells (PSCs) consisting of interfacial two- and<br>three-<br>dimensional<br>heterostructures<br>that<br>incorporate<br>ammonium<br>ligand<br>intercalation<br>have enabled rapid progress toward the goal<br>of<br>uniting performance<br>with stability.<br>However, as<br>the field<br>continues to seek<br>ever-<br>higher durability,<br>additional tools that<br>avoid<br>progressive ligand<br>intercalation are<br>needed to minimize<br>degradation at<br>high temperatures.<br>We used<br>ammonium ligands<br>that<br>are<br>nonreactive with the bulk<br>of perovskites [...]"
          ],
          [
           "Highly efficient p-i-n perovskite solar cells that endure temperature variations",
           "Daily temperature variations induce phase transitions and lattice strains in halide<br>perovskites,<br>challenging<br>their<br>stability<br>in<br>solar<br>cells.<br>We<br>stabilized the perovskite black phase and improved solar cell<br>performance using<br>the<br>ordered<br>dipolar<br>structure<br>of<br>β-poly(1,1-difluoroethylene)<br>to<br>control perovskite film crystallization and<br>energy alignment.<br>We<br>demonstrated<br>p-i-n<br>perovskite solar cells<br>with<br>a record power conversion<br>efficiency<br>of 24.6% over 18<br>square millimeters and<br>23.1%<br>over 1 [...]"
          ],
          [
           "Scalable processing for realizing 21.7%-efficient all-perovskite tandem solar modules",
           "Challenges in fabricating all-perovskite tandem solar cells as modules rather than<br>as<br>single-<br>junction<br>configurations<br>include<br>growing<br>high-<br>quality<br>wide-bandgap perovskites and mitigating irreversible<br>degradation<br>caused by<br>halide and<br>metal interdiffusion<br>at the<br>interconnecting<br>contacts.<br>We<br>demonstrate efficient all-perovskite<br>tandem solar<br>modules using<br>scalable<br>fabrication techniques.<br>By<br>systematically tuning the<br>cesium ratio of<br>a<br>methylammonium-free<br>1.8-electron<br>volt mixed-halide<br>perovskite,<br>we [...]"
          ],
          [
           "Perovskite–organic tandem solar cells with indium oxide interconnect",
           "Multijunction solar cells can overcome the fundamental efficiency limits of single-junction<br>devices.<br>The<br>bandgap<br>tunability<br>of<br>metal<br>halide<br>perovskite<br>solar cells renders them attractive for multijunction<br>architectures1.<br>Combinations<br>with silicon<br>and copper<br>indium<br>gallium<br>selenide<br>(CIGS), as well as<br>all-perovskite tandem cells,<br>have been<br>reported2–5. Meanwhile,<br>narrow-gap non-<br>fullerene<br>acceptors have<br>unlocked<br>skyrocketing<br>efficiencies for<br>organic<br>solar cells6,7.<br>Organic and [...]"
          ],
          [
           "Stability-limiting heterointerfaces of perovskite photovoltaics",
           "Optoelectronic devices consist of heterointerfaces formed between dissimilar<br>semiconducting<br>materials.<br>The<br>relative<br>energy-<br>level<br>alignment<br>between<br>contacting semiconductors determinately affects the<br>heterointerface<br>charge injection<br>and<br>extraction<br>dynamics. For<br>perovskite<br>solar cells<br>(PSCs), the<br>heterointerface between the<br>top perovskite<br>surface and a<br>charge-<br>transporting material is<br>often treated for<br>defect<br>passivation1–4 to<br>improve the<br>PSC<br>stability and<br>performance. However, [...]"
          ],
          [
           "Temperature‐Reliable Low‐Dimensional Perovskites Passivated Black‐Phase CsPbI3 toward Stable and Efficient Photovoltaics",
           "Low-dimensional (LD) perovskites can effectively passivate and stabilize 3D perovskites<br>for<br>high-<br>performance<br>perovskite<br>solar<br>cells<br>(PSCs).<br>Regards<br>CsPbI<sub>3</sub> -based PSCs, the influence of high-<br>temperature<br>annealing on the<br>LD perovskite<br>passivation<br>effect has<br>to be<br>taken into<br>account due to<br>fact the black-phase<br>CsPbI<sub>3</sub><br>crystallization requires<br>high-temperature<br>treatment,<br>however, which<br>has been<br>rarely concerned<br>so far. Here,<br>the<br>thermal stability<br>of LD perovskites based on<br>three [...]"
          ],
          [
           "Constructing heterojunctions by surface sulfidation for efficient inverted perovskite solar cells",
           "A stable perovskite heterojunction was constructed for inverted solar cells through surface<br>sulfidation<br>of<br>lead<br>(Pb)-rich<br>perovskite<br>films.<br>The<br>formed<br>lead-sulfur (Pb-S) bonds upshifted the Fermi level at the<br>perovskite interface<br>and<br>induced an<br>extra back-<br>surface field<br>for<br>electron<br>extraction. The<br>resulting inverted devices<br>exhibited a power conversion<br>efficiency<br>(PCE) >24%<br>with a high open-<br>circuit voltage<br>of 1.19<br>volts,<br>corresponding to a<br>low<br>voltage loss of 0.36 volts. The<br>strong Pb-S [...]"
          ],
          [
           "Lead-chelating hole-transport layers for efficient and stable perovskite minimodules",
           "The defective bottom interfaces of perovskites and hole-transport layers (HTLs) limit the<br>performance<br>of<br>p-i-n<br>structure<br>perovskite<br>solar<br>cells.<br>We<br>report that the addition of lead chelation molecules into HTLs can<br>strongly<br>interact with<br>lead(II)<br>ion<br>(Pb<sup>2+</sup>),<br>resulting in<br>a<br>reduced<br>amorphous region in perovskites near HTLs and a<br>passivated<br>perovskite bottom<br>surface.<br>The<br>minimodule with an aperture<br>area of 26.9<br>square<br>centimeters<br>has a power conversion<br>efficiency<br>(PCE) of 21.8%<br>(stabilized [...]"
          ],
          [
           "Minimizing buried interfacial defects for efficient inverted perovskite solar cells",
           "Controlling the perovskite morphology and defects at the buried perovskite-substrate interface<br>is<br>challenging<br>for<br>inverted<br>perovskite<br>solar<br>cells.<br>In<br>this work, we report<br>an<br>amphiphilic<br>molecular<br>hole<br>transporter,<br>(2-(4-(bis(4-methoxyphenyl)amino)phenyl)-1-cyanovinyl)phosphonic<br>acid,<br>that<br>features<br>a<br>multifunctional<br>cyanovinyl<br>phosphonic<br>acid group and<br>forms a superwetting underlayer for perovskite<br>deposition, which<br>enables<br>high-<br>quality<br>perovskite<br>films with<br>minimized<br>defects at the [...]"
          ],
          [
           "Organometallic-functionalized interfaces for highly efficient inverted perovskite solar cells",
           "Further enhancing the performance and stability of inverted perovskite solar cells (PSCs) is<br>crucial<br>for<br>their<br>commercialization.<br>We<br>report<br>that<br>the<br>functionalization of multication and halide perovskite<br>interfaces<br>with<br>an<br>organometallic<br>compound,<br>ferrocenyl-<br>bis-<br>thiophene-2-carboxylate<br>(FcTc<sub>2</sub>), simultaneously<br>enhanced the<br>efficiency<br>and<br>stability of inverted<br>PSCs. The<br>resultant devices<br>achieved a<br>power conversion<br>efficiency of 25.0%<br>and maintained<br>&gt;98% of<br>their<br>initial efficiency [...]"
          ],
          [
           "Damp heat–stable perovskite solar cells with tailored-dimensionality 2D/3D heterojunctions",
           "If perovskite solar cells (PSCs) with high power conversion efficiencies (PCEs) are to be<br>commercialized,<br>they<br>must<br>achieve<br>long-<br>term<br>stability,<br>which<br>is usually assessed with accelerated degradation tests. One of<br>the persistent<br>obstacles for<br>PSCs<br>has been<br>successfully<br>passing<br>the damp-heat<br>test<br>(85°C and 85% relative humidity), which is<br>the standard for<br>verifying the<br>stability of<br>commercial<br>photovoltaic<br>(PV) modules.<br>We fabricated<br>damp heat-<br>stable PSCs by<br>tailoring the<br>dimensional fragments [...]"
          ],
          [
           "Evolution of defects during the degradation of metal halide perovskite solar cells under reverse bias and illumination",
           "The efficiency and stability of perovskite solar cells are essentially determined by defects in<br>the<br>perovskite<br>layer,<br>yet<br>their<br>chemical<br>nature<br>and<br>linking with the degradation mechanism of devices remain unclear. Here we<br>uncover<br>where<br>degradation<br>occurs and<br>the<br>underlying<br>mechanisms and<br>defects<br>involved in the performance degradation of p–i–n<br>perovskite<br>solar cells<br>under<br>illumination or<br>reverse bias.<br>Light-induced<br>degradation<br>starts with the<br>generation of iodide<br>interstitials at<br>the [...]"
          ],
          [
           "Over 21% Efficiency Stable 2D Perovskite Solar Cells",
           "Owing to their insufficient light absorption and charge transport, 2D Ruddlesden-Popper (RP)<br>perovskites<br>show<br>relatively<br>low<br>efficiency.<br>In<br>this<br>work,<br>methylammonium (MA), formamidinum (FA), and FA/MA mixed 2D<br>perovskite solar cells<br>(PSCs)<br>are<br>fabricated.<br>Incorporating FA<br>cations<br>extends<br>the<br>absorption range and enhances the light<br>absorption. Optical<br>spectroscopy shows<br>that FA<br>cations<br>substantially increase the<br>portion of<br>3D-like<br>phase to<br>2D phases, and<br>X-ray diffraction (XRD)<br>studies reveal [...]"
          ]
         ],
         "hovertemplate": "Topic=Perovskite Solar Cells Stability<br>x=%{x}<br>y=%{y}<br>title=%{customdata[0]}<br>abstract=%{customdata[1]}<extra></extra>",
         "legendgroup": "Perovskite Solar Cells Stability",
         "marker": {
          "color": "#1f77b4",
          "size": 5,
          "symbol": "circle"
         },
         "mode": "markers",
         "name": "Perovskite Solar Cells Stability",
         "orientation": "v",
         "showlegend": true,
         "type": "scatter",
         "x": [
          14.434783,
          14.135208,
          14.338823,
          14.26345,
          14.309492,
          14.23048,
          14.155271,
          14.462239,
          14.176364,
          14.237664,
          14.318768,
          14.268828,
          14.350016,
          14.30989,
          14.440734,
          14.216521,
          14.354131,
          14.443681,
          14.220014,
          14.213643,
          14.396713,
          14.48131,
          14.355837,
          14.286877,
          14.198334,
          14.2106085,
          14.465836,
          14.420312,
          14.319795
         ],
         "xaxis": "x",
         "y": [
          -1.5202483,
          -1.8453413,
          -1.692562,
          -1.7010314,
          -1.661793,
          -1.705277,
          -1.8742034,
          -1.7347348,
          -1.8268672,
          -1.7732185,
          -1.6756619,
          -1.7418865,
          -1.6913011,
          -1.6129932,
          -1.5245472,
          -1.7571026,
          -1.5664033,
          -1.493624,
          -1.7713996,
          -1.801601,
          -1.6441327,
          -1.4740756,
          -1.6586789,
          -1.7237806,
          -1.8116904,
          -1.8085997,
          -1.5250366,
          -1.6457447,
          -1.7025378
         ],
         "yaxis": "y"
        },
        {
         "customdata": [
          [
           "Exploring the Connection Between Binary and Spiking Neural Networks",
           "On-chip edge intelligence has necessitated the exploration of algorithmic techniques to<br>reduce<br>the<br>compute<br>requirements<br>of<br>current<br>machine<br>learning<br>frameworks. This work aims to bridge the recent algorithmic<br>progress in<br>training<br>Binary Neural<br>Networks and<br>Spiking<br>Neural<br>Networks-both<br>of which are<br>driven by the same motivation and<br>yet synergies<br>between the two<br>have not been<br>fully explored. We<br>show that<br>training<br>Spiking Neural<br>Networks in the<br>extreme<br>quantization regime<br>results in near [...]"
          ],
          [
           "Artificial Intelligence Enabled Online Non-intrusive Load Monitoring Embedded in Smart Plugs",
           "Abstract As an Internet-of-Things (IoT) device for smart homes, smart plugs have been pervasive<br>in<br>households,<br>which<br>enable<br>users<br>to<br>monitor<br>and<br>control their electrical appliances remotely and automatically. It is<br>promising<br>that, the networks<br>of smart<br>plugs in<br>the<br>power<br>system will<br>enable<br>autonomous demand response for optimal grid<br>operation. This<br>benefits power systems<br>from several<br>aspects,<br>e.g.,<br>enhancing<br>renewable<br>penetration and<br>reducing the peak load.<br>In order to<br>facilitate energy management [...]"
          ],
          [
           "A Smart, Efficient, and Reliable Parking Surveillance System With Edge Artificial Intelligence on IoT Devices",
           "Cloud computing has been a main-stream computing service for years. Recently, with<br>the<br>rapid<br>development<br>in<br>urbanization,<br>massive<br>video<br>surveillance<br>data are produced at an unprecedented speed. A traditional<br>solution<br>to deal<br>with the big<br>data<br>would require a<br>large amount<br>of<br>computing and storage<br>resources. With the advances in<br>Internet of<br>things (IoT),<br>artificial<br>intelligence,<br>and communication<br>technologies,<br>edge<br>computing offers a new<br>solution to the<br>problem by<br>processing all or<br>part of the [...]"
          ],
          [
           "SCEH: Smart Customized E-health Framework for Countryside Using Edge AI and Body Sensor Networks",
           "Due to the shortage and unbalance of medical resources, it is difficult for patients in the<br>countryside<br>to<br>get<br>high-<br>quality<br>and<br>timely<br>medical<br>services from the central medical facility. Existing researches of fog<br>e-health has<br>the<br>potential of<br>providing<br>real-time<br>medical<br>services<br>for the<br>countryside with body sensor networks (BSN), but<br>there are<br>two<br>limitations. On one hand,<br>because of the<br>medical<br>services<br>requiring not only<br>low-<br>latency but also high-quality,<br>constructing<br>an AI<br>e-health service on [...]"
          ],
          [
           "An Efficient Distributed Deep Learning Framework for Fog-based IoT Systems",
           "Deep neural networks (DNNs) are the key techniques to enable edge/fog intelligence. By<br>far,<br>it<br>remains<br>challenging<br>to<br>conduct<br>distributed<br>deployment<br>of DNN models onto resource-constrained fog nodes with low<br>latency.<br>Existing<br>solutions<br>adopt either<br>model<br>compression<br>techniques to<br>reduce the<br>computation loads on fog nodes, or<br>horizontal model<br>partition<br>techniques, which<br>exploit<br>particular<br>communication and<br>computation<br>patterns to partition<br>different<br>layers of DNNs onto<br>fog nodes.<br>Nonetheless, [...]"
          ],
          [
           "Constructing energy-efficient mixed-precision neural networks through principal component analysis for edge intelligence",
           "The ‘Internet of Things’ has brought increased demand for artificial intelligence-<br>based<br>edge<br>computing<br>in<br>applications<br>ranging<br>from<br>healthcare<br>monitoring systems to autonomous vehicles. Quantization is a<br>powerful tool<br>to<br>address the<br>growing<br>computational cost<br>of<br>such<br>applications and yields<br>significant compression over full-<br>precision<br>networks.<br>However, quantization<br>can result<br>in substantial loss<br>of<br>performance<br>for complex image<br>classification<br>tasks. To address<br>this, we<br>propose a principal [...]"
          ],
          [
           "EDGE AI for Heterogeneous and Massive IoT Networks",
           "By combining multiple sensing and wireless access technologies, the Internet of Things (IoT)<br>shall<br>exhibit<br>features<br>with<br>large-<br>scale,<br>massive,<br>and<br>heterogeneous sensors and data. To integrate diverse radio access<br>technologies,<br>we present<br>the<br>architecture<br>of<br>heterogeneous IoT<br>system for<br>smart<br>industrial parks and build an IoT experimental<br>platform.<br>Various sensors<br>are<br>installed on the IoT<br>devices<br>deployed on the<br>experimental<br>platform. To<br>efficiently process the<br>raw sensor<br>data and [...]"
          ],
          [
           "Application of Edge Intelligent Computing in Satellite Internet of Things",
           "With the advancement of aerospace technology and the investment of commercial satellite companies<br>in<br>the<br>satellite<br>industry,<br>the<br>number<br>of<br>satellites<br>is increasing. Satellites become an important part of the IoT and<br>5G/6G<br>communications.<br>The sensors<br>on the<br>satellite<br>will generate<br>a<br>large amount of<br>data every day. However, due to the current<br>on-board<br>processing<br>capability and the<br>limitation of<br>the inter-<br>satellite<br>communication<br>rate, the data<br>acquisition from the<br>satellite has<br>a higher delay<br>and the [...]"
          ],
          [
           "Environmental Intelligence for Embedded Real-time Traffic Sound Classification",
           "In this paper a prototype to classify sounds emitted by car engines to be used for urban traffic<br>management<br>in<br>smart<br>cities<br>is<br>presented.<br>The<br>solution<br>is based on Artificial Neural Network (ANN) executed on a resource<br>constrained low<br>cost<br>embedded<br>micro<br>controller<br>integrated into<br>a<br>sensing unit very<br>close to the microphone. The prototype<br>operates without the<br>need of<br>being<br>connected to a<br>remote server<br>through an always-<br>on<br>connectivity. The adoption<br>of an on-the-<br>edge [...]"
          ],
          [
           "Artificial Intelligence-based Service Aggregation for Mobile-Agent in Edge Computing",
           "The ongoing development of edge computing in fifth-generation (5G) networks promises to<br>provide<br>an<br>artificial<br>intelligence-<br>as-a-<br>service<br>(AIaaS)<br>for<br>meeting the stringent requirements of everything as a service<br>(XaaS) in the<br>edge<br>of the<br>networks. Therefore, the<br>concept<br>of<br>edge-<br>artificial<br>intelligence (edge-AI) is not only evolving but<br>also emergent<br>enabler<br>toward AI<br>service fulfillment. In this<br>paper,<br>we<br>investigate an<br>AI-based service<br>aggregation problem for<br>a mobile agent<br>in AIaaS-<br>enabled [...]"
          ],
          [
           "Lightweight Convolution Neural Networks for Mobile Edge Computing in Transportation Cyber Physical Systems",
           "Cloud computing extends Transportation Cyber-Physical Systems (T-CPS) with provision<br>of<br>enhanced<br>computing<br>and<br>storage<br>capability<br>via<br>offloading<br>computing tasks to remote cloud servers. However, cloud computing<br>cannot<br>fulfill the<br>requirements<br>such<br>as low<br>latency and<br>context<br>awareness in T-CPS.<br>The appearance of Mobile Edge Computing<br>(MEC) can<br>overcome the<br>limitations of<br>cloud<br>computing via<br>offloading the<br>computing<br>tasks at edge servers in<br>approximation to<br>users,<br>consequently reducing<br>the latency [...]"
          ],
          [
           "Edge AI: On-Demand Accelerating Deep Neural Network Inference via Edge Computing",
           "As a key technology of enabling Artificial Intelligence (AI) applications in 5G era,<br>Deep<br>Neural<br>Networks<br>(DNNs)<br>have<br>quickly<br>attracted<br>widespread<br>attention. However, it is challenging to run computation-<br>intensive DNN-<br>based tasks<br>on mobile<br>devices due<br>to the<br>limited<br>computation<br>resources. What’s<br>worse, traditional cloud-<br>assisted DNN inference is<br>heavily<br>hindered by the<br>significant wide-<br>area<br>network latency,<br>leading to poor<br>real-<br>time<br>performance as well as low quality of<br>user<br>experience. To [...]"
          ],
          [
           "Edge Intelligence based Co-training of CNN",
           "Improving training efficiency is a long-term major topic of neural network. With the popularity<br>of<br>intelligent<br>terminal<br>devices,<br>such<br>as<br>smart<br>phones<br>and smart household electrical appliances, edge computing is<br>gradually<br>developing to edge<br>intelligence<br>(EI), which<br>provides<br>support<br>to<br>multiple<br>terminals and play a role of a mini cloud.<br>By making<br>full use of the computing<br>power of<br>intelligent terminals<br>in EI,<br>while<br>cooperating<br>with edge<br>servers, the training<br>efficiency of<br>convolution neural [...]"
          ],
          [
           "Soft Weight-Sharing for Neural Network Compression",
           "The success of deep learning in numerous application domains created the de- sire to run and<br>train<br>them<br>on<br>mobile<br>devices.<br>This<br>however,<br>conflicts<br>with their computationally, memory and energy intense nature, leading to<br>a<br>growing<br>interest<br>in<br>compression. Recent<br>work by<br>Han et al.<br>(2015a) propose<br>a pipeline that involves retraining, pruning<br>and<br>quantization of<br>neural<br>network<br>weights, obtaining state-<br>of-the-art<br>compression<br>rates. In this paper,<br>we show that<br>competitive<br>compression rates [...]"
          ],
          [
           "A Heterogeneous IoT Data Analysis Framework with Collaboration of Edge-Cloud Computing: Focusing on Indoor PM10 and PM2.5 Status Prediction",
           "The edge platform has evolved to become a part of a distributed computing environment. While typical<br>edges<br>do<br>not<br>have<br>enough<br>processing<br>power<br>to<br>train machine learning models in real time, it is common to generate models in<br>the cloud<br>for use<br>on the<br>edge.<br>The pattern<br>of<br>heterogeneous<br>Internet of<br>Things (IoT) data is dependent on individual<br>circumstances. It is<br>not easy<br>to<br>guarantee<br>prediction performance<br>when a<br>monolithic model<br>is used without<br>considering the<br>spatial characteristics [...]"
          ],
          [
           "Edge Intelligence in the Cognitive Internet of Things: Improving Sensitivity and Interactivity",
           "A new network paradigm, CIoT, has been proposed by applying cognitive computing technologies,<br>which<br>is<br>derived<br>from<br>cognitive<br>science<br>and<br>artificial<br>intelligence in combination with the data generated by connected IoT<br>devices and<br>the<br>actions that<br>these<br>devices<br>perform. The<br>development<br>of cognitive<br>computing is very important in the above<br>process to meet<br>key<br>technical challenges,<br>such as<br>generation<br>of big sensory<br>data, efficient<br>computing/storage<br>at the CIoT<br>edge, and integration<br>of<br>multiple data [...]"
          ],
          [
           "POWER: A Parallel-Optimization-Based Framework Towards Edge Intelligent Image Recognition and a Case Study",
           "To improve the intelligent image recognition abilities of edge devices, a parallel-optimization-<br>based<br>framework<br>called<br>POWER<br>is<br>introduced<br>in<br>this<br>paper. With FPGA (Field-Programmable Gate Array) as its hardware module,<br>POWER<br>provides<br>well<br>extensibility<br>and<br>flexible<br>customization<br>capability for<br>developing intelligent firmware suitable for<br>different<br>types of edge<br>devices in<br>various<br>scenarios.<br>Through an<br>actual case study, we<br>design and<br>implement a firmware<br>prototype following<br>the specification<br>of [...]"
          ],
          [
           "Data Stream Mining in Fog Computing Environment with Feature Selection Using Ensemble of Swarm Search Algorithms",
           "Fog computing emerged as a contemporary strategy to process big streaming data efficiently. It<br>is<br>designed<br>as<br>a<br>distributed<br>computing<br>platform<br>for<br>supporting the data analytics for Internet of Things (IoT) applications<br>that<br>pushes the<br>data<br>analytics<br>from Cloud<br>server to the far<br>edge of a<br>sensor<br>network. As the name suggests, ubiquitous data<br>which is<br>collected from<br>the<br>sensors are<br>processed locally<br>rather than on the<br>central servers.<br>Fog<br>computing helps avoid<br>performance<br>bottleneck at the [...]"
          ],
          [
           "Edge Enhanced Deep Learning System for Large-scale Video Stream Analytics",
           "Applying deep learning models to large-scale IoT data is a compute-intensive<br>task<br>and<br>needs<br>significant<br>computational<br>resources.<br>Existing<br>approaches<br>transfer this big data from IoT devices to a central<br>cloud<br>where<br>inference is<br>performed using<br>a machine<br>learning model.<br>However, the<br>network<br>connecting the data capture source and<br>the<br>cloud<br>platform can become a<br>bottleneck. We<br>address this<br>problem by distributing<br>the deep<br>learning pipeline<br>across edge<br>and<br>cloudlet/fog<br>resources. The basic<br>processing [...]"
          ],
          [
           "Optimal UAV Caching and Trajectory in Aerial-Assisted Vehicular Networks: A Learning-Based Approach",
           "In this article, we investigate the UAV-aided edge caching to assist terrestrial vehicular<br>networks<br>in<br>delivering<br>high-<br>bandwidth<br>content<br>files.<br>Aiming<br>at maximizing the overall network throughput, we formulate a<br>joint caching<br>and<br>trajectory<br>optimization<br>(JCTO) problem<br>to make<br>decisions on<br>content<br>placement, content delivery, and UAV<br>trajectory<br>simultaneously.<br>As the<br>decisions interact with<br>each other and<br>the UAV<br>energy is limited,<br>the<br>formulated JCTO<br>problem is<br>intractable directly and<br>timely. [...]"
          ],
          [
           "Exploring the computational cost of machine learning at the edge for human-centric Internet of Things",
           "In response to users’ demand for privacy, trust and control over their data, executing machine learning tasks<br>at<br>the<br>edge<br>of<br>the<br>system<br>has<br>the<br>potential to make the Internet of Things (IoT) applications and services more human-<br>centric.<br>This<br>implies<br>moving<br>complex<br>computation to<br>a local<br>stage,<br>where edge devices must balance the computational cost of<br>the machine<br>learning<br>techniques<br>to meet<br>the available<br>resources. Thus,<br>in this<br>paper, we<br>analyze all the factors affecting the<br>classification<br>process [...]"
          ],
          [
           "Convergence of Edge Computing and Deep Learning: A Comprehensive Survey",
           "Ubiquitous sensors and smart devices from factories and communities are generating massive amounts<br>of<br>data,<br>and<br>ever-<br>increasing<br>computing<br>power<br>is<br>driving the core of computation and services from the cloud to the edge of<br>the<br>network. As<br>an<br>important<br>enabler broadly<br>changing<br>people’s lives,<br>from<br>face recognition to ambitious smart factories and<br>cities,<br>developments<br>of<br>artificial<br>intelligence (especially<br>deep<br>learning, DL) based<br>applications<br>and services are thriving.<br>However, due<br>to [...]"
          ],
          [
           "Towards low-power random forest using asynchronous computing with streams",
           "We propose a sensor architecture for the internet of things (IoT), smartdust or edge-<br>intelligence<br>(EI)<br>that<br>combines<br>near-<br>analog-<br>memory<br>(NAM)<br>processing and asynchronous computing with streams (ACS) addressing<br>the need for<br>machine<br>learning<br>(ML)<br>capabilities at<br>low power<br>budgets. In<br>ACS an<br>analog value is mapped to an asynchronous<br>stream that can take<br>one of two<br>values (vh,<br>vl).<br>This stream-based<br>data<br>representation enables<br>area-power<br>efficient computing<br>units such as the<br>multiplier<br>implemented as [...]"
          ],
          [
           "Boomerang: On-Demand Cooperative Deep Neural Network Inference for Edge Intelligence on the Industrial Internet of Things",
           "With the revolution of smart industry, more and more Industrial Internet of Things (IIoT) devices as<br>well<br>as<br>AI<br>algorithms<br>are<br>deployed<br>to<br>achieve<br>industrial intelligence. While applying computation-intensive deep learning<br>on<br>IIoT<br>devices,<br>however, it is<br>challenging<br>to meet<br>the<br>critical latency<br>requirement for industrial manufacturing.<br>Traditional<br>wisdom<br>resorts to the<br>cloud-centric<br>paradigm but still<br>works<br>either<br>inefficiently or<br>ineffectively due to the<br>heavy transmission<br>latency<br>overhead. To [...]"
          ],
          [
           "A 64-mW DNN-Based Visual Navigation Engine for Autonomous Nano-Drones",
           "Fully miniaturized robots (e.g., drones), with artificial intelligence (AI)-based<br>visual<br>navigation<br>capabilities,<br>are<br>extremely<br>challenging<br>drivers<br>of<br>Internet-of-Things edge intelligence capabilities.<br>Visual<br>navigation based on AI<br>approaches, such<br>as deep<br>neural<br>networks (DNNs)<br>are<br>becoming<br>pervasive for standard-size drones,<br>but are<br>considered out of reach for<br>nano-drones with a<br>size of a<br>few cm2. In<br>this paper, we<br>present<br>the first (to<br>the best of<br>our<br>knowledge) demonstration of a<br>navigation [...]"
          ],
          [
           "Intelligent Edge Computing for IoT-Based Energy Management in Smart Cities",
           "In recent years, green energy management systems (smart grid, smart buildings, and so on)<br>have<br>received<br>huge<br>research<br>and<br>industrial<br>attention<br>with<br>the explosive development of smart cities. By introducing Internet<br>of Things<br>(loT)<br>technology,<br>smart cities<br>are<br>able to achieve<br>exquisite<br>energy<br>management by ubiquitous monitoring and<br>reliable<br>communications.<br>However, long-term<br>energy efficiency<br>has<br>become an important<br>issue when<br>using an loT-<br>based network<br>structure. In<br>this article, we<br>focus on [...]"
          ],
          [
           "Lightweight Privacy-Preserving Ensemble Classification for Face Recognition",
           "The development of machine learning technology and visual sensors is promoting the wider<br>applications<br>of<br>face<br>recognition<br>into<br>our<br>daily<br>life.<br>However, if the face features in the servers are abused by the<br>adversary, our privacy<br>and<br>wealth can<br>be faced with<br>great<br>threat.<br>Many<br>security experts<br>have pointed out that, by 3-D-printing<br>technology, the adversary<br>can<br>utilize the<br>leaked face feature<br>data to<br>masquerade<br>others and<br>break the E-bank<br>accounts.<br>Therefore, in this paper, we [...]"
          ],
          [
           "An Edge Based Smart Parking Solution Using Camera Networks and Deep Learning",
           "The smart parking industry continues to evolve as an increasing number of cities<br>struggle<br>with<br>traffic<br>congestion<br>and<br>inadequate<br>parking<br>availability.<br>For urban dwellers, few things are more irritating than<br>anxiously<br>searching<br>for a<br>parking space.<br>Research<br>results show<br>that as much<br>as 30% of traffic<br>is caused by drivers driving<br>around looking<br>for parking<br>spaces in<br>congested city<br>areas. There has<br>been<br>considerable activity<br>among researchers to<br>develop<br>smart technologies<br>that can help<br>drivers find [...]"
          ],
          [
           "Help your Mobile Applications with Fog Computing",
           "Cloud computing has paved a way for resource-constrained mobile devices to speed up their<br>computing<br>tasks<br>and<br>to<br>expand<br>their<br>storage<br>capacity.<br>However, cloud computing is not necessary a panacea for all mobile<br>applications. The<br>high<br>network<br>latency<br>to cloud<br>data<br>centers may not<br>be ideal for<br>delay-sensitive applications while storing<br>everything on public<br>clouds<br>risks users'<br>security<br>and privacy.<br>In this<br>paper, we discuss<br>two preliminary<br>ideas, one for mobile<br>application offloading<br>and the<br>other for [...]"
          ],
          [
           "A New Deep Learning-Based Food Recognition System for Dietary Assessment on An Edge Computing Service Infrastructure",
           "Literature has indicated that accurate dietary assessment is very important for<br>assessing<br>the<br>effectiveness<br>of<br>weight<br>loss<br>interventions.<br>However,<br>most of the existing dietary assessment methods rely on<br>memory. With the<br>help<br>of pervasive<br>mobile<br>devices and<br>rich cloud<br>services, it is<br>now possible<br>to develop new computer-aided<br>food recognition<br>system for<br>accurate dietary<br>assessment.<br>However,<br>enabling this<br>future Internet of<br>Things-based<br>dietary<br>assessment imposes several<br>fundamental<br>challenges [...]"
          ],
          [
           "Binarizing Weights Wisely for Edge Intelligence: Guide for Partial Binarization of Deconvolution-Based Generators",
           "This article explores the weight binarization of the deconvolution-based generator in a<br>generative<br>adversarial<br>network<br>(GAN)<br>for<br>memory<br>saving<br>and<br>speedup of image construction on the edge. This article suggests<br>that different<br>from<br>convolutional<br>neural<br>networks<br>(including<br>the<br>discriminator) where<br>all layers can be binarized, only some<br>of the layers in<br>the<br>generator can be<br>binarized<br>without<br>significant performance<br>loss.<br>Supported by theoretical<br>analysis and<br>verified by<br>experiments, a<br>direct metric [...]"
          ],
          [
           "OpenEI: An Open Framework for Edge Intelligence",
           "In the last five years, edge computing has attracted tremendous attention from industry and academia<br>due<br>to<br>its<br>promise<br>to<br>reduce<br>latency,<br>save<br>bandwidth, improve availability, and protect data privacy to keep data secure. At<br>the same<br>time,<br>we<br>have<br>witnessed<br>the<br>proliferation of AI<br>algorithms<br>and models which accelerate the successful deployment of<br>intelligence<br>mainly<br>in<br>cloud<br>services. These two<br>trends,<br>combined together,<br>have created a<br>new horizon: Edge Intelligence<br>(EI). The<br>development of [...]"
          ],
          [
           "Client Selection for Federated Learning with Heterogeneous Resources in Mobile Edge",
           "We envision a mobile edge computing (MEC) framework for machine learning (ML)<br>technologies,<br>which<br>leverages<br>distributed<br>client<br>data<br>and<br>computation<br>resources for training high-performance ML models while<br>preserving client<br>privacy.<br>Toward this<br>future goal,<br>this work<br>aims to<br>extend<br>Federated<br>Learning (FL), a decentralized learning<br>framework that<br>enables privacy-<br>preserving<br>training of models,<br>to work<br>with<br>heterogeneous clients<br>in a<br>practical cellular<br>network. The FL<br>protocol iteratively asks<br>random [...]"
          ],
          [
           "A Novel 1D-Convolution Accelerator for Low-Power Real-time CNN processing on the Edge",
           "With the rise of deep learning, the demand for real-time edge intelligence is greater<br>than<br>ever.<br>Current<br>algorithm<br>and<br>hardware<br>realizations<br>often<br>focus on the cloud paradigm and maintain the assumption that the<br>entire<br>frames<br>data is<br>available in<br>large<br>batches. As a<br>result, obtaining<br>real-time AI<br>inference at the edge has been a tough<br>goal due to<br>tight-<br>latency<br>awareness as well as<br>streaming<br>nature of the<br>data. There is an<br>inherent need for<br>novel<br>architectures that can<br>realize<br>latency-aware<br>agile [...]"
          ],
          [
           "Edge Intelligence: Challenges and Opportunities of Near-Sensor Machine Learning Applications",
           "The number of connected IoT devices is expected to reach over 20 billion by 2020. These range from basic sensor<br>nodes<br>that<br>log<br>and<br>report<br>the<br>data<br>for<br>cloud processing, to the ones on the edge, that are capable of processing and<br>analyzing<br>the<br>incoming<br>information and<br>taking<br>an<br>action<br>accordingly.<br>Machine learning, and in particular deep learning, is the<br>defacto<br>processing<br>paradigm for<br>intelligently<br>processing<br>these<br>immense<br>volumes of data.<br>However, the resource inhibited<br>environment of<br>edge [...]"
          ],
          [
           "Learning IoT in Edge: Deep Learning for the Internet of Things with Edge Computing",
           "Deep learning is a promising approach for extracting accurate information from raw sensor<br>data<br>from<br>IoT<br>devices<br>deployed<br>in<br>complex<br>environments.<br>Because of its multilayer structure, deep learning is also appropriate<br>for<br>the<br>edge<br>computing<br>environment.<br>Therefore, in<br>this<br>article, we first<br>introduce deep learning for IoTs into the<br>edge<br>computing<br>environment. Since<br>existing<br>edge nodes have<br>limited<br>processing<br>capability, we also design a<br>novel offloading<br>strategy<br>to optimize<br>the performance of [...]"
          ]
         ],
         "hovertemplate": "Topic=AI on Edge Devices<br>x=%{x}<br>y=%{y}<br>title=%{customdata[0]}<br>abstract=%{customdata[1]}<extra></extra>",
         "legendgroup": "AI on Edge Devices",
         "marker": {
          "color": "#ff7f0e",
          "size": 5,
          "symbol": "circle"
         },
         "mode": "markers",
         "name": "AI on Edge Devices",
         "orientation": "v",
         "showlegend": true,
         "type": "scatter",
         "x": [
          12.69403,
          12.923211,
          12.911589,
          13.077728,
          12.69923,
          12.7028675,
          12.836413,
          12.827666,
          12.994713,
          12.78279,
          12.79769,
          12.732675,
          12.789171,
          12.713993,
          12.875611,
          12.8686075,
          12.664391,
          12.818992,
          12.772266,
          13.053471,
          12.709431,
          12.722247,
          12.47417,
          12.741225,
          12.95016,
          12.856298,
          12.617742,
          12.947503,
          12.926464,
          12.672304,
          12.710025,
          12.852075,
          12.708356,
          12.741552,
          12.872998,
          12.80082
         ],
         "xaxis": "x",
         "y": [
          9.143808,
          8.644348,
          8.720982,
          8.046969,
          8.706772,
          9.084014,
          8.822429,
          8.7710905,
          8.546264,
          8.873296,
          9.060956,
          8.976614,
          9.0704775,
          9.135737,
          8.58434,
          8.816548,
          9.039595,
          8.39366,
          8.741473,
          9.263959,
          8.687235,
          8.933684,
          8.768997,
          8.999848,
          9.13795,
          8.713707,
          8.831184,
          8.872025,
          8.283853,
          8.760656,
          9.079458,
          8.940256,
          8.829192,
          9.104223,
          8.896946,
          8.808756
         ],
         "yaxis": "y"
        },
        {
         "customdata": [
          [
           "State of the Art of Catalysts for Biodiesel Production",
           "Biodiesel is one of the potential alternative energy sources that can be derived from renewable<br>and<br>low-<br>grade<br>origin<br>through<br>different<br>processes.<br>One<br>of the processes is alcoholysis or transesterification in the presence<br>of a<br>suitable<br>catalyst.<br>The<br>catalyst can be<br>either<br>homogeneous<br>or<br>heterogeneous. This article reviews various catalysts used<br>for<br>biodiesel<br>production to<br>date,<br>presents the state of the<br>art of<br>types of<br>catalysts, and<br>compares their suitability and<br>associated<br>challenges [...]"
          ],
          [
           "Sustainable biomass production under CO2 conditions and effective wet microalgae lipid extraction for biodiesel production",
           "The freshwater microalga Chlorella vulgaris MSU AGM 14 was cultured at different CO2 conditions (up to 8%)<br>with<br>100<br>μmol<br>photons<br>m−2<br>s−1<br>to<br>evaluate<br>biomass and lipid productivity. For effective extraction of intra-cellular lipids, a<br>novel<br>method<br>based on<br>mild<br>pressure<br>(1–2.5<br>kg/cm2)<br>with short<br>period (5–15 min) of heat shock (50–70 °C) were studied for the<br>wet<br>biomass.<br>The<br>transesterified lipids<br>were<br>qualitatively<br>and<br>quantitatively analysed<br>using Gas Chromatography coupled [...]"
          ],
          [
           "Efficient biodiesel production from Jatropha curcus using CaSO4/Fe2O3-SiO2 core-shell magnetic nanoparticles",
           "Core shell nanostructures have endorsed great enhancements in the production of biodiesel with<br>well-<br>controlled<br>size,<br>shape,<br>and<br>surface<br>properties.<br>A<br>simple and reproducible hierarchically porous core-shell<br>CaSO4/Fe2O3-SiO2<br>material with<br>controllable<br>core<br>morphology<br>was<br>developed. The materials<br>with<br>a well mesoporous structure were<br>prepared by<br>ethanol/H2O media using<br>NaNO3 as the<br>etchant to<br>construct the<br>co-<br>valent bond in Fe2O3 framework,<br>and the<br>CH3COONa<br>was an<br>electrostatic supporter [...]"
          ],
          [
           "A study on performance, combustion and emission behaviour of diesel engine powered by novel nano nerium oleander biofuel",
           "In connection with the threating environmental pollution and stringent emission norms,<br>the<br>present<br>experimental<br>research<br>studies<br>the<br>effect<br>of<br>utilizing cerium oxide nanoparticle mixed with an emulsion of nerium<br>oleander<br>biofuel<br>(ENOB) on a<br>compression<br>ignition (CI)<br>direct<br>injection<br>(DI)<br>diesel engine. The whole probe was persuaded<br>using a mono-<br>cylinder<br>4-stroke direct<br>injection CI<br>engine. A novel nerium<br>olender<br>biofuel was<br>extracted<br>and esterified. Later<br>it was converted<br>into the<br>emulsion of [...]"
          ],
          [
           "Impact of carbon emissions in a sustainable supply chain management for a second generation biofuel",
           "Global warming due to excessive use of fossil fuels has driven researchers to focus on sustainable<br>energy<br>sources<br>for<br>the<br>future.<br>For<br>clean<br>production<br>systems, biofuel is expanding the domain of renewable and sustainable<br>energy<br>supplies. An<br>efficient<br>and<br>sustainable<br>supply<br>chain plays a<br>pivotal role<br>in ensuring this supply. In this research,<br>crop<br>residuals in different<br>agricultural<br>zones,<br>transportation<br>for<br>shipment of residual<br>biomass as well as<br>biofuel,<br>multiple<br>biorefineries, and multiple [...]"
          ],
          [
           "Simulation and life cycle assessment of process design alternatives for biodiesel production from waste vegetable oils",
           "This study uses the process simulator ASPEN Plus® and Life Cycle Assessment (LCA)<br>to<br>compare<br>three<br>process<br>design<br>alternatives<br>for<br>biodiesel<br>production from waste vegetable oils that are: the conventional<br>alkali-<br>catalyzed<br>process<br>including a<br>free fatty<br>acids (FFAs)<br>pre-<br>treatment, the acid-<br>catalyzed process, and the<br>supercritical methanol<br>process<br>using propane<br>as co-solvent.<br>Results show<br>that the<br>supercritical<br>methanol process using<br>propane<br>as co-solvent is the<br>most<br>environmentally [...]"
          ],
          [
           "Energy- and greenhouse gas-based LCA of biofuel and bioenergy systems: Key issues, ranges and recommendations",
           "With increasing use of biomass for energy, questions arise about the validity of bioenergy as<br>a<br>means<br>to<br>reduce<br>greenhouse<br>gas<br>emissions<br>and<br>dependence on fossil fuels. Life Cycle Assessment (LCA) is a methodology able<br>to<br>reveal<br>these<br>environmental<br>and<br>energy<br>performances, but<br>results may<br>differ even for apparently similar bioenergy<br>systems.<br>Differences are<br>due to<br>several reasons:<br>type and<br>management<br>of raw materials,<br>conversion<br>technologies, end-use<br>technologies,<br>system boundaries [...]"
          ],
          [
           "A sustainable second-generation biodiesel supply chain network design problem under risk",
           "This paper presents a multi-objective possibilistic programming model to design a second-<br>generation<br>biodiesel<br>supply<br>chain<br>network<br>under<br>risk.<br>The<br>proposed model minimizes the total costs of biodiesel supply chain<br>from feedstock<br>supply<br>centers to<br>customer<br>centers<br>besides<br>minimizing<br>the<br>environmental impact (EI) of all involved processes<br>under a well-to-<br>wheel<br>perspective. Non-<br>edible<br>feedstocks are<br>considered for<br>biodiesel<br>production.<br>Variable cultivation cost<br>of non-edible<br>feedstock is<br>assumed to [...]"
          ],
          [
           "Multistage optimization of the supply chains of biofuels",
           "In this study, a mathematical model that integrates spatial and temporal dimensions is<br>developed<br>for<br>strategic<br>planning<br>of<br>future<br>bioethanol<br>supply<br>chain systems. The planning objective is to minimize the cost of<br>the entire<br>supply<br>chain of<br>biofuel from<br>biowaste<br>feedstock<br>fields to end<br>users over<br>the entire planning horizon,<br>simultaneously satisfying<br>demand,<br>resource, and<br>technology<br>constraints. This<br>model is used<br>to evaluate the<br>economic<br>potential<br>and infrastructure<br>requirements for<br>bioethanol [...]"
          ],
          [
           "Potential Land Use Implications of a Global Biofuels Industry",
           "In this paper we investigate the potential production and implications of a<br>global<br>biofuels<br>industry.<br>We<br>develop<br>alternative<br>approaches<br>to<br>consistently introduce land as an economic factor input and in<br>physical<br>terms into a<br>computable<br>general<br>equilibrium<br>framework. The<br>approach<br>allows us<br>to parameterize biomass production<br>consistent with<br>agro-engineering<br>information<br>on yields<br>and a \"second<br>generation\"<br>cellulosic biomass<br>conversion<br>technology. We<br>explicitly model<br>land conversion from<br>natural areas [...]"
          ],
          [
           "Integrated environmental assessment of biodiesel production from soybean in Brazil",
           "This paper presents the results of an environmental impact assessment of biodiesel production from<br>soybean<br>in<br>Brazil.<br>In<br>order<br>to<br>achieve<br>this<br>objective, environmental impact indicators provided by Emergy Accounting (EA),<br>Embodied<br>Energy<br>Analysis (EEA)<br>and<br>Material<br>Flow<br>Accounting<br>(MFA) were<br>used. The results showed that for one liter of<br>biodiesel 8.8kg of<br>topsoil are<br>lost in erosion,<br>besides<br>the cost of<br>0.2kg<br>of fertilizers,<br>about 5.2m2<br>of crop area, 7.33kg of<br>abiotic materials, 9.0<br>tons of [...]"
          ],
          [
           "Isolation of promising bacterial strains from soil and marine environment for polyhydroxyalkanoates (PHAs) production utilizing Jatropha biodiesel byproduct",
           "PHAs are biodegradable and environmentally friendly thermoplastics. The major contributor to<br>PHA<br>production<br>cost<br>is<br>carbon<br>substrate<br>cost,<br>therefore<br>it is desirable to produce PHA from waste/byproducts like Jatropha<br>biodiesel<br>byproducts.<br>This study<br>was<br>done using<br>Jatropha<br>biodiesel<br>byproduct as<br>carbon source, to decrease production cost for<br>PHAs. Total<br>41 isolates<br>from soil and<br>marine<br>source were able<br>to utilize<br>Jatropha<br>biodiesel byproduct.<br>Nine bacteria were<br>selected for<br>further studies,<br>which [...]"
          ],
          [
           "Biodiesel production from vegetable oil by using modified CaO as solid basic catalysts",
           "A high efficient production of fatty acid methyl ester (FAME) from soybean oil and rapeseed oil was<br>carried<br>out<br>using<br>modified<br>CaO<br>as<br>solid<br>basic<br>catalyst by connecting bromooctane to the surface of CaO chemically in a simple<br>way. It was<br>found<br>that<br>99.5% yield of<br>the FAME<br>over<br>modified<br>CaO was<br>obtained from soybean oil using 15:1 molar ratio of<br>methanol to oil<br>after 3 h at<br>reaction<br>temperature of 65<br>°C, which<br>is much<br>higher than<br>the yield of<br>35.4% over commercial CaO<br>at the same reaction<br>conditions. [...]"
          ],
          [
           "Review of evolution, technology and sustainability assessments of biofuel production",
           "Biofuel is recognised as an important renewable and sustainable energy source to substitute fossil fuel.<br>To<br>date,<br>biofuel<br>has<br>been<br>evolved<br>from<br>first<br>to fourth generation and they are mainly differed in feedstock and<br>production<br>technologies.<br>Along with<br>the<br>evolution,<br>various studies<br>on<br>different<br>sustainability criteria have been conducted.<br>In this review<br>paper, the state<br>of the art<br>of<br>technologies and<br>assessment methods<br>on<br>economic<br>performance, safety, health and<br>environment (SHE)<br>as well as [...]"
          ],
          [
           "Photosynthetic bioenergy utilizing CO2: an approach on flue gases utilization for third generation biofuels",
           "One of the most important industrial activities related to the greenhouse gases emissions<br>is<br>the<br>cement<br>manufacturing<br>process,<br>which<br>produces<br>large<br>amounts of carbon dioxide (CO2). Only in 2010, 8% of CO2 global<br>emissions<br>were<br>due to<br>cement industry. In<br>this work, the<br>use of<br>CO2 released<br>by the<br>cement sector is described as potential<br>gas for<br>microalgae<br>culture since<br>their biofixation<br>efficiency is higher<br>than<br>terrestrial plants.<br>Therefore,<br>transformation of<br>polluting<br>gas fluxes into<br>new and [...]"
          ],
          [
           "Exergy analysis applied to biodiesel production",
           "In our aim to decrease the consumption of materials and energy and promote the use of renewable resources,<br>such<br>as<br>biofuels,<br>rises<br>the<br>need<br>to<br>measure<br>materials and energy fluxes. This paper suggests the use of Exergy Flow Analysis<br>(ExFA) as<br>an<br>environmental<br>assessment<br>tool<br>to<br>account<br>wastes and<br>emissions, determine the exergetic efficiency, compare<br>substitutes and<br>other<br>types of energy<br>sources: all<br>useful<br>in<br>defining<br>environmental and<br>economical policies for resource use.<br>In order to<br>illustrate [...]"
          ],
          [
           "Life cycle assessment of macroalgae cultivation and processing for biofuel production",
           "There has been a recent resurgence in research investigating bioenergy production from algal<br>biomass<br>due<br>to<br>the<br>potential<br>environmental<br>benefits<br>in<br>comparison to conventional bioenergy crops and conventional fossil<br>fuels. This<br>life<br>cycle<br>assessment<br>(LCA)<br>considered the energy<br>return<br>and<br>environmental impacts of the cultivation and<br>processing of<br>macroalgae<br>(seaweed) to<br>bioethanol and<br>biogas<br>with a particular focus on<br>specific<br>species<br>(Gracilaria chilensis<br>and Macrocystis<br>pyrifera) [...]"
          ],
          [
           "Development of renewable energy sources market and biofuels in The European Union",
           "The aim of the paper is to present renewable energy market development with particular regard paid to<br>biofuels<br>in<br>the<br>EU.<br>The<br>analysis<br>included<br>data<br>on the share of renewables in Gross Island energy consumption, changes of<br>renewable energy<br>in<br>the<br>years<br>2004–2016 and<br>the amount<br>of liquid<br>biofuels.<br>The authors of the paper used descriptive and<br>statistical methods to<br>describe<br>the<br>changes in<br>bioenergy<br>development in the<br>European Union<br>(EU). The<br>biggest share of biofuels<br>and renewable waste can<br>be seen [...]"
          ],
          [
           "Enzymatic transesterification for biodiesel production from used cooking oil, a review",
           "This paper reviews various aspects of the enzymatic transesterification method to convert used cooking oil to<br>biodiesel.<br>The<br>goal<br>of<br>this<br>paper<br>is<br>to<br>provide a thorough overview from general biodiesel production processes,<br>reaction<br>conditions,<br>challenges,<br>and<br>solutions<br>for<br>higher<br>biodiesel<br>production yield through introducing various<br>microorganisms that are<br>capable of<br>producing the<br>enzymes<br>required to<br>convert used<br>cooking<br>oil into<br>biodiesel. The<br>characteristics, composition, and<br>advantages of [...]"
          ],
          [
           "Biofuel policy in India: A review of policy barriers in sustainable marketing of biofuel",
           "Global warming issue due to the combustion of fossil fuel pushes the world to<br>produce<br>renewable<br>and<br>environmental<br>friendly<br>fuel<br>from<br>sustainable<br>feedstock. There are several measures on different levels<br>to reduce<br>the global<br>warming<br>including clean<br>energies from<br>wind,<br>solar, and<br>biomass. There<br>are different aspects in bringing<br>these<br>technologies into a<br>reality<br>including development of<br>technology,<br>economic<br>feasibilities,<br>environmental<br>sustainability<br>and<br>finally, support from the<br>government in<br>the [...]"
          ],
          [
           "A multi-objective robust possibilistic programming approach to sustainable switchgrass-based bioethanol supply chain network design",
           "This paper proposes a multi-objective robust possibilistic programming model for the<br>design<br>of<br>a<br>sustainable<br>switchgrass-<br>based<br>bioethanol<br>supply<br>chain network under the epistemic uncertainty of input<br>data<br>considering<br>conflicting<br>economic,<br>environmental and<br>social<br>objectives. The<br>newest and most<br>effective environmental and<br>social<br>life cycle<br>assessment-based<br>methods are<br>applied to the proposed<br>model to<br>measure the relevant<br>environmental and<br>social<br>impacts.<br>To deal with<br>uncertain [...]"
          ],
          [
           "The Economics of a Blend Mandate for Biofuels",
           "Abstract A biofuel blend mandate may increase or decrease consumer fuel prices with<br>endogenous<br>oil<br>prices,<br>depending<br>on<br>relative<br>supply<br>elasticities.<br>Biofuel tax credits always reduce fuel prices. Tax credits<br>result in lower<br>fuel<br>prices than<br>under a<br>mandate for<br>the same<br>level of<br>biofuel production.<br>If tax credits are implemented<br>alongside mandates,<br>then tax<br>credits subsidize<br>fuel<br>consumption instead<br>of biofuels.<br>This<br>contradicts energy policy<br>goals by<br>increasing oil<br>dependency, CO 2<br>emissions, [...]"
          ],
          [
           "A new processing route for cleaner production of biodiesel fuel using a choline chloride based deep eutectic solvent",
           "In this study, the free fatty acids (FFA) content in acidic crude palm oil (ACPO) was converted to<br>fatty<br>acid<br>methyl<br>esters<br>(FAME)<br>using<br>a<br>choline<br>chloride based deep eutectic solvent (ChCl-DES) for the first time. This DES<br>is<br>composed of a<br>mixture of<br>a hydrogen<br>bond<br>donor<br>(i.e.<br>p-toluenesulfonic<br>acid monohydrate) and a salt (i.e. choline<br>chloride). The<br>pre-treatment<br>esterification<br>stage involved<br>the use<br>of ChCl-<br>DES. A<br>dosage of 0.75 mass ratio<br>of ChCl-DES to<br>ACPO resulted in<br>reducing the FFA [...]"
          ],
          [
           "Biofuel-related price transmission literature: A review",
           "In this article, an extensive review of the rapidly growing biofuel-related time-series literature<br>is<br>carried<br>out.<br>The<br>data<br>used,<br>the<br>modeling<br>techniques and the main findings of this literature are discussed. Providing a<br>review of<br>this<br>flourishing<br>research<br>area is<br>relevant<br>as a<br>guidepost for<br>future research. This literature concludes that energy<br>prices drive<br>long-<br>run agricultural<br>price levels<br>and that<br>instability<br>in energy<br>markets is<br>transferred to food markets."
          ],
          [
           "The Social Costs and Benefits of Biofuels: The Intersection of Environmental, Energy and Agricultural Policy",
           "Abstract The efficacy of alternative biofuel policies in achieving energy, environmental<br>and<br>agricultural<br>policy<br>goals<br>is<br>assessed<br>using<br>economic<br>cost‐benefit analysis. Government mandates are superior to<br>consumption<br>subsidies, especially<br>with<br>suboptimal<br>fuel<br>taxes and the<br>higher<br>costs involved<br>with raising tax revenues. But<br>subsidies with<br>mandates cause adverse<br>interaction<br>effects; oil<br>consumption<br>is subsidized<br>instead.<br>This unique result<br>also<br>applies to renewable<br>electricity that faces<br>similar [...]"
          ],
          [
           "Agricultural crop-based biofuels – resource efficiency and environmental performance including direct land use changes",
           "This paper analyses biofuels from agricultural crops in northern Europe regarding area<br>and<br>energy<br>efficiency,<br>greenhouse<br>gases<br>and<br>eutrophication.<br>The<br>overall findings are that direct land use changes have a<br>significant<br>impact on<br>GHG balances<br>and<br>eutrophication for<br>all<br>biofuels, the choice<br>of<br>calculation methods when by-products are<br>included<br>affecting the<br>performance of food<br>crop-<br>based biofuels<br>considerably,<br>and the technical design<br>of<br>production systems<br>may in<br>specific cases be of<br>major [...]"
          ],
          [
           "A process model to estimate the cost of industrial scale biodiesel production from waste cooking oil by supercritical transesterification",
           "This paper describes the conceptual design of a production process in which waste<br>cooking<br>oil<br>is<br>converted<br>via<br>supercritical<br>transesterification<br>with<br>methanol to methyl esters (biodiesel).Since waste cooking<br>oil<br>contains water<br>and<br>free fatty<br>acids,<br>supercritical<br>transesterification offers<br>great<br>advantage to eliminate the pre-<br>treatment<br>capital and<br>operating<br>cost.A<br>supercritical<br>transesterification process<br>for biodiesel continuous<br>production<br>from<br>waste cooking oil<br>has been<br>studied for [...]"
          ],
          [
           "Jatropha plantations for biodiesel in Tamil Nadu, India: Viability, livelihood trade-offs, and latent conflict",
           "Researchers, policy makers and civil society organizations have been discussing the potential of<br>biofuels<br>as<br>partial<br>substitutes<br>for<br>fossil<br>fuels<br>and<br>thereby as a simultaneous solution for climate change and rural poverty.<br>Research<br>has<br>highlighted the<br>ambiguity of<br>these<br>claims<br>across<br>various<br>dimensions and scales, focusing on ethanol-producing or<br>oilseed<br>crops in<br>agricultural lands or<br>Jatropha-type<br>crops on<br>common<br>lands. We<br>studied the<br>agronomic and economic viability<br>and<br>livelihood impacts [...]"
          ],
          [
           "Comparative LCA of the use of biodiesel, diesel and gasoline for transportation",
           "The energy fuels used for in the Greek transport sector are made up of gasoline consumed<br>by<br>automobiles,<br>diesel<br>oil<br>consumed<br>by<br>taxis,<br>trucks,<br>maritime transport and railroads, and jet fuel used in the aircrafts.<br>All<br>these fuels are<br>hydrocarbons<br>that<br>emit great<br>amounts of<br>CO2 which<br>has a<br>major impact in the global warming phenomenon. The<br>issues<br>relating to<br>climate change, the<br>soaring<br>energy prices,<br>and the<br>uncertainty of<br>future oil<br>supplies, have created a<br>strong interest<br>in [...]"
          ],
          [
           "Demand-pull and technology-push public support for eco-innovation: The case of the biofuels sector",
           "The purpose of this paper is to explore the differentiated impact of demand-pull and technology-<br>push<br>policies<br>in<br>shaping<br>technological<br>patterns<br>in<br>the<br>biofuels sector. The empirical analysis is based on a novel and<br>original<br>database<br>(BioPat)<br>containing<br>patents in the field of<br>biofuels<br>selected<br>using<br>appropriate keywords and classified<br>according to<br>the<br>technological content<br>of the<br>invention. Our results generally<br>show<br>that<br>technological<br>capabilities and<br>environmental<br>regulation spur<br>innovative [...]"
          ],
          [
           "A review of cleaner intensification technologies in biodiesel production",
           "Biodiesel is envisaged as environmentally benign fuel due to its unique properties,<br>such<br>as<br>biodegradability,<br>renewability<br>and<br>non-<br>toxicity.<br>Its<br>utilisation leads to the reduction of sulphur oxide and<br>greenhouse<br>gas<br>emissions as it produces<br>quite lower amounts<br>of<br>carbon and<br>sulphur based<br>gases<br>in comparison to conventional<br>fossil fuels.<br>This<br>paper is a review of the recent<br>achievements of the<br>cleaner<br>intensification<br>technologies<br>for<br>biodiesel<br>production. Merits<br>and<br>limitations of the [...]"
          ],
          [
           "Correlations between biofuels and related commodities before and during the food crisis: A taxonomy perspective",
           "In this paper, we analyze the relationships between the prices of biodiesel, ethanol and related<br>fuels<br>and<br>agricultural<br>commodities<br>with<br>a<br>use<br>of<br>minimal spanning trees and hierarchical trees. To distinguish between short-<br>term and<br>medium-<br>term effects, we<br>construct<br>these<br>trees<br>for<br>different<br>frequencies (weekly and monthly). We find that in short-<br>term, both<br>ethanol and<br>biodiesel are very<br>weakly<br>connected with<br>the<br>other<br>commodities. In<br>medium-term, the biofuels network<br>becomes more<br>structured. [...]"
          ],
          [
           "Production and use of immobilized lipases in/on nanomaterials: A review from the waste to biodiesel production",
           "As a highly efficient and environmentally friendly biocatalyst, immobilized lipase<br>has<br>received<br>incredible<br>interest<br>among<br>the<br>biotechnology<br>community<br>for the production of biodiesel. Nanomaterials possess high<br>enzyme<br>loading,<br>low mass<br>transfer<br>limitation, and<br>good<br>dispersibility, making<br>them<br>suitable biocatalytic supports for<br>biodiesel<br>production. In<br>addition to<br>traditional<br>nanomaterials such<br>as<br>nano‑silicon, magnetic nanoparticles<br>and<br>nano metal<br>particles, novel<br>nanostructured<br>forms such [...]"
          ],
          [
           "Biodiesel production from Calophyllum inophyllum-Ceiba pentandra oil mixture: Optimization and characterization",
           "In this study, a novel modeling approach (artificial neural networks (ANN) and ant colony<br>optimization<br>(ACO))<br>was<br>used<br>to<br>optimize<br>the<br>process<br>variables for alkaline-catalyzed transesterification of CI40CP60 oil<br>mixture (40 wt%<br>of<br>Calophyllum<br>inophyllum oil<br>mixed<br>with 60 wt%<br>of<br>Ceiba<br>pentandra oil) in order to maximize the biodiesel<br>yield. The optimum<br>values of<br>the methanol-<br>to-oil molar<br>ratio,<br>potassium<br>hydroxide<br>catalyst<br>concentration, and reaction time<br>predicted by the ANN-<br>ACO model are<br>37%, [...]"
          ],
          [
           "A review on sustainable microalgae based biofuel and bioenergy production: Recent developments",
           "Climate changes induced by anthropogenic greenhouse gas emissions (mainly carbon dioxide) is one of<br>the<br>major<br>threats<br>of<br>the<br>modern<br>era.<br>Primary<br>causes are the high reliance on fossil fuels for power generation,<br>transportation,<br>manufacturing<br>and<br>the<br>intensive<br>land<br>usage<br>(deforestation). The<br>current share of renewable biofuel production<br>in the overall fuel<br>demand has<br>been<br>found<br>insufficient to<br>replace<br>fossil fuels.<br>Microalgae can deliver a<br>sustainable and<br>complementary biofuel<br>platform [...]"
          ],
          [
           "The Global Impacts of Biofuel Mandates",
           "The rise in world oil prices, coupled with heightened interest in the abatement of greenhouse gas<br>emissions,<br>led<br>to<br>a<br>sharp<br>increase<br>in<br>biofuels<br>production around the world. Previous authors have devoted considerable<br>attention to the<br>impacts<br>of<br>these<br>policies on a<br>country-by-<br>country<br>basis.<br>However, there are also strong interactions among<br>these programs, as<br>they compete<br>in<br>world<br>markets for feedstocks<br>and ultimately<br>for a<br>limited supply<br>of global land. In this<br>paper, we offer the<br>first [...]"
          ],
          [
           "The Indirect Land Use Impacts of United States Biofuel Policies: The Importance of Acreage, Yield, and Bilateral Trade Responses",
           "Abstract Recent analysis has highlighted agricultural land conversion as a significant debit in<br>the<br>greenhouse<br>gas<br>accounting<br>of<br>ethanol<br>as<br>an<br>alternative fuel. A controversial element of this debate is the role of crop<br>yield<br>growth as a means<br>of<br>avoiding<br>cropland<br>conversion in<br>the face<br>of<br>biofuels growth. We find that standard assumptions of<br>yield<br>response are<br>unduly<br>restrictive.<br>Furthermore, we<br>identify both the<br>acreage response<br>and<br>bilateral trade specifications<br>as<br>critical [...]"
          ],
          [
           "Will EU biofuel policies affect global agricultural markets?",
           "This article assesses the implications of the EU Biofuels Directive (BFD) using<br>a<br>computable<br>general<br>equilibrium<br>framework<br>with<br>endogenous<br>land<br>supply. The results show that, without policy intervention<br>to<br>stimulate the use<br>of biofuel<br>crops, the<br>targets of the BFD<br>will<br>not be met. With<br>the<br>BFD, the enhanced demand for biofuel<br>crops<br>has a strong impact on<br>agriculture<br>globally and<br>within Europe, leading<br>to an<br>increase in land use.<br>On the<br>other hand,<br>the long-<br>term declining trend in [...]"
          ],
          [
           "Social life cycle assessment of biodiesel production at three levels: a literature review and development needs",
           "Assessment of social impacts of products and services has gained increasing interest in society. Life<br>cycle<br>assessment<br>(LCA)<br>is<br>a<br>tool<br>developed<br>to<br>estimate the impacts of products and services from cradle to grave.<br>Traditionally LCA has<br>focused<br>on<br>environmental<br>impacts,<br>but<br>recently<br>approaches<br>for social life cycle assessment (SLCA) have<br>also been developed. Most<br>of them<br>fairly<br>address social<br>performances<br>of<br>business, but the<br>aim of this<br>paper is to analyse the<br>possibilities and development<br>needs [...]"
          ],
          [
           "Production of palm and jatropha based biodiesel and investigation of palm-jatropha combined blend properties, performance, exhaust emission and noise in an unmodified diesel engine",
           "An ever increasing drift of energy consumption, unequal geographical distribution of natural wealth and the<br>quest<br>for<br>low<br>carbon<br>fuel<br>for<br>a<br>cleaner<br>environment are sparking off the production and use of biodiesels in many countries<br>around the<br>globe.<br>In this<br>work,<br>palm<br>biodiesel<br>and<br>jatropha<br>biodiesel were produced from the respective crude vegetable<br>oils<br>through<br>transesterification, and<br>the<br>different<br>physicochemical<br>properties<br>of the<br>produced biodiesels have been presented,<br>and<br>found to [...]"
          ],
          [
           "Brazilian biofuels and social exclusion: established and concentrated ethanol versus emerging and dispersed biodiesel",
           "Increasing interest in biofuels trade between developed and developing countries has spurred worldwide<br>discussions<br>on<br>issues<br>such<br>as<br>subsidies<br>and<br>the<br>‘food for fuel’ crisis. One issue missing in recent discourse is the pressure<br>exerted on<br>developing<br>countries<br>to<br>adopt<br>large-scale<br>mechanized<br>farming<br>practices to increase economic efficiencies. Such<br>approaches often<br>exclude small-<br>scale<br>farmers<br>from<br>participating in the<br>emerging biofuels<br>market,<br>thus exacerbating poverty<br>and social exclusion.<br>Drawing on [...]"
          ],
          [
           "A life-cycle comparison between inorganic and biological catalysis for the production of biodiesel",
           "Life cycle assessment (LCA) has been used to compare inorganic and biological catalysis<br>for<br>the<br>production<br>of<br>biodiesel<br>by<br>transesterification.<br>The<br>inorganic route, using catalysis by sodium hydroxide, has been<br>compared<br>with a<br>conceptual<br>biological<br>one<br>using<br>enzymatic catalysis by the<br>lipase<br>produced by Candida antarctica. Although<br>biological<br>catalysis has<br>not been used<br>for<br>industrial<br>production of<br>biodiesel to date, results<br>from<br>laboratory experiments<br>suggest that it<br>could have<br>distinct advantages [...]"
          ],
          [
           "LCA studies comparing biodiesel synthesized by conventional and supercritical methanol methods",
           "Biodiesel is one of the candidates for alternative fuels since it is renewable, sustainable and produced<br>from<br>domestic<br>or<br>non-<br>food<br>crop<br>resources<br>with<br>less detrimental environmental impact. There are several different approaches<br>to the<br>production<br>process.<br>In this<br>paper a<br>new<br>production<br>method, the<br>supercritical methanol process, was investigated and<br>its<br>environmental<br>performance was<br>compared with<br>the<br>conventional<br>alkali-catalyzed<br>process using<br>LCA as a tool. The<br>supercritical<br>process is<br>technically [...]"
          ],
          [
           "Cumulative causation in the formation of a technological innovation system: The case of biofuels in the Netherlands",
           "Despite its worldwide success, the innovation systems approach is often criticised<br>for<br>being<br>theoretically<br>underdeveloped.<br>This<br>paper<br>aims<br>to<br>contribute to the conceptual and methodological basis of<br>the<br>(technological)<br>innovation systems<br>approach. We propose<br>an<br>alteration that<br>improves<br>the<br>analysis of dynamics, especially<br>with<br>respect to emerging<br>innovation systems. We<br>do this by expanding on<br>the<br>technological<br>innovation systems<br>and<br>system<br>functions<br>literature, and by<br>employing the method of [...]"
          ],
          [
           "Biodiesel production from waste cooking oil using bifunctional heterogeneous solid catalysts",
           "In the present work, bifunctional heterogeneous catalysts were studied to develop an<br>effective<br>catalyst<br>for<br>biodiesel<br>production<br>from<br>waste<br>cooking<br>oil with improved catalytic activity and stability. The<br>catalysts were<br>characterized by<br>various<br>analytical<br>techniques to<br>explore<br>their<br>physicochemical<br>properties. The catalytic<br>activity was evaluated<br>in the<br>transesterification of<br>waste cooking<br>oil for low cost<br>biodiesel<br>production.<br>The<br>bifunctional<br>heterogeneous catalysts [...]"
          ],
          [
           "Parametric sensitivity in transesterification of waste cooking oil for biodiesel production—A review",
           "Methods of pretreatment and transesterification of waste cooking oils (WCOs) to<br>yield<br>fatty<br>acid<br>alkyl<br>esters<br>(biodiesel)<br>qualitatively<br>comparable<br>with fossil diesel fuels have been discussed. The effect<br>of<br>different<br>operating and<br>processing<br>variables<br>viz. reaction<br>temperature,<br>molar ratio of<br>alcohol to oil, the type of alcohol<br>used,<br>type of<br>catalyst used and its<br>concentration,<br>reaction<br>time, presence of<br>moisture and free<br>fatty acids (FFA)<br>content<br>on<br>transesterification<br>and different [...]"
          ],
          [
           "Bioethanol supply chain system planning under supply and demand uncertainties",
           "A mixed integer stochastic programming model is established to support strategic planning<br>of<br>bioenergy<br>supply<br>chain<br>systems<br>and<br>optimal<br>feedstock<br>resource allocation in an uncertain decision environment. The two-<br>stage<br>stochastic<br>programming<br>model,<br>together with a<br>Lagrange<br>relaxation<br>based<br>decomposition solution algorithm, was<br>implemented in a<br>real-world case<br>study in<br>California to<br>explore the potential<br>of waste-<br>based<br>bioethanol<br>production. The model<br>results show that<br>biowaste-based<br>ethanol can be [...]"
          ],
          [
           "Life cycle costing and externalities of palm oil biodiesel in Thailand",
           "One of the issues related to the increased use of biofuel (ethanol and biodiesel) in<br>the<br>transport<br>sector<br>concerns<br>their<br>higher<br>production<br>costs,<br>either in pure or blended form, as compared to conventional<br>fuels<br>(gasoline and<br>diesel). Based<br>on the<br>average cost<br>of<br>biodiesel, the former<br>is not<br>able to compete with diesel if no<br>subsidies are<br>provided by the<br>government to boost<br>its<br>cost<br>competitiveness.<br>However, such a cost<br>comparison is not a<br>true<br>reflection of the<br>various potential<br>benefits of [...]"
          ]
         ],
         "hovertemplate": "Topic=Sustainable Biofuel<br>x=%{x}<br>y=%{y}<br>title=%{customdata[0]}<br>abstract=%{customdata[1]}<extra></extra>",
         "legendgroup": "Sustainable Biofuel",
         "marker": {
          "color": "#2ca02c",
          "size": 5,
          "symbol": "circle"
         },
         "mode": "markers",
         "name": "Sustainable Biofuel",
         "orientation": "v",
         "showlegend": true,
         "type": "scatter",
         "x": [
          7.804148,
          7.601237,
          7.7146535,
          7.697258,
          7.105493,
          7.639392,
          7.176708,
          7.232308,
          7.1313524,
          6.969492,
          7.4099097,
          7.5396523,
          7.770377,
          7.224151,
          7.428163,
          7.6689105,
          7.379848,
          6.9866905,
          7.7720428,
          7.1537566,
          7.1786714,
          7.0108595,
          7.7857814,
          6.9371,
          6.918013,
          6.9906,
          7.720832,
          7.330248,
          7.521806,
          7.042081,
          7.7406077,
          6.9507103,
          7.740677,
          7.695655,
          7.3498473,
          6.929418,
          6.9834423,
          6.8920813,
          7.482086,
          7.5904675,
          7.0874414,
          7.6110635,
          7.630359,
          7.133106,
          7.8017993,
          7.8188796,
          7.106767,
          7.493594
         ],
         "xaxis": "x",
         "y": [
          -0.26072225,
          -0.46070465,
          -0.25359222,
          -0.3233185,
          -0.98773557,
          -0.38755643,
          -0.94278026,
          -0.8319698,
          -0.94336927,
          -1.1711866,
          -0.680336,
          -0.43640882,
          -0.2157349,
          -0.8885913,
          -0.63838065,
          -0.3566162,
          -0.6924083,
          -1.1708106,
          -0.32445785,
          -0.9762265,
          -0.8807099,
          -1.1433225,
          -0.24431334,
          -1.2128624,
          -1.2424312,
          -1.1907301,
          -0.24639547,
          -0.7987386,
          -0.5546222,
          -1.1169584,
          -0.28878018,
          -1.1970137,
          -0.28932607,
          -0.1686057,
          -0.7370289,
          -1.2267661,
          -1.1691647,
          -1.2643008,
          -0.58211964,
          -0.4842236,
          -1.065997,
          -0.4238518,
          -0.40626743,
          -1.0461545,
          -0.22330238,
          -0.33510458,
          -0.9172743,
          -0.6072333
         ],
         "yaxis": "y"
        },
        {
         "customdata": [
          [
           "Decarbonizing warehousing activities through digitalization and automatization with WMS integration for sustainability supporting operations",
           "The current strong outsourcing trend dictates that the efficiency of outsourced warehousing is<br>a<br>big<br>contributing<br>impact<br>factor<br>for<br>the<br>carbon<br>footprint from supply chains. A good warehouse management system boosts<br>warehousing<br>eco-<br>friendliest by<br>reducing<br>space<br>waste<br>and<br>unnecessary number<br>of material movements, to ensure continuous fast<br>materials flow<br>and to<br>keep the heating and<br>cooling<br>costs to a<br>minimum.<br>All this<br>may happen on some<br>lengths inside the<br>traditional manual<br>warehousing<br>scenes, but in [...]"
          ],
          [
           "Barriers to low-carbon warehousing and the link to carbon abatement",
           "Purpose Warehouses are large emitters of greenhouse gases and their impact on climate change is<br>under<br>increasing<br>focus.<br>The<br>purpose<br>of<br>this<br>paper<br>is to investigate the barriers that inhibit the adoption of low-carbon<br>warehousing in Asia-<br>Pacific<br>and<br>their<br>links to<br>carbon<br>abatement<br>performance.<br>Design/methodology/approach<br>An exploratory<br>conceptual model was first<br>developed<br>from a<br>literature review of<br>the<br>general barriers to<br>sustainable<br>supply chain practices and<br>hence<br>potentially in [...]"
          ],
          [
           "Comparison of annual cooling energy demand between conventional and inflatable dock door shelters for refrigerated and frozen food warehouses",
           "The aim of this study is to estimate the energy savings potential that can be achieved<br>using<br>inflatable<br>dock<br>shelters<br>versus<br>simple<br>curtain<br>dock<br>shelters for loading/unloading activities in logistics warehouses.<br>The<br>article describes<br>how these<br>savings have<br>been<br>analysed and<br>quantified<br>in a big<br>logistics centre of a Spanish dealer. It<br>takes<br>into account different<br>refrigeration<br>applications<br>(i.e. for<br>different<br>warehouse dock<br>temperatures),<br>exterior conditions<br>and daily<br>loading/unloading<br>schedules and [...]"
          ],
          [
           "Life-Cycle Cost, Cooling Degree Day, and Carbon Dioxide Emission Assessments of Insulation of Refrigerated Warehouses Industry in Turkey",
           "In this study, cooling degree day (CDD) and life cycle cost (LCC) analyses are applied to<br>refrigerated<br>warehouses<br>in<br>Turkey<br>to<br>determine<br>the<br>optimum<br>insulation thickness. The external wall of refrigerated warehouses<br>is considered as<br>a sandwich<br>wall and<br>the<br>insulation<br>material is<br>taken to<br>be<br>expanded polystyrene. Also, the base temperatures<br>are assumed to be<br>−20°C, −18°C,<br>−12°C, 0°C,<br>and 6°C,<br>while<br>coefficient of<br>performance (COP)<br>values<br>are 1.2, 1.5, 1.8, 2.1, and<br>2.5. As a result:<br>(1) the [...]"
          ],
          [
           "Minimizing the carbon footprint of material handling equipment: Comparison of electric and LPG forklifts",
           "Purpose: The aim of this study is to identify the best Material Handling Equipment (MHE)<br>to<br>minimize<br>the<br>carbon<br>footprint<br>of<br>inbound<br>logistic<br>activities, based on the type of the warehouse (layout, facilities and<br>order-<br>picking<br>strategy) as<br>well as<br>the weight of<br>the<br>loads to be<br>handled.<br>Design/methodology/approach: A model to select the<br>best<br>environmental<br>MHE for inbound<br>logistic<br>activities has<br>been<br>developed.<br>Environmental<br>performance of the MHE has been<br>evaluated in<br>terms of carbon<br>Footprint (CF). [...]"
          ],
          [
           "Assessing the environmental impact of integrated inventory and warehouse management",
           "There has been considerable research on the environmental impact of supply chains but most of<br>this<br>has<br>concentrated<br>on<br>the<br>transport<br>elements.<br>The<br>environmental impact of warehousing has received relatively little<br>attention<br>except<br>within the<br>context<br>of<br>distribution networks. A<br>high<br>proportion of<br>total warehouse emissions emanate from<br>heating, cooling,<br>air<br>conditioning and<br>lighting and<br>these<br>aspects are largely related<br>to<br>warehouse size. This<br>in turn is<br>greatly influenced by<br>inventory<br>management, [...]"
          ],
          [
           "Towards energy efficient operation of Heating, Ventilation and Air Conditioning systems via advanced supervisory control design",
           "This paper presents conceptual control solution for reliable and energy efficient<br>operation<br>of<br>heating,<br>ventilation<br>and<br>air<br>conditioning<br>(HVAC)<br>systems used in large volume building applications, e.g.<br>warehouse facilities<br>or<br>exhibition<br>centres. Advanced<br>two-<br>level<br>scalable control<br>solution,<br>designed to extend capabilities of<br>the existing low-level<br>control<br>strategies<br>via remote internet<br>connection,<br>is<br>presented. The high-<br>level,<br>supervisory<br>controller is based on Model<br>Predictive<br>Control [...]"
          ],
          [
           "Logistics social responsibility: Standard adoption and practices in Italian companies",
           "This paper deals with Logistics Social Responsibility (LSR), i.e. the socially responsible management<br>of<br>the<br>supply<br>chain<br>under<br>a<br>cross-<br>functional<br>perspective. In particular, the goal of the paper is to develop a taxonomy of<br>the<br>LSR<br>practices adopted<br>by<br>firms. The<br>taxonomy<br>is built<br>based on a<br>literature review and an empirical analysis. In<br>particular,<br>the<br>empirical analysis deals<br>with the<br>analysis of<br>the non-<br>financial reports<br>(i.e. social,<br>environmental,<br>sustainability<br>report,<br>environmental [...]"
          ],
          [
           "Greening the food supply chain: an optimisation model for sustainable design of refrigerated automated warehouses",
           "An optimisation model for the sustainable design of refrigerated automated storage and<br>retrieval<br>systems<br>is<br>proposed,<br>which<br>takes<br>into<br>account<br>specific features of the food supply chain, such as temperature<br>control. Rack<br>configuration as<br>well<br>as surfaces<br>and<br>volumes of the<br>cold<br>cell are<br>conjointly optimised in order to minimise the<br>total yearly<br>cost of the automated<br>storage<br>facility,<br>introducing<br>energy requirements<br>both<br>for<br>refrigeration and picking<br>operations explicitly,<br>other than [...]"
          ],
          [
           "An Assessment of Motivations on Green Warehousing in Thailand",
           "The objectives of this research are to assess the levels of green warehousing and its motivations, and<br>to<br>examine<br>the<br>impact<br>of<br>motivations<br>on<br>green<br>warehousing in Thailand. Green warehousing and motivations frameworks were<br>developed<br>from<br>literature<br>review,<br>validated<br>by experts<br>and<br>statistical<br>techniques. Data was collected from 261 warehouses<br>managers.<br>Descriptive<br>statistics and<br>multiple<br>regressions were<br>applied for<br>data<br>analysis. It was<br>found that, for green<br>warehousing,<br>utilities for [...]"
          ],
          [
           "Green warehousing: Systematic literature review and bibliometric analysis",
           "Warehouses are major contributors to the rise of greenhouse gas emissions in supply chains. Thus, it<br>is<br>not<br>surprising<br>that<br>the<br>attention<br>of<br>academic<br>research to green and sustainable warehousing has been growing in recent<br>years.<br>This<br>attention has led<br>to an<br>increasing<br>number<br>of<br>publications in this<br>field, which is why a systematic literature<br>review on the<br>topic of<br>green warehousing is<br>proposed<br>in the paper<br>at hand.<br>This<br>work provides a<br>comprehensive overview and<br>classification of<br>the [...]"
          ],
          [
           "System Design and Energy Management for a Fuel Cell/Battery Hybrid Forklift",
           "Electric forklifts, dominantly powered by lead acid batteries, are widely used for material<br>handling<br>in<br>factories,<br>warehouses,<br>and<br>docks.<br>The<br>long<br>charging time and short working time characteristics of the lead acid<br>battery<br>module<br>results in the<br>necessity of<br>several<br>battery<br>modules to<br>support<br>one forklift. Compared with the cost and time<br>consuming<br>lead acid<br>battery charging<br>system, a fuel<br>cell/battery<br>hybrid power<br>module could be<br>more<br>convenient for a forklift<br>with fast<br>hydrogen<br>refueling and long [...]"
          ],
          [
           "A comparative study of fluorescent and LED lighting in industrial facilities",
           "Industrial facilities have always been in search for reducing outgoings and<br>minimizing<br>energy<br>consumption.<br>Rapid<br>developments<br>in<br>lighting<br>technology<br>require more energy efficient solutions not only for<br>industries but<br>also for<br>many sectors and<br>for<br>households. Addition<br>of<br>solid-state<br>technology has<br>brought LED lamps into play<br>and with LED lamp<br>usage,<br>efficacy level has reached<br>its<br>current values. Lighting<br>systems<br>which uses<br>fluorescent and LED<br>lamps<br>have become the prior<br>choice<br>for many industrial [...]"
          ],
          [
           "Hydrogen Powered Fuel Cell Forklifts — Demonstration of Green Warehouse Logistics",
           "An Austrian consortium of industry and research partners demonstrates a system solution<br>for<br>renewable<br>hydrogen<br>powered<br>fuel<br>cell<br>range<br>extender<br>vehicles applied in intralogistics. The core element of this<br>development, the<br>“HYLOG Fleet<br>Energy<br>Cell” by<br>Fronius<br>International,<br>replaces<br>the lead-<br>acid battery in conventional battery-<br>electric propulsion<br>systems for<br>warehouse<br>logistics. In<br>collaboration<br>with Linde<br>Material Handling a<br>warehouse<br>truck fleet of<br>10 class-3 vehicles has<br>been [...]"
          ],
          [
           "Energy Performance of Sustainable Roofing Systems",
           "This study presents efforts to analyze how sustainable roofing technologies can contribute to<br>the<br>energy<br>budget<br>of<br>buildings,<br>and<br>the<br>resulting<br>implications for heating and cooling energy use. The data analyzed in this<br>study<br>were<br>obtained from a<br>field<br>experiment<br>performed<br>on a<br>four story<br>warehouse/office building in Portland, Oregon USA. The<br>building’s<br>roof<br>includes a 216 panel,<br>45.6 kW<br>solar<br>photovoltaic array<br>in<br>combination with 576<br>m2 of vegetated green roofing.<br>While most of<br>the<br>surface consists [...]"
          ],
          [
           "Dual command cycle dynamic sequencing method to consider GHG efficiency in unit-load multiple-rack automated storage and retrieval systems",
           "In some AS/RS, the S/R machine executes a storage request and then a retrieval request to form a dual command<br>(DC)<br>cycle.<br>This<br>paper<br>deals<br>with<br>a<br>DC<br>cycle “dynamic sequencing” method in unit-load multiple-rack AS/RS system. To create a<br>kind of<br>greenhouse<br>gas<br>(GHG)<br>efficiency in<br>the<br>model, tax<br>cost,<br>penalty cost and discount of produced GHG emissions,<br>limitations on<br>available time of<br>all<br>facilities<br>and total permitted<br>GHG<br>emissions<br>produced by all<br>equipment are considered in<br>the model. In<br>addition, an [...]"
          ],
          [
           "Environmental impact of warehousing: a scenario analysis for the United States",
           "In recent years, there has been observed a continued growth of global carbon dioxide emissions, which<br>are<br>considered<br>as<br>a<br>crucial<br>factor<br>for<br>the<br>greenhouse effect and associated with substantial environmental damages. Amongst<br>others,<br>logistic<br>activities<br>in<br>global supply<br>chains<br>have<br>become a<br>major cause of industrial emissions and the progressing<br>environmental<br>pollution.<br>Although a<br>significant<br>amount of<br>logistic-related<br>carbon<br>dioxide<br>emissions is caused by storage and<br>material handling<br>processes [...]"
          ],
          [
           "Incorporating the environmental dimension in the assessment of automated warehouses",
           "In today’s competitive context, the paradigm of sustainable development is becoming more<br>and<br>more<br>significant,<br>also<br>in<br>warehousing.<br>Managers<br>are<br>progressively considering not only purely economic aspects but<br>also<br>environmental<br>concerns.<br>Despite<br>such<br>consciousness, the<br>selection of<br>automated<br>warehousing solutions has been mainly<br>based on<br>operational and<br>economic<br>performance in<br>both<br>practice and theory so far,<br>whereas energy<br>consumption and<br>environmental<br>performance<br>have not been<br>adequately [...]"
          ],
          [
           "Assessment of CO2 emissions reduction in a distribution warehouse",
           "Building energy use accounts for almost 50% of the total CO2 emissions in the UK. Most of the<br>research<br>has<br>focused<br>on<br>reducing<br>the<br>operational<br>impact<br>of buildings, however in recent years many studies have indicated the<br>significance<br>of<br>embodied<br>energy in<br>different<br>building<br>types. This<br>paper<br>primarily focuses on illustrating the relative<br>importance of<br>operational and<br>embodied<br>energy in a<br>flexible use<br>light<br>distribution warehouse.<br>The<br>building is chosen for the<br>study as it is<br>relatively easy to<br>model [...]"
          ],
          [
           "Economic evaluation for cooling and ventilation of medicine storage warehouses utilizing wind catchers",
           "Renewable energy consumption has become a dominant issue in many countries because<br>of<br>environmental<br>crisis,<br>pollution,<br>climate<br>change<br>and<br>increased<br>costs of non-renewable sources like fossil fuels. Because of<br>global<br>warming and<br>energy prices<br>designers are<br>refocusing<br>on the low<br>carbon<br>credentials<br>of new equivalents. In this context,<br>the main<br>target of the<br>proposed study is to<br>present a new<br>innovative<br>method of cooling<br>the non-<br>refrigerator<br>medicine storage<br>warehouses<br>in order to<br>minimize energy costs [...]"
          ],
          [
           "Sustainable warehouse management",
           "Sustainable warehouse is about integrating, balancing and managing the economic, environmental<br>and<br>social<br>inputs<br>and<br>outputs<br>of<br>the<br>warehouse<br>operations. Sustainability is a core value to many businesses but they find it<br>hard to<br>implement<br>in<br>their<br>current<br>business<br>setting<br>especially when<br>they use third party logistics management system like<br>warehousing and<br>distribution<br>in<br>their<br>supply chain<br>business<br>network. This<br>paper explores the<br>application of sustainability<br>principles in the<br>context [...]"
          ],
          [
           "Using smart lighting systems to reduce energy costs in warehouses: A simulation study",
           "Despite the various technical solutions for making lighting ‘smart,’ today’s lighting systems are<br>often<br>kept<br>simple,<br>and<br>they<br>are<br>frequently<br>not<br>adjusted to user behaviours. This is especially the case for production and<br>logistics<br>facilities<br>such<br>as<br>warehouses, where<br>large<br>areas have to<br>be<br>illuminated, and where lighting is often fully turned on<br>while the<br>warehouse<br>operates. This<br>paper<br>presents a<br>simulation model<br>developed to<br>evaluate<br>the cost benefits potentially<br>resulting from<br>using smart<br>lighting [...]"
          ],
          [
           "Green warehousing, logistics optimization, social values and ethics and economic performance: the role of supply chain sustainability",
           "Purpose This study primarily explores the influence of green warehousing, logistics optimization<br>and<br>social<br>values<br>and<br>ethics<br>on<br>supply<br>chain<br>sustainability and economic performance. The study further examines the mediating<br>role<br>of<br>supply<br>chain<br>sustainability<br>between<br>economic<br>performance and<br>green warehousing, logistics optimization and<br>social<br>values<br>and<br>ethics.<br>Design/methodology/approach The<br>study employs<br>a<br>quantitative research<br>approach where survey data are<br>collected<br>from<br>200<br>managers [...]"
          ],
          [
           "Smart energy harvesting performance of photovoltaic roof assemblies in Canadian climate",
           "In Canada, the solar electricity sector is growing rapidly. Much of this success is based on the growth<br>of<br>the<br>Ontario<br>solar<br>market<br>where<br>more<br>than<br>99% of Canada’s solar electricity is generated. Ontario has developed a<br>globally<br>recognized<br>solar market<br>sector.<br>The vast<br>surface area<br>of<br>existing<br>residential roofs across Canada represents an<br>untapped resource<br>for<br>capitalizing on passive<br>and active<br>management of<br>impinging<br>solar<br>insolation. The<br>aim of the current<br>research study is to<br>evaluate<br>the new [...]"
          ],
          [
           "A Control Strategy for Smart Energy Charging of Warehouse Material Handling Equipment",
           "The common driver of the ‘green-warehouse’ strategy is based on the reduction of energy<br>consumption.<br>In<br>warehouses<br>with<br>‘picker-<br>to-<br>part’<br>operations<br>the minimization of energy due to material handling activities<br>can be achieved<br>by<br>means of<br>different<br>policies: by<br>adopting<br>smart<br>automatic picking<br>systems, by adopting energy-efficient<br>material handling<br>equipment<br>(MHE) as well<br>as by<br>identifying flexible<br>layouts. In<br>most<br>cases, these strategies<br>require<br>investments characterized by<br>high pay-back<br>times. [...]"
          ],
          [
           "Effect of skylight–roof ratio on warehouse building energy balance and thermal–visual comfort in hot-humid climate area",
           "Skylight–roofs installation on low-rise commercial/industrial building has the potentials to<br>reduce<br>energy<br>consumption<br>through<br>the<br>use<br>of<br>daylighting,<br>yet it may also lead to an increase in room temperature and thermal<br>discomfort<br>for the<br>occupants. The<br>purpose of<br>this<br>numerical<br>study<br>is to evaluate<br>the effect of the skylights ratios on the<br>roof to the<br>energy<br>efficiency for artificial<br>lighting,<br>indoor<br>daylight<br>illuminance level<br>and thermal<br>discomfort in a<br>warehousing building in<br>the<br>tropics. The [...]"
          ],
          [
           "A Study on the Factors Influencing Green Warehouse Practice",
           "Going green in logistics business operation has been the main initiatives to reduce the<br>carbon<br>footprint<br>while<br>generating<br>profit.<br>This<br>study<br>described<br>about the green practice and the drivers in the Malaysia<br>warehousing<br>industry. The<br>purpose of<br>the study is<br>to<br>investigate the<br>factors of<br>adopting<br>green warehousing (GWH) with the main<br>aim of<br>exploring current green<br>warehouse<br>practice (GHP) in<br>Malaysia<br>and the factors<br>affecting them.<br>The<br>relationship between<br>government<br>engagement, customer,<br>supplier, [...]"
          ],
          [
           "Integration of green supply chain management practices in construction supply chain of CPEC",
           "Purpose China Pakistan Economic Corridor (CPEC) projects are widely spread throughout Pakistan with<br>the<br>potential<br>to<br>have<br>a<br>massive<br>impact<br>on<br>Pakistan’s economic future. CPEC projects have, therefore, made it imperative that<br>green<br>practices<br>are<br>adapted<br>to<br>provide<br>sustainability to the<br>CPEC<br>projects. The adoption of green supply chain management<br>(GSCM)<br>framework<br>will<br>significantly increase<br>the<br>value<br>attained from CPEC projects<br>through the<br>increased benefits to the<br>socio- [...]"
          ],
          [
           "Impacts of Solar PV, Battery Storage and HVAC Set Point Adjustments on Energy Savings and Peak Demand Reduction Potentials in Buildings",
           "This paper discusses and compares three alternatives to reduce electrical energy consumption<br>(kWh)<br>and<br>peak<br>demand<br>(kW)<br>in<br>buildings,<br>namely<br>deployment of rooftop solar PV, battery energy storage and HVAC set point<br>adjustments.<br>The<br>building<br>model of<br>a<br>warehouse<br>located in<br>Alexandria, VA,<br>was developed in eQUEST, and its electrical<br>consumption was<br>validated with<br>metered<br>data. To perform<br>the<br>overall<br>analysis,<br>adjustment of HVAC set<br>points was conducted in<br>eQUEST, while Solar<br>PV and battery<br>models [...]"
          ],
          [
           "Assessing the driving forces for greening business practices: Empirical evidence from the United Arab Emirates’ logistics service industry",
           "The uprising economic, social and political pressures on achieving a good level of<br>environmental<br>governance<br>have<br>forced<br>companies<br>to<br>adopt<br>business<br>practices that aim to mitigate CO2 emissions. Logistics<br>industry is considered<br>as one of the<br>major<br>areas that<br>could make<br>a<br>considerable<br>improvement in<br>reducing the environmental<br>impact of business activities.<br>The aim of this<br>study is<br>to investigate<br>the driving<br>forces<br>that influence<br>the adoption<br>of<br>environmentally friendly logistics<br>activities. Following [...]"
          ],
          [
           "Problems in the Operating and Calculation of Payback of Photovoltaic Systems in Buildings",
           "The objects of the research are the solar photovoltaic systems (PV) that generate a significant<br>amount<br>of<br>the<br>electrical<br>consumption<br>in<br>the<br>building.<br>This paper describes the parameters that affect the payback period<br>of<br>photovoltaic<br>systems.<br>Analysis of the<br>first year of<br>use of<br>specific<br>photovoltaic<br>system (Building of a warehouse in Pärnu)<br>is<br>presented. The<br>paper contains a<br>analysis of the<br>actual payback<br>of<br>photovoltaic systems<br>under different<br>scenarios of changes<br>in<br>electrical tariffs<br>in the [...]"
          ],
          [
           "The potential for cool roofs to improve the energy efficiency of single storey warehouse-type retail buildings in Australia: A simulation case study",
           "Australia’s commercial building stock exceeds 134 million m2 of net lettable area, with<br>retail<br>buildings<br>contributing<br>35%<br>to<br>this<br>sector’s<br>energy<br>use. The energy intensity of retail buildings in hotter climates is<br>higher<br>than the<br>national average, as is<br>the<br>energy<br>intensity<br>of smaller<br>buildings<br>(under 1500m2) that are not considered<br>‘high-end’<br>commercial<br>properties. Little attention has<br>been<br>paid to<br>improving the<br>energy<br>efficiency of these<br>types of<br>buildings through<br>regulation (for<br>new buildings) or [...]"
          ],
          [
           "Energy efficiency model for the mini-load automated storage and retrieval systems",
           "In this paper, the energy efficiency model for the mini-load AS/RS is presented. As the existing<br>models<br>of<br>AS/RS<br>apply<br>to<br>already<br>well-<br>known<br>objectives (minimum travel time, maximum throughput and minimum cost), the<br>energy<br>efficiency<br>model for the<br>mini-<br>load<br>AS/RS is<br>proposed and<br>discussed.<br>According to global trends in material handling<br>and<br>warehousing, the<br>design process should<br>encompass<br>not<br>only the<br>application of the<br>equipment with<br>fastest drives but should<br>also<br>consider the energy<br>and [...]"
          ],
          [
           "Towards low-energy retail warehouse building",
           "Retail warehouse buildings consume a growing proportion of the energy used within Australia and<br>they<br>have<br>potential<br>to<br>be<br>designed<br>much<br>more<br>efficiently. This article outlines the results of modelling reductions in the<br>energy<br>consumption<br>for a<br>retail<br>warehouse<br>building in<br>the<br>Sydney,<br>Australia climate. The design evaluated in this research<br>consumes 73%<br>less energy<br>than does<br>the base-<br>case building,<br>resulting in<br>a<br>significant<br>reduction in on-going costs and in<br>greenhouse gas<br>emissions that [...]"
          ]
         ],
         "hovertemplate": "Topic=Green Warehousing<br>x=%{x}<br>y=%{y}<br>title=%{customdata[0]}<br>abstract=%{customdata[1]}<extra></extra>",
         "legendgroup": "Green Warehousing",
         "marker": {
          "color": "#d62728",
          "size": 5,
          "symbol": "circle"
         },
         "mode": "markers",
         "name": "Green Warehousing",
         "orientation": "v",
         "showlegend": true,
         "type": "scatter",
         "x": [
          13.407127,
          13.266673,
          13.960127,
          13.956106,
          13.619397,
          13.447367,
          13.912305,
          13.1234665,
          13.617035,
          13.218532,
          13.255983,
          13.611947,
          13.803318,
          13.60028,
          14.071453,
          13.574586,
          13.45289,
          13.516904,
          13.786128,
          14.031963,
          13.321021,
          13.825398,
          13.122647,
          14.129397,
          13.60183,
          14.046558,
          13.130307,
          13.174484,
          14.032291,
          13.203525,
          14.057328,
          14.02234,
          13.605547,
          14.011791
         ],
         "xaxis": "x",
         "y": [
          2.9758322,
          2.8705425,
          2.6863816,
          2.6841223,
          2.9741297,
          2.8740304,
          2.855658,
          2.903651,
          3.035277,
          2.9110808,
          2.898492,
          3.0210536,
          2.7917445,
          2.965716,
          2.613245,
          3.0718768,
          2.8570554,
          3.0309918,
          2.774035,
          2.6739726,
          2.9371893,
          2.7841694,
          2.8902886,
          2.5360992,
          3.0545826,
          2.6375039,
          2.8608541,
          2.89394,
          2.661237,
          2.8862479,
          2.6272476,
          2.6568885,
          3.0402367,
          2.652067
         ],
         "yaxis": "y"
        },
        {
         "customdata": [
          [
           "Programming Massively Parallel Architectures using MARTE: a Case Study",
           "Nowadays, several industrial applications are being ported to parallel architectures.<br>These<br>applications<br>take<br>advantage<br>of<br>the<br>potential<br>parallelism<br>provided by multiple core processors. Many-core processors,<br>especially<br>the<br>GPUs(Graphics<br>Processing Unit),<br>have led<br>the<br>race of<br>floating-point<br>performance since 2003. While the<br>performance improvement<br>of<br>general- purpose<br>microprocessors has<br>slowed<br>significantly,<br>the GPUs<br>have continued to<br>improve<br>relentlessly. As of 2009, the<br>ratio<br>between many-core [...]"
          ],
          [
           "Moving Database Systems to Multicore: An Auto- Tuning Approach",
           "In the multicore era, database systems are facing new challenges to exploit parallelism<br>and<br>scale<br>query<br>performance<br>on<br>new<br>processors.<br>Taking<br>advantage of multicore, however, is not trivial and goes far beyond<br>inserting<br>parallel<br>constructs<br>into<br>available<br>database<br>system code.<br>Varying<br>hardware characteristics require different query<br>parallelization<br>strategies<br>on each<br>multicore<br>platform. Query<br>optimizers at<br>the heart of<br>each database<br>system have to be<br>reengineered, but the<br>problem is [...]"
          ],
          [
           "CUDA: SCALABLE PARALLEL PROGRAMMING FOR HIGH-PERFORMANCE SCIENTIFIC COMPUTING",
           "Graphics processing units (GPUs) originally designed for computer video cards have emerged as<br>the<br>most<br>powerful<br>chip<br>in<br>a<br>high-<br>performance<br>workstation. Unlike multicore CPU architectures, which currently ship with two<br>or four<br>cores,<br>GPU<br>architectures<br>are<br>“manycore”<br>with<br>hundreds of cores<br>capable of running thousands of threads in parallel.<br>NVIDIA's CUDA<br>is a co-<br>evolved<br>hardware-<br>software<br>architecture that<br>enables<br>high-performance<br>computing developers to harness<br>the tremendous<br>computational<br>power [...]"
          ],
          [
           "Challenges in Software Development for Multicore System-on-Chip Development",
           "Multiprocessor Systems-on-Chip (MPSoC)-based platforms are becoming more common in the embedded<br>domain.<br>Such<br>systems<br>are<br>a<br>significant<br>deviation<br>from<br>the homogeneous, uniprocessor architectures that have been traditionally<br>employed<br>by<br>embedded<br>designers,<br>thereby<br>making the<br>software<br>development<br>process to effectively target the platform more<br>challenging.<br>Low-<br>resource embedded<br>systems rely<br>on<br>efficient<br>implementations that are<br>not well<br>supported by traditional<br>solutions based<br>on<br>architecture [...]"
          ],
          [
           "Performance Prediction of Parallel Applications Based on Small-Scale Executions",
           "Predicting the execution time of parallel applications in High Performance Computing<br>(HPC)<br>clusters<br>has<br>served<br>different<br>objectives,<br>including<br>helping<br>developers to find relevant areas of code that require fine<br>tuning,<br>designing<br>better<br>job<br>schedulers to increase<br>clusters'<br>utilization, and<br>detecting<br>system bottlenecks. We present a<br>statistical<br>approach to<br>predict<br>parallel<br>application execution times<br>using empirical<br>analyses of the<br>application<br>execution<br>times for small<br>input sizes and<br>the [...]"
          ],
          [
           "Fastflow: High‐Level and Efficient Streaming on Multicore",
           "This chapter first outlines FastFlow design and then shows sample use of<br>the<br>FastFlow<br>programming<br>environment<br>together<br>with<br>performance<br>results<br>achieved on various state‐of‐the‐art multicore<br>architectures.<br>The FastFlow<br>framework has<br>been designed<br>according to<br>four<br>foundational<br>principles:<br>layered design; efficiency<br>in base<br>mechanisms; support for<br>stream parallelism;<br>and a<br>programming model based<br>on<br>design<br>pattern/algorithmic<br>skeleton<br>concepts. The<br>core of the FastFlow<br>framework provides an [...]"
          ],
          [
           "The Concurrency Challenge",
           "The evolutionary path of microprocessor design includes both multicore and many-<br>core<br>architectures.<br>Harnessing<br>the<br>most<br>computing<br>throughput<br>from<br>these architectures requires concurrent or parallel<br>execution of<br>instructions. The<br>authors describe<br>the<br>challenges<br>facing the<br>industry as<br>parallel-<br>computing platforms become<br>even more widely<br>available."
          ],
          [
           "How Many Threads will be too Many? On the Scalability of OpenMP Implementations",
           "Exascale systems will exhibit much higher degrees of parallelism both in terms of the number of nodes and the<br>number<br>of<br>cores<br>per<br>node.<br>OpenMP<br>is<br>a<br>widely used standard for exploiting parallelism on the level of individual nodes.<br>Although<br>successfully<br>used on<br>today’s<br>systems,<br>it is<br>unclear<br>how<br>well OpenMP implementations will scale to much higher numbers<br>of threads.<br>In this work,<br>we apply<br>automated<br>performance<br>modeling to<br>examine<br>the<br>scalability of OpenMP constructs across<br>different compilers<br>and [...]"
          ],
          [
           "Software engineering for multicore systems",
           "The emergence of inexpensive parallel computers powered by multicore chips combined with<br>stagnating<br>clock<br>rates<br>raises<br>new<br>challenges<br>for<br>software<br>engineering. As future performance improvements will not come \"for<br>free\" from<br>increased<br>clock<br>rates,<br>performance<br>critical<br>applications<br>will need to be<br>parallelized. However, little is known<br>about the<br>engineering<br>principles for<br>parallel<br>general-purpose<br>applications.<br>This paper<br>presents an experience<br>report with four<br>diverse case<br>studies on<br>multicore [...]"
          ],
          [
           "Modeling critical sections in Amdahl's law and its implications for multicore design",
           "This paper presents a fundamental law for parallel performance: it shows that parallel performance<br>is<br>not<br>only<br>limited<br>by<br>sequential<br>code<br>(as<br>suggested by Amdahl's law) but is also fundamentally limited by<br>synchronization<br>through<br>critical<br>sections.<br>Extending<br>Amdahl's software<br>model<br>to<br>include critical sections, we derive the<br>surprising result that<br>the impact<br>of critical<br>sections on<br>parallel<br>performance can be modeled<br>as a<br>completely<br>sequential part<br>and a completely parallel<br>part. The<br>sequential part [...]"
          ],
          [
           "Performance Modeling of MPI-based Applications on Cloud Multicore Servers",
           "While cloud computing is widely adopted in many application domains, it is not yet the case<br>for<br>the<br>high<br>performance<br>computing<br>(HPC)<br>domain.<br>HPC<br>traditionally runs on homogeneous, high-cost servers with fast<br>networking<br>providing<br>for<br>predictable<br>performance; while<br>bare-metal<br>cloud<br>offerings is<br>promising, the underlying hardware is<br>heterogeneous,<br>with slower<br>network<br>connection,<br>making it difficult to<br>predict<br>performance and<br>hence tune<br>applications. In this<br>paper we [...]"
          ],
          [
           "Performance Prophet: A Performance Modeling and Prediction Tool for Parallel and Distributed Programs",
           "High-performance computing is essential for solving large problems and for reducing the time to<br>solution<br>for<br>a<br>single<br>problem.<br>Current<br>top<br>high-<br>performance computing systems contain 1000's of processors. Therefore, new<br>tools are<br>needed<br>to<br>support the<br>program<br>development that<br>will<br>exploit high<br>degrees of parallelism. The issue of model-based<br>performance<br>evaluation of<br>real<br>world programs<br>on large<br>scale systems is<br>addressed in<br>this paper. We<br>present the<br>PerformanceProphet, which is<br>a [...]"
          ],
          [
           "A Survey of Parallel Programming Models and Tools in the Multi and Many-Core Era",
           "In this work, we present a survey of the different parallel programming models and<br>tools<br>available<br>today<br>with<br>special<br>consideration<br>to<br>their<br>suitability for high-performance computing. Thus, we review the<br>shared and<br>distributed<br>memory<br>approaches,<br>as well as<br>the<br>current<br>heterogeneous<br>parallel programming model. In addition, we<br>analyze how the<br>partitioned<br>global address<br>space (PGAS)<br>and hybrid<br>parallel<br>programming<br>models are used to<br>combine the<br>advantages of shared and<br>distributed<br>memory systems. [...]"
          ],
          [
           "Multicore compilation strategies and challenges",
           "To overcome challenges stemming from high power densities and thermal hot spots in<br>microprocessors,<br>multicore<br>computing<br>platforms<br>have<br>emerged<br>as<br>the<br>ubiquitous computing platform from servers down through<br>embedded systems.<br>Unfortunately,<br>providing<br>multiple cores does<br>not<br>directly<br>translate<br>into<br>increased performance or better<br>energy efficiency for<br>most applications.<br>The burden is<br>placed on software<br>developers<br>and tools to<br>find and<br>exploit<br>coarse-<br>grain parallelism to<br>effectively make use of [...]"
          ],
          [
           "Parallelizing Bzip2: A Case Study in Multicore Software Engineering",
           "We conducted a case study of parallelizing a real program for multicore computers using<br>currently<br>available<br>libraries<br>and<br>tools.<br>We<br>selected<br>the<br>sequential Bzip2 compression program for the study because it's a<br>computing-<br>intensive, widely<br>used, and<br>relevant<br>application<br>in<br>everyday life.<br>Its<br>source code is available, and its algorithm<br>is well<br>documented. In addition,<br>the algorithm<br>is non-<br>trivial, but, with<br>8,000<br>LOC, the application<br>is<br>small enough to manage<br>in a<br>course."
          ],
          [
           "Resource Management on Multicore Systems: The ACTORS Approach",
           "High-performance embedded systems require the execution of many applications on multicore<br>platforms<br>and<br>are<br>subject<br>to<br>stringent<br>restrictions<br>and<br>constraints. The ACTORS project approach provides temporal isolation<br>through<br>resource<br>reservation<br>over a<br>multicore<br>platform,<br>adapting the<br>available<br>resources on the basis of the overall<br>quality<br>requirements. The<br>architecture is<br>fully<br>operational on both<br>ARM MPCore and<br>x86 multicore<br>platforms."
          ],
          [
           "Challenges and Potentials of Emerging Multicore Architectures",
           "We present performance results on two current multicore architectures, a STI (Sony, Toshiba,<br>and<br>IBM)<br>Cell<br>processor<br>included<br>in<br>the<br>new<br>Playstation™ 3 and a Sun UltraSPARC T2 (“Niagara 2”) machine. On the Niagara 2<br>we<br>analyze<br>typical<br>performance patterns<br>that emerge<br>from<br>the<br>peculiar<br>way the memory controllers are activated on this chip<br>using<br>the standard<br>STREAM<br>benchmark and a shared-<br>memory parallel<br>lattice<br>Boltzmann<br>code. On the<br>Cell processor we measure the<br>memory<br>bandwidth [...]"
          ],
          [
           "VERTAF/Multi-Core: A SysML-Based Application Framework for Multi-Core Embedded Software Development",
           "Multi-core processors are becoming prevalent rapidly in personal computing and<br>embedded<br>systems.<br>Nevertheless,<br>the<br>programming<br>environment<br>for<br>multi-<br>core processor-based systems is still quite immature<br>and lacks<br>efficient tools.<br>In this work,<br>we<br>present a new<br>VERTAF/Multi-Core<br>framework<br>and show<br>how software code can be<br>automatically<br>generated from SysML<br>models of multi-<br>core<br>embedded systems. We<br>illustrate how model-<br>driven design<br>based<br>on<br>SysML can be<br>seamlessly integrated with<br>Intel’s [...]"
          ],
          [
           "Run-Time Automatic Performance Tuning for Multicore Applications",
           "Multicore hardware and system software have become complex and differ from<br>platform<br>to<br>platform.<br>Parallel<br>application<br>performance<br>optimization<br>and<br>portability are now a real challenge. In practice, the<br>effects of<br>tuning<br>parameters<br>are hard to<br>predict.<br>Programmers face even<br>more<br>difficulties when<br>several applications run in<br>parallel and<br>influence each<br>other<br>indirectly. We tackle<br>these<br>problems with Perpetuum, a<br>novel<br>operating-system-based<br>auto-<br>tuner that is<br>capable of tuning<br>applications<br>while [...]"
          ],
          [
           "Scala Actors: Unifying thread-based and event-based programming",
           "There is an impedance mismatch between message-passing concurrency and virtual machines, such as the<br>JVM.<br>VMs<br>usually<br>map<br>their<br>threads<br>to<br>heavyweight<br>OS processes. Without a lightweight process abstraction, users are often<br>forced to<br>write<br>parts<br>of<br>concurrent<br>applications in an<br>event-<br>driven style<br>which obscures control flow, and increases the<br>burden on<br>the<br>programmer.In this<br>paper we<br>show how<br>thread-based and event-<br>based<br>programming can be<br>unified under a single<br>actor<br>abstraction.<br>Using advanced [...]"
          ],
          [
           "Automated usability evaluation of parallel programming constructs (NIER track)",
           "Multicore computers are ubiquitous, and proposals to extend existing languages with<br>parallel<br>constructs<br>mushroom.<br>While<br>everyone<br>claims<br>to<br>make<br>parallel programming easier and less error-prone, empirical<br>language usability<br>evaluations<br>are rarely<br>done in-the-<br>field with<br>many users<br>and<br>real<br>programs. Key obstacles are costs and a<br>lack of appropriate<br>environments to<br>gather enough<br>data for<br>representative<br>conclusions. This<br>paper<br>discusses<br>the idea of<br>automating the usability<br>evaluation of [...]"
          ],
          [
           "A Modeling Approach based on UML/MARTE for GPU Architecture",
           "Nowadays, the High Performance Computing is part of the context of embedded systems. Graphics Processing<br>Units<br>(GPUs)<br>are<br>more<br>and<br>more<br>used<br>in<br>acceleration of the most part of algorithms and applications. Over the past years, not<br>many<br>efforts have<br>been<br>done<br>to<br>describe<br>abstractions<br>of<br>applications in relation to their target architectures. Thus, when<br>developers<br>need to<br>associate<br>applications<br>and<br>GPUs, for<br>example, they<br>find<br>difficulty and prefer using API for these<br>architectures. This<br>paper [...]"
          ],
          [
           "AutoTunium: An Evolutionary Tuner for General-Purpose Multicore Applications",
           "Today's increasing diversity in multicore hardware challenges programmers when it<br>comes<br>to<br>software<br>performance<br>optimization<br>and<br>portability.<br>As<br>multicore processors are in almost every PC and server,<br>programmers now<br>have<br>to<br>parallelize a larger<br>spectrum of<br>applications,<br>many of which are<br>non-<br>numerical. To obtain good<br>performance,<br>programmers<br>typically try<br>out different software<br>tuning parameter<br>configurations<br>on each platform.<br>However,<br>this<br>manual approach<br>to finding good<br>configurations<br>in the [...]"
          ],
          [
           "High-Level Multicore Programming with XJava",
           "Multicore chips are becoming mainstream, but programming them is difficult because the prevalent<br>thread-<br>based<br>programming<br>model<br>is<br>error-<br>prone<br>and<br>does not scale well. To address this problem, we designed XJava, an<br>extension of Java<br>that<br>permits<br>the<br>direct<br>expression<br>of<br>producer/consumer,<br>pipeline, master/slave, and data parallelism. The<br>central concept of<br>the<br>extension is the<br>task, a<br>parallel<br>activity<br>similar to a<br>filter in Unix. Tasks<br>can be combined with new<br>operators to [...]"
          ],
          [
           "CU2CL: A CUDA-to-OpenCL Translator for Multi- and Many-core Architectures",
           "The use of graphics processing units (GPUs) in high-performance parallel computing continues to<br>become<br>more<br>prevalent,<br>often<br>as<br>part<br>of<br>a<br>heterogeneous system. For years, CUDA has been the de facto programming environment<br>for nearly<br>all<br>general-<br>purpose<br>GPU<br>(GPGPU)<br>applications. In<br>spite<br>of this, the framework is available only on NVIDIA<br>GPUs,<br>traditionally<br>requiring<br>reimplementation in<br>other<br>frameworks in<br>order to utilize<br>additional<br>multi- or many-core devices.<br>On the<br>other hand, OpenCL<br>provides [...]"
          ],
          [
           "Hybrid MPI/OpenMP Parallel Programming on Clusters of Multi-Core SMP Nodes",
           "Today most systems in high-performance computing (HPC) feature a hierarchical hardware design: Shared<br>memory<br>nodes<br>with<br>several<br>multi-<br>core<br>CPUs<br>are<br>connected via a network infrastructure. Parallel programming must<br>combine<br>distributed<br>memory<br>parallelization on the<br>node<br>interconnect<br>with<br>shared<br>memory parallelization inside each node. We<br>describe<br>potentials and<br>challenges of<br>the dominant programming<br>models<br>on<br>hierarchically<br>structured<br>hardware: Pure MPI (Message<br>Passing<br>Interface), pure<br>OpenMP [...]"
          ],
          [
           "Exploiting Fine-Grain Thread Parallelism on Multicore Architectures",
           "In this work we present a runtime threading system which provides an efficient substrate<br>for<br>fine-<br>grain<br>parallelism,<br>suitable<br>for<br>deployment<br>in<br>multicore platforms. Its architecture encompasses a number of<br>optimizations<br>that make<br>it<br>particularly effective<br>in managing<br>a<br>large number of<br>threads<br>and with low overheads. The runtime<br>system has been<br>integrated into<br>an<br>OpenMP implementation to<br>allow for<br>transparent<br>usage under a high<br>level<br>programming<br>paradigm. We evaluate our<br>implementation [...]"
          ],
          [
           "Engineering parallel applications with tunable architectures",
           "Current multicore computers differ in many hardware characteristics. Software developers thus<br>hand-<br>tune<br>their<br>parallel<br>programs<br>for<br>a<br>specific<br>platform to achieve the best performance; this is tedious and leads to non-<br>portable<br>code.<br>Although the<br>software<br>architecture<br>also<br>requires<br>adaptation<br>to achieve best performance, it is rarely modified<br>because of<br>the<br>additional<br>implementation effort.<br>The<br>Tunable<br>Architectures approach<br>proposed in<br>this paper automates the<br>architecture<br>adaptation [...]"
          ],
          [
           "An Approach to Performance Prediction for Parallel Applications",
           "Accurately modeling and predicting performance for large-scale applications<br>becomes<br>increasingly<br>difficult<br>as<br>system<br>complexity<br>scales<br>dramatically.<br>Analytic predictive models are useful, but are<br>difficult to<br>construct, usually<br>limited in<br>scope,<br>and often<br>fail to capture<br>subtle<br>interactions between<br>architecture and<br>software. In<br>contrast, we employ multilayer<br>neural<br>networks trained<br>on input<br>data from executions<br>on the<br>target platform.<br>This<br>approach is<br>useful for predicting many [...]"
          ],
          [
           "A view of the parallel computing landscape",
           "Writing programs that scale with increasing numbers of cores should be as easy as writing programs for sequential computers."
          ],
          [
           "Reengineering for Parallelism: an entry point into PLPP for legacy applications",
           "Abstract Many parallel programs begin as legacy sequential code that is later reengineered<br>to<br>take<br>advantage<br>of<br>parallel<br>hardware.<br>This<br>paper<br>presents a pattern called Reengineering for Parallelism to help with this<br>task.<br>The new<br>pattern is<br>intended<br>to be used<br>in conjunction<br>with<br>PLPP<br>(Pattern Language for Parallel Programming), described<br>in our<br>book (Mattson<br>TG, Sanders<br>BA, Massingill<br>BL. Patterns<br>for Parallel<br>Programming<br>.<br>Addison‐Wesley: Reading, MA, 2004).<br>PLPP<br>contains a structured<br>collection [...]"
          ],
          [
           "Strategies for preparing computer science students for the multicore world",
           "Multicore computers have become standard, and the number of cores per computer is rising rapidly.<br>How<br>does<br>the<br>new<br>demand<br>for<br>understanding<br>of<br>parallel computing impact computer science education? In this paper, we examine<br>several<br>aspects<br>of<br>this<br>question: (i)<br>What<br>parallelism body<br>of<br>knowledge do today's students need to learn? (ii) How might<br>these concepts<br>and<br>practices<br>be<br>incorporated into the<br>computer<br>science curriculum?<br>(iii)<br>What resources will support computer<br>[...]"
          ],
          [
           "Modeling and analysis of performances for concurrent multithread applications on multicore and graphics processing unit systems",
           "Summary The capabilities of multicore processors lead them to be widely adopted in systems at any<br>scale,<br>since<br>their<br>are<br>able<br>to<br>provide<br>more<br>computing power at a lower consumption and dissipation cost. System designers are<br>challenged<br>to<br>a<br>deeper<br>understanding<br>of<br>multicore<br>functioning in<br>order to fully exploit them while keeping the optimal<br>balance<br>between<br>cores<br>utilization and<br>optimal<br>throughput,<br>response time and<br>energy usage.<br>Besides the advancement of general<br>purpose<br>CPUs, [...]"
          ]
         ],
         "hovertemplate": "Topic=Multicore Performance Prediction<br>x=%{x}<br>y=%{y}<br>title=%{customdata[0]}<br>abstract=%{customdata[1]}<extra></extra>",
         "legendgroup": "Multicore Performance Prediction",
         "marker": {
          "color": "#9467bd",
          "size": 5,
          "symbol": "x"
         },
         "mode": "markers",
         "name": "Multicore Performance Prediction",
         "orientation": "v",
         "showlegend": true,
         "type": "scatter",
         "x": [
          3.167416,
          3.4914448,
          3.2458622,
          3.4209173,
          3.2013764,
          3.7678537,
          3.4447274,
          3.3123677,
          3.458208,
          3.2769487,
          3.1709294,
          3.192765,
          3.2559164,
          3.383091,
          3.3912055,
          3.51124,
          3.423729,
          3.4730926,
          3.4028423,
          3.7581577,
          3.3805134,
          3.153375,
          3.3670096,
          3.534457,
          3.1920092,
          3.2051535,
          3.4473205,
          3.35689,
          3.138051,
          3.3855913,
          3.3675268,
          3.3843899,
          3.3480277
         ],
         "xaxis": "x",
         "y": [
          11.930475,
          11.827221,
          11.938003,
          11.613042,
          11.771372,
          11.634695,
          11.682908,
          11.793835,
          11.779666,
          11.685586,
          11.728052,
          11.816847,
          11.763527,
          11.716213,
          11.82648,
          11.630601,
          11.627171,
          11.657407,
          11.899434,
          11.606982,
          11.852981,
          11.920557,
          11.885486,
          11.7165575,
          11.967848,
          11.7525,
          11.763501,
          11.986452,
          11.728632,
          11.767816,
          11.961208,
          11.781626,
          11.634893
         ],
         "yaxis": "y"
        },
        {
         "customdata": [
          [
           "An approach to forecast grain crop yield using multi-layered, multi-farm data sets and machine learning",
           "Many broadacre farmers have a time series of crop yield monitor data for their fields which are<br>often<br>augmented<br>with<br>additional<br>data,<br>such<br>as<br>soil<br>apparent electrical conductivity surveys and soil test results. In addition<br>there<br>are now<br>readily<br>available national<br>and<br>global<br>datasets, such<br>as<br>rainfall and MODIS, which can be used to represent the<br>crop-<br>growing<br>environment. Rather<br>than analysing one<br>field at<br>a time as<br>is typical in<br>precision<br>agriculture research, there is<br>an<br>opportunity to<br>explore the [...]"
          ],
          [
           "Artificial intelligence approach for the prediction of Robusta coffee yield using soil fertility properties",
           "As a commodity for daily consumption, coffee plays a crucial role in the economy of several<br>African,<br>American<br>and<br>Asian<br>countries;<br>yet,<br>the<br>accurate<br>prediction of coffee yield based on environmental, climatic and soil<br>fertility<br>conditions<br>remains a<br>challenge<br>for<br>agricultural<br>system<br>modellers. The<br>ability of an Extreme Learning Machine (ELM)<br>model to<br>analyse soil<br>fertility<br>properties and to<br>generate an<br>accurate<br>estimation of<br>Robusta coffee yield<br>was assessed in this<br>study. The<br>performance of<br>18 [...]"
          ],
          [
           "Sugarcane Yield Grade Prediction Using Random Forest with Forward Feature Selection and Hyper-parameter Tuning",
           "This paper presents a Random Forest (RF) based method for predicting the sugarcane yield grade of a farmer<br>plot.<br>The<br>dataset<br>used<br>in<br>this<br>work<br>is<br>obtained from a set of sugarcane plots around a sugar mill in Thailand. The number of<br>records in<br>the<br>train dataset<br>and the<br>test<br>dataset<br>are<br>8,765<br>records and 3,756 records, respectively. We propose a forward<br>feature selection<br>in<br>conjunction with<br>hyper-parameter<br>tuning<br>for<br>training the<br>random<br>forest classifier. The accuracy of our<br>method is 71.88%. [...]"
          ],
          [
           "Estimating Vineyard Grape Yield from Images",
           "Agricultural yield estimation from natural images is a challenging problem to which<br>machine<br>learning<br>can<br>be<br>applied.<br>Convolutional<br>Neural<br>Networks<br>have advanced the state of the art in many machine learning<br>applications<br>such as<br>computer<br>vision,<br>speech<br>recognition and natural<br>language<br>processing.<br>The proposed research uses<br>convolution neural<br>networks to<br>develop models<br>that can<br>estimate the<br>weight of grapes on a vine<br>using an<br>image. Trained<br>and<br>tested with a dataset of<br>60 images of<br>grape vines, [...]"
          ],
          [
           "Analysis of Soil Behaviour and Prediction of Crop Yield Using Data Mining Approach",
           "Yield prediction is very popular among farmers these days, which particularly contributes to the proper<br>selection<br>of<br>crops<br>for<br>sowing.<br>This<br>makes<br>the<br>problem of predicting the yielding of crops an interesting challenge. Earlier<br>yield<br>prediction was<br>performed<br>by<br>considering<br>the<br>farmer's<br>experience on<br>a particular field and crop. This work presents a<br>system,<br>which uses data mining<br>techniques<br>in<br>order to predict<br>the<br>category of the<br>analyzed soil<br>datasets. The category, thus<br>predicted<br>will indicate the [...]"
          ],
          [
           "Support vector machine-based open crop model (SBOCM): Case of rice production in China",
           "Existing crop models produce unsatisfactory simulation results and are operationally<br>complicated.<br>The<br>present<br>study,<br>however,<br>demonstrated<br>the<br>unique<br>advantages of statistical crop models for large-scale<br>simulation. Using rice<br>as the<br>research<br>crop, a<br>support vector<br>machine-based<br>open crop<br>model<br>(SBOCM) was developed by<br>integrating developmental stage and<br>yield<br>prediction<br>models. Basic<br>geographical<br>information obtained<br>by<br>surface<br>weather<br>observation stations in China and the<br>1:1000000 [...]"
          ],
          [
           "Ensemble data mining approaches to forecast regional sugarcane crop production",
           "Accurate yield forecasts are pivotal for the success of any agricultural industry that plans or<br>sells<br>ahead<br>of<br>the<br>annual<br>harvest.<br>Biophysical<br>models<br>that integrate information about crop growing conditions can give early<br>insight<br>about the<br>likely<br>size<br>of a crop.<br>At a point<br>scale, where<br>highly<br>detailed knowledge about environmental and management<br>conditions<br>are known,<br>the<br>performance of<br>reputable crop<br>modelling<br>approaches like<br>APSIM have<br>been well established. However,<br>regional<br>growing [...]"
          ],
          [
           "Early Yield Prediction Using Image Analysis of Apple Fruit and Tree Canopy Features with Neural Networks",
           "(1) Background: Since early yield prediction is relevant for resource requirements of harvesting and<br>marketing<br>in<br>the<br>whole<br>fruit<br>industry,<br>this<br>paper<br>presents a new approach of using image analysis and tree canopy features to<br>predict early<br>yield<br>with<br>artificial<br>neural<br>networks<br>(ANN); (2)<br>Methods:<br>Two back propagation neural network (BPNN) models were<br>developed for<br>the early<br>period<br>after natural<br>fruit drop<br>in June and<br>the ripening<br>period,<br>respectively. Within the same<br>periods, images of apple<br>cv. [...]"
          ],
          [
           "Random Forests for Global and Regional Crop Yield Predictions",
           "Accurate predictions of crop yield are critical for developing effective agricultural and food<br>policies<br>at<br>the<br>regional<br>and<br>global<br>scales.<br>We<br>evaluated a machine-learning method, Random Forests (RF), for its ability to<br>predict<br>crop<br>yield<br>responses to climate<br>and<br>biophysical<br>variables<br>at<br>global and regional scales in wheat, maize, and potato in<br>comparison<br>with<br>multiple<br>linear regressions (MLR)<br>serving<br>as a benchmark.<br>We used crop<br>yield<br>data from various sources and<br>regions for<br>model<br>training [...]"
          ],
          [
           "Application of Supervised Self Organising Models for Wheat Yield Prediction",
           "The management of wheat yield behavior in agricultural areas is a very important task because<br>it<br>influences<br>and<br>specifies<br>the<br>wheat<br>yield<br>production.<br>An efficient knowledge-based approach utilizing an efficient<br>Machine<br>Learning algorithm<br>for<br>characterizing<br>wheat<br>yield<br>behavior is<br>presented in this<br>research work. The novelty of the<br>method is based<br>on the use of<br>Supervised<br>Self Organizing Maps<br>to handle<br>existent<br>sensor<br>information by using a<br>supervised<br>learning algorithm so<br>as to assess<br>measurement [...]"
          ],
          [
           "Using classification algorithms for predicting durum wheat yield in the province of Buenos Aires",
           "Wheat is one of the most important cereals worldwide for human nutrition. Tetraploid wheat (Triticum turgidum<br>L.<br>ssp.<br>durum,<br>2n<br>=28,<br>genomes<br>AABB)<br>is<br>mainly used to produce pasta. The main objective of durum wheat breeding programs is<br>to<br>develop<br>varieties with<br>good<br>quality<br>and high<br>yields.<br>Yield is<br>a very complex trait, and depends on different yield<br>components<br>that are<br>genetically controlled<br>and<br>affected by<br>environmental<br>constraints.<br>In this<br>context, machine learning<br>constitutes [...]"
          ],
          [
           "Paddy acreage mapping and yield prediction using sentinel-based optical and SAR data in Sahibganj district, Jharkhand (India)",
           "Rice is an important staple food for the billions of world population. Mapping the spatial distribution<br>of<br>paddy<br>and<br>predicting<br>yields<br>are<br>crucial<br>for<br>food security measures. Over the last three decades, remote sensing techniques<br>have<br>been<br>widely used<br>for monitoring<br>and<br>management<br>of<br>agricultural<br>systems. This study has employed Sentinel-based both<br>optical<br>(Sentinel-2B)<br>and SAR<br>(Sentinel-1A) sensors<br>data for<br>paddy<br>acreage<br>mapping in Sahibganj<br>district, Jharkhand during the<br>monsoon<br>season in 2017. [...]"
          ],
          [
           "Machine learning methods for crop yield prediction and climate change impact assessment in agriculture",
           "Crop yields are critically dependent on weather. A growing empirical literature models this relationship<br>in<br>order<br>to<br>project<br>climate<br>change<br>impacts<br>on<br>the sector. We describe an approach to yield modeling that uses a<br>semiparametric<br>variant of a<br>deep<br>neural<br>network, which<br>can<br>simultaneously<br>account<br>for complex nonlinear relationships in high-<br>dimensional<br>datasets, as well as<br>known<br>parametric<br>structure and<br>unobserved<br>cross-sectional<br>heterogeneity.<br>Using data on corn<br>yield from the<br>US Midwest, we show [...]"
          ],
          [
           "Integration of high resolution remotely sensed data and machine learning techniques for spatial prediction of soil properties and corn yield",
           "Widespread adoption of precision agriculture requires timely acquisition of low-cost, high quality<br>soil<br>and<br>crop<br>yield<br>maps.<br>Integration<br>of<br>remotely<br>sensed data and machine learning algorithms offers cost-and time-effective<br>approach<br>for<br>spatial<br>prediction<br>of soil<br>properties and<br>crop<br>yield compared<br>to conventional approaches. The objectives of this<br>study were<br>to: (i)<br>evaluate<br>the role of<br>remotely sensed<br>images; (ii)<br>compare the<br>performance of<br>various machine learning<br>algorithms; and<br>(iii) [...]"
          ],
          [
           "Yield Forecasting of Spring Maize Using Remote Sensing and Crop Modeling in Faisalabad-Punjab Pakistan",
           "Real time, accurate and reliable estimation of maize yield is valuable to policy makers in decision<br>making.<br>The<br>current<br>study<br>was<br>planned<br>for<br>yield<br>estimation of spring maize using remote sensing and crop modeling. In crop<br>modeling, the<br>CERES-<br>Maize model<br>was<br>calibrated<br>and<br>evaluated with<br>the field<br>experiment data and after calibration and<br>evaluation, this model<br>was used to<br>forecast maize<br>yield.<br>A Field<br>survey of 64<br>farm was also<br>conducted in<br>Faisalabad to collect<br>data on initial field<br>conditions [...]"
          ],
          [
           "Hierarchical modeling of seed variety yields and decision making for future planting plans",
           "Eradicating hunger and malnutrition is a key development goal of the twenty first century.<br>This<br>paper<br>addresses<br>the<br>problem<br>of<br>optimally<br>identifying<br>seed varieties to reliably increase crop yield within a risk-<br>sensitive<br>decision<br>making<br>framework.<br>Specifically, a<br>novel<br>hierarchical<br>machine learning<br>mechanism for predicting crop yield<br>(the yield of<br>different<br>seed<br>varieties of the same<br>crop) is<br>introduced. This<br>prediction<br>mechanism is then<br>integrated with a<br>weather forecasting<br>model [...]"
          ],
          [
           "Rice Crop Yield Prediction Using Artificial Neural Networks",
           "Rice crop production contributes to the food security of India, more than 40% to overall<br>crop<br>production.<br>Its<br>production<br>is<br>reliant<br>on<br>favorable<br>climatic conditions. Variability from season to season is detrimental<br>to the<br>farmer's income<br>and<br>livelihoods.<br>Improving<br>the ability<br>of<br>farmers to<br>predict crop productivity in under different<br>climatic<br>scenarios, can assist<br>farmers<br>and other<br>stakeholders in<br>making important<br>decisions<br>in terms of<br>agronomy and crop<br>choice. This<br>study aimed to use [...]"
          ],
          [
           "A Study on Crop Yield Forecasting Using Classification Techniques",
           "India is generally an agricultural country. Agriculture is the single most important<br>contributor<br>to<br>the<br>Indian<br>economy.<br>Agriculture<br>crop<br>production<br>depends on the season, biological, and economic cause. The<br>prognosticating<br>of<br>agricultural<br>yield is a<br>challenging<br>and desirable<br>task for<br>every nation.<br>Nowadays, Farmers are struggling<br>to produce the<br>yield<br>because of<br>unpredictable climatic<br>changes and<br>drastically reduce in<br>water<br>resource so; we are<br>creating an<br>agriculture data.<br>This<br>data could [...]"
          ],
          [
           "CRY — An improved crop yield prediction model using bee hive clustering approach for agricultural data sets",
           "Agricultural researchers over the world insist on the need for an efficient mechanism to predict and<br>improve<br>the<br>crop<br>growth.<br>The<br>need<br>for<br>an<br>integrated crop growth control with accurate predictive yield management methodology<br>is highly<br>felt<br>among<br>farming<br>community.<br>The<br>complexity<br>of<br>predicting the crop yield is highly due to multi dimensional<br>variable metrics<br>and<br>unavailability<br>of<br>predictive modeling<br>approach,<br>which leads to<br>loss<br>in crop yield. This research paper<br>suggests a crop<br>yield<br>prediction [...]"
          ],
          [
           "Applying machine learning on sensor data for irrigation recommendations: revealing the agronomist’s tacit knowledge",
           "Jojoba Israel is a world-leading producer of Jojoba products, whose orchards are covered with<br>sensors<br>that<br>collect<br>soil<br>moisture<br>data<br>for<br>monitoring<br>plant needs at real-time. Based on these data, the company’s agronomist<br>defines a<br>weekly<br>irrigation<br>plan. In<br>addition,<br>data on<br>weather,<br>irrigation,<br>and yield are recorded from other sources (e.g.<br>meteorological<br>station<br>and irrigation-<br>plan<br>records). However, so<br>far, there<br>has been no<br>attempt to use<br>the entire set of<br>collected data to<br>reveal [...]"
          ],
          [
           "Predictive ability of machine learning methods for massive crop yield prediction",
           "An important issue for agricultural planning purposes is the accurate yield estimation for<br>the<br>numerous<br>crops<br>involved<br>in<br>the<br>planning.<br>Machine<br>learning (ML) is an essential approach for achieving practical and<br>effective<br>solutions for<br>this<br>problem.<br>Many<br>comparisons of<br>ML methods for<br>yield<br>prediction have been made, seeking for the most<br>accurate<br>technique.<br>Generally, the<br>number of<br>evaluated<br>crops and techniques<br>is too low and<br>does not<br>provide enough information<br>for<br>agricultural planning<br>purposes. [...]"
          ],
          [
           "Spiking Neural Networks for Crop Yield Estimation Based on Spatiotemporal Analysis of Image Time Series",
           "This paper presents spiking neural networks (SNNs) for remote sensing spatiotemporal analysis of image<br>time<br>series,<br>which<br>make<br>use<br>of<br>the<br>highly<br>parallel and low-power-consuming neuromorphic hardware platforms possible. This<br>paper<br>illustrates this<br>concept<br>with<br>the<br>introduction<br>of the<br>first SNN<br>computational model for crop yield estimation from<br>normalized<br>difference vegetation<br>index image<br>time<br>series. It<br>presents the<br>development<br>and testing<br>of a methodological<br>framework which<br>utilizes the [...]"
          ],
          [
           "Wheat yield prediction using machine learning and advanced sensing techniques",
           "Understanding yield limiting factors requires high resolution multi-layer information about<br>factors<br>affecting<br>crop<br>growth<br>and<br>yield.<br>Therefore,<br>on-<br>line proximal soil sensing for estimation of soil properties is<br>required, due to<br>the ability<br>of these<br>sensors<br>to<br>collect high<br>resolution data<br>(>1500<br>sample per ha), and subsequently reducing<br>labor and time cost<br>of soil<br>sampling and<br>analysis. The<br>aim of<br>this paper is to<br>predict within<br>field<br>variation in wheat yield,<br>based on on-line multi-<br>layer [...]"
          ],
          [
           "Crop yield forecasting on the Canadian Prairies by remotely sensed vegetation indices and machine learning methods",
           "Crop yield forecast models for barley, canola and spring wheat grown on the Canadian<br>Prairies<br>were<br>developed<br>using<br>vegetation<br>indices<br>derived<br>from<br>satellite data and machine learning methods. Hierarchical<br>clustering was<br>used to<br>group the crop<br>yield data<br>from 40<br>Census<br>Agricultural Regions<br>(CARs)<br>into several larger regions for<br>building the<br>forecast models.<br>The Normalized<br>Difference<br>Vegetation Index<br>(NDVI) and<br>Enhanced Vegetation<br>Index (EVI)<br>derived<br>from the Moderate-<br>resolution [...]"
          ],
          [
           "Maize yield forecasting by linear regression and artificial neural networks in Jilin, China",
           "SUMMARY Forecasting the maize yield of China's Jilin province from 1962 to 2004,<br>with<br>climate<br>conditions<br>and<br>fertilizer<br>as<br>predictors,<br>was<br>investigated using multiple linear regression (MLR) and non-<br>linear<br>artificial neural<br>network (ANN)<br>models.<br>Yield was set<br>to be a<br>function<br>of<br>precipitation from July to August,<br>precipitation in<br>September and the amount<br>of fertilizer<br>used.<br>Fertilizer emerged as<br>the dominant<br>predictor<br>and<br>was non-<br>linearly related to yield<br>in the ANN model. Given the<br>difficulty [...]"
          ],
          [
           "Design of an integrated climatic assessment indicator (ICAI) for wheat production: A case study in Jiangsu Province, China",
           "Agro-meteorological condition plays a fundamental role in crop production. For<br>a<br>specific<br>region,<br>the<br>comprehensive<br>effects<br>of<br>multiple<br>meteorological factors are important indicators for the<br>climatic<br>suitability of the<br>crops. To<br>evaluate<br>the synthetic<br>effects,<br>an<br>integrated climatic<br>assessment indicator (ICAI) are<br>developed in<br>Jiangsu Province,<br>China. A newly<br>produced<br>meteorological<br>assimilation<br>driving<br>datasets (CMADS V1.0)<br>combined with<br>observation<br>data are used in<br>establishing the<br>indicator. [...]"
          ],
          [
           "Sugarcane growth prediction based on meteorological parameters using extreme learning machine and artificial neural network",
           "Management strategies for sustainable sugarcane production need to deal with the increasing<br>complexity<br>and<br>variability<br>of<br>the<br>whole<br>sugar<br>system.<br>Moreover, they need to accommodate the multiple goals of different<br>industry sectors<br>and<br>the<br>wider<br>community.<br>Traditional<br>disciplinary<br>approaches are<br>unable to provide integrated management<br>solutions, and an<br>approach<br>based on<br>whole<br>systems analysis is<br>essential to<br>bring about<br>beneficial change to<br>industry and the<br>community. The<br>application of this<br>approach [...]"
          ],
          [
           "Deep Transfer Learning for Crop Yield Prediction with Remote Sensing Data",
           "Accurate prediction of crop yields in developing countries in advance of harvest time is<br>central<br>to<br>preventing<br>famine,<br>improving<br>food<br>security,<br>and<br>sustainable development of agriculture. Existing techniques are<br>expensive<br>and<br>difficult to scale<br>as they<br>require locally<br>collected<br>survey<br>data.<br>Approaches utilizing remotely sensed data,<br>such as<br>satellite<br>imagery, potentially<br>provide a cheap,<br>equally effective<br>alternative.<br>Our work<br>shows<br>promising results in<br>predicting<br>soybean crop<br>yields in Argentina [...]"
          ],
          [
           "Smart Farming System: Crop Yield Prediction Using Regression Techniques",
           "Due to ever increasing global population, there is an ever increase in demand for food; hence, new methods<br>need<br>to<br>be<br>devised<br>to<br>increase<br>the<br>crop<br>yield. This paper proposes an intelligent way to predict crop yield and suggest<br>the<br>optimal<br>climatic<br>factors to<br>maximize<br>crop yield.<br>With<br>the<br>advancement in technology, the focus has now shifted to using<br>machines<br>and control<br>systems to<br>automate the<br>processes and<br>optimize<br>productivity.<br>The<br>paper uses multivariate polynomial<br>regression,<br>support [...]"
          ],
          [
           "Yield prediction of wheat in south-east region of Turkey by using artificial neural networks",
           "In Turkey, similarly to other grain producing countries, the prediction of wheat yield is an important<br>problem.<br>The<br>objective<br>in<br>this<br>study<br>is<br>to<br>build an artificial neural network model that could effectively predict wheat yield<br>by<br>using<br>meteorological data<br>such<br>as<br>temperature<br>and<br>rainfall<br>records. Multi-Layer Perceptron neural network model was chosen<br>and<br>the<br>performance of the built<br>network was<br>tested<br>for different<br>input<br>and neurons<br>number. For defining the model<br>parameters<br>back<br>propagation [...]"
          ],
          [
           "Applying Data Mining Techniques to Predict Annual Yield of Major Crops and Recommend Planting Different Crops in Different Districts in Bangladesh",
           "Agricultural crop production depends on various factors such as biology, climate, economy<br>and<br>geography.<br>Several<br>factors<br>have<br>different<br>impacts<br>on<br>agriculture, which can be quantified using appropriate<br>statistical<br>methodologies. Applying<br>such<br>methodologies<br>and<br>techniques on<br>historical yield<br>of<br>crops, it is possible to obtain<br>information or<br>knowledge which can be<br>helpful to<br>farmers and<br>government<br>organizations for<br>making better<br>decisions and<br>policies<br>which lead to<br>increased production. In this<br>paper, [...]"
          ],
          [
           "Machine Learning Facilitated Rice Prediction in Bangladesh",
           "The climate of a region is often determined by its landscape and amount of vegetation present<br>in<br>it.<br>Environment<br>parameters<br>such<br>as<br>rainfall,<br>wind-<br>speed and humidity are highly influenced by these alluvial<br>features.<br>Bangladesh, a<br>country situated<br>on the banks<br>of<br>the<br>Himalaya, does not<br>have a<br>homogeneous topography. Human<br>settlement over the<br>course of centuries<br>has led to pockets<br>of micro-<br>regions. Each<br>of<br>those regions has a<br>different<br>micro<br>climate. An entrepreneur<br>involved in the food<br>industry [...]"
          ],
          [
           "Rice crop yield prediction in India using support vector machines",
           "Food production in India is largely dependent on cereal crops including rice, wheat and<br>various<br>pulses.<br>The<br>sustainability<br>and<br>productivity<br>of<br>rice<br>growing areas is dependent on suitable climatic conditions.<br>Variability in<br>seasonal<br>climate<br>conditions can<br>have<br>detrimental effect,<br>with<br>incidents of<br>drought reducing production.<br>Developing better<br>techniques to<br>predict crop<br>productivity in<br>different<br>climatic conditions can<br>assist<br>farmer and<br>other<br>stakeholders in better<br>decision making in<br>terms of [...]"
          ],
          [
           "Sugarcane yield prediction in Brazil using NDVI time series and neural networks ensemble",
           "The objective of this study is to predict the sugarcane yield in São Paulo State,<br>Brazil,<br>using<br>metrics<br>derived<br>from<br>normalized<br>difference<br>vegetation<br>index (NDVI) time series from the Moderate<br>Resolution<br>Imaging<br>Spectroradiometer (MODIS)<br>sensor and<br>an<br>ensemble model of<br>artificial<br>neural networks<br>(ANNs). Sixty<br>municipalities were<br>selected and<br>spectral metrics were<br>extracted from the<br>NDVI<br>time series for each<br>municipality from<br>2003 to<br>2012. A<br>neural network<br>wrapper with<br>sequential [...]"
          ],
          [
           "Predicting Early Crop Production by Analysing Prior Environment Factors",
           "Bangladesh has an agriculture dependent economy and hence prediction of agricultural production is of<br>great<br>importance<br>to<br>us.<br>In<br>this<br>research<br>we<br>develop a model that considers and analyzes weather and climate prior to specific<br>crop<br>plantation and<br>maps<br>a<br>correlation<br>between<br>these two. It<br>allows<br>us to provide information about the crop state, in<br>quantity and<br>quality with the<br>possibility<br>of<br>early warnings<br>so that<br>timely interventions<br>can be<br>undertaken. The approach<br>advocated in this<br>paper is to help [...]"
          ],
          [
           "Image Segmentation for Fruit Detection and Yield Estimation in Apple Orchards",
           "Ground vehicles equipped with monocular vision systems are a valuable source of<br>high‐resolution<br>image<br>data<br>for<br>precision<br>agriculture<br>applications<br>in<br>orchards. This paper presents an image processing<br>framework for fruit<br>detection and<br>counting<br>using<br>orchard image<br>data. A<br>general‐purpose<br>image<br>segmentation approach is used,<br>including two feature<br>learning<br>algorithms;<br>multiscale<br>multilayered perceptrons<br>(MLP) and<br>convolutional neural<br>networks<br>(CNN).<br>These networks were<br>extended by<br>including [...]"
          ],
          [
           "Modeling Managed Grassland Biomass Estimation by Using Multitemporal Remote Sensing DataA Machine Learning Approach",
           "More than 80 of agricultural land in Ireland is grassland, which is a major feed source for<br>the<br>pasture<br>based<br>dairy<br>farming<br>and<br>livestock<br>industry.<br>Many studies have been undertaken globally to estimate grassland<br>biomass by<br>using<br>satellite<br>remote sensing<br>data, but<br>rarely<br>in systems<br>like Ireland's<br>intensively managed, but small-scale<br>pastures, where<br>grass is<br>grazed as well<br>as harvested for<br>winter fodder.<br>Multiple<br>linear<br>regression (MLR),<br>artificial neural<br>network (ANN) and<br>adaptive neuro-<br>fuzzy [...]"
          ],
          [
           "Application of Neural Networks and Image Visualization for Early Forecast of Apple Yield",
           "Early information on yield has a special importance in the intensive apple production. Since the<br>majority<br>of<br>older<br>forecast<br>methods<br>are<br>labor,<br>time,<br>organization and cost intensive a hybrid model based on image analysis and<br>neural<br>network<br>was<br>developed. From the<br>end of<br>fruit<br>thinning in<br>June till<br>harvesting digital images of 120 trees of yellow-<br>skin ‘Golden<br>Delicious’<br>(four<br>times) and 120 trees of<br>red-skin<br>‘Braeburn’<br>(five times)<br>were captured<br>from intensive orchards.<br>Firstly, each<br>image [...]"
          ],
          [
           "Spatial yield estimates of fast‐growing willow plantations for energy based on climatic variables in northern Europe",
           "Abstract Spatially accurate and reliable estimates from fast‐growing plantations are a key factor<br>for<br>planning<br>energy<br>supply.<br>This<br>study<br>aimed<br>to<br>estimate the yield of biomass from short rotation willow plantations in<br>northern<br>Europe. The data<br>were<br>based on<br>harvesting<br>records<br>from<br>1790<br>commercial plantations in Sweden, grouped into three ad<br>hoc<br>categories: low, middle and<br>high<br>performance. The<br>predictors<br>included<br>climatic<br>variables,<br>allowing the spatial<br>extrapolation to<br>nearby countries. The [...]"
          ],
          [
           "Accurate prediction of sugarcane yield using a random forest algorithm",
           "Foreknowledge about sugarcane crop size can help industry members make more informed<br>decisions.<br>There<br>exists<br>many<br>different<br>combinations<br>of<br>climate<br>variables, seasonal climate prediction indices, and crop model<br>outputs that<br>could<br>prove useful<br>in<br>explaining<br>sugarcane crop size. A<br>data<br>mining method<br>like random forests can cope with<br>generating a<br>prediction model<br>when the search<br>space<br>of predictor<br>variables is large.<br>Research that<br>has investigated<br>the<br>accuracy of random<br>forests to explain<br>annual [...]"
          ],
          [
           "Data Mining with Neural Networks for Wheat Yield Prediction",
           "Precision agriculture (PA) and information technology (IT) are closely interwoven. The<br>former<br>usually<br>refers<br>to<br>the<br>application<br>of<br>nowadays’<br>technology to agriculture. Due to the use of sensors and GPS technology,<br>in<br>today’s<br>agriculture many<br>data<br>are<br>collected. Making use<br>of<br>those data via<br>IT often leads to dramatic improvements in<br>efficiency.<br>For this<br>purpose, the challenge<br>is to<br>change<br>these raw data into<br>useful<br>information. In this<br>paper we deal with<br>neural networks<br>and their<br>usage in mining [...]"
          ],
          [
           "Yield Prediction Using Artificial Neural Networks",
           "Artificial Neural Network (ANN’s) technology with PSO as optimization technique was used for the<br>approximation<br>and<br>prediction<br>of<br>paddy<br>yield<br>at<br>3<br>different districts in different climatic zones based on 10 years of<br>historical data sets of<br>yields<br>of<br>paddy<br>,daily<br>temperature(mean and<br>maximum)<br>and<br>precipitation(rainfall)."
          ],
          [
           "Regression Models for Spatial Data: An Example from Precision Agriculture",
           "The term precision agriculture refers to the application of state-of-the-art GPS technology in<br>connection<br>with<br>small-<br>scale,<br>sensor-<br>based<br>treatment<br>of<br>the crop. This data-driven approach to agriculture poses a number of<br>data mining<br>problems.<br>One of<br>those is also<br>an<br>obviously<br>important task<br>in<br>agriculture: yield prediction. Given a precise,<br>geographically<br>annotated data<br>set for a<br>certain field, can<br>a<br>season’s yield<br>be<br>predicted?Numerous<br>approaches have been<br>proposed to solving this<br>problem. In [...]"
          ],
          [
           "Determining the Most Important Physiological and Agronomic Traits Contributing to Maize Grain Yield through Machine Learning Algorithms: A New Avenue in Intelligent Agriculture",
           "Prediction is an attempt to accurately forecast the outcome of a specific situation while using<br>input<br>information<br>obtained<br>from<br>a<br>set<br>of<br>variables<br>that potentially describe the situation. They can be used to project<br>physiological<br>and<br>agronomic<br>processes;<br>regarding<br>this<br>fact,<br>agronomic traits such<br>as yield can be affected by a large number<br>of variables. In<br>this<br>study, we<br>analyzed a large<br>number of<br>physiological<br>and<br>agronomic traits by screening,<br>clustering, and<br>decision tree models<br>to select<br>the [...]"
          ]
         ],
         "hovertemplate": "Topic=Crop Yield Prediction<br>x=%{x}<br>y=%{y}<br>title=%{customdata[0]}<br>abstract=%{customdata[1]}<extra></extra>",
         "legendgroup": "Crop Yield Prediction",
         "marker": {
          "color": "#8c564b",
          "size": 5,
          "symbol": "circle"
         },
         "mode": "markers",
         "name": "Crop Yield Prediction",
         "orientation": "v",
         "showlegend": true,
         "type": "scatter",
         "x": [
          20.502491,
          20.376703,
          20.28859,
          20.0618,
          20.630384,
          20.55063,
          20.345993,
          20.135805,
          20.498251,
          20.459894,
          20.608654,
          20.60302,
          20.303276,
          20.424551,
          20.645884,
          20.44046,
          20.36015,
          20.627605,
          20.532803,
          20.744337,
          20.295366,
          20.210123,
          20.486448,
          20.596933,
          20.32822,
          20.657215,
          20.27862,
          20.514608,
          20.497303,
          20.421215,
          20.635645,
          20.40971,
          20.473415,
          20.231367,
          20.565971,
          20.109158,
          20.528893,
          20.097044,
          20.361958,
          20.355087,
          20.48334,
          20.432737,
          20.63453,
          20.383608
         ],
         "xaxis": "x",
         "y": [
          11.881725,
          11.62386,
          11.589146,
          12.01151,
          12.102217,
          11.951958,
          11.603392,
          12.052293,
          11.814936,
          11.767183,
          11.755642,
          11.959929,
          11.9393635,
          11.840379,
          11.864383,
          11.837659,
          12.103419,
          12.026923,
          11.845329,
          11.931383,
          11.966322,
          12.013314,
          11.913868,
          11.708463,
          11.931594,
          11.76942,
          11.556449,
          11.916837,
          11.9327755,
          12.042782,
          12.221548,
          12.191064,
          11.937984,
          11.650835,
          12.071923,
          12.098954,
          11.667055,
          12.021957,
          11.782662,
          11.56645,
          12.094636,
          12.037048,
          11.98242,
          11.786915
         ],
         "yaxis": "y"
        },
        {
         "customdata": [
          [
           "Intraoperative placement of total hip arthroplasty components with robotic-arm assisted technology correlates with postoperative implant position: a CT-based study.",
           "AIMS: The aim of this study was to evaluate the accuracy of implant placement when<br>using<br>robotic<br>assistance<br>during<br>total<br>hip<br>arthroplasty<br>(THA).<br>PATIENTS AND METHODS: A total of 20 patients underwent a planned<br>THA<br>using<br>preoperative CT scans<br>and<br>robotic-<br>assisted<br>software. There were<br>nine men<br>and 11 women (n = 20 hips) with a mean age<br>of<br>60.8 years<br>(sd 6.0). Pelvic and<br>femoral bone<br>models were<br>constructed<br>by segmenting both<br>preoperative and<br>postoperative CT<br>scan<br>images. The<br>preoperative [...]"
          ],
          [
           "Robotic‐arm assisted total knee arthroplasty has a learning curve of seven cases for integration into the surgical workflow but no learning curve effect for accuracy of implant positioning",
           "PURPOSE: The primary objective of this study was to determine the surgical team's learning curve<br>for<br>robotic-<br>arm<br>assisted<br>TKA<br>through<br>assessments<br>of<br>operative times, surgical team comfort levels, accuracy of implant<br>positioning,<br>limb<br>alignment,<br>and<br>postoperative<br>complications.<br>Secondary<br>objectives<br>were to compare accuracy of implant<br>positioning and limb<br>alignment<br>in<br>conventional jig-<br>based TKA versus<br>robotic-arm<br>assisted TKA.<br>METHODS: This<br>prospective<br>cohort study [...]"
          ],
          [
           "Improved implant position and lower revision rate with robotic‐assisted unicompartmental knee arthroplasty",
           "PURPOSE: The aim of this case-control study was to compare implant position and revision rate for<br>UKA,<br>performed<br>with<br>either<br>a<br>robotic-<br>assisted<br>system<br>or with conventional technique. METHODS: Eighty UKA (57 medial, 23<br>lateral) were<br>performed<br>with<br>robotic<br>assistance<br>(BlueBelt<br>Navio system)<br>between<br>2013 and 2017. These patients were matched<br>with 80 patients<br>undergoing UKA<br>using the<br>same<br>prosthesis,<br>implanted using<br>conventional<br>technique. The<br>sagittal and coronal<br>component position was<br>assessed [...]"
          ],
          [
           "The Learning Curve Associated with Robotic Total Knee Arthroplasty",
           "As with most new surgical technologies, there is an associated learning curve with robotic-<br>assisted<br>total<br>knee<br>arthroplasty<br>(TKA)<br>before<br>surgeons<br>can<br>expect ease of use to be similar to that of manual cases.<br>Therefore, the<br>purpose of this<br>study<br>was to (1) assess<br>robotic-<br>assisted<br>versus<br>manual<br>operative times of two joint<br>reconstructive surgeons<br>separately as well as<br>(2) find<br>an overall learning<br>curve. A total<br>of 240<br>robotic-<br>assisted<br>TKAs<br>performed by two board-certified<br>surgeons were [...]"
          ],
          [
           "Robotic-Assisted Total Hip Arthroplasty: Outcomes at Minimum Two-Year Follow-Up.",
           "BACKGROUND: Component malposition in total hip arthroplasty (THA) contributes to<br>instability<br>and<br>early<br>failure.<br>Robotic-<br>assisted<br>total<br>hip<br>arthroplasty (rTHA) utilizes CT-based planning with haptically-<br>guided bone<br>preparation<br>and implant<br>insertion<br>to optimize<br>component<br>position<br>accuracy.<br>This study compared acetabular<br>component position and<br>postoperative<br>complications<br>following<br>manual THA (mTHA)<br>with rTHA.<br>MATERIALS AND<br>METHODS:<br>Consecutive<br>primary THAs performed by<br>one surgeon at<br>three intervals [...]"
          ],
          [
           "Survivorship and patient satisfaction of robotic-assisted medial unicompartmental knee arthroplasty at a minimum two-year follow-up",
           "BACKGROUND: Successful clinical outcomes following unicompartmental knee arthroplasty (UKA) depend<br>on<br>lower<br>limb<br>alignment,<br>soft<br>tissue<br>balance<br>and<br>component positioning, which can be difficult to control using<br>manual<br>instrumentation.<br>Although<br>robotic-assisted<br>surgery<br>more<br>reliably controls<br>these<br>surgical factors, studies assessing<br>outcomes of<br>robotic-assisted UKA<br>are lacking.<br>Therefore, a<br>prospective<br>multicenter<br>study was performed to<br>assess<br>outcomes of<br>robotic-assisted<br>UKA. METHODS: A total<br>of [...]"
          ],
          [
           "Improved Accuracy of Component Positioning with Robotic-Assisted Unicompartmental Knee Arthroplasty",
           "BACKGROUND: Higher revision rates have been reported in patients who have undergone<br>unicompartmental<br>knee<br>arthroplasty<br>compared<br>with<br>patients<br>who<br>have<br>undergone total knee arthroplasty, with poor component<br>positioning identified<br>as a<br>factor in implant<br>failure. A<br>robotic-<br>assisted<br>surgical<br>procedure<br>has been proposed as a method of<br>improving the accuracy<br>of<br>component implantation in<br>arthroplasty.<br>The aim of<br>this<br>prospective,<br>randomized, single-<br>blinded,<br>controlled trial was to<br>evaluate<br>the accuracy [...]"
          ],
          [
           "Robotic systems in orthopaedic surgery.",
           "Robots have been used in surgery since the late 1980s. Orthopaedic surgery began to incorporate<br>robotic<br>technology<br>in<br>1992,<br>with<br>the<br>introduction<br>of<br>ROBODOC, for the planning and performance of total hip replacement. The<br>use of<br>robotic<br>systems<br>has<br>subsequently<br>increased, with<br>promising short-<br>term<br>radiological outcomes when compared with<br>traditional<br>orthopaedic<br>procedures.<br>Robotic<br>systems can be<br>classified into two<br>categories: autonomous<br>and<br>haptic (or surgeon-<br>guided). Passive<br>surgery<br>systems, [...]"
          ],
          [
           "Primary and Revision Total Hip Replacement Using the Robodoc® System",
           "The ROBODOC system was designed to address potential human errors in performing cementless<br>total<br>hip<br>replacement.<br>The<br>system<br>consists<br>of<br>a<br>preoperative planning computer workstation (called ORTHODOC) and a five-axis<br>robotic<br>arm with<br>a high speed<br>milling<br>device as an<br>end<br>effector.<br>The<br>combined experience of the United States Food and<br>Drug<br>Administration<br>multicenter trial and the<br>German<br>postmarket use of<br>the<br>system are<br>reported. The<br>United States study is<br>controlled<br>and randomized<br>with 136 hip [...]"
          ],
          [
           "Can Robot-Assisted Unicompartmental Knee Arthroplasty Be Cost-Effective? A Markov Decision Analysis",
           "BACKGROUND: Unicompartmental knee arthroplasty (UKA) is a treatment option for<br>single-<br>compartment<br>knee<br>osteoarthritis.<br>Robotic<br>assistance<br>may<br>improve<br>survival rates of UKA, but the cost-effectiveness of<br>robot-<br>assisted UKA is<br>unknown. The<br>purpose of this<br>study was to<br>delineate the<br>revision<br>rate,<br>hospital volume, and robotic<br>system costs<br>for which this<br>technology would be<br>cost-effective.<br>METHODS: We created<br>a Markov<br>decision analysis<br>to<br>evaluate the<br>costs,<br>outcomes, and incremental<br>cost- [...]"
          ],
          [
           "Robot-Assisted Total Knee Arthroplasty Accurately Restores the Joint Line and Mechanical Axis. A Prospective Randomised Study",
           "Robot-assisted Total Knee Arthroplasty (TKA) improves the accuracy and precision of<br>component<br>implantation<br>and<br>mechanical<br>axis<br>(MA)<br>alignment.<br>Joint-<br>line restoration in robot-assisted TKA is not widely<br>described and joint-<br>line deviation<br>of>5mm<br>results in<br>mid-<br>flexion<br>instability and poor<br>outcomes.<br>We prospectively randomised<br>60 patients into two<br>groups: 31 patients<br>(robot-<br>assisted),<br>29<br>patients<br>(conventional). No MA outliers (>±3°<br>from neutral)<br>or<br>notching was noted in<br>the robot-assisted group<br>as [...]"
          ],
          [
           "Computer-Assisted Orthopaedic Surgery and Robotic Surgery in Total Hip Arthroplasty",
           "Various systems of computer-assisted orthopaedic surgery (CAOS) in total hip arthroplasty (THA)<br>were<br>reviewed.<br>The<br>first<br>clinically<br>applied<br>system<br>was<br>an active robotic system (ROBODOC), which performed femoral implant<br>cavity<br>preparation<br>as<br>programmed<br>preoperatively.<br>Several reports<br>on<br>cementless THA<br>with ROBODOC showed better stem alignment<br>and less<br>variance in limb-<br>length<br>inequality on<br>radiographic<br>evaluation, less<br>incidence of<br>pulmonary embolic<br>events on<br>transesophageal<br>cardioechogram, and [...]"
          ],
          [
           "Comparison Between Hand Rasping and Robotic Milling for Stem Implantation in Cementless Total Hip Arthroplasty",
           "We evaluated the effects of conventional hand rasping and robotic milling on the<br>clinical<br>and<br>radiographic<br>results<br>of<br>cementless<br>total<br>hip<br>arthroplasty, with the same computed tomography (CT)-based<br>3-dimensional<br>preoperative<br>planning using<br>a<br>ROBODOC<br>workstation<br>(Integrated<br>Surgical<br>Systems, Davis, Calif). The robotic<br>milling group<br>consisted of 78 hips,<br>and the hand-<br>rasping<br>group 78 hips.<br>The<br>radiographic findings from<br>the<br>preoperative<br>planning and<br>postoperative CT data were<br>evaluated using the [...]"
          ],
          [
           "Accuracy of Component Positioning in 1980 Total Hip Arthroplasties: A Comparative Analysis by Surgical Technique and Mode of Guidance",
           "The purpose of this multi-surgeon study was to assess and compare the accuracy of<br>acetabular<br>component<br>placement,<br>leg<br>length<br>discrepancy<br>(LLD),<br>and<br>global offset difference (GOD) between six different<br>surgical techniques<br>and modes of<br>guidance in<br>total<br>hip<br>arthroplasty (THA). A<br>total of 1980<br>THAs<br>met inclusion criteria.<br>Robotic- and navigation-<br>guided techniques<br>were more<br>consistent than<br>other<br>techniques in placing the<br>acetabular<br>cup<br>into<br>Lewinnek's safe zone (P<0.005 and<br>P<0.05,<br>respectively). [...]"
          ],
          [
           "Accuracy of Dynamic Tactile-Guided Unicompartmental Knee Arthroplasty",
           "Unicompartmental knee arthroplasty (UKA) can achieve excellent clinical and<br>functional<br>results<br>for<br>patients<br>having<br>single-<br>compartment<br>osteoarthritis.<br>However, UKA is considered to be technically<br>challenging to<br>perform,<br>and<br>malalignment of<br>implant<br>components<br>significantly<br>contributes to UKA failures.<br>It has been shown<br>that surgical<br>navigation and<br>tactile<br>robotics could be<br>used to<br>provide very<br>accurate component<br>placement when the bones were<br>rigidly<br>fixed in a<br>stereotactic<br>frame [...]"
          ],
          [
           "Simultaneous bilateral total knee arthroplasty with robotic and conventional techniques: a prospective, randomized study",
           "PURPOSE: The authors performed this study to compare the outcomes of robotic-assisted and<br>conventional<br>TKA<br>in<br>same<br>patient<br>simultaneously.<br>It<br>was<br>hypothesized that the robotic-assisted procedure would produce better<br>leg<br>alignment<br>and<br>component<br>orientation, and<br>thus, improve<br>patient<br>satisfaction<br>and clinical and radiological outcomes.<br>METHODS:<br>Thirty<br>patients<br>underwent bilateral<br>sequential total knee<br>replacement. One<br>knee was<br>replaced by<br>robotic-assisted<br>implantation and<br>the other<br>by<br>conventional [...]"
          ],
          [
           "Robotic‐assisted TKA Reduces Postoperative Alignment Outliers and Improves Gap Balance Compared to Conventional TKA",
           "BACKGROUND: Several studies have shown mechanical alignment influences the outcome of TKA.<br>Robotic<br>systems<br>have<br>been<br>developed<br>to<br>improve<br>the<br>precision and accuracy of achieving component position and<br>mechanical<br>alignment.<br>QUESTIONS/PURPOSES:<br>We<br>determined<br>whether<br>robotic-<br>assisted<br>implantation for TKA (1) improved clinical<br>outcome; (2)<br>improved<br>mechanical axis alignment<br>and<br>implant inclination<br>in the<br>coronal and<br>sagittal planes;<br>(3) improved the<br>balance (flexion<br>and<br>extension gaps); and [...]"
          ],
          [
           "Robot-assisted unicompartmental knee arthroplasty can reduce radiologic outliers compared to conventional techniques",
           "BACKGROUND: The aim of this study was to compare the clinical and radiologic outcomes<br>of<br>robot-<br>assisted<br>unicompartmental<br>knee<br>arthroplasty<br>(UKA)<br>to<br>those of conventional UKA in Asian patients. METHODS: Fifty-<br>five<br>patients<br>underwent robot-<br>assisted UKA and 57<br>patients<br>underwent<br>conventional<br>UKA were<br>assessed in this study.<br>Preoperative and<br>postoperative<br>range of motion<br>(ROM), American Knee<br>Society (AKS)<br>score, Western<br>Ontario<br>McMaster<br>University<br>Osteoarthritis Index<br>scale score<br>(WOMAC), [...]"
          ],
          [
           "An assessment of early functional rehabilitation and hospital discharge in conventional versus robotic-arm assisted unicompartmental knee arthroplasty: a prospective cohort study.",
           "AIMS: The objectives of this study were to compare postoperative pain,<br>analgesia<br>requirements,<br>inpatient<br>functional<br>rehabilitation,<br>time<br>to<br>hospital<br>discharge, and complications in patients<br>undergoing<br>conventional jig-based<br>unicompartmental<br>knee<br>arthroplasty (UKA) versus<br>robotic-<br>arm<br>assisted UKA.<br>PATIENTS AND<br>METHODS: This<br>prospective cohort study<br>included 146 patients<br>with<br>symptomatic medial compartment<br>knee<br>osteoarthritis<br>undergoing<br>primary<br>UKA<br>performed by a single surgeon.<br>This included [...]"
          ],
          [
           "The learning curve associated with robotic-arm assisted unicompartmental knee arthroplasty: a prospective cohort study.",
           "Aims: The primary aim of this study was to determine the surgical team's learning<br>curve<br>for<br>introducing<br>robotic-<br>arm<br>assisted<br>unicompartmental<br>knee<br>arthroplasty (UKA) into routine surgical practice. The<br>secondary<br>objective<br>was to compare<br>accuracy of<br>implant<br>positioning<br>in conventional jig-<br>based<br>UKA versus robotic-arm assisted<br>UKA. Patients<br>and Methods:<br>This prospective<br>single-surgeon<br>cohort<br>study included 60<br>consecutive conventional<br>jig-based<br>UKAs<br>compared with 60<br>consecutive<br>robotic-arm assisted [...]"
          ],
          [
           "Robotic-arm assisted total knee arthroplasty is associated with improved early functional recovery and reduced time to hospital discharge compared with conventional jig-based total knee arthroplasty",
           "Aims: The objective of this study was to compare early postoperative functional outcomes and<br>time<br>to<br>hospital<br>discharge<br>between<br>conventional<br>jig-<br>based<br>total knee arthroplasty (TKA) and robotic-arm assisted TKA.<br>Patients and<br>Methods:<br>This<br>prospective cohort<br>study<br>included 40<br>consecutive<br>patients<br>undergoing conventional jig-based TKA<br>followed by 40<br>consecutive<br>patients<br>receiving robotic-arm<br>assisted<br>TKA. All surgical<br>procedures were<br>performed<br>by a single<br>surgeon using the<br>medial<br>parapatellar [...]"
          ],
          [
           "Robotic-Arm–Assisted vs Conventional Unicompartmental Knee Arthroplasty. The 2-Year Clinical Outcomes of a Randomized Controlled Trial",
           "BACKGROUND: Unicompartmental knee arthroplasty (UKA) for treatment of medial<br>compartment<br>osteoarthritis<br>has<br>potential<br>benefits<br>over<br>total<br>knee<br>arthroplasty but UKA has a higher revision rate. Robotic-<br>assisted UKA is<br>increasingly common<br>and<br>offers more<br>accurate<br>implant<br>positioning and<br>limb<br>alignment, lower early postoperative<br>pain but evidence<br>of functional outcome<br>is<br>lacking. The aim was<br>to assess<br>the clinical<br>outcomes of a<br>single-<br>centre,<br>prospective, randomised<br>controlled trial, [...]"
          ],
          [
           "Midterm Survivorship and Patient Satisfaction of Robotic-Arm-Assisted Medial Unicompartmental Knee Arthroplasty: A Multicenter Study",
           "BACKGROUND: Studies have showed improved accuracy of lower leg alignment, precise component<br>position,<br>and<br>soft-<br>tissue<br>balance<br>with<br>robotic-<br>assisted<br>unicompartmental knee arthroplasty (UKA). No studies, however, have<br>assessed the<br>effect<br>on<br>midterm<br>survivorship.<br>Therefore,<br>the purpose of<br>this<br>prospective, multicenter study was to determine<br>midtem<br>survivorship, modes<br>of<br>failure, and<br>satisfaction of<br>robotic-assisted<br>medial UKA.<br>METHODS: A<br>total of 473 consecutive<br>patients<br>(528 knees) [...]"
          ],
          [
           "Patient Satisfaction Outcomes after Robotic Arm-Assisted Total Knee Arthroplasty: A Short-Term Evaluation",
           "Abstract Robotic arm-assisted total knee arthroplasty (RATKA) presents a potential, new added<br>value<br>for<br>orthopedic<br>surgeons.<br>In<br>today's<br>health<br>care<br>system, a major determinant of value can be assessed by patient<br>satisfaction<br>scores.<br>Therefore, the<br>purpose of the<br>study was<br>to<br>analyze<br>patient<br>satisfaction outcomes between RATKA and manual<br>total knee<br>arthroplasty<br>(TKA). Specifically,<br>we used the<br>Western Ontario<br>and<br>McMaster<br>Universities<br>Arthritis Index (WOMAC) to<br>compare (1)<br>pain scores, (2)<br>physical [...]"
          ],
          [
           "The hands-on orthopaedic robot \"acrobot\": Early clinical trials of total knee replacement surgery",
           "A \"hands-on\" robotic system for total knee replacement (TKR) surgery is presented. A<br>computer<br>tomography-<br>based<br>preoperative<br>planning<br>software<br>is<br>used<br>to accurately plan the procedure. Intraoperatively, the<br>surgeon guides a<br>small special-<br>purpose<br>robot, called<br>Acrobot, which<br>is mounted<br>on a<br>gross<br>positioning device. The Acrobot<br>uses active constraint<br>control, which<br>constrains the<br>motion to a<br>predefined region, and<br>thus allows<br>the<br>surgeon to<br>safely cut<br>the knee bones to fit a<br>TKR prosthesis with<br>high [...]"
          ],
          [
           "An integrated system for cementless hip replacement",
           "Describes robotics and medical imaging technology in the enhancement of precision<br>surgery.<br>The<br>authors<br>consider:<br>cementless<br>total<br>hip<br>replacement<br>application; system overview; ORTHODOC preoperative planning<br>workstation;<br>ROBODOC<br>surgical<br>assistant;<br>safety<br>features;<br>surgical<br>protocol.<>"
          ],
          [
           "Hands-on robotic unicompartmental knee replacement",
           "We performed a prospective, randomised controlled trial of unicompartmental knee arthroplasty<br>comparing<br>the<br>performance<br>of<br>the<br>Acrobot<br>system<br>with<br>conventional surgery. A total of 27 patients (28 knees) awaiting<br>unicompartmental<br>knee<br>arthroplasty<br>were<br>randomly<br>allocated to have<br>the<br>operation<br>performed conventionally or with the<br>assistance of the Acrobot.<br>The<br>primary outcome<br>measurement<br>was the angle<br>of tibiofemoral<br>alignment<br>in the coronal<br>plane,<br>measured by CT. Other secondary<br>parameters<br>were [...]"
          ],
          [
           "Robot-assisted Total Knee Arthroplasty",
           "Increasing evidence suggests performing total knee arthroplasty using computer navigation can<br>lead<br>to<br>more<br>accurate<br>surgical<br>positioning<br>of<br>the<br>components and knee alignment compared to a conventional operating<br>technique<br>without<br>computer<br>assistance. The<br>use of<br>robotic<br>technology<br>could<br>theoretically take this accuracy one level further<br>because it<br>uses<br>navigation in<br>combination with<br>ultimate<br>mechanical<br>precision, which could<br>eliminate<br>or reduce the inevitable<br>margin of [...]"
          ],
          [
           "The first clinical application of a “hands‐on” robotic knee surgery system",
           "The performance of a novel \"hands-on\" robotic system for total knee replacement (TKR)<br>surgery<br>is<br>evaluated.<br>An<br>integrated<br>robotic<br>system<br>for<br>accurately machining the bone surfaces in TKR surgery is described.<br>Details of<br>the<br>system, comprising<br>an<br>\"active<br>constraint\" robot,<br>called<br>Acrobot, a<br>\"gross positioning\" robot, and patient<br>clamps, are<br>provided. The<br>intraoperative<br>protocol and<br>the<br>preoperative, CT-based,<br>planning system<br>are also<br>described. A number<br>of anatomical<br>registration and<br>cutting [...]"
          ],
          [
           "Results of total hip replacement using the Robodoc surgical assistant system: clinical outcome and evaluation of complications for 97 procedures",
           "BACKGROUND: A computerized robotic surgical system was developed from 1986 by the Thomas J. Watson<br>Research<br>Center.<br>In<br>1992<br>the<br>system<br>unit<br>Orthodoc<br>and the milling robot Robodoc were first used on humans. We present the<br>results achieved<br>with<br>Robodoc-<br>assisted<br>total<br>hip<br>arthroplasty in<br>97 hips.<br>METHODS: Between 1997 and 2002, 143 total hip<br>replacements (128<br>patients) were<br>performed<br>using the<br>Robodoc<br>system. This<br>is a consecutive<br>series.<br>Complete follow-up was<br>possible in 97 hips at a<br>mean follow- [...]"
          ],
          [
           "Achieving Accurate Ligament Balancing Using Robotic‐Assisted Unicompartmental Knee Arthroplasty",
           "Unicompartmental knee arthroplasty (UKA) allows replacement of a single compartment in<br>patients<br>with<br>limited<br>disease.<br>However,<br>UKA<br>is<br>technically<br>challenging and relies on accurate component positioning and<br>restoration of<br>natural<br>knee<br>kinematics. This<br>study examined<br>the<br>accuracy<br>of dynamic,<br>real-time ligament balancing using a<br>robotic-assisted UKA<br>system.<br>Surgical<br>data obtained from the<br>computer system<br>were<br>prospectively<br>collected from 51<br>patients (52<br>knees) undergoing<br>robotic-assisted<br>medial [...]"
          ],
          [
           "Comparison of Robotic-Assisted and Conventional Manual Implantation of a Primary Total Knee Arthroplasty",
           "This study was aimed to compare robotic-assisted implantation of a total<br>knee<br>arthroplasty<br>with<br>conventional<br>manual<br>implantation.<br>We<br>controlled,<br>randomized, and reviewed 72 patients for total<br>knee<br>arthroplasty assigned to<br>undergo<br>either<br>conventional manual<br>implantation<br>(excluding<br>navigation-<br>assisted implantation<br>cases) of a<br>Zimmer LPS prosthesis<br>(Zimmer, Warsaw,<br>Ind) (30<br>patients: group 1) or<br>robotic-assisted<br>implantation<br>of such<br>a<br>prosthesis (32<br>patients: group 2). The<br>femoral flexion [...]"
          ],
          [
           "Robotic technology in total knee arthroplasty: a systematic review.",
           "Robotic total knee arthroplasty (TKA) improves the accuracy of implant positioning and<br>reduces<br>outliers<br>in<br>achieving<br>the<br>planned<br>limb<br>alignment<br>compared to conventional jig-based TKA.Robotic TKA does not have a<br>learning<br>curve effect<br>for<br>achieving the<br>planned<br>implant<br>positioning.<br>The learning<br>curve for achieving operative times<br>comparable to<br>conventional jig-based<br>TKA is<br>7-20 robotic<br>TKA<br>cases.Cadaveric<br>studies have shown<br>robotic TKA is<br>associated with<br>reduced<br>iatrogenic injury to the<br>periarticular [...]"
          ],
          [
           "Improved joint-line restitution in unicompartmental knee arthroplasty using a robotic-assisted surgical technique",
           "PurposeJoint-line restitution is one objective of unicompartmental knee arthroplasty (UKA). However,<br>the<br>joint<br>line<br>is<br>often<br>lowered<br>when<br>resurfacing<br>femoral implants are used. The aim of this study was to compare the joint-<br>line<br>height in<br>UKA<br>performed by<br>robotic-<br>assisted<br>and<br>conventional<br>techniques.MethodsThis retrospective case–control study<br>compared<br>two matched<br>groups of<br>patients<br>receiving a<br>resurfacing UKA<br>between<br>2013 and 2016 by<br>either a robotic-assisted (n =<br>40) or<br>conventional (n = [...]"
          ],
          [
           "Robotic Total Knee Arthroplasty with a Cruciate-Retaining Implant: A 10-Year Follow-up Study",
           "BACKGROUND: This study compared clinical and radiological results between robotic total knee<br>arthroplasty<br>(TKA)<br>and<br>conventional<br>TKA<br>with<br>a<br>cruciate-<br>retaining implant at 10-year follow-up. The hypothesis was that<br>robotic TKA would<br>allow for<br>more<br>accurate leg<br>alignment<br>and<br>component<br>placement, and<br>thus enhance clinical and radiological<br>results and long-term<br>survival<br>rates.<br>METHODS: A total of<br>113 primary<br>TKAs<br>performed using a<br>cruciate-retaining<br>implant in 102<br>patients from 2004 to<br>2007 [...]"
          ],
          [
           "Technology and cost-effectiveness in knee arthroplasty: computer navigation and robotics.",
           "Our aim in this article is to describe the impact that navigation technology has had on the market<br>share<br>of<br>a<br>community<br>hospital<br>and,<br>specifically,<br>to<br>determine whether a high-volume surgeon using these technologies actually<br>costs<br>the<br>hospital<br>more than<br>other surgeons<br>at the<br>same hospital and<br>more<br>than national means. In addition, we develop a<br>comparable<br>cost-<br>effectiveness<br>model for<br>robotic technology<br>in<br>unicompartmental knee<br>arthroplasty to<br>demonstrate the potential<br>cost-<br>effectiveness at<br>the [...]"
          ],
          [
           "Comparison of robotic-assisted and manual implantation of a primary total hip replacement. A prospective study.",
           "BACKGROUND: Robotic-assisted total hip replacement has become a common method of implantation,<br>especially<br>in<br>Europe.<br>It<br>frequently<br>has<br>been<br>postulated<br>that robotic reaming would result in an improved clinical outcome due<br>to the better<br>fit of<br>the<br>prosthesis,<br>but that has<br>never<br>been<br>demonstrated in a<br>prospective study, to our knowledge. The<br>purpose of this study<br>was to<br>compare<br>robotic-assisted<br>implantation of a<br>total<br>hip<br>replacement with<br>conventional manual<br>implantation. METHODS: One<br>hundred [...]"
          ],
          [
           "Computer Assisted Knee Replacement",
           "Accurate alignment of knee implants is essential for the success of total knee replacement.<br>Although<br>mechanical<br>alignment<br>guides<br>have<br>been<br>designed<br>to<br>improve alignment accuracy, there are several fundamental<br>limitations of this<br>technology that<br>will<br>inhibit<br>additional<br>improvements.<br>Various<br>computer<br>assisted techniques have been<br>developed to examine the<br>potential to install<br>knee<br>implants more<br>accurately and<br>consistently than<br>can be<br>done with<br>mechanical<br>guides. For example,<br>computer [...]"
          ],
          [
           "Robotic‐assisted total knee arthroplasty may lead to improvement in quality‐of‐life measures: a 2‐year follow‐up of a prospective randomized trial",
           "PURPOSE: Despite reduction in radiological outliers in previous randomized<br>trials<br>comparing<br>robotic-<br>assisted<br>versus<br>conventional<br>total<br>knee<br>arthroplasty (TKA), no differences in short-term functional<br>outcomes<br>were observed.<br>The aim of<br>this study<br>was to<br>determine whether<br>there<br>was<br>improvement in functional outcomes and<br>quality-of-life<br>(QoL) measures<br>between robotic-<br>assisted and<br>conventional<br>TKA. METHODS: All 60<br>knees<br>(31<br>robotic-assisted; 29<br>conventional) from<br>a previous<br>randomized trial [...]"
          ],
          [
           "Robotics in Arthroplasty: A Comprehensive Review",
           "Robotic-assisted orthopedic surgery has been available clinically in some form for over 2<br>decades,<br>claiming<br>to<br>improve<br>total<br>joint<br>arthroplasty<br>by<br>enhancing the surgeon's ability to reproduce alignment and therefore<br>better<br>restore<br>normal<br>kinematics. Various<br>current<br>systems<br>include a robotic<br>arm,<br>robotic-guided cutting jigs, and robotic<br>milling<br>systems with a<br>diversity of<br>different navigation<br>strategies<br>using<br>active, semiactive, or<br>passive<br>control systems.<br>Semiactive<br>systems have [...]"
          ],
          [
           "Technique and first clinical results of robot-assisted total knee replacement",
           "Total knee replacement (TKR) is a common procedure for treatment of severe gonarthrosis, but<br>the<br>outcome<br>may<br>be<br>unsatisfactory<br>due<br>to<br>primary<br>malalignment of the prosthetic components. In order to improve precision<br>and<br>accuracy of<br>this<br>surgical<br>procedure, a<br>commercial<br>robotic<br>surgical system<br>(CASPAR) has been adapted to assist the surgeon<br>in the<br>preoperative<br>planning<br>and<br>intraoperative execution<br>of TKR. So<br>far, 70<br>patients with idiopathic<br>gonarthrosis were<br>successfully<br>treated with [...]"
          ],
          [
           "Obesity has no effect on outcomes following unicompartmental knee arthroplasty",
           "PURPOSE: Although obesity has historically been described as a contraindication to UKA,<br>improved<br>outcomes<br>with<br>modern<br>UKA<br>implant<br>designs<br>have<br>challenged this perception. The purpose of this study was to assess the<br>influence<br>of obesity on<br>the<br>outcomes of<br>UKA with<br>a robotic-<br>assisted<br>system at<br>a minimum follow-up of 24 months with the<br>hypothesis that<br>obesity has no<br>effect on<br>robotic-assisted<br>UKA<br>outcomes. METHODS:<br>There were 746<br>medial<br>robotic-assisted UKAs<br>(672 patients) with<br>a mean age of 64<br>years [...]"
          ],
          [
           "Adoption of Robotic vs Fluoroscopic Guidance in Total Hip Arthroplasty: Is Acetabular Positioning Improved in the Learning Curve?",
           "BACKGROUND: Acetabulum positioning affects dislocation rates, component impingement, bearing surface<br>wear<br>rates,<br>and<br>need<br>for<br>revision<br>surgery.<br>Novel<br>techniques purport to improve the accuracy and precision of acetabular<br>component<br>position, but<br>may<br>have a<br>significant<br>learning<br>curve. Our aim<br>was to<br>assess whether adopting robotic or fluoroscopic<br>techniques<br>improve<br>acetabulum<br>positioning<br>compared to manual<br>total hip<br>arthroplasty (THA)<br>during the<br>learning curve. METHODS:<br>Three types of<br>THAs [...]"
          ],
          [
           "Robotic Guidance Does Not Improve Component Position or Short-Term Outcome in Medial Unicompartmental Knee Arthroplasty",
           "We performed a retrospective review in a matched group of patients on the use of robotic-<br>assisted<br>UKA<br>implantation<br>versus<br>UKA<br>performed<br>using<br>standard<br>operative techniques to assess differences between procedures.<br>While<br>both<br>techniques resulted in<br>reproducible<br>and<br>excellent<br>outcomes with<br>low<br>complication rates, the results demonstrate<br>little to<br>no<br>clinical or radiographic<br>difference in outcomes<br>between<br>cohorts.<br>Average operative<br>time<br>differed significantly<br>with, and<br>average of<br>20 minutes greater [...]"
          ],
          [
           "A Comparison between Robotic-assisted and Manual Implantation of Cementless Total Hip Arthroplasty",
           "BackgroundThe benefits of robotic techniques for implanting femoral<br>components<br>during<br>THA<br>are<br>still<br>controversial.Questions/PurposesThe<br>purpose<br>of<br>this study was to prospectively compare the<br>results and<br>complications<br>of<br>robotic-<br>assisted and<br>hand-rasping stem<br>implantation<br>techniques.MethodThe<br>minimum followup was 5<br>years (mean, 67<br>months; range,<br>60–85<br>months). One<br>hundred forty-<br>six primary THAs on 130<br>patients were<br>included in this<br>study.<br>Robot-assisted<br>primary THA was<br>performed on<br>75 hips and [...]"
          ],
          [
           "Robotic Arm‐assisted UKA Improves Tibial Component Alignment: A Pilot Study",
           "The alignment of the components of unicompartmental knee arthroplasty (UKA) reportedly<br>influences<br>outcomes<br>and<br>durability.<br>A<br>novel<br>robotic<br>arm<br>technology has been developed with the expectation that it could<br>improve the<br>accuracy of<br>bone<br>preparation in UKA.<br>During<br>the study<br>period, we<br>compared<br>the postoperative radiographic alignment<br>of the tibial<br>component with<br>the<br>preoperatively planned<br>position in 31<br>knees in 31<br>consecutive<br>patients<br>undergoing UKA using<br>robotic arm-<br>assisted bone<br>preparation [...]"
          ],
          [
           "Comparison of Robotic-assisted and Conventional Acetabular Cup Placement in THA: A Matched-pair Controlled Study",
           "BackgroundImproper acetabular component orientation in THA has been<br>associated<br>with<br>increased<br>dislocation<br>rates,<br>component<br>impingement,<br>bearing<br>surface wear, and a greater likelihood of<br>revision. Therefore,<br>any<br>reasonable steps<br>to improve<br>acetabular<br>component<br>orientation should be<br>considered<br>and<br>explored.Questions/purposesWe therefore<br>sought<br>to compare THA with<br>a robotic-<br>assisted<br>posterior approach<br>with manual<br>alignment<br>techniques through<br>a posterior approach,<br>using a<br>matched-pair [...]"
          ]
         ],
         "hovertemplate": "Topic=Robotic Arthroplasty<br>x=%{x}<br>y=%{y}<br>title=%{customdata[0]}<br>abstract=%{customdata[1]}<extra></extra>",
         "legendgroup": "Robotic Arthroplasty",
         "marker": {
          "color": "#e377c2",
          "size": 5,
          "symbol": "circle"
         },
         "mode": "markers",
         "name": "Robotic Arthroplasty",
         "orientation": "v",
         "showlegend": true,
         "type": "scatter",
         "x": [
          -2.4387186,
          -2.6108596,
          -2.7950418,
          -2.5886264,
          -2.4936802,
          -2.7232227,
          -2.6746523,
          -2.324031,
          -2.289591,
          -2.560015,
          -2.5896606,
          -2.30957,
          -2.4552467,
          -2.5200562,
          -2.8265967,
          -2.55258,
          -2.5918074,
          -2.736188,
          -2.6827524,
          -2.7048357,
          -2.607455,
          -2.6979983,
          -2.829405,
          -2.6317847,
          -2.3822234,
          -2.242603,
          -2.6830676,
          -2.3600771,
          -2.2373228,
          -2.3644178,
          -2.8078275,
          -2.541888,
          -2.4491205,
          -2.823256,
          -2.6229765,
          -2.2500348,
          -2.4967072,
          -2.2751136,
          -2.6593862,
          -2.2555163,
          -2.390437,
          -2.7911026,
          -2.5348325,
          -2.7807553,
          -2.5563028,
          -2.8926494,
          -2.5110989
         ],
         "xaxis": "x",
         "y": [
          -6.6353073,
          -6.2538114,
          -5.8747077,
          -6.2844706,
          -6.7726717,
          -5.891956,
          -6.0356455,
          -6.501894,
          -6.5704036,
          -6.008905,
          -6.3344755,
          -6.5772486,
          -6.7203755,
          -6.8136473,
          -5.8428454,
          -6.360028,
          -6.4106717,
          -5.9473624,
          -5.933687,
          -6.0121284,
          -6.2773275,
          -5.9646564,
          -5.8100634,
          -6.3065166,
          -6.317724,
          -6.548354,
          -6.02906,
          -6.395306,
          -6.363041,
          -6.60811,
          -5.8319144,
          -6.568636,
          -6.410637,
          -5.8334374,
          -6.367478,
          -6.341399,
          -6.6175656,
          -6.4221582,
          -6.2776756,
          -6.494916,
          -6.4003797,
          -5.864199,
          -6.806941,
          -5.9061537,
          -6.692203,
          -5.916069,
          -6.8160257
         ],
         "yaxis": "y"
        },
        {
         "customdata": [
          [
           "Providing streaming joins as a service at Facebook",
           "Stream processing applications reduce the latency of batch data pipelines and enable engineers<br>to<br>quickly<br>identify<br>production<br>issues.<br>Many<br>times,<br>a<br>service can log data to distinct streams, even if they relate to the same<br>real-<br>world event<br>(e.g., a<br>search on<br>Facebook's<br>search<br>bar).<br>Furthermore,<br>the logging of related events can appear on the<br>server side<br>with different<br>delay,<br>causing one stream<br>to be<br>significantly behind<br>the<br>other in terms<br>of logged event times for a<br>given log<br>entry. To be able [...]"
          ],
          [
           "AWStream",
           "The emerging class of wide-area streaming analytics faces the challenge of scarce and variable<br>WAN<br>bandwidth.<br>Non-<br>adaptive<br>applications<br>built<br>with<br>TCP<br>or UDP suffer from increased latency or degraded accuracy. State-of-<br>the-art<br>approaches<br>that adapt<br>to network<br>changes require<br>developer<br>writing<br>sub-<br>optimal manual policies or are limited to<br>application-<br>specific<br>optimizations. We<br>present AWStream,<br>a stream processing<br>system<br>that<br>simultaneously<br>achieves low latency<br>and high<br>accuracy in the<br>wide area, [...]"
          ],
          [
           "TCEP",
           "Operator placement has a profound impact on the performance of a distributed complex event processing<br>system<br>(DCEP).<br>Since<br>the<br>behavior<br>of<br>a<br>placement<br>mechanism strongly depends on its environment; a single placement mechanism<br>is often<br>not<br>enough<br>to<br>fulfill<br>stringent<br>performance<br>requirements under<br>environmental changes. In this paper, we show how DCEP<br>can benefit<br>from<br>the<br>adaptive use<br>of multiple<br>placement<br>mechanisms. We<br>propose Tcep, a DCEP<br>system to integrate multiple<br>placement<br>mechanisms. [...]"
          ],
          [
           "Decentralized self-adaptation for elastic Data Stream Processing",
           "Data Stream Processing (DSP) applications are widely used to develop new pervasive services, which<br>require<br>to<br>seamlessly<br>process<br>huge<br>amounts<br>of<br>data<br>in a near real-time fashion. To keep up with the high volume of daily<br>produced data,<br>these<br>applications<br>need to<br>dynamically<br>scale<br>their<br>execution on<br>multiple computing nodes, so to process the<br>incoming data flow<br>in<br>parallel. In this paper,<br>we present<br>a<br>hierarchical<br>distributed<br>architecture for the<br>autonomous control<br>of elastic DSP<br>applications.<br>It [...]"
          ],
          [
           "Toward high-performance distributed stream processing via approximate fault tolerance",
           "Fault tolerance is critical for distributed stream processing systems, yet<br>achieving<br>error-<br>free<br>fault<br>tolerance<br>often<br>incurs<br>substantial<br>performance overhead. We present AF-Stream , a distributed<br>stream<br>processing<br>system<br>that<br>addresses<br>the trade-off<br>between<br>performance and accuracy<br>in fault tolerance. AF-Stream builds on<br>a notion<br>called<br>approximate<br>fault<br>tolerance<br>, whose idea is to<br>mitigate backup<br>overhead by adaptively<br>issuing backups, while<br>ensuring that<br>the<br>errors upon [...]"
          ],
          [
           "Latency Aware Elastic Switching-based Stream Processing Over Compressed Data Streams",
           "Elastic scaling of event stream processing systems has gained significant attention recently due<br>to<br>the<br>prevalence<br>of<br>cloud<br>computing<br>technologies.<br>We<br>investigate on the complexities associated with elastic scaling of<br>an<br>event<br>processing system in<br>a<br>private/public<br>cloud<br>scenario. We develop<br>an<br>Elastic Switching Mechanism (ESM) which reduces<br>the<br>overall<br>average latency of<br>event<br>processing jobs by<br>significant<br>amount considering the cost<br>of<br>operating the system. ESM<br>is<br>augmented with<br>adaptive [...]"
          ],
          [
           "Delving into internet streaming media delivery",
           "Modern Internet streaming services have utilized various techniques to improve the<br>quality<br>of<br>streaming<br>media<br>delivery.<br>Despite<br>the<br>characterization<br>of media access patterns and user behaviors in many<br>measurement<br>studies, few<br>studies have<br>focused<br>on the<br>streaming<br>techniques<br>themselves, particularly<br>on the quality of streaming<br>experiences<br>they offer end<br>users and on the<br>resources of<br>the media<br>systems that<br>they consume.<br>In order to gain insights<br>into<br>current<br>streaming services<br>techniques and thus [...]"
          ],
          [
           "Dynamic Resource Management In a Massively Parallel Stream Processing Engine",
           "The emerging interest in Massively Parallel Stream Processing Engines (MPSPEs), which are able<br>to<br>process<br>long-<br>standing<br>computations<br>over<br>data<br>streams<br>with ever-growing velocity at a large-scale cluster, calls for<br>efficient<br>dynamic<br>resource<br>management<br>techniques to avoid<br>any waste<br>of<br>resources and/or<br>excessive processing latency. In this<br>paper, we<br>propose an<br>approach to<br>integrate dynamic<br>resource management<br>with passive<br>fault-<br>tolerance mechanisms<br>in a MPSPE so<br>that we can<br>harvest [...]"
          ],
          [
           "Achieving self-aware parallelism in stream programs",
           "The age of big data open the door to a new approach in data exploration and utilization. With<br>the<br>increasing<br>complexities<br>and<br>dynamics<br>of<br>modern<br>IT<br>systems and services, it has become a challenge to effectively<br>exploit<br>parallelism on<br>multicore platforms<br>in<br>computing systems<br>that<br>are<br>heterogeneous,<br>dynamic and decentralised. Self-aware<br>software is<br>a response to<br>these demands in dealing<br>with<br>distributed<br>applications in<br>changing<br>environments. It is<br>a closed-loop<br>system with a<br>series of<br>optimization [...]"
          ],
          [
           "Dynamic Load Balancing Techniques for Distributed Complex Event Processing Systems",
           "Applying real-time, cost-effective Complex Event processing (CEP) in the cloud has been<br>an<br>important<br>goal<br>in<br>recent<br>years.<br>Distributed<br>Stream<br>Processing Systems (DSPS) have been widely adopted by major<br>computing<br>companies such as<br>Facebook<br>and<br>Twitter for<br>performing<br>scalable event<br>processing<br>in streaming data. However,<br>dynamically balancing<br>the load of the<br>DSPS’ components<br>can be<br>particularly<br>challenging due<br>to the high<br>volume of data,<br>the<br>components’ state management<br>needs, and the [...]"
          ],
          [
           "JetStream: Enabling high throughput live event streaming on multi-site clouds",
           "Scientific and commercial applications operate nowadays on tens of cloud datacenters<br>around<br>the<br>globe,<br>following<br>similar<br>patterns:<br>they<br>aggregate<br>monitoring or sensor data, assess the QoS or run global data<br>mining queries<br>based<br>on inter-<br>site event<br>stream<br>processing. Enabling<br>fast<br>data transfers<br>across geographically distributed<br>sites allows<br>such<br>applications to manage<br>the continuous<br>streams of<br>events in real time and<br>quickly<br>react to changes.<br>However,<br>traditional<br>event<br>processing engines [...]"
          ],
          [
           "Real-time, load-adaptive processing of continuous queries over data streams",
           "We introduce a new type of query, called a real-time continuous query (RCQ) that captures the<br>real-<br>time<br>requirements<br>of<br>processing<br>data<br>streams.<br>We<br>develop techniques to efficiently process the RCQs in the presence<br>of<br>fluctuating query<br>load and data<br>load. We<br>show that<br>Rate-<br>Monotonic<br>scheduling is<br>applicable to this problem domain, and<br>show how<br>to make this method<br>adaptive to<br>varying load<br>conditions. When a<br>set of<br>queries<br>becomes unschedulable<br>due to load<br>variations, we<br>perform controlled [...]"
          ],
          [
           "Dynamic Load Balancing for Ordered Data-Parallel Regions in Distributed Streaming Systems",
           "Distributed stream computing has emerged as a technology that can satisfy the low latency,<br>high<br>throughput<br>demands<br>of<br>big<br>data.<br>Stream<br>computing<br>naturally exposes pipeline, task and data parallelism. Meeting the<br>throughput<br>and latency<br>demands of<br>online big<br>data<br>requires<br>exploiting<br>such<br>parallelism across heterogeneous clusters. When a<br>single job is<br>running on a<br>homogeneous<br>cluster, load<br>balancing is<br>important.<br>When multiple<br>jobs are<br>running across a<br>heterogeneous cluster,<br>load balancing<br>becomes [...]"
          ],
          [
           "TimeStream",
           "TimeStream is a distributed system designed specifically for low-latency continuous processing of big<br>streaming<br>data<br>on<br>a<br>large<br>cluster<br>of<br>commodity<br>machines. The unique characteristics of this emerging application domain have<br>led to<br>a<br>significantly<br>different<br>design<br>from the<br>popular<br>MapReduce-style<br>batch data processing. In particular, we advocate a<br>powerful<br>new<br>abstraction called<br>resilient<br>substitution<br>that caters<br>to the<br>specific needs in this<br>new computation model to<br>handle failure<br>recovery<br>and [...]"
          ],
          [
           "Adaptive data acquisition strategies for energy-efficient, smartphone-based, continuous processing of sensor streams",
           "There is a growing interest in applications that utilize continuous sensing of individual activity<br>or<br>context,<br>via<br>sensors<br>embedded<br>or<br>associated<br>with<br>personal mobile devices (e.g., smartphones). Reducing the energy overheads<br>of<br>sensor<br>data<br>acquisition and<br>processing<br>is<br>essential to ensure<br>the<br>successful continuous operation of such<br>applications,<br>especially on<br>battery-<br>limited mobile devices.<br>To achieve<br>this<br>goal, this paper presents<br>a<br>framework, called<br>ACQUA, for<br>‘acquisition-cost’ [...]"
          ],
          [
           "Toward Massive Query Optimization in Large-Scale Distributed Stream Systems",
           "Existing distributed stream systems adopt a tightly-coupled communication paradigm and focus<br>on<br>fine-<br>tuning<br>of<br>operator<br>placements<br>to<br>achieve<br>communication efficiency. This kind of approach is hard to scale (both to<br>the<br>nodes in the<br>network<br>and the<br>users). In<br>this paper,<br>we<br>propose a<br>fundamentally different approach and present the design<br>of a<br>middleware for<br>optimizing<br>massive<br>queries. Our approach<br>takes the<br>advantages<br>of existing<br>Publish/Subscribe systems<br>(Pub/Sub) to<br>achieve [...]"
          ],
          [
           "A Native and Adaptive Approach for Unified Processing of Linked Streams and Linked Data",
           "In this paper we address the problem of scalable, native and adaptive query processing over<br>Linked<br>Stream<br>Data<br>integrated<br>with<br>Linked<br>Data.<br>Linked<br>Stream Data consists of data generated by stream sources, e.g.,<br>sensors, enriched<br>with<br>semantic<br>descriptions,<br>following<br>the<br>standards<br>proposed for<br>Linked Data. This enables the integration<br>of stream data with<br>Linked<br>Data<br>collections and facilitates<br>a wide range<br>of<br>novel<br>applications. Currently<br>available systems<br>use a “black box”<br>approach [...]"
          ],
          [
           "Self-adaptive processing graph with operator fission for elastic stream processing",
           "Nowadays, information generated by the Internet interactions is growing exponentially, creating massive<br>and<br>continuous<br>flows<br>of<br>events<br>from<br>the<br>most<br>diverse sources. These interactions contain valuable information for domains such<br>as<br>government,<br>commerce,<br>and<br>banks,<br>among<br>others.<br>Extracting<br>information in near real-time from such data requires<br>powerful<br>processing tools to<br>cope with the<br>high-<br>velocity and<br>the high-<br>volume<br>stream of events.<br>Specially designed<br>distributed processing<br>engines build a [...]"
          ],
          [
           "Adaptive resource management for P2P live streaming systems",
           "Peer-to-Peer (P2P) has become a popular live streaming delivery technology owing to its scalability<br>and<br>low<br>cost.<br>P2P<br>streaming<br>systems<br>often<br>employ<br>multi-channels to deliver streaming to users simultaneously, which leads to<br>a<br>great<br>challenge of<br>allocating<br>server<br>resources among<br>these<br>channels<br>appropriately. Most existing P2P systems resort to<br>over-<br>allocating<br>server resources to<br>different<br>channels,<br>which results in low-<br>efficiency<br>and high-<br>cost. To allocate server<br>resources<br>to different<br>channels [...]"
          ],
          [
           "Self-tuning query mesh for adaptive multi-route query processing",
           "In real-life applications, different subsets of data may have distinct statistical<br>properties,<br>e.g.,<br>various<br>websites<br>may<br>have<br>diverse<br>visitation<br>rates, different categories of stocks may have dissimilar price<br>fluctuation<br>patterns.<br>For such<br>applications,<br>it can<br>be<br>fruitful to<br>eliminate the<br>commonly made single execution plan<br>assumption and instead<br>execute a<br>query using<br>several plans, each<br>optimally<br>serving<br>a subset of<br>data with<br>particular<br>statistical properties. Furthermore,<br>in [...]"
          ],
          [
           "On the source switching problem of Peer-to-Peer streaming",
           "Peer-to-Peer(P2P) streaming has been proved a popular and efficient paradigm of Internet media<br>streaming.<br>In<br>some<br>applications,<br>such<br>as<br>an<br>Internet<br>video distance education system, there are multiple media sources which<br>work<br>alternately.<br>A<br>fundamental problem in<br>designing<br>such<br>kind of<br>P2P<br>streaming system is how to achieve fast source switching<br>so that<br>the startup<br>delay of<br>the new source can be<br>minimized. In<br>this<br>paper, we<br>propose an<br>efficient solution to this problem.<br>We model<br>the source<br>switch [...]"
          ],
          [
           "A Game-Theoretic Approach for Elastic Distributed Data Stream Processing",
           "Distributed data stream processing applications are structured as graphs of interconnected modules able<br>to<br>ingest<br>high-<br>speed<br>data<br>and<br>to<br>transform<br>them in order to generate results of interest. Elasticity is one of the most<br>appealing<br>features<br>of<br>stream<br>processing<br>applications.<br>It<br>makes it<br>possible to scale up/down the allocated computing resources<br>on demand in<br>response<br>to<br>fluctuations of<br>the workload.<br>On clouds,<br>this<br>represents a<br>necessary feature to keep the operating<br>cost at [...]"
          ],
          [
           "P-Scheduler",
           "With ever-accelerating data creation rates in Big Data applications, there is a need for efficient<br>stream<br>processing<br>engines.<br>Apache<br>Storm<br>has<br>been<br>of<br>interest in both academia and industry because of its real-time,<br>distributed,<br>scalable and<br>reliable framework<br>for<br>stream<br>processing. In<br>this<br>paper, we<br>propose an adaptive hierarchical<br>scheduler for the Storm<br>framework, to<br>allocate the resources<br>more<br>efficiently<br>and improve<br>performance.<br>In our method,<br>we<br>consider the data transfer rate<br>and [...]"
          ],
          [
           "A DASH-based Free Viewpoint Video Streaming System",
           "We present an interactive free-viewpoint video (FVV) streaming system that is based on the<br>dynamic<br>adaptive<br>streaming<br>over<br>HTTP<br>(DASH)<br>standard.<br>The<br>system uses standard HTTP Web servers to achieve scalability with a<br>large<br>number of users<br>and performs<br>view<br>synthesis<br>and rate<br>adaptation at<br>the<br>client-side to achieve high response time. We<br>propose a<br>rate adaptation logic<br>based on<br>sampled rate-<br>distortion<br>(R-D) values,<br>which relate<br>the<br>distortion of synthesized<br>view to the bit<br>rates of the texture [...]"
          ],
          [
           "E-AHRW: An Energy-Efficient Adaptive Hash Scheduler for Stream Processing on Multi-core Servers",
           "We study a streaming network application -- video transcoding to be executed on a multi-core server. It<br>is<br>important<br>for<br>the<br>scheduler<br>to<br>minimize<br>the<br>total processing time and preserve good video quality in an energy-efficient<br>manner.<br>However,<br>the<br>performance<br>of<br>existing<br>scheduling schemes<br>is<br>largely limited by ineffective use of the multi-<br>core<br>architecture<br>characteristic<br>and<br>undifferentiated<br>transcoding cost in<br>terms of energy<br>consumption.<br>In this paper, we<br>identify<br>three key factors<br>that [...]"
          ],
          [
           "Drizzle",
           "Large scale streaming systems aim to provide high throughput and low latency. They are often used<br>to<br>run<br>mission-<br>critical<br>applications,<br>and<br>must<br>be<br>available 24x7. Thus such systems need to adapt to failures and inherent<br>changes<br>in<br>workloads, with<br>minimal<br>impact on<br>latency<br>and<br>throughput.<br>Unfortunately, existing solutions require operators to<br>choose<br>between<br>achieving low latency<br>during<br>normal operation<br>and<br>incurring<br>minimal impact<br>during adaptation. Continuous<br>operator<br>streaming systems,<br>such as [...]"
          ],
          [
           "Elastic-PPQ: A two-level autonomic system for spatial preference query processing over dynamic data streams",
           "Paradigms like Internet of Things and the most recent Internet of Everything are shifting<br>the<br>attention<br>towards<br>systems<br>able<br>to<br>process<br>unbounded<br>sequences of items in the form of data streams. In the real world,<br>data<br>streams may be<br>highly<br>variable,<br>exhibiting<br>burstiness<br>in the<br>arrival rate and<br>non-stationarities such as trends and<br>cyclic<br>behaviors. Furthermore,<br>input<br>items may be not<br>ordered<br>according to<br>timestamps. This<br>raises the<br>complexity of stream<br>processing<br>systems, which must [...]"
          ],
          [
           "Delay Management in Mesh-Based P2P Live Streaming Using a Three-Stage Peer Selection Strategy",
           "Peer-to-peer (P2P) live streaming systems have gained popularity due to the self-scalability property<br>of<br>the<br>P2P<br>overlay<br>networks.<br>In<br>P2P<br>live<br>streaming, peers retrieve stream content from other peers in the system.<br>Therefore,<br>peer<br>selection<br>strategy is a<br>fundamental<br>element to<br>build<br>an<br>overlay which manages the playback delay and startup<br>delay<br>experienced by<br>the peers. In<br>this paper, we<br>propose a peer<br>selection<br>strategy which<br>manages<br>to build a minimum delay<br>overlay<br>using three different<br>stages of [...]"
          ],
          [
           "QoE-driven optimization for cloud-assisted DASH-based scalable interactive multiview video streaming over wireless network",
           "In interactive multiview video streaming (IMVS), the viewers can periodically switch viewpoints. If the<br>captured<br>view<br>is<br>not<br>available<br>at<br>the<br>desired<br>viewpoint, virtual views can be rendered from neighboring coded views using<br>view<br>synthesis<br>techniques.<br>Dynamic<br>adaptive<br>streaming<br>over HTTP<br>(DASH) is<br>a new standard that allows to adjust the quality of<br>video<br>streaming based<br>on the network<br>condition.<br>In this<br>paper, an<br>improved DASH-based<br>IMVS<br>framework is proposed. It has [...]"
          ],
          [
           "Teddies: Trained Eddies for Reactive Stream Processing",
           "In this paper, we present an adaptive stream query processor, Teddies, that combines the key advantages<br>of<br>the<br>Eddies<br>system<br>with<br>the<br>scalability<br>of<br>the more traditional dataflow model. In particular, we introduce the notion<br>of<br>adaptive<br>packetization of<br>tuples<br>to<br>overcome the<br>large<br>memory<br>requirements of the Eddies system. The Teddies optimizer<br>groups<br>tuples with the<br>same history into<br>data<br>packets<br>which are then<br>scheduled on a<br>per<br>packet basis through the query<br>tree.<br>Corresponding to [...]"
          ],
          [
           "Adaptive segment-based patching scheme for video streaming delivery system",
           "In on-demand video streaming system, periodic broadcast technique scheme has been shown to be very<br>effective<br>for<br>serving<br>a<br>popular<br>video<br>in<br>reducing<br>the demand on server bandwidth. On the contrary, reactive server<br>transmission approach is<br>more<br>suitable for<br>the<br>video that<br>is not<br>popular<br>enough.<br>However, the level of demand on a video may<br>change by time. In this<br>paper, we<br>propose a segment-<br>based<br>patching scheme<br>which<br>allocates<br>adaptively<br>transmission resources<br>according to the varying<br>client [...]"
          ],
          [
           "Liquid Stream Processing Across Web Browsers and Web Servers",
           "The recently proposed API definition WebRTC introduced peer-to-peer real time communication<br>between<br>Web<br>browsers,<br>allowing<br>streaming<br>systems<br>to<br>be<br>deployed on browsers in addition to traditional server-side<br>execution<br>environments. While<br>streaming<br>applications<br>can be adapted<br>to run<br>on<br>Web<br>browsers, it remains difficult to deal with<br>temporary<br>disconnections, energy<br>consumption on<br>mobile devices<br>and a potentially<br>very large<br>number<br>of<br>heterogeneous peers that<br>join and<br>leave the execution<br>environment [...]"
          ],
          [
           "Adaptive interface selection over cloud-based split-layer video streaming via multi-wireless networks",
           "As mobile devices such as tablet PCs and smartphones proliferate, the online video consumption<br>over<br>a<br>wireless<br>network<br>has<br>been<br>accelerated.<br>From<br>this phenomenon, there are several challenges to provide the video<br>streaming<br>service<br>more<br>efficiently and<br>stably in<br>the<br>heterogeneous<br>mobile<br>environment. In order to guarantee the QoS of real-<br>time HD video<br>services,<br>the<br>steady and reliable<br>wireless mesh<br>is<br>necessary. Furthermore,<br>the video<br>service providers have to<br>maintain the [...]"
          ],
          [
           "Adaptable system based on Scalable Video Coding for high-quality video service",
           "Content adaptation to a heterogeneous environment like the Internet is a key process for improving<br>the<br>perceived<br>quality<br>of<br>the<br>user.<br>This<br>paper<br>presents an adaptive streaming system using Scalable Video Coding (SVC)<br>technology.<br>Using feedback<br>information<br>from<br>clients<br>about<br>the<br>transmission<br>status, the server is able to select the most<br>suitable combination<br>of SVC layers for<br>the<br>available<br>bandwidth. The<br>estimation of<br>the<br>available<br>bandwidth is carried out with<br>non-intrusive methods,<br>based on [...]"
          ],
          [
           "Adaptive rate stream processing for smart grid applications on clouds",
           "Pervasive smart meters that continuously measure power usage by consumers within a smart<br>(power)<br>grid<br>are<br>providing<br>utilities<br>and<br>power<br>systems<br>researchers with unprecedented volumes of information through streams<br>that need to<br>be<br>processed<br>and analyzed<br>in near<br>realtime. We<br>introduce<br>the use of<br>Cloud platforms to perform scalable, latency<br>sensitive<br>stream<br>processing for<br>eEngineering<br>applications in<br>the smart grid<br>domain. One<br>unique aspect of<br>our work is the use<br>of adaptive<br>rate control<br>to throttle [...]"
          ],
          [
           "Adaptive streaming of interactive free viewpoint videos to heterogeneous clients",
           "Recent advances in video capturing and rendering technologies have paved the way for<br>new<br>video<br>streaming<br>applications.<br>Free-<br>viewpoint<br>video<br>(FVV)<br>streaming is one such application where users are able to<br>interact with<br>the<br>scene by<br>navigating to<br>different<br>viewpoints. Free-<br>viewpoint<br>videos are<br>composed of multiple streams<br>representing the<br>captured scene<br>and its<br>geometry from<br>different vantage<br>points. Rendering non-<br>captured<br>views at the<br>client<br>requires transmitting<br>multiple views<br>with<br>associated [...]"
          ],
          [
           "Adaptive Stream Processing using Dynamic Batch Sizing",
           "The need for real-time processing of \"big data\" has led to the development of frameworks<br>for<br>distributed<br>stream<br>processing<br>in<br>clusters.<br>It<br>is<br>important for such frameworks to be robust against variable operating<br>conditions<br>such as server<br>failures,<br>changes in<br>data<br>ingestion<br>rates,<br>and<br>workload characteristics. To provide fault tolerance<br>and efficient<br>stream processing<br>at scale,<br>recent stream<br>processing<br>frameworks<br>have<br>proposed to<br>treat streaming workloads as a<br>series of batch<br>jobs on small batches<br>of [...]"
          ],
          [
           "QoS4IVSaaS: a QoS management framework for intelligent video surveillance as a service",
           "Quality of service (QoS) is critical for real-time intelligent video surveillance as a<br>service<br>(IVSaaS)<br>platform,<br>which<br>is<br>both<br>computation<br>intensive<br>and data intensive by nature. However, there is scarce work on<br>a QoS<br>framework for<br>IVSaaS platform.<br>In this<br>paper,<br>we<br>propose QoS for<br>intelligent<br>video surveillance as a service, a QoS<br>framework to<br>make computing<br>resources highly<br>available. In<br>the<br>framework,<br>multiple metrics such<br>as throughput,<br>loads of<br>CPU/GPU, memory and IO<br>are taken into<br>account [...]"
          ],
          [
           "A Quality-Aware Voice Streaming System for Wireless Sensor Networks",
           "Recent years have witnessed the pilot deployments of audio or low-rate video wireless sensor<br>networks<br>for<br>a<br>class<br>of<br>mission-<br>critical<br>applications<br>including search-and-rescue, security surveillance, and disaster<br>management. In<br>this<br>article,<br>we report<br>the<br>design and<br>implementation<br>of Quality-aware<br>Voice Streaming (QVS) for wireless<br>sensor networks. QVS is<br>built<br>upon SenEar,<br>a new<br>sensor<br>hardware platform we<br>developed for<br>high-bandwidth wireless<br>audio<br>communication. QVS comprises<br>several<br>novel [...]"
          ],
          [
           "Massively-parallel stream processing under QoS constraints with Nephele",
           "Today, a growing number of commodity devices, like mobile phones or smart meters, is equipped<br>with<br>rich<br>sensors<br>and<br>capable<br>of<br>producing<br>continuous<br>data streams. The sheer amount of these devices and the resulting<br>overall data<br>volumes<br>of the<br>streams<br>raise new<br>challenges<br>with respect<br>to the<br>scalability of existing stream processing<br>systems. At the same<br>time,<br>massively-<br>parallel data<br>processing<br>systems like<br>MapReduce have proven<br>that they<br>scale to large<br>numbers of nodes and<br>efficiently<br>organize [...]"
          ],
          [
           "Input-adaptive parallel sparse fast fourier transform for stream processing",
           "Fast Fourier Transform (FFT) is frequently invoked in stream processing, e.g., calculating<br>the<br>spectral<br>representation<br>of<br>audio/video<br>frames,<br>and<br>in<br>many cases the inputs are sparse, i.e., most of the inputs'<br>Fourier<br>coefficients being<br>zero. Many sparse<br>FFT<br>algorithms have<br>been<br>proposed to<br>improve<br>FFT's efficiency when inputs are<br>known to be<br>sparse. However, like<br>their \"dense\"<br>counterparts,<br>existing sparse<br>FFT<br>implementations are<br>input oblivious<br>in the<br>sense that how<br>the algorithms work is [...]"
          ],
          [
           "AdaptStream",
           "Stream-based systems are frequently subject to changes in their operational environments<br>due<br>to<br>fluctuations<br>in<br>the<br>available<br>computation<br>and<br>communication resources. Dynamic adaptation is a mechanism to improve<br>the<br>fitness of<br>such<br>systems.<br>However,<br>adaptation can block<br>one or more<br>streams<br>thus inadvertently affecting the timeliness<br>properties<br>of streams.<br>This<br>paper describes<br>AdaptStream,<br>an adaptation framework<br>that provides<br>timeliness<br>support for stream-<br>based<br>adaptations. We<br>introduce [...]"
          ],
          [
           "Fast Heuristics for Near-Optimal Task Allocation in Data Stream Processing over Clusters",
           "We study provisioning and job reconfiguration techniques for adapting to execution environment<br>changes<br>when<br>processing<br>data<br>streams<br>on<br>cluster-<br>based<br>deployments. By monitoring the performance of an executing job, we<br>identify<br>computation<br>and<br>communication<br>bottlenecks. In<br>such<br>cases we<br>reconfigure<br>the job by reallocating its tasks to minimize<br>the<br>communication cost.<br>Our work<br>targets data-<br>intensive applications<br>where<br>the inter-node<br>transfer<br>latency is significant. We<br>aim to<br>minimize the [...]"
          ],
          [
           "Avoiding class warfare: managing continuous queries with differentiated classes of service",
           "Data stream management systems (DSMSs) offer the most effective solution for processing<br>data<br>streams<br>by<br>efficiently<br>executing<br>continuous<br>queries<br>(CQs)<br>over the incoming data. CQs inherently have different levels<br>of<br>criticality and<br>hence<br>different levels<br>of expected<br>quality of<br>service (QoS)<br>and<br>quality of data (QoD). Adhering to such<br>expected<br>QoS/QoD metrics is<br>even more<br>important in cases<br>of multi-tenant<br>data stream<br>management<br>services. In<br>this work, we<br>propose DILoS,<br>a framework that,<br>through [...]"
          ],
          [
           "MCEP",
           "With the proliferation of mobile devices and sensors, complex event proceesing (CEP)<br>is<br>becoming<br>increasingly<br>important<br>to<br>scalably<br>detect<br>situations<br>in real time. Current CEP systems are not capable of<br>dealing<br>efficiently with<br>highly dynamic<br>mobile<br>consumers<br>whose interests<br>change<br>with their<br>location. We introduce the<br>distributed mobile<br>CEP (MCEP) system<br>which automatically<br>adapts the<br>processing<br>of events according<br>to a<br>consumer's<br>location.<br>MCEP significantly<br>reduces latency, network<br>utilization, [...]"
          ],
          [
           "Biologically-Inspired Distributed Middleware Management for Stream Processing Systems",
           "We present a decentralized and dynamic biologically-inspired algorithm for placing dataflow<br>graphs<br>composed<br>of<br>stream<br>processing<br>tasks<br>onto<br>a<br>distributed network of machines, while minimizing the end-to-end latency.<br>Our<br>algorithm responds<br>on-the-<br>fly to<br>placement<br>requests of new<br>flow<br>graphs<br>or to modifications of an already running<br>stream<br>processing flow graph, and<br>dynamically<br>adapts to<br>changes in<br>performance<br>characteristics<br>such as<br>message rates or<br>service times as<br>well as to changes in<br>processor [...]"
          ],
          [
           "C-MR",
           "The widespread appeal of MapReduce is due, in part, to its simple programming model.<br>Programmers<br>provide<br>only<br>application<br>logic<br>while<br>the<br>MapReduce<br>framework handles the logistics of data distribution and<br>parallel task<br>management. We<br>present the<br>Continuous-<br>MapReduce<br>(C-MR)<br>framework<br>which<br>implements a modified MapReduce<br>processing model to<br>continuously execute<br>workflows of<br>MapReduce jobs on<br>unbounded data<br>streams.<br>In keeping<br>with the<br>philosophy<br>of MapReduce, C-MR<br>abstracts away the<br>complexities of [...]"
          ],
          [
           "Adaptive input admission and management for parallel stream processing",
           "In this paper, we propose a framework for adaptive admission control and management of a large<br>number<br>of<br>dynamic<br>input<br>streams<br>in<br>parallel<br>stream<br>processing engines. The framework takes as input any available information<br>about<br>input<br>stream<br>behaviors and<br>the<br>requirements of<br>the query<br>processing<br>layer, and adaptively decides how to adjust the<br>entry points<br>of<br>streams to the<br>system. As<br>the<br>optimization decisions<br>propagate early<br>from input<br>management layer to the query<br>processing<br>layer, the<br>size of [...]"
          ],
          [
           "Henge",
           "We present Henge, a system to support intent-based multi-tenancy in modern distributed stream<br>processing<br>systems.<br>Henge<br>supports<br>multi-<br>tenancy<br>as<br>a<br>first-class citizen: everyone in an organization can now submit their<br>stream<br>processing jobs to<br>a<br>single,<br>shared,<br>consolidated<br>cluster.<br>Secondly,<br>Henge allows each job to specify its own intents<br>(i.e.,<br>requirements) as a<br>Service<br>Level Objective<br>(SLO) that<br>captures<br>latency and/or<br>throughput<br>needs. In such an intent-<br>driven multi-<br>tenant cluster, [...]"
          ],
          [
           "Dynamic Adaptive Point Cloud Streaming",
           "High-quality point clouds have recently gained interest as an emerging form of representing<br>immersive<br>3D<br>graphics.<br>Unfortunately,<br>these<br>3D<br>media<br>are<br>bulky and severely bandwidth intensive, which makes it difficult for<br>streaming<br>to<br>resource-limited<br>and mobile devices.<br>This<br>has<br>called<br>researchers to<br>propose efficient and adaptive approaches for<br>streaming of<br>high-<br>quality point<br>clouds. In this paper, we run<br>a pilot<br>study<br>towards<br>dynamic adaptive<br>point cloud streaming,<br>and extend the<br>concept of<br>dynamic [...]"
          ],
          [
           "Dhalion",
           "In recent years, there has been an explosion of large-scale real-time analytics needs and a<br>plethora<br>of<br>streaming<br>systems<br>have<br>been<br>developed<br>to<br>support such applications. These systems are able to continue stream<br>processing even<br>when<br>faced with<br>hardware<br>and<br>software<br>failures. However,<br>these<br>systems do not address some crucial challenges<br>facing their<br>operators: the<br>manual, time-<br>consuming<br>and<br>error-prone tasks<br>of tuning<br>various<br>configuration knobs to achieve<br>service level<br>objectives (SLO) as<br>well as [...]"
          ],
          [
           "Parallel Stream Processing Against Workload Skewness and Variance",
           "Key-based workload partitioning is a common strategy used in parallel stream processing<br>engines,<br>enabling<br>effective<br>key-<br>value<br>tuple<br>distribution<br>over<br>worker threads in a logical operator. It is likely to generate<br>poor<br>balancing<br>performance when<br>workload<br>variance<br>occurs on the<br>incoming data<br>stream.<br>This paper presents a new key-based<br>workload<br>partitioning<br>framework, with<br>practical<br>algorithms to support<br>dynamic workload<br>assignment for<br>stateful<br>operators. The<br>framework<br>combines hash-<br>based and [...]"
          ],
          [
           "Migration Towards Cloud-Assisted Live Media Streaming",
           "Live media streaming has become one of the most popular applications over the Internet.<br>We<br>have<br>witnessed<br>the<br>successful<br>deployment<br>of<br>commercial<br>systems with content delivery network (CDN)- or peer-to-peer-<br>based<br>engines. While<br>each being<br>effective<br>in certain<br>aspects, having<br>an<br>all-round<br>scalable, reliable, responsive, and cost-<br>effective<br>solution remains an<br>illusive goal.<br>Moreover,<br>today's live<br>streaming services<br>have<br>become highly<br>globalized, with<br>subscribers from<br>all over the world.<br>Such a [...]"
          ],
          [
           "An adaptive replication scheme for elastic data stream processing systems",
           "A major challenge for cloud-based systems is to be fault tolerant to cope with an increasing<br>probability<br>of<br>faults<br>in<br>cloud<br>environments.<br>This<br>is<br>especially true for in-memory computing solutions like data stream<br>processing systems,<br>where a<br>single<br>host<br>failure<br>might result in<br>an<br>unrecoverable<br>information loss. In state of the art data<br>streaming systems either<br>active<br>replication<br>or<br>upstream backup<br>are applied to ensure<br>fault<br>tolerance, which<br>have a high<br>resource overhead or a high<br>recovery [...]"
          ],
          [
           "Enorm",
           "Modern distributed stream processing systems (DSPS), such as Storm, typically provide a<br>flexible<br>programming<br>model,<br>where<br>computation<br>is<br>specified<br>as<br>complicated UDFs and data is opaque to the system. While such a<br>programming<br>framework<br>provides very<br>high<br>flexibility to<br>the<br>developers, it does<br>not<br>provide much semantic information to the<br>system and hence<br>it is hard<br>to perform<br>optimizations<br>that has already<br>been<br>proved very effective<br>in<br>conventional stream<br>systems. Examples include<br>sharing<br>computation [...]"
          ],
          [
           "Practical Identification of Dynamic Precedence Criteria to Produce Critical Results from Big Data Streams",
           "During periods of high volume, big data stream applications may not have enough resources to<br>process<br>all<br>incoming<br>tuples.<br>To<br>maximize<br>the<br>production<br>of the most critical results under such resource shortages, a recent<br>solution, PR<br>(short<br>for<br>Preferential<br>Result),<br>utilizes both<br>static<br>criteria<br>(defined at compile-time) and dynamic criteria<br>(identified online<br>at run-<br>time) to<br>prioritize the<br>processing of<br>tuples throughout<br>the query<br>pipeline.<br>Unfortunately, locating<br>the optimal [...]"
          ],
          [
           "Design and deployment of a hybrid CDN-P2P system for live video streaming",
           "We present our design and deployment experiences with LiveSky, a commercially deployed hybrid CDN-P2P<br>live<br>streaming<br>system.<br>CDNs<br>and<br>P2P<br>systems<br>are<br>the common techniques used for live streaming, each having its own set of<br>advantages<br>and<br>disadvantages.<br>LiveSky<br>inherits the<br>best of<br>both<br>worlds: the<br>quality control and reliability of a CDN and the<br>inherent<br>scalability<br>of a P2P system. We<br>address<br>several key<br>challenges in the<br>system<br>design and<br>implementation including (a)<br>dynamic<br>resource [...]"
          ],
          [
           "Scalable stream join processing with expensive predicates",
           "Multi-way stream joins with expensive join predicates lead to great challenge for real-time (or<br>close<br>to<br>real-<br>time)<br>stream<br>processing.<br>Given<br>the<br>memory- and CPU-intensive nature of such stream join queries, scalable<br>processing on<br>a<br>cluster must<br>be<br>employed. This<br>paper proposes a<br>novel<br>scheme<br>for distributed processing of generic multi-way<br>joins with<br>window<br>constraints,<br>called<br>Pipelined State<br>Partitioning (PSP). We target<br>generic<br>joins with<br>arbitrarily join<br>conditions, which<br>are used in<br>non- [...]"
          ],
          [
           "Changing flights in mid-air",
           "Continuous queries can run for unpredictably long periods of time. During their lifetime, these queries may<br>need<br>to<br>be<br>adapted<br>either<br>due<br>to<br>changes<br>in application semantics (e.g., the implementation of a new alert detection policy),<br>or due<br>to<br>changes in<br>the<br>system's<br>behavior<br>(e.g.,<br>adapting<br>performance to a changing load). While in previous works query<br>modification<br>has<br>been implicitly<br>utilized<br>to serve<br>specific<br>purposes (e.g.,<br>load<br>management), to date no research has been<br>done that [...]"
          ],
          [
           "Attributed Graph Rewriting for Complex Event Processing Self-Management",
           "The use of Complex Event Processing (CEP) and Stream Processing (SP) systems to process high-volume,<br>high-<br>velocity<br>Big<br>Data<br>has<br>renewed<br>interest<br>in<br>procedures for managing these systems. In particular, self-management and<br>adaptation of<br>runtime<br>platforms<br>have<br>been<br>common<br>research themes,<br>as most<br>of these systems run under dynamic conditions.<br>Nevertheless, the<br>research<br>landscape in this<br>area is<br>still<br>young and<br>fragmented. Most<br>research is<br>performed in the context of<br>specific systems, and<br>it [...]"
          ],
          [
           "Locality-Aware Routing in Stateful Streaming Applications",
           "Distributed stream processing engines continuously execute series of operators on data<br>streams.<br>Horizontal<br>scaling<br>is<br>achieved<br>by<br>deploying<br>multiple<br>instances of each operator in order to process data tuples in<br>parallel. As<br>the application<br>is<br>distributed<br>on an<br>increasingly<br>high number<br>of servers,<br>the likelihood that the stream is sent<br>to a different<br>server for each<br>operator<br>increases. This<br>is<br>particularly important<br>in the case of<br>stateful<br>applications that<br>rely on keys to<br>deterministically [...]"
          ],
          [
           "A delay-based aggregate rate control for P2P streaming systems",
           "In this paper we consider mesh based P2P streaming systems focusing on the problem of regulating<br>peer<br>transmission<br>rate<br>to<br>match<br>the<br>system<br>demand<br>while not overloading each peer upload link capacity. We propose Hose Rate<br>Control<br>(HRC), a novel<br>scheme<br>to<br>control the<br>speed at<br>which peers<br>offer<br>chunks to other peers, ultimately controlling peer<br>uplink<br>capacity utilization.<br>This is of<br>critical<br>importance<br>for<br>heterogeneous scenarios<br>like the<br>one faced in the Internet,<br>where peer<br>upload capacity is [...]"
          ],
          [
           "Scalable Distributed Stream Join Processing",
           "Efficient and scalable stream joins play an important role in performing real-time<br>analytics<br>for<br>many<br>cloud<br>applications.<br>However,<br>like<br>in<br>conventional database processing, online theta-joins over data<br>streams<br>are<br>computationally<br>expensive and<br>moreover, being<br>memory-<br>based<br>processing, they<br>impose high memory requirement on the<br>system. In<br>this<br>paper, we propose a<br>novel stream join<br>model, called<br>join-biclique,<br>which<br>organizes a large<br>cluster as a<br>complete bipartite<br>graph.<br>Join-biclique has [...]"
          ],
          [
           "Active workflow system for near real-time extreme-scale science",
           "In recent years, streaming-based data processing has been gaining substantial traction for<br>dealing<br>with<br>overwhelming<br>data<br>generated<br>by<br>real-<br>time<br>applications, from both enterprise sources and scientific computing. In<br>this<br>work,<br>however, we look at an<br>emerging<br>class<br>of<br>scientific data<br>with Near<br>Real-Time (NRT) requirement, in which data is<br>typically<br>generated<br>in a bursty fashion with<br>the near<br>real-<br>time<br>constraints being applied<br>primarily<br>between bursts, rather<br>than within a<br>stream. A key<br>challenge [...]"
          ],
          [
           "Link-Aware Reconfigurable Point-to-Point Video Streaming for Mobile Devices",
           "Even though people of all social standings use current mobile devices in the wide<br>spectrum<br>of<br>purpose<br>from<br>entertainment<br>tools<br>to<br>communication<br>means, some issues with real-time video streaming in hostile<br>wireless<br>environment<br>still<br>exist. In<br>this article,<br>we<br>introduce<br>CoSA , a link-aware<br>real-time video streaming system for<br>mobile devices.<br>The proposed<br>system<br>utilizes a 3D<br>camera<br>to<br>distinguish<br>the region of importance (ROI) and<br>non-ROI region<br>within the video frame.<br>Based on the<br>link- [...]"
          ],
          [
           "Streaming video over wireless channels: Exploiting reduced-reference quality estimation at the user-side",
           "We propose a source rate control scheme for streaming video sequences over wireless channels<br>by<br>resorting<br>on<br>a<br>reduced-<br>reference<br>(RR)<br>quality<br>estimation approach. It works as follows: the server extracts important<br>features<br>of the<br>original<br>video,<br>which are<br>coded and sent<br>through<br>the channel<br>along with the video sequence and then exploited<br>at the<br>decoder to<br>compute the<br>actual<br>quality; the<br>observed quality is<br>analyzed to<br>obtain information<br>on the impact of the<br>source rate at<br>the [...]"
          ],
          [
           "Proactive elasticity and energy awareness in data stream processing",
           "Data stream processing applications have a long running nature (24 hr/7 d) with workload conditions<br>that<br>may<br>exhibit<br>wide<br>variations<br>at<br>run-<br>time.<br>Elasticity is the term coined to describe the capability of applications to<br>change<br>dynamically<br>their<br>resource<br>usage in<br>response<br>to<br>workload<br>fluctuations. This paper focuses on strategies for elastic<br>data stream<br>processing<br>targeting<br>multicore<br>systems. The key<br>idea is to<br>exploit<br>Model<br>Predictive Control, a control-theoretic<br>method that<br>takes into [...]"
          ],
          [
           "Data-driven memory management for stream join",
           "Memory management is a critical issue in stream processing involving stateful operators such<br>as<br>join.<br>Traditionally,<br>the<br>memory<br>requirement<br>for<br>a<br>stream join is query-driven: a query has to explicitly define a window<br>for<br>each<br>(potentially unbounded)<br>input.<br>The window<br>essentially<br>bounds the<br>size<br>of the buffer allocated for that stream.<br>However,<br>output<br>produced this way may not be<br>desirable (if<br>the window<br>size is not part<br>of the<br>intended query<br>semantic) due to<br>the volatile<br>input<br>characteristics. We [...]"
          ]
         ],
         "hovertemplate": "Topic=Data Stream Processing Latency<br>x=%{x}<br>y=%{y}<br>title=%{customdata[0]}<br>abstract=%{customdata[1]}<extra></extra>",
         "legendgroup": "Data Stream Processing Latency",
         "marker": {
          "color": "#7f7f7f",
          "size": 5,
          "symbol": "x"
         },
         "mode": "markers",
         "name": "Data Stream Processing Latency",
         "orientation": "v",
         "showlegend": true,
         "type": "scatter",
         "x": [
          6.0796957,
          6.392395,
          6.3880124,
          6.4034333,
          6.3194866,
          6.233702,
          7.1113186,
          6.4062505,
          6.107969,
          6.39366,
          6.5048027,
          5.874541,
          6.438225,
          6.2315297,
          5.9255085,
          5.9365296,
          5.8286047,
          6.2149706,
          7.0386405,
          5.7467794,
          7.0432935,
          6.2857914,
          6.4693313,
          7.142773,
          6.623637,
          6.4048715,
          6.1598225,
          7.0786,
          7.2243366,
          5.8773613,
          7.15599,
          6.6247926,
          7.241521,
          7.2261887,
          6.3309617,
          7.1389413,
          6.3411803,
          7.3886914,
          7.327003,
          6.232816,
          6.0013304,
          6.2851954,
          6.3562446,
          6.0192513,
          6.474021,
          6.28128,
          6.02463,
          5.9396763,
          6.4221044,
          7.0871787,
          6.2590384,
          6.524243,
          6.957263,
          6.3263106,
          6.430675,
          5.843802,
          7.061769,
          5.8789797,
          5.8160505,
          6.452879,
          6.468712,
          7.0693655,
          5.9636493,
          6.4018307,
          7.299458,
          7.2718444,
          6.347213,
          5.927121
         ],
         "xaxis": "x",
         "y": [
          10.346931,
          10.319507,
          11.002162,
          10.888331,
          10.492508,
          10.689897,
          9.868104,
          10.783254,
          10.652195,
          10.922676,
          10.260793,
          10.753653,
          10.688298,
          10.35002,
          10.763405,
          10.578422,
          10.761007,
          10.770153,
          9.967203,
          10.886432,
          9.973037,
          10.918063,
          10.765835,
          9.771973,
          10.439334,
          10.530677,
          10.891549,
          9.931637,
          9.730531,
          10.763599,
          9.834401,
          10.163391,
          9.73265,
          9.741779,
          10.545844,
          9.768527,
          10.696537,
          9.596463,
          9.666481,
          10.714995,
          10.711724,
          10.440076,
          10.695146,
          10.752884,
          11.063067,
          10.73948,
          10.576027,
          10.630502,
          10.8601055,
          9.804268,
          10.789312,
          10.597599,
          10.015084,
          10.641255,
          10.783838,
          10.759968,
          9.928993,
          10.481153,
          10.790743,
          11.103389,
          10.494503,
          9.963584,
          10.420278,
          10.591391,
          9.671227,
          9.714338,
          10.920338,
          10.383183
         ],
         "yaxis": "y"
        },
        {
         "customdata": [
          [
           "Towards Quantitative Evaluation of Reuse Within Safety-Oriented Process Lines",
           "Recently, Safety-oriented Process Line Engineering (SoPLE) has been proposed as a sound solution<br>to<br>systematize<br>reuse<br>in<br>the<br>context<br>of<br>safety-<br>oriented processes described within safety-related standards. Currently,<br>however, no<br>metrics have<br>been used<br>to<br>measure the<br>actual<br>gain in<br>terms of<br>reuse that the application of this engineering<br>method entails. To<br>overcome this<br>lack of<br>quantitative<br>evidence, we<br>adopt the<br>GQM$$^{+}$$<br>Strategies<br>model, an extension of the<br>Goal/Question/Metric<br>(GQM) [...]"
          ],
          [
           "An Approach to Manage and Customize Variability in Software Processes",
           "Resumo — Este artigo apresenta uma abordagem para gerencia e customizaçâo de variabilidades em<br>processos<br>de<br>software.<br>A<br>abordagem<br>oferece<br>suporte<br>para<br>a manipulaçâo automâtica de variaçöes ocorrendo em especificaçöes de<br>processos, e<br>promove<br>a<br>derivaçâo<br>automâtica de<br>customizaçöes<br>especıficas<br>de tais<br>processos. De forma a validar e demonstrar os<br>benefıcios da<br>abordagem,<br>o<br>artigo apresenta<br>uma implementaçâo<br>da abordagem que<br>permite a<br>customizaçâo de<br>processos<br>especificados no [...]"
          ],
          [
           "Development of Situational Requirements Engineering Processes: A Process Factory Approach",
           "The Software Product Line (SPL) approach is a paradigm for systematic reuse of software products, and a<br>Software<br>Factory<br>is<br>a<br>SPL<br>aimed<br>at<br>the<br>industrialization of software development. Based on the notion that a software/RE<br>process can be<br>developed<br>via<br>an<br>engineering<br>process<br>(much<br>akin to<br>engineering other types of software), this research aims to<br>provide a feature-<br>based RE<br>process<br>factory<br>to develop RE<br>processes<br>based on<br>the<br>characteristics of the project at hand<br>(project situation). In [...]"
          ],
          [
           "Product families and process families",
           "Product lines or families represent an important way of organizing software<br>products.<br>Product<br>families<br>might<br>include,<br>for<br>example,<br>successive<br>revisions of a single application, versions of an<br>application for<br>different host<br>platforms, or<br>versions<br>with<br>varying<br>features, e.g.,<br>different levels<br>of security. A software<br>product family can<br>thus be viewed as a<br>collection of<br>products that<br>are<br>similar in some<br>important respects<br>yet<br>systematically<br>different in others.<br>The family viewpoint<br>emphasizes both [...]"
          ],
          [
           "Deriving Project-Specific Processes from Process Line Architecture with Commonality and Variability",
           "Definition and utilization of project-specific processes is important<br>for<br>effectively<br>conducting<br>industrial<br>information<br>system<br>development.<br>Process<br>tailoring is an approach of achieving<br>processes<br>optimized for the<br>characteristics of<br>a project.<br>However,<br>conventional<br>tailoring techniques<br>such as<br>component-based<br>ones and<br>generator ones lack a way<br>to address the overall<br>consistency<br>or reuse<br>process fragments.<br>In this paper, we<br>propose<br>a<br>technique<br>for establishing process lines,<br>which are sets of [...]"
          ],
          [
           "Reducing Complexity of Process Tailoring Transformations Generation",
           "Tailoring software processes to particular contexts applying model transformations has proved<br>to<br>be<br>appropriate<br>and<br>technically<br>feasible.<br>However,<br>the<br>use of this approach can become awkward for most process engineers,<br>because<br>it<br>requires<br>knowledge about<br>the process<br>and its<br>tailoring needs,<br>and also<br>about building model transformations. In a<br>previous<br>work we<br>have proposed<br>a tool based on<br>model-driven<br>engineering<br>(MDE) for automatically<br>generating<br>software process<br>model<br>tailoring<br>transformations. [...]"
          ],
          [
           "Realizing software process lines: insights and experiences",
           "Software process lines provide a systematic approach to construct and manage software processes.<br>A<br>process<br>line<br>defines<br>a<br>reference<br>process<br>containing<br>general process assets, whereas a well-defined customization approach<br>allows<br>process<br>engineers<br>to create<br>new<br>process variants<br>by, e.g.,<br>extending or<br>altering process assets. Variability operations<br>are a<br>powerful<br>instrument to<br>realize a process<br>line.<br>However, little is<br>known about<br>which variability<br>operations are suitable<br>in<br>practice. In this<br>paper, we [...]"
          ],
          [
           "Software process line discovery",
           "Companies define software processes for planning and guiding projects. Since process definition is<br>expensive,<br>and<br>in<br>practice,<br>no<br>one<br>process<br>\"fits<br>all\" projects, the current trend is to define a Software Process Line (SPrL):<br>a base<br>process<br>that<br>represents the<br>common<br>process<br>elements,<br>along with<br>its potential variability. Specifying a SPrL is more<br>expensive<br>than just<br>specifying<br>one process, but<br>the SPrL<br>can be<br>adapted to specific<br>project<br>contexts, minimizing the amount of<br>extra work<br>carried out [...]"
          ],
          [
           "Development of flexible software process lines with variability operations",
           "Context: Software processes evolve over time and several approaches were proposed to support<br>the<br>required<br>flexibility.<br>Yet,<br>little<br>is<br>known<br>whether<br>these approaches sufficiently support the development of large<br>software<br>processes. A<br>software process line<br>helps<br>to<br>systematically<br>develop<br>and manage<br>families of processes and, as part of<br>this,<br>variability operations<br>provide means to modify<br>and reuse<br>pre-<br>defined process<br>assets.<br>Objective: Our goal<br>is to evaluate<br>the<br>feasibility of variability<br>operations [...]"
          ],
          [
           "Building Software Process Line Architectures from Bottom Up",
           "In this paper, we propose a technique for establishing process lines, which are sets of<br>common<br>processes<br>in<br>particular<br>problem<br>domains,<br>and<br>process<br>line architectures that incorporate commonality and variability.<br>Process<br>line<br>architectures are<br>used as a<br>basis for<br>deriving process<br>lines<br>from the<br>perspective of overall optimization. The<br>proposed<br>technique<br>includes some<br>extensions to the<br>Software Process<br>Engineering<br>Metamodel for<br>clearly<br>expressing the<br>commonality and<br>variability in [...]"
          ],
          [
           "A Comparative Study for Scoping a Software Process Line",
           "Software process lines (SPrL) is an approach for facilitating the adaptation and evolution of a<br>set<br>of<br>related<br>software<br>processes<br>within<br>a<br>software<br>organization. In order to correctly establish the processes and process<br>assets to<br>be<br>reused as<br>well as to<br>typify the<br>situations<br>under<br>which the<br>processes will be used (the process demands) an<br>implicit or<br>explicit<br>scoping activity<br>that is<br>normally performed.<br>There are some<br>methods<br>oriented to<br>support this activity. In<br>this article<br>we explore<br>the [...]"
          ],
          [
           "Odyssey-ProcessCase",
           "Software processes have been the focus of discussion in the literature, but defining a software<br>process<br>that<br>meets<br>project-<br>specific<br>needs<br>remains<br>a<br>challenge. The Software Process Line (SPrL) technique offers a systematic<br>to<br>identify<br>processes'<br>similarities and<br>variability<br>to<br>support<br>software<br>process reuse. Based on a literature review analysis,<br>a<br>concentration of<br>SPrL<br>approaches that use<br>mapping/rules<br>techniques to<br>support<br>project-specific<br>software process definition<br>was<br>observed. [...]"
          ],
          [
           "Process lines: a product line approach designed for process model development",
           "Standard process models like RUP or the German V-Modell XT are developed to be used in<br>an<br>organizational<br>environment.<br>Yet<br>introducing<br>such<br>a<br>process<br>model into an organization is no simple task. It is<br>usually<br>accompanied by either<br>reorganizing<br>internal<br>processes to comply<br>with a<br>standard<br>process<br>model or by adaptation of the<br>process<br>model to organizational<br>structures. The<br>latter is an<br>approach that can often be<br>found in<br>practice and<br>is subject<br>to<br>this paper.<br>The paper describes a<br>generalization of [...]"
          ],
          [
           "Definition of Software Process Lines for Integration of Scrum and CMMI",
           "The adoption of Agile Methods, like Scrum, in conjunction with maturity models, like<br>Capability<br>Maturity<br>Model<br>Integration<br>(CMMI),<br>often<br>leads<br>to<br>variation of process. Process definition is a complex and<br>difficult task,<br>requiring a lot<br>of effort<br>and experience.<br>Software<br>Process<br>Line (SPrL)<br>has<br>been considered a suitable paradigm<br>for software<br>process tailoring and<br>reuse; and<br>there is a lack of<br>approaches that<br>use SPrL<br>concepts for<br>modeling<br>these<br>approaches in<br>conjunction. This paper presents<br>the [...]"
          ],
          [
           "A megamodel for Software Process Line modeling and evolution",
           "Companies formalize software processes as a way of organizing development projects. Since there are<br>differences<br>in<br>project<br>contexts,<br>a<br>one-<br>size-<br>fits-<br>all approach does not work well in practice. Some companies use a family<br>of a<br>predefined<br>processes, but<br>this approach<br>has a<br>high<br>process<br>maintenance<br>cost. Instead, we define Software Process Lines<br>(SPrL),<br>where a general<br>process with<br>variability is<br>tailored to<br>project<br>contexts.<br>Model- Driven<br>Engineering (MDE) provides a<br>formal<br>framework for [...]"
          ],
          [
           "Supporting the Definition of Software Processes at Consulting Organizations via Software Process Lines",
           "Software Process Consulting Organizations (SPCOs) support other organizations to define,<br>deploy,<br>and<br>improve<br>their<br>software<br>processes.<br>Usually<br>they<br>are requested to define similar processes to different<br>organizations, leading<br>to some<br>process<br>reuse<br>opportunities.<br>Software Process<br>Lines<br>(SPLs) are<br>reusable process architectures<br>that model similarities<br>and<br>variabilities among<br>processes,<br>and could be of<br>great value for SPCOs<br>to<br>derive multiple<br>processes<br>based on the same original<br>SPL.<br>This paper [...]"
          ],
          [
           "Applying AOSE Concepts to Model Crosscutting Variability in Variant-Rich Processes",
           "Software process models need to be variant-rich, in the sense that they should be<br>systematically<br>customizable<br>to<br>specific<br>project<br>goals<br>and<br>project<br>environments. It is currently very difficult to model<br>Variant-Rich Process<br>(VRP) because<br>variability<br>mechanisms<br>are largely<br>missing<br>in<br>modern process<br>modeling languages.<br>Variability mechanisms from other<br>domains, such as<br>programming<br>languages, might<br>be suitable<br>for<br>the<br>representation of<br>variability<br>and could be adapted to the<br>modeling of [...]"
          ],
          [
           "Leveraging CVL to Manage Variability in Software Process Lines",
           "Variability on project requirements often implies variability on software processes. To manage<br>such<br>variability,<br>Software<br>Process<br>Lines<br>(SPLs)<br>can<br>be<br>used to represent commonality (i.e., common practices) and variability<br>(i.e.,<br>differences) of a<br>set of<br>related<br>software<br>processes. To<br>this end,<br>some<br>Software Process Modeling Languages (SPMLs)<br>natively<br>integrate variability<br>mechanisms.<br>Nevertheless,<br>such a<br>coupling between the<br>SPML and<br>the<br>variability mechanisms i)<br>requires to<br>interpret the [...]"
          ],
          [
           "Activity-Based Software Process Lines Tailoring",
           "Software process definition requires choosing the process elements that appropriately fulfil the<br>tailoring<br>requirements,<br>such<br>as<br>to<br>prevent<br>risks<br>or<br>to satisfy quality goals. The selection of appropriate process elements is<br>usually done<br>manually,<br>making<br>this<br>process<br>complex, time-<br>consuming<br>and<br>error-prone. Our main objective is to define a<br>systematic approach to<br>tailor<br>software process<br>and a<br>support tool<br>to simplify and<br>to support<br>the<br>tailoring process by<br>improving the selection process [...]"
          ],
          [
           "Integrated Software Process and Product Lines",
           "Increasing demands imposed on software-intensive systems will require more rigorous<br>engineering<br>and<br>management<br>of<br>software<br>artifacts<br>and<br>processes.<br>Software product line engineering allows for the effective<br>reuse of<br>software<br>artifacts based on<br>the pro-<br>active<br>organization of<br>similar<br>artifacts<br>according to similarities and<br>variances. Software<br>processes –<br>although also variable<br>across<br>projects – are<br>still not managed<br>in a similar<br>systematic<br>way.<br>This paper motivates the<br>need for<br>Software Process Lines [...]"
          ],
          [
           "Scoping software process lines",
           "Abstract Defining organization‐specific process standards by integrating, harmonizing,<br>and<br>standardizing<br>heterogeneous<br>and<br>often<br>implicit<br>processes<br>is<br>an important task, especially for large development<br>organizations. On<br>the one hand,<br>such a standard<br>must be<br>generic<br>enough to cover<br>all of<br>the<br>organization's development<br>activities; on the other<br>hand, it must be as<br>detailed and precise<br>as<br>possible to<br>support employees'<br>daily<br>work.<br>Today,<br>organizations typically maintain<br>and advance a plethora [...]"
          ],
          [
           "Using megamodeling to improve industrial adoption of complex MDE solutions",
           "Companies formalize their software processes as a way of organizing their development projects.<br>As<br>each<br>project<br>has<br>its<br>own<br>requirements<br>and<br>objectives, a family of processes is required in practice, in order to ensure<br>that<br>each<br>project<br>is<br>handled<br>appropriately. This<br>family may be<br>a<br>collection of predefined processes, but can also be<br>automatically<br>generated<br>by tailoring<br>a<br>general<br>process to a project’s<br>context which<br>requires<br>formalization and tool support to<br>be successful.<br>Model- [...]"
          ],
          [
           "MDE software process lines in small companies",
           "Software organizations specify their software processes so that process knowledge<br>can<br>be<br>systematically<br>reused<br>across<br>projects.<br>However,<br>different<br>projects may require different processes. Defining a<br>separate<br>process for<br>each potential<br>project<br>context is<br>expensive and<br>error-prone,<br>since these<br>processes must simultaneously<br>evolve in a<br>consistent<br>manner. Moreover, an<br>organization<br>cannot envision<br>all possible<br>project contexts in<br>advance<br>because<br>several variables<br>may be<br>involved, and these may also [...]"
          ],
          [
           "Collaboration optimization in software process composition",
           "Purpose: The purpose of this paper is to describe an optimization approach to<br>maximize<br>collaboration<br>in<br>software<br>process<br>composition.<br>The<br>research<br>question is: how to compose a process for a specific<br>software<br>development project<br>context<br>aiming to<br>maximize<br>collaboration among<br>team<br>members? The<br>optimization approach uses<br>heuristic search<br>algorithms to navigate<br>the<br>solution space and<br>look<br>for<br>acceptable<br>solutions.Design/methodology/approach:<br>The<br>process composition<br>approach was evaluated<br>through [...]"
          ],
          [
           "Empirical study on software process variability modelling with SMartySPEM and vSPEM",
           "With the continuous improvement of software processes, it is possible to increase quality,<br>to<br>address<br>different<br>application<br>domains<br>and<br>accelerate<br>the<br>development of software products. However, existing process<br>modelling<br>notations<br>like the SPEM<br>meta‐model<br>typically do not<br>have<br>appropriate<br>constructs<br>for expressing process variability.<br>Thus,<br>SPEM‐based<br>approaches such as<br>SMartySPEM and vSPEM<br>provide mechanisms<br>for<br>representing<br>variabilities to<br>address<br>characteristics<br>of different<br>projects. Here, [...]"
          ],
          [
           "Software process reuse in an industrial setting",
           "The paper describes a method for creating reusable processes and the authors' experience using<br>them<br>in<br>an<br>industrial<br>environment.<br>A<br>notation<br>and<br>process for creating and tailoring reusable processes is described and<br>applied to<br>the<br>building<br>of a 120<br>process library at PRC<br>Inc.<br>Initial<br>data<br>collected on use of the library indicates large<br>potential payoffs<br>from<br>process reuse<br>such as a 10<br>to 1 improvement in the<br>time to<br>develop a<br>project<br>specific process."
          ],
          [
           "Variability in Software Process Models: Requirements for Adoption in Industrial Settings",
           "It is an increasing trend to apply Software Product Line (SPL) concepts and techniques<br>for<br>software<br>process<br>tailoring,<br>generating<br>a<br>Software<br>PRocess<br>Line (SPrL). However, there are several aspects that must be<br>addressed<br>before SPrLs<br>can be<br>fully adopted by<br>industry, a<br>key<br>aspect being<br>how software<br>process variability is specified and<br>managed. In<br>the literature,<br>there are<br>several general-<br>purpose as well as<br>domain-<br>specific<br>proposals for specifying<br>process<br>variability. In<br>this paper, we<br>analyze [...]"
          ],
          [
           "Towards Systematic Compliance Evaluation Using Safety-Oriented Process Lines and Evidence Mapping",
           "The role of software is growing in safety related systems. This underlines the need for<br>software<br>process<br>assessment<br>in<br>many<br>safety-<br>critical<br>domains.<br>For example, the nuclear power industry has strict safety<br>requirements for<br>control<br>systems and many<br>methods<br>are<br>applied to<br>evaluate<br>compliance to<br>domain specific standards and<br>requirements. This paper<br>discusses the<br>needs of the nuclear<br>domain<br>and<br>presents<br>alternatives to develop<br>a process<br>assessment<br>method that takes into<br>account domain [...]"
          ],
          [
           "A software process line for service-oriented applications",
           "The management of processes and systems is a complex and time-consuming activity for<br>organizations<br>and<br>also<br>an<br>ongoing<br>Information<br>Technology<br>(IT)<br>challenge. Among the different approaches for bringing<br>flexibility to the<br>business<br>processes<br>and<br>systems are<br>Service-Oriented<br>Architecture<br>(SOA) and<br>Business Process Management<br>(BPM). The SOA approach<br>has become<br>popular<br>providing<br>services and<br>interfaces, enabling<br>integration of<br>heterogeneous<br>and<br>distributed platforms and BPM<br>leverages the<br>cycles [...]"
          ],
          [
           "Representing Process Variation with a Process Family",
           "The formalization of process definitions has been an invaluable aid in many domains. However,<br>noticeable<br>variations<br>in<br>processes<br>start<br>to<br>emerge<br>as<br>precise details are added to process definitions. While each such<br>variation gives rise<br>to a<br>different<br>process, these<br>processes<br>might<br>more<br>usefully be<br>considered as variants of each other,<br>rather than completely<br>different<br>processes. This<br>paper proposes<br>that it is<br>beneficial to<br>regard<br>such an<br>appropriately close<br>set of process variants as a<br>process<br>family. [...]"
          ],
          [
           "Applying System Families Concepts to Requirements Engineering Process Definition",
           "In this paper, some experiences gained during the definition of a unified, common software<br>development<br>process<br>for<br>several<br>companies<br>in<br>Telvent<br>are<br>presented. Last year, Telvent made the decision of developing a<br>unique software<br>development<br>process<br>which was<br>flexible enough<br>to be<br>adapted<br>to<br>specific practices and needs of the different<br>companies. In this<br>paper we focus<br>mainly on<br>the experiences<br>gained during<br>the<br>definition of<br>the<br>requirements engineering<br>process, al-though many of<br>them are [...]"
          ],
          [
           "On the use of variability operations in the V‐Modell XT software process line",
           "Abstract Software process lines provide a systematic approach to develop and manage<br>software<br>processes.<br>It<br>defines<br>a<br>reference<br>process<br>containing<br>general process assets, whereas a well‐defined customization<br>approach allows<br>process<br>engineers<br>to create<br>new<br>process<br>variants, for<br>example, by<br>extending or modifying process assets.<br>Variability operations<br>are an<br>instrument to<br>realize<br>flexibility by<br>explicitly<br>declaring required<br>modifications,<br>which are<br>applied to create [...]"
          ],
          [
           "A Process Family Approach for the reuse of development processes",
           "Development processes are often newly defined for every project. However, a reuse of<br>the<br>process<br>knowledge<br>between<br>different<br>projects<br>rarely<br>takes<br>place. In this paper, we present a concept which permits a<br>general<br>reuse of<br>process knowledge<br>on the basis<br>of the<br>process family<br>approach and<br>as well<br>the project individual<br>customization of<br>processes<br>according to a mass<br>customization."
          ],
          [
           "Acquisition of a Project-Specific Process",
           "Currently, proposed development processes are often considered too generic for operational use. This<br>often<br>leads<br>to<br>a<br>misunderstanding<br>of<br>the<br>project-<br>specific processes and its refuse. One reason for non-appropriate<br>project-<br>specific<br>processes<br>is<br>insufficient support for<br>the<br>tailoring of<br>generic<br>processes to project characteristics and<br>context<br>constraints. To<br>tackle this<br>problem, we<br>propose a method for<br>the<br>acquisition of a project-<br>specific<br>process. This<br>method uses a<br>domain-specific<br>process line [...]"
          ],
          [
           "An MDE approach to software process tailoring",
           "Defining organizational processes is essential for enhancing maturity. However the best<br>process<br>depends<br>on<br>the<br>particularities<br>of<br>each<br>project.<br>Typically a process engineer defines a specific process for each<br>project in an<br>ad-hoc<br>fashion,<br>which is<br>expensive,<br>unrepeatable<br>and error<br>prone.<br>Trying to deal with this challenge we propose<br>a model-based<br>approach to<br>software<br>process<br>tailoring that<br>generates project<br>specific processes<br>based on<br>the organizational<br>process and the<br>project context.<br>The [...]"
          ]
         ],
         "hovertemplate": "Topic=Software Process Line<br>x=%{x}<br>y=%{y}<br>title=%{customdata[0]}<br>abstract=%{customdata[1]}<extra></extra>",
         "legendgroup": "Software Process Line",
         "marker": {
          "color": "#bcbd22",
          "size": 5,
          "symbol": "x"
         },
         "mode": "markers",
         "name": "Software Process Line",
         "orientation": "v",
         "showlegend": true,
         "type": "scatter",
         "x": [
          11.477119,
          11.556156,
          11.725178,
          11.750023,
          11.772217,
          11.942107,
          11.515554,
          11.502374,
          11.450732,
          11.751869,
          11.598319,
          11.479396,
          11.701755,
          11.552234,
          11.812811,
          11.587558,
          11.383813,
          11.404847,
          11.865544,
          11.687457,
          11.767322,
          12.023287,
          11.763588,
          11.577852,
          11.398744,
          11.767991,
          11.443315,
          11.606807,
          11.653551,
          11.50653,
          11.833038,
          11.414073,
          11.900535,
          11.875283,
          11.976958
         ],
         "xaxis": "x",
         "y": [
          15.69157,
          15.08936,
          15.611244,
          15.410416,
          15.334354,
          14.9926815,
          15.328982,
          15.539479,
          15.274579,
          15.412446,
          15.575741,
          15.580312,
          15.323999,
          15.507057,
          15.229974,
          15.607161,
          15.173085,
          15.314549,
          15.136179,
          15.6112795,
          15.531608,
          14.979321,
          15.402564,
          15.673869,
          15.290022,
          15.80767,
          15.39367,
          15.542752,
          15.543559,
          15.2939625,
          15.3752575,
          15.252156,
          15.317786,
          15.233975,
          15.1226
         ],
         "yaxis": "y"
        },
        {
         "customdata": [
          [
           "IREHMO: An Efficient IOT-Based Remote Health Monitoring System for Smart Regions",
           "The ageing population worldwide is constantly rising, both in urban and regional areas. There is a<br>need<br>for<br>IoT-<br>based<br>remote<br>health<br>monitoring<br>systems<br>that take care of the health of elderly people without compromising<br>their<br>convenience<br>and<br>preference of<br>staying at<br>home.<br>However, such<br>systems may<br>generate large amounts of data. The key<br>research<br>challenge addressed in<br>this<br>paper is to<br>efficiently<br>transmit<br>healthcare data within<br>the limit of the<br>existing<br>network<br>infrastructure, especially in [...]"
          ],
          [
           "Enabling the IoT paradigm in e-health solutions through the VIRTUS middleware",
           "In Europe, in a context of growing population and decreasing resources, ageing related diseases represent<br>one<br>of<br>the<br>most<br>relevant<br>challenges<br>in<br>terms<br>of healthcare organization complexity, plus care levels and system<br>financing<br>balancing.<br>Nowadays<br>there are<br>several<br>researches that<br>are<br>studying the<br>application of the IoT (Internet of Things)<br>paradigm in<br>the e-health<br>field. This<br>paper explains<br>how a<br>solution, built on the<br>top of<br>the VIRTUS IoT<br>middleware, provides a<br>valid<br>alternative to current<br>IoT [...]"
          ],
          [
           "A Multi-Agent Architecture for Ontology-Based Diagnosis of Mental Disorders",
           "This paper presents a Multi-agent system that facilitates the remote monitoring of the<br>elderly<br>patients<br>which<br>are<br>susceptible<br>to<br>mental<br>disorder<br>diseases. In order to find early signs of health condition<br>depreciation we have<br>assessed<br>four of the<br>most<br>common mental<br>disorder<br>diseases<br>to find<br>which kind of sensors can detect<br>specific symptoms with the<br>main purpose of<br>creating an<br>early<br>warning system. The<br>diagnosis<br>component is<br>based on an<br>ontology<br>that defines the relations<br>between sensors,<br>symptoms [...]"
          ],
          [
           "Effective Ways to Use Internet of Things in the Field of Medical and Smart Health Care",
           "The recent advancements in technology and the availability of the Internet make it possible to<br>connect<br>various<br>devices<br>that<br>can<br>communicate<br>with<br>each<br>other and share data. The Internet of Things (IoT) is a new concept<br>that allows<br>users to<br>connect various<br>sensors<br>and<br>smart devices to<br>collect<br>real-<br>time data from the environment. However, it<br>has been observed<br>that a<br>comprehensive platform<br>is still<br>missing<br>in the e-Health<br>and<br>m-Health<br>architectures to use smartphone<br>sensors to sense [...]"
          ],
          [
           "Bringing IoT and Cloud Computing towards Pervasive Healthcare",
           "Pervasive healthcare applications utilizing body sensor networks generate a vast amount of data that need<br>to<br>be<br>managed<br>and<br>stored<br>for<br>processing<br>and<br>future usage. Cloud computing among with the Internet of Things (IoT) concept is a<br>new<br>trend<br>for<br>efficient<br>managing<br>and<br>processing of sensor<br>data<br>online. This paper presents a platform based on Cloud Computing<br>for<br>management<br>of<br>mobile and<br>wearable<br>healthcare<br>sensors, demonstrating this<br>way the<br>IoT paradigm applied on pervasive<br>healthcare."
          ],
          [
           "Health and emergency-care platform for the elderly and disabled people in the Smart City",
           "Emergence of context-aware technologies and IoT devices reflect that the quality of a human life has become<br>one<br>of<br>the<br>most<br>essential<br>aspects<br>in<br>Smart<br>Cities. With this goal health monitoring of elderly and disabled people have got<br>plenty<br>of<br>attention<br>and focus<br>in the<br>research.<br>The<br>healthcare systems<br>rely on the components responsible for context<br>sensing,<br>processing,<br>storage and<br>inference, and<br>response. In<br>order to make<br>the<br>interoperability among<br>the various healthcare<br>systems, a<br>typical standard<br>is [...]"
          ],
          [
           "Service-Oriented Security Framework for Remote Medical Services in the Internet of Things Environment",
           "OBJECTIVES: Remote medical services have been expanding globally, and this is expansion is<br>steadily<br>increasing.<br>It<br>has<br>had<br>many<br>positive<br>effects,<br>including medical access convenience, timeliness of service, and cost<br>reduction.<br>The speed of<br>research<br>and<br>development<br>in<br>remote medical<br>technology<br>has been gradually accelerating. Therefore, it<br>is expected to<br>expand to enable<br>various<br>high-tech<br>information<br>and<br>communications<br>technology (ICT)-based<br>remote medical<br>services. However, the<br>current state [...]"
          ],
          [
           "Exploiting IoT technologies for enhancing Health Smart Homes through patient identification and emotion recognition",
           "Currently, there is an increasing number of patients that are treated in-home, mainly in countries such as Japan,<br>USA<br>and<br>Europe.<br>As<br>well<br>as<br>this,<br>the<br>number of elderly people has increased significantly in the last 15 years and these<br>people are<br>often<br>treated in-<br>home and<br>at<br>times<br>enter into<br>a<br>critical situation that may require help (e.g. when facing an<br>accident, or<br>becoming<br>depressed). Advances<br>in<br>ubiquitous<br>computing<br>and the Internet<br>of<br>Things (IoT) have provided efficient<br>and cheap<br>equipments [...]"
          ],
          [
           "Intelligent Packaging and Intelligent Medicine Box for Medication Management towards the Internet-of-Things",
           "The medication noncompliance problem has caused serious threat to public health as well as<br>huge<br>financial<br>waste<br>would<br>wide.<br>The<br>emerging<br>pervasive<br>healthcare enabled by the Internet-of-Things offers promising<br>solutions. In<br>addition, an<br>in-home<br>healthcare<br>station<br>(IHHS) is<br>needed to<br>meet the<br>rapidly increasing demands for daily<br>monitoring and on-site<br>diagnosis and<br>prognosis. In<br>this paper, a<br>pervasive<br>and<br>preventive medication<br>management<br>solution is<br>proposed based on<br>intelligent and [...]"
          ],
          [
           "FIT: A Fog Computing Device for Speech Tele-Treatments",
           "There is an increasing demand for smart fog-computing gateways as the size of cloud data<br>is<br>growing.<br>This<br>paper<br>presents<br>a<br>Fog<br>computing<br>interface(FIT) for processing clinical speech data. FIT builds upon our<br>previous<br>work on<br>EchoWear, a<br>wearable<br>technology<br>that<br>validated<br>the use of<br>smartwatches for collecting clinical speech data<br>from patients<br>with<br>Parkinson's<br>disease(PD). The fog<br>interface is a<br>low-<br>power embedded<br>system that<br>acts as a smart interface<br>between the<br>smartwatch and<br>the cloud. [...]"
          ],
          [
           "Home Telehealth by Internet of Things (IoT)",
           "Home based Telehealth is a combination of communications, imaging, sensing<br>and<br>human<br>computer<br>interaction<br>technologies<br>targeted<br>at<br>diagnosis,<br>treatment and monitoring patients without disturbing the<br>quality<br>of<br>lifestyle. This<br>paper proposes<br>development of a<br>low cost<br>medical<br>sensing,<br>communication and analytics device that<br>is real-<br>time<br>monitoring internet<br>enabled patients<br>physiological conditions.<br>Internet of<br>Things<br>(IoT) network<br>will provide<br>active and<br>real-time<br>engagement of patient,<br>hospitals, [...]"
          ],
          [
           "Fog Computing in Healthcare Internet of Things: A Case Study on ECG Feature Extraction",
           "Internet of Things technology provides a competent and structured approach to improve health and wellbeing<br>of<br>mankind.<br>One<br>of<br>the<br>feasible<br>ways<br>to<br>offer healthcare services based on loT is to monitor humans health in real-time<br>using<br>ubiquitous<br>health<br>monitoring<br>systems<br>which have<br>the<br>ability to<br>acquire bio-signals from sensor nodes and send the data<br>to the<br>gateway via a<br>particular<br>wireless<br>communication<br>protocol. The<br>real-time<br>data is then<br>transmitted to a remote cloud<br>server for<br>real- [...]"
          ],
          [
           "Exploiting the FIWARE Cloud Platform to Develop a Remote Patient Monitoring System",
           "FIWARE represents a new European Cloud platform that aims to land on the international<br>ICT<br>market<br>bringing<br>prominent<br>novel<br>advantages<br>for<br>societies.<br>In fact, it provides new compelling and novel software<br>components,<br>available<br>through APIs,<br>able to give<br>developers<br>new valuable<br>Cloud<br>platform<br>functionalities. The main contribution<br>of this work<br>consists in<br>providing software<br>architects an<br>useful<br>experience regarding the<br>adoption<br>of FIWARE<br>for the design of<br>a Cloud and<br>Internet of Things<br>(IoT) [...]"
          ],
          [
           "Internet of Things: Remote Patient Monitoring Using Web Services and Cloud Computing",
           "The focus on this paper is to build an Android platform based mobile application for the healthcare domain,<br>which<br>uses<br>the<br>idea<br>of<br>Internet<br>of<br>Things<br>(IoT) and cloud computing. We have built an application called ‘ECG Android App’<br>which<br>provides the<br>end<br>user<br>with<br>visualization of<br>their<br>Electro<br>Cardiogram (ECG) waves and data logging functionality in<br>the<br>background. The logged<br>data can<br>be<br>uploaded to<br>the user's private<br>centralized<br>cloud or a<br>specific medical cloud, which<br>keeps a<br>record of all the [...]"
          ],
          [
           "A Semantic Web-of-Things Architecture for Monitoring the Risk of Bedsores",
           "Bedsores are a common injury that mainly plagues elders and frail persons, and are a major cause<br>of<br>concerns<br>in<br>medical<br>institutions.<br>We<br>present<br>a<br>system based on the Internet-of-Things technologies, aiming at detecting the<br>risk<br>of bedsores<br>using<br>sensor<br>fusion. This paper<br>mainly<br>focuses on<br>the<br>software architecture of the proposed system, based on<br>the<br>principles of weak<br>coupling<br>and of<br>semantic data exchange.<br>We present<br>a model of<br>the<br>application in terms of the Semantic<br>Sensor<br>Network (SSN)<br>ontology."
          ],
          [
           "Internet of Things (IOT) Driven U-Healthcare System Architecture",
           "The IoT plays an important role in healthcare applications., from managing chronic diseases at one end<br>of<br>the<br>spectrum<br>to<br>preventing<br>disease<br>at<br>the<br>other. loT aims to provide means to access and control all kinds of<br>ubiquitous<br>and<br>uniquely<br>identifiable<br>devices., facilities<br>and assets.<br>In<br>this<br>paper we discussed the background of Internet of<br>Things (loT)<br>and its<br>application<br>to<br>u-healthcare. This study aims to<br>make mobile<br>device<br>gateway an<br>integrated gateway which<br>supports<br>heterogeneous<br>devices [...]"
          ],
          [
           "IoT-Based Smart Rehabilitation System",
           "Internet of Things (IoT) makes all objects become interconnected and smart, which has been<br>recognized<br>as<br>the<br>next<br>technological<br>revolution.<br>As<br>its<br>typical case, IoT-based smart rehabilitation systems are becoming a<br>better way<br>to<br>mitigate<br>problems<br>associated with aging<br>populations<br>and<br>shortage of<br>health professionals. Although it has come<br>into<br>reality,<br>critical problems<br>still exist<br>in automating design and<br>reconfiguration<br>of such<br>a system<br>enabling it to respond<br>to the<br>patient’s<br>requirements [...]"
          ],
          [
           "End-to-end security scheme for mobility enabled healthcare Internet of Things",
           "We propose an end-to-end security scheme for mobility enabled healthcare Internet of Things (IoT). The<br>proposed<br>scheme<br>consists<br>of<br>(i)<br>a<br>secure<br>and<br>efficient end-user authentication and authorization architecture based on the<br>certificate<br>based DTLS<br>handshake,<br>(ii)<br>secure end-<br>to-<br>end<br>communication<br>based on session resumption, and (iii) robust<br>mobility based on<br>interconnected<br>smart gateways.<br>The smart<br>gateways act<br>as<br>an<br>intermediate processing<br>layer (called fog layer)<br>between IoT devices<br>and [...]"
          ],
          [
           "A Novel Approach to Unify Robotics, Sensors, and Cloud Computing Through IoT for a Smarter Healthcare Solution for Routine Checks and Fighting Epidemics",
           "This paper attempts to project a novel concept where medical sensors, cloud computing and robotic platform<br>are<br>unified<br>to<br>offer<br>state-<br>of-<br>the-<br>art<br>healthcare solutions to a wide variety of scenarios. The proposed solution is most<br>effective<br>if there<br>is<br>scarcity<br>of<br>healthcare<br>providers or<br>if<br>putting them in the field expose them into a high risk<br>environment such as<br>fighting<br>epidemics.<br>In addition,<br>the<br>proposed system<br>will also<br>benefit<br>routine checks in quarantine wards<br>of hospitals where<br>human [...]"
          ],
          [
           "Home Health Hub Internet of Things $({\\rm H}^{3}{\\rm IoT})$: An Architectural Framework for Monitoring Health of Elderly People",
           "Internet of Things (IoT) has paved a path towards the digitization of everyday things connecting each<br>other<br>through<br>internet.<br>Due<br>to<br>the<br>huge<br>advent<br>of IoT in recent years, researches have stared to accomplish the long cherished<br>will of<br>human being<br>to make<br>life<br>simpler and<br>better<br>in many<br>ways.<br>Health being the most valuable wealth of human, should be<br>given most<br>priority. Though<br>health<br>related<br>research<br>implyingIoT has been<br>neglected<br>due to<br>heterogeneity and interoperability<br>issues. [...]"
          ],
          [
           "IoT for Remote Elderly Patient Care Based on Fuzzy Logic",
           "In this paper we propose an in-home healthcare monitoring system offering several uses. It<br>helps<br>the<br>elderly<br>person<br>to<br>complete<br>the<br>activities<br>independently in their own lives and at the same time facilitates family<br>members<br>and care<br>provider<br>to<br>track<br>inhabitants. The main<br>idea<br>is to have<br>several sensors that can be used at home and enables<br>full and<br>tightly<br>controlled<br>elderly<br>patient care.<br>Each modality is<br>processed and<br>analyzed by<br>specific algorithms. A data<br>approach based on<br>fuzzy<br>logic with a [...]"
          ],
          [
           "Low-Power Wearable ECG Monitoring System for Multiple-Patient Remote Monitoring",
           "Many devices and solutions for remote electrocardiogram (ECG) monitoring have been proposed in<br>the<br>literature.<br>These<br>solutions<br>typically<br>have<br>a<br>large<br>marginal cost per added sensor and are not seamlessly integrated with<br>other<br>smart home<br>solutions.<br>Here, we propose<br>an ECG<br>remote<br>monitoring<br>system<br>that is dedicated to non-technical users in need<br>of long-<br>term health<br>monitoring in<br>residential<br>environments and is<br>integrated<br>in a broader<br>Internet-<br>of-Things (IoT)<br>infrastructure. Our<br>prototype<br>consists of [...]"
          ],
          [
           "Temporal Informative Analysis in Smart-ICU Monitoring: M-HealthCare Perspective",
           "The rapid introduction of Internet of Things (IoT) Technology has boosted the service deliverance aspects<br>of<br>health<br>sector<br>in<br>terms<br>of<br>m-health,<br>and<br>remote patient monitoring. IoT Technology is not only capable of sensing the<br>acute<br>details of<br>sensitive<br>events<br>from<br>wider<br>perspectives, but it<br>also<br>provides a means to deliver services in time sensitive<br>and<br>efficient manner.<br>Henceforth,<br>IoT<br>Technology has<br>been<br>efficiently adopted in<br>different<br>fields of the healthcare domain. In<br>this<br>paper, a framework [...]"
          ],
          [
           "Patient Monitoring System Based on Internet of Things",
           "The increased use of mobile technologies and smart devices in the area of health has caused great<br>impact<br>on<br>the<br>world.<br>Health<br>experts<br>are<br>increasingly<br>taking advantage of the benefits these technologies bring, thus<br>generating<br>a<br>significant<br>improvement in<br>health care<br>in<br>clinical<br>settings and out of<br>them. Likewise, countless ordinary users<br>are being<br>served<br>from the<br>advantages of the M-Health<br>(Mobile<br>Health)<br>applications and<br>E-Health (health care<br>supported by ICT)<br>to improve,<br>help and<br>assist [...]"
          ],
          [
           "Distributed Analytics and Edge Intelligence",
           "Biomedical research and clinical practice are entering a data-driven era. One of the major applications<br>of<br>biomedical<br>big<br>data<br>research<br>is<br>to<br>utilize<br>inexpensive and unobtrusive mobile biomedical sensors and cloud computing<br>for<br>pervasive health<br>monitoring.<br>However,<br>real-<br>world<br>user<br>experiences with<br>mobile cloud-based health monitoring were poor,<br>due to<br>the factors such as<br>excessive<br>networking latency<br>and<br>longer<br>response time.<br>On the other hand,<br>fog computing, a newly<br>proposed<br>computing [...]"
          ],
          [
           "SPHERE: A Sensor Platform for Healthcare in a Residential Environment",
           "It can be tempting to think about smart homes like one thinks about smart cities. On the<br>surface,<br>smart<br>homes<br>and<br>smart<br>cities<br>comprise<br>coherent<br>systems enabled by similar sensing and interactive technologies. It<br>can also be<br>argued that<br>both<br>are<br>broadly<br>underpinned by<br>shared goals<br>of<br>sustainable development, inclusive user engagement and<br>improved<br>service delivery.<br>However,<br>the home<br>possesses<br>unique<br>characteristics that must<br>be<br>considered in order to develop<br>effective smart<br>home systems that [...]"
          ],
          [
           "A novel and secure IoT based cloud centric architecture to perform predictive analysis of users activities in sustainable health centres",
           "Diabetes, blood pressure, heart, and kidney, some of the diseases common across the world, are termed ’silent<br>killers’.<br>More<br>than<br>50<br>%<br>of<br>the<br>world’s<br>population are affected by these diseases. If suitable steps are not taken during the<br>early<br>stages<br>then<br>severe<br>complications<br>occur<br>from<br>these<br>diseases. In the work proposed, we have discussed the manner in which<br>the<br>Internet-of-<br>Things<br>based Cloud<br>centric<br>architecture is used<br>for<br>predictive<br>analysis of physical activities of the users<br>in<br>sustainable [...]"
          ]
         ],
         "hovertemplate": "Topic=Internet of Things in Healthcare<br>x=%{x}<br>y=%{y}<br>title=%{customdata[0]}<br>abstract=%{customdata[1]}<extra></extra>",
         "legendgroup": "Internet of Things in Healthcare",
         "marker": {
          "color": "#17becf",
          "size": 5,
          "symbol": "circle"
         },
         "mode": "markers",
         "name": "Internet of Things in Healthcare",
         "orientation": "v",
         "showlegend": true,
         "type": "scatter",
         "x": [
          13.316347,
          13.296283,
          13.356317,
          13.340803,
          13.282768,
          13.291728,
          13.30429,
          13.415646,
          13.351508,
          13.095172,
          13.483611,
          13.134355,
          13.243368,
          13.248174,
          13.43268,
          13.272502,
          13.416076,
          13.217566,
          13.34284,
          13.461875,
          13.439863,
          13.362455,
          13.376203,
          13.45782,
          12.919672,
          13.440602,
          13.385196
         ],
         "xaxis": "x",
         "y": [
          7.704239,
          7.7168217,
          7.618327,
          7.6723638,
          7.731259,
          7.733415,
          7.705716,
          7.575565,
          7.6617146,
          8.014035,
          7.525486,
          7.9506674,
          7.787837,
          7.7816477,
          7.5456214,
          7.72393,
          7.592503,
          7.806661,
          7.6788154,
          7.541435,
          7.5932918,
          7.6564603,
          7.6600943,
          7.540282,
          8.261432,
          7.6176996,
          7.6693335
         ],
         "yaxis": "y"
        },
        {
         "customdata": [
          [
           "Evolution and Search Based Metrics to Improve Defects Prediction",
           "Testing activity is the most widely adopted practice to ensure software quality. Testing effort<br>should<br>be<br>focused<br>on<br>defect<br>prone<br>and<br>critical<br>resources i.e., on resources highly coupled with other entities of the<br>software<br>application. In<br>this<br>paper, we<br>used<br>search<br>based<br>techniques to define<br>software metrics accounting for the role a<br>class plays in<br>the class diagram<br>and for<br>its evolution<br>over<br>time. We<br>applied<br>Chidamber and Kemerer and the<br>newly defined<br>metrics to Rhino, a<br>Java ECMA [...]"
          ],
          [
           "An Extensive Comparison of Bug Prediction Approaches",
           "Reliably predicting software defects is one of software engineering's holy grails. Researchers<br>have<br>devised<br>and<br>implemented<br>a<br>plethora<br>of<br>bug<br>prediction approaches varying in terms of accuracy, complexity and the input<br>data they<br>require.<br>However,<br>the absence<br>of<br>an<br>established<br>benchmark makes<br>it hard, if not impossible, to compare approaches.<br>We present a<br>benchmark for<br>defect<br>prediction, in the<br>form<br>of a<br>publicly<br>available data set<br>consisting of several software<br>systems, and provide<br>an [...]"
          ],
          [
           "Can Cohesion Predict Fault Density?",
           "Cohesion is an internal software attribute which depicts how well the components of a software module are<br>connected.<br>It<br>is<br>thought<br>of<br>as<br>having<br>effect<br>on the quality of the software system. This paper presents the results of an<br>empirical<br>investigation<br>of<br>whether<br>cohesion<br>of<br>object-oriented<br>systems<br>plays a role on software reliability. The paper<br>presents a study of<br>the correlation<br>between<br>cohesion<br>measures and<br>the<br>number of defects in<br>software<br>systems, using seven open<br>source projects."
          ],
          [
           "Fault Prediction using Early Lifecycle Data",
           "The prediction of fault-prone modules in a software project has been the topic of many<br>studies.<br>In<br>this<br>paper,<br>we<br>investigate<br>whether<br>metrics<br>available early in the development lifecycle can be used to identify<br>fault-<br>prone<br>software<br>modules.<br>More<br>precisely, we build<br>predictive<br>models using<br>the metrics that characterize textual<br>requirements. We<br>compare<br>the<br>performance of<br>requirements-<br>based models against the<br>performance of<br>code-based<br>models and models<br>that combine<br>requirement and<br>code<br>metrics. [...]"
          ],
          [
           "An application of fuzzy clustering to software quality prediction",
           "The ever increasing demand for high software reliability requires more robust modeling<br>techniques<br>for<br>software<br>quality<br>prediction.<br>The<br>paper<br>presents<br>a modeling technique that integrates fuzzy subtractive<br>clustering with<br>module-order<br>modeling for<br>software<br>quality<br>prediction.<br>First fuzzy<br>subtractive<br>clustering is used to predict<br>the number of<br>faults, then module-<br>order modeling is<br>used to<br>predict whether<br>modules are<br>fault-prone or<br>not. Note<br>that<br>multiple linear<br>regression is a special case of<br>fuzzy [...]"
          ],
          [
           "Predicting faults using the complexity of code changes",
           "Predicting the incidence of faults in code has been commonly associated with measuring complexity.<br>In<br>this<br>paper,<br>we<br>propose<br>complexity<br>metrics<br>that<br>are based on the code change process instead of on the code. We conjecture<br>that a<br>complex<br>code<br>change<br>process<br>negatively affects<br>its product,<br>i.e.,<br>the software system. We validate our hypothesis<br>empirically<br>through a case<br>study<br>using data<br>derived<br>from the change history<br>for six large<br>open source<br>projects. Our case study<br>shows that our<br>change [...]"
          ],
          [
           "Change Bursts as Defect Predictors",
           "In software development, every change induces a risk. What happens if code changes again and again in some<br>period<br>of<br>time?<br>In<br>an<br>empirical<br>study<br>on<br>Windows Vista, we found that the features of such change bursts have the highest<br>predictive<br>power<br>for<br>defect-<br>prone<br>components. With<br>precision<br>and<br>recall values well above 90%, change bursts significantly<br>improve upon<br>earlier<br>predictors<br>such as<br>complexity<br>metrics, code churn,<br>or<br>organizational<br>structure. As they only rely on<br>version history [...]"
          ],
          [
           "Using product, process, and execution metrics to predict fault-prone software modules with classification trees",
           "Software-quality classification models can make predictions to guide improvement efforts to those modules<br>that<br>need<br>it<br>the<br>most.<br>Based<br>on<br>software<br>metrics, a model can predict which modules will be considered fault-prone, or not.<br>We<br>consider a<br>module<br>fault-<br>prone if any<br>faults<br>were<br>discovered by<br>customers. Useful predictions are contingent on the<br>availability<br>of candidate<br>predictors<br>that are<br>actually related<br>to<br>faults<br>discovered by customers.<br>With a diverse set of<br>candidate predictors<br>in [...]"
          ],
          [
           "Predicting fault-prone classes with design measures in object-oriented systems",
           "The paper aims at empirically exploring the relationships between existing object<br>oriented<br>coupling,<br>cohesion,<br>and<br>inheritance<br>measures<br>and<br>the<br>probability of fault detection in system classes during testing.<br>The<br>underlying goal of<br>such a study<br>is to<br>better understand<br>the<br>relationship<br>between<br>existing product measurement in OO<br>systems and<br>the quality of the<br>software developed.<br>It is<br>shown that by using a<br>subset of<br>existing<br>measures,<br>accurate models<br>can be built to<br>predict in which<br>classes most of [...]"
          ],
          [
           "Assessing UML Design Metrics for Predicting Fault-prone Classes in a Java System",
           "Identifying and fixing software problems before implementation are believed to be much<br>cheaper<br>than<br>after<br>implementation.<br>Hence,<br>it<br>follows<br>that<br>predicting fault-proneness of software modules based on early<br>software<br>artifacts like<br>software<br>design is beneficial<br>as it<br>allows<br>software<br>engineers to<br>perform early predictions to<br>anticipate and avoid<br>faults early<br>enough. Taking<br>this motivation<br>into<br>consideration, in this<br>paper we<br>evaluate the<br>usefulness<br>of UML design metrics to<br>predict fault-<br>proneness of [...]"
          ],
          [
           "Code churn: a measure for estimating the impact of code change",
           "This study presents a methodology that will produce a viable fault surrogate. The focus of the<br>effort<br>is<br>on<br>the<br>precise<br>measurement<br>of<br>software<br>development process and product outcomes. Tools and processes for the<br>static<br>measurement of<br>the<br>source<br>code have been<br>installed and<br>made<br>operational<br>in a large embedded software system. Source<br>code<br>measurements have<br>been<br>gathered<br>unobtrusively for each build<br>in the software<br>evolution<br>process. The<br>measurements are<br>synthesized<br>to obtain the<br>fault<br>surrogate. [...]"
          ],
          [
           "Defect Prediction Using Combined Product and Project Metrics a Case Study from the Open Source “Apache” MyFaces Project Family",
           "The quality evaluation of open source software (OSS) products, e.g., defect<br>estimation<br>and<br>prediction<br>approaches<br>of<br>individual<br>releases,<br>gains<br>importance with increasing OSS adoption in industry<br>applications. Most<br>empirical<br>studies on<br>the accuracy of<br>defect<br>prediction<br>and software<br>maintenance<br>focus on product metrics as<br>predictors that are<br>available only<br>when the<br>product is finished.<br>Only few<br>prediction models<br>consider<br>information on<br>the<br>development process (project<br>metrics) that<br>seems [...]"
          ],
          [
           "An Empirical Approach for Software Fault Prediction",
           "Measuring software quality in terms of fault proneness of data can help the tomorrow's programmers to<br>predict<br>the<br>fault<br>prone<br>areas<br>in<br>the<br>projects<br>before development. Knowing the faulty areas early from previous developed<br>projects can<br>be<br>used<br>to<br>allocate<br>experienced<br>professionals for<br>development<br>of fault prone modules. Experienced persons can<br>emphasize the<br>faulty<br>areas and<br>can get<br>the<br>solutions in minimum<br>time and budget that in<br>turn increases<br>software quality and<br>customer<br>satisfaction. We<br>have [...]"
          ],
          [
           "An empirical study on object-oriented metrics",
           "The objective of this study is the investigation of the correlation between object-oriented design<br>metrics<br>and<br>the<br>likelihood<br>of<br>the<br>occurrence<br>of<br>object oriented faults. Such a relationship, if identified, can be utilized to<br>select<br>effective<br>testing<br>techniques<br>that<br>take the<br>characteristics<br>of<br>the program under test into account. Our empirical study<br>was<br>conducted on three<br>industrial<br>real-time<br>systems that<br>contain a<br>number of natural<br>faults<br>reported for the past three years.<br>The<br>faults found in [...]"
          ],
          [
           "Using the Conceptual Cohesion of Classes for Fault Prediction in Object-Oriented Systems",
           "High cohesion is a desirable property of software as it positively impacts<br>understanding,<br>reuse,<br>and<br>maintenance.<br>Currently<br>proposed<br>measures<br>for<br>cohesion in Object-Oriented (OO) software reflect<br>particular<br>interpretations of<br>cohesion<br>and capture<br>different aspects<br>of it.<br>Existing<br>approaches are<br>largely based on using the<br>structural<br>information from the<br>source code,<br>such as attribute<br>references, in<br>methods to<br>measure<br>cohesion. This paper<br>proposes<br>a new measure<br>for the cohesion of<br>classes in [...]"
          ],
          [
           "Data Mining Static Code Attributes to Learn Defect Predictors",
           "The value of using static code attributes to learn defect predictors has been widely debated. Prior<br>work<br>has<br>explored<br>issues<br>like<br>the<br>merits<br>of<br>\"McCabes versus Halstead versus lines of code counts\" for generating defect<br>predictors. We<br>show<br>here that<br>such debates<br>are<br>irrelevant<br>since how<br>the<br>attributes are used to build predictors is much more<br>important than<br>which<br>particular<br>attributes are used.<br>Also,<br>contrary to prior<br>pessimism, we<br>show<br>that such defect predictors<br>are demonstrably<br>useful and,<br>on the [...]"
          ],
          [
           "The confounding effect of class size on the validity of object-oriented metrics",
           "Much effort has been devoted to the development and empirical validation of object-<br>oriented<br>metrics.<br>The<br>empirical<br>validations<br>performed<br>thus<br>far<br>would suggest that a core set of validated metrics is close to<br>being<br>identified.<br>However, none<br>of these<br>studies allow for<br>the<br>potentially<br>confounding<br>effect of class size. We demonstrate a<br>strong<br>size confounding<br>effect and<br>question the<br>results of previous<br>object-<br>oriented metrics<br>validation studies.<br>We first<br>investigated<br>whether there is [...]"
          ],
          [
           "Predicting fault incidence using software change history",
           "This paper is an attempt to understand the processes by which software ages. We define code to be<br>aged<br>or<br>decayed<br>if<br>its<br>structure<br>makes<br>it<br>unnecessarily difficult to understand or change and we measure the extent of decay<br>by<br>counting the<br>number of<br>faults<br>in<br>code in a period<br>of time.<br>Using<br>change management data from a very large, long-lived<br>software<br>system, we explore<br>the extent<br>to<br>which<br>measurements from the change<br>history<br>are<br>successful in predicting the<br>distribution over<br>modules of [...]"
          ],
          [
           "Predicting fault-prone software modules in telephone switches",
           "An empirical study was carried out at Ericsson Telecom AB to investigate the relationship between<br>several<br>design<br>metrics<br>and<br>the<br>number<br>of<br>function<br>test failure reports associated with software modules. A tool, ERIMET, was<br>developed<br>to<br>analyze<br>the<br>design<br>documents<br>automatically.<br>Preliminary<br>results from the study of 130 modules showed that: based<br>on fault and<br>design<br>data one<br>can<br>satisfactorily<br>build,<br>before coding has<br>started, a<br>prediction model for identifying the most<br>fault-prone<br>modules. The<br>data [...]"
          ],
          [
           "The influence of organizational structure on software quality",
           "Often software systems are developed by organizations consisting of many teams of individuals<br>working<br>together.<br>Brooks<br>states<br>in<br>the<br>Mythical<br>Man<br>Month book that product quality is strongly affected by organization<br>structure.<br>Unfortunately<br>there has<br>been<br>little<br>empirical<br>evidence to date<br>to<br>substantiate this assertion. In this paper we<br>present a metric<br>scheme to<br>quantify<br>organizational<br>complexity, in<br>relation to<br>the product<br>development<br>process to identify if<br>the metrics impact<br>failure-<br>proneness. In [...]"
          ],
          [
           "A comparative analysis of the efficiency of change metrics and static code attributes for defect prediction",
           "In this paper we present a comparative analysis of the predictive power of two different sets of metrics<br>for<br>defect<br>prediction.<br>We<br>choose<br>one<br>set<br>of<br>product related and one set of process related software metrics and use them<br>for<br>classifying Java<br>files of the<br>Eclipse<br>project<br>as<br>defective<br>respective<br>defect-free. Classification models are built using<br>three<br>common machine<br>learners: logistic<br>regression,<br>Naïve Bayes,<br>and<br>decision trees.<br>To allow<br>different costs for prediction<br>errors we<br>perform [...]"
          ],
          [
           "Predicting defects using network analysis on dependency graphs",
           "In software development, resources for quality assurance are limited by time and by cost. In<br>order<br>to<br>allocate<br>resources<br>effectively,<br>managers<br>need<br>to<br>rely on their experience backed by code complexity metrics. But<br>often<br>dependencies<br>exist<br>between various<br>pieces of code over<br>which<br>managers may<br>have<br>little knowledge. These dependencies can<br>be<br>construed as a low<br>level graph<br>of the entire<br>system. In this paper, we<br>propose to<br>use network<br>analysis on<br>these<br>dependency<br>graphs. This allows managers<br>to [...]"
          ],
          [
           "Use of relative code churn measures to predict system defect density",
           "Software systems evolve over time due to changes in requirements, optimization of code, fixes for<br>security<br>and<br>reliability<br>bugs<br>etc.<br>Code<br>churn,<br>which<br>measures the changes made to a component over a period of time,<br>quantifies the extent<br>of<br>this change. We<br>present<br>a<br>technique for<br>early<br>prediction of<br>system defect density using a set of<br>relative code churn measures<br>that<br>relate the amount of<br>churn to<br>other<br>variables such<br>as<br>component size and the<br>temporal extent<br>of churn.Using [...]"
          ],
          [
           "Evaluating the impact of object-oriented design on software quality",
           "Describes the results of a study where the impact of object-oriented (OO) design<br>on<br>software<br>quality<br>characteristics<br>is<br>experimentally<br>evaluated.<br>A<br>suite of Metrics for OO Design (MOOD) was adopted to<br>measure the<br>use of OO<br>design<br>mechanisms. Data<br>collected on<br>the development of<br>eight small-<br>sized<br>information management<br>systems based on<br>identical<br>requirements were<br>used to assess the<br>referred impact.<br>Data obtained in this<br>experiment show<br>how<br>OO<br>design mechanisms<br>such as<br>inheritance, [...]"
          ],
          [
           "Predicting Defects in SAP Java Code: An Experience Report",
           "Which components of a large software system are the most defect-prone? In a study on a large SAP Java<br>system,<br>we<br>evaluated<br>and<br>compared<br>a<br>number<br>of<br>defect predictors, based on code features such as complexity metrics, static<br>error<br>detectors,<br>change<br>frequency, or<br>component<br>imports,<br>thus<br>replicating<br>a number of earlier case studies in an industrial<br>context. We<br>found the<br>overall<br>predictive power to be<br>lower than<br>expected;<br>still, the<br>resulting<br>regression models successfully<br>predicted<br>50–60% of the [...]"
          ],
          [
           "Metrics That Matter",
           "Within NASA, there is an increasing awareness that software is of growing importance to the success<br>of<br>missions.<br>Much<br>data<br>has<br>been<br>collected,<br>and<br>many theories have been advanced on how to reduce or eliminate errors in<br>code.<br>However,<br>learning<br>requires<br>experience.<br>This<br>article documents a<br>new<br>NASA initiative to build a centralized repository of<br>software<br>defect<br>data; in<br>particular, it<br>documents one<br>specific case<br>study on software<br>metrics.<br>Software metrics are used as a<br>basis for<br>prediction<br>of errors [...]"
          ],
          [
           "Ineffectiveness of Use of Software Science Metrics as Predictors of Defects in Object Oriented Software",
           "Software science metrics (SSM) have been widely used as predictors of software defects. The usage of SSM<br>is<br>an<br>effect<br>of<br>correlation<br>of<br>size<br>and<br>complexity metrics with number of defects. The SSM have been proposed keeping in<br>view<br>the<br>procedural<br>paradigm and<br>structural<br>nature of<br>the<br>programs.<br>There has been a shift in software development paradigm<br>from<br>procedural<br>to object<br>oriented (OO) and SSM<br>have been<br>used as<br>defect<br>predictors of OO<br>software as well. However, the<br>effectiveness<br>of SSM in [...]"
          ],
          [
           "Finding Predictors of Field Defects for Open Source Software Systems in Commonly Available Data Sources: a Case Study of OpenBSD",
           "Open source software systems are important components of many business software<br>applications.<br>Field<br>defect<br>predictions<br>for<br>open<br>source<br>software<br>systems may allow organizations to make informed decisions<br>regarding open<br>source<br>software<br>components. In this<br>paper, we<br>remotely<br>measure<br>and analyze<br>predictors (metrics available before<br>release) mined<br>from<br>established data<br>sources (the code<br>repository and the<br>request<br>tracking system)<br>as well as a<br>novel source<br>of data (mailing<br>list<br>archives) for [...]"
          ],
          [
           "Validation of the coupling dependency metric as a predictor of run-time failures and maintenance measures",
           "The coupling dependency metric (CDM) is a successful design quality metric. Here we apply it to four case<br>studies:<br>run-<br>time<br>failure<br>data<br>for<br>a<br>COBOL<br>registration system; maintenance data for a C text-processing utility; maintenance<br>data for a<br>C++<br>patient<br>collaborative<br>care<br>system;<br>and<br>maintenance<br>data for a Java electronic file transfer facility. CDM<br>outperformed a<br>wide<br>variety of<br>competing metrics in<br>predicting<br>run-time<br>failures<br>and a number<br>of different maintenance<br>measures. These [...]"
          ],
          [
           "On the Relationship between Change Coupling and Software Defects",
           "Change coupling is the implicit relationship between two or more software artifacts that have<br>been<br>observed<br>to<br>frequently<br>change<br>together<br>during<br>the<br>evolution of a software system. Researchers have studied this<br>dependency and<br>have observed<br>that<br>it points to<br>design<br>issues such<br>as<br>architectural<br>decay. It is still unknown whether change<br>coupling correlates<br>with a tangible<br>effect<br>of design issues,<br>i.e.,<br>software defects.<br>In<br>this paper we<br>analyze the relationship<br>between change<br>coupling and [...]"
          ],
          [
           "Predicting fault-proneness using OO metrics. An industrial case study",
           "Software quality is an important external software attribute that is difficult to measure objectively.<br>In<br>this<br>case<br>study,<br>we<br>empirically<br>validate<br>a<br>set of object-oriented metrics in terms of their usefulness in predicting<br>fault-<br>proneness,<br>an<br>important<br>software<br>quality indicator We<br>use a set<br>of ten<br>software product metrics that relate to the<br>following<br>software<br>attributes: the<br>size of the<br>software,<br>coupling, cohesion,<br>inheritance, and<br>reuse. Eight<br>hypotheses on the<br>correlations<br>of the<br>metrics with [...]"
          ],
          [
           "A study on fault-proneness detection of object-oriented systems",
           "Fault-proneness detection in object-oriented systems is an interesting area for software<br>companies<br>and<br>researchers.<br>Several<br>hundred<br>metrics<br>have<br>been<br>defined with the aim of measuring the different aspects of<br>object-oriented<br>systems.<br>Only a few of<br>them have been<br>validated<br>for<br>fault<br>detection, and<br>several interesting works with this<br>view have been<br>considered. This<br>paper reports a<br>research study<br>starting from<br>the<br>analysis of<br>more than 200<br>different object-<br>oriented metrics<br>extracted from [...]"
          ],
          [
           "Using Software Dependencies and Churn Metrics to Predict Field Failures: An Empirical Case Study",
           "Commercial software development is a complex task that requires a thorough understanding of the<br>architecture<br>of<br>the<br>software<br>system.<br>We<br>analyze<br>the<br>Windows Server 2003 operating system in order to assess the relationship<br>between<br>its<br>software<br>dependencies, churn<br>measures and<br>post-<br>release<br>failures.<br>Our analysis indicates the ability of software<br>dependencies<br>and<br>churn measures<br>to be efficient<br>predictors of post-<br>release<br>failures.<br>Further, we<br>investigate the relationship<br>between [...]"
          ],
          [
           "Empirical Validation of Three Software Metrics Suites to Predict Fault-Proneness of Object-Oriented Classes Developed Using Highly Iterative or Agile Software Development Processes",
           "Empirical validation of software metrics suites to predict fault proneness in object-oriented<br>(OO)<br>components<br>is<br>essential<br>to<br>ensure<br>their<br>practical<br>use in industrial settings. In this paper, we empirically validate<br>three OO<br>metrics suites<br>for<br>their ability<br>to<br>predict software<br>quality<br>in terms of<br>fault-proneness: the Chidamber and Kemerer<br>(CK) metrics,<br>Abreu's Metrics<br>for<br>Object-Oriented<br>Design<br>(MOOD), and Bansiya and<br>Davis'<br>Quality Metrics for<br>Object-Oriented<br>Design (QMOOD).<br>Some CK class [...]"
          ],
          [
           "Empirical Analysis of Object-Oriented Design Metrics for Predicting High and Low Severity Faults",
           "In the last decade, empirical studies on object-oriented design metrics have shown some of them to<br>be<br>useful<br>for<br>predicting<br>the<br>fault-<br>proneness<br>of<br>classes in object-oriented software systems. This research did not,<br>however,<br>distinguish<br>among<br>faults according to<br>the<br>severity of<br>impact. It<br>would be<br>valuable to know how object-oriented design<br>metrics and<br>class fault-<br>proneness<br>are related when fault<br>severity<br>is taken into<br>account. In<br>this paper, we<br>use logistic<br>regression and<br>machine learning<br>methods [...]"
          ],
          [
           "A validation of object-oriented design metrics as quality indicators",
           "This paper presents the results of a study in which we empirically investigated the suite<br>of<br>object-<br>oriented<br>(OO)<br>design<br>metrics<br>introduced<br>in<br>(Chidamber and Kemerer, 1994). More specifically, our goal is to assess<br>these<br>metrics as<br>predictors<br>of fault-<br>prone<br>classes and,<br>therefore,<br>determine<br>whether they can be used as early quality<br>indicators.<br>This study is<br>complementary to<br>the work<br>described in<br>(Li and Henry,<br>1993) where the<br>same suite<br>of metrics had been<br>used to assess<br>frequencies of<br>maintenance [...]"
          ],
          [
           "Predicting Defects for Eclipse",
           "We have mapped defects from the bug database of Eclipse (one of the largest open-source projects)<br>to<br>source<br>code<br>locations.<br>The<br>resulting<br>data<br>set<br>lists the number of pre- and post-release defects for every package and file<br>in the<br>Eclipse<br>releases<br>2.0, 2.1, and<br>3.0.<br>We<br>additionally<br>annotated the<br>data with common complexity metrics. All data is<br>publicly<br>available and<br>can serve as a<br>benchmark<br>for<br>defect<br>prediction models."
          ],
          [
           "How Good is Your Blind Spot Sampling Policy?",
           "Assessing software costs money and better assessment costs exponentially more money.<br>Given<br>finite<br>budgets,<br>assessment<br>resources<br>are<br>typically<br>skewed<br>towards areas that are believed to be mission critical. This<br>leaves<br>blind spots:<br>portions of<br>the system<br>that may<br>contain<br>defects which may<br>be missed.<br>Therefore, in addition to rigorously<br>assessing<br>mission critical<br>areas, a<br>parallel activity<br>should sample<br>the blind<br>spots. This paper<br>assesses defect<br>detectors<br>based on static<br>code measures as a<br>blind [...]"
          ],
          [
           "Prediction of fault-proneness at early phase in object-oriented development",
           "To analyse the complexity of object-oriented software, several metrics have been proposed.<br>Among<br>them,<br>Chidamber<br>and<br>Kemerer's<br>(1994)<br>metrics<br>are<br>well-known object-oriented metrics. Also, their effectiveness has<br>been<br>empirically<br>evaluated from<br>the<br>viewpoint of<br>estimating the<br>fault-<br>proneness of<br>object-oriented software. In the<br>evaluations,<br>these metrics were<br>applied, not to<br>the<br>design specification<br>but to the source<br>code,<br>because some of them<br>measure<br>the inner<br>complexity of a class, and<br>such [...]"
          ],
          [
           "An Investigation of the Relationships between Lines of Code and Defects",
           "It is always desirable to understand the quality of a software system based on static code<br>metrics.<br>In<br>this<br>paper,<br>we<br>analyze<br>the<br>relationships<br>between Lines of Code (LOC) and defects (including both pre-release and<br>post-<br>release<br>defects). We<br>confirm<br>the<br>ranking ability<br>of<br>(LOC) discovered by<br>Fenton and Ohlsson. Furthermore, we find that<br>the ranking<br>ability of<br>LOC can be<br>formally<br>described<br>using Weibull<br>functions. We<br>can use defect density<br>values calculated from<br>a small<br>percentage of<br>largest modules [...]"
          ],
          [
           "A comprehensive empirical validation of design measures for object-oriented systems",
           "This paper aims at empirically exploring the relationships between existing object-<br>oriented<br>coupling,<br>cohesion,<br>and<br>inheritance<br>measures<br>and<br>the<br>probability of fault detection in system classes during testing.<br>The<br>underlying goal of<br>such a study<br>is to<br>better understand<br>the<br>relationship<br>between<br>existing design measurement in OO systems<br>and<br>the quality of the<br>software developed.<br>Results<br>show that many of the<br>measures<br>capture similar<br>dimensions<br>in the data set,<br>thus<br>reflecting the fact that<br>many of [...]"
          ],
          [
           "An Empirical Study on Object-Oriented Metrics and Software Evolution in order to Reduce Testing Costs by Predicting Change-Prone Classes",
           "Software maintenance cost is typically more than fifty percent of the cost of the total software life<br>cycle<br>and<br>software<br>testing<br>plays<br>a<br>critical<br>role<br>in reducing it. Determining the critical parts of a software system is an<br>important<br>issue,<br>because they<br>are the best<br>place<br>to<br>start testing in<br>order<br>to reduce cost and duration of tests. Software<br>quality is an<br>important key<br>factor to<br>determine critical<br>parts since<br>high<br>quality parts of<br>software are<br>less error prone and<br>easy to maintain.<br>As [...]"
          ],
          [
           "Merits of using repository metrics in defect prediction for open source projects",
           "Many corporate code developers are the beta testers of open source software.They continue testing until they<br>are<br>sure<br>that<br>they<br>have<br>a<br>stable<br>version<br>to build their code on. In this respect defect predictors play a critical role to<br>identify<br>defective<br>parts<br>of<br>the<br>software.<br>Performance of<br>a defect<br>predictor is determined by correctly finding defective parts<br>of the<br>software without<br>giving<br>any<br>false<br>alarms. Having<br>high false alarms<br>means testers/<br>developers would inspect bug free<br>code<br>unnecessarily. [...]"
          ],
          [
           "Using Historical In-Process and Product Metrics for Early Estimation of Software Failures",
           "The benefits that a software organization obtains from estimates of product quality are dependent upon<br>how<br>early<br>in<br>the<br>product<br>cycle<br>that<br>these<br>estimates are available. Early estimation of software quality can help<br>organizations<br>make<br>informed<br>decisions<br>about<br>corrective<br>actions. To<br>provide such<br>early estimates we present an empirical case<br>study of two large<br>scale<br>commercial<br>operating<br>systems,<br>Windows XP and<br>Windows Server<br>2003. In particular,<br>we leverage various<br>historical in-process<br>and<br>product [...]"
          ],
          [
           "New Conceptual Coupling and Cohesion Metrics for Object-Oriented Systems",
           "The paper presents two novel conceptual metrics for measuring coupling and cohesion in<br>software<br>systems.<br>Our<br>first<br>metric,<br>Conceptual<br>Coupling<br>between<br>Object classes (CCBO), is based on the well-known CBO coupling<br>metric,<br>while the<br>other<br>metric,<br>Conceptual Lack of<br>Cohesion on<br>Methods<br>(CLCOM5), is<br>based on the LCOM5 cohesion metric. One<br>advantage of<br>the<br>proposed<br>conceptual metrics<br>is that they can be<br>computed in a<br>simpler (and in<br>many cases,<br>programming<br>language independent)<br>way as<br>compared [...]"
          ],
          [
           "Empirical Analysis of Software Fault Content and Fault Proneness Using Bayesian Methods",
           "We present a methodology for Bayesian analysis of software quality. We cast our research in<br>the<br>broader<br>context<br>of<br>constructing<br>a<br>causal<br>framework<br>that can include process, product, and other diverse sources of<br>information<br>regarding<br>fault<br>introduction<br>during the<br>software<br>development<br>process. In<br>this paper, we discuss the aspect of<br>relating internal<br>product<br>metrics to<br>external quality<br>metrics.<br>Specifically, we<br>build a Bayesian<br>network (BN)<br>model to relate<br>object-oriented<br>software metrics<br>to [...]"
          ],
          [
           "Empirical validation of object-oriented metrics on open source software for fault prediction",
           "Open source software systems are becoming increasingly important these days. Many companies are investing in<br>open<br>source<br>projects<br>and<br>lots<br>of<br>them<br>are<br>also using such software in their own work. But, because open source software is<br>often<br>developed with<br>a<br>different<br>management<br>style than<br>the<br>industrial<br>ones, the quality and reliability of the code needs to<br>be<br>studied. Hence,<br>the<br>characteristics of the<br>source code of<br>these<br>projects need<br>to be measured<br>to obtain more information<br>about it.<br>This [...]"
          ],
          [
           "Assessing the applicability of fault-proneness models across object-oriented software projects",
           "A number of papers have investigated the relationships between design metrics and the detection<br>of<br>faults<br>in<br>object-<br>oriented<br>software.<br>Several<br>of<br>these studies have shown that such models can be accurate in predicting<br>faulty<br>classes<br>within one<br>particular<br>software<br>product. In<br>practice,<br>however,<br>prediction models are built on certain products<br>to be used<br>on<br>subsequent software<br>development<br>projects. How<br>accurate can<br>these models be,<br>considering<br>the inevitable<br>differences that may<br>exist<br>across projects [...]"
          ]
         ],
         "hovertemplate": "Topic=Software Fault Prediction Metrics<br>x=%{x}<br>y=%{y}<br>title=%{customdata[0]}<br>abstract=%{customdata[1]}<extra></extra>",
         "legendgroup": "Software Fault Prediction Metrics",
         "marker": {
          "color": "#ff33cc",
          "size": 5,
          "symbol": "x"
         },
         "mode": "markers",
         "name": "Software Fault Prediction Metrics",
         "orientation": "v",
         "showlegend": true,
         "type": "scatter",
         "x": [
          11.376922,
          12.078104,
          10.83849,
          11.565803,
          11.934808,
          11.2001095,
          11.213705,
          11.872679,
          10.970538,
          11.128762,
          11.181014,
          11.648063,
          11.917592,
          11.022042,
          10.857196,
          11.80597,
          10.924284,
          11.2877,
          11.558185,
          11.100789,
          11.542357,
          11.544606,
          11.256283,
          10.995589,
          11.611205,
          11.50784,
          11.18844,
          11.635117,
          10.958553,
          10.964189,
          11.048369,
          11.03818,
          11.261401,
          11.127375,
          11.033969,
          11.01954,
          11.601527,
          12.07528,
          11.027781,
          11.564063,
          10.91416,
          11.19639,
          11.515345,
          11.252445,
          10.880039,
          12.362352,
          11.096548,
          11.236887
         ],
         "xaxis": "x",
         "y": [
          18.381897,
          18.637579,
          18.095564,
          18.081608,
          18.20634,
          18.364977,
          18.482904,
          18.227106,
          17.896572,
          17.93675,
          18.379244,
          18.528532,
          18.141804,
          17.825373,
          17.998878,
          18.821293,
          17.822012,
          18.362188,
          18.159061,
          17.814945,
          18.654446,
          18.621084,
          18.503023,
          17.735355,
          18.677402,
          17.657732,
          17.971006,
          18.502838,
          18.088802,
          18.31219,
          17.911766,
          17.89002,
          18.478838,
          17.845976,
          17.906113,
          17.838638,
          18.6834,
          18.781197,
          17.883572,
          18.689106,
          17.85006,
          17.753832,
          18.596329,
          18.38363,
          17.998322,
          18.323408,
          17.880669,
          17.81187
         ],
         "yaxis": "y"
        },
        {
         "customdata": [
          [
           "Effectiveness of Requirements Elicitation Techniques: Empirical Results Derived from a Systematic Review",
           "This paper reports a systematic review of empirical studies concerning the effectiveness<br>of<br>elicitation<br>techniques,<br>and<br>the<br>subsequent<br>aggregation<br>of<br>empirical evidence gathered from those studies. The most<br>significant<br>results of the<br>aggregation<br>process are<br>as<br>follows: (1)<br>Interviews,<br>preferentially<br>structured, appear to be one of<br>the most<br>effective elicitation<br>techniques; (2)<br>Many techniques<br>often<br>cited in the<br>literature, like<br>card sorting,<br>ranking or<br>thinking<br>aloud, tend to be less<br>effective than [...]"
          ],
          [
           "Mobile Systems Development: A Literature Review",
           "This article reviews 105 representative contributions to the literature on mobile<br>systems<br>development.<br>The<br>contributions<br>are<br>categorized<br>according<br>to<br>a simple conceptual framework. The framework comprises<br>four<br>perspectives: the<br>requirements<br>perspective,<br>the<br>technology perspective,<br>the<br>application<br>perspective, and the<br>business<br>perspective. Our literature<br>review shows that<br>mobile<br>systems<br>development is overlooked in the<br>current<br>debate. From<br>the<br>review, we<br>extend the traditional view on<br>systems [...]"
          ],
          [
           "Systematic review of organizational motivations for adopting CMM-based SPI",
           "Background: Software Process Improvement (SPI) is intended to improve software engineering, but can<br>only<br>be<br>effective<br>if<br>used.<br>To<br>improve<br>SPI’s<br>uptake, we should understand why organizations adopt SPI. CMM-based SPI approaches<br>are<br>widely<br>known and<br>studied.<br>Objective:<br>We<br>investigated<br>why<br>organizations adopt CMM-based SPI approaches, and how these<br>motivations<br>relate<br>to<br>organizations’ size.<br>Method: We<br>performed a<br>systematic<br>review,<br>examining reasons reported in more than<br>forty [...]"
          ],
          [
           "In search of `architectural knowledge'",
           "The software architecture community puts more and more emphasis on 'architectural knowledge'.<br>However,<br>there<br>appears<br>to<br>be<br>no<br>commonly<br>accepted<br>definition of what architectural knowledge entails, which makes it a fuzzy<br>concept. In<br>order to<br>obtain<br>a<br>better<br>understanding<br>of how<br>different authors<br>view 'architectural knowledge', we have conducted<br>a systematic<br>review to<br>examine<br>how<br>architectural<br>knowledge is defined<br>and how<br>the different<br>definitions in use are related.<br>From this review<br>it became<br>clear [...]"
          ],
          [
           "Software process improvement in small and medium software enterprises: a systematic review",
           "Small and medium enterprises are a very important cog in the gears of the world economy. The software<br>industry<br>in<br>most<br>countries<br>is<br>composed<br>of<br>an<br>industrial scheme that is made up mainly of small and medium software<br>enterprises—SMEs.<br>To<br>strengthen these<br>types<br>of<br>organizations,<br>efficient<br>Software<br>Engineering practices are needed—practices<br>which have been adapted<br>to<br>their size and type<br>of<br>business. Over<br>the last two<br>decades, the<br>Software<br>Engineering community has<br>expressed special [...]"
          ],
          [
           "Status of Empirical Research in Software Engineering",
           "We provide an assessment of the status of empirical software research by analyzing all refereed<br>articles<br>that<br>appeared<br>in<br>the<br>Journal<br>of<br>Empirical<br>Software Engineering from its first issue in January 1996 through June<br>2006.<br>The<br>journal<br>publishes<br>empirical<br>software<br>research<br>exclusively and it is<br>the only journal to do so. The main findings<br>are: 1.<br>The<br>dominant empirical<br>methods are<br>experiments<br>and case<br>studies. Other<br>methods (correlational<br>studies, meta<br>analysis,<br>surveys,<br>descriptive approaches, ex [...]"
          ],
          [
           "A Conceptual Model of ICT-Supported Unified Process of International Outsourcing of Software Production",
           "This is an ongoing research in international outsourcing software production. This research<br>examines<br>how<br>Software<br>production<br>through<br>the<br>ICT-<br>supported<br>unified process of international outsourcing could be executed<br>and<br>managed<br>effectively. To<br>address this<br>research question,<br>the<br>results of<br>an in-depth<br>literature review in the areas<br>of<br>outsourcing,<br>international outsourcing,<br>information<br>technology, and<br>international<br>software production<br>is presented.<br>This<br>study<br>proposes the<br>information [...]"
          ],
          [
           "MEASUREMENT IN SOFTWARE ENGINEERING: FROM THE ROADMAP TO THE CROSSROADS",
           "Research on software measurement can be organized around five key conceptual and methodological<br>issues:<br>how<br>to<br>apply<br>measurement<br>theory<br>to<br>software,<br>how to frame software metrics, how to develop metrics, how to collect<br>core measures,<br>and<br>how to<br>analyze<br>measures. The<br>subject is<br>of<br>special concern<br>for the industry, which is interested in<br>improving practices —<br>mainly in<br>developing<br>countries,<br>where the<br>software<br>industry<br>represents an opportunity<br>for growth and<br>usually receives<br>institutional support<br>for [...]"
          ],
          [
           "The Role of Deliberate Artificial Design Elements in Software Engineering Experiments",
           "Increased realism in software engineering experiments is often promoted as an<br>important<br>means<br>of<br>increasing<br>generalizability<br>and<br>industrial<br>relevance.<br>In this context, artificiality, e.g., the use of<br>constructed tasks<br>in place<br>of<br>realistic tasks,<br>is seen as a<br>threat. In<br>this paper, we<br>examine the<br>opposite view that<br>deliberately introduced<br>artificial<br>design<br>elements may increase<br>knowledge gain and<br>enhance both<br>generalizability and<br>relevance.<br>In<br>the first part of this<br>paper, we<br>identify [...]"
          ],
          [
           "Improving Evidence about Software Technologies: A Look at Model-Based Testing",
           "A rich body of experiences hasn't yet been published on all the software development techniques<br>researchers<br>have<br>proposed.<br>In<br>fact,<br>by<br>some<br>estimates,<br>the techniques for which we do have substantial experience are few and<br>far between.<br>When we<br>started looking<br>at<br>the<br>evidence on<br>model-<br>based testing<br>(MBT), we thought we'd come across some strong<br>studies that<br>showed this<br>approach's<br>capabilities<br>compared to<br>conventional<br>testing<br>techniques-this<br>wasn't the case. However, we<br>can still<br>extract some [...]"
          ],
          [
           "Challenges in Collaborative Modeling: A Literature Review",
           "Modeling is a key activity in conceptual design and system design. Users as well as stakeholders, experts<br>and<br>entrepreneurs<br>need<br>to<br>be<br>able<br>to<br>create<br>shared understanding about a system representation. In this paper we conducted<br>a<br>literature review to<br>provide<br>an<br>overview of<br>studies<br>in<br>which<br>collaborative modeling efforts have been conducted to give<br>first<br>insights in the challenges<br>of<br>collaborative<br>modeling,<br>specifically<br>with<br>respect to<br>group composition, collaboration<br>&<br>participation methods, modeling [...]"
          ],
          [
           "An analysis of data sets used to train and validate cost prediction systems",
           "OBJECTIVE - to build up a picture of the nature and type of data sets being used to<br>develop<br>and<br>evaluate<br>different<br>software<br>project<br>effort<br>prediction<br>systems. We believe this to be important since there is a<br>growing body<br>of<br>published work<br>that seeks to<br>assess<br>different<br>prediction<br>approaches.METHOD -<br>we performed an exhaustive search<br>from 1980<br>onwards<br>from three software<br>engineering<br>journals for<br>research papers<br>that used<br>project data sets to<br>compare cost<br>prediction<br>systems.RESULTS<br>- this identified [...]"
          ],
          [
           "Developing Open Source Software: A Community-Based Analysis of Research",
           "Open source software (OSS) creates the potential for the inclusion of large and diverse communities<br>in<br>every<br>aspect<br>of<br>the<br>software<br>development<br>and<br>consumption life cycle. However, despite 6 years of effort by an ever<br>growing<br>research<br>community, we<br>still<br>don’t<br>know exactly<br>what we do and<br>don’t<br>know about OSS, nor do we have a clear idea about<br>the basis<br>for our<br>knowledge. This paper<br>presents<br>an<br>analysis of 155<br>research artefacts in<br>the area<br>of open source software.<br>The purpose of<br>the study<br>is to [...]"
          ],
          [
           "Where Is the Proof? - A Review of Experiences from Applying MDE in Industry",
           "Model-Driven Engineering (MDE) has been promoted as a solution to handle the complexity of<br>software<br>development<br>by<br>raising<br>the<br>abstraction<br>level<br>and<br>automating labor-intensive and error-prone tasks. However, few<br>efforts have been<br>made at<br>collecting<br>evidence<br>to<br>evaluate its benefits<br>and<br>limitations,<br>which is the subject of this review.<br>We searched several<br>publication<br>channels in the<br>period 2000<br>to<br>June 2007 for empirical<br>studies on<br>applying MDE in<br>industry,<br>which produced 25 papers<br>for the [...]"
          ],
          [
           "Tailoring and Introduction of the Rational Unified Process",
           "RUP is a comprehensive software development process framework that has gained a lot of interest by<br>the<br>industry.<br>One<br>major<br>challenge<br>of<br>taking<br>RUP<br>into use is to tailor it to specific needs and then to introduce it into<br>a<br>development<br>organization. This<br>study<br>presents a<br>review and<br>a<br>systematic<br>assembly of existing studies on the tailoring<br>and<br>introduction of RUP.<br>From a systematic<br>search for<br>study reports on<br>this topic we<br>found<br>that most<br>research is anecdotal and<br>focus<br>on the effects of RUP<br>itself. [...]"
          ],
          [
           "A new research agenda for tool integration",
           "This article highlights tool integration within software engineering environments. Tool integration<br>concerns<br>the<br>techniques<br>used<br>to<br>form<br>coalitions<br>of<br>tools that provide an environment supporting some, or all, activities<br>within a<br>software<br>engineering<br>process.<br>These<br>techniques have<br>been used to<br>create<br>environments that attempt to address aspects<br>of software<br>development,<br>with varying<br>success. This<br>article<br>provides a timely<br>analysis and<br>review of many<br>of the significant<br>projects in the<br>field [...]"
          ],
          [
           "Software Project Economics: A Roadmap",
           "The objective of this paper is to consider research progress in the field of software<br>project<br>economics<br>with<br>a<br>view<br>to<br>identifying<br>important<br>challenges and promising research directions. I argue that this is an<br>important<br>sub-discipline<br>since<br>this<br>will<br>underpin<br>any cost-benefit<br>analysis used<br>to justify the resourcing, or otherwise, of a<br>software<br>project. To<br>accomplish this<br>I<br>conducted a<br>bibliometric<br>analysis of peer<br>reviewed research<br>articles to identify major<br>areas of<br>activity. My<br>results indicate [...]"
          ],
          [
           "Experimental Context Classification: Incentives and Experience of Subjects",
           "There is a need to identify factors that affect the result of empirical studies in software engineering<br>research.<br>It<br>is<br>still<br>the<br>case<br>that<br>seemingly<br>identical replications of controlled experiments result in different conclusions<br>due to the<br>fact<br>that<br>all<br>factors<br>describing<br>the<br>experiment context<br>are not clearly defined and hence controlled. In this<br>article, a scheme<br>for<br>describing<br>the<br>participants<br>of<br>controlled<br>experiments is proposed and<br>evaluated. It consists of two main<br>factors, the<br>incentives [...]"
          ],
          [
           "Evidence-based guidelines for assessment of software development cost uncertainty",
           "Several studies suggest that uncertainty assessments of software development costs are<br>strongly<br>biased<br>toward<br>overconfidence,<br>i.e.,<br>that<br>software<br>cost<br>estimates typically are believed to be more accurate than they<br>really are.<br>This<br>overconfidence<br>may lead to poor<br>project<br>planning.<br>As a means<br>of<br>improving cost uncertainty assessments, we<br>provide evidence-<br>based<br>guidelines for how<br>to assess software<br>development<br>cost<br>uncertainty, based on<br>results<br>from relevant<br>empirical studies. The<br>general<br>guidelines [...]"
          ],
          [
           "Quality, productivity and economic benefits of software reuse: a review of industrial studies",
           "Systematic software reuse is proposed to increase productivity and software quality and<br>lead<br>to<br>economic<br>benefits.<br>Reports<br>of<br>successful<br>software<br>reuse programs in industry have been published. However, there has<br>been<br>little<br>effort to<br>organize<br>the<br>evidence<br>systematically and appraise<br>it. This<br>review aims to assess the effects of software<br>reuse<br>in<br>industrial contexts.<br>Journals and<br>major<br>conferences<br>between 1994 and 2005 were<br>searched to find<br>observational<br>studies<br>and<br>experiments conducted in [...]"
          ],
          [
           "Techniques for developing more accessible web applications",
           "The Web has become one of the most important communication media, since it is spread all over the world.<br>In<br>order<br>to<br>enable<br>everyone<br>to<br>access<br>this<br>medium, Web accessibility has become an emerging topic, and many techniques have<br>been<br>evolved to<br>support<br>the<br>development<br>of<br>accessible Web<br>content.<br>This paper presents a survey on techniques for Web<br>accessibility<br>and proposes<br>a<br>classification into<br>the processes<br>of<br>ISO/IEC 12207<br>standard. The<br>survey was carried out applying<br>systematic [...]"
          ],
          [
           "A systematic review of effect size in software engineering experiments",
           "An effect size quantifies the effects of an experimental treatment. Conclusions drawn from<br>hypothesis<br>testing<br>results<br>might<br>be<br>erroneous<br>if<br>effect<br>sizes are not judged in addition to statistical significance. This<br>paper reports a<br>systematic<br>review of<br>92<br>controlled<br>experiments<br>published<br>in 12<br>major software engineering journals and<br>conference proceedings in<br>the decade<br>1993–2002. The<br>review<br>investigates<br>the practice of<br>effect size<br>reporting,<br>summarizes<br>standardized effect sizes<br>detected in [...]"
          ],
          [
           "Data sets and data quality in software engineering",
           "OBJECTIVE - to assess the extent and types of techniques used to manage quality within software<br>engineering<br>data<br>sets.<br>We<br>consider<br>this<br>a<br>particularly<br>interesting question in the context of initiatives to promote sharing<br>and secondary<br>analysis<br>of data<br>sets.<br>METHOD - we<br>perform<br>a<br>systematic review of<br>available empirical software engineering<br>studies. RESULTS -<br>only 23 out of<br>the many<br>hundreds of<br>studies<br>assessed,<br>explicitly<br>considered data quality.<br>CONCLUSIONS -<br>first, the community<br>needs to consider [...]"
          ],
          [
           "A Quantitative Assessment of Requirements Engineering Publications – 1963–2006",
           "Requirements engineering research has been conducted for over 40 years. It is important to recognize<br>the<br>plethora<br>of<br>results<br>accumulated<br>to<br>date<br>to:<br>(a) improve researchers’ understanding of the historical roots of our field in<br>the<br>real-world and<br>the<br>problems<br>that they are<br>trying to<br>solve,<br>(b)<br>expose researchers to the breadth and depth of solutions<br>that have<br>been proposed,<br>(c)<br>provide a<br>synergistic basis for<br>improving those<br>solutions<br>or<br>building new ones to solve real-<br>world problems<br>facing the [...]"
          ],
          [
           "How Does a Measurement Programme Evolve in Software Organizations?",
           "Establishing a software measurement programme within an organization is not a<br>straightforward<br>task.<br>Previous<br>literature<br>surveys<br>have<br>focused<br>on<br>software process improvement in general and software<br>measurement has been<br>analysed in<br>case studies.<br>This<br>literature survey<br>collects<br>the data<br>from<br>separate cases and presents the<br>critical success factors<br>that are<br>specific to<br>software<br>measurement programmes. We<br>present a<br>categorization of<br>the<br>success<br>factors based on organizational<br>roles that<br>are involved [...]"
          ],
          [
           "A survey and taxonomy of approaches for mining software repositories in the context of software evolution",
           "Abstract A comprehensive literature survey on approaches for mining software repositories (MSR) in<br>the<br>context<br>of<br>software<br>evolution<br>is<br>presented.<br>In<br>particular, this survey deals with those investigations that examine<br>multiple<br>versions of<br>software<br>artifacts or<br>other<br>temporal<br>information. A<br>taxonomy<br>is derived from the analysis of this<br>literature and<br>presents the work<br>via four<br>dimensions: the type<br>of<br>software<br>repositories mined (what),<br>the purpose<br>(why), the<br>adopted/invented<br>methodology used [...]"
          ],
          [
           "The type of evidence produced by empirical software engineers",
           "This paper reports on the research published between the years 1997 and 2003 inclusive in<br>the<br>journal<br>of<br>Empirical<br>Software<br>Engineering,<br>drawing<br>on<br>the taxonomy developed by Glass et al. in [3]. We found that the<br>research<br>was<br>somewhat<br>narrow in topic<br>with about<br>half the papers<br>focusing<br>on<br>measurement/metrics, review and inspection; that<br>researchers<br>were<br>almost as<br>interested in<br>formulating as in<br>evaluating; that<br>hypothesis testing<br>and<br>laboratory experiments<br>dominated<br>evaluations; that<br>research [...]"
          ]
         ],
         "hovertemplate": "Topic=Cloud Migration<br>x=%{x}<br>y=%{y}<br>title=%{customdata[0]}<br>abstract=%{customdata[1]}<extra></extra>",
         "legendgroup": "Cloud Migration",
         "marker": {
          "color": "#00cc99",
          "size": 5,
          "symbol": "x"
         },
         "mode": "markers",
         "name": "Cloud Migration",
         "orientation": "v",
         "showlegend": true,
         "type": "scatter",
         "x": [
          11.775931,
          11.797424,
          11.638592,
          11.789645,
          11.639922,
          11.744787,
          11.637803,
          11.615127,
          11.832409,
          11.801651,
          12.142094,
          11.821203,
          11.577138,
          11.772329,
          11.992022,
          11.790107,
          11.730772,
          11.856291,
          11.855806,
          11.6975355,
          11.747497,
          11.713949,
          11.745695,
          11.768667,
          11.558748,
          11.575326,
          11.784273
         ],
         "xaxis": "x",
         "y": [
          16.786606,
          16.173113,
          16.303148,
          16.58316,
          16.203022,
          16.927746,
          15.581318,
          16.93163,
          16.785082,
          16.949396,
          14.668816,
          17.341173,
          17.166042,
          16.62148,
          15.066792,
          16.573317,
          17.067852,
          16.977549,
          17.276419,
          16.590744,
          16.580599,
          16.77537,
          17.03848,
          16.889574,
          16.955585,
          17.25338,
          16.977163
         ],
         "yaxis": "y"
        },
        {
         "customdata": [
          [
           "A Unified Framework for Defect Data Analysis Using the MBR Technique",
           "Failures of mission-critical software systems can have catastrophic consequences and, hence,<br>there<br>is<br>strong<br>need<br>for<br>scientifically<br>rigorous<br>methods<br>for assuring high system reliability. To reduce the V&V cost<br>for<br>achieving<br>high<br>confidence<br>levels,<br>quantitatively based<br>software defect<br>prediction<br>techniques can be used to effectively<br>estimate<br>defects from<br>prior<br>data. Better<br>prediction<br>models facilitate better<br>project planning and<br>risk/cost<br>estimation. Memory<br>Based<br>Reasoning (MBR) is<br>one [...]"
          ],
          [
           "A Novel Method for Early Software Quality Prediction Based on Support Vector Machine",
           "The software development process imposes major impacts on the quality of software at every<br>development<br>stage;<br>therefore,<br>a<br>common<br>goal<br>of<br>each<br>software development phase concerns how to improve software quality.<br>Software quality<br>prediction<br>thus aims<br>to<br>evaluate<br>software<br>quality<br>level<br>periodically and to indicate software quality<br>problems early. In this<br>paper, we propose<br>a novel<br>technique<br>to predict<br>software<br>quality by<br>adopting<br>Support Vector Machine<br>(SVM) in the classification of<br>software [...]"
          ],
          [
           "Software Fault Prediction Based on Grey Neural Network",
           "Considering determining the number of software fault is an uncertain non-linear problem with<br>only<br>small<br>sample,<br>a<br>novel<br>software<br>fault<br>prediction<br>method based on grey neural network is put forward. Firstly, constructing<br>the<br>grey<br>neural<br>network<br>topological<br>structure<br>according the<br>small sample<br>sequence is necessary, and then the network<br>learning<br>algorithm is<br>discussed.<br>Finally, the<br>grey neural<br>network<br>prediction model based<br>on the grey<br>theory and artificial<br>neural network<br>is proposed. The<br>sample [...]"
          ],
          [
           "Using Coding-Based Ensemble Learning to Improve Software Defect Prediction",
           "Using classification methods to predict software defect proneness with static code attributes has<br>attracted<br>a<br>great<br>deal<br>of<br>attention.<br>The<br>class-<br>imbalance characteristic of software defect data makes the prediction much<br>difficult; thus,<br>a<br>number of<br>methods<br>have<br>been employed<br>to<br>address this<br>problem. However, these conventional methods, such as<br>sampling, cost-<br>sensitive<br>learning,<br>Bagging, and<br>Boosting,<br>could suffer<br>from the<br>loss of<br>important information, unexpected<br>mistakes, and<br>overfitting [...]"
          ],
          [
           "Comparing Boosting and Bagging Techniques with Noisy and Imbalanced Data",
           "This paper compares the performance of several boosting and bagging techniques in the context of<br>learning<br>from<br>imbalanced<br>and<br>noisy<br>binary-<br>class<br>data.<br>Noise and class imbalance are two well-established data characteristics<br>encountered<br>in a<br>wide range of<br>data<br>mining and<br>machine<br>learning<br>initiatives.<br>The learning algorithms studied in this paper,<br>which include<br>SMOTEBoost,<br>RUSBoost,<br>Exactly<br>Balanced Bagging,<br>and Roughly<br>Balanced<br>Bagging, combine<br>boosting or bagging with<br>data sampling to<br>make them [...]"
          ],
          [
           "Software Quality Analysis of Unlabeled Program Modules with Semisupervised Clustering",
           "Software quality assurance is a vital component of software project development. A<br>software<br>quality<br>estimation<br>model<br>is<br>trained<br>using<br>software<br>measurement and defect (software quality) data of a previously<br>developed<br>release or<br>similar project.<br>Such an<br>approach<br>assumes<br>that the<br>development<br>organization has experience with systems<br>similar to the<br>current<br>project and that defect<br>data are<br>available for<br>all modules<br>in the<br>training data. In<br>software<br>engineering practice,<br>however, various<br>practical issues [...]"
          ],
          [
           "A General Software Defect-Proneness Prediction Framework",
           "BACKGROUND - Predicting defect-prone software components is an economically important activity and so<br>has<br>received<br>a<br>good<br>deal<br>of<br>attention.<br>However,<br>making sense of the many, and sometimes seemingly inconsistent, results is<br>difficult.<br>OBJECTIVE -<br>We<br>propose<br>and<br>evaluate a<br>general<br>framework for<br>software defect prediction that supports 1) unbiased<br>and 2)<br>comprehensive<br>comparison<br>between<br>competing<br>prediction systems.<br>METHOD -<br>The framework is<br>comprised of 1) scheme<br>evaluation and 2)<br>defect<br>prediction [...]"
          ],
          [
           "Predicting the location and number of faults in large software systems",
           "Advance knowledge of which files in the next release of a large software system are most likely to contain the<br>largest<br>numbers<br>of<br>faults<br>can<br>be<br>a<br>very<br>valuable asset. To accomplish this, a negative binomial regression model has been<br>developed and<br>used to<br>predict<br>the expected<br>number<br>of<br>faults<br>in each<br>file of the next release of a system. The predictions are<br>based on the code<br>of the<br>file in the<br>current release,<br>and fault<br>and<br>modification<br>history of<br>the file from previous releases.<br>The model has [...]"
          ],
          [
           "Predicting software defects in varying development lifecycles using Bayesian nets",
           "An important decision in software projects is when to stop testing. Decision support tools for this<br>have<br>been<br>built<br>using<br>causal<br>models<br>represented<br>by<br>Bayesian Networks (BNs), incorporating empirical data and expert<br>judgement.<br>Previously,<br>this<br>required a<br>custom BN for<br>each<br>development<br>lifecycle. We<br>describe a more general approach that<br>allows causal<br>models to be<br>applied to any<br>lifecycle.<br>The approach<br>evolved<br>through collaborative<br>projects and<br>captures<br>significant commercial<br>input. For<br>projects [...]"
          ],
          [
           "Practical development of an Eclipse-based software fault prediction tool using Naive Bayes algorithm",
           "Despite the amount of effort software engineers have been putting into developing fault<br>prediction<br>models,<br>software<br>fault<br>prediction<br>still<br>poses<br>great<br>challenges. This research using machine learning and<br>statistical techniques<br>has been<br>ongoing for<br>15years, and<br>yet we still<br>have not<br>had<br>a<br>breakthrough. Unfortunately, none of<br>these prediction models have<br>achieved<br>widespread<br>applicability in the<br>software industry<br>due to a lack<br>of<br>software<br>tools to<br>automate this prediction process.<br>Historical<br>project [...]"
          ],
          [
           "Investigating the effect of dataset size, metrics sets, and feature selection techniques on software fault prediction problem",
           "Software quality engineering comprises of several quality assurance activities such<br>as<br>testing,<br>formal<br>verification,<br>inspection,<br>fault<br>tolerance,<br>and<br>software fault prediction. Until now, many researchers<br>developed<br>and validated<br>several<br>fault prediction<br>models by using<br>machine<br>learning<br>and<br>statistical techniques. There have been<br>used<br>different kinds of<br>software metrics<br>and diverse feature<br>reduction<br>techniques in order<br>to improve<br>the<br>models’<br>performance.<br>However, these studies did<br>not investigate [...]"
          ],
          [
           "Software fault prediction metrics: A systematic literature review",
           "ContextSoftware metrics may be used in fault prediction models to improve software<br>quality<br>by<br>predicting<br>fault<br>location.ObjectiveThis<br>paper<br>aims<br>to<br>identify software metrics and to assess their applicability<br>in software<br>fault<br>prediction.<br>We<br>investigated the influence of<br>context<br>on<br>metrics’<br>selection and performance.MethodThis<br>systematic literature<br>review<br>includes 106<br>papers<br>published between 1991 and 2011.<br>The selected<br>papers<br>are<br>classified according<br>to metrics [...]"
          ],
          [
           "An empirical study of predicting software faults with case-based reasoning",
           "The resources allocated for software quality assurance and improvement have not increased with the<br>ever-<br>increasing<br>need<br>for<br>better<br>software<br>quality.<br>A<br>targeted software quality inspection can detect faulty modules and reduce<br>the<br>number of<br>faults<br>occurring<br>during<br>operations. We<br>present a<br>software<br>fault prediction modeling approach with case-based<br>reasoning<br>(CBR), a part<br>of<br>the<br>computational<br>intelligence field focusing<br>on automated<br>reasoning<br>processes. A CBR system<br>functions as a<br>software [...]"
          ],
          [
           "Predicting defect-prone software modules using support vector machines",
           "Effective prediction of defect-prone software modules can enable software developers to<br>focus<br>quality<br>assurance<br>activities<br>and<br>allocate<br>effort<br>and<br>resources more efficiently. Support vector machines (SVM) have<br>been<br>successfully<br>applied for solving<br>both<br>classification<br>and<br>regression<br>problems in<br>many applications. This paper evaluates<br>the<br>capability of SVM in<br>predicting defect-<br>prone<br>software modules and<br>compares<br>its prediction<br>performance<br>against eight<br>statistical<br>and machine learning<br>models in the [...]"
          ],
          [
           "On the relative value of cross-company and within-company data for defect prediction",
           "We propose a practical defect prediction approach for companies that do not track<br>defect<br>related<br>data.<br>Specifically,<br>we<br>investigate<br>the<br>applicability<br>of cross-company (CC) data for building localized defect<br>predictors<br>using<br>static code<br>features. Firstly,<br>we<br>analyze the<br>conditions,<br>where CC data can<br>be used as is. These conditions<br>turn out to be<br>quite<br>few. Then we apply<br>principles of<br>analogy-based<br>learning (i.e.<br>nearest<br>neighbor (NN) filtering) to<br>CC<br>data, in order to fine<br>tune<br>these models [...]"
          ],
          [
           "Regression via Classification applied on software defect estimation",
           "In this paper we apply Regression via Classification (RvC) to the problem of estimating the number<br>of<br>software<br>defects.<br>This<br>approach<br>apart<br>from<br>a<br>certain number of faults, it also outputs an associated interval of values,<br>within<br>which this<br>estimate lies<br>with a<br>certain<br>confidence.<br>RvC also<br>allows<br>the production of comprehensible models of software<br>defects<br>exploiting<br>symbolic learning<br>algorithms.<br>To evaluate<br>this approach<br>we perform an<br>extensive<br>comparative experimental<br>study of the<br>effectiveness<br>of [...]"
          ],
          [
           "The design of polynomial function-based neural network predictors for detection of software defects",
           "In this study, we introduce a design methodology of polynomial function-based Neural<br>Network<br>(pf-<br>NN)<br>classifiers<br>(predictors).<br>The<br>essential<br>design<br>components include Fuzzy C-Means (FCM) regarded as a generic<br>clustering<br>algorithm<br>and<br>polynomials<br>providing all<br>required<br>nonlinear<br>capabilities of the<br>model. The learning method uses a<br>weighted cost<br>function<br>(objective<br>function) while<br>to analyze the<br>performance of<br>the system we<br>engage a standard<br>receiver<br>operating<br>characteristics (ROC)<br>analysis. [...]"
          ],
          [
           "Identifying and characterizing change-prone classes in two large-scale open-source products",
           "Developing and maintaining open-source software has become an important source of profit for<br>many<br>companies.<br>Change-<br>prone<br>classes<br>in<br>open-<br>source<br>products increase project costs by requiring developers to spend effort<br>and<br>time. Identifying<br>and<br>characterizing<br>change-<br>prone<br>classes can<br>enable<br>developers to focus timely preventive actions, for<br>example,<br>peer-reviews<br>and<br>inspections, on the classes<br>with<br>similar<br>characteristics in the<br>future<br>releases or products. In this<br>study, we<br>collected a [...]"
          ],
          [
           "Defect prediction from static code features: current results, limitations, new approaches",
           "Building quality software is expensive and software quality assurance (QA) budgets are limited.<br>Data<br>miners<br>can<br>learn<br>defect<br>predictors<br>from<br>static<br>code features which can be used to control QA resources; e.g. to focus on<br>the<br>parts of the<br>code<br>predicted to<br>be<br>more<br>defective.Recent<br>results show<br>that better data mining technology is not leading to<br>better<br>defect<br>predictors. We<br>hypothesize that<br>we have<br>reached<br>the limits of the<br>standard learning<br>goal of maximizing area<br>under the<br>curve (AUC) of<br>the [...]"
          ],
          [
           "Empirical Assessment of Machine Learning based Software Defect Prediction Techniques",
           "The wide-variety of real-time software systems, including telecontrolltelepresence systems,<br>robotic<br>systems,<br>and<br>mission<br>planning<br>systems,<br>can<br>entail<br>dynamic code synthesis based on runtime mission-specific<br>requirements and<br>operating<br>conditions.<br>This<br>necessitates the<br>need for<br>dynamic<br>dependability<br>assessment to ensure that these<br>systems will perform<br>as specified<br>and will not<br>fail in<br>catastrophic ways. One<br>approach in<br>achieving<br>this is to<br>dynamically<br>assess the modules in the<br>synthesized code<br>using [...]"
          ],
          [
           "A Comparative Study of Ensemble Feature Selection Techniques for Software Defect Prediction",
           "Feature selection has become the essential step in many data mining applications. Using a<br>single<br>feature<br>subset<br>selection<br>method<br>may<br>generate<br>local<br>optima. Ensembles of feature selection methods attempt to combine<br>multiple<br>feature<br>selection<br>methods instead of<br>using a<br>single<br>one. We<br>present a<br>comprehensive empirical study examining 17<br>different<br>ensembles of<br>feature ranking<br>techniques (rankers)<br>including six<br>commonly-<br>used<br>feature ranking<br>techniques, the<br>signal-to-noise<br>filter technique,<br>and 11 [...]"
          ],
          [
           "Extract Rules from Software Quality Prediction Model Based on Neural Network",
           "To get a highly reliable software product to the market on schedule, software engineers must<br>allocate<br>resources<br>on<br>the<br>fault-<br>prone<br>software<br>modules<br>across the development effort. Software quality models based upon data<br>mining from<br>past<br>projects<br>can<br>identify fault-<br>prone<br>modules in<br>current similar<br>development efforts. So that resources can be<br>focused on<br>fault-prone<br>modules to<br>improve<br>quality prior to<br>release.<br>Many researchers<br>have applied the<br>neural networks approach<br>to predict<br>software [...]"
          ],
          [
           "Empirical Case Studies in Attribute Noise Detection",
           "The quality of data is an important issue in any domain-specific data mining and knowledge<br>discovery<br>initiative.<br>The<br>validity<br>of<br>solutions<br>produced<br>by<br>data-driven algorithms can be diminished if the data being<br>analyzed are of low<br>quality. The<br>quality<br>of data is<br>often<br>realized in<br>terms of data<br>noise<br>present in the given dataset and can<br>include noisy<br>attributes or labeling<br>errors.<br>Hence, tools for<br>improving<br>the quality of<br>data are<br>important to the<br>data mining<br>analyst. We<br>present a [...]"
          ],
          [
           "Toward Comprehensible Software Fault Prediction Models Using Bayesian Network Classifiers",
           "Software testing is a crucial activity during software development and fault prediction<br>models<br>assist<br>practitioners<br>herein<br>by<br>providing<br>an<br>upfront<br>identification of faulty software code by drawing upon the machine<br>learning<br>literature.<br>While especially<br>the Naive<br>Bayes<br>classifier<br>is<br>often applied<br>in this regard, citing predictive<br>performance and<br>comprehensibility as<br>its major strengths,<br>a number<br>of<br>alternative<br>Bayesian<br>algorithms that boost<br>the<br>possibility of constructing<br>simpler networks with<br>fewer [...]"
          ],
          [
           "Software defect association mining and defect correction effort prediction",
           "Much current software defect prediction work focuses on the number of defects remaining in a<br>software<br>system.<br>In<br>this<br>paper,<br>we<br>present<br>association<br>rule mining based methods to predict defect associations and defect<br>correction<br>effort. This is<br>to<br>help<br>developers<br>detect<br>software<br>defects and assist<br>project managers in allocating testing<br>resources more<br>effectively. We applied<br>the<br>proposed<br>methods to the<br>SEL defect<br>data<br>consisting of more than 200<br>projects over<br>more than 15 years.<br>The results show that, [...]"
          ],
          [
           "Effective Software Fault Localization Using an RBF Neural Network",
           "We propose the application of a modified radial basis function neural network in the context<br>of<br>software<br>fault<br>localization,<br>to<br>assist<br>programmers<br>in<br>locating bugs effectively. This neural network is trained to learn<br>the<br>relationship<br>between the<br>statement<br>coverage<br>information of<br>a test case<br>and its<br>corresponding execution result, success<br>or<br>failure. The trained<br>network is then<br>given as input<br>a set of<br>virtual test cases,<br>each covering a<br>single<br>statement. The<br>output of<br>the network, for each<br>virtual [...]"
          ],
          [
           "Software Fault Prediction Using Quad Tree-Based K-Means Clustering Algorithm",
           "Unsupervised techniques like clustering may be used for fault prediction in software modules, more so<br>in<br>those<br>cases<br>where<br>fault<br>labels<br>are<br>not<br>available. In this paper a Quad Tree-based K-Means algorithm has been applied<br>for<br>predicting faults<br>in<br>program<br>modules. The<br>aims of this<br>paper<br>are<br>twofold. First, Quad Trees are applied for finding the<br>initial<br>cluster centers to be<br>input<br>to the<br>A'-Means Algorithm.<br>An input<br>threshold<br>parameter δ<br>governs the number of initial<br>cluster<br>centers and by varying δ [...]"
          ],
          [
           "A systematic review of software fault prediction studies",
           "This paper provides a systematic review of previous software fault prediction studies with a<br>specific<br>focus<br>on<br>metrics,<br>methods,<br>and<br>datasets.<br>The<br>review uses 74 software fault prediction papers in 11 journals and<br>several<br>conference<br>proceedings.<br>According to<br>the<br>review<br>results, the<br>usage<br>percentage of public datasets increased<br>significantly and the<br>usage<br>percentage of machine<br>learning<br>algorithms<br>increased<br>slightly since 2005.<br>In<br>addition, method-level<br>metrics are still the<br>most<br>dominant metrics in [...]"
          ],
          [
           "Assessment of a New Three-Group Software Quality Classification Technique: An Empirical Case Study",
           "The primary aim of risk-based software quality classification models is to detect, prior to testing<br>or<br>operations,<br>components<br>that<br>are<br>most-<br>likely<br>to<br>be of high-risk. Their practical usage as quality assurance tools is gauged<br>by<br>the prediction-<br>accuracy and<br>cost-<br>effective<br>aspects of<br>the<br>models.<br>Classifying modules into two risk groups is the more<br>commonly<br>practiced trend.<br>Such models<br>assume that<br>all modules<br>predicted as<br>high-risk<br>will be<br>subjected to quality<br>improvements. Due to the<br>always- [...]"
          ],
          [
           "Object oriented software quality prediction using general regression neural networks",
           "This paper discusses the application of General Regression Neural Network (GRNN) for predicting<br>the<br>software<br>quality<br>attribute<br>--<br>fault<br>ratio.<br>This<br>study is carried out using static Object-Oriented (OO) measures (64 in<br>total) as<br>the<br>independent<br>variables and fault<br>ratio<br>as the<br>dependent<br>variable.<br>Software metrics used include those concerning<br>inheritance,<br>size,<br>cohesion and<br>coupling. Prediction<br>models are<br>designed<br>using 15 possible<br>combinations<br>of the four categories<br>of the<br>measures. We also<br>tested [...]"
          ],
          [
           "Transfer learning for cross-company software defect prediction",
           "ContextSoftware defect prediction studies usually built models using within-company data, but very<br>few<br>focused<br>on<br>the<br>prediction<br>models<br>trained<br>with<br>cross-company data. It is difficult to employ these models which are built<br>on the<br>within-<br>company<br>data in<br>practice,<br>because of the<br>lack of<br>these local<br>data repositories. Recently, transfer learning has<br>attracted<br>more and<br>more<br>attention for<br>building<br>classifier in target<br>domain using the<br>data from<br>related source domain. It is<br>very useful [...]"
          ],
          [
           "Data mining source code for locating software bugs: A case study in telecommunication industry",
           "In a large software system knowing which files are most likely to be fault-prone is valuable<br>information<br>for<br>project<br>managers.<br>They<br>can<br>use<br>such<br>information in prioritizing software testing and allocating resources<br>accordingly.<br>However, our<br>experience<br>shows that it<br>is<br>difficult<br>to<br>collect and<br>analyze fine-grained test defects in a large<br>and complex<br>software system. On<br>the other hand,<br>previous research<br>has<br>shown that<br>companies<br>can safely use<br>cross-company data<br>with nearest<br>neighbor sampling [...]"
          ],
          [
           "An industrial case study of classifier ensembles for locating software defects",
           "As the application layer in embedded systems dominates over the hardware, ensuring software quality<br>becomes<br>a<br>real<br>challenge.<br>Software<br>testing<br>is<br>the<br>most time-consuming and costly project phase, specifically in the<br>embedded<br>software<br>domain.<br>Misclassifying a safe<br>code as<br>defective<br>increases<br>the cost<br>of projects, and hence leads to low<br>margins. In this<br>research, we<br>present a<br>defect prediction model<br>based on an<br>ensemble of<br>classifiers.<br>We have<br>collaborated with<br>an industrial<br>partner from the<br>embedded [...]"
          ],
          [
           "Feature Selection with Imbalanced Data for Software Defect Prediction",
           "In this paper, we study the learning impact of data sampling followed by attribute selection<br>on<br>the<br>classification<br>models<br>built<br>with<br>binary<br>class<br>imbalanced data within the scenario of software quality engineering. We<br>use a<br>wrapper-<br>based attribute<br>ranking<br>technique to<br>select a<br>subset<br>of<br>attributes, and the random undersampling technique<br>(RUS) on the<br>majority<br>class to alleviate the<br>negative<br>effects of<br>imbalanced data on<br>the<br>prediction<br>models. The datasets used<br>in the empirical<br>study were<br>collected [...]"
          ],
          [
           "A practical method for the software fault-prediction",
           "In the paper, a novel machine learning method, SimBoost, is proposed to handle the software<br>fault-<br>prediction<br>problem<br>when<br>highly<br>skewed<br>datasets<br>are<br>used. Although the method, proved by empirical results, can make the<br>datasets<br>much more<br>balanced, the<br>accuracy<br>of the<br>prediction is<br>still<br>not<br>satisfactory. Therefore, a fuzzy-based representation<br>of the<br>software module<br>fault state has<br>been presented<br>instead<br>of the original<br>faulty/non-<br>faulty<br>one. Several experiments were<br>conducted<br>using datasets<br>from [...]"
          ],
          [
           "Balancing Privacy and Utility in Cross-Company Defect Prediction",
           "Background: Cross-company defect prediction (CCDP) is a field of study where an organization lacking<br>enough<br>local<br>data<br>can<br>use<br>data<br>from<br>other<br>organizations for building defect predictors. To support CCDP, data must be shared.<br>Such<br>shared data<br>must<br>be<br>privatized,<br>but<br>that<br>privatization could<br>severely damage the utility of the data. Aim: To enable<br>effective<br>defect prediction<br>from<br>shared<br>data while<br>preserving<br>privacy.<br>Method: We explore<br>privatization algorithms that<br>maintain class<br>boundaries in a [...]"
          ],
          [
           "Data Quality: Some Comments on the NASA Software Defect Datasets",
           "Background--Self-evidently empirical analyses rely upon the quality of their data. Likewise,<br>replications<br>rely<br>upon<br>accurate<br>reporting<br>and<br>using<br>the<br>same rather than similar versions of datasets. In recent years, there<br>has been much<br>interest<br>in using<br>machine<br>learners to<br>classify<br>software<br>modules<br>into defect-prone and not defect-prone<br>categories. The publicly<br>available<br>NASA datasets<br>have been<br>extensively used<br>as part of<br>this<br>research. Objective<br>--This short<br>note investigates the extent<br>to [...]"
          ],
          [
           "Evolutionary Optimization of Software Quality Modeling with Multiple Repositories",
           "A novel search-based approach to software quality modeling with multiple software project<br>repositories<br>is<br>presented.<br>Training<br>a<br>software<br>quality<br>model<br>with only one software measurement and defect data set may not<br>effectively<br>encapsulate<br>quality trends<br>of<br>the<br>development<br>organization. The<br>inclusion<br>of additional software projects during<br>the training<br>process can<br>provide a cross-<br>project<br>perspective<br>on software<br>quality modeling and<br>prediction. The<br>genetic-<br>programming-based<br>approach includes<br>three [...]"
          ],
          [
           "Benchmarking Classification Models for Software Defect Prediction: A Proposed Framework and Novel Findings",
           "Software defect prediction strives to improve software quality and testing<br>efficiency<br>by<br>constructing<br>predictive<br>classification<br>models<br>from<br>code<br>attributes to enable a timely identification of fault-<br>prone modules.<br>Several<br>classification<br>models have<br>been evaluated for<br>this task.<br>However,<br>due to<br>inconsistent findings<br>regarding the superiority<br>of one<br>classifier over<br>another and the<br>usefulness of metric-based<br>classification<br>in<br>general,<br>more<br>research is needed to improve<br>convergence<br>across studies [...]"
          ],
          [
           "Using Class Imbalance Learning for Software Defect Prediction",
           "To facilitate software testing, and save testing costs, a wide range of machine learning methods<br>have<br>been<br>studied<br>to<br>predict<br>defects<br>in<br>software<br>modules. Unfortunately, the imbalanced nature of this type of data increases<br>the<br>learning<br>difficulty of<br>such a<br>task.<br>Class<br>imbalance<br>learning<br>specializes in tackling classification problems with<br>imbalanced<br>distributions,<br>which could be<br>helpful for<br>defect<br>prediction,<br>but has not<br>been<br>investigated in depth so far. in this<br>paper, we<br>study the issue of if<br>and [...]"
          ],
          [
           "Evaluating Stratification Alternatives to Improve Software Defect Prediction",
           "Numerous studies have applied machine learning to the software defect prediction problem,<br>i.e.<br>predicting<br>which<br>modules<br>will<br>experience<br>a<br>failure<br>during operation based on software metrics. However, skewness in<br>defect-<br>prediction datasets<br>can mean<br>that the<br>resulting<br>classifiers<br>often<br>predict the<br>faulty (minority) class less accurately.<br>This<br>problem is well known in<br>machine<br>learning, and is<br>often referred<br>to as “learning<br>from<br>imbalanced<br>datasets.” One common<br>approach<br>for mitigating skewness is [...]"
          ],
          [
           "Mining software repositories for comprehensible software fault prediction models",
           "Software managers are routinely confronted with software projects that contain errors or inconsistencies<br>and<br>exceed<br>budget<br>and<br>time<br>limits.<br>By<br>mining<br>software repositories with comprehensible data mining techniques, predictive<br>models can<br>be induced<br>that<br>offer<br>software<br>managers the<br>insights<br>they need<br>to tackle these quality and budgeting problems in an<br>efficient<br>way. This paper<br>deals<br>with the<br>role that the<br>Ant Colony<br>Optimization<br>(ACO)-based<br>classification technique AntMiner+<br>can play as [...]"
          ],
          [
           "Applying machine learning to software fault-proneness prediction",
           "The importance of software testing to quality assurance cannot be overemphasized. The estimation<br>of<br>a<br>module’s<br>fault-<br>proneness<br>is<br>important<br>for<br>minimizing cost and improving the effectiveness of the software<br>testing<br>process.<br>Unfortunately, no<br>general<br>technique<br>for<br>estimating software<br>fault-<br>proneness is available. The observed<br>correlation<br>between some<br>software metrics and<br>fault-<br>proneness has<br>resulted in a<br>variety of predictive<br>models<br>based on<br>multiple metrics. Much<br>work has<br>concentrated on how to [...]"
          ],
          [
           "A systematic and comprehensive investigation of methods to build and evaluate fault prediction models",
           "This paper describes a study performed in an industrial setting that attempts to build predictive models to<br>identify<br>parts<br>of<br>a<br>Java<br>system<br>with<br>a<br>high fault probability. The system under consideration is constantly evolving as<br>several releases a<br>year<br>are<br>shipped<br>to<br>customers.<br>Developers<br>usually<br>have limited resources for their testing and would like<br>to devote extra<br>resources to<br>faulty<br>system parts.<br>The<br>main research<br>focus of this<br>paper is to<br>systematically assess three<br>aspects on how to build<br>and [...]"
          ],
          [
           "An empirical comparison and characterization of high defect and high complexity modules",
           "We analyzed a large set of complexity metrics and defect data collected from six large-scale software<br>products,<br>two<br>from<br>IBM<br>and<br>four<br>from<br>Nortel<br>Networks, to compare and characterize the similarities and differences between the<br>high defect<br>(HD)<br>and<br>high<br>complexity<br>modules. We<br>observed<br>that the<br>most complex modules often have an acceptable quality and<br>HD modules are<br>not<br>typically<br>the most<br>complex ones.<br>This observation<br>was<br>statistically<br>validated through hypothesis testing.<br>Our [...]"
          ],
          [
           "User preferences based software defect detection algorithms selection using MCDM",
           "A variety of classification algorithms for software defect detection have been developed over the years.<br>How<br>to<br>select<br>an<br>appropriate<br>classifier<br>for<br>a<br>given task is an important issue in Data mining and knowledge discovery (DMKD).<br>Many<br>studies<br>have<br>compared<br>different<br>types<br>of<br>classification<br>algorithms and the performances of these algorithms may vary<br>using<br>different<br>performance<br>measures and<br>under<br>different<br>circumstances.<br>Since the<br>algorithm selection task needs to examine<br>several<br>criteria, such<br>as [...]"
          ],
          [
           "An ant colony optimization algorithm to improve software quality prediction models: Case of class stability",
           "ContextAssessing software quality at the early stages of the design and development process is<br>very<br>difficult<br>since<br>most<br>of<br>the<br>software<br>quality<br>characteristics are not directly measurable. Nonetheless, they can be<br>derived from<br>other<br>measurable<br>attributes.<br>For<br>this<br>purpose, software<br>quality<br>prediction models have been extensively used.<br>However, building<br>accurate<br>prediction<br>models is hard due<br>to the<br>lack of<br>data in the domain of<br>software<br>engineering. As a<br>result, the prediction<br>models built on<br>one [...]"
          ],
          [
           "An investigation of the effect of module size on defect prediction using static measures",
           "We used several machine learning algorithms to predict the defective modules in five NASA products, namely, CM1,<br>JM1,<br>KC1,<br>KC2,<br>and<br>PC1.<br>A<br>set<br>of<br>static measures were employed as predictor variables. While doing so, we observed that a<br>large<br>portion of the<br>modules<br>were<br>small,<br>as<br>measured by<br>lines<br>of code (LOC). When we experimented on the data subsets created<br>by<br>partitioning according<br>to module<br>size, we<br>obtained<br>higher<br>prediction<br>performance<br>for the subsets that include larger<br>modules. We<br>also performed [...]"
          ],
          [
           "Cost-sensitive boosting neural networks for software defect prediction",
           "Software defect predictors which classify the software modules into defect-prone and not-defect-prone<br>classes<br>are<br>effective<br>tools<br>to<br>maintain<br>the<br>high<br>quality of software products. The early prediction of defect-proneness of the<br>modules<br>can allow<br>software<br>developers<br>to<br>allocate the<br>limited<br>resources<br>on those defect-prone modules such that high quality<br>software can<br>be produced<br>on time and<br>within budget.<br>In<br>the process of<br>software<br>defect prediction,<br>the misclassification of<br>defect-prone<br>modules [...]"
          ]
         ],
         "hovertemplate": "Topic=Software Defect Prediction<br>x=%{x}<br>y=%{y}<br>title=%{customdata[0]}<br>abstract=%{customdata[1]}<extra></extra>",
         "legendgroup": "Software Defect Prediction",
         "marker": {
          "color": "#ffcc00",
          "size": 5,
          "symbol": "x"
         },
         "mode": "markers",
         "name": "Software Defect Prediction",
         "orientation": "v",
         "showlegend": true,
         "type": "scatter",
         "x": [
          12.178585,
          12.121524,
          12.05373,
          12.26757,
          12.341426,
          12.049216,
          12.112259,
          11.676058,
          12.316228,
          12.023253,
          12.108564,
          11.439417,
          12.116127,
          12.142295,
          12.048512,
          12.214143,
          12.303941,
          11.3467045,
          12.031311,
          12.045341,
          12.341874,
          12.055629,
          12.097147,
          12.326195,
          11.906594,
          12.284693,
          11.968345,
          11.849346,
          12.179906,
          11.637605,
          12.10465,
          11.792893,
          12.258396,
          12.4003,
          12.171055,
          12.122962,
          11.841769,
          12.133933,
          12.23343,
          12.329294,
          12.297798,
          12.015562,
          11.987219,
          11.65259,
          11.573237,
          12.30988,
          12.1938095,
          11.743008,
          12.328568
         ],
         "xaxis": "x",
         "y": [
          18.657812,
          18.359386,
          18.04807,
          18.781178,
          18.779737,
          18.238527,
          18.803553,
          18.212463,
          18.386728,
          18.142275,
          18.188631,
          17.87083,
          18.280416,
          18.52232,
          18.989716,
          18.56744,
          18.262703,
          18.082653,
          18.862486,
          18.596577,
          18.836884,
          18.054094,
          18.888731,
          18.292934,
          18.690144,
          18.15546,
          18.22149,
          17.867332,
          18.39702,
          17.96691,
          18.872536,
          18.654009,
          18.703306,
          18.893133,
          18.211226,
          18.992609,
          17.541977,
          18.176218,
          18.671642,
          18.809013,
          18.79935,
          18.241201,
          18.089787,
          17.95149,
          18.664648,
          18.807125,
          18.314688,
          18.644955,
          18.54018
         ],
         "yaxis": "y"
        },
        {
         "customdata": [
          [
           "Hyperspectral Imaging: A Review on UAV-Based Sensors, Data Processing and Applications for Agriculture and Forestry",
           "Traditional imagery—provided, for example, by RGB and/or NIR sensors—has proven to be useful<br>in<br>many<br>agroforestry<br>applications.<br>However,<br>it<br>lacks<br>the<br>spectral range and precision to profile materials and organisms<br>that<br>only<br>hyperspectral sensors can<br>provide. This<br>kind of<br>high-<br>resolution<br>spectroscopy<br>was firstly used in satellites and<br>later in<br>manned<br>aircraft, which are<br>significantly expensive<br>platforms and<br>extremely<br>restrictive due<br>to<br>availability<br>limitations and/or<br>complex<br>logistics. More [...]"
          ],
          [
           "Thermal and Narrowband Multispectral Remote Sensing for Vegetation Monitoring from an Unmanned Aerial Vehicle",
           "Two critical limitations for using current satellite sensors in real-time crop management are the<br>lack<br>of<br>imagery<br>with<br>optimum<br>spatial<br>and<br>spectral<br>resolutions and an unfavorable revisit time for most crop stress-<br>detection<br>applications.<br>Alternatives<br>based<br>on manned<br>airborne<br>platforms<br>are lacking<br>due to their high operational costs. A<br>fundamental<br>requirement for<br>providing useful<br>remote<br>sensing products in<br>agriculture<br>is the<br>capacity to combine<br>high spatial<br>resolution and<br>quick turnaround<br>times. [...]"
          ],
          [
           "Processing and Assessment of Spectrometric, Stereoscopic Imagery Collected Using a Lightweight UAV Spectral Camera for Precision Agriculture",
           "Imaging using lightweight, unmanned airborne vehicles (UAVs) is one of the most rapidly<br>developing<br>fields<br>in<br>remote<br>sensing<br>technology.<br>The<br>new,<br>tunable, Fabry-Perot interferometer-based (FPI) spectral camera,<br>which weighs less<br>than 700<br>g,<br>makes it<br>possible to<br>collect<br>spectrometric<br>image blocks<br>with stereoscopic overlaps using light-<br>weight UAV platforms.<br>This<br>new<br>technology is highly<br>relevant,<br>because it opens<br>up new<br>possibilities for<br>measuring and<br>monitoring the environment, [...]"
          ],
          [
           "A Rotary-wing Unmanned Air Vehicle for Aquatic Weed Surveillance and Management",
           "This paper addresses the novel application of an autonomous rotary-wing unmanned air vehicle (RUAV) as<br>a<br>cost-<br>effective<br>tool<br>for<br>the<br>surveillance<br>and<br>management of aquatic weeds. A conservative estimate of the annual loss<br>of<br>agricultural<br>revenue to<br>the<br>Australian<br>economy due<br>to weeds is in<br>the order<br>of A$4 billion, hence the reason why weed<br>control is<br>of national<br>significance.<br>The<br>presented system<br>locates and<br>identifies weeds in<br>inaccessible<br>locations. The RUAV is<br>equipped with<br>low-cost [...]"
          ],
          [
           "Acquisition of NIR-Green-Blue Digital Photographs from Unmanned Aircraft for Crop Monitoring",
           "Payload size and weight are critical factors for small Unmanned Aerial Vehicles (UAVs). Digital<br>color-<br>infrared<br>photographs<br>were<br>acquired<br>from<br>a<br>single<br>12-megapixel camera that did not have an internal hot-mirror filter<br>and had a<br>red-light-<br>blocking filter in<br>front of<br>the lens,<br>resulting<br>in<br>near-<br>infrared (NIR), green and blue images. We tested<br>the UAV-<br>camera system over<br>two variably-<br>fertilized fields of<br>winter wheat<br>and found<br>a<br>good<br>correlation between leaf area<br>index and the<br>green [...]"
          ],
          [
           "Estimating Biomass of Barley Using Crop Surface Models (CSMs) Derived from UAV-Based RGB Imaging",
           "Crop monitoring is important in precision agriculture. Estimating above-ground biomass helps to monitor<br>crop<br>vitality<br>and<br>to<br>predict<br>yield.<br>In<br>this<br>study, we estimated fresh and dry biomass on a summer barley test site with 18<br>cultivars<br>and<br>two<br>nitrogen<br>(N)-treatments using<br>the<br>plant<br>height (PH)<br>from crop surface models (CSMs). The super-high<br>resolution, multi-<br>temporal<br>(1<br>cm/pixel) CSMs<br>were derived from red,<br>green,<br>blue (RGB)<br>images captured<br>from a small unmanned<br>aerial vehicle [...]"
          ],
          [
           "Tree height quantification using very high resolution imagery acquired from an unmanned aerial vehicle (UAV) and automatic 3D photo-reconstruction methods",
           "This study provides insight into the assessment of canopy biophysical parameter<br>retrieval<br>using<br>passive<br>sensors<br>and<br>specifically<br>into<br>the<br>quantification of tree height in a discontinuous canopy using a low-<br>cost camera<br>on board<br>an unmanned<br>aerial<br>vehicle<br>(UAV). The UAV was<br>a 2-m<br>wingspan<br>fixed-wing platform with 5.8kg take-off<br>weight and 63km/h<br>ground speed.<br>It carried a<br>consumer-<br>grade RGB<br>camera modified for<br>color-infrared<br>detection<br>(CIR) and<br>synchronized with a GPS<br>unit. In this [...]"
          ],
          [
           "Combined Optic-Flow and Stereo-Based Navigation of Urban Canyons for a UAV",
           "We present a novel vision-based technique for navigating an Unmanned Aerial Vehicle (UAV) through<br>urban<br>canyons.<br>Our<br>technique<br>relies<br>on<br>both<br>optic<br>flow and stereo vision information. We show that the combination of stereo<br>and optic-<br>flow<br>(stereo-flow)<br>is more<br>effective<br>at<br>navigating urban<br>canyons<br>than either technique alone. Optic flow from a<br>pair of sideways-<br>looking<br>cameras is used<br>to stay<br>centered in a<br>canyon<br>and initiate turns at<br>junctions,<br>while stereo vision<br>from a forward-facing<br>stereo [...]"
          ],
          [
           "A review of supervised object-based land-cover image classification",
           "Object-based image classification for land-cover mapping purposes using remote-sensing<br>imagery<br>has<br>attracted<br>significant<br>attention<br>in<br>recent<br>years.<br>Numerous studies conducted over the past decade have investigated<br>a broad<br>array of<br>sensors,<br>feature selection,<br>classifiers,<br>and<br>other<br>factors of<br>interest. However, these research results have<br>not yet<br>been<br>synthesized to provide<br>coherent guidance on<br>the effect<br>of<br>different<br>supervised object-<br>based land-cover<br>classification<br>processes. In<br>this study, we [...]"
          ],
          [
           "Low-Altitude Unmanned Aerial Vehicles-Based Internet of Things Services: Comprehensive Survey and Future Perspectives",
           "Recently, unmanned aerial vehicles (UAVs), or drones, have attracted a lot of attention, since they<br>represent<br>a<br>new<br>potential<br>market.<br>Along<br>with<br>the<br>maturity of the technology and relevant regulations, a worldwide deployment<br>of these UAVs<br>is<br>expected.<br>Thanks to<br>the high<br>mobility of<br>drones,<br>they can<br>be used to provide a lot of applications, such as<br>service<br>delivery,<br>pollution<br>mitigation, farming,<br>and in the<br>rescue<br>operations. Due to<br>its ubiquitous<br>usability, the UAV will<br>play an<br>important role in<br>the [...]"
          ],
          [
           "Evaluating Multispectral Images and Vegetation Indices for Precision Farming Applications from UAV Images",
           "Unmanned Aerial Vehicles (UAV)-based remote sensing offers great possibilities to acquire in a fast<br>and<br>easy<br>way<br>field<br>data<br>for<br>precision<br>agriculture<br>applications. This field of study is rapidly increasing due to the benefits<br>and<br>advantages<br>for<br>farm<br>resources<br>management,<br>particularly<br>for studying<br>crop health. This paper reports some experiences<br>related to<br>the analysis<br>of<br>cultivations<br>(vineyards and<br>tomatoes) with<br>Tetracam<br>multispectral data.<br>The Tetracam camera was<br>mounted on a<br>multi- [...]"
          ],
          [
           "UAV for 3D mapping applications: a review",
           "Unmanned aerial vehicle (UAV) platforms are nowadays a valuable source of data for inspection,<br>surveillance,<br>mapping,<br>and<br>3D<br>modeling<br>issues.<br>As<br>UAVs<br>can be considered as a low-cost alternative to the classical manned<br>aerial<br>photogrammetry, new<br>applications<br>in<br>the short- and<br>close-<br>range<br>domain are<br>introduced. Rotary or fixed-wing UAVs,<br>capable of<br>performing the<br>photogrammetric data<br>acquisition<br>with amateur or SLR<br>digital<br>cameras,<br>can fly in<br>manual,<br>semiautomated, and<br>autonomous modes.<br>Following a [...]"
          ],
          [
           "Intercomparison of UAV, Aircraft and Satellite Remote Sensing Platforms for Precision Viticulture",
           "Precision Viticulture is experiencing substantial growth thanks to the availability of<br>improved<br>and<br>cost-<br>effective<br>instruments<br>and<br>methodologies<br>for<br>data acquisition and analysis, such as Unmanned Aerial Vehicles<br>(UAV),<br>that<br>demonstrated to<br>compete<br>with<br>traditional<br>acquisition platforms,<br>such as<br>satellite and aircraft, due to low<br>operational<br>costs, high<br>operational<br>flexibility and<br>high<br>spatial resolution of<br>imagery. In order to<br>optimize the<br>use of these<br>technologies<br>for precision<br>viticulture, [...]"
          ],
          [
           "Generating 3D hyperspectral information with lightweight UAV snapshot cameras for vegetation monitoring: From camera calibration to quality assurance",
           "This paper describes a novel method to derive 3D hyperspectral information from<br>lightweight<br>snapshot<br>cameras<br>for<br>unmanned<br>aerial<br>vehicles<br>for<br>vegetation monitoring. Snapshot cameras record an image cube<br>with one spectral<br>and two<br>spatial<br>dimensions<br>with every<br>exposure.<br>First, we<br>describe and<br>apply methods to radiometrically<br>characterize and<br>calibrate these<br>cameras. Then,<br>we introduce<br>our processing<br>chain to<br>derive 3D<br>hyperspectral<br>information from<br>the calibrated image<br>cubes based on<br>structure [...]"
          ],
          [
           "Unmanned Aerial Vehicles (UAVs): A Survey on Civil Applications and Key Research Challenges",
           "The use of unmanned aerial vehicles (UAVs) is growing rapidly across many<br>civil<br>application<br>domains,<br>including<br>real-<br>time<br>monitoring,<br>providing<br>wireless coverage, remote sensing, search and rescue,<br>delivery of<br>goods,<br>security and<br>surveillance,<br>precision<br>agriculture,<br>and civil<br>infrastructure<br>inspection. Smart UAVs are the<br>next big<br>revolution in the<br>UAV technology<br>promising to<br>provide new<br>opportunities in<br>different<br>applications, especially<br>in<br>civil<br>infrastructure in terms of<br>reduced risks and<br>lower [...]"
          ],
          [
           "Assessment of Unmanned Aerial Vehicles Imagery for Quantitative Monitoring of Wheat Crop in Small Plots",
           "This paper outlines how light Unmanned Aerial Vehicles (UAV) can be used in remote sensing for<br>precision<br>farming.<br>It<br>focuses<br>on<br>the<br>combination<br>of<br>simple digital photographic cameras with spectral filters, designed to<br>provide<br>multispectral images<br>in<br>the visible<br>and<br>near-<br>infrared domains. In<br>2005,<br>these instruments were fitted to powered<br>glider and<br>parachute, and flown at six<br>dates<br>staggered over<br>the<br>crop season.<br>We monitored ten<br>varieties of<br>wheat, grown in<br>trial micro-plots<br>in the South-West of [...]"
          ],
          [
           "UAVs challenge to assess water stress for sustainable agriculture",
           "Unmanned aerial vehicles (UAVs) present an exciting opportunity to monitor crop fields<br>with<br>high<br>spatial<br>and<br>temporal<br>resolution<br>remote<br>sensing<br>capable of improving water stress management in agriculture. In this<br>study,<br>we<br>reviewed the<br>application<br>of<br>different types of<br>UAVs using<br>different<br>remote sensors and compared their performance<br>with ground-<br>truth<br>plant data.<br>Several<br>reflectance<br>indices, such as NDVI,<br>TCARI/OSAVI and<br>PRInorm<br>obtained from UAVs have<br>shown positive<br>correlations<br>related to [...]"
          ],
          [
           "Imaging from an unmanned aerial vehicle: agricultural surveillance and decision support",
           "In September 2002, NASA’s solar-powered Pathfinder-Plus unmanned aerial vehicle (UAV) was used to conduct<br>a<br>proof-<br>of-<br>concept<br>mission<br>in<br>US<br>national<br>airspace above the 1500ha plantation of the Kauai Coffee Company in Hawaii. While<br>in<br>national<br>airspace,<br>the<br>transponder-<br>equipped UAV<br>was<br>supervised by<br>regional air traffic controllers and treated like<br>a<br>conventionally piloted<br>aircraft.<br>High<br>resolution color and<br>multispectral<br>imaging<br>payloads, both<br>drawing from the aircraft’s<br>solar<br>power system, were [...]"
          ],
          [
           "Development of a low-cost agricultural remote sensing system based on an autonomous unmanned aerial vehicle (UAV)",
           "To provide and improved remote sensing a system based on an autonomous UAV was developed. The<br>system<br>was<br>based<br>on<br>an<br>easily<br>transportable<br>helicopter<br>platform weighing less than 14 kg. Equipped with a multi-spectral<br>camera and<br>autonomous<br>system,<br>the<br>UAV<br>system was<br>capable of acquiring<br>multi-spectral<br>images at the desired locations and<br>times. An extended<br>Kalman filter<br>(EKF)<br>based<br>UAV<br>navigation system was<br>designed and implemented<br>using sensor<br>fusion<br>techniques. A ground station was<br>designed to [...]"
          ],
          [
           "Coordinated aerobiological sampling of a plant pathogen in the lower atmosphere using two autonomous unmanned aerial vehicles",
           "Abstract Unmanned aerial vehicles (UAVs) are an important tool to track the long‐distance movement<br>of<br>plant<br>pathogens<br>above<br>crop<br>fields.<br>Here,<br>we<br>describe the use of a control strategy (coordination via speed modulation)<br>to<br>synchronize two<br>autonomous<br>UAVs<br>during<br>aerobiological<br>sampling of<br>the<br>potato late blight pathogen, Phytophthora infestans .<br>The<br>UAVs shared position<br>coordinates<br>via a<br>wireless mesh<br>network and<br>modulated their<br>speeds so<br>that they were properly phased<br>within<br>their sampling [...]"
          ],
          [
           "The application of small unmanned aerial systems for precision agriculture: a review",
           "Precision agriculture (PA) is the application of geospatial techniques and sensors<br>(e.g.,<br>geographic<br>information<br>systems,<br>remote<br>sensing,<br>GPS)<br>to<br>identify variations in the field and to deal with them using<br>alternative<br>strategies. In<br>particular,<br>high-<br>resolution<br>satellite imagery is<br>now<br>more<br>commonly used to study these variations<br>for crop and<br>soil conditions.<br>However, the<br>availability<br>and the often<br>prohibitive costs of<br>such<br>imagery would<br>suggest an<br>alternative product<br>for this [...]"
          ],
          [
           "Development and application of an autonomous unmanned aerial vehicle for precise aerobiological sampling above agricultural fields",
           "Abstract Remote‐controlled (RC) unmanned aerial vehicles (UAVs) have been used to study the<br>movement<br>of<br>agricultural<br>threat<br>agents<br>(e.g.,<br>plant<br>and<br>animal pathogens, invasive weeds, and exotic insects) above crop<br>fields, but these<br>RC<br>UAVs are operated<br>entirely<br>by a<br>ground‐based<br>pilot and<br>often<br>demonstrate large fluctuations in sampling<br>height, sampling<br>pattern,<br>and sampling speed. In<br>this paper,<br>we<br>describe the<br>development and<br>application of<br>an autonomous UAV<br>for precise<br>aerobiological<br>sampling tens [...]"
          ],
          [
           "Science, technology and the future of small autonomous drones",
           "We are witnessing the advent of a new era of robots — drones — that can autonomously fly in<br>natural<br>and<br>man-<br>made<br>environments.<br>These<br>robots,<br>often<br>associated with defence applications, could have a major impact<br>on<br>civilian<br>tasks,<br>including<br>transportation,<br>communication,<br>agriculture,<br>disaster<br>mitigation and environment<br>preservation.<br>Autonomous flight in<br>confined<br>spaces<br>presents great scientific<br>and technical<br>challenges owing to<br>the<br>energetic<br>cost of staying<br>airborne and to [...]"
          ]
         ],
         "hovertemplate": "Topic=Drones in Agriculture<br>x=%{x}<br>y=%{y}<br>title=%{customdata[0]}<br>abstract=%{customdata[1]}<extra></extra>",
         "legendgroup": "Drones in Agriculture",
         "marker": {
          "color": "#3399ff",
          "size": 5,
          "symbol": "circle"
         },
         "mode": "markers",
         "name": "Drones in Agriculture",
         "orientation": "v",
         "showlegend": true,
         "type": "scatter",
         "x": [
          15.399692,
          15.387664,
          15.388354,
          15.418799,
          15.376065,
          15.529158,
          15.390454,
          13.20696,
          15.494678,
          15.176888,
          15.39759,
          15.246694,
          15.338747,
          15.32226,
          15.215095,
          15.470322,
          15.441313,
          15.488222,
          15.408363,
          15.428663,
          15.362562,
          15.46451,
          15.20466
         ],
         "xaxis": "x",
         "y": [
          11.463462,
          11.429773,
          11.410677,
          11.391128,
          11.404453,
          11.505685,
          11.566102,
          9.436216,
          11.494636,
          11.21129,
          11.45959,
          11.295513,
          11.468707,
          11.4939995,
          11.250674,
          11.425903,
          11.474065,
          11.468969,
          11.378274,
          11.472918,
          11.398327,
          11.49183,
          11.242942
         ],
         "yaxis": "y"
        },
        {
         "customdata": [
          [
           "The prognosis of surgery for cervical compression myelopathy. An analysis of the factors involved.",
           "We have studied the morphometry of the spinal cord in 50 patients with<br>cervical<br>compression<br>myelopathy.<br>Computed<br>tomographic<br>myelography<br>(CTM)<br>showed<br>that the transverse area of the cord at the<br>site of maximum<br>compression<br>correlated<br>significantly with<br>the results of<br>surgery. In<br>most<br>patients with<br>less than 30 mm2 of<br>spinal cord area, the<br>results were<br>poor; the cord<br>was unable to survive.<br>Several factors,<br>such as<br>chronicity of<br>disease, age<br>at<br>surgery and<br>multiplicity of involvement<br>are said [...]"
          ],
          [
           "Multilevel anterior cervical corpectomy and fibular allograft fusion for cervical myelopathy.",
           "This study was conducted to determine the safety and efficacy of multilevel anterior<br>cervical<br>corpectomy<br>and<br>stabilization<br>using<br>fibular<br>allograft<br>in<br>patients with cervical myelopathy. Thirty-six patients<br>underwent this<br>procedure for<br>cervical<br>myelopathy caused<br>by<br>spondylosis (20<br>patients),<br>ossified<br>posterior longitudinal ligament<br>(four patients),<br>trauma (one<br>patient), or a<br>combination of lesions<br>(11<br>patients). The mean<br>age (+/-<br>standard<br>deviation) of the<br>patients was 58 +/-<br>10 years and<br>30 of the [...]"
          ],
          [
           "Central corpectomy for cervical spondylotic myelopathy: a consecutive series with long-term follow-up evaluation.",
           "Since 1984, a consecutive series of patients with cervical spondylotic myelopathy has been<br>treated<br>by<br>central<br>corpectomy<br>and<br>strut<br>grafting.<br>This<br>report focuses on 40 cases operated on between 1984 and 1987 and<br>followed from 2<br>to 5<br>years.<br>The<br>perioperative<br>complication rate<br>was 47.5%,<br>with a<br>7.5% incidence of persistent sequelae:<br>severe C-5 radiculopathy<br>in<br>one<br>patient,<br>swallowing dysfunction in<br>one, and hypoglossal<br>nerve palsy<br>in one. No<br>single factor<br>(age, duration of symptoms,<br>or<br>severity [...]"
          ],
          [
           "Prospective, randomized, multicenter study of cervical arthroplasty: 269 patients from the Kineflex|C artificial disc investigational device exemption study with a minimum 2-year follow-up: clinical article.",
           "OBJECT: Cervical total disc replacement (CTDR) represents a relatively novel procedure intended<br>to<br>address<br>some<br>of<br>the<br>shortcomings<br>associated<br>with<br>anterior cervical discectomy and fusion (ACDF) by preserving motion at<br>the<br>treated<br>level.<br>This<br>prospective,<br>randomized,<br>multicenter study<br>evaluates<br>the safety and efficacy of a new metal-on-metal<br>CTDR<br>implant<br>(Kineflex|C)<br>by<br>comparing it with ACDF<br>in the treatment<br>of single-level<br>spondylosis with<br>radiculopathy. METHODS:<br>The<br>study was [...]"
          ],
          [
           "Cervical kyphosis and myelopathy. Treatment by anterior corpectomy and strut-grafting.",
           "Between 1976 and 1984, fourteen patients who had severe cervical kyphosis and<br>myelopathy<br>were<br>treated<br>with<br>anterior<br>decompression<br>and<br>arthrodesis.<br>Eight had had spondylosis; five, a traumatic injury; and<br>one, a<br>benign<br>intradural tumor.<br>In eight<br>of the<br>fourteen patients, the<br>severe<br>kyphosis and<br>myelopathy had developed after a<br>laminectomy<br>of three,<br>four, or five<br>cervical vertebrae.<br>The<br>laminectomy had been done for<br>the<br>treatment of<br>spondylosis in five<br>patients, of a<br>traumatic<br>lesion in two, and<br>of [...]"
          ],
          [
           "Diffusion-weighted MR Imaging with Apparent Diffusion Coefficient and Apparent Diffusion Tensor Maps in Cervical Spondylotic Myelopathy",
           "PURPOSE: To evaluate diffusion-weighted magnetic resonance (MR) imaging in<br>patients<br>with<br>cervical<br>spondylosis<br>and/or<br>myelopathy.<br>MATERIALS<br>AND<br>METHODS: A multishot echo-planar imaging sequence with<br>calculation of<br>apparent<br>diffusion<br>coefficient<br>(ADC) and<br>apparent diffusion<br>tensor (ADT)<br>was<br>applied in 36 patients with<br>symptomatic cervical<br>spondylosis.<br>Diffusion-<br>weighted images read<br>by two<br>neuroradiologists were<br>compared with<br>T2-weighted<br>fast<br>spin-echo images read<br>independently [...]"
          ],
          [
           "Cervical Laminectomy and Dentate Ligament Section for Cervical Spondylotic Myelopathy",
           "Seventy-five patients who underwent surgical treatment for cervical spondylotic myelopathy<br>were<br>evaluated<br>with<br>respect<br>to<br>the<br>operative<br>procedure<br>performed and their outcome. Forty patients underwent a laminectomy<br>plus<br>dentate ligament<br>section<br>(DLS),<br>18<br>underwent<br>laminectomy alone,<br>and 17<br>underwent an anterior cervical decompression and<br>fusion<br>(ACDF). The<br>patients<br>were<br>evaluated<br>postoperatively for both<br>stability and for<br>neurologic<br>outcome using a modification<br>of [...]"
          ],
          [
           "Expansive Open-Door Laminoplasty for Cervical Spinal Stenotic Myelopathy",
           "Although the operative results have been improving since the air drill was introduced for<br>cervical<br>laminectomy<br>instead<br>of<br>an<br>ordinary<br>rongeur,<br>post-<br>laminectomy complications, such as postoperative fragility of the<br>cervical<br>spine to acute<br>neck<br>trauma,<br>posterior spur<br>formation<br>at the<br>vertebral body,<br>and malalignment of the lateral curvature<br>have still<br>remained as<br>unsolved<br>problems. In<br>order to avoid<br>these<br>disadvantages, a new<br>surgical technique<br>called \"expansive<br>open-door<br>laminoplasty\" was<br>devised by [...]"
          ],
          [
           "Laminoplasty Versus Laminectomy and Fusion for Multilevel Cervical Myelopathy",
           "STUDY DESIGN: A matched cohort clinical and radiographic retrospective analysis of laminoplasty<br>and<br>laminectomy<br>with<br>fusion<br>for<br>the<br>treatment<br>of<br>multilevel cervical myelopathy. OBJECTIVES: To compare the clinical and<br>radiographic<br>outcomes of<br>two<br>procedures<br>increasingly<br>used<br>to treat<br>multilevel<br>cervical myelopathy. SUMMARY OF BACKGROUND DATA:<br>Traditional<br>methods of<br>treating<br>multilevel cervical<br>myelopathy<br>(laminectomy<br>and<br>corpectomy) are<br>reported to have a notable<br>frequency [...]"
          ],
          [
           "Anterior Cervical Reconstruction Using Titanium Cages With Anterior Plating",
           "STUDY DESIGN: A preliminary outcome assessment study of titanium cage implants<br>with<br>anterior<br>cervical<br>plating<br>in<br>anterior<br>cervical<br>reconstruction.<br>OBJECTIVES: To evaluate the efficacy and safety of using<br>titanium<br>cage<br>implants and<br>anterior plating<br>in<br>cervical<br>reconstruction.<br>SUMMARY OF BACKGROUND<br>DATA: Anterior decompression and<br>interbody<br>fusion is<br>a widely<br>accepted surgical<br>treatment for<br>patients<br>with cervical<br>spondylosis. Tricortical iliac<br>crest<br>autograft has been<br>the gold<br>standard but [...]"
          ],
          [
           "Neck and Shoulder Pain After Laminoplasty",
           "STUDY DESIGN: The authors retrospectively analyzed the prevalence and features of neck<br>and<br>shoulder<br>pain<br>(axial<br>symptoms)<br>after<br>anterior<br>interbody<br>fusion and laminoplasty in patients with cervical spondylotic<br>myelopathy.<br>OBJECTIVES:<br>To<br>reveal the<br>difference in<br>prevalence<br>of<br>postoperative axial<br>symptoms between anterior interbody<br>fusion and<br>laminoplasty and to<br>clarify<br>the<br>pathogenesis of axial<br>symptoms<br>after<br>laminoplasty. SUMMARY OF<br>BACKGROUND DATA:<br>Outcome of the<br>cervical surgery is<br>evaluated [...]"
          ],
          [
           "Late Radiographic Findings After Anterior Cervical Fusion for Spondylotic Myeloradiculopathy",
           "A retrospective study was performed to evaluate the radiographic changes that occurred at<br>spinal<br>levels<br>adjacent<br>to<br>fused<br>vertebrae<br>after<br>anterior<br>cervical fusion. One hundred six patients with cervical<br>spondylotic<br>myeloradiculopathy<br>(88 men, 18<br>women)<br>were<br>followed for an<br>average of<br>8.5 years.<br>The average age at follow-up was<br>64 years.<br>Forty-two patients<br>underwent a single-<br>level fusion,<br>52 had a<br>two-level fusion,<br>and 12 had<br>three levels<br>fused.<br>Seventeen patients<br>who underwent<br>additional surgery [...]"
          ],
          [
           "Laminoplasty Versus Subtotal Corpectomy| A Comparative Study of Results in Multisegmental Cervical Spondylotic Myelopathy",
           "A comparative study of surgical results was used to determine the treatment of<br>choice<br>for<br>multisegmental<br>cervical<br>spondylotic<br>myelopathy.<br>Forty-<br>one<br>patients who received subtotal corpectomy and strut<br>grafting (SCS)<br>and<br>forty-two<br>undergoing<br>laminoplasty were followed<br>up for at<br>least 2 years<br>after<br>surgery. Regarding factors<br>known to affect<br>surgical<br>prognosis (age<br>at surgery,<br>duration of symptoms, severity<br>of<br>neurologic<br>deficit,<br>anteroposterior<br>canal diameter,<br>transverse area of<br>the cord at [...]"
          ],
          [
           "Anterior Cervical Discectomy and Fusion Associated Complications",
           "STUDY DESIGN: Retrospective review study with literature review. OBJECTIVE: The goal of our<br>current<br>study<br>is<br>to<br>raise<br>awareness<br>on<br>complications<br>associated with anterior cervical discectomy and fusion (ACDF) and their<br>early<br>detection<br>and<br>proper<br>management.<br>SUMMARY OF<br>BACKGROUND<br>DATA: It is<br>known that ACDF constitutes one of the most commonly<br>performed<br>spinal<br>procedures.<br>Its<br>outcome is quite<br>satisfactory in<br>the majority of<br>cases. However,<br>occasional complications can<br>become<br>troublesome,<br>and [...]"
          ],
          [
           "Early Reconstruction Failures After Multilevel Cervical Corpectomy",
           "STUDY DESIGN: A retrospective analysis of graft and plate complications after multilevel<br>anterior<br>cervical<br>corpectomy<br>and<br>fusion<br>(ACF)<br>attributed<br>to<br>spondylosis, stenosis, and ossification of posterior longitudinal<br>ligament was<br>conducted.<br>OBJECTIVE:<br>To<br>identify<br>factors<br>contributing to graft<br>and<br>plate complications in this population.<br>SUMMARY OF BACKGROUND<br>DATA:<br>Biomechanical<br>factors<br>contributing to<br>the<br>increased morbidity associated<br>with<br>plated multilevel<br>ACF were evaluated.<br>METHODS: Graft-<br>and/or [...]"
          ],
          [
           "Technical Improvements and Results of Laminoplasty for Compressive Myelopathy in the Cervical Spine",
           "The laminoplasty reported in Spine 1982 by the author (H.T.) was modified by a technical improvement<br>to<br>obtain<br>a<br>more<br>reliable<br>enlargement<br>of<br>the<br>cervical spinal canal. The technical improvements and results are described<br>in<br>detail.<br>The<br>osteotomized<br>laminae that<br>floated en bloc like<br>a<br>hinged<br>door must be stabilized by bone blocks with wire<br>ligatures.<br>Thirty<br>patients<br>with severe<br>cervical myelopathy due<br>to<br>multisegmental<br>spondylosis or<br>ossification of posterior<br>longitudinal<br>ligament<br>underwent [...]"
          ],
          [
           "Operations for cervical spondylotic myelopathy. A comparison of the results of anterior and posterior procedures.",
           "Over the past 19 years we have operated on 269 patients with myelopathy associated with cervical spondylosis.<br>We<br>report<br>our<br>results<br>in<br>191<br>cases<br>which<br>we have followed up for 1 to 12 years (average 31 months). The clinical state before<br>and<br>after<br>operation was<br>recorded<br>using<br>the<br>criteria of<br>the<br>Japanese Orthopaedic Association. Posterior operations gave better<br>results<br>than<br>anterior for the<br>more<br>advanced<br>myelopathies such<br>as<br>transverse<br>lesions, the Brown-Séquard syndrome and the motor<br>syndromes,<br>but [...]"
          ],
          [
           "Long-term results of expansive laminoplasty for ossification of the posterior longitudinal ligament of the cervical spine: more than 10 years follow up.",
           "OBJECT: The authors report the long-term (more than 10-year) results of cervical<br>laminoplasty<br>for<br>ossification<br>of<br>the<br>posterior<br>longitudinal<br>ligament<br>(OPLL) of the cervical spine as well as the factors<br>affecting long-<br>term<br>postoperative course.<br>METHODS:<br>The<br>authors<br>reviewed data obtained<br>in 92<br>patients who underwent cervical<br>laminoplasty between<br>1982<br>and 1990. Three patients<br>were lost to<br>follow<br>up, 25<br>patients died within 10 years<br>of<br>surgery, and 64<br>patients were followed<br>for more<br>than 10 years. [...]"
          ],
          [
           "Cervical corpectomy: report of 185 cases and review of the literature.",
           "OBJECT: This study was conducted to determine the indications, safety, efficacy,<br>and<br>complication<br>rate<br>associated<br>with<br>performing<br>corpectomy<br>to<br>achieve anterior decompression of neural elements or for<br>removing<br>anterior lesions.<br>METHODS:<br>Between 1987<br>and 1998,<br>185 patients<br>underwent<br>cervical<br>corpectomy for the treatment of<br>degenerative<br>spondylitic disease (81<br>cases),<br>ossification of<br>posterior<br>longitudinal ligament<br>(16 cases),<br>correction<br>of<br>postoperative kyphosis<br>(31 cases), trauma (39<br>cases), [...]"
          ],
          [
           "Surgical treatment for cervical spondylitic myelopathy.",
           "The long-term outcome of cervical spondylitic myelopathy after surgical treatment<br>was<br>retrospectively<br>reviewed<br>and<br>critically<br>evaluated<br>in<br>100<br>patients with documented cervical myelopathy treated between 1978<br>and<br>1988 at our<br>institution. Eighty-<br>four<br>patients were<br>available for<br>long-<br>term<br>study. The median duration of follow up was<br>7.35<br>years (range 3 to<br>9.5 years). There were<br>67 men<br>and 17 women; their<br>ages ranged from<br>27 to 86<br>years.<br>The duration of<br>preoperative<br>symptoms ranged from<br>1 month to 10 [...]"
          ],
          [
           "Cervical corpectomy and plate fixation for postlaminectomy kyphosis.",
           "Between 1987 and 1991, 20 patients with symptomatic postlaminectomy kyphosis were<br>treated<br>with<br>anterior<br>decompression,<br>bone<br>graft,<br>and<br>anterior<br>cervical plate. The patients were predominantly male (14:6) with<br>a mean age<br>of 58<br>years. The<br>initial laminectomy<br>was<br>performed for<br>either<br>spondylosis<br>(80%) or spinal tumor (20%). All patients<br>had<br>anterior<br>compressive pathology,<br>which was associated<br>with<br>instability (45%),<br>neck pain<br>(75%),<br>myeloradiculopathy (90%), or<br>severe<br>neck<br>deformity (30%). The mean [...]"
          ],
          [
           "Radiculopathy and myelopathy at segments adjacent to the site of a previous anterior cervical arthrodesis.",
           "BACKGROUND: We studied the incidence, prevalence, and radiographic progression of symptomatic<br>adjacent-<br>segment<br>disease,<br>which<br>we<br>defined<br>as<br>the<br>development of new radiculopathy or myelopathy referable to a motion<br>segment adjacent to<br>the site<br>of a<br>previous<br>anterior<br>arthrodesis of<br>the<br>cervical<br>spine. METHODS: A consecutive series of 374<br>patients who had a total<br>of 409<br>anterior<br>cervical<br>arthrodeses for the<br>treatment of<br>cervical<br>spondylosis<br>with radiculopathy or<br>myelopathy, or both, were<br>followed for<br>a [...]"
          ],
          [
           "Long-Term Results of Double-Door Laminoplasty for Cervical Stenotic Myelopathy",
           "STUDY DESIGN: A retrospective study of the long-term results from double-door laminoplasty<br>(Kurokawa's<br>method)<br>for<br>patients<br>with<br>myelopathy<br>caused<br>by<br>ossification of the posterior longitudinal ligament and cervical<br>spondylosis<br>was<br>performed.<br>OBJECTIVE: To know<br>whether<br>the short-term<br>results<br>from<br>double-door laminoplasty were maintained<br>over a 10-year<br>period<br>and, if not, the<br>cause of late<br>deterioration.<br>SUMMARY OF BACKGROUND<br>DATA: There<br>are few<br>long-term<br>follow-up studies on the<br>outcome<br>of [...]"
          ],
          [
           "Neurologic Complications of Surgery for Cervical Compression Myelopathy",
           "Neurologic complications resulting from surgery for 384 cases of cervical myelopathy<br>(cervical<br>soft<br>disc<br>herniation,<br>spondylosis,<br>ossification<br>of<br>the<br>posterior longitudinal ligament) were reviewed. Surgical<br>procedures<br>performed<br>included 134<br>anterior<br>interbody fusions<br>(Cloward or<br>Robinson-<br>Smith<br>technique), 70 subtotal corpectomies<br>with strut<br>bone graft, 85<br>laminectomies,<br>and 95<br>laminoplasties. Twenty-one<br>patients (5.5%)<br>sustained<br>neurologic<br>deterioration<br>related to<br>surgery. The<br>deterioration [...]"
          ],
          [
           "Intermediate Follow-up After Treatment of Degenerative Disc Disease With the Bryan Cervical Disc Prosthesis: Single-Level and Bi-Level",
           "STUDY DESIGN: Prospective, concurrently enrolled, multicenter trials of the Bryan Cervical<br>Disc<br>Prosthesis<br>(Medtronic<br>Sofamor<br>Danek,<br>Memphis,<br>TN)<br>were<br>conducted for the treatment of patients with single-level and two-<br>level<br>(bi-level)<br>degenerative disc<br>disease of<br>the<br>cervical<br>spine.<br>OBJECTIVES: The<br>studies were designed to determine whether<br>new<br>functional<br>intervertebral cervical disc<br>prosthesis can<br>provide<br>relief from<br>objective<br>neurologic<br>symptoms and signs,<br>improve the<br>patient's<br>ability to perform [...]"
          ],
          [
           "Pedicle Screw Fixation for Nontraumatic Lesions of the Cervical Spine",
           "STUDY DESIGN: This retrospective study was conducted to analyze the clinical results in 45<br>patients<br>with<br>nontraumatic<br>lesions<br>of<br>the<br>cervical<br>spine<br>treated by pedicle screw fixation. OBJECTIVES: To evaluate the<br>effectiveness of<br>pedicle<br>screw fixation<br>in<br>reconstructive<br>surgery<br>for<br>nontraumatic<br>cervical spinal disorders. SUMMARY OF<br>BACKGROUND DATA: Pedicle<br>screw<br>fixation for<br>hangman's<br>fracture of the axis and<br>traumatic<br>lesions<br>of the middle<br>and lower<br>cervical spine has been reported;<br>however,<br>there [...]"
          ],
          [
           "Interobserver and Intraobserver Reliability of the Japanese Orthopaedic Association Scoring System for Evaluation of Cervical Compression Myelopathy",
           "STUDY DESIGN: The inter- and intraobserver reliabilities of an assessment scale<br>for<br>cervical<br>compression<br>myelopathy<br>were<br>examined<br>statistically.<br>This<br>scoring system consists of seven categories: motor<br>function of<br>fingers,<br>shoulder and<br>elbow, and lower<br>extremity;<br>sensory<br>function of upper<br>extremity,<br>trunk and lower extremity;<br>and function of<br>the<br>bladder. It evaluates<br>the severity of<br>myelopathy by<br>allocating<br>points based on degree of<br>dysfunction<br>in<br>each category.<br>OBJECTIVES:<br>To determine the [...]"
          ],
          [
           "Long-term Results of Expansive Open-Door Laminoplasty for Cervical Myelopathy−Average 14-Year Follow-up Study",
           "STUDY DESIGN: Retrospective case series on long-term follow-up results of original expansive<br>open-<br>door<br>laminoplasty<br>for<br>cervical<br>myelopathy<br>due<br>to<br>cervical spondylosis (CSM) and ossification of posterior longitudinal<br>ligament<br>(OPLL).<br>OBJECTIVES: To<br>elucidate<br>efficacy<br>and problems<br>of<br>original<br>open-door laminoplasty to improve future surgical<br>outcomes.<br>SUMMARY OF<br>BACKGROUND DATA:<br>Little<br>information is<br>available on long-<br>term<br>outcomes of<br>original open-door<br>laminoplasty without<br>grafts, implants,<br>or [...]"
          ],
          [
           "Choice of Surgical Treatment for Multisegmental Cervical Spondylotic Myelopathy",
           "Three surgical procedures for multisegmental cervical spondylotic myelopathy were evaluated on the basis of<br>a<br>follow-<br>up<br>study<br>(12-157<br>months)<br>of<br>95<br>patients. Twenty-four patients were treated by extensive laminectomy, 50 by<br>anterior<br>interbody fusion<br>by<br>the Cloward<br>and/or<br>Smith-<br>Robinson<br>techniques,<br>and 21 by subtotal spondylectomy and fusion.<br>Results of<br>subtotal spondylectomy<br>were<br>significantly (P<br>less than<br>0.01) better<br>when<br>compared with those<br>of the other two<br>procedures. It was<br>concluded that [...]"
          ],
          [
           "Long-Term Follow-up Studies of Open-Door Expansive Laminoplasty for Cervical Stenotic Myelopathy",
           "Follow-up at an average time of 7.8 years postoperatively on open-door expansive laminoplasty (EL) was<br>carried<br>out<br>to<br>determine<br>the<br>long-<br>term<br>results<br>of surgery. Thirty-three patients had ossification of the posterior<br>longitudinal ligament<br>and<br>18<br>had<br>cervical<br>spondylotic<br>myelopathy. The<br>average age<br>at operation was 54.7 years. Japanese<br>Orthopaedic Association scores<br>and<br>recovery<br>rates<br>increased<br>during the 3 years<br>after surgery and<br>then<br>plateaued.<br>Radiographically, average spinal [...]"
          ],
          [
           "Corpectomy Versus Laminoplasty for Multilevel Cervical Myelopathy",
           "STUDY DESIGN: Matched patient cohorts using retrospective chart and radiographic review<br>with<br>independent<br>clinical<br>and<br>radiographic<br>follow-<br>up<br>were<br>reviewed. OBJECTIVE: To compare the clinical and radiographic<br>outcomes of<br>multilevel<br>corpectomy<br>and<br>laminoplasty using an<br>independent<br>matched-<br>cohort<br>analysis. SUMMARY OF BACKGROUND DATA:<br>The treatment<br>of choice for<br>multilevel<br>cervical<br>myelopathy remains a matter<br>of<br>investigation. For<br>the<br>decompression of three<br>or more motion<br>segments, [...]"
          ],
          [
           "Correlation Between Operative Outcomes of Cervical Compression Myelopathy and MRI of the Spinal Cord",
           "STUDY DESIGN: Magnetic resonance images of cervical compression myelopathy<br>were<br>retrospectively<br>analyzed<br>in<br>comparison<br>with<br>surgical<br>outcomes.<br>OBJECTIVES: To investigate which magnetic resonance<br>findings in<br>patients with<br>cervical<br>compression<br>myelopathy reflect<br>the<br>clinical<br>symptoms and<br>prognosis, and to determine the<br>radiographic and<br>clinical factors<br>that<br>correlate with the<br>prognosis. SUMMARY OF<br>BACKGROUND<br>DATA:<br>Signal intensity<br>changes of<br>the spinal cord on<br>magnetic resonance<br>imaging in<br>chronic [...]"
          ],
          [
           "Local Kyphosis Reduces Surgical Outcomes of Expansive Open-Door Laminoplasty for Cervical Spondylotic Myelopathy",
           "STUDY DESIGN: This retrospective study analyzed the effects of cervical alignment on<br>surgical<br>results<br>of<br>expansive<br>laminoplasty<br>(ELAP)<br>for<br>cervical<br>spondylotic myelopathy (CSM). OBJECTIVE: To determine the<br>limitation<br>of<br>posterior<br>decompression by ELAP<br>for CSM in the<br>presence of<br>local<br>kyphosis.<br>SUMMARY OF BACKGROUND DATA: Several<br>studies have<br>reported<br>that<br>cervical malalignment affected<br>surgical outcomes<br>of ELAP.<br>However, there<br>has been no<br>report to<br>demonstrate crucial<br>determinants<br>of<br>surgical [...]"
          ],
          [
           "Canal Diameter, Anteroposterior Compression Ratio, and Spondylotic Myelopathy of the Cervical Spine",
           "Nine patients with cervical spondylotic myelopathy, diagnosed during life, were subjected<br>to<br>detailed<br>clinicopathologic<br>study.<br>The<br>degree<br>of<br>cord<br>destruction was in good correlation with the ratio of the<br>anteroposterior<br>diameter to<br>the transverse<br>diameter,<br>designated<br>as<br>an<br>anteroposterior<br>compression ratio. Within the factors<br>responsible for<br>decrease in the<br>ratio, developmental<br>narrowing of<br>the spinal<br>canal was<br>the<br>most significant, and<br>multiplicity<br>of spondylotic<br>protrusion less so. The<br>former [...]"
          ],
          [
           "Preliminary Clinical Experience with the Bryan Cervical Disc Prosthesis",
           "OBJECTIVE: The concept of accelerated degeneration of adjacent disc levels as a consequence of<br>increased<br>stress<br>caused<br>by<br>interbody<br>fusion<br>of<br>the<br>cervical spine has been widely postulated. Therefore, reconstruction of a<br>failed<br>intervertebral<br>disc with<br>a<br>functional disc<br>prosthesis<br>should<br>offer<br>the same benefits as fusion while simultaneously<br>providing<br>motion and thereby<br>protecting<br>the<br>adjacent level discs<br>from the<br>abnormal<br>stresses<br>associated with fusion. This study<br>was designed<br>to determine [...]"
          ],
          [
           "Magnetic Resonance Imaging and Cervical Spondylotic Myelopathy",
           "Abstract Nineteen patients were examined for cervical spondylotic myelopathy<br>with<br>magnetic<br>resonance<br>imaging.<br>Pre-<br>and<br>postoperative<br>magnetic<br>resonance scans were obtained in most cases. Surgical<br>confirmation of<br>the<br>pathological<br>condition was<br>obtained for<br>all 19<br>patients. On<br>the<br>T2-weighted scans, there was increased<br>signal intensity<br>within the<br>spinal cord at<br>the point of<br>maximal compression.<br>The exact<br>cause of the<br>increased<br>signal intensity<br>on the T2-weighted<br>images is not<br>known, but [...]"
          ],
          [
           "Long-Term Follow-Up After Interbody Fusion of the Cervical Spine",
           "The aim of this work was to add to the body of data on the frequency and severity<br>of<br>degenerative<br>radiographic<br>findings<br>at<br>adjacent<br>levels<br>after<br>anterior cervical interbody fusion and on their clinical impact<br>and<br>to contribute to<br>the insights<br>about<br>their<br>pathogenesis. One<br>hundred<br>eighty<br>patients who were treated by anterior<br>cervical<br>interbody fusion and who<br>had a follow-up of<br>>60<br>months were<br>clinically and<br>radiologically<br>examined by<br>independent<br>investigators.<br>For all patients, the long-<br>term Odom [...]"
          ],
          [
           "Cervical laminoplasty: a critical review.",
           "OBJECT: The technique of cervical laminoplasty was developed to decompress the spinal canal<br>in<br>patients<br>with<br>multi-<br>level<br>anterior<br>compression<br>caused<br>by ossification of the posterior longitudinal ligament or<br>cervical<br>spondylosis. There<br>is a<br>paucity of<br>data<br>confirming its<br>superiority to<br>laminectomy<br>with regard to neurological<br>outcome, preserving<br>spinal<br>stability,<br>preventing<br>postlaminectomy<br>kyphosis, and the<br>development of<br>the<br>\"postlaminectomy<br>membrane.\" METHODS: The<br>authors<br>conducted [...]"
          ],
          [
           "Incidence and outcome of kyphotic deformity following laminectomy for cervical spondylotic myelopathy.",
           "OBJECT: The authors undertook a study to explore the predisposing risk factors,<br>frequency<br>of<br>occurrence,<br>and<br>clinical<br>implications<br>of<br>kyphosis<br>following laminectomy for cervical spondylotic myelopathy<br>(CSM).<br>METHODS:<br>Preoperative<br>radiological<br>studies were<br>available in 46<br>patients<br>with CSM who<br>had undergone laminectomy.<br>Records were<br>reviewed to<br>obtain demographic<br>data and<br>operative reports.<br>Preoperative<br>radiographs were<br>assessed to<br>determine<br>spinal alignment.<br>In a follow-up<br>interview the [...]"
          ],
          [
           "Anterior cervical decompression and arthrodesis for the treatment of cervical spondylotic myelopathy. Two to seventeen-year follow-up.",
           "We reviewed the cases of 108 patients with cervical spondylotic myelopathy who had been<br>managed<br>with<br>anterior<br>decompression<br>and<br>arthrodesis<br>at<br>our<br>institution. Operative treatment consisted of anterior discectomy,<br>partial<br>corpectomy,<br>or subtotal<br>corpectomy at<br>one level<br>or more,<br>followed<br>by<br>placement of autogenous bone graft from the iliac<br>crest or<br>the fibula. At<br>the latest<br>follow-up examination,<br>thirty-eight<br>of the<br>eighty-two<br>patients<br>who had had a preoperative<br>gait<br>abnormality had a normal<br>gait, [...]"
          ],
          [
           "Complications and Mortality Associated With Cervical Spine Surgery for Degenerative Disease in the United States",
           "STUDY DESIGN: Retrospective cohort. OBJECTIVES: To describe the incidence of<br>complications<br>and<br>mortality<br>associated<br>with<br>surgery<br>for<br>degenerative<br>disease of the cervical spine using population-based<br>data. To evaluate<br>the<br>associations<br>between<br>complications and<br>mortality and<br>age,<br>primary diagnosis<br>and type of surgical<br>procedure. SUMMARY OF<br>BACKGROUND<br>DATA: Recent<br>studies have<br>shown an increase in the<br>number of<br>cervical spine<br>surgeries<br>performed<br>for degenerative<br>disease in the<br>United [...]"
          ],
          [
           "Outcome of Patients Treated for Cervical Myelopathy",
           "STUDY DESIGN: This Cervical Spine Research Society (CSRS) Study is a<br>prospective,<br>multicenter,<br>nonrandomized<br>investigation<br>of<br>patients<br>with<br>cervical<br>spondylosis and disc disease. In this<br>analysis, only patients<br>with cervical<br>myelopathy as the<br>predominant<br>syndrome<br>were<br>considered.<br>OBJECTIVES: To<br>determine<br>demographics, surgeon treatment<br>practices, and<br>outcomes in patients with<br>symptomatic<br>myelopathy.<br>SUMMARY OF<br>BACKGROUND<br>DATA:<br>Current data on<br>patient demographics<br>and treatment<br>practices of surgeons [...]"
          ],
          [
           "Magnetic Resonance Imaging Study on the Results of Surgery for Cervical Compression Myelopathy",
           "The morphologic changes and signal intensity of the spinal cord on preoperative<br>magnetic<br>resonance<br>images<br>were<br>correlated<br>with<br>postoperative<br>outcomes<br>in 74 patients undergoing decompressive cervical surgery<br>for<br>compressive<br>myelopathy. The<br>transverse<br>area of the<br>spinal<br>cord on T1-weighted<br>images at<br>the level of maximum compression<br>was<br>closely correlated<br>with the severity<br>of myelopathy,<br>duration of<br>disease, and<br>recovery rate as<br>determined by<br>the<br>Japanese<br>Orthopaedic Association score.<br>In patients [...]"
          ],
          [
           "Subtotal Corpectomy Versus Laminoplasty For Multilevel Cervical Spondylotic Myelopathy",
           "STUDY DESIGN: A retrospective study was conducted. OBJECTIVE: To compare the long-term<br>outcomes<br>of<br>subtotal<br>corpectomy<br>and<br>laminoplasty<br>for<br>multilevel<br>cervical spondylotic myelopathy. SUMMARY OF BACKGROUND DATA:<br>No study<br>has<br>compared the long-<br>term outcomes<br>between<br>subtotal<br>corpectomy<br>and laminoplasty<br>for multilevel cervical<br>spondylotic<br>myelopathy.<br>METHODS: In this study, 23<br>patients treated<br>with<br>subtotal corpectomy<br>and 24<br>patients treated<br>with<br>laminoplasty were<br>followed up for<br>10 to 14 years after [...]"
          ]
         ],
         "hovertemplate": "Topic=Cervical Myelopathy<br>x=%{x}<br>y=%{y}<br>title=%{customdata[0]}<br>abstract=%{customdata[1]}<extra></extra>",
         "legendgroup": "Cervical Myelopathy",
         "marker": {
          "color": "#9933cc",
          "size": 5,
          "symbol": "circle"
         },
         "mode": "markers",
         "name": "Cervical Myelopathy",
         "orientation": "v",
         "showlegend": true,
         "type": "scatter",
         "x": [
          -8.052317,
          -8.328292,
          -8.196797,
          -8.521277,
          -8.335657,
          -8.035209,
          -8.124216,
          -8.066475,
          -8.148918,
          -8.3944,
          -8.074352,
          -8.34259,
          -8.0815935,
          -8.430586,
          -8.445278,
          -8.087151,
          -8.087764,
          -8.094627,
          -8.334309,
          -8.119244,
          -8.354237,
          -8.415882,
          -8.142445,
          -8.167095,
          -8.425905,
          -8.361843,
          -8.024022,
          -8.091686,
          -8.144499,
          -8.094494,
          -8.191708,
          -8.018434,
          -8.1417265,
          -8.085785,
          -8.4599905,
          -8.121966,
          -8.38548,
          -8.02972,
          -8.205307,
          -8.31551,
          -8.371212,
          -7.97814,
          -8.095417,
          -8.199435
         ],
         "xaxis": "x",
         "y": [
          9.7047615,
          9.917066,
          9.972845,
          9.766703,
          9.999803,
          9.692971,
          10.117269,
          10.4322195,
          10.221669,
          9.8854685,
          10.186631,
          9.83359,
          10.251645,
          9.755973,
          9.897065,
          10.275431,
          9.847796,
          10.4493,
          9.927962,
          9.867277,
          10.068224,
          9.879287,
          10.416334,
          9.739292,
          9.841236,
          10.070468,
          9.771485,
          10.441774,
          9.9736,
          10.489943,
          10.187154,
          9.707762,
          10.3420925,
          9.670239,
          9.828033,
          9.639434,
          9.864646,
          10.357527,
          10.234153,
          9.941024,
          9.812442,
          9.856826,
          9.6428175,
          10.175214
         ],
         "yaxis": "y"
        },
        {
         "customdata": [
          [
           "How resilience works.",
           "Why do some people bounce back from life's hardships while others despair? HBR senior editor Diane<br>Coutu<br>looks<br>at<br>the<br>nature<br>of<br>individual<br>and<br>organizational resilience, issues that have gained special urgency in light of<br>the<br>recent<br>terrorist<br>attacks, war,<br>and<br>recession.<br>In the<br>business<br>arena, resilience has found its way onto the list of<br>qualities<br>sought in<br>employees. As one<br>of Coutu's<br>interviewees<br>puts it,<br>\"More than<br>education, more<br>than experience, more than<br>training, a<br>person's level<br>of [...]"
          ],
          [
           "The Severity of Supply Chain Disruptions: Design Characteristics and Mitigation Capabilities",
           "Supply chain disruptions and the associated operational and financial risks represent the most<br>pressing<br>concern<br>facing<br>firms<br>that<br>compete<br>in<br>today's<br>global marketplace. Extant research has not only confirmed the costly<br>nature of<br>supply chain<br>disruptions<br>but has<br>also<br>contributed<br>relevant<br>insights on<br>such related issues as supply chain risks,<br>vulnerability,<br>resilience, and<br>continuity. In<br>this<br>conceptual<br>note, we focus on<br>a relatively<br>unexplored<br>issue, asking and<br>answering the question<br>of how and why [...]"
          ],
          [
           "POSITIVE PSYCHOLOGICAL CAPITAL: MEASUREMENT AND RELATIONSHIP WITH PERFORMANCE AND SATISFACTION",
           "Two studies were conducted to analyze how hope, resilience, optimism, and efficacy individually<br>and<br>as<br>a<br>composite<br>higher‐order<br>factor<br>predicted<br>work<br>performance and satisfaction. Results from Study 1 provided<br>psychometric<br>support for<br>a new<br>survey<br>measure designed to<br>assess each<br>of these 4<br>facets,<br>as well as a composite factor. Study<br>2 results<br>indicated a<br>significant<br>positive<br>relationship regarding the<br>composite of these<br>4 facets<br>with<br>performance and<br>satisfaction.<br>Results from Study 2<br>also [...]"
          ],
          [
           "ENSURING SUPPLY CHAIN RESILIENCE: DEVELOPMENT OF A CONCEPTUAL FRAMEWORK",
           "The views expressed in this article are those of the authors and do not necessarily reflect the official<br>policy<br>or<br>position<br>of<br>the<br>Air<br>Force,<br>the<br>Department of Defense, or the U.S. Government. In a world of turbulent change,<br>resilience is a<br>key<br>competency<br>since<br>even the<br>most<br>carefully<br>designed<br>supply chain is susceptible to unforeseen events. This<br>article presents a<br>new<br>Supply Chain<br>Resilience<br>Framework to<br>help<br>businesses deal<br>with change.<br>The conceptual framework is<br>based on extant [...]"
          ],
          [
           "The development and resulting performance impact of positive psychological capital",
           "Abstract Recently, theory and research have supported psychological capital (PsyCap) as an emerging<br>core<br>construct<br>linked<br>to<br>positive<br>outcomes<br>at<br>the<br>individual and organizational level. However, to date, little attention has<br>been<br>given to<br>PsyCap<br>development<br>through<br>training<br>interventions;<br>nor have<br>there been attempts to determine empirically if such<br>PsyCap<br>development<br>has a<br>causal impact<br>on<br>participants'<br>performance. To fill these<br>gaps we first<br>conducted a pilot test of [...]"
          ],
          [
           "The design of robust value-creating supply chain networks: A critical review",
           "This paper discusses Supply Chain Network (SCN) design problem under uncertainty, and presents<br>a<br>critical<br>review<br>of<br>the<br>optimization<br>models<br>proposed<br>in the literature. Some drawbacks and missing aspects in the literature<br>are<br>pointed out,<br>thus<br>motivating<br>the<br>development of<br>a<br>comprehensive SCN design<br>methodology. Through an analysis of supply<br>chains<br>uncertainty sources<br>and risk<br>exposures,<br>the paper<br>reviews key<br>random<br>environmental factors and<br>discusses the nature of<br>major<br>disruptive events<br>threatening [...]"
          ],
          [
           "Supply chain resilience in the global financial crisis: an empirical study",
           "Purpose The objective of this paper is to conceptualise supply chain resilience (SCRES)<br>and<br>to<br>identify<br>and<br>explore<br>empirically<br>its<br>relationship<br>with the related concepts of supply chain vulnerability (SCV)<br>and<br>supply<br>chain<br>risk<br>management<br>(SCRM).<br>Design/methodology/approach<br>From a review of<br>the literature the conceptual domain of<br>SCRES<br>is<br>defined<br>and<br>the<br>proposed<br>relationships with SCRM and SCV are derived. Data<br>from a longitudinal<br>case study with three<br>supply<br>chains<br>are<br>presented [...]"
          ],
          [
           "Managing Disruption Risks in Supply Chains",
           "There are two broad categories of risk affecting supply chain design and management: (1) risks<br>arising<br>from<br>the<br>problems<br>of<br>coordinating<br>supply<br>and<br>demand, and (2) risks arising from disruptions to normal activities. This<br>paper is<br>concerned<br>with<br>the second<br>category<br>of risks, which<br>may arise<br>from<br>natural disasters, from strikes and economic<br>disruptions, and<br>from acts<br>of<br>purposeful agents,<br>including<br>terrorists. The paper<br>provides a<br>conceptual<br>framework that reflects<br>the joint<br>activities [...]"
          ],
          [
           "Building the Resilient Supply Chain",
           "In today's uncertain and turbulent markets, supply chain vulnerability has become an issue of<br>significance<br>for<br>many<br>companies.<br>As<br>supply<br>chains<br>become<br>more complex as a result of global sourcing and the continued trend<br>to<br>“leaning‐down”,<br>supply chain<br>risk<br>increases. The<br>challenge<br>to<br>business today is<br>to manage and mitigate that risk through<br>creating<br>more resilient<br>supply chains."
          ],
          [
           "The quest for resilience.",
           "In less turbulent times, executives had the luxury of assuming that business models were more or less<br>immortal.<br>Companies<br>always<br>had<br>to<br>work<br>to<br>get<br>better, but they seldom had to get different--not at their core, not in their<br>essence. Today,<br>getting<br>different<br>is<br>the<br>imperative. It's<br>the<br>challenge<br>facing Coca-Cola as it struggles to raise its \"share<br>of throat\" in<br>noncarbonated<br>beverages. It's<br>the<br>task that<br>bedevils McDonald's<br>as it<br>tries to<br>restart its growth in a burger-<br>weary world. It's<br>the hurdle [...]"
          ],
          [
           "Disaster Dynamics: Understanding the Role of Quantity in Organizational Collapse",
           "This article examines the role that the quantity of non-novel events plays in<br>precipitating<br>disaster<br>through<br>the<br>development<br>of<br>a<br>formal<br>(mathematical) system-dynamics model. Building on existing case<br>studies of disaster,<br>we develop<br>a general<br>theory<br>of how<br>an<br>organizational<br>system<br>responds to an on-going stream of non-novel<br>interruptions to existing<br>plans and<br>procedures. We<br>show<br>how<br>an<br>overaccumulation of interruptions<br>can shift<br>an organizational<br>system from a resilient, self-<br>regulating<br>regime, [...]"
          ],
          [
           "Adapting to environmental jolts.",
           "This paper examines organizational adaptations to an environmental jolt--a sudden and unprecedented<br>event<br>(in<br>this<br>case,<br>a<br>doctors'<br>strike)--<br>that<br>created a natural experiment within a group of hospitals. Although adaptations<br>were<br>diverse<br>and<br>appeared<br>anomalous,<br>they are<br>elucidated by<br>considering<br>the hospitals' antecedent strategies, structures,<br>ideologies,<br>and<br>stockpiles of<br>slack<br>resources.<br>Assessments of the<br>primacy of the<br>antecedents suggest<br>that ideological and<br>strategic variables<br>are<br>better [...]"
          ],
          [
           "Can Positive Employees Help Positive Organizational Change? Impact of Psychological Capital and Emotions on Relevant Attitudes and Behaviors",
           "Although much attention has been devoted to understanding employee resistance to change,<br>relatively<br>little<br>research<br>examines<br>the<br>impact<br>that<br>positive<br>employees can have on organizational change. To help fill this<br>need, the<br>authors<br>investigate whether<br>a process<br>of<br>employees'<br>positivity<br>will have an<br>impact on relevant attitudes and<br>behaviors.<br>Specifically, this<br>study surveyed 132<br>employees from a<br>broad<br>cross-section<br>of<br>organizations and jobs and<br>found: (a)<br>Their<br>psychological capital (a core<br>factor [...]"
          ],
          [
           "Positive Organizational Behavior in the Workplace",
           "Drawing from the foundation of positive psychology and the recently emerging positive organizational behavior, two<br>studies<br>(N<br>=<br>1,032<br>and<br>N<br>=<br>232)<br>test hypotheses on the impact that the selected positive psychological resource capacities of<br>hope,<br>optimism,<br>and<br>resilience<br>have<br>on<br>desired<br>work-<br>related employee outcomes. These outcomes include performance (self-<br>reported in<br>Study 1<br>and<br>organizational<br>performance<br>appraisals<br>in Study<br>2), job<br>satisfaction, work happiness, and<br>organizational [...]"
          ],
          [
           "Emerging Positive Organizational Behavior",
           "Although the value of positivity has been assumed over the years, only recently has it become a<br>major<br>focus<br>area<br>for<br>theory<br>building,<br>research,<br>and<br>application in psychology and now organizational behavior. This review<br>article<br>examines,<br>in<br>turn,<br>selected<br>representative positive<br>traits (Big<br>Five<br>personality, core self-evaluations, and character<br>strengths<br>and<br>virtues),<br>positive<br>state-like<br>psychological resource capacities<br>(efficacy,<br>hope,<br>optimism, resiliency, and [...]"
          ],
          [
           "Reclaiming resilience and safety: Resilience activation in the critical period of crisis",
           "When external events disrupt the normal flow of organizational and relational routines<br>and<br>practices,<br>an<br>organization’s<br>latent<br>capacity<br>to<br>rebound<br>activates to enable positive adaptation and bounce back. This<br>article<br>examines an<br>unexpected<br>organizational<br>crisis (a<br>shooting and<br>standoff<br>in a<br>business school) and presents a model for<br>how<br>resilience becomes<br>activated in such<br>situations. Three<br>social<br>mechanisms describe<br>resilience<br>activation.<br>Liminal<br>suspension<br>describes how crisis<br>temporarily undoes [...]"
          ],
          [
           "Psychological capital: A positive resource for combating employee stress and turnover",
           "Abstract Workplace stress is a growing concern for human resource managers. Although<br>considerable<br>scholarly<br>and<br>practical<br>attention<br>has<br>been<br>devoted<br>to stress management over the years, the time has come for new<br>perspectives<br>and research.<br>Drawing<br>from the<br>emerging field<br>of<br>positive<br>organizational<br>behavior, this study offers research<br>findings with<br>implications for<br>combating<br>occupational<br>stress. Specifically,<br>data<br>from a large<br>sample of working<br>adults across<br>a variety of<br>industries suggest [...]"
          ],
          [
           "Psychological capital development: toward a micro‐intervention",
           "Abstract After first providing the meaning of psychological capital (PsyCap), we present<br>a<br>micro‐intervention<br>to<br>develop<br>it.<br>Drawn<br>from<br>hope,<br>optimism, efficacy, and resiliency development, this PsyCap Intervention<br>(PCI)<br>is shown to<br>have<br>preliminary support<br>for<br>not<br>only<br>increasing<br>participants' PsyCap, but also financial impact and high<br>return on<br>investment.<br>Copyright ©<br>2006 John Wiley & Sons,<br>Ltd."
          ],
          [
           "Relationships, Layoffs, and Organizational Resilience",
           "The terrorist attacks of September 11, 2001, affected the U.S. airline industry more<br>than<br>almost<br>any<br>other<br>industry.<br>Certain<br>airlines<br>emerged<br>successful and demonstrated remarkable resilience while<br>others<br>languished.<br>This<br>investigation<br>identifies reasons why<br>some<br>airline companies<br>recovered<br>successfully after the attacks<br>while<br>others struggled.<br>Evidence<br>is provided that<br>layoffs after the crisis,<br>although<br>intended to foster<br>recovery,<br>instead<br>inhibited<br>recovery throughout the<br>4 years<br>after the [...]"
          ],
          [
           "The need for and meaning of positive organizational behavior",
           "Abstract This essay draws from the emerging positive psychology movement and the author's recent articles on<br>the<br>need<br>for<br>and<br>meaning<br>of<br>a<br>positive<br>approach to organizational behavior. Specifically, the argument is made that at this<br>time, the<br>OB<br>field<br>needs<br>a<br>proactive,<br>positive<br>approach<br>emphasizing strengths, rather than continuing in the downward spiral<br>of negativity<br>trying<br>to<br>fix<br>weaknesses.<br>However, to avoid<br>the surface<br>positivity<br>represented by the non‐sustainable<br>best‐sellers, the case is<br>made [...]"
          ],
          [
           "Understanding the concept of supply chain resilience",
           "Purpose In the emerging disciplines of risk management and supply chain management, resilience<br>is<br>a<br>relatively<br>undefined<br>concept.<br>The<br>purpose<br>of<br>this paper is to present an integrated perspective on resilience through<br>an<br>extensive review of<br>the<br>literature<br>in a number<br>of<br>disciplines<br>including<br>developmental psychology and ecosystems. In<br>addition, the<br>paper identifies and<br>addresses some<br>of<br>the<br>current<br>theoretical gaps in<br>the<br>existing<br>research.<br>Design/methodology/approach<br>Supply chain resilience [...]"
          ]
         ],
         "hovertemplate": "Topic=Resilience in Business and management<br>x=%{x}<br>y=%{y}<br>title=%{customdata[0]}<br>abstract=%{customdata[1]}<extra></extra>",
         "legendgroup": "Resilience in Business and management",
         "marker": {
          "color": "#66ff66",
          "size": 5,
          "symbol": "circle"
         },
         "mode": "markers",
         "name": "Resilience in Business and management",
         "orientation": "v",
         "showlegend": true,
         "type": "scatter",
         "x": [
          11.660976,
          11.840648,
          11.138102,
          11.8740225,
          11.096486,
          11.944027,
          11.888919,
          11.874758,
          11.867632,
          11.746246,
          11.718533,
          11.643809,
          11.126247,
          11.162339,
          11.119201,
          11.668125,
          11.1188545,
          11.09603,
          11.7401085,
          11.123533,
          11.87483
         ],
         "xaxis": "x",
         "y": [
          3.1810012,
          3.1859396,
          3.2546988,
          3.1522024,
          3.2431128,
          3.201025,
          3.1692648,
          3.2071402,
          3.205232,
          3.1777062,
          3.2582014,
          3.241763,
          3.2106175,
          3.283424,
          3.2598782,
          3.2189875,
          3.2514303,
          3.2338026,
          3.130265,
          3.2421172,
          3.1543658
         ],
         "yaxis": "y"
        },
        {
         "customdata": [
          [
           "Gold nanoparticles: a new X-ray contrast agent",
           "There have been few fundamental improvements in clinical X-ray contrast agents in more than 25 years,<br>and<br>the<br>chemical<br>platform<br>of<br>tri-<br>iodobenzene<br>has<br>not changed. Current agents impose serious limitations on medical imaging:<br>short<br>imaging<br>times, the<br>need<br>for<br>catheterization in<br>many cases,<br>occasional<br>renal toxicity, and poor contrast in large<br>patients. This<br>report is<br>the first<br>demonstration<br>that<br>gold nanoparticles may<br>overcome these<br>limitations.<br>Gold has higher<br>absorption than iodine<br>with less<br>bone [...]"
          ],
          [
           "Metal Oxide Nanoparticles as Bactericidal Agents",
           "Reactive magnesium oxide nanoparticles and halogen (Cl2, Br2) adducts of these MgO particles were<br>allowed<br>to<br>contact<br>certain<br>bacteria<br>and<br>spore<br>cells.<br>Bacteriological test data, atomic force microscopy (AFM) images, and<br>electron<br>microscopy<br>(TEM) images<br>are<br>provided, which<br>yield<br>insight into<br>the<br>biocidal action of these nanoscale materials. The<br>tests show<br>that these<br>materials are<br>very<br>effective against Gram-<br>positive and<br>Gram-negative<br>bacteria<br>as well as spores.<br>ζ-Potential<br>measurements show [...]"
          ],
          [
           "Titanium Dioxide Nanoparticles in Food and Personal Care Products",
           "Titanium dioxide is a common additive in many food, personal care, and other consumer products used by<br>people,<br>which<br>after<br>use<br>can<br>enter<br>the<br>sewage<br>system and, subsequently, enter the environment as treated effluent discharged to<br>surface<br>waters<br>or<br>biosolids<br>applied<br>to<br>agricultural<br>land,<br>incinerated wastes, or landfill solids. This study quantifies the<br>amount of<br>titanium in<br>common<br>food<br>products,<br>derives<br>estimates of human<br>exposure to<br>dietary (nano-) TiO(2), and discusses the<br>impact of [...]"
          ],
          [
           "Effects of particle size and surface coating on cellular uptake of polymeric nanoparticles for oral delivery of anticancer drugs",
           "This study evaluated cellular uptake of polymeric nanoparticles by using Caco-2 cells, a human colon<br>adenocarcinoma<br>cell<br>line,<br>as<br>an<br>in<br>vitro<br>model<br>with the aim to apply nanoparticles of biodegradable polymers for oral<br>chemotherapy. The<br>feasibility<br>was<br>demonstrated<br>by<br>showing<br>the<br>localization and<br>quantification of the cell uptake of<br>fluorescent polystyrene<br>nanoparticles of<br>standard<br>size and<br>poly(lactic-co-<br>glycolic<br>acid)<br>(PLGA) nanoparticles<br>coated with<br>polyvinyl alcohol (PVA) or<br>vitamin E [...]"
          ],
          [
           "Antimicrobial effects of silver nanoparticles",
           "The antimicrobial effects of silver (Ag) ion or salts are well known, but the<br>effects<br>of<br>Ag<br>nanoparticles<br>on<br>microorganisms<br>and<br>antimicrobial<br>mechanism have not been revealed clearly. Stable Ag<br>nanoparticles were<br>prepared<br>and<br>their shape and<br>size<br>distribution<br>characterized<br>by particle<br>characterizer and transmission<br>electron microscopic<br>study.<br>The<br>antimicrobial activity of<br>Ag<br>nanoparticles was<br>investigated against<br>yeast, Escherichia<br>coli,<br>and Staphylococcus<br>aureus. In these<br>tests,<br>Muller Hinton [...]"
          ],
          [
           "Porous metal–organic-framework nanoscale carriers as a potential platform for drug delivery and imaging",
           "In the domain of health, one important challenge is the efficient delivery of drugs in the body<br>using<br>non-<br>toxic<br>nanocarriers.<br>Most<br>of<br>the<br>existing<br>carrier materials show poor drug loading (usually less than 5 wt% of<br>the<br>transported drug<br>versus the<br>carrier<br>material)<br>and/or<br>rapid<br>release of the<br>proportion of the drug that is simply adsorbed<br>(or<br>anchored) at the<br>external surface of<br>the<br>nanocarrier. In this<br>context,<br>porous<br>hybrid solids, with<br>the ability to tune<br>their<br>structures and porosities<br>for [...]"
          ],
          [
           "Nanocrystal targeting in vivo",
           "Inorganic nanostructures that interface with biological systems have recently attracted<br>widespread<br>interest<br>in<br>biology<br>and<br>medicine.<br>Nanoparticles<br>are<br>thought to have potential as novel intravascular probes for<br>both diagnostic<br>(e.g.,<br>imaging)<br>and<br>therapeutic<br>purposes (e.g.,<br>drug delivery).<br>Critical<br>issues for successful nanoparticle<br>delivery include the<br>ability to<br>target<br>specific<br>tissues and cell<br>types and escape<br>from the biological<br>particulate<br>filter known<br>as the<br>reticuloendothelial system. We<br>set [...]"
          ],
          [
           "Multifunctional Polymeric Micelles as Cancer-Targeted, MRI-Ultrasensitive Drug Delivery Systems",
           "We describe the development of multifunctional polymeric micelles with<br>cancer-<br>targeting<br>capability<br>via<br>alpha(v)beta(3)<br>integrins,<br>controlled<br>drug<br>delivery, and efficient magnetic resonance imaging<br>(MRI)<br>contrast<br>characteristics.<br>Doxorubicin<br>and a cluster<br>of<br>superparamagnetic iron oxide<br>(SPIO)<br>nanoparticles were loaded<br>successfully<br>inside the<br>micelle core. The<br>presence of cRGD<br>on the micelle<br>surface<br>resulted in the cancer-<br>targeted<br>delivery<br>to<br>alpha(v)beta(3)-expressing<br>tumor cells. In vitro<br>MRI [...]"
          ],
          [
           "In vivo tumor targeting and spectroscopic detection with surface-enhanced Raman nanoparticle tags",
           "We describe biocompatible and nontoxic nanoparticles for in vivo tumor targeting and<br>detection<br>based<br>on<br>pegylated<br>gold<br>nanoparticles<br>and<br>surface-<br>enhanced Raman scattering (SERS). Colloidal gold has been safely<br>used to<br>treat<br>rheumatoid<br>arthritis for 50<br>years,<br>and has recently<br>been<br>found to<br>amplify the efficiency of Raman scattering by<br>14–15<br>orders of<br>magnitude. Here we<br>show that large<br>optical<br>enhancements can be<br>achieved<br>under in vivo<br>conditions for tumor<br>detection in<br>live<br>animals. An important [...]"
          ],
          [
           "Manufactured Nanomaterials (Fullerenes, C60) Induce Oxidative Stress in the Brain of Juvenile Largemouth Bass",
           "Although nanotechnology has vast potential in uses such as fuel cells, microreactors, drug delivery<br>devices,<br>and<br>personal<br>care<br>products,<br>it<br>is<br>prudent<br>to determine possible toxicity of nanotechnology-derived products before<br>widespread<br>use. It is<br>likely<br>that<br>nanomaterials<br>can<br>affect<br>wildlife if they<br>are accidentally released into the environment.<br>The fullerenes<br>are one type<br>of<br>manufactured<br>nanoparticle that is<br>being<br>produced by<br>tons each year, and<br>initially uncoated<br>fullerenes can [...]"
          ],
          [
           "Particle size-dependent organ distribution of gold nanoparticles after intravenous administration",
           "A kinetic study was performed to determine the influence of particle size on the in vivo<br>tissue<br>distribution<br>of<br>spherical-<br>shaped<br>gold<br>nanoparticles<br>in<br>the rat. Gold nanoparticles were chosen as model substances as<br>they are<br>used in several<br>medical<br>applications.<br>In<br>addition, the<br>detection of<br>the<br>presence of gold is feasible with no<br>background levels in<br>the body in the<br>normal<br>situation. Rats<br>were<br>intravenously injected in<br>the tail vein<br>with<br>gold<br>nanoparticles with a diameter of<br>10, 50, 100 and [...]"
          ],
          [
           "Biocompatibility of Gold Nanoparticles and Their Endocytotic Fate Inside the Cellular Compartment: A Microscopic Overview",
           "Macrophages are one of the principal immune effector cells that play essential roles as<br>secretory,<br>phagocytic,<br>and<br>antigen-<br>presenting<br>cells<br>in<br>the<br>immune system. In this study, we address the issue of cytotoxicity<br>and<br>immunogenic effects of<br>gold<br>nanoparticles<br>on RAW264.7<br>macrophage<br>cells.<br>The<br>cytotoxicity of gold nanoparticles has<br>been<br>correlated with a detailed study of<br>their<br>endocytotic uptake<br>using various<br>microscopy<br>tools such as<br>atomic<br>force<br>microscopy<br>(AFM), confocal-laser-scanning [...]"
          ],
          [
           "The effect of particle design on cellular internalization pathways",
           "The interaction of particles with cells is known to be strongly influenced by particle size, but<br>little<br>is<br>known<br>about<br>the<br>interdependent<br>role<br>that<br>size, shape, and surface chemistry have on cellular internalization<br>and<br>intracellular<br>trafficking.<br>We report<br>on the<br>internalization<br>of<br>specially<br>designed, monodisperse hydrogel particles into<br>HeLa<br>cells as a function<br>of size, shape,<br>and surface<br>charge. We<br>employ a top-down<br>particle<br>fabrication<br>technique called PRINT<br>that is<br>able to generate<br>uniform [...]"
          ],
          [
           "Oral gene delivery with chitosan–DNA nanoparticles generates immunologic protection in a murine model of peanut allergy",
           "Food allergy is a common and often fatal disease with no effective treatment. We describe<br>here<br>a<br>new<br>immunoprophylactic<br>strategy<br>using<br>oral<br>allergen-<br>gene immunization to modulate peanut antigen-induced<br>murine<br>anaphylactic<br>responses.<br>Oral administration of<br>DNA<br>nanoparticles<br>synthesized<br>by complexing<br>plasmid DNA with chitosan, a<br>natural<br>biocompatible<br>polysaccharide,<br>resulted in transduced<br>gene<br>expression in the<br>intestinal<br>epithelium. Mice<br>receiving<br>nanoparticles<br>containing a<br>dominant peanut [...]"
          ],
          [
           "Cancer Cell Imaging and Photothermal Therapy in the Near-Infrared Region by Using Gold Nanorods",
           "Due to strong electric fields at the surface, the absorption and scattering of<br>electromagnetic<br>radiation<br>by<br>noble<br>metal<br>nanoparticles<br>are<br>strongly<br>enhanced. These unique properties provide the potential of<br>designing novel<br>optically<br>active<br>reagents<br>for<br>simultaneous molecular<br>imaging<br>and<br>photothermal cancer therapy. It is desirable<br>to use agents that<br>are active in<br>the near-<br>infrared<br>(NIR)<br>region of the radiation<br>spectrum to<br>minimize the<br>light extinction by<br>intrinsic<br>chromophores in native<br>tissue. [...]"
          ],
          [
           "Effects of particle size and surface charge on cellular uptake and biodistribution of polymeric nanoparticles",
           "To elucidate the effects of particle size and surface charge on cellular uptake<br>and<br>biodistribution<br>of<br>polymeric<br>nanoparticles<br>(NPs),<br>rhodamine<br>B<br>(RhB) labeled carboxymethyl chitosan grafted NPs (RhB-CMCNP)<br>and<br>chitosan<br>hydrochloride<br>grafted NPs (RhB-<br>CHNP) were<br>developed as the<br>model<br>negatively<br>and positively charged polymeric<br>NPs,<br>respectively.<br>These NPs owned well<br>defined particle<br>sizes (150-500<br>nm) and Zeta<br>potentials (-40 mV<br>- +35 mV).<br>FITC<br>labeled<br>protamine sulfate<br>(FITC-PS) loaded RhB- [...]"
          ],
          [
           "Micellar Nanocontainers Distribute to Defined Cytoplasmic Organelles",
           "Block copolymer micelles are water-soluble biocompatible nanocontainers with great<br>potential<br>for<br>delivering<br>hydrophobic<br>drugs.<br>An<br>understanding<br>of<br>their cellular distribution is essential to achieving<br>selective delivery of<br>drugs<br>at the<br>subcellular level.<br>Triple-<br>labeling<br>confocal microscopy<br>in<br>live cells revealed the<br>localization of micelles in<br>several<br>cytoplasmic<br>organelles, including<br>mitochondria,<br>but not in<br>the nucleus.<br>Moreover,<br>micelles<br>change the cellular<br>distribution of and<br>increase [...]"
          ],
          [
           "Mediating Tumor Targeting Efficiency of Nanoparticles Through Design",
           "Here we systematically examined the effect of nanoparticle size (10-100 nm) and<br>surface<br>chemistry<br>(i.e.,<br>poly(ethylene<br>glycol))<br>on<br>passive<br>targeting<br>of tumors in vivo. We found that the physical and<br>chemical<br>properties of the<br>nanoparticles<br>influenced<br>their<br>pharmacokinetic<br>behavior,<br>which ultimately<br>determined their tumor<br>accumulation<br>capacity.<br>Interestingly, the permeation<br>of<br>nanoparticles<br>within the tumor is<br>highly dependent<br>on the overall<br>size<br>of the<br>nanoparticle, where<br>larger nanoparticles appear [...]"
          ],
          [
           "Biodegradable luminescent porous silicon nanoparticles for in vivo applications",
           "Nanomaterials that can circulate in the body hold great potential to diagnose and treat disease,<br>but<br>suffer<br>from<br>problems<br>such<br>as<br>toxicity.<br>Porous<br>silicon nanoparticles have now been engineered to concomitantly image<br>tumours or<br>organs<br>within the<br>body,<br>deliver<br>therapeutics<br>and resorb in<br>vivo into<br>benign components that clear renally."
          ],
          [
           "Aerosol-assisted self-assembly of mesostructured spherical nanoparticles",
           "Particles possessing nanometre-scale pores of well-defined size and connectivity are<br>of<br>interest<br>for<br>catalysis,<br>chromatography<br>and<br>controlled<br>release<br>of drugs, and as fillers with low dielectric constant,<br>pigments and<br>hosts<br>for<br>optically active<br>compounds1,2.<br>Silica<br>containing ordered<br>mesopores (of<br>nanometre-scale width) can be<br>prepared by<br>templating<br>of<br>surfactant3,4 and block<br>copolymer5 liquid-<br>crystalline<br>mesophases, and<br>interfacial phenomena<br>have<br>been used to<br>control the<br>macroscopic<br>form of [...]"
          ],
          [
           "Transferrin-functionalized nanoparticles lose their targeting capabilities when a biomolecule corona adsorbs on the surface",
           "Nanoparticles have been proposed as carriers for drugs, genes and therapies to treat<br>various<br>diseases1,2.<br>Many<br>strategies<br>have<br>been<br>developed<br>to<br>target nanomaterials to specific or over-expressed receptors in<br>diseased<br>cells, and these<br>typically<br>involve<br>functionalizing<br>the<br>surface<br>of<br>nanoparticles with proteins, antibodies or other<br>biomolecules.<br>Here, we show that<br>the targeting<br>ability of<br>such<br>functionalized<br>nanoparticles<br>may<br>disappear when they are placed<br>in a biological<br>environment. [...]"
          ],
          [
           "Circulation and long-term fate of functionalized, biocompatible single-walled carbon nanotubes in mice probed by Raman spectroscopy",
           "Carbon nanotubes are promising new materials for molecular delivery in biological systems. The<br>long-<br>term<br>fate<br>of<br>nanotubes<br>intravenously<br>injected<br>into<br>animals in vivo is currently unknown, an issue critical to<br>potential<br>clinical<br>applications of<br>these<br>materials.<br>Here, using the<br>intrinsic<br>Raman<br>spectroscopic signatures of single-walled<br>carbon<br>nanotubes (SWNTs),<br>we measured the<br>blood<br>circulation of<br>intravenously injected<br>SWNTs and<br>detect SWNTs<br>in various organs<br>and<br>tissues of mice ex vivo<br>over a [...]"
          ],
          [
           "Understanding the nanoparticle–protein corona using methods to quantify exchange rates and affinities of proteins for nanoparticles",
           "Due to their small size, nanoparticles have distinct properties compared with the bulk form<br>of<br>the<br>same<br>materials.<br>These<br>properties<br>are<br>rapidly<br>revolutionizing many areas of medicine and technology. Despite the<br>remarkable<br>speed<br>of<br>development of<br>nanoscience,<br>relatively little<br>is<br>known about<br>the interaction of nanoscale objects with<br>living systems.<br>In a<br>biological<br>fluid, proteins<br>associate with<br>nanoparticles, and the<br>amount<br>and<br>presentation of the proteins<br>on the surface of<br>the<br>particles leads [...]"
          ],
          [
           "Intrinsic peroxidase-like activity of ferromagnetic nanoparticles",
           "Nanoparticles containing magnetic materials, such as magnetite (Fe3O4), are particularly<br>useful<br>for<br>imaging<br>and<br>separation<br>techniques.<br>As<br>these<br>nanoparticles are generally considered to be biologically and<br>chemically inert,<br>they are<br>typically<br>coated<br>with metal<br>catalysts,<br>antibodies or<br>enzymes<br>to increase their functionality as<br>separation agents. Here,<br>we report<br>that<br>magnetite<br>nanoparticles in fact<br>possess an<br>intrinsic enzyme<br>mimetic<br>activity similar<br>to that found in natural<br>peroxidases,<br>which [...]"
          ],
          [
           "Accumulation of sub-100 nm polymeric micelles in poorly permeable tumours depends on size",
           "A major goal in cancer research is to develop carriers that can deliver drugs effectively<br>and<br>without<br>side<br>effects.<br>Liposomal<br>and<br>particulate<br>carriers<br>with diameters of ∼100 nm have been widely used to improve<br>the<br>distribution and<br>tumour<br>accumulation of<br>cancer drugs,<br>but so<br>far they have<br>only been<br>effective for treating highly<br>permeable<br>tumours. Here, we<br>compare the<br>accumulation and<br>effectiveness of<br>different sizes<br>of long-<br>circulating, drug-<br>loaded<br>polymeric<br>micelles (with diameters<br>of 30, 50, [...]"
          ],
          [
           "In vivo cancer targeting and imaging with semiconductor quantum dots",
           "We describe the development of multifunctional nanoparticle probes based on semiconductor quantum<br>dots<br>(QDs)<br>for<br>cancer<br>targeting<br>and<br>imaging<br>in<br>living animals. The structural design involves encapsulating luminescent QDs<br>with an<br>ABC<br>triblock<br>copolymer and<br>linking<br>this<br>amphiphilic polymer<br>to<br>tumor-targeting ligands and drug-delivery<br>functionalities. In<br>vivo<br>targeting studies<br>of human prostate<br>cancer<br>growing in<br>nude mice indicate that<br>the<br>QD probes<br>accumulate at tumors both by<br>the<br>enhanced [...]"
          ],
          [
           "In vivo photodynamic therapy using upconversion nanoparticles as remote-controlled nanotransducers",
           "A limitation of photodynamic therapy (PDT) is the depth of penetration of visible<br>light<br>needed<br>for<br>activation<br>of<br>the<br>photosensitizers,<br>restricting<br>treatment to tumors on or just under the skin’s surface or<br>those<br>lining internal<br>organs<br>and<br>cavities.<br>Niagara<br>Muhammad Idris and<br>colleagues have<br>addressed this issue by developing<br>upconversion<br>fluorescent<br>nanoparticles<br>(UNCs) that<br>convert<br>deeper<br>penetrating near-infrared<br>light to visible<br>wavelengths<br>without sacrificing<br>efficacy for<br>singlet oxygen [...]"
          ],
          [
           "Graphene Oxide: Intrinsic Peroxidase Catalytic Activity and Its Application to Glucose Detection",
           "Carboxyl‐modified graphene oxide (GO–COOH) possesses intrinsic peroxidase‐like activity<br>that<br>can<br>catalyze<br>the<br>reaction<br>of<br>peroxidase<br>substrate<br>3,3,5,5‐tetramethylbenzidine (TMB) in the presence of H2O2 to produce a<br>blue<br>color<br>reaction. A<br>simple,<br>cheap, and<br>highly<br>sensitive and<br>selective<br>colorimetric method for glucose detection has been<br>developed<br>and will<br>facilitate the<br>utilization<br>of GOCOOH<br>intrinsic<br>peroxidase activity<br>in medical<br>diagnostics and<br>biotechnology."
          ],
          [
           "Stimuli‐Responsive Controlled‐Release Delivery System Based on Mesoporous Silica Nanorods Capped with Magnetic Nanoparticles",
           "Stand and deliver! The release of pore‐encapsulated fluorescein molecules<br>from<br>a<br>core/shell<br>mesoporous<br>silica<br>nanorod/superparamagnetic<br>iron<br>oxide<br>nanoparticle carrier in the presence of an external<br>magnetic<br>field<br>and only in<br>response to<br>cell‐produced<br>antioxidants indicates<br>promise for<br>such<br>systems in controlled‐release<br>drug delivery."
          ],
          [
           "‘Stealth’ corona-core nanoparticles surface modified by polyethylene glycol (PEG): influences of the corona (PEG chain length and surface density) and of the core composition on phagocytic uptake and plasma protein adsorption",
           "Nanoparticles possessing poly(ethylene glycol) (PEG) chains on their surface have been<br>described<br>as<br>blood<br>persistent<br>drug<br>delivery<br>system<br>with<br>potential applications for intravenous drug administration.<br>Considering the<br>importance of<br>protein<br>interactions<br>with<br>injected<br>colloidal dug<br>carriers<br>with regard to their in vivo fate, we<br>analysed plasma<br>protein adsorption<br>onto<br>biodegradable PEG-<br>coated<br>poly(lactic acid)<br>(PLA),<br>poly(lactic-co-<br>glycolic acid)<br>(PLGA) and<br>poly(varepsilon- [...]"
          ],
          [
           "PEG-modified gold nanorods with a stealth character for in vivo applications",
           "Gold nanorods prepared in hexadecyltrimethylammonium bromide (CTAB) solution are expected<br>to<br>provide<br>novel<br>materials<br>for<br>photothermal<br>therapy<br>and<br>photo-controlled drug delivery systems. Since gold nanorods stabilized<br>with<br>CTAB show<br>strong<br>cytotoxicity,<br>we<br>developed a technique<br>to modify<br>these<br>with polyethyleneglycol (PEG) for medical<br>applications.<br>PEG-<br>modification was<br>achieved by adding<br>mPEG-SH<br>in the CTAB solution,<br>then, excess<br>CTAB was<br>removed by<br>dialysis. PEG-modified<br>gold<br>nanoparticles showed [...]"
          ],
          [
           "A Mesoporous Silica Nanosphere-Based Carrier System with Chemically Removable CdS Nanoparticle Caps for Stimuli-Responsive Controlled Release of Neurotransmitters and Drug Molecules",
           "An MCM-41 type mesoporous silica nanosphere-based (MSN) controlled-release delivery<br>system<br>has<br>been<br>synthesized<br>and<br>characterized<br>using<br>surface-<br>derivatized cadmium sulfide (CdS) nanocrystals as chemically<br>removable<br>caps<br>to<br>encapsulate<br>several<br>pharmaceutical drug molecules<br>and<br>neurotransmitters<br>inside the organically<br>functionalized MSN<br>mesoporous<br>framework.<br>We studied the<br>stimuli-<br>responsive release profiles of<br>vancomycin-<br>and<br>adenosine<br>triphosphate (ATP)-loaded<br>MSN delivery<br>systems by<br>using [...]"
          ],
          [
           "Multifunctional Uniform Nanoparticles Composed of a Magnetite Nanocrystal Core and a Mesoporous Silica Shell for Magnetic Resonance and Fluorescence Imaging and for Drug Delivery",
           "Magnetic, fluorescent core–shell nanoparticles consist of a single Fe3O4 nanocrystal core and<br>a<br>dye‐doped<br>mesoporous<br>silica<br>shell<br>with<br>a<br>poly(ethylene<br>glycol) coating (see picture of TEM images and schematic<br>depictions).<br>These<br>nanoparticles can be used<br>as<br>magnetic<br>resonance<br>and<br>fluorescence imaging<br>agents, and as drug delivery<br>vehicles, thus making<br>them<br>novel candidates for<br>simultaneous<br>cancer diagnosis<br>and therapy."
          ],
          [
           "Shell-isolated nanoparticle-enhanced Raman spectroscopy",
           "Raman spectroscopy unleashedSurface-enhanced Raman scattering (SERS) spectroscopy is a powerful<br>analytical<br>technique<br>able<br>to<br>detect<br>substances<br>down<br>to<br>single molecule level. Its applications are limited, however, because<br>to realize a<br>substantial<br>Raman<br>signal<br>requires metal<br>substrates<br>that<br>either have<br>roughened surfaces or take the form of<br>nanoparticles. An<br>innovative approach<br>is<br>now<br>demonstrated, where the<br>substance<br>under<br>investigation, on a<br>generic substrate, is<br>covered by a layer<br>of 'smart [...]"
          ],
          [
           "Physical−Chemical Aspects of Protein Corona: Relevance to in Vitro and in Vivo Biological Impacts of Nanoparticles",
           "It is now clearly emerging that besides size and shape, the other primary defining element of<br>nanoscale<br>objects<br>in<br>biological<br>media<br>is<br>their<br>long-<br>lived protein (\"hard\") corona. This corona may be expressed as a durable,<br>stabilizing<br>coating of<br>the<br>bare surface<br>of<br>nanoparticle<br>(NP)<br>monomers, or it<br>may be reflected in different subpopulations of<br>particle<br>assemblies, each<br>presenting<br>a durable<br>protein<br>coating. Using the<br>approach<br>and concepts of<br>physical chemistry, we<br>relate studies<br>on the composition [...]"
          ],
          [
           "Elucidating the Mechanism of Cellular Uptake and Removal of Protein-Coated Gold Nanoparticles of Different Sizes and Shapes",
           "We investigated the mechanism by which transferrin-coated gold nanoparticles (Au NP) of<br>different<br>sizes<br>and<br>shapes<br>entered<br>mammalian<br>cells.<br>We<br>determined that transferrin-coated Au NP entered the cells via<br>clathrin-<br>mediated<br>endocytosis<br>pathway. The NPs<br>exocytosed<br>out of the<br>cells in a<br>linear<br>relationship to size. This was<br>different than the<br>relationship<br>between uptake<br>and size.<br>Furthermore, we<br>developed a<br>mathematical equation to<br>predict<br>the<br>relationship of size<br>versus exocytosis for<br>different [...]"
          ],
          [
           "Reconstituting Organ-Level Lung Functions on a Chip",
           "Here, we describe a biomimetic microsystem that reconstitutes the critical functional alveolar-<br>capillary<br>interface<br>of<br>the<br>human<br>lung.<br>This<br>bioinspired<br>microdevice reproduces complex integrated organ-level responses to<br>bacteria<br>and<br>inflammatory<br>cytokines<br>introduced into<br>the<br>alveolar<br>space. In<br>nanotoxicology studies, this lung mimic revealed<br>that<br>cyclic<br>mechanical strain<br>accentuates toxic<br>and inflammatory<br>responses<br>of the lung<br>to silica<br>nanoparticles. Mechanical<br>strain also<br>enhances<br>epithelial [...]"
          ],
          [
           "Nanoparticle Size and Surface Chemistry Determine Serum Protein Adsorption and Macrophage Uptake",
           "Delivery and toxicity are critical issues facing nanomedicine research. Currently,<br>there<br>is<br>limited<br>understanding<br>and<br>connection<br>between<br>the<br>physicochemical properties of a nanomaterial and its interactions<br>with<br>a<br>physiological system.<br>As a result, it<br>remains<br>unclear how<br>to<br>optimally<br>synthesize and chemically modify nanomaterials<br>for in<br>vivo<br>applications. It has been<br>suggested that<br>the<br>physicochemical properties<br>of a<br>nanomaterial<br>after synthesis, known<br>as its<br>\"synthetic<br>identity\", are not what a [...]"
          ],
          [
           "Colloidal Gold: A Novel Nanoparticle Vector for Tumor Directed Drug Delivery",
           "Colloidal gold, a sol comprised of nanoparticles of Au(0), has been used as a therapeutic for the treatment<br>of<br>cancer<br>as<br>well<br>as<br>an<br>indicator<br>for<br>immunodiagnostics. However, the use of these gold nanoparticles for in vivo drug<br>delivery<br>has<br>never<br>been<br>described.<br>This<br>communication outlines<br>the<br>development of a colloidal gold (cAu) nanoparticle vector<br>that targets<br>the<br>delivery of<br>tumor<br>necrosis factor<br>(TNF) to<br>a solid tumor growing in<br>mice.<br>The optimal vector, designated PT-<br>cAu-TNF, [...]"
          ],
          [
           "Evidence of RNAi in humans from systemically administered siRNA via targeted nanoparticles",
           "Human RNAi therapyThe ability to downregulate specific genes using systemically delivered short RNA<br>molecules<br>and<br>the<br>cellular<br>mechanism<br>known<br>as<br>RNA<br>interference has been shown previously in mouse and non-human primate<br>models. Davis et<br>al. have<br>now<br>demonstrated<br>for the first<br>time in<br>humans<br>that a<br>short interfering RNA (siRNA) molecule can be<br>systemically<br>delivered<br>using<br>nanoparticles to a solid<br>tumour. The siRNA<br>mediates<br>directed<br>cleavage of<br>its target mRNA, thereby<br>also reducing<br>the protein<br>level. [...]"
          ],
          [
           "A Nanoscale Optical Biosensor: Sensitivity and Selectivity of an Approach Based on the Localized Surface Plasmon Resonance Spectroscopy of Triangular Silver Nanoparticles",
           "Triangular silver nanoparticles ( approximately 100 nm wide and 50 nm high) have<br>remarkable<br>optical<br>properties.<br>In<br>particular,<br>the<br>peak<br>extinction<br>wavelength, lambda(max) of their localized surface plasmon<br>resonance<br>(LSPR) spectrum<br>is<br>unexpectedly<br>sensitive to<br>nanoparticle<br>size,<br>shape, and local<br>( approximately 10-30 nm) external<br>dielectric<br>environment.<br>This<br>sensitivity of the LSPR<br>lambda(max) to<br>the<br>nanoenvironment has<br>allowed us to develop a<br>new class<br>of nanoscale<br>affinity<br>biosensors. [...]"
          ],
          [
           "Tissue biodistribution and blood clearance rates of intravenously administered carbon nanotube radiotracers",
           "Carbon nanotubes (CNT) are intensively being developed for biomedical applications including<br>drug<br>and<br>gene<br>delivery.<br>Although<br>all<br>possible<br>clinical<br>applications will require compatibility of CNT with the biological<br>milieu,<br>their in<br>vivo<br>capabilities and<br>limitations<br>have not<br>yet been<br>explored. In<br>this work, water-soluble, single-walled CNT<br>(SWNT) have<br>been<br>functionalized<br>with the<br>chelating<br>molecule<br>diethylentriaminepentaacetic<br>(DTPA) and<br>labeled with indium<br>((111)In) for<br>imaging<br>purposes. [...]"
          ],
          [
           "Multifunctional Inorganic Nanoparticles for Imaging, Targeting, and Drug Delivery",
           "Drug delivery, magnetic resonance and fluorescence imaging, magnetic manipulation,<br>and<br>cell<br>targeting<br>are<br>simultaneously<br>possible<br>using<br>a<br>multifunctional mesoporous silica nanoparticle. Superparamagnetic<br>iron<br>oxide<br>nanocrystals<br>were<br>encapsulated inside<br>mesostructured silica<br>spheres<br>that<br>were labeled with fluorescent dye<br>molecules and<br>coated with<br>hydrophilic<br>groups to<br>prevent aggregation.<br>Water-insoluble anticancer<br>drugs were<br>delivered<br>into<br>human cancer cells;<br>surface<br>conjugation with<br>cancer- [...]"
          ],
          [
           "Silver nanoparticles as antimicrobial agent: a case study on E. coli as a model for Gram-negative bacteria",
           "The antimicrobial activity of silver nanoparticles against E. coli was investigated as a<br>model<br>for<br>Gram-<br>negative<br>bacteria.<br>Bacteriological<br>tests<br>were<br>performed in Luria-Bertani (LB) medium on solid agar plates and<br>in<br>liquid<br>systems<br>supplemented with<br>different<br>concentrations of<br>nanosized<br>silver<br>particles. These particles were shown to be<br>an<br>effective<br>bactericide.<br>Scanning and<br>transmission electron<br>microscopy (SEM and<br>TEM) were used<br>to study<br>the biocidal action<br>of this<br>nanoscale<br>material. [...]"
          ],
          [
           "Targeted nanoparticle-aptamer bioconjugates for cancer chemotherapy in vivo",
           "Targeted uptake of therapeutic nanoparticles in a cell-, tissue-, or disease-<br>specific<br>manner<br>represents<br>a<br>potentially<br>powerful<br>technology.<br>Using<br>prostate cancer as a model, we report<br>docetaxel<br>(Dtxl)-encapsulated<br>nanoparticles formulated<br>with<br>biocompatible<br>and<br>biodegradable<br>poly(D,L-lactic-co-<br>glycolic<br>acid)-block-<br>poly(ethylene glycol) (PLGA-<br>b-PEG) copolymer and<br>surface<br>functionalized with the<br>A10<br>2'-fluoropyrimidine<br>RNA<br>aptamers<br>that<br>recognize the extracellular domain of<br>the prostate- [...]"
          ],
          [
           "Phase III Trial of Nanoparticle Albumin-Bound Paclitaxel Compared With Polyethylated Castor Oil–Based Paclitaxel in Women With Breast Cancer",
           "PURPOSE: ABI-007, the first biologically interactive albumin-bound paclitaxel in a<br>nanameter<br>particle,<br>free<br>of<br>solvents,<br>was<br>compared<br>with<br>polyethylated castor oil-based standard paclitaxel in patients with<br>metastatic<br>breast cancer<br>(MBC). This<br>phase<br>III study<br>was<br>performed to<br>confirm<br>preclinical studies demonstrating superior<br>efficacy and<br>reduced toxicity of<br>ABI-007 compared<br>with<br>standard<br>paclitaxel.<br>PATIENTS AND<br>METHODS: Patients<br>were randomly<br>assigned to 3-week<br>cycles of either ABI-007<br>260 [...]"
          ],
          [
           "Noninvasive Imaging of Quantum Dots in Mice",
           "Quantum dots having four different surface coatings were tested for use in in<br>vivo<br>imaging.<br>Localization<br>was<br>successfully<br>monitored<br>by<br>fluorescence<br>imaging of living animals, by necropsy, by frozen<br>tissue<br>sections for<br>optical microscopy,<br>and by<br>electron<br>microscopy, on<br>scales<br>ranging from<br>centimeters to nanometers, using<br>only quantum<br>dots for<br>detection. Circulating half-<br>lives were<br>found to be<br>less than 12 min<br>for<br>amphiphilic<br>poly(acrylic acid),<br>short-chain<br>(750 Da)<br>methoxy-PEG or long-chain (3400 [...]"
          ],
          [
           "In vitro toxicity evaluation of graphene oxide on A549 cells",
           "Graphene and its derivatives have attracted great research interest for their<br>potential<br>applications<br>in<br>electronics,<br>energy,<br>materials<br>and<br>biomedical<br>areas. However, little information of their toxicity<br>and<br>biocompatibility is<br>available.<br>Herein, we<br>performed a<br>comprehensive<br>study on<br>the toxicity of<br>graphene oxide (GO) by<br>examining the<br>influences of GO on<br>the morphology,<br>viability,<br>mortality and<br>membrane integrity of<br>A549 cells.<br>The<br>results<br>suggest that GO does<br>not enter A549 cell and<br>has no [...]"
          ],
          [
           "Shape effects of filaments versus spherical particles in flow and drug delivery",
           "Interaction of spherical particles with cells and within animals has been studied extensively,<br>but<br>the<br>effects<br>of<br>shape<br>have<br>received<br>little<br>attention. Here we use highly stable, polymer micelle assemblies known as<br>filomicelles<br>to<br>compare the<br>transport<br>and<br>trafficking<br>of flexible<br>filaments<br>with spheres of similar chemistry. In rodents,<br>filomicelles<br>persisted in<br>the<br>circulation up to one<br>week<br>after intravenous<br>injection. This<br>is about ten<br>times longer than<br>their spherical<br>counterparts and [...]"
          ],
          [
           "Formulation of functionalized PLGA–PEG nanoparticles for in vivo targeted drug delivery",
           "Nanoparticle (NP) size has been shown to significantly affect the biodistribution of targeted and non-<br>targeted<br>NPs<br>in<br>an<br>organ<br>specific<br>manner.<br>Herein<br>we have developed NPs from carboxy-terminated poly(d,L-lactide-<br>co-<br>glycolide)-block-<br>poly(ethylene<br>glycol)<br>(PLGA-b-PEG-<br>COOH)<br>polymer and<br>studied the<br>effects of altering the following<br>formulation<br>parameters on the<br>size of NPs: (1)<br>polymer<br>concentration, (2)<br>drug<br>loading, (3) water<br>miscibility of<br>solvent, and<br>(4) the ratio<br>of water to solvent.<br>We [...]"
          ]
         ],
         "hovertemplate": "Topic=Nanoparticles<br>x=%{x}<br>y=%{y}<br>title=%{customdata[0]}<br>abstract=%{customdata[1]}<extra></extra>",
         "legendgroup": "Nanoparticles",
         "marker": {
          "color": "#ff0066",
          "size": 5,
          "symbol": "circle"
         },
         "mode": "markers",
         "name": "Nanoparticles",
         "orientation": "v",
         "showlegend": true,
         "type": "scatter",
         "x": [
          -0.053722467,
          -0.5209885,
          -0.43428013,
          -0.19202356,
          -0.55024886,
          -0.22435692,
          0.036531333,
          -0.08345449,
          -0.078750215,
          -0.25767645,
          -0.08810755,
          -0.2835775,
          -0.29692483,
          -0.16637392,
          -0.049997933,
          -0.23275757,
          0.034584604,
          -0.23028538,
          -0.021028578,
          -0.26957673,
          -0.41152447,
          0.021640088,
          -0.505567,
          -0.4352615,
          -0.08836498,
          0.011324465,
          0.00008426923,
          -0.44574094,
          -0.15999165,
          -0.41272303,
          -0.16055124,
          -0.24241208,
          -0.21741235,
          -0.2741648,
          -0.47046593,
          -0.3365057,
          0.33589372,
          -0.4507339,
          -0.03922912,
          0.044111826,
          -0.4937549,
          -0.17560095,
          -0.16408545,
          -0.5310533,
          0.12895904,
          -0.03451358,
          0.021651737,
          -0.3630646,
          -0.14417422,
          -0.14624812
         ],
         "xaxis": "x",
         "y": [
          4.5032725,
          4.3640532,
          4.4947615,
          4.5009503,
          4.525135,
          4.164148,
          4.260559,
          4.2395077,
          4.194606,
          4.405928,
          4.664651,
          4.618961,
          4.665339,
          4.5565195,
          4.219515,
          4.6646547,
          4.394983,
          4.598888,
          4.1712236,
          4.096028,
          4.7439857,
          4.318949,
          4.712983,
          4.126484,
          4.480998,
          4.1886883,
          4.1517143,
          4.1341953,
          4.1722207,
          4.742788,
          4.4376125,
          4.0736027,
          4.0837684,
          4.247753,
          4.7505493,
          4.6836143,
          4.1954246,
          4.749118,
          4.4472795,
          4.2652,
          4.48642,
          4.4356537,
          4.0807743,
          4.4991765,
          4.3537655,
          4.50522,
          4.175786,
          4.231882,
          4.593825,
          4.539081
         ],
         "yaxis": "y"
        },
        {
         "customdata": [
          [
           "Smooth Vertical Surface Climbing with Directional Adhesion",
           "Stickybot is a bioinspired robot that climbs smooth vertical surfaces such as glass, plastic, and ceramic<br>tile<br>at<br>4<br>cm/s.<br>The<br>robot<br>employs<br>several<br>design principles adapted from the GECKO including a hierarchy of<br>compliant<br>structures,<br>directional<br>adhesion,<br>and<br>control of<br>tangential<br>contact forces<br>to achieve control of adhesion. We<br>describe the design<br>and<br>fabrication methods used<br>to<br>create<br>underactuated,<br>multimaterial<br>structures that conform to<br>surfaces<br>over a range of length<br>scales<br>from centimeters [...]"
          ],
          [
           "Stiffening in Soft Robotics: A Review of the State of the Art",
           "The need for building robots with soft materials emerged recently from considerations of<br>the<br>limitations<br>of<br>service<br>robots<br>in<br>negotiating<br>natural<br>environments, from observation of the role of compliance in animals<br>and<br>plants [1], and<br>even from<br>the role<br>attributed<br>to the<br>physical body<br>in movement<br>control and intelligence, in the so-<br>called<br>embodied intelligence or<br>morphological<br>computation<br>paradigm<br>[2]-[4]. The<br>wide spread of soft<br>robotics<br>relies on<br>numerous<br>investigations of diverse materials<br>and [...]"
          ],
          [
           "A Review of Ionic Polymeric Soft Actuators and Sensors",
           "This article reviews properties and characteristics of soft ionic<br>polymer–metal<br>nanocomposites<br>as<br>soft<br>biomimetic<br>multifunctional<br>distributed<br>robotic<br>materials, soft actuators, soft sensors,<br>soft transducers<br>and energy<br>harvesters,<br>and<br>artificial muscles.<br>After presenting<br>some fundamental<br>properties<br>of biomimetic<br>distributed nanosensing<br>and<br>nanoactuation of<br>ionic<br>polymer–metal composites, the<br>discussion extends to<br>some recent<br>advances<br>in<br>manufacturing techniques,<br>3D<br>fabrication of [...]"
          ],
          [
           "Soft robot review",
           "Soft robots are often inspired from biological systems which consist of soft materials or<br>are<br>actuated<br>by<br>electrically<br>activated<br>materials.<br>There<br>are<br>several advantages of soft robots compared to the conventional<br>robots;<br>safe human-<br>machine<br>interaction,<br>adaptability to<br>wearable<br>devices,<br>simple<br>gripping system, and so on. Due to the<br>unique features<br>and advantages,<br>soft<br>robots have a<br>considerable range of<br>applications.<br>This article<br>reviews<br>state-of-the-art<br>researches on soft<br>robots [...]"
          ],
          [
           "A review article: investigations on soft materials for soft robot manipulations",
           "In recent years, exploratory research on soft materials and their mechanism has been gaining<br>in<br>popularity.<br>The<br>investigations<br>on<br>soft<br>materials<br>are<br>mostly done for two reasons: (a) to develop an<br>anthropomorphic/prosthetic<br>hand or soft hand<br>with<br>human skin-like<br>material<br>to<br>perform<br>soft<br>manipulations and (b) to develop<br>soft actuators. This paper<br>presented a<br>comprehensive<br>investigation into<br>researches on<br>soft<br>materials for<br>robotic<br>applications.<br>The primary interest of using<br>soft materials<br>is not to [...]"
          ],
          [
           "Soft Robotics, Transferring Theory to Application",
           "The research areas as well as the knowledge gained for the practical use of robots<br>are<br>growing<br>and<br>expanding<br>beyond<br>manufacturing<br>and<br>industrial<br>automation, making inroads in sectors such as health care and<br>terrain<br>sensing, as<br>well as<br>general<br>assistive<br>systems working in<br>close<br>interaction with<br>humans. In a situation like this, it<br>is necessary<br>for future<br>robot systems<br>to become<br>less stiff and<br>more specialized by<br>taking<br>inspiration from the<br>mechanical<br>compliance and<br>versatility found<br>in [...]"
          ],
          [
           "Pneumatic and hydraulic microactuators: a review",
           "The development of MEMS actuators is rapidly evolving and continuously new progress in terms<br>of<br>efficiency,<br>power<br>and<br>force<br>output<br>is<br>reported.<br>Pneumatic and hydraulic are an interesting class of microactuators that<br>are<br>easily overlooked.<br>Despite<br>the 20<br>years of<br>research,<br>and<br>hundreds of<br>publications on this topic, these actuators are only<br>popular<br>in microfluidic<br>systems. In<br>other MEMS<br>applications,<br>pneumatic<br>and<br>hydraulic actuators<br>are rare in comparison with<br>electrostatic,<br>thermal or [...]"
          ],
          [
           "Review of manufacturing processes for soft biomimetic robots",
           "This paper reviews various processes for manufacturing new type of robots termed “soft biomimetic<br>robots.”<br>Most<br>robots<br>are<br>made<br>of<br>rigid<br>metallic<br>materials. But in recent years, various biomimetic robots based on soft<br>materials and<br>compliant<br>parts<br>have<br>been<br>developed.<br>New<br>manufacturing processes<br>are required to fabricate these types of<br>robots, and the<br>processes<br>include<br>Shape<br>Deposition<br>Manufacturing (SDM) and<br>Smart<br>Composite Microstructures<br>(SCM). Since the<br>design of robots are<br>limited by<br>the [...]"
          ],
          [
           "An electrically and mechanically self-healing composite with pressure- and flexion-sensitive properties for electronic skin applications",
           "Pressure sensitivity and mechanical self-healing are two vital functions of the human skin.<br>A<br>flexible<br>and<br>electrically<br>conducting<br>material<br>that<br>can<br>sense mechanical forces and yet be able to self-heal repeatably can<br>be of<br>use in<br>emerging<br>fields such as soft<br>robotics<br>and<br>biomimetic<br>prostheses, but<br>combining all these properties together<br>remains a<br>challenging<br>task. Here,<br>we describe a composite<br>material<br>composed<br>of a<br>supramolecular organic<br>polymer with embedded<br>nickel<br>nanostructured<br>microparticles, [...]"
          ],
          [
           "Soft Robotics: Challenges and Perspectives",
           "There has been an increasing interest in the use of unconventional materials and<br>morphologies<br>in<br>robotic<br>systems<br>because<br>the<br>underlying<br>mechanical<br>properties (such as body shapes, elasticity, viscosity,<br>softness, density<br>and<br>stickiness) are<br>crucial<br>research<br>topics for<br>our in-depth<br>understanding<br>of embodied intelligence. The<br>detailed investigations<br>of<br>physical system-<br>environment<br>interactions are<br>particularly<br>important for<br>systematic<br>development of<br>technologies and theories<br>of<br>emergent [...]"
          ],
          [
           "Soft Robotics: New Perspectives for Robot Bodyware and Control",
           "The remarkable advances of robotics in the last 50 years, which represent an incredible wealth<br>of<br>knowledge,<br>are<br>based<br>on<br>the<br>fundamental<br>assumption<br>that robots are chains of rigid links. The use of soft materials in<br>robotics,<br>driven not<br>only by<br>new<br>scientific<br>paradigms<br>(biomimetics,<br>morphological<br>computation, and others), but also by many<br>applications<br>(biomedical,<br>service,<br>rescue<br>robots, and many<br>more), is<br>going to overcome<br>these basic<br>assumptions and makes the<br>well-known<br>theories and<br>techniques [...]"
          ],
          [
           "Electronic Muscles and Skins: A Review of Soft Sensors and Actuators",
           "This article reviews several classes of compliant materials that can be utilized to<br>fabricate<br>electronic<br>muscles<br>and<br>skins.<br>Different<br>classes<br>of<br>materials range from compliant conductors, semiconductors, to<br>dielectrics, all<br>of which play<br>a vital<br>and<br>cohesive role<br>in the<br>development of<br>next<br>generation electronics. This paper covers<br>recent advances in<br>the development of<br>new<br>materials, as<br>well as the<br>engineering of<br>well-<br>characterized<br>materials for the<br>repurposing in applications<br>of flexible [...]"
          ],
          [
           "Soft Robotics: Review of Fluid‐Driven Intrinsically Soft Devices; Manufacturing, Sensing, Control, and Applications in Human‐Robot Interaction",
           "The emerging field of soft robotics makes use of many classes of materials including<br>metals,<br>low<br>glass<br>transition<br>temperature<br>(Tg)<br>plastics,<br>and<br>high Tg elastomers. Dependent on the specific design, all of these<br>materials<br>may<br>result in<br>extrinsically<br>soft robots.<br>Organic<br>elastomers,<br>however,<br>have elastic moduli ranging from tens of<br>megapascals down<br>to<br>kilopascals;<br>robots composed of<br>such materials<br>are<br>intrinsically soft − they<br>are always<br>compliant<br>independent of their shape.<br>This<br>class of [...]"
          ],
          [
           "Soft Robotics: Biological Inspiration, State of the Art, and Future Research",
           "Traditional robots have rigid underlying structures that limit their ability to<br>interact<br>with<br>their<br>environment.<br>For<br>example,<br>conventional<br>robot<br>manipulators have rigid links and can manipulate objects<br>using only<br>their<br>specialised end<br>effectors. These<br>robots<br>often<br>encounter<br>difficulties<br>operating in unstructured and highly<br>congested<br>environments. A<br>variety of animals<br>and plants exhibit<br>complex<br>movement<br>with soft<br>structures devoid of<br>rigid<br>components. Muscular<br>hydrostats (e.g.<br>octopus arms [...]"
          ],
          [
           "Soft robotics: Technologies and systems pushing the boundaries of robot abilities",
           "The proliferation of soft robotics research worldwide has brought substantial<br>achievements<br>in<br>terms<br>of<br>principles,<br>models,<br>technologies,<br>techniques,<br>and prototypes of soft robots. Such achievements are<br>reviewed here in<br>terms<br>of the<br>abilities<br>that they<br>provide robots<br>that were not<br>possible before.<br>An analysis of the evolution<br>of this field shows<br>how, after<br>a few<br>pioneering works<br>in the years<br>2009 to 2012,<br>breakthrough results<br>were obtained by<br>taking<br>seminal technological<br>and<br>scientific<br>challenges [...]"
          ],
          [
           "Deformation in Soft-Matter Robotics: A Categorization and Quantitative Characterization",
           "There has been an increasing interest in soft-robotics research in recent years, and this is reflected in<br>a<br>number<br>of<br>reviews<br>of<br>the<br>topic<br>from<br>different perspectives. For example, in what was probably the first review article using<br>the<br>term<br>soft<br>robotics, [1]<br>focused<br>on<br>actuators,<br>while [2]<br>reviewed the topic by concentrating on fabrication techniques.<br>Three<br>more<br>reviews<br>addressed control [3],<br>biomimetics<br>[4],<br>and materials<br>[5],<br>respectively. Furthermore, in the first issue of<br>Soft<br>Robotics,<br>there [...]"
          ],
          [
           "Soft Robotics: A Perspective—Current Trends and Prospects for the Future",
           "Soft robots are primarily composed of easily deformable matter such as fluids, gels, and<br>elastomers<br>that<br>match<br>the<br>elastic<br>and<br>rheological<br>properties<br>of biological tissue and organs. Like an octopus squeezing<br>through a narrow<br>opening or<br>a<br>caterpillar<br>rolling<br>through<br>uneven terrain, a<br>soft robot must<br>adapt its shape and locomotion<br>strategy for a broad<br>range of<br>tasks,<br>obstacles, and<br>environmental<br>conditions.<br>This emerging class of<br>elastically<br>soft,<br>versatile, and [...]"
          ],
          [
           "Multigait soft robot",
           "This manuscript describes a unique class of locomotive robot: A soft robot, composed<br>exclusively<br>of<br>soft<br>materials<br>(elastomeric<br>polymers),<br>which<br>is<br>inspired by animals (e.g., squid, starfish, worms) that do not<br>have hard<br>internal<br>skeletons.<br>Soft<br>lithography was used to<br>fabricate<br>a<br>pneumatically<br>actuated robot capable of sophisticated<br>locomotion<br>(e.g., fluid<br>movement of<br>limbs and<br>multiple gaits). This robot<br>is<br>quadrupedal; it<br>uses no sensors,<br>only five<br>actuators, and a<br>simple pneumatic<br>valving [...]"
          ],
          [
           "The challenges ahead for bio-inspired 'soft' robotics",
           "Soft materials may enable the automation of tasks beyond the capacities of current robotic technology."
          ],
          [
           "Biomimetic electrochemistry from conducting polymers. A review Artificial muscles, smart membranes, smart drug delivery and computer/neuron interfaces",
           "Films of conducting polymers in the presence of electrolytes can be oxidized or reduced by the flow<br>of<br>anodic<br>or<br>cathodic<br>currents.<br>Ions<br>and<br>solvent<br>are exchanged during a reaction for charge and osmotic pressure balance.<br>A<br>reactive<br>conducting<br>polymer contains<br>ions and<br>solvent.<br>Such<br>variation of<br>composition during a reaction is reminiscent of<br>the<br>biological<br>processes in cells.<br>Along changes to<br>the<br>composition of the<br>material<br>during a reaction,<br>there are also changes<br>to<br>other properties,<br>including: [...]"
          ],
          [
           "Soft Manipulators and Grippers: A Review",
           "Soft robotics is a growing area of research which utilizes the compliance and adaptability of<br>soft<br>structures<br>to<br>develop<br>highly<br>adaptive<br>robotics<br>for<br>soft interactions. One area in which soft robotics has the ability to<br>make<br>significant<br>impact is<br>in the<br>development of<br>soft<br>grippers and<br>manipulators.<br>With an increased requirement for<br>automation,<br>robotics systems are<br>required to<br>perform task<br>in unstructured<br>and not<br>well defined<br>environments;<br>conditions which<br>conventional<br>rigid robotics are not<br>best [...]"
          ],
          [
           "Soft robotics: a bioinspired evolution in robotics",
           "Animals exploit soft structures to move effectively in complex natural environments.<br>These<br>capabilities<br>have<br>inspired<br>robotic<br>engineers<br>to<br>incorporate<br>soft technologies into their designs. The goal is to endow<br>robots<br>with new,<br>bioinspired<br>capabilities that<br>permit<br>adaptive,<br>flexible<br>interactions with<br>unpredictable environments. Here,<br>we review<br>emerging soft-<br>bodied robotic<br>systems, and in<br>particular<br>recent<br>developments inspired<br>by soft-bodied<br>animals.<br>Incorporating soft<br>technologies can<br>potentially [...]"
          ],
          [
           "Continuum robots - a state of the art",
           "Like the human limbs which inspired them most robots are discrete mechanisms with rigid links<br>connected<br>by<br>single<br>degree<br>of<br>freedom<br>joints.<br>In<br>contrast, 'continuum' and 'serpentine' robot mechanisms move by bending<br>through a series<br>of<br>continuous<br>arcs<br>producing<br>motion which<br>resembles<br>that of<br>biological tentacles or snakes. This paper<br>provides a single<br>reference to<br>the<br>expanding<br>technology of<br>continuum robot<br>mechanisms. It<br>defines the<br>fundamental difference<br>between discrete,<br>serpentine [...]"
          ],
          [
           "Modeling of Biomimetic Robotic Fish Propelled by an Ionic Polymer–Metal Composite Caudal Fin",
           "In this paper, a physics-based model is proposed for a biomimetic robotic fish propelled<br>by<br>an<br>ionic<br>polymer–metal<br>composite<br>(IPMC)<br>actuator.<br>Inspired<br>by the biological fin structure, a passive plastic fin is<br>further<br>attached<br>to the<br>IPMC beam. The model<br>incorporates<br>both IPMC<br>actuation<br>dynamics and<br>the hydrodynamics, and predicts the<br>steady-<br>state cruising<br>speed of<br>the robot under a given<br>periodic<br>actuation voltage.<br>The<br>interactions between the<br>plastic fin<br>and the IPMC<br>actuator are also<br>captured [...]"
          ],
          [
           "Self-Organization, Embodiment, and Biologically Inspired Robotics",
           "Robotics researchers increasingly agree that ideas from biology and self-organization can<br>strongly<br>benefit<br>the<br>design<br>of<br>autonomous<br>robots.<br>Biological<br>organisms have evolved to perform and survive in a world<br>characterized by<br>rapid<br>changes,<br>high<br>uncertainty,<br>indefinite<br>richness, and<br>limited<br>availability of information. Industrial<br>robots, in contrast,<br>operate in<br>highly<br>controlled<br>environments with<br>no or very<br>little uncertainty.<br>Although<br>many challenges<br>remain, concepts from<br>biologically<br>inspired [...]"
          ],
          [
           "Self-Sensing Ionic Polymer Actuators: A Review",
           "Ionic electromechanically active polymers (IEAP) are laminar composites that can<br>be<br>considered<br>attractive<br>candidates<br>for<br>soft<br>actuators.<br>Their<br>outstanding properties such as low operating voltage,<br>easy<br>miniaturization, and<br>noiseless<br>operation are,<br>however,<br>marred by<br>issues related to<br>the<br>repeatability in the production<br>and<br>operation of these materials.<br>Implementing<br>closed-loop<br>control for IEAP<br>actuators is a<br>viable option<br>for<br>overcoming these<br>issues.<br>Since IEAP laminates also [...]"
          ],
          [
           "Stretchable nanoparticle conductors with self-organized conductive pathways",
           "Stretchable conductors have many applications, from flexible electronics to medical implants;<br>here<br>polyurethane<br>is<br>filled<br>with<br>gold<br>nanoparticles<br>to<br>give a composite with tunable viscoelastic properties arising from the<br>dynamic<br>self-<br>organization of<br>the<br>nanoparticles<br>under<br>stress."
          ],
          [
           "25th Anniversary Article: A Soft Future: From Robots and Sensor Skin to Energy Harvesters",
           "Scientists are exploring elastic and soft forms of robots, electronic skin and energy harvesters,<br>dreaming<br>to<br>mimic<br>nature<br>and<br>to<br>enable<br>novel<br>applications in wide fields, from consumer and mobile appliances to biomedical<br>systems,<br>sports<br>and<br>healthcare.<br>All<br>conceivable<br>classes of<br>materials<br>with a wide range of mechanical, physical and chemical<br>properties are<br>employed,<br>from<br>liquids and gels<br>to<br>organic and<br>inorganic solids.<br>Functionalities<br>never seen before are<br>achieved. In this review<br>we discuss<br>soft [...]"
          ],
          [
           "Theory of dielectric elastomers",
           "In response to a stimulus, a soft material deforms, and the deformation provides a function. We call<br>such<br>a<br>material<br>a<br>soft<br>active<br>material<br>(SAM).<br>This review focuses on one class of soft active materials: dielectric<br>elastomers. When<br>a<br>membrane of<br>a<br>dielectric<br>elastomer is<br>subject to a<br>voltage<br>through its thickness, the membrane reduces<br>thickness and expands<br>area,<br>possibly<br>straining<br>over 100%. The<br>dielectric<br>elastomers are being<br>developed as<br>transducers for<br>broad applications,<br>including [...]"
          ],
          [
           "A review on locomotion robophysics: the study of movement at the intersection of robotics, soft matter and dynamical systems",
           "Discovery of fundamental principles which govern and limit effective locomotion<br>(self-<br>propulsion)<br>is<br>of<br>intellectual<br>interest<br>and<br>practical<br>importance. Human technology has created robotic moving systems<br>that excel<br>in movement on<br>and<br>within<br>environments of<br>societal<br>interest:<br>paved roads,<br>open air and water. However, such devices<br>cannot yet<br>robustly and<br>efficiently<br>navigate (as<br>animals do) the<br>enormous<br>diversity of<br>natural environments<br>which might be of<br>future<br>interest for [...]"
          ],
          [
           "Design, fabrication and control of soft robots",
           "Conventionally, engineers have employed rigid materials to fabricate precise, predictable robotic<br>systems,<br>which<br>are<br>easily<br>modelled<br>as<br>rigid<br>members<br>connected at discrete joints. Natural systems, however, often match or<br>exceed the<br>performance<br>of<br>robotic systems<br>with<br>deformable<br>bodies.<br>Cephalopods,<br>for example, achieve amazing feats of<br>manipulation and<br>locomotion without<br>a<br>skeleton; even<br>vertebrates such<br>as humans<br>achieve dynamic<br>gaits by storing<br>elastic<br>energy in their compliant<br>bones and [...]"
          ],
          [
           "Towards flexible medical instruments: Review of flexible fluidic actuators",
           "Flexible instruments, i.e. instruments presenting a great number of degrees of freedom and<br>able<br>to<br>perform<br>snake-<br>like<br>movements<br>when<br>avoiding<br>obstacles, can find a lot of applications in the medical field. On the<br>other<br>hand,<br>flexible<br>fluidic<br>actuators, i.e.<br>actuators<br>having a<br>flexible<br>inflatable structure and actuated by fluid,<br>present<br>interesting<br>features regarding<br>medical<br>applications.<br>Therefore, this paper<br>proposes to<br>use these<br>actuators to develop<br>medical<br>flexible<br>instruments.Firstly, [...]"
          ],
          [
           "Soft Robotics for Chemists",
           "Soft robots: A methodology based on embedded pneumatic networks (PneuNets) is described<br>that<br>enables<br>large‐amplitude<br>actuations<br>in<br>soft<br>elastomers<br>by<br>pressurizing embedded channels. Examples include a structure<br>that can<br>change its<br>curvature from convex<br>to concave,<br>and<br>devices<br>that act as<br>compliant<br>grippers for handling fragile objects<br>(e.g., a<br>chicken egg)."
          ]
         ],
         "hovertemplate": "Topic=Soft Robotics<br>x=%{x}<br>y=%{y}<br>title=%{customdata[0]}<br>abstract=%{customdata[1]}<extra></extra>",
         "legendgroup": "Soft Robotics",
         "marker": {
          "color": "#669999",
          "size": 5,
          "symbol": "circle"
         },
         "mode": "markers",
         "name": "Soft Robotics",
         "orientation": "v",
         "showlegend": true,
         "type": "scatter",
         "x": [
          4.326827,
          4.402193,
          4.8238,
          4.476675,
          4.532963,
          4.2898455,
          4.8005714,
          4.4935684,
          4.8867064,
          4.3298206,
          4.270961,
          4.8553696,
          4.4324102,
          4.3604116,
          4.281156,
          4.432516,
          4.3087773,
          4.3900895,
          4.3768115,
          4.843143,
          4.479225,
          4.417338,
          4.3514214,
          4.742233,
          4.2907147,
          4.813003,
          4.8795347,
          4.657319,
          4.831196,
          4.325163,
          4.478165,
          4.7588954,
          4.3111863
         ],
         "xaxis": "x",
         "y": [
          4.1078625,
          4.0312467,
          3.8944619,
          4.0248733,
          4.006188,
          4.088168,
          3.9437904,
          4.015075,
          3.8535364,
          4.1348114,
          4.1948457,
          3.8633401,
          4.08176,
          3.9757583,
          4.17726,
          4.091629,
          4.1424365,
          4.036576,
          3.9912856,
          3.8641572,
          3.9591577,
          3.9611182,
          4.0685315,
          3.9299452,
          3.9672525,
          3.902729,
          3.857195,
          4.0383263,
          3.932491,
          4.082699,
          3.9231822,
          3.9310963,
          4.157445
         ],
         "yaxis": "y"
        },
        {
         "customdata": [
          [
           "Does Tourism Growth Influence Economic Development?",
           "Having recognized the importance of tourism to economic growth, most international organizations<br>have<br>begun<br>to<br>argue<br>that<br>tourism<br>growth<br>can<br>influence, as well, the economic and sociocultural development of society.<br>However,<br>recently, a<br>new<br>approach<br>that<br>criticizes the<br>relationship<br>between<br>both dimensions has begun to be developed;<br>suggesting that this<br>is not an<br>automatic<br>relationship.<br>In this<br>context, the aim<br>of this<br>study<br>is to determine whether the<br>economic growth experienced<br>in some<br>countries as [...]"
          ],
          [
           "The impacts of international tourism demand on economic growth of small economies dependent on tourism",
           "This paper studies the impacts on economic growth of a small tourism-driven economy caused by an<br>increase<br>in<br>the<br>growth<br>rate<br>of<br>international<br>tourism<br>demand. We present a formal model and empirical evidence. The ingredients<br>of the<br>dynamic<br>model are<br>a<br>large<br>population of<br>intertemporally<br>optimizing<br>agents and an AK technology representing tourism<br>production.<br>The model<br>shows that<br>an<br>increase in the<br>growth of<br>tourism demand leads to<br>transitional<br>dynamics with gradually<br>increasing<br>economic growth [...]"
          ],
          [
           "Tourism-led growth hypothesis in the top ten tourist destinations: New evidence using the quantile-on-quantile approach",
           "This paper examines the empirical validity of the tourism-led growth hypothesis in the top<br>ten<br>tourist<br>destinations<br>in<br>the<br>world<br>(China,<br>France,<br>Germany, Italy, Mexico, Russia, Spain, Turkey, the United Kingdom, and<br>the<br>United States)<br>using the<br>quantile-<br>on-<br>quantile (QQ)<br>approach and<br>a new index<br>of tourism activity that combines the most<br>commonly<br>used tourism<br>indicators.<br>This<br>methodology,<br>recently introduced by<br>Sim and Zhou<br>(2015), provides an<br>ideal framework<br>with which to<br>capture [...]"
          ],
          [
           "Does tourism development promote economic growth in transition countries? A panel data analysis",
           "This study examines causal relationships between tourism spending and economic growth in<br>10<br>transition<br>countries<br>for<br>the<br>period<br>1988–2011.<br>Panel<br>causality analysis, which accounts for dependency and heterogeneity<br>across<br>countries, is<br>used herein.<br>Our<br>empirical<br>results<br>support the<br>evidence on<br>the direction of causality, and are consistent<br>with the<br>neutrality<br>hypothesis for 3 of<br>these 10<br>transition<br>countries<br>(i.e. Bulgaria,<br>Romania and<br>Slovenia). The growth<br>hypothesis holds<br>for Cyprus,<br>Latvia and [...]"
          ],
          [
           "How stable is the tourism-led growth hypothesis in Malaysia? Evidence from disaggregated tourism markets",
           "We contribute to the tourism-growth literature by applying the newly developed combined cointegration<br>test<br>and<br>the<br>recursive<br>Granger<br>causality<br>test<br>to<br>re-assess the stability of the tourism-led growth hypothesis in Malaysia with<br>respect<br>to<br>12<br>different tourism<br>markets. The<br>cointegration<br>test<br>results<br>suggest that economic growth of Malaysia is<br>cointegrated with all<br>the<br>12<br>selected tourism markets.<br>However, the<br>recursive Granger<br>causality<br>test shows<br>that the tourism-<br>led growth hypothesis [...]"
          ],
          [
           "Tourism and economic growth nexus revisited: A panel causality analysis for the case of the Mediterranean Region",
           "Tourism is perceived as an important source of foreign exchange that is used for financing economic<br>growth.<br>This<br>study<br>offers<br>a<br>modern<br>approach<br>to<br>tourism-led growth and investigates the causal relationship between tourism and<br>economic<br>growth in<br>the<br>European,<br>Asian and<br>African<br>countries<br>that<br>border the Mediterranean Sea. The study uses panel data for<br>the period<br>1998–2011, and<br>adopts<br>a panel<br>Granger causality<br>analysis<br>developed<br>by<br>Dumitrescu and Hurlin (2012) to assess the<br>contribution<br>tourism makes [...]"
          ],
          [
           "Revisiting the tourism-led-growth hypothesis for Turkey using the bounds test and Johansen approach for cointegration",
           "This paper empirically revisits and investigates the tourism-led-growth (TLG) hypothesis in the case<br>of<br>Turkey<br>by<br>employing<br>the<br>bounds<br>test<br>and<br>Johansen approach for cointegration using annual data from 1960–2006. Although<br>Gunduz and<br>Hatemi-J<br>(2005;<br>Is the<br>tourism-led<br>growth<br>hypothesis<br>valid<br>for Turkey? Applied Economics Letters. 12, 499–504)<br>support the TLG<br>hypothesis for<br>Turkey<br>(suggesting<br>unidirectional<br>causation<br>from tourism<br>to<br>economic growth) by making use of<br>the leveraged<br>bootstrap [...]"
          ],
          [
           "Tourism development and economic growth: A closer look at panels",
           "This paper applies the new heterogeneous panel cointegration technique to re-investigate<br>the<br>long-<br>run<br>comovements<br>and<br>causal<br>relationships<br>between<br>tourism development and economic growth for OECD and nonOECD<br>countries<br>(including<br>those in<br>Asia, Latin<br>America<br>and Sub-<br>Sahara Africa) for<br>the<br>1990–2002 period. On the global scale, after<br>allowing for<br>the<br>heterogeneous country<br>effect, a<br>cointegrated<br>relationship<br>between GDP and<br>tourism<br>development is<br>substantiated. It is<br>also<br>determined that [...]"
          ],
          [
           "Tourism expansion, tourism uncertainty and economic growth: New evidence from Taiwan and Korea",
           "This study examines the causal relationship between tourism expansion and economic growth in two<br>Asian<br>countries:<br>Taiwan<br>and<br>South<br>Korea.<br>An<br>EGARCH-M<br>model with uncertainty factors is employed to examine the direction of<br>causality<br>between tourism<br>expansion<br>and<br>economic<br>growth, as<br>well as<br>the impulse<br>impacts of uncertainty on both variables. The<br>results<br>indicate that the<br>tourism-led<br>economic<br>growth hypothesis<br>is supported<br>for Taiwan<br>while a<br>reciprocal causal<br>relationship is found<br>for South Korea. [...]"
          ],
          [
           "Investigating the influence of tourism on economic growth and carbon emissions: Evidence from panel analysis of the European Union",
           "The study investigates the influence of tourism on economic growth and CO2 emissions. In<br>the<br>empirical<br>analysis,<br>unit<br>root<br>and<br>cointegration<br>tests<br>using panel data of European Union countries from 1988 to 2009<br>are<br>performed to examine<br>the<br>long-<br>run<br>equilibrium<br>relationship among tourism,<br>CO2<br>emissions, economic growth and foreign<br>direct<br>investment (FDI). Results<br>from<br>panel<br>cointegration<br>techniques and<br>fixed-effects models indicate<br>that a<br>long-run<br>equilibrium<br>relationship exists [...]"
          ],
          [
           "Assessing the dynamic economic impact of tourism for island economies",
           "Using a panel data of 19 island economies for the years that span from 1990 to 2007, this<br>study<br>explores<br>the<br>potential<br>contribution<br>of<br>tourism<br>to<br>economic growth and development within the conventional augmented<br>Solow growth<br>model.<br>Since<br>economic growth is<br>argued to<br>be<br>essentially a<br>dynamic<br>phenomenon we employ GMM method to account for<br>these issues.<br>The results<br>show<br>that tourism<br>significantly contributes<br>to<br>the economic growth<br>of island<br>economies. Moreover,<br>the tourist-growth<br>nexus is<br>observed to [...]"
          ],
          [
           "How strong is the linkage between tourism and economic growth in Europe?",
           "In this study, we examine the dynamic relationship between tourism growth and economic<br>growth,<br>using<br>a<br>newly<br>introduced<br>spillover<br>index<br>approach.<br>Based on monthly data for 10 European countries over the period<br>1995–2012,<br>our<br>analysis<br>reveals the<br>following<br>empirical<br>regularities.<br>First, the<br>tourism-economic growth relationship is not<br>stable over<br>time in<br>terms of both<br>magnitude and<br>direction,<br>indicating that<br>the tourism-led<br>economic growth<br>(TLEG) and the<br>economic-driven<br>tourism [...]"
          ],
          [
           "Tourism as a Long-Run Economic Growth Factor: An Empirical Investigation for Greece Using Causality Analysis",
           "This paper empirically examines the impact of tourism on the long-run economic growth of Greece<br>by<br>using<br>causality<br>analysis<br>of<br>real<br>gross<br>domestic<br>product, real effective exchange rate and international tourism earnings.<br>A<br>Multivariate<br>Auto<br>Regressive (VAR)<br>model is<br>applied<br>for the<br>period<br>1960:I-2000:IV. The results of co-integration analysis<br>suggest<br>that there is<br>one co-<br>integrated vector<br>among real gross<br>domestic<br>product,<br>real<br>effective exchange rate and<br>international tourism<br>earnings.<br>Granger [...]"
          ],
          [
           "The Effects of Tourism on Economic Growth and CO2 Emissions: A Comparison between Developed and Developing Economies",
           "This study empirically examines the dynamic relationships among tourism, economic growth, and CO 2<br>emissions<br>and<br>compares<br>the<br>effects<br>of<br>tourism<br>on<br>economic growth and CO 2 emissions between developed and developing<br>economies. By<br>employing<br>robust<br>panel<br>econometric<br>techniques, the<br>results<br>show that<br>tourism has significant positive impacts on<br>economic growth<br>for both<br>developed<br>and<br>developing economies,<br>supporting the<br>prevailing<br>hypothesis of<br>tourism-led economic<br>growth. The results<br>also reveal<br>that [...]"
          ],
          [
           "Small sample evidence on the tourism-led growth hypothesis in Lebanon",
           "This paper investigates the contribution of tourism to economic growth in Lebanon for the time period<br>of<br>1995–2010.<br>The<br>presence<br>of<br>long-<br>run<br>and<br>causal relationships is investigated applying the bounds testing approach<br>to<br>cointegration and<br>Granger<br>causality tests.<br>Because<br>of the<br>small<br>sample (T<br>= 16), econometric approaches and critical values<br>used<br>for testing receive<br>special<br>attention. Additionally,<br>a number<br>of<br>diagnostic tests<br>are utilised<br>to ensure that the model<br>is<br>suitable and [...]"
          ],
          [
           "Investigating the impacts of energy consumption, real GDP, tourism and trade on CO2 emissions by accounting for cross-sectional dependence: A panel study of OECD countries",
           "The objective of this study is to analyse the long-run dynamic relationship of carbon dioxide<br>emissions,<br>real<br>gross<br>domestic<br>product<br>(GDP),<br>the<br>square<br>of real GDP, energy consumption, trade and tourism under an<br>Environmental Kuznets<br>Curve<br>(EKC) model<br>for the<br>Organization<br>for Economic<br>Co-<br>operation and<br>Development (OECD) member<br>countries. Since we find the<br>presence of<br>cross-sectional<br>dependence<br>within the panel<br>time-series<br>data, we<br>apply<br>second-<br>generation unit root tests,<br>cointegration test [...]"
          ],
          [
           "The contribution of tourism development to economic growth in the Korean economy",
           "This study investigates the causal relations between tourism growth and economic expansion for the Korean<br>economy<br>by<br>using<br>Engle<br>and<br>Granger<br>two-<br>stage<br>approach and a bivariate Vector Autoregression (VAR) model. Two principle<br>results emerge<br>from<br>this study.<br>First,<br>the<br>results of<br>a<br>cointegration test<br>indicate that there is no long-run equilibrium<br>relation between two<br>series.<br>Second, the<br>outcomes of<br>Granger<br>causality test<br>imply<br>the one-way causal<br>relationship of economic-<br>driven tourism [...]"
          ],
          [
           "Does tourism effectively stimulate Malaysia's economic growth?",
           "This study attempts to further verify the validity of the tourism-led growth hypothesis in Malaysia<br>using<br>a<br>multivariate<br>model<br>derived<br>from<br>the<br>Solow<br>growth theory. It employs annual data from 1975 to 2011. We find that<br>economic<br>growth,<br>tourism and<br>other<br>determinants<br>are<br>cointegrated.<br>Specifically,<br>tourism has a positive impact on Malaysia's<br>economic<br>growth both in<br>the short-run<br>and in the<br>long-run. The<br>Granger<br>causality test<br>indicates that<br>tourism Granger-causes<br>economic<br>growth. All this<br>provides [...]"
          ],
          [
           "Tourism expansion and economic development: The case of Taiwan",
           "This study examines the causal relationship between tourism expansion and economic development<br>in<br>Taiwan.<br>A<br>Granger<br>causality<br>test<br>is<br>performed<br>following the cointegration approach to reveal the direction of causality<br>between<br>economic<br>growth<br>and tourism<br>expansion.<br>Test<br>results<br>indicate a long-<br>run equilibrium relationship and further a bi-<br>directional<br>causality<br>between the<br>two factors. In<br>other words, in<br>Taiwan,<br>tourism<br>and economic<br>development reinforce each<br>other. A discussion<br>follows [...]"
          ],
          [
           "The relationship between tourism receipts, real effective exchange rate and economic growth in Tunisia",
           "Abstract The objective of this paper is to analyse the role of tourism in the Tunisian economic growth.<br>We<br>used<br>a<br>trivariate<br>model<br>of<br>real<br>gross<br>domestic product (GDP), real international tourism receipts and real effective<br>exchange<br>rate to<br>discuss<br>the<br>relationship<br>between<br>tourism and<br>economic<br>growth. By using annual data for Tunisia for the period<br>of<br>1970–2007, our<br>results reveal<br>that<br>there is a<br>cointegrating<br>relationship<br>between tourism<br>and economic growth. In addition,<br>our<br>results for the<br>Granger [...]"
          ],
          [
           "Is tourism an engine for economic recovery? Theory and empirical evidence",
           "The purpose of this study is to examine the causal relationships between tourism development<br>and<br>economic<br>growth.<br>For<br>this<br>purpose,<br>the<br>Dumitrescu<br>and Hurlin (2012) technique was employed to analyze the casual link<br>between<br>tourism<br>development and<br>economic<br>growth<br>in seven<br>European<br>countries. The<br>results showed that there is bidirectional<br>causality<br>between growth<br>in tourism<br>receipts and<br>economic growth,<br>suggesting<br>that<br>economic growth and<br>tourism development<br>are<br>interdependent and that [...]"
          ],
          [
           "Tourism and Economic Growth: The Case of Mauritius",
           "Tourism is now believed to provide an impetus to the economic progress of developing nations<br>and<br>its<br>importance<br>is<br>gaining<br>widespread<br>recognition.<br>In<br>fact, the relationship between exports and growth is the subject of<br>ongoing<br>debate,<br>but the<br>nature of<br>exports has<br>received<br>little attention.<br>Despite<br>the continuous efforts of developing<br>countries to<br>increase their<br>exports, this<br>strategy<br>often adds little<br>foreign<br>exchange to their balance<br>of<br>payments. For many<br>reasons, the non-<br>traditional<br>exports of [...]"
          ],
          [
           "Is the tourism-led growth hypothesis valid for Turkey?",
           "Like many developing countries, Turkey has also given priority to the development of tourism industry as<br>a<br>part<br>of<br>its<br>economic<br>growth<br>strategy.<br>This<br>study intends to investigate whether tourism has really contributed to the<br>economic<br>growth<br>in<br>Turkey. The<br>interaction<br>between<br>tourism and<br>economic<br>growth is investigated by making use of leveraged<br>bootstrap<br>causality tests.<br>This<br>method is<br>robust to the<br>existence of non-<br>normality and<br>ARCH effects.<br>Special attention is<br>given to the<br>choice of the [...]"
          ],
          [
           "Tourism as a long-run economic growth factor: the Spanish case",
           "This paper examines the role of tourism in the Spanish long-run economic development.<br>The<br>tourism-<br>led<br>growth<br>hypothesis<br>is<br>confirmed<br>through<br>cointegration and causality testing. The results indicate that, at<br>least,<br>during the last<br>three<br>decades,<br>economic growth<br>in<br>Spain has been<br>sensible to<br>persistent expansion of international<br>tourism. The<br>increase of this<br>activity has<br>produced<br>multiplier effects<br>over<br>time. External<br>competitivity has<br>also been proved<br>in the model to<br>be a fundamental<br>variable [...]"
          ],
          [
           "Tourism, trade and growth: the case of Cyprus",
           "Although the relationship between international trade and economic growth has found a wide application area<br>in<br>the<br>literature<br>over<br>the<br>years,<br>this<br>can<br>not be said about tourism and growth or trade and tourism. This study employs the<br>bounds<br>test<br>for<br>cointegration and<br>Granger<br>causality<br>tests<br>to<br>investigate a long-run equilibrium relationship between tourism,<br>trade and<br>real<br>income<br>growth, and the<br>direction of<br>causality among<br>themselves<br>for<br>Cyprus. Results reveal that tourism, trade<br>and real<br>income [...]"
          ]
         ],
         "hovertemplate": "Topic=Tourism Growth Nexus<br>x=%{x}<br>y=%{y}<br>title=%{customdata[0]}<br>abstract=%{customdata[1]}<extra></extra>",
         "legendgroup": "Tourism Growth Nexus",
         "marker": {
          "color": "#996633",
          "size": 5,
          "symbol": "circle"
         },
         "mode": "markers",
         "name": "Tourism Growth Nexus",
         "orientation": "v",
         "showlegend": true,
         "type": "scatter",
         "x": [
          14.062872,
          14.029143,
          14.058716,
          14.100831,
          14.066525,
          14.081223,
          13.975865,
          14.033893,
          14.056674,
          13.94225,
          14.132132,
          14.148015,
          13.979814,
          14.005826,
          13.947576,
          13.081257,
          13.99381,
          14.037963,
          14.021547,
          13.944578,
          14.176838,
          14.052687,
          13.988868,
          14.037401,
          14.013687
         ],
         "xaxis": "x",
         "y": [
          -10.441455,
          -10.393699,
          -10.459063,
          -10.476841,
          -10.477514,
          -10.486772,
          -10.490883,
          -10.408002,
          -10.430925,
          -10.317553,
          -10.425311,
          -10.5451975,
          -10.496927,
          -10.357626,
          -10.497418,
          -10.095237,
          -10.478481,
          -10.430234,
          -10.429837,
          -10.46858,
          -10.569249,
          -10.384155,
          -10.430939,
          -10.431025,
          -10.434703
         ],
         "yaxis": "y"
        },
        {
         "customdata": [
          [
           "An evaluation of conceptual business process modelling languages",
           "Conceptual Business Process Modelling Languages (BPMLs) express certain aspects of<br>processes<br>(e.g.<br>activities,<br>roles,<br>interactions,<br>data,<br>etc.)<br>and<br>address different application areas. To evaluate BPMLs, a<br>general<br>framework is<br>required. Although<br>a lot of<br>BPMLs are<br>available in<br>research<br>and<br>industry, an established evaluation<br>framework as<br>well as a<br>comprehensive evaluation of<br>BPMLs is<br>missing. To bridge<br>this gap, we<br>propose a<br>generic<br>meta-model that<br>captures a wide<br>range of<br>process concepts and [...]"
          ],
          [
           "A language-mapping approach to action-oriented development of information systems",
           "Two important views in the development of information systems are the action view and the reaction<br>view<br>which<br>govern<br>the<br>areas<br>of<br>business<br>process<br>modelling and information systems modelling, respectively. We suggest an<br>approach<br>to<br>mediate<br>between<br>these<br>partially<br>conflicting views by<br>specifying a<br>language-mapping framework. In other words, we<br>specify<br>a<br>transition from a<br>process model<br>with<br>human actors to<br>an IS model with<br>inanimate agents."
          ],
          [
           "Knowledge modelling in weakly‐structured business processes",
           "In this paper we present a new approach for integrating knowledge management and business<br>process<br>management.<br>We<br>focus<br>on<br>the<br>modelling<br>of<br>weakly‐structured knowledge‐intensive business processes. We develop a<br>framework for<br>modelling this<br>type<br>of<br>processes<br>that<br>explicitly<br>considers<br>knowledge‐related tasks and knowledge objects and<br>present a workflow<br>tool that is<br>an<br>implementation of<br>our<br>theoretical<br>meta‐model. As an<br>example, we<br>sketch one case study, the<br>process for granting<br>full old age<br>pension [...]"
          ],
          [
           "A metamodel to integrate business processes time perspective in BPMN 2.0",
           "ContextBusiness Process Management (BPM) is becoming a strategic advantage for organizations<br>to<br>streamline<br>their<br>operations.<br>Most<br>business<br>experts<br>are<br>betting for OMG Business Process Model and Notation (BPMN) as de-<br>facto<br>standard<br>(ISO/IEC<br>19510:2013) and<br>selected<br>technology to<br>model<br>processes. The<br>temporal dimension underlies in any kind<br>of process<br>however,<br>technicians<br>need to shape this<br>perspective<br>that must also<br>coexist with<br>task control flow<br>aspects, as well<br>as resource<br>and case<br>perspectives. [...]"
          ],
          [
           "Integrating the Goal and Business Process Perspectives in Information System Analysis",
           "There are several motivations to promote investment and scientific effort<br>in<br>the<br>integration<br>of<br>intentional<br>and<br>operational<br>perspectives:<br>organisational reengineering, continuous improvement of<br>business<br>processes,<br>alignment<br>among<br>complementary<br>analysis<br>perspectives,<br>information<br>traceability, etc. In this paper we<br>propose the<br>integration of two<br>modelling<br>languages<br>that support the<br>creation of<br>goal and business<br>process models:<br>the i* goal-<br>oriented<br>modelling method and<br>Communication<br>Analysis, [...]"
          ],
          [
           "A Meta-Meta-Model For Seven Business Process Modeling Languages",
           "Many different business process modelling languages (BPMLs) have been designed in<br>recent<br>years.<br>In<br>cross-<br>organizational<br>business<br>processes<br>and<br>heterogeneous organizations where multiple BPMLs are deployed<br>there is a<br>need for<br>a<br>unified view to<br>ease communication<br>and<br>foster<br>understandability.<br>This paper proposes a language<br>independent<br>abstraction of<br>seven<br>mainstream BPMLs'<br>concepts, in a unified meta-<br>meta<br>model based<br>on an analysis of<br>these<br>modelling languages.<br>Generic concepts<br>are<br>identified and [...]"
          ],
          [
           "Extending BPMN for Business Activity Monitoring",
           "Real-time access to key performance indicators is necessary to ensure timeliness and<br>effectiveness<br>of<br>operational<br>business<br>processes.<br>The<br>concept<br>of<br>Business Activity Monitoring (BAM) refers to the observation,<br>analysis,<br>and<br>presentation of real-<br>time<br>information about<br>business<br>activities<br>across<br>systems and companies' borders.<br>Designing and<br>maintaining<br>BAM applications is<br>challenging, as<br>the involved<br>concepts (e.g.,<br>business<br>processes, audit<br>logs,<br>performance<br>measures) though being<br>strongly [...]"
          ],
          [
           "Towards a meta-modeling approach for social business process requirements capture",
           "A Social Business Process (SBP) is the result of blending social computing (a.k.a. Web 2.0) with business<br>process<br>(BP).<br>Despite<br>the<br>benefits<br>of<br>SBP<br>to<br>enterprises, several limitations continue to undermine them. In this paper, we<br>address two<br>specific<br>limitations,<br>namely<br>the<br>difficulty<br>of<br>capturing<br>SBP's requirements and the lack of a definition for SBP.<br>Thus, meta-<br>modeling is used<br>to<br>capture<br>requirements<br>from<br>organizational,<br>technological, and<br>management perspectives. In<br>addition, we<br>introduce a [...]"
          ],
          [
           "KnowledgeScope: managing knowledge in context",
           "Knowledge repositories have been implemented in many organizations, but they often suffer from non-<br>use.<br>This<br>research<br>considers<br>two<br>key<br>design<br>factors<br>that cause non-use: the extra burden on users to document knowledge in<br>the<br>repository, and<br>the lack of<br>a<br>standard<br>knowledge<br>structure that<br>facilitates<br>knowledge sharing among users with<br>different<br>perspectives. We propose a<br>design of<br>a<br>knowledge management<br>system<br>called KnowledgeScope<br>that addresses<br>these<br>problems through<br>(1) an integrated [...]"
          ],
          [
           "Towards a BPMN 2.0 Ontology",
           "The Business Process Model and Notation (BPMN) is a widely used standard for business process<br>modelling<br>and<br>maintained<br>by<br>the<br>Object<br>Management<br>Group<br>(OMG). However, the BPMN 2.0 specification is quite comprehensive and<br>spans more<br>than 500<br>pages.<br>The<br>definition of an<br>element<br>is distributed<br>across<br>different sections and sometimes conflicting. In<br>addition, the<br>structure<br>of the<br>elements<br>and their<br>relationships are<br>described within the<br>metamodel,<br>however, further<br>syntactical rules are<br>defined within<br>the [...]"
          ],
          [
           "Modeling process-related RBAC models with extended UML activity models",
           "ContextBusiness processes are an important source for the engineering of customized software systems<br>and<br>are<br>constantly<br>gaining<br>attention<br>in<br>the<br>area<br>of software engineering as well as in the area of information and system<br>security.<br>While<br>the need to<br>integrate<br>processes and<br>role-based<br>access<br>control<br>(RBAC) models has been repeatedly identified in<br>research and<br>practice,<br>standard<br>process modeling<br>languages do not<br>provide<br>corresponding<br>language<br>elements.ObjectiveIn this<br>paper, we are<br>concerned with [...]"
          ],
          [
           "Workflow Resource Patterns: Identification, Representation and Tool Support",
           "In the main, the attention of workflow researchers and workflow developers has focussed on the<br>process<br>perspective,<br>i.e.,<br>control-<br>flow.<br>As<br>a<br>result,<br>issues associated with the resource perspective, i.e., the people and<br>machines<br>actually doing the<br>work,<br>have<br>been<br>largely<br>neglected.<br>Although the<br>process perspective is of most significance,<br>appropriate<br>consideration of the<br>resource<br>perspective<br>is<br>essential for<br>successful<br>implementation of<br>workflow technology.<br>Previous work has<br>identified [...]"
          ],
          [
           "Formalising Workflow: A CCS-inspired Characterisation of the YAWL Workflow Patterns",
           "We present work concerning the formal specification of business processes. It is of substantial benefit to be<br>able<br>to<br>pin<br>down<br>the<br>meaning<br>of<br>business<br>processes precisely. This is an end in itself, but we are also concerned to do so in<br>order<br>that we<br>might<br>prove<br>properties<br>about<br>the<br>business processes<br>that are being specified. It is a notable characteristic of<br>most<br>languages<br>for<br>representing<br>business processes<br>that they<br>lack a<br>robust semantics, and<br>a notable characteristic of most<br>[...]"
          ],
          [
           "Process Query Language: A Way to Make Workflow Processes More Flexible",
           "Many requirements for a business process depend on the workflow execution data that includes common data<br>for<br>all<br>the<br>population<br>of<br>processes,<br>state<br>of<br>resources, state of processes, etc. The natural way to specify and implement<br>such<br>requirements<br>is to<br>put them into<br>the<br>process<br>definition. In<br>order to<br>do it, we need: (1) a generalised workflow metamodel<br>that<br>includes data on<br>the<br>workflow<br>environment,<br>process<br>definitions, and process<br>execution; (2) a<br>powerful and flexible query<br>language<br>addressing [...]"
          ],
          [
           "Beyond Control-Flow: Extending Business Process Configuration to Roles and Objects",
           "A configurable process model is an integrated representation of multiple variants of a business process. It<br>is<br>designed<br>to<br>be<br>individualized<br>to<br>meet<br>a<br>particular set of requirements. As such, configurable process models promote<br>systematic<br>reuse of<br>proven or<br>common<br>practices.<br>Existing<br>notations<br>for<br>configurable process modeling focus on capturing tasks<br>and control-<br>flow<br>dependencies,<br>neglecting equally<br>important<br>aspects of<br>business<br>processes such<br>as data flow, material flow<br>and [...]"
          ],
          [
           "M3D",
           "Nowadays, Web Applications (WAs) are complex software systems, used by multiple users with different<br>roles<br>and<br>often<br>developed<br>to<br>support<br>and<br>manage<br>business processes. Due to the changing nature of the supported processes, WAs<br>need to<br>be<br>easily and<br>quickly<br>modified, to<br>adapt and<br>align<br>them to the<br>processes they support. In recent years, Model Driven<br>Engineering<br>(MDE)<br>approaches<br>have been<br>proposed and used to<br>develop and<br>evolve<br>WAs. However, the<br>definition of appropriate MDE<br>approaches [...]"
          ],
          [
           "UMLPACE for Modeling and Verification of Complex Business Requirements in Event-Driven Process Chain (EPC)",
           "Business processes (BPs) are often modeled to elaborate process-related business requirements (BRs). This<br>leads<br>to<br>verify<br>the<br>complex<br>BRs<br>in<br>early<br>automation stages. Among various BP languages, event-driven process chain (EPC) is a<br>well-<br>known<br>semi-formal<br>modeling<br>language,<br>which<br>is<br>verifiable<br>after transforming it into any other formal language, such as,<br>timed<br>automata or<br>Petri nets.<br>However, full<br>potential of<br>EPC cannot<br>be<br>exploited as yet<br>because existing EPC tools can only<br>model or<br>verify the [...]"
          ],
          [
           "UML Metamodel-based Workflow Modeling and Execution",
           "In this paper, we present a UML metamodel-based approach for creating and executing<br>workflow<br>models.<br>The<br>workflow<br>modeling<br>language<br>is<br>introduced<br>through its abstract syntax, and an evaluation shows how this<br>language<br>supports known<br>workflow<br>patterns.<br>Some patterns<br>can be<br>expressed<br>easier<br>compared to established languages like EPCs<br>or BPMN.<br>Organizational and<br>data aspects in<br>workflow<br>models can be<br>described on the<br>basis of the<br>presented<br>metamodel. The<br>workflow models<br>can be instantiated<br>and executed [...]"
          ],
          [
           "Configuration Based Workflow Composition",
           "Automatic or assisted workflow composition is a field of intense research for applications to the<br>world<br>wide<br>web<br>or<br>to<br>business<br>process<br>modeling.<br>Workflow composition is traditionally addressed in various ways, generally<br>via<br>theorem<br>proving<br>techniques.<br>The<br>originality of<br>this<br>research stems from<br>the observation that building a composite workflow<br>bears<br>strong<br>relationships<br>with finite<br>model<br>search, and that some<br>workflow<br>languages can be<br>defined as constrained object<br>metamodels<br>[1], [2].<br>This leads [...]"
          ],
          [
           "A Metamodel Based Perspective on the Adaptation of a Semantic Business Process Modeling Language to the Financial Sector",
           "Process modeling is an important prerequisite to process reorganization and management. As a result,<br>many<br>companies<br>have<br>spent<br>much<br>effort<br>on<br>process<br>documentation, while hardly gaining equivalent benefits in the analysis and<br>usage of<br>the resulting<br>process<br>models.<br>To<br>balance the<br>cost-<br>benefit-ratio<br>of process modeling projects with respect to their<br>later usage,<br>especially<br>regarding<br>automatic process<br>model<br>analysis (i.e.<br>for<br>optimization purposes<br>etc.), new domain-specific<br>and thus<br>semantic [...]"
          ],
          [
           "Towards a decision-aware declarative process modeling language for knowledge-intensive processes",
           "Modeling loosely framed and knowledge-intensive business processes with the currently<br>available<br>process<br>modeling<br>languages<br>is<br>very<br>challenging.<br>Some<br>lack the flexibility to model this type of processes, while<br>others are<br>missing one or<br>more<br>perspectives needed<br>to add<br>the<br>necessary level of<br>detail to<br>the models. In this paper we have<br>composed a list<br>of requirements<br>that a<br>modeling language should<br>fulfil in<br>order<br>to adequately support<br>the modeling<br>of this<br>type of processes.<br>Based on these<br>requirements, [...]"
          ],
          [
           "An Open Platform for Business Process Modeling and Verification",
           "In this paper we present the BPAL platform that includes a logicbased language for business<br>process<br>(BP)<br>modeling<br>and<br>a<br>reasoning<br>mechanism<br>providing<br>support for several tasks. Firstly, the definition of a BP meta-<br>model (MM)<br>consisting<br>of a set of<br>rules<br>that<br>guide the BP<br>designers in<br>their work.<br>Secondly, given a BP, the BPAL platform<br>allows for the<br>automatic<br>verification of the<br>compliance<br>(well-<br>formedness) of a<br>given BP w.r.t.<br>the defined MM.<br>Finally, the<br>execution semantics<br>of a BP is<br>given in [...]"
          ]
         ],
         "hovertemplate": "Topic=Business Process Meta Models<br>x=%{x}<br>y=%{y}<br>title=%{customdata[0]}<br>abstract=%{customdata[1]}<extra></extra>",
         "legendgroup": "Business Process Meta Models",
         "marker": {
          "color": "#00cccc",
          "size": 5,
          "symbol": "x"
         },
         "mode": "markers",
         "name": "Business Process Meta Models",
         "orientation": "v",
         "showlegend": true,
         "type": "scatter",
         "x": [
          12.215411,
          12.079123,
          12.144818,
          12.160748,
          12.008863,
          12.163597,
          12.179462,
          12.160638,
          12.077812,
          12.225152,
          12.173224,
          12.179977,
          12.234043,
          12.22047,
          12.179156,
          12.04936,
          12.250346,
          12.195031,
          12.178779,
          12.161779,
          12.17112,
          12.219024
         ],
         "xaxis": "x",
         "y": [
          14.023249,
          14.127149,
          14.145998,
          14.132781,
          14.104216,
          13.972796,
          13.960523,
          13.954133,
          14.550855,
          14.002626,
          13.951533,
          14.388195,
          14.227597,
          13.992921,
          14.045353,
          14.8808975,
          14.012099,
          14.226277,
          14.34769,
          14.010274,
          14.047769,
          13.928262
         ],
         "yaxis": "y"
        },
        {
         "customdata": [
          [
           "Accurate multiplex gene synthesis from programmable DNA microchips",
           "Testing the many hypotheses from genomics and systems biology experiments demands accurate and<br>cost-<br>effective<br>gene<br>and<br>genome<br>synthesis.<br>Here<br>we<br>describe a microchip-based technology for multiplex gene synthesis. Pools<br>of<br>thousands<br>of<br>‘construction’<br>oligonucleotides<br>and<br>tagged<br>complementary<br>‘selection’ oligonucleotides are synthesized<br>on<br>photo-<br>programmable<br>microfluidic chips1,<br>released, amplified and<br>selected<br>by<br>hybridization to reduce<br>synthesis errors<br>ninefold. A<br>one-step<br>polymerase<br>assembly [...]"
          ],
          [
           "Programmed population control by cell–cell communication and regulated killing",
           "De novo engineering of gene circuits inside cells is extremely difficult1,2,3,4,5,6,7,8,9,<br>and<br>efforts<br>to<br>realize<br>predictable<br>and<br>robust<br>performance<br>must deal with noise in gene expression and variation in<br>phenotypes<br>between<br>cells10,11,12.<br>Here we<br>demonstrate that<br>by<br>coupling gene<br>expression to<br>cell survival and death using<br>cell–cell<br>communication, we can<br>programme the<br>dynamics of a<br>population<br>despite<br>variability in the<br>behaviour of<br>individual<br>cells.<br>Specifically, we have built and<br>characterized [...]"
          ],
          [
           "Foundations for engineering biology",
           "Engineered biological systems have been used to manipulate information, construct materials,<br>process<br>chemicals,<br>produce<br>energy,<br>provide<br>food,<br>and<br>help<br>maintain or enhance human health and our environment. Unfortunately,<br>our<br>ability to quickly<br>and reliably<br>engineer<br>biological<br>systems<br>that<br>behave as<br>expected remains quite limited.<br>Foundational<br>technologies that make routine<br>the engineering<br>of biology<br>are needed.<br>Vibrant, open<br>research<br>communities<br>and<br>strategic leadership<br>are necessary to ensure that [...]"
          ],
          [
           "Creation of a Bacterial Cell Controlled by a Chemically Synthesized Genome",
           "We report the design, synthesis, and assembly of the 1.08-mega-base pair Mycoplasma<br>mycoides<br>JCVI-<br>syn1.0<br>genome<br>starting<br>from<br>digitized<br>genome<br>sequence information and its transplantation into a M. capricolum<br>recipient<br>cell to<br>create new M.<br>mycoides<br>cells that<br>are<br>controlled only by<br>the<br>synthetic chromosome. The only DNA in the cells<br>is the<br>designed<br>synthetic DNA sequence,<br>including<br>\"watermark\"<br>sequences<br>and other designed<br>gene<br>deletions and polymorphisms,<br>and<br>mutations acquired<br>during the [...]"
          ],
          [
           "Engineering a mevalonate pathway in Escherichia coli for production of terpenoids",
           "Isoprenoids are the most numerous and structurally diverse family of natural products. Terpenoids,<br>a<br>class<br>of<br>isoprenoids<br>often<br>isolated<br>from<br>plants,<br>are used as commercial flavor and fragrance compounds and antimalarial<br>or<br>anticancer<br>drugs.<br>Because plant<br>tissue<br>extractions<br>typically<br>yield low<br>terpenoid concentrations, we sought an alternative<br>method<br>to produce<br>high-value<br>terpenoid<br>compounds, such as<br>the<br>antimalarial drug<br>artemisinin, in a<br>microbial host. We<br>engineered the<br>expression of [...]"
          ],
          [
           "Engineered gene circuits",
           "A central focus of postgenomic research will be to understand how cellular phenomena arise<br>from<br>the<br>connectivity<br>of<br>genes<br>and<br>proteins.<br>This<br>connectivity generates molecular network diagrams that resemble<br>complex<br>electrical<br>circuits, and<br>a<br>systematic<br>understanding will<br>require<br>the<br>development of a mathematical framework for<br>describing the<br>circuitry. From<br>an<br>engineering<br>perspective, the<br>natural path towards such<br>a<br>framework is<br>the construction and<br>analysis of the<br>underlying [...]"
          ],
          [
           "Refinement and standardization of synthetic biological parts and devices",
           "The ability to quickly and reliably engineer many-component systems from libraries of<br>standard<br>interchangeable<br>parts<br>is<br>one<br>hallmark<br>of<br>modern<br>technologies. Whether the apparent complexity of living systems will<br>permit<br>biological engineers<br>to<br>develop<br>similar<br>capabilities is<br>a<br>pressing<br>research question. We propose to adapt existing<br>frameworks for<br>describing engineered<br>devices<br>to<br>biological objects<br>in order to (i)<br>direct<br>the<br>refinement and use of biological<br>'parts' and<br>'devices', (ii) [...]"
          ],
          [
           "Diversity-based, model-guided construction of synthetic gene networks with predicted functions",
           "Ellis et al. describe a strategy for rationally assembling gene networks with<br>predictable<br>behaviors.<br>Using<br>mathematical<br>models,<br>they<br>predict<br>the<br>responses of complex synthetic gene networks built from<br>quantitatively<br>characterized<br>promoter<br>libraries, and<br>harness these<br>networks<br>to regulate<br>an<br>industrially relevant yeast<br>phenotype."
          ],
          [
           "Environmentally Controlled Invasion of Cancer Cells by Engineered Bacteria",
           "Bacteria can sense their environment, distinguish between cell types, and deliver proteins<br>to<br>eukaryotic<br>cells.<br>Here,<br>we<br>engineer<br>the<br>interaction<br>between bacteria and cancer cells to depend on heterologous<br>environmental<br>signals. We<br>have<br>characterized<br>invasin<br>from<br>Yersinia<br>pseudotuburculosis as<br>an output module that enables<br>Escherichia coli to<br>invade cancer-<br>derived<br>cells, including HeLa,<br>HepG2, and<br>U2OS<br>lines. To<br>environmentally restrict<br>invasion,<br>we placed this module<br>under the [...]"
          ],
          [
           "Programmable cells: Interfacing natural and engineered gene networks",
           "Novel cellular behaviors and characteristics can be obtained by coupling engineered gene<br>networks<br>to<br>the<br>cell's<br>natural<br>regulatory<br>circuitry<br>through<br>appropriately designed input and output interfaces. Here, we<br>demonstrate how<br>an<br>engineered<br>genetic<br>circuit can<br>be used to<br>construct cells<br>that respond<br>to biological signals in a<br>predetermined and<br>programmable<br>fashion. We<br>employ a modular<br>design<br>strategy to create<br>Escherichia coli<br>strains where a<br>genetic<br>toggle switch is<br>interfaced with:<br>(i) the [...]"
          ],
          [
           "Reconstruction of genetic circuits",
           "The complex genetic circuits found in cells are ordinarily studied by analysis of<br>genetic<br>and<br>biochemical<br>perturbations.<br>The<br>inherent<br>modularity<br>of<br>biological components like genes and proteins enables<br>a<br>complementary<br>approach: one can<br>construct and<br>analyse<br>synthetic genetic<br>circuits based<br>on<br>their natural counterparts.<br>Such<br>synthetic circuits can<br>be used as simple in<br>vivo models to<br>explore the<br>relation between the<br>structure and<br>function of<br>a<br>genetic<br>circuit. Here we describe<br>recent progress in [...]"
          ],
          [
           "The second wave of synthetic biology: from modules to systems",
           "Key PointsIn the 'first wave' of synthetic biology, researchers developed basic<br>elements<br>and<br>modules<br>that<br>allowed<br>transcriptional,<br>translational<br>and<br>post-translational control of cellular processes.The<br>'second wave'<br>of<br>synthetic<br>biology, in<br>which<br>researchers must integrate<br>these basic<br>elements and<br>modules to create systems-<br>level circuitry,<br>presents<br>new<br>challenges.<br>Traditional<br>principles for systems engineering must<br>be<br>supplemented with<br>approaches<br>that attend to<br>details of<br>biological<br>systems [...]"
          ],
          [
           "Engineering stability in gene networks by autoregulation",
           "The genetic and biochemical networks which underlie such things as homeostasis in metabolism<br>and<br>the<br>developmental<br>programs<br>of<br>living<br>cells,<br>must<br>withstand considerable variations and random perturbations<br>of<br>biochemical<br>parameters1,2,3. These occur<br>as<br>transient<br>changes in,<br>for<br>example,<br>transcription, translation, and RNA and<br>protein<br>degradation. The<br>intensity and duration of<br>these<br>perturbations<br>differ between cells<br>in a<br>population4.<br>The unique state<br>of cells,<br>and thus the<br>diversity in a population, [...]"
          ],
          [
           "Generating a synthetic genome by whole genome assembly: φX174 bacteriophage from synthetic oligonucleotides",
           "We have improved upon the methodology and dramatically shortened the time required for accurate assembly of<br>5-<br>to<br>6-kb<br>segments<br>of<br>DNA<br>from<br>synthetic<br>oligonucleotides. As a test of this methodology, we have established conditions for<br>the<br>rapid<br>(14-day)<br>assembly<br>of<br>the<br>complete<br>infectious genome of<br>bacteriophage X174 (5386 bp) from a single pool<br>of<br>chemically<br>synthesized<br>oligonucleotides. The<br>procedure<br>involves<br>three key<br>steps: (i). gel<br>purification of pooled<br>oligonucleotides<br>to reduce<br>contamination [...]"
          ],
          [
           "RNA synthetic biology",
           "RNA molecules play important and diverse regulatory roles in the cell by virtue of their<br>interaction<br>with<br>other<br>nucleic<br>acids,<br>proteins<br>and<br>small<br>molecules. Inspired by this natural versatility, researchers have<br>engineered RNA<br>molecules<br>with new<br>biological<br>functions.<br>In the last<br>two<br>years<br>efforts in synthetic biology have produced<br>novel, synthetic RNA<br>components<br>capable of<br>regulating gene<br>expression in<br>vivo largely in<br>bacteria<br>and<br>yeast, setting the stage<br>for scalable and<br>programmable<br>cellular [...]"
          ],
          [
           "Stochastic Gene Expression in a Single Cell",
           "Clonal populations of cells exhibit substantial phenotypic variation. Such heterogeneity can<br>be<br>essential<br>for<br>many<br>biological<br>processes<br>and<br>is<br>conjectured to arise from stochasticity, or noise, in gene expression.<br>We<br>constructed strains<br>of<br>Escherichia<br>coli that<br>enable detection<br>of noise<br>and<br>discrimination between the two mechanisms by<br>which it<br>is generated.<br>Both<br>stochasticity inherent in<br>the<br>biochemical process of<br>gene<br>expression<br>(intrinsic noise) and<br>fluctuations in<br>other [...]"
          ],
          [
           "Complete Chemical Synthesis, Assembly, and Cloning of a Mycoplasma genitalium Genome",
           "We have synthesized a 582,970-base pair Mycoplasma genitalium genome. This synthetic genome, named<br>M.<br>genitalium<br>JCVI-1.0,<br>contains<br>all<br>the<br>genes<br>of<br>wild-type M. genitalium G37 except MG408, which was disrupted by an<br>antibiotic<br>marker to block<br>pathogenicity<br>and to<br>allow<br>for<br>selection. To<br>identify<br>the genome as synthetic, we inserted<br>\"watermarks\" at<br>intergenic sites known<br>to<br>tolerate<br>transposon<br>insertions.<br>Overlapping \"cassettes\" of<br>5 to 7<br>kilobases (kb),<br>assembled [...]"
          ],
          [
           "Directed evolution of a genetic circuit",
           "The construction of artificial networks of transcriptional control elements in living<br>cells<br>represents<br>a<br>new<br>frontier<br>for<br>biological<br>engineering.<br>However, biological circuit engineers will have to confront their<br>inability<br>to predict<br>the<br>precise<br>behavior of<br>even the<br>most simple<br>synthetic<br>networks, a serious shortcoming and challenge for<br>the design<br>and construction<br>of<br>more<br>sophisticated genetic<br>circuitry in<br>the future. We<br>propose a<br>combined rational and<br>evolutionary design<br>strategy [...]"
          ],
          [
           "Production of the antimalarial drug precursor artemisinic acid in engineered yeast",
           "Battling malariaDrug-resistant strains of the malaria parasite are widespread, and as a result<br>mortality<br>due<br>to<br>malaria<br>has<br>increased<br>significantly<br>in<br>recent years. Artemisinin, isolated from the herb Artemisia annua<br>(sweet wormwood),<br>is one<br>drug<br>that shows<br>a high<br>efficacy in<br>killing multi-<br>resistant<br>strains of the parasite. The drug is<br>extremely expensive, and<br>high<br>demand has<br>led to a<br>shortage of<br>artemisinin,<br>available only by<br>extraction from the<br>plant source.<br>Ro et al. now report<br>the<br>development [...]"
          ],
          [
           "Synthetic biology",
           "Chemistry is a broadly powerful discipline in contemporary science because it has the ability to create new<br>forms<br>of<br>the<br>matter<br>that<br>it<br>studies.<br>By<br>doing so, chemistry can test models that connect molecular structure to behaviour<br>without<br>having to<br>rely on<br>what<br>nature<br>has<br>provided. This<br>creation,<br>known as 'synthesis', began to be applied to living systems<br>in the<br>1980s as<br>recombinant<br>DNA<br>technologies<br>allowed<br>biologists to<br>deliberately change the<br>molecular structure of the microbes<br>that [...]"
          ],
          [
           "An engineered epigenetic transgene switch in mammalian cells",
           "In multicellular systems cell identity is imprinted by epigenetic regulation circuits, which determine<br>the<br>global<br>transcriptome<br>of<br>adult<br>cells<br>in<br>a<br>cell phenotype–specific manner1,2,3. By combining two repressors, which control<br>each<br>other's<br>expression, we<br>have<br>developed<br>a<br>mammalian<br>epigenetic<br>circuitry able to switch between two stable transgene<br>expression<br>states after<br>transient<br>administration of<br>two<br>alternate<br>drugs.<br>Engineered Chinese<br>hamster ovary cells (CHO-K1)<br>showed [...]"
          ],
          [
           "A tunable synthetic mammalian oscillator",
           "An around-the-clock synthetic gene circuitSynthetic gene circuits producing oscillating outputs have been<br>developed<br>only<br>in<br>bacteria,<br>and<br>it<br>has<br>been<br>difficult to make them reliable even there. Tigges et al. have now developed<br>a<br>synthetic<br>sense–antisense<br>circuit in<br>mammalian<br>cells<br>that<br>produces<br>autonomous, self-sustained and tunable cyclic gene<br>expression.<br>This<br>synthetic mammalian clock<br>will be of use<br>in the study<br>of<br>oscillations<br>in mammalian<br>cells, and may improve our<br>understanding<br>of the<br>circadian [...]"
          ],
          [
           "Chemical Synthesis of Poliovirus cDNA: Generation of Infectious Virus in the Absence of Natural Template",
           "Full-length poliovirus complementary DNA (cDNA) was synthesized by assembling oligonucleotides<br>of<br>plus<br>and<br>minus<br>strand<br>polarity.<br>The<br>synthetic<br>poliovirus cDNA was transcribed by RNA polymerase into viral RNA, which<br>translated<br>and<br>replicated<br>in a<br>cell-free<br>extract,<br>resulting in<br>the de novo<br>synthesis of infectious poliovirus. Experiments in<br>tissue<br>culture<br>using<br>neutralizing<br>antibodies and CD155<br>receptor-<br>specific antibodies<br>and<br>neurovirulence tests in CD155<br>transgenic mice<br>confirmed<br>that [...]"
          ],
          [
           "Engineering Escherichia coli to see light",
           "These smart bacteria ‘photograph’ a light pattern as a high-definition chemical image."
          ],
          [
           "A fast, robust and tunable synthetic gene oscillator",
           "A tunable synthetic gene oscillatorSynthetic biologists aim to apply well-known principles of<br>gene<br>regulation<br>to<br>build<br>living<br>systems<br>with<br>desired<br>properties, but practical applications have been disappointing. Jeff<br>Hasty and<br>colleagues<br>have<br>now<br>combined<br>microfluidics, single-<br>cell<br>microscopy and<br>computational modelling to develop a<br>bacterial gene<br>oscillator that is<br>fast,<br>robust,<br>persistent<br>and whose frequency can be<br>tuned<br>externally. Their<br>combination of<br>experimental and<br>theoretical work [...]"
          ],
          [
           "A synthetic oscillatory network of transcriptional regulators",
           "Networks of interacting biomolecules carry out many essential functions in living cells1,<br>but<br>the<br>‘design<br>principles’<br>underlying<br>the<br>functioning<br>of<br>such intracellular networks remain poorly understood, despite<br>intensive<br>efforts<br>including<br>quantitative<br>analysis of<br>relatively<br>simple systems2.<br>Here we<br>present a complementary approach to<br>this problem:<br>the design<br>and<br>construction of a<br>synthetic network to<br>implement a<br>particular function. We<br>used<br>three<br>transcriptional repressor<br>systems that are<br>not<br>part [...]"
          ],
          [
           "Combinatorial Synthesis of Genetic Networks",
           "A central problem in biology is determining how genes interact as parts of functional<br>networks.<br>Creation<br>and<br>analysis<br>of<br>synthetic<br>networks,<br>composed<br>of well-characterized genetic elements, provide a framework<br>for theoretical<br>modeling.<br>Here,<br>with the use<br>of a<br>combinatorial<br>method, a<br>library of<br>networks with varying connectivity was<br>generated in<br>Escherichia coli.<br>These<br>networks were composed<br>of<br>genes encoding the<br>transcriptional<br>regulators<br>LacI, TetR, and<br>lambda CI, as<br>well as [...]"
          ],
          [
           "Construction of a genetic toggle switch in Escherichia coli",
           "It has been proposed1 that gene-regulatory circuits with virtually any desired property<br>can<br>be<br>constructed<br>from<br>networks<br>of<br>simple<br>regulatory<br>elements. These properties, which include multistability and<br>oscillations, have<br>been<br>found in<br>specialized<br>gene circuits<br>such<br>as the<br>bacteriophage λ<br>switch2 and the Cyanobacteria circadian<br>oscillator3. However,<br>these<br>behaviours<br>have not been<br>demonstrated in<br>networks of<br>non-<br>specialized regulatory<br>components. Here<br>we present the<br>construction of a<br>genetic [...]"
          ],
          [
           "A synthetic multicellular system for programmed pattern formation",
           "Pattern formation is in the genesMulticellular organisms, and some single-<br>celled<br>organisms,<br>are<br>capable<br>of<br>producing<br>predetermined<br>patterns.<br>Patterning is key to developmental processes, and is also<br>relevant to<br>tissue<br>engineering<br>and<br>biomaterials<br>design. Basu<br>et al. describe a<br>new synthetic<br>multicellular system in which<br>cells are<br>genetically<br>programmed to form<br>patterns<br>on a surface<br>based on cell–cell<br>communication.<br>Genetic circuits<br>were<br>constructed from<br>well defined<br>simple parts in bacteria<br>that [...]"
          ]
         ],
         "hovertemplate": "Topic=Synthetic Biology<br>x=%{x}<br>y=%{y}<br>title=%{customdata[0]}<br>abstract=%{customdata[1]}<extra></extra>",
         "legendgroup": "Synthetic Biology",
         "marker": {
          "color": "#1f77b4",
          "size": 5,
          "symbol": "circle"
         },
         "mode": "markers",
         "name": "Synthetic Biology",
         "orientation": "v",
         "showlegend": true,
         "type": "scatter",
         "x": [
          1.7891008,
          1.5861464,
          1.6740073,
          1.7967885,
          2.05248,
          1.6861929,
          1.639007,
          1.7159446,
          1.4620826,
          1.6326025,
          1.7731718,
          1.6194967,
          1.5904466,
          1.8445989,
          1.734764,
          1.6423858,
          1.877822,
          1.6227562,
          1.9981956,
          1.7006563,
          1.5681945,
          1.6099737,
          1.8055997,
          1.6710881,
          1.6715724,
          1.56341,
          1.7534078,
          1.5475578,
          1.5891155
         ],
         "xaxis": "x",
         "y": [
          2.0019083,
          1.7769297,
          2.068686,
          2.0286794,
          2.1710382,
          1.9139359,
          2.099311,
          1.9751676,
          1.8842691,
          1.8433425,
          1.9384753,
          2.1426399,
          1.8389442,
          2.0270598,
          2.092504,
          1.877573,
          2.1273215,
          1.8482897,
          2.2224257,
          2.073482,
          1.7047756,
          1.7209405,
          2.0660653,
          1.9447548,
          1.8189988,
          1.7046611,
          1.9099522,
          1.6835384,
          1.7778077
         ],
         "yaxis": "y"
        },
        {
         "hoverinfo": "text",
         "marker": {
          "color": "black",
          "size": 5
         },
         "mode": "markers",
         "name": "Survey",
         "text": [
          "Survey - Robotic Arthroplasty",
          "Survey - Business Process Meta Models",
          "Survey - Crop Yield Prediction",
          "Survey - Cervical Myelopathy",
          "Survey - Multicore Performance Prediction",
          "Survey - Synthetic Biology",
          "Survey - Resilience in Business and management",
          "Survey - Perovskite Solar Cells Stability",
          "Survey - Green Warehousing",
          "Survey - Sustainable Biofuel Economy",
          "Survey - Drones in Agriculture",
          "Survey - Data Stream Processing Latency",
          "Survey - Internet of Things in Healthcare",
          "Survey - Cloud Migration",
          "Survey - AI on Edge Devices",
          "Survey - Tourism Growth Nexus",
          "Survey - Nanopharmaceuticals OR Nanonutraceuticals",
          "Survey - Software Process Line",
          "Survey - Soft Robotics"
         ],
         "type": "scatter",
         "x": [
          -2.4256096,
          12.110354,
          20.393755,
          -8.015743,
          3.2614262,
          1.702687,
          11.800034,
          14.440361,
          13.31637,
          7.0462565,
          15.277368,
          6.192774,
          13.404928,
          11.812211,
          12.660536,
          13.822863,
          -0.56907517,
          11.596086,
          4.299045
         ],
         "y": [
          -6.261656,
          14.079083,
          11.9076395,
          9.958699,
          11.699448,
          2.0711498,
          3.1910343,
          -1.5117543,
          2.8279166,
          -1.0853572,
          11.302377,
          10.546467,
          7.6723943,
          16.114098,
          8.844233,
          -10.397938,
          4.865871,
          15.839412,
          4.2197785
         ]
        }
       ],
       "layout": {
        "font": {
         "family": "Modern Computer"
        },
        "height": 400,
        "legend": {
         "font": {
          "size": 15
         },
         "orientation": "h",
         "title": {
          "text": ""
         },
         "tracegroupgap": 0,
         "y": 0
        },
        "margin": {
         "t": 60
        },
        "showlegend": true,
        "template": {
         "data": {
          "bar": [
           {
            "error_x": {
             "color": "rgb(36,36,36)"
            },
            "error_y": {
             "color": "rgb(36,36,36)"
            },
            "marker": {
             "line": {
              "color": "rgb(234,234,242)",
              "width": 0.5
             },
             "pattern": {
              "fillmode": "overlay",
              "size": 10,
              "solidity": 0.2
             }
            },
            "type": "bar"
           }
          ],
          "barpolar": [
           {
            "marker": {
             "line": {
              "color": "rgb(234,234,242)",
              "width": 0.5
             },
             "pattern": {
              "fillmode": "overlay",
              "size": 10,
              "solidity": 0.2
             }
            },
            "type": "barpolar"
           }
          ],
          "carpet": [
           {
            "aaxis": {
             "endlinecolor": "rgb(36,36,36)",
             "gridcolor": "white",
             "linecolor": "white",
             "minorgridcolor": "white",
             "startlinecolor": "rgb(36,36,36)"
            },
            "baxis": {
             "endlinecolor": "rgb(36,36,36)",
             "gridcolor": "white",
             "linecolor": "white",
             "minorgridcolor": "white",
             "startlinecolor": "rgb(36,36,36)"
            },
            "type": "carpet"
           }
          ],
          "choropleth": [
           {
            "colorbar": {
             "outlinewidth": 0,
             "tickcolor": "rgb(36,36,36)",
             "ticklen": 8,
             "ticks": "outside",
             "tickwidth": 2
            },
            "type": "choropleth"
           }
          ],
          "contour": [
           {
            "colorbar": {
             "outlinewidth": 0,
             "tickcolor": "rgb(36,36,36)",
             "ticklen": 8,
             "ticks": "outside",
             "tickwidth": 2
            },
            "colorscale": [
             [
              0,
              "rgb(2,4,25)"
             ],
             [
              0.06274509803921569,
              "rgb(24,15,41)"
             ],
             [
              0.12549019607843137,
              "rgb(47,23,57)"
             ],
             [
              0.18823529411764706,
              "rgb(71,28,72)"
             ],
             [
              0.25098039215686274,
              "rgb(97,30,82)"
             ],
             [
              0.3137254901960784,
              "rgb(123,30,89)"
             ],
             [
              0.3764705882352941,
              "rgb(150,27,91)"
             ],
             [
              0.4392156862745098,
              "rgb(177,22,88)"
             ],
             [
              0.5019607843137255,
              "rgb(203,26,79)"
             ],
             [
              0.5647058823529412,
              "rgb(223,47,67)"
             ],
             [
              0.6274509803921569,
              "rgb(236,76,61)"
             ],
             [
              0.6901960784313725,
              "rgb(242,107,73)"
             ],
             [
              0.7529411764705882,
              "rgb(244,135,95)"
             ],
             [
              0.8156862745098039,
              "rgb(245,162,122)"
             ],
             [
              0.8784313725490196,
              "rgb(246,188,153)"
             ],
             [
              0.9411764705882353,
              "rgb(247,212,187)"
             ],
             [
              1,
              "rgb(250,234,220)"
             ]
            ],
            "type": "contour"
           }
          ],
          "contourcarpet": [
           {
            "colorbar": {
             "outlinewidth": 0,
             "tickcolor": "rgb(36,36,36)",
             "ticklen": 8,
             "ticks": "outside",
             "tickwidth": 2
            },
            "type": "contourcarpet"
           }
          ],
          "heatmap": [
           {
            "colorbar": {
             "outlinewidth": 0,
             "tickcolor": "rgb(36,36,36)",
             "ticklen": 8,
             "ticks": "outside",
             "tickwidth": 2
            },
            "colorscale": [
             [
              0,
              "rgb(2,4,25)"
             ],
             [
              0.06274509803921569,
              "rgb(24,15,41)"
             ],
             [
              0.12549019607843137,
              "rgb(47,23,57)"
             ],
             [
              0.18823529411764706,
              "rgb(71,28,72)"
             ],
             [
              0.25098039215686274,
              "rgb(97,30,82)"
             ],
             [
              0.3137254901960784,
              "rgb(123,30,89)"
             ],
             [
              0.3764705882352941,
              "rgb(150,27,91)"
             ],
             [
              0.4392156862745098,
              "rgb(177,22,88)"
             ],
             [
              0.5019607843137255,
              "rgb(203,26,79)"
             ],
             [
              0.5647058823529412,
              "rgb(223,47,67)"
             ],
             [
              0.6274509803921569,
              "rgb(236,76,61)"
             ],
             [
              0.6901960784313725,
              "rgb(242,107,73)"
             ],
             [
              0.7529411764705882,
              "rgb(244,135,95)"
             ],
             [
              0.8156862745098039,
              "rgb(245,162,122)"
             ],
             [
              0.8784313725490196,
              "rgb(246,188,153)"
             ],
             [
              0.9411764705882353,
              "rgb(247,212,187)"
             ],
             [
              1,
              "rgb(250,234,220)"
             ]
            ],
            "type": "heatmap"
           }
          ],
          "heatmapgl": [
           {
            "colorbar": {
             "outlinewidth": 0,
             "tickcolor": "rgb(36,36,36)",
             "ticklen": 8,
             "ticks": "outside",
             "tickwidth": 2
            },
            "colorscale": [
             [
              0,
              "rgb(2,4,25)"
             ],
             [
              0.06274509803921569,
              "rgb(24,15,41)"
             ],
             [
              0.12549019607843137,
              "rgb(47,23,57)"
             ],
             [
              0.18823529411764706,
              "rgb(71,28,72)"
             ],
             [
              0.25098039215686274,
              "rgb(97,30,82)"
             ],
             [
              0.3137254901960784,
              "rgb(123,30,89)"
             ],
             [
              0.3764705882352941,
              "rgb(150,27,91)"
             ],
             [
              0.4392156862745098,
              "rgb(177,22,88)"
             ],
             [
              0.5019607843137255,
              "rgb(203,26,79)"
             ],
             [
              0.5647058823529412,
              "rgb(223,47,67)"
             ],
             [
              0.6274509803921569,
              "rgb(236,76,61)"
             ],
             [
              0.6901960784313725,
              "rgb(242,107,73)"
             ],
             [
              0.7529411764705882,
              "rgb(244,135,95)"
             ],
             [
              0.8156862745098039,
              "rgb(245,162,122)"
             ],
             [
              0.8784313725490196,
              "rgb(246,188,153)"
             ],
             [
              0.9411764705882353,
              "rgb(247,212,187)"
             ],
             [
              1,
              "rgb(250,234,220)"
             ]
            ],
            "type": "heatmapgl"
           }
          ],
          "histogram": [
           {
            "marker": {
             "pattern": {
              "fillmode": "overlay",
              "size": 10,
              "solidity": 0.2
             }
            },
            "type": "histogram"
           }
          ],
          "histogram2d": [
           {
            "colorbar": {
             "outlinewidth": 0,
             "tickcolor": "rgb(36,36,36)",
             "ticklen": 8,
             "ticks": "outside",
             "tickwidth": 2
            },
            "colorscale": [
             [
              0,
              "rgb(2,4,25)"
             ],
             [
              0.06274509803921569,
              "rgb(24,15,41)"
             ],
             [
              0.12549019607843137,
              "rgb(47,23,57)"
             ],
             [
              0.18823529411764706,
              "rgb(71,28,72)"
             ],
             [
              0.25098039215686274,
              "rgb(97,30,82)"
             ],
             [
              0.3137254901960784,
              "rgb(123,30,89)"
             ],
             [
              0.3764705882352941,
              "rgb(150,27,91)"
             ],
             [
              0.4392156862745098,
              "rgb(177,22,88)"
             ],
             [
              0.5019607843137255,
              "rgb(203,26,79)"
             ],
             [
              0.5647058823529412,
              "rgb(223,47,67)"
             ],
             [
              0.6274509803921569,
              "rgb(236,76,61)"
             ],
             [
              0.6901960784313725,
              "rgb(242,107,73)"
             ],
             [
              0.7529411764705882,
              "rgb(244,135,95)"
             ],
             [
              0.8156862745098039,
              "rgb(245,162,122)"
             ],
             [
              0.8784313725490196,
              "rgb(246,188,153)"
             ],
             [
              0.9411764705882353,
              "rgb(247,212,187)"
             ],
             [
              1,
              "rgb(250,234,220)"
             ]
            ],
            "type": "histogram2d"
           }
          ],
          "histogram2dcontour": [
           {
            "colorbar": {
             "outlinewidth": 0,
             "tickcolor": "rgb(36,36,36)",
             "ticklen": 8,
             "ticks": "outside",
             "tickwidth": 2
            },
            "colorscale": [
             [
              0,
              "rgb(2,4,25)"
             ],
             [
              0.06274509803921569,
              "rgb(24,15,41)"
             ],
             [
              0.12549019607843137,
              "rgb(47,23,57)"
             ],
             [
              0.18823529411764706,
              "rgb(71,28,72)"
             ],
             [
              0.25098039215686274,
              "rgb(97,30,82)"
             ],
             [
              0.3137254901960784,
              "rgb(123,30,89)"
             ],
             [
              0.3764705882352941,
              "rgb(150,27,91)"
             ],
             [
              0.4392156862745098,
              "rgb(177,22,88)"
             ],
             [
              0.5019607843137255,
              "rgb(203,26,79)"
             ],
             [
              0.5647058823529412,
              "rgb(223,47,67)"
             ],
             [
              0.6274509803921569,
              "rgb(236,76,61)"
             ],
             [
              0.6901960784313725,
              "rgb(242,107,73)"
             ],
             [
              0.7529411764705882,
              "rgb(244,135,95)"
             ],
             [
              0.8156862745098039,
              "rgb(245,162,122)"
             ],
             [
              0.8784313725490196,
              "rgb(246,188,153)"
             ],
             [
              0.9411764705882353,
              "rgb(247,212,187)"
             ],
             [
              1,
              "rgb(250,234,220)"
             ]
            ],
            "type": "histogram2dcontour"
           }
          ],
          "mesh3d": [
           {
            "colorbar": {
             "outlinewidth": 0,
             "tickcolor": "rgb(36,36,36)",
             "ticklen": 8,
             "ticks": "outside",
             "tickwidth": 2
            },
            "type": "mesh3d"
           }
          ],
          "parcoords": [
           {
            "line": {
             "colorbar": {
              "outlinewidth": 0,
              "tickcolor": "rgb(36,36,36)",
              "ticklen": 8,
              "ticks": "outside",
              "tickwidth": 2
             }
            },
            "type": "parcoords"
           }
          ],
          "pie": [
           {
            "automargin": true,
            "type": "pie"
           }
          ],
          "scatter": [
           {
            "fillpattern": {
             "fillmode": "overlay",
             "size": 10,
             "solidity": 0.2
            },
            "type": "scatter"
           }
          ],
          "scatter3d": [
           {
            "line": {
             "colorbar": {
              "outlinewidth": 0,
              "tickcolor": "rgb(36,36,36)",
              "ticklen": 8,
              "ticks": "outside",
              "tickwidth": 2
             }
            },
            "marker": {
             "colorbar": {
              "outlinewidth": 0,
              "tickcolor": "rgb(36,36,36)",
              "ticklen": 8,
              "ticks": "outside",
              "tickwidth": 2
             }
            },
            "type": "scatter3d"
           }
          ],
          "scattercarpet": [
           {
            "marker": {
             "colorbar": {
              "outlinewidth": 0,
              "tickcolor": "rgb(36,36,36)",
              "ticklen": 8,
              "ticks": "outside",
              "tickwidth": 2
             }
            },
            "type": "scattercarpet"
           }
          ],
          "scattergeo": [
           {
            "marker": {
             "colorbar": {
              "outlinewidth": 0,
              "tickcolor": "rgb(36,36,36)",
              "ticklen": 8,
              "ticks": "outside",
              "tickwidth": 2
             }
            },
            "type": "scattergeo"
           }
          ],
          "scattergl": [
           {
            "marker": {
             "colorbar": {
              "outlinewidth": 0,
              "tickcolor": "rgb(36,36,36)",
              "ticklen": 8,
              "ticks": "outside",
              "tickwidth": 2
             }
            },
            "type": "scattergl"
           }
          ],
          "scattermapbox": [
           {
            "marker": {
             "colorbar": {
              "outlinewidth": 0,
              "tickcolor": "rgb(36,36,36)",
              "ticklen": 8,
              "ticks": "outside",
              "tickwidth": 2
             }
            },
            "type": "scattermapbox"
           }
          ],
          "scatterpolar": [
           {
            "marker": {
             "colorbar": {
              "outlinewidth": 0,
              "tickcolor": "rgb(36,36,36)",
              "ticklen": 8,
              "ticks": "outside",
              "tickwidth": 2
             }
            },
            "type": "scatterpolar"
           }
          ],
          "scatterpolargl": [
           {
            "marker": {
             "colorbar": {
              "outlinewidth": 0,
              "tickcolor": "rgb(36,36,36)",
              "ticklen": 8,
              "ticks": "outside",
              "tickwidth": 2
             }
            },
            "type": "scatterpolargl"
           }
          ],
          "scatterternary": [
           {
            "marker": {
             "colorbar": {
              "outlinewidth": 0,
              "tickcolor": "rgb(36,36,36)",
              "ticklen": 8,
              "ticks": "outside",
              "tickwidth": 2
             }
            },
            "type": "scatterternary"
           }
          ],
          "surface": [
           {
            "colorbar": {
             "outlinewidth": 0,
             "tickcolor": "rgb(36,36,36)",
             "ticklen": 8,
             "ticks": "outside",
             "tickwidth": 2
            },
            "colorscale": [
             [
              0,
              "rgb(2,4,25)"
             ],
             [
              0.06274509803921569,
              "rgb(24,15,41)"
             ],
             [
              0.12549019607843137,
              "rgb(47,23,57)"
             ],
             [
              0.18823529411764706,
              "rgb(71,28,72)"
             ],
             [
              0.25098039215686274,
              "rgb(97,30,82)"
             ],
             [
              0.3137254901960784,
              "rgb(123,30,89)"
             ],
             [
              0.3764705882352941,
              "rgb(150,27,91)"
             ],
             [
              0.4392156862745098,
              "rgb(177,22,88)"
             ],
             [
              0.5019607843137255,
              "rgb(203,26,79)"
             ],
             [
              0.5647058823529412,
              "rgb(223,47,67)"
             ],
             [
              0.6274509803921569,
              "rgb(236,76,61)"
             ],
             [
              0.6901960784313725,
              "rgb(242,107,73)"
             ],
             [
              0.7529411764705882,
              "rgb(244,135,95)"
             ],
             [
              0.8156862745098039,
              "rgb(245,162,122)"
             ],
             [
              0.8784313725490196,
              "rgb(246,188,153)"
             ],
             [
              0.9411764705882353,
              "rgb(247,212,187)"
             ],
             [
              1,
              "rgb(250,234,220)"
             ]
            ],
            "type": "surface"
           }
          ],
          "table": [
           {
            "cells": {
             "fill": {
              "color": "rgb(231,231,240)"
             },
             "line": {
              "color": "white"
             }
            },
            "header": {
             "fill": {
              "color": "rgb(183,183,191)"
             },
             "line": {
              "color": "white"
             }
            },
            "type": "table"
           }
          ]
         },
         "layout": {
          "annotationdefaults": {
           "arrowcolor": "rgb(67,103,167)"
          },
          "autotypenumbers": "strict",
          "coloraxis": {
           "colorbar": {
            "outlinewidth": 0,
            "tickcolor": "rgb(36,36,36)",
            "ticklen": 8,
            "ticks": "outside",
            "tickwidth": 2
           }
          },
          "colorscale": {
           "sequential": [
            [
             0,
             "rgb(2,4,25)"
            ],
            [
             0.06274509803921569,
             "rgb(24,15,41)"
            ],
            [
             0.12549019607843137,
             "rgb(47,23,57)"
            ],
            [
             0.18823529411764706,
             "rgb(71,28,72)"
            ],
            [
             0.25098039215686274,
             "rgb(97,30,82)"
            ],
            [
             0.3137254901960784,
             "rgb(123,30,89)"
            ],
            [
             0.3764705882352941,
             "rgb(150,27,91)"
            ],
            [
             0.4392156862745098,
             "rgb(177,22,88)"
            ],
            [
             0.5019607843137255,
             "rgb(203,26,79)"
            ],
            [
             0.5647058823529412,
             "rgb(223,47,67)"
            ],
            [
             0.6274509803921569,
             "rgb(236,76,61)"
            ],
            [
             0.6901960784313725,
             "rgb(242,107,73)"
            ],
            [
             0.7529411764705882,
             "rgb(244,135,95)"
            ],
            [
             0.8156862745098039,
             "rgb(245,162,122)"
            ],
            [
             0.8784313725490196,
             "rgb(246,188,153)"
            ],
            [
             0.9411764705882353,
             "rgb(247,212,187)"
            ],
            [
             1,
             "rgb(250,234,220)"
            ]
           ],
           "sequentialminus": [
            [
             0,
             "rgb(2,4,25)"
            ],
            [
             0.06274509803921569,
             "rgb(24,15,41)"
            ],
            [
             0.12549019607843137,
             "rgb(47,23,57)"
            ],
            [
             0.18823529411764706,
             "rgb(71,28,72)"
            ],
            [
             0.25098039215686274,
             "rgb(97,30,82)"
            ],
            [
             0.3137254901960784,
             "rgb(123,30,89)"
            ],
            [
             0.3764705882352941,
             "rgb(150,27,91)"
            ],
            [
             0.4392156862745098,
             "rgb(177,22,88)"
            ],
            [
             0.5019607843137255,
             "rgb(203,26,79)"
            ],
            [
             0.5647058823529412,
             "rgb(223,47,67)"
            ],
            [
             0.6274509803921569,
             "rgb(236,76,61)"
            ],
            [
             0.6901960784313725,
             "rgb(242,107,73)"
            ],
            [
             0.7529411764705882,
             "rgb(244,135,95)"
            ],
            [
             0.8156862745098039,
             "rgb(245,162,122)"
            ],
            [
             0.8784313725490196,
             "rgb(246,188,153)"
            ],
            [
             0.9411764705882353,
             "rgb(247,212,187)"
            ],
            [
             1,
             "rgb(250,234,220)"
            ]
           ]
          },
          "colorway": [
           "rgb(76,114,176)",
           "rgb(221,132,82)",
           "rgb(85,168,104)",
           "rgb(196,78,82)",
           "rgb(129,114,179)",
           "rgb(147,120,96)",
           "rgb(218,139,195)",
           "rgb(140,140,140)",
           "rgb(204,185,116)",
           "rgb(100,181,205)"
          ],
          "font": {
           "color": "rgb(36,36,36)"
          },
          "geo": {
           "bgcolor": "white",
           "lakecolor": "white",
           "landcolor": "rgb(234,234,242)",
           "showlakes": true,
           "showland": true,
           "subunitcolor": "white"
          },
          "hoverlabel": {
           "align": "left"
          },
          "hovermode": "closest",
          "paper_bgcolor": "white",
          "plot_bgcolor": "rgb(234,234,242)",
          "polar": {
           "angularaxis": {
            "gridcolor": "white",
            "linecolor": "white",
            "showgrid": true,
            "ticks": ""
           },
           "bgcolor": "rgb(234,234,242)",
           "radialaxis": {
            "gridcolor": "white",
            "linecolor": "white",
            "showgrid": true,
            "ticks": ""
           }
          },
          "scene": {
           "xaxis": {
            "backgroundcolor": "rgb(234,234,242)",
            "gridcolor": "white",
            "gridwidth": 2,
            "linecolor": "white",
            "showbackground": true,
            "showgrid": true,
            "ticks": "",
            "zerolinecolor": "white"
           },
           "yaxis": {
            "backgroundcolor": "rgb(234,234,242)",
            "gridcolor": "white",
            "gridwidth": 2,
            "linecolor": "white",
            "showbackground": true,
            "showgrid": true,
            "ticks": "",
            "zerolinecolor": "white"
           },
           "zaxis": {
            "backgroundcolor": "rgb(234,234,242)",
            "gridcolor": "white",
            "gridwidth": 2,
            "linecolor": "white",
            "showbackground": true,
            "showgrid": true,
            "ticks": "",
            "zerolinecolor": "white"
           }
          },
          "shapedefaults": {
           "fillcolor": "rgb(67,103,167)",
           "line": {
            "width": 0
           },
           "opacity": 0.5
          },
          "ternary": {
           "aaxis": {
            "gridcolor": "white",
            "linecolor": "white",
            "showgrid": true,
            "ticks": ""
           },
           "baxis": {
            "gridcolor": "white",
            "linecolor": "white",
            "showgrid": true,
            "ticks": ""
           },
           "bgcolor": "rgb(234,234,242)",
           "caxis": {
            "gridcolor": "white",
            "linecolor": "white",
            "showgrid": true,
            "ticks": ""
           }
          },
          "xaxis": {
           "automargin": true,
           "gridcolor": "white",
           "linecolor": "white",
           "showgrid": true,
           "ticks": "",
           "title": {
            "standoff": 15
           },
           "zerolinecolor": "white"
          },
          "yaxis": {
           "automargin": true,
           "gridcolor": "white",
           "linecolor": "white",
           "showgrid": true,
           "ticks": "",
           "title": {
            "standoff": 15
           },
           "zerolinecolor": "white"
          }
         }
        },
        "title": {
         "font": {
          "family": "Modern Computer",
          "size": 20
         },
         "text": "Clustering of Core Publications",
         "x": 0.5
        },
        "width": 750,
        "xaxis": {
         "anchor": "y",
         "domain": [
          0,
          1
         ],
         "showticklabels": false,
         "tickfont": {
          "size": 5
         },
         "title": {
          "font": {
           "size": 10
          },
          "text": ""
         }
        },
        "yaxis": {
         "anchor": "x",
         "domain": [
          0,
          1
         ],
         "showticklabels": false,
         "tickfont": {
          "size": 5
         },
         "title": {
          "font": {
           "size": 10
          },
          "text": ""
         }
        }
       }
      }
     },
     "metadata": {},
     "output_type": "display_data"
    }
   ],
   "source": [
    "\n",
    "plot_df[\"abstract\"] = plot_df[\"abstract\"].astype(str).str.wrap(150)\n",
    "plot_df[\"abstract\"] = plot_df[\"abstract\"].apply(lambda x: x.replace(\"\\n\", \"<br>\"))\n",
    "plot_df[\"abstract\"] = plot_df[\"abstract\"].apply(lambda x: shorten(x, width=600))\n",
    "fig = px.scatter(\n",
    "    plot_df[(plot_df[\"label\"] != \"Survey\")],\n",
    "    x=\"x\",\n",
    "    y=\"y\",\n",
    "    color=\"label\",\n",
    "    # hover_data=[\"label\", \"cluster\", \"pub_id\", \"survey_group\",\"Title\"],\n",
    "    hover_data=[\"title\", \"abstract\"],\n",
    "    labels={\"label\": \"Topic\"},\n",
    "    color_discrete_sequence=COLORS,\n",
    ")\n",
    "\n",
    "# Add survey \n",
    "fig.add_trace(\n",
    "    go.Scatter(\n",
    "        x=plot_df[plot_df[\"label\"] == \"Survey\"][\"x\"],\n",
    "        y=plot_df[plot_df[\"label\"] == \"Survey\"][\"y\"],\n",
    "        mode=\"markers\",\n",
    "        marker=dict(color=\"black\"),\n",
    "        name=\"Survey\",\n",
    "        hoverinfo=\"text\",\n",
    "        text=plot_df[plot_df[\"label\"] == \"Survey\"][\"survey_group\"],\n",
    "    )\n",
    ")\n",
    "fig.update_traces(marker_size=5)\n",
    "fig.update_layout(\n",
    "    title=\"Clustering of Core Publications\",\n",
    "    **PLOT_CONFIGS, legend_orientation=\"h\", legend_y=0,\n",
    "    xaxis_showticklabels=False,\n",
    "    yaxis_showticklabels=False,\n",
    "\n",
    ")\n",
    "\n",
    "# update markers of traces that has SLR topics\n",
    "for i in SLR_TOPICS:\n",
    "    fig.for_each_trace(\n",
    "        lambda trace: trace.update(marker=dict(symbol=\"x\") if trace.name == i else {})\n",
    "    )\n",
    "fig.show()\n",
    "# pio.write_image(fig, \"LitQEval-report/pics/umap_clustering.pdf\", width=1300)"
   ]
  }
 ],
 "metadata": {
  "kernelspec": {
   "display_name": "litqeval-2HojBpDP-py3.10",
   "language": "python",
   "name": "python3"
  },
  "language_info": {
   "codemirror_mode": {
    "name": "ipython",
    "version": 3
   },
   "file_extension": ".py",
   "mimetype": "text/x-python",
   "name": "python",
   "nbconvert_exporter": "python",
   "pygments_lexer": "ipython3",
   "version": "3.10.11"
  }
 },
 "nbformat": 4,
 "nbformat_minor": 2
}
