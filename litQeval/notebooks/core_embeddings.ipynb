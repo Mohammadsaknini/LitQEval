{
 "cells": [
  {
   "cell_type": "code",
   "execution_count": 160,
   "metadata": {},
   "outputs": [],
   "source": [
    "from langchain_openai.embeddings import OpenAIEmbeddings\n",
    "from langchain_core.documents import Document\n",
    "from langchain_chroma import Chroma\n",
    "from sklearn.cluster import KMeans\n",
    "from sklearn.manifold import TSNE\n",
    "import plotly.graph_objects as go\n",
    "import plotly.express as px\n",
    "import plotly.io as pio\n",
    "import pandas as pd\n",
    "import numpy as np\n",
    "\n",
    "pio.templates.default = \"seaborn\"\n",
    "PLOT_CONFIGS = dict(\n",
    "    title_x=0.5, title_font_size=35, title_font_family=\"Modern Computer\", font_family=\"Modern Computer\",\n",
    "    xaxis_title=\"\", yaxis_title=\"\", showlegend=True, legend_title=\"\",\n",
    "    xaxis_tickfont_size=15, yaxis_tickfont_size=15, legend_font_size=15,\n",
    "    xaxis_title_font_size=20, yaxis_title_font_size=20,\n",
    "    )\n",
    "SLR_TOPICS = [\"Software Process Line\", \"Data Stream Processing Latency\", \"Business Process Meta Models\", \"Multicore Performance Prediction\", \"Cloud Migration\", \"Software Fault Prediction Metrics\", \"Software Defect Prediction\"]\n"
   ]
  },
  {
   "cell_type": "code",
   "execution_count": 161,
   "metadata": {},
   "outputs": [],
   "source": [
    "df = pd.read_excel(\"./data/metadata.xlsx\")\n",
    "core_pubs = pd.read_excel(\"./data/core_publications.xlsx\")"
   ]
  },
  {
   "cell_type": "code",
   "execution_count": 162,
   "metadata": {},
   "outputs": [],
   "source": [
    "documents = []\n",
    "pub_ids = []\n",
    "# id, title and abstract as meta data\n",
    "for i, row in df.iterrows():\n",
    "    pub_id = row[\"id\"]\n",
    "    group = core_pubs[core_pubs[\"Pub_id\"] == pub_id]\n",
    "    if group.empty:\n",
    "        group = \"Survey\"\n",
    "    else:\n",
    "        group = group[\"Topic\"].values[0]\n",
    "    content = f'Title: {row[\"title\"]}\\nAbstract: {row[\"abstract\"]}'\n",
    "    doc = Document(page_content=content, metadata={\"id\": row[\"id\"], \"topic\": group})\n",
    "    documents.append(doc)\n",
    "    pub_ids.append(row[\"id\"])\n",
    "\n",
    "def create_embeddings(documents, ids):\n",
    "    embedding_model = OpenAIEmbeddings(model=\"text-embedding-3-small\")\n",
    "    vs = Chroma(\"core_publications\", embedding_model, persist_directory=\"./data/vs/core_publications\")\n",
    "    vs.add_documents(documents, ids=ids)\n",
    "    return vs\n",
    "# create_embeddings(documents, pub_ids)"
   ]
  },
  {
   "cell_type": "code",
   "execution_count": 163,
   "metadata": {},
   "outputs": [],
   "source": [
    "collection = Chroma(\"core_publications\", persist_directory=\"./data/vs/core_publications\")\n",
    "pub_ids = collection.get()[\"ids\"]\n",
    "all_embeddings = []\n",
    "labels = []\n",
    "for i in pub_ids:\n",
    "    all_embeddings.append(collection.get(i, include=[\"embeddings\"])[\"embeddings\"])\n",
    "    labels.append(collection.get(i)[\"metadatas\"][0][\"topic\"])\n",
    "\n",
    "all_embeddings = np.squeeze(all_embeddings)\n",
    "n_clusters = len(core_pubs[\"Topic\"].unique())\n",
    "kmeans = KMeans(n_clusters=n_clusters, random_state=0).fit(all_embeddings)\n",
    "cluster_labels = kmeans.labels_"
   ]
  },
  {
   "cell_type": "code",
   "execution_count": 168,
   "metadata": {},
   "outputs": [],
   "source": [
    "import umap\n",
    "\n",
    "umap_embeddings = umap.UMAP(min_dist=0.3).fit_transform(\n",
    "    all_embeddings\n",
    ")\n",
    "\n",
    "df = pd.DataFrame(umap_embeddings, columns=[\"x\", \"y\"])\n",
    "df[\"label\"] = labels\n",
    "df[\"cluster\"] = cluster_labels\n",
    "df[\"pub_id\"] = pub_ids\n",
    "# Add true label to survey\n",
    "df[\"survey_group\"] = df.apply(\n",
    "    lambda x: f\"{x['label']} - {core_pubs[core_pubs['Survey'] == x['pub_id']]['Topic'].values[0]}\"\n",
    "    if x[\"label\"] == \"Survey\"\n",
    "    else \"\",\n",
    "    axis=1,\n",
    ")\n",
    "df[\"Type\"] = \"Bibliometric Analysis\"\n",
    "df.loc[df[\"label\"].isin(SLR_TOPICS), \"Type\"] = \"Systematic Literature Review\""
   ]
  },
  {
   "cell_type": "code",
   "execution_count": 169,
   "metadata": {},
   "outputs": [
    {
     "data": {
      "application/vnd.plotly.v1+json": {
       "config": {
        "plotlyServerURL": "https://plot.ly"
       },
       "data": [
        {
         "customdata": [
          [
           "Perovskite Solar Cells Stability",
           8,
           "pub.1174552302",
           ""
          ],
          [
           "Perovskite Solar Cells Stability",
           8,
           "pub.1160324074",
           ""
          ],
          [
           "Perovskite Solar Cells Stability",
           8,
           "pub.1159957570",
           ""
          ],
          [
           "Perovskite Solar Cells Stability",
           8,
           "pub.1158048403",
           ""
          ],
          [
           "Perovskite Solar Cells Stability",
           8,
           "pub.1155457945",
           ""
          ],
          [
           "Perovskite Solar Cells Stability",
           8,
           "pub.1149826171",
           ""
          ],
          [
           "Perovskite Solar Cells Stability",
           8,
           "pub.1147185686",
           ""
          ],
          [
           "Perovskite Solar Cells Stability",
           8,
           "pub.1147021977",
           ""
          ],
          [
           "Perovskite Solar Cells Stability",
           8,
           "pub.1146620041",
           ""
          ],
          [
           "Perovskite Solar Cells Stability",
           8,
           "pub.1144827854",
           ""
          ],
          [
           "Perovskite Solar Cells Stability",
           8,
           "pub.1144465306",
           ""
          ],
          [
           "Perovskite Solar Cells Stability",
           8,
           "pub.1166074282",
           ""
          ],
          [
           "Perovskite Solar Cells Stability",
           8,
           "pub.1165052499",
           ""
          ],
          [
           "Perovskite Solar Cells Stability",
           8,
           "pub.1165045432",
           ""
          ],
          [
           "Perovskite Solar Cells Stability",
           8,
           "pub.1163986255",
           ""
          ],
          [
           "Perovskite Solar Cells Stability",
           8,
           "pub.1163801313",
           ""
          ],
          [
           "Perovskite Solar Cells Stability",
           8,
           "pub.1160686387",
           ""
          ],
          [
           "Perovskite Solar Cells Stability",
           8,
           "pub.1154888847",
           ""
          ],
          [
           "Perovskite Solar Cells Stability",
           8,
           "pub.1147833193",
           ""
          ],
          [
           "Perovskite Solar Cells Stability",
           8,
           "pub.1147054891",
           ""
          ],
          [
           "Perovskite Solar Cells Stability",
           8,
           "pub.1146288953",
           ""
          ],
          [
           "Perovskite Solar Cells Stability",
           8,
           "pub.1146009839",
           ""
          ],
          [
           "Perovskite Solar Cells Stability",
           8,
           "pub.1145043743",
           ""
          ],
          [
           "Perovskite Solar Cells Stability",
           8,
           "pub.1158362233",
           ""
          ],
          [
           "Perovskite Solar Cells Stability",
           8,
           "pub.1157586280",
           ""
          ],
          [
           "Perovskite Solar Cells Stability",
           8,
           "pub.1147293706",
           ""
          ],
          [
           "Perovskite Solar Cells Stability",
           8,
           "pub.1145696652",
           ""
          ],
          [
           "Perovskite Solar Cells Stability",
           8,
           "pub.1144054488",
           ""
          ],
          [
           "Perovskite Solar Cells Stability",
           8,
           "pub.1141876155",
           ""
          ]
         ],
         "hovertemplate": "Topic=%{customdata[0]}<br>x=%{x}<br>y=%{y}<br>cluster=%{customdata[1]}<br>pub_id=%{customdata[2]}<br>survey_group=%{customdata[3]}<extra></extra>",
         "legendgroup": "Perovskite Solar Cells Stability",
         "marker": {
          "color": "rgb(76,114,176)",
          "opacity": 0.9,
          "symbol": "circle"
         },
         "mode": "markers",
         "name": "Perovskite Solar Cells Stability",
         "orientation": "v",
         "showlegend": true,
         "type": "scatter",
         "x": [
          10.133515,
          10.563226,
          10.227734,
          10.153015,
          10.312786,
          10.12324,
          10.235394,
          10.256908,
          10.537026,
          10.390156,
          10.279747,
          10.445057,
          10.311258,
          10.193515,
          9.970765,
          10.564245,
          9.986873,
          10.09434,
          10.352417,
          10.3848295,
          10.125355,
          9.945826,
          10.479389,
          10.37359,
          10.51926,
          10.517986,
          10.032275,
          10.279833,
          10.228862
         ],
         "xaxis": "x",
         "y": [
          2.740473,
          2.3504112,
          2.4074388,
          2.2895105,
          2.521655,
          2.3083732,
          2.2107024,
          2.6248999,
          2.3257072,
          2.3110793,
          2.2708528,
          2.433061,
          2.498299,
          2.6492183,
          2.730057,
          2.4496417,
          2.624585,
          2.5921843,
          2.346769,
          2.098504,
          2.6724565,
          2.4795265,
          2.386038,
          2.4436119,
          2.30165,
          2.2963278,
          2.4859164,
          2.714631,
          2.1427803
         ],
         "yaxis": "y"
        },
        {
         "customdata": [
          [
           "AI on Edge Devices",
           4,
           "pub.1128716869",
           ""
          ],
          [
           "AI on Edge Devices",
           4,
           "pub.1127250882",
           ""
          ],
          [
           "AI on Edge Devices",
           4,
           "pub.1126481351",
           ""
          ],
          [
           "AI on Edge Devices",
           4,
           "pub.1125166251",
           ""
          ],
          [
           "AI on Edge Devices",
           4,
           "pub.1125166037",
           ""
          ],
          [
           "AI on Edge Devices",
           4,
           "pub.1124148063",
           ""
          ],
          [
           "AI on Edge Devices",
           4,
           "pub.1123810093",
           ""
          ],
          [
           "AI on Edge Devices",
           4,
           "pub.1122596363",
           ""
          ],
          [
           "AI on Edge Devices",
           4,
           "pub.1122519012",
           ""
          ],
          [
           "AI on Edge Devices",
           4,
           "pub.1122515167",
           ""
          ],
          [
           "AI on Edge Devices",
           4,
           "pub.1122068746",
           ""
          ],
          [
           "AI on Edge Devices",
           4,
           "pub.1121932678",
           ""
          ],
          [
           "AI on Edge Devices",
           4,
           "pub.1121194812",
           ""
          ],
          [
           "AI on Edge Devices",
           4,
           "pub.1118735394",
           ""
          ],
          [
           "AI on Edge Devices",
           4,
           "pub.1117920554",
           ""
          ],
          [
           "AI on Edge Devices",
           4,
           "pub.1116154247",
           ""
          ],
          [
           "AI on Edge Devices",
           4,
           "pub.1110420318",
           ""
          ],
          [
           "AI on Edge Devices",
           9,
           "pub.1104338333",
           ""
          ],
          [
           "AI on Edge Devices",
           4,
           "pub.1103977084",
           ""
          ],
          [
           "AI on Edge Devices",
           18,
           "pub.1128852448",
           ""
          ],
          [
           "AI on Edge Devices",
           4,
           "pub.1128479095",
           ""
          ],
          [
           "AI on Edge Devices",
           4,
           "pub.1124436340",
           ""
          ],
          [
           "AI on Edge Devices",
           4,
           "pub.1124081996",
           ""
          ],
          [
           "AI on Edge Devices",
           4,
           "pub.1121628094",
           ""
          ],
          [
           "AI on Edge Devices",
           18,
           "pub.1114352564",
           ""
          ],
          [
           "AI on Edge Devices",
           4,
           "pub.1113065842",
           ""
          ],
          [
           "AI on Edge Devices",
           4,
           "pub.1112862699",
           ""
          ],
          [
           "AI on Edge Devices",
           4,
           "pub.1107023934",
           ""
          ],
          [
           "AI on Edge Devices",
           4,
           "pub.1094646899",
           ""
          ],
          [
           "AI on Edge Devices",
           4,
           "pub.1083507587",
           ""
          ],
          [
           "AI on Edge Devices",
           4,
           "pub.1125925617",
           ""
          ],
          [
           "AI on Edge Devices",
           4,
           "pub.1122235047",
           ""
          ],
          [
           "AI on Edge Devices",
           4,
           "pub.1118023870",
           ""
          ],
          [
           "AI on Edge Devices",
           4,
           "pub.1110363845",
           ""
          ],
          [
           "AI on Edge Devices",
           4,
           "pub.1106394770",
           ""
          ],
          [
           "AI on Edge Devices",
           4,
           "pub.1100673785",
           ""
          ]
         ],
         "hovertemplate": "Topic=%{customdata[0]}<br>x=%{x}<br>y=%{y}<br>cluster=%{customdata[1]}<br>pub_id=%{customdata[2]}<br>survey_group=%{customdata[3]}<extra></extra>",
         "legendgroup": "AI on Edge Devices",
         "marker": {
          "color": "rgb(221,132,82)",
          "opacity": 0.9,
          "symbol": "circle"
         },
         "mode": "markers",
         "name": "AI on Edge Devices",
         "orientation": "v",
         "showlegend": true,
         "type": "scatter",
         "x": [
          17.124434,
          16.35024,
          16.244179,
          15.244521,
          16.361591,
          17.03429,
          16.44747,
          16.4048,
          16.045765,
          16.70748,
          16.756638,
          16.723269,
          16.967882,
          17.0029,
          16.121353,
          16.57582,
          16.875818,
          15.740021,
          16.35052,
          17.185423,
          16.593012,
          16.482986,
          16.342033,
          16.780455,
          17.041468,
          16.352638,
          16.356556,
          16.515223,
          15.584101,
          16.240438,
          17.100586,
          16.546236,
          16.344843,
          16.956291,
          16.70549,
          16.532488
         ],
         "xaxis": "x",
         "y": [
          9.469697,
          9.249857,
          9.074467,
          9.488467,
          9.593485,
          9.656328,
          9.324506,
          9.250341,
          9.060463,
          9.25778,
          9.604882,
          9.472435,
          9.567825,
          9.715755,
          9.406663,
          9.250718,
          9.636324,
          9.775408,
          9.518941,
          8.838977,
          9.48834,
          9.420754,
          10.030644,
          9.434333,
          8.908607,
          9.313083,
          9.856078,
          9.16706,
          9.748483,
          9.617703,
          9.615029,
          9.255271,
          9.681582,
          9.555646,
          9.126592,
          9.387247
         ],
         "yaxis": "y"
        },
        {
         "customdata": [
          [
           "Sustainable Biofuel",
           3,
           "pub.1128580761",
           ""
          ],
          [
           "Sustainable Biofuel",
           15,
           "pub.1122753999",
           ""
          ],
          [
           "Sustainable Biofuel",
           3,
           "pub.1107587297",
           ""
          ],
          [
           "Sustainable Biofuel",
           3,
           "pub.1104374325",
           ""
          ],
          [
           "Sustainable Biofuel",
           17,
           "pub.1101561277",
           ""
          ],
          [
           "Sustainable Biofuel",
           3,
           "pub.1048939047",
           ""
          ],
          [
           "Sustainable Biofuel",
           17,
           "pub.1046534403",
           ""
          ],
          [
           "Sustainable Biofuel",
           17,
           "pub.1044581237",
           ""
          ],
          [
           "Sustainable Biofuel",
           17,
           "pub.1040677299",
           ""
          ],
          [
           "Sustainable Biofuel",
           17,
           "pub.1037107713",
           ""
          ],
          [
           "Sustainable Biofuel",
           17,
           "pub.1034672998",
           ""
          ],
          [
           "Sustainable Biofuel",
           3,
           "pub.1033108925",
           ""
          ],
          [
           "Sustainable Biofuel",
           3,
           "pub.1029649992",
           ""
          ],
          [
           "Sustainable Biofuel",
           15,
           "pub.1029572917",
           ""
          ],
          [
           "Sustainable Biofuel",
           15,
           "pub.1024929365",
           ""
          ],
          [
           "Sustainable Biofuel",
           3,
           "pub.1019705090",
           ""
          ],
          [
           "Sustainable Biofuel",
           15,
           "pub.1015524088",
           ""
          ],
          [
           "Sustainable Biofuel",
           17,
           "pub.1113705995",
           ""
          ],
          [
           "Sustainable Biofuel",
           3,
           "pub.1111565453",
           ""
          ],
          [
           "Sustainable Biofuel",
           15,
           "pub.1103810413",
           ""
          ],
          [
           "Sustainable Biofuel",
           17,
           "pub.1100248345",
           ""
          ],
          [
           "Sustainable Biofuel",
           17,
           "pub.1061934137",
           ""
          ],
          [
           "Sustainable Biofuel",
           17,
           "pub.1059379956",
           ""
          ],
          [
           "Sustainable Biofuel",
           3,
           "pub.1052968606",
           ""
          ],
          [
           "Sustainable Biofuel",
           17,
           "pub.1047356473",
           ""
          ],
          [
           "Sustainable Biofuel",
           17,
           "pub.1042117532",
           ""
          ],
          [
           "Sustainable Biofuel",
           17,
           "pub.1038072171",
           ""
          ],
          [
           "Sustainable Biofuel",
           3,
           "pub.1034625256",
           ""
          ],
          [
           "Sustainable Biofuel",
           17,
           "pub.1026369526",
           ""
          ],
          [
           "Sustainable Biofuel",
           17,
           "pub.1023206201",
           ""
          ],
          [
           "Sustainable Biofuel",
           17,
           "pub.1019951181",
           ""
          ],
          [
           "Sustainable Biofuel",
           3,
           "pub.1011757946",
           ""
          ],
          [
           "Sustainable Biofuel",
           17,
           "pub.1004602535",
           ""
          ],
          [
           "Sustainable Biofuel",
           3,
           "pub.1125099402",
           ""
          ],
          [
           "Sustainable Biofuel",
           3,
           "pub.1111976854",
           ""
          ],
          [
           "Sustainable Biofuel",
           15,
           "pub.1100466182",
           ""
          ],
          [
           "Sustainable Biofuel",
           17,
           "pub.1072974020",
           ""
          ],
          [
           "Sustainable Biofuel",
           17,
           "pub.1061936485",
           ""
          ],
          [
           "Sustainable Biofuel",
           17,
           "pub.1061934170",
           ""
          ],
          [
           "Sustainable Biofuel",
           17,
           "pub.1059570180",
           ""
          ],
          [
           "Sustainable Biofuel",
           17,
           "pub.1052527949",
           ""
          ],
          [
           "Sustainable Biofuel",
           3,
           "pub.1050772383",
           ""
          ],
          [
           "Sustainable Biofuel",
           17,
           "pub.1049492388",
           ""
          ],
          [
           "Sustainable Biofuel",
           3,
           "pub.1023297174",
           ""
          ],
          [
           "Sustainable Biofuel",
           3,
           "pub.1019376553",
           ""
          ],
          [
           "Sustainable Biofuel",
           17,
           "pub.1014664202",
           ""
          ],
          [
           "Sustainable Biofuel",
           3,
           "pub.1009832103",
           ""
          ],
          [
           "Sustainable Biofuel",
           3,
           "pub.1009744782",
           ""
          ],
          [
           "Sustainable Biofuel",
           17,
           "pub.1003364215",
           ""
          ],
          [
           "Sustainable Biofuel",
           17,
           "pub.1002495312",
           ""
          ]
         ],
         "hovertemplate": "Topic=%{customdata[0]}<br>x=%{x}<br>y=%{y}<br>cluster=%{customdata[1]}<br>pub_id=%{customdata[2]}<br>survey_group=%{customdata[3]}<extra></extra>",
         "legendgroup": "Sustainable Biofuel",
         "marker": {
          "color": "rgb(85,168,104)",
          "opacity": 0.9,
          "symbol": "circle"
         },
         "mode": "markers",
         "name": "Sustainable Biofuel",
         "orientation": "v",
         "showlegend": true,
         "type": "scatter",
         "x": [
          4.5300455,
          4.895935,
          4.4719024,
          4.6856093,
          5.887012,
          4.8392315,
          5.6613226,
          5.7792478,
          5.878012,
          6.131948,
          5.337254,
          4.7932153,
          4.4333825,
          5.814725,
          5.2080903,
          4.8888807,
          5.261197,
          5.7801175,
          4.490173,
          5.668492,
          5.9753604,
          5.8170204,
          6.211169,
          4.4787188,
          6.186098,
          5.92973,
          6.012951,
          4.622171,
          5.517123,
          5.0652924,
          5.938425,
          4.654363,
          6.0795007,
          4.6515436,
          4.431366,
          5.364392,
          6.1744094,
          6.032437,
          6.149442,
          6.151644,
          5.219169,
          4.8481793,
          5.911538,
          4.9010925,
          4.944624,
          5.879813,
          4.4444413,
          4.3793335,
          5.941531,
          5.0946817
         ],
         "xaxis": "x",
         "y": [
          -2.3022163,
          -2.2616482,
          -2.499901,
          -2.529785,
          -2.4671144,
          -2.3370771,
          -2.6370032,
          -2.3074102,
          -2.3734074,
          -2.8096194,
          -2.6943567,
          -2.711464,
          -2.460096,
          -2.7168849,
          -2.335468,
          -2.4246824,
          -2.379335,
          -2.8392746,
          -2.4068856,
          -2.792757,
          -2.3052285,
          -3.0334642,
          -3.1196816,
          -2.523921,
          -3.196865,
          -3.067894,
          -2.8475215,
          -2.3701646,
          -2.8615816,
          -2.4749498,
          -3.1050363,
          -2.4114351,
          -2.9976315,
          -2.2841423,
          -2.5125198,
          -2.447323,
          -2.9864306,
          -2.877664,
          -2.9804347,
          -3.0547478,
          -2.5247016,
          -2.7690651,
          -2.9875238,
          -2.365761,
          -2.2995481,
          -2.942537,
          -2.283572,
          -2.4186027,
          -2.3896213,
          -2.7351093
         ],
         "yaxis": "y"
        },
        {
         "customdata": [
          [
           "Green Warehousing",
           1,
           "pub.1125842670",
           ""
          ],
          [
           "Green Warehousing",
           1,
           "pub.1120216323",
           ""
          ],
          [
           "Green Warehousing",
           1,
           "pub.1120098405",
           ""
          ],
          [
           "Green Warehousing",
           1,
           "pub.1119922340",
           ""
          ],
          [
           "Green Warehousing",
           1,
           "pub.1106687077",
           ""
          ],
          [
           "Green Warehousing",
           1,
           "pub.1105183849",
           ""
          ],
          [
           "Green Warehousing",
           1,
           "pub.1071706254",
           ""
          ],
          [
           "Green Warehousing",
           1,
           "pub.1024780163",
           ""
          ],
          [
           "Green Warehousing",
           1,
           "pub.1018121211",
           ""
          ],
          [
           "Green Warehousing",
           1,
           "pub.1013561216",
           ""
          ],
          [
           "Green Warehousing",
           1,
           "pub.1002243471",
           ""
          ],
          [
           "Green Warehousing",
           1,
           "pub.1127953927",
           ""
          ],
          [
           "Green Warehousing",
           1,
           "pub.1113285021",
           ""
          ],
          [
           "Green Warehousing",
           1,
           "pub.1110525171",
           ""
          ],
          [
           "Green Warehousing",
           1,
           "pub.1104201531",
           ""
          ],
          [
           "Green Warehousing",
           1,
           "pub.1093378447",
           ""
          ],
          [
           "Green Warehousing",
           1,
           "pub.1092850655",
           ""
          ],
          [
           "Green Warehousing",
           1,
           "pub.1090587762",
           ""
          ],
          [
           "Green Warehousing",
           1,
           "pub.1087177293",
           ""
          ],
          [
           "Green Warehousing",
           1,
           "pub.1067495690",
           ""
          ],
          [
           "Green Warehousing",
           1,
           "pub.1035930497",
           ""
          ],
          [
           "Green Warehousing",
           1,
           "pub.1026334040",
           ""
          ],
          [
           "Green Warehousing",
           1,
           "pub.1015228225",
           ""
          ],
          [
           "Green Warehousing",
           1,
           "pub.1013525464",
           ""
          ],
          [
           "Green Warehousing",
           1,
           "pub.1008996397",
           ""
          ],
          [
           "Green Warehousing",
           1,
           "pub.1138791522",
           ""
          ],
          [
           "Green Warehousing",
           1,
           "pub.1130342326",
           ""
          ],
          [
           "Green Warehousing",
           8,
           "pub.1130180156",
           ""
          ],
          [
           "Green Warehousing",
           1,
           "pub.1126155979",
           ""
          ],
          [
           "Green Warehousing",
           1,
           "pub.1126001650",
           ""
          ],
          [
           "Green Warehousing",
           1,
           "pub.1123270626",
           ""
          ],
          [
           "Green Warehousing",
           1,
           "pub.1121161391",
           ""
          ],
          [
           "Green Warehousing",
           1,
           "pub.1112019846",
           ""
          ],
          [
           "Green Warehousing",
           1,
           "pub.1103540197",
           ""
          ],
          [
           "Green Warehousing",
           1,
           "pub.1099594878",
           ""
          ],
          [
           "Green Warehousing",
           1,
           "pub.1092868344",
           ""
          ],
          [
           "Green Warehousing",
           1,
           "pub.1029079666",
           ""
          ],
          [
           "Green Warehousing",
           1,
           "pub.1015425126",
           ""
          ]
         ],
         "hovertemplate": "Topic=%{customdata[0]}<br>x=%{x}<br>y=%{y}<br>cluster=%{customdata[1]}<br>pub_id=%{customdata[2]}<br>survey_group=%{customdata[3]}<extra></extra>",
         "legendgroup": "Green Warehousing",
         "marker": {
          "color": "rgb(196,78,82)",
          "opacity": 0.9,
          "symbol": "circle"
         },
         "mode": "markers",
         "name": "Green Warehousing",
         "orientation": "v",
         "showlegend": true,
         "type": "scatter",
         "x": [
          7.2290826,
          7.019004,
          7.4677696,
          7.563079,
          7.4417233,
          7.1200967,
          7.3798738,
          7.0941052,
          7.7619605,
          6.950336,
          7.390337,
          7.0141106,
          7.1352844,
          7.5934663,
          7.4350452,
          7.5584826,
          7.798698,
          7.5434074,
          7.31266,
          7.415701,
          7.206674,
          7.326097,
          7.398718,
          7.700786,
          7.1945443,
          7.5843153,
          7.0331745,
          7.895746,
          7.4645977,
          7.6938343,
          6.9683294,
          7.1375813,
          7.8189926,
          7.0712724,
          7.8913364,
          7.6108007,
          7.557061,
          7.5271664
         ],
         "xaxis": "x",
         "y": [
          6.4931197,
          6.630377,
          5.7381306,
          5.7892065,
          6.5126925,
          6.8974543,
          6.3304853,
          6.238613,
          5.979122,
          7.023702,
          6.4484653,
          6.781805,
          6.689573,
          6.3160563,
          5.9431925,
          6.505709,
          5.4881907,
          6.2882214,
          6.6844683,
          6.610975,
          6.3052707,
          6.3463087,
          5.8816104,
          5.642781,
          6.532585,
          6.053386,
          6.924624,
          5.4422975,
          6.3952484,
          5.668522,
          6.8280888,
          6.726665,
          5.6698003,
          6.857861,
          5.633972,
          5.5417295,
          6.300378,
          5.7123065
         ],
         "yaxis": "y"
        },
        {
         "customdata": [
          [
           "Multicore Performance Prediction",
           11,
           "pub.1119340740",
           ""
          ],
          [
           "Multicore Performance Prediction",
           11,
           "pub.1095570190",
           ""
          ],
          [
           "Multicore Performance Prediction",
           11,
           "pub.1095265173",
           ""
          ],
          [
           "Multicore Performance Prediction",
           11,
           "pub.1094355382",
           ""
          ],
          [
           "Multicore Performance Prediction",
           11,
           "pub.1094223098",
           ""
          ],
          [
           "Multicore Performance Prediction",
           11,
           "pub.1074245157",
           ""
          ],
          [
           "Multicore Performance Prediction",
           11,
           "pub.1061399768",
           ""
          ],
          [
           "Multicore Performance Prediction",
           11,
           "pub.1052167219",
           ""
          ],
          [
           "Multicore Performance Prediction",
           11,
           "pub.1041687543",
           ""
          ],
          [
           "Multicore Performance Prediction",
           11,
           "pub.1031284348",
           ""
          ],
          [
           "Multicore Performance Prediction",
           11,
           "pub.1116305779",
           ""
          ],
          [
           "Multicore Performance Prediction",
           11,
           "pub.1094447170",
           ""
          ],
          [
           "Multicore Performance Prediction",
           11,
           "pub.1061753868",
           ""
          ],
          [
           "Multicore Performance Prediction",
           11,
           "pub.1061423303",
           ""
          ],
          [
           "Multicore Performance Prediction",
           11,
           "pub.1061421075",
           ""
          ],
          [
           "Multicore Performance Prediction",
           11,
           "pub.1061408760",
           ""
          ],
          [
           "Multicore Performance Prediction",
           11,
           "pub.1053016373",
           ""
          ],
          [
           "Multicore Performance Prediction",
           11,
           "pub.1047632364",
           ""
          ],
          [
           "Multicore Performance Prediction",
           11,
           "pub.1039682850",
           ""
          ],
          [
           "Multicore Performance Prediction",
           11,
           "pub.1036049428",
           ""
          ],
          [
           "Multicore Performance Prediction",
           11,
           "pub.1027165238",
           ""
          ],
          [
           "Multicore Performance Prediction",
           11,
           "pub.1119355454",
           ""
          ],
          [
           "Multicore Performance Prediction",
           11,
           "pub.1094511177",
           ""
          ],
          [
           "Multicore Performance Prediction",
           11,
           "pub.1094231277",
           ""
          ],
          [
           "Multicore Performance Prediction",
           11,
           "pub.1094182579",
           ""
          ],
          [
           "Multicore Performance Prediction",
           11,
           "pub.1093861837",
           ""
          ],
          [
           "Multicore Performance Prediction",
           11,
           "pub.1063202943",
           ""
          ],
          [
           "Multicore Performance Prediction",
           11,
           "pub.1037936517",
           ""
          ],
          [
           "Multicore Performance Prediction",
           11,
           "pub.1029836641",
           ""
          ],
          [
           "Multicore Performance Prediction",
           11,
           "pub.1027518140",
           ""
          ],
          [
           "Multicore Performance Prediction",
           11,
           "pub.1021257745",
           ""
          ],
          [
           "Multicore Performance Prediction",
           11,
           "pub.1016245318",
           ""
          ],
          [
           "Multicore Performance Prediction",
           11,
           "pub.1004373119",
           ""
          ]
         ],
         "hovertemplate": "Topic=%{customdata[0]}<br>x=%{x}<br>y=%{y}<br>cluster=%{customdata[1]}<br>pub_id=%{customdata[2]}<br>survey_group=%{customdata[3]}<extra></extra>",
         "legendgroup": "Multicore Performance Prediction",
         "marker": {
          "color": "rgb(129,114,179)",
          "opacity": 0.9,
          "symbol": "x"
         },
         "mode": "markers",
         "name": "Multicore Performance Prediction",
         "orientation": "v",
         "showlegend": true,
         "type": "scatter",
         "x": [
          12.853957,
          13.384251,
          12.958577,
          13.524305,
          13.064268,
          14.160345,
          13.631254,
          13.359049,
          13.5478325,
          13.569245,
          13.228285,
          12.889016,
          13.080746,
          13.483011,
          13.419626,
          13.699541,
          13.459471,
          13.167395,
          13.076554,
          13.9812,
          13.162037,
          12.824138,
          13.108595,
          13.676368,
          13.010613,
          13.264292,
          13.333945,
          13.165435,
          12.907938,
          13.564338,
          13.399177,
          13.550825,
          13.471039
         ],
         "xaxis": "x",
         "y": [
          14.870488,
          14.288833,
          14.884293,
          14.708055,
          14.49623,
          14.141102,
          14.757198,
          14.691111,
          14.373069,
          14.764485,
          14.729292,
          14.577167,
          14.904555,
          14.632056,
          14.655707,
          14.5338955,
          14.5838,
          14.739299,
          14.287379,
          14.305513,
          14.341231,
          14.656105,
          14.289611,
          14.416475,
          14.772461,
          14.780802,
          14.51767,
          14.349735,
          14.549226,
          14.765395,
          14.440995,
          14.739396,
          14.650031
         ],
         "yaxis": "y"
        },
        {
         "customdata": [
          [
           "Crop Yield Prediction",
           7,
           "pub.1111269831",
           ""
          ],
          [
           "Crop Yield Prediction",
           7,
           "pub.1107925034",
           ""
          ],
          [
           "Crop Yield Prediction",
           7,
           "pub.1105144504",
           ""
          ],
          [
           "Crop Yield Prediction",
           7,
           "pub.1103323054",
           ""
          ],
          [
           "Crop Yield Prediction",
           7,
           "pub.1103286049",
           ""
          ],
          [
           "Crop Yield Prediction",
           7,
           "pub.1094154280",
           ""
          ],
          [
           "Crop Yield Prediction",
           7,
           "pub.1083415540",
           ""
          ],
          [
           "Crop Yield Prediction",
           7,
           "pub.1028808547",
           ""
          ],
          [
           "Crop Yield Prediction",
           7,
           "pub.1013313926",
           ""
          ],
          [
           "Crop Yield Prediction",
           7,
           "pub.1003896548",
           ""
          ],
          [
           "Crop Yield Prediction",
           7,
           "pub.1003708746",
           ""
          ],
          [
           "Crop Yield Prediction",
           7,
           "pub.1001894773",
           ""
          ],
          [
           "Crop Yield Prediction",
           7,
           "pub.1111503060",
           ""
          ],
          [
           "Crop Yield Prediction",
           7,
           "pub.1106988165",
           ""
          ],
          [
           "Crop Yield Prediction",
           7,
           "pub.1106284861",
           ""
          ],
          [
           "Crop Yield Prediction",
           7,
           "pub.1106034026",
           ""
          ],
          [
           "Crop Yield Prediction",
           7,
           "pub.1105035509",
           ""
          ],
          [
           "Crop Yield Prediction",
           7,
           "pub.1095777829",
           ""
          ],
          [
           "Crop Yield Prediction",
           7,
           "pub.1094483007",
           ""
          ],
          [
           "Crop Yield Prediction",
           7,
           "pub.1093207217",
           ""
          ],
          [
           "Crop Yield Prediction",
           7,
           "pub.1085732641",
           ""
          ],
          [
           "Crop Yield Prediction",
           7,
           "pub.1072842102",
           ""
          ],
          [
           "Crop Yield Prediction",
           7,
           "pub.1061614459",
           ""
          ],
          [
           "Crop Yield Prediction",
           7,
           "pub.1040894579",
           ""
          ],
          [
           "Crop Yield Prediction",
           7,
           "pub.1033258084",
           ""
          ],
          [
           "Crop Yield Prediction",
           7,
           "pub.1016061586",
           ""
          ],
          [
           "Crop Yield Prediction",
           7,
           "pub.1112087374",
           ""
          ],
          [
           "Crop Yield Prediction",
           7,
           "pub.1107298395",
           ""
          ],
          [
           "Crop Yield Prediction",
           7,
           "pub.1105021375",
           ""
          ],
          [
           "Crop Yield Prediction",
           7,
           "pub.1103481417",
           ""
          ],
          [
           "Crop Yield Prediction",
           7,
           "pub.1095337245",
           ""
          ],
          [
           "Crop Yield Prediction",
           7,
           "pub.1094455706",
           ""
          ],
          [
           "Crop Yield Prediction",
           7,
           "pub.1093670904",
           ""
          ],
          [
           "Crop Yield Prediction",
           7,
           "pub.1093448171",
           ""
          ],
          [
           "Crop Yield Prediction",
           7,
           "pub.1087231057",
           ""
          ],
          [
           "Crop Yield Prediction",
           7,
           "pub.1085640773",
           ""
          ],
          [
           "Crop Yield Prediction",
           7,
           "pub.1084919232",
           ""
          ],
          [
           "Crop Yield Prediction",
           7,
           "pub.1083753722",
           ""
          ],
          [
           "Crop Yield Prediction",
           7,
           "pub.1061334272",
           ""
          ],
          [
           "Crop Yield Prediction",
           7,
           "pub.1041052930",
           ""
          ],
          [
           "Crop Yield Prediction",
           7,
           "pub.1033490641",
           ""
          ],
          [
           "Crop Yield Prediction",
           7,
           "pub.1031921576",
           ""
          ],
          [
           "Crop Yield Prediction",
           7,
           "pub.1011532234",
           ""
          ],
          [
           "Crop Yield Prediction",
           7,
           "pub.1005691069",
           ""
          ],
          [
           "Crop Yield Prediction",
           7,
           "pub.1004965338",
           ""
          ],
          [
           "Crop Yield Prediction",
           7,
           "pub.1001065952",
           ""
          ]
         ],
         "hovertemplate": "Topic=%{customdata[0]}<br>x=%{x}<br>y=%{y}<br>cluster=%{customdata[1]}<br>pub_id=%{customdata[2]}<br>survey_group=%{customdata[3]}<extra></extra>",
         "legendgroup": "Crop Yield Prediction",
         "marker": {
          "color": "rgb(147,120,96)",
          "opacity": 0.9,
          "symbol": "circle"
         },
         "mode": "markers",
         "name": "Crop Yield Prediction",
         "orientation": "v",
         "showlegend": true,
         "type": "scatter",
         "x": [
          19.487696,
          19.592928,
          19.620764,
          19.157938,
          19.607157,
          19.911318,
          19.909712,
          19.652737,
          19.207369,
          19.539095,
          19.659811,
          19.432468,
          19.39527,
          19.612854,
          19.329525,
          19.337023,
          19.520563,
          19.721186,
          20.083298,
          19.77055,
          19.54389,
          19.53367,
          19.067364,
          19.296303,
          19.361637,
          19.52199,
          19.805227,
          19.479015,
          19.219673,
          19.878065,
          19.305494,
          20.012281,
          19.901016,
          19.896442,
          19.512287,
          19.438604,
          20.068993,
          19.053215,
          19.042173,
          19.033632,
          19.082827,
          19.529148,
          19.61294,
          19.449215,
          19.551783,
          19.639153
         ],
         "xaxis": "x",
         "y": [
          5.3639936,
          5.148626,
          5.0780377,
          6.0174417,
          5.885994,
          5.6343117,
          5.3493958,
          5.124976,
          5.745164,
          5.4060097,
          5.6282315,
          5.7980776,
          5.41099,
          5.6297116,
          6.0328794,
          5.54109,
          5.777145,
          5.2885127,
          5.432935,
          5.44848,
          5.9792724,
          5.7997646,
          5.606539,
          5.697525,
          5.5600977,
          5.3282957,
          5.252963,
          4.8946104,
          5.8782964,
          5.4642816,
          5.47058,
          5.5004435,
          5.492885,
          5.4317923,
          5.907674,
          5.0407033,
          5.482003,
          6.0561533,
          5.900115,
          5.8646,
          5.5196395,
          5.006135,
          5.5672054,
          5.293057,
          5.6759763,
          5.831043
         ],
         "yaxis": "y"
        },
        {
         "customdata": [
          [
           "Software Process Line",
           4,
           "pub.1107974935",
           ""
          ],
          [
           "Software Process Line",
           13,
           "pub.1106070091",
           ""
          ],
          [
           "Software Process Line",
           13,
           "pub.1101815920",
           ""
          ],
          [
           "Software Process Line",
           13,
           "pub.1099357022",
           ""
          ],
          [
           "Software Process Line",
           13,
           "pub.1099334650",
           ""
          ],
          [
           "Software Process Line",
           13,
           "pub.1099109582",
           ""
          ],
          [
           "Software Process Line",
           13,
           "pub.1095507755",
           ""
          ],
          [
           "Software Process Line",
           13,
           "pub.1095083693",
           ""
          ],
          [
           "Software Process Line",
           13,
           "pub.1094827284",
           ""
          ],
          [
           "Software Process Line",
           13,
           "pub.1093698709",
           ""
          ],
          [
           "Software Process Line",
           13,
           "pub.1085997260",
           ""
          ],
          [
           "Software Process Line",
           13,
           "pub.1043851254",
           ""
          ],
          [
           "Software Process Line",
           13,
           "pub.1036866528",
           ""
          ],
          [
           "Software Process Line",
           13,
           "pub.1029370861",
           ""
          ],
          [
           "Software Process Line",
           13,
           "pub.1008187633",
           ""
          ],
          [
           "Software Process Line",
           13,
           "pub.1110365318",
           ""
          ],
          [
           "Software Process Line",
           13,
           "pub.1107809783",
           ""
          ],
          [
           "Software Process Line",
           13,
           "pub.1099319497",
           ""
          ],
          [
           "Software Process Line",
           13,
           "pub.1095285212",
           ""
          ],
          [
           "Software Process Line",
           13,
           "pub.1094703784",
           ""
          ],
          [
           "Software Process Line",
           13,
           "pub.1094563585",
           ""
          ],
          [
           "Software Process Line",
           13,
           "pub.1094407996",
           ""
          ],
          [
           "Software Process Line",
           13,
           "pub.1094372965",
           ""
          ],
          [
           "Software Process Line",
           13,
           "pub.1093832512",
           ""
          ],
          [
           "Software Process Line",
           13,
           "pub.1062959772",
           ""
          ],
          [
           "Software Process Line",
           13,
           "pub.1050026341",
           ""
          ],
          [
           "Software Process Line",
           13,
           "pub.1049196757",
           ""
          ],
          [
           "Software Process Line",
           13,
           "pub.1035088883",
           ""
          ],
          [
           "Software Process Line",
           13,
           "pub.1033018638",
           ""
          ],
          [
           "Software Process Line",
           13,
           "pub.1021871976",
           ""
          ],
          [
           "Software Process Line",
           13,
           "pub.1000719345",
           ""
          ],
          [
           "Software Process Line",
           13,
           "pub.1104018773",
           ""
          ],
          [
           "Software Process Line",
           13,
           "pub.1093611620",
           ""
          ],
          [
           "Software Process Line",
           13,
           "pub.1093480635",
           ""
          ],
          [
           "Software Process Line",
           13,
           "pub.1091160240",
           ""
          ],
          [
           "Software Process Line",
           13,
           "pub.1056837072",
           ""
          ],
          [
           "Software Process Line",
           13,
           "pub.1050251793",
           ""
          ],
          [
           "Software Process Line",
           13,
           "pub.1047709746",
           ""
          ],
          [
           "Software Process Line",
           13,
           "pub.1044176397",
           ""
          ],
          [
           "Software Process Line",
           13,
           "pub.1038922413",
           ""
          ],
          [
           "Software Process Line",
           13,
           "pub.1030802993",
           ""
          ],
          [
           "Software Process Line",
           13,
           "pub.1007551255",
           ""
          ],
          [
           "Software Process Line",
           13,
           "pub.1002692059",
           ""
          ]
         ],
         "hovertemplate": "Topic=%{customdata[0]}<br>x=%{x}<br>y=%{y}<br>cluster=%{customdata[1]}<br>pub_id=%{customdata[2]}<br>survey_group=%{customdata[3]}<extra></extra>",
         "legendgroup": "Software Process Line",
         "marker": {
          "color": "rgb(218,139,195)",
          "opacity": 0.9,
          "symbol": "x"
         },
         "mode": "markers",
         "name": "Software Process Line",
         "orientation": "v",
         "showlegend": true,
         "type": "scatter",
         "x": [
          7.175632,
          6.1580653,
          6.8467097,
          6.8009024,
          6.723278,
          6.869294,
          6.5360255,
          6.366212,
          6.3108234,
          6.6408706,
          7.0114007,
          6.255062,
          6.2242436,
          6.1410255,
          6.6117744,
          6.4191346,
          6.548786,
          7.0134864,
          6.5153546,
          6.4809537,
          6.911123,
          6.55868,
          6.2125363,
          6.018818,
          6.8203993,
          6.3348308,
          6.46246,
          7.030496,
          7.0694585,
          6.706195,
          6.857449,
          6.092703,
          6.425902,
          6.094675,
          6.1882143,
          6.7374926,
          6.7864313,
          6.24958,
          6.5426126,
          6.112731,
          6.722618,
          6.7560987,
          6.7906194
         ],
         "xaxis": "x",
         "y": [
          9.954052,
          11.903331,
          10.803569,
          10.83655,
          10.93693,
          10.948121,
          10.8846855,
          11.671302,
          11.565332,
          11.345073,
          11.448537,
          11.255022,
          11.680143,
          11.152172,
          11.536475,
          11.981153,
          11.593325,
          10.905992,
          11.479582,
          11.891127,
          11.656189,
          11.971347,
          11.033406,
          11.355365,
          11.359497,
          11.8491955,
          11.735427,
          10.164826,
          11.626935,
          11.602371,
          11.985379,
          10.971811,
          12.099523,
          11.225146,
          11.814555,
          10.589618,
          11.539899,
          11.294675,
          11.624306,
          10.969228,
          11.405769,
          11.463603,
          11.542557
         ],
         "yaxis": "y"
        },
        {
         "customdata": [
          [
           "Robotic Arthroplasty",
           5,
           "pub.1107454237",
           ""
          ],
          [
           "Robotic Arthroplasty",
           5,
           "pub.1107054942",
           ""
          ],
          [
           "Robotic Arthroplasty",
           5,
           "pub.1105926995",
           ""
          ],
          [
           "Robotic Arthroplasty",
           5,
           "pub.1092914867",
           ""
          ],
          [
           "Robotic Arthroplasty",
           5,
           "pub.1085617296",
           ""
          ],
          [
           "Robotic Arthroplasty",
           5,
           "pub.1083695994",
           ""
          ],
          [
           "Robotic Arthroplasty",
           5,
           "pub.1068898169",
           ""
          ],
          [
           "Robotic Arthroplasty",
           5,
           "pub.1064886544",
           ""
          ],
          [
           "Robotic Arthroplasty",
           5,
           "pub.1060167437",
           ""
          ],
          [
           "Robotic Arthroplasty",
           5,
           "pub.1047113435",
           ""
          ],
          [
           "Robotic Arthroplasty",
           5,
           "pub.1046566936",
           ""
          ],
          [
           "Robotic Arthroplasty",
           5,
           "pub.1045115204",
           ""
          ],
          [
           "Robotic Arthroplasty",
           5,
           "pub.1041693000",
           ""
          ],
          [
           "Robotic Arthroplasty",
           5,
           "pub.1036848872",
           ""
          ],
          [
           "Robotic Arthroplasty",
           5,
           "pub.1030382394",
           ""
          ],
          [
           "Robotic Arthroplasty",
           5,
           "pub.1020705223",
           ""
          ],
          [
           "Robotic Arthroplasty",
           5,
           "pub.1000309245",
           ""
          ],
          [
           "Robotic Arthroplasty",
           5,
           "pub.1123098811",
           ""
          ],
          [
           "Robotic Arthroplasty",
           5,
           "pub.1111052246",
           ""
          ],
          [
           "Robotic Arthroplasty",
           5,
           "pub.1105917414",
           ""
          ],
          [
           "Robotic Arthroplasty",
           5,
           "pub.1105227244",
           ""
          ],
          [
           "Robotic Arthroplasty",
           5,
           "pub.1101146035",
           ""
          ],
          [
           "Robotic Arthroplasty",
           5,
           "pub.1100744263",
           ""
          ],
          [
           "Robotic Arthroplasty",
           5,
           "pub.1092198359",
           ""
          ],
          [
           "Robotic Arthroplasty",
           5,
           "pub.1061784304",
           ""
          ],
          [
           "Robotic Arthroplasty",
           5,
           "pub.1061184595",
           ""
          ],
          [
           "Robotic Arthroplasty",
           5,
           "pub.1051764285",
           ""
          ],
          [
           "Robotic Arthroplasty",
           5,
           "pub.1040431710",
           ""
          ],
          [
           "Robotic Arthroplasty",
           5,
           "pub.1034566767",
           ""
          ],
          [
           "Robotic Arthroplasty",
           5,
           "pub.1033163258",
           ""
          ],
          [
           "Robotic Arthroplasty",
           5,
           "pub.1022546608",
           ""
          ],
          [
           "Robotic Arthroplasty",
           5,
           "pub.1003009109",
           ""
          ],
          [
           "Robotic Arthroplasty",
           5,
           "pub.1121440882",
           ""
          ],
          [
           "Robotic Arthroplasty",
           5,
           "pub.1091777297",
           ""
          ],
          [
           "Robotic Arthroplasty",
           5,
           "pub.1085423980",
           ""
          ],
          [
           "Robotic Arthroplasty",
           5,
           "pub.1077881457",
           ""
          ],
          [
           "Robotic Arthroplasty",
           5,
           "pub.1068895745",
           ""
          ],
          [
           "Robotic Arthroplasty",
           5,
           "pub.1060167433",
           ""
          ],
          [
           "Robotic Arthroplasty",
           5,
           "pub.1053567618",
           ""
          ],
          [
           "Robotic Arthroplasty",
           5,
           "pub.1053428144",
           ""
          ],
          [
           "Robotic Arthroplasty",
           5,
           "pub.1048135360",
           ""
          ],
          [
           "Robotic Arthroplasty",
           5,
           "pub.1039984345",
           ""
          ],
          [
           "Robotic Arthroplasty",
           5,
           "pub.1033569916",
           ""
          ],
          [
           "Robotic Arthroplasty",
           5,
           "pub.1028449260",
           ""
          ],
          [
           "Robotic Arthroplasty",
           5,
           "pub.1023819845",
           ""
          ],
          [
           "Robotic Arthroplasty",
           5,
           "pub.1014011841",
           ""
          ],
          [
           "Robotic Arthroplasty",
           5,
           "pub.1012736542",
           ""
          ]
         ],
         "hovertemplate": "Topic=%{customdata[0]}<br>x=%{x}<br>y=%{y}<br>cluster=%{customdata[1]}<br>pub_id=%{customdata[2]}<br>survey_group=%{customdata[3]}<extra></extra>",
         "legendgroup": "Robotic Arthroplasty",
         "marker": {
          "color": "rgb(140,140,140)",
          "opacity": 0.9,
          "symbol": "circle"
         },
         "mode": "markers",
         "name": "Robotic Arthroplasty",
         "orientation": "v",
         "showlegend": true,
         "type": "scatter",
         "x": [
          -4.096899,
          -4.655074,
          -4.883034,
          -4.776966,
          -4.060545,
          -4.874771,
          -4.4991727,
          -3.9954402,
          -3.9202845,
          -4.5676036,
          -4.486478,
          -4.057239,
          -4.0004945,
          -4.19412,
          -4.729612,
          -4.4822187,
          -4.545544,
          -4.7635336,
          -4.7956595,
          -4.839236,
          -4.706586,
          -4.7231183,
          -4.827178,
          -4.670926,
          -4.1109357,
          -3.9490807,
          -4.384927,
          -4.287681,
          -4.041535,
          -3.9996424,
          -4.784825,
          -4.4326987,
          -4.41946,
          -4.721614,
          -4.554044,
          -4.226402,
          -4.0887184,
          -4.0722346,
          -4.6487927,
          -4.1813235,
          -4.2906146,
          -5.003151,
          -4.173791,
          -4.6468325,
          -4.202914,
          -4.6817555,
          -4.11029
         ],
         "xaxis": "x",
         "y": [
          -3.757762,
          -4.2244573,
          -4.8425026,
          -4.109345,
          -3.7069266,
          -4.7756724,
          -4.718519,
          -4.25648,
          -4.043577,
          -4.7484903,
          -4.1009483,
          -4.098312,
          -3.8053768,
          -3.439125,
          -4.906287,
          -4.1174545,
          -4.292106,
          -4.7485123,
          -4.6520314,
          -4.7284265,
          -4.2944,
          -4.6253567,
          -4.867296,
          -4.2535887,
          -4.306972,
          -4.2232895,
          -4.6890306,
          -4.172015,
          -4.378358,
          -3.9458761,
          -5.0193996,
          -3.9199321,
          -4.164108,
          -4.9640217,
          -4.1641545,
          -4.406432,
          -3.9105864,
          -4.2849483,
          -4.389238,
          -4.4097815,
          -3.928221,
          -4.962102,
          -3.583407,
          -4.904585,
          -3.6981277,
          -5.011137,
          -3.6462324
         ],
         "yaxis": "y"
        },
        {
         "customdata": [
          [
           "Data Stream Processing Latency",
           9,
           "pub.1106923111",
           ""
          ],
          [
           "Data Stream Processing Latency",
           9,
           "pub.1106072382",
           ""
          ],
          [
           "Data Stream Processing Latency",
           9,
           "pub.1105021384",
           ""
          ],
          [
           "Data Stream Processing Latency",
           9,
           "pub.1103991503",
           ""
          ],
          [
           "Data Stream Processing Latency",
           9,
           "pub.1087132733",
           ""
          ],
          [
           "Data Stream Processing Latency",
           9,
           "pub.1085044268",
           ""
          ],
          [
           "Data Stream Processing Latency",
           9,
           "pub.1053223966",
           ""
          ],
          [
           "Data Stream Processing Latency",
           9,
           "pub.1047717752",
           ""
          ],
          [
           "Data Stream Processing Latency",
           9,
           "pub.1046421221",
           ""
          ],
          [
           "Data Stream Processing Latency",
           9,
           "pub.1044962254",
           ""
          ],
          [
           "Data Stream Processing Latency",
           9,
           "pub.1042603016",
           ""
          ],
          [
           "Data Stream Processing Latency",
           9,
           "pub.1038952871",
           ""
          ],
          [
           "Data Stream Processing Latency",
           9,
           "pub.1023581144",
           ""
          ],
          [
           "Data Stream Processing Latency",
           9,
           "pub.1015991543",
           ""
          ],
          [
           "Data Stream Processing Latency",
           9,
           "pub.1015987089",
           ""
          ],
          [
           "Data Stream Processing Latency",
           9,
           "pub.1012606071",
           ""
          ],
          [
           "Data Stream Processing Latency",
           9,
           "pub.1011592440",
           ""
          ],
          [
           "Data Stream Processing Latency",
           9,
           "pub.1009990370",
           ""
          ],
          [
           "Data Stream Processing Latency",
           9,
           "pub.1009745429",
           ""
          ],
          [
           "Data Stream Processing Latency",
           9,
           "pub.1003323638",
           ""
          ],
          [
           "Data Stream Processing Latency",
           9,
           "pub.1002953010",
           ""
          ],
          [
           "Data Stream Processing Latency",
           9,
           "pub.1002873060",
           ""
          ],
          [
           "Data Stream Processing Latency",
           9,
           "pub.1000213201",
           ""
          ],
          [
           "Data Stream Processing Latency",
           9,
           "pub.1098870698",
           ""
          ],
          [
           "Data Stream Processing Latency",
           9,
           "pub.1095129896",
           ""
          ],
          [
           "Data Stream Processing Latency",
           9,
           "pub.1092569607",
           ""
          ],
          [
           "Data Stream Processing Latency",
           9,
           "pub.1091508847",
           ""
          ],
          [
           "Data Stream Processing Latency",
           9,
           "pub.1091198101",
           ""
          ],
          [
           "Data Stream Processing Latency",
           9,
           "pub.1086071207",
           ""
          ],
          [
           "Data Stream Processing Latency",
           9,
           "pub.1051953792",
           ""
          ],
          [
           "Data Stream Processing Latency",
           9,
           "pub.1050319886",
           ""
          ],
          [
           "Data Stream Processing Latency",
           9,
           "pub.1047880318",
           ""
          ],
          [
           "Data Stream Processing Latency",
           9,
           "pub.1045321562",
           ""
          ],
          [
           "Data Stream Processing Latency",
           9,
           "pub.1043780503",
           ""
          ],
          [
           "Data Stream Processing Latency",
           9,
           "pub.1027552609",
           ""
          ],
          [
           "Data Stream Processing Latency",
           9,
           "pub.1023915518",
           ""
          ],
          [
           "Data Stream Processing Latency",
           9,
           "pub.1022138468",
           ""
          ],
          [
           "Data Stream Processing Latency",
           9,
           "pub.1021765870",
           ""
          ],
          [
           "Data Stream Processing Latency",
           9,
           "pub.1020410305",
           ""
          ],
          [
           "Data Stream Processing Latency",
           9,
           "pub.1019780188",
           ""
          ],
          [
           "Data Stream Processing Latency",
           9,
           "pub.1019059277",
           ""
          ],
          [
           "Data Stream Processing Latency",
           9,
           "pub.1017589856",
           ""
          ],
          [
           "Data Stream Processing Latency",
           9,
           "pub.1011754334",
           ""
          ],
          [
           "Data Stream Processing Latency",
           9,
           "pub.1009920573",
           ""
          ],
          [
           "Data Stream Processing Latency",
           9,
           "pub.1007287400",
           ""
          ],
          [
           "Data Stream Processing Latency",
           9,
           "pub.1005124287",
           ""
          ],
          [
           "Data Stream Processing Latency",
           9,
           "pub.1004391931",
           ""
          ],
          [
           "Data Stream Processing Latency",
           9,
           "pub.1003923740",
           ""
          ],
          [
           "Data Stream Processing Latency",
           9,
           "pub.1107307625",
           ""
          ],
          [
           "Data Stream Processing Latency",
           9,
           "pub.1105056307",
           ""
          ],
          [
           "Data Stream Processing Latency",
           9,
           "pub.1091641317",
           ""
          ],
          [
           "Data Stream Processing Latency",
           9,
           "pub.1090317520",
           ""
          ],
          [
           "Data Stream Processing Latency",
           9,
           "pub.1067504856",
           ""
          ],
          [
           "Data Stream Processing Latency",
           9,
           "pub.1061716021",
           ""
          ],
          [
           "Data Stream Processing Latency",
           9,
           "pub.1053737749",
           ""
          ],
          [
           "Data Stream Processing Latency",
           9,
           "pub.1051363944",
           ""
          ],
          [
           "Data Stream Processing Latency",
           9,
           "pub.1047534361",
           ""
          ],
          [
           "Data Stream Processing Latency",
           9,
           "pub.1043395206",
           ""
          ],
          [
           "Data Stream Processing Latency",
           9,
           "pub.1040187607",
           ""
          ],
          [
           "Data Stream Processing Latency",
           9,
           "pub.1028489924",
           ""
          ],
          [
           "Data Stream Processing Latency",
           9,
           "pub.1028394848",
           ""
          ],
          [
           "Data Stream Processing Latency",
           9,
           "pub.1027575106",
           ""
          ],
          [
           "Data Stream Processing Latency",
           9,
           "pub.1027453968",
           ""
          ],
          [
           "Data Stream Processing Latency",
           9,
           "pub.1026868921",
           ""
          ],
          [
           "Data Stream Processing Latency",
           9,
           "pub.1022055976",
           ""
          ],
          [
           "Data Stream Processing Latency",
           9,
           "pub.1020294488",
           ""
          ],
          [
           "Data Stream Processing Latency",
           9,
           "pub.1019477087",
           ""
          ],
          [
           "Data Stream Processing Latency",
           9,
           "pub.1018598520",
           ""
          ],
          [
           "Data Stream Processing Latency",
           9,
           "pub.1017108908",
           ""
          ]
         ],
         "hovertemplate": "Topic=%{customdata[0]}<br>x=%{x}<br>y=%{y}<br>cluster=%{customdata[1]}<br>pub_id=%{customdata[2]}<br>survey_group=%{customdata[3]}<extra></extra>",
         "legendgroup": "Data Stream Processing Latency",
         "marker": {
          "color": "rgb(204,185,116)",
          "opacity": 0.9,
          "symbol": "x"
         },
         "mode": "markers",
         "name": "Data Stream Processing Latency",
         "orientation": "v",
         "showlegend": true,
         "type": "scatter",
         "x": [
          16.168114,
          16.372177,
          15.314204,
          15.676416,
          16.20479,
          15.829307,
          16.931929,
          15.846998,
          15.570974,
          15.52434,
          16.476856,
          15.377388,
          15.998806,
          16.306194,
          15.480834,
          15.794243,
          15.546938,
          15.652195,
          16.872023,
          15.233973,
          16.971664,
          15.601096,
          15.892767,
          17.161915,
          16.325434,
          16.181204,
          15.377522,
          17.02394,
          17.190838,
          15.626995,
          17.139679,
          16.587025,
          17.081509,
          17.083033,
          16.157684,
          17.128696,
          16.182077,
          17.072716,
          17.113335,
          15.921237,
          15.507048,
          16.236761,
          16.058517,
          15.62268,
          15.418986,
          15.717997,
          15.8456135,
          15.739214,
          15.862162,
          16.984838,
          15.834038,
          16.031713,
          16.134045,
          16.753038,
          15.972545,
          15.676883,
          15.635618,
          16.98996,
          16.051441,
          15.384812,
          15.300262,
          16.21023,
          17.079641,
          16.043018,
          16.157454,
          17.150827,
          17.129118,
          15.738853,
          16.067408
         ],
         "xaxis": "x",
         "y": [
          13.519041,
          12.849838,
          12.871492,
          12.823004,
          13.009265,
          12.80456,
          12.489875,
          13.144989,
          13.311077,
          12.832283,
          12.776575,
          13.757631,
          13.227965,
          13.157195,
          13.345622,
          13.622908,
          13.678888,
          13.187781,
          12.568274,
          13.707194,
          12.641358,
          13.044966,
          12.943538,
          12.219958,
          13.0119915,
          12.86334,
          13.323496,
          12.627894,
          12.081314,
          13.670234,
          12.416621,
          12.707441,
          12.224633,
          12.126653,
          12.731958,
          12.2413845,
          13.150679,
          12.009325,
          12.1340275,
          13.334152,
          13.485964,
          12.989643,
          13.442365,
          13.329006,
          12.706825,
          13.288575,
          13.461012,
          13.738316,
          12.984604,
          12.417719,
          12.945716,
          13.346128,
          13.081622,
          12.529913,
          12.716766,
          12.9324465,
          13.831378,
          12.605146,
          13.775316,
          13.652216,
          12.876029,
          13.351394,
          12.597388,
          13.546581,
          13.051936,
          12.186825,
          12.252717,
          13.020054,
          13.763202
         ],
         "yaxis": "y"
        },
        {
         "customdata": [
          [
           "Soft Robotics",
           20,
           "pub.1099769159",
           ""
          ],
          [
           "Soft Robotics",
           20,
           "pub.1061784814",
           ""
          ],
          [
           "Soft Robotics",
           20,
           "pub.1061419831",
           ""
          ],
          [
           "Soft Robotics",
           20,
           "pub.1059311431",
           ""
          ],
          [
           "Soft Robotics",
           20,
           "pub.1053869439",
           ""
          ],
          [
           "Soft Robotics",
           20,
           "pub.1048672075",
           ""
          ],
          [
           "Soft Robotics",
           20,
           "pub.1035546790",
           ""
          ],
          [
           "Soft Robotics",
           20,
           "pub.1034332217",
           ""
          ],
          [
           "Soft Robotics",
           20,
           "pub.1032973919",
           ""
          ],
          [
           "Soft Robotics",
           20,
           "pub.1021059830",
           ""
          ],
          [
           "Soft Robotics",
           20,
           "pub.1010861669",
           ""
          ],
          [
           "Soft Robotics",
           20,
           "pub.1000285042",
           ""
          ],
          [
           "Soft Robotics",
           20,
           "pub.1091247330",
           ""
          ],
          [
           "Soft Robotics",
           20,
           "pub.1085727340",
           ""
          ],
          [
           "Soft Robotics",
           20,
           "pub.1063202700",
           ""
          ],
          [
           "Soft Robotics",
           20,
           "pub.1062681758",
           ""
          ],
          [
           "Soft Robotics",
           20,
           "pub.1061419786",
           ""
          ],
          [
           "Soft Robotics",
           20,
           "pub.1050931185",
           ""
          ],
          [
           "Soft Robotics",
           20,
           "pub.1033757657",
           ""
          ],
          [
           "Soft Robotics",
           20,
           "pub.1022244206",
           ""
          ],
          [
           "Soft Robotics",
           20,
           "pub.1016383527",
           ""
          ],
          [
           "Soft Robotics",
           20,
           "pub.1009708400",
           ""
          ],
          [
           "Soft Robotics",
           20,
           "pub.1006036928",
           ""
          ],
          [
           "Soft Robotics",
           20,
           "pub.1099769145",
           ""
          ],
          [
           "Soft Robotics",
           20,
           "pub.1094524387",
           ""
          ],
          [
           "Soft Robotics",
           20,
           "pub.1071553028",
           ""
          ],
          [
           "Soft Robotics",
           20,
           "pub.1061692527",
           ""
          ],
          [
           "Soft Robotics",
           20,
           "pub.1053745766",
           ""
          ],
          [
           "Soft Robotics",
           20,
           "pub.1052588601",
           ""
          ],
          [
           "Soft Robotics",
           10,
           "pub.1047578355",
           ""
          ],
          [
           "Soft Robotics",
           20,
           "pub.1046958784",
           ""
          ],
          [
           "Soft Robotics",
           20,
           "pub.1046414848",
           ""
          ],
          [
           "Soft Robotics",
           20,
           "pub.1037299542",
           ""
          ],
          [
           "Soft Robotics",
           20,
           "pub.1018093320",
           ""
          ],
          [
           "Soft Robotics",
           20,
           "pub.1014191409",
           ""
          ],
          [
           "Soft Robotics",
           20,
           "pub.1013312043",
           ""
          ]
         ],
         "hovertemplate": "Topic=%{customdata[0]}<br>x=%{x}<br>y=%{y}<br>cluster=%{customdata[1]}<br>pub_id=%{customdata[2]}<br>survey_group=%{customdata[3]}<extra></extra>",
         "legendgroup": "Soft Robotics",
         "marker": {
          "color": "rgb(100,181,205)",
          "opacity": 0.9,
          "symbol": "circle"
         },
         "mode": "markers",
         "name": "Soft Robotics",
         "orientation": "v",
         "showlegend": true,
         "type": "scatter",
         "x": [
          2.4388754,
          2.189922,
          2.193845,
          1.6973953,
          2.0663183,
          2.0478632,
          2.5459704,
          1.8194959,
          2.0960085,
          1.7797725,
          2.4791768,
          2.5612526,
          1.7813412,
          1.9972954,
          2.272993,
          2.4444685,
          2.3348942,
          2.463937,
          2.0849164,
          2.5890143,
          1.7107728,
          2.2197828,
          2.3746989,
          2.1482599,
          2.326466,
          2.2107298,
          1.8246257,
          2.4700022,
          1.8127369,
          1.6453023,
          1.9503433,
          1.7091607,
          2.0347025,
          2.2588258,
          1.7510755,
          2.1715834
         ],
         "xaxis": "x",
         "y": [
          6.889066,
          6.911622,
          6.5689826,
          6.3046703,
          6.5158744,
          6.468833,
          6.520467,
          6.1902876,
          6.548888,
          6.303331,
          6.6956778,
          6.526108,
          6.2540174,
          6.615219,
          6.6448894,
          6.691291,
          6.564038,
          6.741379,
          6.856352,
          6.7163167,
          6.038112,
          6.5370483,
          6.654935,
          6.859975,
          6.5256286,
          6.955975,
          6.1475143,
          6.613344,
          6.2073274,
          6.0761566,
          6.405509,
          6.336915,
          6.5340185,
          6.809792,
          6.290327,
          6.6963625
         ],
         "yaxis": "y"
        },
        {
         "customdata": [
          [
           "Internet of Things in Healthcare",
           4,
           "pub.1095770589",
           ""
          ],
          [
           "Internet of Things in Healthcare",
           4,
           "pub.1095382199",
           ""
          ],
          [
           "Internet of Things in Healthcare",
           4,
           "pub.1095255025",
           ""
          ],
          [
           "Internet of Things in Healthcare",
           4,
           "pub.1093507023",
           ""
          ],
          [
           "Internet of Things in Healthcare",
           4,
           "pub.1093463283",
           ""
          ],
          [
           "Internet of Things in Healthcare",
           4,
           "pub.1025765207",
           ""
          ],
          [
           "Internet of Things in Healthcare",
           4,
           "pub.1024210708",
           ""
          ],
          [
           "Internet of Things in Healthcare",
           4,
           "pub.1001751876",
           ""
          ],
          [
           "Internet of Things in Healthcare",
           4,
           "pub.1095490861",
           ""
          ],
          [
           "Internet of Things in Healthcare",
           4,
           "pub.1095382211",
           ""
          ],
          [
           "Internet of Things in Healthcare",
           4,
           "pub.1095264568",
           ""
          ],
          [
           "Internet of Things in Healthcare",
           4,
           "pub.1095085621",
           ""
          ],
          [
           "Internet of Things in Healthcare",
           4,
           "pub.1094969147",
           ""
          ],
          [
           "Internet of Things in Healthcare",
           4,
           "pub.1094225194",
           ""
          ],
          [
           "Internet of Things in Healthcare",
           4,
           "pub.1093739978",
           ""
          ],
          [
           "Internet of Things in Healthcare",
           4,
           "pub.1093357343",
           ""
          ],
          [
           "Internet of Things in Healthcare",
           4,
           "pub.1067238716",
           ""
          ],
          [
           "Internet of Things in Healthcare",
           4,
           "pub.1061632443",
           ""
          ],
          [
           "Internet of Things in Healthcare",
           4,
           "pub.1034508886",
           ""
          ],
          [
           "Internet of Things in Healthcare",
           4,
           "pub.1031978033",
           ""
          ],
          [
           "Internet of Things in Healthcare",
           4,
           "pub.1099281667",
           ""
          ],
          [
           "Internet of Things in Healthcare",
           4,
           "pub.1094970902",
           ""
          ],
          [
           "Internet of Things in Healthcare",
           4,
           "pub.1094830611",
           ""
          ],
          [
           "Internet of Things in Healthcare",
           4,
           "pub.1061324932",
           ""
          ],
          [
           "Internet of Things in Healthcare",
           4,
           "pub.1044514690",
           ""
          ],
          [
           "Internet of Things in Healthcare",
           4,
           "pub.1044290948",
           ""
          ],
          [
           "Internet of Things in Healthcare",
           4,
           "pub.1042065361",
           ""
          ],
          [
           "Internet of Things in Healthcare",
           4,
           "pub.1038434872",
           ""
          ],
          [
           "Internet of Things in Healthcare",
           4,
           "pub.1016352338",
           ""
          ]
         ],
         "hovertemplate": "Topic=%{customdata[0]}<br>x=%{x}<br>y=%{y}<br>cluster=%{customdata[1]}<br>pub_id=%{customdata[2]}<br>survey_group=%{customdata[3]}<extra></extra>",
         "legendgroup": "Internet of Things in Healthcare",
         "marker": {
          "color": "rgb(76,114,176)",
          "opacity": 0.9,
          "symbol": "circle"
         },
         "mode": "markers",
         "name": "Internet of Things in Healthcare",
         "orientation": "v",
         "showlegend": true,
         "type": "scatter",
         "x": [
          14.409792,
          14.450145,
          14.430009,
          14.214376,
          14.724406,
          14.564382,
          14.2896595,
          14.407516,
          14.341775,
          15.123339,
          14.339753,
          15.098857,
          14.660222,
          14.585341,
          14.296449,
          14.346084,
          14.489814,
          14.2407255,
          14.3179655,
          14.689437,
          14.526357,
          14.304463,
          14.542448,
          14.680582,
          14.484747,
          14.435898,
          15.643136,
          14.447874,
          14.76604
         ],
         "xaxis": "x",
         "y": [
          9.267349,
          9.670675,
          9.42777,
          9.656865,
          9.695674,
          9.251622,
          9.805108,
          9.358429,
          9.565518,
          9.6295805,
          9.395951,
          9.567551,
          9.615872,
          9.516255,
          9.358862,
          9.7172985,
          9.668967,
          9.343004,
          9.853752,
          9.597906,
          9.600695,
          9.3772955,
          9.268871,
          9.374924,
          9.469927,
          9.509151,
          9.630752,
          9.193624,
          9.578251
         ],
         "yaxis": "y"
        },
        {
         "customdata": [
          [
           "Software Fault Prediction Metrics",
           14,
           "pub.1095559062",
           ""
          ],
          [
           "Software Fault Prediction Metrics",
           2,
           "pub.1095496474",
           ""
          ],
          [
           "Software Fault Prediction Metrics",
           14,
           "pub.1095448393",
           ""
          ],
          [
           "Software Fault Prediction Metrics",
           14,
           "pub.1095355101",
           ""
          ],
          [
           "Software Fault Prediction Metrics",
           2,
           "pub.1095336786",
           ""
          ],
          [
           "Software Fault Prediction Metrics",
           14,
           "pub.1095317546",
           ""
          ],
          [
           "Software Fault Prediction Metrics",
           14,
           "pub.1094870261",
           ""
          ],
          [
           "Software Fault Prediction Metrics",
           2,
           "pub.1094791278",
           ""
          ],
          [
           "Software Fault Prediction Metrics",
           14,
           "pub.1094661240",
           ""
          ],
          [
           "Software Fault Prediction Metrics",
           14,
           "pub.1094464848",
           ""
          ],
          [
           "Software Fault Prediction Metrics",
           14,
           "pub.1094303700",
           ""
          ],
          [
           "Software Fault Prediction Metrics",
           14,
           "pub.1094238526",
           ""
          ],
          [
           "Software Fault Prediction Metrics",
           2,
           "pub.1093508390",
           ""
          ],
          [
           "Software Fault Prediction Metrics",
           14,
           "pub.1093506486",
           ""
          ],
          [
           "Software Fault Prediction Metrics",
           14,
           "pub.1061788656",
           ""
          ],
          [
           "Software Fault Prediction Metrics",
           2,
           "pub.1061788604",
           ""
          ],
          [
           "Software Fault Prediction Metrics",
           14,
           "pub.1061154750",
           ""
          ],
          [
           "Software Fault Prediction Metrics",
           14,
           "pub.1061154618",
           ""
          ],
          [
           "Software Fault Prediction Metrics",
           14,
           "pub.1061154197",
           ""
          ],
          [
           "Software Fault Prediction Metrics",
           14,
           "pub.1048522318",
           ""
          ],
          [
           "Software Fault Prediction Metrics",
           14,
           "pub.1031519727",
           ""
          ],
          [
           "Software Fault Prediction Metrics",
           14,
           "pub.1022710599",
           ""
          ],
          [
           "Software Fault Prediction Metrics",
           14,
           "pub.1005717752",
           ""
          ],
          [
           "Software Fault Prediction Metrics",
           14,
           "pub.1095624517",
           ""
          ],
          [
           "Software Fault Prediction Metrics",
           2,
           "pub.1095132962",
           ""
          ],
          [
           "Software Fault Prediction Metrics",
           14,
           "pub.1094902607",
           ""
          ],
          [
           "Software Fault Prediction Metrics",
           14,
           "pub.1094738621",
           ""
          ],
          [
           "Software Fault Prediction Metrics",
           14,
           "pub.1094572706",
           ""
          ],
          [
           "Software Fault Prediction Metrics",
           14,
           "pub.1094566044",
           ""
          ],
          [
           "Software Fault Prediction Metrics",
           14,
           "pub.1093856281",
           ""
          ],
          [
           "Software Fault Prediction Metrics",
           14,
           "pub.1093519125",
           ""
          ],
          [
           "Software Fault Prediction Metrics",
           14,
           "pub.1093396093",
           ""
          ],
          [
           "Software Fault Prediction Metrics",
           14,
           "pub.1093292255",
           ""
          ],
          [
           "Software Fault Prediction Metrics",
           14,
           "pub.1061788591",
           ""
          ],
          [
           "Software Fault Prediction Metrics",
           14,
           "pub.1061788513",
           ""
          ],
          [
           "Software Fault Prediction Metrics",
           14,
           "pub.1061154182",
           ""
          ],
          [
           "Software Fault Prediction Metrics",
           14,
           "pub.1095418072",
           ""
          ],
          [
           "Software Fault Prediction Metrics",
           2,
           "pub.1094933957",
           ""
          ],
          [
           "Software Fault Prediction Metrics",
           14,
           "pub.1094349395",
           ""
          ],
          [
           "Software Fault Prediction Metrics",
           14,
           "pub.1094242278",
           ""
          ],
          [
           "Software Fault Prediction Metrics",
           14,
           "pub.1093776808",
           ""
          ],
          [
           "Software Fault Prediction Metrics",
           14,
           "pub.1093463018",
           ""
          ],
          [
           "Software Fault Prediction Metrics",
           14,
           "pub.1093362345",
           ""
          ],
          [
           "Software Fault Prediction Metrics",
           14,
           "pub.1093266454",
           ""
          ],
          [
           "Software Fault Prediction Metrics",
           14,
           "pub.1093246157",
           ""
          ],
          [
           "Software Fault Prediction Metrics",
           14,
           "pub.1061788629",
           ""
          ],
          [
           "Software Fault Prediction Metrics",
           14,
           "pub.1061788438",
           ""
          ],
          [
           "Software Fault Prediction Metrics",
           14,
           "pub.1061788213",
           ""
          ]
         ],
         "hovertemplate": "Topic=%{customdata[0]}<br>x=%{x}<br>y=%{y}<br>cluster=%{customdata[1]}<br>pub_id=%{customdata[2]}<br>survey_group=%{customdata[3]}<extra></extra>",
         "legendgroup": "Software Fault Prediction Metrics",
         "marker": {
          "color": "rgb(221,132,82)",
          "opacity": 0.9,
          "symbol": "x"
         },
         "mode": "markers",
         "name": "Software Fault Prediction Metrics",
         "orientation": "v",
         "showlegend": true,
         "type": "scatter",
         "x": [
          5.766765,
          6.596368,
          4.770785,
          5.5363765,
          5.7964997,
          5.3397646,
          5.491294,
          5.7438974,
          4.637999,
          4.951413,
          5.4470882,
          6.0172324,
          5.8092365,
          4.67047,
          4.512528,
          6.4825907,
          4.564027,
          5.509611,
          5.2726603,
          5.2826295,
          5.95519,
          5.7511806,
          5.606538,
          4.8578153,
          6.1834807,
          5.763426,
          4.9745393,
          6.2392516,
          4.746581,
          5.1022086,
          4.8653316,
          4.667964,
          5.5371976,
          4.841713,
          4.7806673,
          4.701794,
          5.987288,
          6.580286,
          4.7507935,
          5.9296846,
          4.518156,
          5.1237135,
          6.082976,
          5.410967,
          4.545162,
          5.921482,
          5.000981,
          4.8740187
         ],
         "xaxis": "x",
         "y": [
          14.363626,
          15.086665,
          14.6678095,
          15.035209,
          15.635176,
          14.860889,
          14.838314,
          15.333758,
          14.726967,
          15.055333,
          14.692138,
          14.536527,
          15.474727,
          14.530587,
          14.5279455,
          14.8641,
          14.662251,
          14.965237,
          15.320843,
          14.151929,
          14.528889,
          14.708552,
          14.577143,
          14.361363,
          14.732397,
          14.230451,
          14.4178,
          14.545368,
          14.731714,
          14.886887,
          14.837788,
          14.894473,
          14.607612,
          14.573103,
          14.717873,
          14.625687,
          14.696533,
          14.984107,
          14.790964,
          14.664301,
          14.501052,
          14.245643,
          14.458126,
          14.556309,
          14.597022,
          15.986325,
          14.536583,
          14.9763975
         ],
         "yaxis": "y"
        },
        {
         "customdata": [
          [
           "Cloud Migration",
           21,
           "pub.1095289700",
           ""
          ],
          [
           "Cloud Migration",
           21,
           "pub.1031618271",
           ""
          ],
          [
           "Cloud Migration",
           21,
           "pub.1017554634",
           ""
          ],
          [
           "Cloud Migration",
           21,
           "pub.1014654869",
           ""
          ],
          [
           "Cloud Migration",
           21,
           "pub.1013552649",
           ""
          ],
          [
           "Cloud Migration",
           21,
           "pub.1000653945",
           ""
          ],
          [
           "Cloud Migration",
           13,
           "pub.1095674802",
           ""
          ],
          [
           "Cloud Migration",
           21,
           "pub.1062959392",
           ""
          ],
          [
           "Cloud Migration",
           21,
           "pub.1061788671",
           ""
          ],
          [
           "Cloud Migration",
           21,
           "pub.1061420973",
           ""
          ],
          [
           "Cloud Migration",
           19,
           "pub.1043355881",
           ""
          ],
          [
           "Cloud Migration",
           21,
           "pub.1036043271",
           ""
          ],
          [
           "Cloud Migration",
           21,
           "pub.1033313185",
           ""
          ],
          [
           "Cloud Migration",
           21,
           "pub.1030075621",
           ""
          ],
          [
           "Cloud Migration",
           13,
           "pub.1011427038",
           ""
          ],
          [
           "Cloud Migration",
           21,
           "pub.1008918541",
           ""
          ],
          [
           "Cloud Migration",
           21,
           "pub.1094400008",
           ""
          ],
          [
           "Cloud Migration",
           21,
           "pub.1093218858",
           ""
          ],
          [
           "Cloud Migration",
           21,
           "pub.1061788449",
           ""
          ],
          [
           "Cloud Migration",
           21,
           "pub.1052578288",
           ""
          ],
          [
           "Cloud Migration",
           21,
           "pub.1049407720",
           ""
          ],
          [
           "Cloud Migration",
           21,
           "pub.1043650304",
           ""
          ],
          [
           "Cloud Migration",
           21,
           "pub.1023990088",
           ""
          ],
          [
           "Cloud Migration",
           21,
           "pub.1019803350",
           ""
          ],
          [
           "Cloud Migration",
           21,
           "pub.1012774582",
           ""
          ],
          [
           "Cloud Migration",
           21,
           "pub.1012689387",
           ""
          ],
          [
           "Cloud Migration",
           21,
           "pub.1004881437",
           ""
          ]
         ],
         "hovertemplate": "Topic=%{customdata[0]}<br>x=%{x}<br>y=%{y}<br>cluster=%{customdata[1]}<br>pub_id=%{customdata[2]}<br>survey_group=%{customdata[3]}<extra></extra>",
         "legendgroup": "Cloud Migration",
         "marker": {
          "color": "rgb(85,168,104)",
          "opacity": 0.9,
          "symbol": "x"
         },
         "mode": "markers",
         "name": "Cloud Migration",
         "orientation": "v",
         "showlegend": true,
         "type": "scatter",
         "x": [
          6.487141,
          7.05605,
          6.260529,
          6.7421246,
          6.3152742,
          6.281499,
          6.7847247,
          6.1695457,
          6.4769444,
          6.479421,
          7.5257306,
          6.3864737,
          6.186378,
          6.653312,
          7.0626774,
          6.428444,
          6.240271,
          6.4791775,
          6.3606067,
          6.3165026,
          6.8790736,
          6.3005056,
          6.502583,
          6.3944635,
          5.903595,
          6.0835867,
          6.4133472
         ],
         "xaxis": "x",
         "y": [
          13.218929,
          12.630417,
          12.553905,
          12.9061165,
          12.478289,
          13.423704,
          11.837672,
          13.361053,
          13.255209,
          13.449111,
          12.076156,
          14.20029,
          13.916906,
          12.856526,
          11.493209,
          12.715008,
          13.726661,
          13.709334,
          14.108295,
          12.929258,
          13.122792,
          13.262244,
          13.529764,
          13.302186,
          13.451866,
          13.981815,
          13.42172
         ],
         "yaxis": "y"
        },
        {
         "customdata": [
          [
           "Software Defect Prediction",
           2,
           "pub.1094706654",
           ""
          ],
          [
           "Software Defect Prediction",
           2,
           "pub.1094284227",
           ""
          ],
          [
           "Software Defect Prediction",
           2,
           "pub.1093218381",
           ""
          ],
          [
           "Software Defect Prediction",
           2,
           "pub.1061798471",
           ""
          ],
          [
           "Software Defect Prediction",
           2,
           "pub.1061795697",
           ""
          ],
          [
           "Software Defect Prediction",
           2,
           "pub.1061795230",
           ""
          ],
          [
           "Software Defect Prediction",
           2,
           "pub.1061788851",
           ""
          ],
          [
           "Software Defect Prediction",
           2,
           "pub.1061788479",
           ""
          ],
          [
           "Software Defect Prediction",
           10,
           "pub.1056837144",
           ""
          ],
          [
           "Software Defect Prediction",
           2,
           "pub.1053284993",
           ""
          ],
          [
           "Software Defect Prediction",
           2,
           "pub.1050027319",
           ""
          ],
          [
           "Software Defect Prediction",
           2,
           "pub.1040067116",
           ""
          ],
          [
           "Software Defect Prediction",
           14,
           "pub.1038168456",
           ""
          ],
          [
           "Software Defect Prediction",
           2,
           "pub.1031601770",
           ""
          ],
          [
           "Software Defect Prediction",
           2,
           "pub.1030916580",
           ""
          ],
          [
           "Software Defect Prediction",
           2,
           "pub.1016659627",
           ""
          ],
          [
           "Software Defect Prediction",
           2,
           "pub.1016640320",
           ""
          ],
          [
           "Software Defect Prediction",
           2,
           "pub.1014545963",
           ""
          ],
          [
           "Software Defect Prediction",
           14,
           "pub.1012487871",
           ""
          ],
          [
           "Software Defect Prediction",
           2,
           "pub.1006992827",
           ""
          ],
          [
           "Software Defect Prediction",
           2,
           "pub.1093778985",
           ""
          ],
          [
           "Software Defect Prediction",
           2,
           "pub.1093583251",
           ""
          ],
          [
           "Software Defect Prediction",
           2,
           "pub.1093454342",
           ""
          ],
          [
           "Software Defect Prediction",
           2,
           "pub.1061798146",
           ""
          ],
          [
           "Software Defect Prediction",
           2,
           "pub.1061788960",
           ""
          ],
          [
           "Software Defect Prediction",
           2,
           "pub.1061788527",
           ""
          ],
          [
           "Software Defect Prediction",
           2,
           "pub.1061783588",
           ""
          ],
          [
           "Software Defect Prediction",
           2,
           "pub.1061662354",
           ""
          ],
          [
           "Software Defect Prediction",
           14,
           "pub.1049597330",
           ""
          ],
          [
           "Software Defect Prediction",
           2,
           "pub.1048561887",
           ""
          ],
          [
           "Software Defect Prediction",
           14,
           "pub.1042524665",
           ""
          ],
          [
           "Software Defect Prediction",
           2,
           "pub.1041664266",
           ""
          ],
          [
           "Software Defect Prediction",
           2,
           "pub.1032338646",
           ""
          ],
          [
           "Software Defect Prediction",
           2,
           "pub.1026182535",
           ""
          ],
          [
           "Software Defect Prediction",
           2,
           "pub.1095749524",
           ""
          ],
          [
           "Software Defect Prediction",
           2,
           "pub.1095092354",
           ""
          ],
          [
           "Software Defect Prediction",
           2,
           "pub.1061789060",
           ""
          ],
          [
           "Software Defect Prediction",
           2,
           "pub.1061789009",
           ""
          ],
          [
           "Software Defect Prediction",
           2,
           "pub.1061788822",
           ""
          ],
          [
           "Software Defect Prediction",
           2,
           "pub.1061788688",
           ""
          ],
          [
           "Software Defect Prediction",
           2,
           "pub.1061783724",
           ""
          ],
          [
           "Software Defect Prediction",
           2,
           "pub.1061783611",
           ""
          ],
          [
           "Software Defect Prediction",
           2,
           "pub.1056837147",
           ""
          ],
          [
           "Software Defect Prediction",
           2,
           "pub.1044795300",
           ""
          ],
          [
           "Software Defect Prediction",
           2,
           "pub.1030311613",
           ""
          ],
          [
           "Software Defect Prediction",
           14,
           "pub.1029996552",
           ""
          ],
          [
           "Software Defect Prediction",
           14,
           "pub.1028857888",
           ""
          ],
          [
           "Software Defect Prediction",
           2,
           "pub.1027402804",
           ""
          ],
          [
           "Software Defect Prediction",
           2,
           "pub.1014268670",
           ""
          ],
          [
           "Software Defect Prediction",
           2,
           "pub.1011990728",
           ""
          ],
          [
           "Software Defect Prediction",
           2,
           "pub.1009020017",
           ""
          ]
         ],
         "hovertemplate": "Topic=%{customdata[0]}<br>x=%{x}<br>y=%{y}<br>cluster=%{customdata[1]}<br>pub_id=%{customdata[2]}<br>survey_group=%{customdata[3]}<extra></extra>",
         "legendgroup": "Software Defect Prediction",
         "marker": {
          "color": "rgb(196,78,82)",
          "opacity": 0.9,
          "symbol": "x"
         },
         "mode": "markers",
         "name": "Software Defect Prediction",
         "orientation": "v",
         "showlegend": true,
         "type": "scatter",
         "x": [
          6.511628,
          5.939507,
          5.8458867,
          6.8719883,
          6.9911995,
          5.8342366,
          6.6260667,
          5.6721277,
          6.837539,
          6.107068,
          5.858745,
          6.2554264,
          5.4183803,
          6.0608015,
          6.1609592,
          6.6340985,
          6.4863224,
          6.1993637,
          5.2302146,
          6.770136,
          6.3579965,
          6.907814,
          5.764394,
          6.6869736,
          6.177751,
          6.423364,
          6.0967803,
          5.625794,
          6.0013113,
          6.175589,
          5.252148,
          6.871542,
          6.373344,
          6.6984167,
          6.928756,
          6.38933,
          6.918858,
          6.739748,
          6.1214767,
          6.62353,
          6.943624,
          6.919033,
          5.9996605,
          6.138977,
          5.853582,
          5.5420637,
          5.7220044,
          6.729627,
          6.1014853,
          5.852092,
          6.5706024
         ],
         "xaxis": "x",
         "y": [
          15.440396,
          15.531134,
          15.860149,
          15.515607,
          15.494154,
          15.524909,
          15.285403,
          15.287001,
          10.325204,
          15.942234,
          15.567649,
          15.382516,
          14.543632,
          15.376085,
          15.52347,
          15.111883,
          15.550201,
          15.876796,
          14.533732,
          15.040478,
          15.318302,
          15.406286,
          15.721187,
          14.895943,
          15.832182,
          15.221,
          15.973578,
          15.585918,
          14.706196,
          15.150001,
          15.266603,
          15.471038,
          15.004452,
          15.376419,
          15.298002,
          15.557449,
          15.151317,
          14.426946,
          15.0594845,
          15.443609,
          15.627056,
          15.445831,
          15.867253,
          15.186416,
          15.664009,
          15.25652,
          14.885725,
          15.456543,
          15.288288,
          15.1413,
          15.758595
         ],
         "yaxis": "y"
        },
        {
         "customdata": [
          [
           "Drones in Agriculture",
           18,
           "pub.1092454498",
           ""
          ],
          [
           "Drones in Agriculture",
           18,
           "pub.1061610686",
           ""
          ],
          [
           "Drones in Agriculture",
           18,
           "pub.1052390127",
           ""
          ],
          [
           "Drones in Agriculture",
           18,
           "pub.1028947023",
           ""
          ],
          [
           "Drones in Agriculture",
           18,
           "pub.1007702481",
           ""
          ],
          [
           "Drones in Agriculture",
           18,
           "pub.1007471000",
           ""
          ],
          [
           "Drones in Agriculture",
           18,
           "pub.1002161636",
           ""
          ],
          [
           "Drones in Agriculture",
           18,
           "pub.1094775321",
           ""
          ],
          [
           "Drones in Agriculture",
           18,
           "pub.1086143194",
           ""
          ],
          [
           "Drones in Agriculture",
           18,
           "pub.1064896140",
           ""
          ],
          [
           "Drones in Agriculture",
           18,
           "pub.1064892999",
           ""
          ],
          [
           "Drones in Agriculture",
           18,
           "pub.1061280901",
           ""
          ],
          [
           "Drones in Agriculture",
           18,
           "pub.1022922533",
           ""
          ],
          [
           "Drones in Agriculture",
           18,
           "pub.1010901465",
           ""
          ],
          [
           "Drones in Agriculture",
           18,
           "pub.1003882381",
           ""
          ],
          [
           "Drones in Agriculture",
           18,
           "pub.1000225286",
           ""
          ],
          [
           "Drones in Agriculture",
           18,
           "pub.1113441179",
           ""
          ],
          [
           "Drones in Agriculture",
           18,
           "pub.1071268140",
           ""
          ],
          [
           "Drones in Agriculture",
           18,
           "pub.1032694598",
           ""
          ],
          [
           "Drones in Agriculture",
           18,
           "pub.1027978650",
           ""
          ],
          [
           "Drones in Agriculture",
           18,
           "pub.1025608752",
           ""
          ],
          [
           "Drones in Agriculture",
           18,
           "pub.1023847193",
           ""
          ],
          [
           "Drones in Agriculture",
           18,
           "pub.1020655667",
           ""
          ],
          [
           "Drones in Agriculture",
           18,
           "pub.1014003350",
           ""
          ],
          [
           "Drones in Agriculture",
           18,
           "pub.1013849273",
           ""
          ]
         ],
         "hovertemplate": "Topic=%{customdata[0]}<br>x=%{x}<br>y=%{y}<br>cluster=%{customdata[1]}<br>pub_id=%{customdata[2]}<br>survey_group=%{customdata[3]}<extra></extra>",
         "legendgroup": "Drones in Agriculture",
         "marker": {
          "color": "rgb(129,114,179)",
          "opacity": 0.9,
          "symbol": "circle"
         },
         "mode": "markers",
         "name": "Drones in Agriculture",
         "orientation": "v",
         "showlegend": true,
         "type": "scatter",
         "x": [
          18.104916,
          18.150997,
          18.19541,
          18.233253,
          18.383152,
          18.542677,
          18.256596,
          17.523394,
          18.493204,
          17.99782,
          18.264042,
          17.75603,
          18.077326,
          17.998123,
          18.13812,
          18.282602,
          17.76712,
          18.2647,
          18.077076,
          18.266447,
          18.028687,
          18.041101,
          17.862553,
          18.155294,
          17.64336
         ],
         "xaxis": "x",
         "y": [
          7.2313156,
          7.3369837,
          7.220454,
          7.518993,
          7.0610857,
          6.7413697,
          7.1751294,
          8.270609,
          6.81318,
          7.4633904,
          7.3731456,
          7.6698875,
          7.3660636,
          7.4234085,
          7.307682,
          7.098912,
          7.6646013,
          7.2407312,
          7.310963,
          7.2086325,
          7.3988514,
          7.1542907,
          7.4350853,
          7.3016205,
          7.8260407
         ],
         "yaxis": "y"
        },
        {
         "customdata": [
          [
           "Cervical Myelopathy",
           12,
           "pub.1079276563",
           ""
          ],
          [
           "Cervical Myelopathy",
           12,
           "pub.1071098440",
           ""
          ],
          [
           "Cervical Myelopathy",
           12,
           "pub.1071095985",
           ""
          ],
          [
           "Cervical Myelopathy",
           12,
           "pub.1071076802",
           ""
          ],
          [
           "Cervical Myelopathy",
           12,
           "pub.1068890012",
           ""
          ],
          [
           "Cervical Myelopathy",
           12,
           "pub.1045861847",
           ""
          ],
          [
           "Cervical Myelopathy",
           12,
           "pub.1040115320",
           ""
          ],
          [
           "Cervical Myelopathy",
           12,
           "pub.1038222550",
           ""
          ],
          [
           "Cervical Myelopathy",
           12,
           "pub.1036336702",
           ""
          ],
          [
           "Cervical Myelopathy",
           12,
           "pub.1036299701",
           ""
          ],
          [
           "Cervical Myelopathy",
           12,
           "pub.1035509307",
           ""
          ],
          [
           "Cervical Myelopathy",
           12,
           "pub.1034074696",
           ""
          ],
          [
           "Cervical Myelopathy",
           12,
           "pub.1028420740",
           ""
          ],
          [
           "Cervical Myelopathy",
           12,
           "pub.1024110809",
           ""
          ],
          [
           "Cervical Myelopathy",
           12,
           "pub.1014052117",
           ""
          ],
          [
           "Cervical Myelopathy",
           12,
           "pub.1003399679",
           ""
          ],
          [
           "Cervical Myelopathy",
           12,
           "pub.1080091058",
           ""
          ],
          [
           "Cervical Myelopathy",
           12,
           "pub.1071103439",
           ""
          ],
          [
           "Cervical Myelopathy",
           12,
           "pub.1071103060",
           ""
          ],
          [
           "Cervical Myelopathy",
           12,
           "pub.1071097586",
           ""
          ],
          [
           "Cervical Myelopathy",
           12,
           "pub.1071097240",
           ""
          ],
          [
           "Cervical Myelopathy",
           12,
           "pub.1071088479",
           ""
          ],
          [
           "Cervical Myelopathy",
           12,
           "pub.1068893336",
           ""
          ],
          [
           "Cervical Myelopathy",
           12,
           "pub.1059443086",
           ""
          ],
          [
           "Cervical Myelopathy",
           12,
           "pub.1059442903",
           ""
          ],
          [
           "Cervical Myelopathy",
           12,
           "pub.1050443276",
           ""
          ],
          [
           "Cervical Myelopathy",
           12,
           "pub.1049890557",
           ""
          ],
          [
           "Cervical Myelopathy",
           12,
           "pub.1043047033",
           ""
          ],
          [
           "Cervical Myelopathy",
           12,
           "pub.1041327125",
           ""
          ],
          [
           "Cervical Myelopathy",
           12,
           "pub.1039231588",
           ""
          ],
          [
           "Cervical Myelopathy",
           12,
           "pub.1038098923",
           ""
          ],
          [
           "Cervical Myelopathy",
           12,
           "pub.1037790804",
           ""
          ],
          [
           "Cervical Myelopathy",
           12,
           "pub.1037654624",
           ""
          ],
          [
           "Cervical Myelopathy",
           12,
           "pub.1034944004",
           ""
          ],
          [
           "Cervical Myelopathy",
           12,
           "pub.1028542573",
           ""
          ],
          [
           "Cervical Myelopathy",
           12,
           "pub.1023278334",
           ""
          ],
          [
           "Cervical Myelopathy",
           12,
           "pub.1017401652",
           ""
          ],
          [
           "Cervical Myelopathy",
           12,
           "pub.1016889944",
           ""
          ],
          [
           "Cervical Myelopathy",
           12,
           "pub.1015407573",
           ""
          ],
          [
           "Cervical Myelopathy",
           12,
           "pub.1007826013",
           ""
          ],
          [
           "Cervical Myelopathy",
           12,
           "pub.1071103618",
           ""
          ],
          [
           "Cervical Myelopathy",
           12,
           "pub.1071103239",
           ""
          ],
          [
           "Cervical Myelopathy",
           12,
           "pub.1068893080",
           ""
          ],
          [
           "Cervical Myelopathy",
           12,
           "pub.1053723341",
           ""
          ],
          [
           "Cervical Myelopathy",
           12,
           "pub.1021857143",
           ""
          ],
          [
           "Cervical Myelopathy",
           12,
           "pub.1020803753",
           ""
          ],
          [
           "Cervical Myelopathy",
           12,
           "pub.1009748592",
           ""
          ]
         ],
         "hovertemplate": "Topic=%{customdata[0]}<br>x=%{x}<br>y=%{y}<br>cluster=%{customdata[1]}<br>pub_id=%{customdata[2]}<br>survey_group=%{customdata[3]}<extra></extra>",
         "legendgroup": "Cervical Myelopathy",
         "marker": {
          "color": "rgb(147,120,96)",
          "opacity": 0.9,
          "symbol": "circle"
         },
         "mode": "markers",
         "name": "Cervical Myelopathy",
         "orientation": "v",
         "showlegend": true,
         "type": "scatter",
         "x": [
          -0.77010876,
          -0.904847,
          -0.76914835,
          -1.212775,
          -0.90396374,
          -1.004428,
          -0.67323846,
          -0.061855316,
          -0.38173527,
          -1.015117,
          -0.34459892,
          -1.1424078,
          -0.43523085,
          -1.2041172,
          -1.169264,
          -0.2561516,
          -0.8629784,
          -0.10188488,
          -0.91998905,
          -0.7600317,
          -0.64771795,
          -1.1161216,
          -1.1985503,
          -1.1335037,
          -1.0857099,
          -0.1220709,
          -0.8942697,
          -1.1249286,
          -0.79746485,
          -0.7358046,
          -0.11450781,
          -0.6162404,
          -0.144629,
          -0.41410646,
          -0.83383954,
          -0.3388228,
          -0.9343185,
          -1.1615161,
          -1.0583316,
          -1.16253,
          -0.37588504,
          -0.34219545,
          -0.97461873,
          -1.0499991,
          -0.74523157,
          -0.8820259,
          -0.47533226
         ],
         "xaxis": "x",
         "y": [
          12.269863,
          11.595974,
          11.78451,
          11.467776,
          11.316816,
          12.0646715,
          11.712904,
          11.470387,
          11.623563,
          11.292598,
          11.599403,
          11.719904,
          11.500111,
          11.674798,
          11.385396,
          11.436688,
          11.833478,
          11.569501,
          11.409586,
          11.9127,
          11.15664,
          12.264612,
          11.623714,
          12.298414,
          12.153735,
          11.493745,
          11.861591,
          11.537915,
          11.2420225,
          12.160643,
          11.500137,
          11.768137,
          11.557225,
          11.512453,
          12.180677,
          11.673911,
          12.14482,
          11.574822,
          12.282768,
          11.7254505,
          11.56034,
          11.374371,
          11.662765,
          11.918522,
          12.047292,
          12.312874,
          11.56071
         ],
         "yaxis": "y"
        },
        {
         "customdata": [
          [
           "Resilience in Business and management",
           16,
           "pub.1075056726",
           ""
          ],
          [
           "Resilience in Business and management",
           16,
           "pub.1073407503",
           ""
          ],
          [
           "Resilience in Business and management",
           16,
           "pub.1072894681",
           ""
          ],
          [
           "Resilience in Business and management",
           16,
           "pub.1069908660",
           ""
          ],
          [
           "Resilience in Business and management",
           16,
           "pub.1047959878",
           ""
          ],
          [
           "Resilience in Business and management",
           16,
           "pub.1043814808",
           ""
          ],
          [
           "Resilience in Business and management",
           16,
           "pub.1031829691",
           ""
          ],
          [
           "Resilience in Business and management",
           16,
           "pub.1030632837",
           ""
          ],
          [
           "Resilience in Business and management",
           16,
           "pub.1018062843",
           ""
          ],
          [
           "Resilience in Business and management",
           16,
           "pub.1016764583",
           ""
          ],
          [
           "Resilience in Business and management",
           16,
           "pub.1013827626",
           ""
          ],
          [
           "Resilience in Business and management",
           16,
           "pub.1008687306",
           ""
          ],
          [
           "Resilience in Business and management",
           16,
           "pub.1075345922",
           ""
          ],
          [
           "Resilience in Business and management",
           16,
           "pub.1072896311",
           ""
          ],
          [
           "Resilience in Business and management",
           16,
           "pub.1070196019",
           ""
          ],
          [
           "Resilience in Business and management",
           16,
           "pub.1069908041",
           ""
          ],
          [
           "Resilience in Business and management",
           16,
           "pub.1041282031",
           ""
          ],
          [
           "Resilience in Business and management",
           16,
           "pub.1036458898",
           ""
          ],
          [
           "Resilience in Business and management",
           16,
           "pub.1069908683",
           ""
          ],
          [
           "Resilience in Business and management",
           16,
           "pub.1069907901",
           ""
          ],
          [
           "Resilience in Business and management",
           16,
           "pub.1048916231",
           ""
          ],
          [
           "Resilience in Business and management",
           16,
           "pub.1034737787",
           ""
          ],
          [
           "Resilience in Business and management",
           16,
           "pub.1032563790",
           ""
          ],
          [
           "Resilience in Business and management",
           16,
           "pub.1031821349",
           ""
          ],
          [
           "Resilience in Business and management",
           16,
           "pub.1031594587",
           ""
          ],
          [
           "Resilience in Business and management",
           16,
           "pub.1030211703",
           ""
          ],
          [
           "Resilience in Business and management",
           16,
           "pub.1020050164",
           ""
          ]
         ],
         "hovertemplate": "Topic=%{customdata[0]}<br>x=%{x}<br>y=%{y}<br>cluster=%{customdata[1]}<br>pub_id=%{customdata[2]}<br>survey_group=%{customdata[3]}<extra></extra>",
         "legendgroup": "Resilience in Business and management",
         "marker": {
          "color": "rgb(218,139,195)",
          "opacity": 0.9,
          "symbol": "circle"
         },
         "mode": "markers",
         "name": "Resilience in Business and management",
         "orientation": "v",
         "showlegend": true,
         "type": "scatter",
         "x": [
          7.112594,
          7.012884,
          7.375927,
          6.983176,
          6.8190193,
          7.496641,
          6.90119,
          7.538299,
          7.0503755,
          7.03905,
          6.907751,
          6.921123,
          7.087882,
          7.4241457,
          6.8319354,
          7.06003,
          7.5286717,
          7.513218,
          7.0677752,
          7.2358665,
          7.503507,
          7.111337,
          7.4373627,
          7.502869,
          6.9784184,
          7.44771,
          6.9915876
         ],
         "xaxis": "x",
         "y": [
          8.269824,
          8.68781,
          8.97836,
          8.9465885,
          7.8804674,
          8.8912525,
          7.82224,
          8.822941,
          7.6620646,
          7.9004936,
          8.032131,
          7.968554,
          8.194479,
          8.898088,
          8.451835,
          8.292057,
          8.895942,
          8.794973,
          9.428822,
          9.078108,
          8.764125,
          8.412234,
          8.824955,
          8.866006,
          8.129127,
          8.74643,
          7.848112
         ],
         "yaxis": "y"
        },
        {
         "customdata": [
          [
           "Business Process Meta Models",
           19,
           "pub.1067438500",
           ""
          ],
          [
           "Business Process Meta Models",
           19,
           "pub.1053416319",
           ""
          ],
          [
           "Business Process Meta Models",
           19,
           "pub.1051544866",
           ""
          ],
          [
           "Business Process Meta Models",
           19,
           "pub.1010483144",
           ""
          ],
          [
           "Business Process Meta Models",
           19,
           "pub.1009455055",
           ""
          ],
          [
           "Business Process Meta Models",
           19,
           "pub.1006163752",
           ""
          ],
          [
           "Business Process Meta Models",
           13,
           "pub.1099323931",
           ""
          ],
          [
           "Business Process Meta Models",
           19,
           "pub.1095792619",
           ""
          ],
          [
           "Business Process Meta Models",
           19,
           "pub.1095376931",
           ""
          ],
          [
           "Business Process Meta Models",
           19,
           "pub.1084731217",
           ""
          ],
          [
           "Business Process Meta Models",
           19,
           "pub.1067438521",
           ""
          ],
          [
           "Business Process Meta Models",
           19,
           "pub.1052895230",
           ""
          ],
          [
           "Business Process Meta Models",
           19,
           "pub.1047113209",
           ""
          ],
          [
           "Business Process Meta Models",
           19,
           "pub.1036461743",
           ""
          ],
          [
           "Business Process Meta Models",
           19,
           "pub.1025884987",
           ""
          ],
          [
           "Business Process Meta Models",
           19,
           "pub.1016839878",
           ""
          ],
          [
           "Business Process Meta Models",
           19,
           "pub.1008876262",
           ""
          ],
          [
           "Business Process Meta Models",
           19,
           "pub.1008663385",
           ""
          ],
          [
           "Business Process Meta Models",
           19,
           "pub.1006491994",
           ""
          ],
          [
           "Business Process Meta Models",
           19,
           "pub.1110301891",
           ""
          ],
          [
           "Business Process Meta Models",
           19,
           "pub.1099323867",
           ""
          ],
          [
           "Business Process Meta Models",
           19,
           "pub.1095475458",
           ""
          ],
          [
           "Business Process Meta Models",
           19,
           "pub.1093446551",
           ""
          ],
          [
           "Business Process Meta Models",
           19,
           "pub.1093214085",
           ""
          ],
          [
           "Business Process Meta Models",
           19,
           "pub.1086073267",
           ""
          ],
          [
           "Business Process Meta Models",
           19,
           "pub.1013367507",
           ""
          ]
         ],
         "hovertemplate": "Topic=%{customdata[0]}<br>x=%{x}<br>y=%{y}<br>cluster=%{customdata[1]}<br>pub_id=%{customdata[2]}<br>survey_group=%{customdata[3]}<extra></extra>",
         "legendgroup": "Business Process Meta Models",
         "marker": {
          "color": "rgb(140,140,140)",
          "opacity": 0.9,
          "symbol": "x"
         },
         "mode": "markers",
         "name": "Business Process Meta Models",
         "orientation": "v",
         "showlegend": true,
         "type": "scatter",
         "x": [
          7.822191,
          8.415867,
          7.9155083,
          8.065961,
          8.26871,
          7.899144,
          7.05703,
          8.3678875,
          8.268466,
          8.216238,
          7.215766,
          7.6522975,
          8.358759,
          8.106856,
          7.7368026,
          7.9936337,
          8.400115,
          8.06599,
          7.3172383,
          8.389082,
          7.6644235,
          8.027027,
          7.8228664,
          8.155236,
          8.126437,
          8.495586
         ],
         "xaxis": "x",
         "y": [
          10.965443,
          11.1605015,
          11.141895,
          11.5181,
          11.400885,
          11.193314,
          10.715981,
          11.15725,
          11.225368,
          11.260931,
          10.533683,
          11.777685,
          11.297158,
          11.288878,
          11.442785,
          11.540824,
          11.438511,
          11.143164,
          11.619161,
          11.49126,
          11.289713,
          11.506684,
          11.655239,
          11.072651,
          11.197443,
          11.472206
         ],
         "yaxis": "y"
        },
        {
         "customdata": [
          [
           "Nanoparticles",
           10,
           "pub.1064567937",
           ""
          ],
          [
           "Nanoparticles",
           10,
           "pub.1056143784",
           ""
          ],
          [
           "Nanoparticles",
           10,
           "pub.1055504074",
           ""
          ],
          [
           "Nanoparticles",
           10,
           "pub.1047132329",
           ""
          ],
          [
           "Nanoparticles",
           10,
           "pub.1044430846",
           ""
          ],
          [
           "Nanoparticles",
           10,
           "pub.1040302077",
           ""
          ],
          [
           "Nanoparticles",
           10,
           "pub.1039713086",
           ""
          ],
          [
           "Nanoparticles",
           10,
           "pub.1039641194",
           ""
          ],
          [
           "Nanoparticles",
           10,
           "pub.1035474832",
           ""
          ],
          [
           "Nanoparticles",
           10,
           "pub.1034007004",
           ""
          ],
          [
           "Nanoparticles",
           10,
           "pub.1028529625",
           ""
          ],
          [
           "Nanoparticles",
           10,
           "pub.1027828956",
           ""
          ],
          [
           "Nanoparticles",
           10,
           "pub.1026661243",
           ""
          ],
          [
           "Nanoparticles",
           10,
           "pub.1017225012",
           ""
          ],
          [
           "Nanoparticles",
           10,
           "pub.1009246618",
           ""
          ],
          [
           "Nanoparticles",
           10,
           "pub.1005792673",
           ""
          ],
          [
           "Nanoparticles",
           10,
           "pub.1062447105",
           ""
          ],
          [
           "Nanoparticles",
           10,
           "pub.1056221800",
           ""
          ],
          [
           "Nanoparticles",
           10,
           "pub.1051411109",
           ""
          ],
          [
           "Nanoparticles",
           10,
           "pub.1050276749",
           ""
          ],
          [
           "Nanoparticles",
           10,
           "pub.1048709708",
           ""
          ],
          [
           "Nanoparticles",
           10,
           "pub.1046826509",
           ""
          ],
          [
           "Nanoparticles",
           10,
           "pub.1044670756",
           ""
          ],
          [
           "Nanoparticles",
           10,
           "pub.1041163416",
           ""
          ],
          [
           "Nanoparticles",
           10,
           "pub.1040077610",
           ""
          ],
          [
           "Nanoparticles",
           10,
           "pub.1039601245",
           ""
          ],
          [
           "Nanoparticles",
           10,
           "pub.1036002565",
           ""
          ],
          [
           "Nanoparticles",
           10,
           "pub.1033416172",
           ""
          ],
          [
           "Nanoparticles",
           10,
           "pub.1031075757",
           ""
          ],
          [
           "Nanoparticles",
           10,
           "pub.1029482017",
           ""
          ],
          [
           "Nanoparticles",
           10,
           "pub.1021666873",
           ""
          ],
          [
           "Nanoparticles",
           10,
           "pub.1016714991",
           ""
          ],
          [
           "Nanoparticles",
           10,
           "pub.1015833771",
           ""
          ],
          [
           "Nanoparticles",
           10,
           "pub.1013655144",
           ""
          ],
          [
           "Nanoparticles",
           10,
           "pub.1008013568",
           ""
          ],
          [
           "Nanoparticles",
           10,
           "pub.1052990623",
           ""
          ],
          [
           "Nanoparticles",
           10,
           "pub.1050579616",
           ""
          ],
          [
           "Nanoparticles",
           10,
           "pub.1041771334",
           ""
          ],
          [
           "Nanoparticles",
           10,
           "pub.1038778560",
           ""
          ],
          [
           "Nanoparticles",
           10,
           "pub.1035909146",
           ""
          ],
          [
           "Nanoparticles",
           10,
           "pub.1035623214",
           ""
          ],
          [
           "Nanoparticles",
           10,
           "pub.1035387745",
           ""
          ],
          [
           "Nanoparticles",
           10,
           "pub.1028058184",
           ""
          ],
          [
           "Nanoparticles",
           10,
           "pub.1025760895",
           ""
          ],
          [
           "Nanoparticles",
           10,
           "pub.1024367203",
           ""
          ],
          [
           "Nanoparticles",
           10,
           "pub.1020673706",
           ""
          ],
          [
           "Nanoparticles",
           10,
           "pub.1020647724",
           ""
          ],
          [
           "Nanoparticles",
           10,
           "pub.1005629396",
           ""
          ],
          [
           "Nanoparticles",
           10,
           "pub.1002703153",
           ""
          ],
          [
           "Nanoparticles",
           10,
           "pub.1001343412",
           ""
          ]
         ],
         "hovertemplate": "Topic=%{customdata[0]}<br>x=%{x}<br>y=%{y}<br>cluster=%{customdata[1]}<br>pub_id=%{customdata[2]}<br>survey_group=%{customdata[3]}<extra></extra>",
         "legendgroup": "Nanoparticles",
         "marker": {
          "color": "rgb(204,185,116)",
          "opacity": 0.9,
          "symbol": "circle"
         },
         "mode": "markers",
         "name": "Nanoparticles",
         "orientation": "v",
         "showlegend": true,
         "type": "scatter",
         "x": [
          0.98290086,
          1.3012689,
          0.46249187,
          0.6371105,
          1.0512791,
          1.3623178,
          0.9143503,
          1.1559995,
          0.9511101,
          0.3971103,
          0.5138034,
          0.63250947,
          0.81217295,
          0.6334056,
          1.0742011,
          0.57820773,
          1.1787729,
          0.688164,
          1.1613057,
          1.5317186,
          0.73243403,
          0.5018254,
          0.7629015,
          1.378048,
          0.99276584,
          1.0418814,
          1.0237039,
          1.2768244,
          1.4785454,
          0.5548927,
          0.74671835,
          1.4567275,
          1.3677738,
          1.0733798,
          0.54689986,
          0.64733434,
          0.89418435,
          0.60340863,
          0.85576403,
          0.83181906,
          0.9467246,
          0.60651386,
          1.376815,
          1.1773139,
          0.6865983,
          0.6581584,
          0.89240116,
          0.8226967,
          0.9226419,
          0.6578182
         ],
         "xaxis": "x",
         "y": [
          -2.0262718,
          -1.4551996,
          -1.6111504,
          -1.5715318,
          -1.360722,
          -1.8985506,
          -2.1342032,
          -2.0547373,
          -2.338316,
          -1.5534422,
          -1.795673,
          -1.4824227,
          -1.5694156,
          -1.7038188,
          -2.3027883,
          -1.4198027,
          -1.9610727,
          -1.6464373,
          -2.2066891,
          -1.7530645,
          -1.3049097,
          -1.9426286,
          -1.1454538,
          -1.7053789,
          -1.6690682,
          -2.3427002,
          -2.356628,
          -1.5039815,
          -1.8923308,
          -1.2460327,
          -1.876094,
          -1.8459145,
          -2.042634,
          -1.7900658,
          -1.1565155,
          -1.3594049,
          -1.9503627,
          -1.1974013,
          -2.0836327,
          -2.0895975,
          -1.3969395,
          -1.9488174,
          -2.1146235,
          -1.2812973,
          -2.0378995,
          -1.8653629,
          -2.353788,
          -1.4578724,
          -1.6091967,
          -1.7116721
         ],
         "yaxis": "y"
        },
        {
         "customdata": [
          [
           "Tourism Growth Nexus",
           6,
           "pub.1053750775",
           ""
          ],
          [
           "Tourism Growth Nexus",
           6,
           "pub.1047663892",
           ""
          ],
          [
           "Tourism Growth Nexus",
           6,
           "pub.1035901982",
           ""
          ],
          [
           "Tourism Growth Nexus",
           6,
           "pub.1033376226",
           ""
          ],
          [
           "Tourism Growth Nexus",
           6,
           "pub.1032490977",
           ""
          ],
          [
           "Tourism Growth Nexus",
           6,
           "pub.1017098340",
           ""
          ],
          [
           "Tourism Growth Nexus",
           6,
           "pub.1013412296",
           ""
          ],
          [
           "Tourism Growth Nexus",
           6,
           "pub.1011854038",
           ""
          ],
          [
           "Tourism Growth Nexus",
           6,
           "pub.1007878277",
           ""
          ],
          [
           "Tourism Growth Nexus",
           6,
           "pub.1004299966",
           ""
          ],
          [
           "Tourism Growth Nexus",
           6,
           "pub.1003840912",
           ""
          ],
          [
           "Tourism Growth Nexus",
           6,
           "pub.1001562704",
           ""
          ],
          [
           "Tourism Growth Nexus",
           6,
           "pub.1072794260",
           ""
          ],
          [
           "Tourism Growth Nexus",
           6,
           "pub.1053802942",
           ""
          ],
          [
           "Tourism Growth Nexus",
           6,
           "pub.1034653502",
           ""
          ],
          [
           "Tourism Growth Nexus",
           6,
           "pub.1029520182",
           ""
          ],
          [
           "Tourism Growth Nexus",
           6,
           "pub.1013871876",
           ""
          ],
          [
           "Tourism Growth Nexus",
           6,
           "pub.1007170077",
           ""
          ],
          [
           "Tourism Growth Nexus",
           6,
           "pub.1004840356",
           ""
          ],
          [
           "Tourism Growth Nexus",
           6,
           "pub.1000810498",
           ""
          ],
          [
           "Tourism Growth Nexus",
           6,
           "pub.1090346357",
           ""
          ],
          [
           "Tourism Growth Nexus",
           6,
           "pub.1072794279",
           ""
          ],
          [
           "Tourism Growth Nexus",
           6,
           "pub.1049141736",
           ""
          ],
          [
           "Tourism Growth Nexus",
           6,
           "pub.1029979518",
           ""
          ],
          [
           "Tourism Growth Nexus",
           6,
           "pub.1022720888",
           ""
          ]
         ],
         "hovertemplate": "Topic=%{customdata[0]}<br>x=%{x}<br>y=%{y}<br>cluster=%{customdata[1]}<br>pub_id=%{customdata[2]}<br>survey_group=%{customdata[3]}<extra></extra>",
         "legendgroup": "Tourism Growth Nexus",
         "marker": {
          "color": "rgb(100,181,205)",
          "opacity": 0.9,
          "symbol": "circle"
         },
         "mode": "markers",
         "name": "Tourism Growth Nexus",
         "orientation": "v",
         "showlegend": true,
         "type": "scatter",
         "x": [
          13.479179,
          13.372396,
          13.352828,
          13.28563,
          13.218099,
          13.446668,
          13.230855,
          13.230904,
          13.173617,
          13.161999,
          13.383443,
          13.334544,
          13.180176,
          13.355861,
          13.230513,
          14.056218,
          13.242614,
          13.306305,
          13.160539,
          13.188251,
          13.220494,
          13.380393,
          13.281022,
          13.366165,
          13.274987
         ],
         "xaxis": "x",
         "y": [
          -9.559427,
          -9.674228,
          -9.496954,
          -9.677502,
          -9.406094,
          -9.659797,
          -9.231445,
          -9.557199,
          -9.317602,
          -9.182298,
          -9.750846,
          -9.519693,
          -9.53298,
          -9.45659,
          -9.406188,
          -7.8951373,
          -9.274579,
          -9.3114805,
          -9.362698,
          -9.596187,
          -9.652747,
          -9.506339,
          -9.272936,
          -9.488202,
          -9.48848
         ],
         "yaxis": "y"
        },
        {
         "customdata": [
          [
           "Energy Growth Nexus",
           6,
           "pub.1052820957",
           ""
          ],
          [
           "Energy Growth Nexus",
           6,
           "pub.1051802627",
           ""
          ],
          [
           "Energy Growth Nexus",
           6,
           "pub.1042544661",
           ""
          ],
          [
           "Energy Growth Nexus",
           6,
           "pub.1042017662",
           ""
          ],
          [
           "Energy Growth Nexus",
           6,
           "pub.1031321996",
           ""
          ],
          [
           "Energy Growth Nexus",
           6,
           "pub.1024937016",
           ""
          ],
          [
           "Energy Growth Nexus",
           6,
           "pub.1013831878",
           ""
          ],
          [
           "Energy Growth Nexus",
           6,
           "pub.1009749897",
           ""
          ],
          [
           "Energy Growth Nexus",
           6,
           "pub.1006191975",
           ""
          ],
          [
           "Energy Growth Nexus",
           6,
           "pub.1053441851",
           ""
          ],
          [
           "Energy Growth Nexus",
           6,
           "pub.1048730269",
           ""
          ],
          [
           "Energy Growth Nexus",
           6,
           "pub.1047256779",
           ""
          ],
          [
           "Energy Growth Nexus",
           6,
           "pub.1041338787",
           ""
          ],
          [
           "Energy Growth Nexus",
           6,
           "pub.1032217726",
           ""
          ],
          [
           "Energy Growth Nexus",
           6,
           "pub.1022049865",
           ""
          ],
          [
           "Energy Growth Nexus",
           6,
           "pub.1021980170",
           ""
          ],
          [
           "Energy Growth Nexus",
           6,
           "pub.1009651790",
           ""
          ],
          [
           "Energy Growth Nexus",
           6,
           "pub.1009389919",
           ""
          ],
          [
           "Energy Growth Nexus",
           6,
           "pub.1006882307",
           ""
          ],
          [
           "Energy Growth Nexus",
           6,
           "pub.1005732591",
           ""
          ],
          [
           "Energy Growth Nexus",
           6,
           "pub.1123961798",
           ""
          ],
          [
           "Energy Growth Nexus",
           6,
           "pub.1052542598",
           ""
          ],
          [
           "Energy Growth Nexus",
           6,
           "pub.1050136415",
           ""
          ],
          [
           "Energy Growth Nexus",
           6,
           "pub.1045412034",
           ""
          ],
          [
           "Energy Growth Nexus",
           6,
           "pub.1040160107",
           ""
          ],
          [
           "Energy Growth Nexus",
           6,
           "pub.1036973953",
           ""
          ],
          [
           "Energy Growth Nexus",
           6,
           "pub.1002720309",
           ""
          ]
         ],
         "hovertemplate": "Topic=%{customdata[0]}<br>x=%{x}<br>y=%{y}<br>cluster=%{customdata[1]}<br>pub_id=%{customdata[2]}<br>survey_group=%{customdata[3]}<extra></extra>",
         "legendgroup": "Energy Growth Nexus",
         "marker": {
          "color": "rgb(76,114,176)",
          "opacity": 0.9,
          "symbol": "circle"
         },
         "mode": "markers",
         "name": "Energy Growth Nexus",
         "orientation": "v",
         "showlegend": true,
         "type": "scatter",
         "x": [
          14.418163,
          14.47455,
          13.852593,
          14.613809,
          14.04586,
          13.890538,
          13.933369,
          13.921268,
          14.42865,
          14.324878,
          14.523646,
          14.058898,
          14.418399,
          14.348538,
          14.67995,
          14.704705,
          14.415436,
          14.303111,
          14.190179,
          14.562795,
          14.515063,
          14.798536,
          14.416291,
          14.505502,
          14.491022,
          13.891959,
          14.691806
         ],
         "xaxis": "x",
         "y": [
          -8.16713,
          -7.7986884,
          -7.9181695,
          -7.609926,
          -7.655433,
          -7.85326,
          -7.7241316,
          -7.8069477,
          -7.5223446,
          -7.7776194,
          -7.4015884,
          -7.7417464,
          -7.5470037,
          -7.610072,
          -7.4571133,
          -7.5417852,
          -7.617476,
          -7.71025,
          -7.552345,
          -7.746464,
          -7.828412,
          -7.83529,
          -7.7062826,
          -7.6211133,
          -7.655176,
          -7.794976,
          -7.9837637
         ],
         "yaxis": "y"
        },
        {
         "customdata": [
          [
           "Synthetic Biology",
           0,
           "pub.1052700485",
           ""
          ],
          [
           "Synthetic Biology",
           0,
           "pub.1037881716",
           ""
          ],
          [
           "Synthetic Biology",
           0,
           "pub.1025786828",
           ""
          ],
          [
           "Synthetic Biology",
           0,
           "pub.1024208323",
           ""
          ],
          [
           "Synthetic Biology",
           3,
           "pub.1022297654",
           ""
          ],
          [
           "Synthetic Biology",
           0,
           "pub.1022279877",
           ""
          ],
          [
           "Synthetic Biology",
           0,
           "pub.1021275892",
           ""
          ],
          [
           "Synthetic Biology",
           0,
           "pub.1020751277",
           ""
          ],
          [
           "Synthetic Biology",
           0,
           "pub.1014359908",
           ""
          ],
          [
           "Synthetic Biology",
           0,
           "pub.1010407598",
           ""
          ],
          [
           "Synthetic Biology",
           0,
           "pub.1048602129",
           ""
          ],
          [
           "Synthetic Biology",
           0,
           "pub.1046952734",
           ""
          ],
          [
           "Synthetic Biology",
           0,
           "pub.1033127471",
           ""
          ],
          [
           "Synthetic Biology",
           0,
           "pub.1028250908",
           ""
          ],
          [
           "Synthetic Biology",
           0,
           "pub.1026899122",
           ""
          ],
          [
           "Synthetic Biology",
           0,
           "pub.1021654569",
           ""
          ],
          [
           "Synthetic Biology",
           0,
           "pub.1009412636",
           ""
          ],
          [
           "Synthetic Biology",
           0,
           "pub.1009258787",
           ""
          ],
          [
           "Synthetic Biology",
           15,
           "pub.1006120611",
           ""
          ],
          [
           "Synthetic Biology",
           0,
           "pub.1067589570",
           ""
          ],
          [
           "Synthetic Biology",
           0,
           "pub.1042528786",
           ""
          ],
          [
           "Synthetic Biology",
           0,
           "pub.1036497140",
           ""
          ],
          [
           "Synthetic Biology",
           0,
           "pub.1036018285",
           ""
          ],
          [
           "Synthetic Biology",
           0,
           "pub.1035931199",
           ""
          ],
          [
           "Synthetic Biology",
           0,
           "pub.1028022455",
           ""
          ],
          [
           "Synthetic Biology",
           0,
           "pub.1016534270",
           ""
          ],
          [
           "Synthetic Biology",
           0,
           "pub.1004364700",
           ""
          ],
          [
           "Synthetic Biology",
           0,
           "pub.1002786107",
           ""
          ],
          [
           "Synthetic Biology",
           0,
           "pub.1001000963",
           ""
          ]
         ],
         "hovertemplate": "Topic=%{customdata[0]}<br>x=%{x}<br>y=%{y}<br>cluster=%{customdata[1]}<br>pub_id=%{customdata[2]}<br>survey_group=%{customdata[3]}<extra></extra>",
         "legendgroup": "Synthetic Biology",
         "marker": {
          "color": "rgb(221,132,82)",
          "opacity": 0.9,
          "symbol": "circle"
         },
         "mode": "markers",
         "name": "Synthetic Biology",
         "orientation": "v",
         "showlegend": true,
         "type": "scatter",
         "x": [
          2.7760365,
          2.5171297,
          3.0746355,
          2.8787532,
          3.2847562,
          2.821234,
          3.139855,
          2.7045016,
          2.5644796,
          2.5400472,
          2.7714925,
          3.125705,
          2.5504122,
          2.960583,
          2.9328818,
          2.5351055,
          3.0474744,
          2.6833973,
          3.091443,
          3.1506581,
          2.6339371,
          2.5410993,
          3.0213273,
          2.5245483,
          2.5507054,
          2.4801583,
          2.688503,
          2.4546285,
          2.662165
         ],
         "xaxis": "x",
         "y": [
          -4.5645843,
          -4.797391,
          -4.8861017,
          -4.408097,
          -3.8736353,
          -4.892981,
          -4.6945443,
          -4.836934,
          -4.353529,
          -4.767321,
          -5.005756,
          -4.776558,
          -5.0994015,
          -4.488691,
          -4.80454,
          -4.985364,
          -4.47355,
          -4.9352226,
          -3.9929602,
          -4.762525,
          -4.674857,
          -4.800499,
          -4.468317,
          -4.463318,
          -4.956401,
          -5.07137,
          -5.002408,
          -4.7135277,
          -4.9252195
         ],
         "yaxis": "y"
        },
        {
         "hoverinfo": "text",
         "marker": {
          "color": "black",
          "opacity": 0.9
         },
         "mode": "markers",
         "name": "Survey",
         "text": [
          "Survey - Robotic Arthroplasty",
          "Survey - Business Process Meta Models",
          "Survey - Crop Yield Prediction",
          "Survey - Cervical Myelopathy",
          "Survey - Multicore Performance Prediction",
          "Survey - Synthetic Biology",
          "Survey - Resilience in Business and management",
          "Survey - Perovskite Solar Cells Stability",
          "Survey - Green Warehousing",
          "Survey - Sustainable Biofuel Economy",
          "Survey - Drones in Agriculture",
          "Survey - Data Stream Processing Latency",
          "Survey - Internet of Things in Healthcare",
          "Survey - Cloud Migration",
          "Survey - AI on Edge Devices",
          "Survey - Tourism Growth Nexus",
          "Survey - Nanopharmaceuticals OR Nanonutraceuticals",
          "Survey - Software Process Line",
          "Survey - Soft Robotics",
          "Survey - Energy Growth Nexus"
         ],
         "type": "scatter",
         "x": [
          -4.130647,
          8.22006,
          19.653328,
          -0.43710354,
          13.262595,
          3.2000132,
          7.038622,
          10.1118555,
          7.1282344,
          6.137953,
          17.922,
          16.051596,
          14.138324,
          7.2918744,
          16.488995,
          13.652891,
          0.45915183,
          6.366195,
          2.6016965,
          14.644654
         ],
         "y": [
          -4.2969923,
          11.343754,
          5.8644853,
          11.911286,
          14.586904,
          -5.0485845,
          8.175804,
          2.7506893,
          6.760202,
          -2.8325744,
          7.482453,
          12.908703,
          9.696114,
          12.51612,
          9.288834,
          -9.26916,
          -1.2307237,
          12.194861,
          6.4997416,
          -7.600772
         ]
        }
       ],
       "layout": {
        "font": {
         "family": "Modern Computer"
        },
        "legend": {
         "font": {
          "size": 15
         },
         "orientation": "h",
         "title": {
          "text": ""
         },
         "tracegroupgap": 0,
         "y": -0.2
        },
        "margin": {
         "t": 60
        },
        "showlegend": true,
        "template": {
         "data": {
          "bar": [
           {
            "error_x": {
             "color": "rgb(36,36,36)"
            },
            "error_y": {
             "color": "rgb(36,36,36)"
            },
            "marker": {
             "line": {
              "color": "rgb(234,234,242)",
              "width": 0.5
             },
             "pattern": {
              "fillmode": "overlay",
              "size": 10,
              "solidity": 0.2
             }
            },
            "type": "bar"
           }
          ],
          "barpolar": [
           {
            "marker": {
             "line": {
              "color": "rgb(234,234,242)",
              "width": 0.5
             },
             "pattern": {
              "fillmode": "overlay",
              "size": 10,
              "solidity": 0.2
             }
            },
            "type": "barpolar"
           }
          ],
          "carpet": [
           {
            "aaxis": {
             "endlinecolor": "rgb(36,36,36)",
             "gridcolor": "white",
             "linecolor": "white",
             "minorgridcolor": "white",
             "startlinecolor": "rgb(36,36,36)"
            },
            "baxis": {
             "endlinecolor": "rgb(36,36,36)",
             "gridcolor": "white",
             "linecolor": "white",
             "minorgridcolor": "white",
             "startlinecolor": "rgb(36,36,36)"
            },
            "type": "carpet"
           }
          ],
          "choropleth": [
           {
            "colorbar": {
             "outlinewidth": 0,
             "tickcolor": "rgb(36,36,36)",
             "ticklen": 8,
             "ticks": "outside",
             "tickwidth": 2
            },
            "type": "choropleth"
           }
          ],
          "contour": [
           {
            "colorbar": {
             "outlinewidth": 0,
             "tickcolor": "rgb(36,36,36)",
             "ticklen": 8,
             "ticks": "outside",
             "tickwidth": 2
            },
            "colorscale": [
             [
              0,
              "rgb(2,4,25)"
             ],
             [
              0.06274509803921569,
              "rgb(24,15,41)"
             ],
             [
              0.12549019607843137,
              "rgb(47,23,57)"
             ],
             [
              0.18823529411764706,
              "rgb(71,28,72)"
             ],
             [
              0.25098039215686274,
              "rgb(97,30,82)"
             ],
             [
              0.3137254901960784,
              "rgb(123,30,89)"
             ],
             [
              0.3764705882352941,
              "rgb(150,27,91)"
             ],
             [
              0.4392156862745098,
              "rgb(177,22,88)"
             ],
             [
              0.5019607843137255,
              "rgb(203,26,79)"
             ],
             [
              0.5647058823529412,
              "rgb(223,47,67)"
             ],
             [
              0.6274509803921569,
              "rgb(236,76,61)"
             ],
             [
              0.6901960784313725,
              "rgb(242,107,73)"
             ],
             [
              0.7529411764705882,
              "rgb(244,135,95)"
             ],
             [
              0.8156862745098039,
              "rgb(245,162,122)"
             ],
             [
              0.8784313725490196,
              "rgb(246,188,153)"
             ],
             [
              0.9411764705882353,
              "rgb(247,212,187)"
             ],
             [
              1,
              "rgb(250,234,220)"
             ]
            ],
            "type": "contour"
           }
          ],
          "contourcarpet": [
           {
            "colorbar": {
             "outlinewidth": 0,
             "tickcolor": "rgb(36,36,36)",
             "ticklen": 8,
             "ticks": "outside",
             "tickwidth": 2
            },
            "type": "contourcarpet"
           }
          ],
          "heatmap": [
           {
            "colorbar": {
             "outlinewidth": 0,
             "tickcolor": "rgb(36,36,36)",
             "ticklen": 8,
             "ticks": "outside",
             "tickwidth": 2
            },
            "colorscale": [
             [
              0,
              "rgb(2,4,25)"
             ],
             [
              0.06274509803921569,
              "rgb(24,15,41)"
             ],
             [
              0.12549019607843137,
              "rgb(47,23,57)"
             ],
             [
              0.18823529411764706,
              "rgb(71,28,72)"
             ],
             [
              0.25098039215686274,
              "rgb(97,30,82)"
             ],
             [
              0.3137254901960784,
              "rgb(123,30,89)"
             ],
             [
              0.3764705882352941,
              "rgb(150,27,91)"
             ],
             [
              0.4392156862745098,
              "rgb(177,22,88)"
             ],
             [
              0.5019607843137255,
              "rgb(203,26,79)"
             ],
             [
              0.5647058823529412,
              "rgb(223,47,67)"
             ],
             [
              0.6274509803921569,
              "rgb(236,76,61)"
             ],
             [
              0.6901960784313725,
              "rgb(242,107,73)"
             ],
             [
              0.7529411764705882,
              "rgb(244,135,95)"
             ],
             [
              0.8156862745098039,
              "rgb(245,162,122)"
             ],
             [
              0.8784313725490196,
              "rgb(246,188,153)"
             ],
             [
              0.9411764705882353,
              "rgb(247,212,187)"
             ],
             [
              1,
              "rgb(250,234,220)"
             ]
            ],
            "type": "heatmap"
           }
          ],
          "heatmapgl": [
           {
            "colorbar": {
             "outlinewidth": 0,
             "tickcolor": "rgb(36,36,36)",
             "ticklen": 8,
             "ticks": "outside",
             "tickwidth": 2
            },
            "colorscale": [
             [
              0,
              "rgb(2,4,25)"
             ],
             [
              0.06274509803921569,
              "rgb(24,15,41)"
             ],
             [
              0.12549019607843137,
              "rgb(47,23,57)"
             ],
             [
              0.18823529411764706,
              "rgb(71,28,72)"
             ],
             [
              0.25098039215686274,
              "rgb(97,30,82)"
             ],
             [
              0.3137254901960784,
              "rgb(123,30,89)"
             ],
             [
              0.3764705882352941,
              "rgb(150,27,91)"
             ],
             [
              0.4392156862745098,
              "rgb(177,22,88)"
             ],
             [
              0.5019607843137255,
              "rgb(203,26,79)"
             ],
             [
              0.5647058823529412,
              "rgb(223,47,67)"
             ],
             [
              0.6274509803921569,
              "rgb(236,76,61)"
             ],
             [
              0.6901960784313725,
              "rgb(242,107,73)"
             ],
             [
              0.7529411764705882,
              "rgb(244,135,95)"
             ],
             [
              0.8156862745098039,
              "rgb(245,162,122)"
             ],
             [
              0.8784313725490196,
              "rgb(246,188,153)"
             ],
             [
              0.9411764705882353,
              "rgb(247,212,187)"
             ],
             [
              1,
              "rgb(250,234,220)"
             ]
            ],
            "type": "heatmapgl"
           }
          ],
          "histogram": [
           {
            "marker": {
             "pattern": {
              "fillmode": "overlay",
              "size": 10,
              "solidity": 0.2
             }
            },
            "type": "histogram"
           }
          ],
          "histogram2d": [
           {
            "colorbar": {
             "outlinewidth": 0,
             "tickcolor": "rgb(36,36,36)",
             "ticklen": 8,
             "ticks": "outside",
             "tickwidth": 2
            },
            "colorscale": [
             [
              0,
              "rgb(2,4,25)"
             ],
             [
              0.06274509803921569,
              "rgb(24,15,41)"
             ],
             [
              0.12549019607843137,
              "rgb(47,23,57)"
             ],
             [
              0.18823529411764706,
              "rgb(71,28,72)"
             ],
             [
              0.25098039215686274,
              "rgb(97,30,82)"
             ],
             [
              0.3137254901960784,
              "rgb(123,30,89)"
             ],
             [
              0.3764705882352941,
              "rgb(150,27,91)"
             ],
             [
              0.4392156862745098,
              "rgb(177,22,88)"
             ],
             [
              0.5019607843137255,
              "rgb(203,26,79)"
             ],
             [
              0.5647058823529412,
              "rgb(223,47,67)"
             ],
             [
              0.6274509803921569,
              "rgb(236,76,61)"
             ],
             [
              0.6901960784313725,
              "rgb(242,107,73)"
             ],
             [
              0.7529411764705882,
              "rgb(244,135,95)"
             ],
             [
              0.8156862745098039,
              "rgb(245,162,122)"
             ],
             [
              0.8784313725490196,
              "rgb(246,188,153)"
             ],
             [
              0.9411764705882353,
              "rgb(247,212,187)"
             ],
             [
              1,
              "rgb(250,234,220)"
             ]
            ],
            "type": "histogram2d"
           }
          ],
          "histogram2dcontour": [
           {
            "colorbar": {
             "outlinewidth": 0,
             "tickcolor": "rgb(36,36,36)",
             "ticklen": 8,
             "ticks": "outside",
             "tickwidth": 2
            },
            "colorscale": [
             [
              0,
              "rgb(2,4,25)"
             ],
             [
              0.06274509803921569,
              "rgb(24,15,41)"
             ],
             [
              0.12549019607843137,
              "rgb(47,23,57)"
             ],
             [
              0.18823529411764706,
              "rgb(71,28,72)"
             ],
             [
              0.25098039215686274,
              "rgb(97,30,82)"
             ],
             [
              0.3137254901960784,
              "rgb(123,30,89)"
             ],
             [
              0.3764705882352941,
              "rgb(150,27,91)"
             ],
             [
              0.4392156862745098,
              "rgb(177,22,88)"
             ],
             [
              0.5019607843137255,
              "rgb(203,26,79)"
             ],
             [
              0.5647058823529412,
              "rgb(223,47,67)"
             ],
             [
              0.6274509803921569,
              "rgb(236,76,61)"
             ],
             [
              0.6901960784313725,
              "rgb(242,107,73)"
             ],
             [
              0.7529411764705882,
              "rgb(244,135,95)"
             ],
             [
              0.8156862745098039,
              "rgb(245,162,122)"
             ],
             [
              0.8784313725490196,
              "rgb(246,188,153)"
             ],
             [
              0.9411764705882353,
              "rgb(247,212,187)"
             ],
             [
              1,
              "rgb(250,234,220)"
             ]
            ],
            "type": "histogram2dcontour"
           }
          ],
          "mesh3d": [
           {
            "colorbar": {
             "outlinewidth": 0,
             "tickcolor": "rgb(36,36,36)",
             "ticklen": 8,
             "ticks": "outside",
             "tickwidth": 2
            },
            "type": "mesh3d"
           }
          ],
          "parcoords": [
           {
            "line": {
             "colorbar": {
              "outlinewidth": 0,
              "tickcolor": "rgb(36,36,36)",
              "ticklen": 8,
              "ticks": "outside",
              "tickwidth": 2
             }
            },
            "type": "parcoords"
           }
          ],
          "pie": [
           {
            "automargin": true,
            "type": "pie"
           }
          ],
          "scatter": [
           {
            "fillpattern": {
             "fillmode": "overlay",
             "size": 10,
             "solidity": 0.2
            },
            "type": "scatter"
           }
          ],
          "scatter3d": [
           {
            "line": {
             "colorbar": {
              "outlinewidth": 0,
              "tickcolor": "rgb(36,36,36)",
              "ticklen": 8,
              "ticks": "outside",
              "tickwidth": 2
             }
            },
            "marker": {
             "colorbar": {
              "outlinewidth": 0,
              "tickcolor": "rgb(36,36,36)",
              "ticklen": 8,
              "ticks": "outside",
              "tickwidth": 2
             }
            },
            "type": "scatter3d"
           }
          ],
          "scattercarpet": [
           {
            "marker": {
             "colorbar": {
              "outlinewidth": 0,
              "tickcolor": "rgb(36,36,36)",
              "ticklen": 8,
              "ticks": "outside",
              "tickwidth": 2
             }
            },
            "type": "scattercarpet"
           }
          ],
          "scattergeo": [
           {
            "marker": {
             "colorbar": {
              "outlinewidth": 0,
              "tickcolor": "rgb(36,36,36)",
              "ticklen": 8,
              "ticks": "outside",
              "tickwidth": 2
             }
            },
            "type": "scattergeo"
           }
          ],
          "scattergl": [
           {
            "marker": {
             "colorbar": {
              "outlinewidth": 0,
              "tickcolor": "rgb(36,36,36)",
              "ticklen": 8,
              "ticks": "outside",
              "tickwidth": 2
             }
            },
            "type": "scattergl"
           }
          ],
          "scattermapbox": [
           {
            "marker": {
             "colorbar": {
              "outlinewidth": 0,
              "tickcolor": "rgb(36,36,36)",
              "ticklen": 8,
              "ticks": "outside",
              "tickwidth": 2
             }
            },
            "type": "scattermapbox"
           }
          ],
          "scatterpolar": [
           {
            "marker": {
             "colorbar": {
              "outlinewidth": 0,
              "tickcolor": "rgb(36,36,36)",
              "ticklen": 8,
              "ticks": "outside",
              "tickwidth": 2
             }
            },
            "type": "scatterpolar"
           }
          ],
          "scatterpolargl": [
           {
            "marker": {
             "colorbar": {
              "outlinewidth": 0,
              "tickcolor": "rgb(36,36,36)",
              "ticklen": 8,
              "ticks": "outside",
              "tickwidth": 2
             }
            },
            "type": "scatterpolargl"
           }
          ],
          "scatterternary": [
           {
            "marker": {
             "colorbar": {
              "outlinewidth": 0,
              "tickcolor": "rgb(36,36,36)",
              "ticklen": 8,
              "ticks": "outside",
              "tickwidth": 2
             }
            },
            "type": "scatterternary"
           }
          ],
          "surface": [
           {
            "colorbar": {
             "outlinewidth": 0,
             "tickcolor": "rgb(36,36,36)",
             "ticklen": 8,
             "ticks": "outside",
             "tickwidth": 2
            },
            "colorscale": [
             [
              0,
              "rgb(2,4,25)"
             ],
             [
              0.06274509803921569,
              "rgb(24,15,41)"
             ],
             [
              0.12549019607843137,
              "rgb(47,23,57)"
             ],
             [
              0.18823529411764706,
              "rgb(71,28,72)"
             ],
             [
              0.25098039215686274,
              "rgb(97,30,82)"
             ],
             [
              0.3137254901960784,
              "rgb(123,30,89)"
             ],
             [
              0.3764705882352941,
              "rgb(150,27,91)"
             ],
             [
              0.4392156862745098,
              "rgb(177,22,88)"
             ],
             [
              0.5019607843137255,
              "rgb(203,26,79)"
             ],
             [
              0.5647058823529412,
              "rgb(223,47,67)"
             ],
             [
              0.6274509803921569,
              "rgb(236,76,61)"
             ],
             [
              0.6901960784313725,
              "rgb(242,107,73)"
             ],
             [
              0.7529411764705882,
              "rgb(244,135,95)"
             ],
             [
              0.8156862745098039,
              "rgb(245,162,122)"
             ],
             [
              0.8784313725490196,
              "rgb(246,188,153)"
             ],
             [
              0.9411764705882353,
              "rgb(247,212,187)"
             ],
             [
              1,
              "rgb(250,234,220)"
             ]
            ],
            "type": "surface"
           }
          ],
          "table": [
           {
            "cells": {
             "fill": {
              "color": "rgb(231,231,240)"
             },
             "line": {
              "color": "white"
             }
            },
            "header": {
             "fill": {
              "color": "rgb(183,183,191)"
             },
             "line": {
              "color": "white"
             }
            },
            "type": "table"
           }
          ]
         },
         "layout": {
          "annotationdefaults": {
           "arrowcolor": "rgb(67,103,167)"
          },
          "autotypenumbers": "strict",
          "coloraxis": {
           "colorbar": {
            "outlinewidth": 0,
            "tickcolor": "rgb(36,36,36)",
            "ticklen": 8,
            "ticks": "outside",
            "tickwidth": 2
           }
          },
          "colorscale": {
           "sequential": [
            [
             0,
             "rgb(2,4,25)"
            ],
            [
             0.06274509803921569,
             "rgb(24,15,41)"
            ],
            [
             0.12549019607843137,
             "rgb(47,23,57)"
            ],
            [
             0.18823529411764706,
             "rgb(71,28,72)"
            ],
            [
             0.25098039215686274,
             "rgb(97,30,82)"
            ],
            [
             0.3137254901960784,
             "rgb(123,30,89)"
            ],
            [
             0.3764705882352941,
             "rgb(150,27,91)"
            ],
            [
             0.4392156862745098,
             "rgb(177,22,88)"
            ],
            [
             0.5019607843137255,
             "rgb(203,26,79)"
            ],
            [
             0.5647058823529412,
             "rgb(223,47,67)"
            ],
            [
             0.6274509803921569,
             "rgb(236,76,61)"
            ],
            [
             0.6901960784313725,
             "rgb(242,107,73)"
            ],
            [
             0.7529411764705882,
             "rgb(244,135,95)"
            ],
            [
             0.8156862745098039,
             "rgb(245,162,122)"
            ],
            [
             0.8784313725490196,
             "rgb(246,188,153)"
            ],
            [
             0.9411764705882353,
             "rgb(247,212,187)"
            ],
            [
             1,
             "rgb(250,234,220)"
            ]
           ],
           "sequentialminus": [
            [
             0,
             "rgb(2,4,25)"
            ],
            [
             0.06274509803921569,
             "rgb(24,15,41)"
            ],
            [
             0.12549019607843137,
             "rgb(47,23,57)"
            ],
            [
             0.18823529411764706,
             "rgb(71,28,72)"
            ],
            [
             0.25098039215686274,
             "rgb(97,30,82)"
            ],
            [
             0.3137254901960784,
             "rgb(123,30,89)"
            ],
            [
             0.3764705882352941,
             "rgb(150,27,91)"
            ],
            [
             0.4392156862745098,
             "rgb(177,22,88)"
            ],
            [
             0.5019607843137255,
             "rgb(203,26,79)"
            ],
            [
             0.5647058823529412,
             "rgb(223,47,67)"
            ],
            [
             0.6274509803921569,
             "rgb(236,76,61)"
            ],
            [
             0.6901960784313725,
             "rgb(242,107,73)"
            ],
            [
             0.7529411764705882,
             "rgb(244,135,95)"
            ],
            [
             0.8156862745098039,
             "rgb(245,162,122)"
            ],
            [
             0.8784313725490196,
             "rgb(246,188,153)"
            ],
            [
             0.9411764705882353,
             "rgb(247,212,187)"
            ],
            [
             1,
             "rgb(250,234,220)"
            ]
           ]
          },
          "colorway": [
           "rgb(76,114,176)",
           "rgb(221,132,82)",
           "rgb(85,168,104)",
           "rgb(196,78,82)",
           "rgb(129,114,179)",
           "rgb(147,120,96)",
           "rgb(218,139,195)",
           "rgb(140,140,140)",
           "rgb(204,185,116)",
           "rgb(100,181,205)"
          ],
          "font": {
           "color": "rgb(36,36,36)"
          },
          "geo": {
           "bgcolor": "white",
           "lakecolor": "white",
           "landcolor": "rgb(234,234,242)",
           "showlakes": true,
           "showland": true,
           "subunitcolor": "white"
          },
          "hoverlabel": {
           "align": "left"
          },
          "hovermode": "closest",
          "paper_bgcolor": "white",
          "plot_bgcolor": "rgb(234,234,242)",
          "polar": {
           "angularaxis": {
            "gridcolor": "white",
            "linecolor": "white",
            "showgrid": true,
            "ticks": ""
           },
           "bgcolor": "rgb(234,234,242)",
           "radialaxis": {
            "gridcolor": "white",
            "linecolor": "white",
            "showgrid": true,
            "ticks": ""
           }
          },
          "scene": {
           "xaxis": {
            "backgroundcolor": "rgb(234,234,242)",
            "gridcolor": "white",
            "gridwidth": 2,
            "linecolor": "white",
            "showbackground": true,
            "showgrid": true,
            "ticks": "",
            "zerolinecolor": "white"
           },
           "yaxis": {
            "backgroundcolor": "rgb(234,234,242)",
            "gridcolor": "white",
            "gridwidth": 2,
            "linecolor": "white",
            "showbackground": true,
            "showgrid": true,
            "ticks": "",
            "zerolinecolor": "white"
           },
           "zaxis": {
            "backgroundcolor": "rgb(234,234,242)",
            "gridcolor": "white",
            "gridwidth": 2,
            "linecolor": "white",
            "showbackground": true,
            "showgrid": true,
            "ticks": "",
            "zerolinecolor": "white"
           }
          },
          "shapedefaults": {
           "fillcolor": "rgb(67,103,167)",
           "line": {
            "width": 0
           },
           "opacity": 0.5
          },
          "ternary": {
           "aaxis": {
            "gridcolor": "white",
            "linecolor": "white",
            "showgrid": true,
            "ticks": ""
           },
           "baxis": {
            "gridcolor": "white",
            "linecolor": "white",
            "showgrid": true,
            "ticks": ""
           },
           "bgcolor": "rgb(234,234,242)",
           "caxis": {
            "gridcolor": "white",
            "linecolor": "white",
            "showgrid": true,
            "ticks": ""
           }
          },
          "xaxis": {
           "automargin": true,
           "gridcolor": "white",
           "linecolor": "white",
           "showgrid": true,
           "ticks": "",
           "title": {
            "standoff": 15
           },
           "zerolinecolor": "white"
          },
          "yaxis": {
           "automargin": true,
           "gridcolor": "white",
           "linecolor": "white",
           "showgrid": true,
           "ticks": "",
           "title": {
            "standoff": 15
           },
           "zerolinecolor": "white"
          }
         }
        },
        "title": {
         "font": {
          "family": "Modern Computer",
          "size": 35
         },
         "text": "Clustering of Core Publications",
         "x": 0.5
        },
        "xaxis": {
         "anchor": "y",
         "domain": [
          0,
          1
         ],
         "tickfont": {
          "size": 15
         },
         "title": {
          "font": {
           "size": 20
          },
          "text": ""
         }
        },
        "yaxis": {
         "anchor": "x",
         "domain": [
          0,
          1
         ],
         "tickfont": {
          "size": 15
         },
         "title": {
          "font": {
           "size": 20
          },
          "text": ""
         }
        }
       }
      }
     },
     "metadata": {},
     "output_type": "display_data"
    }
   ],
   "source": [
    "fig = px.scatter(\n",
    "    df[(df[\"label\"] != \"Survey\")],\n",
    "    x=\"x\",\n",
    "    y=\"y\",\n",
    "    color=\"label\",\n",
    "    hover_data=[\"label\", \"cluster\", \"pub_id\", \"survey_group\"],\n",
    "    labels={\"label\": \"Topic\"},\n",
    ")\n",
    "\n",
    "# Add survey \n",
    "fig.add_trace(\n",
    "    go.Scatter(\n",
    "        x=df[df[\"label\"] == \"Survey\"][\"x\"],\n",
    "        y=df[df[\"label\"] == \"Survey\"][\"y\"],\n",
    "        mode=\"markers\",\n",
    "        marker=dict(color=\"black\"),\n",
    "        name=\"Survey\",\n",
    "        hoverinfo=\"text\",\n",
    "        text=df[df[\"label\"] == \"Survey\"][\"survey_group\"],\n",
    "    )\n",
    ")\n",
    "fig.update_traces(marker_opacity=0.9)\n",
    "fig.update_layout(\n",
    "    title=\"Clustering of Core Publications\",\n",
    "    **PLOT_CONFIGS, legend_orientation=\"h\", legend_y=-0.2\n",
    ")\n",
    "\n",
    "# update markers of traces that has SLR topics\n",
    "for i in SLR_TOPICS:\n",
    "    fig.for_each_trace(\n",
    "        lambda trace: trace.update(marker=dict(symbol=\"x\") if trace.name == i else {})\n",
    "    )\n",
    "fig.show()\n",
    "# pio.write_image(fig, \"umap_clustering.pdf\")"
   ]
  }
 ],
 "metadata": {
  "kernelspec": {
   "display_name": "litqeval-nY2J0JWW-py3.10",
   "language": "python",
   "name": "python3"
  },
  "language_info": {
   "codemirror_mode": {
    "name": "ipython",
    "version": 3
   },
   "file_extension": ".py",
   "mimetype": "text/x-python",
   "name": "python",
   "nbconvert_exporter": "python",
   "pygments_lexer": "ipython3",
   "version": "3.10.7"
  }
 },
 "nbformat": 4,
 "nbformat_minor": 2
}
