{
 "cells": [
  {
   "cell_type": "code",
   "execution_count": 1,
   "metadata": {},
   "outputs": [],
   "source": [
    "from langchain_openai.embeddings import OpenAIEmbeddings\n",
    "from langchain_core.documents import Document\n",
    "from langchain_chroma import Chroma\n",
    "from sklearn.cluster import KMeans\n",
    "from sklearn.manifold import TSNE\n",
    "import plotly.express as px\n",
    "import plotly.io as pio\n",
    "import pandas as pd\n",
    "import numpy as np\n",
    "\n",
    "COLORS = [\n",
    "    \"#2f4f4f\",\n",
    "    \"#a0522d\",\n",
    "    \"#006400\",\n",
    "    \"#000080\",\n",
    "    \"#ff0000\",\n",
    "    \"#00ced1\",\n",
    "    \"#ffa500\",\n",
    "    \"#ffff00\",\n",
    "    \"#00ff00\",\n",
    "    \"#00fa9a\",\n",
    "    \"#0000ff\",\n",
    "    \"#ff00ff\",\n",
    "    \"#1e90ff\",\n",
    "    \"#eee8aa\",\n",
    "    \"#000000\",\n",
    "]\n",
    "\n",
    "pio.templates[pio.templates.default].layout.colorway = COLORS"
   ]
  },
  {
   "cell_type": "code",
   "execution_count": 2,
   "metadata": {},
   "outputs": [],
   "source": [
    "df = pd.read_excel(\"./data/metadata.xlsx\")\n",
    "core_pubs = pd.read_excel(\"./data/core_publications.xlsx\")"
   ]
  },
  {
   "cell_type": "code",
   "execution_count": 3,
   "metadata": {},
   "outputs": [],
   "source": [
    "documents = []\n",
    "pub_ids = []\n",
    "# id, title and abstract as meta data\n",
    "for i, row in df.iterrows():\n",
    "    pub_id = row[\"id\"]\n",
    "    group = core_pubs[core_pubs[\"Pub_id\"] == pub_id]\n",
    "    if group.empty:\n",
    "        group = \"Survey\"\n",
    "    else:\n",
    "        group = group[\"Topic\"].values[0]\n",
    "    content = f'Title: {row[\"title\"]}\\nAbstract: {row[\"abstract\"]}'\n",
    "    doc = Document(page_content=content, metadata={\"id\": row[\"id\"], \"topic\": group})\n",
    "    documents.append(doc)\n",
    "    pub_ids.append(row[\"id\"])\n",
    "\n",
    "def create_embeddings(documents, ids):\n",
    "    embedding_model = OpenAIEmbeddings(model=\"text-embedding-3-small\")\n",
    "    vs = Chroma(\"core_publications\", embedding_model, persist_directory=\"./data/vs/core_publications\")\n",
    "    vs.add_documents(documents, ids=ids)\n",
    "    return vs\n",
    "# create_embeddings(documents, pub_ids)"
   ]
  },
  {
   "cell_type": "code",
   "execution_count": 4,
   "metadata": {},
   "outputs": [],
   "source": [
    "collection = Chroma(\"core_publications\", persist_directory=\"./data/vs/core_publications\")\n",
    "pub_ids = collection.get()[\"ids\"]\n",
    "all_embeddings = []\n",
    "labels = []\n",
    "for i in pub_ids:\n",
    "    all_embeddings.append(collection.get(i, include=[\"embeddings\"])[\"embeddings\"])\n",
    "    labels.append(collection.get(i)[\"metadatas\"][0][\"topic\"])\n",
    "\n",
    "all_embeddings = np.squeeze(all_embeddings)\n",
    "n_clusters = 15  # 15 topics\n",
    "kmeans = KMeans(n_clusters=n_clusters, random_state=0).fit(all_embeddings)\n",
    "cluster_labels = kmeans.labels_\n",
    "\n",
    "tsne = TSNE(n_components=2, random_state=0)\n",
    "tsne_embeddings = tsne.fit_transform(all_embeddings)\n",
    "\n",
    "df = pd.DataFrame(\n",
    "    {\n",
    "        \"x\": tsne_embeddings[:, 0],\n",
    "        \"y\": tsne_embeddings[:, 1],\n",
    "        \"label\": labels,\n",
    "        \"cluster\": cluster_labels,\n",
    "        \"pub_id\": pub_ids,\n",
    "    }\n",
    ")\n",
    "\n",
    "# Add true label to survey\n",
    "df[\"survey_group\"] = df.apply(\n",
    "    lambda x: f\"{x['label']} - {core_pubs[core_pubs['Survey'] == x['pub_id']]['Topic'].values[0]}\"\n",
    "    if x[\"label\"] == \"Survey\"\n",
    "    else \"\",\n",
    "    axis=1,\n",
    ")"
   ]
  },
  {
   "cell_type": "code",
   "execution_count": 20,
   "metadata": {},
   "outputs": [
    {
     "data": {
      "application/vnd.plotly.v1+json": {
       "config": {
        "plotlyServerURL": "https://plot.ly"
       },
       "data": [
        {
         "customdata": [
          [
           "Perovskite Solar Cells Stability",
           0,
           "pub.1165052499",
           ""
          ],
          [
           "Perovskite Solar Cells Stability",
           0,
           "pub.1165045432",
           ""
          ],
          [
           "Perovskite Solar Cells Stability",
           0,
           "pub.1163801313",
           ""
          ],
          [
           "Perovskite Solar Cells Stability",
           0,
           "pub.1149826171",
           ""
          ],
          [
           "Perovskite Solar Cells Stability",
           0,
           "pub.1147021977",
           ""
          ],
          [
           "Perovskite Solar Cells Stability",
           0,
           "pub.1146288953",
           ""
          ],
          [
           "Perovskite Solar Cells Stability",
           0,
           "pub.1146009839",
           ""
          ],
          [
           "Perovskite Solar Cells Stability",
           0,
           "pub.1145696652",
           ""
          ],
          [
           "Perovskite Solar Cells Stability",
           0,
           "pub.1145043743",
           ""
          ],
          [
           "Perovskite Solar Cells Stability",
           0,
           "pub.1144827854",
           ""
          ],
          [
           "Perovskite Solar Cells Stability",
           0,
           "pub.1144465306",
           ""
          ],
          [
           "Perovskite Solar Cells Stability",
           0,
           "pub.1144054488",
           ""
          ],
          [
           "Perovskite Solar Cells Stability",
           0,
           "pub.1174552302",
           ""
          ],
          [
           "Perovskite Solar Cells Stability",
           0,
           "pub.1166074282",
           ""
          ],
          [
           "Perovskite Solar Cells Stability",
           0,
           "pub.1163986255",
           ""
          ],
          [
           "Perovskite Solar Cells Stability",
           0,
           "pub.1160686387",
           ""
          ],
          [
           "Perovskite Solar Cells Stability",
           0,
           "pub.1160324074",
           ""
          ],
          [
           "Perovskite Solar Cells Stability",
           0,
           "pub.1159957570",
           ""
          ],
          [
           "Perovskite Solar Cells Stability",
           0,
           "pub.1158362233",
           ""
          ],
          [
           "Perovskite Solar Cells Stability",
           0,
           "pub.1158048403",
           ""
          ],
          [
           "Perovskite Solar Cells Stability",
           0,
           "pub.1157586280",
           ""
          ],
          [
           "Perovskite Solar Cells Stability",
           0,
           "pub.1155457945",
           ""
          ],
          [
           "Perovskite Solar Cells Stability",
           0,
           "pub.1154888847",
           ""
          ],
          [
           "Perovskite Solar Cells Stability",
           0,
           "pub.1147833193",
           ""
          ],
          [
           "Perovskite Solar Cells Stability",
           0,
           "pub.1147293706",
           ""
          ],
          [
           "Perovskite Solar Cells Stability",
           0,
           "pub.1147185686",
           ""
          ],
          [
           "Perovskite Solar Cells Stability",
           0,
           "pub.1147054891",
           ""
          ],
          [
           "Perovskite Solar Cells Stability",
           0,
           "pub.1146620041",
           ""
          ],
          [
           "Perovskite Solar Cells Stability",
           0,
           "pub.1141876155",
           ""
          ]
         ],
         "hovertemplate": "label=%{customdata[0]}<br>x=%{x}<br>y=%{y}<br>cluster=%{customdata[1]}<br>pub_id=%{customdata[2]}<br>survey_group=%{customdata[3]}<extra></extra>",
         "legendgroup": "Perovskite Solar Cells Stability",
         "marker": {
          "color": "#2f4f4f",
          "opacity": 0.9,
          "symbol": "circle"
         },
         "mode": "markers",
         "name": "Perovskite Solar Cells Stability",
         "orientation": "v",
         "showlegend": true,
         "type": "scatter",
         "x": [
          20.689661,
          20.58512,
          19.479103,
          19.827988,
          22.213966,
          20.962112,
          19.725143,
          19.546043,
          21.332306,
          19.63621,
          18.946373,
          21.684021,
          21.458857,
          20.482416,
          20.370409,
          20.043146,
          20.708838,
          20.292679,
          21.395132,
          19.867304,
          21.052475,
          21.008999,
          19.792694,
          18.966497,
          20.096714,
          19.90419,
          18.916924,
          20.36646,
          18.796461
         ],
         "xaxis": "x",
         "y": [
          19.348017,
          20.0652,
          19.317274,
          17.470863,
          19.58049,
          19.769588,
          20.178455,
          19.929916,
          19.070793,
          18.668264,
          19.515574,
          20.350615,
          20.340391,
          18.98627,
          20.389463,
          19.784569,
          18.443888,
          19.210537,
          18.611618,
          17.548885,
          18.650013,
          17.850178,
          20.40296,
          18.569452,
          18.797966,
          18.345936,
          18.263466,
          18.330715,
          19.376219
         ],
         "yaxis": "y"
        },
        {
         "customdata": [
          [
           "Green Warehousing",
           14,
           "pub.1138791522",
           ""
          ],
          [
           "Green Warehousing",
           14,
           "pub.1130342326",
           ""
          ],
          [
           "Green Warehousing",
           14,
           "pub.1130180156",
           ""
          ],
          [
           "Green Warehousing",
           14,
           "pub.1126001650",
           ""
          ],
          [
           "Green Warehousing",
           14,
           "pub.1123270626",
           ""
          ],
          [
           "Green Warehousing",
           14,
           "pub.1119922340",
           ""
          ],
          [
           "Green Warehousing",
           14,
           "pub.1113285021",
           ""
          ],
          [
           "Green Warehousing",
           14,
           "pub.1112019846",
           ""
          ],
          [
           "Green Warehousing",
           14,
           "pub.1110525171",
           ""
          ],
          [
           "Green Warehousing",
           14,
           "pub.1104201531",
           ""
          ],
          [
           "Green Warehousing",
           14,
           "pub.1103540197",
           ""
          ],
          [
           "Green Warehousing",
           14,
           "pub.1093378447",
           ""
          ],
          [
           "Green Warehousing",
           14,
           "pub.1092850655",
           ""
          ],
          [
           "Green Warehousing",
           14,
           "pub.1090587762",
           ""
          ],
          [
           "Green Warehousing",
           14,
           "pub.1071706254",
           ""
          ],
          [
           "Green Warehousing",
           14,
           "pub.1029079666",
           ""
          ],
          [
           "Green Warehousing",
           14,
           "pub.1026334040",
           ""
          ],
          [
           "Green Warehousing",
           14,
           "pub.1024780163",
           ""
          ],
          [
           "Green Warehousing",
           14,
           "pub.1018121211",
           ""
          ],
          [
           "Green Warehousing",
           14,
           "pub.1015228225",
           ""
          ],
          [
           "Green Warehousing",
           14,
           "pub.1013561216",
           ""
          ],
          [
           "Green Warehousing",
           14,
           "pub.1013525464",
           ""
          ],
          [
           "Green Warehousing",
           14,
           "pub.1002243471",
           ""
          ],
          [
           "Green Warehousing",
           14,
           "pub.1127953927",
           ""
          ],
          [
           "Green Warehousing",
           14,
           "pub.1126155979",
           ""
          ],
          [
           "Green Warehousing",
           14,
           "pub.1125842670",
           ""
          ],
          [
           "Green Warehousing",
           14,
           "pub.1121161391",
           ""
          ],
          [
           "Green Warehousing",
           14,
           "pub.1120216323",
           ""
          ],
          [
           "Green Warehousing",
           14,
           "pub.1120098405",
           ""
          ],
          [
           "Green Warehousing",
           14,
           "pub.1106687077",
           ""
          ],
          [
           "Green Warehousing",
           14,
           "pub.1105183849",
           ""
          ],
          [
           "Green Warehousing",
           14,
           "pub.1099594878",
           ""
          ],
          [
           "Green Warehousing",
           14,
           "pub.1092868344",
           ""
          ],
          [
           "Green Warehousing",
           14,
           "pub.1087177293",
           ""
          ],
          [
           "Green Warehousing",
           14,
           "pub.1067495690",
           ""
          ],
          [
           "Green Warehousing",
           14,
           "pub.1035930497",
           ""
          ],
          [
           "Green Warehousing",
           14,
           "pub.1015425126",
           ""
          ],
          [
           "Green Warehousing",
           14,
           "pub.1008996397",
           ""
          ]
         ],
         "hovertemplate": "label=%{customdata[0]}<br>x=%{x}<br>y=%{y}<br>cluster=%{customdata[1]}<br>pub_id=%{customdata[2]}<br>survey_group=%{customdata[3]}<extra></extra>",
         "legendgroup": "Green Warehousing",
         "marker": {
          "color": "#a0522d",
          "opacity": 0.9,
          "symbol": "circle"
         },
         "mode": "markers",
         "name": "Survey",
         "orientation": "v",
         "showlegend": true,
         "type": "scatter",
         "x": [
          -15.678135,
          -12.324628,
          -18.022726,
          -17.091158,
          -12.812802,
          -17.097052,
          -13.009223,
          -17.144358,
          -15.857035,
          -15.839809,
          -12.387238,
          -15.845396,
          -17.7096,
          -14.344387,
          -14.926434,
          -14.347123,
          -13.95049,
          -14.089301,
          -16.33063,
          -15.679084,
          -11.469785,
          -17.37865,
          -14.126265,
          -12.834487,
          -14.631813,
          -13.615661,
          -12.622881,
          -13.61861,
          -16.784815,
          -12.907574,
          -11.925795,
          -17.80666,
          -17.083168,
          -12.992455,
          -13.325959,
          -14.048031,
          -16.56807,
          -13.164788
         ],
         "xaxis": "x",
         "y": [
          -1.8824015,
          -4.433937,
          -0.6822823,
          -1.4810696,
          -4.5394607,
          -3.180425,
          -3.7486966,
          -0.611444,
          -5.153962,
          -1.703685,
          -4.629183,
          -5.169563,
          -0.94565445,
          -1.3093507,
          -3.3063076,
          -1.6542174,
          -2.5882013,
          -3.275138,
          -0.10557363,
          -2.8855772,
          -4.385643,
          -2.2595308,
          -1.7016248,
          -4.5487547,
          -2.4023526,
          -2.8536792,
          -5.281019,
          -4.076695,
          -2.860877,
          -2.0866697,
          -3.1848757,
          -0.22470859,
          -1.705576,
          -2.3399398,
          -1.7174629,
          -3.5802813,
          -1.8958355,
          -2.9727838
         ],
         "yaxis": "y"
        },
        {
         "customdata": [
          [
           "AI on Edge Devices",
           7,
           "pub.1128852448",
           ""
          ],
          [
           "AI on Edge Devices",
           7,
           "pub.1128479095",
           ""
          ],
          [
           "AI on Edge Devices",
           7,
           "pub.1127250882",
           ""
          ],
          [
           "AI on Edge Devices",
           7,
           "pub.1126481351",
           ""
          ],
          [
           "AI on Edge Devices",
           7,
           "pub.1125925617",
           ""
          ],
          [
           "AI on Edge Devices",
           7,
           "pub.1124148063",
           ""
          ],
          [
           "AI on Edge Devices",
           7,
           "pub.1122515167",
           ""
          ],
          [
           "AI on Edge Devices",
           7,
           "pub.1122235047",
           ""
          ],
          [
           "AI on Edge Devices",
           7,
           "pub.1121932678",
           ""
          ],
          [
           "AI on Edge Devices",
           7,
           "pub.1121194812",
           ""
          ],
          [
           "AI on Edge Devices",
           7,
           "pub.1118735394",
           ""
          ],
          [
           "AI on Edge Devices",
           7,
           "pub.1118023870",
           ""
          ],
          [
           "AI on Edge Devices",
           7,
           "pub.1117920554",
           ""
          ],
          [
           "AI on Edge Devices",
           1,
           "pub.1114352564",
           ""
          ],
          [
           "AI on Edge Devices",
           7,
           "pub.1112862699",
           ""
          ],
          [
           "AI on Edge Devices",
           7,
           "pub.1110420318",
           ""
          ],
          [
           "AI on Edge Devices",
           7,
           "pub.1104338333",
           ""
          ],
          [
           "AI on Edge Devices",
           7,
           "pub.1100673785",
           ""
          ],
          [
           "AI on Edge Devices",
           7,
           "pub.1083507587",
           ""
          ],
          [
           "AI on Edge Devices",
           7,
           "pub.1128716869",
           ""
          ],
          [
           "AI on Edge Devices",
           7,
           "pub.1125166251",
           ""
          ],
          [
           "AI on Edge Devices",
           7,
           "pub.1125166037",
           ""
          ],
          [
           "AI on Edge Devices",
           7,
           "pub.1124436340",
           ""
          ],
          [
           "AI on Edge Devices",
           7,
           "pub.1124081996",
           ""
          ],
          [
           "AI on Edge Devices",
           7,
           "pub.1123810093",
           ""
          ],
          [
           "AI on Edge Devices",
           7,
           "pub.1122596363",
           ""
          ],
          [
           "AI on Edge Devices",
           7,
           "pub.1122519012",
           ""
          ],
          [
           "AI on Edge Devices",
           7,
           "pub.1122068746",
           ""
          ],
          [
           "AI on Edge Devices",
           7,
           "pub.1121628094",
           ""
          ],
          [
           "AI on Edge Devices",
           7,
           "pub.1116154247",
           ""
          ],
          [
           "AI on Edge Devices",
           7,
           "pub.1113065842",
           ""
          ],
          [
           "AI on Edge Devices",
           7,
           "pub.1110363845",
           ""
          ],
          [
           "AI on Edge Devices",
           7,
           "pub.1107023934",
           ""
          ],
          [
           "AI on Edge Devices",
           7,
           "pub.1106394770",
           ""
          ],
          [
           "AI on Edge Devices",
           7,
           "pub.1103977084",
           ""
          ],
          [
           "AI on Edge Devices",
           7,
           "pub.1094646899",
           ""
          ]
         ],
         "hovertemplate": "label=%{customdata[0]}<br>x=%{x}<br>y=%{y}<br>cluster=%{customdata[1]}<br>pub_id=%{customdata[2]}<br>survey_group=%{customdata[3]}<extra></extra>",
         "legendgroup": "AI on Edge Devices",
         "marker": {
          "color": "#006400",
          "opacity": 0.9,
          "symbol": "circle"
         },
         "mode": "markers",
         "name": "AI on Edge Devices",
         "orientation": "v",
         "showlegend": true,
         "type": "scatter",
         "x": [
          -11.211249,
          -7.601059,
          -5.7428837,
          -6.123263,
          -10.915838,
          -9.976478,
          -8.548602,
          -7.9816313,
          -8.819883,
          -9.55889,
          -10.594547,
          -8.9710045,
          -6.3272853,
          -10.814966,
          -8.3260145,
          -8.907035,
          -5.859038,
          -7.462408,
          -7.7677093,
          -10.575953,
          -4.273727,
          -7.1740675,
          -8.188713,
          -7.0049953,
          -7.140681,
          -7.0916824,
          -5.3163123,
          -9.321905,
          -9.0028925,
          -7.4425793,
          -6.683473,
          -9.483081,
          -6.142157,
          -7.7645874,
          -7.3302283,
          -5.221174
         ],
         "xaxis": "x",
         "y": [
          20.08853,
          23.59012,
          22.566433,
          21.695019,
          23.92423,
          23.761272,
          21.679544,
          22.35588,
          22.837612,
          22.946083,
          24.480843,
          25.304995,
          23.939428,
          19.985542,
          25.445164,
          24.18462,
          25.226269,
          23.309158,
          24.495565,
          23.692434,
          24.610603,
          24.208977,
          22.87771,
          25.26886,
          22.98198,
          22.149837,
          21.291563,
          24.837698,
          22.590944,
          22.261393,
          22.999914,
          23.559427,
          21.4757,
          22.885283,
          23.90015,
          24.956455
         ],
         "yaxis": "y"
        },
        {
         "customdata": [
          [
           "Energy Growth Nexus",
           5,
           "pub.1123961798",
           ""
          ],
          [
           "Energy Growth Nexus",
           5,
           "pub.1052820957",
           ""
          ],
          [
           "Energy Growth Nexus",
           5,
           "pub.1050136415",
           ""
          ],
          [
           "Energy Growth Nexus",
           5,
           "pub.1048730269",
           ""
          ],
          [
           "Energy Growth Nexus",
           5,
           "pub.1047256779",
           ""
          ],
          [
           "Energy Growth Nexus",
           5,
           "pub.1045412034",
           ""
          ],
          [
           "Energy Growth Nexus",
           5,
           "pub.1042544661",
           ""
          ],
          [
           "Energy Growth Nexus",
           5,
           "pub.1042017662",
           ""
          ],
          [
           "Energy Growth Nexus",
           5,
           "pub.1041338787",
           ""
          ],
          [
           "Energy Growth Nexus",
           5,
           "pub.1036973953",
           ""
          ],
          [
           "Energy Growth Nexus",
           5,
           "pub.1022049865",
           ""
          ],
          [
           "Energy Growth Nexus",
           5,
           "pub.1021980170",
           ""
          ],
          [
           "Energy Growth Nexus",
           5,
           "pub.1009749897",
           ""
          ],
          [
           "Energy Growth Nexus",
           5,
           "pub.1009651790",
           ""
          ],
          [
           "Energy Growth Nexus",
           5,
           "pub.1009389919",
           ""
          ],
          [
           "Energy Growth Nexus",
           5,
           "pub.1006191975",
           ""
          ],
          [
           "Energy Growth Nexus",
           5,
           "pub.1002720309",
           ""
          ],
          [
           "Energy Growth Nexus",
           5,
           "pub.1053441851",
           ""
          ],
          [
           "Energy Growth Nexus",
           5,
           "pub.1052542598",
           ""
          ],
          [
           "Energy Growth Nexus",
           5,
           "pub.1051802627",
           ""
          ],
          [
           "Energy Growth Nexus",
           5,
           "pub.1040160107",
           ""
          ],
          [
           "Energy Growth Nexus",
           5,
           "pub.1032217726",
           ""
          ],
          [
           "Energy Growth Nexus",
           5,
           "pub.1031321996",
           ""
          ],
          [
           "Energy Growth Nexus",
           5,
           "pub.1024937016",
           ""
          ],
          [
           "Energy Growth Nexus",
           5,
           "pub.1013831878",
           ""
          ],
          [
           "Energy Growth Nexus",
           5,
           "pub.1006882307",
           ""
          ],
          [
           "Energy Growth Nexus",
           5,
           "pub.1005732591",
           ""
          ]
         ],
         "hovertemplate": "label=%{customdata[0]}<br>x=%{x}<br>y=%{y}<br>cluster=%{customdata[1]}<br>pub_id=%{customdata[2]}<br>survey_group=%{customdata[3]}<extra></extra>",
         "legendgroup": "Energy Growth Nexus",
         "marker": {
          "color": "#000080",
          "opacity": 0.9,
          "symbol": "circle"
         },
         "mode": "markers",
         "name": "Energy Growth Nexus",
         "orientation": "v",
         "showlegend": true,
         "type": "scatter",
         "x": [
          -26.491093,
          -27.290792,
          -25.23368,
          -25.64496,
          -27.08856,
          -24.86262,
          -27.968157,
          -25.9181,
          -25.629824,
          -27.916147,
          -25.463861,
          -25.66203,
          -27.695108,
          -25.925095,
          -26.188951,
          -24.56243,
          -26.640821,
          -25.644684,
          -26.318586,
          -24.90415,
          -25.76757,
          -25.791536,
          -26.650219,
          -27.872776,
          -27.129414,
          -25.410437,
          -24.553375
         ],
         "xaxis": "x",
         "y": [
          -18.229904,
          -16.81363,
          -15.463817,
          -15.473676,
          -15.099905,
          -15.266656,
          -13.806006,
          -17.410545,
          -15.961605,
          -13.8156,
          -16.073393,
          -14.373358,
          -13.670962,
          -15.416417,
          -15.16353,
          -14.587267,
          -16.53357,
          -14.938891,
          -16.459309,
          -16.071466,
          -15.506709,
          -14.118238,
          -13.866282,
          -13.797477,
          -14.514912,
          -13.572565,
          -16.422785
         ],
         "yaxis": "y"
        },
        {
         "customdata": [
          [
           "Drones in Agriculture",
           1,
           "pub.1113441179",
           ""
          ],
          [
           "Drones in Agriculture",
           1,
           "pub.1094775321",
           ""
          ],
          [
           "Drones in Agriculture",
           1,
           "pub.1092454498",
           ""
          ],
          [
           "Drones in Agriculture",
           1,
           "pub.1086143194",
           ""
          ],
          [
           "Drones in Agriculture",
           1,
           "pub.1071268140",
           ""
          ],
          [
           "Drones in Agriculture",
           1,
           "pub.1064896140",
           ""
          ],
          [
           "Drones in Agriculture",
           1,
           "pub.1064892999",
           ""
          ],
          [
           "Drones in Agriculture",
           1,
           "pub.1032694598",
           ""
          ],
          [
           "Drones in Agriculture",
           1,
           "pub.1022922533",
           ""
          ],
          [
           "Drones in Agriculture",
           1,
           "pub.1013849273",
           ""
          ],
          [
           "Drones in Agriculture",
           1,
           "pub.1007471000",
           ""
          ],
          [
           "Drones in Agriculture",
           1,
           "pub.1002161636",
           ""
          ],
          [
           "Drones in Agriculture",
           1,
           "pub.1000225286",
           ""
          ],
          [
           "Drones in Agriculture",
           1,
           "pub.1061610686",
           ""
          ],
          [
           "Drones in Agriculture",
           1,
           "pub.1061280901",
           ""
          ],
          [
           "Drones in Agriculture",
           1,
           "pub.1052390127",
           ""
          ],
          [
           "Drones in Agriculture",
           1,
           "pub.1028947023",
           ""
          ],
          [
           "Drones in Agriculture",
           1,
           "pub.1027978650",
           ""
          ],
          [
           "Drones in Agriculture",
           1,
           "pub.1025608752",
           ""
          ],
          [
           "Drones in Agriculture",
           1,
           "pub.1023847193",
           ""
          ],
          [
           "Drones in Agriculture",
           1,
           "pub.1020655667",
           ""
          ],
          [
           "Drones in Agriculture",
           1,
           "pub.1014003350",
           ""
          ],
          [
           "Drones in Agriculture",
           1,
           "pub.1010901465",
           ""
          ],
          [
           "Drones in Agriculture",
           1,
           "pub.1007702481",
           ""
          ],
          [
           "Drones in Agriculture",
           1,
           "pub.1003882381",
           ""
          ]
         ],
         "hovertemplate": "label=%{customdata[0]}<br>x=%{x}<br>y=%{y}<br>cluster=%{customdata[1]}<br>pub_id=%{customdata[2]}<br>survey_group=%{customdata[3]}<extra></extra>",
         "legendgroup": "Drones in Agriculture",
         "marker": {
          "color": "#ff0000",
          "opacity": 0.9,
          "symbol": "circle"
         },
         "mode": "markers",
         "name": "Drones in Agriculture",
         "orientation": "v",
         "showlegend": true,
         "type": "scatter",
         "x": [
          -12.438073,
          -12.079503,
          -14.3277025,
          -16.708218,
          -14.882014,
          -13.427465,
          -14.610325,
          -14.154143,
          -14.6912,
          -11.866407,
          -16.65355,
          -15.360956,
          -15.299233,
          -14.509724,
          -12.280467,
          -14.693056,
          -12.798095,
          -14.036916,
          -13.703799,
          -13.098206,
          -13.814551,
          -13.247742,
          -13.663452,
          -14.970421,
          -14.998968
         ],
         "xaxis": "x",
         "y": [
          17.2449,
          19.09913,
          16.787802,
          17.295895,
          15.741675,
          13.9863615,
          14.324046,
          16.030659,
          16.423445,
          17.300274,
          15.382393,
          15.980422,
          16.161383,
          15.805452,
          17.327238,
          16.247662,
          15.4781,
          15.680724,
          15.501524,
          14.855742,
          16.636475,
          15.091338,
          17.267733,
          15.371551,
          16.848164
         ],
         "yaxis": "y"
        },
        {
         "customdata": [
          [
           "Crop Yield Prediction",
           8,
           "pub.1112087374",
           ""
          ],
          [
           "Crop Yield Prediction",
           8,
           "pub.1111503060",
           ""
          ],
          [
           "Crop Yield Prediction",
           8,
           "pub.1107925034",
           ""
          ],
          [
           "Crop Yield Prediction",
           8,
           "pub.1107298395",
           ""
          ],
          [
           "Crop Yield Prediction",
           8,
           "pub.1106988165",
           ""
          ],
          [
           "Crop Yield Prediction",
           8,
           "pub.1106034026",
           ""
          ],
          [
           "Crop Yield Prediction",
           8,
           "pub.1105035509",
           ""
          ],
          [
           "Crop Yield Prediction",
           8,
           "pub.1103323054",
           ""
          ],
          [
           "Crop Yield Prediction",
           8,
           "pub.1103286049",
           ""
          ],
          [
           "Crop Yield Prediction",
           8,
           "pub.1095777829",
           ""
          ],
          [
           "Crop Yield Prediction",
           8,
           "pub.1095337245",
           ""
          ],
          [
           "Crop Yield Prediction",
           8,
           "pub.1094455706",
           ""
          ],
          [
           "Crop Yield Prediction",
           8,
           "pub.1094154280",
           ""
          ],
          [
           "Crop Yield Prediction",
           8,
           "pub.1093448171",
           ""
          ],
          [
           "Crop Yield Prediction",
           8,
           "pub.1087231057",
           ""
          ],
          [
           "Crop Yield Prediction",
           8,
           "pub.1085732641",
           ""
          ],
          [
           "Crop Yield Prediction",
           8,
           "pub.1085640773",
           ""
          ],
          [
           "Crop Yield Prediction",
           8,
           "pub.1083753722",
           ""
          ],
          [
           "Crop Yield Prediction",
           8,
           "pub.1072842102",
           ""
          ],
          [
           "Crop Yield Prediction",
           8,
           "pub.1061334272",
           ""
          ],
          [
           "Crop Yield Prediction",
           8,
           "pub.1040894579",
           ""
          ],
          [
           "Crop Yield Prediction",
           8,
           "pub.1016061586",
           ""
          ],
          [
           "Crop Yield Prediction",
           8,
           "pub.1013313926",
           ""
          ],
          [
           "Crop Yield Prediction",
           8,
           "pub.1011532234",
           ""
          ],
          [
           "Crop Yield Prediction",
           8,
           "pub.1003896548",
           ""
          ],
          [
           "Crop Yield Prediction",
           8,
           "pub.1003708746",
           ""
          ],
          [
           "Crop Yield Prediction",
           8,
           "pub.1001065952",
           ""
          ],
          [
           "Crop Yield Prediction",
           8,
           "pub.1111269831",
           ""
          ],
          [
           "Crop Yield Prediction",
           8,
           "pub.1106284861",
           ""
          ],
          [
           "Crop Yield Prediction",
           8,
           "pub.1105144504",
           ""
          ],
          [
           "Crop Yield Prediction",
           8,
           "pub.1105021375",
           ""
          ],
          [
           "Crop Yield Prediction",
           8,
           "pub.1103481417",
           ""
          ],
          [
           "Crop Yield Prediction",
           8,
           "pub.1094483007",
           ""
          ],
          [
           "Crop Yield Prediction",
           8,
           "pub.1093670904",
           ""
          ],
          [
           "Crop Yield Prediction",
           8,
           "pub.1093207217",
           ""
          ],
          [
           "Crop Yield Prediction",
           8,
           "pub.1084919232",
           ""
          ],
          [
           "Crop Yield Prediction",
           8,
           "pub.1083415540",
           ""
          ],
          [
           "Crop Yield Prediction",
           8,
           "pub.1061614459",
           ""
          ],
          [
           "Crop Yield Prediction",
           8,
           "pub.1041052930",
           ""
          ],
          [
           "Crop Yield Prediction",
           8,
           "pub.1033490641",
           ""
          ],
          [
           "Crop Yield Prediction",
           8,
           "pub.1033258084",
           ""
          ],
          [
           "Crop Yield Prediction",
           8,
           "pub.1031921576",
           ""
          ],
          [
           "Crop Yield Prediction",
           8,
           "pub.1028808547",
           ""
          ],
          [
           "Crop Yield Prediction",
           8,
           "pub.1005691069",
           ""
          ],
          [
           "Crop Yield Prediction",
           8,
           "pub.1004965338",
           ""
          ],
          [
           "Crop Yield Prediction",
           8,
           "pub.1001894773",
           ""
          ]
         ],
         "hovertemplate": "label=%{customdata[0]}<br>x=%{x}<br>y=%{y}<br>cluster=%{customdata[1]}<br>pub_id=%{customdata[2]}<br>survey_group=%{customdata[3]}<extra></extra>",
         "legendgroup": "Crop Yield Prediction",
         "marker": {
          "color": "#00ced1",
          "opacity": 0.9,
          "symbol": "circle"
         },
         "mode": "markers",
         "name": "Crop Yield Prediction",
         "orientation": "v",
         "showlegend": true,
         "type": "scatter",
         "x": [
          -20.24504,
          -19.673655,
          -21.936071,
          -22.014395,
          -21.765863,
          -20.071878,
          -21.469503,
          -19.837929,
          -22.446383,
          -22.667933,
          -21.64729,
          -23.694157,
          -22.930168,
          -22.748096,
          -21.746525,
          -19.490835,
          -21.31046,
          -19.602348,
          -21.78972,
          -18.528372,
          -20.808779,
          -22.015514,
          -20.073057,
          -21.067831,
          -21.157633,
          -20.753223,
          -21.302263,
          -20.679487,
          -20.11434,
          -22.035551,
          -19.989038,
          -22.360794,
          -23.072754,
          -24.001312,
          -23.569029,
          -24.152363,
          -23.05387,
          -20.013046,
          -20.006771,
          -18.819464,
          -20.47952,
          -21.710665,
          -21.569937,
          -22.538633,
          -19.656727,
          -20.876575
         ],
         "xaxis": "x",
         "y": [
          14.042606,
          14.849965,
          14.400226,
          13.803727,
          16.487165,
          15.219155,
          15.474757,
          19.480282,
          18.658264,
          17.062103,
          17.707159,
          16.307787,
          16.339638,
          15.33831,
          18.487434,
          16.159801,
          13.236231,
          19.335814,
          16.02574,
          15.171656,
          16.780602,
          17.147793,
          18.981012,
          17.44819,
          14.857896,
          16.793736,
          15.895762,
          15.664736,
          15.978069,
          13.047311,
          17.151249,
          15.766337,
          16.01923,
          16.454142,
          15.212897,
          16.33936,
          14.603731,
          18.093676,
          19.04233,
          13.922412,
          15.368331,
          13.427476,
          13.458303,
          17.59991,
          16.672491,
          16.236057
         ],
         "yaxis": "y"
        },
        {
         "customdata": [
          [
           "Sustainable Biofuel",
           9,
           "pub.1107587297",
           ""
          ],
          [
           "Sustainable Biofuel",
           4,
           "pub.1100466182",
           ""
          ],
          [
           "Sustainable Biofuel",
           4,
           "pub.1072974020",
           ""
          ],
          [
           "Sustainable Biofuel",
           4,
           "pub.1061936485",
           ""
          ],
          [
           "Sustainable Biofuel",
           4,
           "pub.1059379956",
           ""
          ],
          [
           "Sustainable Biofuel",
           9,
           "pub.1052527949",
           ""
          ],
          [
           "Sustainable Biofuel",
           9,
           "pub.1050772383",
           ""
          ],
          [
           "Sustainable Biofuel",
           4,
           "pub.1046534403",
           ""
          ],
          [
           "Sustainable Biofuel",
           4,
           "pub.1042117532",
           ""
          ],
          [
           "Sustainable Biofuel",
           4,
           "pub.1040677299",
           ""
          ],
          [
           "Sustainable Biofuel",
           4,
           "pub.1037107713",
           ""
          ],
          [
           "Sustainable Biofuel",
           9,
           "pub.1034672998",
           ""
          ],
          [
           "Sustainable Biofuel",
           4,
           "pub.1029572917",
           ""
          ],
          [
           "Sustainable Biofuel",
           9,
           "pub.1024929365",
           ""
          ],
          [
           "Sustainable Biofuel",
           9,
           "pub.1023297174",
           ""
          ],
          [
           "Sustainable Biofuel",
           4,
           "pub.1023206201",
           ""
          ],
          [
           "Sustainable Biofuel",
           9,
           "pub.1019705090",
           ""
          ],
          [
           "Sustainable Biofuel",
           9,
           "pub.1015524088",
           ""
          ],
          [
           "Sustainable Biofuel",
           9,
           "pub.1011757946",
           ""
          ],
          [
           "Sustainable Biofuel",
           4,
           "pub.1003364215",
           ""
          ],
          [
           "Sustainable Biofuel",
           9,
           "pub.1128580761",
           ""
          ],
          [
           "Sustainable Biofuel",
           9,
           "pub.1125099402",
           ""
          ],
          [
           "Sustainable Biofuel",
           9,
           "pub.1122753999",
           ""
          ],
          [
           "Sustainable Biofuel",
           4,
           "pub.1113705995",
           ""
          ],
          [
           "Sustainable Biofuel",
           9,
           "pub.1111976854",
           ""
          ],
          [
           "Sustainable Biofuel",
           9,
           "pub.1111565453",
           ""
          ],
          [
           "Sustainable Biofuel",
           9,
           "pub.1104374325",
           ""
          ],
          [
           "Sustainable Biofuel",
           4,
           "pub.1103810413",
           ""
          ],
          [
           "Sustainable Biofuel",
           4,
           "pub.1101561277",
           ""
          ],
          [
           "Sustainable Biofuel",
           4,
           "pub.1100248345",
           ""
          ],
          [
           "Sustainable Biofuel",
           4,
           "pub.1061934170",
           ""
          ],
          [
           "Sustainable Biofuel",
           4,
           "pub.1061934137",
           ""
          ],
          [
           "Sustainable Biofuel",
           4,
           "pub.1059570180",
           ""
          ],
          [
           "Sustainable Biofuel",
           9,
           "pub.1052968606",
           ""
          ],
          [
           "Sustainable Biofuel",
           4,
           "pub.1049492388",
           ""
          ],
          [
           "Sustainable Biofuel",
           9,
           "pub.1048939047",
           ""
          ],
          [
           "Sustainable Biofuel",
           4,
           "pub.1047356473",
           ""
          ],
          [
           "Sustainable Biofuel",
           9,
           "pub.1044581237",
           ""
          ],
          [
           "Sustainable Biofuel",
           4,
           "pub.1038072171",
           ""
          ],
          [
           "Sustainable Biofuel",
           9,
           "pub.1034625256",
           ""
          ],
          [
           "Sustainable Biofuel",
           9,
           "pub.1033108925",
           ""
          ],
          [
           "Sustainable Biofuel",
           9,
           "pub.1029649992",
           ""
          ],
          [
           "Sustainable Biofuel",
           4,
           "pub.1026369526",
           ""
          ],
          [
           "Sustainable Biofuel",
           4,
           "pub.1019951181",
           ""
          ],
          [
           "Sustainable Biofuel",
           9,
           "pub.1019376553",
           ""
          ],
          [
           "Sustainable Biofuel",
           4,
           "pub.1014664202",
           ""
          ],
          [
           "Sustainable Biofuel",
           9,
           "pub.1009832103",
           ""
          ],
          [
           "Sustainable Biofuel",
           9,
           "pub.1009744782",
           ""
          ],
          [
           "Sustainable Biofuel",
           4,
           "pub.1004602535",
           ""
          ],
          [
           "Sustainable Biofuel",
           9,
           "pub.1002495312",
           ""
          ]
         ],
         "hovertemplate": "label=%{customdata[0]}<br>x=%{x}<br>y=%{y}<br>cluster=%{customdata[1]}<br>pub_id=%{customdata[2]}<br>survey_group=%{customdata[3]}<extra></extra>",
         "legendgroup": "Sustainable Biofuel",
         "marker": {
          "color": "#ffa500",
          "opacity": 0.9,
          "symbol": "circle"
         },
         "mode": "markers",
         "name": "Sustainable Biofuel",
         "orientation": "v",
         "showlegend": true,
         "type": "scatter",
         "x": [
          -7.0809445,
          -9.356084,
          -12.674701,
          -13.404947,
          -13.588543,
          -9.813306,
          -9.205256,
          -11.018741,
          -12.594787,
          -11.724642,
          -12.421541,
          -10.372236,
          -10.929553,
          -9.076299,
          -8.8110895,
          -9.974945,
          -9.229996,
          -9.248197,
          -7.787745,
          -11.684098,
          -7.36656,
          -7.237122,
          -8.480242,
          -11.516231,
          -7.830186,
          -7.6501565,
          -8.7214775,
          -11.353809,
          -11.583943,
          -11.236239,
          -12.530083,
          -12.818255,
          -12.64593,
          -7.8216286,
          -11.939001,
          -8.930651,
          -13.724768,
          -11.128444,
          -11.881468,
          -8.392519,
          -9.323312,
          -7.061577,
          -11.498815,
          -13.211112,
          -8.975029,
          -13.408703,
          -7.079221,
          -7.777838,
          -14.156435,
          -10.221686
         ],
         "xaxis": "x",
         "y": [
          -17.446676,
          -13.963449,
          -14.529917,
          -13.910444,
          -14.346987,
          -15.387446,
          -17.7446,
          -14.071466,
          -15.342755,
          -12.045615,
          -13.965921,
          -16.536781,
          -14.8808975,
          -13.663672,
          -15.721903,
          -15.674429,
          -16.554726,
          -14.193473,
          -16.155268,
          -11.926953,
          -16.139051,
          -15.724988,
          -14.506664,
          -14.642223,
          -17.533665,
          -16.184612,
          -18.239702,
          -15.232464,
          -12.5908,
          -11.690198,
          -13.901315,
          -15.406227,
          -14.204187,
          -17.305494,
          -15.95291,
          -16.050545,
          -14.827225,
          -11.808163,
          -14.014735,
          -16.541777,
          -17.973648,
          -17.236137,
          -16.8285,
          -16.257385,
          -15.778906,
          -16.505114,
          -16.54785,
          -16.399239,
          -14.786169,
          -16.99763
         ],
         "yaxis": "y"
        },
        {
         "customdata": [
          [
           "Robotic Arthroplasty",
           2,
           "pub.1107054942",
           ""
          ],
          [
           "Robotic Arthroplasty",
           2,
           "pub.1105926995",
           ""
          ],
          [
           "Robotic Arthroplasty",
           2,
           "pub.1092914867",
           ""
          ],
          [
           "Robotic Arthroplasty",
           2,
           "pub.1092198359",
           ""
          ],
          [
           "Robotic Arthroplasty",
           2,
           "pub.1083695994",
           ""
          ],
          [
           "Robotic Arthroplasty",
           2,
           "pub.1077881457",
           ""
          ],
          [
           "Robotic Arthroplasty",
           2,
           "pub.1068898169",
           ""
          ],
          [
           "Robotic Arthroplasty",
           2,
           "pub.1068895745",
           ""
          ],
          [
           "Robotic Arthroplasty",
           2,
           "pub.1060167437",
           ""
          ],
          [
           "Robotic Arthroplasty",
           2,
           "pub.1060167433",
           ""
          ],
          [
           "Robotic Arthroplasty",
           2,
           "pub.1053567618",
           ""
          ],
          [
           "Robotic Arthroplasty",
           2,
           "pub.1053428144",
           ""
          ],
          [
           "Robotic Arthroplasty",
           2,
           "pub.1041693000",
           ""
          ],
          [
           "Robotic Arthroplasty",
           2,
           "pub.1040431710",
           ""
          ],
          [
           "Robotic Arthroplasty",
           2,
           "pub.1039984345",
           ""
          ],
          [
           "Robotic Arthroplasty",
           2,
           "pub.1036848872",
           ""
          ],
          [
           "Robotic Arthroplasty",
           2,
           "pub.1034566767",
           ""
          ],
          [
           "Robotic Arthroplasty",
           2,
           "pub.1033569916",
           ""
          ],
          [
           "Robotic Arthroplasty",
           2,
           "pub.1028449260",
           ""
          ],
          [
           "Robotic Arthroplasty",
           2,
           "pub.1014011841",
           ""
          ],
          [
           "Robotic Arthroplasty",
           2,
           "pub.1012736542",
           ""
          ],
          [
           "Robotic Arthroplasty",
           2,
           "pub.1003009109",
           ""
          ],
          [
           "Robotic Arthroplasty",
           2,
           "pub.1123098811",
           ""
          ],
          [
           "Robotic Arthroplasty",
           2,
           "pub.1121440882",
           ""
          ],
          [
           "Robotic Arthroplasty",
           2,
           "pub.1111052246",
           ""
          ],
          [
           "Robotic Arthroplasty",
           2,
           "pub.1107454237",
           ""
          ],
          [
           "Robotic Arthroplasty",
           2,
           "pub.1105917414",
           ""
          ],
          [
           "Robotic Arthroplasty",
           2,
           "pub.1105227244",
           ""
          ],
          [
           "Robotic Arthroplasty",
           2,
           "pub.1101146035",
           ""
          ],
          [
           "Robotic Arthroplasty",
           2,
           "pub.1100744263",
           ""
          ],
          [
           "Robotic Arthroplasty",
           2,
           "pub.1091777297",
           ""
          ],
          [
           "Robotic Arthroplasty",
           2,
           "pub.1085617296",
           ""
          ],
          [
           "Robotic Arthroplasty",
           2,
           "pub.1085423980",
           ""
          ],
          [
           "Robotic Arthroplasty",
           2,
           "pub.1064886544",
           ""
          ],
          [
           "Robotic Arthroplasty",
           2,
           "pub.1061784304",
           ""
          ],
          [
           "Robotic Arthroplasty",
           2,
           "pub.1061184595",
           ""
          ],
          [
           "Robotic Arthroplasty",
           2,
           "pub.1051764285",
           ""
          ],
          [
           "Robotic Arthroplasty",
           2,
           "pub.1048135360",
           ""
          ],
          [
           "Robotic Arthroplasty",
           2,
           "pub.1047113435",
           ""
          ],
          [
           "Robotic Arthroplasty",
           2,
           "pub.1046566936",
           ""
          ],
          [
           "Robotic Arthroplasty",
           2,
           "pub.1045115204",
           ""
          ],
          [
           "Robotic Arthroplasty",
           2,
           "pub.1033163258",
           ""
          ],
          [
           "Robotic Arthroplasty",
           2,
           "pub.1030382394",
           ""
          ],
          [
           "Robotic Arthroplasty",
           2,
           "pub.1023819845",
           ""
          ],
          [
           "Robotic Arthroplasty",
           2,
           "pub.1022546608",
           ""
          ],
          [
           "Robotic Arthroplasty",
           2,
           "pub.1020705223",
           ""
          ],
          [
           "Robotic Arthroplasty",
           2,
           "pub.1000309245",
           ""
          ]
         ],
         "hovertemplate": "label=%{customdata[0]}<br>x=%{x}<br>y=%{y}<br>cluster=%{customdata[1]}<br>pub_id=%{customdata[2]}<br>survey_group=%{customdata[3]}<extra></extra>",
         "legendgroup": "Robotic Arthroplasty",
         "marker": {
          "color": "#ffff00",
          "opacity": 0.9,
          "symbol": "circle"
         },
         "mode": "markers",
         "name": "Robotic Arthroplasty",
         "orientation": "v",
         "showlegend": true,
         "type": "scatter",
         "x": [
          19.586535,
          20.332003,
          19.49491,
          18.954195,
          20.974388,
          17.672508,
          19.70097,
          17.406458,
          15.980156,
          16.757614,
          19.316998,
          17.324272,
          16.606503,
          17.75889,
          21.840782,
          17.941843,
          15.967491,
          18.012033,
          20.446396,
          20.164618,
          18.131918,
          17.667255,
          20.014235,
          18.106438,
          20.149445,
          17.815498,
          20.158503,
          19.184278,
          20.268652,
          20.97196,
          20.805828,
          17.919643,
          18.767845,
          16.79701,
          15.934384,
          15.554865,
          19.258276,
          17.729393,
          20.949242,
          18.597635,
          16.585773,
          15.975522,
          20.562052,
          17.197319,
          20.742243,
          18.579004,
          18.755909
         ],
         "xaxis": "x",
         "y": [
          -18.243732,
          -20.75254,
          -17.908026,
          -18.747297,
          -19.96312,
          -18.035166,
          -20.949133,
          -20.981844,
          -20.767357,
          -19.445133,
          -19.357416,
          -18.705776,
          -21.735703,
          -19.386604,
          -20.042837,
          -22.598743,
          -18.733429,
          -22.135834,
          -20.41534,
          -21.294638,
          -22.103567,
          -20.67469,
          -20.311161,
          -19.174736,
          -19.458284,
          -21.458223,
          -18.737568,
          -19.141043,
          -20.041412,
          -20.018154,
          -21.116684,
          -21.740213,
          -19.846989,
          -18.709488,
          -18.735514,
          -19.903364,
          -21.007011,
          -19.689594,
          -19.12319,
          -20.419174,
          -19.886967,
          -20.863127,
          -21.967854,
          -21.337053,
          -21.870861,
          -19.934046,
          -20.070148
         ],
         "yaxis": "y"
        },
        {
         "customdata": [
          [
           "Soft Robotics",
           6,
           "pub.1099769159",
           ""
          ],
          [
           "Soft Robotics",
           6,
           "pub.1091247330",
           ""
          ],
          [
           "Soft Robotics",
           6,
           "pub.1085727340",
           ""
          ],
          [
           "Soft Robotics",
           6,
           "pub.1071553028",
           ""
          ],
          [
           "Soft Robotics",
           6,
           "pub.1063202700",
           ""
          ],
          [
           "Soft Robotics",
           6,
           "pub.1061784814",
           ""
          ],
          [
           "Soft Robotics",
           6,
           "pub.1061419831",
           ""
          ],
          [
           "Soft Robotics",
           6,
           "pub.1061419786",
           ""
          ],
          [
           "Soft Robotics",
           6,
           "pub.1052588601",
           ""
          ],
          [
           "Soft Robotics",
           3,
           "pub.1047578355",
           ""
          ],
          [
           "Soft Robotics",
           6,
           "pub.1046414848",
           ""
          ],
          [
           "Soft Robotics",
           6,
           "pub.1037299542",
           ""
          ],
          [
           "Soft Robotics",
           6,
           "pub.1032973919",
           ""
          ],
          [
           "Soft Robotics",
           6,
           "pub.1022244206",
           ""
          ],
          [
           "Soft Robotics",
           6,
           "pub.1021059830",
           ""
          ],
          [
           "Soft Robotics",
           6,
           "pub.1018093320",
           ""
          ],
          [
           "Soft Robotics",
           6,
           "pub.1013312043",
           ""
          ],
          [
           "Soft Robotics",
           6,
           "pub.1010861669",
           ""
          ],
          [
           "Soft Robotics",
           6,
           "pub.1009708400",
           ""
          ],
          [
           "Soft Robotics",
           6,
           "pub.1006036928",
           ""
          ],
          [
           "Soft Robotics",
           6,
           "pub.1099769145",
           ""
          ],
          [
           "Soft Robotics",
           6,
           "pub.1094524387",
           ""
          ],
          [
           "Soft Robotics",
           6,
           "pub.1062681758",
           ""
          ],
          [
           "Soft Robotics",
           6,
           "pub.1061692527",
           ""
          ],
          [
           "Soft Robotics",
           6,
           "pub.1059311431",
           ""
          ],
          [
           "Soft Robotics",
           6,
           "pub.1053869439",
           ""
          ],
          [
           "Soft Robotics",
           6,
           "pub.1053745766",
           ""
          ],
          [
           "Soft Robotics",
           6,
           "pub.1050931185",
           ""
          ],
          [
           "Soft Robotics",
           6,
           "pub.1048672075",
           ""
          ],
          [
           "Soft Robotics",
           6,
           "pub.1046958784",
           ""
          ],
          [
           "Soft Robotics",
           6,
           "pub.1035546790",
           ""
          ],
          [
           "Soft Robotics",
           6,
           "pub.1034332217",
           ""
          ],
          [
           "Soft Robotics",
           6,
           "pub.1033757657",
           ""
          ],
          [
           "Soft Robotics",
           6,
           "pub.1016383527",
           ""
          ],
          [
           "Soft Robotics",
           6,
           "pub.1014191409",
           ""
          ],
          [
           "Soft Robotics",
           6,
           "pub.1000285042",
           ""
          ]
         ],
         "hovertemplate": "label=%{customdata[0]}<br>x=%{x}<br>y=%{y}<br>cluster=%{customdata[1]}<br>pub_id=%{customdata[2]}<br>survey_group=%{customdata[3]}<extra></extra>",
         "legendgroup": "Soft Robotics",
         "marker": {
          "color": "#00ff00",
          "opacity": 0.9,
          "symbol": "circle"
         },
         "mode": "markers",
         "name": "Soft Robotics",
         "orientation": "v",
         "showlegend": true,
         "type": "scatter",
         "x": [
          6.186493,
          10.043477,
          8.177336,
          6.1723046,
          7.3251915,
          7.819236,
          7.6952477,
          6.995394,
          9.893842,
          11.53771,
          10.296603,
          7.435036,
          8.225042,
          6.332869,
          11.038319,
          7.72899,
          7.355957,
          6.8946295,
          7.932953,
          6.9236913,
          6.1195283,
          8.750935,
          6.605421,
          9.46173,
          9.56507,
          8.190273,
          6.3832636,
          7.115927,
          8.402004,
          9.268579,
          6.950323,
          10.4197645,
          7.761431,
          10.216094,
          10.447244,
          6.804757
         ],
         "xaxis": "x",
         "y": [
          -4.548651,
          -2.8119886,
          -3.9236975,
          -5.1775675,
          -3.0131989,
          -5.725176,
          -3.6519513,
          -4.1500745,
          -1.995913,
          -2.0565279,
          -2.8751264,
          -1.8053,
          -2.6916955,
          -2.5271971,
          -2.2543569,
          -3.881701,
          -4.6682296,
          -3.187495,
          -3.2539818,
          -2.5633202,
          -5.323619,
          -4.954025,
          -3.4083793,
          -1.2145208,
          -2.1511085,
          -3.5835803,
          -1.6787784,
          -3.5528138,
          -3.2513213,
          -3.0709445,
          -3.1082883,
          -4.234534,
          -5.003211,
          -1.944873,
          -4.308359,
          -3.3075304
         ],
         "yaxis": "y"
        },
        {
         "customdata": [
          [
           "Internet of Things in Healthcare",
           7,
           "pub.1099281667",
           ""
          ],
          [
           "Internet of Things in Healthcare",
           7,
           "pub.1095490861",
           ""
          ],
          [
           "Internet of Things in Healthcare",
           7,
           "pub.1095264568",
           ""
          ],
          [
           "Internet of Things in Healthcare",
           7,
           "pub.1095255025",
           ""
          ],
          [
           "Internet of Things in Healthcare",
           7,
           "pub.1095085621",
           ""
          ],
          [
           "Internet of Things in Healthcare",
           7,
           "pub.1094970902",
           ""
          ],
          [
           "Internet of Things in Healthcare",
           7,
           "pub.1094969147",
           ""
          ],
          [
           "Internet of Things in Healthcare",
           7,
           "pub.1094830611",
           ""
          ],
          [
           "Internet of Things in Healthcare",
           7,
           "pub.1094225194",
           ""
          ],
          [
           "Internet of Things in Healthcare",
           7,
           "pub.1093507023",
           ""
          ],
          [
           "Internet of Things in Healthcare",
           7,
           "pub.1093357343",
           ""
          ],
          [
           "Internet of Things in Healthcare",
           7,
           "pub.1067238716",
           ""
          ],
          [
           "Internet of Things in Healthcare",
           7,
           "pub.1038434872",
           ""
          ],
          [
           "Internet of Things in Healthcare",
           7,
           "pub.1034508886",
           ""
          ],
          [
           "Internet of Things in Healthcare",
           7,
           "pub.1016352338",
           ""
          ],
          [
           "Internet of Things in Healthcare",
           7,
           "pub.1001751876",
           ""
          ],
          [
           "Internet of Things in Healthcare",
           7,
           "pub.1095770589",
           ""
          ],
          [
           "Internet of Things in Healthcare",
           7,
           "pub.1095382211",
           ""
          ],
          [
           "Internet of Things in Healthcare",
           7,
           "pub.1095382199",
           ""
          ],
          [
           "Internet of Things in Healthcare",
           7,
           "pub.1093739978",
           ""
          ],
          [
           "Internet of Things in Healthcare",
           7,
           "pub.1093463283",
           ""
          ],
          [
           "Internet of Things in Healthcare",
           7,
           "pub.1061632443",
           ""
          ],
          [
           "Internet of Things in Healthcare",
           7,
           "pub.1061324932",
           ""
          ],
          [
           "Internet of Things in Healthcare",
           7,
           "pub.1044514690",
           ""
          ],
          [
           "Internet of Things in Healthcare",
           7,
           "pub.1044290948",
           ""
          ],
          [
           "Internet of Things in Healthcare",
           7,
           "pub.1042065361",
           ""
          ],
          [
           "Internet of Things in Healthcare",
           7,
           "pub.1031978033",
           ""
          ],
          [
           "Internet of Things in Healthcare",
           7,
           "pub.1025765207",
           ""
          ],
          [
           "Internet of Things in Healthcare",
           7,
           "pub.1024210708",
           ""
          ]
         ],
         "hovertemplate": "label=%{customdata[0]}<br>x=%{x}<br>y=%{y}<br>cluster=%{customdata[1]}<br>pub_id=%{customdata[2]}<br>survey_group=%{customdata[3]}<extra></extra>",
         "legendgroup": "Internet of Things in Healthcare",
         "marker": {
          "color": "#00fa9a",
          "opacity": 0.9,
          "symbol": "circle"
         },
         "mode": "markers",
         "name": "Internet of Things in Healthcare",
         "orientation": "v",
         "showlegend": true,
         "type": "scatter",
         "x": [
          -0.3583252,
          -0.18443109,
          -1.3630341,
          0.16633213,
          -4.082495,
          -0.9498652,
          -2.8993523,
          -1.6835632,
          -2.296028,
          -1.356399,
          -1.2035704,
          -0.23233734,
          -0.8562631,
          -1.7986273,
          -2.5638492,
          -1.5312245,
          -1.9468418,
          -4.2659597,
          -2.4367962,
          0.2339671,
          -2.4447718,
          -0.7604797,
          -2.5336134,
          -1.6693096,
          -1.0356001,
          -4.904548,
          -2.836514,
          -1.1213119,
          -1.7226281
         ],
         "xaxis": "x",
         "y": [
          23.40979,
          24.41109,
          25.282978,
          26.004654,
          25.110374,
          25.602137,
          25.574348,
          26.300165,
          24.98034,
          24.532846,
          24.226114,
          22.928675,
          26.87071,
          23.376505,
          24.498531,
          26.06928,
          25.649424,
          25.615164,
          25.465609,
          25.336416,
          24.397133,
          25.144299,
          26.222065,
          25.063845,
          24.903248,
          24.844637,
          24.19335,
          26.308441,
          23.617094
         ],
         "yaxis": "y"
        },
        {
         "customdata": [
          [
           "Tourism Growth Nexus",
           5,
           "pub.1090346357",
           ""
          ],
          [
           "Tourism Growth Nexus",
           5,
           "pub.1072794279",
           ""
          ],
          [
           "Tourism Growth Nexus",
           5,
           "pub.1049141736",
           ""
          ],
          [
           "Tourism Growth Nexus",
           5,
           "pub.1047663892",
           ""
          ],
          [
           "Tourism Growth Nexus",
           5,
           "pub.1035901982",
           ""
          ],
          [
           "Tourism Growth Nexus",
           5,
           "pub.1034653502",
           ""
          ],
          [
           "Tourism Growth Nexus",
           5,
           "pub.1029979518",
           ""
          ],
          [
           "Tourism Growth Nexus",
           5,
           "pub.1013412296",
           ""
          ],
          [
           "Tourism Growth Nexus",
           5,
           "pub.1011854038",
           ""
          ],
          [
           "Tourism Growth Nexus",
           5,
           "pub.1007878277",
           ""
          ],
          [
           "Tourism Growth Nexus",
           5,
           "pub.1007170077",
           ""
          ],
          [
           "Tourism Growth Nexus",
           5,
           "pub.1004840356",
           ""
          ],
          [
           "Tourism Growth Nexus",
           5,
           "pub.1004299966",
           ""
          ],
          [
           "Tourism Growth Nexus",
           5,
           "pub.1001562704",
           ""
          ],
          [
           "Tourism Growth Nexus",
           5,
           "pub.1000810498",
           ""
          ],
          [
           "Tourism Growth Nexus",
           5,
           "pub.1072794260",
           ""
          ],
          [
           "Tourism Growth Nexus",
           5,
           "pub.1053802942",
           ""
          ],
          [
           "Tourism Growth Nexus",
           5,
           "pub.1053750775",
           ""
          ],
          [
           "Tourism Growth Nexus",
           5,
           "pub.1033376226",
           ""
          ],
          [
           "Tourism Growth Nexus",
           5,
           "pub.1032490977",
           ""
          ],
          [
           "Tourism Growth Nexus",
           5,
           "pub.1029520182",
           ""
          ],
          [
           "Tourism Growth Nexus",
           5,
           "pub.1022720888",
           ""
          ],
          [
           "Tourism Growth Nexus",
           5,
           "pub.1017098340",
           ""
          ],
          [
           "Tourism Growth Nexus",
           5,
           "pub.1013871876",
           ""
          ],
          [
           "Tourism Growth Nexus",
           5,
           "pub.1003840912",
           ""
          ]
         ],
         "hovertemplate": "label=%{customdata[0]}<br>x=%{x}<br>y=%{y}<br>cluster=%{customdata[1]}<br>pub_id=%{customdata[2]}<br>survey_group=%{customdata[3]}<extra></extra>",
         "legendgroup": "Tourism Growth Nexus",
         "marker": {
          "color": "#0000ff",
          "opacity": 0.9,
          "symbol": "circle"
         },
         "mode": "markers",
         "name": "Tourism Growth Nexus",
         "orientation": "v",
         "showlegend": true,
         "type": "scatter",
         "x": [
          -30.201933,
          -30.812386,
          -31.773935,
          -30.31169,
          -31.790445,
          -31.614687,
          -30.884949,
          -31.763367,
          -29.889109,
          -30.802774,
          -32.10829,
          -30.734741,
          -29.24653,
          -30.663012,
          -31.233831,
          -30.79453,
          -29.322395,
          -30.003723,
          -29.90706,
          -32.193863,
          -27.449446,
          -30.930443,
          -30.205011,
          -31.021826,
          -30.257807
         ],
         "xaxis": "x",
         "y": [
          -17.348736,
          -18.058115,
          -16.315573,
          -18.366333,
          -18.124043,
          -16.852968,
          -17.031649,
          -16.237051,
          -16.804634,
          -15.395314,
          -17.170021,
          -15.531866,
          -16.731415,
          -17.150291,
          -17.736166,
          -16.704504,
          -17.107046,
          -17.676893,
          -16.738375,
          -17.1411,
          -15.293149,
          -16.389282,
          -16.794502,
          -15.589585,
          -18.06545
         ],
         "yaxis": "y"
        },
        {
         "customdata": [
          [
           "Cervical Myelopathy",
           12,
           "pub.1080091058",
           ""
          ],
          [
           "Cervical Myelopathy",
           12,
           "pub.1079276563",
           ""
          ],
          [
           "Cervical Myelopathy",
           12,
           "pub.1071103439",
           ""
          ],
          [
           "Cervical Myelopathy",
           12,
           "pub.1071103239",
           ""
          ],
          [
           "Cervical Myelopathy",
           12,
           "pub.1071098440",
           ""
          ],
          [
           "Cervical Myelopathy",
           12,
           "pub.1071097240",
           ""
          ],
          [
           "Cervical Myelopathy",
           12,
           "pub.1068893336",
           ""
          ],
          [
           "Cervical Myelopathy",
           12,
           "pub.1068893080",
           ""
          ],
          [
           "Cervical Myelopathy",
           12,
           "pub.1068890012",
           ""
          ],
          [
           "Cervical Myelopathy",
           11,
           "pub.1059443086",
           ""
          ],
          [
           "Cervical Myelopathy",
           12,
           "pub.1049890557",
           ""
          ],
          [
           "Cervical Myelopathy",
           12,
           "pub.1045861847",
           ""
          ],
          [
           "Cervical Myelopathy",
           12,
           "pub.1043047033",
           ""
          ],
          [
           "Cervical Myelopathy",
           12,
           "pub.1041327125",
           ""
          ],
          [
           "Cervical Myelopathy",
           12,
           "pub.1040115320",
           ""
          ],
          [
           "Cervical Myelopathy",
           12,
           "pub.1038222550",
           ""
          ],
          [
           "Cervical Myelopathy",
           12,
           "pub.1037790804",
           ""
          ],
          [
           "Cervical Myelopathy",
           12,
           "pub.1037654624",
           ""
          ],
          [
           "Cervical Myelopathy",
           12,
           "pub.1036336702",
           ""
          ],
          [
           "Cervical Myelopathy",
           12,
           "pub.1035509307",
           ""
          ],
          [
           "Cervical Myelopathy",
           12,
           "pub.1034944004",
           ""
          ],
          [
           "Cervical Myelopathy",
           12,
           "pub.1028542573",
           ""
          ],
          [
           "Cervical Myelopathy",
           12,
           "pub.1028420740",
           ""
          ],
          [
           "Cervical Myelopathy",
           12,
           "pub.1021857143",
           ""
          ],
          [
           "Cervical Myelopathy",
           12,
           "pub.1017401652",
           ""
          ],
          [
           "Cervical Myelopathy",
           12,
           "pub.1015407573",
           ""
          ],
          [
           "Cervical Myelopathy",
           12,
           "pub.1014052117",
           ""
          ],
          [
           "Cervical Myelopathy",
           12,
           "pub.1009748592",
           ""
          ],
          [
           "Cervical Myelopathy",
           12,
           "pub.1007826013",
           ""
          ],
          [
           "Cervical Myelopathy",
           12,
           "pub.1071103618",
           ""
          ],
          [
           "Cervical Myelopathy",
           12,
           "pub.1071103060",
           ""
          ],
          [
           "Cervical Myelopathy",
           12,
           "pub.1071097586",
           ""
          ],
          [
           "Cervical Myelopathy",
           12,
           "pub.1071095985",
           ""
          ],
          [
           "Cervical Myelopathy",
           11,
           "pub.1071088479",
           ""
          ],
          [
           "Cervical Myelopathy",
           12,
           "pub.1071076802",
           ""
          ],
          [
           "Cervical Myelopathy",
           11,
           "pub.1059442903",
           ""
          ],
          [
           "Cervical Myelopathy",
           12,
           "pub.1053723341",
           ""
          ],
          [
           "Cervical Myelopathy",
           12,
           "pub.1050443276",
           ""
          ],
          [
           "Cervical Myelopathy",
           12,
           "pub.1039231588",
           ""
          ],
          [
           "Cervical Myelopathy",
           12,
           "pub.1038098923",
           ""
          ],
          [
           "Cervical Myelopathy",
           12,
           "pub.1036299701",
           ""
          ],
          [
           "Cervical Myelopathy",
           12,
           "pub.1034074696",
           ""
          ],
          [
           "Cervical Myelopathy",
           12,
           "pub.1024110809",
           ""
          ],
          [
           "Cervical Myelopathy",
           12,
           "pub.1023278334",
           ""
          ],
          [
           "Cervical Myelopathy",
           12,
           "pub.1020803753",
           ""
          ],
          [
           "Cervical Myelopathy",
           12,
           "pub.1016889944",
           ""
          ],
          [
           "Cervical Myelopathy",
           12,
           "pub.1003399679",
           ""
          ]
         ],
         "hovertemplate": "label=%{customdata[0]}<br>x=%{x}<br>y=%{y}<br>cluster=%{customdata[1]}<br>pub_id=%{customdata[2]}<br>survey_group=%{customdata[3]}<extra></extra>",
         "legendgroup": "Cervical Myelopathy",
         "marker": {
          "color": "#ff00ff",
          "opacity": 0.9,
          "symbol": "circle"
         },
         "mode": "markers",
         "name": "Cervical Myelopathy",
         "orientation": "v",
         "showlegend": true,
         "type": "scatter",
         "x": [
          34.650455,
          35.006012,
          36.9116,
          35.904987,
          33.712875,
          34.05599,
          32.91904,
          33.887558,
          33.896545,
          32.674595,
          33.889145,
          34.991814,
          31.302967,
          33.71124,
          35.624786,
          37.05679,
          35.12614,
          37.111164,
          35.198536,
          35.399143,
          34.991314,
          35.256756,
          35.263935,
          35.075974,
          34.451347,
          35.01601,
          32.9227,
          35.055656,
          32.391163,
          35.823097,
          33.857597,
          34.720516,
          34.296917,
          32.69705,
          30.999454,
          32.65956,
          33.24188,
          37.02385,
          36.256542,
          36.920208,
          32.784172,
          32.71792,
          32.87885,
          36.232502,
          35.261646,
          31.271317,
          36.513138
         ],
         "xaxis": "x",
         "y": [
          -14.852661,
          -13.588901,
          -16.669111,
          -17.411966,
          -16.04951,
          -17.298893,
          -15.381683,
          -15.444499,
          -16.967693,
          -11.869389,
          -14.186842,
          -12.222522,
          -15.956342,
          -17.759283,
          -15.870753,
          -15.802314,
          -15.343214,
          -16.424839,
          -16.769047,
          -17.707617,
          -16.556168,
          -13.340548,
          -16.321377,
          -14.48302,
          -13.319183,
          -12.71685,
          -16.749163,
          -16.348906,
          -15.456604,
          -16.78546,
          -16.149443,
          -14.986371,
          -15.376724,
          -11.854115,
          -16.078962,
          -11.860787,
          -14.116947,
          -16.451668,
          -13.162097,
          -16.477345,
          -17.226137,
          -15.416669,
          -14.679183,
          -17.380507,
          -13.237205,
          -15.976519,
          -15.764138
         ],
         "yaxis": "y"
        },
        {
         "customdata": [
          [
           "Resilience in Business and management",
           10,
           "pub.1075345922",
           ""
          ],
          [
           "Resilience in Business and management",
           10,
           "pub.1073407503",
           ""
          ],
          [
           "Resilience in Business and management",
           10,
           "pub.1072896311",
           ""
          ],
          [
           "Resilience in Business and management",
           10,
           "pub.1072894681",
           ""
          ],
          [
           "Resilience in Business and management",
           10,
           "pub.1070196019",
           ""
          ],
          [
           "Resilience in Business and management",
           10,
           "pub.1069908660",
           ""
          ],
          [
           "Resilience in Business and management",
           10,
           "pub.1069908041",
           ""
          ],
          [
           "Resilience in Business and management",
           10,
           "pub.1069907901",
           ""
          ],
          [
           "Resilience in Business and management",
           10,
           "pub.1047959878",
           ""
          ],
          [
           "Resilience in Business and management",
           10,
           "pub.1041282031",
           ""
          ],
          [
           "Resilience in Business and management",
           10,
           "pub.1036458898",
           ""
          ],
          [
           "Resilience in Business and management",
           10,
           "pub.1032563790",
           ""
          ],
          [
           "Resilience in Business and management",
           10,
           "pub.1031594587",
           ""
          ],
          [
           "Resilience in Business and management",
           10,
           "pub.1030211703",
           ""
          ],
          [
           "Resilience in Business and management",
           10,
           "pub.1020050164",
           ""
          ],
          [
           "Resilience in Business and management",
           10,
           "pub.1008687306",
           ""
          ],
          [
           "Resilience in Business and management",
           10,
           "pub.1075056726",
           ""
          ],
          [
           "Resilience in Business and management",
           10,
           "pub.1069908683",
           ""
          ],
          [
           "Resilience in Business and management",
           10,
           "pub.1048916231",
           ""
          ],
          [
           "Resilience in Business and management",
           10,
           "pub.1043814808",
           ""
          ],
          [
           "Resilience in Business and management",
           10,
           "pub.1034737787",
           ""
          ],
          [
           "Resilience in Business and management",
           10,
           "pub.1031829691",
           ""
          ],
          [
           "Resilience in Business and management",
           10,
           "pub.1031821349",
           ""
          ],
          [
           "Resilience in Business and management",
           10,
           "pub.1030632837",
           ""
          ],
          [
           "Resilience in Business and management",
           10,
           "pub.1018062843",
           ""
          ],
          [
           "Resilience in Business and management",
           10,
           "pub.1016764583",
           ""
          ],
          [
           "Resilience in Business and management",
           10,
           "pub.1013827626",
           ""
          ]
         ],
         "hovertemplate": "label=%{customdata[0]}<br>x=%{x}<br>y=%{y}<br>cluster=%{customdata[1]}<br>pub_id=%{customdata[2]}<br>survey_group=%{customdata[3]}<extra></extra>",
         "legendgroup": "Resilience in Business and management",
         "marker": {
          "color": "#1e90ff",
          "opacity": 0.9,
          "symbol": "circle"
         },
         "mode": "markers",
         "name": "Resilience in Business and management",
         "orientation": "v",
         "showlegend": true,
         "type": "scatter",
         "x": [
          -6.4592752,
          -6.034614,
          -4.97132,
          -4.1471753,
          -6.0580773,
          -4.4901896,
          -5.5665126,
          -4.22137,
          -7.9097705,
          -4.2693763,
          -4.097585,
          -4.618068,
          -6.0975885,
          -3.6178744,
          -8.019849,
          -7.9836545,
          -6.365926,
          -3.886238,
          -3.8462882,
          -4.3082213,
          -5.831707,
          -8.057674,
          -4.9757457,
          -4.863479,
          -8.563367,
          -8.112616,
          -7.6139874
         ],
         "xaxis": "x",
         "y": [
          -2.638861,
          -2.316054,
          0.10042588,
          -1.2569972,
          -4.3291306,
          -3.6461687,
          -3.8438365,
          -2.1828334,
          -4.281474,
          -0.62227905,
          -0.70564944,
          -0.4570955,
          -3.4070854,
          -0.97153115,
          -3.562951,
          -3.64299,
          -2.782557,
          -3.1028032,
          -0.879298,
          -0.14997584,
          -3.507599,
          -3.3743434,
          0.27931735,
          0.1470594,
          -4.353658,
          -3.6322293,
          -4.4299126
         ],
         "yaxis": "y"
        },
        {
         "customdata": [
          [
           "Synthetic Biology",
           13,
           "pub.1067589570",
           ""
          ],
          [
           "Synthetic Biology",
           13,
           "pub.1052700485",
           ""
          ],
          [
           "Synthetic Biology",
           13,
           "pub.1042528786",
           ""
          ],
          [
           "Synthetic Biology",
           13,
           "pub.1037881716",
           ""
          ],
          [
           "Synthetic Biology",
           13,
           "pub.1036497140",
           ""
          ],
          [
           "Synthetic Biology",
           13,
           "pub.1036018285",
           ""
          ],
          [
           "Synthetic Biology",
           13,
           "pub.1035931199",
           ""
          ],
          [
           "Synthetic Biology",
           13,
           "pub.1028250908",
           ""
          ],
          [
           "Synthetic Biology",
           13,
           "pub.1026899122",
           ""
          ],
          [
           "Synthetic Biology",
           13,
           "pub.1025786828",
           ""
          ],
          [
           "Synthetic Biology",
           9,
           "pub.1022297654",
           ""
          ],
          [
           "Synthetic Biology",
           13,
           "pub.1022279877",
           ""
          ],
          [
           "Synthetic Biology",
           13,
           "pub.1021654569",
           ""
          ],
          [
           "Synthetic Biology",
           13,
           "pub.1021275892",
           ""
          ],
          [
           "Synthetic Biology",
           13,
           "pub.1020751277",
           ""
          ],
          [
           "Synthetic Biology",
           13,
           "pub.1016534270",
           ""
          ],
          [
           "Synthetic Biology",
           13,
           "pub.1014359908",
           ""
          ],
          [
           "Synthetic Biology",
           13,
           "pub.1009258787",
           ""
          ],
          [
           "Synthetic Biology",
           9,
           "pub.1006120611",
           ""
          ],
          [
           "Synthetic Biology",
           13,
           "pub.1002786107",
           ""
          ],
          [
           "Synthetic Biology",
           13,
           "pub.1001000963",
           ""
          ],
          [
           "Synthetic Biology",
           13,
           "pub.1048602129",
           ""
          ],
          [
           "Synthetic Biology",
           13,
           "pub.1046952734",
           ""
          ],
          [
           "Synthetic Biology",
           13,
           "pub.1033127471",
           ""
          ],
          [
           "Synthetic Biology",
           13,
           "pub.1028022455",
           ""
          ],
          [
           "Synthetic Biology",
           13,
           "pub.1024208323",
           ""
          ],
          [
           "Synthetic Biology",
           13,
           "pub.1010407598",
           ""
          ],
          [
           "Synthetic Biology",
           13,
           "pub.1009412636",
           ""
          ],
          [
           "Synthetic Biology",
           13,
           "pub.1004364700",
           ""
          ]
         ],
         "hovertemplate": "label=%{customdata[0]}<br>x=%{x}<br>y=%{y}<br>cluster=%{customdata[1]}<br>pub_id=%{customdata[2]}<br>survey_group=%{customdata[3]}<extra></extra>",
         "legendgroup": "Synthetic Biology",
         "marker": {
          "color": "#eee8aa",
          "opacity": 0.9,
          "symbol": "circle"
         },
         "mode": "markers",
         "name": "Synthetic Biology",
         "orientation": "v",
         "showlegend": true,
         "type": "scatter",
         "x": [
          7.61682,
          9.334111,
          8.662821,
          8.71062,
          7.9023376,
          10.733986,
          9.811221,
          10.379187,
          7.720198,
          8.077889,
          11.88476,
          7.9103866,
          6.8423605,
          8.346837,
          7.205788,
          7.66707,
          9.856648,
          8.053376,
          11.914327,
          8.417035,
          8.6283865,
          8.002299,
          7.8882494,
          7.1427517,
          7.830538,
          10.365569,
          8.8357315,
          10.429508,
          7.629857
         ],
         "xaxis": "x",
         "y": [
          4.5119343,
          5.9386735,
          7.699339,
          6.9623203,
          7.826543,
          5.27748,
          7.817381,
          5.52412,
          4.9236484,
          4.1639633,
          8.818044,
          5.902916,
          7.4386463,
          4.556975,
          6.1298547,
          7.210978,
          7.3373837,
          6.145369,
          8.824024,
          7.369574,
          5.998288,
          5.781884,
          4.73212,
          7.1749344,
          7.663387,
          5.6477757,
          6.9135237,
          5.5912676,
          6.2422986
         ],
         "yaxis": "y"
        },
        {
         "customdata": [
          [
           "Nanoparticles",
           3,
           "pub.1064567937",
           ""
          ],
          [
           "Nanoparticles",
           3,
           "pub.1062447105",
           ""
          ],
          [
           "Nanoparticles",
           3,
           "pub.1050579616",
           ""
          ],
          [
           "Nanoparticles",
           3,
           "pub.1041771334",
           ""
          ],
          [
           "Nanoparticles",
           3,
           "pub.1040302077",
           ""
          ],
          [
           "Nanoparticles",
           3,
           "pub.1039641194",
           ""
          ],
          [
           "Nanoparticles",
           3,
           "pub.1038778560",
           ""
          ],
          [
           "Nanoparticles",
           3,
           "pub.1029482017",
           ""
          ],
          [
           "Nanoparticles",
           3,
           "pub.1028058184",
           ""
          ],
          [
           "Nanoparticles",
           3,
           "pub.1027828956",
           ""
          ],
          [
           "Nanoparticles",
           3,
           "pub.1026661243",
           ""
          ],
          [
           "Nanoparticles",
           3,
           "pub.1025760895",
           ""
          ],
          [
           "Nanoparticles",
           3,
           "pub.1021666873",
           ""
          ],
          [
           "Nanoparticles",
           3,
           "pub.1020673706",
           ""
          ],
          [
           "Nanoparticles",
           3,
           "pub.1020647724",
           ""
          ],
          [
           "Nanoparticles",
           3,
           "pub.1015833771",
           ""
          ],
          [
           "Nanoparticles",
           3,
           "pub.1013655144",
           ""
          ],
          [
           "Nanoparticles",
           3,
           "pub.1009246618",
           ""
          ],
          [
           "Nanoparticles",
           3,
           "pub.1008013568",
           ""
          ],
          [
           "Nanoparticles",
           3,
           "pub.1005792673",
           ""
          ],
          [
           "Nanoparticles",
           3,
           "pub.1002703153",
           ""
          ],
          [
           "Nanoparticles",
           3,
           "pub.1001343412",
           ""
          ],
          [
           "Nanoparticles",
           3,
           "pub.1056221800",
           ""
          ],
          [
           "Nanoparticles",
           3,
           "pub.1056143784",
           ""
          ],
          [
           "Nanoparticles",
           3,
           "pub.1055504074",
           ""
          ],
          [
           "Nanoparticles",
           3,
           "pub.1052990623",
           ""
          ],
          [
           "Nanoparticles",
           3,
           "pub.1051411109",
           ""
          ],
          [
           "Nanoparticles",
           3,
           "pub.1050276749",
           ""
          ],
          [
           "Nanoparticles",
           3,
           "pub.1048709708",
           ""
          ],
          [
           "Nanoparticles",
           3,
           "pub.1047132329",
           ""
          ],
          [
           "Nanoparticles",
           3,
           "pub.1046826509",
           ""
          ],
          [
           "Nanoparticles",
           3,
           "pub.1044670756",
           ""
          ],
          [
           "Nanoparticles",
           3,
           "pub.1044430846",
           ""
          ],
          [
           "Nanoparticles",
           3,
           "pub.1041163416",
           ""
          ],
          [
           "Nanoparticles",
           3,
           "pub.1040077610",
           ""
          ],
          [
           "Nanoparticles",
           3,
           "pub.1039713086",
           ""
          ],
          [
           "Nanoparticles",
           3,
           "pub.1039601245",
           ""
          ],
          [
           "Nanoparticles",
           3,
           "pub.1036002565",
           ""
          ],
          [
           "Nanoparticles",
           3,
           "pub.1035909146",
           ""
          ],
          [
           "Nanoparticles",
           3,
           "pub.1035623214",
           ""
          ],
          [
           "Nanoparticles",
           3,
           "pub.1035474832",
           ""
          ],
          [
           "Nanoparticles",
           3,
           "pub.1035387745",
           ""
          ],
          [
           "Nanoparticles",
           3,
           "pub.1034007004",
           ""
          ],
          [
           "Nanoparticles",
           3,
           "pub.1033416172",
           ""
          ],
          [
           "Nanoparticles",
           3,
           "pub.1031075757",
           ""
          ],
          [
           "Nanoparticles",
           3,
           "pub.1028529625",
           ""
          ],
          [
           "Nanoparticles",
           3,
           "pub.1024367203",
           ""
          ],
          [
           "Nanoparticles",
           3,
           "pub.1017225012",
           ""
          ],
          [
           "Nanoparticles",
           3,
           "pub.1016714991",
           ""
          ],
          [
           "Nanoparticles",
           3,
           "pub.1005629396",
           ""
          ]
         ],
         "hovertemplate": "label=%{customdata[0]}<br>x=%{x}<br>y=%{y}<br>cluster=%{customdata[1]}<br>pub_id=%{customdata[2]}<br>survey_group=%{customdata[3]}<extra></extra>",
         "legendgroup": "Nanoparticles",
         "marker": {
          "color": "#000000",
          "opacity": 0.9,
          "symbol": "circle"
         },
         "mode": "markers",
         "name": "Nanoparticles",
         "orientation": "v",
         "showlegend": true,
         "type": "scatter",
         "x": [
          20.469423,
          18.044327,
          14.315709,
          20.84163,
          17.561413,
          17.938309,
          19.78493,
          20.59632,
          17.33584,
          20.956718,
          19.202604,
          16.858274,
          19.92801,
          22.322824,
          18.271286,
          17.009813,
          18.754045,
          19.401228,
          21.45195,
          19.617422,
          18.761892,
          19.63799,
          19.416897,
          16.823938,
          22.809025,
          20.743448,
          17.83457,
          16.70956,
          21.111162,
          19.589828,
          21.495403,
          21.40643,
          16.892504,
          16.655142,
          18.812794,
          18.520279,
          18.492727,
          18.734062,
          20.05406,
          19.100107,
          19.165018,
          21.447756,
          22.240671,
          20.46936,
          16.676413,
          20.887407,
          19.571747,
          19.967295,
          16.625555,
          20.51875
         ],
         "xaxis": "x",
         "y": [
          5.0735106,
          2.8944602,
          3.6268518,
          3.5270154,
          3.9606724,
          3.9601462,
          4.9738283,
          2.5755577,
          4.269866,
          4.2319183,
          2.389858,
          7.6936703,
          5.1124687,
          4.4683886,
          5.3791904,
          4.4750786,
          6.8385186,
          5.4586105,
          2.817159,
          2.9125035,
          2.5142605,
          3.6587107,
          3.439911,
          7.7006855,
          5.8779845,
          3.7414505,
          5.5152555,
          2.5415387,
          2.957741,
          2.9511464,
          6.2103477,
          2.8911204,
          7.6836953,
          5.1433444,
          3.1667962,
          4.986677,
          5.2093706,
          5.7623687,
          6.3913293,
          6.974681,
          5.7036242,
          6.170247,
          6.2125955,
          9.0566845,
          3.4614933,
          4.769498,
          4.3003664,
          1.6047592,
          3.3427866,
          8.966985
         ],
         "yaxis": "y"
        },
        {
         "hovertemplate": "x=%{x}<br>y=%{y}<extra></extra>",
         "legendgroup": "",
         "marker": {
          "color": "#8B0000",
          "symbol": "circle"
         },
         "mode": "markers",
         "name": "",
         "orientation": "v",
         "showlegend": false,
         "type": "scatter",
         "x": [
          20.574854,
          -12.944243,
          -11.684838,
          -13.022125,
          -21.880585,
          -28.483782,
          22.390652,
          -1.1734351,
          17.317648,
          -8.127685,
          36.226574,
          5.800761,
          7.1745243,
          -7.2759356,
          -26.05251
         ],
         "xaxis": "x",
         "y": [
          20.992292,
          -3.7769852,
          -14.9254055,
          16.84474,
          16.237217,
          -18.417048,
          3.2292624,
          24.49473,
          -17.356915,
          23.35502,
          -14.413617,
          -3.431668,
          4.1171055,
          -3.04242,
          -17.598907
         ],
         "yaxis": "y"
        }
       ],
       "layout": {
        "legend": {
         "orientation": "h",
         "title": {
          "text": "label"
         },
         "tracegroupgap": 0,
         "y": -0.2
        },
        "margin": {
         "t": 60
        },
        "template": {
         "data": {
          "bar": [
           {
            "error_x": {
             "color": "#2a3f5f"
            },
            "error_y": {
             "color": "#2a3f5f"
            },
            "marker": {
             "line": {
              "color": "#E5ECF6",
              "width": 0.5
             },
             "pattern": {
              "fillmode": "overlay",
              "size": 10,
              "solidity": 0.2
             }
            },
            "type": "bar"
           }
          ],
          "barpolar": [
           {
            "marker": {
             "line": {
              "color": "#E5ECF6",
              "width": 0.5
             },
             "pattern": {
              "fillmode": "overlay",
              "size": 10,
              "solidity": 0.2
             }
            },
            "type": "barpolar"
           }
          ],
          "carpet": [
           {
            "aaxis": {
             "endlinecolor": "#2a3f5f",
             "gridcolor": "white",
             "linecolor": "white",
             "minorgridcolor": "white",
             "startlinecolor": "#2a3f5f"
            },
            "baxis": {
             "endlinecolor": "#2a3f5f",
             "gridcolor": "white",
             "linecolor": "white",
             "minorgridcolor": "white",
             "startlinecolor": "#2a3f5f"
            },
            "type": "carpet"
           }
          ],
          "choropleth": [
           {
            "colorbar": {
             "outlinewidth": 0,
             "ticks": ""
            },
            "type": "choropleth"
           }
          ],
          "contour": [
           {
            "colorbar": {
             "outlinewidth": 0,
             "ticks": ""
            },
            "colorscale": [
             [
              0,
              "#0d0887"
             ],
             [
              0.1111111111111111,
              "#46039f"
             ],
             [
              0.2222222222222222,
              "#7201a8"
             ],
             [
              0.3333333333333333,
              "#9c179e"
             ],
             [
              0.4444444444444444,
              "#bd3786"
             ],
             [
              0.5555555555555556,
              "#d8576b"
             ],
             [
              0.6666666666666666,
              "#ed7953"
             ],
             [
              0.7777777777777778,
              "#fb9f3a"
             ],
             [
              0.8888888888888888,
              "#fdca26"
             ],
             [
              1,
              "#f0f921"
             ]
            ],
            "type": "contour"
           }
          ],
          "contourcarpet": [
           {
            "colorbar": {
             "outlinewidth": 0,
             "ticks": ""
            },
            "type": "contourcarpet"
           }
          ],
          "heatmap": [
           {
            "colorbar": {
             "outlinewidth": 0,
             "ticks": ""
            },
            "colorscale": [
             [
              0,
              "#0d0887"
             ],
             [
              0.1111111111111111,
              "#46039f"
             ],
             [
              0.2222222222222222,
              "#7201a8"
             ],
             [
              0.3333333333333333,
              "#9c179e"
             ],
             [
              0.4444444444444444,
              "#bd3786"
             ],
             [
              0.5555555555555556,
              "#d8576b"
             ],
             [
              0.6666666666666666,
              "#ed7953"
             ],
             [
              0.7777777777777778,
              "#fb9f3a"
             ],
             [
              0.8888888888888888,
              "#fdca26"
             ],
             [
              1,
              "#f0f921"
             ]
            ],
            "type": "heatmap"
           }
          ],
          "heatmapgl": [
           {
            "colorbar": {
             "outlinewidth": 0,
             "ticks": ""
            },
            "colorscale": [
             [
              0,
              "#0d0887"
             ],
             [
              0.1111111111111111,
              "#46039f"
             ],
             [
              0.2222222222222222,
              "#7201a8"
             ],
             [
              0.3333333333333333,
              "#9c179e"
             ],
             [
              0.4444444444444444,
              "#bd3786"
             ],
             [
              0.5555555555555556,
              "#d8576b"
             ],
             [
              0.6666666666666666,
              "#ed7953"
             ],
             [
              0.7777777777777778,
              "#fb9f3a"
             ],
             [
              0.8888888888888888,
              "#fdca26"
             ],
             [
              1,
              "#f0f921"
             ]
            ],
            "type": "heatmapgl"
           }
          ],
          "histogram": [
           {
            "marker": {
             "pattern": {
              "fillmode": "overlay",
              "size": 10,
              "solidity": 0.2
             }
            },
            "type": "histogram"
           }
          ],
          "histogram2d": [
           {
            "colorbar": {
             "outlinewidth": 0,
             "ticks": ""
            },
            "colorscale": [
             [
              0,
              "#0d0887"
             ],
             [
              0.1111111111111111,
              "#46039f"
             ],
             [
              0.2222222222222222,
              "#7201a8"
             ],
             [
              0.3333333333333333,
              "#9c179e"
             ],
             [
              0.4444444444444444,
              "#bd3786"
             ],
             [
              0.5555555555555556,
              "#d8576b"
             ],
             [
              0.6666666666666666,
              "#ed7953"
             ],
             [
              0.7777777777777778,
              "#fb9f3a"
             ],
             [
              0.8888888888888888,
              "#fdca26"
             ],
             [
              1,
              "#f0f921"
             ]
            ],
            "type": "histogram2d"
           }
          ],
          "histogram2dcontour": [
           {
            "colorbar": {
             "outlinewidth": 0,
             "ticks": ""
            },
            "colorscale": [
             [
              0,
              "#0d0887"
             ],
             [
              0.1111111111111111,
              "#46039f"
             ],
             [
              0.2222222222222222,
              "#7201a8"
             ],
             [
              0.3333333333333333,
              "#9c179e"
             ],
             [
              0.4444444444444444,
              "#bd3786"
             ],
             [
              0.5555555555555556,
              "#d8576b"
             ],
             [
              0.6666666666666666,
              "#ed7953"
             ],
             [
              0.7777777777777778,
              "#fb9f3a"
             ],
             [
              0.8888888888888888,
              "#fdca26"
             ],
             [
              1,
              "#f0f921"
             ]
            ],
            "type": "histogram2dcontour"
           }
          ],
          "mesh3d": [
           {
            "colorbar": {
             "outlinewidth": 0,
             "ticks": ""
            },
            "type": "mesh3d"
           }
          ],
          "parcoords": [
           {
            "line": {
             "colorbar": {
              "outlinewidth": 0,
              "ticks": ""
             }
            },
            "type": "parcoords"
           }
          ],
          "pie": [
           {
            "automargin": true,
            "type": "pie"
           }
          ],
          "scatter": [
           {
            "fillpattern": {
             "fillmode": "overlay",
             "size": 10,
             "solidity": 0.2
            },
            "type": "scatter"
           }
          ],
          "scatter3d": [
           {
            "line": {
             "colorbar": {
              "outlinewidth": 0,
              "ticks": ""
             }
            },
            "marker": {
             "colorbar": {
              "outlinewidth": 0,
              "ticks": ""
             }
            },
            "type": "scatter3d"
           }
          ],
          "scattercarpet": [
           {
            "marker": {
             "colorbar": {
              "outlinewidth": 0,
              "ticks": ""
             }
            },
            "type": "scattercarpet"
           }
          ],
          "scattergeo": [
           {
            "marker": {
             "colorbar": {
              "outlinewidth": 0,
              "ticks": ""
             }
            },
            "type": "scattergeo"
           }
          ],
          "scattergl": [
           {
            "marker": {
             "colorbar": {
              "outlinewidth": 0,
              "ticks": ""
             }
            },
            "type": "scattergl"
           }
          ],
          "scattermapbox": [
           {
            "marker": {
             "colorbar": {
              "outlinewidth": 0,
              "ticks": ""
             }
            },
            "type": "scattermapbox"
           }
          ],
          "scatterpolar": [
           {
            "marker": {
             "colorbar": {
              "outlinewidth": 0,
              "ticks": ""
             }
            },
            "type": "scatterpolar"
           }
          ],
          "scatterpolargl": [
           {
            "marker": {
             "colorbar": {
              "outlinewidth": 0,
              "ticks": ""
             }
            },
            "type": "scatterpolargl"
           }
          ],
          "scatterternary": [
           {
            "marker": {
             "colorbar": {
              "outlinewidth": 0,
              "ticks": ""
             }
            },
            "type": "scatterternary"
           }
          ],
          "surface": [
           {
            "colorbar": {
             "outlinewidth": 0,
             "ticks": ""
            },
            "colorscale": [
             [
              0,
              "#0d0887"
             ],
             [
              0.1111111111111111,
              "#46039f"
             ],
             [
              0.2222222222222222,
              "#7201a8"
             ],
             [
              0.3333333333333333,
              "#9c179e"
             ],
             [
              0.4444444444444444,
              "#bd3786"
             ],
             [
              0.5555555555555556,
              "#d8576b"
             ],
             [
              0.6666666666666666,
              "#ed7953"
             ],
             [
              0.7777777777777778,
              "#fb9f3a"
             ],
             [
              0.8888888888888888,
              "#fdca26"
             ],
             [
              1,
              "#f0f921"
             ]
            ],
            "type": "surface"
           }
          ],
          "table": [
           {
            "cells": {
             "fill": {
              "color": "#EBF0F8"
             },
             "line": {
              "color": "white"
             }
            },
            "header": {
             "fill": {
              "color": "#C8D4E3"
             },
             "line": {
              "color": "white"
             }
            },
            "type": "table"
           }
          ]
         },
         "layout": {
          "annotationdefaults": {
           "arrowcolor": "#2a3f5f",
           "arrowhead": 0,
           "arrowwidth": 1
          },
          "autotypenumbers": "strict",
          "coloraxis": {
           "colorbar": {
            "outlinewidth": 0,
            "ticks": ""
           }
          },
          "colorscale": {
           "diverging": [
            [
             0,
             "#8e0152"
            ],
            [
             0.1,
             "#c51b7d"
            ],
            [
             0.2,
             "#de77ae"
            ],
            [
             0.3,
             "#f1b6da"
            ],
            [
             0.4,
             "#fde0ef"
            ],
            [
             0.5,
             "#f7f7f7"
            ],
            [
             0.6,
             "#e6f5d0"
            ],
            [
             0.7,
             "#b8e186"
            ],
            [
             0.8,
             "#7fbc41"
            ],
            [
             0.9,
             "#4d9221"
            ],
            [
             1,
             "#276419"
            ]
           ],
           "sequential": [
            [
             0,
             "#0d0887"
            ],
            [
             0.1111111111111111,
             "#46039f"
            ],
            [
             0.2222222222222222,
             "#7201a8"
            ],
            [
             0.3333333333333333,
             "#9c179e"
            ],
            [
             0.4444444444444444,
             "#bd3786"
            ],
            [
             0.5555555555555556,
             "#d8576b"
            ],
            [
             0.6666666666666666,
             "#ed7953"
            ],
            [
             0.7777777777777778,
             "#fb9f3a"
            ],
            [
             0.8888888888888888,
             "#fdca26"
            ],
            [
             1,
             "#f0f921"
            ]
           ],
           "sequentialminus": [
            [
             0,
             "#0d0887"
            ],
            [
             0.1111111111111111,
             "#46039f"
            ],
            [
             0.2222222222222222,
             "#7201a8"
            ],
            [
             0.3333333333333333,
             "#9c179e"
            ],
            [
             0.4444444444444444,
             "#bd3786"
            ],
            [
             0.5555555555555556,
             "#d8576b"
            ],
            [
             0.6666666666666666,
             "#ed7953"
            ],
            [
             0.7777777777777778,
             "#fb9f3a"
            ],
            [
             0.8888888888888888,
             "#fdca26"
            ],
            [
             1,
             "#f0f921"
            ]
           ]
          },
          "colorway": [
           "#2f4f4f",
           "#a0522d",
           "#006400",
           "#000080",
           "#ff0000",
           "#00ced1",
           "#ffa500",
           "#ffff00",
           "#00ff00",
           "#00fa9a",
           "#0000ff",
           "#ff00ff",
           "#1e90ff",
           "#eee8aa",
           "#000000"
          ],
          "font": {
           "color": "#2a3f5f"
          },
          "geo": {
           "bgcolor": "white",
           "lakecolor": "white",
           "landcolor": "#E5ECF6",
           "showlakes": true,
           "showland": true,
           "subunitcolor": "white"
          },
          "hoverlabel": {
           "align": "left"
          },
          "hovermode": "closest",
          "mapbox": {
           "style": "light"
          },
          "paper_bgcolor": "white",
          "plot_bgcolor": "#E5ECF6",
          "polar": {
           "angularaxis": {
            "gridcolor": "white",
            "linecolor": "white",
            "ticks": ""
           },
           "bgcolor": "#E5ECF6",
           "radialaxis": {
            "gridcolor": "white",
            "linecolor": "white",
            "ticks": ""
           }
          },
          "scene": {
           "xaxis": {
            "backgroundcolor": "#E5ECF6",
            "gridcolor": "white",
            "gridwidth": 2,
            "linecolor": "white",
            "showbackground": true,
            "ticks": "",
            "zerolinecolor": "white"
           },
           "yaxis": {
            "backgroundcolor": "#E5ECF6",
            "gridcolor": "white",
            "gridwidth": 2,
            "linecolor": "white",
            "showbackground": true,
            "ticks": "",
            "zerolinecolor": "white"
           },
           "zaxis": {
            "backgroundcolor": "#E5ECF6",
            "gridcolor": "white",
            "gridwidth": 2,
            "linecolor": "white",
            "showbackground": true,
            "ticks": "",
            "zerolinecolor": "white"
           }
          },
          "shapedefaults": {
           "line": {
            "color": "#2a3f5f"
           }
          },
          "ternary": {
           "aaxis": {
            "gridcolor": "white",
            "linecolor": "white",
            "ticks": ""
           },
           "baxis": {
            "gridcolor": "white",
            "linecolor": "white",
            "ticks": ""
           },
           "bgcolor": "#E5ECF6",
           "caxis": {
            "gridcolor": "white",
            "linecolor": "white",
            "ticks": ""
           }
          },
          "title": {
           "x": 0.05
          },
          "xaxis": {
           "automargin": true,
           "gridcolor": "white",
           "linecolor": "white",
           "ticks": "",
           "title": {
            "standoff": 15
           },
           "zerolinecolor": "white",
           "zerolinewidth": 2
          },
          "yaxis": {
           "automargin": true,
           "gridcolor": "white",
           "linecolor": "white",
           "ticks": "",
           "title": {
            "standoff": 15
           },
           "zerolinecolor": "white",
           "zerolinewidth": 2
          }
         }
        },
        "title": {
         "font": {
          "size": 20
         },
         "text": "Clustering of Core Publications",
         "x": 0.5
        },
        "xaxis": {
         "anchor": "y",
         "domain": [
          0,
          1
         ],
         "title": {
          "font": {
           "size": 15
          },
          "text": "TSNE 1"
         }
        },
        "yaxis": {
         "anchor": "x",
         "domain": [
          0,
          1
         ],
         "title": {
          "font": {
           "size": 15
          },
          "text": "TSNE 2"
         }
        }
       }
      }
     },
     "metadata": {},
     "output_type": "display_data"
    }
   ],
   "source": [
    "fig = px.scatter(\n",
    "    df[df[\"label\"] != \"Survey\"],\n",
    "    x=\"x\",\n",
    "    y=\"y\",\n",
    "    color=\"label\",\n",
    "    hover_data=[\"label\", \"cluster\", \"pub_id\", \"survey_group\"],\n",
    ")\n",
    "fig.update_traces(marker_opacity=0.9)\n",
    "# set title, axis labels values t-SNE\n",
    "# set title font size to 20 and x and y axis labels font size to 15 rename label to topic\n",
    "fig.update_layout(\n",
    "    title=\"Clustering of Core Publications\",\n",
    "    title_x=0.5,\n",
    "    xaxis_title=\"TSNE 1\",\n",
    "    yaxis_title=\"TSNE 2\",\n",
    "    title_font_size=20,\n",
    "    xaxis_title_font_size=15,\n",
    "    yaxis_title_font_size=15,\n",
    ")\n",
    "fig.add_trace(\n",
    "    px.scatter(\n",
    "        df[df[\"label\"] == \"Survey\"],\n",
    "        x=\"x\",\n",
    "        y=\"y\",\n",
    "        color_discrete_sequence=[\"#8B0000\"],\n",
    "    ).data[0]\n",
    ")\n",
    "fig.data[1].name = \"Survey\"\n",
    "fig.update_layout(legend=dict(orientation=\"h\", y=-0.2))\n",
    "fig.show()#pdf\n",
    "pio.write_image(fig, \"core_publications_tsne.pdf\")"
   ]
  },
  {
   "cell_type": "code",
   "execution_count": 6,
   "metadata": {},
   "outputs": [
    {
     "ename": "KeyboardInterrupt",
     "evalue": "",
     "output_type": "error",
     "traceback": [
      "\u001b[1;31m---------------------------------------------------------------------------\u001b[0m",
      "\u001b[1;31mKeyError\u001b[0m                                  Traceback (most recent call last)",
      "File \u001b[1;32mc:\\Users\\saknini\\Desktop\\Master Project\\LitQEval\\.venv\\lib\\site-packages\\numba\\core\\types\\misc.py:80\u001b[0m, in \u001b[0;36mliteral\u001b[1;34m(value)\u001b[0m\n\u001b[0;32m     79\u001b[0m \u001b[38;5;28;01mtry\u001b[39;00m:\n\u001b[1;32m---> 80\u001b[0m     ctor \u001b[38;5;241m=\u001b[39m \u001b[43mLiteral\u001b[49m\u001b[38;5;241;43m.\u001b[39;49m\u001b[43mctor_map\u001b[49m\u001b[43m[\u001b[49m\u001b[43mty\u001b[49m\u001b[43m]\u001b[49m\n\u001b[0;32m     81\u001b[0m \u001b[38;5;28;01mexcept\u001b[39;00m \u001b[38;5;167;01mKeyError\u001b[39;00m:\n",
      "\u001b[1;31mKeyError\u001b[0m: <class 'numba.core.registry.CPUDispatcher'>",
      "\nDuring handling of the above exception, another exception occurred:\n",
      "\u001b[1;31mKeyboardInterrupt\u001b[0m                         Traceback (most recent call last)",
      "Cell \u001b[1;32mIn[6], line 1\u001b[0m\n\u001b[1;32m----> 1\u001b[0m \u001b[38;5;28;01mimport\u001b[39;00m \u001b[38;5;21;01mumap\u001b[39;00m\n\u001b[0;32m      3\u001b[0m umap_embeddings \u001b[38;5;241m=\u001b[39m umap\u001b[38;5;241m.\u001b[39mUMAP(n_neighbors\u001b[38;5;241m=\u001b[39m\u001b[38;5;241m20\u001b[39m, min_dist\u001b[38;5;241m=\u001b[39m\u001b[38;5;241m0.2\u001b[39m, metric\u001b[38;5;241m=\u001b[39m\u001b[38;5;124m\"\u001b[39m\u001b[38;5;124mcosine\u001b[39m\u001b[38;5;124m\"\u001b[39m)\u001b[38;5;241m.\u001b[39mfit_transform(\n\u001b[0;32m      4\u001b[0m     all_embeddings\n\u001b[0;32m      5\u001b[0m )\n",
      "File \u001b[1;32mc:\\Users\\saknini\\Desktop\\Master Project\\LitQEval\\.venv\\lib\\site-packages\\umap\\__init__.py:2\u001b[0m\n\u001b[0;32m      1\u001b[0m \u001b[38;5;28;01mfrom\u001b[39;00m \u001b[38;5;21;01mwarnings\u001b[39;00m \u001b[38;5;28;01mimport\u001b[39;00m warn, catch_warnings, simplefilter\n\u001b[1;32m----> 2\u001b[0m \u001b[38;5;28;01mfrom\u001b[39;00m \u001b[38;5;21;01m.\u001b[39;00m\u001b[38;5;21;01mumap_\u001b[39;00m \u001b[38;5;28;01mimport\u001b[39;00m UMAP\n\u001b[0;32m      4\u001b[0m \u001b[38;5;28;01mtry\u001b[39;00m:\n\u001b[0;32m      5\u001b[0m     \u001b[38;5;28;01mwith\u001b[39;00m catch_warnings():\n",
      "File \u001b[1;32mc:\\Users\\saknini\\Desktop\\Master Project\\LitQEval\\.venv\\lib\\site-packages\\umap\\umap_.py:33\u001b[0m\n\u001b[0;32m     29\u001b[0m \u001b[38;5;28;01mimport\u001b[39;00m \u001b[38;5;21;01mnumba\u001b[39;00m\n\u001b[0;32m     31\u001b[0m \u001b[38;5;28;01mimport\u001b[39;00m \u001b[38;5;21;01mumap\u001b[39;00m\u001b[38;5;21;01m.\u001b[39;00m\u001b[38;5;21;01mdistances\u001b[39;00m \u001b[38;5;28;01mas\u001b[39;00m \u001b[38;5;21;01mdist\u001b[39;00m\n\u001b[1;32m---> 33\u001b[0m \u001b[38;5;28;01mimport\u001b[39;00m \u001b[38;5;21;01mumap\u001b[39;00m\u001b[38;5;21;01m.\u001b[39;00m\u001b[38;5;21;01msparse\u001b[39;00m \u001b[38;5;28;01mas\u001b[39;00m \u001b[38;5;21;01msparse\u001b[39;00m\n\u001b[0;32m     35\u001b[0m \u001b[38;5;28;01mfrom\u001b[39;00m \u001b[38;5;21;01mumap\u001b[39;00m\u001b[38;5;21;01m.\u001b[39;00m\u001b[38;5;21;01mutils\u001b[39;00m \u001b[38;5;28;01mimport\u001b[39;00m (\n\u001b[0;32m     36\u001b[0m     submatrix,\n\u001b[0;32m     37\u001b[0m     ts,\n\u001b[0;32m     38\u001b[0m     csr_unique,\n\u001b[0;32m     39\u001b[0m     fast_knn_indices,\n\u001b[0;32m     40\u001b[0m )\n\u001b[0;32m     41\u001b[0m \u001b[38;5;28;01mfrom\u001b[39;00m \u001b[38;5;21;01mumap\u001b[39;00m\u001b[38;5;21;01m.\u001b[39;00m\u001b[38;5;21;01mspectral\u001b[39;00m \u001b[38;5;28;01mimport\u001b[39;00m spectral_layout, tswspectral_layout\n",
      "File \u001b[1;32mc:\\Users\\saknini\\Desktop\\Master Project\\LitQEval\\.venv\\lib\\site-packages\\umap\\sparse.py:12\u001b[0m\n\u001b[0;32m      9\u001b[0m \u001b[38;5;28;01mimport\u001b[39;00m \u001b[38;5;21;01mnumba\u001b[39;00m\n\u001b[0;32m     10\u001b[0m \u001b[38;5;28;01mimport\u001b[39;00m \u001b[38;5;21;01mnumpy\u001b[39;00m \u001b[38;5;28;01mas\u001b[39;00m \u001b[38;5;21;01mnp\u001b[39;00m\n\u001b[1;32m---> 12\u001b[0m \u001b[38;5;28;01mfrom\u001b[39;00m \u001b[38;5;21;01mumap\u001b[39;00m\u001b[38;5;21;01m.\u001b[39;00m\u001b[38;5;21;01mutils\u001b[39;00m \u001b[38;5;28;01mimport\u001b[39;00m norm\n\u001b[0;32m     14\u001b[0m locale\u001b[38;5;241m.\u001b[39msetlocale(locale\u001b[38;5;241m.\u001b[39mLC_NUMERIC, \u001b[38;5;124m\"\u001b[39m\u001b[38;5;124mC\u001b[39m\u001b[38;5;124m\"\u001b[39m)\n\u001b[0;32m     17\u001b[0m \u001b[38;5;66;03m# Just reproduce a simpler version of numpy unique (not numba supported yet)\u001b[39;00m\n",
      "File \u001b[1;32mc:\\Users\\saknini\\Desktop\\Master Project\\LitQEval\\.venv\\lib\\site-packages\\umap\\utils.py:67\u001b[0m\n\u001b[0;32m     59\u001b[0m     state[\u001b[38;5;241m2\u001b[39m] \u001b[38;5;241m=\u001b[39m (((state[\u001b[38;5;241m2\u001b[39m] \u001b[38;5;241m&\u001b[39m \u001b[38;5;241m4294967280\u001b[39m) \u001b[38;5;241m<<\u001b[39m \u001b[38;5;241m17\u001b[39m) \u001b[38;5;241m&\u001b[39m \u001b[38;5;241m0xFFFFFFFF\u001b[39m) \u001b[38;5;241m^\u001b[39m (\n\u001b[0;32m     60\u001b[0m         (((state[\u001b[38;5;241m2\u001b[39m] \u001b[38;5;241m<<\u001b[39m \u001b[38;5;241m3\u001b[39m) \u001b[38;5;241m&\u001b[39m \u001b[38;5;241m0xFFFFFFFF\u001b[39m) \u001b[38;5;241m^\u001b[39m state[\u001b[38;5;241m2\u001b[39m]) \u001b[38;5;241m>>\u001b[39m \u001b[38;5;241m11\u001b[39m\n\u001b[0;32m     61\u001b[0m     )\n\u001b[0;32m     63\u001b[0m     \u001b[38;5;28;01mreturn\u001b[39;00m state[\u001b[38;5;241m0\u001b[39m] \u001b[38;5;241m^\u001b[39m state[\u001b[38;5;241m1\u001b[39m] \u001b[38;5;241m^\u001b[39m state[\u001b[38;5;241m2\u001b[39m]\n\u001b[0;32m     66\u001b[0m \u001b[38;5;129;43m@numba\u001b[39;49m\u001b[38;5;241;43m.\u001b[39;49m\u001b[43mnjit\u001b[49m\u001b[43m(\u001b[49m\u001b[38;5;124;43m\"\u001b[39;49m\u001b[38;5;124;43mf4(i8[:])\u001b[39;49m\u001b[38;5;124;43m\"\u001b[39;49m\u001b[43m)\u001b[49m\n\u001b[1;32m---> 67\u001b[0m \u001b[38;5;28;43;01mdef\u001b[39;49;00m\u001b[43m \u001b[49m\u001b[38;5;21;43mtau_rand\u001b[39;49m\u001b[43m(\u001b[49m\u001b[43mstate\u001b[49m\u001b[43m)\u001b[49m\u001b[43m:\u001b[49m\n\u001b[0;32m     68\u001b[0m \u001b[38;5;250;43m    \u001b[39;49m\u001b[38;5;124;43;03m\"\"\"A fast (pseudo)-random number generator for floats in the range [0,1]\u001b[39;49;00m\n\u001b[0;32m     69\u001b[0m \n\u001b[0;32m     70\u001b[0m \u001b[38;5;124;43;03m    Parameters\u001b[39;49;00m\n\u001b[1;32m   (...)\u001b[0m\n\u001b[0;32m     77\u001b[0m \u001b[38;5;124;43;03m    A (pseudo)-random float32 in the interval [0, 1]\u001b[39;49;00m\n\u001b[0;32m     78\u001b[0m \u001b[38;5;124;43;03m    \"\"\"\u001b[39;49;00m\n\u001b[0;32m     79\u001b[0m \u001b[43m    \u001b[49m\u001b[43minteger\u001b[49m\u001b[43m \u001b[49m\u001b[38;5;241;43m=\u001b[39;49m\u001b[43m \u001b[49m\u001b[43mtau_rand_int\u001b[49m\u001b[43m(\u001b[49m\u001b[43mstate\u001b[49m\u001b[43m)\u001b[49m\n",
      "File \u001b[1;32mc:\\Users\\saknini\\Desktop\\Master Project\\LitQEval\\.venv\\lib\\site-packages\\numba\\core\\decorators.py:232\u001b[0m, in \u001b[0;36m_jit.<locals>.wrapper\u001b[1;34m(func)\u001b[0m\n\u001b[0;32m    230\u001b[0m     \u001b[38;5;28;01mwith\u001b[39;00m typeinfer\u001b[38;5;241m.\u001b[39mregister_dispatcher(disp):\n\u001b[0;32m    231\u001b[0m         \u001b[38;5;28;01mfor\u001b[39;00m sig \u001b[38;5;129;01min\u001b[39;00m sigs:\n\u001b[1;32m--> 232\u001b[0m             \u001b[43mdisp\u001b[49m\u001b[38;5;241;43m.\u001b[39;49m\u001b[43mcompile\u001b[49m\u001b[43m(\u001b[49m\u001b[43msig\u001b[49m\u001b[43m)\u001b[49m\n\u001b[0;32m    233\u001b[0m         disp\u001b[38;5;241m.\u001b[39mdisable_compile()\n\u001b[0;32m    234\u001b[0m \u001b[38;5;28;01mreturn\u001b[39;00m disp\n",
      "File \u001b[1;32mc:\\Users\\saknini\\Desktop\\Master Project\\LitQEval\\.venv\\lib\\site-packages\\numba\\core\\dispatcher.py:905\u001b[0m, in \u001b[0;36mDispatcher.compile\u001b[1;34m(self, sig)\u001b[0m\n\u001b[0;32m    903\u001b[0m \u001b[38;5;28;01mwith\u001b[39;00m ev\u001b[38;5;241m.\u001b[39mtrigger_event(\u001b[38;5;124m\"\u001b[39m\u001b[38;5;124mnumba:compile\u001b[39m\u001b[38;5;124m\"\u001b[39m, data\u001b[38;5;241m=\u001b[39mev_details):\n\u001b[0;32m    904\u001b[0m     \u001b[38;5;28;01mtry\u001b[39;00m:\n\u001b[1;32m--> 905\u001b[0m         cres \u001b[38;5;241m=\u001b[39m \u001b[38;5;28;43mself\u001b[39;49m\u001b[38;5;241;43m.\u001b[39;49m\u001b[43m_compiler\u001b[49m\u001b[38;5;241;43m.\u001b[39;49m\u001b[43mcompile\u001b[49m\u001b[43m(\u001b[49m\u001b[43margs\u001b[49m\u001b[43m,\u001b[49m\u001b[43m \u001b[49m\u001b[43mreturn_type\u001b[49m\u001b[43m)\u001b[49m\n\u001b[0;32m    906\u001b[0m     \u001b[38;5;28;01mexcept\u001b[39;00m errors\u001b[38;5;241m.\u001b[39mForceLiteralArg \u001b[38;5;28;01mas\u001b[39;00m e:\n\u001b[0;32m    907\u001b[0m         \u001b[38;5;28;01mdef\u001b[39;00m \u001b[38;5;21mfolded\u001b[39m(args, kws):\n",
      "File \u001b[1;32mc:\\Users\\saknini\\Desktop\\Master Project\\LitQEval\\.venv\\lib\\site-packages\\numba\\core\\dispatcher.py:80\u001b[0m, in \u001b[0;36m_FunctionCompiler.compile\u001b[1;34m(self, args, return_type)\u001b[0m\n\u001b[0;32m     79\u001b[0m \u001b[38;5;28;01mdef\u001b[39;00m \u001b[38;5;21mcompile\u001b[39m(\u001b[38;5;28mself\u001b[39m, args, return_type):\n\u001b[1;32m---> 80\u001b[0m     status, retval \u001b[38;5;241m=\u001b[39m \u001b[38;5;28;43mself\u001b[39;49m\u001b[38;5;241;43m.\u001b[39;49m\u001b[43m_compile_cached\u001b[49m\u001b[43m(\u001b[49m\u001b[43margs\u001b[49m\u001b[43m,\u001b[49m\u001b[43m \u001b[49m\u001b[43mreturn_type\u001b[49m\u001b[43m)\u001b[49m\n\u001b[0;32m     81\u001b[0m     \u001b[38;5;28;01mif\u001b[39;00m status:\n\u001b[0;32m     82\u001b[0m         \u001b[38;5;28;01mreturn\u001b[39;00m retval\n",
      "File \u001b[1;32mc:\\Users\\saknini\\Desktop\\Master Project\\LitQEval\\.venv\\lib\\site-packages\\numba\\core\\dispatcher.py:94\u001b[0m, in \u001b[0;36m_FunctionCompiler._compile_cached\u001b[1;34m(self, args, return_type)\u001b[0m\n\u001b[0;32m     91\u001b[0m     \u001b[38;5;28;01mpass\u001b[39;00m\n\u001b[0;32m     93\u001b[0m \u001b[38;5;28;01mtry\u001b[39;00m:\n\u001b[1;32m---> 94\u001b[0m     retval \u001b[38;5;241m=\u001b[39m \u001b[38;5;28;43mself\u001b[39;49m\u001b[38;5;241;43m.\u001b[39;49m\u001b[43m_compile_core\u001b[49m\u001b[43m(\u001b[49m\u001b[43margs\u001b[49m\u001b[43m,\u001b[49m\u001b[43m \u001b[49m\u001b[43mreturn_type\u001b[49m\u001b[43m)\u001b[49m\n\u001b[0;32m     95\u001b[0m \u001b[38;5;28;01mexcept\u001b[39;00m errors\u001b[38;5;241m.\u001b[39mTypingError \u001b[38;5;28;01mas\u001b[39;00m e:\n\u001b[0;32m     96\u001b[0m     \u001b[38;5;28mself\u001b[39m\u001b[38;5;241m.\u001b[39m_failed_cache[key] \u001b[38;5;241m=\u001b[39m e\n",
      "File \u001b[1;32mc:\\Users\\saknini\\Desktop\\Master Project\\LitQEval\\.venv\\lib\\site-packages\\numba\\core\\dispatcher.py:107\u001b[0m, in \u001b[0;36m_FunctionCompiler._compile_core\u001b[1;34m(self, args, return_type)\u001b[0m\n\u001b[0;32m    104\u001b[0m flags \u001b[38;5;241m=\u001b[39m \u001b[38;5;28mself\u001b[39m\u001b[38;5;241m.\u001b[39m_customize_flags(flags)\n\u001b[0;32m    106\u001b[0m impl \u001b[38;5;241m=\u001b[39m \u001b[38;5;28mself\u001b[39m\u001b[38;5;241m.\u001b[39m_get_implementation(args, {})\n\u001b[1;32m--> 107\u001b[0m cres \u001b[38;5;241m=\u001b[39m \u001b[43mcompiler\u001b[49m\u001b[38;5;241;43m.\u001b[39;49m\u001b[43mcompile_extra\u001b[49m\u001b[43m(\u001b[49m\u001b[38;5;28;43mself\u001b[39;49m\u001b[38;5;241;43m.\u001b[39;49m\u001b[43mtargetdescr\u001b[49m\u001b[38;5;241;43m.\u001b[39;49m\u001b[43mtyping_context\u001b[49m\u001b[43m,\u001b[49m\n\u001b[0;32m    108\u001b[0m \u001b[43m                              \u001b[49m\u001b[38;5;28;43mself\u001b[39;49m\u001b[38;5;241;43m.\u001b[39;49m\u001b[43mtargetdescr\u001b[49m\u001b[38;5;241;43m.\u001b[39;49m\u001b[43mtarget_context\u001b[49m\u001b[43m,\u001b[49m\n\u001b[0;32m    109\u001b[0m \u001b[43m                              \u001b[49m\u001b[43mimpl\u001b[49m\u001b[43m,\u001b[49m\n\u001b[0;32m    110\u001b[0m \u001b[43m                              \u001b[49m\u001b[43margs\u001b[49m\u001b[38;5;241;43m=\u001b[39;49m\u001b[43margs\u001b[49m\u001b[43m,\u001b[49m\u001b[43m \u001b[49m\u001b[43mreturn_type\u001b[49m\u001b[38;5;241;43m=\u001b[39;49m\u001b[43mreturn_type\u001b[49m\u001b[43m,\u001b[49m\n\u001b[0;32m    111\u001b[0m \u001b[43m                              \u001b[49m\u001b[43mflags\u001b[49m\u001b[38;5;241;43m=\u001b[39;49m\u001b[43mflags\u001b[49m\u001b[43m,\u001b[49m\u001b[43m \u001b[49m\u001b[38;5;28;43mlocals\u001b[39;49m\u001b[38;5;241;43m=\u001b[39;49m\u001b[38;5;28;43mself\u001b[39;49m\u001b[38;5;241;43m.\u001b[39;49m\u001b[43mlocals\u001b[49m\u001b[43m,\u001b[49m\n\u001b[0;32m    112\u001b[0m \u001b[43m                              \u001b[49m\u001b[43mpipeline_class\u001b[49m\u001b[38;5;241;43m=\u001b[39;49m\u001b[38;5;28;43mself\u001b[39;49m\u001b[38;5;241;43m.\u001b[39;49m\u001b[43mpipeline_class\u001b[49m\u001b[43m)\u001b[49m\n\u001b[0;32m    113\u001b[0m \u001b[38;5;66;03m# Check typing error if object mode is used\u001b[39;00m\n\u001b[0;32m    114\u001b[0m \u001b[38;5;28;01mif\u001b[39;00m cres\u001b[38;5;241m.\u001b[39mtyping_error \u001b[38;5;129;01mis\u001b[39;00m \u001b[38;5;129;01mnot\u001b[39;00m \u001b[38;5;28;01mNone\u001b[39;00m \u001b[38;5;129;01mand\u001b[39;00m \u001b[38;5;129;01mnot\u001b[39;00m flags\u001b[38;5;241m.\u001b[39menable_pyobject:\n",
      "File \u001b[1;32mc:\\Users\\saknini\\Desktop\\Master Project\\LitQEval\\.venv\\lib\\site-packages\\numba\\core\\compiler.py:744\u001b[0m, in \u001b[0;36mcompile_extra\u001b[1;34m(typingctx, targetctx, func, args, return_type, flags, locals, library, pipeline_class)\u001b[0m\n\u001b[0;32m    720\u001b[0m \u001b[38;5;250m\u001b[39m\u001b[38;5;124;03m\"\"\"Compiler entry point\u001b[39;00m\n\u001b[0;32m    721\u001b[0m \n\u001b[0;32m    722\u001b[0m \u001b[38;5;124;03mParameter\u001b[39;00m\n\u001b[1;32m   (...)\u001b[0m\n\u001b[0;32m    740\u001b[0m \u001b[38;5;124;03m    compiler pipeline\u001b[39;00m\n\u001b[0;32m    741\u001b[0m \u001b[38;5;124;03m\"\"\"\u001b[39;00m\n\u001b[0;32m    742\u001b[0m pipeline \u001b[38;5;241m=\u001b[39m pipeline_class(typingctx, targetctx, library,\n\u001b[0;32m    743\u001b[0m                           args, return_type, flags, \u001b[38;5;28mlocals\u001b[39m)\n\u001b[1;32m--> 744\u001b[0m \u001b[38;5;28;01mreturn\u001b[39;00m \u001b[43mpipeline\u001b[49m\u001b[38;5;241;43m.\u001b[39;49m\u001b[43mcompile_extra\u001b[49m\u001b[43m(\u001b[49m\u001b[43mfunc\u001b[49m\u001b[43m)\u001b[49m\n",
      "File \u001b[1;32mc:\\Users\\saknini\\Desktop\\Master Project\\LitQEval\\.venv\\lib\\site-packages\\numba\\core\\compiler.py:438\u001b[0m, in \u001b[0;36mCompilerBase.compile_extra\u001b[1;34m(self, func)\u001b[0m\n\u001b[0;32m    436\u001b[0m \u001b[38;5;28mself\u001b[39m\u001b[38;5;241m.\u001b[39mstate\u001b[38;5;241m.\u001b[39mlifted \u001b[38;5;241m=\u001b[39m ()\n\u001b[0;32m    437\u001b[0m \u001b[38;5;28mself\u001b[39m\u001b[38;5;241m.\u001b[39mstate\u001b[38;5;241m.\u001b[39mlifted_from \u001b[38;5;241m=\u001b[39m \u001b[38;5;28;01mNone\u001b[39;00m\n\u001b[1;32m--> 438\u001b[0m \u001b[38;5;28;01mreturn\u001b[39;00m \u001b[38;5;28;43mself\u001b[39;49m\u001b[38;5;241;43m.\u001b[39;49m\u001b[43m_compile_bytecode\u001b[49m\u001b[43m(\u001b[49m\u001b[43m)\u001b[49m\n",
      "File \u001b[1;32mc:\\Users\\saknini\\Desktop\\Master Project\\LitQEval\\.venv\\lib\\site-packages\\numba\\core\\compiler.py:506\u001b[0m, in \u001b[0;36mCompilerBase._compile_bytecode\u001b[1;34m(self)\u001b[0m\n\u001b[0;32m    502\u001b[0m \u001b[38;5;250m\u001b[39m\u001b[38;5;124;03m\"\"\"\u001b[39;00m\n\u001b[0;32m    503\u001b[0m \u001b[38;5;124;03mPopulate and run pipeline for bytecode input\u001b[39;00m\n\u001b[0;32m    504\u001b[0m \u001b[38;5;124;03m\"\"\"\u001b[39;00m\n\u001b[0;32m    505\u001b[0m \u001b[38;5;28;01massert\u001b[39;00m \u001b[38;5;28mself\u001b[39m\u001b[38;5;241m.\u001b[39mstate\u001b[38;5;241m.\u001b[39mfunc_ir \u001b[38;5;129;01mis\u001b[39;00m \u001b[38;5;28;01mNone\u001b[39;00m\n\u001b[1;32m--> 506\u001b[0m \u001b[38;5;28;01mreturn\u001b[39;00m \u001b[38;5;28;43mself\u001b[39;49m\u001b[38;5;241;43m.\u001b[39;49m\u001b[43m_compile_core\u001b[49m\u001b[43m(\u001b[49m\u001b[43m)\u001b[49m\n",
      "File \u001b[1;32mc:\\Users\\saknini\\Desktop\\Master Project\\LitQEval\\.venv\\lib\\site-packages\\numba\\core\\compiler.py:472\u001b[0m, in \u001b[0;36mCompilerBase._compile_core\u001b[1;34m(self)\u001b[0m\n\u001b[0;32m    470\u001b[0m res \u001b[38;5;241m=\u001b[39m \u001b[38;5;28;01mNone\u001b[39;00m\n\u001b[0;32m    471\u001b[0m \u001b[38;5;28;01mtry\u001b[39;00m:\n\u001b[1;32m--> 472\u001b[0m     \u001b[43mpm\u001b[49m\u001b[38;5;241;43m.\u001b[39;49m\u001b[43mrun\u001b[49m\u001b[43m(\u001b[49m\u001b[38;5;28;43mself\u001b[39;49m\u001b[38;5;241;43m.\u001b[39;49m\u001b[43mstate\u001b[49m\u001b[43m)\u001b[49m\n\u001b[0;32m    473\u001b[0m     \u001b[38;5;28;01mif\u001b[39;00m \u001b[38;5;28mself\u001b[39m\u001b[38;5;241m.\u001b[39mstate\u001b[38;5;241m.\u001b[39mcr \u001b[38;5;129;01mis\u001b[39;00m \u001b[38;5;129;01mnot\u001b[39;00m \u001b[38;5;28;01mNone\u001b[39;00m:\n\u001b[0;32m    474\u001b[0m         \u001b[38;5;28;01mbreak\u001b[39;00m\n",
      "File \u001b[1;32mc:\\Users\\saknini\\Desktop\\Master Project\\LitQEval\\.venv\\lib\\site-packages\\numba\\core\\compiler_machinery.py:356\u001b[0m, in \u001b[0;36mPassManager.run\u001b[1;34m(self, state)\u001b[0m\n\u001b[0;32m    354\u001b[0m pass_inst \u001b[38;5;241m=\u001b[39m _pass_registry\u001b[38;5;241m.\u001b[39mget(pss)\u001b[38;5;241m.\u001b[39mpass_inst\n\u001b[0;32m    355\u001b[0m \u001b[38;5;28;01mif\u001b[39;00m \u001b[38;5;28misinstance\u001b[39m(pass_inst, CompilerPass):\n\u001b[1;32m--> 356\u001b[0m     \u001b[38;5;28;43mself\u001b[39;49m\u001b[38;5;241;43m.\u001b[39;49m\u001b[43m_runPass\u001b[49m\u001b[43m(\u001b[49m\u001b[43midx\u001b[49m\u001b[43m,\u001b[49m\u001b[43m \u001b[49m\u001b[43mpass_inst\u001b[49m\u001b[43m,\u001b[49m\u001b[43m \u001b[49m\u001b[43mstate\u001b[49m\u001b[43m)\u001b[49m\n\u001b[0;32m    357\u001b[0m \u001b[38;5;28;01melse\u001b[39;00m:\n\u001b[0;32m    358\u001b[0m     \u001b[38;5;28;01mraise\u001b[39;00m \u001b[38;5;167;01mBaseException\u001b[39;00m(\u001b[38;5;124m\"\u001b[39m\u001b[38;5;124mLegacy pass in use\u001b[39m\u001b[38;5;124m\"\u001b[39m)\n",
      "File \u001b[1;32mc:\\Users\\saknini\\Desktop\\Master Project\\LitQEval\\.venv\\lib\\site-packages\\numba\\core\\compiler_lock.py:35\u001b[0m, in \u001b[0;36m_CompilerLock.__call__.<locals>._acquire_compile_lock\u001b[1;34m(*args, **kwargs)\u001b[0m\n\u001b[0;32m     32\u001b[0m \u001b[38;5;129m@functools\u001b[39m\u001b[38;5;241m.\u001b[39mwraps(func)\n\u001b[0;32m     33\u001b[0m \u001b[38;5;28;01mdef\u001b[39;00m \u001b[38;5;21m_acquire_compile_lock\u001b[39m(\u001b[38;5;241m*\u001b[39margs, \u001b[38;5;241m*\u001b[39m\u001b[38;5;241m*\u001b[39mkwargs):\n\u001b[0;32m     34\u001b[0m     \u001b[38;5;28;01mwith\u001b[39;00m \u001b[38;5;28mself\u001b[39m:\n\u001b[1;32m---> 35\u001b[0m         \u001b[38;5;28;01mreturn\u001b[39;00m func(\u001b[38;5;241m*\u001b[39margs, \u001b[38;5;241m*\u001b[39m\u001b[38;5;241m*\u001b[39mkwargs)\n",
      "File \u001b[1;32mc:\\Users\\saknini\\Desktop\\Master Project\\LitQEval\\.venv\\lib\\site-packages\\numba\\core\\compiler_machinery.py:311\u001b[0m, in \u001b[0;36mPassManager._runPass\u001b[1;34m(self, index, pss, internal_state)\u001b[0m\n\u001b[0;32m    309\u001b[0m     mutated \u001b[38;5;241m|\u001b[39m\u001b[38;5;241m=\u001b[39m check(pss\u001b[38;5;241m.\u001b[39mrun_initialization, internal_state)\n\u001b[0;32m    310\u001b[0m \u001b[38;5;28;01mwith\u001b[39;00m SimpleTimer() \u001b[38;5;28;01mas\u001b[39;00m pass_time:\n\u001b[1;32m--> 311\u001b[0m     mutated \u001b[38;5;241m|\u001b[39m\u001b[38;5;241m=\u001b[39m \u001b[43mcheck\u001b[49m\u001b[43m(\u001b[49m\u001b[43mpss\u001b[49m\u001b[38;5;241;43m.\u001b[39;49m\u001b[43mrun_pass\u001b[49m\u001b[43m,\u001b[49m\u001b[43m \u001b[49m\u001b[43minternal_state\u001b[49m\u001b[43m)\u001b[49m\n\u001b[0;32m    312\u001b[0m \u001b[38;5;28;01mwith\u001b[39;00m SimpleTimer() \u001b[38;5;28;01mas\u001b[39;00m finalize_time:\n\u001b[0;32m    313\u001b[0m     mutated \u001b[38;5;241m|\u001b[39m\u001b[38;5;241m=\u001b[39m check(pss\u001b[38;5;241m.\u001b[39mrun_finalizer, internal_state)\n",
      "File \u001b[1;32mc:\\Users\\saknini\\Desktop\\Master Project\\LitQEval\\.venv\\lib\\site-packages\\numba\\core\\compiler_machinery.py:273\u001b[0m, in \u001b[0;36mPassManager._runPass.<locals>.check\u001b[1;34m(func, compiler_state)\u001b[0m\n\u001b[0;32m    272\u001b[0m \u001b[38;5;28;01mdef\u001b[39;00m \u001b[38;5;21mcheck\u001b[39m(func, compiler_state):\n\u001b[1;32m--> 273\u001b[0m     mangled \u001b[38;5;241m=\u001b[39m \u001b[43mfunc\u001b[49m\u001b[43m(\u001b[49m\u001b[43mcompiler_state\u001b[49m\u001b[43m)\u001b[49m\n\u001b[0;32m    274\u001b[0m     \u001b[38;5;28;01mif\u001b[39;00m mangled \u001b[38;5;129;01mnot\u001b[39;00m \u001b[38;5;129;01min\u001b[39;00m (\u001b[38;5;28;01mTrue\u001b[39;00m, \u001b[38;5;28;01mFalse\u001b[39;00m):\n\u001b[0;32m    275\u001b[0m         msg \u001b[38;5;241m=\u001b[39m (\u001b[38;5;124m\"\u001b[39m\u001b[38;5;124mCompilerPass implementations should return True/False. \u001b[39m\u001b[38;5;124m\"\u001b[39m\n\u001b[0;32m    276\u001b[0m                \u001b[38;5;124m\"\u001b[39m\u001b[38;5;124mCompilerPass with name \u001b[39m\u001b[38;5;124m'\u001b[39m\u001b[38;5;132;01m%s\u001b[39;00m\u001b[38;5;124m'\u001b[39m\u001b[38;5;124m did not.\u001b[39m\u001b[38;5;124m\"\u001b[39m)\n",
      "File \u001b[1;32mc:\\Users\\saknini\\Desktop\\Master Project\\LitQEval\\.venv\\lib\\site-packages\\numba\\core\\typed_passes.py:112\u001b[0m, in \u001b[0;36mBaseTypeInference.run_pass\u001b[1;34m(self, state)\u001b[0m\n\u001b[0;32m    106\u001b[0m \u001b[38;5;250m\u001b[39m\u001b[38;5;124;03m\"\"\"\u001b[39;00m\n\u001b[0;32m    107\u001b[0m \u001b[38;5;124;03mType inference and legalization\u001b[39;00m\n\u001b[0;32m    108\u001b[0m \u001b[38;5;124;03m\"\"\"\u001b[39;00m\n\u001b[0;32m    109\u001b[0m \u001b[38;5;28;01mwith\u001b[39;00m fallback_context(state, \u001b[38;5;124m'\u001b[39m\u001b[38;5;124mFunction \u001b[39m\u001b[38;5;124m\"\u001b[39m\u001b[38;5;132;01m%s\u001b[39;00m\u001b[38;5;124m\"\u001b[39m\u001b[38;5;124m failed type inference\u001b[39m\u001b[38;5;124m'\u001b[39m\n\u001b[0;32m    110\u001b[0m                       \u001b[38;5;241m%\u001b[39m (state\u001b[38;5;241m.\u001b[39mfunc_id\u001b[38;5;241m.\u001b[39mfunc_name,)):\n\u001b[0;32m    111\u001b[0m     \u001b[38;5;66;03m# Type inference\u001b[39;00m\n\u001b[1;32m--> 112\u001b[0m     typemap, return_type, calltypes, errs \u001b[38;5;241m=\u001b[39m \u001b[43mtype_inference_stage\u001b[49m\u001b[43m(\u001b[49m\n\u001b[0;32m    113\u001b[0m \u001b[43m        \u001b[49m\u001b[43mstate\u001b[49m\u001b[38;5;241;43m.\u001b[39;49m\u001b[43mtypingctx\u001b[49m\u001b[43m,\u001b[49m\n\u001b[0;32m    114\u001b[0m \u001b[43m        \u001b[49m\u001b[43mstate\u001b[49m\u001b[38;5;241;43m.\u001b[39;49m\u001b[43mtargetctx\u001b[49m\u001b[43m,\u001b[49m\n\u001b[0;32m    115\u001b[0m \u001b[43m        \u001b[49m\u001b[43mstate\u001b[49m\u001b[38;5;241;43m.\u001b[39;49m\u001b[43mfunc_ir\u001b[49m\u001b[43m,\u001b[49m\n\u001b[0;32m    116\u001b[0m \u001b[43m        \u001b[49m\u001b[43mstate\u001b[49m\u001b[38;5;241;43m.\u001b[39;49m\u001b[43margs\u001b[49m\u001b[43m,\u001b[49m\n\u001b[0;32m    117\u001b[0m \u001b[43m        \u001b[49m\u001b[43mstate\u001b[49m\u001b[38;5;241;43m.\u001b[39;49m\u001b[43mreturn_type\u001b[49m\u001b[43m,\u001b[49m\n\u001b[0;32m    118\u001b[0m \u001b[43m        \u001b[49m\u001b[43mstate\u001b[49m\u001b[38;5;241;43m.\u001b[39;49m\u001b[43mlocals\u001b[49m\u001b[43m,\u001b[49m\n\u001b[0;32m    119\u001b[0m \u001b[43m        \u001b[49m\u001b[43mraise_errors\u001b[49m\u001b[38;5;241;43m=\u001b[39;49m\u001b[38;5;28;43mself\u001b[39;49m\u001b[38;5;241;43m.\u001b[39;49m\u001b[43m_raise_errors\u001b[49m\u001b[43m)\u001b[49m\n\u001b[0;32m    120\u001b[0m     state\u001b[38;5;241m.\u001b[39mtypemap \u001b[38;5;241m=\u001b[39m typemap\n\u001b[0;32m    121\u001b[0m     \u001b[38;5;66;03m# save errors in case of partial typing\u001b[39;00m\n",
      "File \u001b[1;32mc:\\Users\\saknini\\Desktop\\Master Project\\LitQEval\\.venv\\lib\\site-packages\\numba\\core\\typed_passes.py:91\u001b[0m, in \u001b[0;36mtype_inference_stage\u001b[1;34m(typingctx, targetctx, interp, args, return_type, locals, raise_errors)\u001b[0m\n\u001b[0;32m     88\u001b[0m \u001b[38;5;28;01mfor\u001b[39;00m k, v \u001b[38;5;129;01min\u001b[39;00m \u001b[38;5;28mlocals\u001b[39m\u001b[38;5;241m.\u001b[39mitems():\n\u001b[0;32m     89\u001b[0m     infer\u001b[38;5;241m.\u001b[39mseed_type(k, v)\n\u001b[1;32m---> 91\u001b[0m \u001b[43minfer\u001b[49m\u001b[38;5;241;43m.\u001b[39;49m\u001b[43mbuild_constraint\u001b[49m\u001b[43m(\u001b[49m\u001b[43m)\u001b[49m\n\u001b[0;32m     92\u001b[0m \u001b[38;5;66;03m# return errors in case of partial typing\u001b[39;00m\n\u001b[0;32m     93\u001b[0m errs \u001b[38;5;241m=\u001b[39m infer\u001b[38;5;241m.\u001b[39mpropagate(raise_errors\u001b[38;5;241m=\u001b[39mraise_errors)\n",
      "File \u001b[1;32mc:\\Users\\saknini\\Desktop\\Master Project\\LitQEval\\.venv\\lib\\site-packages\\numba\\core\\typeinfer.py:1044\u001b[0m, in \u001b[0;36mTypeInferer.build_constraint\u001b[1;34m(self)\u001b[0m\n\u001b[0;32m   1042\u001b[0m \u001b[38;5;28;01mfor\u001b[39;00m blk \u001b[38;5;129;01min\u001b[39;00m \u001b[38;5;28mself\u001b[39m\u001b[38;5;241m.\u001b[39mblocks\u001b[38;5;241m.\u001b[39mvalues():\n\u001b[0;32m   1043\u001b[0m     \u001b[38;5;28;01mfor\u001b[39;00m inst \u001b[38;5;129;01min\u001b[39;00m blk\u001b[38;5;241m.\u001b[39mbody:\n\u001b[1;32m-> 1044\u001b[0m         \u001b[38;5;28;43mself\u001b[39;49m\u001b[38;5;241;43m.\u001b[39;49m\u001b[43mconstrain_statement\u001b[49m\u001b[43m(\u001b[49m\u001b[43minst\u001b[49m\u001b[43m)\u001b[49m\n",
      "File \u001b[1;32mc:\\Users\\saknini\\Desktop\\Master Project\\LitQEval\\.venv\\lib\\site-packages\\numba\\core\\typeinfer.py:1406\u001b[0m, in \u001b[0;36mTypeInferer.constrain_statement\u001b[1;34m(self, inst)\u001b[0m\n\u001b[0;32m   1404\u001b[0m \u001b[38;5;28;01mdef\u001b[39;00m \u001b[38;5;21mconstrain_statement\u001b[39m(\u001b[38;5;28mself\u001b[39m, inst):\n\u001b[0;32m   1405\u001b[0m     \u001b[38;5;28;01mif\u001b[39;00m \u001b[38;5;28misinstance\u001b[39m(inst, ir\u001b[38;5;241m.\u001b[39mAssign):\n\u001b[1;32m-> 1406\u001b[0m         \u001b[38;5;28;43mself\u001b[39;49m\u001b[38;5;241;43m.\u001b[39;49m\u001b[43mtypeof_assign\u001b[49m\u001b[43m(\u001b[49m\u001b[43minst\u001b[49m\u001b[43m)\u001b[49m\n\u001b[0;32m   1407\u001b[0m     \u001b[38;5;28;01melif\u001b[39;00m \u001b[38;5;28misinstance\u001b[39m(inst, ir\u001b[38;5;241m.\u001b[39mSetItem):\n\u001b[0;32m   1408\u001b[0m         \u001b[38;5;28mself\u001b[39m\u001b[38;5;241m.\u001b[39mtypeof_setitem(inst)\n",
      "File \u001b[1;32mc:\\Users\\saknini\\Desktop\\Master Project\\LitQEval\\.venv\\lib\\site-packages\\numba\\core\\typeinfer.py:1481\u001b[0m, in \u001b[0;36mTypeInferer.typeof_assign\u001b[1;34m(self, inst)\u001b[0m\n\u001b[0;32m   1478\u001b[0m     \u001b[38;5;28mself\u001b[39m\u001b[38;5;241m.\u001b[39mconstraints\u001b[38;5;241m.\u001b[39mappend(Propagate(dst\u001b[38;5;241m=\u001b[39minst\u001b[38;5;241m.\u001b[39mtarget\u001b[38;5;241m.\u001b[39mname,\n\u001b[0;32m   1479\u001b[0m                                       src\u001b[38;5;241m=\u001b[39mvalue\u001b[38;5;241m.\u001b[39mname, loc\u001b[38;5;241m=\u001b[39minst\u001b[38;5;241m.\u001b[39mloc))\n\u001b[0;32m   1480\u001b[0m \u001b[38;5;28;01melif\u001b[39;00m \u001b[38;5;28misinstance\u001b[39m(value, (ir\u001b[38;5;241m.\u001b[39mGlobal, ir\u001b[38;5;241m.\u001b[39mFreeVar)):\n\u001b[1;32m-> 1481\u001b[0m     \u001b[38;5;28;43mself\u001b[39;49m\u001b[38;5;241;43m.\u001b[39;49m\u001b[43mtypeof_global\u001b[49m\u001b[43m(\u001b[49m\u001b[43minst\u001b[49m\u001b[43m,\u001b[49m\u001b[43m \u001b[49m\u001b[43minst\u001b[49m\u001b[38;5;241;43m.\u001b[39;49m\u001b[43mtarget\u001b[49m\u001b[43m,\u001b[49m\u001b[43m \u001b[49m\u001b[43mvalue\u001b[49m\u001b[43m)\u001b[49m\n\u001b[0;32m   1482\u001b[0m \u001b[38;5;28;01melif\u001b[39;00m \u001b[38;5;28misinstance\u001b[39m(value, ir\u001b[38;5;241m.\u001b[39mArg):\n\u001b[0;32m   1483\u001b[0m     \u001b[38;5;28mself\u001b[39m\u001b[38;5;241m.\u001b[39mtypeof_arg(inst, inst\u001b[38;5;241m.\u001b[39mtarget, value)\n",
      "File \u001b[1;32mc:\\Users\\saknini\\Desktop\\Master Project\\LitQEval\\.venv\\lib\\site-packages\\numba\\core\\typeinfer.py:1656\u001b[0m, in \u001b[0;36mTypeInferer.typeof_global\u001b[1;34m(self, inst, target, gvar)\u001b[0m\n\u001b[0;32m   1653\u001b[0m \u001b[38;5;28mself\u001b[39m\u001b[38;5;241m.\u001b[39msentry_modified_builtin(inst, gvar)\n\u001b[0;32m   1654\u001b[0m \u001b[38;5;66;03m# Setting literal_value for globals because they are handled\u001b[39;00m\n\u001b[0;32m   1655\u001b[0m \u001b[38;5;66;03m# like const value in numba\u001b[39;00m\n\u001b[1;32m-> 1656\u001b[0m lit \u001b[38;5;241m=\u001b[39m \u001b[43mtypes\u001b[49m\u001b[38;5;241;43m.\u001b[39;49m\u001b[43mmaybe_literal\u001b[49m\u001b[43m(\u001b[49m\u001b[43mgvar\u001b[49m\u001b[38;5;241;43m.\u001b[39;49m\u001b[43mvalue\u001b[49m\u001b[43m)\u001b[49m\n\u001b[0;32m   1657\u001b[0m \u001b[38;5;66;03m# The user may have provided the type for this variable already.\u001b[39;00m\n\u001b[0;32m   1658\u001b[0m \u001b[38;5;66;03m# In this case, call add_type() to make sure the value type is\u001b[39;00m\n\u001b[0;32m   1659\u001b[0m \u001b[38;5;66;03m# consistent. See numba.tests.test_array_reductions\u001b[39;00m\n\u001b[0;32m   1660\u001b[0m \u001b[38;5;66;03m# TestArrayReductions.test_array_cumsum for examples.\u001b[39;00m\n\u001b[0;32m   1661\u001b[0m \u001b[38;5;66;03m# Variable type locked by using the locals dict.\u001b[39;00m\n\u001b[0;32m   1662\u001b[0m tv \u001b[38;5;241m=\u001b[39m \u001b[38;5;28mself\u001b[39m\u001b[38;5;241m.\u001b[39mtypevars[target\u001b[38;5;241m.\u001b[39mname]\n",
      "File \u001b[1;32mc:\\Users\\saknini\\Desktop\\Master Project\\LitQEval\\.venv\\lib\\site-packages\\numba\\core\\types\\misc.py:91\u001b[0m, in \u001b[0;36mmaybe_literal\u001b[1;34m(value)\u001b[0m\n\u001b[0;32m     88\u001b[0m \u001b[38;5;250m\u001b[39m\u001b[38;5;124;03m\"\"\"Get a Literal type for the value or None.\u001b[39;00m\n\u001b[0;32m     89\u001b[0m \u001b[38;5;124;03m\"\"\"\u001b[39;00m\n\u001b[0;32m     90\u001b[0m \u001b[38;5;28;01mtry\u001b[39;00m:\n\u001b[1;32m---> 91\u001b[0m     \u001b[38;5;28;01mreturn\u001b[39;00m \u001b[43mliteral\u001b[49m\u001b[43m(\u001b[49m\u001b[43mvalue\u001b[49m\u001b[43m)\u001b[49m\n\u001b[0;32m     92\u001b[0m \u001b[38;5;28;01mexcept\u001b[39;00m LiteralTypingError:\n\u001b[0;32m     93\u001b[0m     \u001b[38;5;28;01mreturn\u001b[39;00m\n",
      "File \u001b[1;32mc:\\Users\\saknini\\Desktop\\Master Project\\LitQEval\\.venv\\lib\\site-packages\\numba\\core\\types\\misc.py:82\u001b[0m, in \u001b[0;36mliteral\u001b[1;34m(value)\u001b[0m\n\u001b[0;32m     80\u001b[0m     ctor \u001b[38;5;241m=\u001b[39m Literal\u001b[38;5;241m.\u001b[39mctor_map[ty]\n\u001b[0;32m     81\u001b[0m \u001b[38;5;28;01mexcept\u001b[39;00m \u001b[38;5;167;01mKeyError\u001b[39;00m:\n\u001b[1;32m---> 82\u001b[0m     \u001b[38;5;28;01mraise\u001b[39;00m \u001b[43mLiteralTypingError\u001b[49m\u001b[43m(\u001b[49m\u001b[38;5;124;43m\"\u001b[39;49m\u001b[38;5;132;43;01m{}\u001b[39;49;00m\u001b[38;5;124;43m cannot be used as a literal\u001b[39;49m\u001b[38;5;124;43m\"\u001b[39;49m\u001b[38;5;241;43m.\u001b[39;49m\u001b[43mformat\u001b[49m\u001b[43m(\u001b[49m\u001b[43mty\u001b[49m\u001b[43m)\u001b[49m\u001b[43m)\u001b[49m\n\u001b[0;32m     83\u001b[0m \u001b[38;5;28;01melse\u001b[39;00m:\n\u001b[0;32m     84\u001b[0m     \u001b[38;5;28;01mreturn\u001b[39;00m ctor(value)\n",
      "File \u001b[1;32mc:\\Users\\saknini\\Desktop\\Master Project\\LitQEval\\.venv\\lib\\site-packages\\numba\\core\\errors.py:549\u001b[0m, in \u001b[0;36mNumbaError.__init__\u001b[1;34m(self, msg, loc, highlighting)\u001b[0m\n\u001b[0;32m    547\u001b[0m \u001b[38;5;28;01melse\u001b[39;00m:\n\u001b[0;32m    548\u001b[0m     new_msg \u001b[38;5;241m=\u001b[39m \u001b[38;5;124m\"\u001b[39m\u001b[38;5;132;01m%s\u001b[39;00m\u001b[38;5;124m\"\u001b[39m \u001b[38;5;241m%\u001b[39m (msg,)\n\u001b[1;32m--> 549\u001b[0m \u001b[38;5;28msuper\u001b[39m(NumbaError, \u001b[38;5;28mself\u001b[39m)\u001b[38;5;241m.\u001b[39m\u001b[38;5;21m__init__\u001b[39m(\u001b[43mhighlight\u001b[49m\u001b[43m(\u001b[49m\u001b[43mnew_msg\u001b[49m\u001b[43m)\u001b[49m)\n",
      "File \u001b[1;32mc:\\Users\\saknini\\Desktop\\Master Project\\LitQEval\\.venv\\lib\\site-packages\\numba\\core\\errors.py:336\u001b[0m, in \u001b[0;36mHighlightColorScheme.errmsg\u001b[1;34m(self, msg)\u001b[0m\n\u001b[0;32m    335\u001b[0m \u001b[38;5;28;01mdef\u001b[39;00m \u001b[38;5;21merrmsg\u001b[39m(\u001b[38;5;28mself\u001b[39m, msg):\n\u001b[1;32m--> 336\u001b[0m     \u001b[38;5;28;01mreturn\u001b[39;00m \u001b[38;5;28;43mself\u001b[39;49m\u001b[38;5;241;43m.\u001b[39;49m\u001b[43m_markup\u001b[49m\u001b[43m(\u001b[49m\u001b[43mmsg\u001b[49m\u001b[43m,\u001b[49m\u001b[43m \u001b[49m\u001b[38;5;28;43mself\u001b[39;49m\u001b[38;5;241;43m.\u001b[39;49m\u001b[43m_errmsg\u001b[49m\u001b[43m)\u001b[49m\n",
      "File \u001b[1;32mc:\\Users\\saknini\\Desktop\\Master Project\\LitQEval\\.venv\\lib\\site-packages\\numba\\core\\errors.py:326\u001b[0m, in \u001b[0;36mHighlightColorScheme._markup\u001b[1;34m(self, msg, color, style)\u001b[0m\n\u001b[0;32m    324\u001b[0m \u001b[38;5;28;01mif\u001b[39;00m style:\n\u001b[0;32m    325\u001b[0m     features \u001b[38;5;241m+\u001b[39m\u001b[38;5;241m=\u001b[39m style\n\u001b[1;32m--> 326\u001b[0m \u001b[38;5;28;01mwith\u001b[39;00m \u001b[43mColorShell\u001b[49m\u001b[43m(\u001b[49m\u001b[43m)\u001b[49m:\n\u001b[0;32m    327\u001b[0m     \u001b[38;5;28;01mwith\u001b[39;00m reset_terminal() \u001b[38;5;28;01mas\u001b[39;00m mu:\n\u001b[0;32m    328\u001b[0m         mu \u001b[38;5;241m+\u001b[39m\u001b[38;5;241m=\u001b[39m features\u001b[38;5;241m.\u001b[39mencode(\u001b[38;5;124m'\u001b[39m\u001b[38;5;124mutf-8\u001b[39m\u001b[38;5;124m'\u001b[39m)\n",
      "File \u001b[1;32mc:\\Users\\saknini\\Desktop\\Master Project\\LitQEval\\.venv\\lib\\site-packages\\numba\\core\\errors.py:244\u001b[0m, in \u001b[0;36mColorShell.__init__\u001b[1;34m(self)\u001b[0m\n\u001b[0;32m    243\u001b[0m \u001b[38;5;28;01mdef\u001b[39;00m \u001b[38;5;21m__init__\u001b[39m(\u001b[38;5;28mself\u001b[39m):\n\u001b[1;32m--> 244\u001b[0m     \u001b[43minit\u001b[49m\u001b[43m(\u001b[49m\u001b[43m)\u001b[49m\n\u001b[0;32m    245\u001b[0m     \u001b[38;5;28mself\u001b[39m\u001b[38;5;241m.\u001b[39m_has_initialized \u001b[38;5;241m=\u001b[39m \u001b[38;5;28;01mTrue\u001b[39;00m\n",
      "File \u001b[1;32mc:\\Users\\saknini\\Desktop\\Master Project\\LitQEval\\.venv\\lib\\site-packages\\colorama\\initialise.py:52\u001b[0m, in \u001b[0;36minit\u001b[1;34m(autoreset, convert, strip, wrap)\u001b[0m\n\u001b[0;32m     49\u001b[0m     wrapped_stdout \u001b[38;5;241m=\u001b[39m \u001b[38;5;28;01mNone\u001b[39;00m\n\u001b[0;32m     50\u001b[0m \u001b[38;5;28;01melse\u001b[39;00m:\n\u001b[0;32m     51\u001b[0m     sys\u001b[38;5;241m.\u001b[39mstdout \u001b[38;5;241m=\u001b[39m wrapped_stdout \u001b[38;5;241m=\u001b[39m \\\n\u001b[1;32m---> 52\u001b[0m         \u001b[43mwrap_stream\u001b[49m\u001b[43m(\u001b[49m\u001b[43morig_stdout\u001b[49m\u001b[43m,\u001b[49m\u001b[43m \u001b[49m\u001b[43mconvert\u001b[49m\u001b[43m,\u001b[49m\u001b[43m \u001b[49m\u001b[43mstrip\u001b[49m\u001b[43m,\u001b[49m\u001b[43m \u001b[49m\u001b[43mautoreset\u001b[49m\u001b[43m,\u001b[49m\u001b[43m \u001b[49m\u001b[43mwrap\u001b[49m\u001b[43m)\u001b[49m\n\u001b[0;32m     53\u001b[0m \u001b[38;5;28;01mif\u001b[39;00m sys\u001b[38;5;241m.\u001b[39mstderr \u001b[38;5;129;01mis\u001b[39;00m \u001b[38;5;28;01mNone\u001b[39;00m:\n\u001b[0;32m     54\u001b[0m     wrapped_stderr \u001b[38;5;241m=\u001b[39m \u001b[38;5;28;01mNone\u001b[39;00m\n",
      "File \u001b[1;32mc:\\Users\\saknini\\Desktop\\Master Project\\LitQEval\\.venv\\lib\\site-packages\\colorama\\initialise.py:113\u001b[0m, in \u001b[0;36mwrap_stream\u001b[1;34m(stream, convert, strip, autoreset, wrap)\u001b[0m\n\u001b[0;32m    111\u001b[0m \u001b[38;5;28;01mdef\u001b[39;00m \u001b[38;5;21mwrap_stream\u001b[39m(stream, convert, strip, autoreset, wrap):\n\u001b[0;32m    112\u001b[0m     \u001b[38;5;28;01mif\u001b[39;00m wrap:\n\u001b[1;32m--> 113\u001b[0m         wrapper \u001b[38;5;241m=\u001b[39m \u001b[43mAnsiToWin32\u001b[49m\u001b[43m(\u001b[49m\u001b[43mstream\u001b[49m\u001b[43m,\u001b[49m\n\u001b[0;32m    114\u001b[0m \u001b[43m            \u001b[49m\u001b[43mconvert\u001b[49m\u001b[38;5;241;43m=\u001b[39;49m\u001b[43mconvert\u001b[49m\u001b[43m,\u001b[49m\u001b[43m \u001b[49m\u001b[43mstrip\u001b[49m\u001b[38;5;241;43m=\u001b[39;49m\u001b[43mstrip\u001b[49m\u001b[43m,\u001b[49m\u001b[43m \u001b[49m\u001b[43mautoreset\u001b[49m\u001b[38;5;241;43m=\u001b[39;49m\u001b[43mautoreset\u001b[49m\u001b[43m)\u001b[49m\n\u001b[0;32m    115\u001b[0m         \u001b[38;5;28;01mif\u001b[39;00m wrapper\u001b[38;5;241m.\u001b[39mshould_wrap():\n\u001b[0;32m    116\u001b[0m             stream \u001b[38;5;241m=\u001b[39m wrapper\u001b[38;5;241m.\u001b[39mstream\n",
      "File \u001b[1;32mc:\\Users\\saknini\\Desktop\\Master Project\\LitQEval\\.venv\\lib\\site-packages\\colorama\\ansitowin32.py:101\u001b[0m, in \u001b[0;36mAnsiToWin32.__init__\u001b[1;34m(self, wrapped, convert, strip, autoreset)\u001b[0m\n\u001b[0;32m     99\u001b[0m \u001b[38;5;28;01mexcept\u001b[39;00m \u001b[38;5;167;01mException\u001b[39;00m:\n\u001b[0;32m    100\u001b[0m     fd \u001b[38;5;241m=\u001b[39m \u001b[38;5;241m-\u001b[39m\u001b[38;5;241m1\u001b[39m\n\u001b[1;32m--> 101\u001b[0m system_has_native_ansi \u001b[38;5;241m=\u001b[39m \u001b[38;5;129;01mnot\u001b[39;00m on_windows \u001b[38;5;129;01mor\u001b[39;00m \u001b[43menable_vt_processing\u001b[49m\u001b[43m(\u001b[49m\u001b[43mfd\u001b[49m\u001b[43m)\u001b[49m\n\u001b[0;32m    102\u001b[0m have_tty \u001b[38;5;241m=\u001b[39m \u001b[38;5;129;01mnot\u001b[39;00m \u001b[38;5;28mself\u001b[39m\u001b[38;5;241m.\u001b[39mstream\u001b[38;5;241m.\u001b[39mclosed \u001b[38;5;129;01mand\u001b[39;00m \u001b[38;5;28mself\u001b[39m\u001b[38;5;241m.\u001b[39mstream\u001b[38;5;241m.\u001b[39misatty()\n\u001b[0;32m    103\u001b[0m need_conversion \u001b[38;5;241m=\u001b[39m conversion_supported \u001b[38;5;129;01mand\u001b[39;00m \u001b[38;5;129;01mnot\u001b[39;00m system_has_native_ansi\n",
      "File \u001b[1;32mc:\\Users\\saknini\\Desktop\\Master Project\\LitQEval\\.venv\\lib\\site-packages\\colorama\\winterm.py:179\u001b[0m, in \u001b[0;36menable_vt_processing\u001b[1;34m(fd)\u001b[0m\n\u001b[0;32m    178\u001b[0m \u001b[38;5;28;01mdef\u001b[39;00m \u001b[38;5;21menable_vt_processing\u001b[39m(fd):\n\u001b[1;32m--> 179\u001b[0m     \u001b[38;5;28;01mif\u001b[39;00m win32\u001b[38;5;241m.\u001b[39mwindll \u001b[38;5;129;01mis\u001b[39;00m \u001b[38;5;28;01mNone\u001b[39;00m \u001b[38;5;129;01mor\u001b[39;00m \u001b[38;5;129;01mnot\u001b[39;00m \u001b[43mwin32\u001b[49m\u001b[38;5;241;43m.\u001b[39;49m\u001b[43mwinapi_test\u001b[49m\u001b[43m(\u001b[49m\u001b[43m)\u001b[49m:\n\u001b[0;32m    180\u001b[0m         \u001b[38;5;28;01mreturn\u001b[39;00m \u001b[38;5;28;01mFalse\u001b[39;00m\n\u001b[0;32m    182\u001b[0m     \u001b[38;5;28;01mtry\u001b[39;00m:\n",
      "File \u001b[1;32mc:\\Users\\saknini\\Desktop\\Master Project\\LitQEval\\.venv\\lib\\site-packages\\colorama\\win32.py:115\u001b[0m, in \u001b[0;36mwinapi_test\u001b[1;34m()\u001b[0m\n\u001b[0;32m    114\u001b[0m \u001b[38;5;28;01mdef\u001b[39;00m \u001b[38;5;21mwinapi_test\u001b[39m():\n\u001b[1;32m--> 115\u001b[0m     \u001b[38;5;28;01mreturn\u001b[39;00m \u001b[38;5;28;43many\u001b[39;49m\u001b[43m(\u001b[49m\u001b[43m_winapi_test\u001b[49m\u001b[43m(\u001b[49m\u001b[43mh\u001b[49m\u001b[43m)\u001b[49m\u001b[43m \u001b[49m\u001b[38;5;28;43;01mfor\u001b[39;49;00m\u001b[43m \u001b[49m\u001b[43mh\u001b[49m\u001b[43m \u001b[49m\u001b[38;5;129;43;01min\u001b[39;49;00m\n\u001b[0;32m    116\u001b[0m \u001b[43m               \u001b[49m\u001b[43m(\u001b[49m\u001b[43m_GetStdHandle\u001b[49m\u001b[43m(\u001b[49m\u001b[43mSTDOUT\u001b[49m\u001b[43m)\u001b[49m\u001b[43m,\u001b[49m\u001b[43m \u001b[49m\u001b[43m_GetStdHandle\u001b[49m\u001b[43m(\u001b[49m\u001b[43mSTDERR\u001b[49m\u001b[43m)\u001b[49m\u001b[43m)\u001b[49m\u001b[43m)\u001b[49m\n",
      "File \u001b[1;32mc:\\Users\\saknini\\Desktop\\Master Project\\LitQEval\\.venv\\lib\\site-packages\\colorama\\win32.py:115\u001b[0m, in \u001b[0;36m<genexpr>\u001b[1;34m(.0)\u001b[0m\n\u001b[0;32m    114\u001b[0m \u001b[38;5;28;01mdef\u001b[39;00m \u001b[38;5;21mwinapi_test\u001b[39m():\n\u001b[1;32m--> 115\u001b[0m     \u001b[38;5;28;01mreturn\u001b[39;00m \u001b[38;5;28many\u001b[39m(\u001b[43m_winapi_test\u001b[49m\u001b[43m(\u001b[49m\u001b[43mh\u001b[49m\u001b[43m)\u001b[49m \u001b[38;5;28;01mfor\u001b[39;00m h \u001b[38;5;129;01min\u001b[39;00m\n\u001b[0;32m    116\u001b[0m                (_GetStdHandle(STDOUT), _GetStdHandle(STDERR)))\n",
      "File \u001b[1;32mc:\\Users\\saknini\\Desktop\\Master Project\\LitQEval\\.venv\\lib\\site-packages\\colorama\\win32.py:110\u001b[0m, in \u001b[0;36m_winapi_test\u001b[1;34m(handle)\u001b[0m\n\u001b[0;32m    108\u001b[0m \u001b[38;5;28;01mdef\u001b[39;00m \u001b[38;5;21m_winapi_test\u001b[39m(handle):\n\u001b[0;32m    109\u001b[0m     csbi \u001b[38;5;241m=\u001b[39m CONSOLE_SCREEN_BUFFER_INFO()\n\u001b[1;32m--> 110\u001b[0m     success \u001b[38;5;241m=\u001b[39m \u001b[43m_GetConsoleScreenBufferInfo\u001b[49m\u001b[43m(\u001b[49m\n\u001b[0;32m    111\u001b[0m \u001b[43m        \u001b[49m\u001b[43mhandle\u001b[49m\u001b[43m,\u001b[49m\u001b[43m \u001b[49m\u001b[43mbyref\u001b[49m\u001b[43m(\u001b[49m\u001b[43mcsbi\u001b[49m\u001b[43m)\u001b[49m\u001b[43m)\u001b[49m\n\u001b[0;32m    112\u001b[0m     \u001b[38;5;28;01mreturn\u001b[39;00m \u001b[38;5;28mbool\u001b[39m(success)\n",
      "\u001b[1;31mKeyboardInterrupt\u001b[0m: "
     ]
    }
   ],
   "source": [
    "import umap\n",
    "\n",
    "umap_embeddings = umap.UMAP(n_neighbors=20, min_dist=0.2, metric=\"cosine\").fit_transform(\n",
    "    all_embeddings\n",
    ")"
   ]
  },
  {
   "cell_type": "code",
   "execution_count": 10,
   "metadata": {},
   "outputs": [
    {
     "data": {
      "application/vnd.plotly.v1+json": {
       "config": {
        "plotlyServerURL": "https://plot.ly"
       },
       "data": [
        {
         "customdata": [
          [
           "Survey",
           0,
           "pub.1175782890",
           "Survey - Perovskite Solar Cells Stability"
          ],
          [
           "Survey",
           14,
           "pub.1163752603",
           "Survey - Green Warehousing"
          ],
          [
           "Survey",
           4,
           "pub.1156021846",
           "Survey - Sustainable Biofuel"
          ],
          [
           "Survey",
           1,
           "pub.1147958699",
           "Survey - Drones in Agriculture"
          ],
          [
           "Survey",
           8,
           "pub.1130187939",
           "Survey - Crop Yield Prediction"
          ],
          [
           "Survey",
           5,
           "pub.1129627241",
           "Survey - Tourism Growth Nexus"
          ],
          [
           "Survey",
           3,
           "pub.1127137176",
           "Survey - Nanoparticles"
          ],
          [
           "Survey",
           7,
           "pub.1103814815",
           "Survey - Internet of Things in Healthcare"
          ],
          [
           "Survey",
           2,
           "pub.1159788042",
           "Survey - Robotic Arthroplasty"
          ],
          [
           "Survey",
           7,
           "pub.1146747333",
           "Survey - AI on Edge Devices"
          ],
          [
           "Survey",
           12,
           "pub.1110896992",
           "Survey - Cervical Myelopathy"
          ],
          [
           "Survey",
           6,
           "pub.1104146079",
           "Survey - Soft Robotics"
          ],
          [
           "Survey",
           13,
           "pub.1035441940",
           "Survey - Synthetic Biology"
          ],
          [
           "Survey",
           10,
           "pub.1022983337",
           "Survey - Resilience in Business and management"
          ],
          [
           "Survey",
           5,
           "pub.1019398108",
           "Survey - Energy Growth Nexus"
          ]
         ],
         "hovertemplate": "label=%{customdata[0]}<br>x=%{x}<br>y=%{y}<br>cluster=%{customdata[1]}<br>pub_id=%{customdata[2]}<br>survey_group=%{customdata[3]}<extra></extra>",
         "legendgroup": "Survey",
         "marker": {
          "color": "#2f4f4f",
          "opacity": 0.9,
          "symbol": "circle"
         },
         "mode": "markers",
         "name": "Survey",
         "orientation": "v",
         "showlegend": true,
         "type": "scatter",
         "x": [
          5.6702356,
          9.361586,
          5.0441513,
          14.940419,
          12.850161,
          13.633026,
          0.46306497,
          19.281927,
          -4.1575513,
          17.415209,
          -8.159617,
          15.960864,
          6.2933416,
          10.592007,
          13.609251
         ],
         "xaxis": "x",
         "y": [
          -4.6650815,
          -4.398964,
          4.6476874,
          16.845503,
          18.52394,
          -10.269469,
          7.794715,
          15.802815,
          -0.9176888,
          15.995198,
          6.9757996,
          5.375978,
          9.576841,
          -4.8089495,
          -8.72229
         ],
         "yaxis": "y"
        },
        {
         "customdata": [
          [
           "Perovskite Solar Cells Stability",
           0,
           "pub.1165052499",
           ""
          ],
          [
           "Perovskite Solar Cells Stability",
           0,
           "pub.1165045432",
           ""
          ],
          [
           "Perovskite Solar Cells Stability",
           0,
           "pub.1163801313",
           ""
          ],
          [
           "Perovskite Solar Cells Stability",
           0,
           "pub.1149826171",
           ""
          ],
          [
           "Perovskite Solar Cells Stability",
           0,
           "pub.1147021977",
           ""
          ],
          [
           "Perovskite Solar Cells Stability",
           0,
           "pub.1146288953",
           ""
          ],
          [
           "Perovskite Solar Cells Stability",
           0,
           "pub.1146009839",
           ""
          ],
          [
           "Perovskite Solar Cells Stability",
           0,
           "pub.1145696652",
           ""
          ],
          [
           "Perovskite Solar Cells Stability",
           0,
           "pub.1145043743",
           ""
          ],
          [
           "Perovskite Solar Cells Stability",
           0,
           "pub.1144827854",
           ""
          ],
          [
           "Perovskite Solar Cells Stability",
           0,
           "pub.1144465306",
           ""
          ],
          [
           "Perovskite Solar Cells Stability",
           0,
           "pub.1144054488",
           ""
          ],
          [
           "Perovskite Solar Cells Stability",
           0,
           "pub.1174552302",
           ""
          ],
          [
           "Perovskite Solar Cells Stability",
           0,
           "pub.1166074282",
           ""
          ],
          [
           "Perovskite Solar Cells Stability",
           0,
           "pub.1163986255",
           ""
          ],
          [
           "Perovskite Solar Cells Stability",
           0,
           "pub.1160686387",
           ""
          ],
          [
           "Perovskite Solar Cells Stability",
           0,
           "pub.1160324074",
           ""
          ],
          [
           "Perovskite Solar Cells Stability",
           0,
           "pub.1159957570",
           ""
          ],
          [
           "Perovskite Solar Cells Stability",
           0,
           "pub.1158362233",
           ""
          ],
          [
           "Perovskite Solar Cells Stability",
           0,
           "pub.1158048403",
           ""
          ],
          [
           "Perovskite Solar Cells Stability",
           0,
           "pub.1157586280",
           ""
          ],
          [
           "Perovskite Solar Cells Stability",
           0,
           "pub.1155457945",
           ""
          ],
          [
           "Perovskite Solar Cells Stability",
           0,
           "pub.1154888847",
           ""
          ],
          [
           "Perovskite Solar Cells Stability",
           0,
           "pub.1147833193",
           ""
          ],
          [
           "Perovskite Solar Cells Stability",
           0,
           "pub.1147293706",
           ""
          ],
          [
           "Perovskite Solar Cells Stability",
           0,
           "pub.1147185686",
           ""
          ],
          [
           "Perovskite Solar Cells Stability",
           0,
           "pub.1147054891",
           ""
          ],
          [
           "Perovskite Solar Cells Stability",
           0,
           "pub.1146620041",
           ""
          ],
          [
           "Perovskite Solar Cells Stability",
           0,
           "pub.1141876155",
           ""
          ]
         ],
         "hovertemplate": "label=%{customdata[0]}<br>x=%{x}<br>y=%{y}<br>cluster=%{customdata[1]}<br>pub_id=%{customdata[2]}<br>survey_group=%{customdata[3]}<extra></extra>",
         "legendgroup": "Perovskite Solar Cells Stability",
         "marker": {
          "color": "#a0522d",
          "opacity": 0.9,
          "symbol": "circle"
         },
         "mode": "markers",
         "name": "Perovskite Solar Cells Stability",
         "orientation": "v",
         "showlegend": true,
         "type": "scatter",
         "x": [
          5.5103664,
          5.5004716,
          5.4173083,
          5.253371,
          5.6981087,
          5.4890795,
          5.6670923,
          5.6003656,
          5.0808525,
          5.404633,
          5.4008393,
          5.7484145,
          5.815281,
          5.2621474,
          5.671763,
          5.331437,
          5.2218494,
          5.313321,
          5.456835,
          5.2661448,
          5.133701,
          5.312205,
          5.6345067,
          5.2072616,
          5.0367074,
          5.050043,
          5.169752,
          5.0805163,
          5.4193144
         ],
         "xaxis": "x",
         "y": [
          -4.459198,
          -4.3389006,
          -4.3372736,
          -4.461516,
          -4.6914816,
          -4.3855224,
          -4.623137,
          -4.72252,
          -4.6019874,
          -4.3120546,
          -4.701277,
          -4.554348,
          -4.4855385,
          -4.313298,
          -4.633653,
          -4.683691,
          -4.5061193,
          -4.5186634,
          -4.524827,
          -4.660349,
          -4.363673,
          -4.380599,
          -4.6821904,
          -4.54715,
          -4.355956,
          -4.238188,
          -4.5217967,
          -4.1688824,
          -4.744949
         ],
         "yaxis": "y"
        },
        {
         "customdata": [
          [
           "Green Warehousing",
           14,
           "pub.1138791522",
           ""
          ],
          [
           "Green Warehousing",
           14,
           "pub.1130342326",
           ""
          ],
          [
           "Green Warehousing",
           14,
           "pub.1130180156",
           ""
          ],
          [
           "Green Warehousing",
           14,
           "pub.1126001650",
           ""
          ],
          [
           "Green Warehousing",
           14,
           "pub.1123270626",
           ""
          ],
          [
           "Green Warehousing",
           14,
           "pub.1119922340",
           ""
          ],
          [
           "Green Warehousing",
           14,
           "pub.1113285021",
           ""
          ],
          [
           "Green Warehousing",
           14,
           "pub.1112019846",
           ""
          ],
          [
           "Green Warehousing",
           14,
           "pub.1110525171",
           ""
          ],
          [
           "Green Warehousing",
           14,
           "pub.1104201531",
           ""
          ],
          [
           "Green Warehousing",
           14,
           "pub.1103540197",
           ""
          ],
          [
           "Green Warehousing",
           14,
           "pub.1093378447",
           ""
          ],
          [
           "Green Warehousing",
           14,
           "pub.1092850655",
           ""
          ],
          [
           "Green Warehousing",
           14,
           "pub.1090587762",
           ""
          ],
          [
           "Green Warehousing",
           14,
           "pub.1071706254",
           ""
          ],
          [
           "Green Warehousing",
           14,
           "pub.1029079666",
           ""
          ],
          [
           "Green Warehousing",
           14,
           "pub.1026334040",
           ""
          ],
          [
           "Green Warehousing",
           14,
           "pub.1024780163",
           ""
          ],
          [
           "Green Warehousing",
           14,
           "pub.1018121211",
           ""
          ],
          [
           "Green Warehousing",
           14,
           "pub.1015228225",
           ""
          ],
          [
           "Green Warehousing",
           14,
           "pub.1013561216",
           ""
          ],
          [
           "Green Warehousing",
           14,
           "pub.1013525464",
           ""
          ],
          [
           "Green Warehousing",
           14,
           "pub.1002243471",
           ""
          ],
          [
           "Green Warehousing",
           14,
           "pub.1127953927",
           ""
          ],
          [
           "Green Warehousing",
           14,
           "pub.1126155979",
           ""
          ],
          [
           "Green Warehousing",
           14,
           "pub.1125842670",
           ""
          ],
          [
           "Green Warehousing",
           14,
           "pub.1121161391",
           ""
          ],
          [
           "Green Warehousing",
           14,
           "pub.1120216323",
           ""
          ],
          [
           "Green Warehousing",
           14,
           "pub.1120098405",
           ""
          ],
          [
           "Green Warehousing",
           14,
           "pub.1106687077",
           ""
          ],
          [
           "Green Warehousing",
           14,
           "pub.1105183849",
           ""
          ],
          [
           "Green Warehousing",
           14,
           "pub.1099594878",
           ""
          ],
          [
           "Green Warehousing",
           14,
           "pub.1092868344",
           ""
          ],
          [
           "Green Warehousing",
           14,
           "pub.1087177293",
           ""
          ],
          [
           "Green Warehousing",
           14,
           "pub.1067495690",
           ""
          ],
          [
           "Green Warehousing",
           14,
           "pub.1035930497",
           ""
          ],
          [
           "Green Warehousing",
           14,
           "pub.1015425126",
           ""
          ],
          [
           "Green Warehousing",
           14,
           "pub.1008996397",
           ""
          ]
         ],
         "hovertemplate": "label=%{customdata[0]}<br>x=%{x}<br>y=%{y}<br>cluster=%{customdata[1]}<br>pub_id=%{customdata[2]}<br>survey_group=%{customdata[3]}<extra></extra>",
         "legendgroup": "Green Warehousing",
         "marker": {
          "color": "#006400",
          "opacity": 0.9,
          "symbol": "circle"
         },
         "mode": "markers",
         "name": "Green Warehousing",
         "orientation": "v",
         "showlegend": true,
         "type": "scatter",
         "x": [
          8.562468,
          9.517308,
          7.9649806,
          8.443637,
          9.32252,
          8.569531,
          9.270757,
          8.241443,
          8.816157,
          8.582843,
          9.428095,
          8.92396,
          8.103987,
          8.842659,
          8.921136,
          8.770553,
          9.031069,
          9.1561985,
          8.34542,
          8.825574,
          9.5688,
          8.330228,
          8.6775055,
          9.346789,
          8.817412,
          9.027715,
          9.603073,
          9.328727,
          8.518215,
          9.019319,
          9.637961,
          8.036967,
          8.380607,
          9.193647,
          8.905549,
          9.01194,
          8.470028,
          9.122941
         ],
         "xaxis": "x",
         "y": [
          -4.4793696,
          -4.397749,
          -4.3906865,
          -4.46794,
          -4.3885,
          -4.555046,
          -4.482771,
          -4.2985153,
          -4.0738254,
          -4.452239,
          -4.277522,
          -4.151901,
          -4.419622,
          -4.0973673,
          -4.061077,
          -4.0626793,
          -4.255002,
          -4.5320773,
          -4.132415,
          -4.6272707,
          -4.301274,
          -4.434337,
          -4.1769705,
          -4.41206,
          -4.090468,
          -4.1700573,
          -4.605796,
          -4.538722,
          -4.420711,
          -4.2849727,
          -4.570035,
          -4.376085,
          -4.4398932,
          -4.2846766,
          -4.0517726,
          -4.452577,
          -4.401148,
          -4.25134
         ],
         "yaxis": "y"
        },
        {
         "customdata": [
          [
           "AI on Edge Devices",
           7,
           "pub.1128852448",
           ""
          ],
          [
           "AI on Edge Devices",
           7,
           "pub.1128479095",
           ""
          ],
          [
           "AI on Edge Devices",
           7,
           "pub.1127250882",
           ""
          ],
          [
           "AI on Edge Devices",
           7,
           "pub.1126481351",
           ""
          ],
          [
           "AI on Edge Devices",
           7,
           "pub.1125925617",
           ""
          ],
          [
           "AI on Edge Devices",
           7,
           "pub.1124148063",
           ""
          ],
          [
           "AI on Edge Devices",
           7,
           "pub.1122515167",
           ""
          ],
          [
           "AI on Edge Devices",
           7,
           "pub.1122235047",
           ""
          ],
          [
           "AI on Edge Devices",
           7,
           "pub.1121932678",
           ""
          ],
          [
           "AI on Edge Devices",
           7,
           "pub.1121194812",
           ""
          ],
          [
           "AI on Edge Devices",
           7,
           "pub.1118735394",
           ""
          ],
          [
           "AI on Edge Devices",
           7,
           "pub.1118023870",
           ""
          ],
          [
           "AI on Edge Devices",
           7,
           "pub.1117920554",
           ""
          ],
          [
           "AI on Edge Devices",
           1,
           "pub.1114352564",
           ""
          ],
          [
           "AI on Edge Devices",
           7,
           "pub.1112862699",
           ""
          ],
          [
           "AI on Edge Devices",
           7,
           "pub.1110420318",
           ""
          ],
          [
           "AI on Edge Devices",
           7,
           "pub.1104338333",
           ""
          ],
          [
           "AI on Edge Devices",
           7,
           "pub.1100673785",
           ""
          ],
          [
           "AI on Edge Devices",
           7,
           "pub.1083507587",
           ""
          ],
          [
           "AI on Edge Devices",
           7,
           "pub.1128716869",
           ""
          ],
          [
           "AI on Edge Devices",
           7,
           "pub.1125166251",
           ""
          ],
          [
           "AI on Edge Devices",
           7,
           "pub.1125166037",
           ""
          ],
          [
           "AI on Edge Devices",
           7,
           "pub.1124436340",
           ""
          ],
          [
           "AI on Edge Devices",
           7,
           "pub.1124081996",
           ""
          ],
          [
           "AI on Edge Devices",
           7,
           "pub.1123810093",
           ""
          ],
          [
           "AI on Edge Devices",
           7,
           "pub.1122596363",
           ""
          ],
          [
           "AI on Edge Devices",
           7,
           "pub.1122519012",
           ""
          ],
          [
           "AI on Edge Devices",
           7,
           "pub.1122068746",
           ""
          ],
          [
           "AI on Edge Devices",
           7,
           "pub.1121628094",
           ""
          ],
          [
           "AI on Edge Devices",
           7,
           "pub.1116154247",
           ""
          ],
          [
           "AI on Edge Devices",
           7,
           "pub.1113065842",
           ""
          ],
          [
           "AI on Edge Devices",
           7,
           "pub.1110363845",
           ""
          ],
          [
           "AI on Edge Devices",
           7,
           "pub.1107023934",
           ""
          ],
          [
           "AI on Edge Devices",
           7,
           "pub.1106394770",
           ""
          ],
          [
           "AI on Edge Devices",
           7,
           "pub.1103977084",
           ""
          ],
          [
           "AI on Edge Devices",
           7,
           "pub.1094646899",
           ""
          ]
         ],
         "hovertemplate": "label=%{customdata[0]}<br>x=%{x}<br>y=%{y}<br>cluster=%{customdata[1]}<br>pub_id=%{customdata[2]}<br>survey_group=%{customdata[3]}<extra></extra>",
         "legendgroup": "AI on Edge Devices",
         "marker": {
          "color": "#000080",
          "opacity": 0.9,
          "symbol": "circle"
         },
         "mode": "markers",
         "name": "AI on Edge Devices",
         "orientation": "v",
         "showlegend": true,
         "type": "scatter",
         "x": [
          16.638865,
          17.458218,
          17.14884,
          17.051144,
          17.56097,
          17.439266,
          17.372639,
          17.277767,
          17.401258,
          17.336489,
          17.399216,
          17.641544,
          17.778395,
          16.506958,
          17.496443,
          17.264194,
          17.96109,
          17.543085,
          17.582039,
          17.356855,
          18.462336,
          17.654202,
          17.450233,
          17.773333,
          17.409307,
          17.113888,
          17.106232,
          17.260593,
          17.18144,
          17.267895,
          17.450645,
          17.341143,
          16.937439,
          17.161177,
          17.671583,
          18.146563
         ],
         "xaxis": "x",
         "y": [
          16.291521,
          16.103638,
          16.149809,
          16.117403,
          16.719154,
          16.501314,
          16.127703,
          16.2608,
          16.28095,
          16.41993,
          16.607946,
          16.098087,
          16.08106,
          16.325851,
          16.498032,
          16.540485,
          16.077255,
          15.958402,
          15.984039,
          16.547808,
          15.816359,
          16.22532,
          16.038788,
          16.079588,
          16.174482,
          16.084553,
          15.904243,
          16.36049,
          16.314392,
          16.005823,
          16.043974,
          16.397251,
          16.189728,
          16.117702,
          16.019028,
          15.928365
         ],
         "yaxis": "y"
        },
        {
         "customdata": [
          [
           "Energy Growth Nexus",
           5,
           "pub.1123961798",
           ""
          ],
          [
           "Energy Growth Nexus",
           5,
           "pub.1052820957",
           ""
          ],
          [
           "Energy Growth Nexus",
           5,
           "pub.1050136415",
           ""
          ],
          [
           "Energy Growth Nexus",
           5,
           "pub.1048730269",
           ""
          ],
          [
           "Energy Growth Nexus",
           5,
           "pub.1047256779",
           ""
          ],
          [
           "Energy Growth Nexus",
           5,
           "pub.1045412034",
           ""
          ],
          [
           "Energy Growth Nexus",
           5,
           "pub.1042544661",
           ""
          ],
          [
           "Energy Growth Nexus",
           5,
           "pub.1042017662",
           ""
          ],
          [
           "Energy Growth Nexus",
           5,
           "pub.1041338787",
           ""
          ],
          [
           "Energy Growth Nexus",
           5,
           "pub.1036973953",
           ""
          ],
          [
           "Energy Growth Nexus",
           5,
           "pub.1022049865",
           ""
          ],
          [
           "Energy Growth Nexus",
           5,
           "pub.1021980170",
           ""
          ],
          [
           "Energy Growth Nexus",
           5,
           "pub.1009749897",
           ""
          ],
          [
           "Energy Growth Nexus",
           5,
           "pub.1009651790",
           ""
          ],
          [
           "Energy Growth Nexus",
           5,
           "pub.1009389919",
           ""
          ],
          [
           "Energy Growth Nexus",
           5,
           "pub.1006191975",
           ""
          ],
          [
           "Energy Growth Nexus",
           5,
           "pub.1002720309",
           ""
          ],
          [
           "Energy Growth Nexus",
           5,
           "pub.1053441851",
           ""
          ],
          [
           "Energy Growth Nexus",
           5,
           "pub.1052542598",
           ""
          ],
          [
           "Energy Growth Nexus",
           5,
           "pub.1051802627",
           ""
          ],
          [
           "Energy Growth Nexus",
           5,
           "pub.1040160107",
           ""
          ],
          [
           "Energy Growth Nexus",
           5,
           "pub.1032217726",
           ""
          ],
          [
           "Energy Growth Nexus",
           5,
           "pub.1031321996",
           ""
          ],
          [
           "Energy Growth Nexus",
           5,
           "pub.1024937016",
           ""
          ],
          [
           "Energy Growth Nexus",
           5,
           "pub.1013831878",
           ""
          ],
          [
           "Energy Growth Nexus",
           5,
           "pub.1006882307",
           ""
          ],
          [
           "Energy Growth Nexus",
           5,
           "pub.1005732591",
           ""
          ]
         ],
         "hovertemplate": "label=%{customdata[0]}<br>x=%{x}<br>y=%{y}<br>cluster=%{customdata[1]}<br>pub_id=%{customdata[2]}<br>survey_group=%{customdata[3]}<extra></extra>",
         "legendgroup": "Energy Growth Nexus",
         "marker": {
          "color": "#ff0000",
          "opacity": 0.9,
          "symbol": "circle"
         },
         "mode": "markers",
         "name": "Energy Growth Nexus",
         "orientation": "v",
         "showlegend": true,
         "type": "scatter",
         "x": [
          13.521384,
          13.999084,
          13.820588,
          13.772813,
          13.874753,
          13.597324,
          14.190867,
          13.638217,
          13.970132,
          14.249368,
          13.905296,
          13.945492,
          14.159134,
          13.790511,
          14.073138,
          14.032126,
          13.868765,
          13.77602,
          13.942294,
          13.872664,
          13.968638,
          13.957908,
          14.191097,
          14.172258,
          14.092346,
          14.030267,
          13.689716
         ],
         "xaxis": "x",
         "y": [
          -8.995753,
          -8.907367,
          -8.796713,
          -8.565122,
          -9.245754,
          -8.649584,
          -9.323259,
          -8.6520605,
          -8.547785,
          -9.309495,
          -8.469434,
          -8.604696,
          -9.1746,
          -8.850521,
          -8.582549,
          -8.822665,
          -8.719648,
          -8.794943,
          -8.502394,
          -8.736115,
          -8.558542,
          -8.830601,
          -8.963607,
          -9.212585,
          -9.109076,
          -9.02627,
          -8.857505
         ],
         "yaxis": "y"
        },
        {
         "customdata": [
          [
           "Drones in Agriculture",
           1,
           "pub.1113441179",
           ""
          ],
          [
           "Drones in Agriculture",
           1,
           "pub.1094775321",
           ""
          ],
          [
           "Drones in Agriculture",
           1,
           "pub.1092454498",
           ""
          ],
          [
           "Drones in Agriculture",
           1,
           "pub.1086143194",
           ""
          ],
          [
           "Drones in Agriculture",
           1,
           "pub.1071268140",
           ""
          ],
          [
           "Drones in Agriculture",
           1,
           "pub.1064896140",
           ""
          ],
          [
           "Drones in Agriculture",
           1,
           "pub.1064892999",
           ""
          ],
          [
           "Drones in Agriculture",
           1,
           "pub.1032694598",
           ""
          ],
          [
           "Drones in Agriculture",
           1,
           "pub.1022922533",
           ""
          ],
          [
           "Drones in Agriculture",
           1,
           "pub.1013849273",
           ""
          ],
          [
           "Drones in Agriculture",
           1,
           "pub.1007471000",
           ""
          ],
          [
           "Drones in Agriculture",
           1,
           "pub.1002161636",
           ""
          ],
          [
           "Drones in Agriculture",
           1,
           "pub.1000225286",
           ""
          ],
          [
           "Drones in Agriculture",
           1,
           "pub.1061610686",
           ""
          ],
          [
           "Drones in Agriculture",
           1,
           "pub.1061280901",
           ""
          ],
          [
           "Drones in Agriculture",
           1,
           "pub.1052390127",
           ""
          ],
          [
           "Drones in Agriculture",
           1,
           "pub.1028947023",
           ""
          ],
          [
           "Drones in Agriculture",
           1,
           "pub.1027978650",
           ""
          ],
          [
           "Drones in Agriculture",
           1,
           "pub.1025608752",
           ""
          ],
          [
           "Drones in Agriculture",
           1,
           "pub.1023847193",
           ""
          ],
          [
           "Drones in Agriculture",
           1,
           "pub.1020655667",
           ""
          ],
          [
           "Drones in Agriculture",
           1,
           "pub.1014003350",
           ""
          ],
          [
           "Drones in Agriculture",
           1,
           "pub.1010901465",
           ""
          ],
          [
           "Drones in Agriculture",
           1,
           "pub.1007702481",
           ""
          ],
          [
           "Drones in Agriculture",
           1,
           "pub.1003882381",
           ""
          ]
         ],
         "hovertemplate": "label=%{customdata[0]}<br>x=%{x}<br>y=%{y}<br>cluster=%{customdata[1]}<br>pub_id=%{customdata[2]}<br>survey_group=%{customdata[3]}<extra></extra>",
         "legendgroup": "Drones in Agriculture",
         "marker": {
          "color": "#00ced1",
          "opacity": 0.9,
          "symbol": "circle"
         },
         "mode": "markers",
         "name": "Drones in Agriculture",
         "orientation": "v",
         "showlegend": true,
         "type": "scatter",
         "x": [
          14.970129,
          15.693657,
          14.739337,
          14.368134,
          14.566204,
          14.828106,
          14.4778385,
          14.560235,
          14.639219,
          15.154549,
          14.107851,
          14.58309,
          14.41146,
          14.613517,
          15.046128,
          14.769828,
          14.70629,
          14.660715,
          14.713475,
          14.550359,
          14.784653,
          14.679262,
          14.822489,
          14.4708805,
          14.49543
         ],
         "xaxis": "x",
         "y": [
          16.571495,
          16.511911,
          16.842607,
          17.131197,
          16.965782,
          16.584806,
          16.998936,
          16.951775,
          16.924469,
          16.49605,
          17.334791,
          16.902367,
          16.98149,
          16.83714,
          16.562647,
          16.916857,
          16.674856,
          16.79393,
          16.718096,
          16.701975,
          16.788742,
          16.724472,
          16.712677,
          17.015627,
          16.91455
         ],
         "yaxis": "y"
        },
        {
         "customdata": [
          [
           "Crop Yield Prediction",
           8,
           "pub.1112087374",
           ""
          ],
          [
           "Crop Yield Prediction",
           8,
           "pub.1111503060",
           ""
          ],
          [
           "Crop Yield Prediction",
           8,
           "pub.1107925034",
           ""
          ],
          [
           "Crop Yield Prediction",
           8,
           "pub.1107298395",
           ""
          ],
          [
           "Crop Yield Prediction",
           8,
           "pub.1106988165",
           ""
          ],
          [
           "Crop Yield Prediction",
           8,
           "pub.1106034026",
           ""
          ],
          [
           "Crop Yield Prediction",
           8,
           "pub.1105035509",
           ""
          ],
          [
           "Crop Yield Prediction",
           8,
           "pub.1103323054",
           ""
          ],
          [
           "Crop Yield Prediction",
           8,
           "pub.1103286049",
           ""
          ],
          [
           "Crop Yield Prediction",
           8,
           "pub.1095777829",
           ""
          ],
          [
           "Crop Yield Prediction",
           8,
           "pub.1095337245",
           ""
          ],
          [
           "Crop Yield Prediction",
           8,
           "pub.1094455706",
           ""
          ],
          [
           "Crop Yield Prediction",
           8,
           "pub.1094154280",
           ""
          ],
          [
           "Crop Yield Prediction",
           8,
           "pub.1093448171",
           ""
          ],
          [
           "Crop Yield Prediction",
           8,
           "pub.1087231057",
           ""
          ],
          [
           "Crop Yield Prediction",
           8,
           "pub.1085732641",
           ""
          ],
          [
           "Crop Yield Prediction",
           8,
           "pub.1085640773",
           ""
          ],
          [
           "Crop Yield Prediction",
           8,
           "pub.1083753722",
           ""
          ],
          [
           "Crop Yield Prediction",
           8,
           "pub.1072842102",
           ""
          ],
          [
           "Crop Yield Prediction",
           8,
           "pub.1061334272",
           ""
          ],
          [
           "Crop Yield Prediction",
           8,
           "pub.1040894579",
           ""
          ],
          [
           "Crop Yield Prediction",
           8,
           "pub.1016061586",
           ""
          ],
          [
           "Crop Yield Prediction",
           8,
           "pub.1013313926",
           ""
          ],
          [
           "Crop Yield Prediction",
           8,
           "pub.1011532234",
           ""
          ],
          [
           "Crop Yield Prediction",
           8,
           "pub.1003896548",
           ""
          ],
          [
           "Crop Yield Prediction",
           8,
           "pub.1003708746",
           ""
          ],
          [
           "Crop Yield Prediction",
           8,
           "pub.1001065952",
           ""
          ],
          [
           "Crop Yield Prediction",
           8,
           "pub.1111269831",
           ""
          ],
          [
           "Crop Yield Prediction",
           8,
           "pub.1106284861",
           ""
          ],
          [
           "Crop Yield Prediction",
           8,
           "pub.1105144504",
           ""
          ],
          [
           "Crop Yield Prediction",
           8,
           "pub.1105021375",
           ""
          ],
          [
           "Crop Yield Prediction",
           8,
           "pub.1103481417",
           ""
          ],
          [
           "Crop Yield Prediction",
           8,
           "pub.1094483007",
           ""
          ],
          [
           "Crop Yield Prediction",
           8,
           "pub.1093670904",
           ""
          ],
          [
           "Crop Yield Prediction",
           8,
           "pub.1093207217",
           ""
          ],
          [
           "Crop Yield Prediction",
           8,
           "pub.1084919232",
           ""
          ],
          [
           "Crop Yield Prediction",
           8,
           "pub.1083415540",
           ""
          ],
          [
           "Crop Yield Prediction",
           8,
           "pub.1061614459",
           ""
          ],
          [
           "Crop Yield Prediction",
           8,
           "pub.1041052930",
           ""
          ],
          [
           "Crop Yield Prediction",
           8,
           "pub.1033490641",
           ""
          ],
          [
           "Crop Yield Prediction",
           8,
           "pub.1033258084",
           ""
          ],
          [
           "Crop Yield Prediction",
           8,
           "pub.1031921576",
           ""
          ],
          [
           "Crop Yield Prediction",
           8,
           "pub.1028808547",
           ""
          ],
          [
           "Crop Yield Prediction",
           8,
           "pub.1005691069",
           ""
          ],
          [
           "Crop Yield Prediction",
           8,
           "pub.1004965338",
           ""
          ],
          [
           "Crop Yield Prediction",
           8,
           "pub.1001894773",
           ""
          ]
         ],
         "hovertemplate": "label=%{customdata[0]}<br>x=%{x}<br>y=%{y}<br>cluster=%{customdata[1]}<br>pub_id=%{customdata[2]}<br>survey_group=%{customdata[3]}<extra></extra>",
         "legendgroup": "Crop Yield Prediction",
         "marker": {
          "color": "#ffa500",
          "opacity": 0.9,
          "symbol": "circle"
         },
         "mode": "markers",
         "name": "Crop Yield Prediction",
         "orientation": "v",
         "showlegend": true,
         "type": "scatter",
         "x": [
          13.076445,
          13.060205,
          12.844903,
          12.846078,
          12.979059,
          13.277622,
          13.088011,
          13.133624,
          13.115329,
          12.738901,
          12.97501,
          12.551642,
          12.841047,
          12.787102,
          13.375032,
          13.380197,
          12.908992,
          13.2987385,
          12.932738,
          13.539127,
          13.303458,
          12.752948,
          12.858684,
          13.012392,
          13.087328,
          13.013194,
          13.118915,
          13.248718,
          13.384063,
          12.793265,
          13.212491,
          12.76942,
          12.604579,
          12.53178,
          12.63003,
          12.496693,
          12.932496,
          13.207125,
          13.028343,
          13.405325,
          13.115501,
          12.877876,
          12.825974,
          12.85121,
          13.042286,
          13.254304
         ],
         "xaxis": "x",
         "y": [
          18.206844,
          18.359848,
          18.072586,
          18.01756,
          18.634794,
          18.493595,
          18.525007,
          19.013697,
          18.732372,
          18.705776,
          18.886541,
          18.526957,
          18.598461,
          18.440763,
          18.855402,
          18.423517,
          18.05017,
          18.87556,
          18.614096,
          17.998758,
          18.679924,
          18.793047,
          18.826315,
          18.930681,
          18.335083,
          18.662312,
          18.548859,
          18.433754,
          18.378162,
          18.12874,
          18.355091,
          18.430931,
          18.559635,
          18.32998,
          18.585995,
          18.37748,
          18.354904,
          18.86933,
          18.910725,
          18.07437,
          18.240335,
          18.095367,
          17.936537,
          18.836233,
          18.292412,
          18.818394
         ],
         "yaxis": "y"
        },
        {
         "customdata": [
          [
           "Sustainable Biofuel",
           9,
           "pub.1107587297",
           ""
          ],
          [
           "Sustainable Biofuel",
           4,
           "pub.1100466182",
           ""
          ],
          [
           "Sustainable Biofuel",
           4,
           "pub.1072974020",
           ""
          ],
          [
           "Sustainable Biofuel",
           4,
           "pub.1061936485",
           ""
          ],
          [
           "Sustainable Biofuel",
           4,
           "pub.1059379956",
           ""
          ],
          [
           "Sustainable Biofuel",
           9,
           "pub.1052527949",
           ""
          ],
          [
           "Sustainable Biofuel",
           9,
           "pub.1050772383",
           ""
          ],
          [
           "Sustainable Biofuel",
           4,
           "pub.1046534403",
           ""
          ],
          [
           "Sustainable Biofuel",
           4,
           "pub.1042117532",
           ""
          ],
          [
           "Sustainable Biofuel",
           4,
           "pub.1040677299",
           ""
          ],
          [
           "Sustainable Biofuel",
           4,
           "pub.1037107713",
           ""
          ],
          [
           "Sustainable Biofuel",
           9,
           "pub.1034672998",
           ""
          ],
          [
           "Sustainable Biofuel",
           4,
           "pub.1029572917",
           ""
          ],
          [
           "Sustainable Biofuel",
           9,
           "pub.1024929365",
           ""
          ],
          [
           "Sustainable Biofuel",
           9,
           "pub.1023297174",
           ""
          ],
          [
           "Sustainable Biofuel",
           4,
           "pub.1023206201",
           ""
          ],
          [
           "Sustainable Biofuel",
           9,
           "pub.1019705090",
           ""
          ],
          [
           "Sustainable Biofuel",
           9,
           "pub.1015524088",
           ""
          ],
          [
           "Sustainable Biofuel",
           9,
           "pub.1011757946",
           ""
          ],
          [
           "Sustainable Biofuel",
           4,
           "pub.1003364215",
           ""
          ],
          [
           "Sustainable Biofuel",
           9,
           "pub.1128580761",
           ""
          ],
          [
           "Sustainable Biofuel",
           9,
           "pub.1125099402",
           ""
          ],
          [
           "Sustainable Biofuel",
           9,
           "pub.1122753999",
           ""
          ],
          [
           "Sustainable Biofuel",
           4,
           "pub.1113705995",
           ""
          ],
          [
           "Sustainable Biofuel",
           9,
           "pub.1111976854",
           ""
          ],
          [
           "Sustainable Biofuel",
           9,
           "pub.1111565453",
           ""
          ],
          [
           "Sustainable Biofuel",
           9,
           "pub.1104374325",
           ""
          ],
          [
           "Sustainable Biofuel",
           4,
           "pub.1103810413",
           ""
          ],
          [
           "Sustainable Biofuel",
           4,
           "pub.1101561277",
           ""
          ],
          [
           "Sustainable Biofuel",
           4,
           "pub.1100248345",
           ""
          ],
          [
           "Sustainable Biofuel",
           4,
           "pub.1061934170",
           ""
          ],
          [
           "Sustainable Biofuel",
           4,
           "pub.1061934137",
           ""
          ],
          [
           "Sustainable Biofuel",
           4,
           "pub.1059570180",
           ""
          ],
          [
           "Sustainable Biofuel",
           9,
           "pub.1052968606",
           ""
          ],
          [
           "Sustainable Biofuel",
           4,
           "pub.1049492388",
           ""
          ],
          [
           "Sustainable Biofuel",
           9,
           "pub.1048939047",
           ""
          ],
          [
           "Sustainable Biofuel",
           4,
           "pub.1047356473",
           ""
          ],
          [
           "Sustainable Biofuel",
           9,
           "pub.1044581237",
           ""
          ],
          [
           "Sustainable Biofuel",
           4,
           "pub.1038072171",
           ""
          ],
          [
           "Sustainable Biofuel",
           9,
           "pub.1034625256",
           ""
          ],
          [
           "Sustainable Biofuel",
           9,
           "pub.1033108925",
           ""
          ],
          [
           "Sustainable Biofuel",
           9,
           "pub.1029649992",
           ""
          ],
          [
           "Sustainable Biofuel",
           4,
           "pub.1026369526",
           ""
          ],
          [
           "Sustainable Biofuel",
           4,
           "pub.1019951181",
           ""
          ],
          [
           "Sustainable Biofuel",
           9,
           "pub.1019376553",
           ""
          ],
          [
           "Sustainable Biofuel",
           4,
           "pub.1014664202",
           ""
          ],
          [
           "Sustainable Biofuel",
           9,
           "pub.1009832103",
           ""
          ],
          [
           "Sustainable Biofuel",
           9,
           "pub.1009744782",
           ""
          ],
          [
           "Sustainable Biofuel",
           4,
           "pub.1004602535",
           ""
          ],
          [
           "Sustainable Biofuel",
           9,
           "pub.1002495312",
           ""
          ]
         ],
         "hovertemplate": "label=%{customdata[0]}<br>x=%{x}<br>y=%{y}<br>cluster=%{customdata[1]}<br>pub_id=%{customdata[2]}<br>survey_group=%{customdata[3]}<extra></extra>",
         "legendgroup": "Sustainable Biofuel",
         "marker": {
          "color": "#ffff00",
          "opacity": 0.9,
          "symbol": "circle"
         },
         "mode": "markers",
         "name": "Sustainable Biofuel",
         "orientation": "v",
         "showlegend": true,
         "type": "scatter",
         "x": [
          5.9388423,
          5.177742,
          4.761737,
          4.9025993,
          4.613625,
          5.6681747,
          5.7307076,
          5.3371086,
          4.9032054,
          5.2266827,
          4.916174,
          5.5381594,
          5.12588,
          5.382409,
          5.886388,
          5.647816,
          5.9400887,
          5.3611784,
          6.027359,
          5.211975,
          6.1052527,
          6.0418167,
          5.690208,
          4.8000975,
          5.982753,
          6.172056,
          6.054161,
          4.975623,
          5.2209163,
          5.300346,
          4.85255,
          4.8313947,
          4.778697,
          5.932032,
          5.1177297,
          5.920601,
          4.6833243,
          5.4188952,
          4.9221263,
          5.953945,
          5.748213,
          5.9969745,
          5.0768948,
          4.7641416,
          5.854499,
          5.096992,
          6.0984325,
          6.137123,
          4.7791824,
          5.6847434
         ],
         "xaxis": "x",
         "y": [
          5.8166943,
          5.125257,
          4.440393,
          4.5674767,
          4.5186357,
          5.0478587,
          5.522768,
          4.8439636,
          4.416474,
          4.600616,
          4.734562,
          5.1460905,
          4.77299,
          5.2991214,
          5.3563185,
          5.0745263,
          5.366377,
          5.2635503,
          5.7013626,
          4.6165032,
          5.599148,
          5.567241,
          5.5849633,
          4.8353834,
          5.824232,
          5.6217437,
          5.5755715,
          4.860149,
          4.6349688,
          4.5804667,
          4.4823613,
          4.486126,
          4.414489,
          5.84906,
          4.755504,
          5.4286785,
          4.554018,
          4.7238846,
          4.6096954,
          5.455217,
          5.6783667,
          5.876774,
          4.9160304,
          4.338404,
          5.295203,
          4.4297566,
          5.784802,
          5.631326,
          4.529904,
          5.089001
         ],
         "yaxis": "y"
        },
        {
         "customdata": [
          [
           "Robotic Arthroplasty",
           2,
           "pub.1107054942",
           ""
          ],
          [
           "Robotic Arthroplasty",
           2,
           "pub.1105926995",
           ""
          ],
          [
           "Robotic Arthroplasty",
           2,
           "pub.1092914867",
           ""
          ],
          [
           "Robotic Arthroplasty",
           2,
           "pub.1092198359",
           ""
          ],
          [
           "Robotic Arthroplasty",
           2,
           "pub.1083695994",
           ""
          ],
          [
           "Robotic Arthroplasty",
           2,
           "pub.1077881457",
           ""
          ],
          [
           "Robotic Arthroplasty",
           2,
           "pub.1068898169",
           ""
          ],
          [
           "Robotic Arthroplasty",
           2,
           "pub.1068895745",
           ""
          ],
          [
           "Robotic Arthroplasty",
           2,
           "pub.1060167437",
           ""
          ],
          [
           "Robotic Arthroplasty",
           2,
           "pub.1060167433",
           ""
          ],
          [
           "Robotic Arthroplasty",
           2,
           "pub.1053567618",
           ""
          ],
          [
           "Robotic Arthroplasty",
           2,
           "pub.1053428144",
           ""
          ],
          [
           "Robotic Arthroplasty",
           2,
           "pub.1041693000",
           ""
          ],
          [
           "Robotic Arthroplasty",
           2,
           "pub.1040431710",
           ""
          ],
          [
           "Robotic Arthroplasty",
           2,
           "pub.1039984345",
           ""
          ],
          [
           "Robotic Arthroplasty",
           2,
           "pub.1036848872",
           ""
          ],
          [
           "Robotic Arthroplasty",
           2,
           "pub.1034566767",
           ""
          ],
          [
           "Robotic Arthroplasty",
           2,
           "pub.1033569916",
           ""
          ],
          [
           "Robotic Arthroplasty",
           2,
           "pub.1028449260",
           ""
          ],
          [
           "Robotic Arthroplasty",
           2,
           "pub.1014011841",
           ""
          ],
          [
           "Robotic Arthroplasty",
           2,
           "pub.1012736542",
           ""
          ],
          [
           "Robotic Arthroplasty",
           2,
           "pub.1003009109",
           ""
          ],
          [
           "Robotic Arthroplasty",
           2,
           "pub.1123098811",
           ""
          ],
          [
           "Robotic Arthroplasty",
           2,
           "pub.1121440882",
           ""
          ],
          [
           "Robotic Arthroplasty",
           2,
           "pub.1111052246",
           ""
          ],
          [
           "Robotic Arthroplasty",
           2,
           "pub.1107454237",
           ""
          ],
          [
           "Robotic Arthroplasty",
           2,
           "pub.1105917414",
           ""
          ],
          [
           "Robotic Arthroplasty",
           2,
           "pub.1105227244",
           ""
          ],
          [
           "Robotic Arthroplasty",
           2,
           "pub.1101146035",
           ""
          ],
          [
           "Robotic Arthroplasty",
           2,
           "pub.1100744263",
           ""
          ],
          [
           "Robotic Arthroplasty",
           2,
           "pub.1091777297",
           ""
          ],
          [
           "Robotic Arthroplasty",
           2,
           "pub.1085617296",
           ""
          ],
          [
           "Robotic Arthroplasty",
           2,
           "pub.1085423980",
           ""
          ],
          [
           "Robotic Arthroplasty",
           2,
           "pub.1064886544",
           ""
          ],
          [
           "Robotic Arthroplasty",
           2,
           "pub.1061784304",
           ""
          ],
          [
           "Robotic Arthroplasty",
           2,
           "pub.1061184595",
           ""
          ],
          [
           "Robotic Arthroplasty",
           2,
           "pub.1051764285",
           ""
          ],
          [
           "Robotic Arthroplasty",
           2,
           "pub.1048135360",
           ""
          ],
          [
           "Robotic Arthroplasty",
           2,
           "pub.1047113435",
           ""
          ],
          [
           "Robotic Arthroplasty",
           2,
           "pub.1046566936",
           ""
          ],
          [
           "Robotic Arthroplasty",
           2,
           "pub.1045115204",
           ""
          ],
          [
           "Robotic Arthroplasty",
           2,
           "pub.1033163258",
           ""
          ],
          [
           "Robotic Arthroplasty",
           2,
           "pub.1030382394",
           ""
          ],
          [
           "Robotic Arthroplasty",
           2,
           "pub.1023819845",
           ""
          ],
          [
           "Robotic Arthroplasty",
           2,
           "pub.1022546608",
           ""
          ],
          [
           "Robotic Arthroplasty",
           2,
           "pub.1020705223",
           ""
          ],
          [
           "Robotic Arthroplasty",
           2,
           "pub.1000309245",
           ""
          ]
         ],
         "hovertemplate": "label=%{customdata[0]}<br>x=%{x}<br>y=%{y}<br>cluster=%{customdata[1]}<br>pub_id=%{customdata[2]}<br>survey_group=%{customdata[3]}<extra></extra>",
         "legendgroup": "Robotic Arthroplasty",
         "marker": {
          "color": "#00ff00",
          "opacity": 0.9,
          "symbol": "circle"
         },
         "mode": "markers",
         "name": "Robotic Arthroplasty",
         "orientation": "v",
         "showlegend": true,
         "type": "scatter",
         "x": [
          -4.172138,
          -4.7767644,
          -4.303359,
          -4.1548114,
          -4.5257955,
          -4.261934,
          -4.761434,
          -3.9617684,
          -4.109386,
          -4.2046833,
          -4.236008,
          -4.2434144,
          -3.7641876,
          -4.139894,
          -4.5195155,
          -3.6701093,
          -4.3650436,
          -3.7445302,
          -4.6357865,
          -4.723009,
          -3.65466,
          -3.9519646,
          -4.5734067,
          -4.036051,
          -4.456408,
          -3.8645267,
          -4.4862223,
          -4.1123247,
          -4.552701,
          -4.645947,
          -4.7450747,
          -3.6296496,
          -4.2204905,
          -4.164764,
          -4.2909307,
          -4.177249,
          -4.5143986,
          -4.1396565,
          -4.5902667,
          -4.194054,
          -3.957365,
          -4.04688,
          -4.7545395,
          -3.8332558,
          -4.7622843,
          -4.014046,
          -4.1524954
         ],
         "xaxis": "x",
         "y": [
          -0.70065385,
          -0.3515189,
          -0.6840968,
          -0.48438874,
          -0.24161057,
          -0.86755997,
          -0.57593876,
          -1.2050335,
          -1.4434272,
          -1.2491127,
          -0.5524704,
          -1.0611511,
          -1.2317551,
          -1.0207478,
          -0.24075758,
          -1.106611,
          -1.1380491,
          -1.1210607,
          -0.26907572,
          -0.40479246,
          -1.0951468,
          -1.0699574,
          -0.41809008,
          -0.71657544,
          -0.28946367,
          -1.2121202,
          -0.50416034,
          -0.58641267,
          -0.312208,
          -0.34596148,
          -0.2569998,
          -1.0247889,
          -0.76020384,
          -1.2573031,
          -1.2430146,
          -1.4843751,
          -0.7992433,
          -1.0050585,
          -0.33524826,
          -0.8394322,
          -1.2884036,
          -1.3688247,
          -0.44040868,
          -1.1323223,
          -0.3801686,
          -0.71060705,
          -0.75691766
         ],
         "yaxis": "y"
        },
        {
         "customdata": [
          [
           "Soft Robotics",
           6,
           "pub.1099769159",
           ""
          ],
          [
           "Soft Robotics",
           6,
           "pub.1091247330",
           ""
          ],
          [
           "Soft Robotics",
           6,
           "pub.1085727340",
           ""
          ],
          [
           "Soft Robotics",
           6,
           "pub.1071553028",
           ""
          ],
          [
           "Soft Robotics",
           6,
           "pub.1063202700",
           ""
          ],
          [
           "Soft Robotics",
           6,
           "pub.1061784814",
           ""
          ],
          [
           "Soft Robotics",
           6,
           "pub.1061419831",
           ""
          ],
          [
           "Soft Robotics",
           6,
           "pub.1061419786",
           ""
          ],
          [
           "Soft Robotics",
           6,
           "pub.1052588601",
           ""
          ],
          [
           "Soft Robotics",
           3,
           "pub.1047578355",
           ""
          ],
          [
           "Soft Robotics",
           6,
           "pub.1046414848",
           ""
          ],
          [
           "Soft Robotics",
           6,
           "pub.1037299542",
           ""
          ],
          [
           "Soft Robotics",
           6,
           "pub.1032973919",
           ""
          ],
          [
           "Soft Robotics",
           6,
           "pub.1022244206",
           ""
          ],
          [
           "Soft Robotics",
           6,
           "pub.1021059830",
           ""
          ],
          [
           "Soft Robotics",
           6,
           "pub.1018093320",
           ""
          ],
          [
           "Soft Robotics",
           6,
           "pub.1013312043",
           ""
          ],
          [
           "Soft Robotics",
           6,
           "pub.1010861669",
           ""
          ],
          [
           "Soft Robotics",
           6,
           "pub.1009708400",
           ""
          ],
          [
           "Soft Robotics",
           6,
           "pub.1006036928",
           ""
          ],
          [
           "Soft Robotics",
           6,
           "pub.1099769145",
           ""
          ],
          [
           "Soft Robotics",
           6,
           "pub.1094524387",
           ""
          ],
          [
           "Soft Robotics",
           6,
           "pub.1062681758",
           ""
          ],
          [
           "Soft Robotics",
           6,
           "pub.1061692527",
           ""
          ],
          [
           "Soft Robotics",
           6,
           "pub.1059311431",
           ""
          ],
          [
           "Soft Robotics",
           6,
           "pub.1053869439",
           ""
          ],
          [
           "Soft Robotics",
           6,
           "pub.1053745766",
           ""
          ],
          [
           "Soft Robotics",
           6,
           "pub.1050931185",
           ""
          ],
          [
           "Soft Robotics",
           6,
           "pub.1048672075",
           ""
          ],
          [
           "Soft Robotics",
           6,
           "pub.1046958784",
           ""
          ],
          [
           "Soft Robotics",
           6,
           "pub.1035546790",
           ""
          ],
          [
           "Soft Robotics",
           6,
           "pub.1034332217",
           ""
          ],
          [
           "Soft Robotics",
           6,
           "pub.1033757657",
           ""
          ],
          [
           "Soft Robotics",
           6,
           "pub.1016383527",
           ""
          ],
          [
           "Soft Robotics",
           6,
           "pub.1014191409",
           ""
          ],
          [
           "Soft Robotics",
           6,
           "pub.1000285042",
           ""
          ]
         ],
         "hovertemplate": "label=%{customdata[0]}<br>x=%{x}<br>y=%{y}<br>cluster=%{customdata[1]}<br>pub_id=%{customdata[2]}<br>survey_group=%{customdata[3]}<extra></extra>",
         "legendgroup": "Soft Robotics",
         "marker": {
          "color": "#00fa9a",
          "opacity": 0.9,
          "symbol": "circle"
         },
         "mode": "markers",
         "name": "Soft Robotics",
         "orientation": "v",
         "showlegend": true,
         "type": "scatter",
         "x": [
          15.549789,
          15.75716,
          15.922753,
          15.729819,
          15.759927,
          15.985313,
          16.026527,
          15.867854,
          15.85523,
          15.702637,
          15.76826,
          15.841134,
          15.960496,
          15.749677,
          15.75494,
          15.763326,
          15.693049,
          15.94068,
          16.179512,
          15.753521,
          15.670611,
          15.796798,
          16.03304,
          16.007372,
          15.937586,
          16.001791,
          15.939692,
          15.852367,
          15.915502,
          15.719267,
          15.815475,
          15.655191,
          16.02427,
          15.836389,
          15.727497,
          15.942801
         ],
         "xaxis": "x",
         "y": [
          5.799985,
          6.387431,
          5.977142,
          5.826123,
          5.72407,
          5.8539934,
          5.857321,
          5.801146,
          6.4150248,
          6.5153923,
          6.4245434,
          5.9019704,
          6.0222464,
          5.580544,
          6.503047,
          5.7576365,
          5.7162185,
          5.7231574,
          5.8730445,
          5.6539187,
          5.935765,
          5.7213726,
          5.5884805,
          6.3891273,
          6.346698,
          6.0492735,
          5.4772754,
          5.6074514,
          5.9152756,
          6.2344174,
          5.544366,
          6.3032036,
          5.625965,
          6.453051,
          6.258791,
          5.446991
         ],
         "yaxis": "y"
        },
        {
         "customdata": [
          [
           "Internet of Things in Healthcare",
           7,
           "pub.1099281667",
           ""
          ],
          [
           "Internet of Things in Healthcare",
           7,
           "pub.1095490861",
           ""
          ],
          [
           "Internet of Things in Healthcare",
           7,
           "pub.1095264568",
           ""
          ],
          [
           "Internet of Things in Healthcare",
           7,
           "pub.1095255025",
           ""
          ],
          [
           "Internet of Things in Healthcare",
           7,
           "pub.1095085621",
           ""
          ],
          [
           "Internet of Things in Healthcare",
           7,
           "pub.1094970902",
           ""
          ],
          [
           "Internet of Things in Healthcare",
           7,
           "pub.1094969147",
           ""
          ],
          [
           "Internet of Things in Healthcare",
           7,
           "pub.1094830611",
           ""
          ],
          [
           "Internet of Things in Healthcare",
           7,
           "pub.1094225194",
           ""
          ],
          [
           "Internet of Things in Healthcare",
           7,
           "pub.1093507023",
           ""
          ],
          [
           "Internet of Things in Healthcare",
           7,
           "pub.1093357343",
           ""
          ],
          [
           "Internet of Things in Healthcare",
           7,
           "pub.1067238716",
           ""
          ],
          [
           "Internet of Things in Healthcare",
           7,
           "pub.1038434872",
           ""
          ],
          [
           "Internet of Things in Healthcare",
           7,
           "pub.1034508886",
           ""
          ],
          [
           "Internet of Things in Healthcare",
           7,
           "pub.1016352338",
           ""
          ],
          [
           "Internet of Things in Healthcare",
           7,
           "pub.1001751876",
           ""
          ],
          [
           "Internet of Things in Healthcare",
           7,
           "pub.1095770589",
           ""
          ],
          [
           "Internet of Things in Healthcare",
           7,
           "pub.1095382211",
           ""
          ],
          [
           "Internet of Things in Healthcare",
           7,
           "pub.1095382199",
           ""
          ],
          [
           "Internet of Things in Healthcare",
           7,
           "pub.1093739978",
           ""
          ],
          [
           "Internet of Things in Healthcare",
           7,
           "pub.1093463283",
           ""
          ],
          [
           "Internet of Things in Healthcare",
           7,
           "pub.1061632443",
           ""
          ],
          [
           "Internet of Things in Healthcare",
           7,
           "pub.1061324932",
           ""
          ],
          [
           "Internet of Things in Healthcare",
           7,
           "pub.1044514690",
           ""
          ],
          [
           "Internet of Things in Healthcare",
           7,
           "pub.1044290948",
           ""
          ],
          [
           "Internet of Things in Healthcare",
           7,
           "pub.1042065361",
           ""
          ],
          [
           "Internet of Things in Healthcare",
           7,
           "pub.1031978033",
           ""
          ],
          [
           "Internet of Things in Healthcare",
           7,
           "pub.1025765207",
           ""
          ],
          [
           "Internet of Things in Healthcare",
           7,
           "pub.1024210708",
           ""
          ]
         ],
         "hovertemplate": "label=%{customdata[0]}<br>x=%{x}<br>y=%{y}<br>cluster=%{customdata[1]}<br>pub_id=%{customdata[2]}<br>survey_group=%{customdata[3]}<extra></extra>",
         "legendgroup": "Internet of Things in Healthcare",
         "marker": {
          "color": "#0000ff",
          "opacity": 0.9,
          "symbol": "circle"
         },
         "mode": "markers",
         "name": "Internet of Things in Healthcare",
         "orientation": "v",
         "showlegend": true,
         "type": "scatter",
         "x": [
          19.110645,
          19.365017,
          19.45589,
          19.53649,
          18.615936,
          19.480856,
          18.925556,
          19.356739,
          19.112354,
          19.214218,
          19.300478,
          19.107944,
          19.267788,
          19.14323,
          19.003233,
          19.273672,
          19.455782,
          18.538237,
          19.28074,
          19.526459,
          18.902609,
          19.567385,
          19.143723,
          19.25098,
          19.354742,
          18.110292,
          18.88626,
          18.996244,
          19.144665
         ],
         "xaxis": "x",
         "y": [
          15.8093405,
          15.720718,
          15.835004,
          15.539387,
          15.834557,
          15.854251,
          15.726496,
          15.840086,
          15.610295,
          15.522806,
          15.952892,
          15.977528,
          15.593202,
          15.78665,
          15.645654,
          15.935599,
          15.611603,
          15.890262,
          15.842412,
          15.696539,
          15.744054,
          15.62464,
          15.920507,
          15.760143,
          15.61983,
          15.983076,
          15.688745,
          15.822239,
          15.580716
         ],
         "yaxis": "y"
        },
        {
         "customdata": [
          [
           "Tourism Growth Nexus",
           5,
           "pub.1090346357",
           ""
          ],
          [
           "Tourism Growth Nexus",
           5,
           "pub.1072794279",
           ""
          ],
          [
           "Tourism Growth Nexus",
           5,
           "pub.1049141736",
           ""
          ],
          [
           "Tourism Growth Nexus",
           5,
           "pub.1047663892",
           ""
          ],
          [
           "Tourism Growth Nexus",
           5,
           "pub.1035901982",
           ""
          ],
          [
           "Tourism Growth Nexus",
           5,
           "pub.1034653502",
           ""
          ],
          [
           "Tourism Growth Nexus",
           5,
           "pub.1029979518",
           ""
          ],
          [
           "Tourism Growth Nexus",
           5,
           "pub.1013412296",
           ""
          ],
          [
           "Tourism Growth Nexus",
           5,
           "pub.1011854038",
           ""
          ],
          [
           "Tourism Growth Nexus",
           5,
           "pub.1007878277",
           ""
          ],
          [
           "Tourism Growth Nexus",
           5,
           "pub.1007170077",
           ""
          ],
          [
           "Tourism Growth Nexus",
           5,
           "pub.1004840356",
           ""
          ],
          [
           "Tourism Growth Nexus",
           5,
           "pub.1004299966",
           ""
          ],
          [
           "Tourism Growth Nexus",
           5,
           "pub.1001562704",
           ""
          ],
          [
           "Tourism Growth Nexus",
           5,
           "pub.1000810498",
           ""
          ],
          [
           "Tourism Growth Nexus",
           5,
           "pub.1072794260",
           ""
          ],
          [
           "Tourism Growth Nexus",
           5,
           "pub.1053802942",
           ""
          ],
          [
           "Tourism Growth Nexus",
           5,
           "pub.1053750775",
           ""
          ],
          [
           "Tourism Growth Nexus",
           5,
           "pub.1033376226",
           ""
          ],
          [
           "Tourism Growth Nexus",
           5,
           "pub.1032490977",
           ""
          ],
          [
           "Tourism Growth Nexus",
           5,
           "pub.1029520182",
           ""
          ],
          [
           "Tourism Growth Nexus",
           5,
           "pub.1022720888",
           ""
          ],
          [
           "Tourism Growth Nexus",
           5,
           "pub.1017098340",
           ""
          ],
          [
           "Tourism Growth Nexus",
           5,
           "pub.1013871876",
           ""
          ],
          [
           "Tourism Growth Nexus",
           5,
           "pub.1003840912",
           ""
          ]
         ],
         "hovertemplate": "label=%{customdata[0]}<br>x=%{x}<br>y=%{y}<br>cluster=%{customdata[1]}<br>pub_id=%{customdata[2]}<br>survey_group=%{customdata[3]}<extra></extra>",
         "legendgroup": "Tourism Growth Nexus",
         "marker": {
          "color": "#ff00ff",
          "opacity": 0.9,
          "symbol": "circle"
         },
         "mode": "markers",
         "name": "Tourism Growth Nexus",
         "orientation": "v",
         "showlegend": true,
         "type": "scatter",
         "x": [
          13.658385,
          13.575303,
          14.011058,
          13.549337,
          13.659579,
          13.918227,
          13.762535,
          13.893989,
          13.872236,
          13.958657,
          13.866434,
          13.946616,
          13.770149,
          13.730168,
          13.694229,
          13.905808,
          13.6182995,
          13.476531,
          13.768257,
          13.766029,
          13.835538,
          13.884828,
          13.623756,
          14.0468855,
          13.605892
         ],
         "xaxis": "x",
         "y": [
          -10.648927,
          -10.713314,
          -10.513217,
          -10.605922,
          -10.67774,
          -10.752672,
          -10.629503,
          -10.605081,
          -10.512939,
          -10.813046,
          -10.8472185,
          -10.645459,
          -10.12522,
          -10.461462,
          -10.77003,
          -10.571805,
          -10.515532,
          -10.444241,
          -10.62075,
          -10.644215,
          -9.362097,
          -10.728699,
          -10.399069,
          -10.653547,
          -10.573878
         ],
         "yaxis": "y"
        },
        {
         "customdata": [
          [
           "Cervical Myelopathy",
           12,
           "pub.1080091058",
           ""
          ],
          [
           "Cervical Myelopathy",
           12,
           "pub.1079276563",
           ""
          ],
          [
           "Cervical Myelopathy",
           12,
           "pub.1071103439",
           ""
          ],
          [
           "Cervical Myelopathy",
           12,
           "pub.1071103239",
           ""
          ],
          [
           "Cervical Myelopathy",
           12,
           "pub.1071098440",
           ""
          ],
          [
           "Cervical Myelopathy",
           12,
           "pub.1071097240",
           ""
          ],
          [
           "Cervical Myelopathy",
           12,
           "pub.1068893336",
           ""
          ],
          [
           "Cervical Myelopathy",
           12,
           "pub.1068893080",
           ""
          ],
          [
           "Cervical Myelopathy",
           12,
           "pub.1068890012",
           ""
          ],
          [
           "Cervical Myelopathy",
           11,
           "pub.1059443086",
           ""
          ],
          [
           "Cervical Myelopathy",
           12,
           "pub.1049890557",
           ""
          ],
          [
           "Cervical Myelopathy",
           12,
           "pub.1045861847",
           ""
          ],
          [
           "Cervical Myelopathy",
           12,
           "pub.1043047033",
           ""
          ],
          [
           "Cervical Myelopathy",
           12,
           "pub.1041327125",
           ""
          ],
          [
           "Cervical Myelopathy",
           12,
           "pub.1040115320",
           ""
          ],
          [
           "Cervical Myelopathy",
           12,
           "pub.1038222550",
           ""
          ],
          [
           "Cervical Myelopathy",
           12,
           "pub.1037790804",
           ""
          ],
          [
           "Cervical Myelopathy",
           12,
           "pub.1037654624",
           ""
          ],
          [
           "Cervical Myelopathy",
           12,
           "pub.1036336702",
           ""
          ],
          [
           "Cervical Myelopathy",
           12,
           "pub.1035509307",
           ""
          ],
          [
           "Cervical Myelopathy",
           12,
           "pub.1034944004",
           ""
          ],
          [
           "Cervical Myelopathy",
           12,
           "pub.1028542573",
           ""
          ],
          [
           "Cervical Myelopathy",
           12,
           "pub.1028420740",
           ""
          ],
          [
           "Cervical Myelopathy",
           12,
           "pub.1021857143",
           ""
          ],
          [
           "Cervical Myelopathy",
           12,
           "pub.1017401652",
           ""
          ],
          [
           "Cervical Myelopathy",
           12,
           "pub.1015407573",
           ""
          ],
          [
           "Cervical Myelopathy",
           12,
           "pub.1014052117",
           ""
          ],
          [
           "Cervical Myelopathy",
           12,
           "pub.1009748592",
           ""
          ],
          [
           "Cervical Myelopathy",
           12,
           "pub.1007826013",
           ""
          ],
          [
           "Cervical Myelopathy",
           12,
           "pub.1071103618",
           ""
          ],
          [
           "Cervical Myelopathy",
           12,
           "pub.1071103060",
           ""
          ],
          [
           "Cervical Myelopathy",
           12,
           "pub.1071097586",
           ""
          ],
          [
           "Cervical Myelopathy",
           12,
           "pub.1071095985",
           ""
          ],
          [
           "Cervical Myelopathy",
           11,
           "pub.1071088479",
           ""
          ],
          [
           "Cervical Myelopathy",
           12,
           "pub.1071076802",
           ""
          ],
          [
           "Cervical Myelopathy",
           11,
           "pub.1059442903",
           ""
          ],
          [
           "Cervical Myelopathy",
           12,
           "pub.1053723341",
           ""
          ],
          [
           "Cervical Myelopathy",
           12,
           "pub.1050443276",
           ""
          ],
          [
           "Cervical Myelopathy",
           12,
           "pub.1039231588",
           ""
          ],
          [
           "Cervical Myelopathy",
           12,
           "pub.1038098923",
           ""
          ],
          [
           "Cervical Myelopathy",
           12,
           "pub.1036299701",
           ""
          ],
          [
           "Cervical Myelopathy",
           12,
           "pub.1034074696",
           ""
          ],
          [
           "Cervical Myelopathy",
           12,
           "pub.1024110809",
           ""
          ],
          [
           "Cervical Myelopathy",
           12,
           "pub.1023278334",
           ""
          ],
          [
           "Cervical Myelopathy",
           12,
           "pub.1020803753",
           ""
          ],
          [
           "Cervical Myelopathy",
           12,
           "pub.1016889944",
           ""
          ],
          [
           "Cervical Myelopathy",
           12,
           "pub.1003399679",
           ""
          ]
         ],
         "hovertemplate": "label=%{customdata[0]}<br>x=%{x}<br>y=%{y}<br>cluster=%{customdata[1]}<br>pub_id=%{customdata[2]}<br>survey_group=%{customdata[3]}<extra></extra>",
         "legendgroup": "Cervical Myelopathy",
         "marker": {
          "color": "#1e90ff",
          "opacity": 0.9,
          "symbol": "circle"
         },
         "mode": "markers",
         "name": "Cervical Myelopathy",
         "orientation": "v",
         "showlegend": true,
         "type": "scatter",
         "x": [
          -7.9250736,
          -8.436503,
          -7.890413,
          -7.795538,
          -7.596105,
          -7.570714,
          -7.673619,
          -7.703268,
          -7.44325,
          -7.841844,
          -7.987148,
          -8.181547,
          -7.4050837,
          -7.543523,
          -7.9807744,
          -8.114938,
          -7.9682884,
          -8.0708,
          -7.7221866,
          -7.890067,
          -7.6072025,
          -8.284963,
          -7.9716454,
          -8.094242,
          -8.257425,
          -8.199628,
          -7.426382,
          -7.782293,
          -7.7117715,
          -7.8769464,
          -7.652737,
          -7.9781547,
          -7.9327273,
          -7.894377,
          -7.3079166,
          -7.799872,
          -7.916723,
          -8.012511,
          -8.263757,
          -8.021513,
          -7.383138,
          -7.747537,
          -7.6206264,
          -7.9902864,
          -8.379925,
          -7.292724,
          -8.173121
         ],
         "xaxis": "x",
         "y": [
          6.988286,
          7.132229,
          6.3919187,
          6.6747384,
          6.8341813,
          6.668199,
          7.115137,
          7.051905,
          6.7913823,
          7.578718,
          7.371491,
          7.3159494,
          7.014474,
          6.6232014,
          6.776222,
          6.376323,
          6.98456,
          6.2893453,
          6.4399056,
          6.649302,
          6.548096,
          7.2166505,
          6.5857244,
          7.140321,
          7.2145586,
          7.255356,
          6.867833,
          6.725591,
          7.1079335,
          6.4790225,
          6.8480873,
          7.0075936,
          6.827294,
          7.446171,
          7.0230937,
          7.405667,
          7.3107576,
          6.3469105,
          7.1627727,
          6.2788124,
          6.9694633,
          7.1205964,
          7.200879,
          6.4640236,
          7.093411,
          7.0047865,
          6.429714
         ],
         "yaxis": "y"
        },
        {
         "customdata": [
          [
           "Resilience in Business and management",
           10,
           "pub.1075345922",
           ""
          ],
          [
           "Resilience in Business and management",
           10,
           "pub.1073407503",
           ""
          ],
          [
           "Resilience in Business and management",
           10,
           "pub.1072896311",
           ""
          ],
          [
           "Resilience in Business and management",
           10,
           "pub.1072894681",
           ""
          ],
          [
           "Resilience in Business and management",
           10,
           "pub.1070196019",
           ""
          ],
          [
           "Resilience in Business and management",
           10,
           "pub.1069908660",
           ""
          ],
          [
           "Resilience in Business and management",
           10,
           "pub.1069908041",
           ""
          ],
          [
           "Resilience in Business and management",
           10,
           "pub.1069907901",
           ""
          ],
          [
           "Resilience in Business and management",
           10,
           "pub.1047959878",
           ""
          ],
          [
           "Resilience in Business and management",
           10,
           "pub.1041282031",
           ""
          ],
          [
           "Resilience in Business and management",
           10,
           "pub.1036458898",
           ""
          ],
          [
           "Resilience in Business and management",
           10,
           "pub.1032563790",
           ""
          ],
          [
           "Resilience in Business and management",
           10,
           "pub.1031594587",
           ""
          ],
          [
           "Resilience in Business and management",
           10,
           "pub.1030211703",
           ""
          ],
          [
           "Resilience in Business and management",
           10,
           "pub.1020050164",
           ""
          ],
          [
           "Resilience in Business and management",
           10,
           "pub.1008687306",
           ""
          ],
          [
           "Resilience in Business and management",
           10,
           "pub.1075056726",
           ""
          ],
          [
           "Resilience in Business and management",
           10,
           "pub.1069908683",
           ""
          ],
          [
           "Resilience in Business and management",
           10,
           "pub.1048916231",
           ""
          ],
          [
           "Resilience in Business and management",
           10,
           "pub.1043814808",
           ""
          ],
          [
           "Resilience in Business and management",
           10,
           "pub.1034737787",
           ""
          ],
          [
           "Resilience in Business and management",
           10,
           "pub.1031829691",
           ""
          ],
          [
           "Resilience in Business and management",
           10,
           "pub.1031821349",
           ""
          ],
          [
           "Resilience in Business and management",
           10,
           "pub.1030632837",
           ""
          ],
          [
           "Resilience in Business and management",
           10,
           "pub.1018062843",
           ""
          ],
          [
           "Resilience in Business and management",
           10,
           "pub.1016764583",
           ""
          ],
          [
           "Resilience in Business and management",
           10,
           "pub.1013827626",
           ""
          ]
         ],
         "hovertemplate": "label=%{customdata[0]}<br>x=%{x}<br>y=%{y}<br>cluster=%{customdata[1]}<br>pub_id=%{customdata[2]}<br>survey_group=%{customdata[3]}<extra></extra>",
         "legendgroup": "Resilience in Business and management",
         "marker": {
          "color": "#eee8aa",
          "opacity": 0.9,
          "symbol": "circle"
         },
         "mode": "markers",
         "name": "Resilience in Business and management",
         "orientation": "v",
         "showlegend": true,
         "type": "scatter",
         "x": [
          10.763717,
          10.858091,
          11.496778,
          11.374863,
          10.651905,
          10.878839,
          11.008587,
          11.181989,
          10.482643,
          11.397815,
          11.368515,
          11.46041,
          10.745385,
          11.387257,
          10.447057,
          10.514158,
          10.8831005,
          11.232011,
          11.381971,
          11.471679,
          10.925435,
          10.369762,
          11.297496,
          11.362178,
          10.330198,
          10.362213,
          10.518483
         ],
         "xaxis": "x",
         "y": [
          -4.76357,
          -4.6772265,
          -4.370125,
          -4.547501,
          -4.9713545,
          -4.7574296,
          -4.7136326,
          -4.6393623,
          -4.833448,
          -4.4898176,
          -4.501219,
          -4.451701,
          -4.862514,
          -4.5367804,
          -4.8271666,
          -4.9021854,
          -4.744004,
          -4.6754694,
          -4.506293,
          -4.41355,
          -4.837284,
          -4.796719,
          -4.411669,
          -4.3513026,
          -4.7301784,
          -4.6984773,
          -4.724254
         ],
         "yaxis": "y"
        },
        {
         "customdata": [
          [
           "Synthetic Biology",
           13,
           "pub.1067589570",
           ""
          ],
          [
           "Synthetic Biology",
           13,
           "pub.1052700485",
           ""
          ],
          [
           "Synthetic Biology",
           13,
           "pub.1042528786",
           ""
          ],
          [
           "Synthetic Biology",
           13,
           "pub.1037881716",
           ""
          ],
          [
           "Synthetic Biology",
           13,
           "pub.1036497140",
           ""
          ],
          [
           "Synthetic Biology",
           13,
           "pub.1036018285",
           ""
          ],
          [
           "Synthetic Biology",
           13,
           "pub.1035931199",
           ""
          ],
          [
           "Synthetic Biology",
           13,
           "pub.1028250908",
           ""
          ],
          [
           "Synthetic Biology",
           13,
           "pub.1026899122",
           ""
          ],
          [
           "Synthetic Biology",
           13,
           "pub.1025786828",
           ""
          ],
          [
           "Synthetic Biology",
           9,
           "pub.1022297654",
           ""
          ],
          [
           "Synthetic Biology",
           13,
           "pub.1022279877",
           ""
          ],
          [
           "Synthetic Biology",
           13,
           "pub.1021654569",
           ""
          ],
          [
           "Synthetic Biology",
           13,
           "pub.1021275892",
           ""
          ],
          [
           "Synthetic Biology",
           13,
           "pub.1020751277",
           ""
          ],
          [
           "Synthetic Biology",
           13,
           "pub.1016534270",
           ""
          ],
          [
           "Synthetic Biology",
           13,
           "pub.1014359908",
           ""
          ],
          [
           "Synthetic Biology",
           13,
           "pub.1009258787",
           ""
          ],
          [
           "Synthetic Biology",
           9,
           "pub.1006120611",
           ""
          ],
          [
           "Synthetic Biology",
           13,
           "pub.1002786107",
           ""
          ],
          [
           "Synthetic Biology",
           13,
           "pub.1001000963",
           ""
          ],
          [
           "Synthetic Biology",
           13,
           "pub.1048602129",
           ""
          ],
          [
           "Synthetic Biology",
           13,
           "pub.1046952734",
           ""
          ],
          [
           "Synthetic Biology",
           13,
           "pub.1033127471",
           ""
          ],
          [
           "Synthetic Biology",
           13,
           "pub.1028022455",
           ""
          ],
          [
           "Synthetic Biology",
           13,
           "pub.1024208323",
           ""
          ],
          [
           "Synthetic Biology",
           13,
           "pub.1010407598",
           ""
          ],
          [
           "Synthetic Biology",
           13,
           "pub.1009412636",
           ""
          ],
          [
           "Synthetic Biology",
           13,
           "pub.1004364700",
           ""
          ]
         ],
         "hovertemplate": "label=%{customdata[0]}<br>x=%{x}<br>y=%{y}<br>cluster=%{customdata[1]}<br>pub_id=%{customdata[2]}<br>survey_group=%{customdata[3]}<extra></extra>",
         "legendgroup": "Synthetic Biology",
         "marker": {
          "color": "#000000",
          "opacity": 0.9,
          "symbol": "circle"
         },
         "mode": "markers",
         "name": "Synthetic Biology",
         "orientation": "v",
         "showlegend": true,
         "type": "scatter",
         "x": [
          6.1643405,
          6.3398457,
          6.7013006,
          6.6388717,
          6.6108027,
          6.1364784,
          6.6248064,
          6.1918645,
          6.253717,
          6.2212687,
          6.318994,
          6.5572743,
          6.7385044,
          6.3203526,
          6.524088,
          6.6934066,
          6.344196,
          6.4383607,
          6.2227397,
          6.69883,
          6.6459856,
          6.5963216,
          6.2709002,
          6.644771,
          6.561346,
          6.1334567,
          6.4259844,
          6.2276206,
          6.487002
         ],
         "xaxis": "x",
         "y": [
          9.460878,
          8.996993,
          8.958302,
          9.185159,
          9.158458,
          9.105461,
          8.8514595,
          9.005995,
          9.442868,
          9.500996,
          8.591398,
          9.230647,
          9.201991,
          9.557181,
          9.241116,
          9.1381855,
          8.844444,
          9.349501,
          8.696794,
          8.937638,
          9.386308,
          9.266529,
          9.625751,
          9.328666,
          9.219899,
          9.199977,
          9.003778,
          9.171996,
          9.292983
         ],
         "yaxis": "y"
        },
        {
         "customdata": [
          [
           "Nanoparticles",
           3,
           "pub.1064567937",
           ""
          ],
          [
           "Nanoparticles",
           3,
           "pub.1062447105",
           ""
          ],
          [
           "Nanoparticles",
           3,
           "pub.1050579616",
           ""
          ],
          [
           "Nanoparticles",
           3,
           "pub.1041771334",
           ""
          ],
          [
           "Nanoparticles",
           3,
           "pub.1040302077",
           ""
          ],
          [
           "Nanoparticles",
           3,
           "pub.1039641194",
           ""
          ],
          [
           "Nanoparticles",
           3,
           "pub.1038778560",
           ""
          ],
          [
           "Nanoparticles",
           3,
           "pub.1029482017",
           ""
          ],
          [
           "Nanoparticles",
           3,
           "pub.1028058184",
           ""
          ],
          [
           "Nanoparticles",
           3,
           "pub.1027828956",
           ""
          ],
          [
           "Nanoparticles",
           3,
           "pub.1026661243",
           ""
          ],
          [
           "Nanoparticles",
           3,
           "pub.1025760895",
           ""
          ],
          [
           "Nanoparticles",
           3,
           "pub.1021666873",
           ""
          ],
          [
           "Nanoparticles",
           3,
           "pub.1020673706",
           ""
          ],
          [
           "Nanoparticles",
           3,
           "pub.1020647724",
           ""
          ],
          [
           "Nanoparticles",
           3,
           "pub.1015833771",
           ""
          ],
          [
           "Nanoparticles",
           3,
           "pub.1013655144",
           ""
          ],
          [
           "Nanoparticles",
           3,
           "pub.1009246618",
           ""
          ],
          [
           "Nanoparticles",
           3,
           "pub.1008013568",
           ""
          ],
          [
           "Nanoparticles",
           3,
           "pub.1005792673",
           ""
          ],
          [
           "Nanoparticles",
           3,
           "pub.1002703153",
           ""
          ],
          [
           "Nanoparticles",
           3,
           "pub.1001343412",
           ""
          ],
          [
           "Nanoparticles",
           3,
           "pub.1056221800",
           ""
          ],
          [
           "Nanoparticles",
           3,
           "pub.1056143784",
           ""
          ],
          [
           "Nanoparticles",
           3,
           "pub.1055504074",
           ""
          ],
          [
           "Nanoparticles",
           3,
           "pub.1052990623",
           ""
          ],
          [
           "Nanoparticles",
           3,
           "pub.1051411109",
           ""
          ],
          [
           "Nanoparticles",
           3,
           "pub.1050276749",
           ""
          ],
          [
           "Nanoparticles",
           3,
           "pub.1048709708",
           ""
          ],
          [
           "Nanoparticles",
           3,
           "pub.1047132329",
           ""
          ],
          [
           "Nanoparticles",
           3,
           "pub.1046826509",
           ""
          ],
          [
           "Nanoparticles",
           3,
           "pub.1044670756",
           ""
          ],
          [
           "Nanoparticles",
           3,
           "pub.1044430846",
           ""
          ],
          [
           "Nanoparticles",
           3,
           "pub.1041163416",
           ""
          ],
          [
           "Nanoparticles",
           3,
           "pub.1040077610",
           ""
          ],
          [
           "Nanoparticles",
           3,
           "pub.1039713086",
           ""
          ],
          [
           "Nanoparticles",
           3,
           "pub.1039601245",
           ""
          ],
          [
           "Nanoparticles",
           3,
           "pub.1036002565",
           ""
          ],
          [
           "Nanoparticles",
           3,
           "pub.1035909146",
           ""
          ],
          [
           "Nanoparticles",
           3,
           "pub.1035623214",
           ""
          ],
          [
           "Nanoparticles",
           3,
           "pub.1035474832",
           ""
          ],
          [
           "Nanoparticles",
           3,
           "pub.1035387745",
           ""
          ],
          [
           "Nanoparticles",
           3,
           "pub.1034007004",
           ""
          ],
          [
           "Nanoparticles",
           3,
           "pub.1033416172",
           ""
          ],
          [
           "Nanoparticles",
           3,
           "pub.1031075757",
           ""
          ],
          [
           "Nanoparticles",
           3,
           "pub.1028529625",
           ""
          ],
          [
           "Nanoparticles",
           3,
           "pub.1024367203",
           ""
          ],
          [
           "Nanoparticles",
           3,
           "pub.1017225012",
           ""
          ],
          [
           "Nanoparticles",
           3,
           "pub.1016714991",
           ""
          ],
          [
           "Nanoparticles",
           3,
           "pub.1005629396",
           ""
          ]
         ],
         "hovertemplate": "label=%{customdata[0]}<br>x=%{x}<br>y=%{y}<br>cluster=%{customdata[1]}<br>pub_id=%{customdata[2]}<br>survey_group=%{customdata[3]}<extra></extra>",
         "legendgroup": "Nanoparticles",
         "marker": {
          "color": "#2f4f4f",
          "opacity": 0.9,
          "symbol": "circle"
         },
         "mode": "markers",
         "name": "Nanoparticles",
         "orientation": "v",
         "showlegend": true,
         "type": "scatter",
         "x": [
          0.78207093,
          0.2661436,
          1.159969,
          0.31704053,
          0.6787914,
          0.59729266,
          0.83857226,
          0.1455592,
          0.7045149,
          0.46346685,
          0.06842774,
          0.24196048,
          0.84366167,
          0.5313214,
          1.0180639,
          0.5992663,
          0.6955745,
          0.99938244,
          0.11367299,
          0.104309514,
          0.19533339,
          0.36271852,
          0.17409497,
          0.21142134,
          0.6294389,
          0.32438487,
          0.90819466,
          0.47273746,
          0.33449483,
          0.15807766,
          0.80732536,
          0.20044093,
          0.25044435,
          0.60888356,
          0.18258889,
          0.8447522,
          1.0697529,
          1.0827581,
          0.8712468,
          0.37870464,
          0.97622633,
          0.65470326,
          0.6792097,
          0.77014714,
          0.5237213,
          0.4943507,
          0.6212642,
          0.27186888,
          0.6171968,
          0.70302737
         ],
         "xaxis": "x",
         "y": [
          8.172151,
          8.694021,
          8.439174,
          7.9525423,
          8.830145,
          8.630041,
          8.288045,
          8.142046,
          8.83148,
          7.999921,
          8.4919195,
          8.225369,
          8.307194,
          8.555736,
          8.579879,
          8.910391,
          8.478273,
          8.386386,
          7.9945283,
          8.426786,
          8.747978,
          8.546073,
          8.488105,
          8.405853,
          7.8933525,
          8.043411,
          8.642819,
          8.892439,
          8.25898,
          8.412365,
          8.200415,
          7.9476795,
          8.32296,
          8.738936,
          8.686579,
          8.443484,
          8.570736,
          8.524014,
          8.385119,
          7.95295,
          8.467156,
          8.023564,
          7.996236,
          8.357507,
          9.000284,
          8.094266,
          8.556355,
          8.344393,
          8.969157,
          8.250048
         ],
         "yaxis": "y"
        }
       ],
       "layout": {
        "legend": {
         "title": {
          "text": "label"
         },
         "tracegroupgap": 0
        },
        "margin": {
         "t": 60
        },
        "template": {
         "data": {
          "bar": [
           {
            "error_x": {
             "color": "#2a3f5f"
            },
            "error_y": {
             "color": "#2a3f5f"
            },
            "marker": {
             "line": {
              "color": "#E5ECF6",
              "width": 0.5
             },
             "pattern": {
              "fillmode": "overlay",
              "size": 10,
              "solidity": 0.2
             }
            },
            "type": "bar"
           }
          ],
          "barpolar": [
           {
            "marker": {
             "line": {
              "color": "#E5ECF6",
              "width": 0.5
             },
             "pattern": {
              "fillmode": "overlay",
              "size": 10,
              "solidity": 0.2
             }
            },
            "type": "barpolar"
           }
          ],
          "carpet": [
           {
            "aaxis": {
             "endlinecolor": "#2a3f5f",
             "gridcolor": "white",
             "linecolor": "white",
             "minorgridcolor": "white",
             "startlinecolor": "#2a3f5f"
            },
            "baxis": {
             "endlinecolor": "#2a3f5f",
             "gridcolor": "white",
             "linecolor": "white",
             "minorgridcolor": "white",
             "startlinecolor": "#2a3f5f"
            },
            "type": "carpet"
           }
          ],
          "choropleth": [
           {
            "colorbar": {
             "outlinewidth": 0,
             "ticks": ""
            },
            "type": "choropleth"
           }
          ],
          "contour": [
           {
            "colorbar": {
             "outlinewidth": 0,
             "ticks": ""
            },
            "colorscale": [
             [
              0,
              "#0d0887"
             ],
             [
              0.1111111111111111,
              "#46039f"
             ],
             [
              0.2222222222222222,
              "#7201a8"
             ],
             [
              0.3333333333333333,
              "#9c179e"
             ],
             [
              0.4444444444444444,
              "#bd3786"
             ],
             [
              0.5555555555555556,
              "#d8576b"
             ],
             [
              0.6666666666666666,
              "#ed7953"
             ],
             [
              0.7777777777777778,
              "#fb9f3a"
             ],
             [
              0.8888888888888888,
              "#fdca26"
             ],
             [
              1,
              "#f0f921"
             ]
            ],
            "type": "contour"
           }
          ],
          "contourcarpet": [
           {
            "colorbar": {
             "outlinewidth": 0,
             "ticks": ""
            },
            "type": "contourcarpet"
           }
          ],
          "heatmap": [
           {
            "colorbar": {
             "outlinewidth": 0,
             "ticks": ""
            },
            "colorscale": [
             [
              0,
              "#0d0887"
             ],
             [
              0.1111111111111111,
              "#46039f"
             ],
             [
              0.2222222222222222,
              "#7201a8"
             ],
             [
              0.3333333333333333,
              "#9c179e"
             ],
             [
              0.4444444444444444,
              "#bd3786"
             ],
             [
              0.5555555555555556,
              "#d8576b"
             ],
             [
              0.6666666666666666,
              "#ed7953"
             ],
             [
              0.7777777777777778,
              "#fb9f3a"
             ],
             [
              0.8888888888888888,
              "#fdca26"
             ],
             [
              1,
              "#f0f921"
             ]
            ],
            "type": "heatmap"
           }
          ],
          "heatmapgl": [
           {
            "colorbar": {
             "outlinewidth": 0,
             "ticks": ""
            },
            "colorscale": [
             [
              0,
              "#0d0887"
             ],
             [
              0.1111111111111111,
              "#46039f"
             ],
             [
              0.2222222222222222,
              "#7201a8"
             ],
             [
              0.3333333333333333,
              "#9c179e"
             ],
             [
              0.4444444444444444,
              "#bd3786"
             ],
             [
              0.5555555555555556,
              "#d8576b"
             ],
             [
              0.6666666666666666,
              "#ed7953"
             ],
             [
              0.7777777777777778,
              "#fb9f3a"
             ],
             [
              0.8888888888888888,
              "#fdca26"
             ],
             [
              1,
              "#f0f921"
             ]
            ],
            "type": "heatmapgl"
           }
          ],
          "histogram": [
           {
            "marker": {
             "pattern": {
              "fillmode": "overlay",
              "size": 10,
              "solidity": 0.2
             }
            },
            "type": "histogram"
           }
          ],
          "histogram2d": [
           {
            "colorbar": {
             "outlinewidth": 0,
             "ticks": ""
            },
            "colorscale": [
             [
              0,
              "#0d0887"
             ],
             [
              0.1111111111111111,
              "#46039f"
             ],
             [
              0.2222222222222222,
              "#7201a8"
             ],
             [
              0.3333333333333333,
              "#9c179e"
             ],
             [
              0.4444444444444444,
              "#bd3786"
             ],
             [
              0.5555555555555556,
              "#d8576b"
             ],
             [
              0.6666666666666666,
              "#ed7953"
             ],
             [
              0.7777777777777778,
              "#fb9f3a"
             ],
             [
              0.8888888888888888,
              "#fdca26"
             ],
             [
              1,
              "#f0f921"
             ]
            ],
            "type": "histogram2d"
           }
          ],
          "histogram2dcontour": [
           {
            "colorbar": {
             "outlinewidth": 0,
             "ticks": ""
            },
            "colorscale": [
             [
              0,
              "#0d0887"
             ],
             [
              0.1111111111111111,
              "#46039f"
             ],
             [
              0.2222222222222222,
              "#7201a8"
             ],
             [
              0.3333333333333333,
              "#9c179e"
             ],
             [
              0.4444444444444444,
              "#bd3786"
             ],
             [
              0.5555555555555556,
              "#d8576b"
             ],
             [
              0.6666666666666666,
              "#ed7953"
             ],
             [
              0.7777777777777778,
              "#fb9f3a"
             ],
             [
              0.8888888888888888,
              "#fdca26"
             ],
             [
              1,
              "#f0f921"
             ]
            ],
            "type": "histogram2dcontour"
           }
          ],
          "mesh3d": [
           {
            "colorbar": {
             "outlinewidth": 0,
             "ticks": ""
            },
            "type": "mesh3d"
           }
          ],
          "parcoords": [
           {
            "line": {
             "colorbar": {
              "outlinewidth": 0,
              "ticks": ""
             }
            },
            "type": "parcoords"
           }
          ],
          "pie": [
           {
            "automargin": true,
            "type": "pie"
           }
          ],
          "scatter": [
           {
            "fillpattern": {
             "fillmode": "overlay",
             "size": 10,
             "solidity": 0.2
            },
            "type": "scatter"
           }
          ],
          "scatter3d": [
           {
            "line": {
             "colorbar": {
              "outlinewidth": 0,
              "ticks": ""
             }
            },
            "marker": {
             "colorbar": {
              "outlinewidth": 0,
              "ticks": ""
             }
            },
            "type": "scatter3d"
           }
          ],
          "scattercarpet": [
           {
            "marker": {
             "colorbar": {
              "outlinewidth": 0,
              "ticks": ""
             }
            },
            "type": "scattercarpet"
           }
          ],
          "scattergeo": [
           {
            "marker": {
             "colorbar": {
              "outlinewidth": 0,
              "ticks": ""
             }
            },
            "type": "scattergeo"
           }
          ],
          "scattergl": [
           {
            "marker": {
             "colorbar": {
              "outlinewidth": 0,
              "ticks": ""
             }
            },
            "type": "scattergl"
           }
          ],
          "scattermapbox": [
           {
            "marker": {
             "colorbar": {
              "outlinewidth": 0,
              "ticks": ""
             }
            },
            "type": "scattermapbox"
           }
          ],
          "scatterpolar": [
           {
            "marker": {
             "colorbar": {
              "outlinewidth": 0,
              "ticks": ""
             }
            },
            "type": "scatterpolar"
           }
          ],
          "scatterpolargl": [
           {
            "marker": {
             "colorbar": {
              "outlinewidth": 0,
              "ticks": ""
             }
            },
            "type": "scatterpolargl"
           }
          ],
          "scatterternary": [
           {
            "marker": {
             "colorbar": {
              "outlinewidth": 0,
              "ticks": ""
             }
            },
            "type": "scatterternary"
           }
          ],
          "surface": [
           {
            "colorbar": {
             "outlinewidth": 0,
             "ticks": ""
            },
            "colorscale": [
             [
              0,
              "#0d0887"
             ],
             [
              0.1111111111111111,
              "#46039f"
             ],
             [
              0.2222222222222222,
              "#7201a8"
             ],
             [
              0.3333333333333333,
              "#9c179e"
             ],
             [
              0.4444444444444444,
              "#bd3786"
             ],
             [
              0.5555555555555556,
              "#d8576b"
             ],
             [
              0.6666666666666666,
              "#ed7953"
             ],
             [
              0.7777777777777778,
              "#fb9f3a"
             ],
             [
              0.8888888888888888,
              "#fdca26"
             ],
             [
              1,
              "#f0f921"
             ]
            ],
            "type": "surface"
           }
          ],
          "table": [
           {
            "cells": {
             "fill": {
              "color": "#EBF0F8"
             },
             "line": {
              "color": "white"
             }
            },
            "header": {
             "fill": {
              "color": "#C8D4E3"
             },
             "line": {
              "color": "white"
             }
            },
            "type": "table"
           }
          ]
         },
         "layout": {
          "annotationdefaults": {
           "arrowcolor": "#2a3f5f",
           "arrowhead": 0,
           "arrowwidth": 1
          },
          "autotypenumbers": "strict",
          "coloraxis": {
           "colorbar": {
            "outlinewidth": 0,
            "ticks": ""
           }
          },
          "colorscale": {
           "diverging": [
            [
             0,
             "#8e0152"
            ],
            [
             0.1,
             "#c51b7d"
            ],
            [
             0.2,
             "#de77ae"
            ],
            [
             0.3,
             "#f1b6da"
            ],
            [
             0.4,
             "#fde0ef"
            ],
            [
             0.5,
             "#f7f7f7"
            ],
            [
             0.6,
             "#e6f5d0"
            ],
            [
             0.7,
             "#b8e186"
            ],
            [
             0.8,
             "#7fbc41"
            ],
            [
             0.9,
             "#4d9221"
            ],
            [
             1,
             "#276419"
            ]
           ],
           "sequential": [
            [
             0,
             "#0d0887"
            ],
            [
             0.1111111111111111,
             "#46039f"
            ],
            [
             0.2222222222222222,
             "#7201a8"
            ],
            [
             0.3333333333333333,
             "#9c179e"
            ],
            [
             0.4444444444444444,
             "#bd3786"
            ],
            [
             0.5555555555555556,
             "#d8576b"
            ],
            [
             0.6666666666666666,
             "#ed7953"
            ],
            [
             0.7777777777777778,
             "#fb9f3a"
            ],
            [
             0.8888888888888888,
             "#fdca26"
            ],
            [
             1,
             "#f0f921"
            ]
           ],
           "sequentialminus": [
            [
             0,
             "#0d0887"
            ],
            [
             0.1111111111111111,
             "#46039f"
            ],
            [
             0.2222222222222222,
             "#7201a8"
            ],
            [
             0.3333333333333333,
             "#9c179e"
            ],
            [
             0.4444444444444444,
             "#bd3786"
            ],
            [
             0.5555555555555556,
             "#d8576b"
            ],
            [
             0.6666666666666666,
             "#ed7953"
            ],
            [
             0.7777777777777778,
             "#fb9f3a"
            ],
            [
             0.8888888888888888,
             "#fdca26"
            ],
            [
             1,
             "#f0f921"
            ]
           ]
          },
          "colorway": [
           "#2f4f4f",
           "#a0522d",
           "#006400",
           "#000080",
           "#ff0000",
           "#00ced1",
           "#ffa500",
           "#ffff00",
           "#00ff00",
           "#00fa9a",
           "#0000ff",
           "#ff00ff",
           "#1e90ff",
           "#eee8aa",
           "#000000"
          ],
          "font": {
           "color": "#2a3f5f"
          },
          "geo": {
           "bgcolor": "white",
           "lakecolor": "white",
           "landcolor": "#E5ECF6",
           "showlakes": true,
           "showland": true,
           "subunitcolor": "white"
          },
          "hoverlabel": {
           "align": "left"
          },
          "hovermode": "closest",
          "mapbox": {
           "style": "light"
          },
          "paper_bgcolor": "white",
          "plot_bgcolor": "#E5ECF6",
          "polar": {
           "angularaxis": {
            "gridcolor": "white",
            "linecolor": "white",
            "ticks": ""
           },
           "bgcolor": "#E5ECF6",
           "radialaxis": {
            "gridcolor": "white",
            "linecolor": "white",
            "ticks": ""
           }
          },
          "scene": {
           "xaxis": {
            "backgroundcolor": "#E5ECF6",
            "gridcolor": "white",
            "gridwidth": 2,
            "linecolor": "white",
            "showbackground": true,
            "ticks": "",
            "zerolinecolor": "white"
           },
           "yaxis": {
            "backgroundcolor": "#E5ECF6",
            "gridcolor": "white",
            "gridwidth": 2,
            "linecolor": "white",
            "showbackground": true,
            "ticks": "",
            "zerolinecolor": "white"
           },
           "zaxis": {
            "backgroundcolor": "#E5ECF6",
            "gridcolor": "white",
            "gridwidth": 2,
            "linecolor": "white",
            "showbackground": true,
            "ticks": "",
            "zerolinecolor": "white"
           }
          },
          "shapedefaults": {
           "line": {
            "color": "#2a3f5f"
           }
          },
          "ternary": {
           "aaxis": {
            "gridcolor": "white",
            "linecolor": "white",
            "ticks": ""
           },
           "baxis": {
            "gridcolor": "white",
            "linecolor": "white",
            "ticks": ""
           },
           "bgcolor": "#E5ECF6",
           "caxis": {
            "gridcolor": "white",
            "linecolor": "white",
            "ticks": ""
           }
          },
          "title": {
           "x": 0.05
          },
          "xaxis": {
           "automargin": true,
           "gridcolor": "white",
           "linecolor": "white",
           "ticks": "",
           "title": {
            "standoff": 15
           },
           "zerolinecolor": "white",
           "zerolinewidth": 2
          },
          "yaxis": {
           "automargin": true,
           "gridcolor": "white",
           "linecolor": "white",
           "ticks": "",
           "title": {
            "standoff": 15
           },
           "zerolinecolor": "white",
           "zerolinewidth": 2
          }
         }
        },
        "xaxis": {
         "anchor": "y",
         "domain": [
          0,
          1
         ],
         "title": {
          "text": "x"
         }
        },
        "yaxis": {
         "anchor": "x",
         "domain": [
          0,
          1
         ],
         "title": {
          "text": "y"
         }
        }
       }
      }
     },
     "metadata": {},
     "output_type": "display_data"
    }
   ],
   "source": [
    "\n",
    "df = pd.DataFrame(umap_embeddings, columns=[\"x\", \"y\"])\n",
    "df[\"label\"] = labels\n",
    "df[\"cluster\"] = cluster_labels\n",
    "df[\"pub_id\"] = pub_ids\n",
    "# Add true label to survey\n",
    "df[\"survey_group\"] = df.apply(\n",
    "    lambda x: f\"{x['label']} - {core_pubs[core_pubs['Survey'] == x['pub_id']]['Topic'].values[0]}\"\n",
    "    if x[\"label\"] == \"Survey\"\n",
    "    else \"\",\n",
    "    axis=1,\n",
    ")\n",
    "\n",
    "fig = px.scatter(\n",
    "    df,\n",
    "    x=\"x\",\n",
    "    y=\"y\",\n",
    "    color=\"label\",\n",
    "    hover_data=[\"label\", \"cluster\", \"pub_id\", \"survey_group\"],\n",
    ")\n",
    "fig.update_traces(marker_opacity=0.9)\n",
    "fig.show()"
   ]
  }
 ],
 "metadata": {
  "kernelspec": {
   "display_name": "litqeval-nY2J0JWW-py3.11",
   "language": "python",
   "name": "python3"
  },
  "language_info": {
   "codemirror_mode": {
    "name": "ipython",
    "version": 3
   },
   "file_extension": ".py",
   "mimetype": "text/x-python",
   "name": "python",
   "nbconvert_exporter": "python",
   "pygments_lexer": "ipython3",
   "version": "3.11.5"
  }
 },
 "nbformat": 4,
 "nbformat_minor": 2
}
