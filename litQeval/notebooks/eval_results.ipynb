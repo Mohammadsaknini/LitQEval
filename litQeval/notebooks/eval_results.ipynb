{
 "cells": [
  {
   "cell_type": "markdown",
   "metadata": {},
   "source": [
    "#### The goal of this notebook is provide an evaluation overview."
   ]
  },
  {
   "cell_type": "code",
   "execution_count": 38,
   "metadata": {},
   "outputs": [],
   "source": [
    "import plotly.express as px\n",
    "import plotly.io as pio\n",
    "import pandas as pd\n",
    "import numpy as np\n",
    "pio.templates.default = \"seaborn\"\n",
    "PLOT_CONFIGS = dict(\n",
    "    title_x=0.5, title_font_size=15, title_font_family=\"Modern Computer\", font_family=\"Modern Computer\",\n",
    "    xaxis_title=\"\", yaxis_title=\"\", showlegend=True, legend_title=\"\",\n",
    "    xaxis_tickfont_size=8, yaxis_tickfont_size=8, legend_font_size=10,\n",
    "    xaxis_title_font_size=12, yaxis_title_font_size=12, xaxis_tickangle=45,\n",
    "    width=800, height=500,\n",
    "    legend_orientation=\"h\", legend_yanchor=\"bottom\", legend_y=-0.8, legend_xanchor=\"center\", legend_x=0.5\n",
    "    )"
   ]
  },
  {
   "cell_type": "code",
   "execution_count": 39,
   "metadata": {},
   "outputs": [],
   "source": [
    "results = pd.read_excel(\"results.xlsx\")\n",
    "results[\"Topic\"] = results[\"Query\"].copy()\n",
    "results.loc[1::2, \"Topic\"] = np.nan\n",
    "results = results.rename(columns={\"Unnamed: 0\": \"Index\"})\n",
    "plt_df = results.ffill()\n",
    "# plt_df = plt_df[plt_df[\"Recall\"] != 0]\n"
   ]
  },
  {
   "cell_type": "code",
   "execution_count": null,
   "metadata": {},
   "outputs": [
    {
     "data": {
      "application/vnd.plotly.v1+json": {
       "config": {
        "plotlyServerURL": "https://plot.ly"
       },
       "data": [
        {
         "alignmentgroup": "True",
         "bingroup": "x",
         "histfunc": "sum",
         "hovertemplate": "variable=Recall<br>Index=Predicted<br>Topic=%{x}<br>sum of value=%{y}<extra></extra>",
         "legendgroup": "Recall",
         "marker": {
          "color": "rgb(76,114,176)",
          "pattern": {
           "shape": ""
          }
         },
         "name": "Recall",
         "offsetgroup": "Recall",
         "orientation": "v",
         "showlegend": true,
         "type": "histogram",
         "x": [
          "Software Defect Prediction",
          "Software Fault Prediction Metrics",
          "Cloud Migration",
          "Multicore Performance Prediction",
          "Business Process Meta Models",
          "Data Stream Processing Latency",
          "Software Process Line",
          "Internet of Things in Healthcare",
          "AI on Edge Devices",
          "Green Warehousing",
          "Nanopharmaceuticals OR Nanonutraceuticals",
          "Perovskite Solar Cells Stability",
          "Sustainable Biofuel Economy",
          "Tourism Growth Nexus",
          "Drones in Agriculture",
          "Cervical Myelopathy",
          "Resilience in Business and management",
          "Synthetic Biology",
          "Crop Yield Prediction",
          "Soft Robotics",
          "Robotic Arthroplasty"
         ],
         "xaxis": "x2",
         "y": [
          0.519,
          0.562,
          0,
          0.273,
          0.615,
          0.261,
          0.605,
          0.517,
          0.361,
          0.184,
          0.04,
          1,
          0.28,
          0.08,
          0.48,
          0.851,
          0.185,
          0.517,
          0.652,
          0.639,
          0.957
         ],
         "yaxis": "y2"
        },
        {
         "alignmentgroup": "True",
         "bingroup": "x",
         "histfunc": "sum",
         "hovertemplate": "variable=Recall<br>Index=Baseline<br>Topic=%{x}<br>sum of value=%{y}<extra></extra>",
         "legendgroup": "Recall",
         "marker": {
          "color": "rgb(76,114,176)",
          "pattern": {
           "shape": ""
          }
         },
         "name": "Recall",
         "offsetgroup": "Recall",
         "orientation": "v",
         "showlegend": false,
         "type": "histogram",
         "x": [
          "Software Defect Prediction",
          "Software Fault Prediction Metrics",
          "Cloud Migration",
          "Multicore Performance Prediction",
          "Business Process Meta Models",
          "Data Stream Processing Latency",
          "Software Process Line",
          "Internet of Things in Healthcare",
          "AI on Edge Devices",
          "Green Warehousing",
          "Nanopharmaceuticals OR Nanonutraceuticals",
          "Perovskite Solar Cells Stability",
          "Sustainable Biofuel Economy",
          "Tourism Growth Nexus",
          "Drones in Agriculture",
          "Cervical Myelopathy",
          "Resilience in Business and management",
          "Synthetic Biology",
          "Crop Yield Prediction",
          "Soft Robotics",
          "Robotic Arthroplasty"
         ],
         "xaxis": "x",
         "y": [
          0.333,
          0.25,
          0,
          0,
          0.308,
          0.174,
          0.581,
          0.345,
          0.111,
          0.132,
          0,
          0.897,
          0.02,
          0.08,
          0,
          0.766,
          0,
          0.207,
          0.543,
          0.528,
          0.957
         ],
         "yaxis": "y"
        },
        {
         "alignmentgroup": "True",
         "bingroup": "x",
         "histfunc": "sum",
         "hovertemplate": "variable=Cosine Precision<br>Index=Predicted<br>Topic=%{x}<br>sum of value=%{y}<extra></extra>",
         "legendgroup": "Cosine Precision",
         "marker": {
          "color": "rgb(221,132,82)",
          "pattern": {
           "shape": ""
          }
         },
         "name": "Cosine Precision",
         "offsetgroup": "Cosine Precision",
         "orientation": "v",
         "showlegend": true,
         "type": "histogram",
         "x": [
          "Software Defect Prediction",
          "Software Fault Prediction Metrics",
          "Cloud Migration",
          "Multicore Performance Prediction",
          "Business Process Meta Models",
          "Data Stream Processing Latency",
          "Software Process Line",
          "Internet of Things in Healthcare",
          "AI on Edge Devices",
          "Green Warehousing",
          "Nanopharmaceuticals OR Nanonutraceuticals",
          "Perovskite Solar Cells Stability",
          "Sustainable Biofuel Economy",
          "Tourism Growth Nexus",
          "Drones in Agriculture",
          "Cervical Myelopathy",
          "Resilience in Business and management",
          "Synthetic Biology",
          "Crop Yield Prediction",
          "Soft Robotics",
          "Robotic Arthroplasty"
         ],
         "xaxis": "x2",
         "y": [
          0.142,
          0.078,
          0,
          0.118,
          0.061,
          0.016,
          0.02,
          0.199,
          0.137,
          0.003,
          0.242,
          0.675,
          0.248,
          0.009,
          0.089,
          0.284,
          0.016,
          0.069,
          0.119,
          0.099,
          0.124
         ],
         "yaxis": "y2"
        },
        {
         "alignmentgroup": "True",
         "bingroup": "x",
         "histfunc": "sum",
         "hovertemplate": "variable=Cosine Precision<br>Index=Baseline<br>Topic=%{x}<br>sum of value=%{y}<extra></extra>",
         "legendgroup": "Cosine Precision",
         "marker": {
          "color": "rgb(221,132,82)",
          "pattern": {
           "shape": ""
          }
         },
         "name": "Cosine Precision",
         "offsetgroup": "Cosine Precision",
         "orientation": "v",
         "showlegend": false,
         "type": "histogram",
         "x": [
          "Software Defect Prediction",
          "Software Fault Prediction Metrics",
          "Cloud Migration",
          "Multicore Performance Prediction",
          "Business Process Meta Models",
          "Data Stream Processing Latency",
          "Software Process Line",
          "Internet of Things in Healthcare",
          "AI on Edge Devices",
          "Green Warehousing",
          "Nanopharmaceuticals OR Nanonutraceuticals",
          "Perovskite Solar Cells Stability",
          "Sustainable Biofuel Economy",
          "Tourism Growth Nexus",
          "Drones in Agriculture",
          "Cervical Myelopathy",
          "Resilience in Business and management",
          "Synthetic Biology",
          "Crop Yield Prediction",
          "Soft Robotics",
          "Robotic Arthroplasty"
         ],
         "xaxis": "x",
         "y": [
          0.608,
          0.682,
          0,
          0.357,
          0.26,
          0.308,
          0.021,
          0.402,
          0.364,
          0.23,
          0.239,
          0.912,
          0.37,
          0.571,
          0.273,
          0.582,
          0.038,
          0.119,
          0.399,
          0.233,
          0.885
         ],
         "yaxis": "y"
        },
        {
         "alignmentgroup": "True",
         "bingroup": "x",
         "histfunc": "sum",
         "hovertemplate": "variable=Cosine F2<br>Index=Predicted<br>Topic=%{x}<br>sum of value=%{y}<extra></extra>",
         "legendgroup": "Cosine F2",
         "marker": {
          "color": "rgb(85,168,104)",
          "pattern": {
           "shape": ""
          }
         },
         "name": "Cosine F2",
         "offsetgroup": "Cosine F2",
         "orientation": "v",
         "showlegend": true,
         "type": "histogram",
         "x": [
          "Software Defect Prediction",
          "Software Fault Prediction Metrics",
          "Cloud Migration",
          "Multicore Performance Prediction",
          "Business Process Meta Models",
          "Data Stream Processing Latency",
          "Software Process Line",
          "Internet of Things in Healthcare",
          "AI on Edge Devices",
          "Green Warehousing",
          "Nanopharmaceuticals OR Nanonutraceuticals",
          "Perovskite Solar Cells Stability",
          "Sustainable Biofuel Economy",
          "Tourism Growth Nexus",
          "Drones in Agriculture",
          "Cervical Myelopathy",
          "Resilience in Business and management",
          "Synthetic Biology",
          "Crop Yield Prediction",
          "Soft Robotics",
          "Robotic Arthroplasty"
         ],
         "xaxis": "x2",
         "y": [
          0.32,
          0.24,
          0,
          0.2,
          0.21,
          0.06,
          0.09,
          0.27,
          0.22,
          0.01,
          0.04,
          0,
          0.21,
          0.03,
          0.22,
          0.3,
          0.06,
          0.2,
          0.27,
          0.25,
          0.37
         ],
         "yaxis": "y2"
        },
        {
         "alignmentgroup": "True",
         "bingroup": "x",
         "histfunc": "sum",
         "hovertemplate": "variable=Cosine F2<br>Index=Baseline<br>Topic=%{x}<br>sum of value=%{y}<extra></extra>",
         "legendgroup": "Cosine F2",
         "marker": {
          "color": "rgb(85,168,104)",
          "pattern": {
           "shape": ""
          }
         },
         "name": "Cosine F2",
         "offsetgroup": "Cosine F2",
         "orientation": "v",
         "showlegend": false,
         "type": "histogram",
         "x": [
          "Software Defect Prediction",
          "Software Fault Prediction Metrics",
          "Cloud Migration",
          "Multicore Performance Prediction",
          "Business Process Meta Models",
          "Data Stream Processing Latency",
          "Software Process Line",
          "Internet of Things in Healthcare",
          "AI on Edge Devices",
          "Green Warehousing",
          "Nanopharmaceuticals OR Nanonutraceuticals",
          "Perovskite Solar Cells Stability",
          "Sustainable Biofuel Economy",
          "Tourism Growth Nexus",
          "Drones in Agriculture",
          "Cervical Myelopathy",
          "Resilience in Business and management",
          "Synthetic Biology",
          "Crop Yield Prediction",
          "Soft Robotics",
          "Robotic Arthroplasty"
         ],
         "xaxis": "x",
         "y": [
          0.36,
          0.29,
          0,
          0,
          0.3,
          0.19,
          0.09,
          0.32,
          0.13,
          0.14,
          0,
          0.46,
          0.02,
          0.1,
          0,
          0.63,
          0,
          0.17,
          0.48,
          0.38,
          0.93
         ],
         "yaxis": "y"
        },
        {
         "alignmentgroup": "True",
         "bingroup": "x",
         "histfunc": "sum",
         "hovertemplate": "variable=Cluster Precision<br>Index=Predicted<br>Topic=%{x}<br>sum of value=%{y}<extra></extra>",
         "legendgroup": "Cluster Precision",
         "marker": {
          "color": "rgb(196,78,82)",
          "pattern": {
           "shape": ""
          }
         },
         "name": "Cluster Precision",
         "offsetgroup": "Cluster Precision",
         "orientation": "v",
         "showlegend": true,
         "type": "histogram",
         "x": [
          "Software Defect Prediction",
          "Software Fault Prediction Metrics",
          "Cloud Migration",
          "Multicore Performance Prediction",
          "Business Process Meta Models",
          "Data Stream Processing Latency",
          "Software Process Line",
          "Internet of Things in Healthcare",
          "AI on Edge Devices",
          "Green Warehousing",
          "Nanopharmaceuticals OR Nanonutraceuticals",
          "Perovskite Solar Cells Stability",
          "Sustainable Biofuel Economy",
          "Tourism Growth Nexus",
          "Drones in Agriculture",
          "Cervical Myelopathy",
          "Resilience in Business and management",
          "Synthetic Biology",
          "Crop Yield Prediction",
          "Soft Robotics",
          "Robotic Arthroplasty"
         ],
         "xaxis": "x2",
         "y": [
          0.155,
          1,
          1,
          1,
          0.107,
          0.014,
          0.316,
          0.448,
          0.586,
          0.108,
          0.624,
          0.436,
          0.745,
          0.569,
          0.309,
          0.105,
          0.162,
          0.172,
          0.289,
          0.135,
          0.046
         ],
         "yaxis": "y2"
        },
        {
         "alignmentgroup": "True",
         "bingroup": "x",
         "histfunc": "sum",
         "hovertemplate": "variable=Cluster Precision<br>Index=Baseline<br>Topic=%{x}<br>sum of value=%{y}<extra></extra>",
         "legendgroup": "Cluster Precision",
         "marker": {
          "color": "rgb(196,78,82)",
          "pattern": {
           "shape": ""
          }
         },
         "name": "Cluster Precision",
         "offsetgroup": "Cluster Precision",
         "orientation": "v",
         "showlegend": false,
         "type": "histogram",
         "x": [
          "Software Defect Prediction",
          "Software Fault Prediction Metrics",
          "Cloud Migration",
          "Multicore Performance Prediction",
          "Business Process Meta Models",
          "Data Stream Processing Latency",
          "Software Process Line",
          "Internet of Things in Healthcare",
          "AI on Edge Devices",
          "Green Warehousing",
          "Nanopharmaceuticals OR Nanonutraceuticals",
          "Perovskite Solar Cells Stability",
          "Sustainable Biofuel Economy",
          "Tourism Growth Nexus",
          "Drones in Agriculture",
          "Cervical Myelopathy",
          "Resilience in Business and management",
          "Synthetic Biology",
          "Crop Yield Prediction",
          "Soft Robotics",
          "Robotic Arthroplasty"
         ],
         "xaxis": "x",
         "y": [
          0.466,
          0.329,
          1,
          1,
          0.34,
          0.494,
          0.077,
          0.538,
          0.536,
          0.519,
          1,
          0.649,
          0.012,
          0.259,
          0.011,
          0.404,
          1,
          0.357,
          0.407,
          0.282,
          0.574
         ],
         "yaxis": "y"
        },
        {
         "alignmentgroup": "True",
         "bingroup": "x",
         "histfunc": "sum",
         "hovertemplate": "variable=Cluster F2<br>Index=Predicted<br>Topic=%{x}<br>sum of value=%{y}<extra></extra>",
         "legendgroup": "Cluster F2",
         "marker": {
          "color": "rgb(129,114,179)",
          "pattern": {
           "shape": ""
          }
         },
         "name": "Cluster F2",
         "offsetgroup": "Cluster F2",
         "orientation": "v",
         "showlegend": true,
         "type": "histogram",
         "x": [
          "Software Defect Prediction",
          "Software Fault Prediction Metrics",
          "Cloud Migration",
          "Multicore Performance Prediction",
          "Business Process Meta Models",
          "Data Stream Processing Latency",
          "Software Process Line",
          "Internet of Things in Healthcare",
          "AI on Edge Devices",
          "Green Warehousing",
          "Nanopharmaceuticals OR Nanonutraceuticals",
          "Perovskite Solar Cells Stability",
          "Sustainable Biofuel Economy",
          "Tourism Growth Nexus",
          "Drones in Agriculture",
          "Cervical Myelopathy",
          "Resilience in Business and management",
          "Synthetic Biology",
          "Crop Yield Prediction",
          "Soft Robotics",
          "Robotic Arthroplasty"
         ],
         "xaxis": "x2",
         "y": [
          0.31,
          0.23,
          0,
          0.01,
          0.26,
          0.06,
          0.22,
          0.12,
          0.01,
          0.15,
          0.01,
          0.1,
          0.02,
          0.05,
          0.19,
          0.27,
          0.17,
          0.26,
          0.22,
          0.26,
          0.18
         ],
         "yaxis": "y2"
        },
        {
         "alignmentgroup": "True",
         "bingroup": "x",
         "histfunc": "sum",
         "hovertemplate": "variable=Cluster F2<br>Index=Baseline<br>Topic=%{x}<br>sum of value=%{y}<extra></extra>",
         "legendgroup": "Cluster F2",
         "marker": {
          "color": "rgb(129,114,179)",
          "pattern": {
           "shape": ""
          }
         },
         "name": "Cluster F2",
         "offsetgroup": "Cluster F2",
         "orientation": "v",
         "showlegend": false,
         "type": "histogram",
         "x": [
          "Software Defect Prediction",
          "Software Fault Prediction Metrics",
          "Cloud Migration",
          "Multicore Performance Prediction",
          "Business Process Meta Models",
          "Data Stream Processing Latency",
          "Software Process Line",
          "Internet of Things in Healthcare",
          "AI on Edge Devices",
          "Green Warehousing",
          "Nanopharmaceuticals OR Nanonutraceuticals",
          "Perovskite Solar Cells Stability",
          "Sustainable Biofuel Economy",
          "Tourism Growth Nexus",
          "Drones in Agriculture",
          "Cervical Myelopathy",
          "Resilience in Business and management",
          "Synthetic Biology",
          "Crop Yield Prediction",
          "Soft Robotics",
          "Robotic Arthroplasty"
         ],
         "xaxis": "x",
         "y": [
          0.28,
          0.21,
          0,
          0,
          0.31,
          0.21,
          0.24,
          0.28,
          0.1,
          0.18,
          0,
          0.53,
          0.02,
          0.09,
          0.03,
          0.52,
          0,
          0.18,
          0.45,
          0.35,
          0.67
         ],
         "yaxis": "y"
        },
        {
         "alignmentgroup": "True",
         "bingroup": "x",
         "histfunc": "sum",
         "hovertemplate": "variable=MVEE Precision<br>Index=Predicted<br>Topic=%{x}<br>sum of value=%{y}<extra></extra>",
         "legendgroup": "MVEE Precision",
         "marker": {
          "color": "rgb(147,120,96)",
          "pattern": {
           "shape": ""
          }
         },
         "name": "MVEE Precision",
         "offsetgroup": "MVEE Precision",
         "orientation": "v",
         "showlegend": true,
         "type": "histogram",
         "x": [
          "Software Defect Prediction",
          "Software Fault Prediction Metrics",
          "Cloud Migration",
          "Multicore Performance Prediction",
          "Business Process Meta Models",
          "Data Stream Processing Latency",
          "Software Process Line",
          "Internet of Things in Healthcare",
          "AI on Edge Devices",
          "Green Warehousing",
          "Nanopharmaceuticals OR Nanonutraceuticals",
          "Perovskite Solar Cells Stability",
          "Sustainable Biofuel Economy",
          "Tourism Growth Nexus",
          "Drones in Agriculture",
          "Cervical Myelopathy",
          "Resilience in Business and management",
          "Synthetic Biology",
          "Crop Yield Prediction",
          "Soft Robotics",
          "Robotic Arthroplasty"
         ],
         "xaxis": "x2",
         "y": [
          0.603,
          0.254,
          0,
          0.158,
          0.152,
          0.034,
          0.701,
          0.434,
          0.264,
          0.365,
          0,
          0.977,
          0.513,
          0,
          0.069,
          0.573,
          0.15,
          0.822,
          0.477,
          0.362,
          0.128
         ],
         "yaxis": "y2"
        },
        {
         "alignmentgroup": "True",
         "bingroup": "x",
         "histfunc": "sum",
         "hovertemplate": "variable=MVEE Precision<br>Index=Baseline<br>Topic=%{x}<br>sum of value=%{y}<extra></extra>",
         "legendgroup": "MVEE Precision",
         "marker": {
          "color": "rgb(147,120,96)",
          "pattern": {
           "shape": ""
          }
         },
         "name": "MVEE Precision",
         "offsetgroup": "MVEE Precision",
         "orientation": "v",
         "showlegend": false,
         "type": "histogram",
         "x": [
          "Software Defect Prediction",
          "Software Fault Prediction Metrics",
          "Cloud Migration",
          "Multicore Performance Prediction",
          "Business Process Meta Models",
          "Data Stream Processing Latency",
          "Software Process Line",
          "Internet of Things in Healthcare",
          "AI on Edge Devices",
          "Green Warehousing",
          "Nanopharmaceuticals OR Nanonutraceuticals",
          "Perovskite Solar Cells Stability",
          "Sustainable Biofuel Economy",
          "Tourism Growth Nexus",
          "Drones in Agriculture",
          "Cervical Myelopathy",
          "Resilience in Business and management",
          "Synthetic Biology",
          "Crop Yield Prediction",
          "Soft Robotics",
          "Robotic Arthroplasty"
         ],
         "xaxis": "x",
         "y": [
          0.724,
          0.248,
          0,
          0,
          0.38,
          0.271,
          0.749,
          0.58,
          0.082,
          0.342,
          0,
          0.926,
          0,
          0,
          0,
          0.634,
          0,
          0.185,
          0.738,
          0.654,
          0.835
         ],
         "yaxis": "y"
        },
        {
         "alignmentgroup": "True",
         "bingroup": "x",
         "histfunc": "sum",
         "hovertemplate": "variable=MVEE F2<br>Index=Predicted<br>Topic=%{x}<br>sum of value=%{y}<extra></extra>",
         "legendgroup": "MVEE F2",
         "marker": {
          "color": "rgb(218,139,195)",
          "pattern": {
           "shape": ""
          }
         },
         "name": "MVEE F2",
         "offsetgroup": "MVEE F2",
         "orientation": "v",
         "showlegend": true,
         "type": "histogram",
         "x": [
          "Software Defect Prediction",
          "Software Fault Prediction Metrics",
          "Cloud Migration",
          "Multicore Performance Prediction",
          "Business Process Meta Models",
          "Data Stream Processing Latency",
          "Software Process Line",
          "Internet of Things in Healthcare",
          "AI on Edge Devices",
          "Green Warehousing",
          "Nanopharmaceuticals OR Nanonutraceuticals",
          "Perovskite Solar Cells Stability",
          "Sustainable Biofuel Economy",
          "Tourism Growth Nexus",
          "Drones in Agriculture",
          "Cervical Myelopathy",
          "Resilience in Business and management",
          "Synthetic Biology",
          "Crop Yield Prediction",
          "Soft Robotics",
          "Robotic Arthroplasty"
         ],
         "xaxis": "x2",
         "y": [
          0.51,
          0.53,
          0,
          0.4,
          0.39,
          0.14,
          0,
          0.15,
          0.26,
          0.19,
          0,
          0,
          0.15,
          0,
          0.24,
          0.05,
          0.33,
          0,
          0.06,
          0.16,
          0.38
         ],
         "yaxis": "y2"
        },
        {
         "alignmentgroup": "True",
         "bingroup": "x",
         "histfunc": "sum",
         "hovertemplate": "variable=MVEE F2<br>Index=Baseline<br>Topic=%{x}<br>sum of value=%{y}<extra></extra>",
         "legendgroup": "MVEE F2",
         "marker": {
          "color": "rgb(218,139,195)",
          "pattern": {
           "shape": ""
          }
         },
         "name": "MVEE F2",
         "offsetgroup": "MVEE F2",
         "orientation": "v",
         "showlegend": false,
         "type": "histogram",
         "x": [
          "Software Defect Prediction",
          "Software Fault Prediction Metrics",
          "Cloud Migration",
          "Multicore Performance Prediction",
          "Business Process Meta Models",
          "Data Stream Processing Latency",
          "Software Process Line",
          "Internet of Things in Healthcare",
          "AI on Edge Devices",
          "Green Warehousing",
          "Nanopharmaceuticals OR Nanonutraceuticals",
          "Perovskite Solar Cells Stability",
          "Sustainable Biofuel Economy",
          "Tourism Growth Nexus",
          "Drones in Agriculture",
          "Cervical Myelopathy",
          "Resilience in Business and management",
          "Synthetic Biology",
          "Crop Yield Prediction",
          "Soft Robotics",
          "Robotic Arthroplasty"
         ],
         "xaxis": "x",
         "y": [
          0.9,
          0.62,
          0,
          0,
          0.75,
          0.65,
          0.66,
          0.65,
          0.31,
          0.72,
          0,
          0.47,
          0,
          0,
          0,
          0.75,
          0,
          0.42,
          0.8,
          0.56,
          0.95
         ],
         "yaxis": "y"
        },
        {
         "alignmentgroup": "True",
         "bingroup": "x",
         "histfunc": "sum",
         "hovertemplate": "variable=Hull Precision<br>Index=Predicted<br>Topic=%{x}<br>sum of value=%{y}<extra></extra>",
         "legendgroup": "Hull Precision",
         "marker": {
          "color": "rgb(140,140,140)",
          "pattern": {
           "shape": ""
          }
         },
         "name": "Hull Precision",
         "offsetgroup": "Hull Precision",
         "orientation": "v",
         "showlegend": true,
         "type": "histogram",
         "x": [
          "Software Defect Prediction",
          "Software Fault Prediction Metrics",
          "Cloud Migration",
          "Multicore Performance Prediction",
          "Business Process Meta Models",
          "Data Stream Processing Latency",
          "Software Process Line",
          "Internet of Things in Healthcare",
          "AI on Edge Devices",
          "Green Warehousing",
          "Nanopharmaceuticals OR Nanonutraceuticals",
          "Perovskite Solar Cells Stability",
          "Sustainable Biofuel Economy",
          "Tourism Growth Nexus",
          "Drones in Agriculture",
          "Cervical Myelopathy",
          "Resilience in Business and management",
          "Synthetic Biology",
          "Crop Yield Prediction",
          "Soft Robotics",
          "Robotic Arthroplasty"
         ],
         "xaxis": "x2",
         "y": [
          0.402,
          0.15,
          0,
          0.1,
          0.112,
          0.026,
          0.261,
          0.332,
          0.162,
          0.186,
          0,
          0.88,
          0.343,
          0,
          0.028,
          0.476,
          0.071,
          0.62,
          0.295,
          0.216,
          0.122
         ],
         "yaxis": "y2"
        },
        {
         "alignmentgroup": "True",
         "bingroup": "x",
         "histfunc": "sum",
         "hovertemplate": "variable=Hull Precision<br>Index=Baseline<br>Topic=%{x}<br>sum of value=%{y}<extra></extra>",
         "legendgroup": "Hull Precision",
         "marker": {
          "color": "rgb(140,140,140)",
          "pattern": {
           "shape": ""
          }
         },
         "name": "Hull Precision",
         "offsetgroup": "Hull Precision",
         "orientation": "v",
         "showlegend": false,
         "type": "histogram",
         "x": [
          "Software Defect Prediction",
          "Software Fault Prediction Metrics",
          "Cloud Migration",
          "Multicore Performance Prediction",
          "Business Process Meta Models",
          "Data Stream Processing Latency",
          "Software Process Line",
          "Internet of Things in Healthcare",
          "AI on Edge Devices",
          "Green Warehousing",
          "Nanopharmaceuticals OR Nanonutraceuticals",
          "Perovskite Solar Cells Stability",
          "Sustainable Biofuel Economy",
          "Tourism Growth Nexus",
          "Drones in Agriculture",
          "Cervical Myelopathy",
          "Resilience in Business and management",
          "Synthetic Biology",
          "Crop Yield Prediction",
          "Soft Robotics",
          "Robotic Arthroplasty"
         ],
         "xaxis": "x",
         "y": [
          0.635,
          0.138,
          0,
          0,
          0.26,
          0.222,
          0.298,
          0.441,
          0.024,
          0.182,
          0,
          0.798,
          0,
          0,
          0,
          0.493,
          0,
          0.11,
          0.529,
          0.368,
          0.801
         ],
         "yaxis": "y"
        },
        {
         "alignmentgroup": "True",
         "bingroup": "x",
         "histfunc": "sum",
         "hovertemplate": "variable=Hull F2<br>Index=Predicted<br>Topic=%{x}<br>sum of value=%{y}<extra></extra>",
         "legendgroup": "Hull F2",
         "marker": {
          "color": "rgb(204,185,116)",
          "pattern": {
           "shape": ""
          }
         },
         "name": "Hull F2",
         "offsetgroup": "Hull F2",
         "orientation": "v",
         "showlegend": true,
         "type": "histogram",
         "x": [
          "Software Defect Prediction",
          "Software Fault Prediction Metrics",
          "Cloud Migration",
          "Multicore Performance Prediction",
          "Business Process Meta Models",
          "Data Stream Processing Latency",
          "Software Process Line",
          "Internet of Things in Healthcare",
          "AI on Edge Devices",
          "Green Warehousing",
          "Nanopharmaceuticals OR Nanonutraceuticals",
          "Perovskite Solar Cells Stability",
          "Sustainable Biofuel Economy",
          "Tourism Growth Nexus",
          "Drones in Agriculture",
          "Cervical Myelopathy",
          "Resilience in Business and management",
          "Synthetic Biology",
          "Crop Yield Prediction",
          "Soft Robotics",
          "Robotic Arthroplasty"
         ],
         "xaxis": "x2",
         "y": [
          0.57,
          0.43,
          0,
          0.32,
          0.34,
          0.11,
          0.3,
          0.25,
          0.31,
          0.33,
          0,
          0,
          0.32,
          0,
          0.12,
          0.13,
          0.24,
          0.01,
          0.23,
          0.3,
          0.37
         ],
         "yaxis": "y2"
        },
        {
         "alignmentgroup": "True",
         "bingroup": "x",
         "histfunc": "sum",
         "hovertemplate": "variable=Hull F2<br>Index=Baseline<br>Topic=%{x}<br>sum of value=%{y}<extra></extra>",
         "legendgroup": "Hull F2",
         "marker": {
          "color": "rgb(204,185,116)",
          "pattern": {
           "shape": ""
          }
         },
         "name": "Hull F2",
         "offsetgroup": "Hull F2",
         "orientation": "v",
         "showlegend": false,
         "type": "histogram",
         "x": [
          "Software Defect Prediction",
          "Software Fault Prediction Metrics",
          "Cloud Migration",
          "Multicore Performance Prediction",
          "Business Process Meta Models",
          "Data Stream Processing Latency",
          "Software Process Line",
          "Internet of Things in Healthcare",
          "AI on Edge Devices",
          "Green Warehousing",
          "Nanopharmaceuticals OR Nanonutraceuticals",
          "Perovskite Solar Cells Stability",
          "Sustainable Biofuel Economy",
          "Tourism Growth Nexus",
          "Drones in Agriculture",
          "Cervical Myelopathy",
          "Resilience in Business and management",
          "Synthetic Biology",
          "Crop Yield Prediction",
          "Soft Robotics",
          "Robotic Arthroplasty"
         ],
         "xaxis": "x",
         "y": [
          0.87,
          0.44,
          0,
          0,
          0.64,
          0.59,
          0.6,
          0.65,
          0.11,
          0.53,
          0,
          0.54,
          0,
          0,
          0,
          0.72,
          0,
          0.34,
          0.76,
          0.6,
          0.94
         ],
         "yaxis": "y"
        }
       ],
       "layout": {
        "annotations": [
         {
          "font": {},
          "showarrow": false,
          "text": "Baseline",
          "textangle": 90,
          "x": 0.98,
          "xanchor": "left",
          "xref": "paper",
          "y": 0.225,
          "yanchor": "middle",
          "yref": "paper"
         },
         {
          "font": {},
          "showarrow": false,
          "text": "Predicted",
          "textangle": 90,
          "x": 0.98,
          "xanchor": "left",
          "xref": "paper",
          "y": 0.775,
          "yanchor": "middle",
          "yref": "paper"
         }
        ],
        "barmode": "group",
        "legend": {
         "title": {
          "text": "variable"
         },
         "tracegroupgap": 0
        },
        "template": {
         "data": {
          "bar": [
           {
            "error_x": {
             "color": "rgb(36,36,36)"
            },
            "error_y": {
             "color": "rgb(36,36,36)"
            },
            "marker": {
             "line": {
              "color": "rgb(234,234,242)",
              "width": 0.5
             },
             "pattern": {
              "fillmode": "overlay",
              "size": 10,
              "solidity": 0.2
             }
            },
            "type": "bar"
           }
          ],
          "barpolar": [
           {
            "marker": {
             "line": {
              "color": "rgb(234,234,242)",
              "width": 0.5
             },
             "pattern": {
              "fillmode": "overlay",
              "size": 10,
              "solidity": 0.2
             }
            },
            "type": "barpolar"
           }
          ],
          "carpet": [
           {
            "aaxis": {
             "endlinecolor": "rgb(36,36,36)",
             "gridcolor": "white",
             "linecolor": "white",
             "minorgridcolor": "white",
             "startlinecolor": "rgb(36,36,36)"
            },
            "baxis": {
             "endlinecolor": "rgb(36,36,36)",
             "gridcolor": "white",
             "linecolor": "white",
             "minorgridcolor": "white",
             "startlinecolor": "rgb(36,36,36)"
            },
            "type": "carpet"
           }
          ],
          "choropleth": [
           {
            "colorbar": {
             "outlinewidth": 0,
             "tickcolor": "rgb(36,36,36)",
             "ticklen": 8,
             "ticks": "outside",
             "tickwidth": 2
            },
            "type": "choropleth"
           }
          ],
          "contour": [
           {
            "colorbar": {
             "outlinewidth": 0,
             "tickcolor": "rgb(36,36,36)",
             "ticklen": 8,
             "ticks": "outside",
             "tickwidth": 2
            },
            "colorscale": [
             [
              0,
              "rgb(2,4,25)"
             ],
             [
              0.06274509803921569,
              "rgb(24,15,41)"
             ],
             [
              0.12549019607843137,
              "rgb(47,23,57)"
             ],
             [
              0.18823529411764706,
              "rgb(71,28,72)"
             ],
             [
              0.25098039215686274,
              "rgb(97,30,82)"
             ],
             [
              0.3137254901960784,
              "rgb(123,30,89)"
             ],
             [
              0.3764705882352941,
              "rgb(150,27,91)"
             ],
             [
              0.4392156862745098,
              "rgb(177,22,88)"
             ],
             [
              0.5019607843137255,
              "rgb(203,26,79)"
             ],
             [
              0.5647058823529412,
              "rgb(223,47,67)"
             ],
             [
              0.6274509803921569,
              "rgb(236,76,61)"
             ],
             [
              0.6901960784313725,
              "rgb(242,107,73)"
             ],
             [
              0.7529411764705882,
              "rgb(244,135,95)"
             ],
             [
              0.8156862745098039,
              "rgb(245,162,122)"
             ],
             [
              0.8784313725490196,
              "rgb(246,188,153)"
             ],
             [
              0.9411764705882353,
              "rgb(247,212,187)"
             ],
             [
              1,
              "rgb(250,234,220)"
             ]
            ],
            "type": "contour"
           }
          ],
          "contourcarpet": [
           {
            "colorbar": {
             "outlinewidth": 0,
             "tickcolor": "rgb(36,36,36)",
             "ticklen": 8,
             "ticks": "outside",
             "tickwidth": 2
            },
            "type": "contourcarpet"
           }
          ],
          "heatmap": [
           {
            "colorbar": {
             "outlinewidth": 0,
             "tickcolor": "rgb(36,36,36)",
             "ticklen": 8,
             "ticks": "outside",
             "tickwidth": 2
            },
            "colorscale": [
             [
              0,
              "rgb(2,4,25)"
             ],
             [
              0.06274509803921569,
              "rgb(24,15,41)"
             ],
             [
              0.12549019607843137,
              "rgb(47,23,57)"
             ],
             [
              0.18823529411764706,
              "rgb(71,28,72)"
             ],
             [
              0.25098039215686274,
              "rgb(97,30,82)"
             ],
             [
              0.3137254901960784,
              "rgb(123,30,89)"
             ],
             [
              0.3764705882352941,
              "rgb(150,27,91)"
             ],
             [
              0.4392156862745098,
              "rgb(177,22,88)"
             ],
             [
              0.5019607843137255,
              "rgb(203,26,79)"
             ],
             [
              0.5647058823529412,
              "rgb(223,47,67)"
             ],
             [
              0.6274509803921569,
              "rgb(236,76,61)"
             ],
             [
              0.6901960784313725,
              "rgb(242,107,73)"
             ],
             [
              0.7529411764705882,
              "rgb(244,135,95)"
             ],
             [
              0.8156862745098039,
              "rgb(245,162,122)"
             ],
             [
              0.8784313725490196,
              "rgb(246,188,153)"
             ],
             [
              0.9411764705882353,
              "rgb(247,212,187)"
             ],
             [
              1,
              "rgb(250,234,220)"
             ]
            ],
            "type": "heatmap"
           }
          ],
          "heatmapgl": [
           {
            "colorbar": {
             "outlinewidth": 0,
             "tickcolor": "rgb(36,36,36)",
             "ticklen": 8,
             "ticks": "outside",
             "tickwidth": 2
            },
            "colorscale": [
             [
              0,
              "rgb(2,4,25)"
             ],
             [
              0.06274509803921569,
              "rgb(24,15,41)"
             ],
             [
              0.12549019607843137,
              "rgb(47,23,57)"
             ],
             [
              0.18823529411764706,
              "rgb(71,28,72)"
             ],
             [
              0.25098039215686274,
              "rgb(97,30,82)"
             ],
             [
              0.3137254901960784,
              "rgb(123,30,89)"
             ],
             [
              0.3764705882352941,
              "rgb(150,27,91)"
             ],
             [
              0.4392156862745098,
              "rgb(177,22,88)"
             ],
             [
              0.5019607843137255,
              "rgb(203,26,79)"
             ],
             [
              0.5647058823529412,
              "rgb(223,47,67)"
             ],
             [
              0.6274509803921569,
              "rgb(236,76,61)"
             ],
             [
              0.6901960784313725,
              "rgb(242,107,73)"
             ],
             [
              0.7529411764705882,
              "rgb(244,135,95)"
             ],
             [
              0.8156862745098039,
              "rgb(245,162,122)"
             ],
             [
              0.8784313725490196,
              "rgb(246,188,153)"
             ],
             [
              0.9411764705882353,
              "rgb(247,212,187)"
             ],
             [
              1,
              "rgb(250,234,220)"
             ]
            ],
            "type": "heatmapgl"
           }
          ],
          "histogram": [
           {
            "marker": {
             "pattern": {
              "fillmode": "overlay",
              "size": 10,
              "solidity": 0.2
             }
            },
            "type": "histogram"
           }
          ],
          "histogram2d": [
           {
            "colorbar": {
             "outlinewidth": 0,
             "tickcolor": "rgb(36,36,36)",
             "ticklen": 8,
             "ticks": "outside",
             "tickwidth": 2
            },
            "colorscale": [
             [
              0,
              "rgb(2,4,25)"
             ],
             [
              0.06274509803921569,
              "rgb(24,15,41)"
             ],
             [
              0.12549019607843137,
              "rgb(47,23,57)"
             ],
             [
              0.18823529411764706,
              "rgb(71,28,72)"
             ],
             [
              0.25098039215686274,
              "rgb(97,30,82)"
             ],
             [
              0.3137254901960784,
              "rgb(123,30,89)"
             ],
             [
              0.3764705882352941,
              "rgb(150,27,91)"
             ],
             [
              0.4392156862745098,
              "rgb(177,22,88)"
             ],
             [
              0.5019607843137255,
              "rgb(203,26,79)"
             ],
             [
              0.5647058823529412,
              "rgb(223,47,67)"
             ],
             [
              0.6274509803921569,
              "rgb(236,76,61)"
             ],
             [
              0.6901960784313725,
              "rgb(242,107,73)"
             ],
             [
              0.7529411764705882,
              "rgb(244,135,95)"
             ],
             [
              0.8156862745098039,
              "rgb(245,162,122)"
             ],
             [
              0.8784313725490196,
              "rgb(246,188,153)"
             ],
             [
              0.9411764705882353,
              "rgb(247,212,187)"
             ],
             [
              1,
              "rgb(250,234,220)"
             ]
            ],
            "type": "histogram2d"
           }
          ],
          "histogram2dcontour": [
           {
            "colorbar": {
             "outlinewidth": 0,
             "tickcolor": "rgb(36,36,36)",
             "ticklen": 8,
             "ticks": "outside",
             "tickwidth": 2
            },
            "colorscale": [
             [
              0,
              "rgb(2,4,25)"
             ],
             [
              0.06274509803921569,
              "rgb(24,15,41)"
             ],
             [
              0.12549019607843137,
              "rgb(47,23,57)"
             ],
             [
              0.18823529411764706,
              "rgb(71,28,72)"
             ],
             [
              0.25098039215686274,
              "rgb(97,30,82)"
             ],
             [
              0.3137254901960784,
              "rgb(123,30,89)"
             ],
             [
              0.3764705882352941,
              "rgb(150,27,91)"
             ],
             [
              0.4392156862745098,
              "rgb(177,22,88)"
             ],
             [
              0.5019607843137255,
              "rgb(203,26,79)"
             ],
             [
              0.5647058823529412,
              "rgb(223,47,67)"
             ],
             [
              0.6274509803921569,
              "rgb(236,76,61)"
             ],
             [
              0.6901960784313725,
              "rgb(242,107,73)"
             ],
             [
              0.7529411764705882,
              "rgb(244,135,95)"
             ],
             [
              0.8156862745098039,
              "rgb(245,162,122)"
             ],
             [
              0.8784313725490196,
              "rgb(246,188,153)"
             ],
             [
              0.9411764705882353,
              "rgb(247,212,187)"
             ],
             [
              1,
              "rgb(250,234,220)"
             ]
            ],
            "type": "histogram2dcontour"
           }
          ],
          "mesh3d": [
           {
            "colorbar": {
             "outlinewidth": 0,
             "tickcolor": "rgb(36,36,36)",
             "ticklen": 8,
             "ticks": "outside",
             "tickwidth": 2
            },
            "type": "mesh3d"
           }
          ],
          "parcoords": [
           {
            "line": {
             "colorbar": {
              "outlinewidth": 0,
              "tickcolor": "rgb(36,36,36)",
              "ticklen": 8,
              "ticks": "outside",
              "tickwidth": 2
             }
            },
            "type": "parcoords"
           }
          ],
          "pie": [
           {
            "automargin": true,
            "type": "pie"
           }
          ],
          "scatter": [
           {
            "fillpattern": {
             "fillmode": "overlay",
             "size": 10,
             "solidity": 0.2
            },
            "type": "scatter"
           }
          ],
          "scatter3d": [
           {
            "line": {
             "colorbar": {
              "outlinewidth": 0,
              "tickcolor": "rgb(36,36,36)",
              "ticklen": 8,
              "ticks": "outside",
              "tickwidth": 2
             }
            },
            "marker": {
             "colorbar": {
              "outlinewidth": 0,
              "tickcolor": "rgb(36,36,36)",
              "ticklen": 8,
              "ticks": "outside",
              "tickwidth": 2
             }
            },
            "type": "scatter3d"
           }
          ],
          "scattercarpet": [
           {
            "marker": {
             "colorbar": {
              "outlinewidth": 0,
              "tickcolor": "rgb(36,36,36)",
              "ticklen": 8,
              "ticks": "outside",
              "tickwidth": 2
             }
            },
            "type": "scattercarpet"
           }
          ],
          "scattergeo": [
           {
            "marker": {
             "colorbar": {
              "outlinewidth": 0,
              "tickcolor": "rgb(36,36,36)",
              "ticklen": 8,
              "ticks": "outside",
              "tickwidth": 2
             }
            },
            "type": "scattergeo"
           }
          ],
          "scattergl": [
           {
            "marker": {
             "colorbar": {
              "outlinewidth": 0,
              "tickcolor": "rgb(36,36,36)",
              "ticklen": 8,
              "ticks": "outside",
              "tickwidth": 2
             }
            },
            "type": "scattergl"
           }
          ],
          "scattermapbox": [
           {
            "marker": {
             "colorbar": {
              "outlinewidth": 0,
              "tickcolor": "rgb(36,36,36)",
              "ticklen": 8,
              "ticks": "outside",
              "tickwidth": 2
             }
            },
            "type": "scattermapbox"
           }
          ],
          "scatterpolar": [
           {
            "marker": {
             "colorbar": {
              "outlinewidth": 0,
              "tickcolor": "rgb(36,36,36)",
              "ticklen": 8,
              "ticks": "outside",
              "tickwidth": 2
             }
            },
            "type": "scatterpolar"
           }
          ],
          "scatterpolargl": [
           {
            "marker": {
             "colorbar": {
              "outlinewidth": 0,
              "tickcolor": "rgb(36,36,36)",
              "ticklen": 8,
              "ticks": "outside",
              "tickwidth": 2
             }
            },
            "type": "scatterpolargl"
           }
          ],
          "scatterternary": [
           {
            "marker": {
             "colorbar": {
              "outlinewidth": 0,
              "tickcolor": "rgb(36,36,36)",
              "ticklen": 8,
              "ticks": "outside",
              "tickwidth": 2
             }
            },
            "type": "scatterternary"
           }
          ],
          "surface": [
           {
            "colorbar": {
             "outlinewidth": 0,
             "tickcolor": "rgb(36,36,36)",
             "ticklen": 8,
             "ticks": "outside",
             "tickwidth": 2
            },
            "colorscale": [
             [
              0,
              "rgb(2,4,25)"
             ],
             [
              0.06274509803921569,
              "rgb(24,15,41)"
             ],
             [
              0.12549019607843137,
              "rgb(47,23,57)"
             ],
             [
              0.18823529411764706,
              "rgb(71,28,72)"
             ],
             [
              0.25098039215686274,
              "rgb(97,30,82)"
             ],
             [
              0.3137254901960784,
              "rgb(123,30,89)"
             ],
             [
              0.3764705882352941,
              "rgb(150,27,91)"
             ],
             [
              0.4392156862745098,
              "rgb(177,22,88)"
             ],
             [
              0.5019607843137255,
              "rgb(203,26,79)"
             ],
             [
              0.5647058823529412,
              "rgb(223,47,67)"
             ],
             [
              0.6274509803921569,
              "rgb(236,76,61)"
             ],
             [
              0.6901960784313725,
              "rgb(242,107,73)"
             ],
             [
              0.7529411764705882,
              "rgb(244,135,95)"
             ],
             [
              0.8156862745098039,
              "rgb(245,162,122)"
             ],
             [
              0.8784313725490196,
              "rgb(246,188,153)"
             ],
             [
              0.9411764705882353,
              "rgb(247,212,187)"
             ],
             [
              1,
              "rgb(250,234,220)"
             ]
            ],
            "type": "surface"
           }
          ],
          "table": [
           {
            "cells": {
             "fill": {
              "color": "rgb(231,231,240)"
             },
             "line": {
              "color": "white"
             }
            },
            "header": {
             "fill": {
              "color": "rgb(183,183,191)"
             },
             "line": {
              "color": "white"
             }
            },
            "type": "table"
           }
          ]
         },
         "layout": {
          "annotationdefaults": {
           "arrowcolor": "rgb(67,103,167)"
          },
          "autotypenumbers": "strict",
          "coloraxis": {
           "colorbar": {
            "outlinewidth": 0,
            "tickcolor": "rgb(36,36,36)",
            "ticklen": 8,
            "ticks": "outside",
            "tickwidth": 2
           }
          },
          "colorscale": {
           "sequential": [
            [
             0,
             "rgb(2,4,25)"
            ],
            [
             0.06274509803921569,
             "rgb(24,15,41)"
            ],
            [
             0.12549019607843137,
             "rgb(47,23,57)"
            ],
            [
             0.18823529411764706,
             "rgb(71,28,72)"
            ],
            [
             0.25098039215686274,
             "rgb(97,30,82)"
            ],
            [
             0.3137254901960784,
             "rgb(123,30,89)"
            ],
            [
             0.3764705882352941,
             "rgb(150,27,91)"
            ],
            [
             0.4392156862745098,
             "rgb(177,22,88)"
            ],
            [
             0.5019607843137255,
             "rgb(203,26,79)"
            ],
            [
             0.5647058823529412,
             "rgb(223,47,67)"
            ],
            [
             0.6274509803921569,
             "rgb(236,76,61)"
            ],
            [
             0.6901960784313725,
             "rgb(242,107,73)"
            ],
            [
             0.7529411764705882,
             "rgb(244,135,95)"
            ],
            [
             0.8156862745098039,
             "rgb(245,162,122)"
            ],
            [
             0.8784313725490196,
             "rgb(246,188,153)"
            ],
            [
             0.9411764705882353,
             "rgb(247,212,187)"
            ],
            [
             1,
             "rgb(250,234,220)"
            ]
           ],
           "sequentialminus": [
            [
             0,
             "rgb(2,4,25)"
            ],
            [
             0.06274509803921569,
             "rgb(24,15,41)"
            ],
            [
             0.12549019607843137,
             "rgb(47,23,57)"
            ],
            [
             0.18823529411764706,
             "rgb(71,28,72)"
            ],
            [
             0.25098039215686274,
             "rgb(97,30,82)"
            ],
            [
             0.3137254901960784,
             "rgb(123,30,89)"
            ],
            [
             0.3764705882352941,
             "rgb(150,27,91)"
            ],
            [
             0.4392156862745098,
             "rgb(177,22,88)"
            ],
            [
             0.5019607843137255,
             "rgb(203,26,79)"
            ],
            [
             0.5647058823529412,
             "rgb(223,47,67)"
            ],
            [
             0.6274509803921569,
             "rgb(236,76,61)"
            ],
            [
             0.6901960784313725,
             "rgb(242,107,73)"
            ],
            [
             0.7529411764705882,
             "rgb(244,135,95)"
            ],
            [
             0.8156862745098039,
             "rgb(245,162,122)"
            ],
            [
             0.8784313725490196,
             "rgb(246,188,153)"
            ],
            [
             0.9411764705882353,
             "rgb(247,212,187)"
            ],
            [
             1,
             "rgb(250,234,220)"
            ]
           ]
          },
          "colorway": [
           "rgb(76,114,176)",
           "rgb(221,132,82)",
           "rgb(85,168,104)",
           "rgb(196,78,82)",
           "rgb(129,114,179)",
           "rgb(147,120,96)",
           "rgb(218,139,195)",
           "rgb(140,140,140)",
           "rgb(204,185,116)",
           "rgb(100,181,205)"
          ],
          "font": {
           "color": "rgb(36,36,36)"
          },
          "geo": {
           "bgcolor": "white",
           "lakecolor": "white",
           "landcolor": "rgb(234,234,242)",
           "showlakes": true,
           "showland": true,
           "subunitcolor": "white"
          },
          "hoverlabel": {
           "align": "left"
          },
          "hovermode": "closest",
          "paper_bgcolor": "white",
          "plot_bgcolor": "rgb(234,234,242)",
          "polar": {
           "angularaxis": {
            "gridcolor": "white",
            "linecolor": "white",
            "showgrid": true,
            "ticks": ""
           },
           "bgcolor": "rgb(234,234,242)",
           "radialaxis": {
            "gridcolor": "white",
            "linecolor": "white",
            "showgrid": true,
            "ticks": ""
           }
          },
          "scene": {
           "xaxis": {
            "backgroundcolor": "rgb(234,234,242)",
            "gridcolor": "white",
            "gridwidth": 2,
            "linecolor": "white",
            "showbackground": true,
            "showgrid": true,
            "ticks": "",
            "zerolinecolor": "white"
           },
           "yaxis": {
            "backgroundcolor": "rgb(234,234,242)",
            "gridcolor": "white",
            "gridwidth": 2,
            "linecolor": "white",
            "showbackground": true,
            "showgrid": true,
            "ticks": "",
            "zerolinecolor": "white"
           },
           "zaxis": {
            "backgroundcolor": "rgb(234,234,242)",
            "gridcolor": "white",
            "gridwidth": 2,
            "linecolor": "white",
            "showbackground": true,
            "showgrid": true,
            "ticks": "",
            "zerolinecolor": "white"
           }
          },
          "shapedefaults": {
           "fillcolor": "rgb(67,103,167)",
           "line": {
            "width": 0
           },
           "opacity": 0.5
          },
          "ternary": {
           "aaxis": {
            "gridcolor": "white",
            "linecolor": "white",
            "showgrid": true,
            "ticks": ""
           },
           "baxis": {
            "gridcolor": "white",
            "linecolor": "white",
            "showgrid": true,
            "ticks": ""
           },
           "bgcolor": "rgb(234,234,242)",
           "caxis": {
            "gridcolor": "white",
            "linecolor": "white",
            "showgrid": true,
            "ticks": ""
           }
          },
          "xaxis": {
           "automargin": true,
           "gridcolor": "white",
           "linecolor": "white",
           "showgrid": true,
           "ticks": "",
           "title": {
            "standoff": 15
           },
           "zerolinecolor": "white"
          },
          "yaxis": {
           "automargin": true,
           "gridcolor": "white",
           "linecolor": "white",
           "showgrid": true,
           "ticks": "",
           "title": {
            "standoff": 15
           },
           "zerolinecolor": "white"
          }
         }
        },
        "title": {
         "text": "Metrics for Predicted and Baseline Queries"
        },
        "xaxis": {
         "anchor": "y",
         "domain": [
          0,
          0.98
         ],
         "title": {
          "text": "Topic"
         }
        },
        "xaxis2": {
         "anchor": "y2",
         "domain": [
          0,
          0.98
         ],
         "matches": "x",
         "showticklabels": false
        },
        "yaxis": {
         "anchor": "x",
         "domain": [
          0,
          0.45
         ],
         "title": {
          "text": "sum of value"
         }
        },
        "yaxis2": {
         "anchor": "x2",
         "domain": [
          0.55,
          1
         ],
         "matches": "y",
         "title": {
          "text": "sum of value"
         }
        }
       }
      }
     },
     "metadata": {},
     "output_type": "display_data"
    }
   ],
   "source": [
    "fig = px.histogram(plt_df, x=\"Topic\", y=[\"Recall\",\n",
    "                                        \"Cosine Precision\", \"Cluster Precision\", \"MVEE Precision\", \"Hull Precision\"\n",
    "                                        \"Cosine F2\",\"Cluster F2\", \"MVEE F2\", \"Hull F2\"\n",
    "                                                    ],\n",
    "                    title=\"Metrics for Predicted and Baseline Queries\", barmode=\"group\",\n",
    "                   facet_row=\"Index\", facet_row_spacing=0.1)\n",
    "\n",
    "fig.for_each_trace(lambda t: t.update(x=t.x[::-1], y=t.y[::-1]))\n",
    "fig.for_each_annotation(lambda a: a.update(text=a.text.split(\"=\")[-1]))\n",
    "# fig.update_layout(yaxis1_dtick=0.2, yaxis2_dtick=0.2, yaxis2_title=\"\",\n",
    "#                    **PLOT_CONFIGS)\n",
    "# fig.write_image(\"LitQEval-report/pics/all-metrics-1.pdf\")\n",
    "fig.show()"
   ]
  },
  {
   "cell_type": "code",
   "execution_count": 54,
   "metadata": {},
   "outputs": [
    {
     "data": {
      "application/vnd.plotly.v1+json": {
       "config": {
        "plotlyServerURL": "https://plot.ly"
       },
       "data": [
        {
         "coloraxis": "coloraxis",
         "hovertemplate": "x: %{x}<br>y: %{y}<br>color: %{z}<extra></extra>",
         "name": "0",
         "type": "heatmap",
         "x": [
          "Cosine Precision",
          "Cluster Precision",
          "MVEE Precision",
          "Hull Precision"
         ],
         "xaxis": "x",
         "y": [
          "Cosine Precision",
          "Cluster Precision",
          "MVEE Precision",
          "Hull Precision"
         ],
         "yaxis": "y",
         "z": [
          [
           1,
           0.4368981105498835,
           0.3992241898207298,
           0.5798286666990888
          ],
          [
           0.4368981105498835,
           1,
           0.23639303866436512,
           0.309294330945781
          ],
          [
           0.3992241898207298,
           0.23639303866436512,
           1,
           0.9391539617562121
          ],
          [
           0.5798286666990888,
           0.309294330945781,
           0.9391539617562121,
           1
          ]
         ]
        }
       ],
       "layout": {
        "coloraxis": {
         "colorscale": [
          [
           0,
           "rgb(2,4,25)"
          ],
          [
           0.0625,
           "rgb(24,15,41)"
          ],
          [
           0.125,
           "rgb(47,23,57)"
          ],
          [
           0.1875,
           "rgb(71,28,72)"
          ],
          [
           0.25,
           "rgb(97,30,82)"
          ],
          [
           0.3125,
           "rgb(123,30,89)"
          ],
          [
           0.375,
           "rgb(150,27,91)"
          ],
          [
           0.4375,
           "rgb(177,22,88)"
          ],
          [
           0.5,
           "rgb(203,26,79)"
          ],
          [
           0.5625,
           "rgb(223,47,67)"
          ],
          [
           0.625,
           "rgb(236,76,61)"
          ],
          [
           0.6875,
           "rgb(242,107,73)"
          ],
          [
           0.75,
           "rgb(244,135,95)"
          ],
          [
           0.8125,
           "rgb(245,162,122)"
          ],
          [
           0.875,
           "rgb(246,188,153)"
          ],
          [
           0.9375,
           "rgb(247,212,187)"
          ],
          [
           1,
           "rgb(250,234,220)"
          ]
         ]
        },
        "template": {
         "data": {
          "bar": [
           {
            "error_x": {
             "color": "rgb(36,36,36)"
            },
            "error_y": {
             "color": "rgb(36,36,36)"
            },
            "marker": {
             "line": {
              "color": "rgb(234,234,242)",
              "width": 0.5
             },
             "pattern": {
              "fillmode": "overlay",
              "size": 10,
              "solidity": 0.2
             }
            },
            "type": "bar"
           }
          ],
          "barpolar": [
           {
            "marker": {
             "line": {
              "color": "rgb(234,234,242)",
              "width": 0.5
             },
             "pattern": {
              "fillmode": "overlay",
              "size": 10,
              "solidity": 0.2
             }
            },
            "type": "barpolar"
           }
          ],
          "carpet": [
           {
            "aaxis": {
             "endlinecolor": "rgb(36,36,36)",
             "gridcolor": "white",
             "linecolor": "white",
             "minorgridcolor": "white",
             "startlinecolor": "rgb(36,36,36)"
            },
            "baxis": {
             "endlinecolor": "rgb(36,36,36)",
             "gridcolor": "white",
             "linecolor": "white",
             "minorgridcolor": "white",
             "startlinecolor": "rgb(36,36,36)"
            },
            "type": "carpet"
           }
          ],
          "choropleth": [
           {
            "colorbar": {
             "outlinewidth": 0,
             "tickcolor": "rgb(36,36,36)",
             "ticklen": 8,
             "ticks": "outside",
             "tickwidth": 2
            },
            "type": "choropleth"
           }
          ],
          "contour": [
           {
            "colorbar": {
             "outlinewidth": 0,
             "tickcolor": "rgb(36,36,36)",
             "ticklen": 8,
             "ticks": "outside",
             "tickwidth": 2
            },
            "colorscale": [
             [
              0,
              "rgb(2,4,25)"
             ],
             [
              0.06274509803921569,
              "rgb(24,15,41)"
             ],
             [
              0.12549019607843137,
              "rgb(47,23,57)"
             ],
             [
              0.18823529411764706,
              "rgb(71,28,72)"
             ],
             [
              0.25098039215686274,
              "rgb(97,30,82)"
             ],
             [
              0.3137254901960784,
              "rgb(123,30,89)"
             ],
             [
              0.3764705882352941,
              "rgb(150,27,91)"
             ],
             [
              0.4392156862745098,
              "rgb(177,22,88)"
             ],
             [
              0.5019607843137255,
              "rgb(203,26,79)"
             ],
             [
              0.5647058823529412,
              "rgb(223,47,67)"
             ],
             [
              0.6274509803921569,
              "rgb(236,76,61)"
             ],
             [
              0.6901960784313725,
              "rgb(242,107,73)"
             ],
             [
              0.7529411764705882,
              "rgb(244,135,95)"
             ],
             [
              0.8156862745098039,
              "rgb(245,162,122)"
             ],
             [
              0.8784313725490196,
              "rgb(246,188,153)"
             ],
             [
              0.9411764705882353,
              "rgb(247,212,187)"
             ],
             [
              1,
              "rgb(250,234,220)"
             ]
            ],
            "type": "contour"
           }
          ],
          "contourcarpet": [
           {
            "colorbar": {
             "outlinewidth": 0,
             "tickcolor": "rgb(36,36,36)",
             "ticklen": 8,
             "ticks": "outside",
             "tickwidth": 2
            },
            "type": "contourcarpet"
           }
          ],
          "heatmap": [
           {
            "colorbar": {
             "outlinewidth": 0,
             "tickcolor": "rgb(36,36,36)",
             "ticklen": 8,
             "ticks": "outside",
             "tickwidth": 2
            },
            "colorscale": [
             [
              0,
              "rgb(2,4,25)"
             ],
             [
              0.06274509803921569,
              "rgb(24,15,41)"
             ],
             [
              0.12549019607843137,
              "rgb(47,23,57)"
             ],
             [
              0.18823529411764706,
              "rgb(71,28,72)"
             ],
             [
              0.25098039215686274,
              "rgb(97,30,82)"
             ],
             [
              0.3137254901960784,
              "rgb(123,30,89)"
             ],
             [
              0.3764705882352941,
              "rgb(150,27,91)"
             ],
             [
              0.4392156862745098,
              "rgb(177,22,88)"
             ],
             [
              0.5019607843137255,
              "rgb(203,26,79)"
             ],
             [
              0.5647058823529412,
              "rgb(223,47,67)"
             ],
             [
              0.6274509803921569,
              "rgb(236,76,61)"
             ],
             [
              0.6901960784313725,
              "rgb(242,107,73)"
             ],
             [
              0.7529411764705882,
              "rgb(244,135,95)"
             ],
             [
              0.8156862745098039,
              "rgb(245,162,122)"
             ],
             [
              0.8784313725490196,
              "rgb(246,188,153)"
             ],
             [
              0.9411764705882353,
              "rgb(247,212,187)"
             ],
             [
              1,
              "rgb(250,234,220)"
             ]
            ],
            "type": "heatmap"
           }
          ],
          "heatmapgl": [
           {
            "colorbar": {
             "outlinewidth": 0,
             "tickcolor": "rgb(36,36,36)",
             "ticklen": 8,
             "ticks": "outside",
             "tickwidth": 2
            },
            "colorscale": [
             [
              0,
              "rgb(2,4,25)"
             ],
             [
              0.06274509803921569,
              "rgb(24,15,41)"
             ],
             [
              0.12549019607843137,
              "rgb(47,23,57)"
             ],
             [
              0.18823529411764706,
              "rgb(71,28,72)"
             ],
             [
              0.25098039215686274,
              "rgb(97,30,82)"
             ],
             [
              0.3137254901960784,
              "rgb(123,30,89)"
             ],
             [
              0.3764705882352941,
              "rgb(150,27,91)"
             ],
             [
              0.4392156862745098,
              "rgb(177,22,88)"
             ],
             [
              0.5019607843137255,
              "rgb(203,26,79)"
             ],
             [
              0.5647058823529412,
              "rgb(223,47,67)"
             ],
             [
              0.6274509803921569,
              "rgb(236,76,61)"
             ],
             [
              0.6901960784313725,
              "rgb(242,107,73)"
             ],
             [
              0.7529411764705882,
              "rgb(244,135,95)"
             ],
             [
              0.8156862745098039,
              "rgb(245,162,122)"
             ],
             [
              0.8784313725490196,
              "rgb(246,188,153)"
             ],
             [
              0.9411764705882353,
              "rgb(247,212,187)"
             ],
             [
              1,
              "rgb(250,234,220)"
             ]
            ],
            "type": "heatmapgl"
           }
          ],
          "histogram": [
           {
            "marker": {
             "pattern": {
              "fillmode": "overlay",
              "size": 10,
              "solidity": 0.2
             }
            },
            "type": "histogram"
           }
          ],
          "histogram2d": [
           {
            "colorbar": {
             "outlinewidth": 0,
             "tickcolor": "rgb(36,36,36)",
             "ticklen": 8,
             "ticks": "outside",
             "tickwidth": 2
            },
            "colorscale": [
             [
              0,
              "rgb(2,4,25)"
             ],
             [
              0.06274509803921569,
              "rgb(24,15,41)"
             ],
             [
              0.12549019607843137,
              "rgb(47,23,57)"
             ],
             [
              0.18823529411764706,
              "rgb(71,28,72)"
             ],
             [
              0.25098039215686274,
              "rgb(97,30,82)"
             ],
             [
              0.3137254901960784,
              "rgb(123,30,89)"
             ],
             [
              0.3764705882352941,
              "rgb(150,27,91)"
             ],
             [
              0.4392156862745098,
              "rgb(177,22,88)"
             ],
             [
              0.5019607843137255,
              "rgb(203,26,79)"
             ],
             [
              0.5647058823529412,
              "rgb(223,47,67)"
             ],
             [
              0.6274509803921569,
              "rgb(236,76,61)"
             ],
             [
              0.6901960784313725,
              "rgb(242,107,73)"
             ],
             [
              0.7529411764705882,
              "rgb(244,135,95)"
             ],
             [
              0.8156862745098039,
              "rgb(245,162,122)"
             ],
             [
              0.8784313725490196,
              "rgb(246,188,153)"
             ],
             [
              0.9411764705882353,
              "rgb(247,212,187)"
             ],
             [
              1,
              "rgb(250,234,220)"
             ]
            ],
            "type": "histogram2d"
           }
          ],
          "histogram2dcontour": [
           {
            "colorbar": {
             "outlinewidth": 0,
             "tickcolor": "rgb(36,36,36)",
             "ticklen": 8,
             "ticks": "outside",
             "tickwidth": 2
            },
            "colorscale": [
             [
              0,
              "rgb(2,4,25)"
             ],
             [
              0.06274509803921569,
              "rgb(24,15,41)"
             ],
             [
              0.12549019607843137,
              "rgb(47,23,57)"
             ],
             [
              0.18823529411764706,
              "rgb(71,28,72)"
             ],
             [
              0.25098039215686274,
              "rgb(97,30,82)"
             ],
             [
              0.3137254901960784,
              "rgb(123,30,89)"
             ],
             [
              0.3764705882352941,
              "rgb(150,27,91)"
             ],
             [
              0.4392156862745098,
              "rgb(177,22,88)"
             ],
             [
              0.5019607843137255,
              "rgb(203,26,79)"
             ],
             [
              0.5647058823529412,
              "rgb(223,47,67)"
             ],
             [
              0.6274509803921569,
              "rgb(236,76,61)"
             ],
             [
              0.6901960784313725,
              "rgb(242,107,73)"
             ],
             [
              0.7529411764705882,
              "rgb(244,135,95)"
             ],
             [
              0.8156862745098039,
              "rgb(245,162,122)"
             ],
             [
              0.8784313725490196,
              "rgb(246,188,153)"
             ],
             [
              0.9411764705882353,
              "rgb(247,212,187)"
             ],
             [
              1,
              "rgb(250,234,220)"
             ]
            ],
            "type": "histogram2dcontour"
           }
          ],
          "mesh3d": [
           {
            "colorbar": {
             "outlinewidth": 0,
             "tickcolor": "rgb(36,36,36)",
             "ticklen": 8,
             "ticks": "outside",
             "tickwidth": 2
            },
            "type": "mesh3d"
           }
          ],
          "parcoords": [
           {
            "line": {
             "colorbar": {
              "outlinewidth": 0,
              "tickcolor": "rgb(36,36,36)",
              "ticklen": 8,
              "ticks": "outside",
              "tickwidth": 2
             }
            },
            "type": "parcoords"
           }
          ],
          "pie": [
           {
            "automargin": true,
            "type": "pie"
           }
          ],
          "scatter": [
           {
            "fillpattern": {
             "fillmode": "overlay",
             "size": 10,
             "solidity": 0.2
            },
            "type": "scatter"
           }
          ],
          "scatter3d": [
           {
            "line": {
             "colorbar": {
              "outlinewidth": 0,
              "tickcolor": "rgb(36,36,36)",
              "ticklen": 8,
              "ticks": "outside",
              "tickwidth": 2
             }
            },
            "marker": {
             "colorbar": {
              "outlinewidth": 0,
              "tickcolor": "rgb(36,36,36)",
              "ticklen": 8,
              "ticks": "outside",
              "tickwidth": 2
             }
            },
            "type": "scatter3d"
           }
          ],
          "scattercarpet": [
           {
            "marker": {
             "colorbar": {
              "outlinewidth": 0,
              "tickcolor": "rgb(36,36,36)",
              "ticklen": 8,
              "ticks": "outside",
              "tickwidth": 2
             }
            },
            "type": "scattercarpet"
           }
          ],
          "scattergeo": [
           {
            "marker": {
             "colorbar": {
              "outlinewidth": 0,
              "tickcolor": "rgb(36,36,36)",
              "ticklen": 8,
              "ticks": "outside",
              "tickwidth": 2
             }
            },
            "type": "scattergeo"
           }
          ],
          "scattergl": [
           {
            "marker": {
             "colorbar": {
              "outlinewidth": 0,
              "tickcolor": "rgb(36,36,36)",
              "ticklen": 8,
              "ticks": "outside",
              "tickwidth": 2
             }
            },
            "type": "scattergl"
           }
          ],
          "scattermapbox": [
           {
            "marker": {
             "colorbar": {
              "outlinewidth": 0,
              "tickcolor": "rgb(36,36,36)",
              "ticklen": 8,
              "ticks": "outside",
              "tickwidth": 2
             }
            },
            "type": "scattermapbox"
           }
          ],
          "scatterpolar": [
           {
            "marker": {
             "colorbar": {
              "outlinewidth": 0,
              "tickcolor": "rgb(36,36,36)",
              "ticklen": 8,
              "ticks": "outside",
              "tickwidth": 2
             }
            },
            "type": "scatterpolar"
           }
          ],
          "scatterpolargl": [
           {
            "marker": {
             "colorbar": {
              "outlinewidth": 0,
              "tickcolor": "rgb(36,36,36)",
              "ticklen": 8,
              "ticks": "outside",
              "tickwidth": 2
             }
            },
            "type": "scatterpolargl"
           }
          ],
          "scatterternary": [
           {
            "marker": {
             "colorbar": {
              "outlinewidth": 0,
              "tickcolor": "rgb(36,36,36)",
              "ticklen": 8,
              "ticks": "outside",
              "tickwidth": 2
             }
            },
            "type": "scatterternary"
           }
          ],
          "surface": [
           {
            "colorbar": {
             "outlinewidth": 0,
             "tickcolor": "rgb(36,36,36)",
             "ticklen": 8,
             "ticks": "outside",
             "tickwidth": 2
            },
            "colorscale": [
             [
              0,
              "rgb(2,4,25)"
             ],
             [
              0.06274509803921569,
              "rgb(24,15,41)"
             ],
             [
              0.12549019607843137,
              "rgb(47,23,57)"
             ],
             [
              0.18823529411764706,
              "rgb(71,28,72)"
             ],
             [
              0.25098039215686274,
              "rgb(97,30,82)"
             ],
             [
              0.3137254901960784,
              "rgb(123,30,89)"
             ],
             [
              0.3764705882352941,
              "rgb(150,27,91)"
             ],
             [
              0.4392156862745098,
              "rgb(177,22,88)"
             ],
             [
              0.5019607843137255,
              "rgb(203,26,79)"
             ],
             [
              0.5647058823529412,
              "rgb(223,47,67)"
             ],
             [
              0.6274509803921569,
              "rgb(236,76,61)"
             ],
             [
              0.6901960784313725,
              "rgb(242,107,73)"
             ],
             [
              0.7529411764705882,
              "rgb(244,135,95)"
             ],
             [
              0.8156862745098039,
              "rgb(245,162,122)"
             ],
             [
              0.8784313725490196,
              "rgb(246,188,153)"
             ],
             [
              0.9411764705882353,
              "rgb(247,212,187)"
             ],
             [
              1,
              "rgb(250,234,220)"
             ]
            ],
            "type": "surface"
           }
          ],
          "table": [
           {
            "cells": {
             "fill": {
              "color": "rgb(231,231,240)"
             },
             "line": {
              "color": "white"
             }
            },
            "header": {
             "fill": {
              "color": "rgb(183,183,191)"
             },
             "line": {
              "color": "white"
             }
            },
            "type": "table"
           }
          ]
         },
         "layout": {
          "annotationdefaults": {
           "arrowcolor": "rgb(67,103,167)"
          },
          "autotypenumbers": "strict",
          "coloraxis": {
           "colorbar": {
            "outlinewidth": 0,
            "tickcolor": "rgb(36,36,36)",
            "ticklen": 8,
            "ticks": "outside",
            "tickwidth": 2
           }
          },
          "colorscale": {
           "sequential": [
            [
             0,
             "rgb(2,4,25)"
            ],
            [
             0.06274509803921569,
             "rgb(24,15,41)"
            ],
            [
             0.12549019607843137,
             "rgb(47,23,57)"
            ],
            [
             0.18823529411764706,
             "rgb(71,28,72)"
            ],
            [
             0.25098039215686274,
             "rgb(97,30,82)"
            ],
            [
             0.3137254901960784,
             "rgb(123,30,89)"
            ],
            [
             0.3764705882352941,
             "rgb(150,27,91)"
            ],
            [
             0.4392156862745098,
             "rgb(177,22,88)"
            ],
            [
             0.5019607843137255,
             "rgb(203,26,79)"
            ],
            [
             0.5647058823529412,
             "rgb(223,47,67)"
            ],
            [
             0.6274509803921569,
             "rgb(236,76,61)"
            ],
            [
             0.6901960784313725,
             "rgb(242,107,73)"
            ],
            [
             0.7529411764705882,
             "rgb(244,135,95)"
            ],
            [
             0.8156862745098039,
             "rgb(245,162,122)"
            ],
            [
             0.8784313725490196,
             "rgb(246,188,153)"
            ],
            [
             0.9411764705882353,
             "rgb(247,212,187)"
            ],
            [
             1,
             "rgb(250,234,220)"
            ]
           ],
           "sequentialminus": [
            [
             0,
             "rgb(2,4,25)"
            ],
            [
             0.06274509803921569,
             "rgb(24,15,41)"
            ],
            [
             0.12549019607843137,
             "rgb(47,23,57)"
            ],
            [
             0.18823529411764706,
             "rgb(71,28,72)"
            ],
            [
             0.25098039215686274,
             "rgb(97,30,82)"
            ],
            [
             0.3137254901960784,
             "rgb(123,30,89)"
            ],
            [
             0.3764705882352941,
             "rgb(150,27,91)"
            ],
            [
             0.4392156862745098,
             "rgb(177,22,88)"
            ],
            [
             0.5019607843137255,
             "rgb(203,26,79)"
            ],
            [
             0.5647058823529412,
             "rgb(223,47,67)"
            ],
            [
             0.6274509803921569,
             "rgb(236,76,61)"
            ],
            [
             0.6901960784313725,
             "rgb(242,107,73)"
            ],
            [
             0.7529411764705882,
             "rgb(244,135,95)"
            ],
            [
             0.8156862745098039,
             "rgb(245,162,122)"
            ],
            [
             0.8784313725490196,
             "rgb(246,188,153)"
            ],
            [
             0.9411764705882353,
             "rgb(247,212,187)"
            ],
            [
             1,
             "rgb(250,234,220)"
            ]
           ]
          },
          "colorway": [
           "rgb(76,114,176)",
           "rgb(221,132,82)",
           "rgb(85,168,104)",
           "rgb(196,78,82)",
           "rgb(129,114,179)",
           "rgb(147,120,96)",
           "rgb(218,139,195)",
           "rgb(140,140,140)",
           "rgb(204,185,116)",
           "rgb(100,181,205)"
          ],
          "font": {
           "color": "rgb(36,36,36)"
          },
          "geo": {
           "bgcolor": "white",
           "lakecolor": "white",
           "landcolor": "rgb(234,234,242)",
           "showlakes": true,
           "showland": true,
           "subunitcolor": "white"
          },
          "hoverlabel": {
           "align": "left"
          },
          "hovermode": "closest",
          "paper_bgcolor": "white",
          "plot_bgcolor": "rgb(234,234,242)",
          "polar": {
           "angularaxis": {
            "gridcolor": "white",
            "linecolor": "white",
            "showgrid": true,
            "ticks": ""
           },
           "bgcolor": "rgb(234,234,242)",
           "radialaxis": {
            "gridcolor": "white",
            "linecolor": "white",
            "showgrid": true,
            "ticks": ""
           }
          },
          "scene": {
           "xaxis": {
            "backgroundcolor": "rgb(234,234,242)",
            "gridcolor": "white",
            "gridwidth": 2,
            "linecolor": "white",
            "showbackground": true,
            "showgrid": true,
            "ticks": "",
            "zerolinecolor": "white"
           },
           "yaxis": {
            "backgroundcolor": "rgb(234,234,242)",
            "gridcolor": "white",
            "gridwidth": 2,
            "linecolor": "white",
            "showbackground": true,
            "showgrid": true,
            "ticks": "",
            "zerolinecolor": "white"
           },
           "zaxis": {
            "backgroundcolor": "rgb(234,234,242)",
            "gridcolor": "white",
            "gridwidth": 2,
            "linecolor": "white",
            "showbackground": true,
            "showgrid": true,
            "ticks": "",
            "zerolinecolor": "white"
           }
          },
          "shapedefaults": {
           "fillcolor": "rgb(67,103,167)",
           "line": {
            "width": 0
           },
           "opacity": 0.5
          },
          "ternary": {
           "aaxis": {
            "gridcolor": "white",
            "linecolor": "white",
            "showgrid": true,
            "ticks": ""
           },
           "baxis": {
            "gridcolor": "white",
            "linecolor": "white",
            "showgrid": true,
            "ticks": ""
           },
           "bgcolor": "rgb(234,234,242)",
           "caxis": {
            "gridcolor": "white",
            "linecolor": "white",
            "showgrid": true,
            "ticks": ""
           }
          },
          "xaxis": {
           "automargin": true,
           "gridcolor": "white",
           "linecolor": "white",
           "showgrid": true,
           "ticks": "",
           "title": {
            "standoff": 15
           },
           "zerolinecolor": "white"
          },
          "yaxis": {
           "automargin": true,
           "gridcolor": "white",
           "linecolor": "white",
           "showgrid": true,
           "ticks": "",
           "title": {
            "standoff": 15
           },
           "zerolinecolor": "white"
          }
         }
        },
        "title": {
         "text": "Correlation between Precision Metrics"
        },
        "xaxis": {
         "anchor": "y",
         "constrain": "domain",
         "domain": [
          0,
          1
         ],
         "scaleanchor": "y"
        },
        "yaxis": {
         "anchor": "x",
         "autorange": "reversed",
         "constrain": "domain",
         "domain": [
          0,
          1
         ]
        }
       }
      }
     },
     "metadata": {},
     "output_type": "display_data"
    }
   ],
   "source": [
    "corr = plt_df[plt_df[\"Cluster Precision\"] != 1][[\"Cosine Precision\", \"Cluster Precision\", \"MVEE Precision\", \"Hull Precision\"]].corr()\n",
    "px.imshow(corr, title=\"Correlation between Precision Metrics\").show()"
   ]
  },
  {
   "cell_type": "code",
   "execution_count": null,
   "metadata": {},
   "outputs": [
    {
     "data": {
      "text/html": [
       "<style type=\"text/css\">\n",
       "#T_a4153_row0_col1, #T_a4153_row0_col2, #T_a4153_row0_col3, #T_a4153_row0_col5, #T_a4153_row0_col6, #T_a4153_row0_col7, #T_a4153_row0_col8, #T_a4153_row2_col6, #T_a4153_row2_col8, #T_a4153_row4_col3, #T_a4153_row5_col6, #T_a4153_row5_col8, #T_a4153_row7_col1, #T_a4153_row9_col8, #T_a4153_row11_col6, #T_a4153_row14_col6, #T_a4153_row15_col6, #T_a4153_row19_col1 {\n",
       "  background-color: #6b0801;\n",
       "}\n",
       "#T_a4153_row0_col4, #T_a4153_row1_col1, #T_a4153_row1_col2, #T_a4153_row1_col3, #T_a4153_row1_col4, #T_a4153_row1_col5, #T_a4153_row1_col6, #T_a4153_row1_col7, #T_a4153_row1_col8, #T_a4153_row2_col1, #T_a4153_row2_col2, #T_a4153_row2_col3, #T_a4153_row2_col4, #T_a4153_row2_col5, #T_a4153_row2_col7, #T_a4153_row3_col1, #T_a4153_row3_col3, #T_a4153_row3_col6, #T_a4153_row3_col8, #T_a4153_row4_col1, #T_a4153_row5_col1, #T_a4153_row5_col2, #T_a4153_row5_col3, #T_a4153_row5_col4, #T_a4153_row5_col5, #T_a4153_row5_col7, #T_a4153_row6_col1, #T_a4153_row7_col2, #T_a4153_row7_col4, #T_a4153_row8_col1, #T_a4153_row9_col1, #T_a4153_row9_col2, #T_a4153_row9_col3, #T_a4153_row9_col4, #T_a4153_row9_col6, #T_a4153_row10_col3, #T_a4153_row11_col1, #T_a4153_row11_col2, #T_a4153_row11_col3, #T_a4153_row11_col4, #T_a4153_row11_col8, #T_a4153_row12_col1, #T_a4153_row12_col4, #T_a4153_row12_col6, #T_a4153_row13_col1, #T_a4153_row13_col2, #T_a4153_row13_col3, #T_a4153_row13_col4, #T_a4153_row13_col5, #T_a4153_row13_col6, #T_a4153_row13_col7, #T_a4153_row13_col8, #T_a4153_row14_col1, #T_a4153_row14_col4, #T_a4153_row14_col5, #T_a4153_row14_col7, #T_a4153_row14_col8, #T_a4153_row15_col1, #T_a4153_row15_col2, #T_a4153_row15_col3, #T_a4153_row15_col4, #T_a4153_row15_col5, #T_a4153_row15_col7, #T_a4153_row15_col8, #T_a4153_row16_col1, #T_a4153_row16_col2, #T_a4153_row16_col3, #T_a4153_row16_col4, #T_a4153_row16_col5, #T_a4153_row16_col6, #T_a4153_row16_col7, #T_a4153_row16_col8, #T_a4153_row17_col1, #T_a4153_row19_col2, #T_a4153_row19_col6, #T_a4153_row19_col8, #T_a4153_row20_col1, #T_a4153_row20_col2, #T_a4153_row20_col3, #T_a4153_row20_col5, #T_a4153_row20_col6, #T_a4153_row20_col7, #T_a4153_row20_col8 {\n",
       "  background-color: #a82b22;\n",
       "}\n",
       "</style>\n",
       "<table id=\"T_a4153\">\n",
       "  <caption>Difference in metrics between predicted and baseline (Negative means the baseline is better)</caption>\n",
       "  <thead>\n",
       "    <tr>\n",
       "      <th class=\"blank level0\" >&nbsp;</th>\n",
       "      <th id=\"T_a4153_level0_col0\" class=\"col_heading level0 col0\" >Recall</th>\n",
       "      <th id=\"T_a4153_level0_col1\" class=\"col_heading level0 col1\" >Cosine Precision</th>\n",
       "      <th id=\"T_a4153_level0_col2\" class=\"col_heading level0 col2\" >Cosine F2</th>\n",
       "      <th id=\"T_a4153_level0_col3\" class=\"col_heading level0 col3\" >Cluster Precision</th>\n",
       "      <th id=\"T_a4153_level0_col4\" class=\"col_heading level0 col4\" >Cluster F2</th>\n",
       "      <th id=\"T_a4153_level0_col5\" class=\"col_heading level0 col5\" >MVEE Precision</th>\n",
       "      <th id=\"T_a4153_level0_col6\" class=\"col_heading level0 col6\" >MVEE F2</th>\n",
       "      <th id=\"T_a4153_level0_col7\" class=\"col_heading level0 col7\" >Hull Precision</th>\n",
       "      <th id=\"T_a4153_level0_col8\" class=\"col_heading level0 col8\" >Hull F2</th>\n",
       "    </tr>\n",
       "    <tr>\n",
       "      <th class=\"index_name level0\" >Topic</th>\n",
       "      <th class=\"blank col0\" >&nbsp;</th>\n",
       "      <th class=\"blank col1\" >&nbsp;</th>\n",
       "      <th class=\"blank col2\" >&nbsp;</th>\n",
       "      <th class=\"blank col3\" >&nbsp;</th>\n",
       "      <th class=\"blank col4\" >&nbsp;</th>\n",
       "      <th class=\"blank col5\" >&nbsp;</th>\n",
       "      <th class=\"blank col6\" >&nbsp;</th>\n",
       "      <th class=\"blank col7\" >&nbsp;</th>\n",
       "      <th class=\"blank col8\" >&nbsp;</th>\n",
       "    </tr>\n",
       "  </thead>\n",
       "  <tbody>\n",
       "    <tr>\n",
       "      <th id=\"T_a4153_level0_row0\" class=\"row_heading level0 row0\" >Robotic Arthroplasty</th>\n",
       "      <td id=\"T_a4153_row0_col0\" class=\"data row0 col0\" >0.000</td>\n",
       "      <td id=\"T_a4153_row0_col1\" class=\"data row0 col1\" >-0.761</td>\n",
       "      <td id=\"T_a4153_row0_col2\" class=\"data row0 col2\" >-0.560</td>\n",
       "      <td id=\"T_a4153_row0_col3\" class=\"data row0 col3\" >-0.528</td>\n",
       "      <td id=\"T_a4153_row0_col4\" class=\"data row0 col4\" >-0.490</td>\n",
       "      <td id=\"T_a4153_row0_col5\" class=\"data row0 col5\" >-0.707</td>\n",
       "      <td id=\"T_a4153_row0_col6\" class=\"data row0 col6\" >-0.570</td>\n",
       "      <td id=\"T_a4153_row0_col7\" class=\"data row0 col7\" >-0.679</td>\n",
       "      <td id=\"T_a4153_row0_col8\" class=\"data row0 col8\" >-0.570</td>\n",
       "    </tr>\n",
       "    <tr>\n",
       "      <th id=\"T_a4153_level0_row1\" class=\"row_heading level0 row1\" >Soft Robotics</th>\n",
       "      <td id=\"T_a4153_row1_col0\" class=\"data row1 col0\" >0.111</td>\n",
       "      <td id=\"T_a4153_row1_col1\" class=\"data row1 col1\" >-0.134</td>\n",
       "      <td id=\"T_a4153_row1_col2\" class=\"data row1 col2\" >-0.130</td>\n",
       "      <td id=\"T_a4153_row1_col3\" class=\"data row1 col3\" >-0.147</td>\n",
       "      <td id=\"T_a4153_row1_col4\" class=\"data row1 col4\" >-0.090</td>\n",
       "      <td id=\"T_a4153_row1_col5\" class=\"data row1 col5\" >-0.292</td>\n",
       "      <td id=\"T_a4153_row1_col6\" class=\"data row1 col6\" >-0.400</td>\n",
       "      <td id=\"T_a4153_row1_col7\" class=\"data row1 col7\" >-0.152</td>\n",
       "      <td id=\"T_a4153_row1_col8\" class=\"data row1 col8\" >-0.300</td>\n",
       "    </tr>\n",
       "    <tr>\n",
       "      <th id=\"T_a4153_level0_row2\" class=\"row_heading level0 row2\" >Crop Yield Prediction</th>\n",
       "      <td id=\"T_a4153_row2_col0\" class=\"data row2 col0\" >0.109</td>\n",
       "      <td id=\"T_a4153_row2_col1\" class=\"data row2 col1\" >-0.280</td>\n",
       "      <td id=\"T_a4153_row2_col2\" class=\"data row2 col2\" >-0.210</td>\n",
       "      <td id=\"T_a4153_row2_col3\" class=\"data row2 col3\" >-0.118</td>\n",
       "      <td id=\"T_a4153_row2_col4\" class=\"data row2 col4\" >-0.230</td>\n",
       "      <td id=\"T_a4153_row2_col5\" class=\"data row2 col5\" >-0.261</td>\n",
       "      <td id=\"T_a4153_row2_col6\" class=\"data row2 col6\" >-0.740</td>\n",
       "      <td id=\"T_a4153_row2_col7\" class=\"data row2 col7\" >-0.234</td>\n",
       "      <td id=\"T_a4153_row2_col8\" class=\"data row2 col8\" >-0.530</td>\n",
       "    </tr>\n",
       "    <tr>\n",
       "      <th id=\"T_a4153_level0_row3\" class=\"row_heading level0 row3\" >Synthetic Biology</th>\n",
       "      <td id=\"T_a4153_row3_col0\" class=\"data row3 col0\" >0.310</td>\n",
       "      <td id=\"T_a4153_row3_col1\" class=\"data row3 col1\" >-0.050</td>\n",
       "      <td id=\"T_a4153_row3_col2\" class=\"data row3 col2\" >0.030</td>\n",
       "      <td id=\"T_a4153_row3_col3\" class=\"data row3 col3\" >-0.185</td>\n",
       "      <td id=\"T_a4153_row3_col4\" class=\"data row3 col4\" >0.080</td>\n",
       "      <td id=\"T_a4153_row3_col5\" class=\"data row3 col5\" >0.637</td>\n",
       "      <td id=\"T_a4153_row3_col6\" class=\"data row3 col6\" >-0.420</td>\n",
       "      <td id=\"T_a4153_row3_col7\" class=\"data row3 col7\" >0.510</td>\n",
       "      <td id=\"T_a4153_row3_col8\" class=\"data row3 col8\" >-0.330</td>\n",
       "    </tr>\n",
       "    <tr>\n",
       "      <th id=\"T_a4153_level0_row4\" class=\"row_heading level0 row4\" >Resilience in Business and management</th>\n",
       "      <td id=\"T_a4153_row4_col0\" class=\"data row4 col0\" >0.185</td>\n",
       "      <td id=\"T_a4153_row4_col1\" class=\"data row4 col1\" >-0.022</td>\n",
       "      <td id=\"T_a4153_row4_col2\" class=\"data row4 col2\" >0.060</td>\n",
       "      <td id=\"T_a4153_row4_col3\" class=\"data row4 col3\" >-0.838</td>\n",
       "      <td id=\"T_a4153_row4_col4\" class=\"data row4 col4\" >0.170</td>\n",
       "      <td id=\"T_a4153_row4_col5\" class=\"data row4 col5\" >0.150</td>\n",
       "      <td id=\"T_a4153_row4_col6\" class=\"data row4 col6\" >0.330</td>\n",
       "      <td id=\"T_a4153_row4_col7\" class=\"data row4 col7\" >0.071</td>\n",
       "      <td id=\"T_a4153_row4_col8\" class=\"data row4 col8\" >0.240</td>\n",
       "    </tr>\n",
       "    <tr>\n",
       "      <th id=\"T_a4153_level0_row5\" class=\"row_heading level0 row5\" >Cervical Myelopathy</th>\n",
       "      <td id=\"T_a4153_row5_col0\" class=\"data row5 col0\" >0.085</td>\n",
       "      <td id=\"T_a4153_row5_col1\" class=\"data row5 col1\" >-0.298</td>\n",
       "      <td id=\"T_a4153_row5_col2\" class=\"data row5 col2\" >-0.330</td>\n",
       "      <td id=\"T_a4153_row5_col3\" class=\"data row5 col3\" >-0.299</td>\n",
       "      <td id=\"T_a4153_row5_col4\" class=\"data row5 col4\" >-0.250</td>\n",
       "      <td id=\"T_a4153_row5_col5\" class=\"data row5 col5\" >-0.061</td>\n",
       "      <td id=\"T_a4153_row5_col6\" class=\"data row5 col6\" >-0.700</td>\n",
       "      <td id=\"T_a4153_row5_col7\" class=\"data row5 col7\" >-0.017</td>\n",
       "      <td id=\"T_a4153_row5_col8\" class=\"data row5 col8\" >-0.590</td>\n",
       "    </tr>\n",
       "    <tr>\n",
       "      <th id=\"T_a4153_level0_row6\" class=\"row_heading level0 row6\" >Drones in Agriculture</th>\n",
       "      <td id=\"T_a4153_row6_col0\" class=\"data row6 col0\" >0.480</td>\n",
       "      <td id=\"T_a4153_row6_col1\" class=\"data row6 col1\" >-0.184</td>\n",
       "      <td id=\"T_a4153_row6_col2\" class=\"data row6 col2\" >0.220</td>\n",
       "      <td id=\"T_a4153_row6_col3\" class=\"data row6 col3\" >0.298</td>\n",
       "      <td id=\"T_a4153_row6_col4\" class=\"data row6 col4\" >0.160</td>\n",
       "      <td id=\"T_a4153_row6_col5\" class=\"data row6 col5\" >0.069</td>\n",
       "      <td id=\"T_a4153_row6_col6\" class=\"data row6 col6\" >0.240</td>\n",
       "      <td id=\"T_a4153_row6_col7\" class=\"data row6 col7\" >0.028</td>\n",
       "      <td id=\"T_a4153_row6_col8\" class=\"data row6 col8\" >0.120</td>\n",
       "    </tr>\n",
       "    <tr>\n",
       "      <th id=\"T_a4153_level0_row7\" class=\"row_heading level0 row7\" >Tourism Growth Nexus</th>\n",
       "      <td id=\"T_a4153_row7_col0\" class=\"data row7 col0\" >0.000</td>\n",
       "      <td id=\"T_a4153_row7_col1\" class=\"data row7 col1\" >-0.562</td>\n",
       "      <td id=\"T_a4153_row7_col2\" class=\"data row7 col2\" >-0.070</td>\n",
       "      <td id=\"T_a4153_row7_col3\" class=\"data row7 col3\" >0.310</td>\n",
       "      <td id=\"T_a4153_row7_col4\" class=\"data row7 col4\" >-0.040</td>\n",
       "      <td id=\"T_a4153_row7_col5\" class=\"data row7 col5\" >0.000</td>\n",
       "      <td id=\"T_a4153_row7_col6\" class=\"data row7 col6\" >0.000</td>\n",
       "      <td id=\"T_a4153_row7_col7\" class=\"data row7 col7\" >0.000</td>\n",
       "      <td id=\"T_a4153_row7_col8\" class=\"data row7 col8\" >0.000</td>\n",
       "    </tr>\n",
       "    <tr>\n",
       "      <th id=\"T_a4153_level0_row8\" class=\"row_heading level0 row8\" >Sustainable Biofuel Economy</th>\n",
       "      <td id=\"T_a4153_row8_col0\" class=\"data row8 col0\" >0.260</td>\n",
       "      <td id=\"T_a4153_row8_col1\" class=\"data row8 col1\" >-0.122</td>\n",
       "      <td id=\"T_a4153_row8_col2\" class=\"data row8 col2\" >0.190</td>\n",
       "      <td id=\"T_a4153_row8_col3\" class=\"data row8 col3\" >0.733</td>\n",
       "      <td id=\"T_a4153_row8_col4\" class=\"data row8 col4\" >0.000</td>\n",
       "      <td id=\"T_a4153_row8_col5\" class=\"data row8 col5\" >0.513</td>\n",
       "      <td id=\"T_a4153_row8_col6\" class=\"data row8 col6\" >0.150</td>\n",
       "      <td id=\"T_a4153_row8_col7\" class=\"data row8 col7\" >0.343</td>\n",
       "      <td id=\"T_a4153_row8_col8\" class=\"data row8 col8\" >0.320</td>\n",
       "    </tr>\n",
       "    <tr>\n",
       "      <th id=\"T_a4153_level0_row9\" class=\"row_heading level0 row9\" >Perovskite Solar Cells Stability</th>\n",
       "      <td id=\"T_a4153_row9_col0\" class=\"data row9 col0\" >0.103</td>\n",
       "      <td id=\"T_a4153_row9_col1\" class=\"data row9 col1\" >-0.237</td>\n",
       "      <td id=\"T_a4153_row9_col2\" class=\"data row9 col2\" >-0.460</td>\n",
       "      <td id=\"T_a4153_row9_col3\" class=\"data row9 col3\" >-0.213</td>\n",
       "      <td id=\"T_a4153_row9_col4\" class=\"data row9 col4\" >-0.430</td>\n",
       "      <td id=\"T_a4153_row9_col5\" class=\"data row9 col5\" >0.051</td>\n",
       "      <td id=\"T_a4153_row9_col6\" class=\"data row9 col6\" >-0.470</td>\n",
       "      <td id=\"T_a4153_row9_col7\" class=\"data row9 col7\" >0.082</td>\n",
       "      <td id=\"T_a4153_row9_col8\" class=\"data row9 col8\" >-0.540</td>\n",
       "    </tr>\n",
       "    <tr>\n",
       "      <th id=\"T_a4153_level0_row10\" class=\"row_heading level0 row10\" >Nanopharmaceuticals OR Nanonutraceuticals</th>\n",
       "      <td id=\"T_a4153_row10_col0\" class=\"data row10 col0\" >0.040</td>\n",
       "      <td id=\"T_a4153_row10_col1\" class=\"data row10 col1\" >0.003</td>\n",
       "      <td id=\"T_a4153_row10_col2\" class=\"data row10 col2\" >0.040</td>\n",
       "      <td id=\"T_a4153_row10_col3\" class=\"data row10 col3\" >-0.376</td>\n",
       "      <td id=\"T_a4153_row10_col4\" class=\"data row10 col4\" >0.010</td>\n",
       "      <td id=\"T_a4153_row10_col5\" class=\"data row10 col5\" >0.000</td>\n",
       "      <td id=\"T_a4153_row10_col6\" class=\"data row10 col6\" >0.000</td>\n",
       "      <td id=\"T_a4153_row10_col7\" class=\"data row10 col7\" >0.000</td>\n",
       "      <td id=\"T_a4153_row10_col8\" class=\"data row10 col8\" >0.000</td>\n",
       "    </tr>\n",
       "    <tr>\n",
       "      <th id=\"T_a4153_level0_row11\" class=\"row_heading level0 row11\" >Green Warehousing</th>\n",
       "      <td id=\"T_a4153_row11_col0\" class=\"data row11 col0\" >0.052</td>\n",
       "      <td id=\"T_a4153_row11_col1\" class=\"data row11 col1\" >-0.227</td>\n",
       "      <td id=\"T_a4153_row11_col2\" class=\"data row11 col2\" >-0.130</td>\n",
       "      <td id=\"T_a4153_row11_col3\" class=\"data row11 col3\" >-0.411</td>\n",
       "      <td id=\"T_a4153_row11_col4\" class=\"data row11 col4\" >-0.030</td>\n",
       "      <td id=\"T_a4153_row11_col5\" class=\"data row11 col5\" >0.023</td>\n",
       "      <td id=\"T_a4153_row11_col6\" class=\"data row11 col6\" >-0.530</td>\n",
       "      <td id=\"T_a4153_row11_col7\" class=\"data row11 col7\" >0.004</td>\n",
       "      <td id=\"T_a4153_row11_col8\" class=\"data row11 col8\" >-0.200</td>\n",
       "    </tr>\n",
       "    <tr>\n",
       "      <th id=\"T_a4153_level0_row12\" class=\"row_heading level0 row12\" >AI on Edge Devices</th>\n",
       "      <td id=\"T_a4153_row12_col0\" class=\"data row12 col0\" >0.250</td>\n",
       "      <td id=\"T_a4153_row12_col1\" class=\"data row12 col1\" >-0.227</td>\n",
       "      <td id=\"T_a4153_row12_col2\" class=\"data row12 col2\" >0.090</td>\n",
       "      <td id=\"T_a4153_row12_col3\" class=\"data row12 col3\" >0.050</td>\n",
       "      <td id=\"T_a4153_row12_col4\" class=\"data row12 col4\" >-0.090</td>\n",
       "      <td id=\"T_a4153_row12_col5\" class=\"data row12 col5\" >0.182</td>\n",
       "      <td id=\"T_a4153_row12_col6\" class=\"data row12 col6\" >-0.050</td>\n",
       "      <td id=\"T_a4153_row12_col7\" class=\"data row12 col7\" >0.138</td>\n",
       "      <td id=\"T_a4153_row12_col8\" class=\"data row12 col8\" >0.200</td>\n",
       "    </tr>\n",
       "    <tr>\n",
       "      <th id=\"T_a4153_level0_row13\" class=\"row_heading level0 row13\" >Internet of Things in Healthcare</th>\n",
       "      <td id=\"T_a4153_row13_col0\" class=\"data row13 col0\" >0.172</td>\n",
       "      <td id=\"T_a4153_row13_col1\" class=\"data row13 col1\" >-0.203</td>\n",
       "      <td id=\"T_a4153_row13_col2\" class=\"data row13 col2\" >-0.050</td>\n",
       "      <td id=\"T_a4153_row13_col3\" class=\"data row13 col3\" >-0.090</td>\n",
       "      <td id=\"T_a4153_row13_col4\" class=\"data row13 col4\" >-0.160</td>\n",
       "      <td id=\"T_a4153_row13_col5\" class=\"data row13 col5\" >-0.146</td>\n",
       "      <td id=\"T_a4153_row13_col6\" class=\"data row13 col6\" >-0.500</td>\n",
       "      <td id=\"T_a4153_row13_col7\" class=\"data row13 col7\" >-0.109</td>\n",
       "      <td id=\"T_a4153_row13_col8\" class=\"data row13 col8\" >-0.400</td>\n",
       "    </tr>\n",
       "    <tr>\n",
       "      <th id=\"T_a4153_level0_row14\" class=\"row_heading level0 row14\" >Software Process Line</th>\n",
       "      <td id=\"T_a4153_row14_col0\" class=\"data row14 col0\" >0.024</td>\n",
       "      <td id=\"T_a4153_row14_col1\" class=\"data row14 col1\" >-0.001</td>\n",
       "      <td id=\"T_a4153_row14_col2\" class=\"data row14 col2\" >0.000</td>\n",
       "      <td id=\"T_a4153_row14_col3\" class=\"data row14 col3\" >0.239</td>\n",
       "      <td id=\"T_a4153_row14_col4\" class=\"data row14 col4\" >-0.020</td>\n",
       "      <td id=\"T_a4153_row14_col5\" class=\"data row14 col5\" >-0.048</td>\n",
       "      <td id=\"T_a4153_row14_col6\" class=\"data row14 col6\" >-0.660</td>\n",
       "      <td id=\"T_a4153_row14_col7\" class=\"data row14 col7\" >-0.037</td>\n",
       "      <td id=\"T_a4153_row14_col8\" class=\"data row14 col8\" >-0.300</td>\n",
       "    </tr>\n",
       "    <tr>\n",
       "      <th id=\"T_a4153_level0_row15\" class=\"row_heading level0 row15\" >Data Stream Processing Latency</th>\n",
       "      <td id=\"T_a4153_row15_col0\" class=\"data row15 col0\" >0.087</td>\n",
       "      <td id=\"T_a4153_row15_col1\" class=\"data row15 col1\" >-0.292</td>\n",
       "      <td id=\"T_a4153_row15_col2\" class=\"data row15 col2\" >-0.130</td>\n",
       "      <td id=\"T_a4153_row15_col3\" class=\"data row15 col3\" >-0.480</td>\n",
       "      <td id=\"T_a4153_row15_col4\" class=\"data row15 col4\" >-0.150</td>\n",
       "      <td id=\"T_a4153_row15_col5\" class=\"data row15 col5\" >-0.237</td>\n",
       "      <td id=\"T_a4153_row15_col6\" class=\"data row15 col6\" >-0.510</td>\n",
       "      <td id=\"T_a4153_row15_col7\" class=\"data row15 col7\" >-0.196</td>\n",
       "      <td id=\"T_a4153_row15_col8\" class=\"data row15 col8\" >-0.480</td>\n",
       "    </tr>\n",
       "    <tr>\n",
       "      <th id=\"T_a4153_level0_row16\" class=\"row_heading level0 row16\" >Business Process Meta Models</th>\n",
       "      <td id=\"T_a4153_row16_col0\" class=\"data row16 col0\" >0.307</td>\n",
       "      <td id=\"T_a4153_row16_col1\" class=\"data row16 col1\" >-0.199</td>\n",
       "      <td id=\"T_a4153_row16_col2\" class=\"data row16 col2\" >-0.090</td>\n",
       "      <td id=\"T_a4153_row16_col3\" class=\"data row16 col3\" >-0.233</td>\n",
       "      <td id=\"T_a4153_row16_col4\" class=\"data row16 col4\" >-0.050</td>\n",
       "      <td id=\"T_a4153_row16_col5\" class=\"data row16 col5\" >-0.228</td>\n",
       "      <td id=\"T_a4153_row16_col6\" class=\"data row16 col6\" >-0.360</td>\n",
       "      <td id=\"T_a4153_row16_col7\" class=\"data row16 col7\" >-0.148</td>\n",
       "      <td id=\"T_a4153_row16_col8\" class=\"data row16 col8\" >-0.300</td>\n",
       "    </tr>\n",
       "    <tr>\n",
       "      <th id=\"T_a4153_level0_row17\" class=\"row_heading level0 row17\" >Multicore Performance Prediction</th>\n",
       "      <td id=\"T_a4153_row17_col0\" class=\"data row17 col0\" >0.273</td>\n",
       "      <td id=\"T_a4153_row17_col1\" class=\"data row17 col1\" >-0.239</td>\n",
       "      <td id=\"T_a4153_row17_col2\" class=\"data row17 col2\" >0.200</td>\n",
       "      <td id=\"T_a4153_row17_col3\" class=\"data row17 col3\" >0.000</td>\n",
       "      <td id=\"T_a4153_row17_col4\" class=\"data row17 col4\" >0.010</td>\n",
       "      <td id=\"T_a4153_row17_col5\" class=\"data row17 col5\" >0.158</td>\n",
       "      <td id=\"T_a4153_row17_col6\" class=\"data row17 col6\" >0.400</td>\n",
       "      <td id=\"T_a4153_row17_col7\" class=\"data row17 col7\" >0.100</td>\n",
       "      <td id=\"T_a4153_row17_col8\" class=\"data row17 col8\" >0.320</td>\n",
       "    </tr>\n",
       "    <tr>\n",
       "      <th id=\"T_a4153_level0_row18\" class=\"row_heading level0 row18\" >Cloud Migration</th>\n",
       "      <td id=\"T_a4153_row18_col0\" class=\"data row18 col0\" >0.000</td>\n",
       "      <td id=\"T_a4153_row18_col1\" class=\"data row18 col1\" >0.000</td>\n",
       "      <td id=\"T_a4153_row18_col2\" class=\"data row18 col2\" >0.000</td>\n",
       "      <td id=\"T_a4153_row18_col3\" class=\"data row18 col3\" >0.000</td>\n",
       "      <td id=\"T_a4153_row18_col4\" class=\"data row18 col4\" >0.000</td>\n",
       "      <td id=\"T_a4153_row18_col5\" class=\"data row18 col5\" >0.000</td>\n",
       "      <td id=\"T_a4153_row18_col6\" class=\"data row18 col6\" >0.000</td>\n",
       "      <td id=\"T_a4153_row18_col7\" class=\"data row18 col7\" >0.000</td>\n",
       "      <td id=\"T_a4153_row18_col8\" class=\"data row18 col8\" >0.000</td>\n",
       "    </tr>\n",
       "    <tr>\n",
       "      <th id=\"T_a4153_level0_row19\" class=\"row_heading level0 row19\" >Software Fault Prediction Metrics</th>\n",
       "      <td id=\"T_a4153_row19_col0\" class=\"data row19 col0\" >0.312</td>\n",
       "      <td id=\"T_a4153_row19_col1\" class=\"data row19 col1\" >-0.604</td>\n",
       "      <td id=\"T_a4153_row19_col2\" class=\"data row19 col2\" >-0.050</td>\n",
       "      <td id=\"T_a4153_row19_col3\" class=\"data row19 col3\" >0.671</td>\n",
       "      <td id=\"T_a4153_row19_col4\" class=\"data row19 col4\" >0.020</td>\n",
       "      <td id=\"T_a4153_row19_col5\" class=\"data row19 col5\" >0.006</td>\n",
       "      <td id=\"T_a4153_row19_col6\" class=\"data row19 col6\" >-0.090</td>\n",
       "      <td id=\"T_a4153_row19_col7\" class=\"data row19 col7\" >0.012</td>\n",
       "      <td id=\"T_a4153_row19_col8\" class=\"data row19 col8\" >-0.010</td>\n",
       "    </tr>\n",
       "    <tr>\n",
       "      <th id=\"T_a4153_level0_row20\" class=\"row_heading level0 row20\" >Software Defect Prediction</th>\n",
       "      <td id=\"T_a4153_row20_col0\" class=\"data row20 col0\" >0.186</td>\n",
       "      <td id=\"T_a4153_row20_col1\" class=\"data row20 col1\" >-0.466</td>\n",
       "      <td id=\"T_a4153_row20_col2\" class=\"data row20 col2\" >-0.040</td>\n",
       "      <td id=\"T_a4153_row20_col3\" class=\"data row20 col3\" >-0.311</td>\n",
       "      <td id=\"T_a4153_row20_col4\" class=\"data row20 col4\" >0.030</td>\n",
       "      <td id=\"T_a4153_row20_col5\" class=\"data row20 col5\" >-0.121</td>\n",
       "      <td id=\"T_a4153_row20_col6\" class=\"data row20 col6\" >-0.390</td>\n",
       "      <td id=\"T_a4153_row20_col7\" class=\"data row20 col7\" >-0.233</td>\n",
       "      <td id=\"T_a4153_row20_col8\" class=\"data row20 col8\" >-0.300</td>\n",
       "    </tr>\n",
       "  </tbody>\n",
       "</table>\n"
      ],
      "text/plain": [
       "<pandas.io.formats.style.Styler at 0x200ae78f3d0>"
      ]
     },
     "execution_count": 57,
     "metadata": {},
     "output_type": "execute_result"
    }
   ],
   "source": [
    "diff_df = (results[results[\"Index\"] == \"Predicted\"][[\"Recall\",\n",
    "                                                    \"Cosine Precision\", \"Cluster Precision\", \"MVEE Precision\", \"Hull Precision\"\n",
    "                                                    \"Cosine F2\",\"Cluster F2\", \"MVEE F2\", \"Hull F2\"\n",
    "                                                    ]].values\\\n",
    "      - results[results[\"Index\"] == \"Baseline\"][[\"Recall\",\n",
    "                                                    \"Cosine Precision\", \"Cluster Precision\", \"MVEE Precision\", \"Hull Precision\"\n",
    "                                                    \"Cosine F2\",\"Cluster F2\", \"MVEE F2\", \"Hull F2\"\n",
    "                                                    ]].values).astype(float)\n",
    "\n",
    "diff_df = pd.DataFrame(np.round(diff_df,3), columns=[\"Recall\",\n",
    "                                                    \"Cosine Precision\", \"Cluster Precision\", \"MVEE Precision\", \"Hull Precision\"\n",
    "                                                    \"Cosine F2\",\"Cluster F2\", \"MVEE F2\", \"Hull F2\"\n",
    "                                                    ], index=results.dropna()[\"Topic\"])\n",
    "diff_df = diff_df.style.map(lambda x: 'background-color: #6b0801' if x < -0.5 else 'background-color: #a82b22' if x < 0 else '')\n",
    "diff_df.format(\"{:.3f}\").set_caption(\"Difference in metrics between predicted and baseline (Negative means the baseline is better)\")\n",
    "# display(diff_df.hide(subset=diff_df.index[-7:]))\n",
    "diff_df"
   ]
  }
 ],
 "metadata": {
  "kernelspec": {
   "display_name": "litqeval-nY2J0JWW-py3.10",
   "language": "python",
   "name": "python3"
  },
  "language_info": {
   "codemirror_mode": {
    "name": "ipython",
    "version": 3
   },
   "file_extension": ".py",
   "mimetype": "text/x-python",
   "name": "python",
   "nbconvert_exporter": "python",
   "pygments_lexer": "ipython3",
   "version": "3.10.7"
  }
 },
 "nbformat": 4,
 "nbformat_minor": 2
}
