{
 "cells": [
  {
   "cell_type": "markdown",
   "metadata": {},
   "source": [
    "#### The goal of this notebook is provide an evaluation overview."
   ]
  },
  {
   "cell_type": "code",
   "execution_count": 6,
   "metadata": {},
   "outputs": [],
   "source": [
    "import plotly.express as px\n",
    "import plotly.io as pio\n",
    "import pandas as pd\n",
    "import numpy as np\n",
    "pio.templates.default = \"seaborn\""
   ]
  },
  {
   "cell_type": "code",
   "execution_count": 7,
   "metadata": {},
   "outputs": [],
   "source": [
    "results = pd.read_excel(\"results.xlsx\")\n",
    "results[\"Topic\"] = results[\"Query\"].copy()\n",
    "results.loc[1::2, \"Topic\"] = np.nan\n",
    "results = results.rename(columns={\"Unnamed: 0\": \"Index\"})\n",
    "plt_df = results.ffill()\n",
    "plt_df = plt_df[plt_df[\"Recall\"] != 0]\n"
   ]
  },
  {
   "cell_type": "code",
   "execution_count": 8,
   "metadata": {},
   "outputs": [
    {
     "data": {
      "application/vnd.plotly.v1+json": {
       "config": {
        "plotlyServerURL": "https://plot.ly"
       },
       "data": [
        {
         "alignmentgroup": "True",
         "bingroup": "x",
         "histfunc": "sum",
         "hovertemplate": "variable=Recall<br>Index=Predicted<br>Topic=%{x}<br>sum of value=%{y}<extra></extra>",
         "legendgroup": "Recall",
         "marker": {
          "color": "rgb(76,114,176)",
          "pattern": {
           "shape": ""
          }
         },
         "name": "Recall",
         "offsetgroup": "Recall",
         "orientation": "v",
         "showlegend": true,
         "type": "histogram",
         "x": [
          "Software Defect Prediction",
          "Software Fault Prediction Metrics",
          "Business Process Meta Models",
          "Data Stream Processing Latency",
          "Software Process Line",
          "Internet of Things in Healthcare",
          "AI on Edge Devices",
          "Green Warehousing",
          "Nanopharmaceuticals OR Nanonutraceuticals",
          "Perovskite Solar Cells Stability",
          "Sustainable Biofuel Economy",
          "Tourism Growth Nexus",
          "Drones in Agriculture",
          "Cervical Myelopathy",
          "Resilience in Business and management",
          "Synthetic Biology",
          "Crop Yield Prediction",
          "Soft Robotics",
          "Robotic Arthroplasty"
         ],
         "xaxis": "x2",
         "y": [
          0.204,
          0.812,
          0.577,
          0.101,
          0.349,
          0.517,
          0.361,
          0.184,
          0.04,
          1,
          0.28,
          0.08,
          0.48,
          0.851,
          0.185,
          0.517,
          0.652,
          0.639,
          0.957
         ],
         "yaxis": "y2"
        },
        {
         "alignmentgroup": "True",
         "bingroup": "x",
         "histfunc": "sum",
         "hovertemplate": "variable=Recall<br>Index=Baseline<br>Topic=%{x}<br>sum of value=%{y}<extra></extra>",
         "legendgroup": "Recall",
         "marker": {
          "color": "rgb(76,114,176)",
          "pattern": {
           "shape": ""
          }
         },
         "name": "Recall",
         "offsetgroup": "Recall",
         "orientation": "v",
         "showlegend": false,
         "type": "histogram",
         "x": [
          "Software Defect Prediction",
          "Software Fault Prediction Metrics",
          "Business Process Meta Models",
          "Data Stream Processing Latency",
          "Software Process Line",
          "Internet of Things in Healthcare",
          "AI on Edge Devices",
          "Green Warehousing",
          "Perovskite Solar Cells Stability",
          "Sustainable Biofuel Economy",
          "Tourism Growth Nexus",
          "Cervical Myelopathy",
          "Synthetic Biology",
          "Crop Yield Prediction",
          "Soft Robotics",
          "Robotic Arthroplasty"
         ],
         "xaxis": "x",
         "y": [
          0.333,
          0.25,
          0.308,
          0.174,
          0.581,
          0.345,
          0.111,
          0.132,
          0.897,
          0.02,
          0.08,
          0.766,
          0.207,
          0.543,
          0.528,
          0.957
         ],
         "yaxis": "y"
        },
        {
         "alignmentgroup": "True",
         "bingroup": "x",
         "histfunc": "sum",
         "hovertemplate": "variable=Cosine Precision<br>Index=Predicted<br>Topic=%{x}<br>sum of value=%{y}<extra></extra>",
         "legendgroup": "Cosine Precision",
         "marker": {
          "color": "rgb(221,132,82)",
          "pattern": {
           "shape": ""
          }
         },
         "name": "Cosine Precision",
         "offsetgroup": "Cosine Precision",
         "orientation": "v",
         "showlegend": true,
         "type": "histogram",
         "x": [
          "Software Defect Prediction",
          "Software Fault Prediction Metrics",
          "Business Process Meta Models",
          "Data Stream Processing Latency",
          "Software Process Line",
          "Internet of Things in Healthcare",
          "AI on Edge Devices",
          "Green Warehousing",
          "Nanopharmaceuticals OR Nanonutraceuticals",
          "Perovskite Solar Cells Stability",
          "Sustainable Biofuel Economy",
          "Tourism Growth Nexus",
          "Drones in Agriculture",
          "Cervical Myelopathy",
          "Resilience in Business and management",
          "Synthetic Biology",
          "Crop Yield Prediction",
          "Soft Robotics",
          "Robotic Arthroplasty"
         ],
         "xaxis": "x2",
         "y": [
          0.024,
          0.086,
          0.299,
          0.3,
          0.307,
          0.199,
          0.137,
          0.003,
          0.242,
          0.675,
          0.248,
          0.009,
          0.089,
          0.284,
          0.016,
          0.069,
          0.119,
          0.099,
          0.124
         ],
         "yaxis": "y2"
        },
        {
         "alignmentgroup": "True",
         "bingroup": "x",
         "histfunc": "sum",
         "hovertemplate": "variable=Cosine Precision<br>Index=Baseline<br>Topic=%{x}<br>sum of value=%{y}<extra></extra>",
         "legendgroup": "Cosine Precision",
         "marker": {
          "color": "rgb(221,132,82)",
          "pattern": {
           "shape": ""
          }
         },
         "name": "Cosine Precision",
         "offsetgroup": "Cosine Precision",
         "orientation": "v",
         "showlegend": false,
         "type": "histogram",
         "x": [
          "Software Defect Prediction",
          "Software Fault Prediction Metrics",
          "Business Process Meta Models",
          "Data Stream Processing Latency",
          "Software Process Line",
          "Internet of Things in Healthcare",
          "AI on Edge Devices",
          "Green Warehousing",
          "Perovskite Solar Cells Stability",
          "Sustainable Biofuel Economy",
          "Tourism Growth Nexus",
          "Cervical Myelopathy",
          "Synthetic Biology",
          "Crop Yield Prediction",
          "Soft Robotics",
          "Robotic Arthroplasty"
         ],
         "xaxis": "x",
         "y": [
          0.608,
          0.682,
          0.26,
          0.308,
          0.021,
          0.402,
          0.364,
          0.23,
          0.912,
          0.37,
          0.571,
          0.582,
          0.119,
          0.399,
          0.233,
          0.885
         ],
         "yaxis": "y"
        },
        {
         "alignmentgroup": "True",
         "bingroup": "x",
         "histfunc": "sum",
         "hovertemplate": "variable=Cosine F2<br>Index=Predicted<br>Topic=%{x}<br>sum of value=%{y}<extra></extra>",
         "legendgroup": "Cosine F2",
         "marker": {
          "color": "rgb(85,168,104)",
          "pattern": {
           "shape": ""
          }
         },
         "name": "Cosine F2",
         "offsetgroup": "Cosine F2",
         "orientation": "v",
         "showlegend": true,
         "type": "histogram",
         "x": [
          "Software Defect Prediction",
          "Software Fault Prediction Metrics",
          "Business Process Meta Models",
          "Data Stream Processing Latency",
          "Software Process Line",
          "Internet of Things in Healthcare",
          "AI on Edge Devices",
          "Green Warehousing",
          "Nanopharmaceuticals OR Nanonutraceuticals",
          "Perovskite Solar Cells Stability",
          "Sustainable Biofuel Economy",
          "Tourism Growth Nexus",
          "Drones in Agriculture",
          "Cervical Myelopathy",
          "Resilience in Business and management",
          "Synthetic Biology",
          "Crop Yield Prediction",
          "Soft Robotics",
          "Robotic Arthroplasty"
         ],
         "xaxis": "x2",
         "y": [
          0.08,
          0.29,
          0.49,
          0.12,
          0.34,
          0.27,
          0.22,
          0.01,
          0.04,
          0,
          0.21,
          0.03,
          0.22,
          0.3,
          0.06,
          0.2,
          0.27,
          0.25,
          0.37
         ],
         "yaxis": "y2"
        },
        {
         "alignmentgroup": "True",
         "bingroup": "x",
         "histfunc": "sum",
         "hovertemplate": "variable=Cosine F2<br>Index=Baseline<br>Topic=%{x}<br>sum of value=%{y}<extra></extra>",
         "legendgroup": "Cosine F2",
         "marker": {
          "color": "rgb(85,168,104)",
          "pattern": {
           "shape": ""
          }
         },
         "name": "Cosine F2",
         "offsetgroup": "Cosine F2",
         "orientation": "v",
         "showlegend": false,
         "type": "histogram",
         "x": [
          "Software Defect Prediction",
          "Software Fault Prediction Metrics",
          "Business Process Meta Models",
          "Data Stream Processing Latency",
          "Software Process Line",
          "Internet of Things in Healthcare",
          "AI on Edge Devices",
          "Green Warehousing",
          "Perovskite Solar Cells Stability",
          "Sustainable Biofuel Economy",
          "Tourism Growth Nexus",
          "Cervical Myelopathy",
          "Synthetic Biology",
          "Crop Yield Prediction",
          "Soft Robotics",
          "Robotic Arthroplasty"
         ],
         "xaxis": "x",
         "y": [
          0.36,
          0.29,
          0.3,
          0.19,
          0.09,
          0.32,
          0.13,
          0.14,
          0.46,
          0.02,
          0.1,
          0.63,
          0.17,
          0.48,
          0.38,
          0.93
         ],
         "yaxis": "y"
        },
        {
         "alignmentgroup": "True",
         "bingroup": "x",
         "histfunc": "sum",
         "hovertemplate": "variable=Cluster Precision<br>Index=Predicted<br>Topic=%{x}<br>sum of value=%{y}<extra></extra>",
         "legendgroup": "Cluster Precision",
         "marker": {
          "color": "rgb(196,78,82)",
          "pattern": {
           "shape": ""
          }
         },
         "name": "Cluster Precision",
         "offsetgroup": "Cluster Precision",
         "orientation": "v",
         "showlegend": true,
         "type": "histogram",
         "x": [
          "Software Defect Prediction",
          "Software Fault Prediction Metrics",
          "Business Process Meta Models",
          "Data Stream Processing Latency",
          "Software Process Line",
          "Internet of Things in Healthcare",
          "AI on Edge Devices",
          "Green Warehousing",
          "Nanopharmaceuticals OR Nanonutraceuticals",
          "Perovskite Solar Cells Stability",
          "Sustainable Biofuel Economy",
          "Tourism Growth Nexus",
          "Drones in Agriculture",
          "Cervical Myelopathy",
          "Resilience in Business and management",
          "Synthetic Biology",
          "Crop Yield Prediction",
          "Soft Robotics",
          "Robotic Arthroplasty"
         ],
         "xaxis": "x2",
         "y": [
          0.02,
          0.39,
          0.258,
          0.173,
          0.396,
          0.448,
          0.586,
          0.108,
          0.624,
          0.436,
          0.745,
          0.569,
          0.309,
          0.105,
          0.162,
          0.172,
          0.289,
          0.135,
          0.046
         ],
         "yaxis": "y2"
        },
        {
         "alignmentgroup": "True",
         "bingroup": "x",
         "histfunc": "sum",
         "hovertemplate": "variable=Cluster Precision<br>Index=Baseline<br>Topic=%{x}<br>sum of value=%{y}<extra></extra>",
         "legendgroup": "Cluster Precision",
         "marker": {
          "color": "rgb(196,78,82)",
          "pattern": {
           "shape": ""
          }
         },
         "name": "Cluster Precision",
         "offsetgroup": "Cluster Precision",
         "orientation": "v",
         "showlegend": false,
         "type": "histogram",
         "x": [
          "Software Defect Prediction",
          "Software Fault Prediction Metrics",
          "Business Process Meta Models",
          "Data Stream Processing Latency",
          "Software Process Line",
          "Internet of Things in Healthcare",
          "AI on Edge Devices",
          "Green Warehousing",
          "Perovskite Solar Cells Stability",
          "Sustainable Biofuel Economy",
          "Tourism Growth Nexus",
          "Cervical Myelopathy",
          "Synthetic Biology",
          "Crop Yield Prediction",
          "Soft Robotics",
          "Robotic Arthroplasty"
         ],
         "xaxis": "x",
         "y": [
          0.466,
          0.329,
          0.34,
          0.494,
          0.077,
          0.538,
          0.536,
          0.519,
          0.649,
          0.012,
          0.259,
          0.404,
          0.357,
          0.407,
          0.282,
          0.574
         ],
         "yaxis": "y"
        },
        {
         "alignmentgroup": "True",
         "bingroup": "x",
         "histfunc": "sum",
         "hovertemplate": "variable=Cluster F2<br>Index=Predicted<br>Topic=%{x}<br>sum of value=%{y}<extra></extra>",
         "legendgroup": "Cluster F2",
         "marker": {
          "color": "rgb(129,114,179)",
          "pattern": {
           "shape": ""
          }
         },
         "name": "Cluster F2",
         "offsetgroup": "Cluster F2",
         "orientation": "v",
         "showlegend": true,
         "type": "histogram",
         "x": [
          "Software Defect Prediction",
          "Software Fault Prediction Metrics",
          "Business Process Meta Models",
          "Data Stream Processing Latency",
          "Software Process Line",
          "Internet of Things in Healthcare",
          "AI on Edge Devices",
          "Green Warehousing",
          "Nanopharmaceuticals OR Nanonutraceuticals",
          "Perovskite Solar Cells Stability",
          "Sustainable Biofuel Economy",
          "Tourism Growth Nexus",
          "Drones in Agriculture",
          "Cervical Myelopathy",
          "Resilience in Business and management",
          "Synthetic Biology",
          "Crop Yield Prediction",
          "Soft Robotics",
          "Robotic Arthroplasty"
         ],
         "xaxis": "x2",
         "y": [
          0.07,
          0.54,
          0.4,
          0.11,
          0.38,
          0.12,
          0.01,
          0.15,
          0.01,
          0.1,
          0.02,
          0.05,
          0.19,
          0.27,
          0.17,
          0.26,
          0.22,
          0.26,
          0.18
         ],
         "yaxis": "y2"
        },
        {
         "alignmentgroup": "True",
         "bingroup": "x",
         "histfunc": "sum",
         "hovertemplate": "variable=Cluster F2<br>Index=Baseline<br>Topic=%{x}<br>sum of value=%{y}<extra></extra>",
         "legendgroup": "Cluster F2",
         "marker": {
          "color": "rgb(129,114,179)",
          "pattern": {
           "shape": ""
          }
         },
         "name": "Cluster F2",
         "offsetgroup": "Cluster F2",
         "orientation": "v",
         "showlegend": false,
         "type": "histogram",
         "x": [
          "Software Defect Prediction",
          "Software Fault Prediction Metrics",
          "Business Process Meta Models",
          "Data Stream Processing Latency",
          "Software Process Line",
          "Internet of Things in Healthcare",
          "AI on Edge Devices",
          "Green Warehousing",
          "Perovskite Solar Cells Stability",
          "Sustainable Biofuel Economy",
          "Tourism Growth Nexus",
          "Cervical Myelopathy",
          "Synthetic Biology",
          "Crop Yield Prediction",
          "Soft Robotics",
          "Robotic Arthroplasty"
         ],
         "xaxis": "x",
         "y": [
          0.28,
          0.21,
          0.31,
          0.21,
          0.24,
          0.28,
          0.1,
          0.18,
          0.53,
          0.02,
          0.09,
          0.52,
          0.18,
          0.45,
          0.35,
          0.67
         ],
         "yaxis": "y"
        },
        {
         "alignmentgroup": "True",
         "bingroup": "x",
         "histfunc": "sum",
         "hovertemplate": "variable=MVEE Precision<br>Index=Predicted<br>Topic=%{x}<br>sum of value=%{y}<extra></extra>",
         "legendgroup": "MVEE Precision",
         "marker": {
          "color": "rgb(147,120,96)",
          "pattern": {
           "shape": ""
          }
         },
         "name": "MVEE Precision",
         "offsetgroup": "MVEE Precision",
         "orientation": "v",
         "showlegend": true,
         "type": "histogram",
         "x": [
          "Software Defect Prediction",
          "Software Fault Prediction Metrics",
          "Business Process Meta Models",
          "Data Stream Processing Latency",
          "Software Process Line",
          "Internet of Things in Healthcare",
          "AI on Edge Devices",
          "Green Warehousing",
          "Nanopharmaceuticals OR Nanonutraceuticals",
          "Perovskite Solar Cells Stability",
          "Sustainable Biofuel Economy",
          "Tourism Growth Nexus",
          "Drones in Agriculture",
          "Cervical Myelopathy",
          "Resilience in Business and management",
          "Synthetic Biology",
          "Crop Yield Prediction",
          "Soft Robotics",
          "Robotic Arthroplasty"
         ],
         "xaxis": "x2",
         "y": [
          0.023,
          0.176,
          0.471,
          0.269,
          0.287,
          0.436,
          0.301,
          0.299,
          0,
          0.979,
          0.636,
          0,
          0.133,
          0.577,
          0.103,
          0.741,
          0.398,
          0.313,
          0.135
         ],
         "yaxis": "y2"
        },
        {
         "alignmentgroup": "True",
         "bingroup": "x",
         "histfunc": "sum",
         "hovertemplate": "variable=MVEE Precision<br>Index=Baseline<br>Topic=%{x}<br>sum of value=%{y}<extra></extra>",
         "legendgroup": "MVEE Precision",
         "marker": {
          "color": "rgb(147,120,96)",
          "pattern": {
           "shape": ""
          }
         },
         "name": "MVEE Precision",
         "offsetgroup": "MVEE Precision",
         "orientation": "v",
         "showlegend": false,
         "type": "histogram",
         "x": [
          "Software Defect Prediction",
          "Software Fault Prediction Metrics",
          "Business Process Meta Models",
          "Data Stream Processing Latency",
          "Software Process Line",
          "Internet of Things in Healthcare",
          "AI on Edge Devices",
          "Green Warehousing",
          "Perovskite Solar Cells Stability",
          "Sustainable Biofuel Economy",
          "Tourism Growth Nexus",
          "Cervical Myelopathy",
          "Synthetic Biology",
          "Crop Yield Prediction",
          "Soft Robotics",
          "Robotic Arthroplasty"
         ],
         "xaxis": "x",
         "y": [
          0.642,
          0.194,
          0.323,
          0.401,
          0.102,
          0.587,
          0.07,
          0.198,
          0.984,
          0,
          0,
          0.663,
          0.085,
          0.692,
          0.61,
          0.838
         ],
         "yaxis": "y"
        },
        {
         "alignmentgroup": "True",
         "bingroup": "x",
         "histfunc": "sum",
         "hovertemplate": "variable=MVEE F2<br>Index=Predicted<br>Topic=%{x}<br>sum of value=%{y}<extra></extra>",
         "legendgroup": "MVEE F2",
         "marker": {
          "color": "rgb(218,139,195)",
          "pattern": {
           "shape": ""
          }
         },
         "name": "MVEE F2",
         "offsetgroup": "MVEE F2",
         "orientation": "v",
         "showlegend": true,
         "type": "histogram",
         "x": [
          "Software Defect Prediction",
          "Software Fault Prediction Metrics",
          "Business Process Meta Models",
          "Data Stream Processing Latency",
          "Software Process Line",
          "Internet of Things in Healthcare",
          "AI on Edge Devices",
          "Green Warehousing",
          "Nanopharmaceuticals OR Nanonutraceuticals",
          "Perovskite Solar Cells Stability",
          "Sustainable Biofuel Economy",
          "Tourism Growth Nexus",
          "Drones in Agriculture",
          "Cervical Myelopathy",
          "Resilience in Business and management",
          "Synthetic Biology",
          "Crop Yield Prediction",
          "Soft Robotics",
          "Robotic Arthroplasty"
         ],
         "xaxis": "x2",
         "y": [
          0.11,
          0.47,
          0.81,
          0.65,
          0.67,
          0.14,
          0.22,
          0.26,
          0,
          0,
          0.06,
          0,
          0.32,
          0.05,
          0.29,
          0,
          0.12,
          0.21,
          0.4
         ],
         "yaxis": "y2"
        },
        {
         "alignmentgroup": "True",
         "bingroup": "x",
         "histfunc": "sum",
         "hovertemplate": "variable=MVEE F2<br>Index=Baseline<br>Topic=%{x}<br>sum of value=%{y}<extra></extra>",
         "legendgroup": "MVEE F2",
         "marker": {
          "color": "rgb(218,139,195)",
          "pattern": {
           "shape": ""
          }
         },
         "name": "MVEE F2",
         "offsetgroup": "MVEE F2",
         "orientation": "v",
         "showlegend": false,
         "type": "histogram",
         "x": [
          "Software Defect Prediction",
          "Software Fault Prediction Metrics",
          "Business Process Meta Models",
          "Data Stream Processing Latency",
          "Software Process Line",
          "Internet of Things in Healthcare",
          "AI on Edge Devices",
          "Green Warehousing",
          "Perovskite Solar Cells Stability",
          "Sustainable Biofuel Economy",
          "Tourism Growth Nexus",
          "Cervical Myelopathy",
          "Synthetic Biology",
          "Crop Yield Prediction",
          "Soft Robotics",
          "Robotic Arthroplasty"
         ],
         "xaxis": "x",
         "y": [
          0.87,
          0.55,
          0.7,
          0.76,
          0.35,
          0.65,
          0.27,
          0.55,
          0.43,
          0,
          0,
          0.75,
          0.29,
          0.79,
          0.58,
          0.95
         ],
         "yaxis": "y"
        },
        {
         "alignmentgroup": "True",
         "bingroup": "x",
         "histfunc": "sum",
         "hovertemplate": "variable=Hull Precision<br>Index=Predicted<br>Topic=%{x}<br>sum of value=%{y}<extra></extra>",
         "legendgroup": "Hull Precision",
         "marker": {
          "color": "rgb(140,140,140)",
          "pattern": {
           "shape": ""
          }
         },
         "name": "Hull Precision",
         "offsetgroup": "Hull Precision",
         "orientation": "v",
         "showlegend": true,
         "type": "histogram",
         "x": [
          "Software Defect Prediction",
          "Software Fault Prediction Metrics",
          "Business Process Meta Models",
          "Data Stream Processing Latency",
          "Software Process Line",
          "Internet of Things in Healthcare",
          "AI on Edge Devices",
          "Green Warehousing",
          "Nanopharmaceuticals OR Nanonutraceuticals",
          "Perovskite Solar Cells Stability",
          "Sustainable Biofuel Economy",
          "Tourism Growth Nexus",
          "Drones in Agriculture",
          "Cervical Myelopathy",
          "Resilience in Business and management",
          "Synthetic Biology",
          "Crop Yield Prediction",
          "Soft Robotics",
          "Robotic Arthroplasty"
         ],
         "xaxis": "x2",
         "y": [
          0.013,
          0.119,
          0.4,
          0.215,
          0.287,
          0.354,
          0.141,
          0.155,
          0,
          0.954,
          0.402,
          0,
          0.061,
          0.505,
          0.046,
          0.382,
          0.305,
          0.226,
          0.112
         ],
         "yaxis": "y2"
        },
        {
         "alignmentgroup": "True",
         "bingroup": "x",
         "histfunc": "sum",
         "hovertemplate": "variable=Hull Precision<br>Index=Baseline<br>Topic=%{x}<br>sum of value=%{y}<extra></extra>",
         "legendgroup": "Hull Precision",
         "marker": {
          "color": "rgb(140,140,140)",
          "pattern": {
           "shape": ""
          }
         },
         "name": "Hull Precision",
         "offsetgroup": "Hull Precision",
         "orientation": "v",
         "showlegend": false,
         "type": "histogram",
         "x": [
          "Software Defect Prediction",
          "Software Fault Prediction Metrics",
          "Business Process Meta Models",
          "Data Stream Processing Latency",
          "Software Process Line",
          "Internet of Things in Healthcare",
          "AI on Edge Devices",
          "Green Warehousing",
          "Perovskite Solar Cells Stability",
          "Sustainable Biofuel Economy",
          "Tourism Growth Nexus",
          "Cervical Myelopathy",
          "Synthetic Biology",
          "Crop Yield Prediction",
          "Soft Robotics",
          "Robotic Arthroplasty"
         ],
         "xaxis": "x",
         "y": [
          0.511,
          0.155,
          0.228,
          0.298,
          0.065,
          0.48,
          0.032,
          0.118,
          0.912,
          0,
          0,
          0.56,
          0.047,
          0.57,
          0.423,
          0.752
         ],
         "yaxis": "y"
        },
        {
         "alignmentgroup": "True",
         "bingroup": "x",
         "histfunc": "sum",
         "hovertemplate": "variable=Hull F2<br>Index=Predicted<br>Topic=%{x}<br>sum of value=%{y}<extra></extra>",
         "legendgroup": "Hull F2",
         "marker": {
          "color": "rgb(204,185,116)",
          "pattern": {
           "shape": ""
          }
         },
         "name": "Hull F2",
         "offsetgroup": "Hull F2",
         "orientation": "v",
         "showlegend": true,
         "type": "histogram",
         "x": [
          "Software Defect Prediction",
          "Software Fault Prediction Metrics",
          "Business Process Meta Models",
          "Data Stream Processing Latency",
          "Software Process Line",
          "Internet of Things in Healthcare",
          "AI on Edge Devices",
          "Green Warehousing",
          "Nanopharmaceuticals OR Nanonutraceuticals",
          "Perovskite Solar Cells Stability",
          "Sustainable Biofuel Economy",
          "Tourism Growth Nexus",
          "Drones in Agriculture",
          "Cervical Myelopathy",
          "Resilience in Business and management",
          "Synthetic Biology",
          "Crop Yield Prediction",
          "Soft Robotics",
          "Robotic Arthroplasty"
         ],
         "xaxis": "x2",
         "y": [
          0.06,
          0.38,
          0.77,
          0.58,
          0.67,
          0.23,
          0.31,
          0.33,
          0,
          0,
          0.26,
          0,
          0.22,
          0.1,
          0.18,
          0.15,
          0.22,
          0.3,
          0.36
         ],
         "yaxis": "y2"
        },
        {
         "alignmentgroup": "True",
         "bingroup": "x",
         "histfunc": "sum",
         "hovertemplate": "variable=Hull F2<br>Index=Baseline<br>Topic=%{x}<br>sum of value=%{y}<extra></extra>",
         "legendgroup": "Hull F2",
         "marker": {
          "color": "rgb(204,185,116)",
          "pattern": {
           "shape": ""
          }
         },
         "name": "Hull F2",
         "offsetgroup": "Hull F2",
         "orientation": "v",
         "showlegend": false,
         "type": "histogram",
         "x": [
          "Software Defect Prediction",
          "Software Fault Prediction Metrics",
          "Business Process Meta Models",
          "Data Stream Processing Latency",
          "Software Process Line",
          "Internet of Things in Healthcare",
          "AI on Edge Devices",
          "Green Warehousing",
          "Perovskite Solar Cells Stability",
          "Sustainable Biofuel Economy",
          "Tourism Growth Nexus",
          "Cervical Myelopathy",
          "Synthetic Biology",
          "Crop Yield Prediction",
          "Soft Robotics",
          "Robotic Arthroplasty"
         ],
         "xaxis": "x",
         "y": [
          0.82,
          0.48,
          0.6,
          0.68,
          0.25,
          0.65,
          0.14,
          0.4,
          0.48,
          0,
          0,
          0.74,
          0.19,
          0.77,
          0.6,
          0.92
         ],
         "yaxis": "y"
        }
       ],
       "layout": {
        "annotations": [
         {
          "font": {},
          "showarrow": false,
          "text": "Baseline",
          "textangle": 90,
          "x": 0.98,
          "xanchor": "left",
          "xref": "paper",
          "y": 0.225,
          "yanchor": "middle",
          "yref": "paper"
         },
         {
          "font": {},
          "showarrow": false,
          "text": "Predicted",
          "textangle": 90,
          "x": 0.98,
          "xanchor": "left",
          "xref": "paper",
          "y": 0.775,
          "yanchor": "middle",
          "yref": "paper"
         }
        ],
        "barmode": "group",
        "legend": {
         "title": {
          "text": "variable"
         },
         "tracegroupgap": 0
        },
        "template": {
         "data": {
          "bar": [
           {
            "error_x": {
             "color": "rgb(36,36,36)"
            },
            "error_y": {
             "color": "rgb(36,36,36)"
            },
            "marker": {
             "line": {
              "color": "rgb(234,234,242)",
              "width": 0.5
             },
             "pattern": {
              "fillmode": "overlay",
              "size": 10,
              "solidity": 0.2
             }
            },
            "type": "bar"
           }
          ],
          "barpolar": [
           {
            "marker": {
             "line": {
              "color": "rgb(234,234,242)",
              "width": 0.5
             },
             "pattern": {
              "fillmode": "overlay",
              "size": 10,
              "solidity": 0.2
             }
            },
            "type": "barpolar"
           }
          ],
          "carpet": [
           {
            "aaxis": {
             "endlinecolor": "rgb(36,36,36)",
             "gridcolor": "white",
             "linecolor": "white",
             "minorgridcolor": "white",
             "startlinecolor": "rgb(36,36,36)"
            },
            "baxis": {
             "endlinecolor": "rgb(36,36,36)",
             "gridcolor": "white",
             "linecolor": "white",
             "minorgridcolor": "white",
             "startlinecolor": "rgb(36,36,36)"
            },
            "type": "carpet"
           }
          ],
          "choropleth": [
           {
            "colorbar": {
             "outlinewidth": 0,
             "tickcolor": "rgb(36,36,36)",
             "ticklen": 8,
             "ticks": "outside",
             "tickwidth": 2
            },
            "type": "choropleth"
           }
          ],
          "contour": [
           {
            "colorbar": {
             "outlinewidth": 0,
             "tickcolor": "rgb(36,36,36)",
             "ticklen": 8,
             "ticks": "outside",
             "tickwidth": 2
            },
            "colorscale": [
             [
              0,
              "rgb(2,4,25)"
             ],
             [
              0.06274509803921569,
              "rgb(24,15,41)"
             ],
             [
              0.12549019607843137,
              "rgb(47,23,57)"
             ],
             [
              0.18823529411764706,
              "rgb(71,28,72)"
             ],
             [
              0.25098039215686274,
              "rgb(97,30,82)"
             ],
             [
              0.3137254901960784,
              "rgb(123,30,89)"
             ],
             [
              0.3764705882352941,
              "rgb(150,27,91)"
             ],
             [
              0.4392156862745098,
              "rgb(177,22,88)"
             ],
             [
              0.5019607843137255,
              "rgb(203,26,79)"
             ],
             [
              0.5647058823529412,
              "rgb(223,47,67)"
             ],
             [
              0.6274509803921569,
              "rgb(236,76,61)"
             ],
             [
              0.6901960784313725,
              "rgb(242,107,73)"
             ],
             [
              0.7529411764705882,
              "rgb(244,135,95)"
             ],
             [
              0.8156862745098039,
              "rgb(245,162,122)"
             ],
             [
              0.8784313725490196,
              "rgb(246,188,153)"
             ],
             [
              0.9411764705882353,
              "rgb(247,212,187)"
             ],
             [
              1,
              "rgb(250,234,220)"
             ]
            ],
            "type": "contour"
           }
          ],
          "contourcarpet": [
           {
            "colorbar": {
             "outlinewidth": 0,
             "tickcolor": "rgb(36,36,36)",
             "ticklen": 8,
             "ticks": "outside",
             "tickwidth": 2
            },
            "type": "contourcarpet"
           }
          ],
          "heatmap": [
           {
            "colorbar": {
             "outlinewidth": 0,
             "tickcolor": "rgb(36,36,36)",
             "ticklen": 8,
             "ticks": "outside",
             "tickwidth": 2
            },
            "colorscale": [
             [
              0,
              "rgb(2,4,25)"
             ],
             [
              0.06274509803921569,
              "rgb(24,15,41)"
             ],
             [
              0.12549019607843137,
              "rgb(47,23,57)"
             ],
             [
              0.18823529411764706,
              "rgb(71,28,72)"
             ],
             [
              0.25098039215686274,
              "rgb(97,30,82)"
             ],
             [
              0.3137254901960784,
              "rgb(123,30,89)"
             ],
             [
              0.3764705882352941,
              "rgb(150,27,91)"
             ],
             [
              0.4392156862745098,
              "rgb(177,22,88)"
             ],
             [
              0.5019607843137255,
              "rgb(203,26,79)"
             ],
             [
              0.5647058823529412,
              "rgb(223,47,67)"
             ],
             [
              0.6274509803921569,
              "rgb(236,76,61)"
             ],
             [
              0.6901960784313725,
              "rgb(242,107,73)"
             ],
             [
              0.7529411764705882,
              "rgb(244,135,95)"
             ],
             [
              0.8156862745098039,
              "rgb(245,162,122)"
             ],
             [
              0.8784313725490196,
              "rgb(246,188,153)"
             ],
             [
              0.9411764705882353,
              "rgb(247,212,187)"
             ],
             [
              1,
              "rgb(250,234,220)"
             ]
            ],
            "type": "heatmap"
           }
          ],
          "heatmapgl": [
           {
            "colorbar": {
             "outlinewidth": 0,
             "tickcolor": "rgb(36,36,36)",
             "ticklen": 8,
             "ticks": "outside",
             "tickwidth": 2
            },
            "colorscale": [
             [
              0,
              "rgb(2,4,25)"
             ],
             [
              0.06274509803921569,
              "rgb(24,15,41)"
             ],
             [
              0.12549019607843137,
              "rgb(47,23,57)"
             ],
             [
              0.18823529411764706,
              "rgb(71,28,72)"
             ],
             [
              0.25098039215686274,
              "rgb(97,30,82)"
             ],
             [
              0.3137254901960784,
              "rgb(123,30,89)"
             ],
             [
              0.3764705882352941,
              "rgb(150,27,91)"
             ],
             [
              0.4392156862745098,
              "rgb(177,22,88)"
             ],
             [
              0.5019607843137255,
              "rgb(203,26,79)"
             ],
             [
              0.5647058823529412,
              "rgb(223,47,67)"
             ],
             [
              0.6274509803921569,
              "rgb(236,76,61)"
             ],
             [
              0.6901960784313725,
              "rgb(242,107,73)"
             ],
             [
              0.7529411764705882,
              "rgb(244,135,95)"
             ],
             [
              0.8156862745098039,
              "rgb(245,162,122)"
             ],
             [
              0.8784313725490196,
              "rgb(246,188,153)"
             ],
             [
              0.9411764705882353,
              "rgb(247,212,187)"
             ],
             [
              1,
              "rgb(250,234,220)"
             ]
            ],
            "type": "heatmapgl"
           }
          ],
          "histogram": [
           {
            "marker": {
             "pattern": {
              "fillmode": "overlay",
              "size": 10,
              "solidity": 0.2
             }
            },
            "type": "histogram"
           }
          ],
          "histogram2d": [
           {
            "colorbar": {
             "outlinewidth": 0,
             "tickcolor": "rgb(36,36,36)",
             "ticklen": 8,
             "ticks": "outside",
             "tickwidth": 2
            },
            "colorscale": [
             [
              0,
              "rgb(2,4,25)"
             ],
             [
              0.06274509803921569,
              "rgb(24,15,41)"
             ],
             [
              0.12549019607843137,
              "rgb(47,23,57)"
             ],
             [
              0.18823529411764706,
              "rgb(71,28,72)"
             ],
             [
              0.25098039215686274,
              "rgb(97,30,82)"
             ],
             [
              0.3137254901960784,
              "rgb(123,30,89)"
             ],
             [
              0.3764705882352941,
              "rgb(150,27,91)"
             ],
             [
              0.4392156862745098,
              "rgb(177,22,88)"
             ],
             [
              0.5019607843137255,
              "rgb(203,26,79)"
             ],
             [
              0.5647058823529412,
              "rgb(223,47,67)"
             ],
             [
              0.6274509803921569,
              "rgb(236,76,61)"
             ],
             [
              0.6901960784313725,
              "rgb(242,107,73)"
             ],
             [
              0.7529411764705882,
              "rgb(244,135,95)"
             ],
             [
              0.8156862745098039,
              "rgb(245,162,122)"
             ],
             [
              0.8784313725490196,
              "rgb(246,188,153)"
             ],
             [
              0.9411764705882353,
              "rgb(247,212,187)"
             ],
             [
              1,
              "rgb(250,234,220)"
             ]
            ],
            "type": "histogram2d"
           }
          ],
          "histogram2dcontour": [
           {
            "colorbar": {
             "outlinewidth": 0,
             "tickcolor": "rgb(36,36,36)",
             "ticklen": 8,
             "ticks": "outside",
             "tickwidth": 2
            },
            "colorscale": [
             [
              0,
              "rgb(2,4,25)"
             ],
             [
              0.06274509803921569,
              "rgb(24,15,41)"
             ],
             [
              0.12549019607843137,
              "rgb(47,23,57)"
             ],
             [
              0.18823529411764706,
              "rgb(71,28,72)"
             ],
             [
              0.25098039215686274,
              "rgb(97,30,82)"
             ],
             [
              0.3137254901960784,
              "rgb(123,30,89)"
             ],
             [
              0.3764705882352941,
              "rgb(150,27,91)"
             ],
             [
              0.4392156862745098,
              "rgb(177,22,88)"
             ],
             [
              0.5019607843137255,
              "rgb(203,26,79)"
             ],
             [
              0.5647058823529412,
              "rgb(223,47,67)"
             ],
             [
              0.6274509803921569,
              "rgb(236,76,61)"
             ],
             [
              0.6901960784313725,
              "rgb(242,107,73)"
             ],
             [
              0.7529411764705882,
              "rgb(244,135,95)"
             ],
             [
              0.8156862745098039,
              "rgb(245,162,122)"
             ],
             [
              0.8784313725490196,
              "rgb(246,188,153)"
             ],
             [
              0.9411764705882353,
              "rgb(247,212,187)"
             ],
             [
              1,
              "rgb(250,234,220)"
             ]
            ],
            "type": "histogram2dcontour"
           }
          ],
          "mesh3d": [
           {
            "colorbar": {
             "outlinewidth": 0,
             "tickcolor": "rgb(36,36,36)",
             "ticklen": 8,
             "ticks": "outside",
             "tickwidth": 2
            },
            "type": "mesh3d"
           }
          ],
          "parcoords": [
           {
            "line": {
             "colorbar": {
              "outlinewidth": 0,
              "tickcolor": "rgb(36,36,36)",
              "ticklen": 8,
              "ticks": "outside",
              "tickwidth": 2
             }
            },
            "type": "parcoords"
           }
          ],
          "pie": [
           {
            "automargin": true,
            "type": "pie"
           }
          ],
          "scatter": [
           {
            "fillpattern": {
             "fillmode": "overlay",
             "size": 10,
             "solidity": 0.2
            },
            "type": "scatter"
           }
          ],
          "scatter3d": [
           {
            "line": {
             "colorbar": {
              "outlinewidth": 0,
              "tickcolor": "rgb(36,36,36)",
              "ticklen": 8,
              "ticks": "outside",
              "tickwidth": 2
             }
            },
            "marker": {
             "colorbar": {
              "outlinewidth": 0,
              "tickcolor": "rgb(36,36,36)",
              "ticklen": 8,
              "ticks": "outside",
              "tickwidth": 2
             }
            },
            "type": "scatter3d"
           }
          ],
          "scattercarpet": [
           {
            "marker": {
             "colorbar": {
              "outlinewidth": 0,
              "tickcolor": "rgb(36,36,36)",
              "ticklen": 8,
              "ticks": "outside",
              "tickwidth": 2
             }
            },
            "type": "scattercarpet"
           }
          ],
          "scattergeo": [
           {
            "marker": {
             "colorbar": {
              "outlinewidth": 0,
              "tickcolor": "rgb(36,36,36)",
              "ticklen": 8,
              "ticks": "outside",
              "tickwidth": 2
             }
            },
            "type": "scattergeo"
           }
          ],
          "scattergl": [
           {
            "marker": {
             "colorbar": {
              "outlinewidth": 0,
              "tickcolor": "rgb(36,36,36)",
              "ticklen": 8,
              "ticks": "outside",
              "tickwidth": 2
             }
            },
            "type": "scattergl"
           }
          ],
          "scattermapbox": [
           {
            "marker": {
             "colorbar": {
              "outlinewidth": 0,
              "tickcolor": "rgb(36,36,36)",
              "ticklen": 8,
              "ticks": "outside",
              "tickwidth": 2
             }
            },
            "type": "scattermapbox"
           }
          ],
          "scatterpolar": [
           {
            "marker": {
             "colorbar": {
              "outlinewidth": 0,
              "tickcolor": "rgb(36,36,36)",
              "ticklen": 8,
              "ticks": "outside",
              "tickwidth": 2
             }
            },
            "type": "scatterpolar"
           }
          ],
          "scatterpolargl": [
           {
            "marker": {
             "colorbar": {
              "outlinewidth": 0,
              "tickcolor": "rgb(36,36,36)",
              "ticklen": 8,
              "ticks": "outside",
              "tickwidth": 2
             }
            },
            "type": "scatterpolargl"
           }
          ],
          "scatterternary": [
           {
            "marker": {
             "colorbar": {
              "outlinewidth": 0,
              "tickcolor": "rgb(36,36,36)",
              "ticklen": 8,
              "ticks": "outside",
              "tickwidth": 2
             }
            },
            "type": "scatterternary"
           }
          ],
          "surface": [
           {
            "colorbar": {
             "outlinewidth": 0,
             "tickcolor": "rgb(36,36,36)",
             "ticklen": 8,
             "ticks": "outside",
             "tickwidth": 2
            },
            "colorscale": [
             [
              0,
              "rgb(2,4,25)"
             ],
             [
              0.06274509803921569,
              "rgb(24,15,41)"
             ],
             [
              0.12549019607843137,
              "rgb(47,23,57)"
             ],
             [
              0.18823529411764706,
              "rgb(71,28,72)"
             ],
             [
              0.25098039215686274,
              "rgb(97,30,82)"
             ],
             [
              0.3137254901960784,
              "rgb(123,30,89)"
             ],
             [
              0.3764705882352941,
              "rgb(150,27,91)"
             ],
             [
              0.4392156862745098,
              "rgb(177,22,88)"
             ],
             [
              0.5019607843137255,
              "rgb(203,26,79)"
             ],
             [
              0.5647058823529412,
              "rgb(223,47,67)"
             ],
             [
              0.6274509803921569,
              "rgb(236,76,61)"
             ],
             [
              0.6901960784313725,
              "rgb(242,107,73)"
             ],
             [
              0.7529411764705882,
              "rgb(244,135,95)"
             ],
             [
              0.8156862745098039,
              "rgb(245,162,122)"
             ],
             [
              0.8784313725490196,
              "rgb(246,188,153)"
             ],
             [
              0.9411764705882353,
              "rgb(247,212,187)"
             ],
             [
              1,
              "rgb(250,234,220)"
             ]
            ],
            "type": "surface"
           }
          ],
          "table": [
           {
            "cells": {
             "fill": {
              "color": "rgb(231,231,240)"
             },
             "line": {
              "color": "white"
             }
            },
            "header": {
             "fill": {
              "color": "rgb(183,183,191)"
             },
             "line": {
              "color": "white"
             }
            },
            "type": "table"
           }
          ]
         },
         "layout": {
          "annotationdefaults": {
           "arrowcolor": "rgb(67,103,167)"
          },
          "autotypenumbers": "strict",
          "coloraxis": {
           "colorbar": {
            "outlinewidth": 0,
            "tickcolor": "rgb(36,36,36)",
            "ticklen": 8,
            "ticks": "outside",
            "tickwidth": 2
           }
          },
          "colorscale": {
           "sequential": [
            [
             0,
             "rgb(2,4,25)"
            ],
            [
             0.06274509803921569,
             "rgb(24,15,41)"
            ],
            [
             0.12549019607843137,
             "rgb(47,23,57)"
            ],
            [
             0.18823529411764706,
             "rgb(71,28,72)"
            ],
            [
             0.25098039215686274,
             "rgb(97,30,82)"
            ],
            [
             0.3137254901960784,
             "rgb(123,30,89)"
            ],
            [
             0.3764705882352941,
             "rgb(150,27,91)"
            ],
            [
             0.4392156862745098,
             "rgb(177,22,88)"
            ],
            [
             0.5019607843137255,
             "rgb(203,26,79)"
            ],
            [
             0.5647058823529412,
             "rgb(223,47,67)"
            ],
            [
             0.6274509803921569,
             "rgb(236,76,61)"
            ],
            [
             0.6901960784313725,
             "rgb(242,107,73)"
            ],
            [
             0.7529411764705882,
             "rgb(244,135,95)"
            ],
            [
             0.8156862745098039,
             "rgb(245,162,122)"
            ],
            [
             0.8784313725490196,
             "rgb(246,188,153)"
            ],
            [
             0.9411764705882353,
             "rgb(247,212,187)"
            ],
            [
             1,
             "rgb(250,234,220)"
            ]
           ],
           "sequentialminus": [
            [
             0,
             "rgb(2,4,25)"
            ],
            [
             0.06274509803921569,
             "rgb(24,15,41)"
            ],
            [
             0.12549019607843137,
             "rgb(47,23,57)"
            ],
            [
             0.18823529411764706,
             "rgb(71,28,72)"
            ],
            [
             0.25098039215686274,
             "rgb(97,30,82)"
            ],
            [
             0.3137254901960784,
             "rgb(123,30,89)"
            ],
            [
             0.3764705882352941,
             "rgb(150,27,91)"
            ],
            [
             0.4392156862745098,
             "rgb(177,22,88)"
            ],
            [
             0.5019607843137255,
             "rgb(203,26,79)"
            ],
            [
             0.5647058823529412,
             "rgb(223,47,67)"
            ],
            [
             0.6274509803921569,
             "rgb(236,76,61)"
            ],
            [
             0.6901960784313725,
             "rgb(242,107,73)"
            ],
            [
             0.7529411764705882,
             "rgb(244,135,95)"
            ],
            [
             0.8156862745098039,
             "rgb(245,162,122)"
            ],
            [
             0.8784313725490196,
             "rgb(246,188,153)"
            ],
            [
             0.9411764705882353,
             "rgb(247,212,187)"
            ],
            [
             1,
             "rgb(250,234,220)"
            ]
           ]
          },
          "colorway": [
           "rgb(76,114,176)",
           "rgb(221,132,82)",
           "rgb(85,168,104)",
           "rgb(196,78,82)",
           "rgb(129,114,179)",
           "rgb(147,120,96)",
           "rgb(218,139,195)",
           "rgb(140,140,140)",
           "rgb(204,185,116)",
           "rgb(100,181,205)"
          ],
          "font": {
           "color": "rgb(36,36,36)"
          },
          "geo": {
           "bgcolor": "white",
           "lakecolor": "white",
           "landcolor": "rgb(234,234,242)",
           "showlakes": true,
           "showland": true,
           "subunitcolor": "white"
          },
          "hoverlabel": {
           "align": "left"
          },
          "hovermode": "closest",
          "paper_bgcolor": "white",
          "plot_bgcolor": "rgb(234,234,242)",
          "polar": {
           "angularaxis": {
            "gridcolor": "white",
            "linecolor": "white",
            "showgrid": true,
            "ticks": ""
           },
           "bgcolor": "rgb(234,234,242)",
           "radialaxis": {
            "gridcolor": "white",
            "linecolor": "white",
            "showgrid": true,
            "ticks": ""
           }
          },
          "scene": {
           "xaxis": {
            "backgroundcolor": "rgb(234,234,242)",
            "gridcolor": "white",
            "gridwidth": 2,
            "linecolor": "white",
            "showbackground": true,
            "showgrid": true,
            "ticks": "",
            "zerolinecolor": "white"
           },
           "yaxis": {
            "backgroundcolor": "rgb(234,234,242)",
            "gridcolor": "white",
            "gridwidth": 2,
            "linecolor": "white",
            "showbackground": true,
            "showgrid": true,
            "ticks": "",
            "zerolinecolor": "white"
           },
           "zaxis": {
            "backgroundcolor": "rgb(234,234,242)",
            "gridcolor": "white",
            "gridwidth": 2,
            "linecolor": "white",
            "showbackground": true,
            "showgrid": true,
            "ticks": "",
            "zerolinecolor": "white"
           }
          },
          "shapedefaults": {
           "fillcolor": "rgb(67,103,167)",
           "line": {
            "width": 0
           },
           "opacity": 0.5
          },
          "ternary": {
           "aaxis": {
            "gridcolor": "white",
            "linecolor": "white",
            "showgrid": true,
            "ticks": ""
           },
           "baxis": {
            "gridcolor": "white",
            "linecolor": "white",
            "showgrid": true,
            "ticks": ""
           },
           "bgcolor": "rgb(234,234,242)",
           "caxis": {
            "gridcolor": "white",
            "linecolor": "white",
            "showgrid": true,
            "ticks": ""
           }
          },
          "xaxis": {
           "automargin": true,
           "gridcolor": "white",
           "linecolor": "white",
           "showgrid": true,
           "ticks": "",
           "title": {
            "standoff": 15
           },
           "zerolinecolor": "white"
          },
          "yaxis": {
           "automargin": true,
           "gridcolor": "white",
           "linecolor": "white",
           "showgrid": true,
           "ticks": "",
           "title": {
            "standoff": 15
           },
           "zerolinecolor": "white"
          }
         }
        },
        "title": {
         "text": "Metrics for Predicted and Baseline Queries"
        },
        "xaxis": {
         "anchor": "y",
         "domain": [
          0,
          0.98
         ],
         "title": {
          "text": "Topic"
         }
        },
        "xaxis2": {
         "anchor": "y2",
         "domain": [
          0,
          0.98
         ],
         "matches": "x",
         "showticklabels": false
        },
        "yaxis": {
         "anchor": "x",
         "domain": [
          0,
          0.45
         ],
         "dtick": 0.2,
         "title": {
          "text": ""
         }
        },
        "yaxis2": {
         "anchor": "x2",
         "domain": [
          0.55,
          1
         ],
         "dtick": 0.2,
         "matches": "y",
         "title": {
          "text": ""
         }
        }
       }
      }
     },
     "metadata": {},
     "output_type": "display_data"
    }
   ],
   "source": [
    "fig = px.histogram(plt_df, x=\"Topic\", y=[\"Recall\", \"Cosine Precision\",\n",
    "                                         \"Cosine F2\", \"Cosine F2\",\n",
    "                                         \"Cluster Precision\", \"Cluster F2\",\n",
    "                                         \"MVEE Precision\", \"MVEE F2\",\n",
    "                                         \"Hull Precision\", \"Hull F2\"],\n",
    "                    title=\"Metrics for Predicted and Baseline Queries\", barmode=\"group\",\n",
    "                   facet_row=\"Index\", facet_row_spacing=0.1)\n",
    "\n",
    "fig.for_each_trace(lambda t: t.update(x=t.x[::-1], y=t.y[::-1]))\n",
    "fig.for_each_annotation(lambda a: a.update(text=a.text.split(\"=\")[-1]))\n",
    "fig.update_layout(yaxis1_title=\"\", yaxis2_title=\"\", yaxis1_dtick=0.2, yaxis2_dtick=0.2)\n",
    "fig.show()"
   ]
  },
  {
   "cell_type": "code",
   "execution_count": 9,
   "metadata": {},
   "outputs": [
    {
     "data": {
      "text/html": [
       "<style type=\"text/css\">\n",
       "#T_7ac3a_row0_col1, #T_7ac3a_row0_col2, #T_7ac3a_row0_col3, #T_7ac3a_row0_col5, #T_7ac3a_row0_col6, #T_7ac3a_row0_col7, #T_7ac3a_row0_col8, #T_7ac3a_row2_col6, #T_7ac3a_row2_col8, #T_7ac3a_row4_col3, #T_7ac3a_row5_col6, #T_7ac3a_row5_col8, #T_7ac3a_row7_col1, #T_7ac3a_row13_col6 {\n",
       "  background-color: #6b0801;\n",
       "}\n",
       "#T_7ac3a_row0_col4, #T_7ac3a_row1_col1, #T_7ac3a_row1_col2, #T_7ac3a_row1_col3, #T_7ac3a_row1_col4, #T_7ac3a_row1_col5, #T_7ac3a_row1_col6, #T_7ac3a_row1_col7, #T_7ac3a_row1_col8, #T_7ac3a_row2_col1, #T_7ac3a_row2_col2, #T_7ac3a_row2_col3, #T_7ac3a_row2_col4, #T_7ac3a_row2_col5, #T_7ac3a_row2_col7, #T_7ac3a_row3_col1, #T_7ac3a_row3_col3, #T_7ac3a_row3_col6, #T_7ac3a_row3_col8, #T_7ac3a_row4_col1, #T_7ac3a_row5_col1, #T_7ac3a_row5_col2, #T_7ac3a_row5_col3, #T_7ac3a_row5_col4, #T_7ac3a_row5_col5, #T_7ac3a_row5_col7, #T_7ac3a_row6_col1, #T_7ac3a_row7_col2, #T_7ac3a_row7_col4, #T_7ac3a_row8_col1, #T_7ac3a_row9_col1, #T_7ac3a_row9_col2, #T_7ac3a_row9_col3, #T_7ac3a_row9_col4, #T_7ac3a_row9_col5, #T_7ac3a_row9_col6, #T_7ac3a_row9_col8, #T_7ac3a_row10_col3, #T_7ac3a_row11_col1, #T_7ac3a_row11_col2, #T_7ac3a_row11_col3, #T_7ac3a_row11_col4, #T_7ac3a_row11_col6, #T_7ac3a_row11_col8, #T_7ac3a_row12_col1, #T_7ac3a_row12_col4, #T_7ac3a_row12_col6, #T_7ac3a_row13_col1, #T_7ac3a_row13_col2, #T_7ac3a_row13_col3, #T_7ac3a_row13_col4, #T_7ac3a_row13_col5, #T_7ac3a_row13_col7, #T_7ac3a_row13_col8 {\n",
       "  background-color: #a82b22;\n",
       "}\n",
       "</style>\n",
       "<table id=\"T_7ac3a\">\n",
       "  <caption>Difference in metrics between predicted and baseline (Negative means the baseline is better)</caption>\n",
       "  <thead>\n",
       "    <tr>\n",
       "      <th class=\"blank level0\" >&nbsp;</th>\n",
       "      <th id=\"T_7ac3a_level0_col0\" class=\"col_heading level0 col0\" >Recall</th>\n",
       "      <th id=\"T_7ac3a_level0_col1\" class=\"col_heading level0 col1\" >Cosine Precision</th>\n",
       "      <th id=\"T_7ac3a_level0_col2\" class=\"col_heading level0 col2\" >Cosine F2</th>\n",
       "      <th id=\"T_7ac3a_level0_col3\" class=\"col_heading level0 col3\" >Cluster Precision</th>\n",
       "      <th id=\"T_7ac3a_level0_col4\" class=\"col_heading level0 col4\" >Cluster F2</th>\n",
       "      <th id=\"T_7ac3a_level0_col5\" class=\"col_heading level0 col5\" >MVEE Precision</th>\n",
       "      <th id=\"T_7ac3a_level0_col6\" class=\"col_heading level0 col6\" >MVEE F2</th>\n",
       "      <th id=\"T_7ac3a_level0_col7\" class=\"col_heading level0 col7\" >Hull Precision</th>\n",
       "      <th id=\"T_7ac3a_level0_col8\" class=\"col_heading level0 col8\" >Hull F2</th>\n",
       "    </tr>\n",
       "    <tr>\n",
       "      <th class=\"index_name level0\" >Topic</th>\n",
       "      <th class=\"blank col0\" >&nbsp;</th>\n",
       "      <th class=\"blank col1\" >&nbsp;</th>\n",
       "      <th class=\"blank col2\" >&nbsp;</th>\n",
       "      <th class=\"blank col3\" >&nbsp;</th>\n",
       "      <th class=\"blank col4\" >&nbsp;</th>\n",
       "      <th class=\"blank col5\" >&nbsp;</th>\n",
       "      <th class=\"blank col6\" >&nbsp;</th>\n",
       "      <th class=\"blank col7\" >&nbsp;</th>\n",
       "      <th class=\"blank col8\" >&nbsp;</th>\n",
       "    </tr>\n",
       "  </thead>\n",
       "  <tbody>\n",
       "    <tr>\n",
       "      <th id=\"T_7ac3a_level0_row0\" class=\"row_heading level0 row0\" >Robotic Arthroplasty</th>\n",
       "      <td id=\"T_7ac3a_row0_col0\" class=\"data row0 col0\" >0.000</td>\n",
       "      <td id=\"T_7ac3a_row0_col1\" class=\"data row0 col1\" >-0.761</td>\n",
       "      <td id=\"T_7ac3a_row0_col2\" class=\"data row0 col2\" >-0.560</td>\n",
       "      <td id=\"T_7ac3a_row0_col3\" class=\"data row0 col3\" >-0.528</td>\n",
       "      <td id=\"T_7ac3a_row0_col4\" class=\"data row0 col4\" >-0.490</td>\n",
       "      <td id=\"T_7ac3a_row0_col5\" class=\"data row0 col5\" >-0.703</td>\n",
       "      <td id=\"T_7ac3a_row0_col6\" class=\"data row0 col6\" >-0.550</td>\n",
       "      <td id=\"T_7ac3a_row0_col7\" class=\"data row0 col7\" >-0.640</td>\n",
       "      <td id=\"T_7ac3a_row0_col8\" class=\"data row0 col8\" >-0.560</td>\n",
       "    </tr>\n",
       "    <tr>\n",
       "      <th id=\"T_7ac3a_level0_row1\" class=\"row_heading level0 row1\" >Soft Robotics</th>\n",
       "      <td id=\"T_7ac3a_row1_col0\" class=\"data row1 col0\" >0.111</td>\n",
       "      <td id=\"T_7ac3a_row1_col1\" class=\"data row1 col1\" >-0.134</td>\n",
       "      <td id=\"T_7ac3a_row1_col2\" class=\"data row1 col2\" >-0.130</td>\n",
       "      <td id=\"T_7ac3a_row1_col3\" class=\"data row1 col3\" >-0.147</td>\n",
       "      <td id=\"T_7ac3a_row1_col4\" class=\"data row1 col4\" >-0.090</td>\n",
       "      <td id=\"T_7ac3a_row1_col5\" class=\"data row1 col5\" >-0.297</td>\n",
       "      <td id=\"T_7ac3a_row1_col6\" class=\"data row1 col6\" >-0.370</td>\n",
       "      <td id=\"T_7ac3a_row1_col7\" class=\"data row1 col7\" >-0.197</td>\n",
       "      <td id=\"T_7ac3a_row1_col8\" class=\"data row1 col8\" >-0.300</td>\n",
       "    </tr>\n",
       "    <tr>\n",
       "      <th id=\"T_7ac3a_level0_row2\" class=\"row_heading level0 row2\" >Crop Yield Prediction</th>\n",
       "      <td id=\"T_7ac3a_row2_col0\" class=\"data row2 col0\" >0.109</td>\n",
       "      <td id=\"T_7ac3a_row2_col1\" class=\"data row2 col1\" >-0.280</td>\n",
       "      <td id=\"T_7ac3a_row2_col2\" class=\"data row2 col2\" >-0.210</td>\n",
       "      <td id=\"T_7ac3a_row2_col3\" class=\"data row2 col3\" >-0.118</td>\n",
       "      <td id=\"T_7ac3a_row2_col4\" class=\"data row2 col4\" >-0.230</td>\n",
       "      <td id=\"T_7ac3a_row2_col5\" class=\"data row2 col5\" >-0.294</td>\n",
       "      <td id=\"T_7ac3a_row2_col6\" class=\"data row2 col6\" >-0.670</td>\n",
       "      <td id=\"T_7ac3a_row2_col7\" class=\"data row2 col7\" >-0.265</td>\n",
       "      <td id=\"T_7ac3a_row2_col8\" class=\"data row2 col8\" >-0.550</td>\n",
       "    </tr>\n",
       "    <tr>\n",
       "      <th id=\"T_7ac3a_level0_row3\" class=\"row_heading level0 row3\" >Synthetic Biology</th>\n",
       "      <td id=\"T_7ac3a_row3_col0\" class=\"data row3 col0\" >0.310</td>\n",
       "      <td id=\"T_7ac3a_row3_col1\" class=\"data row3 col1\" >-0.050</td>\n",
       "      <td id=\"T_7ac3a_row3_col2\" class=\"data row3 col2\" >0.030</td>\n",
       "      <td id=\"T_7ac3a_row3_col3\" class=\"data row3 col3\" >-0.185</td>\n",
       "      <td id=\"T_7ac3a_row3_col4\" class=\"data row3 col4\" >0.080</td>\n",
       "      <td id=\"T_7ac3a_row3_col5\" class=\"data row3 col5\" >0.656</td>\n",
       "      <td id=\"T_7ac3a_row3_col6\" class=\"data row3 col6\" >-0.290</td>\n",
       "      <td id=\"T_7ac3a_row3_col7\" class=\"data row3 col7\" >0.335</td>\n",
       "      <td id=\"T_7ac3a_row3_col8\" class=\"data row3 col8\" >-0.040</td>\n",
       "    </tr>\n",
       "    <tr>\n",
       "      <th id=\"T_7ac3a_level0_row4\" class=\"row_heading level0 row4\" >Resilience in Business and management</th>\n",
       "      <td id=\"T_7ac3a_row4_col0\" class=\"data row4 col0\" >0.185</td>\n",
       "      <td id=\"T_7ac3a_row4_col1\" class=\"data row4 col1\" >-0.022</td>\n",
       "      <td id=\"T_7ac3a_row4_col2\" class=\"data row4 col2\" >0.060</td>\n",
       "      <td id=\"T_7ac3a_row4_col3\" class=\"data row4 col3\" >-0.838</td>\n",
       "      <td id=\"T_7ac3a_row4_col4\" class=\"data row4 col4\" >0.170</td>\n",
       "      <td id=\"T_7ac3a_row4_col5\" class=\"data row4 col5\" >0.103</td>\n",
       "      <td id=\"T_7ac3a_row4_col6\" class=\"data row4 col6\" >0.290</td>\n",
       "      <td id=\"T_7ac3a_row4_col7\" class=\"data row4 col7\" >0.046</td>\n",
       "      <td id=\"T_7ac3a_row4_col8\" class=\"data row4 col8\" >0.180</td>\n",
       "    </tr>\n",
       "    <tr>\n",
       "      <th id=\"T_7ac3a_level0_row5\" class=\"row_heading level0 row5\" >Cervical Myelopathy</th>\n",
       "      <td id=\"T_7ac3a_row5_col0\" class=\"data row5 col0\" >0.085</td>\n",
       "      <td id=\"T_7ac3a_row5_col1\" class=\"data row5 col1\" >-0.298</td>\n",
       "      <td id=\"T_7ac3a_row5_col2\" class=\"data row5 col2\" >-0.330</td>\n",
       "      <td id=\"T_7ac3a_row5_col3\" class=\"data row5 col3\" >-0.299</td>\n",
       "      <td id=\"T_7ac3a_row5_col4\" class=\"data row5 col4\" >-0.250</td>\n",
       "      <td id=\"T_7ac3a_row5_col5\" class=\"data row5 col5\" >-0.086</td>\n",
       "      <td id=\"T_7ac3a_row5_col6\" class=\"data row5 col6\" >-0.700</td>\n",
       "      <td id=\"T_7ac3a_row5_col7\" class=\"data row5 col7\" >-0.055</td>\n",
       "      <td id=\"T_7ac3a_row5_col8\" class=\"data row5 col8\" >-0.640</td>\n",
       "    </tr>\n",
       "    <tr>\n",
       "      <th id=\"T_7ac3a_level0_row6\" class=\"row_heading level0 row6\" >Drones in Agriculture</th>\n",
       "      <td id=\"T_7ac3a_row6_col0\" class=\"data row6 col0\" >0.480</td>\n",
       "      <td id=\"T_7ac3a_row6_col1\" class=\"data row6 col1\" >-0.184</td>\n",
       "      <td id=\"T_7ac3a_row6_col2\" class=\"data row6 col2\" >0.220</td>\n",
       "      <td id=\"T_7ac3a_row6_col3\" class=\"data row6 col3\" >0.298</td>\n",
       "      <td id=\"T_7ac3a_row6_col4\" class=\"data row6 col4\" >0.160</td>\n",
       "      <td id=\"T_7ac3a_row6_col5\" class=\"data row6 col5\" >0.133</td>\n",
       "      <td id=\"T_7ac3a_row6_col6\" class=\"data row6 col6\" >0.320</td>\n",
       "      <td id=\"T_7ac3a_row6_col7\" class=\"data row6 col7\" >0.061</td>\n",
       "      <td id=\"T_7ac3a_row6_col8\" class=\"data row6 col8\" >0.220</td>\n",
       "    </tr>\n",
       "    <tr>\n",
       "      <th id=\"T_7ac3a_level0_row7\" class=\"row_heading level0 row7\" >Tourism Growth Nexus</th>\n",
       "      <td id=\"T_7ac3a_row7_col0\" class=\"data row7 col0\" >0.000</td>\n",
       "      <td id=\"T_7ac3a_row7_col1\" class=\"data row7 col1\" >-0.562</td>\n",
       "      <td id=\"T_7ac3a_row7_col2\" class=\"data row7 col2\" >-0.070</td>\n",
       "      <td id=\"T_7ac3a_row7_col3\" class=\"data row7 col3\" >0.310</td>\n",
       "      <td id=\"T_7ac3a_row7_col4\" class=\"data row7 col4\" >-0.040</td>\n",
       "      <td id=\"T_7ac3a_row7_col5\" class=\"data row7 col5\" >0.000</td>\n",
       "      <td id=\"T_7ac3a_row7_col6\" class=\"data row7 col6\" >0.000</td>\n",
       "      <td id=\"T_7ac3a_row7_col7\" class=\"data row7 col7\" >0.000</td>\n",
       "      <td id=\"T_7ac3a_row7_col8\" class=\"data row7 col8\" >0.000</td>\n",
       "    </tr>\n",
       "    <tr>\n",
       "      <th id=\"T_7ac3a_level0_row8\" class=\"row_heading level0 row8\" >Sustainable Biofuel Economy</th>\n",
       "      <td id=\"T_7ac3a_row8_col0\" class=\"data row8 col0\" >0.260</td>\n",
       "      <td id=\"T_7ac3a_row8_col1\" class=\"data row8 col1\" >-0.122</td>\n",
       "      <td id=\"T_7ac3a_row8_col2\" class=\"data row8 col2\" >0.190</td>\n",
       "      <td id=\"T_7ac3a_row8_col3\" class=\"data row8 col3\" >0.733</td>\n",
       "      <td id=\"T_7ac3a_row8_col4\" class=\"data row8 col4\" >0.000</td>\n",
       "      <td id=\"T_7ac3a_row8_col5\" class=\"data row8 col5\" >0.636</td>\n",
       "      <td id=\"T_7ac3a_row8_col6\" class=\"data row8 col6\" >0.060</td>\n",
       "      <td id=\"T_7ac3a_row8_col7\" class=\"data row8 col7\" >0.402</td>\n",
       "      <td id=\"T_7ac3a_row8_col8\" class=\"data row8 col8\" >0.260</td>\n",
       "    </tr>\n",
       "    <tr>\n",
       "      <th id=\"T_7ac3a_level0_row9\" class=\"row_heading level0 row9\" >Perovskite Solar Cells Stability</th>\n",
       "      <td id=\"T_7ac3a_row9_col0\" class=\"data row9 col0\" >0.103</td>\n",
       "      <td id=\"T_7ac3a_row9_col1\" class=\"data row9 col1\" >-0.237</td>\n",
       "      <td id=\"T_7ac3a_row9_col2\" class=\"data row9 col2\" >-0.460</td>\n",
       "      <td id=\"T_7ac3a_row9_col3\" class=\"data row9 col3\" >-0.213</td>\n",
       "      <td id=\"T_7ac3a_row9_col4\" class=\"data row9 col4\" >-0.430</td>\n",
       "      <td id=\"T_7ac3a_row9_col5\" class=\"data row9 col5\" >-0.005</td>\n",
       "      <td id=\"T_7ac3a_row9_col6\" class=\"data row9 col6\" >-0.430</td>\n",
       "      <td id=\"T_7ac3a_row9_col7\" class=\"data row9 col7\" >0.042</td>\n",
       "      <td id=\"T_7ac3a_row9_col8\" class=\"data row9 col8\" >-0.480</td>\n",
       "    </tr>\n",
       "    <tr>\n",
       "      <th id=\"T_7ac3a_level0_row10\" class=\"row_heading level0 row10\" >Nanopharmaceuticals OR Nanonutraceuticals</th>\n",
       "      <td id=\"T_7ac3a_row10_col0\" class=\"data row10 col0\" >0.040</td>\n",
       "      <td id=\"T_7ac3a_row10_col1\" class=\"data row10 col1\" >0.003</td>\n",
       "      <td id=\"T_7ac3a_row10_col2\" class=\"data row10 col2\" >0.040</td>\n",
       "      <td id=\"T_7ac3a_row10_col3\" class=\"data row10 col3\" >-0.376</td>\n",
       "      <td id=\"T_7ac3a_row10_col4\" class=\"data row10 col4\" >0.010</td>\n",
       "      <td id=\"T_7ac3a_row10_col5\" class=\"data row10 col5\" >0.000</td>\n",
       "      <td id=\"T_7ac3a_row10_col6\" class=\"data row10 col6\" >0.000</td>\n",
       "      <td id=\"T_7ac3a_row10_col7\" class=\"data row10 col7\" >0.000</td>\n",
       "      <td id=\"T_7ac3a_row10_col8\" class=\"data row10 col8\" >0.000</td>\n",
       "    </tr>\n",
       "    <tr>\n",
       "      <th id=\"T_7ac3a_level0_row11\" class=\"row_heading level0 row11\" >Green Warehousing</th>\n",
       "      <td id=\"T_7ac3a_row11_col0\" class=\"data row11 col0\" >0.052</td>\n",
       "      <td id=\"T_7ac3a_row11_col1\" class=\"data row11 col1\" >-0.227</td>\n",
       "      <td id=\"T_7ac3a_row11_col2\" class=\"data row11 col2\" >-0.130</td>\n",
       "      <td id=\"T_7ac3a_row11_col3\" class=\"data row11 col3\" >-0.411</td>\n",
       "      <td id=\"T_7ac3a_row11_col4\" class=\"data row11 col4\" >-0.030</td>\n",
       "      <td id=\"T_7ac3a_row11_col5\" class=\"data row11 col5\" >0.101</td>\n",
       "      <td id=\"T_7ac3a_row11_col6\" class=\"data row11 col6\" >-0.290</td>\n",
       "      <td id=\"T_7ac3a_row11_col7\" class=\"data row11 col7\" >0.037</td>\n",
       "      <td id=\"T_7ac3a_row11_col8\" class=\"data row11 col8\" >-0.070</td>\n",
       "    </tr>\n",
       "    <tr>\n",
       "      <th id=\"T_7ac3a_level0_row12\" class=\"row_heading level0 row12\" >AI on Edge Devices</th>\n",
       "      <td id=\"T_7ac3a_row12_col0\" class=\"data row12 col0\" >0.250</td>\n",
       "      <td id=\"T_7ac3a_row12_col1\" class=\"data row12 col1\" >-0.227</td>\n",
       "      <td id=\"T_7ac3a_row12_col2\" class=\"data row12 col2\" >0.090</td>\n",
       "      <td id=\"T_7ac3a_row12_col3\" class=\"data row12 col3\" >0.050</td>\n",
       "      <td id=\"T_7ac3a_row12_col4\" class=\"data row12 col4\" >-0.090</td>\n",
       "      <td id=\"T_7ac3a_row12_col5\" class=\"data row12 col5\" >0.231</td>\n",
       "      <td id=\"T_7ac3a_row12_col6\" class=\"data row12 col6\" >-0.050</td>\n",
       "      <td id=\"T_7ac3a_row12_col7\" class=\"data row12 col7\" >0.109</td>\n",
       "      <td id=\"T_7ac3a_row12_col8\" class=\"data row12 col8\" >0.170</td>\n",
       "    </tr>\n",
       "    <tr>\n",
       "      <th id=\"T_7ac3a_level0_row13\" class=\"row_heading level0 row13\" >Internet of Things in Healthcare</th>\n",
       "      <td id=\"T_7ac3a_row13_col0\" class=\"data row13 col0\" >0.172</td>\n",
       "      <td id=\"T_7ac3a_row13_col1\" class=\"data row13 col1\" >-0.203</td>\n",
       "      <td id=\"T_7ac3a_row13_col2\" class=\"data row13 col2\" >-0.050</td>\n",
       "      <td id=\"T_7ac3a_row13_col3\" class=\"data row13 col3\" >-0.090</td>\n",
       "      <td id=\"T_7ac3a_row13_col4\" class=\"data row13 col4\" >-0.160</td>\n",
       "      <td id=\"T_7ac3a_row13_col5\" class=\"data row13 col5\" >-0.151</td>\n",
       "      <td id=\"T_7ac3a_row13_col6\" class=\"data row13 col6\" >-0.510</td>\n",
       "      <td id=\"T_7ac3a_row13_col7\" class=\"data row13 col7\" >-0.126</td>\n",
       "      <td id=\"T_7ac3a_row13_col8\" class=\"data row13 col8\" >-0.420</td>\n",
       "    </tr>\n",
       "  </tbody>\n",
       "</table>\n"
      ],
      "text/plain": [
       "<pandas.io.formats.style.Styler at 0x2d316469cf0>"
      ]
     },
     "metadata": {},
     "output_type": "display_data"
    }
   ],
   "source": [
    "diff_df = (results[results[\"Index\"] == \"Predicted\"][[\"Recall\",\n",
    "                                                    \"Cosine Precision\", \"Cosine F2\",\n",
    "                                                    \"Cluster Precision\", \"Cluster F2\",\n",
    "                                                    \"MVEE Precision\", \"MVEE F2\",\n",
    "                                                    \"Hull Precision\", \"Hull F2\"]].values\\\n",
    "      - results[results[\"Index\"] == \"Baseline\"][[\"Recall\",\n",
    "                                                \"Cosine Precision\",\"Cosine F2\", \n",
    "                                                \"Cluster Precision\", \"Cluster F2\",\n",
    "                                                \"MVEE Precision\", \"MVEE F2\",\n",
    "                                                \"Hull Precision\", \"Hull F2\"]].values).astype(float)\n",
    "\n",
    "diff_df = pd.DataFrame(np.round(diff_df,3), columns=[\"Recall\",\n",
    "                                                    \"Cosine Precision\",\"Cosine F2\", \n",
    "                                                    \"Cluster Precision\", \"Cluster F2\",\n",
    "                                                    \"MVEE Precision\", \"MVEE F2\",\n",
    "                                                    \"Hull Precision\", \"Hull F2\"], index=results.dropna()[\"Topic\"])\n",
    "diff_df = diff_df.style.map(lambda x: 'background-color: #6b0801' if x < -0.5 else 'background-color: #a82b22' if x < 0 else '')\n",
    "diff_df.format(\"{:.3f}\").set_caption(\"Difference in metrics between predicted and baseline (Negative means the baseline is better)\")\n",
    "display(diff_df.hide(subset=diff_df.index[-7:]))"
   ]
  },
  {
   "cell_type": "code",
   "execution_count": 10,
   "metadata": {},
   "outputs": [
    {
     "data": {
      "text/html": [
       "<style type=\"text/css\">\n",
       "#T_7ac3a_row15_col0, #T_7ac3a_row15_col1, #T_7ac3a_row15_col2, #T_7ac3a_row15_col3, #T_7ac3a_row15_col4, #T_7ac3a_row15_col5, #T_7ac3a_row15_col6, #T_7ac3a_row15_col7, #T_7ac3a_row15_col8, #T_7ac3a_row16_col3, #T_7ac3a_row19_col5, #T_7ac3a_row19_col6, #T_7ac3a_row19_col7, #T_7ac3a_row19_col8, #T_7ac3a_row20_col0, #T_7ac3a_row20_col2, #T_7ac3a_row20_col3, #T_7ac3a_row20_col4, #T_7ac3a_row20_col7 {\n",
       "  background-color: #a82b22;\n",
       "}\n",
       "#T_7ac3a_row19_col1, #T_7ac3a_row20_col1, #T_7ac3a_row20_col5, #T_7ac3a_row20_col6, #T_7ac3a_row20_col8 {\n",
       "  background-color: #6b0801;\n",
       "}\n",
       "</style>\n",
       "<table id=\"T_7ac3a\">\n",
       "  <caption>Difference in metrics between predicted and baseline (Negative means the baseline is better)</caption>\n",
       "  <thead>\n",
       "    <tr>\n",
       "      <th class=\"blank level0\" >&nbsp;</th>\n",
       "      <th id=\"T_7ac3a_level0_col0\" class=\"col_heading level0 col0\" >Recall</th>\n",
       "      <th id=\"T_7ac3a_level0_col1\" class=\"col_heading level0 col1\" >Cosine Precision</th>\n",
       "      <th id=\"T_7ac3a_level0_col2\" class=\"col_heading level0 col2\" >Cosine F2</th>\n",
       "      <th id=\"T_7ac3a_level0_col3\" class=\"col_heading level0 col3\" >Cluster Precision</th>\n",
       "      <th id=\"T_7ac3a_level0_col4\" class=\"col_heading level0 col4\" >Cluster F2</th>\n",
       "      <th id=\"T_7ac3a_level0_col5\" class=\"col_heading level0 col5\" >MVEE Precision</th>\n",
       "      <th id=\"T_7ac3a_level0_col6\" class=\"col_heading level0 col6\" >MVEE F2</th>\n",
       "      <th id=\"T_7ac3a_level0_col7\" class=\"col_heading level0 col7\" >Hull Precision</th>\n",
       "      <th id=\"T_7ac3a_level0_col8\" class=\"col_heading level0 col8\" >Hull F2</th>\n",
       "    </tr>\n",
       "    <tr>\n",
       "      <th class=\"index_name level0\" >Topic</th>\n",
       "      <th class=\"blank col0\" >&nbsp;</th>\n",
       "      <th class=\"blank col1\" >&nbsp;</th>\n",
       "      <th class=\"blank col2\" >&nbsp;</th>\n",
       "      <th class=\"blank col3\" >&nbsp;</th>\n",
       "      <th class=\"blank col4\" >&nbsp;</th>\n",
       "      <th class=\"blank col5\" >&nbsp;</th>\n",
       "      <th class=\"blank col6\" >&nbsp;</th>\n",
       "      <th class=\"blank col7\" >&nbsp;</th>\n",
       "      <th class=\"blank col8\" >&nbsp;</th>\n",
       "    </tr>\n",
       "  </thead>\n",
       "  <tbody>\n",
       "    <tr>\n",
       "      <th id=\"T_7ac3a_level0_row15\" class=\"row_heading level0 row15\" >Data Stream Processing Latency</th>\n",
       "      <td id=\"T_7ac3a_row15_col0\" class=\"data row15 col0\" >-0.073</td>\n",
       "      <td id=\"T_7ac3a_row15_col1\" class=\"data row15 col1\" >-0.008</td>\n",
       "      <td id=\"T_7ac3a_row15_col2\" class=\"data row15 col2\" >-0.070</td>\n",
       "      <td id=\"T_7ac3a_row15_col3\" class=\"data row15 col3\" >-0.321</td>\n",
       "      <td id=\"T_7ac3a_row15_col4\" class=\"data row15 col4\" >-0.100</td>\n",
       "      <td id=\"T_7ac3a_row15_col5\" class=\"data row15 col5\" >-0.132</td>\n",
       "      <td id=\"T_7ac3a_row15_col6\" class=\"data row15 col6\" >-0.110</td>\n",
       "      <td id=\"T_7ac3a_row15_col7\" class=\"data row15 col7\" >-0.083</td>\n",
       "      <td id=\"T_7ac3a_row15_col8\" class=\"data row15 col8\" >-0.100</td>\n",
       "    </tr>\n",
       "    <tr>\n",
       "      <th id=\"T_7ac3a_level0_row16\" class=\"row_heading level0 row16\" >Business Process Meta Models</th>\n",
       "      <td id=\"T_7ac3a_row16_col0\" class=\"data row16 col0\" >0.269</td>\n",
       "      <td id=\"T_7ac3a_row16_col1\" class=\"data row16 col1\" >0.039</td>\n",
       "      <td id=\"T_7ac3a_row16_col2\" class=\"data row16 col2\" >0.190</td>\n",
       "      <td id=\"T_7ac3a_row16_col3\" class=\"data row16 col3\" >-0.082</td>\n",
       "      <td id=\"T_7ac3a_row16_col4\" class=\"data row16 col4\" >0.090</td>\n",
       "      <td id=\"T_7ac3a_row16_col5\" class=\"data row16 col5\" >0.148</td>\n",
       "      <td id=\"T_7ac3a_row16_col6\" class=\"data row16 col6\" >0.110</td>\n",
       "      <td id=\"T_7ac3a_row16_col7\" class=\"data row16 col7\" >0.172</td>\n",
       "      <td id=\"T_7ac3a_row16_col8\" class=\"data row16 col8\" >0.170</td>\n",
       "    </tr>\n",
       "    <tr>\n",
       "      <th id=\"T_7ac3a_level0_row17\" class=\"row_heading level0 row17\" >Multicore Performance Prediction</th>\n",
       "      <td id=\"T_7ac3a_row17_col0\" class=\"data row17 col0\" >0.000</td>\n",
       "      <td id=\"T_7ac3a_row17_col1\" class=\"data row17 col1\" >0.217</td>\n",
       "      <td id=\"T_7ac3a_row17_col2\" class=\"data row17 col2\" >0.000</td>\n",
       "      <td id=\"T_7ac3a_row17_col3\" class=\"data row17 col3\" >0.000</td>\n",
       "      <td id=\"T_7ac3a_row17_col4\" class=\"data row17 col4\" >0.000</td>\n",
       "      <td id=\"T_7ac3a_row17_col5\" class=\"data row17 col5\" >0.000</td>\n",
       "      <td id=\"T_7ac3a_row17_col6\" class=\"data row17 col6\" >0.000</td>\n",
       "      <td id=\"T_7ac3a_row17_col7\" class=\"data row17 col7\" >0.000</td>\n",
       "      <td id=\"T_7ac3a_row17_col8\" class=\"data row17 col8\" >0.000</td>\n",
       "    </tr>\n",
       "    <tr>\n",
       "      <th id=\"T_7ac3a_level0_row18\" class=\"row_heading level0 row18\" >Cloud Migration</th>\n",
       "      <td id=\"T_7ac3a_row18_col0\" class=\"data row18 col0\" >0.000</td>\n",
       "      <td id=\"T_7ac3a_row18_col1\" class=\"data row18 col1\" >0.000</td>\n",
       "      <td id=\"T_7ac3a_row18_col2\" class=\"data row18 col2\" >0.000</td>\n",
       "      <td id=\"T_7ac3a_row18_col3\" class=\"data row18 col3\" >0.000</td>\n",
       "      <td id=\"T_7ac3a_row18_col4\" class=\"data row18 col4\" >0.000</td>\n",
       "      <td id=\"T_7ac3a_row18_col5\" class=\"data row18 col5\" >0.000</td>\n",
       "      <td id=\"T_7ac3a_row18_col6\" class=\"data row18 col6\" >0.000</td>\n",
       "      <td id=\"T_7ac3a_row18_col7\" class=\"data row18 col7\" >0.000</td>\n",
       "      <td id=\"T_7ac3a_row18_col8\" class=\"data row18 col8\" >0.000</td>\n",
       "    </tr>\n",
       "    <tr>\n",
       "      <th id=\"T_7ac3a_level0_row19\" class=\"row_heading level0 row19\" >Software Fault Prediction Metrics</th>\n",
       "      <td id=\"T_7ac3a_row19_col0\" class=\"data row19 col0\" >0.562</td>\n",
       "      <td id=\"T_7ac3a_row19_col1\" class=\"data row19 col1\" >-0.596</td>\n",
       "      <td id=\"T_7ac3a_row19_col2\" class=\"data row19 col2\" >0.000</td>\n",
       "      <td id=\"T_7ac3a_row19_col3\" class=\"data row19 col3\" >0.061</td>\n",
       "      <td id=\"T_7ac3a_row19_col4\" class=\"data row19 col4\" >0.330</td>\n",
       "      <td id=\"T_7ac3a_row19_col5\" class=\"data row19 col5\" >-0.018</td>\n",
       "      <td id=\"T_7ac3a_row19_col6\" class=\"data row19 col6\" >-0.080</td>\n",
       "      <td id=\"T_7ac3a_row19_col7\" class=\"data row19 col7\" >-0.036</td>\n",
       "      <td id=\"T_7ac3a_row19_col8\" class=\"data row19 col8\" >-0.100</td>\n",
       "    </tr>\n",
       "    <tr>\n",
       "      <th id=\"T_7ac3a_level0_row20\" class=\"row_heading level0 row20\" >Software Defect Prediction</th>\n",
       "      <td id=\"T_7ac3a_row20_col0\" class=\"data row20 col0\" >-0.129</td>\n",
       "      <td id=\"T_7ac3a_row20_col1\" class=\"data row20 col1\" >-0.584</td>\n",
       "      <td id=\"T_7ac3a_row20_col2\" class=\"data row20 col2\" >-0.280</td>\n",
       "      <td id=\"T_7ac3a_row20_col3\" class=\"data row20 col3\" >-0.446</td>\n",
       "      <td id=\"T_7ac3a_row20_col4\" class=\"data row20 col4\" >-0.210</td>\n",
       "      <td id=\"T_7ac3a_row20_col5\" class=\"data row20 col5\" >-0.619</td>\n",
       "      <td id=\"T_7ac3a_row20_col6\" class=\"data row20 col6\" >-0.760</td>\n",
       "      <td id=\"T_7ac3a_row20_col7\" class=\"data row20 col7\" >-0.498</td>\n",
       "      <td id=\"T_7ac3a_row20_col8\" class=\"data row20 col8\" >-0.760</td>\n",
       "    </tr>\n",
       "  </tbody>\n",
       "</table>\n"
      ],
      "text/plain": [
       "<pandas.io.formats.style.Styler at 0x2d316469cf0>"
      ]
     },
     "execution_count": 10,
     "metadata": {},
     "output_type": "execute_result"
    }
   ],
   "source": [
    "diff_df.hide(subset=diff_df.index[:15])"
   ]
  }
 ],
 "metadata": {
  "kernelspec": {
   "display_name": "litqeval-nY2J0JWW-py3.10",
   "language": "python",
   "name": "python3"
  },
  "language_info": {
   "codemirror_mode": {
    "name": "ipython",
    "version": 3
   },
   "file_extension": ".py",
   "mimetype": "text/x-python",
   "name": "python",
   "nbconvert_exporter": "python",
   "pygments_lexer": "ipython3",
   "version": "3.10.7"
  }
 },
 "nbformat": 4,
 "nbformat_minor": 2
}
