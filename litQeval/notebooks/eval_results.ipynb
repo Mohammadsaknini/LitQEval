{
 "cells": [
  {
   "cell_type": "markdown",
   "metadata": {},
   "source": [
    "#### The goal of this notebook is provide an evaluation overview."
   ]
  },
  {
   "cell_type": "code",
   "execution_count": 808,
   "metadata": {},
   "outputs": [],
   "source": [
    "import plotly.express as px\n",
    "import plotly.io as pio\n",
    "import pandas as pd\n",
    "import numpy as np\n",
    "\n",
    "pio.templates.default = \"seaborn\"\n",
    "PLOT_CONFIGS = dict(\n",
    "    title_x=0.5, title_font_size=25, title_font_family=\"Modern Computer\", font_family=\"Modern Computer\",\n",
    "    xaxis_title=\"\", yaxis_title=\"\", showlegend=True, legend_title=\"\",\n",
    "    xaxis_tickfont_size=15, yaxis_tickfont_size=13, legend_font_size=15,\n",
    "    xaxis_title_font_size=12, yaxis_title_font_size=12, xaxis_tickangle=45,\n",
    "    width=800, height=500,\n",
    "    legend_orientation=\"h\", legend_yanchor=\"bottom\", legend_y=-1.5, legend_xanchor=\"center\", legend_x=0.5\n",
    "    )\n",
    "COLORS = [\n",
    "    '#1f77b4', '#ff7f0e', '#2ca02c', '#d62728', '#9467bd',\n",
    "    '#8c564b', '#e377c2', '#7f7f7f', '#bcbd22', '#17becf',\n",
    "    '#ff33cc', '#00cc99', '#ffcc00', '#3399ff', '#9933cc',\n",
    "    '#66ff66', '#ff0066', '#669999', '#996633', '#00cccc'\n",
    "]"
   ]
  },
  {
   "cell_type": "code",
   "execution_count": 809,
   "metadata": {},
   "outputs": [],
   "source": [
    "results = pd.read_excel(\"results.xlsx\")\n",
    "results = results.rename(columns={\"Unnamed: 0\": \"Index\"})\n",
    "predicted_query = results[results[\"Index\"] == \"Predicted\"][\"Query\"].values\n",
    "baseline_query = results[results[\"Index\"] == \"Baseline\"][\"Query\"].values\n",
    "results.loc[results[\"Index\"] == \"Predicted\", \"Query\"] = baseline_query\n",
    "results.loc[results[\"Index\"] == \"Baseline\", \"Query\"] = predicted_query\n",
    "\n",
    "results[\"Topic\"] = results[\"Query\"].copy()\n",
    "results.loc[1::2, \"Topic\"] = np.nan\n",
    "results.loc[results[\"Index\"] == \"Baseline\", \"Query\"] = predicted_query\n",
    "results = results.rename(columns={\"Unnamed: 0\": \"Index\"})\n",
    "plt_df = results.ffill()"
   ]
  },
  {
   "cell_type": "code",
   "execution_count": 810,
   "metadata": {},
   "outputs": [
    {
     "data": {
      "application/vnd.plotly.v1+json": {
       "config": {
        "plotlyServerURL": "https://plot.ly"
       },
       "data": [
        {
         "alignmentgroup": "True",
         "bingroup": "x",
         "histfunc": "sum",
         "hovertemplate": "variable=Recall<br>Index=Predicted<br>Topic=%{x}<br>sum of value=%{y}<extra></extra>",
         "legendgroup": "Recall",
         "marker": {
          "color": "rgb(76,114,176)",
          "pattern": {
           "shape": ""
          }
         },
         "name": "Recall",
         "offsetgroup": "Recall",
         "orientation": "v",
         "showlegend": true,
         "type": "histogram",
         "x": [
          "Software Defect Prediction",
          "Software Fault Prediction Metrics",
          "Cloud Migration",
          "Multicore Performance Prediction",
          "Business Process Meta Models",
          "Data Stream Processing Latency",
          "Software Process Line",
          "Internet of Things in Healthcare",
          "AI on Edge Devices",
          "Green Warehousing",
          "Nanopharmaceuticals OR Nanonutraceuticals",
          "Perovskite Solar Cells Stability",
          "Sustainable Biofuel Economy",
          "Tourism Growth Nexus",
          "Drones in Agriculture",
          "Cervical Myelopathy",
          "Resilience in Business and management",
          "Synthetic Biology",
          "Crop Yield Prediction",
          "Soft Robotics",
          "Robotic Arthroplasty"
         ],
         "xaxis": "x2",
         "y": [
          0.519,
          0.562,
          0.952,
          0.273,
          0.615,
          0.261,
          0.628,
          0.517,
          0.361,
          0.184,
          0.04,
          1,
          0.28,
          0.08,
          0.48,
          0.851,
          0.185,
          0.517,
          0.652,
          0.639,
          0.957
         ],
         "yaxis": "y2"
        },
        {
         "alignmentgroup": "True",
         "bingroup": "x",
         "histfunc": "sum",
         "hovertemplate": "variable=Recall<br>Index=Baseline<br>Topic=%{x}<br>sum of value=%{y}<extra></extra>",
         "legendgroup": "Recall",
         "marker": {
          "color": "rgb(76,114,176)",
          "pattern": {
           "shape": ""
          }
         },
         "name": "Recall",
         "offsetgroup": "Recall",
         "orientation": "v",
         "showlegend": false,
         "type": "histogram",
         "x": [
          "Software Defect Prediction",
          "Software Fault Prediction Metrics",
          "Cloud Migration",
          "Multicore Performance Prediction",
          "Business Process Meta Models",
          "Data Stream Processing Latency",
          "Software Process Line",
          "Internet of Things in Healthcare",
          "AI on Edge Devices",
          "Green Warehousing",
          "Nanopharmaceuticals OR Nanonutraceuticals",
          "Perovskite Solar Cells Stability",
          "Sustainable Biofuel Economy",
          "Tourism Growth Nexus",
          "Drones in Agriculture",
          "Cervical Myelopathy",
          "Resilience in Business and management",
          "Synthetic Biology",
          "Crop Yield Prediction",
          "Soft Robotics",
          "Robotic Arthroplasty"
         ],
         "xaxis": "x",
         "y": [
          0.333,
          0.25,
          0.857,
          0,
          0.308,
          0.174,
          0.605,
          0.345,
          0.111,
          0.132,
          0,
          0.897,
          0.02,
          0.08,
          0,
          0.766,
          0,
          0.207,
          0.543,
          0.528,
          0.957
         ],
         "yaxis": "y"
        },
        {
         "alignmentgroup": "True",
         "bingroup": "x",
         "histfunc": "sum",
         "hovertemplate": "variable=Cosine Precision<br>Index=Predicted<br>Topic=%{x}<br>sum of value=%{y}<extra></extra>",
         "legendgroup": "Cosine Precision",
         "marker": {
          "color": "rgb(221,132,82)",
          "pattern": {
           "shape": ""
          }
         },
         "name": "Cosine Precision",
         "offsetgroup": "Cosine Precision",
         "orientation": "v",
         "showlegend": true,
         "type": "histogram",
         "x": [
          "Software Defect Prediction",
          "Software Fault Prediction Metrics",
          "Cloud Migration",
          "Multicore Performance Prediction",
          "Business Process Meta Models",
          "Data Stream Processing Latency",
          "Software Process Line",
          "Internet of Things in Healthcare",
          "AI on Edge Devices",
          "Green Warehousing",
          "Nanopharmaceuticals OR Nanonutraceuticals",
          "Perovskite Solar Cells Stability",
          "Sustainable Biofuel Economy",
          "Tourism Growth Nexus",
          "Drones in Agriculture",
          "Cervical Myelopathy",
          "Resilience in Business and management",
          "Synthetic Biology",
          "Crop Yield Prediction",
          "Soft Robotics",
          "Robotic Arthroplasty"
         ],
         "xaxis": "x2",
         "y": [
          0.142,
          0.078,
          0.031,
          0.118,
          0.06,
          0.015,
          0.02,
          0.2,
          0.137,
          0.003,
          0.242,
          0.675,
          0.25,
          0.009,
          0.087,
          0.283,
          0.025,
          0.069,
          0.119,
          0.1,
          0.124
         ],
         "yaxis": "y2"
        },
        {
         "alignmentgroup": "True",
         "bingroup": "x",
         "histfunc": "sum",
         "hovertemplate": "variable=Cosine Precision<br>Index=Baseline<br>Topic=%{x}<br>sum of value=%{y}<extra></extra>",
         "legendgroup": "Cosine Precision",
         "marker": {
          "color": "rgb(221,132,82)",
          "pattern": {
           "shape": ""
          }
         },
         "name": "Cosine Precision",
         "offsetgroup": "Cosine Precision",
         "orientation": "v",
         "showlegend": false,
         "type": "histogram",
         "x": [
          "Software Defect Prediction",
          "Software Fault Prediction Metrics",
          "Cloud Migration",
          "Multicore Performance Prediction",
          "Business Process Meta Models",
          "Data Stream Processing Latency",
          "Software Process Line",
          "Internet of Things in Healthcare",
          "AI on Edge Devices",
          "Green Warehousing",
          "Nanopharmaceuticals OR Nanonutraceuticals",
          "Perovskite Solar Cells Stability",
          "Sustainable Biofuel Economy",
          "Tourism Growth Nexus",
          "Drones in Agriculture",
          "Cervical Myelopathy",
          "Resilience in Business and management",
          "Synthetic Biology",
          "Crop Yield Prediction",
          "Soft Robotics",
          "Robotic Arthroplasty"
         ],
         "xaxis": "x",
         "y": [
          0.609,
          0.682,
          0.134,
          0.357,
          0.261,
          0.302,
          0.022,
          0.404,
          0.364,
          0.219,
          0.239,
          0.912,
          0.367,
          0.571,
          0.263,
          0.566,
          0.056,
          0.119,
          0.4,
          0.233,
          0.885
         ],
         "yaxis": "y"
        },
        {
         "alignmentgroup": "True",
         "bingroup": "x",
         "histfunc": "sum",
         "hovertemplate": "variable=Cluster Precision<br>Index=Predicted<br>Topic=%{x}<br>sum of value=%{y}<extra></extra>",
         "legendgroup": "Cluster Precision",
         "marker": {
          "color": "rgb(85,168,104)",
          "pattern": {
           "shape": ""
          }
         },
         "name": "Cluster Precision",
         "offsetgroup": "Cluster Precision",
         "orientation": "v",
         "showlegend": true,
         "type": "histogram",
         "x": [
          "Software Defect Prediction",
          "Software Fault Prediction Metrics",
          "Cloud Migration",
          "Multicore Performance Prediction",
          "Business Process Meta Models",
          "Data Stream Processing Latency",
          "Software Process Line",
          "Internet of Things in Healthcare",
          "AI on Edge Devices",
          "Green Warehousing",
          "Nanopharmaceuticals OR Nanonutraceuticals",
          "Perovskite Solar Cells Stability",
          "Sustainable Biofuel Economy",
          "Tourism Growth Nexus",
          "Drones in Agriculture",
          "Cervical Myelopathy",
          "Resilience in Business and management",
          "Synthetic Biology",
          "Crop Yield Prediction",
          "Soft Robotics",
          "Robotic Arthroplasty"
         ],
         "xaxis": "x2",
         "y": [
          0.155,
          1,
          0.051,
          1,
          0.107,
          0.014,
          0.316,
          0.448,
          0.586,
          0.108,
          0.624,
          0.436,
          0.745,
          0.569,
          0.309,
          0.105,
          0.162,
          0.172,
          0.289,
          0.135,
          0.046
         ],
         "yaxis": "y2"
        },
        {
         "alignmentgroup": "True",
         "bingroup": "x",
         "histfunc": "sum",
         "hovertemplate": "variable=Cluster Precision<br>Index=Baseline<br>Topic=%{x}<br>sum of value=%{y}<extra></extra>",
         "legendgroup": "Cluster Precision",
         "marker": {
          "color": "rgb(85,168,104)",
          "pattern": {
           "shape": ""
          }
         },
         "name": "Cluster Precision",
         "offsetgroup": "Cluster Precision",
         "orientation": "v",
         "showlegend": false,
         "type": "histogram",
         "x": [
          "Software Defect Prediction",
          "Software Fault Prediction Metrics",
          "Cloud Migration",
          "Multicore Performance Prediction",
          "Business Process Meta Models",
          "Data Stream Processing Latency",
          "Software Process Line",
          "Internet of Things in Healthcare",
          "AI on Edge Devices",
          "Green Warehousing",
          "Nanopharmaceuticals OR Nanonutraceuticals",
          "Perovskite Solar Cells Stability",
          "Sustainable Biofuel Economy",
          "Tourism Growth Nexus",
          "Drones in Agriculture",
          "Cervical Myelopathy",
          "Resilience in Business and management",
          "Synthetic Biology",
          "Crop Yield Prediction",
          "Soft Robotics",
          "Robotic Arthroplasty"
         ],
         "xaxis": "x",
         "y": [
          0.466,
          0.329,
          0.036,
          0,
          0.34,
          0.494,
          0.077,
          0.538,
          0.536,
          0.519,
          0,
          0.649,
          0,
          0.259,
          0,
          0.404,
          0,
          0.357,
          0.407,
          0.282,
          0.574
         ],
         "yaxis": "y"
        },
        {
         "alignmentgroup": "True",
         "bingroup": "x",
         "histfunc": "sum",
         "hovertemplate": "variable=MVEE Precision<br>Index=Predicted<br>Topic=%{x}<br>sum of value=%{y}<extra></extra>",
         "legendgroup": "MVEE Precision",
         "marker": {
          "color": "rgb(196,78,82)",
          "pattern": {
           "shape": ""
          }
         },
         "name": "MVEE Precision",
         "offsetgroup": "MVEE Precision",
         "orientation": "v",
         "showlegend": true,
         "type": "histogram",
         "x": [
          "Software Defect Prediction",
          "Software Fault Prediction Metrics",
          "Cloud Migration",
          "Multicore Performance Prediction",
          "Business Process Meta Models",
          "Data Stream Processing Latency",
          "Software Process Line",
          "Internet of Things in Healthcare",
          "AI on Edge Devices",
          "Green Warehousing",
          "Nanopharmaceuticals OR Nanonutraceuticals",
          "Perovskite Solar Cells Stability",
          "Sustainable Biofuel Economy",
          "Tourism Growth Nexus",
          "Drones in Agriculture",
          "Cervical Myelopathy",
          "Resilience in Business and management",
          "Synthetic Biology",
          "Crop Yield Prediction",
          "Soft Robotics",
          "Robotic Arthroplasty"
         ],
         "xaxis": "x2",
         "y": [
          0.29,
          0.262,
          0.608,
          0.141,
          0.103,
          0.04,
          0.305,
          0.332,
          0.257,
          0.348,
          0,
          0.687,
          0.643,
          0,
          0.11,
          0.607,
          0.067,
          0.716,
          0.489,
          0.221,
          0.138
         ],
         "yaxis": "y2"
        },
        {
         "alignmentgroup": "True",
         "bingroup": "x",
         "histfunc": "sum",
         "hovertemplate": "variable=MVEE Precision<br>Index=Baseline<br>Topic=%{x}<br>sum of value=%{y}<extra></extra>",
         "legendgroup": "MVEE Precision",
         "marker": {
          "color": "rgb(196,78,82)",
          "pattern": {
           "shape": ""
          }
         },
         "name": "MVEE Precision",
         "offsetgroup": "MVEE Precision",
         "orientation": "v",
         "showlegend": false,
         "type": "histogram",
         "x": [
          "Software Defect Prediction",
          "Software Fault Prediction Metrics",
          "Cloud Migration",
          "Multicore Performance Prediction",
          "Business Process Meta Models",
          "Data Stream Processing Latency",
          "Software Process Line",
          "Internet of Things in Healthcare",
          "AI on Edge Devices",
          "Green Warehousing",
          "Nanopharmaceuticals OR Nanonutraceuticals",
          "Perovskite Solar Cells Stability",
          "Sustainable Biofuel Economy",
          "Tourism Growth Nexus",
          "Drones in Agriculture",
          "Cervical Myelopathy",
          "Resilience in Business and management",
          "Synthetic Biology",
          "Crop Yield Prediction",
          "Soft Robotics",
          "Robotic Arthroplasty"
         ],
         "xaxis": "x",
         "y": [
          0.675,
          0.315,
          0.393,
          0,
          0.272,
          0.28,
          0.193,
          0.483,
          0.102,
          0.332,
          0,
          0.819,
          0,
          0,
          0,
          0.653,
          0,
          0.214,
          0.731,
          0.344,
          0.872
         ],
         "yaxis": "y"
        },
        {
         "alignmentgroup": "True",
         "bingroup": "x",
         "histfunc": "sum",
         "hovertemplate": "variable=Hull Precision<br>Index=Predicted<br>Topic=%{x}<br>sum of value=%{y}<extra></extra>",
         "legendgroup": "Hull Precision",
         "marker": {
          "color": "rgb(129,114,179)",
          "pattern": {
           "shape": ""
          }
         },
         "name": "Hull Precision",
         "offsetgroup": "Hull Precision",
         "orientation": "v",
         "showlegend": true,
         "type": "histogram",
         "x": [
          "Software Defect Prediction",
          "Software Fault Prediction Metrics",
          "Cloud Migration",
          "Multicore Performance Prediction",
          "Business Process Meta Models",
          "Data Stream Processing Latency",
          "Software Process Line",
          "Internet of Things in Healthcare",
          "AI on Edge Devices",
          "Green Warehousing",
          "Nanopharmaceuticals OR Nanonutraceuticals",
          "Perovskite Solar Cells Stability",
          "Sustainable Biofuel Economy",
          "Tourism Growth Nexus",
          "Drones in Agriculture",
          "Cervical Myelopathy",
          "Resilience in Business and management",
          "Synthetic Biology",
          "Crop Yield Prediction",
          "Soft Robotics",
          "Robotic Arthroplasty"
         ],
         "xaxis": "x2",
         "y": [
          0.182,
          0.16,
          0.337,
          0.061,
          0.077,
          0.029,
          0.233,
          0.226,
          0.134,
          0.248,
          0,
          0.421,
          0.425,
          0,
          0.066,
          0.506,
          0.043,
          0.458,
          0.329,
          0.146,
          0.125
         ],
         "yaxis": "y2"
        },
        {
         "alignmentgroup": "True",
         "bingroup": "x",
         "histfunc": "sum",
         "hovertemplate": "variable=Hull Precision<br>Index=Baseline<br>Topic=%{x}<br>sum of value=%{y}<extra></extra>",
         "legendgroup": "Hull Precision",
         "marker": {
          "color": "rgb(129,114,179)",
          "pattern": {
           "shape": ""
          }
         },
         "name": "Hull Precision",
         "offsetgroup": "Hull Precision",
         "orientation": "v",
         "showlegend": false,
         "type": "histogram",
         "x": [
          "Software Defect Prediction",
          "Software Fault Prediction Metrics",
          "Cloud Migration",
          "Multicore Performance Prediction",
          "Business Process Meta Models",
          "Data Stream Processing Latency",
          "Software Process Line",
          "Internet of Things in Healthcare",
          "AI on Edge Devices",
          "Green Warehousing",
          "Nanopharmaceuticals OR Nanonutraceuticals",
          "Perovskite Solar Cells Stability",
          "Sustainable Biofuel Economy",
          "Tourism Growth Nexus",
          "Drones in Agriculture",
          "Cervical Myelopathy",
          "Resilience in Business and management",
          "Synthetic Biology",
          "Crop Yield Prediction",
          "Soft Robotics",
          "Robotic Arthroplasty"
         ],
         "xaxis": "x",
         "y": [
          0.486,
          0.2,
          0.252,
          0,
          0.164,
          0.206,
          0.152,
          0.309,
          0.038,
          0.144,
          0,
          0.63,
          0,
          0,
          0,
          0.522,
          0,
          0.078,
          0.595,
          0.223,
          0.823
         ],
         "yaxis": "y"
        },
        {
         "alignmentgroup": "True",
         "bingroup": "x",
         "histfunc": "sum",
         "hovertemplate": "variable=Cosine F2<br>Index=Predicted<br>Topic=%{x}<br>sum of value=%{y}<extra></extra>",
         "legendgroup": "Cosine F2",
         "marker": {
          "color": "rgb(147,120,96)",
          "pattern": {
           "shape": ""
          }
         },
         "name": "Cosine F2",
         "offsetgroup": "Cosine F2",
         "orientation": "v",
         "showlegend": true,
         "type": "histogram",
         "x": [
          "Software Defect Prediction",
          "Software Fault Prediction Metrics",
          "Cloud Migration",
          "Multicore Performance Prediction",
          "Business Process Meta Models",
          "Data Stream Processing Latency",
          "Software Process Line",
          "Internet of Things in Healthcare",
          "AI on Edge Devices",
          "Green Warehousing",
          "Nanopharmaceuticals OR Nanonutraceuticals",
          "Perovskite Solar Cells Stability",
          "Sustainable Biofuel Economy",
          "Tourism Growth Nexus",
          "Drones in Agriculture",
          "Cervical Myelopathy",
          "Resilience in Business and management",
          "Synthetic Biology",
          "Crop Yield Prediction",
          "Soft Robotics",
          "Robotic Arthroplasty"
         ],
         "xaxis": "x2",
         "y": [
          0.32,
          0.24,
          0.13,
          0.2,
          0.2,
          0.06,
          0.09,
          0.27,
          0.22,
          0.01,
          0.04,
          0,
          0.21,
          0.03,
          0.22,
          0.31,
          0.08,
          0.2,
          0.27,
          0.25,
          0.37
         ],
         "yaxis": "y2"
        },
        {
         "alignmentgroup": "True",
         "bingroup": "x",
         "histfunc": "sum",
         "hovertemplate": "variable=Cosine F2<br>Index=Baseline<br>Topic=%{x}<br>sum of value=%{y}<extra></extra>",
         "legendgroup": "Cosine F2",
         "marker": {
          "color": "rgb(147,120,96)",
          "pattern": {
           "shape": ""
          }
         },
         "name": "Cosine F2",
         "offsetgroup": "Cosine F2",
         "orientation": "v",
         "showlegend": false,
         "type": "histogram",
         "x": [
          "Software Defect Prediction",
          "Software Fault Prediction Metrics",
          "Cloud Migration",
          "Multicore Performance Prediction",
          "Business Process Meta Models",
          "Data Stream Processing Latency",
          "Software Process Line",
          "Internet of Things in Healthcare",
          "AI on Edge Devices",
          "Green Warehousing",
          "Nanopharmaceuticals OR Nanonutraceuticals",
          "Perovskite Solar Cells Stability",
          "Sustainable Biofuel Economy",
          "Tourism Growth Nexus",
          "Drones in Agriculture",
          "Cervical Myelopathy",
          "Resilience in Business and management",
          "Synthetic Biology",
          "Crop Yield Prediction",
          "Soft Robotics",
          "Robotic Arthroplasty"
         ],
         "xaxis": "x",
         "y": [
          0.36,
          0.29,
          0.4,
          0,
          0.3,
          0.19,
          0.1,
          0.32,
          0.13,
          0.14,
          0,
          0.46,
          0.02,
          0.1,
          0,
          0.63,
          0,
          0.17,
          0.48,
          0.38,
          0.93
         ],
         "yaxis": "y"
        },
        {
         "alignmentgroup": "True",
         "bingroup": "x",
         "histfunc": "sum",
         "hovertemplate": "variable=Cluster F2<br>Index=Predicted<br>Topic=%{x}<br>sum of value=%{y}<extra></extra>",
         "legendgroup": "Cluster F2",
         "marker": {
          "color": "rgb(218,139,195)",
          "pattern": {
           "shape": ""
          }
         },
         "name": "Cluster F2",
         "offsetgroup": "Cluster F2",
         "orientation": "v",
         "showlegend": true,
         "type": "histogram",
         "x": [
          "Software Defect Prediction",
          "Software Fault Prediction Metrics",
          "Cloud Migration",
          "Multicore Performance Prediction",
          "Business Process Meta Models",
          "Data Stream Processing Latency",
          "Software Process Line",
          "Internet of Things in Healthcare",
          "AI on Edge Devices",
          "Green Warehousing",
          "Nanopharmaceuticals OR Nanonutraceuticals",
          "Perovskite Solar Cells Stability",
          "Sustainable Biofuel Economy",
          "Tourism Growth Nexus",
          "Drones in Agriculture",
          "Cervical Myelopathy",
          "Resilience in Business and management",
          "Synthetic Biology",
          "Crop Yield Prediction",
          "Soft Robotics",
          "Robotic Arthroplasty"
         ],
         "xaxis": "x2",
         "y": [
          0.31,
          0.23,
          0.19,
          0.01,
          0.26,
          0.06,
          0.22,
          0.12,
          0.01,
          0.15,
          0.01,
          0.1,
          0.02,
          0.05,
          0.19,
          0.27,
          0.17,
          0.26,
          0.22,
          0.26,
          0.18
         ],
         "yaxis": "y2"
        },
        {
         "alignmentgroup": "True",
         "bingroup": "x",
         "histfunc": "sum",
         "hovertemplate": "variable=Cluster F2<br>Index=Baseline<br>Topic=%{x}<br>sum of value=%{y}<extra></extra>",
         "legendgroup": "Cluster F2",
         "marker": {
          "color": "rgb(218,139,195)",
          "pattern": {
           "shape": ""
          }
         },
         "name": "Cluster F2",
         "offsetgroup": "Cluster F2",
         "orientation": "v",
         "showlegend": false,
         "type": "histogram",
         "x": [
          "Software Defect Prediction",
          "Software Fault Prediction Metrics",
          "Cloud Migration",
          "Multicore Performance Prediction",
          "Business Process Meta Models",
          "Data Stream Processing Latency",
          "Software Process Line",
          "Internet of Things in Healthcare",
          "AI on Edge Devices",
          "Green Warehousing",
          "Nanopharmaceuticals OR Nanonutraceuticals",
          "Perovskite Solar Cells Stability",
          "Sustainable Biofuel Economy",
          "Tourism Growth Nexus",
          "Drones in Agriculture",
          "Cervical Myelopathy",
          "Resilience in Business and management",
          "Synthetic Biology",
          "Crop Yield Prediction",
          "Soft Robotics",
          "Robotic Arthroplasty"
         ],
         "xaxis": "x",
         "y": [
          0.28,
          0.21,
          0.15,
          0,
          0.31,
          0.21,
          0.24,
          0.28,
          0.1,
          0.18,
          0,
          0.53,
          0,
          0.09,
          0,
          0.52,
          0,
          0.18,
          0.45,
          0.35,
          0.67
         ],
         "yaxis": "y"
        },
        {
         "alignmentgroup": "True",
         "bingroup": "x",
         "histfunc": "sum",
         "hovertemplate": "variable=MVEE F2<br>Index=Predicted<br>Topic=%{x}<br>sum of value=%{y}<extra></extra>",
         "legendgroup": "MVEE F2",
         "marker": {
          "color": "rgb(140,140,140)",
          "pattern": {
           "shape": ""
          }
         },
         "name": "MVEE F2",
         "offsetgroup": "MVEE F2",
         "orientation": "v",
         "showlegend": true,
         "type": "histogram",
         "x": [
          "Software Defect Prediction",
          "Software Fault Prediction Metrics",
          "Cloud Migration",
          "Multicore Performance Prediction",
          "Business Process Meta Models",
          "Data Stream Processing Latency",
          "Software Process Line",
          "Internet of Things in Healthcare",
          "AI on Edge Devices",
          "Green Warehousing",
          "Nanopharmaceuticals OR Nanonutraceuticals",
          "Perovskite Solar Cells Stability",
          "Sustainable Biofuel Economy",
          "Tourism Growth Nexus",
          "Drones in Agriculture",
          "Cervical Myelopathy",
          "Resilience in Business and management",
          "Synthetic Biology",
          "Crop Yield Prediction",
          "Soft Robotics",
          "Robotic Arthroplasty"
         ],
         "xaxis": "x2",
         "y": [
          0.39,
          0.4,
          0.01,
          0.22,
          0.28,
          0.13,
          0.24,
          0.21,
          0.2,
          0.14,
          0,
          0,
          0.05,
          0,
          0.24,
          0.04,
          0.14,
          0,
          0.05,
          0.28,
          0.39
         ],
         "yaxis": "y2"
        },
        {
         "alignmentgroup": "True",
         "bingroup": "x",
         "histfunc": "sum",
         "hovertemplate": "variable=MVEE F2<br>Index=Baseline<br>Topic=%{x}<br>sum of value=%{y}<extra></extra>",
         "legendgroup": "MVEE F2",
         "marker": {
          "color": "rgb(140,140,140)",
          "pattern": {
           "shape": ""
          }
         },
         "name": "MVEE F2",
         "offsetgroup": "MVEE F2",
         "orientation": "v",
         "showlegend": false,
         "type": "histogram",
         "x": [
          "Software Defect Prediction",
          "Software Fault Prediction Metrics",
          "Cloud Migration",
          "Multicore Performance Prediction",
          "Business Process Meta Models",
          "Data Stream Processing Latency",
          "Software Process Line",
          "Internet of Things in Healthcare",
          "AI on Edge Devices",
          "Green Warehousing",
          "Nanopharmaceuticals OR Nanonutraceuticals",
          "Perovskite Solar Cells Stability",
          "Sustainable Biofuel Economy",
          "Tourism Growth Nexus",
          "Drones in Agriculture",
          "Cervical Myelopathy",
          "Resilience in Business and management",
          "Synthetic Biology",
          "Crop Yield Prediction",
          "Soft Robotics",
          "Robotic Arthroplasty"
         ],
         "xaxis": "x",
         "y": [
          0.37,
          0.26,
          0.65,
          0,
          0.3,
          0.2,
          0.4,
          0.33,
          0.11,
          0.18,
          0,
          0.5,
          0,
          0,
          0,
          0.65,
          0,
          0.19,
          0.52,
          0.43,
          0.92
         ],
         "yaxis": "y"
        },
        {
         "alignmentgroup": "True",
         "bingroup": "x",
         "histfunc": "sum",
         "hovertemplate": "variable=Hull F2<br>Index=Predicted<br>Topic=%{x}<br>sum of value=%{y}<extra></extra>",
         "legendgroup": "Hull F2",
         "marker": {
          "color": "rgb(204,185,116)",
          "pattern": {
           "shape": ""
          }
         },
         "name": "Hull F2",
         "offsetgroup": "Hull F2",
         "orientation": "v",
         "showlegend": true,
         "type": "histogram",
         "x": [
          "Software Defect Prediction",
          "Software Fault Prediction Metrics",
          "Cloud Migration",
          "Multicore Performance Prediction",
          "Business Process Meta Models",
          "Data Stream Processing Latency",
          "Software Process Line",
          "Internet of Things in Healthcare",
          "AI on Edge Devices",
          "Green Warehousing",
          "Nanopharmaceuticals OR Nanonutraceuticals",
          "Perovskite Solar Cells Stability",
          "Sustainable Biofuel Economy",
          "Tourism Growth Nexus",
          "Drones in Agriculture",
          "Cervical Myelopathy",
          "Resilience in Business and management",
          "Synthetic Biology",
          "Crop Yield Prediction",
          "Soft Robotics",
          "Robotic Arthroplasty"
         ],
         "xaxis": "x2",
         "y": [
          0.35,
          0.35,
          0.21,
          0.16,
          0.24,
          0.1,
          0.28,
          0.27,
          0.22,
          0.17,
          0,
          0.12,
          0.18,
          0,
          0.2,
          0.1,
          0.12,
          0.07,
          0.18,
          0.29,
          0.37
         ],
         "yaxis": "y2"
        },
        {
         "alignmentgroup": "True",
         "bingroup": "x",
         "histfunc": "sum",
         "hovertemplate": "variable=Hull F2<br>Index=Baseline<br>Topic=%{x}<br>sum of value=%{y}<extra></extra>",
         "legendgroup": "Hull F2",
         "marker": {
          "color": "rgb(204,185,116)",
          "pattern": {
           "shape": ""
          }
         },
         "name": "Hull F2",
         "offsetgroup": "Hull F2",
         "orientation": "v",
         "showlegend": false,
         "type": "histogram",
         "x": [
          "Software Defect Prediction",
          "Software Fault Prediction Metrics",
          "Cloud Migration",
          "Multicore Performance Prediction",
          "Business Process Meta Models",
          "Data Stream Processing Latency",
          "Software Process Line",
          "Internet of Things in Healthcare",
          "AI on Edge Devices",
          "Green Warehousing",
          "Nanopharmaceuticals OR Nanonutraceuticals",
          "Perovskite Solar Cells Stability",
          "Sustainable Biofuel Economy",
          "Tourism Growth Nexus",
          "Drones in Agriculture",
          "Cervical Myelopathy",
          "Resilience in Business and management",
          "Synthetic Biology",
          "Crop Yield Prediction",
          "Soft Robotics",
          "Robotic Arthroplasty"
         ],
         "xaxis": "x",
         "y": [
          0.35,
          0.24,
          0.56,
          0,
          0.26,
          0.19,
          0.36,
          0.31,
          0.08,
          0.15,
          0,
          0.57,
          0,
          0,
          0,
          0.63,
          0,
          0.15,
          0.51,
          0.39,
          0.91
         ],
         "yaxis": "y"
        }
       ],
       "layout": {
        "annotations": [
         {
          "font": {
           "size": 15
          },
          "showarrow": false,
          "text": "Baseline",
          "textangle": 90,
          "x": 0.98,
          "xanchor": "left",
          "xref": "paper",
          "y": 0.225,
          "yanchor": "middle",
          "yref": "paper"
         },
         {
          "font": {
           "size": 15
          },
          "showarrow": false,
          "text": "Predicted",
          "textangle": 90,
          "x": 0.98,
          "xanchor": "left",
          "xref": "paper",
          "y": 0.775,
          "yanchor": "middle",
          "yref": "paper"
         }
        ],
        "barmode": "group",
        "font": {
         "family": "Modern Computer"
        },
        "height": 500,
        "legend": {
         "font": {
          "size": 15
         },
         "orientation": "h",
         "title": {
          "text": ""
         },
         "tracegroupgap": 0,
         "x": 0.5,
         "xanchor": "center",
         "y": -1.5,
         "yanchor": "bottom"
        },
        "showlegend": true,
        "template": {
         "data": {
          "bar": [
           {
            "error_x": {
             "color": "rgb(36,36,36)"
            },
            "error_y": {
             "color": "rgb(36,36,36)"
            },
            "marker": {
             "line": {
              "color": "rgb(234,234,242)",
              "width": 0.5
             },
             "pattern": {
              "fillmode": "overlay",
              "size": 10,
              "solidity": 0.2
             }
            },
            "type": "bar"
           }
          ],
          "barpolar": [
           {
            "marker": {
             "line": {
              "color": "rgb(234,234,242)",
              "width": 0.5
             },
             "pattern": {
              "fillmode": "overlay",
              "size": 10,
              "solidity": 0.2
             }
            },
            "type": "barpolar"
           }
          ],
          "carpet": [
           {
            "aaxis": {
             "endlinecolor": "rgb(36,36,36)",
             "gridcolor": "white",
             "linecolor": "white",
             "minorgridcolor": "white",
             "startlinecolor": "rgb(36,36,36)"
            },
            "baxis": {
             "endlinecolor": "rgb(36,36,36)",
             "gridcolor": "white",
             "linecolor": "white",
             "minorgridcolor": "white",
             "startlinecolor": "rgb(36,36,36)"
            },
            "type": "carpet"
           }
          ],
          "choropleth": [
           {
            "colorbar": {
             "outlinewidth": 0,
             "tickcolor": "rgb(36,36,36)",
             "ticklen": 8,
             "ticks": "outside",
             "tickwidth": 2
            },
            "type": "choropleth"
           }
          ],
          "contour": [
           {
            "colorbar": {
             "outlinewidth": 0,
             "tickcolor": "rgb(36,36,36)",
             "ticklen": 8,
             "ticks": "outside",
             "tickwidth": 2
            },
            "colorscale": [
             [
              0,
              "rgb(2,4,25)"
             ],
             [
              0.06274509803921569,
              "rgb(24,15,41)"
             ],
             [
              0.12549019607843137,
              "rgb(47,23,57)"
             ],
             [
              0.18823529411764706,
              "rgb(71,28,72)"
             ],
             [
              0.25098039215686274,
              "rgb(97,30,82)"
             ],
             [
              0.3137254901960784,
              "rgb(123,30,89)"
             ],
             [
              0.3764705882352941,
              "rgb(150,27,91)"
             ],
             [
              0.4392156862745098,
              "rgb(177,22,88)"
             ],
             [
              0.5019607843137255,
              "rgb(203,26,79)"
             ],
             [
              0.5647058823529412,
              "rgb(223,47,67)"
             ],
             [
              0.6274509803921569,
              "rgb(236,76,61)"
             ],
             [
              0.6901960784313725,
              "rgb(242,107,73)"
             ],
             [
              0.7529411764705882,
              "rgb(244,135,95)"
             ],
             [
              0.8156862745098039,
              "rgb(245,162,122)"
             ],
             [
              0.8784313725490196,
              "rgb(246,188,153)"
             ],
             [
              0.9411764705882353,
              "rgb(247,212,187)"
             ],
             [
              1,
              "rgb(250,234,220)"
             ]
            ],
            "type": "contour"
           }
          ],
          "contourcarpet": [
           {
            "colorbar": {
             "outlinewidth": 0,
             "tickcolor": "rgb(36,36,36)",
             "ticklen": 8,
             "ticks": "outside",
             "tickwidth": 2
            },
            "type": "contourcarpet"
           }
          ],
          "heatmap": [
           {
            "colorbar": {
             "outlinewidth": 0,
             "tickcolor": "rgb(36,36,36)",
             "ticklen": 8,
             "ticks": "outside",
             "tickwidth": 2
            },
            "colorscale": [
             [
              0,
              "rgb(2,4,25)"
             ],
             [
              0.06274509803921569,
              "rgb(24,15,41)"
             ],
             [
              0.12549019607843137,
              "rgb(47,23,57)"
             ],
             [
              0.18823529411764706,
              "rgb(71,28,72)"
             ],
             [
              0.25098039215686274,
              "rgb(97,30,82)"
             ],
             [
              0.3137254901960784,
              "rgb(123,30,89)"
             ],
             [
              0.3764705882352941,
              "rgb(150,27,91)"
             ],
             [
              0.4392156862745098,
              "rgb(177,22,88)"
             ],
             [
              0.5019607843137255,
              "rgb(203,26,79)"
             ],
             [
              0.5647058823529412,
              "rgb(223,47,67)"
             ],
             [
              0.6274509803921569,
              "rgb(236,76,61)"
             ],
             [
              0.6901960784313725,
              "rgb(242,107,73)"
             ],
             [
              0.7529411764705882,
              "rgb(244,135,95)"
             ],
             [
              0.8156862745098039,
              "rgb(245,162,122)"
             ],
             [
              0.8784313725490196,
              "rgb(246,188,153)"
             ],
             [
              0.9411764705882353,
              "rgb(247,212,187)"
             ],
             [
              1,
              "rgb(250,234,220)"
             ]
            ],
            "type": "heatmap"
           }
          ],
          "heatmapgl": [
           {
            "colorbar": {
             "outlinewidth": 0,
             "tickcolor": "rgb(36,36,36)",
             "ticklen": 8,
             "ticks": "outside",
             "tickwidth": 2
            },
            "colorscale": [
             [
              0,
              "rgb(2,4,25)"
             ],
             [
              0.06274509803921569,
              "rgb(24,15,41)"
             ],
             [
              0.12549019607843137,
              "rgb(47,23,57)"
             ],
             [
              0.18823529411764706,
              "rgb(71,28,72)"
             ],
             [
              0.25098039215686274,
              "rgb(97,30,82)"
             ],
             [
              0.3137254901960784,
              "rgb(123,30,89)"
             ],
             [
              0.3764705882352941,
              "rgb(150,27,91)"
             ],
             [
              0.4392156862745098,
              "rgb(177,22,88)"
             ],
             [
              0.5019607843137255,
              "rgb(203,26,79)"
             ],
             [
              0.5647058823529412,
              "rgb(223,47,67)"
             ],
             [
              0.6274509803921569,
              "rgb(236,76,61)"
             ],
             [
              0.6901960784313725,
              "rgb(242,107,73)"
             ],
             [
              0.7529411764705882,
              "rgb(244,135,95)"
             ],
             [
              0.8156862745098039,
              "rgb(245,162,122)"
             ],
             [
              0.8784313725490196,
              "rgb(246,188,153)"
             ],
             [
              0.9411764705882353,
              "rgb(247,212,187)"
             ],
             [
              1,
              "rgb(250,234,220)"
             ]
            ],
            "type": "heatmapgl"
           }
          ],
          "histogram": [
           {
            "marker": {
             "pattern": {
              "fillmode": "overlay",
              "size": 10,
              "solidity": 0.2
             }
            },
            "type": "histogram"
           }
          ],
          "histogram2d": [
           {
            "colorbar": {
             "outlinewidth": 0,
             "tickcolor": "rgb(36,36,36)",
             "ticklen": 8,
             "ticks": "outside",
             "tickwidth": 2
            },
            "colorscale": [
             [
              0,
              "rgb(2,4,25)"
             ],
             [
              0.06274509803921569,
              "rgb(24,15,41)"
             ],
             [
              0.12549019607843137,
              "rgb(47,23,57)"
             ],
             [
              0.18823529411764706,
              "rgb(71,28,72)"
             ],
             [
              0.25098039215686274,
              "rgb(97,30,82)"
             ],
             [
              0.3137254901960784,
              "rgb(123,30,89)"
             ],
             [
              0.3764705882352941,
              "rgb(150,27,91)"
             ],
             [
              0.4392156862745098,
              "rgb(177,22,88)"
             ],
             [
              0.5019607843137255,
              "rgb(203,26,79)"
             ],
             [
              0.5647058823529412,
              "rgb(223,47,67)"
             ],
             [
              0.6274509803921569,
              "rgb(236,76,61)"
             ],
             [
              0.6901960784313725,
              "rgb(242,107,73)"
             ],
             [
              0.7529411764705882,
              "rgb(244,135,95)"
             ],
             [
              0.8156862745098039,
              "rgb(245,162,122)"
             ],
             [
              0.8784313725490196,
              "rgb(246,188,153)"
             ],
             [
              0.9411764705882353,
              "rgb(247,212,187)"
             ],
             [
              1,
              "rgb(250,234,220)"
             ]
            ],
            "type": "histogram2d"
           }
          ],
          "histogram2dcontour": [
           {
            "colorbar": {
             "outlinewidth": 0,
             "tickcolor": "rgb(36,36,36)",
             "ticklen": 8,
             "ticks": "outside",
             "tickwidth": 2
            },
            "colorscale": [
             [
              0,
              "rgb(2,4,25)"
             ],
             [
              0.06274509803921569,
              "rgb(24,15,41)"
             ],
             [
              0.12549019607843137,
              "rgb(47,23,57)"
             ],
             [
              0.18823529411764706,
              "rgb(71,28,72)"
             ],
             [
              0.25098039215686274,
              "rgb(97,30,82)"
             ],
             [
              0.3137254901960784,
              "rgb(123,30,89)"
             ],
             [
              0.3764705882352941,
              "rgb(150,27,91)"
             ],
             [
              0.4392156862745098,
              "rgb(177,22,88)"
             ],
             [
              0.5019607843137255,
              "rgb(203,26,79)"
             ],
             [
              0.5647058823529412,
              "rgb(223,47,67)"
             ],
             [
              0.6274509803921569,
              "rgb(236,76,61)"
             ],
             [
              0.6901960784313725,
              "rgb(242,107,73)"
             ],
             [
              0.7529411764705882,
              "rgb(244,135,95)"
             ],
             [
              0.8156862745098039,
              "rgb(245,162,122)"
             ],
             [
              0.8784313725490196,
              "rgb(246,188,153)"
             ],
             [
              0.9411764705882353,
              "rgb(247,212,187)"
             ],
             [
              1,
              "rgb(250,234,220)"
             ]
            ],
            "type": "histogram2dcontour"
           }
          ],
          "mesh3d": [
           {
            "colorbar": {
             "outlinewidth": 0,
             "tickcolor": "rgb(36,36,36)",
             "ticklen": 8,
             "ticks": "outside",
             "tickwidth": 2
            },
            "type": "mesh3d"
           }
          ],
          "parcoords": [
           {
            "line": {
             "colorbar": {
              "outlinewidth": 0,
              "tickcolor": "rgb(36,36,36)",
              "ticklen": 8,
              "ticks": "outside",
              "tickwidth": 2
             }
            },
            "type": "parcoords"
           }
          ],
          "pie": [
           {
            "automargin": true,
            "type": "pie"
           }
          ],
          "scatter": [
           {
            "fillpattern": {
             "fillmode": "overlay",
             "size": 10,
             "solidity": 0.2
            },
            "type": "scatter"
           }
          ],
          "scatter3d": [
           {
            "line": {
             "colorbar": {
              "outlinewidth": 0,
              "tickcolor": "rgb(36,36,36)",
              "ticklen": 8,
              "ticks": "outside",
              "tickwidth": 2
             }
            },
            "marker": {
             "colorbar": {
              "outlinewidth": 0,
              "tickcolor": "rgb(36,36,36)",
              "ticklen": 8,
              "ticks": "outside",
              "tickwidth": 2
             }
            },
            "type": "scatter3d"
           }
          ],
          "scattercarpet": [
           {
            "marker": {
             "colorbar": {
              "outlinewidth": 0,
              "tickcolor": "rgb(36,36,36)",
              "ticklen": 8,
              "ticks": "outside",
              "tickwidth": 2
             }
            },
            "type": "scattercarpet"
           }
          ],
          "scattergeo": [
           {
            "marker": {
             "colorbar": {
              "outlinewidth": 0,
              "tickcolor": "rgb(36,36,36)",
              "ticklen": 8,
              "ticks": "outside",
              "tickwidth": 2
             }
            },
            "type": "scattergeo"
           }
          ],
          "scattergl": [
           {
            "marker": {
             "colorbar": {
              "outlinewidth": 0,
              "tickcolor": "rgb(36,36,36)",
              "ticklen": 8,
              "ticks": "outside",
              "tickwidth": 2
             }
            },
            "type": "scattergl"
           }
          ],
          "scattermapbox": [
           {
            "marker": {
             "colorbar": {
              "outlinewidth": 0,
              "tickcolor": "rgb(36,36,36)",
              "ticklen": 8,
              "ticks": "outside",
              "tickwidth": 2
             }
            },
            "type": "scattermapbox"
           }
          ],
          "scatterpolar": [
           {
            "marker": {
             "colorbar": {
              "outlinewidth": 0,
              "tickcolor": "rgb(36,36,36)",
              "ticklen": 8,
              "ticks": "outside",
              "tickwidth": 2
             }
            },
            "type": "scatterpolar"
           }
          ],
          "scatterpolargl": [
           {
            "marker": {
             "colorbar": {
              "outlinewidth": 0,
              "tickcolor": "rgb(36,36,36)",
              "ticklen": 8,
              "ticks": "outside",
              "tickwidth": 2
             }
            },
            "type": "scatterpolargl"
           }
          ],
          "scatterternary": [
           {
            "marker": {
             "colorbar": {
              "outlinewidth": 0,
              "tickcolor": "rgb(36,36,36)",
              "ticklen": 8,
              "ticks": "outside",
              "tickwidth": 2
             }
            },
            "type": "scatterternary"
           }
          ],
          "surface": [
           {
            "colorbar": {
             "outlinewidth": 0,
             "tickcolor": "rgb(36,36,36)",
             "ticklen": 8,
             "ticks": "outside",
             "tickwidth": 2
            },
            "colorscale": [
             [
              0,
              "rgb(2,4,25)"
             ],
             [
              0.06274509803921569,
              "rgb(24,15,41)"
             ],
             [
              0.12549019607843137,
              "rgb(47,23,57)"
             ],
             [
              0.18823529411764706,
              "rgb(71,28,72)"
             ],
             [
              0.25098039215686274,
              "rgb(97,30,82)"
             ],
             [
              0.3137254901960784,
              "rgb(123,30,89)"
             ],
             [
              0.3764705882352941,
              "rgb(150,27,91)"
             ],
             [
              0.4392156862745098,
              "rgb(177,22,88)"
             ],
             [
              0.5019607843137255,
              "rgb(203,26,79)"
             ],
             [
              0.5647058823529412,
              "rgb(223,47,67)"
             ],
             [
              0.6274509803921569,
              "rgb(236,76,61)"
             ],
             [
              0.6901960784313725,
              "rgb(242,107,73)"
             ],
             [
              0.7529411764705882,
              "rgb(244,135,95)"
             ],
             [
              0.8156862745098039,
              "rgb(245,162,122)"
             ],
             [
              0.8784313725490196,
              "rgb(246,188,153)"
             ],
             [
              0.9411764705882353,
              "rgb(247,212,187)"
             ],
             [
              1,
              "rgb(250,234,220)"
             ]
            ],
            "type": "surface"
           }
          ],
          "table": [
           {
            "cells": {
             "fill": {
              "color": "rgb(231,231,240)"
             },
             "line": {
              "color": "white"
             }
            },
            "header": {
             "fill": {
              "color": "rgb(183,183,191)"
             },
             "line": {
              "color": "white"
             }
            },
            "type": "table"
           }
          ]
         },
         "layout": {
          "annotationdefaults": {
           "arrowcolor": "rgb(67,103,167)"
          },
          "autotypenumbers": "strict",
          "coloraxis": {
           "colorbar": {
            "outlinewidth": 0,
            "tickcolor": "rgb(36,36,36)",
            "ticklen": 8,
            "ticks": "outside",
            "tickwidth": 2
           }
          },
          "colorscale": {
           "sequential": [
            [
             0,
             "rgb(2,4,25)"
            ],
            [
             0.06274509803921569,
             "rgb(24,15,41)"
            ],
            [
             0.12549019607843137,
             "rgb(47,23,57)"
            ],
            [
             0.18823529411764706,
             "rgb(71,28,72)"
            ],
            [
             0.25098039215686274,
             "rgb(97,30,82)"
            ],
            [
             0.3137254901960784,
             "rgb(123,30,89)"
            ],
            [
             0.3764705882352941,
             "rgb(150,27,91)"
            ],
            [
             0.4392156862745098,
             "rgb(177,22,88)"
            ],
            [
             0.5019607843137255,
             "rgb(203,26,79)"
            ],
            [
             0.5647058823529412,
             "rgb(223,47,67)"
            ],
            [
             0.6274509803921569,
             "rgb(236,76,61)"
            ],
            [
             0.6901960784313725,
             "rgb(242,107,73)"
            ],
            [
             0.7529411764705882,
             "rgb(244,135,95)"
            ],
            [
             0.8156862745098039,
             "rgb(245,162,122)"
            ],
            [
             0.8784313725490196,
             "rgb(246,188,153)"
            ],
            [
             0.9411764705882353,
             "rgb(247,212,187)"
            ],
            [
             1,
             "rgb(250,234,220)"
            ]
           ],
           "sequentialminus": [
            [
             0,
             "rgb(2,4,25)"
            ],
            [
             0.06274509803921569,
             "rgb(24,15,41)"
            ],
            [
             0.12549019607843137,
             "rgb(47,23,57)"
            ],
            [
             0.18823529411764706,
             "rgb(71,28,72)"
            ],
            [
             0.25098039215686274,
             "rgb(97,30,82)"
            ],
            [
             0.3137254901960784,
             "rgb(123,30,89)"
            ],
            [
             0.3764705882352941,
             "rgb(150,27,91)"
            ],
            [
             0.4392156862745098,
             "rgb(177,22,88)"
            ],
            [
             0.5019607843137255,
             "rgb(203,26,79)"
            ],
            [
             0.5647058823529412,
             "rgb(223,47,67)"
            ],
            [
             0.6274509803921569,
             "rgb(236,76,61)"
            ],
            [
             0.6901960784313725,
             "rgb(242,107,73)"
            ],
            [
             0.7529411764705882,
             "rgb(244,135,95)"
            ],
            [
             0.8156862745098039,
             "rgb(245,162,122)"
            ],
            [
             0.8784313725490196,
             "rgb(246,188,153)"
            ],
            [
             0.9411764705882353,
             "rgb(247,212,187)"
            ],
            [
             1,
             "rgb(250,234,220)"
            ]
           ]
          },
          "colorway": [
           "rgb(76,114,176)",
           "rgb(221,132,82)",
           "rgb(85,168,104)",
           "rgb(196,78,82)",
           "rgb(129,114,179)",
           "rgb(147,120,96)",
           "rgb(218,139,195)",
           "rgb(140,140,140)",
           "rgb(204,185,116)",
           "rgb(100,181,205)"
          ],
          "font": {
           "color": "rgb(36,36,36)",
           "family": "Modern Computer"
          },
          "geo": {
           "bgcolor": "white",
           "lakecolor": "white",
           "landcolor": "rgb(234,234,242)",
           "showlakes": true,
           "showland": true,
           "subunitcolor": "white"
          },
          "height": 500,
          "hoverlabel": {
           "align": "left"
          },
          "hovermode": "closest",
          "legend": {
           "font": {
            "size": 15
           },
           "orientation": "h",
           "title": {
            "text": ""
           },
           "x": 0.5,
           "xanchor": "center",
           "y": -1.5,
           "yanchor": "bottom"
          },
          "paper_bgcolor": "white",
          "plot_bgcolor": "rgb(234,234,242)",
          "polar": {
           "angularaxis": {
            "gridcolor": "white",
            "linecolor": "white",
            "showgrid": true,
            "ticks": ""
           },
           "bgcolor": "rgb(234,234,242)",
           "radialaxis": {
            "gridcolor": "white",
            "linecolor": "white",
            "showgrid": true,
            "ticks": ""
           }
          },
          "scene": {
           "xaxis": {
            "backgroundcolor": "rgb(234,234,242)",
            "gridcolor": "white",
            "gridwidth": 2,
            "linecolor": "white",
            "showbackground": true,
            "showgrid": true,
            "ticks": "",
            "zerolinecolor": "white"
           },
           "yaxis": {
            "backgroundcolor": "rgb(234,234,242)",
            "gridcolor": "white",
            "gridwidth": 2,
            "linecolor": "white",
            "showbackground": true,
            "showgrid": true,
            "ticks": "",
            "zerolinecolor": "white"
           },
           "zaxis": {
            "backgroundcolor": "rgb(234,234,242)",
            "gridcolor": "white",
            "gridwidth": 2,
            "linecolor": "white",
            "showbackground": true,
            "showgrid": true,
            "ticks": "",
            "zerolinecolor": "white"
           }
          },
          "shapedefaults": {
           "fillcolor": "rgb(67,103,167)",
           "line": {
            "width": 0
           },
           "opacity": 0.5
          },
          "showlegend": true,
          "ternary": {
           "aaxis": {
            "gridcolor": "white",
            "linecolor": "white",
            "showgrid": true,
            "ticks": ""
           },
           "baxis": {
            "gridcolor": "white",
            "linecolor": "white",
            "showgrid": true,
            "ticks": ""
           },
           "bgcolor": "rgb(234,234,242)",
           "caxis": {
            "gridcolor": "white",
            "linecolor": "white",
            "showgrid": true,
            "ticks": ""
           }
          },
          "title": {
           "font": {
            "family": "Modern Computer",
            "size": 25
           },
           "x": 0.5
          },
          "width": 800,
          "xaxis": {
           "automargin": true,
           "gridcolor": "white",
           "linecolor": "white",
           "showgrid": true,
           "tickangle": 45,
           "tickfont": {
            "size": 15
           },
           "ticks": "",
           "title": {
            "font": {
             "size": 12
            },
            "text": ""
           },
           "zerolinecolor": "white"
          },
          "yaxis": {
           "automargin": true,
           "gridcolor": "white",
           "linecolor": "white",
           "showgrid": true,
           "tickfont": {
            "size": 13
           },
           "ticks": "",
           "title": {
            "font": {
             "size": 12
            },
            "text": ""
           },
           "zerolinecolor": "white"
          }
         }
        },
        "title": {
         "font": {
          "family": "Modern Computer",
          "size": 25
         },
         "text": "Metrics for Predicted and Baseline Queries",
         "x": 0.5
        },
        "width": 800,
        "xaxis": {
         "anchor": "y",
         "domain": [
          0,
          0.98
         ],
         "tickangle": 45,
         "tickfont": {
          "size": 15
         },
         "title": {
          "font": {
           "size": 12
          },
          "text": ""
         }
        },
        "xaxis2": {
         "anchor": "y2",
         "domain": [
          0,
          0.98
         ],
         "matches": "x",
         "showticklabels": false
        },
        "yaxis": {
         "anchor": "x",
         "domain": [
          0,
          0.45
         ],
         "dtick": 0.2,
         "tickfont": {
          "size": 15
         },
         "title": {
          "font": {
           "size": 12
          },
          "text": ""
         }
        },
        "yaxis2": {
         "anchor": "x2",
         "domain": [
          0.55,
          1
         ],
         "dtick": 0.2,
         "matches": "y",
         "tickfont": {
          "size": 15
         },
         "title": {
          "text": ""
         }
        }
       }
      }
     },
     "metadata": {},
     "output_type": "display_data"
    }
   ],
   "source": [
    "fig = px.histogram(plt_df, x=\"Topic\", y=[\"Recall\",\n",
    "                                        \"Cosine Precision\", \"Cluster Precision\", \"MVEE Precision\", \"Hull Precision\",\n",
    "                                        \"Cosine F2\",\"Cluster F2\", \"MVEE F2\", \"Hull F2\"\n",
    "                                                    ],\n",
    "                    title=\"Metrics for Predicted and Baseline Queries\", barmode=\"group\",\n",
    "                   facet_row=\"Index\", facet_row_spacing=0.1)\n",
    "\n",
    "fig.for_each_trace(lambda t: t.update(x=t.x[::-1], y=t.y[::-1]))\n",
    "fig.for_each_annotation(lambda a: a.update(text=a.text.split(\"=\")[-1], font_size=15))\n",
    "fig.update_layout(yaxis1_dtick=0.2, yaxis2_dtick=0.2, yaxis2_title=\"\",\n",
    "                   **PLOT_CONFIGS)\n",
    "fig.update_layout(yaxis1_tickfont_size=15, yaxis2_tickfont_size=15)\n",
    "# fig.write_image(\"LitQEval-report/pics/all-metrics-1.pdf\", width=1300, height=600)\n",
    "fig.show()"
   ]
  },
  {
   "cell_type": "code",
   "execution_count": 811,
   "metadata": {},
   "outputs": [
    {
     "data": {
      "application/vnd.plotly.v1+json": {
       "config": {
        "plotlyServerURL": "https://plot.ly"
       },
       "data": [
        {
         "coloraxis": "coloraxis",
         "hovertemplate": "Metric: %{x}<br>Topic: %{y}<br>Difference: %{z}<extra></extra>",
         "name": "0",
         "textfont": {
          "size": 15
         },
         "texttemplate": "%{z:.2f}",
         "type": "heatmap",
         "x": [
          "Recall",
          "Cosine Precision",
          "Cluster Precision",
          "MVEE Precision",
          "Hull Precision",
          "Cosine F2",
          "Cluster F2",
          "MVEE F2",
          "Hull F2"
         ],
         "xaxis": "x",
         "y": [
          "Robotic Arthroplasty",
          "Soft Robotics",
          "Crop Yield Prediction",
          "Synthetic Biology",
          "Resilience in Business and management",
          "Cervical Myelopathy",
          "Drones in Agriculture",
          "Tourism Growth Nexus",
          "Sustainable Biofuel Economy",
          "Perovskite Solar Cells Stability",
          "Nanopharmaceuticals OR Nanonutraceuticals",
          "Green Warehousing",
          "AI on Edge Devices",
          "Internet of Things in Healthcare",
          "Software Process Line",
          "Data Stream Processing Latency",
          "Business Process Meta Models",
          "Multicore Performance Prediction",
          "Cloud Migration",
          "Software Fault Prediction Metrics",
          "Software Defect Prediction"
         ],
         "yaxis": "y",
         "z": [
          [
           0,
           -0.76,
           -0.53,
           -0.73,
           -0.7,
           -0.56,
           -0.49,
           -0.53,
           -0.54
          ],
          [
           0.11,
           -0.13,
           -0.15,
           -0.12,
           -0.08,
           -0.13,
           -0.09,
           -0.15,
           -0.1
          ],
          [
           0.11,
           -0.28,
           -0.12,
           -0.24,
           -0.27,
           -0.21,
           -0.23,
           -0.47,
           -0.33
          ],
          [
           0.31,
           -0.05,
           -0.18,
           0.5,
           0.38,
           0.03,
           0.08,
           -0.19,
           -0.08
          ],
          [
           0.18,
           -0.03,
           0.16,
           0.07,
           0.04,
           0.08,
           0.17,
           0.14,
           0.12
          ],
          [
           0.08,
           -0.28,
           -0.3,
           -0.05,
           -0.02,
           -0.32,
           -0.25,
           -0.61,
           -0.53
          ],
          [
           0.48,
           -0.18,
           0.31,
           0.11,
           0.07,
           0.22,
           0.19,
           0.24,
           0.2
          ],
          [
           0,
           -0.56,
           0.31,
           0,
           0,
           -0.07,
           -0.04,
           0,
           0
          ],
          [
           0.26,
           -0.12,
           0.74,
           0.64,
           0.42,
           0.19,
           0.02,
           0.05,
           0.18
          ],
          [
           0.1,
           -0.24,
           -0.21,
           -0.13,
           -0.21,
           -0.46,
           -0.43,
           -0.5,
           -0.45
          ],
          [
           0.04,
           0,
           0.62,
           0,
           0,
           0.04,
           0.01,
           0,
           0
          ],
          [
           0.05,
           -0.22,
           -0.41,
           0.02,
           0.1,
           -0.13,
           -0.03,
           -0.04,
           0.02
          ],
          [
           0.25,
           -0.23,
           0.05,
           0.16,
           0.1,
           0.09,
           -0.09,
           0.09,
           0.14
          ],
          [
           0.17,
           -0.2,
           -0.09,
           -0.15,
           -0.08,
           -0.05,
           -0.16,
           -0.12,
           -0.04
          ],
          [
           0.02,
           0,
           0.24,
           0.11,
           0.08,
           -0.01,
           -0.02,
           -0.16,
           -0.08
          ],
          [
           0.09,
           -0.29,
           -0.48,
           -0.24,
           -0.18,
           -0.13,
           -0.15,
           -0.07,
           -0.09
          ],
          [
           0.31,
           -0.2,
           -0.23,
           -0.17,
           -0.09,
           -0.1,
           -0.05,
           -0.02,
           -0.02
          ],
          [
           0.27,
           -0.24,
           1,
           0.14,
           0.06,
           0.2,
           0.01,
           0.22,
           0.16
          ],
          [
           0.09,
           -0.1,
           0.02,
           0.21,
           0.09,
           -0.27,
           0.04,
           -0.64,
           -0.35
          ],
          [
           0.31,
           -0.6,
           0.67,
           -0.05,
           -0.04,
           -0.05,
           0.02,
           0.14,
           0.11
          ],
          [
           0.19,
           -0.47,
           -0.31,
           -0.39,
           -0.3,
           -0.04,
           0.03,
           0.02,
           0
          ]
         ]
        }
       ],
       "layout": {
        "coloraxis": {
         "cmid": 0,
         "colorbar": {
          "title": {
           "text": "Difference"
          }
         },
         "colorscale": [
          [
           0,
           "rgb(103,0,31)"
          ],
          [
           0.1,
           "rgb(178,24,43)"
          ],
          [
           0.2,
           "rgb(214,96,77)"
          ],
          [
           0.3,
           "rgb(244,165,130)"
          ],
          [
           0.4,
           "rgb(253,219,199)"
          ],
          [
           0.5,
           "rgb(247,247,247)"
          ],
          [
           0.6,
           "rgb(209,229,240)"
          ],
          [
           0.7,
           "rgb(146,197,222)"
          ],
          [
           0.8,
           "rgb(67,147,195)"
          ],
          [
           0.9,
           "rgb(33,102,172)"
          ],
          [
           1,
           "rgb(5,48,97)"
          ]
         ]
        },
        "font": {
         "family": "Modern Computer"
        },
        "height": 500,
        "legend": {
         "font": {
          "size": 15
         },
         "orientation": "h",
         "title": {
          "text": ""
         },
         "x": 0.5,
         "xanchor": "center",
         "y": -1.5,
         "yanchor": "bottom"
        },
        "margin": {
         "b": 0,
         "l": 0,
         "r": 0,
         "t": 50
        },
        "showlegend": true,
        "template": {
         "data": {
          "bar": [
           {
            "error_x": {
             "color": "rgb(36,36,36)"
            },
            "error_y": {
             "color": "rgb(36,36,36)"
            },
            "marker": {
             "line": {
              "color": "rgb(234,234,242)",
              "width": 0.5
             },
             "pattern": {
              "fillmode": "overlay",
              "size": 10,
              "solidity": 0.2
             }
            },
            "type": "bar"
           }
          ],
          "barpolar": [
           {
            "marker": {
             "line": {
              "color": "rgb(234,234,242)",
              "width": 0.5
             },
             "pattern": {
              "fillmode": "overlay",
              "size": 10,
              "solidity": 0.2
             }
            },
            "type": "barpolar"
           }
          ],
          "carpet": [
           {
            "aaxis": {
             "endlinecolor": "rgb(36,36,36)",
             "gridcolor": "white",
             "linecolor": "white",
             "minorgridcolor": "white",
             "startlinecolor": "rgb(36,36,36)"
            },
            "baxis": {
             "endlinecolor": "rgb(36,36,36)",
             "gridcolor": "white",
             "linecolor": "white",
             "minorgridcolor": "white",
             "startlinecolor": "rgb(36,36,36)"
            },
            "type": "carpet"
           }
          ],
          "choropleth": [
           {
            "colorbar": {
             "outlinewidth": 0,
             "tickcolor": "rgb(36,36,36)",
             "ticklen": 8,
             "ticks": "outside",
             "tickwidth": 2
            },
            "type": "choropleth"
           }
          ],
          "contour": [
           {
            "colorbar": {
             "outlinewidth": 0,
             "tickcolor": "rgb(36,36,36)",
             "ticklen": 8,
             "ticks": "outside",
             "tickwidth": 2
            },
            "colorscale": [
             [
              0,
              "rgb(2,4,25)"
             ],
             [
              0.06274509803921569,
              "rgb(24,15,41)"
             ],
             [
              0.12549019607843137,
              "rgb(47,23,57)"
             ],
             [
              0.18823529411764706,
              "rgb(71,28,72)"
             ],
             [
              0.25098039215686274,
              "rgb(97,30,82)"
             ],
             [
              0.3137254901960784,
              "rgb(123,30,89)"
             ],
             [
              0.3764705882352941,
              "rgb(150,27,91)"
             ],
             [
              0.4392156862745098,
              "rgb(177,22,88)"
             ],
             [
              0.5019607843137255,
              "rgb(203,26,79)"
             ],
             [
              0.5647058823529412,
              "rgb(223,47,67)"
             ],
             [
              0.6274509803921569,
              "rgb(236,76,61)"
             ],
             [
              0.6901960784313725,
              "rgb(242,107,73)"
             ],
             [
              0.7529411764705882,
              "rgb(244,135,95)"
             ],
             [
              0.8156862745098039,
              "rgb(245,162,122)"
             ],
             [
              0.8784313725490196,
              "rgb(246,188,153)"
             ],
             [
              0.9411764705882353,
              "rgb(247,212,187)"
             ],
             [
              1,
              "rgb(250,234,220)"
             ]
            ],
            "type": "contour"
           }
          ],
          "contourcarpet": [
           {
            "colorbar": {
             "outlinewidth": 0,
             "tickcolor": "rgb(36,36,36)",
             "ticklen": 8,
             "ticks": "outside",
             "tickwidth": 2
            },
            "type": "contourcarpet"
           }
          ],
          "heatmap": [
           {
            "colorbar": {
             "outlinewidth": 0,
             "tickcolor": "rgb(36,36,36)",
             "ticklen": 8,
             "ticks": "outside",
             "tickwidth": 2
            },
            "colorscale": [
             [
              0,
              "rgb(2,4,25)"
             ],
             [
              0.06274509803921569,
              "rgb(24,15,41)"
             ],
             [
              0.12549019607843137,
              "rgb(47,23,57)"
             ],
             [
              0.18823529411764706,
              "rgb(71,28,72)"
             ],
             [
              0.25098039215686274,
              "rgb(97,30,82)"
             ],
             [
              0.3137254901960784,
              "rgb(123,30,89)"
             ],
             [
              0.3764705882352941,
              "rgb(150,27,91)"
             ],
             [
              0.4392156862745098,
              "rgb(177,22,88)"
             ],
             [
              0.5019607843137255,
              "rgb(203,26,79)"
             ],
             [
              0.5647058823529412,
              "rgb(223,47,67)"
             ],
             [
              0.6274509803921569,
              "rgb(236,76,61)"
             ],
             [
              0.6901960784313725,
              "rgb(242,107,73)"
             ],
             [
              0.7529411764705882,
              "rgb(244,135,95)"
             ],
             [
              0.8156862745098039,
              "rgb(245,162,122)"
             ],
             [
              0.8784313725490196,
              "rgb(246,188,153)"
             ],
             [
              0.9411764705882353,
              "rgb(247,212,187)"
             ],
             [
              1,
              "rgb(250,234,220)"
             ]
            ],
            "type": "heatmap"
           }
          ],
          "heatmapgl": [
           {
            "colorbar": {
             "outlinewidth": 0,
             "tickcolor": "rgb(36,36,36)",
             "ticklen": 8,
             "ticks": "outside",
             "tickwidth": 2
            },
            "colorscale": [
             [
              0,
              "rgb(2,4,25)"
             ],
             [
              0.06274509803921569,
              "rgb(24,15,41)"
             ],
             [
              0.12549019607843137,
              "rgb(47,23,57)"
             ],
             [
              0.18823529411764706,
              "rgb(71,28,72)"
             ],
             [
              0.25098039215686274,
              "rgb(97,30,82)"
             ],
             [
              0.3137254901960784,
              "rgb(123,30,89)"
             ],
             [
              0.3764705882352941,
              "rgb(150,27,91)"
             ],
             [
              0.4392156862745098,
              "rgb(177,22,88)"
             ],
             [
              0.5019607843137255,
              "rgb(203,26,79)"
             ],
             [
              0.5647058823529412,
              "rgb(223,47,67)"
             ],
             [
              0.6274509803921569,
              "rgb(236,76,61)"
             ],
             [
              0.6901960784313725,
              "rgb(242,107,73)"
             ],
             [
              0.7529411764705882,
              "rgb(244,135,95)"
             ],
             [
              0.8156862745098039,
              "rgb(245,162,122)"
             ],
             [
              0.8784313725490196,
              "rgb(246,188,153)"
             ],
             [
              0.9411764705882353,
              "rgb(247,212,187)"
             ],
             [
              1,
              "rgb(250,234,220)"
             ]
            ],
            "type": "heatmapgl"
           }
          ],
          "histogram": [
           {
            "marker": {
             "pattern": {
              "fillmode": "overlay",
              "size": 10,
              "solidity": 0.2
             }
            },
            "type": "histogram"
           }
          ],
          "histogram2d": [
           {
            "colorbar": {
             "outlinewidth": 0,
             "tickcolor": "rgb(36,36,36)",
             "ticklen": 8,
             "ticks": "outside",
             "tickwidth": 2
            },
            "colorscale": [
             [
              0,
              "rgb(2,4,25)"
             ],
             [
              0.06274509803921569,
              "rgb(24,15,41)"
             ],
             [
              0.12549019607843137,
              "rgb(47,23,57)"
             ],
             [
              0.18823529411764706,
              "rgb(71,28,72)"
             ],
             [
              0.25098039215686274,
              "rgb(97,30,82)"
             ],
             [
              0.3137254901960784,
              "rgb(123,30,89)"
             ],
             [
              0.3764705882352941,
              "rgb(150,27,91)"
             ],
             [
              0.4392156862745098,
              "rgb(177,22,88)"
             ],
             [
              0.5019607843137255,
              "rgb(203,26,79)"
             ],
             [
              0.5647058823529412,
              "rgb(223,47,67)"
             ],
             [
              0.6274509803921569,
              "rgb(236,76,61)"
             ],
             [
              0.6901960784313725,
              "rgb(242,107,73)"
             ],
             [
              0.7529411764705882,
              "rgb(244,135,95)"
             ],
             [
              0.8156862745098039,
              "rgb(245,162,122)"
             ],
             [
              0.8784313725490196,
              "rgb(246,188,153)"
             ],
             [
              0.9411764705882353,
              "rgb(247,212,187)"
             ],
             [
              1,
              "rgb(250,234,220)"
             ]
            ],
            "type": "histogram2d"
           }
          ],
          "histogram2dcontour": [
           {
            "colorbar": {
             "outlinewidth": 0,
             "tickcolor": "rgb(36,36,36)",
             "ticklen": 8,
             "ticks": "outside",
             "tickwidth": 2
            },
            "colorscale": [
             [
              0,
              "rgb(2,4,25)"
             ],
             [
              0.06274509803921569,
              "rgb(24,15,41)"
             ],
             [
              0.12549019607843137,
              "rgb(47,23,57)"
             ],
             [
              0.18823529411764706,
              "rgb(71,28,72)"
             ],
             [
              0.25098039215686274,
              "rgb(97,30,82)"
             ],
             [
              0.3137254901960784,
              "rgb(123,30,89)"
             ],
             [
              0.3764705882352941,
              "rgb(150,27,91)"
             ],
             [
              0.4392156862745098,
              "rgb(177,22,88)"
             ],
             [
              0.5019607843137255,
              "rgb(203,26,79)"
             ],
             [
              0.5647058823529412,
              "rgb(223,47,67)"
             ],
             [
              0.6274509803921569,
              "rgb(236,76,61)"
             ],
             [
              0.6901960784313725,
              "rgb(242,107,73)"
             ],
             [
              0.7529411764705882,
              "rgb(244,135,95)"
             ],
             [
              0.8156862745098039,
              "rgb(245,162,122)"
             ],
             [
              0.8784313725490196,
              "rgb(246,188,153)"
             ],
             [
              0.9411764705882353,
              "rgb(247,212,187)"
             ],
             [
              1,
              "rgb(250,234,220)"
             ]
            ],
            "type": "histogram2dcontour"
           }
          ],
          "mesh3d": [
           {
            "colorbar": {
             "outlinewidth": 0,
             "tickcolor": "rgb(36,36,36)",
             "ticklen": 8,
             "ticks": "outside",
             "tickwidth": 2
            },
            "type": "mesh3d"
           }
          ],
          "parcoords": [
           {
            "line": {
             "colorbar": {
              "outlinewidth": 0,
              "tickcolor": "rgb(36,36,36)",
              "ticklen": 8,
              "ticks": "outside",
              "tickwidth": 2
             }
            },
            "type": "parcoords"
           }
          ],
          "pie": [
           {
            "automargin": true,
            "type": "pie"
           }
          ],
          "scatter": [
           {
            "fillpattern": {
             "fillmode": "overlay",
             "size": 10,
             "solidity": 0.2
            },
            "type": "scatter"
           }
          ],
          "scatter3d": [
           {
            "line": {
             "colorbar": {
              "outlinewidth": 0,
              "tickcolor": "rgb(36,36,36)",
              "ticklen": 8,
              "ticks": "outside",
              "tickwidth": 2
             }
            },
            "marker": {
             "colorbar": {
              "outlinewidth": 0,
              "tickcolor": "rgb(36,36,36)",
              "ticklen": 8,
              "ticks": "outside",
              "tickwidth": 2
             }
            },
            "type": "scatter3d"
           }
          ],
          "scattercarpet": [
           {
            "marker": {
             "colorbar": {
              "outlinewidth": 0,
              "tickcolor": "rgb(36,36,36)",
              "ticklen": 8,
              "ticks": "outside",
              "tickwidth": 2
             }
            },
            "type": "scattercarpet"
           }
          ],
          "scattergeo": [
           {
            "marker": {
             "colorbar": {
              "outlinewidth": 0,
              "tickcolor": "rgb(36,36,36)",
              "ticklen": 8,
              "ticks": "outside",
              "tickwidth": 2
             }
            },
            "type": "scattergeo"
           }
          ],
          "scattergl": [
           {
            "marker": {
             "colorbar": {
              "outlinewidth": 0,
              "tickcolor": "rgb(36,36,36)",
              "ticklen": 8,
              "ticks": "outside",
              "tickwidth": 2
             }
            },
            "type": "scattergl"
           }
          ],
          "scattermapbox": [
           {
            "marker": {
             "colorbar": {
              "outlinewidth": 0,
              "tickcolor": "rgb(36,36,36)",
              "ticklen": 8,
              "ticks": "outside",
              "tickwidth": 2
             }
            },
            "type": "scattermapbox"
           }
          ],
          "scatterpolar": [
           {
            "marker": {
             "colorbar": {
              "outlinewidth": 0,
              "tickcolor": "rgb(36,36,36)",
              "ticklen": 8,
              "ticks": "outside",
              "tickwidth": 2
             }
            },
            "type": "scatterpolar"
           }
          ],
          "scatterpolargl": [
           {
            "marker": {
             "colorbar": {
              "outlinewidth": 0,
              "tickcolor": "rgb(36,36,36)",
              "ticklen": 8,
              "ticks": "outside",
              "tickwidth": 2
             }
            },
            "type": "scatterpolargl"
           }
          ],
          "scatterternary": [
           {
            "marker": {
             "colorbar": {
              "outlinewidth": 0,
              "tickcolor": "rgb(36,36,36)",
              "ticklen": 8,
              "ticks": "outside",
              "tickwidth": 2
             }
            },
            "type": "scatterternary"
           }
          ],
          "surface": [
           {
            "colorbar": {
             "outlinewidth": 0,
             "tickcolor": "rgb(36,36,36)",
             "ticklen": 8,
             "ticks": "outside",
             "tickwidth": 2
            },
            "colorscale": [
             [
              0,
              "rgb(2,4,25)"
             ],
             [
              0.06274509803921569,
              "rgb(24,15,41)"
             ],
             [
              0.12549019607843137,
              "rgb(47,23,57)"
             ],
             [
              0.18823529411764706,
              "rgb(71,28,72)"
             ],
             [
              0.25098039215686274,
              "rgb(97,30,82)"
             ],
             [
              0.3137254901960784,
              "rgb(123,30,89)"
             ],
             [
              0.3764705882352941,
              "rgb(150,27,91)"
             ],
             [
              0.4392156862745098,
              "rgb(177,22,88)"
             ],
             [
              0.5019607843137255,
              "rgb(203,26,79)"
             ],
             [
              0.5647058823529412,
              "rgb(223,47,67)"
             ],
             [
              0.6274509803921569,
              "rgb(236,76,61)"
             ],
             [
              0.6901960784313725,
              "rgb(242,107,73)"
             ],
             [
              0.7529411764705882,
              "rgb(244,135,95)"
             ],
             [
              0.8156862745098039,
              "rgb(245,162,122)"
             ],
             [
              0.8784313725490196,
              "rgb(246,188,153)"
             ],
             [
              0.9411764705882353,
              "rgb(247,212,187)"
             ],
             [
              1,
              "rgb(250,234,220)"
             ]
            ],
            "type": "surface"
           }
          ],
          "table": [
           {
            "cells": {
             "fill": {
              "color": "rgb(231,231,240)"
             },
             "line": {
              "color": "white"
             }
            },
            "header": {
             "fill": {
              "color": "rgb(183,183,191)"
             },
             "line": {
              "color": "white"
             }
            },
            "type": "table"
           }
          ]
         },
         "layout": {
          "annotationdefaults": {
           "arrowcolor": "rgb(67,103,167)"
          },
          "autotypenumbers": "strict",
          "coloraxis": {
           "colorbar": {
            "outlinewidth": 0,
            "tickcolor": "rgb(36,36,36)",
            "ticklen": 8,
            "ticks": "outside",
            "tickwidth": 2
           }
          },
          "colorscale": {
           "sequential": [
            [
             0,
             "rgb(2,4,25)"
            ],
            [
             0.06274509803921569,
             "rgb(24,15,41)"
            ],
            [
             0.12549019607843137,
             "rgb(47,23,57)"
            ],
            [
             0.18823529411764706,
             "rgb(71,28,72)"
            ],
            [
             0.25098039215686274,
             "rgb(97,30,82)"
            ],
            [
             0.3137254901960784,
             "rgb(123,30,89)"
            ],
            [
             0.3764705882352941,
             "rgb(150,27,91)"
            ],
            [
             0.4392156862745098,
             "rgb(177,22,88)"
            ],
            [
             0.5019607843137255,
             "rgb(203,26,79)"
            ],
            [
             0.5647058823529412,
             "rgb(223,47,67)"
            ],
            [
             0.6274509803921569,
             "rgb(236,76,61)"
            ],
            [
             0.6901960784313725,
             "rgb(242,107,73)"
            ],
            [
             0.7529411764705882,
             "rgb(244,135,95)"
            ],
            [
             0.8156862745098039,
             "rgb(245,162,122)"
            ],
            [
             0.8784313725490196,
             "rgb(246,188,153)"
            ],
            [
             0.9411764705882353,
             "rgb(247,212,187)"
            ],
            [
             1,
             "rgb(250,234,220)"
            ]
           ],
           "sequentialminus": [
            [
             0,
             "rgb(2,4,25)"
            ],
            [
             0.06274509803921569,
             "rgb(24,15,41)"
            ],
            [
             0.12549019607843137,
             "rgb(47,23,57)"
            ],
            [
             0.18823529411764706,
             "rgb(71,28,72)"
            ],
            [
             0.25098039215686274,
             "rgb(97,30,82)"
            ],
            [
             0.3137254901960784,
             "rgb(123,30,89)"
            ],
            [
             0.3764705882352941,
             "rgb(150,27,91)"
            ],
            [
             0.4392156862745098,
             "rgb(177,22,88)"
            ],
            [
             0.5019607843137255,
             "rgb(203,26,79)"
            ],
            [
             0.5647058823529412,
             "rgb(223,47,67)"
            ],
            [
             0.6274509803921569,
             "rgb(236,76,61)"
            ],
            [
             0.6901960784313725,
             "rgb(242,107,73)"
            ],
            [
             0.7529411764705882,
             "rgb(244,135,95)"
            ],
            [
             0.8156862745098039,
             "rgb(245,162,122)"
            ],
            [
             0.8784313725490196,
             "rgb(246,188,153)"
            ],
            [
             0.9411764705882353,
             "rgb(247,212,187)"
            ],
            [
             1,
             "rgb(250,234,220)"
            ]
           ]
          },
          "colorway": [
           "rgb(76,114,176)",
           "rgb(221,132,82)",
           "rgb(85,168,104)",
           "rgb(196,78,82)",
           "rgb(129,114,179)",
           "rgb(147,120,96)",
           "rgb(218,139,195)",
           "rgb(140,140,140)",
           "rgb(204,185,116)",
           "rgb(100,181,205)"
          ],
          "font": {
           "color": "rgb(36,36,36)",
           "family": "Modern Computer"
          },
          "geo": {
           "bgcolor": "white",
           "lakecolor": "white",
           "landcolor": "rgb(234,234,242)",
           "showlakes": true,
           "showland": true,
           "subunitcolor": "white"
          },
          "height": 500,
          "hoverlabel": {
           "align": "left"
          },
          "hovermode": "closest",
          "legend": {
           "font": {
            "size": 15
           },
           "orientation": "h",
           "title": {
            "text": ""
           },
           "x": 0.5,
           "xanchor": "center",
           "y": -1.5,
           "yanchor": "bottom"
          },
          "paper_bgcolor": "white",
          "plot_bgcolor": "rgb(234,234,242)",
          "polar": {
           "angularaxis": {
            "gridcolor": "white",
            "linecolor": "white",
            "showgrid": true,
            "ticks": ""
           },
           "bgcolor": "rgb(234,234,242)",
           "radialaxis": {
            "gridcolor": "white",
            "linecolor": "white",
            "showgrid": true,
            "ticks": ""
           }
          },
          "scene": {
           "xaxis": {
            "backgroundcolor": "rgb(234,234,242)",
            "gridcolor": "white",
            "gridwidth": 2,
            "linecolor": "white",
            "showbackground": true,
            "showgrid": true,
            "ticks": "",
            "zerolinecolor": "white"
           },
           "yaxis": {
            "backgroundcolor": "rgb(234,234,242)",
            "gridcolor": "white",
            "gridwidth": 2,
            "linecolor": "white",
            "showbackground": true,
            "showgrid": true,
            "ticks": "",
            "zerolinecolor": "white"
           },
           "zaxis": {
            "backgroundcolor": "rgb(234,234,242)",
            "gridcolor": "white",
            "gridwidth": 2,
            "linecolor": "white",
            "showbackground": true,
            "showgrid": true,
            "ticks": "",
            "zerolinecolor": "white"
           }
          },
          "shapedefaults": {
           "fillcolor": "rgb(67,103,167)",
           "line": {
            "width": 0
           },
           "opacity": 0.5
          },
          "showlegend": true,
          "ternary": {
           "aaxis": {
            "gridcolor": "white",
            "linecolor": "white",
            "showgrid": true,
            "ticks": ""
           },
           "baxis": {
            "gridcolor": "white",
            "linecolor": "white",
            "showgrid": true,
            "ticks": ""
           },
           "bgcolor": "rgb(234,234,242)",
           "caxis": {
            "gridcolor": "white",
            "linecolor": "white",
            "showgrid": true,
            "ticks": ""
           }
          },
          "title": {
           "font": {
            "family": "Modern Computer",
            "size": 25
           },
           "x": 0.5
          },
          "width": 800,
          "xaxis": {
           "automargin": true,
           "gridcolor": "white",
           "linecolor": "white",
           "showgrid": true,
           "tickangle": 45,
           "tickfont": {
            "size": 15
           },
           "ticks": "",
           "title": {
            "font": {
             "size": 12
            },
            "text": ""
           },
           "zerolinecolor": "white"
          },
          "yaxis": {
           "automargin": true,
           "gridcolor": "white",
           "linecolor": "white",
           "showgrid": true,
           "tickfont": {
            "size": 13
           },
           "ticks": "",
           "title": {
            "font": {
             "size": 12
            },
            "text": ""
           },
           "zerolinecolor": "white"
          }
         }
        },
        "title": {
         "font": {
          "family": "Modern Computer",
          "size": 25
         },
         "text": "Performance Difference between Predicted and Baseline Queries",
         "x": 0.5
        },
        "width": 800,
        "xaxis": {
         "anchor": "y",
         "domain": [
          0,
          1
         ],
         "tickangle": 45,
         "tickfont": {
          "size": 15
         },
         "title": {
          "font": {
           "size": 12
          },
          "text": ""
         }
        },
        "yaxis": {
         "anchor": "x",
         "autorange": "reversed",
         "domain": [
          0,
          1
         ],
         "tickfont": {
          "size": 13
         },
         "title": {
          "font": {
           "size": 12
          },
          "text": ""
         }
        }
       }
      }
     },
     "metadata": {},
     "output_type": "display_data"
    }
   ],
   "source": [
    "diff_df = (results[results[\"Index\"] == \"Predicted\"][[\"Recall\",\n",
    "                                                    \"Cosine Precision\", \"Cluster Precision\", \"MVEE Precision\", \"Hull Precision\",\n",
    "                                                    \"Cosine F2\",\"Cluster F2\", \"MVEE F2\", \"Hull F2\",\n",
    "                                                    ]].values\\\n",
    "      - results[results[\"Index\"] == \"Baseline\"][[\"Recall\",\n",
    "                                                    \"Cosine Precision\", \"Cluster Precision\", \"MVEE Precision\", \"Hull Precision\",\n",
    "                                                    \"Cosine F2\",\"Cluster F2\", \"MVEE F2\", \"Hull F2\",\n",
    "                                                    ]].values).astype(float)\n",
    "\n",
    "diff_df = pd.DataFrame(np.round(diff_df,2), columns=[\"Recall\",\n",
    "                                                    \"Cosine Precision\", \"Cluster Precision\", \"MVEE Precision\", \"Hull Precision\",\n",
    "                                                    \"Cosine F2\",\"Cluster F2\", \"MVEE F2\", \"Hull F2\",\n",
    "                                                    ], index=results.dropna()[\"Topic\"])\n",
    "fig = px.imshow(diff_df, title=\"Performance Difference between Predicted and Baseline Queries\",\n",
    "                color_continuous_midpoint=0, color_continuous_scale=\"RdBu\",\n",
    "                labels=dict(x=\"Metric\", y=\"Topic\", color=\"Difference\"), aspect=\"auto\",\n",
    "                text_auto=\".2f\")\n",
    "fig.update_layout(\n",
    "        margin={\"t\": 50, \"b\": 0, \"r\": 0, \"l\": 0,},\n",
    "        **PLOT_CONFIGS)\n",
    "fig.update_traces(textfont_size=15)\n",
    "fig.show()\n",
    "# pio.write_image(fig, \"LitQEval-report/pics/eval1_results.pdf\", width=1200)"
   ]
  },
  {
   "cell_type": "code",
   "execution_count": 812,
   "metadata": {},
   "outputs": [
    {
     "data": {
      "application/vnd.plotly.v1+json": {
       "config": {
        "plotlyServerURL": "https://plot.ly"
       },
       "data": [
        {
         "coloraxis": "coloraxis",
         "hovertemplate": "Metric: %{x}<br>Topic: %{y}<br>Value: %{z}<extra></extra>",
         "name": "0",
         "text": [
          [
           "",
           "",
           "",
           "",
           "",
           2834,
           1064,
           3161,
           2855
          ],
          [
           "",
           "",
           "",
           "",
           "",
           4784,
           6463,
           10591,
           7001
          ],
          [
           "",
           "",
           "",
           "",
           "",
           5708,
           13870,
           23459,
           15796
          ],
          [
           "",
           "",
           "",
           "",
           "",
           3255,
           8122,
           33727,
           21593
          ],
          [
           "",
           "",
           "",
           "",
           "",
           1134,
           7439,
           3053,
           1983
          ],
          [
           "",
           "",
           "",
           "",
           "",
           11665,
           4311,
           25011,
           20825
          ],
          [
           "",
           "",
           "",
           "",
           "",
           4111,
           14557,
           5209,
           3105
          ],
          [
           "",
           "",
           "",
           "",
           "",
           348,
           22249,
           0,
           0
          ],
          [
           "",
           "",
           "",
           "",
           "",
           9370,
           27873,
           24042,
           15890
          ],
          [
           "",
           "",
           "",
           "",
           "",
           31139,
           20111,
           31710,
           19419
          ],
          [
           "",
           "",
           "",
           "",
           "",
           11240,
           28955,
           0,
           0
          ],
          [
           "",
           "",
           "",
           "",
           "",
           113,
           4850,
           15676,
           11164
          ],
          [
           "",
           "",
           "",
           "",
           "",
           6716,
           28760,
           12624,
           6575
          ],
          [
           "",
           "",
           "",
           "",
           "",
           8581,
           19224,
           14259,
           9702
          ],
          [
           "",
           "",
           "",
           "",
           "",
           893,
           14030,
           13537,
           10326
          ],
          [
           "",
           "",
           "",
           "",
           "",
           721,
           661,
           1874,
           1352
          ],
          [
           "",
           "",
           "",
           "",
           "",
           1885,
           3390,
           3258,
           2417
          ],
          [
           "",
           "",
           "",
           "",
           "",
           3441,
           29237,
           4109,
           1773
          ],
          [
           "",
           "",
           "",
           "",
           "",
           1414,
           2352,
           27837,
           15432
          ],
          [
           "",
           "",
           "",
           "",
           "",
           1485,
           19153,
           5025,
           3074
          ],
          [
           "",
           "",
           "",
           "",
           "",
           2817,
           3079,
           5741,
           3609
          ]
         ],
         "textfont": {
          "size": 15
         },
         "texttemplate": "%{text:.2s}",
         "type": "heatmap",
         "x": [
          "Recall",
          "Cosine Precision",
          "Cluster Precision",
          "MVEE Precision",
          "Hull Precision",
          "Cosine F2",
          "Cluster F2",
          "MVEE F2",
          "Hull F2"
         ],
         "xaxis": "x",
         "y": [
          "Robotic Arthroplasty",
          "Soft Robotics",
          "Crop Yield Prediction",
          "Synthetic Biology",
          "Resilience in Business and management",
          "Cervical Myelopathy",
          "Drones in Agriculture",
          "Tourism Growth Nexus",
          "Sustainable Biofuel Economy",
          "Perovskite Solar Cells Stability",
          "Nanopharmaceuticals OR Nanonutraceuticals",
          "Green Warehousing",
          "AI on Edge Devices",
          "Internet of Things in Healthcare",
          "Software Process Line",
          "Data Stream Processing Latency",
          "Business Process Meta Models",
          "Multicore Performance Prediction",
          "Cloud Migration",
          "Software Fault Prediction Metrics",
          "Software Defect Prediction"
         ],
         "yaxis": "y",
         "z": [
          [
           0.96,
           0.12,
           0.05,
           0.14,
           0.12,
           0.37,
           0.18,
           0.39,
           0.37
          ],
          [
           0.64,
           0.1,
           0.14,
           0.22,
           0.15,
           0.25,
           0.26,
           0.28,
           0.29
          ],
          [
           0.65,
           0.12,
           0.29,
           0.49,
           0.33,
           0.27,
           0.22,
           0.05,
           0.18
          ],
          [
           0.52,
           0.07,
           0.17,
           0.72,
           0.46,
           0.2,
           0.26,
           0,
           0.07
          ],
          [
           0.18,
           0.02,
           0.16,
           0.07,
           0.04,
           0.08,
           0.17,
           0.14,
           0.12
          ],
          [
           0.85,
           0.28,
           0.1,
           0.61,
           0.51,
           0.31,
           0.27,
           0.04,
           0.1
          ],
          [
           0.48,
           0.09,
           0.31,
           0.11,
           0.07,
           0.22,
           0.19,
           0.24,
           0.2
          ],
          [
           0.08,
           0.01,
           0.57,
           0,
           0,
           0.03,
           0.05,
           0,
           0
          ],
          [
           0.28,
           0.25,
           0.74,
           0.64,
           0.42,
           0.21,
           0.02,
           0.05,
           0.18
          ],
          [
           1,
           0.68,
           0.44,
           0.69,
           0.42,
           0,
           0.1,
           0,
           0.12
          ],
          [
           0.04,
           0.24,
           0.62,
           0,
           0,
           0.04,
           0.01,
           0,
           0
          ],
          [
           0.18,
           0,
           0.11,
           0.35,
           0.25,
           0.01,
           0.15,
           0.14,
           0.17
          ],
          [
           0.36,
           0.14,
           0.59,
           0.26,
           0.13,
           0.22,
           0.01,
           0.2,
           0.22
          ],
          [
           0.52,
           0.2,
           0.45,
           0.33,
           0.23,
           0.27,
           0.12,
           0.21,
           0.27
          ],
          [
           0.63,
           0.02,
           0.32,
           0.3,
           0.23,
           0.09,
           0.22,
           0.24,
           0.28
          ],
          [
           0.26,
           0.02,
           0.01,
           0.04,
           0.03,
           0.06,
           0.06,
           0.13,
           0.1
          ],
          [
           0.62,
           0.06,
           0.11,
           0.1,
           0.08,
           0.2,
           0.26,
           0.28,
           0.24
          ],
          [
           0.27,
           0.12,
           1,
           0.14,
           0.06,
           0.2,
           0.01,
           0.22,
           0.16
          ],
          [
           0.95,
           0.03,
           0.05,
           0.61,
           0.34,
           0.13,
           0.19,
           0.01,
           0.21
          ],
          [
           0.56,
           0.08,
           1,
           0.26,
           0.16,
           0.24,
           0.23,
           0.4,
           0.35
          ],
          [
           0.52,
           0.14,
           0.16,
           0.29,
           0.18,
           0.32,
           0.31,
           0.39,
           0.35
          ]
         ]
        }
       ],
       "layout": {
        "coloraxis": {
         "colorbar": {
          "title": {
           "text": "Value"
          }
         },
         "colorscale": [
          [
           0,
           "rgb(103,0,31)"
          ],
          [
           0.1,
           "rgb(178,24,43)"
          ],
          [
           0.2,
           "rgb(214,96,77)"
          ],
          [
           0.3,
           "rgb(244,165,130)"
          ],
          [
           0.4,
           "rgb(253,219,199)"
          ],
          [
           0.5,
           "rgb(247,247,247)"
          ],
          [
           0.6,
           "rgb(209,229,240)"
          ],
          [
           0.7,
           "rgb(146,197,222)"
          ],
          [
           0.8,
           "rgb(67,147,195)"
          ],
          [
           0.9,
           "rgb(33,102,172)"
          ],
          [
           1,
           "rgb(5,48,97)"
          ]
         ]
        },
        "font": {
         "family": "Modern Computer"
        },
        "height": 500,
        "legend": {
         "font": {
          "size": 15
         },
         "orientation": "h",
         "title": {
          "text": ""
         },
         "x": 0.5,
         "xanchor": "center",
         "y": -1.5,
         "yanchor": "bottom"
        },
        "margin": {
         "b": 0,
         "l": 0,
         "r": 0,
         "t": 50
        },
        "showlegend": true,
        "template": {
         "data": {
          "bar": [
           {
            "error_x": {
             "color": "rgb(36,36,36)"
            },
            "error_y": {
             "color": "rgb(36,36,36)"
            },
            "marker": {
             "line": {
              "color": "rgb(234,234,242)",
              "width": 0.5
             },
             "pattern": {
              "fillmode": "overlay",
              "size": 10,
              "solidity": 0.2
             }
            },
            "type": "bar"
           }
          ],
          "barpolar": [
           {
            "marker": {
             "line": {
              "color": "rgb(234,234,242)",
              "width": 0.5
             },
             "pattern": {
              "fillmode": "overlay",
              "size": 10,
              "solidity": 0.2
             }
            },
            "type": "barpolar"
           }
          ],
          "carpet": [
           {
            "aaxis": {
             "endlinecolor": "rgb(36,36,36)",
             "gridcolor": "white",
             "linecolor": "white",
             "minorgridcolor": "white",
             "startlinecolor": "rgb(36,36,36)"
            },
            "baxis": {
             "endlinecolor": "rgb(36,36,36)",
             "gridcolor": "white",
             "linecolor": "white",
             "minorgridcolor": "white",
             "startlinecolor": "rgb(36,36,36)"
            },
            "type": "carpet"
           }
          ],
          "choropleth": [
           {
            "colorbar": {
             "outlinewidth": 0,
             "tickcolor": "rgb(36,36,36)",
             "ticklen": 8,
             "ticks": "outside",
             "tickwidth": 2
            },
            "type": "choropleth"
           }
          ],
          "contour": [
           {
            "colorbar": {
             "outlinewidth": 0,
             "tickcolor": "rgb(36,36,36)",
             "ticklen": 8,
             "ticks": "outside",
             "tickwidth": 2
            },
            "colorscale": [
             [
              0,
              "rgb(2,4,25)"
             ],
             [
              0.06274509803921569,
              "rgb(24,15,41)"
             ],
             [
              0.12549019607843137,
              "rgb(47,23,57)"
             ],
             [
              0.18823529411764706,
              "rgb(71,28,72)"
             ],
             [
              0.25098039215686274,
              "rgb(97,30,82)"
             ],
             [
              0.3137254901960784,
              "rgb(123,30,89)"
             ],
             [
              0.3764705882352941,
              "rgb(150,27,91)"
             ],
             [
              0.4392156862745098,
              "rgb(177,22,88)"
             ],
             [
              0.5019607843137255,
              "rgb(203,26,79)"
             ],
             [
              0.5647058823529412,
              "rgb(223,47,67)"
             ],
             [
              0.6274509803921569,
              "rgb(236,76,61)"
             ],
             [
              0.6901960784313725,
              "rgb(242,107,73)"
             ],
             [
              0.7529411764705882,
              "rgb(244,135,95)"
             ],
             [
              0.8156862745098039,
              "rgb(245,162,122)"
             ],
             [
              0.8784313725490196,
              "rgb(246,188,153)"
             ],
             [
              0.9411764705882353,
              "rgb(247,212,187)"
             ],
             [
              1,
              "rgb(250,234,220)"
             ]
            ],
            "type": "contour"
           }
          ],
          "contourcarpet": [
           {
            "colorbar": {
             "outlinewidth": 0,
             "tickcolor": "rgb(36,36,36)",
             "ticklen": 8,
             "ticks": "outside",
             "tickwidth": 2
            },
            "type": "contourcarpet"
           }
          ],
          "heatmap": [
           {
            "colorbar": {
             "outlinewidth": 0,
             "tickcolor": "rgb(36,36,36)",
             "ticklen": 8,
             "ticks": "outside",
             "tickwidth": 2
            },
            "colorscale": [
             [
              0,
              "rgb(2,4,25)"
             ],
             [
              0.06274509803921569,
              "rgb(24,15,41)"
             ],
             [
              0.12549019607843137,
              "rgb(47,23,57)"
             ],
             [
              0.18823529411764706,
              "rgb(71,28,72)"
             ],
             [
              0.25098039215686274,
              "rgb(97,30,82)"
             ],
             [
              0.3137254901960784,
              "rgb(123,30,89)"
             ],
             [
              0.3764705882352941,
              "rgb(150,27,91)"
             ],
             [
              0.4392156862745098,
              "rgb(177,22,88)"
             ],
             [
              0.5019607843137255,
              "rgb(203,26,79)"
             ],
             [
              0.5647058823529412,
              "rgb(223,47,67)"
             ],
             [
              0.6274509803921569,
              "rgb(236,76,61)"
             ],
             [
              0.6901960784313725,
              "rgb(242,107,73)"
             ],
             [
              0.7529411764705882,
              "rgb(244,135,95)"
             ],
             [
              0.8156862745098039,
              "rgb(245,162,122)"
             ],
             [
              0.8784313725490196,
              "rgb(246,188,153)"
             ],
             [
              0.9411764705882353,
              "rgb(247,212,187)"
             ],
             [
              1,
              "rgb(250,234,220)"
             ]
            ],
            "type": "heatmap"
           }
          ],
          "heatmapgl": [
           {
            "colorbar": {
             "outlinewidth": 0,
             "tickcolor": "rgb(36,36,36)",
             "ticklen": 8,
             "ticks": "outside",
             "tickwidth": 2
            },
            "colorscale": [
             [
              0,
              "rgb(2,4,25)"
             ],
             [
              0.06274509803921569,
              "rgb(24,15,41)"
             ],
             [
              0.12549019607843137,
              "rgb(47,23,57)"
             ],
             [
              0.18823529411764706,
              "rgb(71,28,72)"
             ],
             [
              0.25098039215686274,
              "rgb(97,30,82)"
             ],
             [
              0.3137254901960784,
              "rgb(123,30,89)"
             ],
             [
              0.3764705882352941,
              "rgb(150,27,91)"
             ],
             [
              0.4392156862745098,
              "rgb(177,22,88)"
             ],
             [
              0.5019607843137255,
              "rgb(203,26,79)"
             ],
             [
              0.5647058823529412,
              "rgb(223,47,67)"
             ],
             [
              0.6274509803921569,
              "rgb(236,76,61)"
             ],
             [
              0.6901960784313725,
              "rgb(242,107,73)"
             ],
             [
              0.7529411764705882,
              "rgb(244,135,95)"
             ],
             [
              0.8156862745098039,
              "rgb(245,162,122)"
             ],
             [
              0.8784313725490196,
              "rgb(246,188,153)"
             ],
             [
              0.9411764705882353,
              "rgb(247,212,187)"
             ],
             [
              1,
              "rgb(250,234,220)"
             ]
            ],
            "type": "heatmapgl"
           }
          ],
          "histogram": [
           {
            "marker": {
             "pattern": {
              "fillmode": "overlay",
              "size": 10,
              "solidity": 0.2
             }
            },
            "type": "histogram"
           }
          ],
          "histogram2d": [
           {
            "colorbar": {
             "outlinewidth": 0,
             "tickcolor": "rgb(36,36,36)",
             "ticklen": 8,
             "ticks": "outside",
             "tickwidth": 2
            },
            "colorscale": [
             [
              0,
              "rgb(2,4,25)"
             ],
             [
              0.06274509803921569,
              "rgb(24,15,41)"
             ],
             [
              0.12549019607843137,
              "rgb(47,23,57)"
             ],
             [
              0.18823529411764706,
              "rgb(71,28,72)"
             ],
             [
              0.25098039215686274,
              "rgb(97,30,82)"
             ],
             [
              0.3137254901960784,
              "rgb(123,30,89)"
             ],
             [
              0.3764705882352941,
              "rgb(150,27,91)"
             ],
             [
              0.4392156862745098,
              "rgb(177,22,88)"
             ],
             [
              0.5019607843137255,
              "rgb(203,26,79)"
             ],
             [
              0.5647058823529412,
              "rgb(223,47,67)"
             ],
             [
              0.6274509803921569,
              "rgb(236,76,61)"
             ],
             [
              0.6901960784313725,
              "rgb(242,107,73)"
             ],
             [
              0.7529411764705882,
              "rgb(244,135,95)"
             ],
             [
              0.8156862745098039,
              "rgb(245,162,122)"
             ],
             [
              0.8784313725490196,
              "rgb(246,188,153)"
             ],
             [
              0.9411764705882353,
              "rgb(247,212,187)"
             ],
             [
              1,
              "rgb(250,234,220)"
             ]
            ],
            "type": "histogram2d"
           }
          ],
          "histogram2dcontour": [
           {
            "colorbar": {
             "outlinewidth": 0,
             "tickcolor": "rgb(36,36,36)",
             "ticklen": 8,
             "ticks": "outside",
             "tickwidth": 2
            },
            "colorscale": [
             [
              0,
              "rgb(2,4,25)"
             ],
             [
              0.06274509803921569,
              "rgb(24,15,41)"
             ],
             [
              0.12549019607843137,
              "rgb(47,23,57)"
             ],
             [
              0.18823529411764706,
              "rgb(71,28,72)"
             ],
             [
              0.25098039215686274,
              "rgb(97,30,82)"
             ],
             [
              0.3137254901960784,
              "rgb(123,30,89)"
             ],
             [
              0.3764705882352941,
              "rgb(150,27,91)"
             ],
             [
              0.4392156862745098,
              "rgb(177,22,88)"
             ],
             [
              0.5019607843137255,
              "rgb(203,26,79)"
             ],
             [
              0.5647058823529412,
              "rgb(223,47,67)"
             ],
             [
              0.6274509803921569,
              "rgb(236,76,61)"
             ],
             [
              0.6901960784313725,
              "rgb(242,107,73)"
             ],
             [
              0.7529411764705882,
              "rgb(244,135,95)"
             ],
             [
              0.8156862745098039,
              "rgb(245,162,122)"
             ],
             [
              0.8784313725490196,
              "rgb(246,188,153)"
             ],
             [
              0.9411764705882353,
              "rgb(247,212,187)"
             ],
             [
              1,
              "rgb(250,234,220)"
             ]
            ],
            "type": "histogram2dcontour"
           }
          ],
          "mesh3d": [
           {
            "colorbar": {
             "outlinewidth": 0,
             "tickcolor": "rgb(36,36,36)",
             "ticklen": 8,
             "ticks": "outside",
             "tickwidth": 2
            },
            "type": "mesh3d"
           }
          ],
          "parcoords": [
           {
            "line": {
             "colorbar": {
              "outlinewidth": 0,
              "tickcolor": "rgb(36,36,36)",
              "ticklen": 8,
              "ticks": "outside",
              "tickwidth": 2
             }
            },
            "type": "parcoords"
           }
          ],
          "pie": [
           {
            "automargin": true,
            "type": "pie"
           }
          ],
          "scatter": [
           {
            "fillpattern": {
             "fillmode": "overlay",
             "size": 10,
             "solidity": 0.2
            },
            "type": "scatter"
           }
          ],
          "scatter3d": [
           {
            "line": {
             "colorbar": {
              "outlinewidth": 0,
              "tickcolor": "rgb(36,36,36)",
              "ticklen": 8,
              "ticks": "outside",
              "tickwidth": 2
             }
            },
            "marker": {
             "colorbar": {
              "outlinewidth": 0,
              "tickcolor": "rgb(36,36,36)",
              "ticklen": 8,
              "ticks": "outside",
              "tickwidth": 2
             }
            },
            "type": "scatter3d"
           }
          ],
          "scattercarpet": [
           {
            "marker": {
             "colorbar": {
              "outlinewidth": 0,
              "tickcolor": "rgb(36,36,36)",
              "ticklen": 8,
              "ticks": "outside",
              "tickwidth": 2
             }
            },
            "type": "scattercarpet"
           }
          ],
          "scattergeo": [
           {
            "marker": {
             "colorbar": {
              "outlinewidth": 0,
              "tickcolor": "rgb(36,36,36)",
              "ticklen": 8,
              "ticks": "outside",
              "tickwidth": 2
             }
            },
            "type": "scattergeo"
           }
          ],
          "scattergl": [
           {
            "marker": {
             "colorbar": {
              "outlinewidth": 0,
              "tickcolor": "rgb(36,36,36)",
              "ticklen": 8,
              "ticks": "outside",
              "tickwidth": 2
             }
            },
            "type": "scattergl"
           }
          ],
          "scattermapbox": [
           {
            "marker": {
             "colorbar": {
              "outlinewidth": 0,
              "tickcolor": "rgb(36,36,36)",
              "ticklen": 8,
              "ticks": "outside",
              "tickwidth": 2
             }
            },
            "type": "scattermapbox"
           }
          ],
          "scatterpolar": [
           {
            "marker": {
             "colorbar": {
              "outlinewidth": 0,
              "tickcolor": "rgb(36,36,36)",
              "ticklen": 8,
              "ticks": "outside",
              "tickwidth": 2
             }
            },
            "type": "scatterpolar"
           }
          ],
          "scatterpolargl": [
           {
            "marker": {
             "colorbar": {
              "outlinewidth": 0,
              "tickcolor": "rgb(36,36,36)",
              "ticklen": 8,
              "ticks": "outside",
              "tickwidth": 2
             }
            },
            "type": "scatterpolargl"
           }
          ],
          "scatterternary": [
           {
            "marker": {
             "colorbar": {
              "outlinewidth": 0,
              "tickcolor": "rgb(36,36,36)",
              "ticklen": 8,
              "ticks": "outside",
              "tickwidth": 2
             }
            },
            "type": "scatterternary"
           }
          ],
          "surface": [
           {
            "colorbar": {
             "outlinewidth": 0,
             "tickcolor": "rgb(36,36,36)",
             "ticklen": 8,
             "ticks": "outside",
             "tickwidth": 2
            },
            "colorscale": [
             [
              0,
              "rgb(2,4,25)"
             ],
             [
              0.06274509803921569,
              "rgb(24,15,41)"
             ],
             [
              0.12549019607843137,
              "rgb(47,23,57)"
             ],
             [
              0.18823529411764706,
              "rgb(71,28,72)"
             ],
             [
              0.25098039215686274,
              "rgb(97,30,82)"
             ],
             [
              0.3137254901960784,
              "rgb(123,30,89)"
             ],
             [
              0.3764705882352941,
              "rgb(150,27,91)"
             ],
             [
              0.4392156862745098,
              "rgb(177,22,88)"
             ],
             [
              0.5019607843137255,
              "rgb(203,26,79)"
             ],
             [
              0.5647058823529412,
              "rgb(223,47,67)"
             ],
             [
              0.6274509803921569,
              "rgb(236,76,61)"
             ],
             [
              0.6901960784313725,
              "rgb(242,107,73)"
             ],
             [
              0.7529411764705882,
              "rgb(244,135,95)"
             ],
             [
              0.8156862745098039,
              "rgb(245,162,122)"
             ],
             [
              0.8784313725490196,
              "rgb(246,188,153)"
             ],
             [
              0.9411764705882353,
              "rgb(247,212,187)"
             ],
             [
              1,
              "rgb(250,234,220)"
             ]
            ],
            "type": "surface"
           }
          ],
          "table": [
           {
            "cells": {
             "fill": {
              "color": "rgb(231,231,240)"
             },
             "line": {
              "color": "white"
             }
            },
            "header": {
             "fill": {
              "color": "rgb(183,183,191)"
             },
             "line": {
              "color": "white"
             }
            },
            "type": "table"
           }
          ]
         },
         "layout": {
          "annotationdefaults": {
           "arrowcolor": "rgb(67,103,167)"
          },
          "autotypenumbers": "strict",
          "coloraxis": {
           "colorbar": {
            "outlinewidth": 0,
            "tickcolor": "rgb(36,36,36)",
            "ticklen": 8,
            "ticks": "outside",
            "tickwidth": 2
           }
          },
          "colorscale": {
           "sequential": [
            [
             0,
             "rgb(2,4,25)"
            ],
            [
             0.06274509803921569,
             "rgb(24,15,41)"
            ],
            [
             0.12549019607843137,
             "rgb(47,23,57)"
            ],
            [
             0.18823529411764706,
             "rgb(71,28,72)"
            ],
            [
             0.25098039215686274,
             "rgb(97,30,82)"
            ],
            [
             0.3137254901960784,
             "rgb(123,30,89)"
            ],
            [
             0.3764705882352941,
             "rgb(150,27,91)"
            ],
            [
             0.4392156862745098,
             "rgb(177,22,88)"
            ],
            [
             0.5019607843137255,
             "rgb(203,26,79)"
            ],
            [
             0.5647058823529412,
             "rgb(223,47,67)"
            ],
            [
             0.6274509803921569,
             "rgb(236,76,61)"
            ],
            [
             0.6901960784313725,
             "rgb(242,107,73)"
            ],
            [
             0.7529411764705882,
             "rgb(244,135,95)"
            ],
            [
             0.8156862745098039,
             "rgb(245,162,122)"
            ],
            [
             0.8784313725490196,
             "rgb(246,188,153)"
            ],
            [
             0.9411764705882353,
             "rgb(247,212,187)"
            ],
            [
             1,
             "rgb(250,234,220)"
            ]
           ],
           "sequentialminus": [
            [
             0,
             "rgb(2,4,25)"
            ],
            [
             0.06274509803921569,
             "rgb(24,15,41)"
            ],
            [
             0.12549019607843137,
             "rgb(47,23,57)"
            ],
            [
             0.18823529411764706,
             "rgb(71,28,72)"
            ],
            [
             0.25098039215686274,
             "rgb(97,30,82)"
            ],
            [
             0.3137254901960784,
             "rgb(123,30,89)"
            ],
            [
             0.3764705882352941,
             "rgb(150,27,91)"
            ],
            [
             0.4392156862745098,
             "rgb(177,22,88)"
            ],
            [
             0.5019607843137255,
             "rgb(203,26,79)"
            ],
            [
             0.5647058823529412,
             "rgb(223,47,67)"
            ],
            [
             0.6274509803921569,
             "rgb(236,76,61)"
            ],
            [
             0.6901960784313725,
             "rgb(242,107,73)"
            ],
            [
             0.7529411764705882,
             "rgb(244,135,95)"
            ],
            [
             0.8156862745098039,
             "rgb(245,162,122)"
            ],
            [
             0.8784313725490196,
             "rgb(246,188,153)"
            ],
            [
             0.9411764705882353,
             "rgb(247,212,187)"
            ],
            [
             1,
             "rgb(250,234,220)"
            ]
           ]
          },
          "colorway": [
           "rgb(76,114,176)",
           "rgb(221,132,82)",
           "rgb(85,168,104)",
           "rgb(196,78,82)",
           "rgb(129,114,179)",
           "rgb(147,120,96)",
           "rgb(218,139,195)",
           "rgb(140,140,140)",
           "rgb(204,185,116)",
           "rgb(100,181,205)"
          ],
          "font": {
           "color": "rgb(36,36,36)",
           "family": "Modern Computer"
          },
          "geo": {
           "bgcolor": "white",
           "lakecolor": "white",
           "landcolor": "rgb(234,234,242)",
           "showlakes": true,
           "showland": true,
           "subunitcolor": "white"
          },
          "height": 500,
          "hoverlabel": {
           "align": "left"
          },
          "hovermode": "closest",
          "legend": {
           "font": {
            "size": 15
           },
           "orientation": "h",
           "title": {
            "text": ""
           },
           "x": 0.5,
           "xanchor": "center",
           "y": -1.5,
           "yanchor": "bottom"
          },
          "paper_bgcolor": "white",
          "plot_bgcolor": "rgb(234,234,242)",
          "polar": {
           "angularaxis": {
            "gridcolor": "white",
            "linecolor": "white",
            "showgrid": true,
            "ticks": ""
           },
           "bgcolor": "rgb(234,234,242)",
           "radialaxis": {
            "gridcolor": "white",
            "linecolor": "white",
            "showgrid": true,
            "ticks": ""
           }
          },
          "scene": {
           "xaxis": {
            "backgroundcolor": "rgb(234,234,242)",
            "gridcolor": "white",
            "gridwidth": 2,
            "linecolor": "white",
            "showbackground": true,
            "showgrid": true,
            "ticks": "",
            "zerolinecolor": "white"
           },
           "yaxis": {
            "backgroundcolor": "rgb(234,234,242)",
            "gridcolor": "white",
            "gridwidth": 2,
            "linecolor": "white",
            "showbackground": true,
            "showgrid": true,
            "ticks": "",
            "zerolinecolor": "white"
           },
           "zaxis": {
            "backgroundcolor": "rgb(234,234,242)",
            "gridcolor": "white",
            "gridwidth": 2,
            "linecolor": "white",
            "showbackground": true,
            "showgrid": true,
            "ticks": "",
            "zerolinecolor": "white"
           }
          },
          "shapedefaults": {
           "fillcolor": "rgb(67,103,167)",
           "line": {
            "width": 0
           },
           "opacity": 0.5
          },
          "showlegend": true,
          "ternary": {
           "aaxis": {
            "gridcolor": "white",
            "linecolor": "white",
            "showgrid": true,
            "ticks": ""
           },
           "baxis": {
            "gridcolor": "white",
            "linecolor": "white",
            "showgrid": true,
            "ticks": ""
           },
           "bgcolor": "rgb(234,234,242)",
           "caxis": {
            "gridcolor": "white",
            "linecolor": "white",
            "showgrid": true,
            "ticks": ""
           }
          },
          "title": {
           "font": {
            "family": "Modern Computer",
            "size": 25
           },
           "x": 0.5
          },
          "width": 800,
          "xaxis": {
           "automargin": true,
           "gridcolor": "white",
           "linecolor": "white",
           "showgrid": true,
           "tickangle": 45,
           "tickfont": {
            "size": 15
           },
           "ticks": "",
           "title": {
            "font": {
             "size": 12
            },
            "text": ""
           },
           "zerolinecolor": "white"
          },
          "yaxis": {
           "automargin": true,
           "gridcolor": "white",
           "linecolor": "white",
           "showgrid": true,
           "tickfont": {
            "size": 13
           },
           "ticks": "",
           "title": {
            "font": {
             "size": 12
            },
            "text": ""
           },
           "zerolinecolor": "white"
          }
         }
        },
        "title": {
         "font": {
          "family": "Modern Computer",
          "size": 25
         },
         "text": "Evaluation Results of the Predicted Queries",
         "x": 0.8
        },
        "width": 800,
        "xaxis": {
         "anchor": "y",
         "domain": [
          0,
          1
         ],
         "tickangle": 45,
         "tickfont": {
          "size": 15
         },
         "title": {
          "font": {
           "size": 12
          },
          "text": ""
         }
        },
        "yaxis": {
         "anchor": "x",
         "autorange": "reversed",
         "domain": [
          0,
          1
         ],
         "tickfont": {
          "size": 20
         },
         "title": {
          "font": {
           "size": 12
          },
          "text": ""
         }
        }
       }
      }
     },
     "metadata": {},
     "output_type": "display_data"
    }
   ],
   "source": [
    "q_type = \"Predicted\"\n",
    "temp = plt_df[plt_df[\"Index\"] == q_type].round(2).drop([\"Query\", \"Index\"], axis=1)\n",
    "heatmap_color = np.array(\n",
    "    [temp[clm].values for clm in temp.columns if \"Relevant\" in clm]\n",
    ").T\n",
    "temp.index = temp[\"Topic\"]\n",
    "temp = temp[\n",
    "    [\n",
    "        \"Recall\",\n",
    "        \"Cosine Precision\",\n",
    "        \"Cluster Precision\",\n",
    "        \"MVEE Precision\",\n",
    "        \"Hull Precision\",\n",
    "        \"Cosine F2\",\n",
    "        \"Cluster F2\",\n",
    "        \"MVEE F2\",\n",
    "        \"Hull F2\",\n",
    "    ]\n",
    "]\n",
    "customdata = np.full((len(temp), len(temp.columns)), \"\", dtype=object)\n",
    "customdata[:, -4:] = heatmap_color\n",
    "fig = px.imshow(\n",
    "    temp,\n",
    "    title=f\"Evaluation Results of the {q_type} Queries\",\n",
    "    labels=dict(x=\"Metric\", y=\"Topic\", color=\"Value\"),\n",
    "    aspect=\"auto\",\n",
    "    color_continuous_scale=\"RdBu\",\n",
    ")\n",
    "fig.data[0].text = customdata\n",
    "fig.data[0].texttemplate = \"%{text:.2s}\"\n",
    "fig.update_layout(**PLOT_CONFIGS)\n",
    "fig.update_layout(\n",
    "    yaxis_tickfont_size=20,\n",
    "    title_x=0.8,\n",
    "    margin={\"t\": 50, \"b\": 0, \"r\": 0, \"l\": 0},\n",
    "     )\n",
    "fig.update_traces(textfont_size=15)\n",
    "fig.show()\n",
    "# pio.write_image(\n",
    "#     fig, f\"LitQEval-report/pics/{q_type.lower()}_results.pdf\", width=1100, height=800\n",
    "# )\n"
   ]
  },
  {
   "cell_type": "code",
   "execution_count": 813,
   "metadata": {},
   "outputs": [
    {
     "name": "stderr",
     "output_type": "stream",
     "text": [
      "C:\\Users\\Moham\\AppData\\Local\\Temp\\ipykernel_1480\\1053677697.py:11: FutureWarning:\n",
      "\n",
      "A value is trying to be set on a copy of a DataFrame or Series through chained assignment using an inplace method.\n",
      "The behavior will change in pandas 3.0. This inplace method will never work because the intermediate object on which we are setting values always behaves as a copy.\n",
      "\n",
      "For example, when doing 'df[col].method(value, inplace=True)', try using 'df.method({col: value}, inplace=True)' or df[col] = df[col].method(value) instead, to perform the operation inplace on the original object.\n",
      "\n",
      "\n",
      "\n"
     ]
    }
   ],
   "source": [
    "results = pd.read_excel(\"slr_results.xlsx\")\n",
    "results = results.rename(columns={\"Unnamed: 0\": \"Index\"})\n",
    "predicted_query = results[results[\"Index\"] == \"Predicted\"][\"Query\"].values\n",
    "baseline_query = results[results[\"Index\"] == \"Baseline\"][\"Query\"].values\n",
    "results.loc[results[\"Index\"] == \"Predicted\", \"Query\"] = baseline_query\n",
    "results.loc[results[\"Index\"] == \"Baseline\", \"Query\"] = predicted_query\n",
    "results[\"Topic\"] = results[\"Query\"].copy()\n",
    "results.loc[1::2, \"Topic\"] = np.nan\n",
    "results = results.rename(columns={\"Unnamed: 0\": \"Index\"})\n",
    "plt_df = results.ffill()\n",
    "plt_df[\"Index\"].replace(\"Predicted\", \"SLR\", inplace=True)"
   ]
  },
  {
   "cell_type": "code",
   "execution_count": 814,
   "metadata": {},
   "outputs": [
    {
     "data": {
      "application/vnd.plotly.v1+json": {
       "config": {
        "plotlyServerURL": "https://plot.ly"
       },
       "data": [
        {
         "alignmentgroup": "True",
         "bingroup": "x",
         "histfunc": "sum",
         "hovertemplate": "variable=Recall<br>Index=SLR<br>Topic=%{x}<br>sum of value=%{y}<extra></extra>",
         "legendgroup": "Recall",
         "marker": {
          "color": "rgb(76,114,176)",
          "pattern": {
           "shape": ""
          }
         },
         "name": "Recall",
         "offsetgroup": "Recall",
         "orientation": "v",
         "showlegend": true,
         "type": "histogram",
         "x": [
          "Software Defect Prediction",
          "Software Fault Prediction Metrics",
          "Cloud Migration",
          "Multicore Performance Prediction",
          "Business Process Meta Models",
          "Data Stream Processing Latency",
          "Software Process Line"
         ],
         "xaxis": "x2",
         "y": [
          0.2,
          0.81,
          0.24,
          0,
          0.58,
          0.1,
          0.37
         ],
         "yaxis": "y2"
        },
        {
         "alignmentgroup": "True",
         "bingroup": "x",
         "histfunc": "sum",
         "hovertemplate": "variable=Recall<br>Index=Baseline<br>Topic=%{x}<br>sum of value=%{y}<extra></extra>",
         "legendgroup": "Recall",
         "marker": {
          "color": "rgb(76,114,176)",
          "pattern": {
           "shape": ""
          }
         },
         "name": "Recall",
         "offsetgroup": "Recall",
         "orientation": "v",
         "showlegend": false,
         "type": "histogram",
         "x": [
          "Software Defect Prediction",
          "Software Fault Prediction Metrics",
          "Cloud Migration",
          "Multicore Performance Prediction",
          "Business Process Meta Models",
          "Data Stream Processing Latency",
          "Software Process Line"
         ],
         "xaxis": "x",
         "y": [
          0.33,
          0.25,
          0.86,
          0,
          0.31,
          0.17,
          0.6
         ],
         "yaxis": "y"
        },
        {
         "alignmentgroup": "True",
         "bingroup": "x",
         "histfunc": "sum",
         "hovertemplate": "variable=Cosine Precision<br>Index=SLR<br>Topic=%{x}<br>sum of value=%{y}<extra></extra>",
         "legendgroup": "Cosine Precision",
         "marker": {
          "color": "rgb(221,132,82)",
          "pattern": {
           "shape": ""
          }
         },
         "name": "Cosine Precision",
         "offsetgroup": "Cosine Precision",
         "orientation": "v",
         "showlegend": true,
         "type": "histogram",
         "x": [
          "Software Defect Prediction",
          "Software Fault Prediction Metrics",
          "Cloud Migration",
          "Multicore Performance Prediction",
          "Business Process Meta Models",
          "Data Stream Processing Latency",
          "Software Process Line"
         ],
         "xaxis": "x2",
         "y": [
          0.02,
          0.09,
          0.08,
          0.57,
          0.3,
          0.3,
          0.32
         ],
         "yaxis": "y2"
        },
        {
         "alignmentgroup": "True",
         "bingroup": "x",
         "histfunc": "sum",
         "hovertemplate": "variable=Cosine Precision<br>Index=Baseline<br>Topic=%{x}<br>sum of value=%{y}<extra></extra>",
         "legendgroup": "Cosine Precision",
         "marker": {
          "color": "rgb(221,132,82)",
          "pattern": {
           "shape": ""
          }
         },
         "name": "Cosine Precision",
         "offsetgroup": "Cosine Precision",
         "orientation": "v",
         "showlegend": false,
         "type": "histogram",
         "x": [
          "Software Defect Prediction",
          "Software Fault Prediction Metrics",
          "Cloud Migration",
          "Multicore Performance Prediction",
          "Business Process Meta Models",
          "Data Stream Processing Latency",
          "Software Process Line"
         ],
         "xaxis": "x",
         "y": [
          0.61,
          0.68,
          0.13,
          0.36,
          0.26,
          0.3,
          0.02
         ],
         "yaxis": "y"
        },
        {
         "alignmentgroup": "True",
         "bingroup": "x",
         "histfunc": "sum",
         "hovertemplate": "variable=Cluster Precision<br>Index=SLR<br>Topic=%{x}<br>sum of value=%{y}<extra></extra>",
         "legendgroup": "Cluster Precision",
         "marker": {
          "color": "rgb(85,168,104)",
          "pattern": {
           "shape": ""
          }
         },
         "name": "Cluster Precision",
         "offsetgroup": "Cluster Precision",
         "orientation": "v",
         "showlegend": true,
         "type": "histogram",
         "x": [
          "Software Defect Prediction",
          "Software Fault Prediction Metrics",
          "Cloud Migration",
          "Multicore Performance Prediction",
          "Business Process Meta Models",
          "Data Stream Processing Latency",
          "Software Process Line"
         ],
         "xaxis": "x2",
         "y": [
          0.02,
          0.39,
          0.04,
          0,
          0.26,
          0.17,
          0.4
         ],
         "yaxis": "y2"
        },
        {
         "alignmentgroup": "True",
         "bingroup": "x",
         "histfunc": "sum",
         "hovertemplate": "variable=Cluster Precision<br>Index=Baseline<br>Topic=%{x}<br>sum of value=%{y}<extra></extra>",
         "legendgroup": "Cluster Precision",
         "marker": {
          "color": "rgb(85,168,104)",
          "pattern": {
           "shape": ""
          }
         },
         "name": "Cluster Precision",
         "offsetgroup": "Cluster Precision",
         "orientation": "v",
         "showlegend": false,
         "type": "histogram",
         "x": [
          "Software Defect Prediction",
          "Software Fault Prediction Metrics",
          "Cloud Migration",
          "Multicore Performance Prediction",
          "Business Process Meta Models",
          "Data Stream Processing Latency",
          "Software Process Line"
         ],
         "xaxis": "x",
         "y": [
          0.47,
          0.33,
          0.04,
          0,
          0.34,
          0.49,
          0.08
         ],
         "yaxis": "y"
        },
        {
         "alignmentgroup": "True",
         "bingroup": "x",
         "histfunc": "sum",
         "hovertemplate": "variable=MVEE Precision<br>Index=SLR<br>Topic=%{x}<br>sum of value=%{y}<extra></extra>",
         "legendgroup": "MVEE Precision",
         "marker": {
          "color": "rgb(196,78,82)",
          "pattern": {
           "shape": ""
          }
         },
         "name": "MVEE Precision",
         "offsetgroup": "MVEE Precision",
         "orientation": "v",
         "showlegend": true,
         "type": "histogram",
         "x": [
          "Software Defect Prediction",
          "Software Fault Prediction Metrics",
          "Cloud Migration",
          "Multicore Performance Prediction",
          "Business Process Meta Models",
          "Data Stream Processing Latency",
          "Software Process Line"
         ],
         "xaxis": "x2",
         "y": [
          0.02,
          0.17,
          0.01,
          0,
          0.56,
          0.24,
          0.28
         ],
         "yaxis": "y2"
        },
        {
         "alignmentgroup": "True",
         "bingroup": "x",
         "histfunc": "sum",
         "hovertemplate": "variable=MVEE Precision<br>Index=Baseline<br>Topic=%{x}<br>sum of value=%{y}<extra></extra>",
         "legendgroup": "MVEE Precision",
         "marker": {
          "color": "rgb(196,78,82)",
          "pattern": {
           "shape": ""
          }
         },
         "name": "MVEE Precision",
         "offsetgroup": "MVEE Precision",
         "orientation": "v",
         "showlegend": false,
         "type": "histogram",
         "x": [
          "Software Defect Prediction",
          "Software Fault Prediction Metrics",
          "Cloud Migration",
          "Multicore Performance Prediction",
          "Business Process Meta Models",
          "Data Stream Processing Latency",
          "Software Process Line"
         ],
         "xaxis": "x",
         "y": [
          0.6,
          0.36,
          0.15,
          0,
          0.15,
          0.39,
          0.11
         ],
         "yaxis": "y"
        },
        {
         "alignmentgroup": "True",
         "bingroup": "x",
         "histfunc": "sum",
         "hovertemplate": "variable=Hull Precision<br>Index=SLR<br>Topic=%{x}<br>sum of value=%{y}<extra></extra>",
         "legendgroup": "Hull Precision",
         "marker": {
          "color": "rgb(129,114,179)",
          "pattern": {
           "shape": ""
          }
         },
         "name": "Hull Precision",
         "offsetgroup": "Hull Precision",
         "orientation": "v",
         "showlegend": true,
         "type": "histogram",
         "x": [
          "Software Defect Prediction",
          "Software Fault Prediction Metrics",
          "Cloud Migration",
          "Multicore Performance Prediction",
          "Business Process Meta Models",
          "Data Stream Processing Latency",
          "Software Process Line"
         ],
         "xaxis": "x2",
         "y": [
          0.01,
          0.11,
          0.01,
          0,
          0.43,
          0.18,
          0.28
         ],
         "yaxis": "y2"
        },
        {
         "alignmentgroup": "True",
         "bingroup": "x",
         "histfunc": "sum",
         "hovertemplate": "variable=Hull Precision<br>Index=Baseline<br>Topic=%{x}<br>sum of value=%{y}<extra></extra>",
         "legendgroup": "Hull Precision",
         "marker": {
          "color": "rgb(129,114,179)",
          "pattern": {
           "shape": ""
          }
         },
         "name": "Hull Precision",
         "offsetgroup": "Hull Precision",
         "orientation": "v",
         "showlegend": false,
         "type": "histogram",
         "x": [
          "Software Defect Prediction",
          "Software Fault Prediction Metrics",
          "Cloud Migration",
          "Multicore Performance Prediction",
          "Business Process Meta Models",
          "Data Stream Processing Latency",
          "Software Process Line"
         ],
         "xaxis": "x",
         "y": [
          0.46,
          0.2,
          0.09,
          0,
          0.12,
          0.31,
          0.08
         ],
         "yaxis": "y"
        },
        {
         "alignmentgroup": "True",
         "bingroup": "x",
         "histfunc": "sum",
         "hovertemplate": "variable=Cosine F2<br>Index=SLR<br>Topic=%{x}<br>sum of value=%{y}<extra></extra>",
         "legendgroup": "Cosine F2",
         "marker": {
          "color": "rgb(147,120,96)",
          "pattern": {
           "shape": ""
          }
         },
         "name": "Cosine F2",
         "offsetgroup": "Cosine F2",
         "orientation": "v",
         "showlegend": true,
         "type": "histogram",
         "x": [
          "Software Defect Prediction",
          "Software Fault Prediction Metrics",
          "Cloud Migration",
          "Multicore Performance Prediction",
          "Business Process Meta Models",
          "Data Stream Processing Latency",
          "Software Process Line"
         ],
         "xaxis": "x2",
         "y": [
          0.08,
          0.29,
          0.17,
          0,
          0.49,
          0.12,
          0.36
         ],
         "yaxis": "y2"
        },
        {
         "alignmentgroup": "True",
         "bingroup": "x",
         "histfunc": "sum",
         "hovertemplate": "variable=Cosine F2<br>Index=Baseline<br>Topic=%{x}<br>sum of value=%{y}<extra></extra>",
         "legendgroup": "Cosine F2",
         "marker": {
          "color": "rgb(147,120,96)",
          "pattern": {
           "shape": ""
          }
         },
         "name": "Cosine F2",
         "offsetgroup": "Cosine F2",
         "orientation": "v",
         "showlegend": false,
         "type": "histogram",
         "x": [
          "Software Defect Prediction",
          "Software Fault Prediction Metrics",
          "Cloud Migration",
          "Multicore Performance Prediction",
          "Business Process Meta Models",
          "Data Stream Processing Latency",
          "Software Process Line"
         ],
         "xaxis": "x",
         "y": [
          0.36,
          0.29,
          0.4,
          0,
          0.3,
          0.19,
          0.1
         ],
         "yaxis": "y"
        },
        {
         "alignmentgroup": "True",
         "bingroup": "x",
         "histfunc": "sum",
         "hovertemplate": "variable=Cluster F2<br>Index=SLR<br>Topic=%{x}<br>sum of value=%{y}<extra></extra>",
         "legendgroup": "Cluster F2",
         "marker": {
          "color": "rgb(218,139,195)",
          "pattern": {
           "shape": ""
          }
         },
         "name": "Cluster F2",
         "offsetgroup": "Cluster F2",
         "orientation": "v",
         "showlegend": true,
         "type": "histogram",
         "x": [
          "Software Defect Prediction",
          "Software Fault Prediction Metrics",
          "Cloud Migration",
          "Multicore Performance Prediction",
          "Business Process Meta Models",
          "Data Stream Processing Latency",
          "Software Process Line"
         ],
         "xaxis": "x2",
         "y": [
          0.07,
          0.54,
          0.12,
          0,
          0.4,
          0.11,
          0.38
         ],
         "yaxis": "y2"
        },
        {
         "alignmentgroup": "True",
         "bingroup": "x",
         "histfunc": "sum",
         "hovertemplate": "variable=Cluster F2<br>Index=Baseline<br>Topic=%{x}<br>sum of value=%{y}<extra></extra>",
         "legendgroup": "Cluster F2",
         "marker": {
          "color": "rgb(218,139,195)",
          "pattern": {
           "shape": ""
          }
         },
         "name": "Cluster F2",
         "offsetgroup": "Cluster F2",
         "orientation": "v",
         "showlegend": false,
         "type": "histogram",
         "x": [
          "Software Defect Prediction",
          "Software Fault Prediction Metrics",
          "Cloud Migration",
          "Multicore Performance Prediction",
          "Business Process Meta Models",
          "Data Stream Processing Latency",
          "Software Process Line"
         ],
         "xaxis": "x",
         "y": [
          0.28,
          0.21,
          0.15,
          0,
          0.31,
          0.21,
          0.24
         ],
         "yaxis": "y"
        },
        {
         "alignmentgroup": "True",
         "bingroup": "x",
         "histfunc": "sum",
         "hovertemplate": "variable=MVEE F2<br>Index=SLR<br>Topic=%{x}<br>sum of value=%{y}<extra></extra>",
         "legendgroup": "MVEE F2",
         "marker": {
          "color": "rgb(140,140,140)",
          "pattern": {
           "shape": ""
          }
         },
         "name": "MVEE F2",
         "offsetgroup": "MVEE F2",
         "orientation": "v",
         "showlegend": true,
         "type": "histogram",
         "x": [
          "Software Defect Prediction",
          "Software Fault Prediction Metrics",
          "Cloud Migration",
          "Multicore Performance Prediction",
          "Business Process Meta Models",
          "Data Stream Processing Latency",
          "Software Process Line"
         ],
         "xaxis": "x2",
         "y": [
          0.08,
          0.42,
          0.05,
          0,
          0.63,
          0.14,
          0.35
         ],
         "yaxis": "y2"
        },
        {
         "alignmentgroup": "True",
         "bingroup": "x",
         "histfunc": "sum",
         "hovertemplate": "variable=MVEE F2<br>Index=Baseline<br>Topic=%{x}<br>sum of value=%{y}<extra></extra>",
         "legendgroup": "MVEE F2",
         "marker": {
          "color": "rgb(140,140,140)",
          "pattern": {
           "shape": ""
          }
         },
         "name": "MVEE F2",
         "offsetgroup": "MVEE F2",
         "orientation": "v",
         "showlegend": false,
         "type": "histogram",
         "x": [
          "Software Defect Prediction",
          "Software Fault Prediction Metrics",
          "Cloud Migration",
          "Multicore Performance Prediction",
          "Business Process Meta Models",
          "Data Stream Processing Latency",
          "Software Process Line"
         ],
         "xaxis": "x",
         "y": [
          0.36,
          0.27,
          0.42,
          0,
          0.25,
          0.21,
          0.31
         ],
         "yaxis": "y"
        },
        {
         "alignmentgroup": "True",
         "bingroup": "x",
         "histfunc": "sum",
         "hovertemplate": "variable=Hull F2<br>Index=SLR<br>Topic=%{x}<br>sum of value=%{y}<extra></extra>",
         "legendgroup": "Hull F2",
         "marker": {
          "color": "rgb(204,185,116)",
          "pattern": {
           "shape": ""
          }
         },
         "name": "Hull F2",
         "offsetgroup": "Hull F2",
         "orientation": "v",
         "showlegend": true,
         "type": "histogram",
         "x": [
          "Software Defect Prediction",
          "Software Fault Prediction Metrics",
          "Cloud Migration",
          "Multicore Performance Prediction",
          "Business Process Meta Models",
          "Data Stream Processing Latency",
          "Software Process Line"
         ],
         "xaxis": "x2",
         "y": [
          0.04,
          0.33,
          0.03,
          0,
          0.59,
          0.14,
          0.35
         ],
         "yaxis": "y2"
        },
        {
         "alignmentgroup": "True",
         "bingroup": "x",
         "histfunc": "sum",
         "hovertemplate": "variable=Hull F2<br>Index=Baseline<br>Topic=%{x}<br>sum of value=%{y}<extra></extra>",
         "legendgroup": "Hull F2",
         "marker": {
          "color": "rgb(204,185,116)",
          "pattern": {
           "shape": ""
          }
         },
         "name": "Hull F2",
         "offsetgroup": "Hull F2",
         "orientation": "v",
         "showlegend": false,
         "type": "histogram",
         "x": [
          "Software Defect Prediction",
          "Software Fault Prediction Metrics",
          "Cloud Migration",
          "Multicore Performance Prediction",
          "Business Process Meta Models",
          "Data Stream Processing Latency",
          "Software Process Line"
         ],
         "xaxis": "x",
         "y": [
          0.35,
          0.24,
          0.32,
          0,
          0.24,
          0.2,
          0.26
         ],
         "yaxis": "y"
        }
       ],
       "layout": {
        "annotations": [
         {
          "font": {},
          "showarrow": false,
          "text": "Baseline",
          "textangle": 90,
          "x": 0.98,
          "xanchor": "left",
          "xref": "paper",
          "y": 0.225,
          "yanchor": "middle",
          "yref": "paper"
         },
         {
          "font": {},
          "showarrow": false,
          "text": "SLR",
          "textangle": 90,
          "x": 0.98,
          "xanchor": "left",
          "xref": "paper",
          "y": 0.775,
          "yanchor": "middle",
          "yref": "paper"
         }
        ],
        "barmode": "group",
        "legend": {
         "title": {
          "text": "variable"
         },
         "tracegroupgap": 0
        },
        "template": {
         "data": {
          "bar": [
           {
            "error_x": {
             "color": "rgb(36,36,36)"
            },
            "error_y": {
             "color": "rgb(36,36,36)"
            },
            "marker": {
             "line": {
              "color": "rgb(234,234,242)",
              "width": 0.5
             },
             "pattern": {
              "fillmode": "overlay",
              "size": 10,
              "solidity": 0.2
             }
            },
            "type": "bar"
           }
          ],
          "barpolar": [
           {
            "marker": {
             "line": {
              "color": "rgb(234,234,242)",
              "width": 0.5
             },
             "pattern": {
              "fillmode": "overlay",
              "size": 10,
              "solidity": 0.2
             }
            },
            "type": "barpolar"
           }
          ],
          "carpet": [
           {
            "aaxis": {
             "endlinecolor": "rgb(36,36,36)",
             "gridcolor": "white",
             "linecolor": "white",
             "minorgridcolor": "white",
             "startlinecolor": "rgb(36,36,36)"
            },
            "baxis": {
             "endlinecolor": "rgb(36,36,36)",
             "gridcolor": "white",
             "linecolor": "white",
             "minorgridcolor": "white",
             "startlinecolor": "rgb(36,36,36)"
            },
            "type": "carpet"
           }
          ],
          "choropleth": [
           {
            "colorbar": {
             "outlinewidth": 0,
             "tickcolor": "rgb(36,36,36)",
             "ticklen": 8,
             "ticks": "outside",
             "tickwidth": 2
            },
            "type": "choropleth"
           }
          ],
          "contour": [
           {
            "colorbar": {
             "outlinewidth": 0,
             "tickcolor": "rgb(36,36,36)",
             "ticklen": 8,
             "ticks": "outside",
             "tickwidth": 2
            },
            "colorscale": [
             [
              0,
              "rgb(2,4,25)"
             ],
             [
              0.06274509803921569,
              "rgb(24,15,41)"
             ],
             [
              0.12549019607843137,
              "rgb(47,23,57)"
             ],
             [
              0.18823529411764706,
              "rgb(71,28,72)"
             ],
             [
              0.25098039215686274,
              "rgb(97,30,82)"
             ],
             [
              0.3137254901960784,
              "rgb(123,30,89)"
             ],
             [
              0.3764705882352941,
              "rgb(150,27,91)"
             ],
             [
              0.4392156862745098,
              "rgb(177,22,88)"
             ],
             [
              0.5019607843137255,
              "rgb(203,26,79)"
             ],
             [
              0.5647058823529412,
              "rgb(223,47,67)"
             ],
             [
              0.6274509803921569,
              "rgb(236,76,61)"
             ],
             [
              0.6901960784313725,
              "rgb(242,107,73)"
             ],
             [
              0.7529411764705882,
              "rgb(244,135,95)"
             ],
             [
              0.8156862745098039,
              "rgb(245,162,122)"
             ],
             [
              0.8784313725490196,
              "rgb(246,188,153)"
             ],
             [
              0.9411764705882353,
              "rgb(247,212,187)"
             ],
             [
              1,
              "rgb(250,234,220)"
             ]
            ],
            "type": "contour"
           }
          ],
          "contourcarpet": [
           {
            "colorbar": {
             "outlinewidth": 0,
             "tickcolor": "rgb(36,36,36)",
             "ticklen": 8,
             "ticks": "outside",
             "tickwidth": 2
            },
            "type": "contourcarpet"
           }
          ],
          "heatmap": [
           {
            "colorbar": {
             "outlinewidth": 0,
             "tickcolor": "rgb(36,36,36)",
             "ticklen": 8,
             "ticks": "outside",
             "tickwidth": 2
            },
            "colorscale": [
             [
              0,
              "rgb(2,4,25)"
             ],
             [
              0.06274509803921569,
              "rgb(24,15,41)"
             ],
             [
              0.12549019607843137,
              "rgb(47,23,57)"
             ],
             [
              0.18823529411764706,
              "rgb(71,28,72)"
             ],
             [
              0.25098039215686274,
              "rgb(97,30,82)"
             ],
             [
              0.3137254901960784,
              "rgb(123,30,89)"
             ],
             [
              0.3764705882352941,
              "rgb(150,27,91)"
             ],
             [
              0.4392156862745098,
              "rgb(177,22,88)"
             ],
             [
              0.5019607843137255,
              "rgb(203,26,79)"
             ],
             [
              0.5647058823529412,
              "rgb(223,47,67)"
             ],
             [
              0.6274509803921569,
              "rgb(236,76,61)"
             ],
             [
              0.6901960784313725,
              "rgb(242,107,73)"
             ],
             [
              0.7529411764705882,
              "rgb(244,135,95)"
             ],
             [
              0.8156862745098039,
              "rgb(245,162,122)"
             ],
             [
              0.8784313725490196,
              "rgb(246,188,153)"
             ],
             [
              0.9411764705882353,
              "rgb(247,212,187)"
             ],
             [
              1,
              "rgb(250,234,220)"
             ]
            ],
            "type": "heatmap"
           }
          ],
          "heatmapgl": [
           {
            "colorbar": {
             "outlinewidth": 0,
             "tickcolor": "rgb(36,36,36)",
             "ticklen": 8,
             "ticks": "outside",
             "tickwidth": 2
            },
            "colorscale": [
             [
              0,
              "rgb(2,4,25)"
             ],
             [
              0.06274509803921569,
              "rgb(24,15,41)"
             ],
             [
              0.12549019607843137,
              "rgb(47,23,57)"
             ],
             [
              0.18823529411764706,
              "rgb(71,28,72)"
             ],
             [
              0.25098039215686274,
              "rgb(97,30,82)"
             ],
             [
              0.3137254901960784,
              "rgb(123,30,89)"
             ],
             [
              0.3764705882352941,
              "rgb(150,27,91)"
             ],
             [
              0.4392156862745098,
              "rgb(177,22,88)"
             ],
             [
              0.5019607843137255,
              "rgb(203,26,79)"
             ],
             [
              0.5647058823529412,
              "rgb(223,47,67)"
             ],
             [
              0.6274509803921569,
              "rgb(236,76,61)"
             ],
             [
              0.6901960784313725,
              "rgb(242,107,73)"
             ],
             [
              0.7529411764705882,
              "rgb(244,135,95)"
             ],
             [
              0.8156862745098039,
              "rgb(245,162,122)"
             ],
             [
              0.8784313725490196,
              "rgb(246,188,153)"
             ],
             [
              0.9411764705882353,
              "rgb(247,212,187)"
             ],
             [
              1,
              "rgb(250,234,220)"
             ]
            ],
            "type": "heatmapgl"
           }
          ],
          "histogram": [
           {
            "marker": {
             "pattern": {
              "fillmode": "overlay",
              "size": 10,
              "solidity": 0.2
             }
            },
            "type": "histogram"
           }
          ],
          "histogram2d": [
           {
            "colorbar": {
             "outlinewidth": 0,
             "tickcolor": "rgb(36,36,36)",
             "ticklen": 8,
             "ticks": "outside",
             "tickwidth": 2
            },
            "colorscale": [
             [
              0,
              "rgb(2,4,25)"
             ],
             [
              0.06274509803921569,
              "rgb(24,15,41)"
             ],
             [
              0.12549019607843137,
              "rgb(47,23,57)"
             ],
             [
              0.18823529411764706,
              "rgb(71,28,72)"
             ],
             [
              0.25098039215686274,
              "rgb(97,30,82)"
             ],
             [
              0.3137254901960784,
              "rgb(123,30,89)"
             ],
             [
              0.3764705882352941,
              "rgb(150,27,91)"
             ],
             [
              0.4392156862745098,
              "rgb(177,22,88)"
             ],
             [
              0.5019607843137255,
              "rgb(203,26,79)"
             ],
             [
              0.5647058823529412,
              "rgb(223,47,67)"
             ],
             [
              0.6274509803921569,
              "rgb(236,76,61)"
             ],
             [
              0.6901960784313725,
              "rgb(242,107,73)"
             ],
             [
              0.7529411764705882,
              "rgb(244,135,95)"
             ],
             [
              0.8156862745098039,
              "rgb(245,162,122)"
             ],
             [
              0.8784313725490196,
              "rgb(246,188,153)"
             ],
             [
              0.9411764705882353,
              "rgb(247,212,187)"
             ],
             [
              1,
              "rgb(250,234,220)"
             ]
            ],
            "type": "histogram2d"
           }
          ],
          "histogram2dcontour": [
           {
            "colorbar": {
             "outlinewidth": 0,
             "tickcolor": "rgb(36,36,36)",
             "ticklen": 8,
             "ticks": "outside",
             "tickwidth": 2
            },
            "colorscale": [
             [
              0,
              "rgb(2,4,25)"
             ],
             [
              0.06274509803921569,
              "rgb(24,15,41)"
             ],
             [
              0.12549019607843137,
              "rgb(47,23,57)"
             ],
             [
              0.18823529411764706,
              "rgb(71,28,72)"
             ],
             [
              0.25098039215686274,
              "rgb(97,30,82)"
             ],
             [
              0.3137254901960784,
              "rgb(123,30,89)"
             ],
             [
              0.3764705882352941,
              "rgb(150,27,91)"
             ],
             [
              0.4392156862745098,
              "rgb(177,22,88)"
             ],
             [
              0.5019607843137255,
              "rgb(203,26,79)"
             ],
             [
              0.5647058823529412,
              "rgb(223,47,67)"
             ],
             [
              0.6274509803921569,
              "rgb(236,76,61)"
             ],
             [
              0.6901960784313725,
              "rgb(242,107,73)"
             ],
             [
              0.7529411764705882,
              "rgb(244,135,95)"
             ],
             [
              0.8156862745098039,
              "rgb(245,162,122)"
             ],
             [
              0.8784313725490196,
              "rgb(246,188,153)"
             ],
             [
              0.9411764705882353,
              "rgb(247,212,187)"
             ],
             [
              1,
              "rgb(250,234,220)"
             ]
            ],
            "type": "histogram2dcontour"
           }
          ],
          "mesh3d": [
           {
            "colorbar": {
             "outlinewidth": 0,
             "tickcolor": "rgb(36,36,36)",
             "ticklen": 8,
             "ticks": "outside",
             "tickwidth": 2
            },
            "type": "mesh3d"
           }
          ],
          "parcoords": [
           {
            "line": {
             "colorbar": {
              "outlinewidth": 0,
              "tickcolor": "rgb(36,36,36)",
              "ticklen": 8,
              "ticks": "outside",
              "tickwidth": 2
             }
            },
            "type": "parcoords"
           }
          ],
          "pie": [
           {
            "automargin": true,
            "type": "pie"
           }
          ],
          "scatter": [
           {
            "fillpattern": {
             "fillmode": "overlay",
             "size": 10,
             "solidity": 0.2
            },
            "type": "scatter"
           }
          ],
          "scatter3d": [
           {
            "line": {
             "colorbar": {
              "outlinewidth": 0,
              "tickcolor": "rgb(36,36,36)",
              "ticklen": 8,
              "ticks": "outside",
              "tickwidth": 2
             }
            },
            "marker": {
             "colorbar": {
              "outlinewidth": 0,
              "tickcolor": "rgb(36,36,36)",
              "ticklen": 8,
              "ticks": "outside",
              "tickwidth": 2
             }
            },
            "type": "scatter3d"
           }
          ],
          "scattercarpet": [
           {
            "marker": {
             "colorbar": {
              "outlinewidth": 0,
              "tickcolor": "rgb(36,36,36)",
              "ticklen": 8,
              "ticks": "outside",
              "tickwidth": 2
             }
            },
            "type": "scattercarpet"
           }
          ],
          "scattergeo": [
           {
            "marker": {
             "colorbar": {
              "outlinewidth": 0,
              "tickcolor": "rgb(36,36,36)",
              "ticklen": 8,
              "ticks": "outside",
              "tickwidth": 2
             }
            },
            "type": "scattergeo"
           }
          ],
          "scattergl": [
           {
            "marker": {
             "colorbar": {
              "outlinewidth": 0,
              "tickcolor": "rgb(36,36,36)",
              "ticklen": 8,
              "ticks": "outside",
              "tickwidth": 2
             }
            },
            "type": "scattergl"
           }
          ],
          "scattermapbox": [
           {
            "marker": {
             "colorbar": {
              "outlinewidth": 0,
              "tickcolor": "rgb(36,36,36)",
              "ticklen": 8,
              "ticks": "outside",
              "tickwidth": 2
             }
            },
            "type": "scattermapbox"
           }
          ],
          "scatterpolar": [
           {
            "marker": {
             "colorbar": {
              "outlinewidth": 0,
              "tickcolor": "rgb(36,36,36)",
              "ticklen": 8,
              "ticks": "outside",
              "tickwidth": 2
             }
            },
            "type": "scatterpolar"
           }
          ],
          "scatterpolargl": [
           {
            "marker": {
             "colorbar": {
              "outlinewidth": 0,
              "tickcolor": "rgb(36,36,36)",
              "ticklen": 8,
              "ticks": "outside",
              "tickwidth": 2
             }
            },
            "type": "scatterpolargl"
           }
          ],
          "scatterternary": [
           {
            "marker": {
             "colorbar": {
              "outlinewidth": 0,
              "tickcolor": "rgb(36,36,36)",
              "ticklen": 8,
              "ticks": "outside",
              "tickwidth": 2
             }
            },
            "type": "scatterternary"
           }
          ],
          "surface": [
           {
            "colorbar": {
             "outlinewidth": 0,
             "tickcolor": "rgb(36,36,36)",
             "ticklen": 8,
             "ticks": "outside",
             "tickwidth": 2
            },
            "colorscale": [
             [
              0,
              "rgb(2,4,25)"
             ],
             [
              0.06274509803921569,
              "rgb(24,15,41)"
             ],
             [
              0.12549019607843137,
              "rgb(47,23,57)"
             ],
             [
              0.18823529411764706,
              "rgb(71,28,72)"
             ],
             [
              0.25098039215686274,
              "rgb(97,30,82)"
             ],
             [
              0.3137254901960784,
              "rgb(123,30,89)"
             ],
             [
              0.3764705882352941,
              "rgb(150,27,91)"
             ],
             [
              0.4392156862745098,
              "rgb(177,22,88)"
             ],
             [
              0.5019607843137255,
              "rgb(203,26,79)"
             ],
             [
              0.5647058823529412,
              "rgb(223,47,67)"
             ],
             [
              0.6274509803921569,
              "rgb(236,76,61)"
             ],
             [
              0.6901960784313725,
              "rgb(242,107,73)"
             ],
             [
              0.7529411764705882,
              "rgb(244,135,95)"
             ],
             [
              0.8156862745098039,
              "rgb(245,162,122)"
             ],
             [
              0.8784313725490196,
              "rgb(246,188,153)"
             ],
             [
              0.9411764705882353,
              "rgb(247,212,187)"
             ],
             [
              1,
              "rgb(250,234,220)"
             ]
            ],
            "type": "surface"
           }
          ],
          "table": [
           {
            "cells": {
             "fill": {
              "color": "rgb(231,231,240)"
             },
             "line": {
              "color": "white"
             }
            },
            "header": {
             "fill": {
              "color": "rgb(183,183,191)"
             },
             "line": {
              "color": "white"
             }
            },
            "type": "table"
           }
          ]
         },
         "layout": {
          "annotationdefaults": {
           "arrowcolor": "rgb(67,103,167)"
          },
          "autotypenumbers": "strict",
          "coloraxis": {
           "colorbar": {
            "outlinewidth": 0,
            "tickcolor": "rgb(36,36,36)",
            "ticklen": 8,
            "ticks": "outside",
            "tickwidth": 2
           }
          },
          "colorscale": {
           "sequential": [
            [
             0,
             "rgb(2,4,25)"
            ],
            [
             0.06274509803921569,
             "rgb(24,15,41)"
            ],
            [
             0.12549019607843137,
             "rgb(47,23,57)"
            ],
            [
             0.18823529411764706,
             "rgb(71,28,72)"
            ],
            [
             0.25098039215686274,
             "rgb(97,30,82)"
            ],
            [
             0.3137254901960784,
             "rgb(123,30,89)"
            ],
            [
             0.3764705882352941,
             "rgb(150,27,91)"
            ],
            [
             0.4392156862745098,
             "rgb(177,22,88)"
            ],
            [
             0.5019607843137255,
             "rgb(203,26,79)"
            ],
            [
             0.5647058823529412,
             "rgb(223,47,67)"
            ],
            [
             0.6274509803921569,
             "rgb(236,76,61)"
            ],
            [
             0.6901960784313725,
             "rgb(242,107,73)"
            ],
            [
             0.7529411764705882,
             "rgb(244,135,95)"
            ],
            [
             0.8156862745098039,
             "rgb(245,162,122)"
            ],
            [
             0.8784313725490196,
             "rgb(246,188,153)"
            ],
            [
             0.9411764705882353,
             "rgb(247,212,187)"
            ],
            [
             1,
             "rgb(250,234,220)"
            ]
           ],
           "sequentialminus": [
            [
             0,
             "rgb(2,4,25)"
            ],
            [
             0.06274509803921569,
             "rgb(24,15,41)"
            ],
            [
             0.12549019607843137,
             "rgb(47,23,57)"
            ],
            [
             0.18823529411764706,
             "rgb(71,28,72)"
            ],
            [
             0.25098039215686274,
             "rgb(97,30,82)"
            ],
            [
             0.3137254901960784,
             "rgb(123,30,89)"
            ],
            [
             0.3764705882352941,
             "rgb(150,27,91)"
            ],
            [
             0.4392156862745098,
             "rgb(177,22,88)"
            ],
            [
             0.5019607843137255,
             "rgb(203,26,79)"
            ],
            [
             0.5647058823529412,
             "rgb(223,47,67)"
            ],
            [
             0.6274509803921569,
             "rgb(236,76,61)"
            ],
            [
             0.6901960784313725,
             "rgb(242,107,73)"
            ],
            [
             0.7529411764705882,
             "rgb(244,135,95)"
            ],
            [
             0.8156862745098039,
             "rgb(245,162,122)"
            ],
            [
             0.8784313725490196,
             "rgb(246,188,153)"
            ],
            [
             0.9411764705882353,
             "rgb(247,212,187)"
            ],
            [
             1,
             "rgb(250,234,220)"
            ]
           ]
          },
          "colorway": [
           "rgb(76,114,176)",
           "rgb(221,132,82)",
           "rgb(85,168,104)",
           "rgb(196,78,82)",
           "rgb(129,114,179)",
           "rgb(147,120,96)",
           "rgb(218,139,195)",
           "rgb(140,140,140)",
           "rgb(204,185,116)",
           "rgb(100,181,205)"
          ],
          "font": {
           "color": "rgb(36,36,36)",
           "family": "Modern Computer"
          },
          "geo": {
           "bgcolor": "white",
           "lakecolor": "white",
           "landcolor": "rgb(234,234,242)",
           "showlakes": true,
           "showland": true,
           "subunitcolor": "white"
          },
          "height": 500,
          "hoverlabel": {
           "align": "left"
          },
          "hovermode": "closest",
          "legend": {
           "font": {
            "size": 15
           },
           "orientation": "h",
           "title": {
            "text": ""
           },
           "x": 0.5,
           "xanchor": "center",
           "y": -1.5,
           "yanchor": "bottom"
          },
          "paper_bgcolor": "white",
          "plot_bgcolor": "rgb(234,234,242)",
          "polar": {
           "angularaxis": {
            "gridcolor": "white",
            "linecolor": "white",
            "showgrid": true,
            "ticks": ""
           },
           "bgcolor": "rgb(234,234,242)",
           "radialaxis": {
            "gridcolor": "white",
            "linecolor": "white",
            "showgrid": true,
            "ticks": ""
           }
          },
          "scene": {
           "xaxis": {
            "backgroundcolor": "rgb(234,234,242)",
            "gridcolor": "white",
            "gridwidth": 2,
            "linecolor": "white",
            "showbackground": true,
            "showgrid": true,
            "ticks": "",
            "zerolinecolor": "white"
           },
           "yaxis": {
            "backgroundcolor": "rgb(234,234,242)",
            "gridcolor": "white",
            "gridwidth": 2,
            "linecolor": "white",
            "showbackground": true,
            "showgrid": true,
            "ticks": "",
            "zerolinecolor": "white"
           },
           "zaxis": {
            "backgroundcolor": "rgb(234,234,242)",
            "gridcolor": "white",
            "gridwidth": 2,
            "linecolor": "white",
            "showbackground": true,
            "showgrid": true,
            "ticks": "",
            "zerolinecolor": "white"
           }
          },
          "shapedefaults": {
           "fillcolor": "rgb(67,103,167)",
           "line": {
            "width": 0
           },
           "opacity": 0.5
          },
          "showlegend": true,
          "ternary": {
           "aaxis": {
            "gridcolor": "white",
            "linecolor": "white",
            "showgrid": true,
            "ticks": ""
           },
           "baxis": {
            "gridcolor": "white",
            "linecolor": "white",
            "showgrid": true,
            "ticks": ""
           },
           "bgcolor": "rgb(234,234,242)",
           "caxis": {
            "gridcolor": "white",
            "linecolor": "white",
            "showgrid": true,
            "ticks": ""
           }
          },
          "title": {
           "font": {
            "family": "Modern Computer",
            "size": 25
           },
           "x": 0.5
          },
          "width": 800,
          "xaxis": {
           "automargin": true,
           "gridcolor": "white",
           "linecolor": "white",
           "showgrid": true,
           "tickangle": 45,
           "tickfont": {
            "size": 15
           },
           "ticks": "",
           "title": {
            "font": {
             "size": 12
            },
            "text": ""
           },
           "zerolinecolor": "white"
          },
          "yaxis": {
           "automargin": true,
           "gridcolor": "white",
           "linecolor": "white",
           "showgrid": true,
           "tickfont": {
            "size": 13
           },
           "ticks": "",
           "title": {
            "font": {
             "size": 12
            },
            "text": ""
           },
           "zerolinecolor": "white"
          }
         }
        },
        "title": {
         "text": "Metrics for Predicted and Baseline Queries"
        },
        "xaxis": {
         "anchor": "y",
         "domain": [
          0,
          0.98
         ],
         "title": {
          "text": "Topic"
         }
        },
        "xaxis2": {
         "anchor": "y2",
         "domain": [
          0,
          0.98
         ],
         "matches": "x",
         "showticklabels": false
        },
        "yaxis": {
         "anchor": "x",
         "domain": [
          0,
          0.45
         ],
         "title": {
          "text": "sum of value"
         }
        },
        "yaxis2": {
         "anchor": "x2",
         "domain": [
          0.55,
          1
         ],
         "matches": "y",
         "title": {
          "text": "sum of value"
         }
        }
       }
      }
     },
     "metadata": {},
     "output_type": "display_data"
    }
   ],
   "source": [
    "fig = px.histogram(plt_df, x=\"Topic\", y=[\"Recall\",\n",
    "                                        \"Cosine Precision\", \"Cluster Precision\", \"MVEE Precision\", \"Hull Precision\",\n",
    "                                        \"Cosine F2\",\"Cluster F2\", \"MVEE F2\", \"Hull F2\"\n",
    "                                                    ],\n",
    "                    title=\"Metrics for Predicted and Baseline Queries\", barmode=\"group\",\n",
    "                   facet_row=\"Index\", facet_row_spacing=0.1)\n",
    "\n",
    "fig.for_each_trace(lambda t: t.update(x=t.x[::-1], y=t.y[::-1]))\n",
    "fig.for_each_annotation(lambda a: a.update(text=a.text.split(\"=\")[-1]))\n",
    "# fig.update_layout(yaxis1_dtick=0.2, yaxis2_dtick=0.2, yaxis2_title=\"\",\n",
    "#                    **PLOT_CONFIGS)\n",
    "# fig.write_image(\"LitQEval-report/pics/all-metrics-2.pdf\")\n",
    "fig.show()"
   ]
  },
  {
   "cell_type": "code",
   "execution_count": 815,
   "metadata": {},
   "outputs": [
    {
     "data": {
      "application/vnd.plotly.v1+json": {
       "config": {
        "plotlyServerURL": "https://plot.ly"
       },
       "data": [
        {
         "coloraxis": "coloraxis",
         "hovertemplate": "Metric: %{x}<br>Topic: %{y}<br>Difference: %{z}<extra></extra>",
         "name": "0",
         "textfont": {
          "size": 15
         },
         "texttemplate": "%{z:.2f}",
         "type": "heatmap",
         "x": [
          "Recall",
          "Cosine Precision",
          "Cluster Precision",
          "MVEE Precision",
          "Hull Precision",
          "Cosine F2",
          "Cluster F2",
          "MVEE F2",
          "Hull F2"
         ],
         "xaxis": "x",
         "y": [
          "Software Process Line",
          "Data Stream Processing Latency",
          "Business Process Meta Models",
          "Multicore Performance Prediction",
          "Cloud Migration",
          "Software Fault Prediction Metrics",
          "Software Defect Prediction"
         ],
         "yaxis": "y",
         "z": [
          [
           -0.23,
           0.3,
           0.32,
           0.17,
           0.2,
           0.26,
           0.14,
           0.04,
           0.09
          ],
          [
           -0.07,
           0,
           -0.32,
           -0.15,
           -0.13,
           -0.07,
           -0.1,
           -0.07,
           -0.06
          ],
          [
           0.27,
           0.04,
           -0.08,
           0.41,
           0.31,
           0.19,
           0.09,
           0.38,
           0.35
          ],
          [
           0,
           0.21,
           0,
           0,
           0,
           0,
           0,
           0,
           0
          ],
          [
           -0.62,
           -0.05,
           0,
           -0.14,
           -0.08,
           -0.23,
           -0.03,
           -0.37,
           -0.29
          ],
          [
           0.56,
           -0.59,
           0.06,
           -0.19,
           -0.09,
           0,
           0.33,
           0.15,
           0.09
          ],
          [
           -0.13,
           -0.59,
           -0.45,
           -0.58,
           -0.45,
           -0.28,
           -0.21,
           -0.28,
           -0.31
          ]
         ]
        }
       ],
       "layout": {
        "coloraxis": {
         "cmid": 0,
         "colorbar": {
          "title": {
           "text": "Difference"
          }
         },
         "colorscale": [
          [
           0,
           "rgb(103,0,31)"
          ],
          [
           0.1,
           "rgb(178,24,43)"
          ],
          [
           0.2,
           "rgb(214,96,77)"
          ],
          [
           0.3,
           "rgb(244,165,130)"
          ],
          [
           0.4,
           "rgb(253,219,199)"
          ],
          [
           0.5,
           "rgb(247,247,247)"
          ],
          [
           0.6,
           "rgb(209,229,240)"
          ],
          [
           0.7,
           "rgb(146,197,222)"
          ],
          [
           0.8,
           "rgb(67,147,195)"
          ],
          [
           0.9,
           "rgb(33,102,172)"
          ],
          [
           1,
           "rgb(5,48,97)"
          ]
         ]
        },
        "font": {
         "family": "Modern Computer"
        },
        "height": 500,
        "legend": {
         "font": {
          "size": 15
         },
         "orientation": "h",
         "title": {
          "text": ""
         },
         "x": 0.5,
         "xanchor": "center",
         "y": -1.5,
         "yanchor": "bottom"
        },
        "margin": {
         "b": 0,
         "l": 0,
         "r": 0,
         "t": 50
        },
        "showlegend": true,
        "template": {
         "data": {
          "bar": [
           {
            "error_x": {
             "color": "rgb(36,36,36)"
            },
            "error_y": {
             "color": "rgb(36,36,36)"
            },
            "marker": {
             "line": {
              "color": "rgb(234,234,242)",
              "width": 0.5
             },
             "pattern": {
              "fillmode": "overlay",
              "size": 10,
              "solidity": 0.2
             }
            },
            "type": "bar"
           }
          ],
          "barpolar": [
           {
            "marker": {
             "line": {
              "color": "rgb(234,234,242)",
              "width": 0.5
             },
             "pattern": {
              "fillmode": "overlay",
              "size": 10,
              "solidity": 0.2
             }
            },
            "type": "barpolar"
           }
          ],
          "carpet": [
           {
            "aaxis": {
             "endlinecolor": "rgb(36,36,36)",
             "gridcolor": "white",
             "linecolor": "white",
             "minorgridcolor": "white",
             "startlinecolor": "rgb(36,36,36)"
            },
            "baxis": {
             "endlinecolor": "rgb(36,36,36)",
             "gridcolor": "white",
             "linecolor": "white",
             "minorgridcolor": "white",
             "startlinecolor": "rgb(36,36,36)"
            },
            "type": "carpet"
           }
          ],
          "choropleth": [
           {
            "colorbar": {
             "outlinewidth": 0,
             "tickcolor": "rgb(36,36,36)",
             "ticklen": 8,
             "ticks": "outside",
             "tickwidth": 2
            },
            "type": "choropleth"
           }
          ],
          "contour": [
           {
            "colorbar": {
             "outlinewidth": 0,
             "tickcolor": "rgb(36,36,36)",
             "ticklen": 8,
             "ticks": "outside",
             "tickwidth": 2
            },
            "colorscale": [
             [
              0,
              "rgb(2,4,25)"
             ],
             [
              0.06274509803921569,
              "rgb(24,15,41)"
             ],
             [
              0.12549019607843137,
              "rgb(47,23,57)"
             ],
             [
              0.18823529411764706,
              "rgb(71,28,72)"
             ],
             [
              0.25098039215686274,
              "rgb(97,30,82)"
             ],
             [
              0.3137254901960784,
              "rgb(123,30,89)"
             ],
             [
              0.3764705882352941,
              "rgb(150,27,91)"
             ],
             [
              0.4392156862745098,
              "rgb(177,22,88)"
             ],
             [
              0.5019607843137255,
              "rgb(203,26,79)"
             ],
             [
              0.5647058823529412,
              "rgb(223,47,67)"
             ],
             [
              0.6274509803921569,
              "rgb(236,76,61)"
             ],
             [
              0.6901960784313725,
              "rgb(242,107,73)"
             ],
             [
              0.7529411764705882,
              "rgb(244,135,95)"
             ],
             [
              0.8156862745098039,
              "rgb(245,162,122)"
             ],
             [
              0.8784313725490196,
              "rgb(246,188,153)"
             ],
             [
              0.9411764705882353,
              "rgb(247,212,187)"
             ],
             [
              1,
              "rgb(250,234,220)"
             ]
            ],
            "type": "contour"
           }
          ],
          "contourcarpet": [
           {
            "colorbar": {
             "outlinewidth": 0,
             "tickcolor": "rgb(36,36,36)",
             "ticklen": 8,
             "ticks": "outside",
             "tickwidth": 2
            },
            "type": "contourcarpet"
           }
          ],
          "heatmap": [
           {
            "colorbar": {
             "outlinewidth": 0,
             "tickcolor": "rgb(36,36,36)",
             "ticklen": 8,
             "ticks": "outside",
             "tickwidth": 2
            },
            "colorscale": [
             [
              0,
              "rgb(2,4,25)"
             ],
             [
              0.06274509803921569,
              "rgb(24,15,41)"
             ],
             [
              0.12549019607843137,
              "rgb(47,23,57)"
             ],
             [
              0.18823529411764706,
              "rgb(71,28,72)"
             ],
             [
              0.25098039215686274,
              "rgb(97,30,82)"
             ],
             [
              0.3137254901960784,
              "rgb(123,30,89)"
             ],
             [
              0.3764705882352941,
              "rgb(150,27,91)"
             ],
             [
              0.4392156862745098,
              "rgb(177,22,88)"
             ],
             [
              0.5019607843137255,
              "rgb(203,26,79)"
             ],
             [
              0.5647058823529412,
              "rgb(223,47,67)"
             ],
             [
              0.6274509803921569,
              "rgb(236,76,61)"
             ],
             [
              0.6901960784313725,
              "rgb(242,107,73)"
             ],
             [
              0.7529411764705882,
              "rgb(244,135,95)"
             ],
             [
              0.8156862745098039,
              "rgb(245,162,122)"
             ],
             [
              0.8784313725490196,
              "rgb(246,188,153)"
             ],
             [
              0.9411764705882353,
              "rgb(247,212,187)"
             ],
             [
              1,
              "rgb(250,234,220)"
             ]
            ],
            "type": "heatmap"
           }
          ],
          "heatmapgl": [
           {
            "colorbar": {
             "outlinewidth": 0,
             "tickcolor": "rgb(36,36,36)",
             "ticklen": 8,
             "ticks": "outside",
             "tickwidth": 2
            },
            "colorscale": [
             [
              0,
              "rgb(2,4,25)"
             ],
             [
              0.06274509803921569,
              "rgb(24,15,41)"
             ],
             [
              0.12549019607843137,
              "rgb(47,23,57)"
             ],
             [
              0.18823529411764706,
              "rgb(71,28,72)"
             ],
             [
              0.25098039215686274,
              "rgb(97,30,82)"
             ],
             [
              0.3137254901960784,
              "rgb(123,30,89)"
             ],
             [
              0.3764705882352941,
              "rgb(150,27,91)"
             ],
             [
              0.4392156862745098,
              "rgb(177,22,88)"
             ],
             [
              0.5019607843137255,
              "rgb(203,26,79)"
             ],
             [
              0.5647058823529412,
              "rgb(223,47,67)"
             ],
             [
              0.6274509803921569,
              "rgb(236,76,61)"
             ],
             [
              0.6901960784313725,
              "rgb(242,107,73)"
             ],
             [
              0.7529411764705882,
              "rgb(244,135,95)"
             ],
             [
              0.8156862745098039,
              "rgb(245,162,122)"
             ],
             [
              0.8784313725490196,
              "rgb(246,188,153)"
             ],
             [
              0.9411764705882353,
              "rgb(247,212,187)"
             ],
             [
              1,
              "rgb(250,234,220)"
             ]
            ],
            "type": "heatmapgl"
           }
          ],
          "histogram": [
           {
            "marker": {
             "pattern": {
              "fillmode": "overlay",
              "size": 10,
              "solidity": 0.2
             }
            },
            "type": "histogram"
           }
          ],
          "histogram2d": [
           {
            "colorbar": {
             "outlinewidth": 0,
             "tickcolor": "rgb(36,36,36)",
             "ticklen": 8,
             "ticks": "outside",
             "tickwidth": 2
            },
            "colorscale": [
             [
              0,
              "rgb(2,4,25)"
             ],
             [
              0.06274509803921569,
              "rgb(24,15,41)"
             ],
             [
              0.12549019607843137,
              "rgb(47,23,57)"
             ],
             [
              0.18823529411764706,
              "rgb(71,28,72)"
             ],
             [
              0.25098039215686274,
              "rgb(97,30,82)"
             ],
             [
              0.3137254901960784,
              "rgb(123,30,89)"
             ],
             [
              0.3764705882352941,
              "rgb(150,27,91)"
             ],
             [
              0.4392156862745098,
              "rgb(177,22,88)"
             ],
             [
              0.5019607843137255,
              "rgb(203,26,79)"
             ],
             [
              0.5647058823529412,
              "rgb(223,47,67)"
             ],
             [
              0.6274509803921569,
              "rgb(236,76,61)"
             ],
             [
              0.6901960784313725,
              "rgb(242,107,73)"
             ],
             [
              0.7529411764705882,
              "rgb(244,135,95)"
             ],
             [
              0.8156862745098039,
              "rgb(245,162,122)"
             ],
             [
              0.8784313725490196,
              "rgb(246,188,153)"
             ],
             [
              0.9411764705882353,
              "rgb(247,212,187)"
             ],
             [
              1,
              "rgb(250,234,220)"
             ]
            ],
            "type": "histogram2d"
           }
          ],
          "histogram2dcontour": [
           {
            "colorbar": {
             "outlinewidth": 0,
             "tickcolor": "rgb(36,36,36)",
             "ticklen": 8,
             "ticks": "outside",
             "tickwidth": 2
            },
            "colorscale": [
             [
              0,
              "rgb(2,4,25)"
             ],
             [
              0.06274509803921569,
              "rgb(24,15,41)"
             ],
             [
              0.12549019607843137,
              "rgb(47,23,57)"
             ],
             [
              0.18823529411764706,
              "rgb(71,28,72)"
             ],
             [
              0.25098039215686274,
              "rgb(97,30,82)"
             ],
             [
              0.3137254901960784,
              "rgb(123,30,89)"
             ],
             [
              0.3764705882352941,
              "rgb(150,27,91)"
             ],
             [
              0.4392156862745098,
              "rgb(177,22,88)"
             ],
             [
              0.5019607843137255,
              "rgb(203,26,79)"
             ],
             [
              0.5647058823529412,
              "rgb(223,47,67)"
             ],
             [
              0.6274509803921569,
              "rgb(236,76,61)"
             ],
             [
              0.6901960784313725,
              "rgb(242,107,73)"
             ],
             [
              0.7529411764705882,
              "rgb(244,135,95)"
             ],
             [
              0.8156862745098039,
              "rgb(245,162,122)"
             ],
             [
              0.8784313725490196,
              "rgb(246,188,153)"
             ],
             [
              0.9411764705882353,
              "rgb(247,212,187)"
             ],
             [
              1,
              "rgb(250,234,220)"
             ]
            ],
            "type": "histogram2dcontour"
           }
          ],
          "mesh3d": [
           {
            "colorbar": {
             "outlinewidth": 0,
             "tickcolor": "rgb(36,36,36)",
             "ticklen": 8,
             "ticks": "outside",
             "tickwidth": 2
            },
            "type": "mesh3d"
           }
          ],
          "parcoords": [
           {
            "line": {
             "colorbar": {
              "outlinewidth": 0,
              "tickcolor": "rgb(36,36,36)",
              "ticklen": 8,
              "ticks": "outside",
              "tickwidth": 2
             }
            },
            "type": "parcoords"
           }
          ],
          "pie": [
           {
            "automargin": true,
            "type": "pie"
           }
          ],
          "scatter": [
           {
            "fillpattern": {
             "fillmode": "overlay",
             "size": 10,
             "solidity": 0.2
            },
            "type": "scatter"
           }
          ],
          "scatter3d": [
           {
            "line": {
             "colorbar": {
              "outlinewidth": 0,
              "tickcolor": "rgb(36,36,36)",
              "ticklen": 8,
              "ticks": "outside",
              "tickwidth": 2
             }
            },
            "marker": {
             "colorbar": {
              "outlinewidth": 0,
              "tickcolor": "rgb(36,36,36)",
              "ticklen": 8,
              "ticks": "outside",
              "tickwidth": 2
             }
            },
            "type": "scatter3d"
           }
          ],
          "scattercarpet": [
           {
            "marker": {
             "colorbar": {
              "outlinewidth": 0,
              "tickcolor": "rgb(36,36,36)",
              "ticklen": 8,
              "ticks": "outside",
              "tickwidth": 2
             }
            },
            "type": "scattercarpet"
           }
          ],
          "scattergeo": [
           {
            "marker": {
             "colorbar": {
              "outlinewidth": 0,
              "tickcolor": "rgb(36,36,36)",
              "ticklen": 8,
              "ticks": "outside",
              "tickwidth": 2
             }
            },
            "type": "scattergeo"
           }
          ],
          "scattergl": [
           {
            "marker": {
             "colorbar": {
              "outlinewidth": 0,
              "tickcolor": "rgb(36,36,36)",
              "ticklen": 8,
              "ticks": "outside",
              "tickwidth": 2
             }
            },
            "type": "scattergl"
           }
          ],
          "scattermapbox": [
           {
            "marker": {
             "colorbar": {
              "outlinewidth": 0,
              "tickcolor": "rgb(36,36,36)",
              "ticklen": 8,
              "ticks": "outside",
              "tickwidth": 2
             }
            },
            "type": "scattermapbox"
           }
          ],
          "scatterpolar": [
           {
            "marker": {
             "colorbar": {
              "outlinewidth": 0,
              "tickcolor": "rgb(36,36,36)",
              "ticklen": 8,
              "ticks": "outside",
              "tickwidth": 2
             }
            },
            "type": "scatterpolar"
           }
          ],
          "scatterpolargl": [
           {
            "marker": {
             "colorbar": {
              "outlinewidth": 0,
              "tickcolor": "rgb(36,36,36)",
              "ticklen": 8,
              "ticks": "outside",
              "tickwidth": 2
             }
            },
            "type": "scatterpolargl"
           }
          ],
          "scatterternary": [
           {
            "marker": {
             "colorbar": {
              "outlinewidth": 0,
              "tickcolor": "rgb(36,36,36)",
              "ticklen": 8,
              "ticks": "outside",
              "tickwidth": 2
             }
            },
            "type": "scatterternary"
           }
          ],
          "surface": [
           {
            "colorbar": {
             "outlinewidth": 0,
             "tickcolor": "rgb(36,36,36)",
             "ticklen": 8,
             "ticks": "outside",
             "tickwidth": 2
            },
            "colorscale": [
             [
              0,
              "rgb(2,4,25)"
             ],
             [
              0.06274509803921569,
              "rgb(24,15,41)"
             ],
             [
              0.12549019607843137,
              "rgb(47,23,57)"
             ],
             [
              0.18823529411764706,
              "rgb(71,28,72)"
             ],
             [
              0.25098039215686274,
              "rgb(97,30,82)"
             ],
             [
              0.3137254901960784,
              "rgb(123,30,89)"
             ],
             [
              0.3764705882352941,
              "rgb(150,27,91)"
             ],
             [
              0.4392156862745098,
              "rgb(177,22,88)"
             ],
             [
              0.5019607843137255,
              "rgb(203,26,79)"
             ],
             [
              0.5647058823529412,
              "rgb(223,47,67)"
             ],
             [
              0.6274509803921569,
              "rgb(236,76,61)"
             ],
             [
              0.6901960784313725,
              "rgb(242,107,73)"
             ],
             [
              0.7529411764705882,
              "rgb(244,135,95)"
             ],
             [
              0.8156862745098039,
              "rgb(245,162,122)"
             ],
             [
              0.8784313725490196,
              "rgb(246,188,153)"
             ],
             [
              0.9411764705882353,
              "rgb(247,212,187)"
             ],
             [
              1,
              "rgb(250,234,220)"
             ]
            ],
            "type": "surface"
           }
          ],
          "table": [
           {
            "cells": {
             "fill": {
              "color": "rgb(231,231,240)"
             },
             "line": {
              "color": "white"
             }
            },
            "header": {
             "fill": {
              "color": "rgb(183,183,191)"
             },
             "line": {
              "color": "white"
             }
            },
            "type": "table"
           }
          ]
         },
         "layout": {
          "annotationdefaults": {
           "arrowcolor": "rgb(67,103,167)"
          },
          "autotypenumbers": "strict",
          "coloraxis": {
           "colorbar": {
            "outlinewidth": 0,
            "tickcolor": "rgb(36,36,36)",
            "ticklen": 8,
            "ticks": "outside",
            "tickwidth": 2
           }
          },
          "colorscale": {
           "sequential": [
            [
             0,
             "rgb(2,4,25)"
            ],
            [
             0.06274509803921569,
             "rgb(24,15,41)"
            ],
            [
             0.12549019607843137,
             "rgb(47,23,57)"
            ],
            [
             0.18823529411764706,
             "rgb(71,28,72)"
            ],
            [
             0.25098039215686274,
             "rgb(97,30,82)"
            ],
            [
             0.3137254901960784,
             "rgb(123,30,89)"
            ],
            [
             0.3764705882352941,
             "rgb(150,27,91)"
            ],
            [
             0.4392156862745098,
             "rgb(177,22,88)"
            ],
            [
             0.5019607843137255,
             "rgb(203,26,79)"
            ],
            [
             0.5647058823529412,
             "rgb(223,47,67)"
            ],
            [
             0.6274509803921569,
             "rgb(236,76,61)"
            ],
            [
             0.6901960784313725,
             "rgb(242,107,73)"
            ],
            [
             0.7529411764705882,
             "rgb(244,135,95)"
            ],
            [
             0.8156862745098039,
             "rgb(245,162,122)"
            ],
            [
             0.8784313725490196,
             "rgb(246,188,153)"
            ],
            [
             0.9411764705882353,
             "rgb(247,212,187)"
            ],
            [
             1,
             "rgb(250,234,220)"
            ]
           ],
           "sequentialminus": [
            [
             0,
             "rgb(2,4,25)"
            ],
            [
             0.06274509803921569,
             "rgb(24,15,41)"
            ],
            [
             0.12549019607843137,
             "rgb(47,23,57)"
            ],
            [
             0.18823529411764706,
             "rgb(71,28,72)"
            ],
            [
             0.25098039215686274,
             "rgb(97,30,82)"
            ],
            [
             0.3137254901960784,
             "rgb(123,30,89)"
            ],
            [
             0.3764705882352941,
             "rgb(150,27,91)"
            ],
            [
             0.4392156862745098,
             "rgb(177,22,88)"
            ],
            [
             0.5019607843137255,
             "rgb(203,26,79)"
            ],
            [
             0.5647058823529412,
             "rgb(223,47,67)"
            ],
            [
             0.6274509803921569,
             "rgb(236,76,61)"
            ],
            [
             0.6901960784313725,
             "rgb(242,107,73)"
            ],
            [
             0.7529411764705882,
             "rgb(244,135,95)"
            ],
            [
             0.8156862745098039,
             "rgb(245,162,122)"
            ],
            [
             0.8784313725490196,
             "rgb(246,188,153)"
            ],
            [
             0.9411764705882353,
             "rgb(247,212,187)"
            ],
            [
             1,
             "rgb(250,234,220)"
            ]
           ]
          },
          "colorway": [
           "rgb(76,114,176)",
           "rgb(221,132,82)",
           "rgb(85,168,104)",
           "rgb(196,78,82)",
           "rgb(129,114,179)",
           "rgb(147,120,96)",
           "rgb(218,139,195)",
           "rgb(140,140,140)",
           "rgb(204,185,116)",
           "rgb(100,181,205)"
          ],
          "font": {
           "color": "rgb(36,36,36)",
           "family": "Modern Computer"
          },
          "geo": {
           "bgcolor": "white",
           "lakecolor": "white",
           "landcolor": "rgb(234,234,242)",
           "showlakes": true,
           "showland": true,
           "subunitcolor": "white"
          },
          "height": 500,
          "hoverlabel": {
           "align": "left"
          },
          "hovermode": "closest",
          "legend": {
           "font": {
            "size": 15
           },
           "orientation": "h",
           "title": {
            "text": ""
           },
           "x": 0.5,
           "xanchor": "center",
           "y": -1.5,
           "yanchor": "bottom"
          },
          "paper_bgcolor": "white",
          "plot_bgcolor": "rgb(234,234,242)",
          "polar": {
           "angularaxis": {
            "gridcolor": "white",
            "linecolor": "white",
            "showgrid": true,
            "ticks": ""
           },
           "bgcolor": "rgb(234,234,242)",
           "radialaxis": {
            "gridcolor": "white",
            "linecolor": "white",
            "showgrid": true,
            "ticks": ""
           }
          },
          "scene": {
           "xaxis": {
            "backgroundcolor": "rgb(234,234,242)",
            "gridcolor": "white",
            "gridwidth": 2,
            "linecolor": "white",
            "showbackground": true,
            "showgrid": true,
            "ticks": "",
            "zerolinecolor": "white"
           },
           "yaxis": {
            "backgroundcolor": "rgb(234,234,242)",
            "gridcolor": "white",
            "gridwidth": 2,
            "linecolor": "white",
            "showbackground": true,
            "showgrid": true,
            "ticks": "",
            "zerolinecolor": "white"
           },
           "zaxis": {
            "backgroundcolor": "rgb(234,234,242)",
            "gridcolor": "white",
            "gridwidth": 2,
            "linecolor": "white",
            "showbackground": true,
            "showgrid": true,
            "ticks": "",
            "zerolinecolor": "white"
           }
          },
          "shapedefaults": {
           "fillcolor": "rgb(67,103,167)",
           "line": {
            "width": 0
           },
           "opacity": 0.5
          },
          "showlegend": true,
          "ternary": {
           "aaxis": {
            "gridcolor": "white",
            "linecolor": "white",
            "showgrid": true,
            "ticks": ""
           },
           "baxis": {
            "gridcolor": "white",
            "linecolor": "white",
            "showgrid": true,
            "ticks": ""
           },
           "bgcolor": "rgb(234,234,242)",
           "caxis": {
            "gridcolor": "white",
            "linecolor": "white",
            "showgrid": true,
            "ticks": ""
           }
          },
          "title": {
           "font": {
            "family": "Modern Computer",
            "size": 25
           },
           "x": 0.5
          },
          "width": 800,
          "xaxis": {
           "automargin": true,
           "gridcolor": "white",
           "linecolor": "white",
           "showgrid": true,
           "tickangle": 45,
           "tickfont": {
            "size": 15
           },
           "ticks": "",
           "title": {
            "font": {
             "size": 12
            },
            "text": ""
           },
           "zerolinecolor": "white"
          },
          "yaxis": {
           "automargin": true,
           "gridcolor": "white",
           "linecolor": "white",
           "showgrid": true,
           "tickfont": {
            "size": 13
           },
           "ticks": "",
           "title": {
            "font": {
             "size": 12
            },
            "text": ""
           },
           "zerolinecolor": "white"
          }
         }
        },
        "title": {
         "font": {
          "family": "Modern Computer",
          "size": 25
         },
         "text": "Performance Difference between the Original SLR and Baseline Queries",
         "x": 0.5
        },
        "width": 800,
        "xaxis": {
         "anchor": "y",
         "domain": [
          0,
          1
         ],
         "tickangle": 45,
         "tickfont": {
          "size": 15
         },
         "title": {
          "font": {
           "size": 12
          },
          "text": ""
         }
        },
        "yaxis": {
         "anchor": "x",
         "autorange": "reversed",
         "domain": [
          0,
          1
         ],
         "tickfont": {
          "size": 13
         },
         "title": {
          "font": {
           "size": 12
          },
          "text": ""
         }
        }
       }
      }
     },
     "metadata": {},
     "output_type": "display_data"
    }
   ],
   "source": [
    "diff_df = (results[results[\"Index\"] == \"Predicted\"][[\"Recall\",\n",
    "                                                    \"Cosine Precision\", \"Cluster Precision\", \"MVEE Precision\", \"Hull Precision\",\n",
    "                                                    \"Cosine F2\",\"Cluster F2\", \"MVEE F2\", \"Hull F2\",\n",
    "                                                    ]].values\\\n",
    "      - results[results[\"Index\"] == \"Baseline\"][[\"Recall\",\n",
    "                                                    \"Cosine Precision\", \"Cluster Precision\", \"MVEE Precision\", \"Hull Precision\",\n",
    "                                                    \"Cosine F2\",\"Cluster F2\", \"MVEE F2\", \"Hull F2\",\n",
    "                                                    ]].values).astype(float)\n",
    "\n",
    "diff_df = pd.DataFrame(np.round(diff_df,3), columns=[\"Recall\",\n",
    "                                                    \"Cosine Precision\", \"Cluster Precision\", \"MVEE Precision\", \"Hull Precision\",\n",
    "                                                    \"Cosine F2\",\"Cluster F2\", \"MVEE F2\", \"Hull F2\",\n",
    "                                                    ], index=results.dropna()[\"Topic\"])\n",
    "fig = px.imshow(diff_df, title=\"Performance Difference between the Original SLR and Baseline Queries\",\n",
    "                color_continuous_midpoint=0, color_continuous_scale=\"RdBu\",\n",
    "                labels=dict(x=\"Metric\", y=\"Topic\", color=\"Difference\"), aspect=\"auto\",\n",
    "                text_auto=\".2f\")\n",
    "fig.update_layout(\n",
    "        margin={\"t\": 50, \"b\": 0, \"r\": 0, \"l\": 0,},\n",
    "        **PLOT_CONFIGS)\n",
    "fig.update_traces(textfont_size=15)\n",
    "fig.show()\n",
    "# pio.write_image(fig, \"LitQEval-report/pics/eval2_results.pdf\", width=900)"
   ]
  },
  {
   "cell_type": "code",
   "execution_count": 816,
   "metadata": {},
   "outputs": [
    {
     "data": {
      "application/vnd.plotly.v1+json": {
       "config": {
        "plotlyServerURL": "https://plot.ly"
       },
       "data": [
        {
         "coloraxis": "coloraxis",
         "hovertemplate": "Metric: %{x}<br>Topic: %{y}<br>Value: %{z}<extra></extra>",
         "name": "0",
         "text": [
          [
           "",
           "",
           "",
           "",
           "",
           32,
           40,
           28,
           28
          ],
          [
           "",
           "",
           "",
           "",
           "",
           78,
           45,
           62,
           48
          ],
          [
           "",
           "",
           "",
           "",
           "",
           380,
           326,
           705,
           549
          ],
          [
           "",
           "",
           "",
           "",
           "",
           31,
           0,
           0,
           0
          ],
          [
           "",
           "",
           "",
           "",
           "",
           177,
           90,
           28,
           17
          ],
          [
           "",
           "",
           "",
           "",
           "",
           1523,
           6906,
           2944,
           1870
          ],
          [
           "",
           "",
           "",
           "",
           "",
           355,
           295,
           332,
           153
          ]
         ],
         "textfont": {
          "size": 15
         },
         "texttemplate": "%{text:.2s}",
         "type": "heatmap",
         "x": [
          "Recall",
          "Cosine Precision",
          "Cluster Precision",
          "MVEE Precision",
          "Hull Precision",
          "Cosine F2",
          "Cluster F2",
          "MVEE F2",
          "Hull F2"
         ],
         "xaxis": "x",
         "y": [
          "Software Process Line",
          "Data Stream Processing Latency",
          "Business Process Meta Models",
          "Multicore Performance Prediction",
          "Cloud Migration",
          "Software Fault Prediction Metrics",
          "Software Defect Prediction"
         ],
         "yaxis": "y",
         "z": [
          [
           0.37,
           0.32,
           0.4,
           0.28,
           0.28,
           0.36,
           0.38,
           0.35,
           0.35
          ],
          [
           0.1,
           0.3,
           0.17,
           0.24,
           0.18,
           0.12,
           0.11,
           0.14,
           0.14
          ],
          [
           0.58,
           0.3,
           0.26,
           0.56,
           0.43,
           0.49,
           0.4,
           0.63,
           0.59
          ],
          [
           0,
           0.57,
           0,
           0,
           0,
           0,
           0,
           0,
           0
          ],
          [
           0.24,
           0.08,
           0.04,
           0.01,
           0.01,
           0.17,
           0.12,
           0.05,
           0.03
          ],
          [
           0.81,
           0.09,
           0.39,
           0.17,
           0.11,
           0.29,
           0.54,
           0.42,
           0.33
          ],
          [
           0.2,
           0.02,
           0.02,
           0.02,
           0.01,
           0.08,
           0.07,
           0.08,
           0.04
          ]
         ]
        }
       ],
       "layout": {
        "coloraxis": {
         "cmax": 1,
         "cmin": 0,
         "colorbar": {
          "title": {
           "text": "Value"
          }
         },
         "colorscale": [
          [
           0,
           "rgb(103,0,31)"
          ],
          [
           0.1,
           "rgb(178,24,43)"
          ],
          [
           0.2,
           "rgb(214,96,77)"
          ],
          [
           0.3,
           "rgb(244,165,130)"
          ],
          [
           0.4,
           "rgb(253,219,199)"
          ],
          [
           0.5,
           "rgb(247,247,247)"
          ],
          [
           0.6,
           "rgb(209,229,240)"
          ],
          [
           0.7,
           "rgb(146,197,222)"
          ],
          [
           0.8,
           "rgb(67,147,195)"
          ],
          [
           0.9,
           "rgb(33,102,172)"
          ],
          [
           1,
           "rgb(5,48,97)"
          ]
         ]
        },
        "font": {
         "family": "Modern Computer"
        },
        "height": 500,
        "legend": {
         "font": {
          "size": 15
         },
         "orientation": "h",
         "title": {
          "text": ""
         },
         "x": 0.5,
         "xanchor": "center",
         "y": -1.5,
         "yanchor": "bottom"
        },
        "margin": {
         "b": 0,
         "l": 0,
         "r": 0,
         "t": 50
        },
        "showlegend": true,
        "template": {
         "data": {
          "bar": [
           {
            "error_x": {
             "color": "rgb(36,36,36)"
            },
            "error_y": {
             "color": "rgb(36,36,36)"
            },
            "marker": {
             "line": {
              "color": "rgb(234,234,242)",
              "width": 0.5
             },
             "pattern": {
              "fillmode": "overlay",
              "size": 10,
              "solidity": 0.2
             }
            },
            "type": "bar"
           }
          ],
          "barpolar": [
           {
            "marker": {
             "line": {
              "color": "rgb(234,234,242)",
              "width": 0.5
             },
             "pattern": {
              "fillmode": "overlay",
              "size": 10,
              "solidity": 0.2
             }
            },
            "type": "barpolar"
           }
          ],
          "carpet": [
           {
            "aaxis": {
             "endlinecolor": "rgb(36,36,36)",
             "gridcolor": "white",
             "linecolor": "white",
             "minorgridcolor": "white",
             "startlinecolor": "rgb(36,36,36)"
            },
            "baxis": {
             "endlinecolor": "rgb(36,36,36)",
             "gridcolor": "white",
             "linecolor": "white",
             "minorgridcolor": "white",
             "startlinecolor": "rgb(36,36,36)"
            },
            "type": "carpet"
           }
          ],
          "choropleth": [
           {
            "colorbar": {
             "outlinewidth": 0,
             "tickcolor": "rgb(36,36,36)",
             "ticklen": 8,
             "ticks": "outside",
             "tickwidth": 2
            },
            "type": "choropleth"
           }
          ],
          "contour": [
           {
            "colorbar": {
             "outlinewidth": 0,
             "tickcolor": "rgb(36,36,36)",
             "ticklen": 8,
             "ticks": "outside",
             "tickwidth": 2
            },
            "colorscale": [
             [
              0,
              "rgb(2,4,25)"
             ],
             [
              0.06274509803921569,
              "rgb(24,15,41)"
             ],
             [
              0.12549019607843137,
              "rgb(47,23,57)"
             ],
             [
              0.18823529411764706,
              "rgb(71,28,72)"
             ],
             [
              0.25098039215686274,
              "rgb(97,30,82)"
             ],
             [
              0.3137254901960784,
              "rgb(123,30,89)"
             ],
             [
              0.3764705882352941,
              "rgb(150,27,91)"
             ],
             [
              0.4392156862745098,
              "rgb(177,22,88)"
             ],
             [
              0.5019607843137255,
              "rgb(203,26,79)"
             ],
             [
              0.5647058823529412,
              "rgb(223,47,67)"
             ],
             [
              0.6274509803921569,
              "rgb(236,76,61)"
             ],
             [
              0.6901960784313725,
              "rgb(242,107,73)"
             ],
             [
              0.7529411764705882,
              "rgb(244,135,95)"
             ],
             [
              0.8156862745098039,
              "rgb(245,162,122)"
             ],
             [
              0.8784313725490196,
              "rgb(246,188,153)"
             ],
             [
              0.9411764705882353,
              "rgb(247,212,187)"
             ],
             [
              1,
              "rgb(250,234,220)"
             ]
            ],
            "type": "contour"
           }
          ],
          "contourcarpet": [
           {
            "colorbar": {
             "outlinewidth": 0,
             "tickcolor": "rgb(36,36,36)",
             "ticklen": 8,
             "ticks": "outside",
             "tickwidth": 2
            },
            "type": "contourcarpet"
           }
          ],
          "heatmap": [
           {
            "colorbar": {
             "outlinewidth": 0,
             "tickcolor": "rgb(36,36,36)",
             "ticklen": 8,
             "ticks": "outside",
             "tickwidth": 2
            },
            "colorscale": [
             [
              0,
              "rgb(2,4,25)"
             ],
             [
              0.06274509803921569,
              "rgb(24,15,41)"
             ],
             [
              0.12549019607843137,
              "rgb(47,23,57)"
             ],
             [
              0.18823529411764706,
              "rgb(71,28,72)"
             ],
             [
              0.25098039215686274,
              "rgb(97,30,82)"
             ],
             [
              0.3137254901960784,
              "rgb(123,30,89)"
             ],
             [
              0.3764705882352941,
              "rgb(150,27,91)"
             ],
             [
              0.4392156862745098,
              "rgb(177,22,88)"
             ],
             [
              0.5019607843137255,
              "rgb(203,26,79)"
             ],
             [
              0.5647058823529412,
              "rgb(223,47,67)"
             ],
             [
              0.6274509803921569,
              "rgb(236,76,61)"
             ],
             [
              0.6901960784313725,
              "rgb(242,107,73)"
             ],
             [
              0.7529411764705882,
              "rgb(244,135,95)"
             ],
             [
              0.8156862745098039,
              "rgb(245,162,122)"
             ],
             [
              0.8784313725490196,
              "rgb(246,188,153)"
             ],
             [
              0.9411764705882353,
              "rgb(247,212,187)"
             ],
             [
              1,
              "rgb(250,234,220)"
             ]
            ],
            "type": "heatmap"
           }
          ],
          "heatmapgl": [
           {
            "colorbar": {
             "outlinewidth": 0,
             "tickcolor": "rgb(36,36,36)",
             "ticklen": 8,
             "ticks": "outside",
             "tickwidth": 2
            },
            "colorscale": [
             [
              0,
              "rgb(2,4,25)"
             ],
             [
              0.06274509803921569,
              "rgb(24,15,41)"
             ],
             [
              0.12549019607843137,
              "rgb(47,23,57)"
             ],
             [
              0.18823529411764706,
              "rgb(71,28,72)"
             ],
             [
              0.25098039215686274,
              "rgb(97,30,82)"
             ],
             [
              0.3137254901960784,
              "rgb(123,30,89)"
             ],
             [
              0.3764705882352941,
              "rgb(150,27,91)"
             ],
             [
              0.4392156862745098,
              "rgb(177,22,88)"
             ],
             [
              0.5019607843137255,
              "rgb(203,26,79)"
             ],
             [
              0.5647058823529412,
              "rgb(223,47,67)"
             ],
             [
              0.6274509803921569,
              "rgb(236,76,61)"
             ],
             [
              0.6901960784313725,
              "rgb(242,107,73)"
             ],
             [
              0.7529411764705882,
              "rgb(244,135,95)"
             ],
             [
              0.8156862745098039,
              "rgb(245,162,122)"
             ],
             [
              0.8784313725490196,
              "rgb(246,188,153)"
             ],
             [
              0.9411764705882353,
              "rgb(247,212,187)"
             ],
             [
              1,
              "rgb(250,234,220)"
             ]
            ],
            "type": "heatmapgl"
           }
          ],
          "histogram": [
           {
            "marker": {
             "pattern": {
              "fillmode": "overlay",
              "size": 10,
              "solidity": 0.2
             }
            },
            "type": "histogram"
           }
          ],
          "histogram2d": [
           {
            "colorbar": {
             "outlinewidth": 0,
             "tickcolor": "rgb(36,36,36)",
             "ticklen": 8,
             "ticks": "outside",
             "tickwidth": 2
            },
            "colorscale": [
             [
              0,
              "rgb(2,4,25)"
             ],
             [
              0.06274509803921569,
              "rgb(24,15,41)"
             ],
             [
              0.12549019607843137,
              "rgb(47,23,57)"
             ],
             [
              0.18823529411764706,
              "rgb(71,28,72)"
             ],
             [
              0.25098039215686274,
              "rgb(97,30,82)"
             ],
             [
              0.3137254901960784,
              "rgb(123,30,89)"
             ],
             [
              0.3764705882352941,
              "rgb(150,27,91)"
             ],
             [
              0.4392156862745098,
              "rgb(177,22,88)"
             ],
             [
              0.5019607843137255,
              "rgb(203,26,79)"
             ],
             [
              0.5647058823529412,
              "rgb(223,47,67)"
             ],
             [
              0.6274509803921569,
              "rgb(236,76,61)"
             ],
             [
              0.6901960784313725,
              "rgb(242,107,73)"
             ],
             [
              0.7529411764705882,
              "rgb(244,135,95)"
             ],
             [
              0.8156862745098039,
              "rgb(245,162,122)"
             ],
             [
              0.8784313725490196,
              "rgb(246,188,153)"
             ],
             [
              0.9411764705882353,
              "rgb(247,212,187)"
             ],
             [
              1,
              "rgb(250,234,220)"
             ]
            ],
            "type": "histogram2d"
           }
          ],
          "histogram2dcontour": [
           {
            "colorbar": {
             "outlinewidth": 0,
             "tickcolor": "rgb(36,36,36)",
             "ticklen": 8,
             "ticks": "outside",
             "tickwidth": 2
            },
            "colorscale": [
             [
              0,
              "rgb(2,4,25)"
             ],
             [
              0.06274509803921569,
              "rgb(24,15,41)"
             ],
             [
              0.12549019607843137,
              "rgb(47,23,57)"
             ],
             [
              0.18823529411764706,
              "rgb(71,28,72)"
             ],
             [
              0.25098039215686274,
              "rgb(97,30,82)"
             ],
             [
              0.3137254901960784,
              "rgb(123,30,89)"
             ],
             [
              0.3764705882352941,
              "rgb(150,27,91)"
             ],
             [
              0.4392156862745098,
              "rgb(177,22,88)"
             ],
             [
              0.5019607843137255,
              "rgb(203,26,79)"
             ],
             [
              0.5647058823529412,
              "rgb(223,47,67)"
             ],
             [
              0.6274509803921569,
              "rgb(236,76,61)"
             ],
             [
              0.6901960784313725,
              "rgb(242,107,73)"
             ],
             [
              0.7529411764705882,
              "rgb(244,135,95)"
             ],
             [
              0.8156862745098039,
              "rgb(245,162,122)"
             ],
             [
              0.8784313725490196,
              "rgb(246,188,153)"
             ],
             [
              0.9411764705882353,
              "rgb(247,212,187)"
             ],
             [
              1,
              "rgb(250,234,220)"
             ]
            ],
            "type": "histogram2dcontour"
           }
          ],
          "mesh3d": [
           {
            "colorbar": {
             "outlinewidth": 0,
             "tickcolor": "rgb(36,36,36)",
             "ticklen": 8,
             "ticks": "outside",
             "tickwidth": 2
            },
            "type": "mesh3d"
           }
          ],
          "parcoords": [
           {
            "line": {
             "colorbar": {
              "outlinewidth": 0,
              "tickcolor": "rgb(36,36,36)",
              "ticklen": 8,
              "ticks": "outside",
              "tickwidth": 2
             }
            },
            "type": "parcoords"
           }
          ],
          "pie": [
           {
            "automargin": true,
            "type": "pie"
           }
          ],
          "scatter": [
           {
            "fillpattern": {
             "fillmode": "overlay",
             "size": 10,
             "solidity": 0.2
            },
            "type": "scatter"
           }
          ],
          "scatter3d": [
           {
            "line": {
             "colorbar": {
              "outlinewidth": 0,
              "tickcolor": "rgb(36,36,36)",
              "ticklen": 8,
              "ticks": "outside",
              "tickwidth": 2
             }
            },
            "marker": {
             "colorbar": {
              "outlinewidth": 0,
              "tickcolor": "rgb(36,36,36)",
              "ticklen": 8,
              "ticks": "outside",
              "tickwidth": 2
             }
            },
            "type": "scatter3d"
           }
          ],
          "scattercarpet": [
           {
            "marker": {
             "colorbar": {
              "outlinewidth": 0,
              "tickcolor": "rgb(36,36,36)",
              "ticklen": 8,
              "ticks": "outside",
              "tickwidth": 2
             }
            },
            "type": "scattercarpet"
           }
          ],
          "scattergeo": [
           {
            "marker": {
             "colorbar": {
              "outlinewidth": 0,
              "tickcolor": "rgb(36,36,36)",
              "ticklen": 8,
              "ticks": "outside",
              "tickwidth": 2
             }
            },
            "type": "scattergeo"
           }
          ],
          "scattergl": [
           {
            "marker": {
             "colorbar": {
              "outlinewidth": 0,
              "tickcolor": "rgb(36,36,36)",
              "ticklen": 8,
              "ticks": "outside",
              "tickwidth": 2
             }
            },
            "type": "scattergl"
           }
          ],
          "scattermapbox": [
           {
            "marker": {
             "colorbar": {
              "outlinewidth": 0,
              "tickcolor": "rgb(36,36,36)",
              "ticklen": 8,
              "ticks": "outside",
              "tickwidth": 2
             }
            },
            "type": "scattermapbox"
           }
          ],
          "scatterpolar": [
           {
            "marker": {
             "colorbar": {
              "outlinewidth": 0,
              "tickcolor": "rgb(36,36,36)",
              "ticklen": 8,
              "ticks": "outside",
              "tickwidth": 2
             }
            },
            "type": "scatterpolar"
           }
          ],
          "scatterpolargl": [
           {
            "marker": {
             "colorbar": {
              "outlinewidth": 0,
              "tickcolor": "rgb(36,36,36)",
              "ticklen": 8,
              "ticks": "outside",
              "tickwidth": 2
             }
            },
            "type": "scatterpolargl"
           }
          ],
          "scatterternary": [
           {
            "marker": {
             "colorbar": {
              "outlinewidth": 0,
              "tickcolor": "rgb(36,36,36)",
              "ticklen": 8,
              "ticks": "outside",
              "tickwidth": 2
             }
            },
            "type": "scatterternary"
           }
          ],
          "surface": [
           {
            "colorbar": {
             "outlinewidth": 0,
             "tickcolor": "rgb(36,36,36)",
             "ticklen": 8,
             "ticks": "outside",
             "tickwidth": 2
            },
            "colorscale": [
             [
              0,
              "rgb(2,4,25)"
             ],
             [
              0.06274509803921569,
              "rgb(24,15,41)"
             ],
             [
              0.12549019607843137,
              "rgb(47,23,57)"
             ],
             [
              0.18823529411764706,
              "rgb(71,28,72)"
             ],
             [
              0.25098039215686274,
              "rgb(97,30,82)"
             ],
             [
              0.3137254901960784,
              "rgb(123,30,89)"
             ],
             [
              0.3764705882352941,
              "rgb(150,27,91)"
             ],
             [
              0.4392156862745098,
              "rgb(177,22,88)"
             ],
             [
              0.5019607843137255,
              "rgb(203,26,79)"
             ],
             [
              0.5647058823529412,
              "rgb(223,47,67)"
             ],
             [
              0.6274509803921569,
              "rgb(236,76,61)"
             ],
             [
              0.6901960784313725,
              "rgb(242,107,73)"
             ],
             [
              0.7529411764705882,
              "rgb(244,135,95)"
             ],
             [
              0.8156862745098039,
              "rgb(245,162,122)"
             ],
             [
              0.8784313725490196,
              "rgb(246,188,153)"
             ],
             [
              0.9411764705882353,
              "rgb(247,212,187)"
             ],
             [
              1,
              "rgb(250,234,220)"
             ]
            ],
            "type": "surface"
           }
          ],
          "table": [
           {
            "cells": {
             "fill": {
              "color": "rgb(231,231,240)"
             },
             "line": {
              "color": "white"
             }
            },
            "header": {
             "fill": {
              "color": "rgb(183,183,191)"
             },
             "line": {
              "color": "white"
             }
            },
            "type": "table"
           }
          ]
         },
         "layout": {
          "annotationdefaults": {
           "arrowcolor": "rgb(67,103,167)"
          },
          "autotypenumbers": "strict",
          "coloraxis": {
           "colorbar": {
            "outlinewidth": 0,
            "tickcolor": "rgb(36,36,36)",
            "ticklen": 8,
            "ticks": "outside",
            "tickwidth": 2
           }
          },
          "colorscale": {
           "sequential": [
            [
             0,
             "rgb(2,4,25)"
            ],
            [
             0.06274509803921569,
             "rgb(24,15,41)"
            ],
            [
             0.12549019607843137,
             "rgb(47,23,57)"
            ],
            [
             0.18823529411764706,
             "rgb(71,28,72)"
            ],
            [
             0.25098039215686274,
             "rgb(97,30,82)"
            ],
            [
             0.3137254901960784,
             "rgb(123,30,89)"
            ],
            [
             0.3764705882352941,
             "rgb(150,27,91)"
            ],
            [
             0.4392156862745098,
             "rgb(177,22,88)"
            ],
            [
             0.5019607843137255,
             "rgb(203,26,79)"
            ],
            [
             0.5647058823529412,
             "rgb(223,47,67)"
            ],
            [
             0.6274509803921569,
             "rgb(236,76,61)"
            ],
            [
             0.6901960784313725,
             "rgb(242,107,73)"
            ],
            [
             0.7529411764705882,
             "rgb(244,135,95)"
            ],
            [
             0.8156862745098039,
             "rgb(245,162,122)"
            ],
            [
             0.8784313725490196,
             "rgb(246,188,153)"
            ],
            [
             0.9411764705882353,
             "rgb(247,212,187)"
            ],
            [
             1,
             "rgb(250,234,220)"
            ]
           ],
           "sequentialminus": [
            [
             0,
             "rgb(2,4,25)"
            ],
            [
             0.06274509803921569,
             "rgb(24,15,41)"
            ],
            [
             0.12549019607843137,
             "rgb(47,23,57)"
            ],
            [
             0.18823529411764706,
             "rgb(71,28,72)"
            ],
            [
             0.25098039215686274,
             "rgb(97,30,82)"
            ],
            [
             0.3137254901960784,
             "rgb(123,30,89)"
            ],
            [
             0.3764705882352941,
             "rgb(150,27,91)"
            ],
            [
             0.4392156862745098,
             "rgb(177,22,88)"
            ],
            [
             0.5019607843137255,
             "rgb(203,26,79)"
            ],
            [
             0.5647058823529412,
             "rgb(223,47,67)"
            ],
            [
             0.6274509803921569,
             "rgb(236,76,61)"
            ],
            [
             0.6901960784313725,
             "rgb(242,107,73)"
            ],
            [
             0.7529411764705882,
             "rgb(244,135,95)"
            ],
            [
             0.8156862745098039,
             "rgb(245,162,122)"
            ],
            [
             0.8784313725490196,
             "rgb(246,188,153)"
            ],
            [
             0.9411764705882353,
             "rgb(247,212,187)"
            ],
            [
             1,
             "rgb(250,234,220)"
            ]
           ]
          },
          "colorway": [
           "rgb(76,114,176)",
           "rgb(221,132,82)",
           "rgb(85,168,104)",
           "rgb(196,78,82)",
           "rgb(129,114,179)",
           "rgb(147,120,96)",
           "rgb(218,139,195)",
           "rgb(140,140,140)",
           "rgb(204,185,116)",
           "rgb(100,181,205)"
          ],
          "font": {
           "color": "rgb(36,36,36)",
           "family": "Modern Computer"
          },
          "geo": {
           "bgcolor": "white",
           "lakecolor": "white",
           "landcolor": "rgb(234,234,242)",
           "showlakes": true,
           "showland": true,
           "subunitcolor": "white"
          },
          "height": 500,
          "hoverlabel": {
           "align": "left"
          },
          "hovermode": "closest",
          "legend": {
           "font": {
            "size": 15
           },
           "orientation": "h",
           "title": {
            "text": ""
           },
           "x": 0.5,
           "xanchor": "center",
           "y": -1.5,
           "yanchor": "bottom"
          },
          "paper_bgcolor": "white",
          "plot_bgcolor": "rgb(234,234,242)",
          "polar": {
           "angularaxis": {
            "gridcolor": "white",
            "linecolor": "white",
            "showgrid": true,
            "ticks": ""
           },
           "bgcolor": "rgb(234,234,242)",
           "radialaxis": {
            "gridcolor": "white",
            "linecolor": "white",
            "showgrid": true,
            "ticks": ""
           }
          },
          "scene": {
           "xaxis": {
            "backgroundcolor": "rgb(234,234,242)",
            "gridcolor": "white",
            "gridwidth": 2,
            "linecolor": "white",
            "showbackground": true,
            "showgrid": true,
            "ticks": "",
            "zerolinecolor": "white"
           },
           "yaxis": {
            "backgroundcolor": "rgb(234,234,242)",
            "gridcolor": "white",
            "gridwidth": 2,
            "linecolor": "white",
            "showbackground": true,
            "showgrid": true,
            "ticks": "",
            "zerolinecolor": "white"
           },
           "zaxis": {
            "backgroundcolor": "rgb(234,234,242)",
            "gridcolor": "white",
            "gridwidth": 2,
            "linecolor": "white",
            "showbackground": true,
            "showgrid": true,
            "ticks": "",
            "zerolinecolor": "white"
           }
          },
          "shapedefaults": {
           "fillcolor": "rgb(67,103,167)",
           "line": {
            "width": 0
           },
           "opacity": 0.5
          },
          "showlegend": true,
          "ternary": {
           "aaxis": {
            "gridcolor": "white",
            "linecolor": "white",
            "showgrid": true,
            "ticks": ""
           },
           "baxis": {
            "gridcolor": "white",
            "linecolor": "white",
            "showgrid": true,
            "ticks": ""
           },
           "bgcolor": "rgb(234,234,242)",
           "caxis": {
            "gridcolor": "white",
            "linecolor": "white",
            "showgrid": true,
            "ticks": ""
           }
          },
          "title": {
           "font": {
            "family": "Modern Computer",
            "size": 25
           },
           "x": 0.5
          },
          "width": 800,
          "xaxis": {
           "automargin": true,
           "gridcolor": "white",
           "linecolor": "white",
           "showgrid": true,
           "tickangle": 45,
           "tickfont": {
            "size": 15
           },
           "ticks": "",
           "title": {
            "font": {
             "size": 12
            },
            "text": ""
           },
           "zerolinecolor": "white"
          },
          "yaxis": {
           "automargin": true,
           "gridcolor": "white",
           "linecolor": "white",
           "showgrid": true,
           "tickfont": {
            "size": 13
           },
           "ticks": "",
           "title": {
            "font": {
             "size": 12
            },
            "text": ""
           },
           "zerolinecolor": "white"
          }
         }
        },
        "title": {
         "font": {
          "family": "Modern Computer",
          "size": 25
         },
         "text": "Evaluation Results of the SLR Queries",
         "x": 0.8
        },
        "width": 800,
        "xaxis": {
         "anchor": "y",
         "domain": [
          0,
          1
         ],
         "tickangle": 45,
         "tickfont": {
          "size": 15
         },
         "title": {
          "font": {
           "size": 12
          },
          "text": ""
         }
        },
        "yaxis": {
         "anchor": "x",
         "autorange": "reversed",
         "domain": [
          0,
          1
         ],
         "tickfont": {
          "size": 20
         },
         "title": {
          "font": {
           "size": 12
          },
          "text": ""
         }
        }
       }
      }
     },
     "metadata": {},
     "output_type": "display_data"
    }
   ],
   "source": [
    "q_type = \"SLR\"\n",
    "temp = plt_df[plt_df[\"Index\"] == q_type].round(2).drop([\"Query\", \"Index\"], axis=1)\n",
    "heatmap_color = np.array(\n",
    "    [temp[clm].values for clm in temp.columns if \"Relevant\" in clm]\n",
    ").T\n",
    "temp.index = temp[\"Topic\"]\n",
    "temp = temp[\n",
    "    [\n",
    "        \"Recall\",\n",
    "        \"Cosine Precision\",\n",
    "        \"Cluster Precision\",\n",
    "        \"MVEE Precision\",\n",
    "        \"Hull Precision\",\n",
    "        \"Cosine F2\",\n",
    "        \"Cluster F2\",\n",
    "        \"MVEE F2\",\n",
    "        \"Hull F2\",\n",
    "    ]\n",
    "]\n",
    "customdata = np.full((len(temp), len(temp.columns)), \"\", dtype=object)\n",
    "customdata[:, -4:] = heatmap_color\n",
    "fig = px.imshow(\n",
    "    temp,\n",
    "    title=f\"Evaluation Results of the {q_type} Queries\",\n",
    "    labels=dict(x=\"Metric\", y=\"Topic\", color=\"Value\"),\n",
    "    aspect=\"auto\",\n",
    "    color_continuous_scale=\"RdBu\",zmin=0, zmax=1\n",
    ")\n",
    "fig.data[0].text = customdata\n",
    "fig.data[0].texttemplate = \"%{text:.2s}\"\n",
    "fig.update_layout(**PLOT_CONFIGS)\n",
    "fig.update_layout(\n",
    "    yaxis_tickfont_size=20,\n",
    "    title_x=0.8,\n",
    "    margin={\"t\": 50, \"b\": 0, \"r\": 0, \"l\": 0},\n",
    ")\n",
    "fig.update_traces(textfont_size=15)\n",
    "fig.show()\n",
    "# pio.write_image(\n",
    "#     fig, f\"LitQEval-report/pics/{q_type.lower()}_results.pdf\", width=1100, height=800\n",
    "# )\n"
   ]
  }
 ],
 "metadata": {
  "kernelspec": {
   "display_name": "litqeval-2HojBpDP-py3.10",
   "language": "python",
   "name": "python3"
  },
  "language_info": {
   "codemirror_mode": {
    "name": "ipython",
    "version": 3
   },
   "file_extension": ".py",
   "mimetype": "text/x-python",
   "name": "python",
   "nbconvert_exporter": "python",
   "pygments_lexer": "ipython3",
   "version": "3.10.11"
  }
 },
 "nbformat": 4,
 "nbformat_minor": 2
}
