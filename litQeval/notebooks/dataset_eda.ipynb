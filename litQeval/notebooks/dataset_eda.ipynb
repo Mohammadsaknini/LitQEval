{
 "cells": [
  {
   "cell_type": "code",
   "execution_count": 47,
   "metadata": {},
   "outputs": [],
   "source": [
    "import plotly.express as px\n",
    "import plotly.io as pio\n",
    "import pandas as pd\n",
    "\n",
    "pio.templates.default = \"seaborn\""
   ]
  },
  {
   "cell_type": "code",
   "execution_count": 48,
   "metadata": {},
   "outputs": [],
   "source": [
    "meta_data = pd.read_excel(\"./data/metadata.xlsx\")\n",
    "core_pubs = pd.read_excel(\"./data/core_publications.xlsx\")[[\"Pub_id\", \"Survey\", \"Topic\"]]\n",
    "\n",
    "df = pd.merge(core_pubs, meta_data, left_on=\"Pub_id\", right_on=\"id\")\n",
    "surveys = meta_data[meta_data[\"id\"].isin(df[\"Survey\"].unique())][[\"id\", \"title\", \"year\", \"times_cited\", \"field_citation_ratio\"]]\n",
    "core_pubs = df[[\"Survey\", \"Pub_id\", \"Topic\", \"abstract\", \"times_cited\", \"field_citation_ratio\", \"year\"]]\n",
    "\n",
    "# add to each topic a (year of the survey)\n",
    "survey_years = core_pubs.apply(lambda row: surveys[surveys[\"id\"] == row[\"Survey\"]][\"year\"].values[0], axis=1).values\n",
    "core_pubs.loc[:, \"Topic\"] = core_pubs[\"Topic\"] + \" (\" + survey_years.astype(str) + \")\""
   ]
  },
  {
   "cell_type": "code",
   "execution_count": 39,
   "metadata": {},
   "outputs": [
    {
     "data": {
      "text/html": [
       "<div>\n",
       "<style scoped>\n",
       "    .dataframe tbody tr th:only-of-type {\n",
       "        vertical-align: middle;\n",
       "    }\n",
       "\n",
       "    .dataframe tbody tr th {\n",
       "        vertical-align: top;\n",
       "    }\n",
       "\n",
       "    .dataframe thead th {\n",
       "        text-align: right;\n",
       "    }\n",
       "</style>\n",
       "<table border=\"1\" class=\"dataframe\">\n",
       "  <thead>\n",
       "    <tr style=\"text-align: right;\">\n",
       "      <th></th>\n",
       "      <th>id</th>\n",
       "      <th>title</th>\n",
       "      <th>year</th>\n",
       "      <th>times_cited</th>\n",
       "      <th>field_citation_ratio</th>\n",
       "    </tr>\n",
       "  </thead>\n",
       "  <tbody>\n",
       "    <tr>\n",
       "      <th>0</th>\n",
       "      <td>pub.1175782890</td>\n",
       "      <td>Current progress of perovskite solar cells sta...</td>\n",
       "      <td>2024</td>\n",
       "      <td>0</td>\n",
       "      <td>NaN</td>\n",
       "    </tr>\n",
       "    <tr>\n",
       "      <th>4</th>\n",
       "      <td>pub.1163752603</td>\n",
       "      <td>Greening warehouses through energy efficiency ...</td>\n",
       "      <td>2023</td>\n",
       "      <td>9</td>\n",
       "      <td>NaN</td>\n",
       "    </tr>\n",
       "    <tr>\n",
       "      <th>5</th>\n",
       "      <td>pub.1156021846</td>\n",
       "      <td>Sustainable biofuel economy: A mapping through...</td>\n",
       "      <td>2023</td>\n",
       "      <td>56</td>\n",
       "      <td>NaN</td>\n",
       "    </tr>\n",
       "    <tr>\n",
       "      <th>7</th>\n",
       "      <td>pub.1147958699</td>\n",
       "      <td>Drones in agriculture: A review and bibliometr...</td>\n",
       "      <td>2022</td>\n",
       "      <td>249</td>\n",
       "      <td>127.77</td>\n",
       "    </tr>\n",
       "    <tr>\n",
       "      <th>18</th>\n",
       "      <td>pub.1130187939</td>\n",
       "      <td>Crop yield prediction using machine learning: ...</td>\n",
       "      <td>2020</td>\n",
       "      <td>867</td>\n",
       "      <td>279.84</td>\n",
       "    </tr>\n",
       "    <tr>\n",
       "      <th>20</th>\n",
       "      <td>pub.1129627241</td>\n",
       "      <td>SYSTEMATIC LITERATURE REVIEW OF TOURISM GROWTH...</td>\n",
       "      <td>2020</td>\n",
       "      <td>52</td>\n",
       "      <td>18.77</td>\n",
       "    </tr>\n",
       "    <tr>\n",
       "      <th>24</th>\n",
       "      <td>pub.1127137176</td>\n",
       "      <td>Big impact of nanoparticles: analysis of the m...</td>\n",
       "      <td>2020</td>\n",
       "      <td>69</td>\n",
       "      <td>64.64</td>\n",
       "    </tr>\n",
       "    <tr>\n",
       "      <th>58</th>\n",
       "      <td>pub.1103814815</td>\n",
       "      <td>The application of internet of things in healt...</td>\n",
       "      <td>2018</td>\n",
       "      <td>215</td>\n",
       "      <td>47.94</td>\n",
       "    </tr>\n",
       "    <tr>\n",
       "      <th>306</th>\n",
       "      <td>pub.1159788042</td>\n",
       "      <td>A Bibliometric Analysis of the Top 100 Most In...</td>\n",
       "      <td>2023</td>\n",
       "      <td>5</td>\n",
       "      <td>NaN</td>\n",
       "    </tr>\n",
       "    <tr>\n",
       "      <th>316</th>\n",
       "      <td>pub.1146747333</td>\n",
       "      <td>A Systematic Literature Review on Distributed ...</td>\n",
       "      <td>2022</td>\n",
       "      <td>41</td>\n",
       "      <td>19.68</td>\n",
       "    </tr>\n",
       "    <tr>\n",
       "      <th>347</th>\n",
       "      <td>pub.1110896992</td>\n",
       "      <td>The most influential publications in cervical ...</td>\n",
       "      <td>2018</td>\n",
       "      <td>18</td>\n",
       "      <td>13.76</td>\n",
       "    </tr>\n",
       "    <tr>\n",
       "      <th>360</th>\n",
       "      <td>pub.1104146079</td>\n",
       "      <td>Soft Robotics: Academic Insights and Perspecti...</td>\n",
       "      <td>2018</td>\n",
       "      <td>156</td>\n",
       "      <td>26.66</td>\n",
       "    </tr>\n",
       "    <tr>\n",
       "      <th>469</th>\n",
       "      <td>pub.1035441940</td>\n",
       "      <td>Synthetic Biology: Mapping the Scientific Land...</td>\n",
       "      <td>2012</td>\n",
       "      <td>83</td>\n",
       "      <td>59.02</td>\n",
       "    </tr>\n",
       "    <tr>\n",
       "      <th>512</th>\n",
       "      <td>pub.1022983337</td>\n",
       "      <td>Resilience in Business and Management Research...</td>\n",
       "      <td>2015</td>\n",
       "      <td>1031</td>\n",
       "      <td>247.44</td>\n",
       "    </tr>\n",
       "    <tr>\n",
       "      <th>519</th>\n",
       "      <td>pub.1019398108</td>\n",
       "      <td>A literature survey on energy–growth nexus</td>\n",
       "      <td>2010</td>\n",
       "      <td>1251</td>\n",
       "      <td>326.47</td>\n",
       "    </tr>\n",
       "  </tbody>\n",
       "</table>\n",
       "</div>"
      ],
      "text/plain": [
       "                 id                                              title  year  \\\n",
       "0    pub.1175782890  Current progress of perovskite solar cells sta...  2024   \n",
       "4    pub.1163752603  Greening warehouses through energy efficiency ...  2023   \n",
       "5    pub.1156021846  Sustainable biofuel economy: A mapping through...  2023   \n",
       "7    pub.1147958699  Drones in agriculture: A review and bibliometr...  2022   \n",
       "18   pub.1130187939  Crop yield prediction using machine learning: ...  2020   \n",
       "20   pub.1129627241  SYSTEMATIC LITERATURE REVIEW OF TOURISM GROWTH...  2020   \n",
       "24   pub.1127137176  Big impact of nanoparticles: analysis of the m...  2020   \n",
       "58   pub.1103814815  The application of internet of things in healt...  2018   \n",
       "306  pub.1159788042  A Bibliometric Analysis of the Top 100 Most In...  2023   \n",
       "316  pub.1146747333  A Systematic Literature Review on Distributed ...  2022   \n",
       "347  pub.1110896992  The most influential publications in cervical ...  2018   \n",
       "360  pub.1104146079  Soft Robotics: Academic Insights and Perspecti...  2018   \n",
       "469  pub.1035441940  Synthetic Biology: Mapping the Scientific Land...  2012   \n",
       "512  pub.1022983337  Resilience in Business and Management Research...  2015   \n",
       "519  pub.1019398108         A literature survey on energy–growth nexus  2010   \n",
       "\n",
       "     times_cited  field_citation_ratio  \n",
       "0              0                   NaN  \n",
       "4              9                   NaN  \n",
       "5             56                   NaN  \n",
       "7            249                127.77  \n",
       "18           867                279.84  \n",
       "20            52                 18.77  \n",
       "24            69                 64.64  \n",
       "58           215                 47.94  \n",
       "306            5                   NaN  \n",
       "316           41                 19.68  \n",
       "347           18                 13.76  \n",
       "360          156                 26.66  \n",
       "469           83                 59.02  \n",
       "512         1031                247.44  \n",
       "519         1251                326.47  "
      ]
     },
     "execution_count": 39,
     "metadata": {},
     "output_type": "execute_result"
    }
   ],
   "source": [
    "surveys"
   ]
  },
  {
   "cell_type": "code",
   "execution_count": 49,
   "metadata": {},
   "outputs": [
    {
     "data": {
      "application/vnd.plotly.v1+json": {
       "config": {
        "plotlyServerURL": "https://plot.ly"
       },
       "data": [
        {
         "alignmentgroup": "True",
         "bingroup": "x",
         "hovertemplate": "Topic (survey year)=%{x}<br>count=%{y}<extra></extra>",
         "legendgroup": "",
         "marker": {
          "color": "rgb(76,114,176)",
          "pattern": {
           "shape": ""
          }
         },
         "name": "",
         "offsetgroup": "",
         "orientation": "v",
         "showlegend": false,
         "type": "histogram",
         "x": [
          "Synthetic Biology (2012)",
          "Synthetic Biology (2012)",
          "Synthetic Biology (2012)",
          "Synthetic Biology (2012)",
          "Synthetic Biology (2012)",
          "Synthetic Biology (2012)",
          "Synthetic Biology (2012)",
          "Synthetic Biology (2012)",
          "Synthetic Biology (2012)",
          "Synthetic Biology (2012)",
          "Synthetic Biology (2012)",
          "Synthetic Biology (2012)",
          "Synthetic Biology (2012)",
          "Synthetic Biology (2012)",
          "Synthetic Biology (2012)",
          "Synthetic Biology (2012)",
          "Synthetic Biology (2012)",
          "Synthetic Biology (2012)",
          "Synthetic Biology (2012)",
          "Synthetic Biology (2012)",
          "Synthetic Biology (2012)",
          "Synthetic Biology (2012)",
          "Synthetic Biology (2012)",
          "Synthetic Biology (2012)",
          "Synthetic Biology (2012)",
          "Synthetic Biology (2012)",
          "Synthetic Biology (2012)",
          "Synthetic Biology (2012)",
          "Synthetic Biology (2012)",
          "Resilience in Business and management (2015)",
          "Resilience in Business and management (2015)",
          "Resilience in Business and management (2015)",
          "Resilience in Business and management (2015)",
          "Resilience in Business and management (2015)",
          "Resilience in Business and management (2015)",
          "Resilience in Business and management (2015)",
          "Resilience in Business and management (2015)",
          "Resilience in Business and management (2015)",
          "Resilience in Business and management (2015)",
          "Resilience in Business and management (2015)",
          "Resilience in Business and management (2015)",
          "Resilience in Business and management (2015)",
          "Resilience in Business and management (2015)",
          "Resilience in Business and management (2015)",
          "Resilience in Business and management (2015)",
          "Resilience in Business and management (2015)",
          "Resilience in Business and management (2015)",
          "Resilience in Business and management (2015)",
          "Resilience in Business and management (2015)",
          "Resilience in Business and management (2015)",
          "Resilience in Business and management (2015)",
          "Resilience in Business and management (2015)",
          "Resilience in Business and management (2015)",
          "Resilience in Business and management (2015)",
          "Resilience in Business and management (2015)",
          "Resilience in Business and management (2015)",
          "Cervical Myelopathy (2018)",
          "Cervical Myelopathy (2018)",
          "Cervical Myelopathy (2018)",
          "Cervical Myelopathy (2018)",
          "Cervical Myelopathy (2018)",
          "Cervical Myelopathy (2018)",
          "Cervical Myelopathy (2018)",
          "Cervical Myelopathy (2018)",
          "Cervical Myelopathy (2018)",
          "Cervical Myelopathy (2018)",
          "Cervical Myelopathy (2018)",
          "Cervical Myelopathy (2018)",
          "Cervical Myelopathy (2018)",
          "Cervical Myelopathy (2018)",
          "Cervical Myelopathy (2018)",
          "Cervical Myelopathy (2018)",
          "Cervical Myelopathy (2018)",
          "Cervical Myelopathy (2018)",
          "Cervical Myelopathy (2018)",
          "Cervical Myelopathy (2018)",
          "Cervical Myelopathy (2018)",
          "Cervical Myelopathy (2018)",
          "Cervical Myelopathy (2018)",
          "Cervical Myelopathy (2018)",
          "Cervical Myelopathy (2018)",
          "Cervical Myelopathy (2018)",
          "Cervical Myelopathy (2018)",
          "Cervical Myelopathy (2018)",
          "Cervical Myelopathy (2018)",
          "Cervical Myelopathy (2018)",
          "Cervical Myelopathy (2018)",
          "Cervical Myelopathy (2018)",
          "Cervical Myelopathy (2018)",
          "Cervical Myelopathy (2018)",
          "Cervical Myelopathy (2018)",
          "Cervical Myelopathy (2018)",
          "Cervical Myelopathy (2018)",
          "Cervical Myelopathy (2018)",
          "Cervical Myelopathy (2018)",
          "Cervical Myelopathy (2018)",
          "Cervical Myelopathy (2018)",
          "Cervical Myelopathy (2018)",
          "Cervical Myelopathy (2018)",
          "Cervical Myelopathy (2018)",
          "Cervical Myelopathy (2018)",
          "Cervical Myelopathy (2018)",
          "Cervical Myelopathy (2018)",
          "Drones in Agriculture (2022)",
          "Drones in Agriculture (2022)",
          "Drones in Agriculture (2022)",
          "Drones in Agriculture (2022)",
          "Drones in Agriculture (2022)",
          "Drones in Agriculture (2022)",
          "Drones in Agriculture (2022)",
          "Drones in Agriculture (2022)",
          "Drones in Agriculture (2022)",
          "Drones in Agriculture (2022)",
          "Drones in Agriculture (2022)",
          "Drones in Agriculture (2022)",
          "Drones in Agriculture (2022)",
          "Drones in Agriculture (2022)",
          "Drones in Agriculture (2022)",
          "Drones in Agriculture (2022)",
          "Drones in Agriculture (2022)",
          "Drones in Agriculture (2022)",
          "Drones in Agriculture (2022)",
          "Drones in Agriculture (2022)",
          "Drones in Agriculture (2022)",
          "Drones in Agriculture (2022)",
          "Drones in Agriculture (2022)",
          "Drones in Agriculture (2022)",
          "Drones in Agriculture (2022)",
          "Robotic Arthroplasty (2023)",
          "Robotic Arthroplasty (2023)",
          "Robotic Arthroplasty (2023)",
          "Robotic Arthroplasty (2023)",
          "Robotic Arthroplasty (2023)",
          "Robotic Arthroplasty (2023)",
          "Robotic Arthroplasty (2023)",
          "Robotic Arthroplasty (2023)",
          "Robotic Arthroplasty (2023)",
          "Robotic Arthroplasty (2023)",
          "Robotic Arthroplasty (2023)",
          "Robotic Arthroplasty (2023)",
          "Robotic Arthroplasty (2023)",
          "Robotic Arthroplasty (2023)",
          "Robotic Arthroplasty (2023)",
          "Robotic Arthroplasty (2023)",
          "Robotic Arthroplasty (2023)",
          "Robotic Arthroplasty (2023)",
          "Robotic Arthroplasty (2023)",
          "Robotic Arthroplasty (2023)",
          "Robotic Arthroplasty (2023)",
          "Robotic Arthroplasty (2023)",
          "Robotic Arthroplasty (2023)",
          "Robotic Arthroplasty (2023)",
          "Robotic Arthroplasty (2023)",
          "Robotic Arthroplasty (2023)",
          "Robotic Arthroplasty (2023)",
          "Robotic Arthroplasty (2023)",
          "Robotic Arthroplasty (2023)",
          "Robotic Arthroplasty (2023)",
          "Robotic Arthroplasty (2023)",
          "Robotic Arthroplasty (2023)",
          "Robotic Arthroplasty (2023)",
          "Robotic Arthroplasty (2023)",
          "Robotic Arthroplasty (2023)",
          "Robotic Arthroplasty (2023)",
          "Robotic Arthroplasty (2023)",
          "Robotic Arthroplasty (2023)",
          "Robotic Arthroplasty (2023)",
          "Robotic Arthroplasty (2023)",
          "Robotic Arthroplasty (2023)",
          "Robotic Arthroplasty (2023)",
          "Robotic Arthroplasty (2023)",
          "Robotic Arthroplasty (2023)",
          "Robotic Arthroplasty (2023)",
          "Robotic Arthroplasty (2023)",
          "Robotic Arthroplasty (2023)",
          "Soft Robotics (2018)",
          "Soft Robotics (2018)",
          "Soft Robotics (2018)",
          "Soft Robotics (2018)",
          "Soft Robotics (2018)",
          "Soft Robotics (2018)",
          "Soft Robotics (2018)",
          "Soft Robotics (2018)",
          "Soft Robotics (2018)",
          "Soft Robotics (2018)",
          "Soft Robotics (2018)",
          "Soft Robotics (2018)",
          "Soft Robotics (2018)",
          "Soft Robotics (2018)",
          "Soft Robotics (2018)",
          "Soft Robotics (2018)",
          "Soft Robotics (2018)",
          "Soft Robotics (2018)",
          "Soft Robotics (2018)",
          "Soft Robotics (2018)",
          "Soft Robotics (2018)",
          "Soft Robotics (2018)",
          "Soft Robotics (2018)",
          "Soft Robotics (2018)",
          "Soft Robotics (2018)",
          "Soft Robotics (2018)",
          "Soft Robotics (2018)",
          "Soft Robotics (2018)",
          "Soft Robotics (2018)",
          "Soft Robotics (2018)",
          "Soft Robotics (2018)",
          "Soft Robotics (2018)",
          "Soft Robotics (2018)",
          "Soft Robotics (2018)",
          "Soft Robotics (2018)",
          "Soft Robotics (2018)",
          "Tourism Growth Nexus (2020)",
          "Tourism Growth Nexus (2020)",
          "Tourism Growth Nexus (2020)",
          "Tourism Growth Nexus (2020)",
          "Tourism Growth Nexus (2020)",
          "Tourism Growth Nexus (2020)",
          "Tourism Growth Nexus (2020)",
          "Tourism Growth Nexus (2020)",
          "Tourism Growth Nexus (2020)",
          "Tourism Growth Nexus (2020)",
          "Tourism Growth Nexus (2020)",
          "Tourism Growth Nexus (2020)",
          "Tourism Growth Nexus (2020)",
          "Tourism Growth Nexus (2020)",
          "Tourism Growth Nexus (2020)",
          "Tourism Growth Nexus (2020)",
          "Tourism Growth Nexus (2020)",
          "Tourism Growth Nexus (2020)",
          "Tourism Growth Nexus (2020)",
          "Tourism Growth Nexus (2020)",
          "Tourism Growth Nexus (2020)",
          "Tourism Growth Nexus (2020)",
          "Tourism Growth Nexus (2020)",
          "Tourism Growth Nexus (2020)",
          "Tourism Growth Nexus (2020)",
          "Sustainable Biofuel (2023)",
          "Sustainable Biofuel (2023)",
          "Sustainable Biofuel (2023)",
          "Sustainable Biofuel (2023)",
          "Sustainable Biofuel (2023)",
          "Sustainable Biofuel (2023)",
          "Sustainable Biofuel (2023)",
          "Sustainable Biofuel (2023)",
          "Sustainable Biofuel (2023)",
          "Sustainable Biofuel (2023)",
          "Sustainable Biofuel (2023)",
          "Sustainable Biofuel (2023)",
          "Sustainable Biofuel (2023)",
          "Sustainable Biofuel (2023)",
          "Sustainable Biofuel (2023)",
          "Sustainable Biofuel (2023)",
          "Sustainable Biofuel (2023)",
          "Sustainable Biofuel (2023)",
          "Sustainable Biofuel (2023)",
          "Sustainable Biofuel (2023)",
          "Sustainable Biofuel (2023)",
          "Sustainable Biofuel (2023)",
          "Sustainable Biofuel (2023)",
          "Sustainable Biofuel (2023)",
          "Sustainable Biofuel (2023)",
          "Sustainable Biofuel (2023)",
          "Sustainable Biofuel (2023)",
          "Sustainable Biofuel (2023)",
          "Sustainable Biofuel (2023)",
          "Sustainable Biofuel (2023)",
          "Sustainable Biofuel (2023)",
          "Sustainable Biofuel (2023)",
          "Sustainable Biofuel (2023)",
          "Sustainable Biofuel (2023)",
          "Sustainable Biofuel (2023)",
          "Sustainable Biofuel (2023)",
          "Sustainable Biofuel (2023)",
          "Sustainable Biofuel (2023)",
          "Sustainable Biofuel (2023)",
          "Sustainable Biofuel (2023)",
          "Sustainable Biofuel (2023)",
          "Sustainable Biofuel (2023)",
          "Sustainable Biofuel (2023)",
          "Sustainable Biofuel (2023)",
          "Sustainable Biofuel (2023)",
          "Sustainable Biofuel (2023)",
          "Sustainable Biofuel (2023)",
          "Sustainable Biofuel (2023)",
          "Sustainable Biofuel (2023)",
          "Sustainable Biofuel (2023)",
          "Nanoparticles (2020)",
          "Nanoparticles (2020)",
          "Nanoparticles (2020)",
          "Nanoparticles (2020)",
          "Nanoparticles (2020)",
          "Nanoparticles (2020)",
          "Nanoparticles (2020)",
          "Nanoparticles (2020)",
          "Nanoparticles (2020)",
          "Nanoparticles (2020)",
          "Nanoparticles (2020)",
          "Nanoparticles (2020)",
          "Nanoparticles (2020)",
          "Nanoparticles (2020)",
          "Nanoparticles (2020)",
          "Nanoparticles (2020)",
          "Nanoparticles (2020)",
          "Nanoparticles (2020)",
          "Nanoparticles (2020)",
          "Nanoparticles (2020)",
          "Nanoparticles (2020)",
          "Nanoparticles (2020)",
          "Nanoparticles (2020)",
          "Nanoparticles (2020)",
          "Nanoparticles (2020)",
          "Nanoparticles (2020)",
          "Nanoparticles (2020)",
          "Nanoparticles (2020)",
          "Nanoparticles (2020)",
          "Nanoparticles (2020)",
          "Nanoparticles (2020)",
          "Nanoparticles (2020)",
          "Nanoparticles (2020)",
          "Nanoparticles (2020)",
          "Nanoparticles (2020)",
          "Nanoparticles (2020)",
          "Nanoparticles (2020)",
          "Nanoparticles (2020)",
          "Nanoparticles (2020)",
          "Nanoparticles (2020)",
          "Nanoparticles (2020)",
          "Nanoparticles (2020)",
          "Nanoparticles (2020)",
          "Nanoparticles (2020)",
          "Nanoparticles (2020)",
          "Nanoparticles (2020)",
          "Nanoparticles (2020)",
          "Nanoparticles (2020)",
          "Nanoparticles (2020)",
          "Nanoparticles (2020)",
          "Perovskite Solar Cells Stability (2024)",
          "Perovskite Solar Cells Stability (2024)",
          "Perovskite Solar Cells Stability (2024)",
          "Perovskite Solar Cells Stability (2024)",
          "Perovskite Solar Cells Stability (2024)",
          "Perovskite Solar Cells Stability (2024)",
          "Perovskite Solar Cells Stability (2024)",
          "Perovskite Solar Cells Stability (2024)",
          "Perovskite Solar Cells Stability (2024)",
          "Perovskite Solar Cells Stability (2024)",
          "Perovskite Solar Cells Stability (2024)",
          "Perovskite Solar Cells Stability (2024)",
          "Perovskite Solar Cells Stability (2024)",
          "Perovskite Solar Cells Stability (2024)",
          "Perovskite Solar Cells Stability (2024)",
          "Perovskite Solar Cells Stability (2024)",
          "Perovskite Solar Cells Stability (2024)",
          "Perovskite Solar Cells Stability (2024)",
          "Perovskite Solar Cells Stability (2024)",
          "Perovskite Solar Cells Stability (2024)",
          "Perovskite Solar Cells Stability (2024)",
          "Perovskite Solar Cells Stability (2024)",
          "Perovskite Solar Cells Stability (2024)",
          "Perovskite Solar Cells Stability (2024)",
          "Perovskite Solar Cells Stability (2024)",
          "Perovskite Solar Cells Stability (2024)",
          "Perovskite Solar Cells Stability (2024)",
          "Perovskite Solar Cells Stability (2024)",
          "Perovskite Solar Cells Stability (2024)",
          "Energy Growth Nexus (2010)",
          "Energy Growth Nexus (2010)",
          "Energy Growth Nexus (2010)",
          "Energy Growth Nexus (2010)",
          "Energy Growth Nexus (2010)",
          "Energy Growth Nexus (2010)",
          "Energy Growth Nexus (2010)",
          "Energy Growth Nexus (2010)",
          "Energy Growth Nexus (2010)",
          "Energy Growth Nexus (2010)",
          "Energy Growth Nexus (2010)",
          "Energy Growth Nexus (2010)",
          "Energy Growth Nexus (2010)",
          "Energy Growth Nexus (2010)",
          "Energy Growth Nexus (2010)",
          "Energy Growth Nexus (2010)",
          "Energy Growth Nexus (2010)",
          "Energy Growth Nexus (2010)",
          "Energy Growth Nexus (2010)",
          "Energy Growth Nexus (2010)",
          "Energy Growth Nexus (2010)",
          "Energy Growth Nexus (2010)",
          "Energy Growth Nexus (2010)",
          "Energy Growth Nexus (2010)",
          "Energy Growth Nexus (2010)",
          "Energy Growth Nexus (2010)",
          "Energy Growth Nexus (2010)",
          "Green Warehousing (2023)",
          "Green Warehousing (2023)",
          "Green Warehousing (2023)",
          "Green Warehousing (2023)",
          "Green Warehousing (2023)",
          "Green Warehousing (2023)",
          "Green Warehousing (2023)",
          "Green Warehousing (2023)",
          "Green Warehousing (2023)",
          "Green Warehousing (2023)",
          "Green Warehousing (2023)",
          "Green Warehousing (2023)",
          "Green Warehousing (2023)",
          "Green Warehousing (2023)",
          "Green Warehousing (2023)",
          "Green Warehousing (2023)",
          "Green Warehousing (2023)",
          "Green Warehousing (2023)",
          "Green Warehousing (2023)",
          "Green Warehousing (2023)",
          "Green Warehousing (2023)",
          "Green Warehousing (2023)",
          "Green Warehousing (2023)",
          "Green Warehousing (2023)",
          "Green Warehousing (2023)",
          "Green Warehousing (2023)",
          "Green Warehousing (2023)",
          "Green Warehousing (2023)",
          "Green Warehousing (2023)",
          "Green Warehousing (2023)",
          "Green Warehousing (2023)",
          "Green Warehousing (2023)",
          "Green Warehousing (2023)",
          "Green Warehousing (2023)",
          "Green Warehousing (2023)",
          "Green Warehousing (2023)",
          "Green Warehousing (2023)",
          "Green Warehousing (2023)",
          "Internet of Things in Healthcare (2018)",
          "Internet of Things in Healthcare (2018)",
          "Internet of Things in Healthcare (2018)",
          "Internet of Things in Healthcare (2018)",
          "Internet of Things in Healthcare (2018)",
          "Internet of Things in Healthcare (2018)",
          "Internet of Things in Healthcare (2018)",
          "Internet of Things in Healthcare (2018)",
          "Internet of Things in Healthcare (2018)",
          "Internet of Things in Healthcare (2018)",
          "Internet of Things in Healthcare (2018)",
          "Internet of Things in Healthcare (2018)",
          "Internet of Things in Healthcare (2018)",
          "Internet of Things in Healthcare (2018)",
          "Internet of Things in Healthcare (2018)",
          "Internet of Things in Healthcare (2018)",
          "Internet of Things in Healthcare (2018)",
          "Internet of Things in Healthcare (2018)",
          "Internet of Things in Healthcare (2018)",
          "Internet of Things in Healthcare (2018)",
          "Internet of Things in Healthcare (2018)",
          "Internet of Things in Healthcare (2018)",
          "Internet of Things in Healthcare (2018)",
          "Internet of Things in Healthcare (2018)",
          "Internet of Things in Healthcare (2018)",
          "Internet of Things in Healthcare (2018)",
          "Internet of Things in Healthcare (2018)",
          "Internet of Things in Healthcare (2018)",
          "Internet of Things in Healthcare (2018)",
          "AI on Edge Devices (2022)",
          "AI on Edge Devices (2022)",
          "AI on Edge Devices (2022)",
          "AI on Edge Devices (2022)",
          "AI on Edge Devices (2022)",
          "AI on Edge Devices (2022)",
          "AI on Edge Devices (2022)",
          "AI on Edge Devices (2022)",
          "AI on Edge Devices (2022)",
          "AI on Edge Devices (2022)",
          "AI on Edge Devices (2022)",
          "AI on Edge Devices (2022)",
          "AI on Edge Devices (2022)",
          "AI on Edge Devices (2022)",
          "AI on Edge Devices (2022)",
          "AI on Edge Devices (2022)",
          "AI on Edge Devices (2022)",
          "AI on Edge Devices (2022)",
          "AI on Edge Devices (2022)",
          "AI on Edge Devices (2022)",
          "AI on Edge Devices (2022)",
          "AI on Edge Devices (2022)",
          "AI on Edge Devices (2022)",
          "AI on Edge Devices (2022)",
          "AI on Edge Devices (2022)",
          "AI on Edge Devices (2022)",
          "AI on Edge Devices (2022)",
          "AI on Edge Devices (2022)",
          "AI on Edge Devices (2022)",
          "AI on Edge Devices (2022)",
          "AI on Edge Devices (2022)",
          "AI on Edge Devices (2022)",
          "AI on Edge Devices (2022)",
          "AI on Edge Devices (2022)",
          "AI on Edge Devices (2022)",
          "AI on Edge Devices (2022)",
          "Crop Yield Prediction (2020)",
          "Crop Yield Prediction (2020)",
          "Crop Yield Prediction (2020)",
          "Crop Yield Prediction (2020)",
          "Crop Yield Prediction (2020)",
          "Crop Yield Prediction (2020)",
          "Crop Yield Prediction (2020)",
          "Crop Yield Prediction (2020)",
          "Crop Yield Prediction (2020)",
          "Crop Yield Prediction (2020)",
          "Crop Yield Prediction (2020)",
          "Crop Yield Prediction (2020)",
          "Crop Yield Prediction (2020)",
          "Crop Yield Prediction (2020)",
          "Crop Yield Prediction (2020)",
          "Crop Yield Prediction (2020)",
          "Crop Yield Prediction (2020)",
          "Crop Yield Prediction (2020)",
          "Crop Yield Prediction (2020)",
          "Crop Yield Prediction (2020)",
          "Crop Yield Prediction (2020)",
          "Crop Yield Prediction (2020)",
          "Crop Yield Prediction (2020)",
          "Crop Yield Prediction (2020)",
          "Crop Yield Prediction (2020)",
          "Crop Yield Prediction (2020)",
          "Crop Yield Prediction (2020)",
          "Crop Yield Prediction (2020)",
          "Crop Yield Prediction (2020)",
          "Crop Yield Prediction (2020)",
          "Crop Yield Prediction (2020)",
          "Crop Yield Prediction (2020)",
          "Crop Yield Prediction (2020)",
          "Crop Yield Prediction (2020)",
          "Crop Yield Prediction (2020)",
          "Crop Yield Prediction (2020)",
          "Crop Yield Prediction (2020)",
          "Crop Yield Prediction (2020)",
          "Crop Yield Prediction (2020)",
          "Crop Yield Prediction (2020)",
          "Crop Yield Prediction (2020)",
          "Crop Yield Prediction (2020)",
          "Crop Yield Prediction (2020)",
          "Crop Yield Prediction (2020)",
          "Crop Yield Prediction (2020)",
          "Crop Yield Prediction (2020)"
         ],
         "xaxis": "x",
         "yaxis": "y"
        }
       ],
       "layout": {
        "barmode": "relative",
        "legend": {
         "tracegroupgap": 0
        },
        "template": {
         "data": {
          "bar": [
           {
            "error_x": {
             "color": "rgb(36,36,36)"
            },
            "error_y": {
             "color": "rgb(36,36,36)"
            },
            "marker": {
             "line": {
              "color": "rgb(234,234,242)",
              "width": 0.5
             },
             "pattern": {
              "fillmode": "overlay",
              "size": 10,
              "solidity": 0.2
             }
            },
            "type": "bar"
           }
          ],
          "barpolar": [
           {
            "marker": {
             "line": {
              "color": "rgb(234,234,242)",
              "width": 0.5
             },
             "pattern": {
              "fillmode": "overlay",
              "size": 10,
              "solidity": 0.2
             }
            },
            "type": "barpolar"
           }
          ],
          "carpet": [
           {
            "aaxis": {
             "endlinecolor": "rgb(36,36,36)",
             "gridcolor": "white",
             "linecolor": "white",
             "minorgridcolor": "white",
             "startlinecolor": "rgb(36,36,36)"
            },
            "baxis": {
             "endlinecolor": "rgb(36,36,36)",
             "gridcolor": "white",
             "linecolor": "white",
             "minorgridcolor": "white",
             "startlinecolor": "rgb(36,36,36)"
            },
            "type": "carpet"
           }
          ],
          "choropleth": [
           {
            "colorbar": {
             "outlinewidth": 0,
             "tickcolor": "rgb(36,36,36)",
             "ticklen": 8,
             "ticks": "outside",
             "tickwidth": 2
            },
            "type": "choropleth"
           }
          ],
          "contour": [
           {
            "colorbar": {
             "outlinewidth": 0,
             "tickcolor": "rgb(36,36,36)",
             "ticklen": 8,
             "ticks": "outside",
             "tickwidth": 2
            },
            "colorscale": [
             [
              0,
              "rgb(2,4,25)"
             ],
             [
              0.06274509803921569,
              "rgb(24,15,41)"
             ],
             [
              0.12549019607843137,
              "rgb(47,23,57)"
             ],
             [
              0.18823529411764706,
              "rgb(71,28,72)"
             ],
             [
              0.25098039215686274,
              "rgb(97,30,82)"
             ],
             [
              0.3137254901960784,
              "rgb(123,30,89)"
             ],
             [
              0.3764705882352941,
              "rgb(150,27,91)"
             ],
             [
              0.4392156862745098,
              "rgb(177,22,88)"
             ],
             [
              0.5019607843137255,
              "rgb(203,26,79)"
             ],
             [
              0.5647058823529412,
              "rgb(223,47,67)"
             ],
             [
              0.6274509803921569,
              "rgb(236,76,61)"
             ],
             [
              0.6901960784313725,
              "rgb(242,107,73)"
             ],
             [
              0.7529411764705882,
              "rgb(244,135,95)"
             ],
             [
              0.8156862745098039,
              "rgb(245,162,122)"
             ],
             [
              0.8784313725490196,
              "rgb(246,188,153)"
             ],
             [
              0.9411764705882353,
              "rgb(247,212,187)"
             ],
             [
              1,
              "rgb(250,234,220)"
             ]
            ],
            "type": "contour"
           }
          ],
          "contourcarpet": [
           {
            "colorbar": {
             "outlinewidth": 0,
             "tickcolor": "rgb(36,36,36)",
             "ticklen": 8,
             "ticks": "outside",
             "tickwidth": 2
            },
            "type": "contourcarpet"
           }
          ],
          "heatmap": [
           {
            "colorbar": {
             "outlinewidth": 0,
             "tickcolor": "rgb(36,36,36)",
             "ticklen": 8,
             "ticks": "outside",
             "tickwidth": 2
            },
            "colorscale": [
             [
              0,
              "rgb(2,4,25)"
             ],
             [
              0.06274509803921569,
              "rgb(24,15,41)"
             ],
             [
              0.12549019607843137,
              "rgb(47,23,57)"
             ],
             [
              0.18823529411764706,
              "rgb(71,28,72)"
             ],
             [
              0.25098039215686274,
              "rgb(97,30,82)"
             ],
             [
              0.3137254901960784,
              "rgb(123,30,89)"
             ],
             [
              0.3764705882352941,
              "rgb(150,27,91)"
             ],
             [
              0.4392156862745098,
              "rgb(177,22,88)"
             ],
             [
              0.5019607843137255,
              "rgb(203,26,79)"
             ],
             [
              0.5647058823529412,
              "rgb(223,47,67)"
             ],
             [
              0.6274509803921569,
              "rgb(236,76,61)"
             ],
             [
              0.6901960784313725,
              "rgb(242,107,73)"
             ],
             [
              0.7529411764705882,
              "rgb(244,135,95)"
             ],
             [
              0.8156862745098039,
              "rgb(245,162,122)"
             ],
             [
              0.8784313725490196,
              "rgb(246,188,153)"
             ],
             [
              0.9411764705882353,
              "rgb(247,212,187)"
             ],
             [
              1,
              "rgb(250,234,220)"
             ]
            ],
            "type": "heatmap"
           }
          ],
          "heatmapgl": [
           {
            "colorbar": {
             "outlinewidth": 0,
             "tickcolor": "rgb(36,36,36)",
             "ticklen": 8,
             "ticks": "outside",
             "tickwidth": 2
            },
            "colorscale": [
             [
              0,
              "rgb(2,4,25)"
             ],
             [
              0.06274509803921569,
              "rgb(24,15,41)"
             ],
             [
              0.12549019607843137,
              "rgb(47,23,57)"
             ],
             [
              0.18823529411764706,
              "rgb(71,28,72)"
             ],
             [
              0.25098039215686274,
              "rgb(97,30,82)"
             ],
             [
              0.3137254901960784,
              "rgb(123,30,89)"
             ],
             [
              0.3764705882352941,
              "rgb(150,27,91)"
             ],
             [
              0.4392156862745098,
              "rgb(177,22,88)"
             ],
             [
              0.5019607843137255,
              "rgb(203,26,79)"
             ],
             [
              0.5647058823529412,
              "rgb(223,47,67)"
             ],
             [
              0.6274509803921569,
              "rgb(236,76,61)"
             ],
             [
              0.6901960784313725,
              "rgb(242,107,73)"
             ],
             [
              0.7529411764705882,
              "rgb(244,135,95)"
             ],
             [
              0.8156862745098039,
              "rgb(245,162,122)"
             ],
             [
              0.8784313725490196,
              "rgb(246,188,153)"
             ],
             [
              0.9411764705882353,
              "rgb(247,212,187)"
             ],
             [
              1,
              "rgb(250,234,220)"
             ]
            ],
            "type": "heatmapgl"
           }
          ],
          "histogram": [
           {
            "marker": {
             "pattern": {
              "fillmode": "overlay",
              "size": 10,
              "solidity": 0.2
             }
            },
            "type": "histogram"
           }
          ],
          "histogram2d": [
           {
            "colorbar": {
             "outlinewidth": 0,
             "tickcolor": "rgb(36,36,36)",
             "ticklen": 8,
             "ticks": "outside",
             "tickwidth": 2
            },
            "colorscale": [
             [
              0,
              "rgb(2,4,25)"
             ],
             [
              0.06274509803921569,
              "rgb(24,15,41)"
             ],
             [
              0.12549019607843137,
              "rgb(47,23,57)"
             ],
             [
              0.18823529411764706,
              "rgb(71,28,72)"
             ],
             [
              0.25098039215686274,
              "rgb(97,30,82)"
             ],
             [
              0.3137254901960784,
              "rgb(123,30,89)"
             ],
             [
              0.3764705882352941,
              "rgb(150,27,91)"
             ],
             [
              0.4392156862745098,
              "rgb(177,22,88)"
             ],
             [
              0.5019607843137255,
              "rgb(203,26,79)"
             ],
             [
              0.5647058823529412,
              "rgb(223,47,67)"
             ],
             [
              0.6274509803921569,
              "rgb(236,76,61)"
             ],
             [
              0.6901960784313725,
              "rgb(242,107,73)"
             ],
             [
              0.7529411764705882,
              "rgb(244,135,95)"
             ],
             [
              0.8156862745098039,
              "rgb(245,162,122)"
             ],
             [
              0.8784313725490196,
              "rgb(246,188,153)"
             ],
             [
              0.9411764705882353,
              "rgb(247,212,187)"
             ],
             [
              1,
              "rgb(250,234,220)"
             ]
            ],
            "type": "histogram2d"
           }
          ],
          "histogram2dcontour": [
           {
            "colorbar": {
             "outlinewidth": 0,
             "tickcolor": "rgb(36,36,36)",
             "ticklen": 8,
             "ticks": "outside",
             "tickwidth": 2
            },
            "colorscale": [
             [
              0,
              "rgb(2,4,25)"
             ],
             [
              0.06274509803921569,
              "rgb(24,15,41)"
             ],
             [
              0.12549019607843137,
              "rgb(47,23,57)"
             ],
             [
              0.18823529411764706,
              "rgb(71,28,72)"
             ],
             [
              0.25098039215686274,
              "rgb(97,30,82)"
             ],
             [
              0.3137254901960784,
              "rgb(123,30,89)"
             ],
             [
              0.3764705882352941,
              "rgb(150,27,91)"
             ],
             [
              0.4392156862745098,
              "rgb(177,22,88)"
             ],
             [
              0.5019607843137255,
              "rgb(203,26,79)"
             ],
             [
              0.5647058823529412,
              "rgb(223,47,67)"
             ],
             [
              0.6274509803921569,
              "rgb(236,76,61)"
             ],
             [
              0.6901960784313725,
              "rgb(242,107,73)"
             ],
             [
              0.7529411764705882,
              "rgb(244,135,95)"
             ],
             [
              0.8156862745098039,
              "rgb(245,162,122)"
             ],
             [
              0.8784313725490196,
              "rgb(246,188,153)"
             ],
             [
              0.9411764705882353,
              "rgb(247,212,187)"
             ],
             [
              1,
              "rgb(250,234,220)"
             ]
            ],
            "type": "histogram2dcontour"
           }
          ],
          "mesh3d": [
           {
            "colorbar": {
             "outlinewidth": 0,
             "tickcolor": "rgb(36,36,36)",
             "ticklen": 8,
             "ticks": "outside",
             "tickwidth": 2
            },
            "type": "mesh3d"
           }
          ],
          "parcoords": [
           {
            "line": {
             "colorbar": {
              "outlinewidth": 0,
              "tickcolor": "rgb(36,36,36)",
              "ticklen": 8,
              "ticks": "outside",
              "tickwidth": 2
             }
            },
            "type": "parcoords"
           }
          ],
          "pie": [
           {
            "automargin": true,
            "type": "pie"
           }
          ],
          "scatter": [
           {
            "fillpattern": {
             "fillmode": "overlay",
             "size": 10,
             "solidity": 0.2
            },
            "type": "scatter"
           }
          ],
          "scatter3d": [
           {
            "line": {
             "colorbar": {
              "outlinewidth": 0,
              "tickcolor": "rgb(36,36,36)",
              "ticklen": 8,
              "ticks": "outside",
              "tickwidth": 2
             }
            },
            "marker": {
             "colorbar": {
              "outlinewidth": 0,
              "tickcolor": "rgb(36,36,36)",
              "ticklen": 8,
              "ticks": "outside",
              "tickwidth": 2
             }
            },
            "type": "scatter3d"
           }
          ],
          "scattercarpet": [
           {
            "marker": {
             "colorbar": {
              "outlinewidth": 0,
              "tickcolor": "rgb(36,36,36)",
              "ticklen": 8,
              "ticks": "outside",
              "tickwidth": 2
             }
            },
            "type": "scattercarpet"
           }
          ],
          "scattergeo": [
           {
            "marker": {
             "colorbar": {
              "outlinewidth": 0,
              "tickcolor": "rgb(36,36,36)",
              "ticklen": 8,
              "ticks": "outside",
              "tickwidth": 2
             }
            },
            "type": "scattergeo"
           }
          ],
          "scattergl": [
           {
            "marker": {
             "colorbar": {
              "outlinewidth": 0,
              "tickcolor": "rgb(36,36,36)",
              "ticklen": 8,
              "ticks": "outside",
              "tickwidth": 2
             }
            },
            "type": "scattergl"
           }
          ],
          "scattermapbox": [
           {
            "marker": {
             "colorbar": {
              "outlinewidth": 0,
              "tickcolor": "rgb(36,36,36)",
              "ticklen": 8,
              "ticks": "outside",
              "tickwidth": 2
             }
            },
            "type": "scattermapbox"
           }
          ],
          "scatterpolar": [
           {
            "marker": {
             "colorbar": {
              "outlinewidth": 0,
              "tickcolor": "rgb(36,36,36)",
              "ticklen": 8,
              "ticks": "outside",
              "tickwidth": 2
             }
            },
            "type": "scatterpolar"
           }
          ],
          "scatterpolargl": [
           {
            "marker": {
             "colorbar": {
              "outlinewidth": 0,
              "tickcolor": "rgb(36,36,36)",
              "ticklen": 8,
              "ticks": "outside",
              "tickwidth": 2
             }
            },
            "type": "scatterpolargl"
           }
          ],
          "scatterternary": [
           {
            "marker": {
             "colorbar": {
              "outlinewidth": 0,
              "tickcolor": "rgb(36,36,36)",
              "ticklen": 8,
              "ticks": "outside",
              "tickwidth": 2
             }
            },
            "type": "scatterternary"
           }
          ],
          "surface": [
           {
            "colorbar": {
             "outlinewidth": 0,
             "tickcolor": "rgb(36,36,36)",
             "ticklen": 8,
             "ticks": "outside",
             "tickwidth": 2
            },
            "colorscale": [
             [
              0,
              "rgb(2,4,25)"
             ],
             [
              0.06274509803921569,
              "rgb(24,15,41)"
             ],
             [
              0.12549019607843137,
              "rgb(47,23,57)"
             ],
             [
              0.18823529411764706,
              "rgb(71,28,72)"
             ],
             [
              0.25098039215686274,
              "rgb(97,30,82)"
             ],
             [
              0.3137254901960784,
              "rgb(123,30,89)"
             ],
             [
              0.3764705882352941,
              "rgb(150,27,91)"
             ],
             [
              0.4392156862745098,
              "rgb(177,22,88)"
             ],
             [
              0.5019607843137255,
              "rgb(203,26,79)"
             ],
             [
              0.5647058823529412,
              "rgb(223,47,67)"
             ],
             [
              0.6274509803921569,
              "rgb(236,76,61)"
             ],
             [
              0.6901960784313725,
              "rgb(242,107,73)"
             ],
             [
              0.7529411764705882,
              "rgb(244,135,95)"
             ],
             [
              0.8156862745098039,
              "rgb(245,162,122)"
             ],
             [
              0.8784313725490196,
              "rgb(246,188,153)"
             ],
             [
              0.9411764705882353,
              "rgb(247,212,187)"
             ],
             [
              1,
              "rgb(250,234,220)"
             ]
            ],
            "type": "surface"
           }
          ],
          "table": [
           {
            "cells": {
             "fill": {
              "color": "rgb(231,231,240)"
             },
             "line": {
              "color": "white"
             }
            },
            "header": {
             "fill": {
              "color": "rgb(183,183,191)"
             },
             "line": {
              "color": "white"
             }
            },
            "type": "table"
           }
          ]
         },
         "layout": {
          "annotationdefaults": {
           "arrowcolor": "rgb(67,103,167)"
          },
          "autotypenumbers": "strict",
          "coloraxis": {
           "colorbar": {
            "outlinewidth": 0,
            "tickcolor": "rgb(36,36,36)",
            "ticklen": 8,
            "ticks": "outside",
            "tickwidth": 2
           }
          },
          "colorscale": {
           "sequential": [
            [
             0,
             "rgb(2,4,25)"
            ],
            [
             0.06274509803921569,
             "rgb(24,15,41)"
            ],
            [
             0.12549019607843137,
             "rgb(47,23,57)"
            ],
            [
             0.18823529411764706,
             "rgb(71,28,72)"
            ],
            [
             0.25098039215686274,
             "rgb(97,30,82)"
            ],
            [
             0.3137254901960784,
             "rgb(123,30,89)"
            ],
            [
             0.3764705882352941,
             "rgb(150,27,91)"
            ],
            [
             0.4392156862745098,
             "rgb(177,22,88)"
            ],
            [
             0.5019607843137255,
             "rgb(203,26,79)"
            ],
            [
             0.5647058823529412,
             "rgb(223,47,67)"
            ],
            [
             0.6274509803921569,
             "rgb(236,76,61)"
            ],
            [
             0.6901960784313725,
             "rgb(242,107,73)"
            ],
            [
             0.7529411764705882,
             "rgb(244,135,95)"
            ],
            [
             0.8156862745098039,
             "rgb(245,162,122)"
            ],
            [
             0.8784313725490196,
             "rgb(246,188,153)"
            ],
            [
             0.9411764705882353,
             "rgb(247,212,187)"
            ],
            [
             1,
             "rgb(250,234,220)"
            ]
           ],
           "sequentialminus": [
            [
             0,
             "rgb(2,4,25)"
            ],
            [
             0.06274509803921569,
             "rgb(24,15,41)"
            ],
            [
             0.12549019607843137,
             "rgb(47,23,57)"
            ],
            [
             0.18823529411764706,
             "rgb(71,28,72)"
            ],
            [
             0.25098039215686274,
             "rgb(97,30,82)"
            ],
            [
             0.3137254901960784,
             "rgb(123,30,89)"
            ],
            [
             0.3764705882352941,
             "rgb(150,27,91)"
            ],
            [
             0.4392156862745098,
             "rgb(177,22,88)"
            ],
            [
             0.5019607843137255,
             "rgb(203,26,79)"
            ],
            [
             0.5647058823529412,
             "rgb(223,47,67)"
            ],
            [
             0.6274509803921569,
             "rgb(236,76,61)"
            ],
            [
             0.6901960784313725,
             "rgb(242,107,73)"
            ],
            [
             0.7529411764705882,
             "rgb(244,135,95)"
            ],
            [
             0.8156862745098039,
             "rgb(245,162,122)"
            ],
            [
             0.8784313725490196,
             "rgb(246,188,153)"
            ],
            [
             0.9411764705882353,
             "rgb(247,212,187)"
            ],
            [
             1,
             "rgb(250,234,220)"
            ]
           ]
          },
          "colorway": [
           "rgb(76,114,176)",
           "rgb(221,132,82)",
           "rgb(85,168,104)",
           "rgb(196,78,82)",
           "rgb(129,114,179)",
           "rgb(147,120,96)",
           "rgb(218,139,195)",
           "rgb(140,140,140)",
           "rgb(204,185,116)",
           "rgb(100,181,205)"
          ],
          "font": {
           "color": "rgb(36,36,36)"
          },
          "geo": {
           "bgcolor": "white",
           "lakecolor": "white",
           "landcolor": "rgb(234,234,242)",
           "showlakes": true,
           "showland": true,
           "subunitcolor": "white"
          },
          "hoverlabel": {
           "align": "left"
          },
          "hovermode": "closest",
          "paper_bgcolor": "white",
          "plot_bgcolor": "rgb(234,234,242)",
          "polar": {
           "angularaxis": {
            "gridcolor": "white",
            "linecolor": "white",
            "showgrid": true,
            "ticks": ""
           },
           "bgcolor": "rgb(234,234,242)",
           "radialaxis": {
            "gridcolor": "white",
            "linecolor": "white",
            "showgrid": true,
            "ticks": ""
           }
          },
          "scene": {
           "xaxis": {
            "backgroundcolor": "rgb(234,234,242)",
            "gridcolor": "white",
            "gridwidth": 2,
            "linecolor": "white",
            "showbackground": true,
            "showgrid": true,
            "ticks": "",
            "zerolinecolor": "white"
           },
           "yaxis": {
            "backgroundcolor": "rgb(234,234,242)",
            "gridcolor": "white",
            "gridwidth": 2,
            "linecolor": "white",
            "showbackground": true,
            "showgrid": true,
            "ticks": "",
            "zerolinecolor": "white"
           },
           "zaxis": {
            "backgroundcolor": "rgb(234,234,242)",
            "gridcolor": "white",
            "gridwidth": 2,
            "linecolor": "white",
            "showbackground": true,
            "showgrid": true,
            "ticks": "",
            "zerolinecolor": "white"
           }
          },
          "shapedefaults": {
           "fillcolor": "rgb(67,103,167)",
           "line": {
            "width": 0
           },
           "opacity": 0.5
          },
          "ternary": {
           "aaxis": {
            "gridcolor": "white",
            "linecolor": "white",
            "showgrid": true,
            "ticks": ""
           },
           "baxis": {
            "gridcolor": "white",
            "linecolor": "white",
            "showgrid": true,
            "ticks": ""
           },
           "bgcolor": "rgb(234,234,242)",
           "caxis": {
            "gridcolor": "white",
            "linecolor": "white",
            "showgrid": true,
            "ticks": ""
           }
          },
          "xaxis": {
           "automargin": true,
           "gridcolor": "white",
           "linecolor": "white",
           "showgrid": true,
           "ticks": "",
           "title": {
            "standoff": 15
           },
           "zerolinecolor": "white"
          },
          "yaxis": {
           "automargin": true,
           "gridcolor": "white",
           "linecolor": "white",
           "showgrid": true,
           "ticks": "",
           "title": {
            "standoff": 15
           },
           "zerolinecolor": "white"
          }
         }
        },
        "title": {
         "text": "Number of publications per topic (survey year)"
        },
        "xaxis": {
         "anchor": "y",
         "categoryorder": "total descending",
         "domain": [
          0,
          1
         ],
         "title": {
          "text": "Topic"
         }
        },
        "yaxis": {
         "anchor": "x",
         "domain": [
          0,
          1
         ],
         "title": {
          "text": "Number of publications"
         }
        }
       }
      }
     },
     "metadata": {},
     "output_type": "display_data"
    }
   ],
   "source": [
    "# histogram for number of publications per survey\n",
    "\n",
    "fig = px.histogram(core_pubs, x=\"Topic\", title=\"Number of publications per topic (survey year)\", labels={\"Topic\": \"Topic (survey year)\"})\n",
    "fig.update_layout(xaxis_title=\"Topic\", yaxis_title=\"Number of publications\", xaxis_categoryorder=\"total descending\")\n",
    "fig.show()\n"
   ]
  },
  {
   "cell_type": "code",
   "execution_count": 50,
   "metadata": {},
   "outputs": [
    {
     "data": {
      "application/vnd.plotly.v1+json": {
       "config": {
        "plotlyServerURL": "https://plot.ly"
       },
       "data": [
        {
         "alignmentgroup": "True",
         "boxpoints": "all",
         "hovertemplate": "Topic=%{x}<br>times_cited=%{y}<extra></extra>",
         "legendgroup": "",
         "marker": {
          "color": "rgb(76,114,176)"
         },
         "name": "",
         "notched": false,
         "offsetgroup": "",
         "orientation": "v",
         "showlegend": false,
         "type": "box",
         "x": [
          "Synthetic Biology (2012)",
          "Synthetic Biology (2012)",
          "Synthetic Biology (2012)",
          "Synthetic Biology (2012)",
          "Synthetic Biology (2012)",
          "Synthetic Biology (2012)",
          "Synthetic Biology (2012)",
          "Synthetic Biology (2012)",
          "Synthetic Biology (2012)",
          "Synthetic Biology (2012)",
          "Synthetic Biology (2012)",
          "Synthetic Biology (2012)",
          "Synthetic Biology (2012)",
          "Synthetic Biology (2012)",
          "Synthetic Biology (2012)",
          "Synthetic Biology (2012)",
          "Synthetic Biology (2012)",
          "Synthetic Biology (2012)",
          "Synthetic Biology (2012)",
          "Synthetic Biology (2012)",
          "Synthetic Biology (2012)",
          "Synthetic Biology (2012)",
          "Synthetic Biology (2012)",
          "Synthetic Biology (2012)",
          "Synthetic Biology (2012)",
          "Synthetic Biology (2012)",
          "Synthetic Biology (2012)",
          "Synthetic Biology (2012)",
          "Synthetic Biology (2012)",
          "Resilience in Business and management (2015)",
          "Resilience in Business and management (2015)",
          "Resilience in Business and management (2015)",
          "Resilience in Business and management (2015)",
          "Resilience in Business and management (2015)",
          "Resilience in Business and management (2015)",
          "Resilience in Business and management (2015)",
          "Resilience in Business and management (2015)",
          "Resilience in Business and management (2015)",
          "Resilience in Business and management (2015)",
          "Resilience in Business and management (2015)",
          "Resilience in Business and management (2015)",
          "Resilience in Business and management (2015)",
          "Resilience in Business and management (2015)",
          "Resilience in Business and management (2015)",
          "Resilience in Business and management (2015)",
          "Resilience in Business and management (2015)",
          "Resilience in Business and management (2015)",
          "Resilience in Business and management (2015)",
          "Resilience in Business and management (2015)",
          "Resilience in Business and management (2015)",
          "Resilience in Business and management (2015)",
          "Resilience in Business and management (2015)",
          "Resilience in Business and management (2015)",
          "Resilience in Business and management (2015)",
          "Resilience in Business and management (2015)",
          "Resilience in Business and management (2015)",
          "Cervical Myelopathy (2018)",
          "Cervical Myelopathy (2018)",
          "Cervical Myelopathy (2018)",
          "Cervical Myelopathy (2018)",
          "Cervical Myelopathy (2018)",
          "Cervical Myelopathy (2018)",
          "Cervical Myelopathy (2018)",
          "Cervical Myelopathy (2018)",
          "Cervical Myelopathy (2018)",
          "Cervical Myelopathy (2018)",
          "Cervical Myelopathy (2018)",
          "Cervical Myelopathy (2018)",
          "Cervical Myelopathy (2018)",
          "Cervical Myelopathy (2018)",
          "Cervical Myelopathy (2018)",
          "Cervical Myelopathy (2018)",
          "Cervical Myelopathy (2018)",
          "Cervical Myelopathy (2018)",
          "Cervical Myelopathy (2018)",
          "Cervical Myelopathy (2018)",
          "Cervical Myelopathy (2018)",
          "Cervical Myelopathy (2018)",
          "Cervical Myelopathy (2018)",
          "Cervical Myelopathy (2018)",
          "Cervical Myelopathy (2018)",
          "Cervical Myelopathy (2018)",
          "Cervical Myelopathy (2018)",
          "Cervical Myelopathy (2018)",
          "Cervical Myelopathy (2018)",
          "Cervical Myelopathy (2018)",
          "Cervical Myelopathy (2018)",
          "Cervical Myelopathy (2018)",
          "Cervical Myelopathy (2018)",
          "Cervical Myelopathy (2018)",
          "Cervical Myelopathy (2018)",
          "Cervical Myelopathy (2018)",
          "Cervical Myelopathy (2018)",
          "Cervical Myelopathy (2018)",
          "Cervical Myelopathy (2018)",
          "Cervical Myelopathy (2018)",
          "Cervical Myelopathy (2018)",
          "Cervical Myelopathy (2018)",
          "Cervical Myelopathy (2018)",
          "Cervical Myelopathy (2018)",
          "Cervical Myelopathy (2018)",
          "Cervical Myelopathy (2018)",
          "Cervical Myelopathy (2018)",
          "Drones in Agriculture (2022)",
          "Drones in Agriculture (2022)",
          "Drones in Agriculture (2022)",
          "Drones in Agriculture (2022)",
          "Drones in Agriculture (2022)",
          "Drones in Agriculture (2022)",
          "Drones in Agriculture (2022)",
          "Drones in Agriculture (2022)",
          "Drones in Agriculture (2022)",
          "Drones in Agriculture (2022)",
          "Drones in Agriculture (2022)",
          "Drones in Agriculture (2022)",
          "Drones in Agriculture (2022)",
          "Drones in Agriculture (2022)",
          "Drones in Agriculture (2022)",
          "Drones in Agriculture (2022)",
          "Drones in Agriculture (2022)",
          "Drones in Agriculture (2022)",
          "Drones in Agriculture (2022)",
          "Drones in Agriculture (2022)",
          "Drones in Agriculture (2022)",
          "Drones in Agriculture (2022)",
          "Drones in Agriculture (2022)",
          "Drones in Agriculture (2022)",
          "Drones in Agriculture (2022)",
          "Robotic Arthroplasty (2023)",
          "Robotic Arthroplasty (2023)",
          "Robotic Arthroplasty (2023)",
          "Robotic Arthroplasty (2023)",
          "Robotic Arthroplasty (2023)",
          "Robotic Arthroplasty (2023)",
          "Robotic Arthroplasty (2023)",
          "Robotic Arthroplasty (2023)",
          "Robotic Arthroplasty (2023)",
          "Robotic Arthroplasty (2023)",
          "Robotic Arthroplasty (2023)",
          "Robotic Arthroplasty (2023)",
          "Robotic Arthroplasty (2023)",
          "Robotic Arthroplasty (2023)",
          "Robotic Arthroplasty (2023)",
          "Robotic Arthroplasty (2023)",
          "Robotic Arthroplasty (2023)",
          "Robotic Arthroplasty (2023)",
          "Robotic Arthroplasty (2023)",
          "Robotic Arthroplasty (2023)",
          "Robotic Arthroplasty (2023)",
          "Robotic Arthroplasty (2023)",
          "Robotic Arthroplasty (2023)",
          "Robotic Arthroplasty (2023)",
          "Robotic Arthroplasty (2023)",
          "Robotic Arthroplasty (2023)",
          "Robotic Arthroplasty (2023)",
          "Robotic Arthroplasty (2023)",
          "Robotic Arthroplasty (2023)",
          "Robotic Arthroplasty (2023)",
          "Robotic Arthroplasty (2023)",
          "Robotic Arthroplasty (2023)",
          "Robotic Arthroplasty (2023)",
          "Robotic Arthroplasty (2023)",
          "Robotic Arthroplasty (2023)",
          "Robotic Arthroplasty (2023)",
          "Robotic Arthroplasty (2023)",
          "Robotic Arthroplasty (2023)",
          "Robotic Arthroplasty (2023)",
          "Robotic Arthroplasty (2023)",
          "Robotic Arthroplasty (2023)",
          "Robotic Arthroplasty (2023)",
          "Robotic Arthroplasty (2023)",
          "Robotic Arthroplasty (2023)",
          "Robotic Arthroplasty (2023)",
          "Robotic Arthroplasty (2023)",
          "Robotic Arthroplasty (2023)",
          "Soft Robotics (2018)",
          "Soft Robotics (2018)",
          "Soft Robotics (2018)",
          "Soft Robotics (2018)",
          "Soft Robotics (2018)",
          "Soft Robotics (2018)",
          "Soft Robotics (2018)",
          "Soft Robotics (2018)",
          "Soft Robotics (2018)",
          "Soft Robotics (2018)",
          "Soft Robotics (2018)",
          "Soft Robotics (2018)",
          "Soft Robotics (2018)",
          "Soft Robotics (2018)",
          "Soft Robotics (2018)",
          "Soft Robotics (2018)",
          "Soft Robotics (2018)",
          "Soft Robotics (2018)",
          "Soft Robotics (2018)",
          "Soft Robotics (2018)",
          "Soft Robotics (2018)",
          "Soft Robotics (2018)",
          "Soft Robotics (2018)",
          "Soft Robotics (2018)",
          "Soft Robotics (2018)",
          "Soft Robotics (2018)",
          "Soft Robotics (2018)",
          "Soft Robotics (2018)",
          "Soft Robotics (2018)",
          "Soft Robotics (2018)",
          "Soft Robotics (2018)",
          "Soft Robotics (2018)",
          "Soft Robotics (2018)",
          "Soft Robotics (2018)",
          "Soft Robotics (2018)",
          "Soft Robotics (2018)",
          "Tourism Growth Nexus (2020)",
          "Tourism Growth Nexus (2020)",
          "Tourism Growth Nexus (2020)",
          "Tourism Growth Nexus (2020)",
          "Tourism Growth Nexus (2020)",
          "Tourism Growth Nexus (2020)",
          "Tourism Growth Nexus (2020)",
          "Tourism Growth Nexus (2020)",
          "Tourism Growth Nexus (2020)",
          "Tourism Growth Nexus (2020)",
          "Tourism Growth Nexus (2020)",
          "Tourism Growth Nexus (2020)",
          "Tourism Growth Nexus (2020)",
          "Tourism Growth Nexus (2020)",
          "Tourism Growth Nexus (2020)",
          "Tourism Growth Nexus (2020)",
          "Tourism Growth Nexus (2020)",
          "Tourism Growth Nexus (2020)",
          "Tourism Growth Nexus (2020)",
          "Tourism Growth Nexus (2020)",
          "Tourism Growth Nexus (2020)",
          "Tourism Growth Nexus (2020)",
          "Tourism Growth Nexus (2020)",
          "Tourism Growth Nexus (2020)",
          "Tourism Growth Nexus (2020)",
          "Sustainable Biofuel (2023)",
          "Sustainable Biofuel (2023)",
          "Sustainable Biofuel (2023)",
          "Sustainable Biofuel (2023)",
          "Sustainable Biofuel (2023)",
          "Sustainable Biofuel (2023)",
          "Sustainable Biofuel (2023)",
          "Sustainable Biofuel (2023)",
          "Sustainable Biofuel (2023)",
          "Sustainable Biofuel (2023)",
          "Sustainable Biofuel (2023)",
          "Sustainable Biofuel (2023)",
          "Sustainable Biofuel (2023)",
          "Sustainable Biofuel (2023)",
          "Sustainable Biofuel (2023)",
          "Sustainable Biofuel (2023)",
          "Sustainable Biofuel (2023)",
          "Sustainable Biofuel (2023)",
          "Sustainable Biofuel (2023)",
          "Sustainable Biofuel (2023)",
          "Sustainable Biofuel (2023)",
          "Sustainable Biofuel (2023)",
          "Sustainable Biofuel (2023)",
          "Sustainable Biofuel (2023)",
          "Sustainable Biofuel (2023)",
          "Sustainable Biofuel (2023)",
          "Sustainable Biofuel (2023)",
          "Sustainable Biofuel (2023)",
          "Sustainable Biofuel (2023)",
          "Sustainable Biofuel (2023)",
          "Sustainable Biofuel (2023)",
          "Sustainable Biofuel (2023)",
          "Sustainable Biofuel (2023)",
          "Sustainable Biofuel (2023)",
          "Sustainable Biofuel (2023)",
          "Sustainable Biofuel (2023)",
          "Sustainable Biofuel (2023)",
          "Sustainable Biofuel (2023)",
          "Sustainable Biofuel (2023)",
          "Sustainable Biofuel (2023)",
          "Sustainable Biofuel (2023)",
          "Sustainable Biofuel (2023)",
          "Sustainable Biofuel (2023)",
          "Sustainable Biofuel (2023)",
          "Sustainable Biofuel (2023)",
          "Sustainable Biofuel (2023)",
          "Sustainable Biofuel (2023)",
          "Sustainable Biofuel (2023)",
          "Sustainable Biofuel (2023)",
          "Sustainable Biofuel (2023)",
          "Nanoparticles (2020)",
          "Nanoparticles (2020)",
          "Nanoparticles (2020)",
          "Nanoparticles (2020)",
          "Nanoparticles (2020)",
          "Nanoparticles (2020)",
          "Nanoparticles (2020)",
          "Nanoparticles (2020)",
          "Nanoparticles (2020)",
          "Nanoparticles (2020)",
          "Nanoparticles (2020)",
          "Nanoparticles (2020)",
          "Nanoparticles (2020)",
          "Nanoparticles (2020)",
          "Nanoparticles (2020)",
          "Nanoparticles (2020)",
          "Nanoparticles (2020)",
          "Nanoparticles (2020)",
          "Nanoparticles (2020)",
          "Nanoparticles (2020)",
          "Nanoparticles (2020)",
          "Nanoparticles (2020)",
          "Nanoparticles (2020)",
          "Nanoparticles (2020)",
          "Nanoparticles (2020)",
          "Nanoparticles (2020)",
          "Nanoparticles (2020)",
          "Nanoparticles (2020)",
          "Nanoparticles (2020)",
          "Nanoparticles (2020)",
          "Nanoparticles (2020)",
          "Nanoparticles (2020)",
          "Nanoparticles (2020)",
          "Nanoparticles (2020)",
          "Nanoparticles (2020)",
          "Nanoparticles (2020)",
          "Nanoparticles (2020)",
          "Nanoparticles (2020)",
          "Nanoparticles (2020)",
          "Nanoparticles (2020)",
          "Nanoparticles (2020)",
          "Nanoparticles (2020)",
          "Nanoparticles (2020)",
          "Nanoparticles (2020)",
          "Nanoparticles (2020)",
          "Nanoparticles (2020)",
          "Nanoparticles (2020)",
          "Nanoparticles (2020)",
          "Nanoparticles (2020)",
          "Nanoparticles (2020)",
          "Perovskite Solar Cells Stability (2024)",
          "Perovskite Solar Cells Stability (2024)",
          "Perovskite Solar Cells Stability (2024)",
          "Perovskite Solar Cells Stability (2024)",
          "Perovskite Solar Cells Stability (2024)",
          "Perovskite Solar Cells Stability (2024)",
          "Perovskite Solar Cells Stability (2024)",
          "Perovskite Solar Cells Stability (2024)",
          "Perovskite Solar Cells Stability (2024)",
          "Perovskite Solar Cells Stability (2024)",
          "Perovskite Solar Cells Stability (2024)",
          "Perovskite Solar Cells Stability (2024)",
          "Perovskite Solar Cells Stability (2024)",
          "Perovskite Solar Cells Stability (2024)",
          "Perovskite Solar Cells Stability (2024)",
          "Perovskite Solar Cells Stability (2024)",
          "Perovskite Solar Cells Stability (2024)",
          "Perovskite Solar Cells Stability (2024)",
          "Perovskite Solar Cells Stability (2024)",
          "Perovskite Solar Cells Stability (2024)",
          "Perovskite Solar Cells Stability (2024)",
          "Perovskite Solar Cells Stability (2024)",
          "Perovskite Solar Cells Stability (2024)",
          "Perovskite Solar Cells Stability (2024)",
          "Perovskite Solar Cells Stability (2024)",
          "Perovskite Solar Cells Stability (2024)",
          "Perovskite Solar Cells Stability (2024)",
          "Perovskite Solar Cells Stability (2024)",
          "Perovskite Solar Cells Stability (2024)",
          "Energy Growth Nexus (2010)",
          "Energy Growth Nexus (2010)",
          "Energy Growth Nexus (2010)",
          "Energy Growth Nexus (2010)",
          "Energy Growth Nexus (2010)",
          "Energy Growth Nexus (2010)",
          "Energy Growth Nexus (2010)",
          "Energy Growth Nexus (2010)",
          "Energy Growth Nexus (2010)",
          "Energy Growth Nexus (2010)",
          "Energy Growth Nexus (2010)",
          "Energy Growth Nexus (2010)",
          "Energy Growth Nexus (2010)",
          "Energy Growth Nexus (2010)",
          "Energy Growth Nexus (2010)",
          "Energy Growth Nexus (2010)",
          "Energy Growth Nexus (2010)",
          "Energy Growth Nexus (2010)",
          "Energy Growth Nexus (2010)",
          "Energy Growth Nexus (2010)",
          "Energy Growth Nexus (2010)",
          "Energy Growth Nexus (2010)",
          "Energy Growth Nexus (2010)",
          "Energy Growth Nexus (2010)",
          "Energy Growth Nexus (2010)",
          "Energy Growth Nexus (2010)",
          "Energy Growth Nexus (2010)",
          "Green Warehousing (2023)",
          "Green Warehousing (2023)",
          "Green Warehousing (2023)",
          "Green Warehousing (2023)",
          "Green Warehousing (2023)",
          "Green Warehousing (2023)",
          "Green Warehousing (2023)",
          "Green Warehousing (2023)",
          "Green Warehousing (2023)",
          "Green Warehousing (2023)",
          "Green Warehousing (2023)",
          "Green Warehousing (2023)",
          "Green Warehousing (2023)",
          "Green Warehousing (2023)",
          "Green Warehousing (2023)",
          "Green Warehousing (2023)",
          "Green Warehousing (2023)",
          "Green Warehousing (2023)",
          "Green Warehousing (2023)",
          "Green Warehousing (2023)",
          "Green Warehousing (2023)",
          "Green Warehousing (2023)",
          "Green Warehousing (2023)",
          "Green Warehousing (2023)",
          "Green Warehousing (2023)",
          "Green Warehousing (2023)",
          "Green Warehousing (2023)",
          "Green Warehousing (2023)",
          "Green Warehousing (2023)",
          "Green Warehousing (2023)",
          "Green Warehousing (2023)",
          "Green Warehousing (2023)",
          "Green Warehousing (2023)",
          "Green Warehousing (2023)",
          "Green Warehousing (2023)",
          "Green Warehousing (2023)",
          "Green Warehousing (2023)",
          "Green Warehousing (2023)",
          "Internet of Things in Healthcare (2018)",
          "Internet of Things in Healthcare (2018)",
          "Internet of Things in Healthcare (2018)",
          "Internet of Things in Healthcare (2018)",
          "Internet of Things in Healthcare (2018)",
          "Internet of Things in Healthcare (2018)",
          "Internet of Things in Healthcare (2018)",
          "Internet of Things in Healthcare (2018)",
          "Internet of Things in Healthcare (2018)",
          "Internet of Things in Healthcare (2018)",
          "Internet of Things in Healthcare (2018)",
          "Internet of Things in Healthcare (2018)",
          "Internet of Things in Healthcare (2018)",
          "Internet of Things in Healthcare (2018)",
          "Internet of Things in Healthcare (2018)",
          "Internet of Things in Healthcare (2018)",
          "Internet of Things in Healthcare (2018)",
          "Internet of Things in Healthcare (2018)",
          "Internet of Things in Healthcare (2018)",
          "Internet of Things in Healthcare (2018)",
          "Internet of Things in Healthcare (2018)",
          "Internet of Things in Healthcare (2018)",
          "Internet of Things in Healthcare (2018)",
          "Internet of Things in Healthcare (2018)",
          "Internet of Things in Healthcare (2018)",
          "Internet of Things in Healthcare (2018)",
          "Internet of Things in Healthcare (2018)",
          "Internet of Things in Healthcare (2018)",
          "Internet of Things in Healthcare (2018)",
          "AI on Edge Devices (2022)",
          "AI on Edge Devices (2022)",
          "AI on Edge Devices (2022)",
          "AI on Edge Devices (2022)",
          "AI on Edge Devices (2022)",
          "AI on Edge Devices (2022)",
          "AI on Edge Devices (2022)",
          "AI on Edge Devices (2022)",
          "AI on Edge Devices (2022)",
          "AI on Edge Devices (2022)",
          "AI on Edge Devices (2022)",
          "AI on Edge Devices (2022)",
          "AI on Edge Devices (2022)",
          "AI on Edge Devices (2022)",
          "AI on Edge Devices (2022)",
          "AI on Edge Devices (2022)",
          "AI on Edge Devices (2022)",
          "AI on Edge Devices (2022)",
          "AI on Edge Devices (2022)",
          "AI on Edge Devices (2022)",
          "AI on Edge Devices (2022)",
          "AI on Edge Devices (2022)",
          "AI on Edge Devices (2022)",
          "AI on Edge Devices (2022)",
          "AI on Edge Devices (2022)",
          "AI on Edge Devices (2022)",
          "AI on Edge Devices (2022)",
          "AI on Edge Devices (2022)",
          "AI on Edge Devices (2022)",
          "AI on Edge Devices (2022)",
          "AI on Edge Devices (2022)",
          "AI on Edge Devices (2022)",
          "AI on Edge Devices (2022)",
          "AI on Edge Devices (2022)",
          "AI on Edge Devices (2022)",
          "AI on Edge Devices (2022)",
          "Crop Yield Prediction (2020)",
          "Crop Yield Prediction (2020)",
          "Crop Yield Prediction (2020)",
          "Crop Yield Prediction (2020)",
          "Crop Yield Prediction (2020)",
          "Crop Yield Prediction (2020)",
          "Crop Yield Prediction (2020)",
          "Crop Yield Prediction (2020)",
          "Crop Yield Prediction (2020)",
          "Crop Yield Prediction (2020)",
          "Crop Yield Prediction (2020)",
          "Crop Yield Prediction (2020)",
          "Crop Yield Prediction (2020)",
          "Crop Yield Prediction (2020)",
          "Crop Yield Prediction (2020)",
          "Crop Yield Prediction (2020)",
          "Crop Yield Prediction (2020)",
          "Crop Yield Prediction (2020)",
          "Crop Yield Prediction (2020)",
          "Crop Yield Prediction (2020)",
          "Crop Yield Prediction (2020)",
          "Crop Yield Prediction (2020)",
          "Crop Yield Prediction (2020)",
          "Crop Yield Prediction (2020)",
          "Crop Yield Prediction (2020)",
          "Crop Yield Prediction (2020)",
          "Crop Yield Prediction (2020)",
          "Crop Yield Prediction (2020)",
          "Crop Yield Prediction (2020)",
          "Crop Yield Prediction (2020)",
          "Crop Yield Prediction (2020)",
          "Crop Yield Prediction (2020)",
          "Crop Yield Prediction (2020)",
          "Crop Yield Prediction (2020)",
          "Crop Yield Prediction (2020)",
          "Crop Yield Prediction (2020)",
          "Crop Yield Prediction (2020)",
          "Crop Yield Prediction (2020)",
          "Crop Yield Prediction (2020)",
          "Crop Yield Prediction (2020)",
          "Crop Yield Prediction (2020)",
          "Crop Yield Prediction (2020)",
          "Crop Yield Prediction (2020)",
          "Crop Yield Prediction (2020)",
          "Crop Yield Prediction (2020)",
          "Crop Yield Prediction (2020)"
         ],
         "x0": " ",
         "xaxis": "x",
         "y": [
          520,
          633,
          1476,
          656,
          310,
          3645,
          3946,
          999,
          2354,
          1077,
          44,
          1233,
          4817,
          328,
          527,
          535,
          460,
          358,
          1347,
          770,
          314,
          397,
          482,
          1029,
          1020,
          2119,
          619,
          406,
          548,
          1412,
          2676,
          3089,
          3475,
          1158,
          285,
          792,
          2005,
          1505,
          2258,
          846,
          394,
          525,
          1029,
          1202,
          1249,
          1070,
          3028,
          681,
          760,
          279,
          1465,
          833,
          902,
          869,
          629,
          783,
          346,
          420,
          397,
          384,
          912,
          435,
          722,
          1537,
          208,
          201,
          193,
          215,
          204,
          212,
          200,
          218,
          205,
          269,
          231,
          193,
          290,
          229,
          273,
          263,
          252,
          322,
          316,
          252,
          261,
          247,
          240,
          390,
          285,
          322,
          359,
          207,
          225,
          418,
          364,
          360,
          272,
          247,
          297,
          345,
          337,
          468,
          415,
          325,
          319,
          372,
          1039,
          72,
          155,
          170,
          59,
          63,
          1535,
          714,
          1017,
          1342,
          1342,
          55,
          386,
          433,
          509,
          399,
          585,
          411,
          902,
          446,
          528,
          693,
          96,
          103,
          74,
          171,
          65,
          83,
          86,
          99,
          113,
          89,
          103,
          77,
          105,
          133,
          116,
          109,
          150,
          146,
          100,
          138,
          123,
          137,
          150,
          230,
          112,
          164,
          127,
          126,
          136,
          152,
          22,
          208,
          285,
          194,
          202,
          210,
          164,
          189,
          261,
          215,
          326,
          233,
          249,
          351,
          308,
          297,
          374,
          47,
          25,
          448,
          801,
          478,
          462,
          217,
          1131,
          502,
          79,
          73,
          78,
          4263,
          140,
          161,
          761,
          312,
          1045,
          275,
          44,
          322,
          1005,
          190,
          242,
          171,
          243,
          971,
          497,
          755,
          512,
          390,
          1690,
          866,
          1315,
          1768,
          968,
          193,
          212,
          180,
          127,
          209,
          174,
          165,
          255,
          178,
          259,
          296,
          278,
          333,
          392,
          312,
          410,
          392,
          227,
          487,
          583,
          401,
          525,
          638,
          1037,
          667,
          107,
          85,
          106,
          141,
          128,
          142,
          110,
          138,
          118,
          127,
          130,
          111,
          169,
          158,
          152,
          132,
          194,
          151,
          138,
          136,
          161,
          200,
          136,
          151,
          155,
          162,
          149,
          288,
          161,
          196,
          199,
          172,
          257,
          185,
          247,
          192,
          222,
          255,
          219,
          201,
          218,
          244,
          237,
          271,
          236,
          289,
          251,
          345,
          265,
          735,
          1174,
          955,
          1045,
          986,
          1044,
          1321,
          1587,
          946,
          1089,
          1377,
          1150,
          1028,
          1023,
          1212,
          1359,
          1647,
          1160,
          1827,
          1052,
          1325,
          1143,
          1261,
          1610,
          1579,
          1462,
          1541,
          1325,
          1881,
          2146,
          1725,
          2152,
          1792,
          1560,
          1766,
          1607,
          2026,
          3366,
          2321,
          1877,
          2265,
          2123,
          2736,
          2608,
          5577,
          3148,
          3786,
          4111,
          5014,
          4359,
          4921,
          40,
          11,
          21,
          4,
          43,
          118,
          158,
          165,
          172,
          107,
          85,
          185,
          184,
          199,
          171,
          257,
          223,
          220,
          215,
          279,
          260,
          248,
          263,
          357,
          346,
          508,
          596,
          665,
          1044,
          489,
          1106,
          474,
          480,
          597,
          592,
          64,
          899,
          1059,
          575,
          1081,
          312,
          456,
          1035,
          518,
          153,
          566,
          1082,
          628,
          821,
          822,
          830,
          1100,
          1147,
          1340,
          47,
          628,
          17,
          2,
          78,
          10,
          5,
          33,
          2,
          66,
          19,
          8,
          9,
          18,
          166,
          6,
          19,
          34,
          6,
          51,
          10,
          1,
          83,
          23,
          16,
          44,
          27,
          16,
          121,
          105,
          1,
          65,
          3,
          84,
          38,
          3,
          18,
          65,
          26,
          263,
          79,
          378,
          88,
          17,
          355,
          46,
          136,
          69,
          12,
          153,
          191,
          8,
          196,
          20,
          379,
          20,
          69,
          111,
          210,
          73,
          197,
          238,
          82,
          60,
          10,
          4,
          108,
          64,
          20,
          27,
          1,
          12,
          6,
          2,
          14,
          1,
          6,
          12,
          142,
          4,
          8,
          109,
          92,
          126,
          3,
          74,
          28,
          4,
          109,
          120,
          78,
          149,
          22,
          40,
          87,
          1164,
          443,
          253,
          98,
          1273,
          535,
          58,
          29,
          7,
          982,
          32,
          52,
          179,
          86,
          178,
          8,
          58,
          65,
          119,
          212,
          24,
          292,
          14,
          163,
          138,
          119,
          4,
          81,
          375,
          95,
          90,
          54,
          107,
          89,
          138,
          248,
          21,
          468,
          417,
          107,
          78,
          68,
          7,
          21,
          22,
          6,
          172,
          74,
          23,
          67,
          226,
          18,
          16,
          15,
          39,
          37
         ],
         "y0": " ",
         "yaxis": "y"
        }
       ],
       "layout": {
        "boxmode": "group",
        "height": 450,
        "legend": {
         "tracegroupgap": 0
        },
        "template": {
         "data": {
          "bar": [
           {
            "error_x": {
             "color": "rgb(36,36,36)"
            },
            "error_y": {
             "color": "rgb(36,36,36)"
            },
            "marker": {
             "line": {
              "color": "rgb(234,234,242)",
              "width": 0.5
             },
             "pattern": {
              "fillmode": "overlay",
              "size": 10,
              "solidity": 0.2
             }
            },
            "type": "bar"
           }
          ],
          "barpolar": [
           {
            "marker": {
             "line": {
              "color": "rgb(234,234,242)",
              "width": 0.5
             },
             "pattern": {
              "fillmode": "overlay",
              "size": 10,
              "solidity": 0.2
             }
            },
            "type": "barpolar"
           }
          ],
          "carpet": [
           {
            "aaxis": {
             "endlinecolor": "rgb(36,36,36)",
             "gridcolor": "white",
             "linecolor": "white",
             "minorgridcolor": "white",
             "startlinecolor": "rgb(36,36,36)"
            },
            "baxis": {
             "endlinecolor": "rgb(36,36,36)",
             "gridcolor": "white",
             "linecolor": "white",
             "minorgridcolor": "white",
             "startlinecolor": "rgb(36,36,36)"
            },
            "type": "carpet"
           }
          ],
          "choropleth": [
           {
            "colorbar": {
             "outlinewidth": 0,
             "tickcolor": "rgb(36,36,36)",
             "ticklen": 8,
             "ticks": "outside",
             "tickwidth": 2
            },
            "type": "choropleth"
           }
          ],
          "contour": [
           {
            "colorbar": {
             "outlinewidth": 0,
             "tickcolor": "rgb(36,36,36)",
             "ticklen": 8,
             "ticks": "outside",
             "tickwidth": 2
            },
            "colorscale": [
             [
              0,
              "rgb(2,4,25)"
             ],
             [
              0.06274509803921569,
              "rgb(24,15,41)"
             ],
             [
              0.12549019607843137,
              "rgb(47,23,57)"
             ],
             [
              0.18823529411764706,
              "rgb(71,28,72)"
             ],
             [
              0.25098039215686274,
              "rgb(97,30,82)"
             ],
             [
              0.3137254901960784,
              "rgb(123,30,89)"
             ],
             [
              0.3764705882352941,
              "rgb(150,27,91)"
             ],
             [
              0.4392156862745098,
              "rgb(177,22,88)"
             ],
             [
              0.5019607843137255,
              "rgb(203,26,79)"
             ],
             [
              0.5647058823529412,
              "rgb(223,47,67)"
             ],
             [
              0.6274509803921569,
              "rgb(236,76,61)"
             ],
             [
              0.6901960784313725,
              "rgb(242,107,73)"
             ],
             [
              0.7529411764705882,
              "rgb(244,135,95)"
             ],
             [
              0.8156862745098039,
              "rgb(245,162,122)"
             ],
             [
              0.8784313725490196,
              "rgb(246,188,153)"
             ],
             [
              0.9411764705882353,
              "rgb(247,212,187)"
             ],
             [
              1,
              "rgb(250,234,220)"
             ]
            ],
            "type": "contour"
           }
          ],
          "contourcarpet": [
           {
            "colorbar": {
             "outlinewidth": 0,
             "tickcolor": "rgb(36,36,36)",
             "ticklen": 8,
             "ticks": "outside",
             "tickwidth": 2
            },
            "type": "contourcarpet"
           }
          ],
          "heatmap": [
           {
            "colorbar": {
             "outlinewidth": 0,
             "tickcolor": "rgb(36,36,36)",
             "ticklen": 8,
             "ticks": "outside",
             "tickwidth": 2
            },
            "colorscale": [
             [
              0,
              "rgb(2,4,25)"
             ],
             [
              0.06274509803921569,
              "rgb(24,15,41)"
             ],
             [
              0.12549019607843137,
              "rgb(47,23,57)"
             ],
             [
              0.18823529411764706,
              "rgb(71,28,72)"
             ],
             [
              0.25098039215686274,
              "rgb(97,30,82)"
             ],
             [
              0.3137254901960784,
              "rgb(123,30,89)"
             ],
             [
              0.3764705882352941,
              "rgb(150,27,91)"
             ],
             [
              0.4392156862745098,
              "rgb(177,22,88)"
             ],
             [
              0.5019607843137255,
              "rgb(203,26,79)"
             ],
             [
              0.5647058823529412,
              "rgb(223,47,67)"
             ],
             [
              0.6274509803921569,
              "rgb(236,76,61)"
             ],
             [
              0.6901960784313725,
              "rgb(242,107,73)"
             ],
             [
              0.7529411764705882,
              "rgb(244,135,95)"
             ],
             [
              0.8156862745098039,
              "rgb(245,162,122)"
             ],
             [
              0.8784313725490196,
              "rgb(246,188,153)"
             ],
             [
              0.9411764705882353,
              "rgb(247,212,187)"
             ],
             [
              1,
              "rgb(250,234,220)"
             ]
            ],
            "type": "heatmap"
           }
          ],
          "heatmapgl": [
           {
            "colorbar": {
             "outlinewidth": 0,
             "tickcolor": "rgb(36,36,36)",
             "ticklen": 8,
             "ticks": "outside",
             "tickwidth": 2
            },
            "colorscale": [
             [
              0,
              "rgb(2,4,25)"
             ],
             [
              0.06274509803921569,
              "rgb(24,15,41)"
             ],
             [
              0.12549019607843137,
              "rgb(47,23,57)"
             ],
             [
              0.18823529411764706,
              "rgb(71,28,72)"
             ],
             [
              0.25098039215686274,
              "rgb(97,30,82)"
             ],
             [
              0.3137254901960784,
              "rgb(123,30,89)"
             ],
             [
              0.3764705882352941,
              "rgb(150,27,91)"
             ],
             [
              0.4392156862745098,
              "rgb(177,22,88)"
             ],
             [
              0.5019607843137255,
              "rgb(203,26,79)"
             ],
             [
              0.5647058823529412,
              "rgb(223,47,67)"
             ],
             [
              0.6274509803921569,
              "rgb(236,76,61)"
             ],
             [
              0.6901960784313725,
              "rgb(242,107,73)"
             ],
             [
              0.7529411764705882,
              "rgb(244,135,95)"
             ],
             [
              0.8156862745098039,
              "rgb(245,162,122)"
             ],
             [
              0.8784313725490196,
              "rgb(246,188,153)"
             ],
             [
              0.9411764705882353,
              "rgb(247,212,187)"
             ],
             [
              1,
              "rgb(250,234,220)"
             ]
            ],
            "type": "heatmapgl"
           }
          ],
          "histogram": [
           {
            "marker": {
             "pattern": {
              "fillmode": "overlay",
              "size": 10,
              "solidity": 0.2
             }
            },
            "type": "histogram"
           }
          ],
          "histogram2d": [
           {
            "colorbar": {
             "outlinewidth": 0,
             "tickcolor": "rgb(36,36,36)",
             "ticklen": 8,
             "ticks": "outside",
             "tickwidth": 2
            },
            "colorscale": [
             [
              0,
              "rgb(2,4,25)"
             ],
             [
              0.06274509803921569,
              "rgb(24,15,41)"
             ],
             [
              0.12549019607843137,
              "rgb(47,23,57)"
             ],
             [
              0.18823529411764706,
              "rgb(71,28,72)"
             ],
             [
              0.25098039215686274,
              "rgb(97,30,82)"
             ],
             [
              0.3137254901960784,
              "rgb(123,30,89)"
             ],
             [
              0.3764705882352941,
              "rgb(150,27,91)"
             ],
             [
              0.4392156862745098,
              "rgb(177,22,88)"
             ],
             [
              0.5019607843137255,
              "rgb(203,26,79)"
             ],
             [
              0.5647058823529412,
              "rgb(223,47,67)"
             ],
             [
              0.6274509803921569,
              "rgb(236,76,61)"
             ],
             [
              0.6901960784313725,
              "rgb(242,107,73)"
             ],
             [
              0.7529411764705882,
              "rgb(244,135,95)"
             ],
             [
              0.8156862745098039,
              "rgb(245,162,122)"
             ],
             [
              0.8784313725490196,
              "rgb(246,188,153)"
             ],
             [
              0.9411764705882353,
              "rgb(247,212,187)"
             ],
             [
              1,
              "rgb(250,234,220)"
             ]
            ],
            "type": "histogram2d"
           }
          ],
          "histogram2dcontour": [
           {
            "colorbar": {
             "outlinewidth": 0,
             "tickcolor": "rgb(36,36,36)",
             "ticklen": 8,
             "ticks": "outside",
             "tickwidth": 2
            },
            "colorscale": [
             [
              0,
              "rgb(2,4,25)"
             ],
             [
              0.06274509803921569,
              "rgb(24,15,41)"
             ],
             [
              0.12549019607843137,
              "rgb(47,23,57)"
             ],
             [
              0.18823529411764706,
              "rgb(71,28,72)"
             ],
             [
              0.25098039215686274,
              "rgb(97,30,82)"
             ],
             [
              0.3137254901960784,
              "rgb(123,30,89)"
             ],
             [
              0.3764705882352941,
              "rgb(150,27,91)"
             ],
             [
              0.4392156862745098,
              "rgb(177,22,88)"
             ],
             [
              0.5019607843137255,
              "rgb(203,26,79)"
             ],
             [
              0.5647058823529412,
              "rgb(223,47,67)"
             ],
             [
              0.6274509803921569,
              "rgb(236,76,61)"
             ],
             [
              0.6901960784313725,
              "rgb(242,107,73)"
             ],
             [
              0.7529411764705882,
              "rgb(244,135,95)"
             ],
             [
              0.8156862745098039,
              "rgb(245,162,122)"
             ],
             [
              0.8784313725490196,
              "rgb(246,188,153)"
             ],
             [
              0.9411764705882353,
              "rgb(247,212,187)"
             ],
             [
              1,
              "rgb(250,234,220)"
             ]
            ],
            "type": "histogram2dcontour"
           }
          ],
          "mesh3d": [
           {
            "colorbar": {
             "outlinewidth": 0,
             "tickcolor": "rgb(36,36,36)",
             "ticklen": 8,
             "ticks": "outside",
             "tickwidth": 2
            },
            "type": "mesh3d"
           }
          ],
          "parcoords": [
           {
            "line": {
             "colorbar": {
              "outlinewidth": 0,
              "tickcolor": "rgb(36,36,36)",
              "ticklen": 8,
              "ticks": "outside",
              "tickwidth": 2
             }
            },
            "type": "parcoords"
           }
          ],
          "pie": [
           {
            "automargin": true,
            "type": "pie"
           }
          ],
          "scatter": [
           {
            "fillpattern": {
             "fillmode": "overlay",
             "size": 10,
             "solidity": 0.2
            },
            "type": "scatter"
           }
          ],
          "scatter3d": [
           {
            "line": {
             "colorbar": {
              "outlinewidth": 0,
              "tickcolor": "rgb(36,36,36)",
              "ticklen": 8,
              "ticks": "outside",
              "tickwidth": 2
             }
            },
            "marker": {
             "colorbar": {
              "outlinewidth": 0,
              "tickcolor": "rgb(36,36,36)",
              "ticklen": 8,
              "ticks": "outside",
              "tickwidth": 2
             }
            },
            "type": "scatter3d"
           }
          ],
          "scattercarpet": [
           {
            "marker": {
             "colorbar": {
              "outlinewidth": 0,
              "tickcolor": "rgb(36,36,36)",
              "ticklen": 8,
              "ticks": "outside",
              "tickwidth": 2
             }
            },
            "type": "scattercarpet"
           }
          ],
          "scattergeo": [
           {
            "marker": {
             "colorbar": {
              "outlinewidth": 0,
              "tickcolor": "rgb(36,36,36)",
              "ticklen": 8,
              "ticks": "outside",
              "tickwidth": 2
             }
            },
            "type": "scattergeo"
           }
          ],
          "scattergl": [
           {
            "marker": {
             "colorbar": {
              "outlinewidth": 0,
              "tickcolor": "rgb(36,36,36)",
              "ticklen": 8,
              "ticks": "outside",
              "tickwidth": 2
             }
            },
            "type": "scattergl"
           }
          ],
          "scattermapbox": [
           {
            "marker": {
             "colorbar": {
              "outlinewidth": 0,
              "tickcolor": "rgb(36,36,36)",
              "ticklen": 8,
              "ticks": "outside",
              "tickwidth": 2
             }
            },
            "type": "scattermapbox"
           }
          ],
          "scatterpolar": [
           {
            "marker": {
             "colorbar": {
              "outlinewidth": 0,
              "tickcolor": "rgb(36,36,36)",
              "ticklen": 8,
              "ticks": "outside",
              "tickwidth": 2
             }
            },
            "type": "scatterpolar"
           }
          ],
          "scatterpolargl": [
           {
            "marker": {
             "colorbar": {
              "outlinewidth": 0,
              "tickcolor": "rgb(36,36,36)",
              "ticklen": 8,
              "ticks": "outside",
              "tickwidth": 2
             }
            },
            "type": "scatterpolargl"
           }
          ],
          "scatterternary": [
           {
            "marker": {
             "colorbar": {
              "outlinewidth": 0,
              "tickcolor": "rgb(36,36,36)",
              "ticklen": 8,
              "ticks": "outside",
              "tickwidth": 2
             }
            },
            "type": "scatterternary"
           }
          ],
          "surface": [
           {
            "colorbar": {
             "outlinewidth": 0,
             "tickcolor": "rgb(36,36,36)",
             "ticklen": 8,
             "ticks": "outside",
             "tickwidth": 2
            },
            "colorscale": [
             [
              0,
              "rgb(2,4,25)"
             ],
             [
              0.06274509803921569,
              "rgb(24,15,41)"
             ],
             [
              0.12549019607843137,
              "rgb(47,23,57)"
             ],
             [
              0.18823529411764706,
              "rgb(71,28,72)"
             ],
             [
              0.25098039215686274,
              "rgb(97,30,82)"
             ],
             [
              0.3137254901960784,
              "rgb(123,30,89)"
             ],
             [
              0.3764705882352941,
              "rgb(150,27,91)"
             ],
             [
              0.4392156862745098,
              "rgb(177,22,88)"
             ],
             [
              0.5019607843137255,
              "rgb(203,26,79)"
             ],
             [
              0.5647058823529412,
              "rgb(223,47,67)"
             ],
             [
              0.6274509803921569,
              "rgb(236,76,61)"
             ],
             [
              0.6901960784313725,
              "rgb(242,107,73)"
             ],
             [
              0.7529411764705882,
              "rgb(244,135,95)"
             ],
             [
              0.8156862745098039,
              "rgb(245,162,122)"
             ],
             [
              0.8784313725490196,
              "rgb(246,188,153)"
             ],
             [
              0.9411764705882353,
              "rgb(247,212,187)"
             ],
             [
              1,
              "rgb(250,234,220)"
             ]
            ],
            "type": "surface"
           }
          ],
          "table": [
           {
            "cells": {
             "fill": {
              "color": "rgb(231,231,240)"
             },
             "line": {
              "color": "white"
             }
            },
            "header": {
             "fill": {
              "color": "rgb(183,183,191)"
             },
             "line": {
              "color": "white"
             }
            },
            "type": "table"
           }
          ]
         },
         "layout": {
          "annotationdefaults": {
           "arrowcolor": "rgb(67,103,167)"
          },
          "autotypenumbers": "strict",
          "coloraxis": {
           "colorbar": {
            "outlinewidth": 0,
            "tickcolor": "rgb(36,36,36)",
            "ticklen": 8,
            "ticks": "outside",
            "tickwidth": 2
           }
          },
          "colorscale": {
           "sequential": [
            [
             0,
             "rgb(2,4,25)"
            ],
            [
             0.06274509803921569,
             "rgb(24,15,41)"
            ],
            [
             0.12549019607843137,
             "rgb(47,23,57)"
            ],
            [
             0.18823529411764706,
             "rgb(71,28,72)"
            ],
            [
             0.25098039215686274,
             "rgb(97,30,82)"
            ],
            [
             0.3137254901960784,
             "rgb(123,30,89)"
            ],
            [
             0.3764705882352941,
             "rgb(150,27,91)"
            ],
            [
             0.4392156862745098,
             "rgb(177,22,88)"
            ],
            [
             0.5019607843137255,
             "rgb(203,26,79)"
            ],
            [
             0.5647058823529412,
             "rgb(223,47,67)"
            ],
            [
             0.6274509803921569,
             "rgb(236,76,61)"
            ],
            [
             0.6901960784313725,
             "rgb(242,107,73)"
            ],
            [
             0.7529411764705882,
             "rgb(244,135,95)"
            ],
            [
             0.8156862745098039,
             "rgb(245,162,122)"
            ],
            [
             0.8784313725490196,
             "rgb(246,188,153)"
            ],
            [
             0.9411764705882353,
             "rgb(247,212,187)"
            ],
            [
             1,
             "rgb(250,234,220)"
            ]
           ],
           "sequentialminus": [
            [
             0,
             "rgb(2,4,25)"
            ],
            [
             0.06274509803921569,
             "rgb(24,15,41)"
            ],
            [
             0.12549019607843137,
             "rgb(47,23,57)"
            ],
            [
             0.18823529411764706,
             "rgb(71,28,72)"
            ],
            [
             0.25098039215686274,
             "rgb(97,30,82)"
            ],
            [
             0.3137254901960784,
             "rgb(123,30,89)"
            ],
            [
             0.3764705882352941,
             "rgb(150,27,91)"
            ],
            [
             0.4392156862745098,
             "rgb(177,22,88)"
            ],
            [
             0.5019607843137255,
             "rgb(203,26,79)"
            ],
            [
             0.5647058823529412,
             "rgb(223,47,67)"
            ],
            [
             0.6274509803921569,
             "rgb(236,76,61)"
            ],
            [
             0.6901960784313725,
             "rgb(242,107,73)"
            ],
            [
             0.7529411764705882,
             "rgb(244,135,95)"
            ],
            [
             0.8156862745098039,
             "rgb(245,162,122)"
            ],
            [
             0.8784313725490196,
             "rgb(246,188,153)"
            ],
            [
             0.9411764705882353,
             "rgb(247,212,187)"
            ],
            [
             1,
             "rgb(250,234,220)"
            ]
           ]
          },
          "colorway": [
           "rgb(76,114,176)",
           "rgb(221,132,82)",
           "rgb(85,168,104)",
           "rgb(196,78,82)",
           "rgb(129,114,179)",
           "rgb(147,120,96)",
           "rgb(218,139,195)",
           "rgb(140,140,140)",
           "rgb(204,185,116)",
           "rgb(100,181,205)"
          ],
          "font": {
           "color": "rgb(36,36,36)"
          },
          "geo": {
           "bgcolor": "white",
           "lakecolor": "white",
           "landcolor": "rgb(234,234,242)",
           "showlakes": true,
           "showland": true,
           "subunitcolor": "white"
          },
          "hoverlabel": {
           "align": "left"
          },
          "hovermode": "closest",
          "paper_bgcolor": "white",
          "plot_bgcolor": "rgb(234,234,242)",
          "polar": {
           "angularaxis": {
            "gridcolor": "white",
            "linecolor": "white",
            "showgrid": true,
            "ticks": ""
           },
           "bgcolor": "rgb(234,234,242)",
           "radialaxis": {
            "gridcolor": "white",
            "linecolor": "white",
            "showgrid": true,
            "ticks": ""
           }
          },
          "scene": {
           "xaxis": {
            "backgroundcolor": "rgb(234,234,242)",
            "gridcolor": "white",
            "gridwidth": 2,
            "linecolor": "white",
            "showbackground": true,
            "showgrid": true,
            "ticks": "",
            "zerolinecolor": "white"
           },
           "yaxis": {
            "backgroundcolor": "rgb(234,234,242)",
            "gridcolor": "white",
            "gridwidth": 2,
            "linecolor": "white",
            "showbackground": true,
            "showgrid": true,
            "ticks": "",
            "zerolinecolor": "white"
           },
           "zaxis": {
            "backgroundcolor": "rgb(234,234,242)",
            "gridcolor": "white",
            "gridwidth": 2,
            "linecolor": "white",
            "showbackground": true,
            "showgrid": true,
            "ticks": "",
            "zerolinecolor": "white"
           }
          },
          "shapedefaults": {
           "fillcolor": "rgb(67,103,167)",
           "line": {
            "width": 0
           },
           "opacity": 0.5
          },
          "ternary": {
           "aaxis": {
            "gridcolor": "white",
            "linecolor": "white",
            "showgrid": true,
            "ticks": ""
           },
           "baxis": {
            "gridcolor": "white",
            "linecolor": "white",
            "showgrid": true,
            "ticks": ""
           },
           "bgcolor": "rgb(234,234,242)",
           "caxis": {
            "gridcolor": "white",
            "linecolor": "white",
            "showgrid": true,
            "ticks": ""
           }
          },
          "xaxis": {
           "automargin": true,
           "gridcolor": "white",
           "linecolor": "white",
           "showgrid": true,
           "ticks": "",
           "title": {
            "standoff": 15
           },
           "zerolinecolor": "white"
          },
          "yaxis": {
           "automargin": true,
           "gridcolor": "white",
           "linecolor": "white",
           "showgrid": true,
           "ticks": "",
           "title": {
            "standoff": 15
           },
           "zerolinecolor": "white"
          }
         }
        },
        "title": {
         "text": "Citation distribution per topic"
        },
        "xaxis": {
         "anchor": "y",
         "domain": [
          0,
          1
         ],
         "title": {
          "text": "Topic"
         }
        },
        "yaxis": {
         "anchor": "x",
         "domain": [
          0,
          1
         ],
         "title": {
          "text": "Number of citations"
         }
        }
       }
      }
     },
     "metadata": {},
     "output_type": "display_data"
    }
   ],
   "source": [
    "# explore citation distribution per topic\n",
    "fig = px.box(core_pubs, x=\"Topic\", y=\"times_cited\", title=\"Citation distribution per topic\", points=\"all\", height=450)\n",
    "fig.update_layout(xaxis_title=\"Topic\", yaxis_title=\"Number of citations\")\n",
    "fig.show()"
   ]
  },
  {
   "cell_type": "code",
   "execution_count": 66,
   "metadata": {},
   "outputs": [
    {
     "data": {
      "application/vnd.plotly.v1+json": {
       "config": {
        "plotlyServerURL": "https://plot.ly"
       },
       "data": [
        {
         "alignmentgroup": "True",
         "boxpoints": "all",
         "hovertemplate": "Topic=%{x}<br>year=%{y}<extra></extra>",
         "legendgroup": "",
         "marker": {
          "color": "rgb(76,114,176)"
         },
         "name": "",
         "notched": false,
         "offsetgroup": "",
         "orientation": "v",
         "showlegend": false,
         "type": "box",
         "x": [
          "Synthetic Biology (2012)",
          "Synthetic Biology (2012)",
          "Synthetic Biology (2012)",
          "Synthetic Biology (2012)",
          "Synthetic Biology (2012)",
          "Synthetic Biology (2012)",
          "Synthetic Biology (2012)",
          "Synthetic Biology (2012)",
          "Synthetic Biology (2012)",
          "Synthetic Biology (2012)",
          "Synthetic Biology (2012)",
          "Synthetic Biology (2012)",
          "Synthetic Biology (2012)",
          "Synthetic Biology (2012)",
          "Synthetic Biology (2012)",
          "Synthetic Biology (2012)",
          "Synthetic Biology (2012)",
          "Synthetic Biology (2012)",
          "Synthetic Biology (2012)",
          "Synthetic Biology (2012)",
          "Synthetic Biology (2012)",
          "Synthetic Biology (2012)",
          "Synthetic Biology (2012)",
          "Synthetic Biology (2012)",
          "Synthetic Biology (2012)",
          "Synthetic Biology (2012)",
          "Synthetic Biology (2012)",
          "Synthetic Biology (2012)",
          "Synthetic Biology (2012)",
          "Resilience in Business and management (2015)",
          "Resilience in Business and management (2015)",
          "Resilience in Business and management (2015)",
          "Resilience in Business and management (2015)",
          "Resilience in Business and management (2015)",
          "Resilience in Business and management (2015)",
          "Resilience in Business and management (2015)",
          "Resilience in Business and management (2015)",
          "Resilience in Business and management (2015)",
          "Resilience in Business and management (2015)",
          "Resilience in Business and management (2015)",
          "Resilience in Business and management (2015)",
          "Resilience in Business and management (2015)",
          "Resilience in Business and management (2015)",
          "Resilience in Business and management (2015)",
          "Resilience in Business and management (2015)",
          "Resilience in Business and management (2015)",
          "Resilience in Business and management (2015)",
          "Resilience in Business and management (2015)",
          "Resilience in Business and management (2015)",
          "Resilience in Business and management (2015)",
          "Resilience in Business and management (2015)",
          "Resilience in Business and management (2015)",
          "Resilience in Business and management (2015)",
          "Resilience in Business and management (2015)",
          "Resilience in Business and management (2015)",
          "Resilience in Business and management (2015)",
          "Cervical Myelopathy (2018)",
          "Cervical Myelopathy (2018)",
          "Cervical Myelopathy (2018)",
          "Cervical Myelopathy (2018)",
          "Cervical Myelopathy (2018)",
          "Cervical Myelopathy (2018)",
          "Cervical Myelopathy (2018)",
          "Cervical Myelopathy (2018)",
          "Cervical Myelopathy (2018)",
          "Cervical Myelopathy (2018)",
          "Cervical Myelopathy (2018)",
          "Cervical Myelopathy (2018)",
          "Cervical Myelopathy (2018)",
          "Cervical Myelopathy (2018)",
          "Cervical Myelopathy (2018)",
          "Cervical Myelopathy (2018)",
          "Cervical Myelopathy (2018)",
          "Cervical Myelopathy (2018)",
          "Cervical Myelopathy (2018)",
          "Cervical Myelopathy (2018)",
          "Cervical Myelopathy (2018)",
          "Cervical Myelopathy (2018)",
          "Cervical Myelopathy (2018)",
          "Cervical Myelopathy (2018)",
          "Cervical Myelopathy (2018)",
          "Cervical Myelopathy (2018)",
          "Cervical Myelopathy (2018)",
          "Cervical Myelopathy (2018)",
          "Cervical Myelopathy (2018)",
          "Cervical Myelopathy (2018)",
          "Cervical Myelopathy (2018)",
          "Cervical Myelopathy (2018)",
          "Cervical Myelopathy (2018)",
          "Cervical Myelopathy (2018)",
          "Cervical Myelopathy (2018)",
          "Cervical Myelopathy (2018)",
          "Cervical Myelopathy (2018)",
          "Cervical Myelopathy (2018)",
          "Cervical Myelopathy (2018)",
          "Cervical Myelopathy (2018)",
          "Cervical Myelopathy (2018)",
          "Cervical Myelopathy (2018)",
          "Cervical Myelopathy (2018)",
          "Cervical Myelopathy (2018)",
          "Cervical Myelopathy (2018)",
          "Cervical Myelopathy (2018)",
          "Cervical Myelopathy (2018)",
          "Drones in Agriculture (2022)",
          "Drones in Agriculture (2022)",
          "Drones in Agriculture (2022)",
          "Drones in Agriculture (2022)",
          "Drones in Agriculture (2022)",
          "Drones in Agriculture (2022)",
          "Drones in Agriculture (2022)",
          "Drones in Agriculture (2022)",
          "Drones in Agriculture (2022)",
          "Drones in Agriculture (2022)",
          "Drones in Agriculture (2022)",
          "Drones in Agriculture (2022)",
          "Drones in Agriculture (2022)",
          "Drones in Agriculture (2022)",
          "Drones in Agriculture (2022)",
          "Drones in Agriculture (2022)",
          "Drones in Agriculture (2022)",
          "Drones in Agriculture (2022)",
          "Drones in Agriculture (2022)",
          "Drones in Agriculture (2022)",
          "Drones in Agriculture (2022)",
          "Drones in Agriculture (2022)",
          "Drones in Agriculture (2022)",
          "Drones in Agriculture (2022)",
          "Drones in Agriculture (2022)",
          "Robotic Arthroplasty (2023)",
          "Robotic Arthroplasty (2023)",
          "Robotic Arthroplasty (2023)",
          "Robotic Arthroplasty (2023)",
          "Robotic Arthroplasty (2023)",
          "Robotic Arthroplasty (2023)",
          "Robotic Arthroplasty (2023)",
          "Robotic Arthroplasty (2023)",
          "Robotic Arthroplasty (2023)",
          "Robotic Arthroplasty (2023)",
          "Robotic Arthroplasty (2023)",
          "Robotic Arthroplasty (2023)",
          "Robotic Arthroplasty (2023)",
          "Robotic Arthroplasty (2023)",
          "Robotic Arthroplasty (2023)",
          "Robotic Arthroplasty (2023)",
          "Robotic Arthroplasty (2023)",
          "Robotic Arthroplasty (2023)",
          "Robotic Arthroplasty (2023)",
          "Robotic Arthroplasty (2023)",
          "Robotic Arthroplasty (2023)",
          "Robotic Arthroplasty (2023)",
          "Robotic Arthroplasty (2023)",
          "Robotic Arthroplasty (2023)",
          "Robotic Arthroplasty (2023)",
          "Robotic Arthroplasty (2023)",
          "Robotic Arthroplasty (2023)",
          "Robotic Arthroplasty (2023)",
          "Robotic Arthroplasty (2023)",
          "Robotic Arthroplasty (2023)",
          "Robotic Arthroplasty (2023)",
          "Robotic Arthroplasty (2023)",
          "Robotic Arthroplasty (2023)",
          "Robotic Arthroplasty (2023)",
          "Robotic Arthroplasty (2023)",
          "Robotic Arthroplasty (2023)",
          "Robotic Arthroplasty (2023)",
          "Robotic Arthroplasty (2023)",
          "Robotic Arthroplasty (2023)",
          "Robotic Arthroplasty (2023)",
          "Robotic Arthroplasty (2023)",
          "Robotic Arthroplasty (2023)",
          "Robotic Arthroplasty (2023)",
          "Robotic Arthroplasty (2023)",
          "Robotic Arthroplasty (2023)",
          "Robotic Arthroplasty (2023)",
          "Robotic Arthroplasty (2023)",
          "Soft Robotics (2018)",
          "Soft Robotics (2018)",
          "Soft Robotics (2018)",
          "Soft Robotics (2018)",
          "Soft Robotics (2018)",
          "Soft Robotics (2018)",
          "Soft Robotics (2018)",
          "Soft Robotics (2018)",
          "Soft Robotics (2018)",
          "Soft Robotics (2018)",
          "Soft Robotics (2018)",
          "Soft Robotics (2018)",
          "Soft Robotics (2018)",
          "Soft Robotics (2018)",
          "Soft Robotics (2018)",
          "Soft Robotics (2018)",
          "Soft Robotics (2018)",
          "Soft Robotics (2018)",
          "Soft Robotics (2018)",
          "Soft Robotics (2018)",
          "Soft Robotics (2018)",
          "Soft Robotics (2018)",
          "Soft Robotics (2018)",
          "Soft Robotics (2018)",
          "Soft Robotics (2018)",
          "Soft Robotics (2018)",
          "Soft Robotics (2018)",
          "Soft Robotics (2018)",
          "Soft Robotics (2018)",
          "Soft Robotics (2018)",
          "Soft Robotics (2018)",
          "Soft Robotics (2018)",
          "Soft Robotics (2018)",
          "Soft Robotics (2018)",
          "Soft Robotics (2018)",
          "Soft Robotics (2018)",
          "Tourism Growth Nexus (2020)",
          "Tourism Growth Nexus (2020)",
          "Tourism Growth Nexus (2020)",
          "Tourism Growth Nexus (2020)",
          "Tourism Growth Nexus (2020)",
          "Tourism Growth Nexus (2020)",
          "Tourism Growth Nexus (2020)",
          "Tourism Growth Nexus (2020)",
          "Tourism Growth Nexus (2020)",
          "Tourism Growth Nexus (2020)",
          "Tourism Growth Nexus (2020)",
          "Tourism Growth Nexus (2020)",
          "Tourism Growth Nexus (2020)",
          "Tourism Growth Nexus (2020)",
          "Tourism Growth Nexus (2020)",
          "Tourism Growth Nexus (2020)",
          "Tourism Growth Nexus (2020)",
          "Tourism Growth Nexus (2020)",
          "Tourism Growth Nexus (2020)",
          "Tourism Growth Nexus (2020)",
          "Tourism Growth Nexus (2020)",
          "Tourism Growth Nexus (2020)",
          "Tourism Growth Nexus (2020)",
          "Tourism Growth Nexus (2020)",
          "Tourism Growth Nexus (2020)",
          "Sustainable Biofuel (2023)",
          "Sustainable Biofuel (2023)",
          "Sustainable Biofuel (2023)",
          "Sustainable Biofuel (2023)",
          "Sustainable Biofuel (2023)",
          "Sustainable Biofuel (2023)",
          "Sustainable Biofuel (2023)",
          "Sustainable Biofuel (2023)",
          "Sustainable Biofuel (2023)",
          "Sustainable Biofuel (2023)",
          "Sustainable Biofuel (2023)",
          "Sustainable Biofuel (2023)",
          "Sustainable Biofuel (2023)",
          "Sustainable Biofuel (2023)",
          "Sustainable Biofuel (2023)",
          "Sustainable Biofuel (2023)",
          "Sustainable Biofuel (2023)",
          "Sustainable Biofuel (2023)",
          "Sustainable Biofuel (2023)",
          "Sustainable Biofuel (2023)",
          "Sustainable Biofuel (2023)",
          "Sustainable Biofuel (2023)",
          "Sustainable Biofuel (2023)",
          "Sustainable Biofuel (2023)",
          "Sustainable Biofuel (2023)",
          "Sustainable Biofuel (2023)",
          "Sustainable Biofuel (2023)",
          "Sustainable Biofuel (2023)",
          "Sustainable Biofuel (2023)",
          "Sustainable Biofuel (2023)",
          "Sustainable Biofuel (2023)",
          "Sustainable Biofuel (2023)",
          "Sustainable Biofuel (2023)",
          "Sustainable Biofuel (2023)",
          "Sustainable Biofuel (2023)",
          "Sustainable Biofuel (2023)",
          "Sustainable Biofuel (2023)",
          "Sustainable Biofuel (2023)",
          "Sustainable Biofuel (2023)",
          "Sustainable Biofuel (2023)",
          "Sustainable Biofuel (2023)",
          "Sustainable Biofuel (2023)",
          "Sustainable Biofuel (2023)",
          "Sustainable Biofuel (2023)",
          "Sustainable Biofuel (2023)",
          "Sustainable Biofuel (2023)",
          "Sustainable Biofuel (2023)",
          "Sustainable Biofuel (2023)",
          "Sustainable Biofuel (2023)",
          "Sustainable Biofuel (2023)",
          "Nanoparticles (2020)",
          "Nanoparticles (2020)",
          "Nanoparticles (2020)",
          "Nanoparticles (2020)",
          "Nanoparticles (2020)",
          "Nanoparticles (2020)",
          "Nanoparticles (2020)",
          "Nanoparticles (2020)",
          "Nanoparticles (2020)",
          "Nanoparticles (2020)",
          "Nanoparticles (2020)",
          "Nanoparticles (2020)",
          "Nanoparticles (2020)",
          "Nanoparticles (2020)",
          "Nanoparticles (2020)",
          "Nanoparticles (2020)",
          "Nanoparticles (2020)",
          "Nanoparticles (2020)",
          "Nanoparticles (2020)",
          "Nanoparticles (2020)",
          "Nanoparticles (2020)",
          "Nanoparticles (2020)",
          "Nanoparticles (2020)",
          "Nanoparticles (2020)",
          "Nanoparticles (2020)",
          "Nanoparticles (2020)",
          "Nanoparticles (2020)",
          "Nanoparticles (2020)",
          "Nanoparticles (2020)",
          "Nanoparticles (2020)",
          "Nanoparticles (2020)",
          "Nanoparticles (2020)",
          "Nanoparticles (2020)",
          "Nanoparticles (2020)",
          "Nanoparticles (2020)",
          "Nanoparticles (2020)",
          "Nanoparticles (2020)",
          "Nanoparticles (2020)",
          "Nanoparticles (2020)",
          "Nanoparticles (2020)",
          "Nanoparticles (2020)",
          "Nanoparticles (2020)",
          "Nanoparticles (2020)",
          "Nanoparticles (2020)",
          "Nanoparticles (2020)",
          "Nanoparticles (2020)",
          "Nanoparticles (2020)",
          "Nanoparticles (2020)",
          "Nanoparticles (2020)",
          "Nanoparticles (2020)",
          "Perovskite Solar Cells Stability (2024)",
          "Perovskite Solar Cells Stability (2024)",
          "Perovskite Solar Cells Stability (2024)",
          "Perovskite Solar Cells Stability (2024)",
          "Perovskite Solar Cells Stability (2024)",
          "Perovskite Solar Cells Stability (2024)",
          "Perovskite Solar Cells Stability (2024)",
          "Perovskite Solar Cells Stability (2024)",
          "Perovskite Solar Cells Stability (2024)",
          "Perovskite Solar Cells Stability (2024)",
          "Perovskite Solar Cells Stability (2024)",
          "Perovskite Solar Cells Stability (2024)",
          "Perovskite Solar Cells Stability (2024)",
          "Perovskite Solar Cells Stability (2024)",
          "Perovskite Solar Cells Stability (2024)",
          "Perovskite Solar Cells Stability (2024)",
          "Perovskite Solar Cells Stability (2024)",
          "Perovskite Solar Cells Stability (2024)",
          "Perovskite Solar Cells Stability (2024)",
          "Perovskite Solar Cells Stability (2024)",
          "Perovskite Solar Cells Stability (2024)",
          "Perovskite Solar Cells Stability (2024)",
          "Perovskite Solar Cells Stability (2024)",
          "Perovskite Solar Cells Stability (2024)",
          "Perovskite Solar Cells Stability (2024)",
          "Perovskite Solar Cells Stability (2024)",
          "Perovskite Solar Cells Stability (2024)",
          "Perovskite Solar Cells Stability (2024)",
          "Perovskite Solar Cells Stability (2024)",
          "Energy Growth Nexus (2010)",
          "Energy Growth Nexus (2010)",
          "Energy Growth Nexus (2010)",
          "Energy Growth Nexus (2010)",
          "Energy Growth Nexus (2010)",
          "Energy Growth Nexus (2010)",
          "Energy Growth Nexus (2010)",
          "Energy Growth Nexus (2010)",
          "Energy Growth Nexus (2010)",
          "Energy Growth Nexus (2010)",
          "Energy Growth Nexus (2010)",
          "Energy Growth Nexus (2010)",
          "Energy Growth Nexus (2010)",
          "Energy Growth Nexus (2010)",
          "Energy Growth Nexus (2010)",
          "Energy Growth Nexus (2010)",
          "Energy Growth Nexus (2010)",
          "Energy Growth Nexus (2010)",
          "Energy Growth Nexus (2010)",
          "Energy Growth Nexus (2010)",
          "Energy Growth Nexus (2010)",
          "Energy Growth Nexus (2010)",
          "Energy Growth Nexus (2010)",
          "Energy Growth Nexus (2010)",
          "Energy Growth Nexus (2010)",
          "Energy Growth Nexus (2010)",
          "Energy Growth Nexus (2010)",
          "Green Warehousing (2023)",
          "Green Warehousing (2023)",
          "Green Warehousing (2023)",
          "Green Warehousing (2023)",
          "Green Warehousing (2023)",
          "Green Warehousing (2023)",
          "Green Warehousing (2023)",
          "Green Warehousing (2023)",
          "Green Warehousing (2023)",
          "Green Warehousing (2023)",
          "Green Warehousing (2023)",
          "Green Warehousing (2023)",
          "Green Warehousing (2023)",
          "Green Warehousing (2023)",
          "Green Warehousing (2023)",
          "Green Warehousing (2023)",
          "Green Warehousing (2023)",
          "Green Warehousing (2023)",
          "Green Warehousing (2023)",
          "Green Warehousing (2023)",
          "Green Warehousing (2023)",
          "Green Warehousing (2023)",
          "Green Warehousing (2023)",
          "Green Warehousing (2023)",
          "Green Warehousing (2023)",
          "Green Warehousing (2023)",
          "Green Warehousing (2023)",
          "Green Warehousing (2023)",
          "Green Warehousing (2023)",
          "Green Warehousing (2023)",
          "Green Warehousing (2023)",
          "Green Warehousing (2023)",
          "Green Warehousing (2023)",
          "Green Warehousing (2023)",
          "Green Warehousing (2023)",
          "Green Warehousing (2023)",
          "Green Warehousing (2023)",
          "Green Warehousing (2023)",
          "Internet of Things in Healthcare (2018)",
          "Internet of Things in Healthcare (2018)",
          "Internet of Things in Healthcare (2018)",
          "Internet of Things in Healthcare (2018)",
          "Internet of Things in Healthcare (2018)",
          "Internet of Things in Healthcare (2018)",
          "Internet of Things in Healthcare (2018)",
          "Internet of Things in Healthcare (2018)",
          "Internet of Things in Healthcare (2018)",
          "Internet of Things in Healthcare (2018)",
          "Internet of Things in Healthcare (2018)",
          "Internet of Things in Healthcare (2018)",
          "Internet of Things in Healthcare (2018)",
          "Internet of Things in Healthcare (2018)",
          "Internet of Things in Healthcare (2018)",
          "Internet of Things in Healthcare (2018)",
          "Internet of Things in Healthcare (2018)",
          "Internet of Things in Healthcare (2018)",
          "Internet of Things in Healthcare (2018)",
          "Internet of Things in Healthcare (2018)",
          "Internet of Things in Healthcare (2018)",
          "Internet of Things in Healthcare (2018)",
          "Internet of Things in Healthcare (2018)",
          "Internet of Things in Healthcare (2018)",
          "Internet of Things in Healthcare (2018)",
          "Internet of Things in Healthcare (2018)",
          "Internet of Things in Healthcare (2018)",
          "Internet of Things in Healthcare (2018)",
          "Internet of Things in Healthcare (2018)",
          "AI on Edge Devices (2022)",
          "AI on Edge Devices (2022)",
          "AI on Edge Devices (2022)",
          "AI on Edge Devices (2022)",
          "AI on Edge Devices (2022)",
          "AI on Edge Devices (2022)",
          "AI on Edge Devices (2022)",
          "AI on Edge Devices (2022)",
          "AI on Edge Devices (2022)",
          "AI on Edge Devices (2022)",
          "AI on Edge Devices (2022)",
          "AI on Edge Devices (2022)",
          "AI on Edge Devices (2022)",
          "AI on Edge Devices (2022)",
          "AI on Edge Devices (2022)",
          "AI on Edge Devices (2022)",
          "AI on Edge Devices (2022)",
          "AI on Edge Devices (2022)",
          "AI on Edge Devices (2022)",
          "AI on Edge Devices (2022)",
          "AI on Edge Devices (2022)",
          "AI on Edge Devices (2022)",
          "AI on Edge Devices (2022)",
          "AI on Edge Devices (2022)",
          "AI on Edge Devices (2022)",
          "AI on Edge Devices (2022)",
          "AI on Edge Devices (2022)",
          "AI on Edge Devices (2022)",
          "AI on Edge Devices (2022)",
          "AI on Edge Devices (2022)",
          "AI on Edge Devices (2022)",
          "AI on Edge Devices (2022)",
          "AI on Edge Devices (2022)",
          "AI on Edge Devices (2022)",
          "AI on Edge Devices (2022)",
          "AI on Edge Devices (2022)",
          "Crop Yield Prediction (2020)",
          "Crop Yield Prediction (2020)",
          "Crop Yield Prediction (2020)",
          "Crop Yield Prediction (2020)",
          "Crop Yield Prediction (2020)",
          "Crop Yield Prediction (2020)",
          "Crop Yield Prediction (2020)",
          "Crop Yield Prediction (2020)",
          "Crop Yield Prediction (2020)",
          "Crop Yield Prediction (2020)",
          "Crop Yield Prediction (2020)",
          "Crop Yield Prediction (2020)",
          "Crop Yield Prediction (2020)",
          "Crop Yield Prediction (2020)",
          "Crop Yield Prediction (2020)",
          "Crop Yield Prediction (2020)",
          "Crop Yield Prediction (2020)",
          "Crop Yield Prediction (2020)",
          "Crop Yield Prediction (2020)",
          "Crop Yield Prediction (2020)",
          "Crop Yield Prediction (2020)",
          "Crop Yield Prediction (2020)",
          "Crop Yield Prediction (2020)",
          "Crop Yield Prediction (2020)",
          "Crop Yield Prediction (2020)",
          "Crop Yield Prediction (2020)",
          "Crop Yield Prediction (2020)",
          "Crop Yield Prediction (2020)",
          "Crop Yield Prediction (2020)",
          "Crop Yield Prediction (2020)",
          "Crop Yield Prediction (2020)",
          "Crop Yield Prediction (2020)",
          "Crop Yield Prediction (2020)",
          "Crop Yield Prediction (2020)",
          "Crop Yield Prediction (2020)",
          "Crop Yield Prediction (2020)",
          "Crop Yield Prediction (2020)",
          "Crop Yield Prediction (2020)",
          "Crop Yield Prediction (2020)",
          "Crop Yield Prediction (2020)",
          "Crop Yield Prediction (2020)",
          "Crop Yield Prediction (2020)",
          "Crop Yield Prediction (2020)",
          "Crop Yield Prediction (2020)",
          "Crop Yield Prediction (2020)",
          "Crop Yield Prediction (2020)"
         ],
         "x0": " ",
         "xaxis": "x",
         "y": [
          2004,
          2002,
          2003,
          2008,
          2005,
          2000,
          2000,
          2005,
          2006,
          2008,
          2005,
          2005,
          2002,
          2006,
          2003,
          2009,
          2002,
          2004,
          2000,
          2002,
          2004,
          2002,
          2005,
          2008,
          2009,
          2010,
          2004,
          2009,
          2005,
          1982,
          1981,
          1993,
          1993,
          2002,
          2002,
          2002,
          2002,
          2005,
          2004,
          2003,
          2006,
          2006,
          2006,
          2007,
          2007,
          2007,
          2007,
          2008,
          2008,
          2009,
          2009,
          2009,
          2010,
          2011,
          2010,
          2010,
          1994,
          2004,
          1998,
          1993,
          2007,
          1980,
          1983,
          1999,
          1994,
          1999,
          1999,
          2003,
          1985,
          1993,
          1989,
          1983,
          1985,
          2000,
          2001,
          1990,
          2002,
          2003,
          2002,
          2007,
          1992,
          2000,
          2001,
          1991,
          1997,
          1995,
          1989,
          2003,
          1997,
          2011,
          2006,
          1991,
          2002,
          2001,
          2003,
          2001,
          1985,
          1980,
          2001,
          2003,
          1980,
          1991,
          1996,
          2008,
          2004,
          2010,
          2009,
          2008,
          2009,
          2005,
          2007,
          2010,
          2019,
          2017,
          2015,
          2013,
          2012,
          2009,
          2015,
          2015,
          2015,
          2011,
          2015,
          2013,
          2017,
          2014,
          2014,
          2017,
          2018,
          2016,
          2018,
          2019,
          2014,
          2009,
          2015,
          2017,
          2017,
          2006,
          2017,
          1995,
          2018,
          2015,
          2019,
          2018,
          2016,
          2017,
          2013,
          2018,
          2009,
          2015,
          2017,
          2018,
          2017,
          2013,
          2011,
          2003,
          2007,
          2007,
          2019,
          2013,
          2018,
          2007,
          2011,
          2011,
          2001,
          2009,
          2013,
          2003,
          2013,
          2002,
          2016,
          2016,
          1998,
          2006,
          1998,
          2017,
          2017,
          2017,
          2017,
          2017,
          2016,
          2016,
          2016,
          2016,
          2015,
          2015,
          2015,
          2015,
          2015,
          2014,
          2013,
          2014,
          2014,
          2012,
          2012,
          2012,
          2011,
          2011,
          2010,
          2009,
          2009,
          2008,
          1999,
          2013,
          2008,
          2009,
          2013,
          2010,
          2012,
          2011,
          2007,
          2010,
          2013,
          2013,
          2012,
          2009,
          2015,
          2013,
          2018,
          2009,
          2017,
          2014,
          2011,
          2015,
          2004,
          2011,
          2005,
          2016,
          2015,
          2013,
          2004,
          2009,
          2005,
          2005,
          2002,
          2008,
          2010,
          2007,
          2013,
          2018,
          2012,
          2020,
          2009,
          2014,
          2012,
          2018,
          2012,
          2009,
          2017,
          2018,
          2014,
          2008,
          2019,
          2009,
          2007,
          2010,
          2013,
          2019,
          2010,
          2010,
          2010,
          2014,
          2008,
          2020,
          2009,
          2019,
          2013,
          2009,
          2020,
          2010,
          2019,
          2008,
          2012,
          2018,
          2017,
          2012,
          2009,
          2015,
          2014,
          2015,
          2010,
          2013,
          2007,
          2018,
          2011,
          2009,
          2010,
          2005,
          2004,
          2006,
          2008,
          2012,
          2013,
          1999,
          2006,
          2008,
          2006,
          1999,
          2003,
          2006,
          2009,
          2012,
          2008,
          2012,
          2003,
          2005,
          2006,
          2004,
          2011,
          2002,
          2005,
          2000,
          2002,
          2010,
          2011,
          2009,
          2010,
          2005,
          2006,
          2008,
          2003,
          2007,
          2010,
          2007,
          2002,
          2010,
          2007,
          2007,
          2008,
          2007,
          2010,
          2009,
          2007,
          2004,
          2004,
          2006,
          2023,
          2023,
          2023,
          2024,
          2023,
          2023,
          2023,
          2023,
          2023,
          2023,
          2023,
          2022,
          2022,
          2022,
          2022,
          2023,
          2022,
          2021,
          2021,
          2023,
          2022,
          2022,
          2022,
          2023,
          2022,
          2022,
          2022,
          2022,
          2022,
          2006,
          2013,
          2008,
          2011,
          2000,
          2009,
          2009,
          2010,
          2015,
          2004,
          2010,
          2009,
          2010,
          2013,
          2008,
          2010,
          2008,
          2016,
          2008,
          2000,
          2009,
          2003,
          2007,
          2009,
          2009,
          2020,
          2005,
          2021,
          2020,
          2020,
          2020,
          2020,
          2020,
          2020,
          2020,
          2020,
          2019,
          2019,
          2019,
          2019,
          2018,
          2018,
          2018,
          2018,
          2018,
          2018,
          2017,
          2016,
          2017,
          2016,
          2016,
          2016,
          2015,
          2014,
          2015,
          2015,
          2015,
          2013,
          2013,
          2014,
          2013,
          2011,
          2011,
          2009,
          2008,
          2015,
          2015,
          2016,
          2015,
          2012,
          2015,
          2016,
          2016,
          2014,
          2014,
          2016,
          2014,
          2016,
          2016,
          2014,
          2015,
          2014,
          2014,
          2015,
          2015,
          2016,
          2016,
          2012,
          2015,
          2015,
          2016,
          2016,
          2016,
          2015,
          2020,
          2017,
          2018,
          2018,
          2019,
          2019,
          2018,
          2019,
          2019,
          2020,
          2020,
          2019,
          2019,
          2018,
          2019,
          2020,
          2020,
          2020,
          2019,
          2019,
          2019,
          2019,
          2020,
          2019,
          2019,
          2018,
          2019,
          2019,
          2018,
          2015,
          2018,
          2019,
          2018,
          2019,
          2019,
          2020,
          2018,
          2019,
          2019,
          2019,
          2018,
          2018,
          2018,
          2018,
          2018,
          2018,
          2018,
          2018,
          2018,
          2017,
          2018,
          2016,
          2016,
          2017,
          2017,
          2017,
          2017,
          2016,
          2016,
          2016,
          2016,
          2016,
          2016,
          2016,
          2016,
          2015,
          2015,
          2014,
          2015,
          2014,
          2014,
          2014,
          2014,
          2014,
          2013,
          2013,
          2016,
          2012,
          2011,
          2010,
          2009,
          2008
         ],
         "y0": " ",
         "yaxis": "y"
        }
       ],
       "layout": {
        "boxmode": "group",
        "height": 450,
        "legend": {
         "tracegroupgap": 0
        },
        "template": {
         "data": {
          "bar": [
           {
            "error_x": {
             "color": "rgb(36,36,36)"
            },
            "error_y": {
             "color": "rgb(36,36,36)"
            },
            "marker": {
             "line": {
              "color": "rgb(234,234,242)",
              "width": 0.5
             },
             "pattern": {
              "fillmode": "overlay",
              "size": 10,
              "solidity": 0.2
             }
            },
            "type": "bar"
           }
          ],
          "barpolar": [
           {
            "marker": {
             "line": {
              "color": "rgb(234,234,242)",
              "width": 0.5
             },
             "pattern": {
              "fillmode": "overlay",
              "size": 10,
              "solidity": 0.2
             }
            },
            "type": "barpolar"
           }
          ],
          "carpet": [
           {
            "aaxis": {
             "endlinecolor": "rgb(36,36,36)",
             "gridcolor": "white",
             "linecolor": "white",
             "minorgridcolor": "white",
             "startlinecolor": "rgb(36,36,36)"
            },
            "baxis": {
             "endlinecolor": "rgb(36,36,36)",
             "gridcolor": "white",
             "linecolor": "white",
             "minorgridcolor": "white",
             "startlinecolor": "rgb(36,36,36)"
            },
            "type": "carpet"
           }
          ],
          "choropleth": [
           {
            "colorbar": {
             "outlinewidth": 0,
             "tickcolor": "rgb(36,36,36)",
             "ticklen": 8,
             "ticks": "outside",
             "tickwidth": 2
            },
            "type": "choropleth"
           }
          ],
          "contour": [
           {
            "colorbar": {
             "outlinewidth": 0,
             "tickcolor": "rgb(36,36,36)",
             "ticklen": 8,
             "ticks": "outside",
             "tickwidth": 2
            },
            "colorscale": [
             [
              0,
              "rgb(2,4,25)"
             ],
             [
              0.06274509803921569,
              "rgb(24,15,41)"
             ],
             [
              0.12549019607843137,
              "rgb(47,23,57)"
             ],
             [
              0.18823529411764706,
              "rgb(71,28,72)"
             ],
             [
              0.25098039215686274,
              "rgb(97,30,82)"
             ],
             [
              0.3137254901960784,
              "rgb(123,30,89)"
             ],
             [
              0.3764705882352941,
              "rgb(150,27,91)"
             ],
             [
              0.4392156862745098,
              "rgb(177,22,88)"
             ],
             [
              0.5019607843137255,
              "rgb(203,26,79)"
             ],
             [
              0.5647058823529412,
              "rgb(223,47,67)"
             ],
             [
              0.6274509803921569,
              "rgb(236,76,61)"
             ],
             [
              0.6901960784313725,
              "rgb(242,107,73)"
             ],
             [
              0.7529411764705882,
              "rgb(244,135,95)"
             ],
             [
              0.8156862745098039,
              "rgb(245,162,122)"
             ],
             [
              0.8784313725490196,
              "rgb(246,188,153)"
             ],
             [
              0.9411764705882353,
              "rgb(247,212,187)"
             ],
             [
              1,
              "rgb(250,234,220)"
             ]
            ],
            "type": "contour"
           }
          ],
          "contourcarpet": [
           {
            "colorbar": {
             "outlinewidth": 0,
             "tickcolor": "rgb(36,36,36)",
             "ticklen": 8,
             "ticks": "outside",
             "tickwidth": 2
            },
            "type": "contourcarpet"
           }
          ],
          "heatmap": [
           {
            "colorbar": {
             "outlinewidth": 0,
             "tickcolor": "rgb(36,36,36)",
             "ticklen": 8,
             "ticks": "outside",
             "tickwidth": 2
            },
            "colorscale": [
             [
              0,
              "rgb(2,4,25)"
             ],
             [
              0.06274509803921569,
              "rgb(24,15,41)"
             ],
             [
              0.12549019607843137,
              "rgb(47,23,57)"
             ],
             [
              0.18823529411764706,
              "rgb(71,28,72)"
             ],
             [
              0.25098039215686274,
              "rgb(97,30,82)"
             ],
             [
              0.3137254901960784,
              "rgb(123,30,89)"
             ],
             [
              0.3764705882352941,
              "rgb(150,27,91)"
             ],
             [
              0.4392156862745098,
              "rgb(177,22,88)"
             ],
             [
              0.5019607843137255,
              "rgb(203,26,79)"
             ],
             [
              0.5647058823529412,
              "rgb(223,47,67)"
             ],
             [
              0.6274509803921569,
              "rgb(236,76,61)"
             ],
             [
              0.6901960784313725,
              "rgb(242,107,73)"
             ],
             [
              0.7529411764705882,
              "rgb(244,135,95)"
             ],
             [
              0.8156862745098039,
              "rgb(245,162,122)"
             ],
             [
              0.8784313725490196,
              "rgb(246,188,153)"
             ],
             [
              0.9411764705882353,
              "rgb(247,212,187)"
             ],
             [
              1,
              "rgb(250,234,220)"
             ]
            ],
            "type": "heatmap"
           }
          ],
          "heatmapgl": [
           {
            "colorbar": {
             "outlinewidth": 0,
             "tickcolor": "rgb(36,36,36)",
             "ticklen": 8,
             "ticks": "outside",
             "tickwidth": 2
            },
            "colorscale": [
             [
              0,
              "rgb(2,4,25)"
             ],
             [
              0.06274509803921569,
              "rgb(24,15,41)"
             ],
             [
              0.12549019607843137,
              "rgb(47,23,57)"
             ],
             [
              0.18823529411764706,
              "rgb(71,28,72)"
             ],
             [
              0.25098039215686274,
              "rgb(97,30,82)"
             ],
             [
              0.3137254901960784,
              "rgb(123,30,89)"
             ],
             [
              0.3764705882352941,
              "rgb(150,27,91)"
             ],
             [
              0.4392156862745098,
              "rgb(177,22,88)"
             ],
             [
              0.5019607843137255,
              "rgb(203,26,79)"
             ],
             [
              0.5647058823529412,
              "rgb(223,47,67)"
             ],
             [
              0.6274509803921569,
              "rgb(236,76,61)"
             ],
             [
              0.6901960784313725,
              "rgb(242,107,73)"
             ],
             [
              0.7529411764705882,
              "rgb(244,135,95)"
             ],
             [
              0.8156862745098039,
              "rgb(245,162,122)"
             ],
             [
              0.8784313725490196,
              "rgb(246,188,153)"
             ],
             [
              0.9411764705882353,
              "rgb(247,212,187)"
             ],
             [
              1,
              "rgb(250,234,220)"
             ]
            ],
            "type": "heatmapgl"
           }
          ],
          "histogram": [
           {
            "marker": {
             "pattern": {
              "fillmode": "overlay",
              "size": 10,
              "solidity": 0.2
             }
            },
            "type": "histogram"
           }
          ],
          "histogram2d": [
           {
            "colorbar": {
             "outlinewidth": 0,
             "tickcolor": "rgb(36,36,36)",
             "ticklen": 8,
             "ticks": "outside",
             "tickwidth": 2
            },
            "colorscale": [
             [
              0,
              "rgb(2,4,25)"
             ],
             [
              0.06274509803921569,
              "rgb(24,15,41)"
             ],
             [
              0.12549019607843137,
              "rgb(47,23,57)"
             ],
             [
              0.18823529411764706,
              "rgb(71,28,72)"
             ],
             [
              0.25098039215686274,
              "rgb(97,30,82)"
             ],
             [
              0.3137254901960784,
              "rgb(123,30,89)"
             ],
             [
              0.3764705882352941,
              "rgb(150,27,91)"
             ],
             [
              0.4392156862745098,
              "rgb(177,22,88)"
             ],
             [
              0.5019607843137255,
              "rgb(203,26,79)"
             ],
             [
              0.5647058823529412,
              "rgb(223,47,67)"
             ],
             [
              0.6274509803921569,
              "rgb(236,76,61)"
             ],
             [
              0.6901960784313725,
              "rgb(242,107,73)"
             ],
             [
              0.7529411764705882,
              "rgb(244,135,95)"
             ],
             [
              0.8156862745098039,
              "rgb(245,162,122)"
             ],
             [
              0.8784313725490196,
              "rgb(246,188,153)"
             ],
             [
              0.9411764705882353,
              "rgb(247,212,187)"
             ],
             [
              1,
              "rgb(250,234,220)"
             ]
            ],
            "type": "histogram2d"
           }
          ],
          "histogram2dcontour": [
           {
            "colorbar": {
             "outlinewidth": 0,
             "tickcolor": "rgb(36,36,36)",
             "ticklen": 8,
             "ticks": "outside",
             "tickwidth": 2
            },
            "colorscale": [
             [
              0,
              "rgb(2,4,25)"
             ],
             [
              0.06274509803921569,
              "rgb(24,15,41)"
             ],
             [
              0.12549019607843137,
              "rgb(47,23,57)"
             ],
             [
              0.18823529411764706,
              "rgb(71,28,72)"
             ],
             [
              0.25098039215686274,
              "rgb(97,30,82)"
             ],
             [
              0.3137254901960784,
              "rgb(123,30,89)"
             ],
             [
              0.3764705882352941,
              "rgb(150,27,91)"
             ],
             [
              0.4392156862745098,
              "rgb(177,22,88)"
             ],
             [
              0.5019607843137255,
              "rgb(203,26,79)"
             ],
             [
              0.5647058823529412,
              "rgb(223,47,67)"
             ],
             [
              0.6274509803921569,
              "rgb(236,76,61)"
             ],
             [
              0.6901960784313725,
              "rgb(242,107,73)"
             ],
             [
              0.7529411764705882,
              "rgb(244,135,95)"
             ],
             [
              0.8156862745098039,
              "rgb(245,162,122)"
             ],
             [
              0.8784313725490196,
              "rgb(246,188,153)"
             ],
             [
              0.9411764705882353,
              "rgb(247,212,187)"
             ],
             [
              1,
              "rgb(250,234,220)"
             ]
            ],
            "type": "histogram2dcontour"
           }
          ],
          "mesh3d": [
           {
            "colorbar": {
             "outlinewidth": 0,
             "tickcolor": "rgb(36,36,36)",
             "ticklen": 8,
             "ticks": "outside",
             "tickwidth": 2
            },
            "type": "mesh3d"
           }
          ],
          "parcoords": [
           {
            "line": {
             "colorbar": {
              "outlinewidth": 0,
              "tickcolor": "rgb(36,36,36)",
              "ticklen": 8,
              "ticks": "outside",
              "tickwidth": 2
             }
            },
            "type": "parcoords"
           }
          ],
          "pie": [
           {
            "automargin": true,
            "type": "pie"
           }
          ],
          "scatter": [
           {
            "fillpattern": {
             "fillmode": "overlay",
             "size": 10,
             "solidity": 0.2
            },
            "type": "scatter"
           }
          ],
          "scatter3d": [
           {
            "line": {
             "colorbar": {
              "outlinewidth": 0,
              "tickcolor": "rgb(36,36,36)",
              "ticklen": 8,
              "ticks": "outside",
              "tickwidth": 2
             }
            },
            "marker": {
             "colorbar": {
              "outlinewidth": 0,
              "tickcolor": "rgb(36,36,36)",
              "ticklen": 8,
              "ticks": "outside",
              "tickwidth": 2
             }
            },
            "type": "scatter3d"
           }
          ],
          "scattercarpet": [
           {
            "marker": {
             "colorbar": {
              "outlinewidth": 0,
              "tickcolor": "rgb(36,36,36)",
              "ticklen": 8,
              "ticks": "outside",
              "tickwidth": 2
             }
            },
            "type": "scattercarpet"
           }
          ],
          "scattergeo": [
           {
            "marker": {
             "colorbar": {
              "outlinewidth": 0,
              "tickcolor": "rgb(36,36,36)",
              "ticklen": 8,
              "ticks": "outside",
              "tickwidth": 2
             }
            },
            "type": "scattergeo"
           }
          ],
          "scattergl": [
           {
            "marker": {
             "colorbar": {
              "outlinewidth": 0,
              "tickcolor": "rgb(36,36,36)",
              "ticklen": 8,
              "ticks": "outside",
              "tickwidth": 2
             }
            },
            "type": "scattergl"
           }
          ],
          "scattermapbox": [
           {
            "marker": {
             "colorbar": {
              "outlinewidth": 0,
              "tickcolor": "rgb(36,36,36)",
              "ticklen": 8,
              "ticks": "outside",
              "tickwidth": 2
             }
            },
            "type": "scattermapbox"
           }
          ],
          "scatterpolar": [
           {
            "marker": {
             "colorbar": {
              "outlinewidth": 0,
              "tickcolor": "rgb(36,36,36)",
              "ticklen": 8,
              "ticks": "outside",
              "tickwidth": 2
             }
            },
            "type": "scatterpolar"
           }
          ],
          "scatterpolargl": [
           {
            "marker": {
             "colorbar": {
              "outlinewidth": 0,
              "tickcolor": "rgb(36,36,36)",
              "ticklen": 8,
              "ticks": "outside",
              "tickwidth": 2
             }
            },
            "type": "scatterpolargl"
           }
          ],
          "scatterternary": [
           {
            "marker": {
             "colorbar": {
              "outlinewidth": 0,
              "tickcolor": "rgb(36,36,36)",
              "ticklen": 8,
              "ticks": "outside",
              "tickwidth": 2
             }
            },
            "type": "scatterternary"
           }
          ],
          "surface": [
           {
            "colorbar": {
             "outlinewidth": 0,
             "tickcolor": "rgb(36,36,36)",
             "ticklen": 8,
             "ticks": "outside",
             "tickwidth": 2
            },
            "colorscale": [
             [
              0,
              "rgb(2,4,25)"
             ],
             [
              0.06274509803921569,
              "rgb(24,15,41)"
             ],
             [
              0.12549019607843137,
              "rgb(47,23,57)"
             ],
             [
              0.18823529411764706,
              "rgb(71,28,72)"
             ],
             [
              0.25098039215686274,
              "rgb(97,30,82)"
             ],
             [
              0.3137254901960784,
              "rgb(123,30,89)"
             ],
             [
              0.3764705882352941,
              "rgb(150,27,91)"
             ],
             [
              0.4392156862745098,
              "rgb(177,22,88)"
             ],
             [
              0.5019607843137255,
              "rgb(203,26,79)"
             ],
             [
              0.5647058823529412,
              "rgb(223,47,67)"
             ],
             [
              0.6274509803921569,
              "rgb(236,76,61)"
             ],
             [
              0.6901960784313725,
              "rgb(242,107,73)"
             ],
             [
              0.7529411764705882,
              "rgb(244,135,95)"
             ],
             [
              0.8156862745098039,
              "rgb(245,162,122)"
             ],
             [
              0.8784313725490196,
              "rgb(246,188,153)"
             ],
             [
              0.9411764705882353,
              "rgb(247,212,187)"
             ],
             [
              1,
              "rgb(250,234,220)"
             ]
            ],
            "type": "surface"
           }
          ],
          "table": [
           {
            "cells": {
             "fill": {
              "color": "rgb(231,231,240)"
             },
             "line": {
              "color": "white"
             }
            },
            "header": {
             "fill": {
              "color": "rgb(183,183,191)"
             },
             "line": {
              "color": "white"
             }
            },
            "type": "table"
           }
          ]
         },
         "layout": {
          "annotationdefaults": {
           "arrowcolor": "rgb(67,103,167)"
          },
          "autotypenumbers": "strict",
          "coloraxis": {
           "colorbar": {
            "outlinewidth": 0,
            "tickcolor": "rgb(36,36,36)",
            "ticklen": 8,
            "ticks": "outside",
            "tickwidth": 2
           }
          },
          "colorscale": {
           "sequential": [
            [
             0,
             "rgb(2,4,25)"
            ],
            [
             0.06274509803921569,
             "rgb(24,15,41)"
            ],
            [
             0.12549019607843137,
             "rgb(47,23,57)"
            ],
            [
             0.18823529411764706,
             "rgb(71,28,72)"
            ],
            [
             0.25098039215686274,
             "rgb(97,30,82)"
            ],
            [
             0.3137254901960784,
             "rgb(123,30,89)"
            ],
            [
             0.3764705882352941,
             "rgb(150,27,91)"
            ],
            [
             0.4392156862745098,
             "rgb(177,22,88)"
            ],
            [
             0.5019607843137255,
             "rgb(203,26,79)"
            ],
            [
             0.5647058823529412,
             "rgb(223,47,67)"
            ],
            [
             0.6274509803921569,
             "rgb(236,76,61)"
            ],
            [
             0.6901960784313725,
             "rgb(242,107,73)"
            ],
            [
             0.7529411764705882,
             "rgb(244,135,95)"
            ],
            [
             0.8156862745098039,
             "rgb(245,162,122)"
            ],
            [
             0.8784313725490196,
             "rgb(246,188,153)"
            ],
            [
             0.9411764705882353,
             "rgb(247,212,187)"
            ],
            [
             1,
             "rgb(250,234,220)"
            ]
           ],
           "sequentialminus": [
            [
             0,
             "rgb(2,4,25)"
            ],
            [
             0.06274509803921569,
             "rgb(24,15,41)"
            ],
            [
             0.12549019607843137,
             "rgb(47,23,57)"
            ],
            [
             0.18823529411764706,
             "rgb(71,28,72)"
            ],
            [
             0.25098039215686274,
             "rgb(97,30,82)"
            ],
            [
             0.3137254901960784,
             "rgb(123,30,89)"
            ],
            [
             0.3764705882352941,
             "rgb(150,27,91)"
            ],
            [
             0.4392156862745098,
             "rgb(177,22,88)"
            ],
            [
             0.5019607843137255,
             "rgb(203,26,79)"
            ],
            [
             0.5647058823529412,
             "rgb(223,47,67)"
            ],
            [
             0.6274509803921569,
             "rgb(236,76,61)"
            ],
            [
             0.6901960784313725,
             "rgb(242,107,73)"
            ],
            [
             0.7529411764705882,
             "rgb(244,135,95)"
            ],
            [
             0.8156862745098039,
             "rgb(245,162,122)"
            ],
            [
             0.8784313725490196,
             "rgb(246,188,153)"
            ],
            [
             0.9411764705882353,
             "rgb(247,212,187)"
            ],
            [
             1,
             "rgb(250,234,220)"
            ]
           ]
          },
          "colorway": [
           "rgb(76,114,176)",
           "rgb(221,132,82)",
           "rgb(85,168,104)",
           "rgb(196,78,82)",
           "rgb(129,114,179)",
           "rgb(147,120,96)",
           "rgb(218,139,195)",
           "rgb(140,140,140)",
           "rgb(204,185,116)",
           "rgb(100,181,205)"
          ],
          "font": {
           "color": "rgb(36,36,36)"
          },
          "geo": {
           "bgcolor": "white",
           "lakecolor": "white",
           "landcolor": "rgb(234,234,242)",
           "showlakes": true,
           "showland": true,
           "subunitcolor": "white"
          },
          "hoverlabel": {
           "align": "left"
          },
          "hovermode": "closest",
          "paper_bgcolor": "white",
          "plot_bgcolor": "rgb(234,234,242)",
          "polar": {
           "angularaxis": {
            "gridcolor": "white",
            "linecolor": "white",
            "showgrid": true,
            "ticks": ""
           },
           "bgcolor": "rgb(234,234,242)",
           "radialaxis": {
            "gridcolor": "white",
            "linecolor": "white",
            "showgrid": true,
            "ticks": ""
           }
          },
          "scene": {
           "xaxis": {
            "backgroundcolor": "rgb(234,234,242)",
            "gridcolor": "white",
            "gridwidth": 2,
            "linecolor": "white",
            "showbackground": true,
            "showgrid": true,
            "ticks": "",
            "zerolinecolor": "white"
           },
           "yaxis": {
            "backgroundcolor": "rgb(234,234,242)",
            "gridcolor": "white",
            "gridwidth": 2,
            "linecolor": "white",
            "showbackground": true,
            "showgrid": true,
            "ticks": "",
            "zerolinecolor": "white"
           },
           "zaxis": {
            "backgroundcolor": "rgb(234,234,242)",
            "gridcolor": "white",
            "gridwidth": 2,
            "linecolor": "white",
            "showbackground": true,
            "showgrid": true,
            "ticks": "",
            "zerolinecolor": "white"
           }
          },
          "shapedefaults": {
           "fillcolor": "rgb(67,103,167)",
           "line": {
            "width": 0
           },
           "opacity": 0.5
          },
          "ternary": {
           "aaxis": {
            "gridcolor": "white",
            "linecolor": "white",
            "showgrid": true,
            "ticks": ""
           },
           "baxis": {
            "gridcolor": "white",
            "linecolor": "white",
            "showgrid": true,
            "ticks": ""
           },
           "bgcolor": "rgb(234,234,242)",
           "caxis": {
            "gridcolor": "white",
            "linecolor": "white",
            "showgrid": true,
            "ticks": ""
           }
          },
          "xaxis": {
           "automargin": true,
           "gridcolor": "white",
           "linecolor": "white",
           "showgrid": true,
           "ticks": "",
           "title": {
            "standoff": 15
           },
           "zerolinecolor": "white"
          },
          "yaxis": {
           "automargin": true,
           "gridcolor": "white",
           "linecolor": "white",
           "showgrid": true,
           "ticks": "",
           "title": {
            "standoff": 15
           },
           "zerolinecolor": "white"
          }
         }
        },
        "title": {
         "text": "Year distribution per topic"
        },
        "xaxis": {
         "anchor": "y",
         "domain": [
          0,
          1
         ],
         "title": {
          "text": "Topic"
         }
        },
        "yaxis": {
         "anchor": "x",
         "domain": [
          0,
          1
         ],
         "title": {
          "text": "Year"
         }
        }
       }
      }
     },
     "metadata": {},
     "output_type": "display_data"
    }
   ],
   "source": [
    "years_plot_df = core_pubs.copy()\n",
    "years_plot_df.loc[years_plot_df[\"year\"] < 1980, \"year\"] = 1980\n",
    "fig = px.box(years_plot_df, x=\"Topic\", y=\"year\", title=\"Year distribution per topic\", points=\"all\", height=450)\n",
    "fig.update_layout(xaxis_title=\"Topic\", yaxis_title=\"Year\")\n",
    "fig.show()"
   ]
  }
 ],
 "metadata": {
  "kernelspec": {
   "display_name": ".venv",
   "language": "python",
   "name": "python3"
  },
  "language_info": {
   "codemirror_mode": {
    "name": "ipython",
    "version": 3
   },
   "file_extension": ".py",
   "mimetype": "text/x-python",
   "name": "python",
   "nbconvert_exporter": "python",
   "pygments_lexer": "ipython3",
   "version": "3.10.4"
  }
 },
 "nbformat": 4,
 "nbformat_minor": 2
}
