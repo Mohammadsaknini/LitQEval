{
 "cells": [
  {
   "cell_type": "code",
   "execution_count": 1,
   "metadata": {},
   "outputs": [],
   "source": [
    "import plotly.express as px\n",
    "import plotly.io as pio\n",
    "import pandas as pd\n",
    "\n",
    "pio.templates.default = \"seaborn\"\n",
    "PLOT_CONFIGS = dict(\n",
    "    title_x=0.5, title_font_size=35, title_font_family=\"Modern Computer\", font_family=\"Modern Computer\",\n",
    "    xaxis_title=\"\", yaxis_title=\"\", showlegend=True, legend_title=\"\",\n",
    "    xaxis_tickfont_size=15, yaxis_tickfont_size=15, legend_font_size=15,\n",
    "    xaxis_title_font_size=20, yaxis_title_font_size=20,\n",
    "    # legend_orientation=\"h\", legend_yanchor=\"bottom\", legend_y=-0.3, legend_xanchor=\"center\", legend_x=0.5\n",
    "    )\n",
    "SLR_TOPICS = [\"Software Process Line\", \"Data Stream Processing Latency\", \"Business Process Meta Models\", \"Multicore Performance Prediction\", \"Cloud Migration\", \"Software Fault Prediction Metrics\", \"Software Defect Prediction\"]"
   ]
  },
  {
   "cell_type": "code",
   "execution_count": 2,
   "metadata": {},
   "outputs": [
    {
     "name": "stderr",
     "output_type": "stream",
     "text": [
      "C:\\Users\\Mohammad Sakhnini\\AppData\\Local\\Temp\\ipykernel_24472\\1548744984.py:9: SettingWithCopyWarning: \n",
      "A value is trying to be set on a copy of a slice from a DataFrame.\n",
      "Try using .loc[row_indexer,col_indexer] = value instead\n",
      "\n",
      "See the caveats in the documentation: https://pandas.pydata.org/pandas-docs/stable/user_guide/indexing.html#returning-a-view-versus-a-copy\n",
      "  core_pubs[\"Type\"] = \"Bibliometric Analysis\"\n"
     ]
    }
   ],
   "source": [
    "meta_data = pd.read_excel(\"./data/metadata.xlsx\")\n",
    "core_pubs = pd.read_excel(\"./data/core_publications.xlsx\")[[\"Pub_id\", \"Survey\", \"Topic\"]]\n",
    "\n",
    "df = pd.merge(core_pubs, meta_data, left_on=\"Pub_id\", right_on=\"id\")\n",
    "surveys = meta_data[meta_data[\"id\"].isin(df[\"Survey\"].unique())][[\"id\", \"title\", \"year\", \"times_cited\", \"field_citation_ratio\"]]\n",
    "core_pubs = df[[\"Survey\", \"Pub_id\", \"Topic\", \"abstract\", \"times_cited\", \"field_citation_ratio\", \"year\"]]\n",
    "# add column that marks as SLR or BA\n",
    "# mark as SLR if the topic is in the SLR_TOPICS\n",
    "core_pubs[\"Type\"] = \"Bibliometric Analysis\"\n",
    "core_pubs.loc[core_pubs[\"Topic\"].isin(SLR_TOPICS), \"Type\"] = \"Systematic Literature Review\"\n",
    "def try_get_year(survey_id):\n",
    "    try:\n",
    "        return surveys[surveys[\"id\"] == survey_id][\"year\"].values[0]\n",
    "    except:\n",
    "        return \"2015\"\n",
    "survey_years = core_pubs.apply(lambda row: try_get_year(row[\"Survey\"]), axis=1).values\n",
    "core_pubs.loc[:, \"Topic\"] = core_pubs[\"Topic\"] + \" (\" + survey_years.astype(str) + \")\""
   ]
  },
  {
   "cell_type": "code",
   "execution_count": 3,
   "metadata": {},
   "outputs": [
    {
     "data": {
      "application/vnd.plotly.v1+json": {
       "config": {
        "plotlyServerURL": "https://plot.ly"
       },
       "data": [
        {
         "alignmentgroup": "True",
         "bingroup": "x",
         "hovertemplate": "Type=Bibliometric Analysis<br>Topic (survey year)=%{x}<br>count=%{y}<extra></extra>",
         "legendgroup": "Bibliometric Analysis",
         "marker": {
          "color": "rgb(76,114,176)",
          "pattern": {
           "shape": ""
          }
         },
         "name": "Bibliometric Analysis",
         "offsetgroup": "Bibliometric Analysis",
         "orientation": "v",
         "showlegend": true,
         "type": "histogram",
         "x": [
          "Synthetic Biology (2012)",
          "Synthetic Biology (2012)",
          "Synthetic Biology (2012)",
          "Synthetic Biology (2012)",
          "Synthetic Biology (2012)",
          "Synthetic Biology (2012)",
          "Synthetic Biology (2012)",
          "Synthetic Biology (2012)",
          "Synthetic Biology (2012)",
          "Synthetic Biology (2012)",
          "Synthetic Biology (2012)",
          "Synthetic Biology (2012)",
          "Synthetic Biology (2012)",
          "Synthetic Biology (2012)",
          "Synthetic Biology (2012)",
          "Synthetic Biology (2012)",
          "Synthetic Biology (2012)",
          "Synthetic Biology (2012)",
          "Synthetic Biology (2012)",
          "Synthetic Biology (2012)",
          "Synthetic Biology (2012)",
          "Synthetic Biology (2012)",
          "Synthetic Biology (2012)",
          "Synthetic Biology (2012)",
          "Synthetic Biology (2012)",
          "Synthetic Biology (2012)",
          "Synthetic Biology (2012)",
          "Synthetic Biology (2012)",
          "Synthetic Biology (2012)",
          "Resilience in Business and management (2015)",
          "Resilience in Business and management (2015)",
          "Resilience in Business and management (2015)",
          "Resilience in Business and management (2015)",
          "Resilience in Business and management (2015)",
          "Resilience in Business and management (2015)",
          "Resilience in Business and management (2015)",
          "Resilience in Business and management (2015)",
          "Resilience in Business and management (2015)",
          "Resilience in Business and management (2015)",
          "Resilience in Business and management (2015)",
          "Resilience in Business and management (2015)",
          "Resilience in Business and management (2015)",
          "Resilience in Business and management (2015)",
          "Resilience in Business and management (2015)",
          "Resilience in Business and management (2015)",
          "Resilience in Business and management (2015)",
          "Resilience in Business and management (2015)",
          "Resilience in Business and management (2015)",
          "Resilience in Business and management (2015)",
          "Resilience in Business and management (2015)",
          "Cervical Myelopathy (2018)",
          "Cervical Myelopathy (2018)",
          "Cervical Myelopathy (2018)",
          "Cervical Myelopathy (2018)",
          "Cervical Myelopathy (2018)",
          "Cervical Myelopathy (2018)",
          "Cervical Myelopathy (2018)",
          "Cervical Myelopathy (2018)",
          "Cervical Myelopathy (2018)",
          "Cervical Myelopathy (2018)",
          "Cervical Myelopathy (2018)",
          "Cervical Myelopathy (2018)",
          "Cervical Myelopathy (2018)",
          "Cervical Myelopathy (2018)",
          "Cervical Myelopathy (2018)",
          "Cervical Myelopathy (2018)",
          "Cervical Myelopathy (2018)",
          "Cervical Myelopathy (2018)",
          "Cervical Myelopathy (2018)",
          "Cervical Myelopathy (2018)",
          "Cervical Myelopathy (2018)",
          "Cervical Myelopathy (2018)",
          "Cervical Myelopathy (2018)",
          "Cervical Myelopathy (2018)",
          "Cervical Myelopathy (2018)",
          "Cervical Myelopathy (2018)",
          "Cervical Myelopathy (2018)",
          "Cervical Myelopathy (2018)",
          "Cervical Myelopathy (2018)",
          "Cervical Myelopathy (2018)",
          "Cervical Myelopathy (2018)",
          "Cervical Myelopathy (2018)",
          "Cervical Myelopathy (2018)",
          "Cervical Myelopathy (2018)",
          "Cervical Myelopathy (2018)",
          "Cervical Myelopathy (2018)",
          "Cervical Myelopathy (2018)",
          "Cervical Myelopathy (2018)",
          "Cervical Myelopathy (2018)",
          "Cervical Myelopathy (2018)",
          "Cervical Myelopathy (2018)",
          "Cervical Myelopathy (2018)",
          "Cervical Myelopathy (2018)",
          "Cervical Myelopathy (2018)",
          "Drones in Agriculture (2022)",
          "Drones in Agriculture (2022)",
          "Drones in Agriculture (2022)",
          "Drones in Agriculture (2022)",
          "Drones in Agriculture (2022)",
          "Drones in Agriculture (2022)",
          "Drones in Agriculture (2022)",
          "Drones in Agriculture (2022)",
          "Drones in Agriculture (2022)",
          "Drones in Agriculture (2022)",
          "Drones in Agriculture (2022)",
          "Drones in Agriculture (2022)",
          "Drones in Agriculture (2022)",
          "Drones in Agriculture (2022)",
          "Drones in Agriculture (2022)",
          "Drones in Agriculture (2022)",
          "Drones in Agriculture (2022)",
          "Drones in Agriculture (2022)",
          "Drones in Agriculture (2022)",
          "Drones in Agriculture (2022)",
          "Drones in Agriculture (2022)",
          "Drones in Agriculture (2022)",
          "Drones in Agriculture (2022)",
          "Robotic Arthroplasty (2023)",
          "Robotic Arthroplasty (2023)",
          "Robotic Arthroplasty (2023)",
          "Robotic Arthroplasty (2023)",
          "Robotic Arthroplasty (2023)",
          "Robotic Arthroplasty (2023)",
          "Robotic Arthroplasty (2023)",
          "Robotic Arthroplasty (2023)",
          "Robotic Arthroplasty (2023)",
          "Robotic Arthroplasty (2023)",
          "Robotic Arthroplasty (2023)",
          "Robotic Arthroplasty (2023)",
          "Robotic Arthroplasty (2023)",
          "Robotic Arthroplasty (2023)",
          "Robotic Arthroplasty (2023)",
          "Robotic Arthroplasty (2023)",
          "Robotic Arthroplasty (2023)",
          "Robotic Arthroplasty (2023)",
          "Robotic Arthroplasty (2023)",
          "Robotic Arthroplasty (2023)",
          "Robotic Arthroplasty (2023)",
          "Robotic Arthroplasty (2023)",
          "Robotic Arthroplasty (2023)",
          "Robotic Arthroplasty (2023)",
          "Robotic Arthroplasty (2023)",
          "Robotic Arthroplasty (2023)",
          "Robotic Arthroplasty (2023)",
          "Robotic Arthroplasty (2023)",
          "Robotic Arthroplasty (2023)",
          "Robotic Arthroplasty (2023)",
          "Robotic Arthroplasty (2023)",
          "Robotic Arthroplasty (2023)",
          "Robotic Arthroplasty (2023)",
          "Robotic Arthroplasty (2023)",
          "Robotic Arthroplasty (2023)",
          "Robotic Arthroplasty (2023)",
          "Robotic Arthroplasty (2023)",
          "Robotic Arthroplasty (2023)",
          "Robotic Arthroplasty (2023)",
          "Robotic Arthroplasty (2023)",
          "Robotic Arthroplasty (2023)",
          "Robotic Arthroplasty (2023)",
          "Robotic Arthroplasty (2023)",
          "Robotic Arthroplasty (2023)",
          "Robotic Arthroplasty (2023)",
          "Robotic Arthroplasty (2023)",
          "Robotic Arthroplasty (2023)",
          "Soft Robotics (2018)",
          "Soft Robotics (2018)",
          "Soft Robotics (2018)",
          "Soft Robotics (2018)",
          "Soft Robotics (2018)",
          "Soft Robotics (2018)",
          "Soft Robotics (2018)",
          "Soft Robotics (2018)",
          "Soft Robotics (2018)",
          "Soft Robotics (2018)",
          "Soft Robotics (2018)",
          "Soft Robotics (2018)",
          "Soft Robotics (2018)",
          "Soft Robotics (2018)",
          "Soft Robotics (2018)",
          "Soft Robotics (2018)",
          "Soft Robotics (2018)",
          "Soft Robotics (2018)",
          "Soft Robotics (2018)",
          "Soft Robotics (2018)",
          "Soft Robotics (2018)",
          "Soft Robotics (2018)",
          "Soft Robotics (2018)",
          "Soft Robotics (2018)",
          "Soft Robotics (2018)",
          "Soft Robotics (2018)",
          "Soft Robotics (2018)",
          "Soft Robotics (2018)",
          "Soft Robotics (2018)",
          "Soft Robotics (2018)",
          "Soft Robotics (2018)",
          "Soft Robotics (2018)",
          "Soft Robotics (2018)",
          "Tourism Growth Nexus (2020)",
          "Tourism Growth Nexus (2020)",
          "Tourism Growth Nexus (2020)",
          "Tourism Growth Nexus (2020)",
          "Tourism Growth Nexus (2020)",
          "Tourism Growth Nexus (2020)",
          "Tourism Growth Nexus (2020)",
          "Tourism Growth Nexus (2020)",
          "Tourism Growth Nexus (2020)",
          "Tourism Growth Nexus (2020)",
          "Tourism Growth Nexus (2020)",
          "Tourism Growth Nexus (2020)",
          "Tourism Growth Nexus (2020)",
          "Tourism Growth Nexus (2020)",
          "Tourism Growth Nexus (2020)",
          "Tourism Growth Nexus (2020)",
          "Tourism Growth Nexus (2020)",
          "Tourism Growth Nexus (2020)",
          "Tourism Growth Nexus (2020)",
          "Tourism Growth Nexus (2020)",
          "Tourism Growth Nexus (2020)",
          "Tourism Growth Nexus (2020)",
          "Tourism Growth Nexus (2020)",
          "Tourism Growth Nexus (2020)",
          "Tourism Growth Nexus (2020)",
          "Sustainable Biofuel Economy (2023)",
          "Sustainable Biofuel Economy (2023)",
          "Sustainable Biofuel Economy (2023)",
          "Sustainable Biofuel Economy (2023)",
          "Sustainable Biofuel Economy (2023)",
          "Sustainable Biofuel Economy (2023)",
          "Sustainable Biofuel Economy (2023)",
          "Sustainable Biofuel Economy (2023)",
          "Sustainable Biofuel Economy (2023)",
          "Sustainable Biofuel Economy (2023)",
          "Sustainable Biofuel Economy (2023)",
          "Sustainable Biofuel Economy (2023)",
          "Sustainable Biofuel Economy (2023)",
          "Sustainable Biofuel Economy (2023)",
          "Sustainable Biofuel Economy (2023)",
          "Sustainable Biofuel Economy (2023)",
          "Sustainable Biofuel Economy (2023)",
          "Sustainable Biofuel Economy (2023)",
          "Sustainable Biofuel Economy (2023)",
          "Sustainable Biofuel Economy (2023)",
          "Sustainable Biofuel Economy (2023)",
          "Sustainable Biofuel Economy (2023)",
          "Sustainable Biofuel Economy (2023)",
          "Sustainable Biofuel Economy (2023)",
          "Sustainable Biofuel Economy (2023)",
          "Sustainable Biofuel Economy (2023)",
          "Sustainable Biofuel Economy (2023)",
          "Sustainable Biofuel Economy (2023)",
          "Sustainable Biofuel Economy (2023)",
          "Sustainable Biofuel Economy (2023)",
          "Sustainable Biofuel Economy (2023)",
          "Sustainable Biofuel Economy (2023)",
          "Sustainable Biofuel Economy (2023)",
          "Sustainable Biofuel Economy (2023)",
          "Sustainable Biofuel Economy (2023)",
          "Sustainable Biofuel Economy (2023)",
          "Sustainable Biofuel Economy (2023)",
          "Sustainable Biofuel Economy (2023)",
          "Sustainable Biofuel Economy (2023)",
          "Sustainable Biofuel Economy (2023)",
          "Sustainable Biofuel Economy (2023)",
          "Sustainable Biofuel Economy (2023)",
          "Sustainable Biofuel Economy (2023)",
          "Sustainable Biofuel Economy (2023)",
          "Sustainable Biofuel Economy (2023)",
          "Sustainable Biofuel Economy (2023)",
          "Sustainable Biofuel Economy (2023)",
          "Sustainable Biofuel Economy (2023)",
          "Nanopharmaceuticals OR Nanonutraceuticals (2020)",
          "Nanopharmaceuticals OR Nanonutraceuticals (2020)",
          "Nanopharmaceuticals OR Nanonutraceuticals (2020)",
          "Nanopharmaceuticals OR Nanonutraceuticals (2020)",
          "Nanopharmaceuticals OR Nanonutraceuticals (2020)",
          "Nanopharmaceuticals OR Nanonutraceuticals (2020)",
          "Nanopharmaceuticals OR Nanonutraceuticals (2020)",
          "Nanopharmaceuticals OR Nanonutraceuticals (2020)",
          "Nanopharmaceuticals OR Nanonutraceuticals (2020)",
          "Nanopharmaceuticals OR Nanonutraceuticals (2020)",
          "Nanopharmaceuticals OR Nanonutraceuticals (2020)",
          "Nanopharmaceuticals OR Nanonutraceuticals (2020)",
          "Nanopharmaceuticals OR Nanonutraceuticals (2020)",
          "Nanopharmaceuticals OR Nanonutraceuticals (2020)",
          "Nanopharmaceuticals OR Nanonutraceuticals (2020)",
          "Nanopharmaceuticals OR Nanonutraceuticals (2020)",
          "Nanopharmaceuticals OR Nanonutraceuticals (2020)",
          "Nanopharmaceuticals OR Nanonutraceuticals (2020)",
          "Nanopharmaceuticals OR Nanonutraceuticals (2020)",
          "Nanopharmaceuticals OR Nanonutraceuticals (2020)",
          "Nanopharmaceuticals OR Nanonutraceuticals (2020)",
          "Nanopharmaceuticals OR Nanonutraceuticals (2020)",
          "Nanopharmaceuticals OR Nanonutraceuticals (2020)",
          "Nanopharmaceuticals OR Nanonutraceuticals (2020)",
          "Nanopharmaceuticals OR Nanonutraceuticals (2020)",
          "Nanopharmaceuticals OR Nanonutraceuticals (2020)",
          "Nanopharmaceuticals OR Nanonutraceuticals (2020)",
          "Nanopharmaceuticals OR Nanonutraceuticals (2020)",
          "Nanopharmaceuticals OR Nanonutraceuticals (2020)",
          "Nanopharmaceuticals OR Nanonutraceuticals (2020)",
          "Nanopharmaceuticals OR Nanonutraceuticals (2020)",
          "Nanopharmaceuticals OR Nanonutraceuticals (2020)",
          "Nanopharmaceuticals OR Nanonutraceuticals (2020)",
          "Nanopharmaceuticals OR Nanonutraceuticals (2020)",
          "Nanopharmaceuticals OR Nanonutraceuticals (2020)",
          "Nanopharmaceuticals OR Nanonutraceuticals (2020)",
          "Nanopharmaceuticals OR Nanonutraceuticals (2020)",
          "Nanopharmaceuticals OR Nanonutraceuticals (2020)",
          "Nanopharmaceuticals OR Nanonutraceuticals (2020)",
          "Nanopharmaceuticals OR Nanonutraceuticals (2020)",
          "Nanopharmaceuticals OR Nanonutraceuticals (2020)",
          "Nanopharmaceuticals OR Nanonutraceuticals (2020)",
          "Nanopharmaceuticals OR Nanonutraceuticals (2020)",
          "Nanopharmaceuticals OR Nanonutraceuticals (2020)",
          "Nanopharmaceuticals OR Nanonutraceuticals (2020)",
          "Nanopharmaceuticals OR Nanonutraceuticals (2020)",
          "Nanopharmaceuticals OR Nanonutraceuticals (2020)",
          "Nanopharmaceuticals OR Nanonutraceuticals (2020)",
          "Nanopharmaceuticals OR Nanonutraceuticals (2020)",
          "Nanopharmaceuticals OR Nanonutraceuticals (2020)",
          "Perovskite Solar Cells Stability (2024)",
          "Perovskite Solar Cells Stability (2024)",
          "Perovskite Solar Cells Stability (2024)",
          "Perovskite Solar Cells Stability (2024)",
          "Perovskite Solar Cells Stability (2024)",
          "Perovskite Solar Cells Stability (2024)",
          "Perovskite Solar Cells Stability (2024)",
          "Perovskite Solar Cells Stability (2024)",
          "Perovskite Solar Cells Stability (2024)",
          "Perovskite Solar Cells Stability (2024)",
          "Perovskite Solar Cells Stability (2024)",
          "Perovskite Solar Cells Stability (2024)",
          "Perovskite Solar Cells Stability (2024)",
          "Perovskite Solar Cells Stability (2024)",
          "Perovskite Solar Cells Stability (2024)",
          "Perovskite Solar Cells Stability (2024)",
          "Perovskite Solar Cells Stability (2024)",
          "Perovskite Solar Cells Stability (2024)",
          "Perovskite Solar Cells Stability (2024)",
          "Perovskite Solar Cells Stability (2024)",
          "Perovskite Solar Cells Stability (2024)",
          "Perovskite Solar Cells Stability (2024)",
          "Perovskite Solar Cells Stability (2024)",
          "Perovskite Solar Cells Stability (2024)",
          "Perovskite Solar Cells Stability (2024)",
          "Perovskite Solar Cells Stability (2024)",
          "Perovskite Solar Cells Stability (2024)",
          "Perovskite Solar Cells Stability (2024)",
          "Perovskite Solar Cells Stability (2024)",
          "Energy Growth Nexus (2010)",
          "Energy Growth Nexus (2010)",
          "Energy Growth Nexus (2010)",
          "Energy Growth Nexus (2010)",
          "Energy Growth Nexus (2010)",
          "Energy Growth Nexus (2010)",
          "Energy Growth Nexus (2010)",
          "Energy Growth Nexus (2010)",
          "Energy Growth Nexus (2010)",
          "Energy Growth Nexus (2010)",
          "Energy Growth Nexus (2010)",
          "Energy Growth Nexus (2010)",
          "Energy Growth Nexus (2010)",
          "Energy Growth Nexus (2010)",
          "Energy Growth Nexus (2010)",
          "Energy Growth Nexus (2010)",
          "Energy Growth Nexus (2010)",
          "Energy Growth Nexus (2010)",
          "Energy Growth Nexus (2010)",
          "Energy Growth Nexus (2010)",
          "Energy Growth Nexus (2010)",
          "Energy Growth Nexus (2010)",
          "Energy Growth Nexus (2010)",
          "Energy Growth Nexus (2010)",
          "Energy Growth Nexus (2010)",
          "Energy Growth Nexus (2010)",
          "Energy Growth Nexus (2010)",
          "Green Warehousing (2023)",
          "Green Warehousing (2023)",
          "Green Warehousing (2023)",
          "Green Warehousing (2023)",
          "Green Warehousing (2023)",
          "Green Warehousing (2023)",
          "Green Warehousing (2023)",
          "Green Warehousing (2023)",
          "Green Warehousing (2023)",
          "Green Warehousing (2023)",
          "Green Warehousing (2023)",
          "Green Warehousing (2023)",
          "Green Warehousing (2023)",
          "Green Warehousing (2023)",
          "Green Warehousing (2023)",
          "Green Warehousing (2023)",
          "Green Warehousing (2023)",
          "Green Warehousing (2023)",
          "Green Warehousing (2023)",
          "Green Warehousing (2023)",
          "Green Warehousing (2023)",
          "Green Warehousing (2023)",
          "Green Warehousing (2023)",
          "Green Warehousing (2023)",
          "Green Warehousing (2023)",
          "Green Warehousing (2023)",
          "Green Warehousing (2023)",
          "Green Warehousing (2023)",
          "Green Warehousing (2023)",
          "Green Warehousing (2023)",
          "Green Warehousing (2023)",
          "Green Warehousing (2023)",
          "Green Warehousing (2023)",
          "Green Warehousing (2023)",
          "Internet of Things in Healthcare (2018)",
          "Internet of Things in Healthcare (2018)",
          "Internet of Things in Healthcare (2018)",
          "Internet of Things in Healthcare (2018)",
          "Internet of Things in Healthcare (2018)",
          "Internet of Things in Healthcare (2018)",
          "Internet of Things in Healthcare (2018)",
          "Internet of Things in Healthcare (2018)",
          "Internet of Things in Healthcare (2018)",
          "Internet of Things in Healthcare (2018)",
          "Internet of Things in Healthcare (2018)",
          "Internet of Things in Healthcare (2018)",
          "Internet of Things in Healthcare (2018)",
          "Internet of Things in Healthcare (2018)",
          "Internet of Things in Healthcare (2018)",
          "Internet of Things in Healthcare (2018)",
          "Internet of Things in Healthcare (2018)",
          "Internet of Things in Healthcare (2018)",
          "Internet of Things in Healthcare (2018)",
          "Internet of Things in Healthcare (2018)",
          "Internet of Things in Healthcare (2018)",
          "Internet of Things in Healthcare (2018)",
          "Internet of Things in Healthcare (2018)",
          "Internet of Things in Healthcare (2018)",
          "Internet of Things in Healthcare (2018)",
          "Internet of Things in Healthcare (2018)",
          "Internet of Things in Healthcare (2018)",
          "AI on Edge Devices (2022)",
          "AI on Edge Devices (2022)",
          "AI on Edge Devices (2022)",
          "AI on Edge Devices (2022)",
          "AI on Edge Devices (2022)",
          "AI on Edge Devices (2022)",
          "AI on Edge Devices (2022)",
          "AI on Edge Devices (2022)",
          "AI on Edge Devices (2022)",
          "AI on Edge Devices (2022)",
          "AI on Edge Devices (2022)",
          "AI on Edge Devices (2022)",
          "AI on Edge Devices (2022)",
          "AI on Edge Devices (2022)",
          "AI on Edge Devices (2022)",
          "AI on Edge Devices (2022)",
          "AI on Edge Devices (2022)",
          "AI on Edge Devices (2022)",
          "AI on Edge Devices (2022)",
          "AI on Edge Devices (2022)",
          "AI on Edge Devices (2022)",
          "AI on Edge Devices (2022)",
          "AI on Edge Devices (2022)",
          "AI on Edge Devices (2022)",
          "AI on Edge Devices (2022)",
          "AI on Edge Devices (2022)",
          "AI on Edge Devices (2022)",
          "AI on Edge Devices (2022)",
          "AI on Edge Devices (2022)",
          "AI on Edge Devices (2022)",
          "AI on Edge Devices (2022)",
          "AI on Edge Devices (2022)",
          "AI on Edge Devices (2022)",
          "AI on Edge Devices (2022)",
          "AI on Edge Devices (2022)",
          "AI on Edge Devices (2022)",
          "Crop Yield Prediction (2020)",
          "Crop Yield Prediction (2020)",
          "Crop Yield Prediction (2020)",
          "Crop Yield Prediction (2020)",
          "Crop Yield Prediction (2020)",
          "Crop Yield Prediction (2020)",
          "Crop Yield Prediction (2020)",
          "Crop Yield Prediction (2020)",
          "Crop Yield Prediction (2020)",
          "Crop Yield Prediction (2020)",
          "Crop Yield Prediction (2020)",
          "Crop Yield Prediction (2020)",
          "Crop Yield Prediction (2020)",
          "Crop Yield Prediction (2020)",
          "Crop Yield Prediction (2020)",
          "Crop Yield Prediction (2020)",
          "Crop Yield Prediction (2020)",
          "Crop Yield Prediction (2020)",
          "Crop Yield Prediction (2020)",
          "Crop Yield Prediction (2020)",
          "Crop Yield Prediction (2020)",
          "Crop Yield Prediction (2020)",
          "Crop Yield Prediction (2020)",
          "Crop Yield Prediction (2020)",
          "Crop Yield Prediction (2020)",
          "Crop Yield Prediction (2020)",
          "Crop Yield Prediction (2020)",
          "Crop Yield Prediction (2020)",
          "Crop Yield Prediction (2020)",
          "Crop Yield Prediction (2020)",
          "Crop Yield Prediction (2020)",
          "Crop Yield Prediction (2020)",
          "Crop Yield Prediction (2020)",
          "Crop Yield Prediction (2020)",
          "Crop Yield Prediction (2020)",
          "Crop Yield Prediction (2020)",
          "Crop Yield Prediction (2020)",
          "Crop Yield Prediction (2020)",
          "Crop Yield Prediction (2020)",
          "Crop Yield Prediction (2020)",
          "Crop Yield Prediction (2020)",
          "Crop Yield Prediction (2020)",
          "Crop Yield Prediction (2020)",
          "Crop Yield Prediction (2020)"
         ],
         "xaxis": "x",
         "yaxis": "y"
        },
        {
         "alignmentgroup": "True",
         "bingroup": "x",
         "hovertemplate": "Type=Systematic Literature Review<br>Topic (survey year)=%{x}<br>count=%{y}<extra></extra>",
         "legendgroup": "Systematic Literature Review",
         "marker": {
          "color": "rgb(221,132,82)",
          "pattern": {
           "shape": ""
          }
         },
         "name": "Systematic Literature Review",
         "offsetgroup": "Systematic Literature Review",
         "orientation": "v",
         "showlegend": true,
         "type": "histogram",
         "x": [
          "Software Process Line (2019)",
          "Software Process Line (2019)",
          "Software Process Line (2019)",
          "Software Process Line (2019)",
          "Software Process Line (2019)",
          "Software Process Line (2019)",
          "Software Process Line (2019)",
          "Software Process Line (2019)",
          "Software Process Line (2019)",
          "Software Process Line (2019)",
          "Software Process Line (2019)",
          "Software Process Line (2019)",
          "Software Process Line (2019)",
          "Software Process Line (2019)",
          "Software Process Line (2019)",
          "Software Process Line (2019)",
          "Software Process Line (2019)",
          "Software Process Line (2019)",
          "Software Process Line (2019)",
          "Software Process Line (2019)",
          "Software Process Line (2019)",
          "Software Process Line (2019)",
          "Software Process Line (2019)",
          "Software Process Line (2019)",
          "Software Process Line (2019)",
          "Software Process Line (2019)",
          "Software Process Line (2019)",
          "Software Process Line (2019)",
          "Software Process Line (2019)",
          "Software Process Line (2019)",
          "Software Process Line (2019)",
          "Software Process Line (2019)",
          "Software Process Line (2019)",
          "Software Process Line (2019)",
          "Software Process Line (2019)",
          "Data Stream Processing Latency (2019)",
          "Data Stream Processing Latency (2019)",
          "Data Stream Processing Latency (2019)",
          "Data Stream Processing Latency (2019)",
          "Data Stream Processing Latency (2019)",
          "Data Stream Processing Latency (2019)",
          "Data Stream Processing Latency (2019)",
          "Data Stream Processing Latency (2019)",
          "Data Stream Processing Latency (2019)",
          "Data Stream Processing Latency (2019)",
          "Data Stream Processing Latency (2019)",
          "Data Stream Processing Latency (2019)",
          "Data Stream Processing Latency (2019)",
          "Data Stream Processing Latency (2019)",
          "Data Stream Processing Latency (2019)",
          "Data Stream Processing Latency (2019)",
          "Data Stream Processing Latency (2019)",
          "Data Stream Processing Latency (2019)",
          "Data Stream Processing Latency (2019)",
          "Data Stream Processing Latency (2019)",
          "Data Stream Processing Latency (2019)",
          "Data Stream Processing Latency (2019)",
          "Data Stream Processing Latency (2019)",
          "Data Stream Processing Latency (2019)",
          "Data Stream Processing Latency (2019)",
          "Data Stream Processing Latency (2019)",
          "Data Stream Processing Latency (2019)",
          "Data Stream Processing Latency (2019)",
          "Data Stream Processing Latency (2019)",
          "Data Stream Processing Latency (2019)",
          "Data Stream Processing Latency (2019)",
          "Data Stream Processing Latency (2019)",
          "Data Stream Processing Latency (2019)",
          "Data Stream Processing Latency (2019)",
          "Data Stream Processing Latency (2019)",
          "Data Stream Processing Latency (2019)",
          "Data Stream Processing Latency (2019)",
          "Data Stream Processing Latency (2019)",
          "Data Stream Processing Latency (2019)",
          "Data Stream Processing Latency (2019)",
          "Data Stream Processing Latency (2019)",
          "Data Stream Processing Latency (2019)",
          "Data Stream Processing Latency (2019)",
          "Data Stream Processing Latency (2019)",
          "Data Stream Processing Latency (2019)",
          "Data Stream Processing Latency (2019)",
          "Data Stream Processing Latency (2019)",
          "Data Stream Processing Latency (2019)",
          "Data Stream Processing Latency (2019)",
          "Data Stream Processing Latency (2019)",
          "Data Stream Processing Latency (2019)",
          "Data Stream Processing Latency (2019)",
          "Data Stream Processing Latency (2019)",
          "Data Stream Processing Latency (2019)",
          "Data Stream Processing Latency (2019)",
          "Data Stream Processing Latency (2019)",
          "Data Stream Processing Latency (2019)",
          "Data Stream Processing Latency (2019)",
          "Data Stream Processing Latency (2019)",
          "Data Stream Processing Latency (2019)",
          "Data Stream Processing Latency (2019)",
          "Data Stream Processing Latency (2019)",
          "Data Stream Processing Latency (2019)",
          "Data Stream Processing Latency (2019)",
          "Data Stream Processing Latency (2019)",
          "Data Stream Processing Latency (2019)",
          "Data Stream Processing Latency (2019)",
          "Data Stream Processing Latency (2019)",
          "Business Process Meta Models (2021)",
          "Business Process Meta Models (2021)",
          "Business Process Meta Models (2021)",
          "Business Process Meta Models (2021)",
          "Business Process Meta Models (2021)",
          "Business Process Meta Models (2021)",
          "Business Process Meta Models (2021)",
          "Business Process Meta Models (2021)",
          "Business Process Meta Models (2021)",
          "Business Process Meta Models (2021)",
          "Business Process Meta Models (2021)",
          "Business Process Meta Models (2021)",
          "Business Process Meta Models (2021)",
          "Business Process Meta Models (2021)",
          "Business Process Meta Models (2021)",
          "Business Process Meta Models (2021)",
          "Business Process Meta Models (2021)",
          "Business Process Meta Models (2021)",
          "Business Process Meta Models (2021)",
          "Business Process Meta Models (2021)",
          "Business Process Meta Models (2021)",
          "Business Process Meta Models (2021)",
          "Multicore Performance Prediction (2017)",
          "Multicore Performance Prediction (2017)",
          "Multicore Performance Prediction (2017)",
          "Multicore Performance Prediction (2017)",
          "Multicore Performance Prediction (2017)",
          "Multicore Performance Prediction (2017)",
          "Multicore Performance Prediction (2017)",
          "Multicore Performance Prediction (2017)",
          "Multicore Performance Prediction (2017)",
          "Multicore Performance Prediction (2017)",
          "Multicore Performance Prediction (2017)",
          "Multicore Performance Prediction (2017)",
          "Multicore Performance Prediction (2017)",
          "Multicore Performance Prediction (2017)",
          "Multicore Performance Prediction (2017)",
          "Multicore Performance Prediction (2017)",
          "Multicore Performance Prediction (2017)",
          "Multicore Performance Prediction (2017)",
          "Multicore Performance Prediction (2017)",
          "Multicore Performance Prediction (2017)",
          "Multicore Performance Prediction (2017)",
          "Multicore Performance Prediction (2017)",
          "Multicore Performance Prediction (2017)",
          "Multicore Performance Prediction (2017)",
          "Multicore Performance Prediction (2017)",
          "Multicore Performance Prediction (2017)",
          "Multicore Performance Prediction (2017)",
          "Multicore Performance Prediction (2017)",
          "Multicore Performance Prediction (2017)",
          "Multicore Performance Prediction (2017)",
          "Multicore Performance Prediction (2017)",
          "Multicore Performance Prediction (2017)",
          "Multicore Performance Prediction (2017)",
          "Cloud Migration (2014)",
          "Cloud Migration (2014)",
          "Cloud Migration (2014)",
          "Cloud Migration (2014)",
          "Cloud Migration (2014)",
          "Cloud Migration (2014)",
          "Cloud Migration (2014)",
          "Cloud Migration (2014)",
          "Cloud Migration (2014)",
          "Cloud Migration (2014)",
          "Cloud Migration (2014)",
          "Cloud Migration (2014)",
          "Cloud Migration (2014)",
          "Cloud Migration (2014)",
          "Cloud Migration (2014)",
          "Cloud Migration (2014)",
          "Cloud Migration (2014)",
          "Cloud Migration (2014)",
          "Cloud Migration (2014)",
          "Cloud Migration (2014)",
          "Cloud Migration (2014)",
          "Cloud Migration (2014)",
          "Cloud Migration (2014)",
          "Cloud Migration (2014)",
          "Cloud Migration (2014)",
          "Cloud Migration (2014)",
          "Cloud Migration (2014)",
          "Software Fault Prediction Metrics (2013)",
          "Software Fault Prediction Metrics (2013)",
          "Software Fault Prediction Metrics (2013)",
          "Software Fault Prediction Metrics (2013)",
          "Software Fault Prediction Metrics (2013)",
          "Software Fault Prediction Metrics (2013)",
          "Software Fault Prediction Metrics (2013)",
          "Software Fault Prediction Metrics (2013)",
          "Software Fault Prediction Metrics (2013)",
          "Software Fault Prediction Metrics (2013)",
          "Software Fault Prediction Metrics (2013)",
          "Software Fault Prediction Metrics (2013)",
          "Software Fault Prediction Metrics (2013)",
          "Software Fault Prediction Metrics (2013)",
          "Software Fault Prediction Metrics (2013)",
          "Software Fault Prediction Metrics (2013)",
          "Software Fault Prediction Metrics (2013)",
          "Software Fault Prediction Metrics (2013)",
          "Software Fault Prediction Metrics (2013)",
          "Software Fault Prediction Metrics (2013)",
          "Software Fault Prediction Metrics (2013)",
          "Software Fault Prediction Metrics (2013)",
          "Software Fault Prediction Metrics (2013)",
          "Software Fault Prediction Metrics (2013)",
          "Software Fault Prediction Metrics (2013)",
          "Software Fault Prediction Metrics (2013)",
          "Software Fault Prediction Metrics (2013)",
          "Software Fault Prediction Metrics (2013)",
          "Software Fault Prediction Metrics (2013)",
          "Software Fault Prediction Metrics (2013)",
          "Software Fault Prediction Metrics (2013)",
          "Software Fault Prediction Metrics (2013)",
          "Software Fault Prediction Metrics (2013)",
          "Software Fault Prediction Metrics (2013)",
          "Software Fault Prediction Metrics (2013)",
          "Software Fault Prediction Metrics (2013)",
          "Software Fault Prediction Metrics (2013)",
          "Software Fault Prediction Metrics (2013)",
          "Software Fault Prediction Metrics (2013)",
          "Software Fault Prediction Metrics (2013)",
          "Software Fault Prediction Metrics (2013)",
          "Software Fault Prediction Metrics (2013)",
          "Software Fault Prediction Metrics (2013)",
          "Software Fault Prediction Metrics (2013)",
          "Software Fault Prediction Metrics (2013)",
          "Software Fault Prediction Metrics (2013)",
          "Software Fault Prediction Metrics (2013)",
          "Software Fault Prediction Metrics (2013)",
          "Software Defect Prediction (2015)",
          "Software Defect Prediction (2015)",
          "Software Defect Prediction (2015)",
          "Software Defect Prediction (2015)",
          "Software Defect Prediction (2015)",
          "Software Defect Prediction (2015)",
          "Software Defect Prediction (2015)",
          "Software Defect Prediction (2015)",
          "Software Defect Prediction (2015)",
          "Software Defect Prediction (2015)",
          "Software Defect Prediction (2015)",
          "Software Defect Prediction (2015)",
          "Software Defect Prediction (2015)",
          "Software Defect Prediction (2015)",
          "Software Defect Prediction (2015)",
          "Software Defect Prediction (2015)",
          "Software Defect Prediction (2015)",
          "Software Defect Prediction (2015)",
          "Software Defect Prediction (2015)",
          "Software Defect Prediction (2015)",
          "Software Defect Prediction (2015)",
          "Software Defect Prediction (2015)",
          "Software Defect Prediction (2015)",
          "Software Defect Prediction (2015)",
          "Software Defect Prediction (2015)",
          "Software Defect Prediction (2015)",
          "Software Defect Prediction (2015)",
          "Software Defect Prediction (2015)",
          "Software Defect Prediction (2015)",
          "Software Defect Prediction (2015)",
          "Software Defect Prediction (2015)",
          "Software Defect Prediction (2015)",
          "Software Defect Prediction (2015)",
          "Software Defect Prediction (2015)",
          "Software Defect Prediction (2015)",
          "Software Defect Prediction (2015)",
          "Software Defect Prediction (2015)",
          "Software Defect Prediction (2015)",
          "Software Defect Prediction (2015)",
          "Software Defect Prediction (2015)",
          "Software Defect Prediction (2015)",
          "Software Defect Prediction (2015)",
          "Software Defect Prediction (2015)",
          "Software Defect Prediction (2015)",
          "Software Defect Prediction (2015)",
          "Software Defect Prediction (2015)",
          "Software Defect Prediction (2015)",
          "Software Defect Prediction (2015)",
          "Software Defect Prediction (2015)",
          "Software Defect Prediction (2015)",
          "Software Defect Prediction (2015)",
          "Software Defect Prediction (2015)",
          "Software Defect Prediction (2015)"
         ],
         "xaxis": "x",
         "yaxis": "y"
        }
       ],
       "layout": {
        "barmode": "relative",
        "font": {
         "family": "Modern Computer"
        },
        "legend": {
         "font": {
          "size": 15
         },
         "title": {
          "text": ""
         },
         "tracegroupgap": 0
        },
        "showlegend": true,
        "template": {
         "data": {
          "bar": [
           {
            "error_x": {
             "color": "rgb(36,36,36)"
            },
            "error_y": {
             "color": "rgb(36,36,36)"
            },
            "marker": {
             "line": {
              "color": "rgb(234,234,242)",
              "width": 0.5
             },
             "pattern": {
              "fillmode": "overlay",
              "size": 10,
              "solidity": 0.2
             }
            },
            "type": "bar"
           }
          ],
          "barpolar": [
           {
            "marker": {
             "line": {
              "color": "rgb(234,234,242)",
              "width": 0.5
             },
             "pattern": {
              "fillmode": "overlay",
              "size": 10,
              "solidity": 0.2
             }
            },
            "type": "barpolar"
           }
          ],
          "carpet": [
           {
            "aaxis": {
             "endlinecolor": "rgb(36,36,36)",
             "gridcolor": "white",
             "linecolor": "white",
             "minorgridcolor": "white",
             "startlinecolor": "rgb(36,36,36)"
            },
            "baxis": {
             "endlinecolor": "rgb(36,36,36)",
             "gridcolor": "white",
             "linecolor": "white",
             "minorgridcolor": "white",
             "startlinecolor": "rgb(36,36,36)"
            },
            "type": "carpet"
           }
          ],
          "choropleth": [
           {
            "colorbar": {
             "outlinewidth": 0,
             "tickcolor": "rgb(36,36,36)",
             "ticklen": 8,
             "ticks": "outside",
             "tickwidth": 2
            },
            "type": "choropleth"
           }
          ],
          "contour": [
           {
            "colorbar": {
             "outlinewidth": 0,
             "tickcolor": "rgb(36,36,36)",
             "ticklen": 8,
             "ticks": "outside",
             "tickwidth": 2
            },
            "colorscale": [
             [
              0,
              "rgb(2,4,25)"
             ],
             [
              0.06274509803921569,
              "rgb(24,15,41)"
             ],
             [
              0.12549019607843137,
              "rgb(47,23,57)"
             ],
             [
              0.18823529411764706,
              "rgb(71,28,72)"
             ],
             [
              0.25098039215686274,
              "rgb(97,30,82)"
             ],
             [
              0.3137254901960784,
              "rgb(123,30,89)"
             ],
             [
              0.3764705882352941,
              "rgb(150,27,91)"
             ],
             [
              0.4392156862745098,
              "rgb(177,22,88)"
             ],
             [
              0.5019607843137255,
              "rgb(203,26,79)"
             ],
             [
              0.5647058823529412,
              "rgb(223,47,67)"
             ],
             [
              0.6274509803921569,
              "rgb(236,76,61)"
             ],
             [
              0.6901960784313725,
              "rgb(242,107,73)"
             ],
             [
              0.7529411764705882,
              "rgb(244,135,95)"
             ],
             [
              0.8156862745098039,
              "rgb(245,162,122)"
             ],
             [
              0.8784313725490196,
              "rgb(246,188,153)"
             ],
             [
              0.9411764705882353,
              "rgb(247,212,187)"
             ],
             [
              1,
              "rgb(250,234,220)"
             ]
            ],
            "type": "contour"
           }
          ],
          "contourcarpet": [
           {
            "colorbar": {
             "outlinewidth": 0,
             "tickcolor": "rgb(36,36,36)",
             "ticklen": 8,
             "ticks": "outside",
             "tickwidth": 2
            },
            "type": "contourcarpet"
           }
          ],
          "heatmap": [
           {
            "colorbar": {
             "outlinewidth": 0,
             "tickcolor": "rgb(36,36,36)",
             "ticklen": 8,
             "ticks": "outside",
             "tickwidth": 2
            },
            "colorscale": [
             [
              0,
              "rgb(2,4,25)"
             ],
             [
              0.06274509803921569,
              "rgb(24,15,41)"
             ],
             [
              0.12549019607843137,
              "rgb(47,23,57)"
             ],
             [
              0.18823529411764706,
              "rgb(71,28,72)"
             ],
             [
              0.25098039215686274,
              "rgb(97,30,82)"
             ],
             [
              0.3137254901960784,
              "rgb(123,30,89)"
             ],
             [
              0.3764705882352941,
              "rgb(150,27,91)"
             ],
             [
              0.4392156862745098,
              "rgb(177,22,88)"
             ],
             [
              0.5019607843137255,
              "rgb(203,26,79)"
             ],
             [
              0.5647058823529412,
              "rgb(223,47,67)"
             ],
             [
              0.6274509803921569,
              "rgb(236,76,61)"
             ],
             [
              0.6901960784313725,
              "rgb(242,107,73)"
             ],
             [
              0.7529411764705882,
              "rgb(244,135,95)"
             ],
             [
              0.8156862745098039,
              "rgb(245,162,122)"
             ],
             [
              0.8784313725490196,
              "rgb(246,188,153)"
             ],
             [
              0.9411764705882353,
              "rgb(247,212,187)"
             ],
             [
              1,
              "rgb(250,234,220)"
             ]
            ],
            "type": "heatmap"
           }
          ],
          "heatmapgl": [
           {
            "colorbar": {
             "outlinewidth": 0,
             "tickcolor": "rgb(36,36,36)",
             "ticklen": 8,
             "ticks": "outside",
             "tickwidth": 2
            },
            "colorscale": [
             [
              0,
              "rgb(2,4,25)"
             ],
             [
              0.06274509803921569,
              "rgb(24,15,41)"
             ],
             [
              0.12549019607843137,
              "rgb(47,23,57)"
             ],
             [
              0.18823529411764706,
              "rgb(71,28,72)"
             ],
             [
              0.25098039215686274,
              "rgb(97,30,82)"
             ],
             [
              0.3137254901960784,
              "rgb(123,30,89)"
             ],
             [
              0.3764705882352941,
              "rgb(150,27,91)"
             ],
             [
              0.4392156862745098,
              "rgb(177,22,88)"
             ],
             [
              0.5019607843137255,
              "rgb(203,26,79)"
             ],
             [
              0.5647058823529412,
              "rgb(223,47,67)"
             ],
             [
              0.6274509803921569,
              "rgb(236,76,61)"
             ],
             [
              0.6901960784313725,
              "rgb(242,107,73)"
             ],
             [
              0.7529411764705882,
              "rgb(244,135,95)"
             ],
             [
              0.8156862745098039,
              "rgb(245,162,122)"
             ],
             [
              0.8784313725490196,
              "rgb(246,188,153)"
             ],
             [
              0.9411764705882353,
              "rgb(247,212,187)"
             ],
             [
              1,
              "rgb(250,234,220)"
             ]
            ],
            "type": "heatmapgl"
           }
          ],
          "histogram": [
           {
            "marker": {
             "pattern": {
              "fillmode": "overlay",
              "size": 10,
              "solidity": 0.2
             }
            },
            "type": "histogram"
           }
          ],
          "histogram2d": [
           {
            "colorbar": {
             "outlinewidth": 0,
             "tickcolor": "rgb(36,36,36)",
             "ticklen": 8,
             "ticks": "outside",
             "tickwidth": 2
            },
            "colorscale": [
             [
              0,
              "rgb(2,4,25)"
             ],
             [
              0.06274509803921569,
              "rgb(24,15,41)"
             ],
             [
              0.12549019607843137,
              "rgb(47,23,57)"
             ],
             [
              0.18823529411764706,
              "rgb(71,28,72)"
             ],
             [
              0.25098039215686274,
              "rgb(97,30,82)"
             ],
             [
              0.3137254901960784,
              "rgb(123,30,89)"
             ],
             [
              0.3764705882352941,
              "rgb(150,27,91)"
             ],
             [
              0.4392156862745098,
              "rgb(177,22,88)"
             ],
             [
              0.5019607843137255,
              "rgb(203,26,79)"
             ],
             [
              0.5647058823529412,
              "rgb(223,47,67)"
             ],
             [
              0.6274509803921569,
              "rgb(236,76,61)"
             ],
             [
              0.6901960784313725,
              "rgb(242,107,73)"
             ],
             [
              0.7529411764705882,
              "rgb(244,135,95)"
             ],
             [
              0.8156862745098039,
              "rgb(245,162,122)"
             ],
             [
              0.8784313725490196,
              "rgb(246,188,153)"
             ],
             [
              0.9411764705882353,
              "rgb(247,212,187)"
             ],
             [
              1,
              "rgb(250,234,220)"
             ]
            ],
            "type": "histogram2d"
           }
          ],
          "histogram2dcontour": [
           {
            "colorbar": {
             "outlinewidth": 0,
             "tickcolor": "rgb(36,36,36)",
             "ticklen": 8,
             "ticks": "outside",
             "tickwidth": 2
            },
            "colorscale": [
             [
              0,
              "rgb(2,4,25)"
             ],
             [
              0.06274509803921569,
              "rgb(24,15,41)"
             ],
             [
              0.12549019607843137,
              "rgb(47,23,57)"
             ],
             [
              0.18823529411764706,
              "rgb(71,28,72)"
             ],
             [
              0.25098039215686274,
              "rgb(97,30,82)"
             ],
             [
              0.3137254901960784,
              "rgb(123,30,89)"
             ],
             [
              0.3764705882352941,
              "rgb(150,27,91)"
             ],
             [
              0.4392156862745098,
              "rgb(177,22,88)"
             ],
             [
              0.5019607843137255,
              "rgb(203,26,79)"
             ],
             [
              0.5647058823529412,
              "rgb(223,47,67)"
             ],
             [
              0.6274509803921569,
              "rgb(236,76,61)"
             ],
             [
              0.6901960784313725,
              "rgb(242,107,73)"
             ],
             [
              0.7529411764705882,
              "rgb(244,135,95)"
             ],
             [
              0.8156862745098039,
              "rgb(245,162,122)"
             ],
             [
              0.8784313725490196,
              "rgb(246,188,153)"
             ],
             [
              0.9411764705882353,
              "rgb(247,212,187)"
             ],
             [
              1,
              "rgb(250,234,220)"
             ]
            ],
            "type": "histogram2dcontour"
           }
          ],
          "mesh3d": [
           {
            "colorbar": {
             "outlinewidth": 0,
             "tickcolor": "rgb(36,36,36)",
             "ticklen": 8,
             "ticks": "outside",
             "tickwidth": 2
            },
            "type": "mesh3d"
           }
          ],
          "parcoords": [
           {
            "line": {
             "colorbar": {
              "outlinewidth": 0,
              "tickcolor": "rgb(36,36,36)",
              "ticklen": 8,
              "ticks": "outside",
              "tickwidth": 2
             }
            },
            "type": "parcoords"
           }
          ],
          "pie": [
           {
            "automargin": true,
            "type": "pie"
           }
          ],
          "scatter": [
           {
            "fillpattern": {
             "fillmode": "overlay",
             "size": 10,
             "solidity": 0.2
            },
            "type": "scatter"
           }
          ],
          "scatter3d": [
           {
            "line": {
             "colorbar": {
              "outlinewidth": 0,
              "tickcolor": "rgb(36,36,36)",
              "ticklen": 8,
              "ticks": "outside",
              "tickwidth": 2
             }
            },
            "marker": {
             "colorbar": {
              "outlinewidth": 0,
              "tickcolor": "rgb(36,36,36)",
              "ticklen": 8,
              "ticks": "outside",
              "tickwidth": 2
             }
            },
            "type": "scatter3d"
           }
          ],
          "scattercarpet": [
           {
            "marker": {
             "colorbar": {
              "outlinewidth": 0,
              "tickcolor": "rgb(36,36,36)",
              "ticklen": 8,
              "ticks": "outside",
              "tickwidth": 2
             }
            },
            "type": "scattercarpet"
           }
          ],
          "scattergeo": [
           {
            "marker": {
             "colorbar": {
              "outlinewidth": 0,
              "tickcolor": "rgb(36,36,36)",
              "ticklen": 8,
              "ticks": "outside",
              "tickwidth": 2
             }
            },
            "type": "scattergeo"
           }
          ],
          "scattergl": [
           {
            "marker": {
             "colorbar": {
              "outlinewidth": 0,
              "tickcolor": "rgb(36,36,36)",
              "ticklen": 8,
              "ticks": "outside",
              "tickwidth": 2
             }
            },
            "type": "scattergl"
           }
          ],
          "scattermapbox": [
           {
            "marker": {
             "colorbar": {
              "outlinewidth": 0,
              "tickcolor": "rgb(36,36,36)",
              "ticklen": 8,
              "ticks": "outside",
              "tickwidth": 2
             }
            },
            "type": "scattermapbox"
           }
          ],
          "scatterpolar": [
           {
            "marker": {
             "colorbar": {
              "outlinewidth": 0,
              "tickcolor": "rgb(36,36,36)",
              "ticklen": 8,
              "ticks": "outside",
              "tickwidth": 2
             }
            },
            "type": "scatterpolar"
           }
          ],
          "scatterpolargl": [
           {
            "marker": {
             "colorbar": {
              "outlinewidth": 0,
              "tickcolor": "rgb(36,36,36)",
              "ticklen": 8,
              "ticks": "outside",
              "tickwidth": 2
             }
            },
            "type": "scatterpolargl"
           }
          ],
          "scatterternary": [
           {
            "marker": {
             "colorbar": {
              "outlinewidth": 0,
              "tickcolor": "rgb(36,36,36)",
              "ticklen": 8,
              "ticks": "outside",
              "tickwidth": 2
             }
            },
            "type": "scatterternary"
           }
          ],
          "surface": [
           {
            "colorbar": {
             "outlinewidth": 0,
             "tickcolor": "rgb(36,36,36)",
             "ticklen": 8,
             "ticks": "outside",
             "tickwidth": 2
            },
            "colorscale": [
             [
              0,
              "rgb(2,4,25)"
             ],
             [
              0.06274509803921569,
              "rgb(24,15,41)"
             ],
             [
              0.12549019607843137,
              "rgb(47,23,57)"
             ],
             [
              0.18823529411764706,
              "rgb(71,28,72)"
             ],
             [
              0.25098039215686274,
              "rgb(97,30,82)"
             ],
             [
              0.3137254901960784,
              "rgb(123,30,89)"
             ],
             [
              0.3764705882352941,
              "rgb(150,27,91)"
             ],
             [
              0.4392156862745098,
              "rgb(177,22,88)"
             ],
             [
              0.5019607843137255,
              "rgb(203,26,79)"
             ],
             [
              0.5647058823529412,
              "rgb(223,47,67)"
             ],
             [
              0.6274509803921569,
              "rgb(236,76,61)"
             ],
             [
              0.6901960784313725,
              "rgb(242,107,73)"
             ],
             [
              0.7529411764705882,
              "rgb(244,135,95)"
             ],
             [
              0.8156862745098039,
              "rgb(245,162,122)"
             ],
             [
              0.8784313725490196,
              "rgb(246,188,153)"
             ],
             [
              0.9411764705882353,
              "rgb(247,212,187)"
             ],
             [
              1,
              "rgb(250,234,220)"
             ]
            ],
            "type": "surface"
           }
          ],
          "table": [
           {
            "cells": {
             "fill": {
              "color": "rgb(231,231,240)"
             },
             "line": {
              "color": "white"
             }
            },
            "header": {
             "fill": {
              "color": "rgb(183,183,191)"
             },
             "line": {
              "color": "white"
             }
            },
            "type": "table"
           }
          ]
         },
         "layout": {
          "annotationdefaults": {
           "arrowcolor": "rgb(67,103,167)"
          },
          "autotypenumbers": "strict",
          "coloraxis": {
           "colorbar": {
            "outlinewidth": 0,
            "tickcolor": "rgb(36,36,36)",
            "ticklen": 8,
            "ticks": "outside",
            "tickwidth": 2
           }
          },
          "colorscale": {
           "sequential": [
            [
             0,
             "rgb(2,4,25)"
            ],
            [
             0.06274509803921569,
             "rgb(24,15,41)"
            ],
            [
             0.12549019607843137,
             "rgb(47,23,57)"
            ],
            [
             0.18823529411764706,
             "rgb(71,28,72)"
            ],
            [
             0.25098039215686274,
             "rgb(97,30,82)"
            ],
            [
             0.3137254901960784,
             "rgb(123,30,89)"
            ],
            [
             0.3764705882352941,
             "rgb(150,27,91)"
            ],
            [
             0.4392156862745098,
             "rgb(177,22,88)"
            ],
            [
             0.5019607843137255,
             "rgb(203,26,79)"
            ],
            [
             0.5647058823529412,
             "rgb(223,47,67)"
            ],
            [
             0.6274509803921569,
             "rgb(236,76,61)"
            ],
            [
             0.6901960784313725,
             "rgb(242,107,73)"
            ],
            [
             0.7529411764705882,
             "rgb(244,135,95)"
            ],
            [
             0.8156862745098039,
             "rgb(245,162,122)"
            ],
            [
             0.8784313725490196,
             "rgb(246,188,153)"
            ],
            [
             0.9411764705882353,
             "rgb(247,212,187)"
            ],
            [
             1,
             "rgb(250,234,220)"
            ]
           ],
           "sequentialminus": [
            [
             0,
             "rgb(2,4,25)"
            ],
            [
             0.06274509803921569,
             "rgb(24,15,41)"
            ],
            [
             0.12549019607843137,
             "rgb(47,23,57)"
            ],
            [
             0.18823529411764706,
             "rgb(71,28,72)"
            ],
            [
             0.25098039215686274,
             "rgb(97,30,82)"
            ],
            [
             0.3137254901960784,
             "rgb(123,30,89)"
            ],
            [
             0.3764705882352941,
             "rgb(150,27,91)"
            ],
            [
             0.4392156862745098,
             "rgb(177,22,88)"
            ],
            [
             0.5019607843137255,
             "rgb(203,26,79)"
            ],
            [
             0.5647058823529412,
             "rgb(223,47,67)"
            ],
            [
             0.6274509803921569,
             "rgb(236,76,61)"
            ],
            [
             0.6901960784313725,
             "rgb(242,107,73)"
            ],
            [
             0.7529411764705882,
             "rgb(244,135,95)"
            ],
            [
             0.8156862745098039,
             "rgb(245,162,122)"
            ],
            [
             0.8784313725490196,
             "rgb(246,188,153)"
            ],
            [
             0.9411764705882353,
             "rgb(247,212,187)"
            ],
            [
             1,
             "rgb(250,234,220)"
            ]
           ]
          },
          "colorway": [
           "rgb(76,114,176)",
           "rgb(221,132,82)",
           "rgb(85,168,104)",
           "rgb(196,78,82)",
           "rgb(129,114,179)",
           "rgb(147,120,96)",
           "rgb(218,139,195)",
           "rgb(140,140,140)",
           "rgb(204,185,116)",
           "rgb(100,181,205)"
          ],
          "font": {
           "color": "rgb(36,36,36)"
          },
          "geo": {
           "bgcolor": "white",
           "lakecolor": "white",
           "landcolor": "rgb(234,234,242)",
           "showlakes": true,
           "showland": true,
           "subunitcolor": "white"
          },
          "hoverlabel": {
           "align": "left"
          },
          "hovermode": "closest",
          "paper_bgcolor": "white",
          "plot_bgcolor": "rgb(234,234,242)",
          "polar": {
           "angularaxis": {
            "gridcolor": "white",
            "linecolor": "white",
            "showgrid": true,
            "ticks": ""
           },
           "bgcolor": "rgb(234,234,242)",
           "radialaxis": {
            "gridcolor": "white",
            "linecolor": "white",
            "showgrid": true,
            "ticks": ""
           }
          },
          "scene": {
           "xaxis": {
            "backgroundcolor": "rgb(234,234,242)",
            "gridcolor": "white",
            "gridwidth": 2,
            "linecolor": "white",
            "showbackground": true,
            "showgrid": true,
            "ticks": "",
            "zerolinecolor": "white"
           },
           "yaxis": {
            "backgroundcolor": "rgb(234,234,242)",
            "gridcolor": "white",
            "gridwidth": 2,
            "linecolor": "white",
            "showbackground": true,
            "showgrid": true,
            "ticks": "",
            "zerolinecolor": "white"
           },
           "zaxis": {
            "backgroundcolor": "rgb(234,234,242)",
            "gridcolor": "white",
            "gridwidth": 2,
            "linecolor": "white",
            "showbackground": true,
            "showgrid": true,
            "ticks": "",
            "zerolinecolor": "white"
           }
          },
          "shapedefaults": {
           "fillcolor": "rgb(67,103,167)",
           "line": {
            "width": 0
           },
           "opacity": 0.5
          },
          "ternary": {
           "aaxis": {
            "gridcolor": "white",
            "linecolor": "white",
            "showgrid": true,
            "ticks": ""
           },
           "baxis": {
            "gridcolor": "white",
            "linecolor": "white",
            "showgrid": true,
            "ticks": ""
           },
           "bgcolor": "rgb(234,234,242)",
           "caxis": {
            "gridcolor": "white",
            "linecolor": "white",
            "showgrid": true,
            "ticks": ""
           }
          },
          "xaxis": {
           "automargin": true,
           "gridcolor": "white",
           "linecolor": "white",
           "showgrid": true,
           "ticks": "",
           "title": {
            "standoff": 15
           },
           "zerolinecolor": "white"
          },
          "yaxis": {
           "automargin": true,
           "gridcolor": "white",
           "linecolor": "white",
           "showgrid": true,
           "ticks": "",
           "title": {
            "standoff": 15
           },
           "zerolinecolor": "white"
          }
         }
        },
        "title": {
         "font": {
          "family": "Modern Computer",
          "size": 35
         },
         "text": "Number of publications per topic (survey year)",
         "x": 0.5
        },
        "xaxis": {
         "anchor": "y",
         "categoryorder": "total descending",
         "domain": [
          0,
          1
         ],
         "tickfont": {
          "size": 15
         },
         "title": {
          "font": {
           "size": 20
          },
          "text": "Topic"
         }
        },
        "yaxis": {
         "anchor": "x",
         "domain": [
          0,
          1
         ],
         "tickfont": {
          "size": 15
         },
         "title": {
          "font": {
           "size": 20
          },
          "text": "Number of publications"
         }
        }
       }
      }
     },
     "metadata": {},
     "output_type": "display_data"
    }
   ],
   "source": [
    "# histogram for number of publications per survey\n",
    "\n",
    "fig = px.histogram(core_pubs, x=\"Topic\", title=\"Number of publications per topic (survey year)\",\n",
    "                    labels={\"Topic\": \"Topic (survey year)\"}, color=\"Type\")\n",
    "fig.update_layout(xaxis_categoryorder=\"total descending\", **PLOT_CONFIGS)\n",
    "fig.update_xaxes(title_text=\"Topic\")\n",
    "fig.update_yaxes(title_text=\"Number of publications\")\n",
    "fig.show()\n"
   ]
  },
  {
   "cell_type": "code",
   "execution_count": 4,
   "metadata": {},
   "outputs": [
    {
     "data": {
      "application/vnd.plotly.v1+json": {
       "config": {
        "plotlyServerURL": "https://plot.ly"
       },
       "data": [
        {
         "alignmentgroup": "True",
         "boxpoints": "all",
         "hovertemplate": "Type=Bibliometric Analysis<br>Topic=%{x}<br>times_cited=%{y}<extra></extra>",
         "legendgroup": "Bibliometric Analysis",
         "marker": {
          "color": "rgb(76,114,176)"
         },
         "name": "Bibliometric Analysis",
         "notched": false,
         "offsetgroup": "Bibliometric Analysis",
         "orientation": "v",
         "showlegend": true,
         "type": "box",
         "x": [
          "Synthetic Biology (2012)",
          "Synthetic Biology (2012)",
          "Synthetic Biology (2012)",
          "Synthetic Biology (2012)",
          "Synthetic Biology (2012)",
          "Synthetic Biology (2012)",
          "Synthetic Biology (2012)",
          "Synthetic Biology (2012)",
          "Synthetic Biology (2012)",
          "Synthetic Biology (2012)",
          "Synthetic Biology (2012)",
          "Synthetic Biology (2012)",
          "Synthetic Biology (2012)",
          "Synthetic Biology (2012)",
          "Synthetic Biology (2012)",
          "Synthetic Biology (2012)",
          "Synthetic Biology (2012)",
          "Synthetic Biology (2012)",
          "Synthetic Biology (2012)",
          "Synthetic Biology (2012)",
          "Synthetic Biology (2012)",
          "Synthetic Biology (2012)",
          "Synthetic Biology (2012)",
          "Synthetic Biology (2012)",
          "Synthetic Biology (2012)",
          "Synthetic Biology (2012)",
          "Synthetic Biology (2012)",
          "Synthetic Biology (2012)",
          "Synthetic Biology (2012)",
          "Resilience in Business and management (2015)",
          "Resilience in Business and management (2015)",
          "Resilience in Business and management (2015)",
          "Resilience in Business and management (2015)",
          "Resilience in Business and management (2015)",
          "Resilience in Business and management (2015)",
          "Resilience in Business and management (2015)",
          "Resilience in Business and management (2015)",
          "Resilience in Business and management (2015)",
          "Resilience in Business and management (2015)",
          "Resilience in Business and management (2015)",
          "Resilience in Business and management (2015)",
          "Resilience in Business and management (2015)",
          "Resilience in Business and management (2015)",
          "Resilience in Business and management (2015)",
          "Resilience in Business and management (2015)",
          "Resilience in Business and management (2015)",
          "Resilience in Business and management (2015)",
          "Resilience in Business and management (2015)",
          "Resilience in Business and management (2015)",
          "Resilience in Business and management (2015)",
          "Cervical Myelopathy (2018)",
          "Cervical Myelopathy (2018)",
          "Cervical Myelopathy (2018)",
          "Cervical Myelopathy (2018)",
          "Cervical Myelopathy (2018)",
          "Cervical Myelopathy (2018)",
          "Cervical Myelopathy (2018)",
          "Cervical Myelopathy (2018)",
          "Cervical Myelopathy (2018)",
          "Cervical Myelopathy (2018)",
          "Cervical Myelopathy (2018)",
          "Cervical Myelopathy (2018)",
          "Cervical Myelopathy (2018)",
          "Cervical Myelopathy (2018)",
          "Cervical Myelopathy (2018)",
          "Cervical Myelopathy (2018)",
          "Cervical Myelopathy (2018)",
          "Cervical Myelopathy (2018)",
          "Cervical Myelopathy (2018)",
          "Cervical Myelopathy (2018)",
          "Cervical Myelopathy (2018)",
          "Cervical Myelopathy (2018)",
          "Cervical Myelopathy (2018)",
          "Cervical Myelopathy (2018)",
          "Cervical Myelopathy (2018)",
          "Cervical Myelopathy (2018)",
          "Cervical Myelopathy (2018)",
          "Cervical Myelopathy (2018)",
          "Cervical Myelopathy (2018)",
          "Cervical Myelopathy (2018)",
          "Cervical Myelopathy (2018)",
          "Cervical Myelopathy (2018)",
          "Cervical Myelopathy (2018)",
          "Cervical Myelopathy (2018)",
          "Cervical Myelopathy (2018)",
          "Cervical Myelopathy (2018)",
          "Cervical Myelopathy (2018)",
          "Cervical Myelopathy (2018)",
          "Cervical Myelopathy (2018)",
          "Cervical Myelopathy (2018)",
          "Cervical Myelopathy (2018)",
          "Cervical Myelopathy (2018)",
          "Cervical Myelopathy (2018)",
          "Cervical Myelopathy (2018)",
          "Drones in Agriculture (2022)",
          "Drones in Agriculture (2022)",
          "Drones in Agriculture (2022)",
          "Drones in Agriculture (2022)",
          "Drones in Agriculture (2022)",
          "Drones in Agriculture (2022)",
          "Drones in Agriculture (2022)",
          "Drones in Agriculture (2022)",
          "Drones in Agriculture (2022)",
          "Drones in Agriculture (2022)",
          "Drones in Agriculture (2022)",
          "Drones in Agriculture (2022)",
          "Drones in Agriculture (2022)",
          "Drones in Agriculture (2022)",
          "Drones in Agriculture (2022)",
          "Drones in Agriculture (2022)",
          "Drones in Agriculture (2022)",
          "Drones in Agriculture (2022)",
          "Drones in Agriculture (2022)",
          "Drones in Agriculture (2022)",
          "Drones in Agriculture (2022)",
          "Drones in Agriculture (2022)",
          "Drones in Agriculture (2022)",
          "Robotic Arthroplasty (2023)",
          "Robotic Arthroplasty (2023)",
          "Robotic Arthroplasty (2023)",
          "Robotic Arthroplasty (2023)",
          "Robotic Arthroplasty (2023)",
          "Robotic Arthroplasty (2023)",
          "Robotic Arthroplasty (2023)",
          "Robotic Arthroplasty (2023)",
          "Robotic Arthroplasty (2023)",
          "Robotic Arthroplasty (2023)",
          "Robotic Arthroplasty (2023)",
          "Robotic Arthroplasty (2023)",
          "Robotic Arthroplasty (2023)",
          "Robotic Arthroplasty (2023)",
          "Robotic Arthroplasty (2023)",
          "Robotic Arthroplasty (2023)",
          "Robotic Arthroplasty (2023)",
          "Robotic Arthroplasty (2023)",
          "Robotic Arthroplasty (2023)",
          "Robotic Arthroplasty (2023)",
          "Robotic Arthroplasty (2023)",
          "Robotic Arthroplasty (2023)",
          "Robotic Arthroplasty (2023)",
          "Robotic Arthroplasty (2023)",
          "Robotic Arthroplasty (2023)",
          "Robotic Arthroplasty (2023)",
          "Robotic Arthroplasty (2023)",
          "Robotic Arthroplasty (2023)",
          "Robotic Arthroplasty (2023)",
          "Robotic Arthroplasty (2023)",
          "Robotic Arthroplasty (2023)",
          "Robotic Arthroplasty (2023)",
          "Robotic Arthroplasty (2023)",
          "Robotic Arthroplasty (2023)",
          "Robotic Arthroplasty (2023)",
          "Robotic Arthroplasty (2023)",
          "Robotic Arthroplasty (2023)",
          "Robotic Arthroplasty (2023)",
          "Robotic Arthroplasty (2023)",
          "Robotic Arthroplasty (2023)",
          "Robotic Arthroplasty (2023)",
          "Robotic Arthroplasty (2023)",
          "Robotic Arthroplasty (2023)",
          "Robotic Arthroplasty (2023)",
          "Robotic Arthroplasty (2023)",
          "Robotic Arthroplasty (2023)",
          "Robotic Arthroplasty (2023)",
          "Soft Robotics (2018)",
          "Soft Robotics (2018)",
          "Soft Robotics (2018)",
          "Soft Robotics (2018)",
          "Soft Robotics (2018)",
          "Soft Robotics (2018)",
          "Soft Robotics (2018)",
          "Soft Robotics (2018)",
          "Soft Robotics (2018)",
          "Soft Robotics (2018)",
          "Soft Robotics (2018)",
          "Soft Robotics (2018)",
          "Soft Robotics (2018)",
          "Soft Robotics (2018)",
          "Soft Robotics (2018)",
          "Soft Robotics (2018)",
          "Soft Robotics (2018)",
          "Soft Robotics (2018)",
          "Soft Robotics (2018)",
          "Soft Robotics (2018)",
          "Soft Robotics (2018)",
          "Soft Robotics (2018)",
          "Soft Robotics (2018)",
          "Soft Robotics (2018)",
          "Soft Robotics (2018)",
          "Soft Robotics (2018)",
          "Soft Robotics (2018)",
          "Soft Robotics (2018)",
          "Soft Robotics (2018)",
          "Soft Robotics (2018)",
          "Soft Robotics (2018)",
          "Soft Robotics (2018)",
          "Soft Robotics (2018)",
          "Tourism Growth Nexus (2020)",
          "Tourism Growth Nexus (2020)",
          "Tourism Growth Nexus (2020)",
          "Tourism Growth Nexus (2020)",
          "Tourism Growth Nexus (2020)",
          "Tourism Growth Nexus (2020)",
          "Tourism Growth Nexus (2020)",
          "Tourism Growth Nexus (2020)",
          "Tourism Growth Nexus (2020)",
          "Tourism Growth Nexus (2020)",
          "Tourism Growth Nexus (2020)",
          "Tourism Growth Nexus (2020)",
          "Tourism Growth Nexus (2020)",
          "Tourism Growth Nexus (2020)",
          "Tourism Growth Nexus (2020)",
          "Tourism Growth Nexus (2020)",
          "Tourism Growth Nexus (2020)",
          "Tourism Growth Nexus (2020)",
          "Tourism Growth Nexus (2020)",
          "Tourism Growth Nexus (2020)",
          "Tourism Growth Nexus (2020)",
          "Tourism Growth Nexus (2020)",
          "Tourism Growth Nexus (2020)",
          "Tourism Growth Nexus (2020)",
          "Tourism Growth Nexus (2020)",
          "Sustainable Biofuel Economy (2023)",
          "Sustainable Biofuel Economy (2023)",
          "Sustainable Biofuel Economy (2023)",
          "Sustainable Biofuel Economy (2023)",
          "Sustainable Biofuel Economy (2023)",
          "Sustainable Biofuel Economy (2023)",
          "Sustainable Biofuel Economy (2023)",
          "Sustainable Biofuel Economy (2023)",
          "Sustainable Biofuel Economy (2023)",
          "Sustainable Biofuel Economy (2023)",
          "Sustainable Biofuel Economy (2023)",
          "Sustainable Biofuel Economy (2023)",
          "Sustainable Biofuel Economy (2023)",
          "Sustainable Biofuel Economy (2023)",
          "Sustainable Biofuel Economy (2023)",
          "Sustainable Biofuel Economy (2023)",
          "Sustainable Biofuel Economy (2023)",
          "Sustainable Biofuel Economy (2023)",
          "Sustainable Biofuel Economy (2023)",
          "Sustainable Biofuel Economy (2023)",
          "Sustainable Biofuel Economy (2023)",
          "Sustainable Biofuel Economy (2023)",
          "Sustainable Biofuel Economy (2023)",
          "Sustainable Biofuel Economy (2023)",
          "Sustainable Biofuel Economy (2023)",
          "Sustainable Biofuel Economy (2023)",
          "Sustainable Biofuel Economy (2023)",
          "Sustainable Biofuel Economy (2023)",
          "Sustainable Biofuel Economy (2023)",
          "Sustainable Biofuel Economy (2023)",
          "Sustainable Biofuel Economy (2023)",
          "Sustainable Biofuel Economy (2023)",
          "Sustainable Biofuel Economy (2023)",
          "Sustainable Biofuel Economy (2023)",
          "Sustainable Biofuel Economy (2023)",
          "Sustainable Biofuel Economy (2023)",
          "Sustainable Biofuel Economy (2023)",
          "Sustainable Biofuel Economy (2023)",
          "Sustainable Biofuel Economy (2023)",
          "Sustainable Biofuel Economy (2023)",
          "Sustainable Biofuel Economy (2023)",
          "Sustainable Biofuel Economy (2023)",
          "Sustainable Biofuel Economy (2023)",
          "Sustainable Biofuel Economy (2023)",
          "Sustainable Biofuel Economy (2023)",
          "Sustainable Biofuel Economy (2023)",
          "Sustainable Biofuel Economy (2023)",
          "Sustainable Biofuel Economy (2023)",
          "Nanopharmaceuticals OR Nanonutraceuticals (2020)",
          "Nanopharmaceuticals OR Nanonutraceuticals (2020)",
          "Nanopharmaceuticals OR Nanonutraceuticals (2020)",
          "Nanopharmaceuticals OR Nanonutraceuticals (2020)",
          "Nanopharmaceuticals OR Nanonutraceuticals (2020)",
          "Nanopharmaceuticals OR Nanonutraceuticals (2020)",
          "Nanopharmaceuticals OR Nanonutraceuticals (2020)",
          "Nanopharmaceuticals OR Nanonutraceuticals (2020)",
          "Nanopharmaceuticals OR Nanonutraceuticals (2020)",
          "Nanopharmaceuticals OR Nanonutraceuticals (2020)",
          "Nanopharmaceuticals OR Nanonutraceuticals (2020)",
          "Nanopharmaceuticals OR Nanonutraceuticals (2020)",
          "Nanopharmaceuticals OR Nanonutraceuticals (2020)",
          "Nanopharmaceuticals OR Nanonutraceuticals (2020)",
          "Nanopharmaceuticals OR Nanonutraceuticals (2020)",
          "Nanopharmaceuticals OR Nanonutraceuticals (2020)",
          "Nanopharmaceuticals OR Nanonutraceuticals (2020)",
          "Nanopharmaceuticals OR Nanonutraceuticals (2020)",
          "Nanopharmaceuticals OR Nanonutraceuticals (2020)",
          "Nanopharmaceuticals OR Nanonutraceuticals (2020)",
          "Nanopharmaceuticals OR Nanonutraceuticals (2020)",
          "Nanopharmaceuticals OR Nanonutraceuticals (2020)",
          "Nanopharmaceuticals OR Nanonutraceuticals (2020)",
          "Nanopharmaceuticals OR Nanonutraceuticals (2020)",
          "Nanopharmaceuticals OR Nanonutraceuticals (2020)",
          "Nanopharmaceuticals OR Nanonutraceuticals (2020)",
          "Nanopharmaceuticals OR Nanonutraceuticals (2020)",
          "Nanopharmaceuticals OR Nanonutraceuticals (2020)",
          "Nanopharmaceuticals OR Nanonutraceuticals (2020)",
          "Nanopharmaceuticals OR Nanonutraceuticals (2020)",
          "Nanopharmaceuticals OR Nanonutraceuticals (2020)",
          "Nanopharmaceuticals OR Nanonutraceuticals (2020)",
          "Nanopharmaceuticals OR Nanonutraceuticals (2020)",
          "Nanopharmaceuticals OR Nanonutraceuticals (2020)",
          "Nanopharmaceuticals OR Nanonutraceuticals (2020)",
          "Nanopharmaceuticals OR Nanonutraceuticals (2020)",
          "Nanopharmaceuticals OR Nanonutraceuticals (2020)",
          "Nanopharmaceuticals OR Nanonutraceuticals (2020)",
          "Nanopharmaceuticals OR Nanonutraceuticals (2020)",
          "Nanopharmaceuticals OR Nanonutraceuticals (2020)",
          "Nanopharmaceuticals OR Nanonutraceuticals (2020)",
          "Nanopharmaceuticals OR Nanonutraceuticals (2020)",
          "Nanopharmaceuticals OR Nanonutraceuticals (2020)",
          "Nanopharmaceuticals OR Nanonutraceuticals (2020)",
          "Nanopharmaceuticals OR Nanonutraceuticals (2020)",
          "Nanopharmaceuticals OR Nanonutraceuticals (2020)",
          "Nanopharmaceuticals OR Nanonutraceuticals (2020)",
          "Nanopharmaceuticals OR Nanonutraceuticals (2020)",
          "Nanopharmaceuticals OR Nanonutraceuticals (2020)",
          "Nanopharmaceuticals OR Nanonutraceuticals (2020)",
          "Perovskite Solar Cells Stability (2024)",
          "Perovskite Solar Cells Stability (2024)",
          "Perovskite Solar Cells Stability (2024)",
          "Perovskite Solar Cells Stability (2024)",
          "Perovskite Solar Cells Stability (2024)",
          "Perovskite Solar Cells Stability (2024)",
          "Perovskite Solar Cells Stability (2024)",
          "Perovskite Solar Cells Stability (2024)",
          "Perovskite Solar Cells Stability (2024)",
          "Perovskite Solar Cells Stability (2024)",
          "Perovskite Solar Cells Stability (2024)",
          "Perovskite Solar Cells Stability (2024)",
          "Perovskite Solar Cells Stability (2024)",
          "Perovskite Solar Cells Stability (2024)",
          "Perovskite Solar Cells Stability (2024)",
          "Perovskite Solar Cells Stability (2024)",
          "Perovskite Solar Cells Stability (2024)",
          "Perovskite Solar Cells Stability (2024)",
          "Perovskite Solar Cells Stability (2024)",
          "Perovskite Solar Cells Stability (2024)",
          "Perovskite Solar Cells Stability (2024)",
          "Perovskite Solar Cells Stability (2024)",
          "Perovskite Solar Cells Stability (2024)",
          "Perovskite Solar Cells Stability (2024)",
          "Perovskite Solar Cells Stability (2024)",
          "Perovskite Solar Cells Stability (2024)",
          "Perovskite Solar Cells Stability (2024)",
          "Perovskite Solar Cells Stability (2024)",
          "Perovskite Solar Cells Stability (2024)",
          "Energy Growth Nexus (2010)",
          "Energy Growth Nexus (2010)",
          "Energy Growth Nexus (2010)",
          "Energy Growth Nexus (2010)",
          "Energy Growth Nexus (2010)",
          "Energy Growth Nexus (2010)",
          "Energy Growth Nexus (2010)",
          "Energy Growth Nexus (2010)",
          "Energy Growth Nexus (2010)",
          "Energy Growth Nexus (2010)",
          "Energy Growth Nexus (2010)",
          "Energy Growth Nexus (2010)",
          "Energy Growth Nexus (2010)",
          "Energy Growth Nexus (2010)",
          "Energy Growth Nexus (2010)",
          "Energy Growth Nexus (2010)",
          "Energy Growth Nexus (2010)",
          "Energy Growth Nexus (2010)",
          "Energy Growth Nexus (2010)",
          "Energy Growth Nexus (2010)",
          "Energy Growth Nexus (2010)",
          "Energy Growth Nexus (2010)",
          "Energy Growth Nexus (2010)",
          "Energy Growth Nexus (2010)",
          "Energy Growth Nexus (2010)",
          "Energy Growth Nexus (2010)",
          "Energy Growth Nexus (2010)",
          "Green Warehousing (2023)",
          "Green Warehousing (2023)",
          "Green Warehousing (2023)",
          "Green Warehousing (2023)",
          "Green Warehousing (2023)",
          "Green Warehousing (2023)",
          "Green Warehousing (2023)",
          "Green Warehousing (2023)",
          "Green Warehousing (2023)",
          "Green Warehousing (2023)",
          "Green Warehousing (2023)",
          "Green Warehousing (2023)",
          "Green Warehousing (2023)",
          "Green Warehousing (2023)",
          "Green Warehousing (2023)",
          "Green Warehousing (2023)",
          "Green Warehousing (2023)",
          "Green Warehousing (2023)",
          "Green Warehousing (2023)",
          "Green Warehousing (2023)",
          "Green Warehousing (2023)",
          "Green Warehousing (2023)",
          "Green Warehousing (2023)",
          "Green Warehousing (2023)",
          "Green Warehousing (2023)",
          "Green Warehousing (2023)",
          "Green Warehousing (2023)",
          "Green Warehousing (2023)",
          "Green Warehousing (2023)",
          "Green Warehousing (2023)",
          "Green Warehousing (2023)",
          "Green Warehousing (2023)",
          "Green Warehousing (2023)",
          "Green Warehousing (2023)",
          "Internet of Things in Healthcare (2018)",
          "Internet of Things in Healthcare (2018)",
          "Internet of Things in Healthcare (2018)",
          "Internet of Things in Healthcare (2018)",
          "Internet of Things in Healthcare (2018)",
          "Internet of Things in Healthcare (2018)",
          "Internet of Things in Healthcare (2018)",
          "Internet of Things in Healthcare (2018)",
          "Internet of Things in Healthcare (2018)",
          "Internet of Things in Healthcare (2018)",
          "Internet of Things in Healthcare (2018)",
          "Internet of Things in Healthcare (2018)",
          "Internet of Things in Healthcare (2018)",
          "Internet of Things in Healthcare (2018)",
          "Internet of Things in Healthcare (2018)",
          "Internet of Things in Healthcare (2018)",
          "Internet of Things in Healthcare (2018)",
          "Internet of Things in Healthcare (2018)",
          "Internet of Things in Healthcare (2018)",
          "Internet of Things in Healthcare (2018)",
          "Internet of Things in Healthcare (2018)",
          "Internet of Things in Healthcare (2018)",
          "Internet of Things in Healthcare (2018)",
          "Internet of Things in Healthcare (2018)",
          "Internet of Things in Healthcare (2018)",
          "Internet of Things in Healthcare (2018)",
          "Internet of Things in Healthcare (2018)",
          "AI on Edge Devices (2022)",
          "AI on Edge Devices (2022)",
          "AI on Edge Devices (2022)",
          "AI on Edge Devices (2022)",
          "AI on Edge Devices (2022)",
          "AI on Edge Devices (2022)",
          "AI on Edge Devices (2022)",
          "AI on Edge Devices (2022)",
          "AI on Edge Devices (2022)",
          "AI on Edge Devices (2022)",
          "AI on Edge Devices (2022)",
          "AI on Edge Devices (2022)",
          "AI on Edge Devices (2022)",
          "AI on Edge Devices (2022)",
          "AI on Edge Devices (2022)",
          "AI on Edge Devices (2022)",
          "AI on Edge Devices (2022)",
          "AI on Edge Devices (2022)",
          "AI on Edge Devices (2022)",
          "AI on Edge Devices (2022)",
          "AI on Edge Devices (2022)",
          "AI on Edge Devices (2022)",
          "AI on Edge Devices (2022)",
          "AI on Edge Devices (2022)",
          "AI on Edge Devices (2022)",
          "AI on Edge Devices (2022)",
          "AI on Edge Devices (2022)",
          "AI on Edge Devices (2022)",
          "AI on Edge Devices (2022)",
          "AI on Edge Devices (2022)",
          "AI on Edge Devices (2022)",
          "AI on Edge Devices (2022)",
          "AI on Edge Devices (2022)",
          "AI on Edge Devices (2022)",
          "AI on Edge Devices (2022)",
          "AI on Edge Devices (2022)",
          "Crop Yield Prediction (2020)",
          "Crop Yield Prediction (2020)",
          "Crop Yield Prediction (2020)",
          "Crop Yield Prediction (2020)",
          "Crop Yield Prediction (2020)",
          "Crop Yield Prediction (2020)",
          "Crop Yield Prediction (2020)",
          "Crop Yield Prediction (2020)",
          "Crop Yield Prediction (2020)",
          "Crop Yield Prediction (2020)",
          "Crop Yield Prediction (2020)",
          "Crop Yield Prediction (2020)",
          "Crop Yield Prediction (2020)",
          "Crop Yield Prediction (2020)",
          "Crop Yield Prediction (2020)",
          "Crop Yield Prediction (2020)",
          "Crop Yield Prediction (2020)",
          "Crop Yield Prediction (2020)",
          "Crop Yield Prediction (2020)",
          "Crop Yield Prediction (2020)",
          "Crop Yield Prediction (2020)",
          "Crop Yield Prediction (2020)",
          "Crop Yield Prediction (2020)",
          "Crop Yield Prediction (2020)",
          "Crop Yield Prediction (2020)",
          "Crop Yield Prediction (2020)",
          "Crop Yield Prediction (2020)",
          "Crop Yield Prediction (2020)",
          "Crop Yield Prediction (2020)",
          "Crop Yield Prediction (2020)",
          "Crop Yield Prediction (2020)",
          "Crop Yield Prediction (2020)",
          "Crop Yield Prediction (2020)",
          "Crop Yield Prediction (2020)",
          "Crop Yield Prediction (2020)",
          "Crop Yield Prediction (2020)",
          "Crop Yield Prediction (2020)",
          "Crop Yield Prediction (2020)",
          "Crop Yield Prediction (2020)",
          "Crop Yield Prediction (2020)",
          "Crop Yield Prediction (2020)",
          "Crop Yield Prediction (2020)",
          "Crop Yield Prediction (2020)",
          "Crop Yield Prediction (2020)"
         ],
         "x0": " ",
         "xaxis": "x",
         "y": [
          520,
          633,
          1480,
          657,
          310,
          3659,
          3954,
          1002,
          2364,
          1082,
          44,
          1235,
          4834,
          330,
          530,
          535,
          460,
          360,
          1347,
          774,
          315,
          397,
          483,
          1031,
          1022,
          2129,
          619,
          407,
          551,
          1417,
          286,
          799,
          2017,
          1514,
          2287,
          851,
          531,
          1032,
          1208,
          1255,
          1078,
          3059,
          763,
          282,
          1488,
          840,
          916,
          877,
          632,
          789,
          346,
          420,
          398,
          384,
          915,
          725,
          1541,
          208,
          201,
          193,
          215,
          204,
          212,
          201,
          218,
          205,
          269,
          231,
          193,
          290,
          229,
          274,
          263,
          252,
          323,
          318,
          252,
          261,
          247,
          240,
          392,
          285,
          323,
          360,
          207,
          225,
          421,
          364,
          360,
          273,
          298,
          345,
          470,
          416,
          325,
          319,
          373,
          1043,
          72,
          170,
          63,
          1564,
          720,
          1027,
          1367,
          1360,
          55,
          389,
          439,
          514,
          400,
          585,
          411,
          910,
          450,
          532,
          698,
          96,
          105,
          74,
          176,
          65,
          83,
          86,
          100,
          113,
          90,
          103,
          77,
          105,
          133,
          117,
          111,
          150,
          147,
          101,
          139,
          126,
          138,
          150,
          231,
          112,
          165,
          127,
          126,
          136,
          152,
          22,
          208,
          290,
          194,
          203,
          210,
          164,
          189,
          264,
          218,
          327,
          233,
          250,
          353,
          308,
          297,
          377,
          448,
          808,
          485,
          466,
          217,
          1147,
          505,
          80,
          73,
          78,
          4302,
          142,
          163,
          767,
          314,
          1049,
          275,
          325,
          1010,
          191,
          242,
          171,
          243,
          971,
          503,
          758,
          513,
          390,
          1698,
          871,
          1325,
          1779,
          974,
          193,
          214,
          181,
          127,
          210,
          177,
          165,
          259,
          179,
          263,
          298,
          279,
          335,
          393,
          313,
          412,
          0,
          229,
          496,
          586,
          403,
          527,
          639,
          1042,
          671,
          107,
          86,
          108,
          143,
          128,
          145,
          111,
          138,
          119,
          128,
          131,
          111,
          170,
          159,
          152,
          132,
          197,
          152,
          138,
          137,
          162,
          200,
          137,
          151,
          156,
          162,
          297,
          161,
          196,
          199,
          172,
          259,
          185,
          248,
          192,
          257,
          220,
          202,
          222,
          249,
          238,
          273,
          236,
          290,
          251,
          349,
          266,
          735,
          1176,
          958,
          1047,
          989,
          1047,
          1324,
          1595,
          948,
          1091,
          1386,
          1151,
          1029,
          1024,
          1214,
          1362,
          1657,
          1160,
          1840,
          1055,
          1327,
          1146,
          1263,
          1616,
          1587,
          1463,
          1545,
          1328,
          1890,
          2150,
          1731,
          2163,
          1800,
          1562,
          1769,
          1609,
          2033,
          3395,
          2331,
          1883,
          2272,
          2126,
          2750,
          2612,
          5621,
          3159,
          3794,
          4120,
          5029,
          4367,
          4931,
          41,
          13,
          29,
          6,
          52,
          140,
          175,
          196,
          198,
          116,
          94,
          191,
          191,
          203,
          177,
          275,
          238,
          231,
          222,
          292,
          271,
          262,
          274,
          402,
          368,
          530,
          608,
          688,
          1063,
          493,
          1111,
          475,
          488,
          0,
          596,
          64,
          905,
          1065,
          577,
          1091,
          315,
          457,
          1041,
          520,
          154,
          569,
          1089,
          632,
          826,
          829,
          832,
          1105,
          1154,
          1347,
          0,
          628,
          19,
          2,
          79,
          11,
          6,
          33,
          2,
          70,
          20,
          8,
          9,
          19,
          169,
          6,
          19,
          6,
          52,
          1,
          85,
          24,
          17,
          45,
          125,
          107,
          1,
          66,
          4,
          85,
          38,
          3,
          20,
          66,
          27,
          265,
          80,
          383,
          88,
          17,
          357,
          46,
          137,
          69,
          154,
          192,
          198,
          21,
          379,
          20,
          70,
          111,
          212,
          73,
          197,
          239,
          82,
          60,
          10,
          4,
          108,
          64,
          21,
          29,
          1,
          13,
          6,
          2,
          14,
          1,
          6,
          12,
          147,
          4,
          8,
          112,
          93,
          127,
          3,
          76,
          30,
          4,
          111,
          120,
          78,
          153,
          22,
          40,
          90,
          1196,
          451,
          256,
          98,
          1282,
          551,
          58,
          29,
          7,
          991,
          32,
          52,
          183,
          86,
          182,
          8,
          58,
          65,
          120,
          217,
          299,
          14,
          165,
          141,
          120,
          4,
          82,
          380,
          96,
          0,
          55,
          109,
          90,
          143,
          250,
          21,
          473,
          422,
          109,
          78,
          68,
          21,
          22,
          7,
          175,
          75,
          23,
          67,
          228,
          18,
          16,
          15,
          39,
          37
         ],
         "y0": " ",
         "yaxis": "y"
        },
        {
         "alignmentgroup": "True",
         "boxpoints": "all",
         "hovertemplate": "Type=Systematic Literature Review<br>Topic=%{x}<br>times_cited=%{y}<extra></extra>",
         "legendgroup": "Systematic Literature Review",
         "marker": {
          "color": "rgb(221,132,82)"
         },
         "name": "Systematic Literature Review",
         "notched": false,
         "offsetgroup": "Systematic Literature Review",
         "orientation": "v",
         "showlegend": true,
         "type": "box",
         "x": [
          "Software Process Line (2019)",
          "Software Process Line (2019)",
          "Software Process Line (2019)",
          "Software Process Line (2019)",
          "Software Process Line (2019)",
          "Software Process Line (2019)",
          "Software Process Line (2019)",
          "Software Process Line (2019)",
          "Software Process Line (2019)",
          "Software Process Line (2019)",
          "Software Process Line (2019)",
          "Software Process Line (2019)",
          "Software Process Line (2019)",
          "Software Process Line (2019)",
          "Software Process Line (2019)",
          "Software Process Line (2019)",
          "Software Process Line (2019)",
          "Software Process Line (2019)",
          "Software Process Line (2019)",
          "Software Process Line (2019)",
          "Software Process Line (2019)",
          "Software Process Line (2019)",
          "Software Process Line (2019)",
          "Software Process Line (2019)",
          "Software Process Line (2019)",
          "Software Process Line (2019)",
          "Software Process Line (2019)",
          "Software Process Line (2019)",
          "Software Process Line (2019)",
          "Software Process Line (2019)",
          "Software Process Line (2019)",
          "Software Process Line (2019)",
          "Software Process Line (2019)",
          "Software Process Line (2019)",
          "Software Process Line (2019)",
          "Data Stream Processing Latency (2019)",
          "Data Stream Processing Latency (2019)",
          "Data Stream Processing Latency (2019)",
          "Data Stream Processing Latency (2019)",
          "Data Stream Processing Latency (2019)",
          "Data Stream Processing Latency (2019)",
          "Data Stream Processing Latency (2019)",
          "Data Stream Processing Latency (2019)",
          "Data Stream Processing Latency (2019)",
          "Data Stream Processing Latency (2019)",
          "Data Stream Processing Latency (2019)",
          "Data Stream Processing Latency (2019)",
          "Data Stream Processing Latency (2019)",
          "Data Stream Processing Latency (2019)",
          "Data Stream Processing Latency (2019)",
          "Data Stream Processing Latency (2019)",
          "Data Stream Processing Latency (2019)",
          "Data Stream Processing Latency (2019)",
          "Data Stream Processing Latency (2019)",
          "Data Stream Processing Latency (2019)",
          "Data Stream Processing Latency (2019)",
          "Data Stream Processing Latency (2019)",
          "Data Stream Processing Latency (2019)",
          "Data Stream Processing Latency (2019)",
          "Data Stream Processing Latency (2019)",
          "Data Stream Processing Latency (2019)",
          "Data Stream Processing Latency (2019)",
          "Data Stream Processing Latency (2019)",
          "Data Stream Processing Latency (2019)",
          "Data Stream Processing Latency (2019)",
          "Data Stream Processing Latency (2019)",
          "Data Stream Processing Latency (2019)",
          "Data Stream Processing Latency (2019)",
          "Data Stream Processing Latency (2019)",
          "Data Stream Processing Latency (2019)",
          "Data Stream Processing Latency (2019)",
          "Data Stream Processing Latency (2019)",
          "Data Stream Processing Latency (2019)",
          "Data Stream Processing Latency (2019)",
          "Data Stream Processing Latency (2019)",
          "Data Stream Processing Latency (2019)",
          "Data Stream Processing Latency (2019)",
          "Data Stream Processing Latency (2019)",
          "Data Stream Processing Latency (2019)",
          "Data Stream Processing Latency (2019)",
          "Data Stream Processing Latency (2019)",
          "Data Stream Processing Latency (2019)",
          "Data Stream Processing Latency (2019)",
          "Data Stream Processing Latency (2019)",
          "Data Stream Processing Latency (2019)",
          "Data Stream Processing Latency (2019)",
          "Data Stream Processing Latency (2019)",
          "Data Stream Processing Latency (2019)",
          "Data Stream Processing Latency (2019)",
          "Data Stream Processing Latency (2019)",
          "Data Stream Processing Latency (2019)",
          "Data Stream Processing Latency (2019)",
          "Data Stream Processing Latency (2019)",
          "Data Stream Processing Latency (2019)",
          "Data Stream Processing Latency (2019)",
          "Data Stream Processing Latency (2019)",
          "Data Stream Processing Latency (2019)",
          "Data Stream Processing Latency (2019)",
          "Data Stream Processing Latency (2019)",
          "Data Stream Processing Latency (2019)",
          "Data Stream Processing Latency (2019)",
          "Data Stream Processing Latency (2019)",
          "Data Stream Processing Latency (2019)",
          "Business Process Meta Models (2021)",
          "Business Process Meta Models (2021)",
          "Business Process Meta Models (2021)",
          "Business Process Meta Models (2021)",
          "Business Process Meta Models (2021)",
          "Business Process Meta Models (2021)",
          "Business Process Meta Models (2021)",
          "Business Process Meta Models (2021)",
          "Business Process Meta Models (2021)",
          "Business Process Meta Models (2021)",
          "Business Process Meta Models (2021)",
          "Business Process Meta Models (2021)",
          "Business Process Meta Models (2021)",
          "Business Process Meta Models (2021)",
          "Business Process Meta Models (2021)",
          "Business Process Meta Models (2021)",
          "Business Process Meta Models (2021)",
          "Business Process Meta Models (2021)",
          "Business Process Meta Models (2021)",
          "Business Process Meta Models (2021)",
          "Business Process Meta Models (2021)",
          "Business Process Meta Models (2021)",
          "Multicore Performance Prediction (2017)",
          "Multicore Performance Prediction (2017)",
          "Multicore Performance Prediction (2017)",
          "Multicore Performance Prediction (2017)",
          "Multicore Performance Prediction (2017)",
          "Multicore Performance Prediction (2017)",
          "Multicore Performance Prediction (2017)",
          "Multicore Performance Prediction (2017)",
          "Multicore Performance Prediction (2017)",
          "Multicore Performance Prediction (2017)",
          "Multicore Performance Prediction (2017)",
          "Multicore Performance Prediction (2017)",
          "Multicore Performance Prediction (2017)",
          "Multicore Performance Prediction (2017)",
          "Multicore Performance Prediction (2017)",
          "Multicore Performance Prediction (2017)",
          "Multicore Performance Prediction (2017)",
          "Multicore Performance Prediction (2017)",
          "Multicore Performance Prediction (2017)",
          "Multicore Performance Prediction (2017)",
          "Multicore Performance Prediction (2017)",
          "Multicore Performance Prediction (2017)",
          "Multicore Performance Prediction (2017)",
          "Multicore Performance Prediction (2017)",
          "Multicore Performance Prediction (2017)",
          "Multicore Performance Prediction (2017)",
          "Multicore Performance Prediction (2017)",
          "Multicore Performance Prediction (2017)",
          "Multicore Performance Prediction (2017)",
          "Multicore Performance Prediction (2017)",
          "Multicore Performance Prediction (2017)",
          "Multicore Performance Prediction (2017)",
          "Multicore Performance Prediction (2017)",
          "Cloud Migration (2014)",
          "Cloud Migration (2014)",
          "Cloud Migration (2014)",
          "Cloud Migration (2014)",
          "Cloud Migration (2014)",
          "Cloud Migration (2014)",
          "Cloud Migration (2014)",
          "Cloud Migration (2014)",
          "Cloud Migration (2014)",
          "Cloud Migration (2014)",
          "Cloud Migration (2014)",
          "Cloud Migration (2014)",
          "Cloud Migration (2014)",
          "Cloud Migration (2014)",
          "Cloud Migration (2014)",
          "Cloud Migration (2014)",
          "Cloud Migration (2014)",
          "Cloud Migration (2014)",
          "Cloud Migration (2014)",
          "Cloud Migration (2014)",
          "Cloud Migration (2014)",
          "Cloud Migration (2014)",
          "Cloud Migration (2014)",
          "Cloud Migration (2014)",
          "Cloud Migration (2014)",
          "Cloud Migration (2014)",
          "Cloud Migration (2014)",
          "Software Fault Prediction Metrics (2013)",
          "Software Fault Prediction Metrics (2013)",
          "Software Fault Prediction Metrics (2013)",
          "Software Fault Prediction Metrics (2013)",
          "Software Fault Prediction Metrics (2013)",
          "Software Fault Prediction Metrics (2013)",
          "Software Fault Prediction Metrics (2013)",
          "Software Fault Prediction Metrics (2013)",
          "Software Fault Prediction Metrics (2013)",
          "Software Fault Prediction Metrics (2013)",
          "Software Fault Prediction Metrics (2013)",
          "Software Fault Prediction Metrics (2013)",
          "Software Fault Prediction Metrics (2013)",
          "Software Fault Prediction Metrics (2013)",
          "Software Fault Prediction Metrics (2013)",
          "Software Fault Prediction Metrics (2013)",
          "Software Fault Prediction Metrics (2013)",
          "Software Fault Prediction Metrics (2013)",
          "Software Fault Prediction Metrics (2013)",
          "Software Fault Prediction Metrics (2013)",
          "Software Fault Prediction Metrics (2013)",
          "Software Fault Prediction Metrics (2013)",
          "Software Fault Prediction Metrics (2013)",
          "Software Fault Prediction Metrics (2013)",
          "Software Fault Prediction Metrics (2013)",
          "Software Fault Prediction Metrics (2013)",
          "Software Fault Prediction Metrics (2013)",
          "Software Fault Prediction Metrics (2013)",
          "Software Fault Prediction Metrics (2013)",
          "Software Fault Prediction Metrics (2013)",
          "Software Fault Prediction Metrics (2013)",
          "Software Fault Prediction Metrics (2013)",
          "Software Fault Prediction Metrics (2013)",
          "Software Fault Prediction Metrics (2013)",
          "Software Fault Prediction Metrics (2013)",
          "Software Fault Prediction Metrics (2013)",
          "Software Fault Prediction Metrics (2013)",
          "Software Fault Prediction Metrics (2013)",
          "Software Fault Prediction Metrics (2013)",
          "Software Fault Prediction Metrics (2013)",
          "Software Fault Prediction Metrics (2013)",
          "Software Fault Prediction Metrics (2013)",
          "Software Fault Prediction Metrics (2013)",
          "Software Fault Prediction Metrics (2013)",
          "Software Fault Prediction Metrics (2013)",
          "Software Fault Prediction Metrics (2013)",
          "Software Fault Prediction Metrics (2013)",
          "Software Fault Prediction Metrics (2013)",
          "Software Defect Prediction (2015)",
          "Software Defect Prediction (2015)",
          "Software Defect Prediction (2015)",
          "Software Defect Prediction (2015)",
          "Software Defect Prediction (2015)",
          "Software Defect Prediction (2015)",
          "Software Defect Prediction (2015)",
          "Software Defect Prediction (2015)",
          "Software Defect Prediction (2015)",
          "Software Defect Prediction (2015)",
          "Software Defect Prediction (2015)",
          "Software Defect Prediction (2015)",
          "Software Defect Prediction (2015)",
          "Software Defect Prediction (2015)",
          "Software Defect Prediction (2015)",
          "Software Defect Prediction (2015)",
          "Software Defect Prediction (2015)",
          "Software Defect Prediction (2015)",
          "Software Defect Prediction (2015)",
          "Software Defect Prediction (2015)",
          "Software Defect Prediction (2015)",
          "Software Defect Prediction (2015)",
          "Software Defect Prediction (2015)",
          "Software Defect Prediction (2015)",
          "Software Defect Prediction (2015)",
          "Software Defect Prediction (2015)",
          "Software Defect Prediction (2015)",
          "Software Defect Prediction (2015)",
          "Software Defect Prediction (2015)",
          "Software Defect Prediction (2015)",
          "Software Defect Prediction (2015)",
          "Software Defect Prediction (2015)",
          "Software Defect Prediction (2015)",
          "Software Defect Prediction (2015)",
          "Software Defect Prediction (2015)",
          "Software Defect Prediction (2015)",
          "Software Defect Prediction (2015)",
          "Software Defect Prediction (2015)",
          "Software Defect Prediction (2015)",
          "Software Defect Prediction (2015)",
          "Software Defect Prediction (2015)",
          "Software Defect Prediction (2015)",
          "Software Defect Prediction (2015)",
          "Software Defect Prediction (2015)",
          "Software Defect Prediction (2015)",
          "Software Defect Prediction (2015)",
          "Software Defect Prediction (2015)",
          "Software Defect Prediction (2015)",
          "Software Defect Prediction (2015)",
          "Software Defect Prediction (2015)",
          "Software Defect Prediction (2015)",
          "Software Defect Prediction (2015)",
          "Software Defect Prediction (2015)"
         ],
         "x0": " ",
         "xaxis": "x",
         "y": [
          33,
          1,
          17,
          12,
          39,
          68,
          20,
          2,
          28,
          6,
          14,
          35,
          10,
          6,
          17,
          18,
          11,
          7,
          3,
          13,
          6,
          6,
          5,
          5,
          7,
          14,
          4,
          7,
          2,
          5,
          2,
          9,
          26,
          0,
          5,
          24,
          64,
          13,
          17,
          66,
          19,
          14,
          172,
          179,
          11,
          17,
          23,
          98,
          151,
          6,
          49,
          22,
          48,
          13,
          93,
          17,
          43,
          3,
          50,
          9,
          8,
          4,
          32,
          10,
          41,
          16,
          34,
          0,
          11,
          70,
          7,
          8,
          3,
          7,
          25,
          17,
          3,
          2,
          18,
          7,
          35,
          125,
          28,
          283,
          17,
          3,
          24,
          16,
          19,
          14,
          3,
          7,
          5,
          42,
          7,
          7,
          5,
          12,
          2,
          7,
          23,
          36,
          75,
          9,
          138,
          9,
          3,
          22,
          340,
          9,
          9,
          40,
          41,
          78,
          48,
          12,
          11,
          43,
          5,
          161,
          31,
          25,
          54,
          39,
          10,
          2,
          124,
          21,
          31,
          40,
          243,
          12,
          121,
          8,
          11,
          43,
          422,
          27,
          7,
          8,
          38,
          56,
          13,
          18,
          2,
          3,
          5,
          4,
          0,
          0,
          152,
          3,
          307,
          40,
          194,
          21,
          5,
          61,
          43,
          22,
          268,
          17,
          10,
          130,
          7,
          20,
          21,
          41,
          8,
          34,
          45,
          221,
          16,
          81,
          29,
          163,
          24,
          51,
          38,
          13,
          277,
          105,
          48,
          43,
          196,
          136,
          1177,
          254,
          81,
          30,
          71,
          74,
          21,
          141,
          555,
          79,
          6,
          34,
          302,
          236,
          25,
          96,
          39,
          24,
          677,
          400,
          4,
          256,
          50,
          227,
          584,
          153,
          146,
          70,
          1021,
          214,
          21,
          575,
          304,
          451,
          17,
          548,
          31,
          24,
          117,
          11,
          101,
          474,
          16,
          9,
          38,
          140,
          61,
          409,
          42,
          104,
          419,
          151,
          397,
          22,
          49,
          271,
          578,
          46,
          121,
          174,
          377,
          356,
          89,
          278,
          77,
          241,
          55,
          241,
          52,
          121,
          41,
          149,
          383,
          76,
          153,
          8,
          167,
          417,
          439,
          45,
          118,
          36,
          26,
          27,
          551,
          88,
          102,
          43,
          21,
          150,
          256,
          23,
          61,
          1021,
          59,
          22,
          138,
          64,
          153,
          932
         ],
         "y0": " ",
         "yaxis": "y"
        }
       ],
       "layout": {
        "boxmode": "group",
        "font": {
         "family": "Modern Computer"
        },
        "height": 450,
        "legend": {
         "font": {
          "size": 15
         },
         "title": {
          "text": ""
         },
         "tracegroupgap": 0
        },
        "showlegend": true,
        "template": {
         "data": {
          "bar": [
           {
            "error_x": {
             "color": "rgb(36,36,36)"
            },
            "error_y": {
             "color": "rgb(36,36,36)"
            },
            "marker": {
             "line": {
              "color": "rgb(234,234,242)",
              "width": 0.5
             },
             "pattern": {
              "fillmode": "overlay",
              "size": 10,
              "solidity": 0.2
             }
            },
            "type": "bar"
           }
          ],
          "barpolar": [
           {
            "marker": {
             "line": {
              "color": "rgb(234,234,242)",
              "width": 0.5
             },
             "pattern": {
              "fillmode": "overlay",
              "size": 10,
              "solidity": 0.2
             }
            },
            "type": "barpolar"
           }
          ],
          "carpet": [
           {
            "aaxis": {
             "endlinecolor": "rgb(36,36,36)",
             "gridcolor": "white",
             "linecolor": "white",
             "minorgridcolor": "white",
             "startlinecolor": "rgb(36,36,36)"
            },
            "baxis": {
             "endlinecolor": "rgb(36,36,36)",
             "gridcolor": "white",
             "linecolor": "white",
             "minorgridcolor": "white",
             "startlinecolor": "rgb(36,36,36)"
            },
            "type": "carpet"
           }
          ],
          "choropleth": [
           {
            "colorbar": {
             "outlinewidth": 0,
             "tickcolor": "rgb(36,36,36)",
             "ticklen": 8,
             "ticks": "outside",
             "tickwidth": 2
            },
            "type": "choropleth"
           }
          ],
          "contour": [
           {
            "colorbar": {
             "outlinewidth": 0,
             "tickcolor": "rgb(36,36,36)",
             "ticklen": 8,
             "ticks": "outside",
             "tickwidth": 2
            },
            "colorscale": [
             [
              0,
              "rgb(2,4,25)"
             ],
             [
              0.06274509803921569,
              "rgb(24,15,41)"
             ],
             [
              0.12549019607843137,
              "rgb(47,23,57)"
             ],
             [
              0.18823529411764706,
              "rgb(71,28,72)"
             ],
             [
              0.25098039215686274,
              "rgb(97,30,82)"
             ],
             [
              0.3137254901960784,
              "rgb(123,30,89)"
             ],
             [
              0.3764705882352941,
              "rgb(150,27,91)"
             ],
             [
              0.4392156862745098,
              "rgb(177,22,88)"
             ],
             [
              0.5019607843137255,
              "rgb(203,26,79)"
             ],
             [
              0.5647058823529412,
              "rgb(223,47,67)"
             ],
             [
              0.6274509803921569,
              "rgb(236,76,61)"
             ],
             [
              0.6901960784313725,
              "rgb(242,107,73)"
             ],
             [
              0.7529411764705882,
              "rgb(244,135,95)"
             ],
             [
              0.8156862745098039,
              "rgb(245,162,122)"
             ],
             [
              0.8784313725490196,
              "rgb(246,188,153)"
             ],
             [
              0.9411764705882353,
              "rgb(247,212,187)"
             ],
             [
              1,
              "rgb(250,234,220)"
             ]
            ],
            "type": "contour"
           }
          ],
          "contourcarpet": [
           {
            "colorbar": {
             "outlinewidth": 0,
             "tickcolor": "rgb(36,36,36)",
             "ticklen": 8,
             "ticks": "outside",
             "tickwidth": 2
            },
            "type": "contourcarpet"
           }
          ],
          "heatmap": [
           {
            "colorbar": {
             "outlinewidth": 0,
             "tickcolor": "rgb(36,36,36)",
             "ticklen": 8,
             "ticks": "outside",
             "tickwidth": 2
            },
            "colorscale": [
             [
              0,
              "rgb(2,4,25)"
             ],
             [
              0.06274509803921569,
              "rgb(24,15,41)"
             ],
             [
              0.12549019607843137,
              "rgb(47,23,57)"
             ],
             [
              0.18823529411764706,
              "rgb(71,28,72)"
             ],
             [
              0.25098039215686274,
              "rgb(97,30,82)"
             ],
             [
              0.3137254901960784,
              "rgb(123,30,89)"
             ],
             [
              0.3764705882352941,
              "rgb(150,27,91)"
             ],
             [
              0.4392156862745098,
              "rgb(177,22,88)"
             ],
             [
              0.5019607843137255,
              "rgb(203,26,79)"
             ],
             [
              0.5647058823529412,
              "rgb(223,47,67)"
             ],
             [
              0.6274509803921569,
              "rgb(236,76,61)"
             ],
             [
              0.6901960784313725,
              "rgb(242,107,73)"
             ],
             [
              0.7529411764705882,
              "rgb(244,135,95)"
             ],
             [
              0.8156862745098039,
              "rgb(245,162,122)"
             ],
             [
              0.8784313725490196,
              "rgb(246,188,153)"
             ],
             [
              0.9411764705882353,
              "rgb(247,212,187)"
             ],
             [
              1,
              "rgb(250,234,220)"
             ]
            ],
            "type": "heatmap"
           }
          ],
          "heatmapgl": [
           {
            "colorbar": {
             "outlinewidth": 0,
             "tickcolor": "rgb(36,36,36)",
             "ticklen": 8,
             "ticks": "outside",
             "tickwidth": 2
            },
            "colorscale": [
             [
              0,
              "rgb(2,4,25)"
             ],
             [
              0.06274509803921569,
              "rgb(24,15,41)"
             ],
             [
              0.12549019607843137,
              "rgb(47,23,57)"
             ],
             [
              0.18823529411764706,
              "rgb(71,28,72)"
             ],
             [
              0.25098039215686274,
              "rgb(97,30,82)"
             ],
             [
              0.3137254901960784,
              "rgb(123,30,89)"
             ],
             [
              0.3764705882352941,
              "rgb(150,27,91)"
             ],
             [
              0.4392156862745098,
              "rgb(177,22,88)"
             ],
             [
              0.5019607843137255,
              "rgb(203,26,79)"
             ],
             [
              0.5647058823529412,
              "rgb(223,47,67)"
             ],
             [
              0.6274509803921569,
              "rgb(236,76,61)"
             ],
             [
              0.6901960784313725,
              "rgb(242,107,73)"
             ],
             [
              0.7529411764705882,
              "rgb(244,135,95)"
             ],
             [
              0.8156862745098039,
              "rgb(245,162,122)"
             ],
             [
              0.8784313725490196,
              "rgb(246,188,153)"
             ],
             [
              0.9411764705882353,
              "rgb(247,212,187)"
             ],
             [
              1,
              "rgb(250,234,220)"
             ]
            ],
            "type": "heatmapgl"
           }
          ],
          "histogram": [
           {
            "marker": {
             "pattern": {
              "fillmode": "overlay",
              "size": 10,
              "solidity": 0.2
             }
            },
            "type": "histogram"
           }
          ],
          "histogram2d": [
           {
            "colorbar": {
             "outlinewidth": 0,
             "tickcolor": "rgb(36,36,36)",
             "ticklen": 8,
             "ticks": "outside",
             "tickwidth": 2
            },
            "colorscale": [
             [
              0,
              "rgb(2,4,25)"
             ],
             [
              0.06274509803921569,
              "rgb(24,15,41)"
             ],
             [
              0.12549019607843137,
              "rgb(47,23,57)"
             ],
             [
              0.18823529411764706,
              "rgb(71,28,72)"
             ],
             [
              0.25098039215686274,
              "rgb(97,30,82)"
             ],
             [
              0.3137254901960784,
              "rgb(123,30,89)"
             ],
             [
              0.3764705882352941,
              "rgb(150,27,91)"
             ],
             [
              0.4392156862745098,
              "rgb(177,22,88)"
             ],
             [
              0.5019607843137255,
              "rgb(203,26,79)"
             ],
             [
              0.5647058823529412,
              "rgb(223,47,67)"
             ],
             [
              0.6274509803921569,
              "rgb(236,76,61)"
             ],
             [
              0.6901960784313725,
              "rgb(242,107,73)"
             ],
             [
              0.7529411764705882,
              "rgb(244,135,95)"
             ],
             [
              0.8156862745098039,
              "rgb(245,162,122)"
             ],
             [
              0.8784313725490196,
              "rgb(246,188,153)"
             ],
             [
              0.9411764705882353,
              "rgb(247,212,187)"
             ],
             [
              1,
              "rgb(250,234,220)"
             ]
            ],
            "type": "histogram2d"
           }
          ],
          "histogram2dcontour": [
           {
            "colorbar": {
             "outlinewidth": 0,
             "tickcolor": "rgb(36,36,36)",
             "ticklen": 8,
             "ticks": "outside",
             "tickwidth": 2
            },
            "colorscale": [
             [
              0,
              "rgb(2,4,25)"
             ],
             [
              0.06274509803921569,
              "rgb(24,15,41)"
             ],
             [
              0.12549019607843137,
              "rgb(47,23,57)"
             ],
             [
              0.18823529411764706,
              "rgb(71,28,72)"
             ],
             [
              0.25098039215686274,
              "rgb(97,30,82)"
             ],
             [
              0.3137254901960784,
              "rgb(123,30,89)"
             ],
             [
              0.3764705882352941,
              "rgb(150,27,91)"
             ],
             [
              0.4392156862745098,
              "rgb(177,22,88)"
             ],
             [
              0.5019607843137255,
              "rgb(203,26,79)"
             ],
             [
              0.5647058823529412,
              "rgb(223,47,67)"
             ],
             [
              0.6274509803921569,
              "rgb(236,76,61)"
             ],
             [
              0.6901960784313725,
              "rgb(242,107,73)"
             ],
             [
              0.7529411764705882,
              "rgb(244,135,95)"
             ],
             [
              0.8156862745098039,
              "rgb(245,162,122)"
             ],
             [
              0.8784313725490196,
              "rgb(246,188,153)"
             ],
             [
              0.9411764705882353,
              "rgb(247,212,187)"
             ],
             [
              1,
              "rgb(250,234,220)"
             ]
            ],
            "type": "histogram2dcontour"
           }
          ],
          "mesh3d": [
           {
            "colorbar": {
             "outlinewidth": 0,
             "tickcolor": "rgb(36,36,36)",
             "ticklen": 8,
             "ticks": "outside",
             "tickwidth": 2
            },
            "type": "mesh3d"
           }
          ],
          "parcoords": [
           {
            "line": {
             "colorbar": {
              "outlinewidth": 0,
              "tickcolor": "rgb(36,36,36)",
              "ticklen": 8,
              "ticks": "outside",
              "tickwidth": 2
             }
            },
            "type": "parcoords"
           }
          ],
          "pie": [
           {
            "automargin": true,
            "type": "pie"
           }
          ],
          "scatter": [
           {
            "fillpattern": {
             "fillmode": "overlay",
             "size": 10,
             "solidity": 0.2
            },
            "type": "scatter"
           }
          ],
          "scatter3d": [
           {
            "line": {
             "colorbar": {
              "outlinewidth": 0,
              "tickcolor": "rgb(36,36,36)",
              "ticklen": 8,
              "ticks": "outside",
              "tickwidth": 2
             }
            },
            "marker": {
             "colorbar": {
              "outlinewidth": 0,
              "tickcolor": "rgb(36,36,36)",
              "ticklen": 8,
              "ticks": "outside",
              "tickwidth": 2
             }
            },
            "type": "scatter3d"
           }
          ],
          "scattercarpet": [
           {
            "marker": {
             "colorbar": {
              "outlinewidth": 0,
              "tickcolor": "rgb(36,36,36)",
              "ticklen": 8,
              "ticks": "outside",
              "tickwidth": 2
             }
            },
            "type": "scattercarpet"
           }
          ],
          "scattergeo": [
           {
            "marker": {
             "colorbar": {
              "outlinewidth": 0,
              "tickcolor": "rgb(36,36,36)",
              "ticklen": 8,
              "ticks": "outside",
              "tickwidth": 2
             }
            },
            "type": "scattergeo"
           }
          ],
          "scattergl": [
           {
            "marker": {
             "colorbar": {
              "outlinewidth": 0,
              "tickcolor": "rgb(36,36,36)",
              "ticklen": 8,
              "ticks": "outside",
              "tickwidth": 2
             }
            },
            "type": "scattergl"
           }
          ],
          "scattermapbox": [
           {
            "marker": {
             "colorbar": {
              "outlinewidth": 0,
              "tickcolor": "rgb(36,36,36)",
              "ticklen": 8,
              "ticks": "outside",
              "tickwidth": 2
             }
            },
            "type": "scattermapbox"
           }
          ],
          "scatterpolar": [
           {
            "marker": {
             "colorbar": {
              "outlinewidth": 0,
              "tickcolor": "rgb(36,36,36)",
              "ticklen": 8,
              "ticks": "outside",
              "tickwidth": 2
             }
            },
            "type": "scatterpolar"
           }
          ],
          "scatterpolargl": [
           {
            "marker": {
             "colorbar": {
              "outlinewidth": 0,
              "tickcolor": "rgb(36,36,36)",
              "ticklen": 8,
              "ticks": "outside",
              "tickwidth": 2
             }
            },
            "type": "scatterpolargl"
           }
          ],
          "scatterternary": [
           {
            "marker": {
             "colorbar": {
              "outlinewidth": 0,
              "tickcolor": "rgb(36,36,36)",
              "ticklen": 8,
              "ticks": "outside",
              "tickwidth": 2
             }
            },
            "type": "scatterternary"
           }
          ],
          "surface": [
           {
            "colorbar": {
             "outlinewidth": 0,
             "tickcolor": "rgb(36,36,36)",
             "ticklen": 8,
             "ticks": "outside",
             "tickwidth": 2
            },
            "colorscale": [
             [
              0,
              "rgb(2,4,25)"
             ],
             [
              0.06274509803921569,
              "rgb(24,15,41)"
             ],
             [
              0.12549019607843137,
              "rgb(47,23,57)"
             ],
             [
              0.18823529411764706,
              "rgb(71,28,72)"
             ],
             [
              0.25098039215686274,
              "rgb(97,30,82)"
             ],
             [
              0.3137254901960784,
              "rgb(123,30,89)"
             ],
             [
              0.3764705882352941,
              "rgb(150,27,91)"
             ],
             [
              0.4392156862745098,
              "rgb(177,22,88)"
             ],
             [
              0.5019607843137255,
              "rgb(203,26,79)"
             ],
             [
              0.5647058823529412,
              "rgb(223,47,67)"
             ],
             [
              0.6274509803921569,
              "rgb(236,76,61)"
             ],
             [
              0.6901960784313725,
              "rgb(242,107,73)"
             ],
             [
              0.7529411764705882,
              "rgb(244,135,95)"
             ],
             [
              0.8156862745098039,
              "rgb(245,162,122)"
             ],
             [
              0.8784313725490196,
              "rgb(246,188,153)"
             ],
             [
              0.9411764705882353,
              "rgb(247,212,187)"
             ],
             [
              1,
              "rgb(250,234,220)"
             ]
            ],
            "type": "surface"
           }
          ],
          "table": [
           {
            "cells": {
             "fill": {
              "color": "rgb(231,231,240)"
             },
             "line": {
              "color": "white"
             }
            },
            "header": {
             "fill": {
              "color": "rgb(183,183,191)"
             },
             "line": {
              "color": "white"
             }
            },
            "type": "table"
           }
          ]
         },
         "layout": {
          "annotationdefaults": {
           "arrowcolor": "rgb(67,103,167)"
          },
          "autotypenumbers": "strict",
          "coloraxis": {
           "colorbar": {
            "outlinewidth": 0,
            "tickcolor": "rgb(36,36,36)",
            "ticklen": 8,
            "ticks": "outside",
            "tickwidth": 2
           }
          },
          "colorscale": {
           "sequential": [
            [
             0,
             "rgb(2,4,25)"
            ],
            [
             0.06274509803921569,
             "rgb(24,15,41)"
            ],
            [
             0.12549019607843137,
             "rgb(47,23,57)"
            ],
            [
             0.18823529411764706,
             "rgb(71,28,72)"
            ],
            [
             0.25098039215686274,
             "rgb(97,30,82)"
            ],
            [
             0.3137254901960784,
             "rgb(123,30,89)"
            ],
            [
             0.3764705882352941,
             "rgb(150,27,91)"
            ],
            [
             0.4392156862745098,
             "rgb(177,22,88)"
            ],
            [
             0.5019607843137255,
             "rgb(203,26,79)"
            ],
            [
             0.5647058823529412,
             "rgb(223,47,67)"
            ],
            [
             0.6274509803921569,
             "rgb(236,76,61)"
            ],
            [
             0.6901960784313725,
             "rgb(242,107,73)"
            ],
            [
             0.7529411764705882,
             "rgb(244,135,95)"
            ],
            [
             0.8156862745098039,
             "rgb(245,162,122)"
            ],
            [
             0.8784313725490196,
             "rgb(246,188,153)"
            ],
            [
             0.9411764705882353,
             "rgb(247,212,187)"
            ],
            [
             1,
             "rgb(250,234,220)"
            ]
           ],
           "sequentialminus": [
            [
             0,
             "rgb(2,4,25)"
            ],
            [
             0.06274509803921569,
             "rgb(24,15,41)"
            ],
            [
             0.12549019607843137,
             "rgb(47,23,57)"
            ],
            [
             0.18823529411764706,
             "rgb(71,28,72)"
            ],
            [
             0.25098039215686274,
             "rgb(97,30,82)"
            ],
            [
             0.3137254901960784,
             "rgb(123,30,89)"
            ],
            [
             0.3764705882352941,
             "rgb(150,27,91)"
            ],
            [
             0.4392156862745098,
             "rgb(177,22,88)"
            ],
            [
             0.5019607843137255,
             "rgb(203,26,79)"
            ],
            [
             0.5647058823529412,
             "rgb(223,47,67)"
            ],
            [
             0.6274509803921569,
             "rgb(236,76,61)"
            ],
            [
             0.6901960784313725,
             "rgb(242,107,73)"
            ],
            [
             0.7529411764705882,
             "rgb(244,135,95)"
            ],
            [
             0.8156862745098039,
             "rgb(245,162,122)"
            ],
            [
             0.8784313725490196,
             "rgb(246,188,153)"
            ],
            [
             0.9411764705882353,
             "rgb(247,212,187)"
            ],
            [
             1,
             "rgb(250,234,220)"
            ]
           ]
          },
          "colorway": [
           "rgb(76,114,176)",
           "rgb(221,132,82)",
           "rgb(85,168,104)",
           "rgb(196,78,82)",
           "rgb(129,114,179)",
           "rgb(147,120,96)",
           "rgb(218,139,195)",
           "rgb(140,140,140)",
           "rgb(204,185,116)",
           "rgb(100,181,205)"
          ],
          "font": {
           "color": "rgb(36,36,36)"
          },
          "geo": {
           "bgcolor": "white",
           "lakecolor": "white",
           "landcolor": "rgb(234,234,242)",
           "showlakes": true,
           "showland": true,
           "subunitcolor": "white"
          },
          "hoverlabel": {
           "align": "left"
          },
          "hovermode": "closest",
          "paper_bgcolor": "white",
          "plot_bgcolor": "rgb(234,234,242)",
          "polar": {
           "angularaxis": {
            "gridcolor": "white",
            "linecolor": "white",
            "showgrid": true,
            "ticks": ""
           },
           "bgcolor": "rgb(234,234,242)",
           "radialaxis": {
            "gridcolor": "white",
            "linecolor": "white",
            "showgrid": true,
            "ticks": ""
           }
          },
          "scene": {
           "xaxis": {
            "backgroundcolor": "rgb(234,234,242)",
            "gridcolor": "white",
            "gridwidth": 2,
            "linecolor": "white",
            "showbackground": true,
            "showgrid": true,
            "ticks": "",
            "zerolinecolor": "white"
           },
           "yaxis": {
            "backgroundcolor": "rgb(234,234,242)",
            "gridcolor": "white",
            "gridwidth": 2,
            "linecolor": "white",
            "showbackground": true,
            "showgrid": true,
            "ticks": "",
            "zerolinecolor": "white"
           },
           "zaxis": {
            "backgroundcolor": "rgb(234,234,242)",
            "gridcolor": "white",
            "gridwidth": 2,
            "linecolor": "white",
            "showbackground": true,
            "showgrid": true,
            "ticks": "",
            "zerolinecolor": "white"
           }
          },
          "shapedefaults": {
           "fillcolor": "rgb(67,103,167)",
           "line": {
            "width": 0
           },
           "opacity": 0.5
          },
          "ternary": {
           "aaxis": {
            "gridcolor": "white",
            "linecolor": "white",
            "showgrid": true,
            "ticks": ""
           },
           "baxis": {
            "gridcolor": "white",
            "linecolor": "white",
            "showgrid": true,
            "ticks": ""
           },
           "bgcolor": "rgb(234,234,242)",
           "caxis": {
            "gridcolor": "white",
            "linecolor": "white",
            "showgrid": true,
            "ticks": ""
           }
          },
          "xaxis": {
           "automargin": true,
           "gridcolor": "white",
           "linecolor": "white",
           "showgrid": true,
           "ticks": "",
           "title": {
            "standoff": 15
           },
           "zerolinecolor": "white"
          },
          "yaxis": {
           "automargin": true,
           "gridcolor": "white",
           "linecolor": "white",
           "showgrid": true,
           "ticks": "",
           "title": {
            "standoff": 15
           },
           "zerolinecolor": "white"
          }
         }
        },
        "title": {
         "font": {
          "family": "Modern Computer",
          "size": 35
         },
         "text": "Citation distribution per topic",
         "x": 0.5
        },
        "xaxis": {
         "anchor": "y",
         "domain": [
          0,
          1
         ],
         "tickfont": {
          "size": 15
         },
         "title": {
          "font": {
           "size": 20
          },
          "text": "Topic"
         }
        },
        "yaxis": {
         "anchor": "x",
         "domain": [
          0,
          1
         ],
         "tickfont": {
          "size": 15
         },
         "title": {
          "font": {
           "size": 20
          },
          "text": "Number of citations"
         }
        }
       }
      }
     },
     "metadata": {},
     "output_type": "display_data"
    }
   ],
   "source": [
    "# explore citation distribution per topic\n",
    "fig = px.box(core_pubs, x=\"Topic\", y=\"times_cited\", title=\"Citation distribution per topic\",\n",
    "              points=\"all\", height=450, color=\"Type\")\n",
    "fig.update_layout(**PLOT_CONFIGS)\n",
    "fig.update_xaxes(title_text=\"Topic\")\n",
    "fig.update_yaxes(title_text=\"Number of citations\")\n",
    "fig.show()"
   ]
  },
  {
   "cell_type": "code",
   "execution_count": 5,
   "metadata": {},
   "outputs": [
    {
     "data": {
      "application/vnd.plotly.v1+json": {
       "config": {
        "plotlyServerURL": "https://plot.ly"
       },
       "data": [
        {
         "alignmentgroup": "True",
         "boxpoints": "all",
         "hovertemplate": "Type=Bibliometric Analysis<br>Topic=%{x}<br>year=%{y}<extra></extra>",
         "legendgroup": "Bibliometric Analysis",
         "marker": {
          "color": "rgb(76,114,176)"
         },
         "name": "Bibliometric Analysis",
         "notched": false,
         "offsetgroup": "Bibliometric Analysis",
         "orientation": "v",
         "showlegend": true,
         "type": "box",
         "x": [
          "Synthetic Biology (2012)",
          "Synthetic Biology (2012)",
          "Synthetic Biology (2012)",
          "Synthetic Biology (2012)",
          "Synthetic Biology (2012)",
          "Synthetic Biology (2012)",
          "Synthetic Biology (2012)",
          "Synthetic Biology (2012)",
          "Synthetic Biology (2012)",
          "Synthetic Biology (2012)",
          "Synthetic Biology (2012)",
          "Synthetic Biology (2012)",
          "Synthetic Biology (2012)",
          "Synthetic Biology (2012)",
          "Synthetic Biology (2012)",
          "Synthetic Biology (2012)",
          "Synthetic Biology (2012)",
          "Synthetic Biology (2012)",
          "Synthetic Biology (2012)",
          "Synthetic Biology (2012)",
          "Synthetic Biology (2012)",
          "Synthetic Biology (2012)",
          "Synthetic Biology (2012)",
          "Synthetic Biology (2012)",
          "Synthetic Biology (2012)",
          "Synthetic Biology (2012)",
          "Synthetic Biology (2012)",
          "Synthetic Biology (2012)",
          "Synthetic Biology (2012)",
          "Resilience in Business and management (2015)",
          "Resilience in Business and management (2015)",
          "Resilience in Business and management (2015)",
          "Resilience in Business and management (2015)",
          "Resilience in Business and management (2015)",
          "Resilience in Business and management (2015)",
          "Resilience in Business and management (2015)",
          "Resilience in Business and management (2015)",
          "Resilience in Business and management (2015)",
          "Resilience in Business and management (2015)",
          "Resilience in Business and management (2015)",
          "Resilience in Business and management (2015)",
          "Resilience in Business and management (2015)",
          "Resilience in Business and management (2015)",
          "Resilience in Business and management (2015)",
          "Resilience in Business and management (2015)",
          "Resilience in Business and management (2015)",
          "Resilience in Business and management (2015)",
          "Resilience in Business and management (2015)",
          "Resilience in Business and management (2015)",
          "Resilience in Business and management (2015)",
          "Cervical Myelopathy (2018)",
          "Cervical Myelopathy (2018)",
          "Cervical Myelopathy (2018)",
          "Cervical Myelopathy (2018)",
          "Cervical Myelopathy (2018)",
          "Cervical Myelopathy (2018)",
          "Cervical Myelopathy (2018)",
          "Cervical Myelopathy (2018)",
          "Cervical Myelopathy (2018)",
          "Cervical Myelopathy (2018)",
          "Cervical Myelopathy (2018)",
          "Cervical Myelopathy (2018)",
          "Cervical Myelopathy (2018)",
          "Cervical Myelopathy (2018)",
          "Cervical Myelopathy (2018)",
          "Cervical Myelopathy (2018)",
          "Cervical Myelopathy (2018)",
          "Cervical Myelopathy (2018)",
          "Cervical Myelopathy (2018)",
          "Cervical Myelopathy (2018)",
          "Cervical Myelopathy (2018)",
          "Cervical Myelopathy (2018)",
          "Cervical Myelopathy (2018)",
          "Cervical Myelopathy (2018)",
          "Cervical Myelopathy (2018)",
          "Cervical Myelopathy (2018)",
          "Cervical Myelopathy (2018)",
          "Cervical Myelopathy (2018)",
          "Cervical Myelopathy (2018)",
          "Cervical Myelopathy (2018)",
          "Cervical Myelopathy (2018)",
          "Cervical Myelopathy (2018)",
          "Cervical Myelopathy (2018)",
          "Cervical Myelopathy (2018)",
          "Cervical Myelopathy (2018)",
          "Cervical Myelopathy (2018)",
          "Cervical Myelopathy (2018)",
          "Cervical Myelopathy (2018)",
          "Cervical Myelopathy (2018)",
          "Cervical Myelopathy (2018)",
          "Cervical Myelopathy (2018)",
          "Cervical Myelopathy (2018)",
          "Cervical Myelopathy (2018)",
          "Cervical Myelopathy (2018)",
          "Drones in Agriculture (2022)",
          "Drones in Agriculture (2022)",
          "Drones in Agriculture (2022)",
          "Drones in Agriculture (2022)",
          "Drones in Agriculture (2022)",
          "Drones in Agriculture (2022)",
          "Drones in Agriculture (2022)",
          "Drones in Agriculture (2022)",
          "Drones in Agriculture (2022)",
          "Drones in Agriculture (2022)",
          "Drones in Agriculture (2022)",
          "Drones in Agriculture (2022)",
          "Drones in Agriculture (2022)",
          "Drones in Agriculture (2022)",
          "Drones in Agriculture (2022)",
          "Drones in Agriculture (2022)",
          "Drones in Agriculture (2022)",
          "Drones in Agriculture (2022)",
          "Drones in Agriculture (2022)",
          "Drones in Agriculture (2022)",
          "Drones in Agriculture (2022)",
          "Drones in Agriculture (2022)",
          "Drones in Agriculture (2022)",
          "Robotic Arthroplasty (2023)",
          "Robotic Arthroplasty (2023)",
          "Robotic Arthroplasty (2023)",
          "Robotic Arthroplasty (2023)",
          "Robotic Arthroplasty (2023)",
          "Robotic Arthroplasty (2023)",
          "Robotic Arthroplasty (2023)",
          "Robotic Arthroplasty (2023)",
          "Robotic Arthroplasty (2023)",
          "Robotic Arthroplasty (2023)",
          "Robotic Arthroplasty (2023)",
          "Robotic Arthroplasty (2023)",
          "Robotic Arthroplasty (2023)",
          "Robotic Arthroplasty (2023)",
          "Robotic Arthroplasty (2023)",
          "Robotic Arthroplasty (2023)",
          "Robotic Arthroplasty (2023)",
          "Robotic Arthroplasty (2023)",
          "Robotic Arthroplasty (2023)",
          "Robotic Arthroplasty (2023)",
          "Robotic Arthroplasty (2023)",
          "Robotic Arthroplasty (2023)",
          "Robotic Arthroplasty (2023)",
          "Robotic Arthroplasty (2023)",
          "Robotic Arthroplasty (2023)",
          "Robotic Arthroplasty (2023)",
          "Robotic Arthroplasty (2023)",
          "Robotic Arthroplasty (2023)",
          "Robotic Arthroplasty (2023)",
          "Robotic Arthroplasty (2023)",
          "Robotic Arthroplasty (2023)",
          "Robotic Arthroplasty (2023)",
          "Robotic Arthroplasty (2023)",
          "Robotic Arthroplasty (2023)",
          "Robotic Arthroplasty (2023)",
          "Robotic Arthroplasty (2023)",
          "Robotic Arthroplasty (2023)",
          "Robotic Arthroplasty (2023)",
          "Robotic Arthroplasty (2023)",
          "Robotic Arthroplasty (2023)",
          "Robotic Arthroplasty (2023)",
          "Robotic Arthroplasty (2023)",
          "Robotic Arthroplasty (2023)",
          "Robotic Arthroplasty (2023)",
          "Robotic Arthroplasty (2023)",
          "Robotic Arthroplasty (2023)",
          "Robotic Arthroplasty (2023)",
          "Soft Robotics (2018)",
          "Soft Robotics (2018)",
          "Soft Robotics (2018)",
          "Soft Robotics (2018)",
          "Soft Robotics (2018)",
          "Soft Robotics (2018)",
          "Soft Robotics (2018)",
          "Soft Robotics (2018)",
          "Soft Robotics (2018)",
          "Soft Robotics (2018)",
          "Soft Robotics (2018)",
          "Soft Robotics (2018)",
          "Soft Robotics (2018)",
          "Soft Robotics (2018)",
          "Soft Robotics (2018)",
          "Soft Robotics (2018)",
          "Soft Robotics (2018)",
          "Soft Robotics (2018)",
          "Soft Robotics (2018)",
          "Soft Robotics (2018)",
          "Soft Robotics (2018)",
          "Soft Robotics (2018)",
          "Soft Robotics (2018)",
          "Soft Robotics (2018)",
          "Soft Robotics (2018)",
          "Soft Robotics (2018)",
          "Soft Robotics (2018)",
          "Soft Robotics (2018)",
          "Soft Robotics (2018)",
          "Soft Robotics (2018)",
          "Soft Robotics (2018)",
          "Soft Robotics (2018)",
          "Soft Robotics (2018)",
          "Tourism Growth Nexus (2020)",
          "Tourism Growth Nexus (2020)",
          "Tourism Growth Nexus (2020)",
          "Tourism Growth Nexus (2020)",
          "Tourism Growth Nexus (2020)",
          "Tourism Growth Nexus (2020)",
          "Tourism Growth Nexus (2020)",
          "Tourism Growth Nexus (2020)",
          "Tourism Growth Nexus (2020)",
          "Tourism Growth Nexus (2020)",
          "Tourism Growth Nexus (2020)",
          "Tourism Growth Nexus (2020)",
          "Tourism Growth Nexus (2020)",
          "Tourism Growth Nexus (2020)",
          "Tourism Growth Nexus (2020)",
          "Tourism Growth Nexus (2020)",
          "Tourism Growth Nexus (2020)",
          "Tourism Growth Nexus (2020)",
          "Tourism Growth Nexus (2020)",
          "Tourism Growth Nexus (2020)",
          "Tourism Growth Nexus (2020)",
          "Tourism Growth Nexus (2020)",
          "Tourism Growth Nexus (2020)",
          "Tourism Growth Nexus (2020)",
          "Tourism Growth Nexus (2020)",
          "Sustainable Biofuel Economy (2023)",
          "Sustainable Biofuel Economy (2023)",
          "Sustainable Biofuel Economy (2023)",
          "Sustainable Biofuel Economy (2023)",
          "Sustainable Biofuel Economy (2023)",
          "Sustainable Biofuel Economy (2023)",
          "Sustainable Biofuel Economy (2023)",
          "Sustainable Biofuel Economy (2023)",
          "Sustainable Biofuel Economy (2023)",
          "Sustainable Biofuel Economy (2023)",
          "Sustainable Biofuel Economy (2023)",
          "Sustainable Biofuel Economy (2023)",
          "Sustainable Biofuel Economy (2023)",
          "Sustainable Biofuel Economy (2023)",
          "Sustainable Biofuel Economy (2023)",
          "Sustainable Biofuel Economy (2023)",
          "Sustainable Biofuel Economy (2023)",
          "Sustainable Biofuel Economy (2023)",
          "Sustainable Biofuel Economy (2023)",
          "Sustainable Biofuel Economy (2023)",
          "Sustainable Biofuel Economy (2023)",
          "Sustainable Biofuel Economy (2023)",
          "Sustainable Biofuel Economy (2023)",
          "Sustainable Biofuel Economy (2023)",
          "Sustainable Biofuel Economy (2023)",
          "Sustainable Biofuel Economy (2023)",
          "Sustainable Biofuel Economy (2023)",
          "Sustainable Biofuel Economy (2023)",
          "Sustainable Biofuel Economy (2023)",
          "Sustainable Biofuel Economy (2023)",
          "Sustainable Biofuel Economy (2023)",
          "Sustainable Biofuel Economy (2023)",
          "Sustainable Biofuel Economy (2023)",
          "Sustainable Biofuel Economy (2023)",
          "Sustainable Biofuel Economy (2023)",
          "Sustainable Biofuel Economy (2023)",
          "Sustainable Biofuel Economy (2023)",
          "Sustainable Biofuel Economy (2023)",
          "Sustainable Biofuel Economy (2023)",
          "Sustainable Biofuel Economy (2023)",
          "Sustainable Biofuel Economy (2023)",
          "Sustainable Biofuel Economy (2023)",
          "Sustainable Biofuel Economy (2023)",
          "Sustainable Biofuel Economy (2023)",
          "Sustainable Biofuel Economy (2023)",
          "Sustainable Biofuel Economy (2023)",
          "Sustainable Biofuel Economy (2023)",
          "Sustainable Biofuel Economy (2023)",
          "Nanopharmaceuticals OR Nanonutraceuticals (2020)",
          "Nanopharmaceuticals OR Nanonutraceuticals (2020)",
          "Nanopharmaceuticals OR Nanonutraceuticals (2020)",
          "Nanopharmaceuticals OR Nanonutraceuticals (2020)",
          "Nanopharmaceuticals OR Nanonutraceuticals (2020)",
          "Nanopharmaceuticals OR Nanonutraceuticals (2020)",
          "Nanopharmaceuticals OR Nanonutraceuticals (2020)",
          "Nanopharmaceuticals OR Nanonutraceuticals (2020)",
          "Nanopharmaceuticals OR Nanonutraceuticals (2020)",
          "Nanopharmaceuticals OR Nanonutraceuticals (2020)",
          "Nanopharmaceuticals OR Nanonutraceuticals (2020)",
          "Nanopharmaceuticals OR Nanonutraceuticals (2020)",
          "Nanopharmaceuticals OR Nanonutraceuticals (2020)",
          "Nanopharmaceuticals OR Nanonutraceuticals (2020)",
          "Nanopharmaceuticals OR Nanonutraceuticals (2020)",
          "Nanopharmaceuticals OR Nanonutraceuticals (2020)",
          "Nanopharmaceuticals OR Nanonutraceuticals (2020)",
          "Nanopharmaceuticals OR Nanonutraceuticals (2020)",
          "Nanopharmaceuticals OR Nanonutraceuticals (2020)",
          "Nanopharmaceuticals OR Nanonutraceuticals (2020)",
          "Nanopharmaceuticals OR Nanonutraceuticals (2020)",
          "Nanopharmaceuticals OR Nanonutraceuticals (2020)",
          "Nanopharmaceuticals OR Nanonutraceuticals (2020)",
          "Nanopharmaceuticals OR Nanonutraceuticals (2020)",
          "Nanopharmaceuticals OR Nanonutraceuticals (2020)",
          "Nanopharmaceuticals OR Nanonutraceuticals (2020)",
          "Nanopharmaceuticals OR Nanonutraceuticals (2020)",
          "Nanopharmaceuticals OR Nanonutraceuticals (2020)",
          "Nanopharmaceuticals OR Nanonutraceuticals (2020)",
          "Nanopharmaceuticals OR Nanonutraceuticals (2020)",
          "Nanopharmaceuticals OR Nanonutraceuticals (2020)",
          "Nanopharmaceuticals OR Nanonutraceuticals (2020)",
          "Nanopharmaceuticals OR Nanonutraceuticals (2020)",
          "Nanopharmaceuticals OR Nanonutraceuticals (2020)",
          "Nanopharmaceuticals OR Nanonutraceuticals (2020)",
          "Nanopharmaceuticals OR Nanonutraceuticals (2020)",
          "Nanopharmaceuticals OR Nanonutraceuticals (2020)",
          "Nanopharmaceuticals OR Nanonutraceuticals (2020)",
          "Nanopharmaceuticals OR Nanonutraceuticals (2020)",
          "Nanopharmaceuticals OR Nanonutraceuticals (2020)",
          "Nanopharmaceuticals OR Nanonutraceuticals (2020)",
          "Nanopharmaceuticals OR Nanonutraceuticals (2020)",
          "Nanopharmaceuticals OR Nanonutraceuticals (2020)",
          "Nanopharmaceuticals OR Nanonutraceuticals (2020)",
          "Nanopharmaceuticals OR Nanonutraceuticals (2020)",
          "Nanopharmaceuticals OR Nanonutraceuticals (2020)",
          "Nanopharmaceuticals OR Nanonutraceuticals (2020)",
          "Nanopharmaceuticals OR Nanonutraceuticals (2020)",
          "Nanopharmaceuticals OR Nanonutraceuticals (2020)",
          "Nanopharmaceuticals OR Nanonutraceuticals (2020)",
          "Perovskite Solar Cells Stability (2024)",
          "Perovskite Solar Cells Stability (2024)",
          "Perovskite Solar Cells Stability (2024)",
          "Perovskite Solar Cells Stability (2024)",
          "Perovskite Solar Cells Stability (2024)",
          "Perovskite Solar Cells Stability (2024)",
          "Perovskite Solar Cells Stability (2024)",
          "Perovskite Solar Cells Stability (2024)",
          "Perovskite Solar Cells Stability (2024)",
          "Perovskite Solar Cells Stability (2024)",
          "Perovskite Solar Cells Stability (2024)",
          "Perovskite Solar Cells Stability (2024)",
          "Perovskite Solar Cells Stability (2024)",
          "Perovskite Solar Cells Stability (2024)",
          "Perovskite Solar Cells Stability (2024)",
          "Perovskite Solar Cells Stability (2024)",
          "Perovskite Solar Cells Stability (2024)",
          "Perovskite Solar Cells Stability (2024)",
          "Perovskite Solar Cells Stability (2024)",
          "Perovskite Solar Cells Stability (2024)",
          "Perovskite Solar Cells Stability (2024)",
          "Perovskite Solar Cells Stability (2024)",
          "Perovskite Solar Cells Stability (2024)",
          "Perovskite Solar Cells Stability (2024)",
          "Perovskite Solar Cells Stability (2024)",
          "Perovskite Solar Cells Stability (2024)",
          "Perovskite Solar Cells Stability (2024)",
          "Perovskite Solar Cells Stability (2024)",
          "Perovskite Solar Cells Stability (2024)",
          "Energy Growth Nexus (2010)",
          "Energy Growth Nexus (2010)",
          "Energy Growth Nexus (2010)",
          "Energy Growth Nexus (2010)",
          "Energy Growth Nexus (2010)",
          "Energy Growth Nexus (2010)",
          "Energy Growth Nexus (2010)",
          "Energy Growth Nexus (2010)",
          "Energy Growth Nexus (2010)",
          "Energy Growth Nexus (2010)",
          "Energy Growth Nexus (2010)",
          "Energy Growth Nexus (2010)",
          "Energy Growth Nexus (2010)",
          "Energy Growth Nexus (2010)",
          "Energy Growth Nexus (2010)",
          "Energy Growth Nexus (2010)",
          "Energy Growth Nexus (2010)",
          "Energy Growth Nexus (2010)",
          "Energy Growth Nexus (2010)",
          "Energy Growth Nexus (2010)",
          "Energy Growth Nexus (2010)",
          "Energy Growth Nexus (2010)",
          "Energy Growth Nexus (2010)",
          "Energy Growth Nexus (2010)",
          "Energy Growth Nexus (2010)",
          "Energy Growth Nexus (2010)",
          "Energy Growth Nexus (2010)",
          "Green Warehousing (2023)",
          "Green Warehousing (2023)",
          "Green Warehousing (2023)",
          "Green Warehousing (2023)",
          "Green Warehousing (2023)",
          "Green Warehousing (2023)",
          "Green Warehousing (2023)",
          "Green Warehousing (2023)",
          "Green Warehousing (2023)",
          "Green Warehousing (2023)",
          "Green Warehousing (2023)",
          "Green Warehousing (2023)",
          "Green Warehousing (2023)",
          "Green Warehousing (2023)",
          "Green Warehousing (2023)",
          "Green Warehousing (2023)",
          "Green Warehousing (2023)",
          "Green Warehousing (2023)",
          "Green Warehousing (2023)",
          "Green Warehousing (2023)",
          "Green Warehousing (2023)",
          "Green Warehousing (2023)",
          "Green Warehousing (2023)",
          "Green Warehousing (2023)",
          "Green Warehousing (2023)",
          "Green Warehousing (2023)",
          "Green Warehousing (2023)",
          "Green Warehousing (2023)",
          "Green Warehousing (2023)",
          "Green Warehousing (2023)",
          "Green Warehousing (2023)",
          "Green Warehousing (2023)",
          "Green Warehousing (2023)",
          "Green Warehousing (2023)",
          "Internet of Things in Healthcare (2018)",
          "Internet of Things in Healthcare (2018)",
          "Internet of Things in Healthcare (2018)",
          "Internet of Things in Healthcare (2018)",
          "Internet of Things in Healthcare (2018)",
          "Internet of Things in Healthcare (2018)",
          "Internet of Things in Healthcare (2018)",
          "Internet of Things in Healthcare (2018)",
          "Internet of Things in Healthcare (2018)",
          "Internet of Things in Healthcare (2018)",
          "Internet of Things in Healthcare (2018)",
          "Internet of Things in Healthcare (2018)",
          "Internet of Things in Healthcare (2018)",
          "Internet of Things in Healthcare (2018)",
          "Internet of Things in Healthcare (2018)",
          "Internet of Things in Healthcare (2018)",
          "Internet of Things in Healthcare (2018)",
          "Internet of Things in Healthcare (2018)",
          "Internet of Things in Healthcare (2018)",
          "Internet of Things in Healthcare (2018)",
          "Internet of Things in Healthcare (2018)",
          "Internet of Things in Healthcare (2018)",
          "Internet of Things in Healthcare (2018)",
          "Internet of Things in Healthcare (2018)",
          "Internet of Things in Healthcare (2018)",
          "Internet of Things in Healthcare (2018)",
          "Internet of Things in Healthcare (2018)",
          "AI on Edge Devices (2022)",
          "AI on Edge Devices (2022)",
          "AI on Edge Devices (2022)",
          "AI on Edge Devices (2022)",
          "AI on Edge Devices (2022)",
          "AI on Edge Devices (2022)",
          "AI on Edge Devices (2022)",
          "AI on Edge Devices (2022)",
          "AI on Edge Devices (2022)",
          "AI on Edge Devices (2022)",
          "AI on Edge Devices (2022)",
          "AI on Edge Devices (2022)",
          "AI on Edge Devices (2022)",
          "AI on Edge Devices (2022)",
          "AI on Edge Devices (2022)",
          "AI on Edge Devices (2022)",
          "AI on Edge Devices (2022)",
          "AI on Edge Devices (2022)",
          "AI on Edge Devices (2022)",
          "AI on Edge Devices (2022)",
          "AI on Edge Devices (2022)",
          "AI on Edge Devices (2022)",
          "AI on Edge Devices (2022)",
          "AI on Edge Devices (2022)",
          "AI on Edge Devices (2022)",
          "AI on Edge Devices (2022)",
          "AI on Edge Devices (2022)",
          "AI on Edge Devices (2022)",
          "AI on Edge Devices (2022)",
          "AI on Edge Devices (2022)",
          "AI on Edge Devices (2022)",
          "AI on Edge Devices (2022)",
          "AI on Edge Devices (2022)",
          "AI on Edge Devices (2022)",
          "AI on Edge Devices (2022)",
          "AI on Edge Devices (2022)",
          "Crop Yield Prediction (2020)",
          "Crop Yield Prediction (2020)",
          "Crop Yield Prediction (2020)",
          "Crop Yield Prediction (2020)",
          "Crop Yield Prediction (2020)",
          "Crop Yield Prediction (2020)",
          "Crop Yield Prediction (2020)",
          "Crop Yield Prediction (2020)",
          "Crop Yield Prediction (2020)",
          "Crop Yield Prediction (2020)",
          "Crop Yield Prediction (2020)",
          "Crop Yield Prediction (2020)",
          "Crop Yield Prediction (2020)",
          "Crop Yield Prediction (2020)",
          "Crop Yield Prediction (2020)",
          "Crop Yield Prediction (2020)",
          "Crop Yield Prediction (2020)",
          "Crop Yield Prediction (2020)",
          "Crop Yield Prediction (2020)",
          "Crop Yield Prediction (2020)",
          "Crop Yield Prediction (2020)",
          "Crop Yield Prediction (2020)",
          "Crop Yield Prediction (2020)",
          "Crop Yield Prediction (2020)",
          "Crop Yield Prediction (2020)",
          "Crop Yield Prediction (2020)",
          "Crop Yield Prediction (2020)",
          "Crop Yield Prediction (2020)",
          "Crop Yield Prediction (2020)",
          "Crop Yield Prediction (2020)",
          "Crop Yield Prediction (2020)",
          "Crop Yield Prediction (2020)",
          "Crop Yield Prediction (2020)",
          "Crop Yield Prediction (2020)",
          "Crop Yield Prediction (2020)",
          "Crop Yield Prediction (2020)",
          "Crop Yield Prediction (2020)",
          "Crop Yield Prediction (2020)",
          "Crop Yield Prediction (2020)",
          "Crop Yield Prediction (2020)",
          "Crop Yield Prediction (2020)",
          "Crop Yield Prediction (2020)",
          "Crop Yield Prediction (2020)",
          "Crop Yield Prediction (2020)"
         ],
         "x0": " ",
         "xaxis": "x",
         "y": [
          2004,
          2002,
          2003,
          2008,
          2005,
          2000,
          2000,
          2005,
          2006,
          2008,
          2005,
          2005,
          2002,
          2006,
          2003,
          2009,
          2002,
          2004,
          2000,
          2002,
          2004,
          2002,
          2005,
          2008,
          2009,
          2010,
          2004,
          2009,
          2005,
          1982,
          2002,
          2002,
          2002,
          2005,
          2004,
          2003,
          2006,
          2006,
          2007,
          2007,
          2007,
          2007,
          2008,
          2009,
          2009,
          2009,
          2010,
          2011,
          2010,
          2010,
          1994,
          2004,
          1998,
          1993,
          2007,
          1983,
          1999,
          1994,
          1999,
          1999,
          2003,
          1985,
          1993,
          1989,
          1983,
          1985,
          2000,
          2001,
          1990,
          2002,
          2003,
          2002,
          2007,
          1992,
          2000,
          2001,
          1991,
          1997,
          1995,
          1989,
          2003,
          1997,
          2011,
          2006,
          1991,
          2002,
          2001,
          2003,
          2001,
          1985,
          2001,
          2003,
          1991,
          1996,
          2008,
          2004,
          2010,
          2009,
          2008,
          2005,
          2010,
          2019,
          2017,
          2015,
          2013,
          2012,
          2009,
          2015,
          2015,
          2015,
          2011,
          2015,
          2013,
          2017,
          2014,
          2014,
          2017,
          2018,
          2016,
          2018,
          2019,
          2014,
          2009,
          2015,
          2017,
          2017,
          2006,
          2017,
          1995,
          2018,
          2015,
          2019,
          2018,
          2016,
          2017,
          2013,
          2018,
          2009,
          2015,
          2017,
          2018,
          2017,
          2013,
          2011,
          2003,
          2007,
          2007,
          2019,
          2013,
          2018,
          2007,
          2011,
          2011,
          2001,
          2009,
          2013,
          2003,
          2013,
          2002,
          2016,
          2016,
          1998,
          2006,
          1998,
          2017,
          2017,
          2017,
          2016,
          2016,
          2016,
          2016,
          2015,
          2015,
          2015,
          2015,
          2015,
          2014,
          2013,
          2014,
          2014,
          2012,
          2012,
          2011,
          2011,
          2010,
          2009,
          2009,
          2008,
          1999,
          2013,
          2008,
          2009,
          2013,
          2010,
          2012,
          2011,
          2007,
          2010,
          2013,
          2013,
          2012,
          2009,
          2015,
          2013,
          2018,
          2009,
          2017,
          2014,
          2011,
          2015,
          2004,
          2011,
          2005,
          2016,
          2015,
          2013,
          2004,
          2009,
          2005,
          2005,
          2002,
          2008,
          2010,
          2007,
          2013,
          2018,
          2012,
          2020,
          2009,
          2014,
          2012,
          2018,
          2012,
          2009,
          2017,
          2018,
          2014,
          2008,
          2019,
          2009,
          2007,
          2010,
          2013,
          2019,
          2010,
          2010,
          2010,
          2014,
          2020,
          2009,
          2019,
          2013,
          2009,
          2020,
          2010,
          2019,
          2008,
          2018,
          2017,
          2012,
          2009,
          2015,
          2014,
          2015,
          2010,
          2013,
          2007,
          2018,
          2011,
          2009,
          2010,
          2005,
          2004,
          2006,
          2008,
          2012,
          2013,
          1999,
          2006,
          2008,
          2006,
          1999,
          2003,
          2006,
          2009,
          2012,
          2008,
          2012,
          2003,
          2005,
          2006,
          2004,
          2011,
          2002,
          2005,
          2000,
          2002,
          2010,
          2011,
          2009,
          2010,
          2005,
          2006,
          2008,
          2003,
          2007,
          2010,
          2007,
          2002,
          2010,
          2007,
          2007,
          2008,
          2007,
          2010,
          2009,
          2007,
          2004,
          2004,
          2006,
          2023,
          2023,
          2023,
          2024,
          2023,
          2023,
          2023,
          2023,
          2023,
          2023,
          2023,
          2022,
          2022,
          2022,
          2022,
          2023,
          2022,
          2021,
          2021,
          2023,
          2022,
          2022,
          2022,
          2023,
          2022,
          2022,
          2022,
          2022,
          2022,
          2006,
          2013,
          2008,
          2011,
          2000,
          2009,
          2009,
          2010,
          2015,
          2004,
          2010,
          2009,
          2010,
          2013,
          2008,
          2010,
          2008,
          2016,
          2008,
          2000,
          2009,
          2003,
          2007,
          2009,
          2009,
          2020,
          2005,
          2021,
          2020,
          2020,
          2020,
          2020,
          2020,
          2020,
          2020,
          2020,
          2019,
          2019,
          2019,
          2019,
          2018,
          2018,
          2018,
          2018,
          2017,
          2016,
          2017,
          2016,
          2016,
          2014,
          2015,
          2015,
          2015,
          2013,
          2013,
          2014,
          2013,
          2011,
          2011,
          2009,
          2008,
          2015,
          2015,
          2016,
          2015,
          2012,
          2015,
          2016,
          2016,
          2014,
          2016,
          2016,
          2016,
          2014,
          2015,
          2014,
          2014,
          2015,
          2015,
          2016,
          2016,
          2012,
          2015,
          2015,
          2016,
          2016,
          2016,
          2015,
          2020,
          2017,
          2018,
          2018,
          2019,
          2019,
          2018,
          2019,
          2019,
          2020,
          2020,
          2019,
          2019,
          2018,
          2019,
          2020,
          2020,
          2020,
          2019,
          2019,
          2019,
          2019,
          2020,
          2019,
          2019,
          2018,
          2019,
          2019,
          2018,
          2015,
          2018,
          2019,
          2018,
          2019,
          2019,
          2020,
          2018,
          2019,
          2019,
          2019,
          2018,
          2018,
          2018,
          2018,
          2018,
          2018,
          2018,
          2018,
          2017,
          2018,
          2016,
          2016,
          2017,
          2017,
          2017,
          2017,
          2016,
          2016,
          2016,
          2016,
          2016,
          2016,
          2016,
          2016,
          2015,
          2015,
          2014,
          2014,
          2014,
          2014,
          2014,
          2014,
          2013,
          2013,
          2016,
          2012,
          2011,
          2010,
          2009,
          2008
         ],
         "y0": " ",
         "yaxis": "y"
        },
        {
         "alignmentgroup": "True",
         "boxpoints": "all",
         "hovertemplate": "Type=Systematic Literature Review<br>Topic=%{x}<br>year=%{y}<extra></extra>",
         "legendgroup": "Systematic Literature Review",
         "marker": {
          "color": "rgb(221,132,82)"
         },
         "name": "Systematic Literature Review",
         "notched": false,
         "offsetgroup": "Systematic Literature Review",
         "orientation": "v",
         "showlegend": true,
         "type": "box",
         "x": [
          "Software Process Line (2019)",
          "Software Process Line (2019)",
          "Software Process Line (2019)",
          "Software Process Line (2019)",
          "Software Process Line (2019)",
          "Software Process Line (2019)",
          "Software Process Line (2019)",
          "Software Process Line (2019)",
          "Software Process Line (2019)",
          "Software Process Line (2019)",
          "Software Process Line (2019)",
          "Software Process Line (2019)",
          "Software Process Line (2019)",
          "Software Process Line (2019)",
          "Software Process Line (2019)",
          "Software Process Line (2019)",
          "Software Process Line (2019)",
          "Software Process Line (2019)",
          "Software Process Line (2019)",
          "Software Process Line (2019)",
          "Software Process Line (2019)",
          "Software Process Line (2019)",
          "Software Process Line (2019)",
          "Software Process Line (2019)",
          "Software Process Line (2019)",
          "Software Process Line (2019)",
          "Software Process Line (2019)",
          "Software Process Line (2019)",
          "Software Process Line (2019)",
          "Software Process Line (2019)",
          "Software Process Line (2019)",
          "Software Process Line (2019)",
          "Software Process Line (2019)",
          "Software Process Line (2019)",
          "Software Process Line (2019)",
          "Data Stream Processing Latency (2019)",
          "Data Stream Processing Latency (2019)",
          "Data Stream Processing Latency (2019)",
          "Data Stream Processing Latency (2019)",
          "Data Stream Processing Latency (2019)",
          "Data Stream Processing Latency (2019)",
          "Data Stream Processing Latency (2019)",
          "Data Stream Processing Latency (2019)",
          "Data Stream Processing Latency (2019)",
          "Data Stream Processing Latency (2019)",
          "Data Stream Processing Latency (2019)",
          "Data Stream Processing Latency (2019)",
          "Data Stream Processing Latency (2019)",
          "Data Stream Processing Latency (2019)",
          "Data Stream Processing Latency (2019)",
          "Data Stream Processing Latency (2019)",
          "Data Stream Processing Latency (2019)",
          "Data Stream Processing Latency (2019)",
          "Data Stream Processing Latency (2019)",
          "Data Stream Processing Latency (2019)",
          "Data Stream Processing Latency (2019)",
          "Data Stream Processing Latency (2019)",
          "Data Stream Processing Latency (2019)",
          "Data Stream Processing Latency (2019)",
          "Data Stream Processing Latency (2019)",
          "Data Stream Processing Latency (2019)",
          "Data Stream Processing Latency (2019)",
          "Data Stream Processing Latency (2019)",
          "Data Stream Processing Latency (2019)",
          "Data Stream Processing Latency (2019)",
          "Data Stream Processing Latency (2019)",
          "Data Stream Processing Latency (2019)",
          "Data Stream Processing Latency (2019)",
          "Data Stream Processing Latency (2019)",
          "Data Stream Processing Latency (2019)",
          "Data Stream Processing Latency (2019)",
          "Data Stream Processing Latency (2019)",
          "Data Stream Processing Latency (2019)",
          "Data Stream Processing Latency (2019)",
          "Data Stream Processing Latency (2019)",
          "Data Stream Processing Latency (2019)",
          "Data Stream Processing Latency (2019)",
          "Data Stream Processing Latency (2019)",
          "Data Stream Processing Latency (2019)",
          "Data Stream Processing Latency (2019)",
          "Data Stream Processing Latency (2019)",
          "Data Stream Processing Latency (2019)",
          "Data Stream Processing Latency (2019)",
          "Data Stream Processing Latency (2019)",
          "Data Stream Processing Latency (2019)",
          "Data Stream Processing Latency (2019)",
          "Data Stream Processing Latency (2019)",
          "Data Stream Processing Latency (2019)",
          "Data Stream Processing Latency (2019)",
          "Data Stream Processing Latency (2019)",
          "Data Stream Processing Latency (2019)",
          "Data Stream Processing Latency (2019)",
          "Data Stream Processing Latency (2019)",
          "Data Stream Processing Latency (2019)",
          "Data Stream Processing Latency (2019)",
          "Data Stream Processing Latency (2019)",
          "Data Stream Processing Latency (2019)",
          "Data Stream Processing Latency (2019)",
          "Data Stream Processing Latency (2019)",
          "Data Stream Processing Latency (2019)",
          "Data Stream Processing Latency (2019)",
          "Data Stream Processing Latency (2019)",
          "Data Stream Processing Latency (2019)",
          "Business Process Meta Models (2021)",
          "Business Process Meta Models (2021)",
          "Business Process Meta Models (2021)",
          "Business Process Meta Models (2021)",
          "Business Process Meta Models (2021)",
          "Business Process Meta Models (2021)",
          "Business Process Meta Models (2021)",
          "Business Process Meta Models (2021)",
          "Business Process Meta Models (2021)",
          "Business Process Meta Models (2021)",
          "Business Process Meta Models (2021)",
          "Business Process Meta Models (2021)",
          "Business Process Meta Models (2021)",
          "Business Process Meta Models (2021)",
          "Business Process Meta Models (2021)",
          "Business Process Meta Models (2021)",
          "Business Process Meta Models (2021)",
          "Business Process Meta Models (2021)",
          "Business Process Meta Models (2021)",
          "Business Process Meta Models (2021)",
          "Business Process Meta Models (2021)",
          "Business Process Meta Models (2021)",
          "Multicore Performance Prediction (2017)",
          "Multicore Performance Prediction (2017)",
          "Multicore Performance Prediction (2017)",
          "Multicore Performance Prediction (2017)",
          "Multicore Performance Prediction (2017)",
          "Multicore Performance Prediction (2017)",
          "Multicore Performance Prediction (2017)",
          "Multicore Performance Prediction (2017)",
          "Multicore Performance Prediction (2017)",
          "Multicore Performance Prediction (2017)",
          "Multicore Performance Prediction (2017)",
          "Multicore Performance Prediction (2017)",
          "Multicore Performance Prediction (2017)",
          "Multicore Performance Prediction (2017)",
          "Multicore Performance Prediction (2017)",
          "Multicore Performance Prediction (2017)",
          "Multicore Performance Prediction (2017)",
          "Multicore Performance Prediction (2017)",
          "Multicore Performance Prediction (2017)",
          "Multicore Performance Prediction (2017)",
          "Multicore Performance Prediction (2017)",
          "Multicore Performance Prediction (2017)",
          "Multicore Performance Prediction (2017)",
          "Multicore Performance Prediction (2017)",
          "Multicore Performance Prediction (2017)",
          "Multicore Performance Prediction (2017)",
          "Multicore Performance Prediction (2017)",
          "Multicore Performance Prediction (2017)",
          "Multicore Performance Prediction (2017)",
          "Multicore Performance Prediction (2017)",
          "Multicore Performance Prediction (2017)",
          "Multicore Performance Prediction (2017)",
          "Multicore Performance Prediction (2017)",
          "Cloud Migration (2014)",
          "Cloud Migration (2014)",
          "Cloud Migration (2014)",
          "Cloud Migration (2014)",
          "Cloud Migration (2014)",
          "Cloud Migration (2014)",
          "Cloud Migration (2014)",
          "Cloud Migration (2014)",
          "Cloud Migration (2014)",
          "Cloud Migration (2014)",
          "Cloud Migration (2014)",
          "Cloud Migration (2014)",
          "Cloud Migration (2014)",
          "Cloud Migration (2014)",
          "Cloud Migration (2014)",
          "Cloud Migration (2014)",
          "Cloud Migration (2014)",
          "Cloud Migration (2014)",
          "Cloud Migration (2014)",
          "Cloud Migration (2014)",
          "Cloud Migration (2014)",
          "Cloud Migration (2014)",
          "Cloud Migration (2014)",
          "Cloud Migration (2014)",
          "Cloud Migration (2014)",
          "Cloud Migration (2014)",
          "Cloud Migration (2014)",
          "Software Fault Prediction Metrics (2013)",
          "Software Fault Prediction Metrics (2013)",
          "Software Fault Prediction Metrics (2013)",
          "Software Fault Prediction Metrics (2013)",
          "Software Fault Prediction Metrics (2013)",
          "Software Fault Prediction Metrics (2013)",
          "Software Fault Prediction Metrics (2013)",
          "Software Fault Prediction Metrics (2013)",
          "Software Fault Prediction Metrics (2013)",
          "Software Fault Prediction Metrics (2013)",
          "Software Fault Prediction Metrics (2013)",
          "Software Fault Prediction Metrics (2013)",
          "Software Fault Prediction Metrics (2013)",
          "Software Fault Prediction Metrics (2013)",
          "Software Fault Prediction Metrics (2013)",
          "Software Fault Prediction Metrics (2013)",
          "Software Fault Prediction Metrics (2013)",
          "Software Fault Prediction Metrics (2013)",
          "Software Fault Prediction Metrics (2013)",
          "Software Fault Prediction Metrics (2013)",
          "Software Fault Prediction Metrics (2013)",
          "Software Fault Prediction Metrics (2013)",
          "Software Fault Prediction Metrics (2013)",
          "Software Fault Prediction Metrics (2013)",
          "Software Fault Prediction Metrics (2013)",
          "Software Fault Prediction Metrics (2013)",
          "Software Fault Prediction Metrics (2013)",
          "Software Fault Prediction Metrics (2013)",
          "Software Fault Prediction Metrics (2013)",
          "Software Fault Prediction Metrics (2013)",
          "Software Fault Prediction Metrics (2013)",
          "Software Fault Prediction Metrics (2013)",
          "Software Fault Prediction Metrics (2013)",
          "Software Fault Prediction Metrics (2013)",
          "Software Fault Prediction Metrics (2013)",
          "Software Fault Prediction Metrics (2013)",
          "Software Fault Prediction Metrics (2013)",
          "Software Fault Prediction Metrics (2013)",
          "Software Fault Prediction Metrics (2013)",
          "Software Fault Prediction Metrics (2013)",
          "Software Fault Prediction Metrics (2013)",
          "Software Fault Prediction Metrics (2013)",
          "Software Fault Prediction Metrics (2013)",
          "Software Fault Prediction Metrics (2013)",
          "Software Fault Prediction Metrics (2013)",
          "Software Fault Prediction Metrics (2013)",
          "Software Fault Prediction Metrics (2013)",
          "Software Fault Prediction Metrics (2013)",
          "Software Defect Prediction (2015)",
          "Software Defect Prediction (2015)",
          "Software Defect Prediction (2015)",
          "Software Defect Prediction (2015)",
          "Software Defect Prediction (2015)",
          "Software Defect Prediction (2015)",
          "Software Defect Prediction (2015)",
          "Software Defect Prediction (2015)",
          "Software Defect Prediction (2015)",
          "Software Defect Prediction (2015)",
          "Software Defect Prediction (2015)",
          "Software Defect Prediction (2015)",
          "Software Defect Prediction (2015)",
          "Software Defect Prediction (2015)",
          "Software Defect Prediction (2015)",
          "Software Defect Prediction (2015)",
          "Software Defect Prediction (2015)",
          "Software Defect Prediction (2015)",
          "Software Defect Prediction (2015)",
          "Software Defect Prediction (2015)",
          "Software Defect Prediction (2015)",
          "Software Defect Prediction (2015)",
          "Software Defect Prediction (2015)",
          "Software Defect Prediction (2015)",
          "Software Defect Prediction (2015)",
          "Software Defect Prediction (2015)",
          "Software Defect Prediction (2015)",
          "Software Defect Prediction (2015)",
          "Software Defect Prediction (2015)",
          "Software Defect Prediction (2015)",
          "Software Defect Prediction (2015)",
          "Software Defect Prediction (2015)",
          "Software Defect Prediction (2015)",
          "Software Defect Prediction (2015)",
          "Software Defect Prediction (2015)",
          "Software Defect Prediction (2015)",
          "Software Defect Prediction (2015)",
          "Software Defect Prediction (2015)",
          "Software Defect Prediction (2015)",
          "Software Defect Prediction (2015)",
          "Software Defect Prediction (2015)",
          "Software Defect Prediction (2015)",
          "Software Defect Prediction (2015)",
          "Software Defect Prediction (2015)",
          "Software Defect Prediction (2015)",
          "Software Defect Prediction (2015)",
          "Software Defect Prediction (2015)",
          "Software Defect Prediction (2015)",
          "Software Defect Prediction (2015)",
          "Software Defect Prediction (2015)",
          "Software Defect Prediction (2015)",
          "Software Defect Prediction (2015)",
          "Software Defect Prediction (2015)"
         ],
         "x0": " ",
         "xaxis": "x",
         "y": [
          2009,
          2007,
          2007,
          2006,
          2006,
          2006,
          2005,
          2004,
          2009,
          2010,
          2010,
          2011,
          2011,
          2012,
          2012,
          2013,
          2013,
          2014,
          2014,
          2014,
          2014,
          2015,
          2015,
          2015,
          2015,
          2015,
          2015,
          2018,
          2018,
          2018,
          2018,
          1998,
          1996,
          2015,
          2017,
          2016,
          2018,
          2017,
          2016,
          2017,
          2008,
          2016,
          2009,
          2013,
          2008,
          2018,
          2009,
          2017,
          2018,
          2015,
          2006,
          2014,
          2014,
          2012,
          2014,
          2015,
          2014,
          2016,
          2016,
          2018,
          2011,
          2008,
          2011,
          2017,
          2013,
          2012,
          2015,
          2011,
          2016,
          2015,
          2015,
          2011,
          2009,
          2017,
          2018,
          2008,
          2014,
          2014,
          2012,
          2014,
          2016,
          2017,
          2018,
          2011,
          2016,
          2014,
          2016,
          2009,
          2015,
          2016,
          2016,
          2012,
          2012,
          2017,
          2010,
          2006,
          2016,
          2013,
          2015,
          2013,
          2016,
          2017,
          2018,
          2012,
          2003,
          2018,
          2016,
          2017,
          2005,
          2011,
          2011,
          2011,
          2004,
          2011,
          2003,
          2014,
          2006,
          2008,
          2010,
          2006,
          2016,
          2013,
          2012,
          2005,
          2006,
          2019,
          2005,
          2005,
          2009,
          2008,
          2009,
          2015,
          2017,
          2016,
          2006,
          2008,
          2009,
          2009,
          2009,
          2009,
          2010,
          2010,
          2010,
          2011,
          2011,
          2011,
          2012,
          2011,
          2011,
          2011,
          2008,
          2009,
          2009,
          2011,
          2012,
          2015,
          2012,
          2011,
          2008,
          2005,
          2007,
          2007,
          2006,
          2007,
          2005,
          2008,
          2008,
          2008,
          2008,
          2005,
          2005,
          2006,
          2006,
          2008,
          2007,
          2008,
          2005,
          2008,
          2007,
          2007,
          2007,
          2008,
          2007,
          2007,
          2007,
          1996,
          1996,
          1996,
          1998,
          1998,
          1998,
          1998,
          1999,
          1999,
          2000,
          2000,
          2000,
          2001,
          2001,
          2002,
          2002,
          2002,
          2004,
          2005,
          2005,
          2005,
          2006,
          2006,
          2006,
          2007,
          2007,
          2007,
          2007,
          2007,
          2007,
          2008,
          2008,
          2008,
          2008,
          2008,
          2009,
          2009,
          2009,
          2009,
          2009,
          2009,
          2009,
          2010,
          2010,
          2010,
          2010,
          2010,
          2011,
          2013,
          2008,
          2008,
          2009,
          2008,
          2008,
          2009,
          2009,
          2009,
          2009,
          2009,
          2010,
          2010,
          2010,
          2010,
          2010,
          2011,
          2011,
          2010,
          2011,
          2010,
          2011,
          2012,
          2012,
          2012,
          2012,
          2012,
          2011,
          2012,
          2013,
          2013,
          2013,
          2013,
          2013,
          2003,
          2004,
          2004,
          2005,
          2005,
          2005,
          2005,
          2005,
          2006,
          2006,
          2006,
          2006,
          2007,
          2007,
          2007,
          2007,
          2007,
          2007,
          2008
         ],
         "y0": " ",
         "yaxis": "y"
        }
       ],
       "layout": {
        "boxmode": "group",
        "font": {
         "family": "Modern Computer"
        },
        "height": 450,
        "legend": {
         "font": {
          "size": 15
         },
         "title": {
          "text": ""
         },
         "tracegroupgap": 0
        },
        "shapes": [
         {
          "line": {
           "color": "red",
           "width": 2
          },
          "name": "Survey year",
          "showlegend": true,
          "type": "line",
          "x0": -0.5,
          "x1": 0,
          "y0": 2012,
          "y1": 2012
         },
         {
          "line": {
           "color": "red",
           "width": 2
          },
          "name": "Survey year",
          "showlegend": false,
          "type": "line",
          "x0": 0.5,
          "x1": 1,
          "y0": 2015,
          "y1": 2015
         },
         {
          "line": {
           "color": "red",
           "width": 2
          },
          "name": "Survey year",
          "showlegend": false,
          "type": "line",
          "x0": 1.5,
          "x1": 2,
          "y0": 2018,
          "y1": 2018
         },
         {
          "line": {
           "color": "red",
           "width": 2
          },
          "name": "Survey year",
          "showlegend": false,
          "type": "line",
          "x0": 2.5,
          "x1": 3,
          "y0": 2022,
          "y1": 2022
         },
         {
          "line": {
           "color": "red",
           "width": 2
          },
          "name": "Survey year",
          "showlegend": false,
          "type": "line",
          "x0": 3.5,
          "x1": 4,
          "y0": 2023,
          "y1": 2023
         },
         {
          "line": {
           "color": "red",
           "width": 2
          },
          "name": "Survey year",
          "showlegend": false,
          "type": "line",
          "x0": 4.5,
          "x1": 5,
          "y0": 2018,
          "y1": 2018
         },
         {
          "line": {
           "color": "red",
           "width": 2
          },
          "name": "Survey year",
          "showlegend": false,
          "type": "line",
          "x0": 5.5,
          "x1": 6,
          "y0": 2020,
          "y1": 2020
         },
         {
          "line": {
           "color": "red",
           "width": 2
          },
          "name": "Survey year",
          "showlegend": false,
          "type": "line",
          "x0": 6.5,
          "x1": 7,
          "y0": 2023,
          "y1": 2023
         },
         {
          "line": {
           "color": "red",
           "width": 2
          },
          "name": "Survey year",
          "showlegend": false,
          "type": "line",
          "x0": 7.5,
          "x1": 8,
          "y0": 2020,
          "y1": 2020
         },
         {
          "line": {
           "color": "red",
           "width": 2
          },
          "name": "Survey year",
          "showlegend": false,
          "type": "line",
          "x0": 8.5,
          "x1": 9,
          "y0": 2024,
          "y1": 2024
         },
         {
          "line": {
           "color": "red",
           "width": 2
          },
          "name": "Survey year",
          "showlegend": false,
          "type": "line",
          "x0": 9.5,
          "x1": 10,
          "y0": 2010,
          "y1": 2010
         },
         {
          "line": {
           "color": "red",
           "width": 2
          },
          "name": "Survey year",
          "showlegend": false,
          "type": "line",
          "x0": 10.5,
          "x1": 11,
          "y0": 2023,
          "y1": 2023
         },
         {
          "line": {
           "color": "red",
           "width": 2
          },
          "name": "Survey year",
          "showlegend": false,
          "type": "line",
          "x0": 11.5,
          "x1": 12,
          "y0": 2018,
          "y1": 2018
         },
         {
          "line": {
           "color": "red",
           "width": 2
          },
          "name": "Survey year",
          "showlegend": false,
          "type": "line",
          "x0": 12.5,
          "x1": 13,
          "y0": 2022,
          "y1": 2022
         },
         {
          "line": {
           "color": "red",
           "width": 2
          },
          "name": "Survey year",
          "showlegend": false,
          "type": "line",
          "x0": 13.5,
          "x1": 14,
          "y0": 2020,
          "y1": 2020
         },
         {
          "line": {
           "color": "red",
           "width": 2
          },
          "name": "Survey year",
          "showlegend": false,
          "type": "line",
          "x0": 14.5,
          "x1": 15,
          "y0": 2019,
          "y1": 2019
         },
         {
          "line": {
           "color": "red",
           "width": 2
          },
          "name": "Survey year",
          "showlegend": false,
          "type": "line",
          "x0": 15.5,
          "x1": 16,
          "y0": 2019,
          "y1": 2019
         },
         {
          "line": {
           "color": "red",
           "width": 2
          },
          "name": "Survey year",
          "showlegend": false,
          "type": "line",
          "x0": 16.5,
          "x1": 17,
          "y0": 2021,
          "y1": 2021
         },
         {
          "line": {
           "color": "red",
           "width": 2
          },
          "name": "Survey year",
          "showlegend": false,
          "type": "line",
          "x0": 17.5,
          "x1": 18,
          "y0": 2017,
          "y1": 2017
         },
         {
          "line": {
           "color": "red",
           "width": 2
          },
          "name": "Survey year",
          "showlegend": false,
          "type": "line",
          "x0": 18.5,
          "x1": 19,
          "y0": 2014,
          "y1": 2014
         },
         {
          "line": {
           "color": "red",
           "width": 2
          },
          "name": "Survey year",
          "showlegend": false,
          "type": "line",
          "x0": 19.5,
          "x1": 20,
          "y0": 2013,
          "y1": 2013
         },
         {
          "line": {
           "color": "red",
           "width": 2
          },
          "name": "Survey year",
          "showlegend": false,
          "type": "line",
          "x0": 20.5,
          "x1": 21,
          "y0": 2015,
          "y1": 2015
         }
        ],
        "showlegend": true,
        "template": {
         "data": {
          "bar": [
           {
            "error_x": {
             "color": "rgb(36,36,36)"
            },
            "error_y": {
             "color": "rgb(36,36,36)"
            },
            "marker": {
             "line": {
              "color": "rgb(234,234,242)",
              "width": 0.5
             },
             "pattern": {
              "fillmode": "overlay",
              "size": 10,
              "solidity": 0.2
             }
            },
            "type": "bar"
           }
          ],
          "barpolar": [
           {
            "marker": {
             "line": {
              "color": "rgb(234,234,242)",
              "width": 0.5
             },
             "pattern": {
              "fillmode": "overlay",
              "size": 10,
              "solidity": 0.2
             }
            },
            "type": "barpolar"
           }
          ],
          "carpet": [
           {
            "aaxis": {
             "endlinecolor": "rgb(36,36,36)",
             "gridcolor": "white",
             "linecolor": "white",
             "minorgridcolor": "white",
             "startlinecolor": "rgb(36,36,36)"
            },
            "baxis": {
             "endlinecolor": "rgb(36,36,36)",
             "gridcolor": "white",
             "linecolor": "white",
             "minorgridcolor": "white",
             "startlinecolor": "rgb(36,36,36)"
            },
            "type": "carpet"
           }
          ],
          "choropleth": [
           {
            "colorbar": {
             "outlinewidth": 0,
             "tickcolor": "rgb(36,36,36)",
             "ticklen": 8,
             "ticks": "outside",
             "tickwidth": 2
            },
            "type": "choropleth"
           }
          ],
          "contour": [
           {
            "colorbar": {
             "outlinewidth": 0,
             "tickcolor": "rgb(36,36,36)",
             "ticklen": 8,
             "ticks": "outside",
             "tickwidth": 2
            },
            "colorscale": [
             [
              0,
              "rgb(2,4,25)"
             ],
             [
              0.06274509803921569,
              "rgb(24,15,41)"
             ],
             [
              0.12549019607843137,
              "rgb(47,23,57)"
             ],
             [
              0.18823529411764706,
              "rgb(71,28,72)"
             ],
             [
              0.25098039215686274,
              "rgb(97,30,82)"
             ],
             [
              0.3137254901960784,
              "rgb(123,30,89)"
             ],
             [
              0.3764705882352941,
              "rgb(150,27,91)"
             ],
             [
              0.4392156862745098,
              "rgb(177,22,88)"
             ],
             [
              0.5019607843137255,
              "rgb(203,26,79)"
             ],
             [
              0.5647058823529412,
              "rgb(223,47,67)"
             ],
             [
              0.6274509803921569,
              "rgb(236,76,61)"
             ],
             [
              0.6901960784313725,
              "rgb(242,107,73)"
             ],
             [
              0.7529411764705882,
              "rgb(244,135,95)"
             ],
             [
              0.8156862745098039,
              "rgb(245,162,122)"
             ],
             [
              0.8784313725490196,
              "rgb(246,188,153)"
             ],
             [
              0.9411764705882353,
              "rgb(247,212,187)"
             ],
             [
              1,
              "rgb(250,234,220)"
             ]
            ],
            "type": "contour"
           }
          ],
          "contourcarpet": [
           {
            "colorbar": {
             "outlinewidth": 0,
             "tickcolor": "rgb(36,36,36)",
             "ticklen": 8,
             "ticks": "outside",
             "tickwidth": 2
            },
            "type": "contourcarpet"
           }
          ],
          "heatmap": [
           {
            "colorbar": {
             "outlinewidth": 0,
             "tickcolor": "rgb(36,36,36)",
             "ticklen": 8,
             "ticks": "outside",
             "tickwidth": 2
            },
            "colorscale": [
             [
              0,
              "rgb(2,4,25)"
             ],
             [
              0.06274509803921569,
              "rgb(24,15,41)"
             ],
             [
              0.12549019607843137,
              "rgb(47,23,57)"
             ],
             [
              0.18823529411764706,
              "rgb(71,28,72)"
             ],
             [
              0.25098039215686274,
              "rgb(97,30,82)"
             ],
             [
              0.3137254901960784,
              "rgb(123,30,89)"
             ],
             [
              0.3764705882352941,
              "rgb(150,27,91)"
             ],
             [
              0.4392156862745098,
              "rgb(177,22,88)"
             ],
             [
              0.5019607843137255,
              "rgb(203,26,79)"
             ],
             [
              0.5647058823529412,
              "rgb(223,47,67)"
             ],
             [
              0.6274509803921569,
              "rgb(236,76,61)"
             ],
             [
              0.6901960784313725,
              "rgb(242,107,73)"
             ],
             [
              0.7529411764705882,
              "rgb(244,135,95)"
             ],
             [
              0.8156862745098039,
              "rgb(245,162,122)"
             ],
             [
              0.8784313725490196,
              "rgb(246,188,153)"
             ],
             [
              0.9411764705882353,
              "rgb(247,212,187)"
             ],
             [
              1,
              "rgb(250,234,220)"
             ]
            ],
            "type": "heatmap"
           }
          ],
          "heatmapgl": [
           {
            "colorbar": {
             "outlinewidth": 0,
             "tickcolor": "rgb(36,36,36)",
             "ticklen": 8,
             "ticks": "outside",
             "tickwidth": 2
            },
            "colorscale": [
             [
              0,
              "rgb(2,4,25)"
             ],
             [
              0.06274509803921569,
              "rgb(24,15,41)"
             ],
             [
              0.12549019607843137,
              "rgb(47,23,57)"
             ],
             [
              0.18823529411764706,
              "rgb(71,28,72)"
             ],
             [
              0.25098039215686274,
              "rgb(97,30,82)"
             ],
             [
              0.3137254901960784,
              "rgb(123,30,89)"
             ],
             [
              0.3764705882352941,
              "rgb(150,27,91)"
             ],
             [
              0.4392156862745098,
              "rgb(177,22,88)"
             ],
             [
              0.5019607843137255,
              "rgb(203,26,79)"
             ],
             [
              0.5647058823529412,
              "rgb(223,47,67)"
             ],
             [
              0.6274509803921569,
              "rgb(236,76,61)"
             ],
             [
              0.6901960784313725,
              "rgb(242,107,73)"
             ],
             [
              0.7529411764705882,
              "rgb(244,135,95)"
             ],
             [
              0.8156862745098039,
              "rgb(245,162,122)"
             ],
             [
              0.8784313725490196,
              "rgb(246,188,153)"
             ],
             [
              0.9411764705882353,
              "rgb(247,212,187)"
             ],
             [
              1,
              "rgb(250,234,220)"
             ]
            ],
            "type": "heatmapgl"
           }
          ],
          "histogram": [
           {
            "marker": {
             "pattern": {
              "fillmode": "overlay",
              "size": 10,
              "solidity": 0.2
             }
            },
            "type": "histogram"
           }
          ],
          "histogram2d": [
           {
            "colorbar": {
             "outlinewidth": 0,
             "tickcolor": "rgb(36,36,36)",
             "ticklen": 8,
             "ticks": "outside",
             "tickwidth": 2
            },
            "colorscale": [
             [
              0,
              "rgb(2,4,25)"
             ],
             [
              0.06274509803921569,
              "rgb(24,15,41)"
             ],
             [
              0.12549019607843137,
              "rgb(47,23,57)"
             ],
             [
              0.18823529411764706,
              "rgb(71,28,72)"
             ],
             [
              0.25098039215686274,
              "rgb(97,30,82)"
             ],
             [
              0.3137254901960784,
              "rgb(123,30,89)"
             ],
             [
              0.3764705882352941,
              "rgb(150,27,91)"
             ],
             [
              0.4392156862745098,
              "rgb(177,22,88)"
             ],
             [
              0.5019607843137255,
              "rgb(203,26,79)"
             ],
             [
              0.5647058823529412,
              "rgb(223,47,67)"
             ],
             [
              0.6274509803921569,
              "rgb(236,76,61)"
             ],
             [
              0.6901960784313725,
              "rgb(242,107,73)"
             ],
             [
              0.7529411764705882,
              "rgb(244,135,95)"
             ],
             [
              0.8156862745098039,
              "rgb(245,162,122)"
             ],
             [
              0.8784313725490196,
              "rgb(246,188,153)"
             ],
             [
              0.9411764705882353,
              "rgb(247,212,187)"
             ],
             [
              1,
              "rgb(250,234,220)"
             ]
            ],
            "type": "histogram2d"
           }
          ],
          "histogram2dcontour": [
           {
            "colorbar": {
             "outlinewidth": 0,
             "tickcolor": "rgb(36,36,36)",
             "ticklen": 8,
             "ticks": "outside",
             "tickwidth": 2
            },
            "colorscale": [
             [
              0,
              "rgb(2,4,25)"
             ],
             [
              0.06274509803921569,
              "rgb(24,15,41)"
             ],
             [
              0.12549019607843137,
              "rgb(47,23,57)"
             ],
             [
              0.18823529411764706,
              "rgb(71,28,72)"
             ],
             [
              0.25098039215686274,
              "rgb(97,30,82)"
             ],
             [
              0.3137254901960784,
              "rgb(123,30,89)"
             ],
             [
              0.3764705882352941,
              "rgb(150,27,91)"
             ],
             [
              0.4392156862745098,
              "rgb(177,22,88)"
             ],
             [
              0.5019607843137255,
              "rgb(203,26,79)"
             ],
             [
              0.5647058823529412,
              "rgb(223,47,67)"
             ],
             [
              0.6274509803921569,
              "rgb(236,76,61)"
             ],
             [
              0.6901960784313725,
              "rgb(242,107,73)"
             ],
             [
              0.7529411764705882,
              "rgb(244,135,95)"
             ],
             [
              0.8156862745098039,
              "rgb(245,162,122)"
             ],
             [
              0.8784313725490196,
              "rgb(246,188,153)"
             ],
             [
              0.9411764705882353,
              "rgb(247,212,187)"
             ],
             [
              1,
              "rgb(250,234,220)"
             ]
            ],
            "type": "histogram2dcontour"
           }
          ],
          "mesh3d": [
           {
            "colorbar": {
             "outlinewidth": 0,
             "tickcolor": "rgb(36,36,36)",
             "ticklen": 8,
             "ticks": "outside",
             "tickwidth": 2
            },
            "type": "mesh3d"
           }
          ],
          "parcoords": [
           {
            "line": {
             "colorbar": {
              "outlinewidth": 0,
              "tickcolor": "rgb(36,36,36)",
              "ticklen": 8,
              "ticks": "outside",
              "tickwidth": 2
             }
            },
            "type": "parcoords"
           }
          ],
          "pie": [
           {
            "automargin": true,
            "type": "pie"
           }
          ],
          "scatter": [
           {
            "fillpattern": {
             "fillmode": "overlay",
             "size": 10,
             "solidity": 0.2
            },
            "type": "scatter"
           }
          ],
          "scatter3d": [
           {
            "line": {
             "colorbar": {
              "outlinewidth": 0,
              "tickcolor": "rgb(36,36,36)",
              "ticklen": 8,
              "ticks": "outside",
              "tickwidth": 2
             }
            },
            "marker": {
             "colorbar": {
              "outlinewidth": 0,
              "tickcolor": "rgb(36,36,36)",
              "ticklen": 8,
              "ticks": "outside",
              "tickwidth": 2
             }
            },
            "type": "scatter3d"
           }
          ],
          "scattercarpet": [
           {
            "marker": {
             "colorbar": {
              "outlinewidth": 0,
              "tickcolor": "rgb(36,36,36)",
              "ticklen": 8,
              "ticks": "outside",
              "tickwidth": 2
             }
            },
            "type": "scattercarpet"
           }
          ],
          "scattergeo": [
           {
            "marker": {
             "colorbar": {
              "outlinewidth": 0,
              "tickcolor": "rgb(36,36,36)",
              "ticklen": 8,
              "ticks": "outside",
              "tickwidth": 2
             }
            },
            "type": "scattergeo"
           }
          ],
          "scattergl": [
           {
            "marker": {
             "colorbar": {
              "outlinewidth": 0,
              "tickcolor": "rgb(36,36,36)",
              "ticklen": 8,
              "ticks": "outside",
              "tickwidth": 2
             }
            },
            "type": "scattergl"
           }
          ],
          "scattermapbox": [
           {
            "marker": {
             "colorbar": {
              "outlinewidth": 0,
              "tickcolor": "rgb(36,36,36)",
              "ticklen": 8,
              "ticks": "outside",
              "tickwidth": 2
             }
            },
            "type": "scattermapbox"
           }
          ],
          "scatterpolar": [
           {
            "marker": {
             "colorbar": {
              "outlinewidth": 0,
              "tickcolor": "rgb(36,36,36)",
              "ticklen": 8,
              "ticks": "outside",
              "tickwidth": 2
             }
            },
            "type": "scatterpolar"
           }
          ],
          "scatterpolargl": [
           {
            "marker": {
             "colorbar": {
              "outlinewidth": 0,
              "tickcolor": "rgb(36,36,36)",
              "ticklen": 8,
              "ticks": "outside",
              "tickwidth": 2
             }
            },
            "type": "scatterpolargl"
           }
          ],
          "scatterternary": [
           {
            "marker": {
             "colorbar": {
              "outlinewidth": 0,
              "tickcolor": "rgb(36,36,36)",
              "ticklen": 8,
              "ticks": "outside",
              "tickwidth": 2
             }
            },
            "type": "scatterternary"
           }
          ],
          "surface": [
           {
            "colorbar": {
             "outlinewidth": 0,
             "tickcolor": "rgb(36,36,36)",
             "ticklen": 8,
             "ticks": "outside",
             "tickwidth": 2
            },
            "colorscale": [
             [
              0,
              "rgb(2,4,25)"
             ],
             [
              0.06274509803921569,
              "rgb(24,15,41)"
             ],
             [
              0.12549019607843137,
              "rgb(47,23,57)"
             ],
             [
              0.18823529411764706,
              "rgb(71,28,72)"
             ],
             [
              0.25098039215686274,
              "rgb(97,30,82)"
             ],
             [
              0.3137254901960784,
              "rgb(123,30,89)"
             ],
             [
              0.3764705882352941,
              "rgb(150,27,91)"
             ],
             [
              0.4392156862745098,
              "rgb(177,22,88)"
             ],
             [
              0.5019607843137255,
              "rgb(203,26,79)"
             ],
             [
              0.5647058823529412,
              "rgb(223,47,67)"
             ],
             [
              0.6274509803921569,
              "rgb(236,76,61)"
             ],
             [
              0.6901960784313725,
              "rgb(242,107,73)"
             ],
             [
              0.7529411764705882,
              "rgb(244,135,95)"
             ],
             [
              0.8156862745098039,
              "rgb(245,162,122)"
             ],
             [
              0.8784313725490196,
              "rgb(246,188,153)"
             ],
             [
              0.9411764705882353,
              "rgb(247,212,187)"
             ],
             [
              1,
              "rgb(250,234,220)"
             ]
            ],
            "type": "surface"
           }
          ],
          "table": [
           {
            "cells": {
             "fill": {
              "color": "rgb(231,231,240)"
             },
             "line": {
              "color": "white"
             }
            },
            "header": {
             "fill": {
              "color": "rgb(183,183,191)"
             },
             "line": {
              "color": "white"
             }
            },
            "type": "table"
           }
          ]
         },
         "layout": {
          "annotationdefaults": {
           "arrowcolor": "rgb(67,103,167)"
          },
          "autotypenumbers": "strict",
          "coloraxis": {
           "colorbar": {
            "outlinewidth": 0,
            "tickcolor": "rgb(36,36,36)",
            "ticklen": 8,
            "ticks": "outside",
            "tickwidth": 2
           }
          },
          "colorscale": {
           "sequential": [
            [
             0,
             "rgb(2,4,25)"
            ],
            [
             0.06274509803921569,
             "rgb(24,15,41)"
            ],
            [
             0.12549019607843137,
             "rgb(47,23,57)"
            ],
            [
             0.18823529411764706,
             "rgb(71,28,72)"
            ],
            [
             0.25098039215686274,
             "rgb(97,30,82)"
            ],
            [
             0.3137254901960784,
             "rgb(123,30,89)"
            ],
            [
             0.3764705882352941,
             "rgb(150,27,91)"
            ],
            [
             0.4392156862745098,
             "rgb(177,22,88)"
            ],
            [
             0.5019607843137255,
             "rgb(203,26,79)"
            ],
            [
             0.5647058823529412,
             "rgb(223,47,67)"
            ],
            [
             0.6274509803921569,
             "rgb(236,76,61)"
            ],
            [
             0.6901960784313725,
             "rgb(242,107,73)"
            ],
            [
             0.7529411764705882,
             "rgb(244,135,95)"
            ],
            [
             0.8156862745098039,
             "rgb(245,162,122)"
            ],
            [
             0.8784313725490196,
             "rgb(246,188,153)"
            ],
            [
             0.9411764705882353,
             "rgb(247,212,187)"
            ],
            [
             1,
             "rgb(250,234,220)"
            ]
           ],
           "sequentialminus": [
            [
             0,
             "rgb(2,4,25)"
            ],
            [
             0.06274509803921569,
             "rgb(24,15,41)"
            ],
            [
             0.12549019607843137,
             "rgb(47,23,57)"
            ],
            [
             0.18823529411764706,
             "rgb(71,28,72)"
            ],
            [
             0.25098039215686274,
             "rgb(97,30,82)"
            ],
            [
             0.3137254901960784,
             "rgb(123,30,89)"
            ],
            [
             0.3764705882352941,
             "rgb(150,27,91)"
            ],
            [
             0.4392156862745098,
             "rgb(177,22,88)"
            ],
            [
             0.5019607843137255,
             "rgb(203,26,79)"
            ],
            [
             0.5647058823529412,
             "rgb(223,47,67)"
            ],
            [
             0.6274509803921569,
             "rgb(236,76,61)"
            ],
            [
             0.6901960784313725,
             "rgb(242,107,73)"
            ],
            [
             0.7529411764705882,
             "rgb(244,135,95)"
            ],
            [
             0.8156862745098039,
             "rgb(245,162,122)"
            ],
            [
             0.8784313725490196,
             "rgb(246,188,153)"
            ],
            [
             0.9411764705882353,
             "rgb(247,212,187)"
            ],
            [
             1,
             "rgb(250,234,220)"
            ]
           ]
          },
          "colorway": [
           "rgb(76,114,176)",
           "rgb(221,132,82)",
           "rgb(85,168,104)",
           "rgb(196,78,82)",
           "rgb(129,114,179)",
           "rgb(147,120,96)",
           "rgb(218,139,195)",
           "rgb(140,140,140)",
           "rgb(204,185,116)",
           "rgb(100,181,205)"
          ],
          "font": {
           "color": "rgb(36,36,36)"
          },
          "geo": {
           "bgcolor": "white",
           "lakecolor": "white",
           "landcolor": "rgb(234,234,242)",
           "showlakes": true,
           "showland": true,
           "subunitcolor": "white"
          },
          "hoverlabel": {
           "align": "left"
          },
          "hovermode": "closest",
          "paper_bgcolor": "white",
          "plot_bgcolor": "rgb(234,234,242)",
          "polar": {
           "angularaxis": {
            "gridcolor": "white",
            "linecolor": "white",
            "showgrid": true,
            "ticks": ""
           },
           "bgcolor": "rgb(234,234,242)",
           "radialaxis": {
            "gridcolor": "white",
            "linecolor": "white",
            "showgrid": true,
            "ticks": ""
           }
          },
          "scene": {
           "xaxis": {
            "backgroundcolor": "rgb(234,234,242)",
            "gridcolor": "white",
            "gridwidth": 2,
            "linecolor": "white",
            "showbackground": true,
            "showgrid": true,
            "ticks": "",
            "zerolinecolor": "white"
           },
           "yaxis": {
            "backgroundcolor": "rgb(234,234,242)",
            "gridcolor": "white",
            "gridwidth": 2,
            "linecolor": "white",
            "showbackground": true,
            "showgrid": true,
            "ticks": "",
            "zerolinecolor": "white"
           },
           "zaxis": {
            "backgroundcolor": "rgb(234,234,242)",
            "gridcolor": "white",
            "gridwidth": 2,
            "linecolor": "white",
            "showbackground": true,
            "showgrid": true,
            "ticks": "",
            "zerolinecolor": "white"
           }
          },
          "shapedefaults": {
           "fillcolor": "rgb(67,103,167)",
           "line": {
            "width": 0
           },
           "opacity": 0.5
          },
          "ternary": {
           "aaxis": {
            "gridcolor": "white",
            "linecolor": "white",
            "showgrid": true,
            "ticks": ""
           },
           "baxis": {
            "gridcolor": "white",
            "linecolor": "white",
            "showgrid": true,
            "ticks": ""
           },
           "bgcolor": "rgb(234,234,242)",
           "caxis": {
            "gridcolor": "white",
            "linecolor": "white",
            "showgrid": true,
            "ticks": ""
           }
          },
          "xaxis": {
           "automargin": true,
           "gridcolor": "white",
           "linecolor": "white",
           "showgrid": true,
           "ticks": "",
           "title": {
            "standoff": 15
           },
           "zerolinecolor": "white"
          },
          "yaxis": {
           "automargin": true,
           "gridcolor": "white",
           "linecolor": "white",
           "showgrid": true,
           "ticks": "",
           "title": {
            "standoff": 15
           },
           "zerolinecolor": "white"
          }
         }
        },
        "title": {
         "font": {
          "family": "Modern Computer",
          "size": 35
         },
         "text": "Year distribution per topic",
         "x": 0.5
        },
        "xaxis": {
         "anchor": "y",
         "domain": [
          0,
          1
         ],
         "tickfont": {
          "size": 15
         },
         "title": {
          "font": {
           "size": 20
          },
          "text": "Topic"
         }
        },
        "yaxis": {
         "anchor": "x",
         "domain": [
          0,
          1
         ],
         "tickfont": {
          "size": 15
         },
         "title": {
          "font": {
           "size": 20
          },
          "text": "Year"
         }
        }
       }
      }
     },
     "metadata": {},
     "output_type": "display_data"
    }
   ],
   "source": [
    "years_plot_df = core_pubs.copy()\n",
    "years_plot_df.loc[years_plot_df[\"year\"] < 1980, \"year\"] = 1980\n",
    "fig = px.box(years_plot_df, x=\"Topic\", y=\"year\",\n",
    "             title=\"Year distribution per topic\", points=\"all\", height=450,\n",
    "                color=\"Type\")\n",
    "markers = [2012, 2015, 2018, 2022, 2023, 2018, 2020, 2023, 2020, 2024,\n",
    "           2010, 2023, 2018, 2022, 2020, 2019, 2019, 2021, 2017, 2014, 2013, 2015]\n",
    "# add X markers at the corresponding y each to the next x\n",
    "showlegend = True\n",
    "for i, marker in enumerate(markers):\n",
    "    if i == 1:\n",
    "        showlegend = False\n",
    "    fig.add_shape(type=\"line\", x0=i - 0.5, x1=i, showlegend=showlegend,\n",
    "                   y0=marker, y1=marker,\n",
    "                     line=dict(color=\"red\", width=2), name=\"Survey year\")\n",
    "fig.update_layout(**PLOT_CONFIGS)\n",
    "fig.update_layout(legend_orientation=None, legend_yanchor=None,\n",
    "                   legend_y=None, legend_xanchor=None, legend_x=None,\n",
    "                   legend_font_size=15)\n",
    "fig.update_xaxes(title_text=\"Topic\")\n",
    "fig.update_yaxes(title_text=\"Year\")\n",
    "fig.show()"
   ]
  }
 ],
 "metadata": {
  "kernelspec": {
   "display_name": "litqeval-nY2J0JWW-py3.10",
   "language": "python",
   "name": "python3"
  },
  "language_info": {
   "codemirror_mode": {
    "name": "ipython",
    "version": 3
   },
   "file_extension": ".py",
   "mimetype": "text/x-python",
   "name": "python",
   "nbconvert_exporter": "python",
   "pygments_lexer": "ipython3",
   "version": "3.10.7"
  }
 },
 "nbformat": 4,
 "nbformat_minor": 2
}
