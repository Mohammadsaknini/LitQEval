{
 "cells": [
  {
   "cell_type": "markdown",
   "metadata": {},
   "source": [
    "#### The goal of this notebook is to get a breif understanding of the data we are using and the differnece of quality between the Systematic Literature Review and Bibliometric Analysis topics."
   ]
  },
  {
   "cell_type": "code",
   "execution_count": 1,
   "metadata": {},
   "outputs": [],
   "source": [
    "import plotly.express as px\n",
    "import plotly.io as pio\n",
    "import pandas as pd\n",
    "\n",
    "pio.templates.default = \"seaborn\"\n",
    "PLOT_CONFIGS = dict(\n",
    "    title_x=0.5, title_font_size=20, title_font_family=\"Modern Computer\", font_family=\"Modern Computer\",\n",
    "    xaxis_title=\"\", yaxis_title=\"\", showlegend=True, legend_title=\"\",\n",
    "    xaxis_tickfont_size=12, yaxis_tickfont_size=12, legend_font_size=15,\n",
    "    xaxis_title_font_size=17, yaxis_title_font_size=17, xaxis_tickangle=45,\n",
    "    width=650, height=400\n",
    "    # legend_orientation=\"h\", legend_yanchor=\"bottom\", legend_y=-0.3, legend_xanchor=\"center\", legend_x=0.5\n",
    "    )\n",
    "SLR_TOPICS = [\"Software Process Line\", \"Data Stream Processing Latency\", \"Business Process Meta Models\", \"Multicore Performance Prediction\", \"Cloud Migration\", \"Software Fault Prediction Metrics\", \"Software Defect Prediction\"]"
   ]
  },
  {
   "cell_type": "code",
   "execution_count": 2,
   "metadata": {},
   "outputs": [
    {
     "name": "stderr",
     "output_type": "stream",
     "text": [
      "C:\\Users\\Moham\\AppData\\Local\\Temp\\ipykernel_30176\\1548744984.py:9: SettingWithCopyWarning: \n",
      "A value is trying to be set on a copy of a slice from a DataFrame.\n",
      "Try using .loc[row_indexer,col_indexer] = value instead\n",
      "\n",
      "See the caveats in the documentation: https://pandas.pydata.org/pandas-docs/stable/user_guide/indexing.html#returning-a-view-versus-a-copy\n",
      "  core_pubs[\"Type\"] = \"Bibliometric Analysis\"\n"
     ]
    }
   ],
   "source": [
    "meta_data = pd.read_excel(\"./data/metadata.xlsx\")\n",
    "core_pubs = pd.read_excel(\"./data/core_publications.xlsx\")[[\"Pub_id\", \"Survey\", \"Topic\"]]\n",
    "\n",
    "df = pd.merge(core_pubs, meta_data, left_on=\"Pub_id\", right_on=\"id\")\n",
    "surveys = meta_data[meta_data[\"id\"].isin(df[\"Survey\"].unique())][[\"id\", \"title\", \"year\", \"times_cited\", \"field_citation_ratio\"]]\n",
    "core_pubs = df[[\"Survey\", \"Pub_id\", \"Topic\", \"abstract\", \"times_cited\", \"field_citation_ratio\", \"year\"]]\n",
    "# add column that marks as SLR or BA\n",
    "# mark as SLR if the topic is in the SLR_TOPICS\n",
    "core_pubs[\"Type\"] = \"Bibliometric Analysis\"\n",
    "core_pubs.loc[core_pubs[\"Topic\"].isin(SLR_TOPICS), \"Type\"] = \"Systematic Literature Review\"\n",
    "def try_get_year(survey_id):\n",
    "    try:\n",
    "        return surveys[surveys[\"id\"] == survey_id][\"year\"].values[0]\n",
    "    except:\n",
    "        return \"2015\"\n",
    "survey_years = core_pubs.apply(lambda row: try_get_year(row[\"Survey\"]), axis=1).values\n",
    "core_pubs.loc[:, \"Topic\"] = core_pubs[\"Topic\"] + \" (\" + survey_years.astype(str) + \")\""
   ]
  },
  {
   "cell_type": "code",
   "execution_count": 3,
   "metadata": {},
   "outputs": [
    {
     "data": {
      "application/vnd.plotly.v1+json": {
       "config": {
        "plotlyServerURL": "https://plot.ly"
       },
       "data": [
        {
         "alignmentgroup": "True",
         "bingroup": "x",
         "hovertemplate": "Type=Bibliometric Analysis<br>Topic=%{x}<br>count=%{y}<extra></extra>",
         "legendgroup": "Bibliometric Analysis",
         "marker": {
          "color": "rgb(76,114,176)",
          "pattern": {
           "shape": ""
          }
         },
         "name": "Bibliometric Analysis",
         "offsetgroup": "Bibliometric Analysis",
         "orientation": "v",
         "showlegend": true,
         "type": "histogram",
         "x": [
          "Synthetic Biology (2012)",
          "Synthetic Biology (2012)",
          "Synthetic Biology (2012)",
          "Synthetic Biology (2012)",
          "Synthetic Biology (2012)",
          "Synthetic Biology (2012)",
          "Synthetic Biology (2012)",
          "Synthetic Biology (2012)",
          "Synthetic Biology (2012)",
          "Synthetic Biology (2012)",
          "Synthetic Biology (2012)",
          "Synthetic Biology (2012)",
          "Synthetic Biology (2012)",
          "Synthetic Biology (2012)",
          "Synthetic Biology (2012)",
          "Synthetic Biology (2012)",
          "Synthetic Biology (2012)",
          "Synthetic Biology (2012)",
          "Synthetic Biology (2012)",
          "Synthetic Biology (2012)",
          "Synthetic Biology (2012)",
          "Synthetic Biology (2012)",
          "Synthetic Biology (2012)",
          "Synthetic Biology (2012)",
          "Synthetic Biology (2012)",
          "Synthetic Biology (2012)",
          "Synthetic Biology (2012)",
          "Synthetic Biology (2012)",
          "Synthetic Biology (2012)",
          "Resilience in Business and management (2015)",
          "Resilience in Business and management (2015)",
          "Resilience in Business and management (2015)",
          "Resilience in Business and management (2015)",
          "Resilience in Business and management (2015)",
          "Resilience in Business and management (2015)",
          "Resilience in Business and management (2015)",
          "Resilience in Business and management (2015)",
          "Resilience in Business and management (2015)",
          "Resilience in Business and management (2015)",
          "Resilience in Business and management (2015)",
          "Resilience in Business and management (2015)",
          "Resilience in Business and management (2015)",
          "Resilience in Business and management (2015)",
          "Resilience in Business and management (2015)",
          "Resilience in Business and management (2015)",
          "Resilience in Business and management (2015)",
          "Resilience in Business and management (2015)",
          "Resilience in Business and management (2015)",
          "Resilience in Business and management (2015)",
          "Resilience in Business and management (2015)",
          "Cervical Myelopathy (2018)",
          "Cervical Myelopathy (2018)",
          "Cervical Myelopathy (2018)",
          "Cervical Myelopathy (2018)",
          "Cervical Myelopathy (2018)",
          "Cervical Myelopathy (2018)",
          "Cervical Myelopathy (2018)",
          "Cervical Myelopathy (2018)",
          "Cervical Myelopathy (2018)",
          "Cervical Myelopathy (2018)",
          "Cervical Myelopathy (2018)",
          "Cervical Myelopathy (2018)",
          "Cervical Myelopathy (2018)",
          "Cervical Myelopathy (2018)",
          "Cervical Myelopathy (2018)",
          "Cervical Myelopathy (2018)",
          "Cervical Myelopathy (2018)",
          "Cervical Myelopathy (2018)",
          "Cervical Myelopathy (2018)",
          "Cervical Myelopathy (2018)",
          "Cervical Myelopathy (2018)",
          "Cervical Myelopathy (2018)",
          "Cervical Myelopathy (2018)",
          "Cervical Myelopathy (2018)",
          "Cervical Myelopathy (2018)",
          "Cervical Myelopathy (2018)",
          "Cervical Myelopathy (2018)",
          "Cervical Myelopathy (2018)",
          "Cervical Myelopathy (2018)",
          "Cervical Myelopathy (2018)",
          "Cervical Myelopathy (2018)",
          "Cervical Myelopathy (2018)",
          "Cervical Myelopathy (2018)",
          "Cervical Myelopathy (2018)",
          "Cervical Myelopathy (2018)",
          "Cervical Myelopathy (2018)",
          "Cervical Myelopathy (2018)",
          "Cervical Myelopathy (2018)",
          "Cervical Myelopathy (2018)",
          "Cervical Myelopathy (2018)",
          "Cervical Myelopathy (2018)",
          "Cervical Myelopathy (2018)",
          "Cervical Myelopathy (2018)",
          "Cervical Myelopathy (2018)",
          "Drones in Agriculture (2022)",
          "Drones in Agriculture (2022)",
          "Drones in Agriculture (2022)",
          "Drones in Agriculture (2022)",
          "Drones in Agriculture (2022)",
          "Drones in Agriculture (2022)",
          "Drones in Agriculture (2022)",
          "Drones in Agriculture (2022)",
          "Drones in Agriculture (2022)",
          "Drones in Agriculture (2022)",
          "Drones in Agriculture (2022)",
          "Drones in Agriculture (2022)",
          "Drones in Agriculture (2022)",
          "Drones in Agriculture (2022)",
          "Drones in Agriculture (2022)",
          "Drones in Agriculture (2022)",
          "Drones in Agriculture (2022)",
          "Drones in Agriculture (2022)",
          "Drones in Agriculture (2022)",
          "Drones in Agriculture (2022)",
          "Drones in Agriculture (2022)",
          "Drones in Agriculture (2022)",
          "Drones in Agriculture (2022)",
          "Robotic Arthroplasty (2023)",
          "Robotic Arthroplasty (2023)",
          "Robotic Arthroplasty (2023)",
          "Robotic Arthroplasty (2023)",
          "Robotic Arthroplasty (2023)",
          "Robotic Arthroplasty (2023)",
          "Robotic Arthroplasty (2023)",
          "Robotic Arthroplasty (2023)",
          "Robotic Arthroplasty (2023)",
          "Robotic Arthroplasty (2023)",
          "Robotic Arthroplasty (2023)",
          "Robotic Arthroplasty (2023)",
          "Robotic Arthroplasty (2023)",
          "Robotic Arthroplasty (2023)",
          "Robotic Arthroplasty (2023)",
          "Robotic Arthroplasty (2023)",
          "Robotic Arthroplasty (2023)",
          "Robotic Arthroplasty (2023)",
          "Robotic Arthroplasty (2023)",
          "Robotic Arthroplasty (2023)",
          "Robotic Arthroplasty (2023)",
          "Robotic Arthroplasty (2023)",
          "Robotic Arthroplasty (2023)",
          "Robotic Arthroplasty (2023)",
          "Robotic Arthroplasty (2023)",
          "Robotic Arthroplasty (2023)",
          "Robotic Arthroplasty (2023)",
          "Robotic Arthroplasty (2023)",
          "Robotic Arthroplasty (2023)",
          "Robotic Arthroplasty (2023)",
          "Robotic Arthroplasty (2023)",
          "Robotic Arthroplasty (2023)",
          "Robotic Arthroplasty (2023)",
          "Robotic Arthroplasty (2023)",
          "Robotic Arthroplasty (2023)",
          "Robotic Arthroplasty (2023)",
          "Robotic Arthroplasty (2023)",
          "Robotic Arthroplasty (2023)",
          "Robotic Arthroplasty (2023)",
          "Robotic Arthroplasty (2023)",
          "Robotic Arthroplasty (2023)",
          "Robotic Arthroplasty (2023)",
          "Robotic Arthroplasty (2023)",
          "Robotic Arthroplasty (2023)",
          "Robotic Arthroplasty (2023)",
          "Robotic Arthroplasty (2023)",
          "Robotic Arthroplasty (2023)",
          "Soft Robotics (2018)",
          "Soft Robotics (2018)",
          "Soft Robotics (2018)",
          "Soft Robotics (2018)",
          "Soft Robotics (2018)",
          "Soft Robotics (2018)",
          "Soft Robotics (2018)",
          "Soft Robotics (2018)",
          "Soft Robotics (2018)",
          "Soft Robotics (2018)",
          "Soft Robotics (2018)",
          "Soft Robotics (2018)",
          "Soft Robotics (2018)",
          "Soft Robotics (2018)",
          "Soft Robotics (2018)",
          "Soft Robotics (2018)",
          "Soft Robotics (2018)",
          "Soft Robotics (2018)",
          "Soft Robotics (2018)",
          "Soft Robotics (2018)",
          "Soft Robotics (2018)",
          "Soft Robotics (2018)",
          "Soft Robotics (2018)",
          "Soft Robotics (2018)",
          "Soft Robotics (2018)",
          "Soft Robotics (2018)",
          "Soft Robotics (2018)",
          "Soft Robotics (2018)",
          "Soft Robotics (2018)",
          "Soft Robotics (2018)",
          "Soft Robotics (2018)",
          "Soft Robotics (2018)",
          "Soft Robotics (2018)",
          "Tourism Growth Nexus (2020)",
          "Tourism Growth Nexus (2020)",
          "Tourism Growth Nexus (2020)",
          "Tourism Growth Nexus (2020)",
          "Tourism Growth Nexus (2020)",
          "Tourism Growth Nexus (2020)",
          "Tourism Growth Nexus (2020)",
          "Tourism Growth Nexus (2020)",
          "Tourism Growth Nexus (2020)",
          "Tourism Growth Nexus (2020)",
          "Tourism Growth Nexus (2020)",
          "Tourism Growth Nexus (2020)",
          "Tourism Growth Nexus (2020)",
          "Tourism Growth Nexus (2020)",
          "Tourism Growth Nexus (2020)",
          "Tourism Growth Nexus (2020)",
          "Tourism Growth Nexus (2020)",
          "Tourism Growth Nexus (2020)",
          "Tourism Growth Nexus (2020)",
          "Tourism Growth Nexus (2020)",
          "Tourism Growth Nexus (2020)",
          "Tourism Growth Nexus (2020)",
          "Tourism Growth Nexus (2020)",
          "Tourism Growth Nexus (2020)",
          "Tourism Growth Nexus (2020)",
          "Sustainable Biofuel Economy (2023)",
          "Sustainable Biofuel Economy (2023)",
          "Sustainable Biofuel Economy (2023)",
          "Sustainable Biofuel Economy (2023)",
          "Sustainable Biofuel Economy (2023)",
          "Sustainable Biofuel Economy (2023)",
          "Sustainable Biofuel Economy (2023)",
          "Sustainable Biofuel Economy (2023)",
          "Sustainable Biofuel Economy (2023)",
          "Sustainable Biofuel Economy (2023)",
          "Sustainable Biofuel Economy (2023)",
          "Sustainable Biofuel Economy (2023)",
          "Sustainable Biofuel Economy (2023)",
          "Sustainable Biofuel Economy (2023)",
          "Sustainable Biofuel Economy (2023)",
          "Sustainable Biofuel Economy (2023)",
          "Sustainable Biofuel Economy (2023)",
          "Sustainable Biofuel Economy (2023)",
          "Sustainable Biofuel Economy (2023)",
          "Sustainable Biofuel Economy (2023)",
          "Sustainable Biofuel Economy (2023)",
          "Sustainable Biofuel Economy (2023)",
          "Sustainable Biofuel Economy (2023)",
          "Sustainable Biofuel Economy (2023)",
          "Sustainable Biofuel Economy (2023)",
          "Sustainable Biofuel Economy (2023)",
          "Sustainable Biofuel Economy (2023)",
          "Sustainable Biofuel Economy (2023)",
          "Sustainable Biofuel Economy (2023)",
          "Sustainable Biofuel Economy (2023)",
          "Sustainable Biofuel Economy (2023)",
          "Sustainable Biofuel Economy (2023)",
          "Sustainable Biofuel Economy (2023)",
          "Sustainable Biofuel Economy (2023)",
          "Sustainable Biofuel Economy (2023)",
          "Sustainable Biofuel Economy (2023)",
          "Sustainable Biofuel Economy (2023)",
          "Sustainable Biofuel Economy (2023)",
          "Sustainable Biofuel Economy (2023)",
          "Sustainable Biofuel Economy (2023)",
          "Sustainable Biofuel Economy (2023)",
          "Sustainable Biofuel Economy (2023)",
          "Sustainable Biofuel Economy (2023)",
          "Sustainable Biofuel Economy (2023)",
          "Sustainable Biofuel Economy (2023)",
          "Sustainable Biofuel Economy (2023)",
          "Sustainable Biofuel Economy (2023)",
          "Sustainable Biofuel Economy (2023)",
          "Nanopharmaceuticals OR Nanonutraceuticals (2020)",
          "Nanopharmaceuticals OR Nanonutraceuticals (2020)",
          "Nanopharmaceuticals OR Nanonutraceuticals (2020)",
          "Nanopharmaceuticals OR Nanonutraceuticals (2020)",
          "Nanopharmaceuticals OR Nanonutraceuticals (2020)",
          "Nanopharmaceuticals OR Nanonutraceuticals (2020)",
          "Nanopharmaceuticals OR Nanonutraceuticals (2020)",
          "Nanopharmaceuticals OR Nanonutraceuticals (2020)",
          "Nanopharmaceuticals OR Nanonutraceuticals (2020)",
          "Nanopharmaceuticals OR Nanonutraceuticals (2020)",
          "Nanopharmaceuticals OR Nanonutraceuticals (2020)",
          "Nanopharmaceuticals OR Nanonutraceuticals (2020)",
          "Nanopharmaceuticals OR Nanonutraceuticals (2020)",
          "Nanopharmaceuticals OR Nanonutraceuticals (2020)",
          "Nanopharmaceuticals OR Nanonutraceuticals (2020)",
          "Nanopharmaceuticals OR Nanonutraceuticals (2020)",
          "Nanopharmaceuticals OR Nanonutraceuticals (2020)",
          "Nanopharmaceuticals OR Nanonutraceuticals (2020)",
          "Nanopharmaceuticals OR Nanonutraceuticals (2020)",
          "Nanopharmaceuticals OR Nanonutraceuticals (2020)",
          "Nanopharmaceuticals OR Nanonutraceuticals (2020)",
          "Nanopharmaceuticals OR Nanonutraceuticals (2020)",
          "Nanopharmaceuticals OR Nanonutraceuticals (2020)",
          "Nanopharmaceuticals OR Nanonutraceuticals (2020)",
          "Nanopharmaceuticals OR Nanonutraceuticals (2020)",
          "Nanopharmaceuticals OR Nanonutraceuticals (2020)",
          "Nanopharmaceuticals OR Nanonutraceuticals (2020)",
          "Nanopharmaceuticals OR Nanonutraceuticals (2020)",
          "Nanopharmaceuticals OR Nanonutraceuticals (2020)",
          "Nanopharmaceuticals OR Nanonutraceuticals (2020)",
          "Nanopharmaceuticals OR Nanonutraceuticals (2020)",
          "Nanopharmaceuticals OR Nanonutraceuticals (2020)",
          "Nanopharmaceuticals OR Nanonutraceuticals (2020)",
          "Nanopharmaceuticals OR Nanonutraceuticals (2020)",
          "Nanopharmaceuticals OR Nanonutraceuticals (2020)",
          "Nanopharmaceuticals OR Nanonutraceuticals (2020)",
          "Nanopharmaceuticals OR Nanonutraceuticals (2020)",
          "Nanopharmaceuticals OR Nanonutraceuticals (2020)",
          "Nanopharmaceuticals OR Nanonutraceuticals (2020)",
          "Nanopharmaceuticals OR Nanonutraceuticals (2020)",
          "Nanopharmaceuticals OR Nanonutraceuticals (2020)",
          "Nanopharmaceuticals OR Nanonutraceuticals (2020)",
          "Nanopharmaceuticals OR Nanonutraceuticals (2020)",
          "Nanopharmaceuticals OR Nanonutraceuticals (2020)",
          "Nanopharmaceuticals OR Nanonutraceuticals (2020)",
          "Nanopharmaceuticals OR Nanonutraceuticals (2020)",
          "Nanopharmaceuticals OR Nanonutraceuticals (2020)",
          "Nanopharmaceuticals OR Nanonutraceuticals (2020)",
          "Nanopharmaceuticals OR Nanonutraceuticals (2020)",
          "Nanopharmaceuticals OR Nanonutraceuticals (2020)",
          "Perovskite Solar Cells Stability (2024)",
          "Perovskite Solar Cells Stability (2024)",
          "Perovskite Solar Cells Stability (2024)",
          "Perovskite Solar Cells Stability (2024)",
          "Perovskite Solar Cells Stability (2024)",
          "Perovskite Solar Cells Stability (2024)",
          "Perovskite Solar Cells Stability (2024)",
          "Perovskite Solar Cells Stability (2024)",
          "Perovskite Solar Cells Stability (2024)",
          "Perovskite Solar Cells Stability (2024)",
          "Perovskite Solar Cells Stability (2024)",
          "Perovskite Solar Cells Stability (2024)",
          "Perovskite Solar Cells Stability (2024)",
          "Perovskite Solar Cells Stability (2024)",
          "Perovskite Solar Cells Stability (2024)",
          "Perovskite Solar Cells Stability (2024)",
          "Perovskite Solar Cells Stability (2024)",
          "Perovskite Solar Cells Stability (2024)",
          "Perovskite Solar Cells Stability (2024)",
          "Perovskite Solar Cells Stability (2024)",
          "Perovskite Solar Cells Stability (2024)",
          "Perovskite Solar Cells Stability (2024)",
          "Perovskite Solar Cells Stability (2024)",
          "Perovskite Solar Cells Stability (2024)",
          "Perovskite Solar Cells Stability (2024)",
          "Perovskite Solar Cells Stability (2024)",
          "Perovskite Solar Cells Stability (2024)",
          "Perovskite Solar Cells Stability (2024)",
          "Perovskite Solar Cells Stability (2024)",
          "Green Warehousing (2023)",
          "Green Warehousing (2023)",
          "Green Warehousing (2023)",
          "Green Warehousing (2023)",
          "Green Warehousing (2023)",
          "Green Warehousing (2023)",
          "Green Warehousing (2023)",
          "Green Warehousing (2023)",
          "Green Warehousing (2023)",
          "Green Warehousing (2023)",
          "Green Warehousing (2023)",
          "Green Warehousing (2023)",
          "Green Warehousing (2023)",
          "Green Warehousing (2023)",
          "Green Warehousing (2023)",
          "Green Warehousing (2023)",
          "Green Warehousing (2023)",
          "Green Warehousing (2023)",
          "Green Warehousing (2023)",
          "Green Warehousing (2023)",
          "Green Warehousing (2023)",
          "Green Warehousing (2023)",
          "Green Warehousing (2023)",
          "Green Warehousing (2023)",
          "Green Warehousing (2023)",
          "Green Warehousing (2023)",
          "Green Warehousing (2023)",
          "Green Warehousing (2023)",
          "Green Warehousing (2023)",
          "Green Warehousing (2023)",
          "Green Warehousing (2023)",
          "Green Warehousing (2023)",
          "Green Warehousing (2023)",
          "Green Warehousing (2023)",
          "Internet of Things in Healthcare (2018)",
          "Internet of Things in Healthcare (2018)",
          "Internet of Things in Healthcare (2018)",
          "Internet of Things in Healthcare (2018)",
          "Internet of Things in Healthcare (2018)",
          "Internet of Things in Healthcare (2018)",
          "Internet of Things in Healthcare (2018)",
          "Internet of Things in Healthcare (2018)",
          "Internet of Things in Healthcare (2018)",
          "Internet of Things in Healthcare (2018)",
          "Internet of Things in Healthcare (2018)",
          "Internet of Things in Healthcare (2018)",
          "Internet of Things in Healthcare (2018)",
          "Internet of Things in Healthcare (2018)",
          "Internet of Things in Healthcare (2018)",
          "Internet of Things in Healthcare (2018)",
          "Internet of Things in Healthcare (2018)",
          "Internet of Things in Healthcare (2018)",
          "Internet of Things in Healthcare (2018)",
          "Internet of Things in Healthcare (2018)",
          "Internet of Things in Healthcare (2018)",
          "Internet of Things in Healthcare (2018)",
          "Internet of Things in Healthcare (2018)",
          "Internet of Things in Healthcare (2018)",
          "Internet of Things in Healthcare (2018)",
          "Internet of Things in Healthcare (2018)",
          "Internet of Things in Healthcare (2018)",
          "AI on Edge Devices (2022)",
          "AI on Edge Devices (2022)",
          "AI on Edge Devices (2022)",
          "AI on Edge Devices (2022)",
          "AI on Edge Devices (2022)",
          "AI on Edge Devices (2022)",
          "AI on Edge Devices (2022)",
          "AI on Edge Devices (2022)",
          "AI on Edge Devices (2022)",
          "AI on Edge Devices (2022)",
          "AI on Edge Devices (2022)",
          "AI on Edge Devices (2022)",
          "AI on Edge Devices (2022)",
          "AI on Edge Devices (2022)",
          "AI on Edge Devices (2022)",
          "AI on Edge Devices (2022)",
          "AI on Edge Devices (2022)",
          "AI on Edge Devices (2022)",
          "AI on Edge Devices (2022)",
          "AI on Edge Devices (2022)",
          "AI on Edge Devices (2022)",
          "AI on Edge Devices (2022)",
          "AI on Edge Devices (2022)",
          "AI on Edge Devices (2022)",
          "AI on Edge Devices (2022)",
          "AI on Edge Devices (2022)",
          "AI on Edge Devices (2022)",
          "AI on Edge Devices (2022)",
          "AI on Edge Devices (2022)",
          "AI on Edge Devices (2022)",
          "AI on Edge Devices (2022)",
          "AI on Edge Devices (2022)",
          "AI on Edge Devices (2022)",
          "AI on Edge Devices (2022)",
          "AI on Edge Devices (2022)",
          "AI on Edge Devices (2022)",
          "Crop Yield Prediction (2020)",
          "Crop Yield Prediction (2020)",
          "Crop Yield Prediction (2020)",
          "Crop Yield Prediction (2020)",
          "Crop Yield Prediction (2020)",
          "Crop Yield Prediction (2020)",
          "Crop Yield Prediction (2020)",
          "Crop Yield Prediction (2020)",
          "Crop Yield Prediction (2020)",
          "Crop Yield Prediction (2020)",
          "Crop Yield Prediction (2020)",
          "Crop Yield Prediction (2020)",
          "Crop Yield Prediction (2020)",
          "Crop Yield Prediction (2020)",
          "Crop Yield Prediction (2020)",
          "Crop Yield Prediction (2020)",
          "Crop Yield Prediction (2020)",
          "Crop Yield Prediction (2020)",
          "Crop Yield Prediction (2020)",
          "Crop Yield Prediction (2020)",
          "Crop Yield Prediction (2020)",
          "Crop Yield Prediction (2020)",
          "Crop Yield Prediction (2020)",
          "Crop Yield Prediction (2020)",
          "Crop Yield Prediction (2020)",
          "Crop Yield Prediction (2020)",
          "Crop Yield Prediction (2020)",
          "Crop Yield Prediction (2020)",
          "Crop Yield Prediction (2020)",
          "Crop Yield Prediction (2020)",
          "Crop Yield Prediction (2020)",
          "Crop Yield Prediction (2020)",
          "Crop Yield Prediction (2020)",
          "Crop Yield Prediction (2020)",
          "Crop Yield Prediction (2020)",
          "Crop Yield Prediction (2020)",
          "Crop Yield Prediction (2020)",
          "Crop Yield Prediction (2020)",
          "Crop Yield Prediction (2020)",
          "Crop Yield Prediction (2020)",
          "Crop Yield Prediction (2020)",
          "Crop Yield Prediction (2020)",
          "Crop Yield Prediction (2020)",
          "Crop Yield Prediction (2020)"
         ],
         "xaxis": "x",
         "yaxis": "y"
        },
        {
         "alignmentgroup": "True",
         "bingroup": "x",
         "hovertemplate": "Type=Systematic Literature Review<br>Topic=%{x}<br>count=%{y}<extra></extra>",
         "legendgroup": "Systematic Literature Review",
         "marker": {
          "color": "rgb(221,132,82)",
          "pattern": {
           "shape": ""
          }
         },
         "name": "Systematic Literature Review",
         "offsetgroup": "Systematic Literature Review",
         "orientation": "v",
         "showlegend": true,
         "type": "histogram",
         "x": [
          "Software Process Line (2019)",
          "Software Process Line (2019)",
          "Software Process Line (2019)",
          "Software Process Line (2019)",
          "Software Process Line (2019)",
          "Software Process Line (2019)",
          "Software Process Line (2019)",
          "Software Process Line (2019)",
          "Software Process Line (2019)",
          "Software Process Line (2019)",
          "Software Process Line (2019)",
          "Software Process Line (2019)",
          "Software Process Line (2019)",
          "Software Process Line (2019)",
          "Software Process Line (2019)",
          "Software Process Line (2019)",
          "Software Process Line (2019)",
          "Software Process Line (2019)",
          "Software Process Line (2019)",
          "Software Process Line (2019)",
          "Software Process Line (2019)",
          "Software Process Line (2019)",
          "Software Process Line (2019)",
          "Software Process Line (2019)",
          "Software Process Line (2019)",
          "Software Process Line (2019)",
          "Software Process Line (2019)",
          "Software Process Line (2019)",
          "Software Process Line (2019)",
          "Software Process Line (2019)",
          "Software Process Line (2019)",
          "Software Process Line (2019)",
          "Software Process Line (2019)",
          "Software Process Line (2019)",
          "Software Process Line (2019)",
          "Data Stream Processing Latency (2019)",
          "Data Stream Processing Latency (2019)",
          "Data Stream Processing Latency (2019)",
          "Data Stream Processing Latency (2019)",
          "Data Stream Processing Latency (2019)",
          "Data Stream Processing Latency (2019)",
          "Data Stream Processing Latency (2019)",
          "Data Stream Processing Latency (2019)",
          "Data Stream Processing Latency (2019)",
          "Data Stream Processing Latency (2019)",
          "Data Stream Processing Latency (2019)",
          "Data Stream Processing Latency (2019)",
          "Data Stream Processing Latency (2019)",
          "Data Stream Processing Latency (2019)",
          "Data Stream Processing Latency (2019)",
          "Data Stream Processing Latency (2019)",
          "Data Stream Processing Latency (2019)",
          "Data Stream Processing Latency (2019)",
          "Data Stream Processing Latency (2019)",
          "Data Stream Processing Latency (2019)",
          "Data Stream Processing Latency (2019)",
          "Data Stream Processing Latency (2019)",
          "Data Stream Processing Latency (2019)",
          "Data Stream Processing Latency (2019)",
          "Data Stream Processing Latency (2019)",
          "Data Stream Processing Latency (2019)",
          "Data Stream Processing Latency (2019)",
          "Data Stream Processing Latency (2019)",
          "Data Stream Processing Latency (2019)",
          "Data Stream Processing Latency (2019)",
          "Data Stream Processing Latency (2019)",
          "Data Stream Processing Latency (2019)",
          "Data Stream Processing Latency (2019)",
          "Data Stream Processing Latency (2019)",
          "Data Stream Processing Latency (2019)",
          "Data Stream Processing Latency (2019)",
          "Data Stream Processing Latency (2019)",
          "Data Stream Processing Latency (2019)",
          "Data Stream Processing Latency (2019)",
          "Data Stream Processing Latency (2019)",
          "Data Stream Processing Latency (2019)",
          "Data Stream Processing Latency (2019)",
          "Data Stream Processing Latency (2019)",
          "Data Stream Processing Latency (2019)",
          "Data Stream Processing Latency (2019)",
          "Data Stream Processing Latency (2019)",
          "Data Stream Processing Latency (2019)",
          "Data Stream Processing Latency (2019)",
          "Data Stream Processing Latency (2019)",
          "Data Stream Processing Latency (2019)",
          "Data Stream Processing Latency (2019)",
          "Data Stream Processing Latency (2019)",
          "Data Stream Processing Latency (2019)",
          "Data Stream Processing Latency (2019)",
          "Data Stream Processing Latency (2019)",
          "Data Stream Processing Latency (2019)",
          "Data Stream Processing Latency (2019)",
          "Data Stream Processing Latency (2019)",
          "Data Stream Processing Latency (2019)",
          "Data Stream Processing Latency (2019)",
          "Data Stream Processing Latency (2019)",
          "Data Stream Processing Latency (2019)",
          "Data Stream Processing Latency (2019)",
          "Data Stream Processing Latency (2019)",
          "Data Stream Processing Latency (2019)",
          "Data Stream Processing Latency (2019)",
          "Data Stream Processing Latency (2019)",
          "Data Stream Processing Latency (2019)",
          "Business Process Meta Models (2021)",
          "Business Process Meta Models (2021)",
          "Business Process Meta Models (2021)",
          "Business Process Meta Models (2021)",
          "Business Process Meta Models (2021)",
          "Business Process Meta Models (2021)",
          "Business Process Meta Models (2021)",
          "Business Process Meta Models (2021)",
          "Business Process Meta Models (2021)",
          "Business Process Meta Models (2021)",
          "Business Process Meta Models (2021)",
          "Business Process Meta Models (2021)",
          "Business Process Meta Models (2021)",
          "Business Process Meta Models (2021)",
          "Business Process Meta Models (2021)",
          "Business Process Meta Models (2021)",
          "Business Process Meta Models (2021)",
          "Business Process Meta Models (2021)",
          "Business Process Meta Models (2021)",
          "Business Process Meta Models (2021)",
          "Business Process Meta Models (2021)",
          "Business Process Meta Models (2021)",
          "Multicore Performance Prediction (2017)",
          "Multicore Performance Prediction (2017)",
          "Multicore Performance Prediction (2017)",
          "Multicore Performance Prediction (2017)",
          "Multicore Performance Prediction (2017)",
          "Multicore Performance Prediction (2017)",
          "Multicore Performance Prediction (2017)",
          "Multicore Performance Prediction (2017)",
          "Multicore Performance Prediction (2017)",
          "Multicore Performance Prediction (2017)",
          "Multicore Performance Prediction (2017)",
          "Multicore Performance Prediction (2017)",
          "Multicore Performance Prediction (2017)",
          "Multicore Performance Prediction (2017)",
          "Multicore Performance Prediction (2017)",
          "Multicore Performance Prediction (2017)",
          "Multicore Performance Prediction (2017)",
          "Multicore Performance Prediction (2017)",
          "Multicore Performance Prediction (2017)",
          "Multicore Performance Prediction (2017)",
          "Multicore Performance Prediction (2017)",
          "Multicore Performance Prediction (2017)",
          "Multicore Performance Prediction (2017)",
          "Multicore Performance Prediction (2017)",
          "Multicore Performance Prediction (2017)",
          "Multicore Performance Prediction (2017)",
          "Multicore Performance Prediction (2017)",
          "Multicore Performance Prediction (2017)",
          "Multicore Performance Prediction (2017)",
          "Multicore Performance Prediction (2017)",
          "Multicore Performance Prediction (2017)",
          "Multicore Performance Prediction (2017)",
          "Multicore Performance Prediction (2017)",
          "Cloud Migration (2014)",
          "Cloud Migration (2014)",
          "Cloud Migration (2014)",
          "Cloud Migration (2014)",
          "Cloud Migration (2014)",
          "Cloud Migration (2014)",
          "Cloud Migration (2014)",
          "Cloud Migration (2014)",
          "Cloud Migration (2014)",
          "Cloud Migration (2014)",
          "Cloud Migration (2014)",
          "Cloud Migration (2014)",
          "Cloud Migration (2014)",
          "Cloud Migration (2014)",
          "Cloud Migration (2014)",
          "Cloud Migration (2014)",
          "Cloud Migration (2014)",
          "Cloud Migration (2014)",
          "Cloud Migration (2014)",
          "Cloud Migration (2014)",
          "Cloud Migration (2014)",
          "Software Fault Prediction Metrics (2013)",
          "Software Fault Prediction Metrics (2013)",
          "Software Fault Prediction Metrics (2013)",
          "Software Fault Prediction Metrics (2013)",
          "Software Fault Prediction Metrics (2013)",
          "Software Fault Prediction Metrics (2013)",
          "Software Fault Prediction Metrics (2013)",
          "Software Fault Prediction Metrics (2013)",
          "Software Fault Prediction Metrics (2013)",
          "Software Fault Prediction Metrics (2013)",
          "Software Fault Prediction Metrics (2013)",
          "Software Fault Prediction Metrics (2013)",
          "Software Fault Prediction Metrics (2013)",
          "Software Fault Prediction Metrics (2013)",
          "Software Fault Prediction Metrics (2013)",
          "Software Fault Prediction Metrics (2013)",
          "Software Fault Prediction Metrics (2013)",
          "Software Fault Prediction Metrics (2013)",
          "Software Fault Prediction Metrics (2013)",
          "Software Fault Prediction Metrics (2013)",
          "Software Fault Prediction Metrics (2013)",
          "Software Fault Prediction Metrics (2013)",
          "Software Fault Prediction Metrics (2013)",
          "Software Fault Prediction Metrics (2013)",
          "Software Fault Prediction Metrics (2013)",
          "Software Fault Prediction Metrics (2013)",
          "Software Fault Prediction Metrics (2013)",
          "Software Fault Prediction Metrics (2013)",
          "Software Fault Prediction Metrics (2013)",
          "Software Fault Prediction Metrics (2013)",
          "Software Fault Prediction Metrics (2013)",
          "Software Fault Prediction Metrics (2013)",
          "Software Fault Prediction Metrics (2013)",
          "Software Fault Prediction Metrics (2013)",
          "Software Fault Prediction Metrics (2013)",
          "Software Fault Prediction Metrics (2013)",
          "Software Fault Prediction Metrics (2013)",
          "Software Fault Prediction Metrics (2013)",
          "Software Fault Prediction Metrics (2013)",
          "Software Fault Prediction Metrics (2013)",
          "Software Fault Prediction Metrics (2013)",
          "Software Fault Prediction Metrics (2013)",
          "Software Fault Prediction Metrics (2013)",
          "Software Fault Prediction Metrics (2013)",
          "Software Fault Prediction Metrics (2013)",
          "Software Fault Prediction Metrics (2013)",
          "Software Fault Prediction Metrics (2013)",
          "Software Fault Prediction Metrics (2013)",
          "Software Defect Prediction (2015)",
          "Software Defect Prediction (2015)",
          "Software Defect Prediction (2015)",
          "Software Defect Prediction (2015)",
          "Software Defect Prediction (2015)",
          "Software Defect Prediction (2015)",
          "Software Defect Prediction (2015)",
          "Software Defect Prediction (2015)",
          "Software Defect Prediction (2015)",
          "Software Defect Prediction (2015)",
          "Software Defect Prediction (2015)",
          "Software Defect Prediction (2015)",
          "Software Defect Prediction (2015)",
          "Software Defect Prediction (2015)",
          "Software Defect Prediction (2015)",
          "Software Defect Prediction (2015)",
          "Software Defect Prediction (2015)",
          "Software Defect Prediction (2015)",
          "Software Defect Prediction (2015)",
          "Software Defect Prediction (2015)",
          "Software Defect Prediction (2015)",
          "Software Defect Prediction (2015)",
          "Software Defect Prediction (2015)",
          "Software Defect Prediction (2015)",
          "Software Defect Prediction (2015)",
          "Software Defect Prediction (2015)",
          "Software Defect Prediction (2015)",
          "Software Defect Prediction (2015)",
          "Software Defect Prediction (2015)",
          "Software Defect Prediction (2015)",
          "Software Defect Prediction (2015)",
          "Software Defect Prediction (2015)",
          "Software Defect Prediction (2015)",
          "Software Defect Prediction (2015)",
          "Software Defect Prediction (2015)",
          "Software Defect Prediction (2015)",
          "Software Defect Prediction (2015)",
          "Software Defect Prediction (2015)",
          "Software Defect Prediction (2015)",
          "Software Defect Prediction (2015)",
          "Software Defect Prediction (2015)",
          "Software Defect Prediction (2015)",
          "Software Defect Prediction (2015)",
          "Software Defect Prediction (2015)",
          "Software Defect Prediction (2015)",
          "Software Defect Prediction (2015)",
          "Software Defect Prediction (2015)",
          "Software Defect Prediction (2015)",
          "Software Defect Prediction (2015)",
          "Software Defect Prediction (2015)",
          "Software Defect Prediction (2015)",
          "Software Defect Prediction (2015)"
         ],
         "xaxis": "x",
         "yaxis": "y"
        }
       ],
       "layout": {
        "barmode": "relative",
        "font": {
         "family": "Modern Computer"
        },
        "height": 500,
        "legend": {
         "font": {
          "size": 15
         },
         "title": {
          "text": ""
         },
         "tracegroupgap": 0
        },
        "showlegend": true,
        "template": {
         "data": {
          "bar": [
           {
            "error_x": {
             "color": "rgb(36,36,36)"
            },
            "error_y": {
             "color": "rgb(36,36,36)"
            },
            "marker": {
             "line": {
              "color": "rgb(234,234,242)",
              "width": 0.5
             },
             "pattern": {
              "fillmode": "overlay",
              "size": 10,
              "solidity": 0.2
             }
            },
            "type": "bar"
           }
          ],
          "barpolar": [
           {
            "marker": {
             "line": {
              "color": "rgb(234,234,242)",
              "width": 0.5
             },
             "pattern": {
              "fillmode": "overlay",
              "size": 10,
              "solidity": 0.2
             }
            },
            "type": "barpolar"
           }
          ],
          "carpet": [
           {
            "aaxis": {
             "endlinecolor": "rgb(36,36,36)",
             "gridcolor": "white",
             "linecolor": "white",
             "minorgridcolor": "white",
             "startlinecolor": "rgb(36,36,36)"
            },
            "baxis": {
             "endlinecolor": "rgb(36,36,36)",
             "gridcolor": "white",
             "linecolor": "white",
             "minorgridcolor": "white",
             "startlinecolor": "rgb(36,36,36)"
            },
            "type": "carpet"
           }
          ],
          "choropleth": [
           {
            "colorbar": {
             "outlinewidth": 0,
             "tickcolor": "rgb(36,36,36)",
             "ticklen": 8,
             "ticks": "outside",
             "tickwidth": 2
            },
            "type": "choropleth"
           }
          ],
          "contour": [
           {
            "colorbar": {
             "outlinewidth": 0,
             "tickcolor": "rgb(36,36,36)",
             "ticklen": 8,
             "ticks": "outside",
             "tickwidth": 2
            },
            "colorscale": [
             [
              0,
              "rgb(2,4,25)"
             ],
             [
              0.06274509803921569,
              "rgb(24,15,41)"
             ],
             [
              0.12549019607843137,
              "rgb(47,23,57)"
             ],
             [
              0.18823529411764706,
              "rgb(71,28,72)"
             ],
             [
              0.25098039215686274,
              "rgb(97,30,82)"
             ],
             [
              0.3137254901960784,
              "rgb(123,30,89)"
             ],
             [
              0.3764705882352941,
              "rgb(150,27,91)"
             ],
             [
              0.4392156862745098,
              "rgb(177,22,88)"
             ],
             [
              0.5019607843137255,
              "rgb(203,26,79)"
             ],
             [
              0.5647058823529412,
              "rgb(223,47,67)"
             ],
             [
              0.6274509803921569,
              "rgb(236,76,61)"
             ],
             [
              0.6901960784313725,
              "rgb(242,107,73)"
             ],
             [
              0.7529411764705882,
              "rgb(244,135,95)"
             ],
             [
              0.8156862745098039,
              "rgb(245,162,122)"
             ],
             [
              0.8784313725490196,
              "rgb(246,188,153)"
             ],
             [
              0.9411764705882353,
              "rgb(247,212,187)"
             ],
             [
              1,
              "rgb(250,234,220)"
             ]
            ],
            "type": "contour"
           }
          ],
          "contourcarpet": [
           {
            "colorbar": {
             "outlinewidth": 0,
             "tickcolor": "rgb(36,36,36)",
             "ticklen": 8,
             "ticks": "outside",
             "tickwidth": 2
            },
            "type": "contourcarpet"
           }
          ],
          "heatmap": [
           {
            "colorbar": {
             "outlinewidth": 0,
             "tickcolor": "rgb(36,36,36)",
             "ticklen": 8,
             "ticks": "outside",
             "tickwidth": 2
            },
            "colorscale": [
             [
              0,
              "rgb(2,4,25)"
             ],
             [
              0.06274509803921569,
              "rgb(24,15,41)"
             ],
             [
              0.12549019607843137,
              "rgb(47,23,57)"
             ],
             [
              0.18823529411764706,
              "rgb(71,28,72)"
             ],
             [
              0.25098039215686274,
              "rgb(97,30,82)"
             ],
             [
              0.3137254901960784,
              "rgb(123,30,89)"
             ],
             [
              0.3764705882352941,
              "rgb(150,27,91)"
             ],
             [
              0.4392156862745098,
              "rgb(177,22,88)"
             ],
             [
              0.5019607843137255,
              "rgb(203,26,79)"
             ],
             [
              0.5647058823529412,
              "rgb(223,47,67)"
             ],
             [
              0.6274509803921569,
              "rgb(236,76,61)"
             ],
             [
              0.6901960784313725,
              "rgb(242,107,73)"
             ],
             [
              0.7529411764705882,
              "rgb(244,135,95)"
             ],
             [
              0.8156862745098039,
              "rgb(245,162,122)"
             ],
             [
              0.8784313725490196,
              "rgb(246,188,153)"
             ],
             [
              0.9411764705882353,
              "rgb(247,212,187)"
             ],
             [
              1,
              "rgb(250,234,220)"
             ]
            ],
            "type": "heatmap"
           }
          ],
          "heatmapgl": [
           {
            "colorbar": {
             "outlinewidth": 0,
             "tickcolor": "rgb(36,36,36)",
             "ticklen": 8,
             "ticks": "outside",
             "tickwidth": 2
            },
            "colorscale": [
             [
              0,
              "rgb(2,4,25)"
             ],
             [
              0.06274509803921569,
              "rgb(24,15,41)"
             ],
             [
              0.12549019607843137,
              "rgb(47,23,57)"
             ],
             [
              0.18823529411764706,
              "rgb(71,28,72)"
             ],
             [
              0.25098039215686274,
              "rgb(97,30,82)"
             ],
             [
              0.3137254901960784,
              "rgb(123,30,89)"
             ],
             [
              0.3764705882352941,
              "rgb(150,27,91)"
             ],
             [
              0.4392156862745098,
              "rgb(177,22,88)"
             ],
             [
              0.5019607843137255,
              "rgb(203,26,79)"
             ],
             [
              0.5647058823529412,
              "rgb(223,47,67)"
             ],
             [
              0.6274509803921569,
              "rgb(236,76,61)"
             ],
             [
              0.6901960784313725,
              "rgb(242,107,73)"
             ],
             [
              0.7529411764705882,
              "rgb(244,135,95)"
             ],
             [
              0.8156862745098039,
              "rgb(245,162,122)"
             ],
             [
              0.8784313725490196,
              "rgb(246,188,153)"
             ],
             [
              0.9411764705882353,
              "rgb(247,212,187)"
             ],
             [
              1,
              "rgb(250,234,220)"
             ]
            ],
            "type": "heatmapgl"
           }
          ],
          "histogram": [
           {
            "marker": {
             "pattern": {
              "fillmode": "overlay",
              "size": 10,
              "solidity": 0.2
             }
            },
            "type": "histogram"
           }
          ],
          "histogram2d": [
           {
            "colorbar": {
             "outlinewidth": 0,
             "tickcolor": "rgb(36,36,36)",
             "ticklen": 8,
             "ticks": "outside",
             "tickwidth": 2
            },
            "colorscale": [
             [
              0,
              "rgb(2,4,25)"
             ],
             [
              0.06274509803921569,
              "rgb(24,15,41)"
             ],
             [
              0.12549019607843137,
              "rgb(47,23,57)"
             ],
             [
              0.18823529411764706,
              "rgb(71,28,72)"
             ],
             [
              0.25098039215686274,
              "rgb(97,30,82)"
             ],
             [
              0.3137254901960784,
              "rgb(123,30,89)"
             ],
             [
              0.3764705882352941,
              "rgb(150,27,91)"
             ],
             [
              0.4392156862745098,
              "rgb(177,22,88)"
             ],
             [
              0.5019607843137255,
              "rgb(203,26,79)"
             ],
             [
              0.5647058823529412,
              "rgb(223,47,67)"
             ],
             [
              0.6274509803921569,
              "rgb(236,76,61)"
             ],
             [
              0.6901960784313725,
              "rgb(242,107,73)"
             ],
             [
              0.7529411764705882,
              "rgb(244,135,95)"
             ],
             [
              0.8156862745098039,
              "rgb(245,162,122)"
             ],
             [
              0.8784313725490196,
              "rgb(246,188,153)"
             ],
             [
              0.9411764705882353,
              "rgb(247,212,187)"
             ],
             [
              1,
              "rgb(250,234,220)"
             ]
            ],
            "type": "histogram2d"
           }
          ],
          "histogram2dcontour": [
           {
            "colorbar": {
             "outlinewidth": 0,
             "tickcolor": "rgb(36,36,36)",
             "ticklen": 8,
             "ticks": "outside",
             "tickwidth": 2
            },
            "colorscale": [
             [
              0,
              "rgb(2,4,25)"
             ],
             [
              0.06274509803921569,
              "rgb(24,15,41)"
             ],
             [
              0.12549019607843137,
              "rgb(47,23,57)"
             ],
             [
              0.18823529411764706,
              "rgb(71,28,72)"
             ],
             [
              0.25098039215686274,
              "rgb(97,30,82)"
             ],
             [
              0.3137254901960784,
              "rgb(123,30,89)"
             ],
             [
              0.3764705882352941,
              "rgb(150,27,91)"
             ],
             [
              0.4392156862745098,
              "rgb(177,22,88)"
             ],
             [
              0.5019607843137255,
              "rgb(203,26,79)"
             ],
             [
              0.5647058823529412,
              "rgb(223,47,67)"
             ],
             [
              0.6274509803921569,
              "rgb(236,76,61)"
             ],
             [
              0.6901960784313725,
              "rgb(242,107,73)"
             ],
             [
              0.7529411764705882,
              "rgb(244,135,95)"
             ],
             [
              0.8156862745098039,
              "rgb(245,162,122)"
             ],
             [
              0.8784313725490196,
              "rgb(246,188,153)"
             ],
             [
              0.9411764705882353,
              "rgb(247,212,187)"
             ],
             [
              1,
              "rgb(250,234,220)"
             ]
            ],
            "type": "histogram2dcontour"
           }
          ],
          "mesh3d": [
           {
            "colorbar": {
             "outlinewidth": 0,
             "tickcolor": "rgb(36,36,36)",
             "ticklen": 8,
             "ticks": "outside",
             "tickwidth": 2
            },
            "type": "mesh3d"
           }
          ],
          "parcoords": [
           {
            "line": {
             "colorbar": {
              "outlinewidth": 0,
              "tickcolor": "rgb(36,36,36)",
              "ticklen": 8,
              "ticks": "outside",
              "tickwidth": 2
             }
            },
            "type": "parcoords"
           }
          ],
          "pie": [
           {
            "automargin": true,
            "type": "pie"
           }
          ],
          "scatter": [
           {
            "fillpattern": {
             "fillmode": "overlay",
             "size": 10,
             "solidity": 0.2
            },
            "type": "scatter"
           }
          ],
          "scatter3d": [
           {
            "line": {
             "colorbar": {
              "outlinewidth": 0,
              "tickcolor": "rgb(36,36,36)",
              "ticklen": 8,
              "ticks": "outside",
              "tickwidth": 2
             }
            },
            "marker": {
             "colorbar": {
              "outlinewidth": 0,
              "tickcolor": "rgb(36,36,36)",
              "ticklen": 8,
              "ticks": "outside",
              "tickwidth": 2
             }
            },
            "type": "scatter3d"
           }
          ],
          "scattercarpet": [
           {
            "marker": {
             "colorbar": {
              "outlinewidth": 0,
              "tickcolor": "rgb(36,36,36)",
              "ticklen": 8,
              "ticks": "outside",
              "tickwidth": 2
             }
            },
            "type": "scattercarpet"
           }
          ],
          "scattergeo": [
           {
            "marker": {
             "colorbar": {
              "outlinewidth": 0,
              "tickcolor": "rgb(36,36,36)",
              "ticklen": 8,
              "ticks": "outside",
              "tickwidth": 2
             }
            },
            "type": "scattergeo"
           }
          ],
          "scattergl": [
           {
            "marker": {
             "colorbar": {
              "outlinewidth": 0,
              "tickcolor": "rgb(36,36,36)",
              "ticklen": 8,
              "ticks": "outside",
              "tickwidth": 2
             }
            },
            "type": "scattergl"
           }
          ],
          "scattermapbox": [
           {
            "marker": {
             "colorbar": {
              "outlinewidth": 0,
              "tickcolor": "rgb(36,36,36)",
              "ticklen": 8,
              "ticks": "outside",
              "tickwidth": 2
             }
            },
            "type": "scattermapbox"
           }
          ],
          "scatterpolar": [
           {
            "marker": {
             "colorbar": {
              "outlinewidth": 0,
              "tickcolor": "rgb(36,36,36)",
              "ticklen": 8,
              "ticks": "outside",
              "tickwidth": 2
             }
            },
            "type": "scatterpolar"
           }
          ],
          "scatterpolargl": [
           {
            "marker": {
             "colorbar": {
              "outlinewidth": 0,
              "tickcolor": "rgb(36,36,36)",
              "ticklen": 8,
              "ticks": "outside",
              "tickwidth": 2
             }
            },
            "type": "scatterpolargl"
           }
          ],
          "scatterternary": [
           {
            "marker": {
             "colorbar": {
              "outlinewidth": 0,
              "tickcolor": "rgb(36,36,36)",
              "ticklen": 8,
              "ticks": "outside",
              "tickwidth": 2
             }
            },
            "type": "scatterternary"
           }
          ],
          "surface": [
           {
            "colorbar": {
             "outlinewidth": 0,
             "tickcolor": "rgb(36,36,36)",
             "ticklen": 8,
             "ticks": "outside",
             "tickwidth": 2
            },
            "colorscale": [
             [
              0,
              "rgb(2,4,25)"
             ],
             [
              0.06274509803921569,
              "rgb(24,15,41)"
             ],
             [
              0.12549019607843137,
              "rgb(47,23,57)"
             ],
             [
              0.18823529411764706,
              "rgb(71,28,72)"
             ],
             [
              0.25098039215686274,
              "rgb(97,30,82)"
             ],
             [
              0.3137254901960784,
              "rgb(123,30,89)"
             ],
             [
              0.3764705882352941,
              "rgb(150,27,91)"
             ],
             [
              0.4392156862745098,
              "rgb(177,22,88)"
             ],
             [
              0.5019607843137255,
              "rgb(203,26,79)"
             ],
             [
              0.5647058823529412,
              "rgb(223,47,67)"
             ],
             [
              0.6274509803921569,
              "rgb(236,76,61)"
             ],
             [
              0.6901960784313725,
              "rgb(242,107,73)"
             ],
             [
              0.7529411764705882,
              "rgb(244,135,95)"
             ],
             [
              0.8156862745098039,
              "rgb(245,162,122)"
             ],
             [
              0.8784313725490196,
              "rgb(246,188,153)"
             ],
             [
              0.9411764705882353,
              "rgb(247,212,187)"
             ],
             [
              1,
              "rgb(250,234,220)"
             ]
            ],
            "type": "surface"
           }
          ],
          "table": [
           {
            "cells": {
             "fill": {
              "color": "rgb(231,231,240)"
             },
             "line": {
              "color": "white"
             }
            },
            "header": {
             "fill": {
              "color": "rgb(183,183,191)"
             },
             "line": {
              "color": "white"
             }
            },
            "type": "table"
           }
          ]
         },
         "layout": {
          "annotationdefaults": {
           "arrowcolor": "rgb(67,103,167)"
          },
          "autotypenumbers": "strict",
          "coloraxis": {
           "colorbar": {
            "outlinewidth": 0,
            "tickcolor": "rgb(36,36,36)",
            "ticklen": 8,
            "ticks": "outside",
            "tickwidth": 2
           }
          },
          "colorscale": {
           "sequential": [
            [
             0,
             "rgb(2,4,25)"
            ],
            [
             0.06274509803921569,
             "rgb(24,15,41)"
            ],
            [
             0.12549019607843137,
             "rgb(47,23,57)"
            ],
            [
             0.18823529411764706,
             "rgb(71,28,72)"
            ],
            [
             0.25098039215686274,
             "rgb(97,30,82)"
            ],
            [
             0.3137254901960784,
             "rgb(123,30,89)"
            ],
            [
             0.3764705882352941,
             "rgb(150,27,91)"
            ],
            [
             0.4392156862745098,
             "rgb(177,22,88)"
            ],
            [
             0.5019607843137255,
             "rgb(203,26,79)"
            ],
            [
             0.5647058823529412,
             "rgb(223,47,67)"
            ],
            [
             0.6274509803921569,
             "rgb(236,76,61)"
            ],
            [
             0.6901960784313725,
             "rgb(242,107,73)"
            ],
            [
             0.7529411764705882,
             "rgb(244,135,95)"
            ],
            [
             0.8156862745098039,
             "rgb(245,162,122)"
            ],
            [
             0.8784313725490196,
             "rgb(246,188,153)"
            ],
            [
             0.9411764705882353,
             "rgb(247,212,187)"
            ],
            [
             1,
             "rgb(250,234,220)"
            ]
           ],
           "sequentialminus": [
            [
             0,
             "rgb(2,4,25)"
            ],
            [
             0.06274509803921569,
             "rgb(24,15,41)"
            ],
            [
             0.12549019607843137,
             "rgb(47,23,57)"
            ],
            [
             0.18823529411764706,
             "rgb(71,28,72)"
            ],
            [
             0.25098039215686274,
             "rgb(97,30,82)"
            ],
            [
             0.3137254901960784,
             "rgb(123,30,89)"
            ],
            [
             0.3764705882352941,
             "rgb(150,27,91)"
            ],
            [
             0.4392156862745098,
             "rgb(177,22,88)"
            ],
            [
             0.5019607843137255,
             "rgb(203,26,79)"
            ],
            [
             0.5647058823529412,
             "rgb(223,47,67)"
            ],
            [
             0.6274509803921569,
             "rgb(236,76,61)"
            ],
            [
             0.6901960784313725,
             "rgb(242,107,73)"
            ],
            [
             0.7529411764705882,
             "rgb(244,135,95)"
            ],
            [
             0.8156862745098039,
             "rgb(245,162,122)"
            ],
            [
             0.8784313725490196,
             "rgb(246,188,153)"
            ],
            [
             0.9411764705882353,
             "rgb(247,212,187)"
            ],
            [
             1,
             "rgb(250,234,220)"
            ]
           ]
          },
          "colorway": [
           "rgb(76,114,176)",
           "rgb(221,132,82)",
           "rgb(85,168,104)",
           "rgb(196,78,82)",
           "rgb(129,114,179)",
           "rgb(147,120,96)",
           "rgb(218,139,195)",
           "rgb(140,140,140)",
           "rgb(204,185,116)",
           "rgb(100,181,205)"
          ],
          "font": {
           "color": "rgb(36,36,36)"
          },
          "geo": {
           "bgcolor": "white",
           "lakecolor": "white",
           "landcolor": "rgb(234,234,242)",
           "showlakes": true,
           "showland": true,
           "subunitcolor": "white"
          },
          "hoverlabel": {
           "align": "left"
          },
          "hovermode": "closest",
          "paper_bgcolor": "white",
          "plot_bgcolor": "rgb(234,234,242)",
          "polar": {
           "angularaxis": {
            "gridcolor": "white",
            "linecolor": "white",
            "showgrid": true,
            "ticks": ""
           },
           "bgcolor": "rgb(234,234,242)",
           "radialaxis": {
            "gridcolor": "white",
            "linecolor": "white",
            "showgrid": true,
            "ticks": ""
           }
          },
          "scene": {
           "xaxis": {
            "backgroundcolor": "rgb(234,234,242)",
            "gridcolor": "white",
            "gridwidth": 2,
            "linecolor": "white",
            "showbackground": true,
            "showgrid": true,
            "ticks": "",
            "zerolinecolor": "white"
           },
           "yaxis": {
            "backgroundcolor": "rgb(234,234,242)",
            "gridcolor": "white",
            "gridwidth": 2,
            "linecolor": "white",
            "showbackground": true,
            "showgrid": true,
            "ticks": "",
            "zerolinecolor": "white"
           },
           "zaxis": {
            "backgroundcolor": "rgb(234,234,242)",
            "gridcolor": "white",
            "gridwidth": 2,
            "linecolor": "white",
            "showbackground": true,
            "showgrid": true,
            "ticks": "",
            "zerolinecolor": "white"
           }
          },
          "shapedefaults": {
           "fillcolor": "rgb(67,103,167)",
           "line": {
            "width": 0
           },
           "opacity": 0.5
          },
          "ternary": {
           "aaxis": {
            "gridcolor": "white",
            "linecolor": "white",
            "showgrid": true,
            "ticks": ""
           },
           "baxis": {
            "gridcolor": "white",
            "linecolor": "white",
            "showgrid": true,
            "ticks": ""
           },
           "bgcolor": "rgb(234,234,242)",
           "caxis": {
            "gridcolor": "white",
            "linecolor": "white",
            "showgrid": true,
            "ticks": ""
           }
          },
          "xaxis": {
           "automargin": true,
           "gridcolor": "white",
           "linecolor": "white",
           "showgrid": true,
           "ticks": "",
           "title": {
            "standoff": 15
           },
           "zerolinecolor": "white"
          },
          "yaxis": {
           "automargin": true,
           "gridcolor": "white",
           "linecolor": "white",
           "showgrid": true,
           "ticks": "",
           "title": {
            "standoff": 15
           },
           "zerolinecolor": "white"
          }
         }
        },
        "title": {
         "font": {
          "family": "Modern Computer",
          "size": 20
         },
         "text": "Number of publications per topic",
         "x": 0.5
        },
        "width": 1000,
        "xaxis": {
         "anchor": "y",
         "categoryorder": "total descending",
         "domain": [
          0,
          1
         ],
         "tickangle": 45,
         "tickfont": {
          "size": 12
         },
         "title": {
          "font": {
           "size": 17
          },
          "text": "Topic (survey year)"
         }
        },
        "yaxis": {
         "anchor": "x",
         "domain": [
          0,
          1
         ],
         "tickfont": {
          "size": 12
         },
         "title": {
          "font": {
           "size": 17
          },
          "text": "Number of core publications"
         }
        }
       }
      }
     },
     "metadata": {},
     "output_type": "display_data"
    }
   ],
   "source": [
    "# histogram for number of publications per survey\n",
    "\n",
    "fig = px.histogram(core_pubs, x=\"Topic\", title=\"Number of publications per topic\", color=\"Type\")\n",
    "fig.update_layout(xaxis_categoryorder=\"total descending\", **PLOT_CONFIGS)\n",
    "fig.update_layout(width=1000, height=500)\n",
    "fig.update_xaxes(title_text=\"Topic (survey year)\")\n",
    "fig.update_yaxes(title_text=\"Number of core publications\")\n",
    "fig.show()\n",
    "# fig.write_image(\"./LitQEval-report/pics/dataset-overview.pdf\")\n"
   ]
  },
  {
   "cell_type": "code",
   "execution_count": null,
   "metadata": {},
   "outputs": [
    {
     "data": {
      "application/vnd.plotly.v1+json": {
       "config": {
        "plotlyServerURL": "https://plot.ly"
       },
       "data": [
        {
         "alignmentgroup": "True",
         "boxpoints": "all",
         "hovertemplate": "Type=Bibliometric Analysis<br>Topic=%{x}<br>times_cited=%{y}<extra></extra>",
         "legendgroup": "Bibliometric Analysis",
         "marker": {
          "color": "rgb(76,114,176)",
          "size": 5
         },
         "name": "Bibliometric Analysis",
         "notched": false,
         "offsetgroup": "Bibliometric Analysis",
         "orientation": "v",
         "showlegend": true,
         "type": "box",
         "x": [
          "Synthetic Biology (2012)",
          "Synthetic Biology (2012)",
          "Synthetic Biology (2012)",
          "Synthetic Biology (2012)",
          "Synthetic Biology (2012)",
          "Synthetic Biology (2012)",
          "Synthetic Biology (2012)",
          "Synthetic Biology (2012)",
          "Synthetic Biology (2012)",
          "Synthetic Biology (2012)",
          "Synthetic Biology (2012)",
          "Synthetic Biology (2012)",
          "Synthetic Biology (2012)",
          "Synthetic Biology (2012)",
          "Synthetic Biology (2012)",
          "Synthetic Biology (2012)",
          "Synthetic Biology (2012)",
          "Synthetic Biology (2012)",
          "Synthetic Biology (2012)",
          "Synthetic Biology (2012)",
          "Synthetic Biology (2012)",
          "Synthetic Biology (2012)",
          "Synthetic Biology (2012)",
          "Synthetic Biology (2012)",
          "Synthetic Biology (2012)",
          "Synthetic Biology (2012)",
          "Synthetic Biology (2012)",
          "Synthetic Biology (2012)",
          "Synthetic Biology (2012)",
          "Resilience in Business and management (2015)",
          "Resilience in Business and management (2015)",
          "Resilience in Business and management (2015)",
          "Resilience in Business and management (2015)",
          "Resilience in Business and management (2015)",
          "Resilience in Business and management (2015)",
          "Resilience in Business and management (2015)",
          "Resilience in Business and management (2015)",
          "Resilience in Business and management (2015)",
          "Resilience in Business and management (2015)",
          "Resilience in Business and management (2015)",
          "Resilience in Business and management (2015)",
          "Resilience in Business and management (2015)",
          "Resilience in Business and management (2015)",
          "Resilience in Business and management (2015)",
          "Resilience in Business and management (2015)",
          "Resilience in Business and management (2015)",
          "Resilience in Business and management (2015)",
          "Resilience in Business and management (2015)",
          "Resilience in Business and management (2015)",
          "Resilience in Business and management (2015)",
          "Cervical Myelopathy (2018)",
          "Cervical Myelopathy (2018)",
          "Cervical Myelopathy (2018)",
          "Cervical Myelopathy (2018)",
          "Cervical Myelopathy (2018)",
          "Cervical Myelopathy (2018)",
          "Cervical Myelopathy (2018)",
          "Cervical Myelopathy (2018)",
          "Cervical Myelopathy (2018)",
          "Cervical Myelopathy (2018)",
          "Cervical Myelopathy (2018)",
          "Cervical Myelopathy (2018)",
          "Cervical Myelopathy (2018)",
          "Cervical Myelopathy (2018)",
          "Cervical Myelopathy (2018)",
          "Cervical Myelopathy (2018)",
          "Cervical Myelopathy (2018)",
          "Cervical Myelopathy (2018)",
          "Cervical Myelopathy (2018)",
          "Cervical Myelopathy (2018)",
          "Cervical Myelopathy (2018)",
          "Cervical Myelopathy (2018)",
          "Cervical Myelopathy (2018)",
          "Cervical Myelopathy (2018)",
          "Cervical Myelopathy (2018)",
          "Cervical Myelopathy (2018)",
          "Cervical Myelopathy (2018)",
          "Cervical Myelopathy (2018)",
          "Cervical Myelopathy (2018)",
          "Cervical Myelopathy (2018)",
          "Cervical Myelopathy (2018)",
          "Cervical Myelopathy (2018)",
          "Cervical Myelopathy (2018)",
          "Cervical Myelopathy (2018)",
          "Cervical Myelopathy (2018)",
          "Cervical Myelopathy (2018)",
          "Cervical Myelopathy (2018)",
          "Cervical Myelopathy (2018)",
          "Cervical Myelopathy (2018)",
          "Cervical Myelopathy (2018)",
          "Cervical Myelopathy (2018)",
          "Cervical Myelopathy (2018)",
          "Cervical Myelopathy (2018)",
          "Cervical Myelopathy (2018)",
          "Drones in Agriculture (2022)",
          "Drones in Agriculture (2022)",
          "Drones in Agriculture (2022)",
          "Drones in Agriculture (2022)",
          "Drones in Agriculture (2022)",
          "Drones in Agriculture (2022)",
          "Drones in Agriculture (2022)",
          "Drones in Agriculture (2022)",
          "Drones in Agriculture (2022)",
          "Drones in Agriculture (2022)",
          "Drones in Agriculture (2022)",
          "Drones in Agriculture (2022)",
          "Drones in Agriculture (2022)",
          "Drones in Agriculture (2022)",
          "Drones in Agriculture (2022)",
          "Drones in Agriculture (2022)",
          "Drones in Agriculture (2022)",
          "Drones in Agriculture (2022)",
          "Drones in Agriculture (2022)",
          "Drones in Agriculture (2022)",
          "Drones in Agriculture (2022)",
          "Drones in Agriculture (2022)",
          "Drones in Agriculture (2022)",
          "Robotic Arthroplasty (2023)",
          "Robotic Arthroplasty (2023)",
          "Robotic Arthroplasty (2023)",
          "Robotic Arthroplasty (2023)",
          "Robotic Arthroplasty (2023)",
          "Robotic Arthroplasty (2023)",
          "Robotic Arthroplasty (2023)",
          "Robotic Arthroplasty (2023)",
          "Robotic Arthroplasty (2023)",
          "Robotic Arthroplasty (2023)",
          "Robotic Arthroplasty (2023)",
          "Robotic Arthroplasty (2023)",
          "Robotic Arthroplasty (2023)",
          "Robotic Arthroplasty (2023)",
          "Robotic Arthroplasty (2023)",
          "Robotic Arthroplasty (2023)",
          "Robotic Arthroplasty (2023)",
          "Robotic Arthroplasty (2023)",
          "Robotic Arthroplasty (2023)",
          "Robotic Arthroplasty (2023)",
          "Robotic Arthroplasty (2023)",
          "Robotic Arthroplasty (2023)",
          "Robotic Arthroplasty (2023)",
          "Robotic Arthroplasty (2023)",
          "Robotic Arthroplasty (2023)",
          "Robotic Arthroplasty (2023)",
          "Robotic Arthroplasty (2023)",
          "Robotic Arthroplasty (2023)",
          "Robotic Arthroplasty (2023)",
          "Robotic Arthroplasty (2023)",
          "Robotic Arthroplasty (2023)",
          "Robotic Arthroplasty (2023)",
          "Robotic Arthroplasty (2023)",
          "Robotic Arthroplasty (2023)",
          "Robotic Arthroplasty (2023)",
          "Robotic Arthroplasty (2023)",
          "Robotic Arthroplasty (2023)",
          "Robotic Arthroplasty (2023)",
          "Robotic Arthroplasty (2023)",
          "Robotic Arthroplasty (2023)",
          "Robotic Arthroplasty (2023)",
          "Robotic Arthroplasty (2023)",
          "Robotic Arthroplasty (2023)",
          "Robotic Arthroplasty (2023)",
          "Robotic Arthroplasty (2023)",
          "Robotic Arthroplasty (2023)",
          "Robotic Arthroplasty (2023)",
          "Soft Robotics (2018)",
          "Soft Robotics (2018)",
          "Soft Robotics (2018)",
          "Soft Robotics (2018)",
          "Soft Robotics (2018)",
          "Soft Robotics (2018)",
          "Soft Robotics (2018)",
          "Soft Robotics (2018)",
          "Soft Robotics (2018)",
          "Soft Robotics (2018)",
          "Soft Robotics (2018)",
          "Soft Robotics (2018)",
          "Soft Robotics (2018)",
          "Soft Robotics (2018)",
          "Soft Robotics (2018)",
          "Soft Robotics (2018)",
          "Soft Robotics (2018)",
          "Soft Robotics (2018)",
          "Soft Robotics (2018)",
          "Soft Robotics (2018)",
          "Soft Robotics (2018)",
          "Soft Robotics (2018)",
          "Soft Robotics (2018)",
          "Soft Robotics (2018)",
          "Soft Robotics (2018)",
          "Soft Robotics (2018)",
          "Soft Robotics (2018)",
          "Soft Robotics (2018)",
          "Soft Robotics (2018)",
          "Soft Robotics (2018)",
          "Soft Robotics (2018)",
          "Soft Robotics (2018)",
          "Soft Robotics (2018)",
          "Tourism Growth Nexus (2020)",
          "Tourism Growth Nexus (2020)",
          "Tourism Growth Nexus (2020)",
          "Tourism Growth Nexus (2020)",
          "Tourism Growth Nexus (2020)",
          "Tourism Growth Nexus (2020)",
          "Tourism Growth Nexus (2020)",
          "Tourism Growth Nexus (2020)",
          "Tourism Growth Nexus (2020)",
          "Tourism Growth Nexus (2020)",
          "Tourism Growth Nexus (2020)",
          "Tourism Growth Nexus (2020)",
          "Tourism Growth Nexus (2020)",
          "Tourism Growth Nexus (2020)",
          "Tourism Growth Nexus (2020)",
          "Tourism Growth Nexus (2020)",
          "Tourism Growth Nexus (2020)",
          "Tourism Growth Nexus (2020)",
          "Tourism Growth Nexus (2020)",
          "Tourism Growth Nexus (2020)",
          "Tourism Growth Nexus (2020)",
          "Tourism Growth Nexus (2020)",
          "Tourism Growth Nexus (2020)",
          "Tourism Growth Nexus (2020)",
          "Tourism Growth Nexus (2020)",
          "Sustainable Biofuel Economy (2023)",
          "Sustainable Biofuel Economy (2023)",
          "Sustainable Biofuel Economy (2023)",
          "Sustainable Biofuel Economy (2023)",
          "Sustainable Biofuel Economy (2023)",
          "Sustainable Biofuel Economy (2023)",
          "Sustainable Biofuel Economy (2023)",
          "Sustainable Biofuel Economy (2023)",
          "Sustainable Biofuel Economy (2023)",
          "Sustainable Biofuel Economy (2023)",
          "Sustainable Biofuel Economy (2023)",
          "Sustainable Biofuel Economy (2023)",
          "Sustainable Biofuel Economy (2023)",
          "Sustainable Biofuel Economy (2023)",
          "Sustainable Biofuel Economy (2023)",
          "Sustainable Biofuel Economy (2023)",
          "Sustainable Biofuel Economy (2023)",
          "Sustainable Biofuel Economy (2023)",
          "Sustainable Biofuel Economy (2023)",
          "Sustainable Biofuel Economy (2023)",
          "Sustainable Biofuel Economy (2023)",
          "Sustainable Biofuel Economy (2023)",
          "Sustainable Biofuel Economy (2023)",
          "Sustainable Biofuel Economy (2023)",
          "Sustainable Biofuel Economy (2023)",
          "Sustainable Biofuel Economy (2023)",
          "Sustainable Biofuel Economy (2023)",
          "Sustainable Biofuel Economy (2023)",
          "Sustainable Biofuel Economy (2023)",
          "Sustainable Biofuel Economy (2023)",
          "Sustainable Biofuel Economy (2023)",
          "Sustainable Biofuel Economy (2023)",
          "Sustainable Biofuel Economy (2023)",
          "Sustainable Biofuel Economy (2023)",
          "Sustainable Biofuel Economy (2023)",
          "Sustainable Biofuel Economy (2023)",
          "Sustainable Biofuel Economy (2023)",
          "Sustainable Biofuel Economy (2023)",
          "Sustainable Biofuel Economy (2023)",
          "Sustainable Biofuel Economy (2023)",
          "Sustainable Biofuel Economy (2023)",
          "Sustainable Biofuel Economy (2023)",
          "Sustainable Biofuel Economy (2023)",
          "Sustainable Biofuel Economy (2023)",
          "Sustainable Biofuel Economy (2023)",
          "Sustainable Biofuel Economy (2023)",
          "Sustainable Biofuel Economy (2023)",
          "Sustainable Biofuel Economy (2023)",
          "Nanopharmaceuticals OR Nanonutraceuticals (2020)",
          "Nanopharmaceuticals OR Nanonutraceuticals (2020)",
          "Nanopharmaceuticals OR Nanonutraceuticals (2020)",
          "Nanopharmaceuticals OR Nanonutraceuticals (2020)",
          "Nanopharmaceuticals OR Nanonutraceuticals (2020)",
          "Nanopharmaceuticals OR Nanonutraceuticals (2020)",
          "Nanopharmaceuticals OR Nanonutraceuticals (2020)",
          "Nanopharmaceuticals OR Nanonutraceuticals (2020)",
          "Nanopharmaceuticals OR Nanonutraceuticals (2020)",
          "Nanopharmaceuticals OR Nanonutraceuticals (2020)",
          "Nanopharmaceuticals OR Nanonutraceuticals (2020)",
          "Nanopharmaceuticals OR Nanonutraceuticals (2020)",
          "Nanopharmaceuticals OR Nanonutraceuticals (2020)",
          "Nanopharmaceuticals OR Nanonutraceuticals (2020)",
          "Nanopharmaceuticals OR Nanonutraceuticals (2020)",
          "Nanopharmaceuticals OR Nanonutraceuticals (2020)",
          "Nanopharmaceuticals OR Nanonutraceuticals (2020)",
          "Nanopharmaceuticals OR Nanonutraceuticals (2020)",
          "Nanopharmaceuticals OR Nanonutraceuticals (2020)",
          "Nanopharmaceuticals OR Nanonutraceuticals (2020)",
          "Nanopharmaceuticals OR Nanonutraceuticals (2020)",
          "Nanopharmaceuticals OR Nanonutraceuticals (2020)",
          "Nanopharmaceuticals OR Nanonutraceuticals (2020)",
          "Nanopharmaceuticals OR Nanonutraceuticals (2020)",
          "Nanopharmaceuticals OR Nanonutraceuticals (2020)",
          "Nanopharmaceuticals OR Nanonutraceuticals (2020)",
          "Nanopharmaceuticals OR Nanonutraceuticals (2020)",
          "Nanopharmaceuticals OR Nanonutraceuticals (2020)",
          "Nanopharmaceuticals OR Nanonutraceuticals (2020)",
          "Nanopharmaceuticals OR Nanonutraceuticals (2020)",
          "Nanopharmaceuticals OR Nanonutraceuticals (2020)",
          "Nanopharmaceuticals OR Nanonutraceuticals (2020)",
          "Nanopharmaceuticals OR Nanonutraceuticals (2020)",
          "Nanopharmaceuticals OR Nanonutraceuticals (2020)",
          "Nanopharmaceuticals OR Nanonutraceuticals (2020)",
          "Nanopharmaceuticals OR Nanonutraceuticals (2020)",
          "Nanopharmaceuticals OR Nanonutraceuticals (2020)",
          "Nanopharmaceuticals OR Nanonutraceuticals (2020)",
          "Nanopharmaceuticals OR Nanonutraceuticals (2020)",
          "Nanopharmaceuticals OR Nanonutraceuticals (2020)",
          "Nanopharmaceuticals OR Nanonutraceuticals (2020)",
          "Nanopharmaceuticals OR Nanonutraceuticals (2020)",
          "Nanopharmaceuticals OR Nanonutraceuticals (2020)",
          "Nanopharmaceuticals OR Nanonutraceuticals (2020)",
          "Nanopharmaceuticals OR Nanonutraceuticals (2020)",
          "Nanopharmaceuticals OR Nanonutraceuticals (2020)",
          "Nanopharmaceuticals OR Nanonutraceuticals (2020)",
          "Nanopharmaceuticals OR Nanonutraceuticals (2020)",
          "Nanopharmaceuticals OR Nanonutraceuticals (2020)",
          "Nanopharmaceuticals OR Nanonutraceuticals (2020)",
          "Perovskite Solar Cells Stability (2024)",
          "Perovskite Solar Cells Stability (2024)",
          "Perovskite Solar Cells Stability (2024)",
          "Perovskite Solar Cells Stability (2024)",
          "Perovskite Solar Cells Stability (2024)",
          "Perovskite Solar Cells Stability (2024)",
          "Perovskite Solar Cells Stability (2024)",
          "Perovskite Solar Cells Stability (2024)",
          "Perovskite Solar Cells Stability (2024)",
          "Perovskite Solar Cells Stability (2024)",
          "Perovskite Solar Cells Stability (2024)",
          "Perovskite Solar Cells Stability (2024)",
          "Perovskite Solar Cells Stability (2024)",
          "Perovskite Solar Cells Stability (2024)",
          "Perovskite Solar Cells Stability (2024)",
          "Perovskite Solar Cells Stability (2024)",
          "Perovskite Solar Cells Stability (2024)",
          "Perovskite Solar Cells Stability (2024)",
          "Perovskite Solar Cells Stability (2024)",
          "Perovskite Solar Cells Stability (2024)",
          "Perovskite Solar Cells Stability (2024)",
          "Perovskite Solar Cells Stability (2024)",
          "Perovskite Solar Cells Stability (2024)",
          "Perovskite Solar Cells Stability (2024)",
          "Perovskite Solar Cells Stability (2024)",
          "Perovskite Solar Cells Stability (2024)",
          "Perovskite Solar Cells Stability (2024)",
          "Perovskite Solar Cells Stability (2024)",
          "Perovskite Solar Cells Stability (2024)",
          "Green Warehousing (2023)",
          "Green Warehousing (2023)",
          "Green Warehousing (2023)",
          "Green Warehousing (2023)",
          "Green Warehousing (2023)",
          "Green Warehousing (2023)",
          "Green Warehousing (2023)",
          "Green Warehousing (2023)",
          "Green Warehousing (2023)",
          "Green Warehousing (2023)",
          "Green Warehousing (2023)",
          "Green Warehousing (2023)",
          "Green Warehousing (2023)",
          "Green Warehousing (2023)",
          "Green Warehousing (2023)",
          "Green Warehousing (2023)",
          "Green Warehousing (2023)",
          "Green Warehousing (2023)",
          "Green Warehousing (2023)",
          "Green Warehousing (2023)",
          "Green Warehousing (2023)",
          "Green Warehousing (2023)",
          "Green Warehousing (2023)",
          "Green Warehousing (2023)",
          "Green Warehousing (2023)",
          "Green Warehousing (2023)",
          "Green Warehousing (2023)",
          "Green Warehousing (2023)",
          "Green Warehousing (2023)",
          "Green Warehousing (2023)",
          "Green Warehousing (2023)",
          "Green Warehousing (2023)",
          "Green Warehousing (2023)",
          "Green Warehousing (2023)",
          "Internet of Things in Healthcare (2018)",
          "Internet of Things in Healthcare (2018)",
          "Internet of Things in Healthcare (2018)",
          "Internet of Things in Healthcare (2018)",
          "Internet of Things in Healthcare (2018)",
          "Internet of Things in Healthcare (2018)",
          "Internet of Things in Healthcare (2018)",
          "Internet of Things in Healthcare (2018)",
          "Internet of Things in Healthcare (2018)",
          "Internet of Things in Healthcare (2018)",
          "Internet of Things in Healthcare (2018)",
          "Internet of Things in Healthcare (2018)",
          "Internet of Things in Healthcare (2018)",
          "Internet of Things in Healthcare (2018)",
          "Internet of Things in Healthcare (2018)",
          "Internet of Things in Healthcare (2018)",
          "Internet of Things in Healthcare (2018)",
          "Internet of Things in Healthcare (2018)",
          "Internet of Things in Healthcare (2018)",
          "Internet of Things in Healthcare (2018)",
          "Internet of Things in Healthcare (2018)",
          "Internet of Things in Healthcare (2018)",
          "Internet of Things in Healthcare (2018)",
          "Internet of Things in Healthcare (2018)",
          "Internet of Things in Healthcare (2018)",
          "Internet of Things in Healthcare (2018)",
          "Internet of Things in Healthcare (2018)",
          "AI on Edge Devices (2022)",
          "AI on Edge Devices (2022)",
          "AI on Edge Devices (2022)",
          "AI on Edge Devices (2022)",
          "AI on Edge Devices (2022)",
          "AI on Edge Devices (2022)",
          "AI on Edge Devices (2022)",
          "AI on Edge Devices (2022)",
          "AI on Edge Devices (2022)",
          "AI on Edge Devices (2022)",
          "AI on Edge Devices (2022)",
          "AI on Edge Devices (2022)",
          "AI on Edge Devices (2022)",
          "AI on Edge Devices (2022)",
          "AI on Edge Devices (2022)",
          "AI on Edge Devices (2022)",
          "AI on Edge Devices (2022)",
          "AI on Edge Devices (2022)",
          "AI on Edge Devices (2022)",
          "AI on Edge Devices (2022)",
          "AI on Edge Devices (2022)",
          "AI on Edge Devices (2022)",
          "AI on Edge Devices (2022)",
          "AI on Edge Devices (2022)",
          "AI on Edge Devices (2022)",
          "AI on Edge Devices (2022)",
          "AI on Edge Devices (2022)",
          "AI on Edge Devices (2022)",
          "AI on Edge Devices (2022)",
          "AI on Edge Devices (2022)",
          "AI on Edge Devices (2022)",
          "AI on Edge Devices (2022)",
          "AI on Edge Devices (2022)",
          "AI on Edge Devices (2022)",
          "AI on Edge Devices (2022)",
          "AI on Edge Devices (2022)",
          "Crop Yield Prediction (2020)",
          "Crop Yield Prediction (2020)",
          "Crop Yield Prediction (2020)",
          "Crop Yield Prediction (2020)",
          "Crop Yield Prediction (2020)",
          "Crop Yield Prediction (2020)",
          "Crop Yield Prediction (2020)",
          "Crop Yield Prediction (2020)",
          "Crop Yield Prediction (2020)",
          "Crop Yield Prediction (2020)",
          "Crop Yield Prediction (2020)",
          "Crop Yield Prediction (2020)",
          "Crop Yield Prediction (2020)",
          "Crop Yield Prediction (2020)",
          "Crop Yield Prediction (2020)",
          "Crop Yield Prediction (2020)",
          "Crop Yield Prediction (2020)",
          "Crop Yield Prediction (2020)",
          "Crop Yield Prediction (2020)",
          "Crop Yield Prediction (2020)",
          "Crop Yield Prediction (2020)",
          "Crop Yield Prediction (2020)",
          "Crop Yield Prediction (2020)",
          "Crop Yield Prediction (2020)",
          "Crop Yield Prediction (2020)",
          "Crop Yield Prediction (2020)",
          "Crop Yield Prediction (2020)",
          "Crop Yield Prediction (2020)",
          "Crop Yield Prediction (2020)",
          "Crop Yield Prediction (2020)",
          "Crop Yield Prediction (2020)",
          "Crop Yield Prediction (2020)",
          "Crop Yield Prediction (2020)",
          "Crop Yield Prediction (2020)",
          "Crop Yield Prediction (2020)",
          "Crop Yield Prediction (2020)",
          "Crop Yield Prediction (2020)",
          "Crop Yield Prediction (2020)",
          "Crop Yield Prediction (2020)",
          "Crop Yield Prediction (2020)",
          "Crop Yield Prediction (2020)",
          "Crop Yield Prediction (2020)",
          "Crop Yield Prediction (2020)",
          "Crop Yield Prediction (2020)"
         ],
         "x0": " ",
         "xaxis": "x",
         "y": [
          520,
          634,
          1486,
          659,
          311,
          3683,
          3990,
          1010,
          2385,
          1092,
          44,
          1242,
          4865,
          335,
          536,
          536,
          461,
          362,
          1353,
          784,
          316,
          399,
          485,
          1038,
          1030,
          2148,
          621,
          407,
          554,
          1434,
          288,
          809,
          2051,
          1530,
          2343,
          872,
          542,
          1048,
          1228,
          1285,
          1100,
          3137,
          772,
          285,
          1543,
          856,
          948,
          898,
          640,
          806,
          347,
          421,
          400,
          384,
          925,
          733,
          1544,
          210,
          201,
          194,
          215,
          205,
          212,
          202,
          219,
          206,
          271,
          233,
          194,
          290,
          231,
          274,
          266,
          254,
          326,
          319,
          253,
          261,
          249,
          240,
          392,
          285,
          326,
          361,
          208,
          226,
          426,
          367,
          362,
          275,
          301,
          346,
          474,
          417,
          326,
          321,
          384,
          1057,
          73,
          170,
          63,
          1633,
          737,
          1058,
          1393,
          1403,
          56,
          398,
          453,
          524,
          410,
          607,
          417,
          952,
          452,
          544,
          715,
          100,
          109,
          75,
          183,
          67,
          83,
          88,
          103,
          114,
          95,
          105,
          77,
          108,
          134,
          120,
          112,
          156,
          151,
          102,
          143,
          131,
          140,
          151,
          237,
          113,
          177,
          128,
          126,
          144,
          153,
          23,
          210,
          295,
          198,
          209,
          217,
          167,
          192,
          276,
          225,
          334,
          235,
          255,
          366,
          309,
          299,
          380,
          451,
          828,
          501,
          484,
          222,
          1187,
          518,
          80,
          74,
          78,
          4416,
          144,
          165,
          776,
          321,
          1069,
          279,
          327,
          1023,
          195,
          244,
          173,
          247,
          974,
          508,
          766,
          521,
          396,
          1730,
          881,
          1331,
          1807,
          991,
          194,
          218,
          184,
          127,
          213,
          178,
          167,
          266,
          183,
          270,
          303,
          283,
          341,
          396,
          318,
          419,
          403,
          230,
          504,
          595,
          413,
          534,
          653,
          1063,
          684,
          108,
          86,
          109,
          147,
          128,
          148,
          111,
          140,
          119,
          130,
          132,
          111,
          173,
          162,
          155,
          133,
          203,
          152,
          138,
          137,
          166,
          213,
          137,
          152,
          157,
          162,
          311,
          161,
          198,
          200,
          173,
          270,
          186,
          248,
          194,
          264,
          222,
          203,
          224,
          252,
          240,
          280,
          237,
          293,
          253,
          356,
          268,
          740,
          1186,
          963,
          1054,
          995,
          1055,
          1335,
          1607,
          953,
          1097,
          1400,
          1158,
          1033,
          1032,
          1223,
          1373,
          1676,
          1166,
          1863,
          1058,
          1342,
          1150,
          1268,
          1630,
          1600,
          1470,
          1554,
          1331,
          1903,
          2175,
          1741,
          2197,
          1821,
          1570,
          1777,
          1614,
          2054,
          3457,
          2355,
          1887,
          2284,
          2140,
          2773,
          2635,
          5778,
          3192,
          3826,
          4153,
          5089,
          4394,
          4973,
          54,
          17,
          33,
          10,
          61,
          172,
          231,
          265,
          261,
          138,
          124,
          209,
          202,
          212,
          185,
          315,
          263,
          255,
          235,
          332,
          304,
          275,
          287,
          492,
          397,
          569,
          655,
          735,
          1114,
          21,
          2,
          81,
          11,
          6,
          34,
          3,
          72,
          23,
          9,
          9,
          23,
          175,
          6,
          20,
          6,
          52,
          1,
          87,
          24,
          17,
          46,
          127,
          111,
          1,
          67,
          4,
          86,
          39,
          3,
          21,
          67,
          28,
          267,
          80,
          385,
          88,
          17,
          360,
          47,
          138,
          73,
          157,
          197,
          201,
          22,
          383,
          20,
          71,
          112,
          214,
          74,
          199,
          242,
          82,
          63,
          10,
          4,
          109,
          64,
          21,
          29,
          1,
          14,
          7,
          2,
          15,
          1,
          6,
          13,
          154,
          4,
          8,
          116,
          98,
          127,
          3,
          83,
          35,
          4,
          115,
          123,
          81,
          159,
          22,
          41,
          91,
          1253,
          463,
          261,
          98,
          1307,
          586,
          58,
          31,
          7,
          1027,
          33,
          54,
          200,
          94,
          192,
          10,
          60,
          67,
          121,
          233,
          317,
          16,
          172,
          156,
          128,
          5,
          85,
          392,
          99,
          94,
          57,
          115,
          95,
          150,
          260,
          22,
          495,
          435,
          112,
          80,
          71,
          22,
          23,
          7,
          180,
          77,
          26,
          68,
          233,
          18,
          17,
          15,
          40,
          37
         ],
         "y0": " ",
         "yaxis": "y"
        },
        {
         "alignmentgroup": "True",
         "boxpoints": "all",
         "hovertemplate": "Type=Systematic Literature Review<br>Topic=%{x}<br>times_cited=%{y}<extra></extra>",
         "legendgroup": "Systematic Literature Review",
         "marker": {
          "color": "rgb(221,132,82)",
          "size": 5
         },
         "name": "Systematic Literature Review",
         "notched": false,
         "offsetgroup": "Systematic Literature Review",
         "orientation": "v",
         "showlegend": true,
         "type": "box",
         "x": [
          "Software Process Line (2019)",
          "Software Process Line (2019)",
          "Software Process Line (2019)",
          "Software Process Line (2019)",
          "Software Process Line (2019)",
          "Software Process Line (2019)",
          "Software Process Line (2019)",
          "Software Process Line (2019)",
          "Software Process Line (2019)",
          "Software Process Line (2019)",
          "Software Process Line (2019)",
          "Software Process Line (2019)",
          "Software Process Line (2019)",
          "Software Process Line (2019)",
          "Software Process Line (2019)",
          "Software Process Line (2019)",
          "Software Process Line (2019)",
          "Software Process Line (2019)",
          "Software Process Line (2019)",
          "Software Process Line (2019)",
          "Software Process Line (2019)",
          "Software Process Line (2019)",
          "Software Process Line (2019)",
          "Software Process Line (2019)",
          "Software Process Line (2019)",
          "Software Process Line (2019)",
          "Software Process Line (2019)",
          "Software Process Line (2019)",
          "Software Process Line (2019)",
          "Software Process Line (2019)",
          "Software Process Line (2019)",
          "Software Process Line (2019)",
          "Software Process Line (2019)",
          "Software Process Line (2019)",
          "Software Process Line (2019)",
          "Data Stream Processing Latency (2019)",
          "Data Stream Processing Latency (2019)",
          "Data Stream Processing Latency (2019)",
          "Data Stream Processing Latency (2019)",
          "Data Stream Processing Latency (2019)",
          "Data Stream Processing Latency (2019)",
          "Data Stream Processing Latency (2019)",
          "Data Stream Processing Latency (2019)",
          "Data Stream Processing Latency (2019)",
          "Data Stream Processing Latency (2019)",
          "Data Stream Processing Latency (2019)",
          "Data Stream Processing Latency (2019)",
          "Data Stream Processing Latency (2019)",
          "Data Stream Processing Latency (2019)",
          "Data Stream Processing Latency (2019)",
          "Data Stream Processing Latency (2019)",
          "Data Stream Processing Latency (2019)",
          "Data Stream Processing Latency (2019)",
          "Data Stream Processing Latency (2019)",
          "Data Stream Processing Latency (2019)",
          "Data Stream Processing Latency (2019)",
          "Data Stream Processing Latency (2019)",
          "Data Stream Processing Latency (2019)",
          "Data Stream Processing Latency (2019)",
          "Data Stream Processing Latency (2019)",
          "Data Stream Processing Latency (2019)",
          "Data Stream Processing Latency (2019)",
          "Data Stream Processing Latency (2019)",
          "Data Stream Processing Latency (2019)",
          "Data Stream Processing Latency (2019)",
          "Data Stream Processing Latency (2019)",
          "Data Stream Processing Latency (2019)",
          "Data Stream Processing Latency (2019)",
          "Data Stream Processing Latency (2019)",
          "Data Stream Processing Latency (2019)",
          "Data Stream Processing Latency (2019)",
          "Data Stream Processing Latency (2019)",
          "Data Stream Processing Latency (2019)",
          "Data Stream Processing Latency (2019)",
          "Data Stream Processing Latency (2019)",
          "Data Stream Processing Latency (2019)",
          "Data Stream Processing Latency (2019)",
          "Data Stream Processing Latency (2019)",
          "Data Stream Processing Latency (2019)",
          "Data Stream Processing Latency (2019)",
          "Data Stream Processing Latency (2019)",
          "Data Stream Processing Latency (2019)",
          "Data Stream Processing Latency (2019)",
          "Data Stream Processing Latency (2019)",
          "Data Stream Processing Latency (2019)",
          "Data Stream Processing Latency (2019)",
          "Data Stream Processing Latency (2019)",
          "Data Stream Processing Latency (2019)",
          "Data Stream Processing Latency (2019)",
          "Data Stream Processing Latency (2019)",
          "Data Stream Processing Latency (2019)",
          "Data Stream Processing Latency (2019)",
          "Data Stream Processing Latency (2019)",
          "Data Stream Processing Latency (2019)",
          "Data Stream Processing Latency (2019)",
          "Data Stream Processing Latency (2019)",
          "Data Stream Processing Latency (2019)",
          "Data Stream Processing Latency (2019)",
          "Data Stream Processing Latency (2019)",
          "Data Stream Processing Latency (2019)",
          "Data Stream Processing Latency (2019)",
          "Data Stream Processing Latency (2019)",
          "Data Stream Processing Latency (2019)",
          "Business Process Meta Models (2021)",
          "Business Process Meta Models (2021)",
          "Business Process Meta Models (2021)",
          "Business Process Meta Models (2021)",
          "Business Process Meta Models (2021)",
          "Business Process Meta Models (2021)",
          "Business Process Meta Models (2021)",
          "Business Process Meta Models (2021)",
          "Business Process Meta Models (2021)",
          "Business Process Meta Models (2021)",
          "Business Process Meta Models (2021)",
          "Business Process Meta Models (2021)",
          "Business Process Meta Models (2021)",
          "Business Process Meta Models (2021)",
          "Business Process Meta Models (2021)",
          "Business Process Meta Models (2021)",
          "Business Process Meta Models (2021)",
          "Business Process Meta Models (2021)",
          "Business Process Meta Models (2021)",
          "Business Process Meta Models (2021)",
          "Business Process Meta Models (2021)",
          "Business Process Meta Models (2021)",
          "Multicore Performance Prediction (2017)",
          "Multicore Performance Prediction (2017)",
          "Multicore Performance Prediction (2017)",
          "Multicore Performance Prediction (2017)",
          "Multicore Performance Prediction (2017)",
          "Multicore Performance Prediction (2017)",
          "Multicore Performance Prediction (2017)",
          "Multicore Performance Prediction (2017)",
          "Multicore Performance Prediction (2017)",
          "Multicore Performance Prediction (2017)",
          "Multicore Performance Prediction (2017)",
          "Multicore Performance Prediction (2017)",
          "Multicore Performance Prediction (2017)",
          "Multicore Performance Prediction (2017)",
          "Multicore Performance Prediction (2017)",
          "Multicore Performance Prediction (2017)",
          "Multicore Performance Prediction (2017)",
          "Multicore Performance Prediction (2017)",
          "Multicore Performance Prediction (2017)",
          "Multicore Performance Prediction (2017)",
          "Multicore Performance Prediction (2017)",
          "Multicore Performance Prediction (2017)",
          "Multicore Performance Prediction (2017)",
          "Multicore Performance Prediction (2017)",
          "Multicore Performance Prediction (2017)",
          "Multicore Performance Prediction (2017)",
          "Multicore Performance Prediction (2017)",
          "Multicore Performance Prediction (2017)",
          "Multicore Performance Prediction (2017)",
          "Multicore Performance Prediction (2017)",
          "Multicore Performance Prediction (2017)",
          "Multicore Performance Prediction (2017)",
          "Multicore Performance Prediction (2017)",
          "Cloud Migration (2014)",
          "Cloud Migration (2014)",
          "Cloud Migration (2014)",
          "Cloud Migration (2014)",
          "Cloud Migration (2014)",
          "Cloud Migration (2014)",
          "Cloud Migration (2014)",
          "Cloud Migration (2014)",
          "Cloud Migration (2014)",
          "Cloud Migration (2014)",
          "Cloud Migration (2014)",
          "Cloud Migration (2014)",
          "Cloud Migration (2014)",
          "Cloud Migration (2014)",
          "Cloud Migration (2014)",
          "Cloud Migration (2014)",
          "Cloud Migration (2014)",
          "Cloud Migration (2014)",
          "Cloud Migration (2014)",
          "Cloud Migration (2014)",
          "Cloud Migration (2014)",
          "Software Fault Prediction Metrics (2013)",
          "Software Fault Prediction Metrics (2013)",
          "Software Fault Prediction Metrics (2013)",
          "Software Fault Prediction Metrics (2013)",
          "Software Fault Prediction Metrics (2013)",
          "Software Fault Prediction Metrics (2013)",
          "Software Fault Prediction Metrics (2013)",
          "Software Fault Prediction Metrics (2013)",
          "Software Fault Prediction Metrics (2013)",
          "Software Fault Prediction Metrics (2013)",
          "Software Fault Prediction Metrics (2013)",
          "Software Fault Prediction Metrics (2013)",
          "Software Fault Prediction Metrics (2013)",
          "Software Fault Prediction Metrics (2013)",
          "Software Fault Prediction Metrics (2013)",
          "Software Fault Prediction Metrics (2013)",
          "Software Fault Prediction Metrics (2013)",
          "Software Fault Prediction Metrics (2013)",
          "Software Fault Prediction Metrics (2013)",
          "Software Fault Prediction Metrics (2013)",
          "Software Fault Prediction Metrics (2013)",
          "Software Fault Prediction Metrics (2013)",
          "Software Fault Prediction Metrics (2013)",
          "Software Fault Prediction Metrics (2013)",
          "Software Fault Prediction Metrics (2013)",
          "Software Fault Prediction Metrics (2013)",
          "Software Fault Prediction Metrics (2013)",
          "Software Fault Prediction Metrics (2013)",
          "Software Fault Prediction Metrics (2013)",
          "Software Fault Prediction Metrics (2013)",
          "Software Fault Prediction Metrics (2013)",
          "Software Fault Prediction Metrics (2013)",
          "Software Fault Prediction Metrics (2013)",
          "Software Fault Prediction Metrics (2013)",
          "Software Fault Prediction Metrics (2013)",
          "Software Fault Prediction Metrics (2013)",
          "Software Fault Prediction Metrics (2013)",
          "Software Fault Prediction Metrics (2013)",
          "Software Fault Prediction Metrics (2013)",
          "Software Fault Prediction Metrics (2013)",
          "Software Fault Prediction Metrics (2013)",
          "Software Fault Prediction Metrics (2013)",
          "Software Fault Prediction Metrics (2013)",
          "Software Fault Prediction Metrics (2013)",
          "Software Fault Prediction Metrics (2013)",
          "Software Fault Prediction Metrics (2013)",
          "Software Fault Prediction Metrics (2013)",
          "Software Fault Prediction Metrics (2013)",
          "Software Defect Prediction (2015)",
          "Software Defect Prediction (2015)",
          "Software Defect Prediction (2015)",
          "Software Defect Prediction (2015)",
          "Software Defect Prediction (2015)",
          "Software Defect Prediction (2015)",
          "Software Defect Prediction (2015)",
          "Software Defect Prediction (2015)",
          "Software Defect Prediction (2015)",
          "Software Defect Prediction (2015)",
          "Software Defect Prediction (2015)",
          "Software Defect Prediction (2015)",
          "Software Defect Prediction (2015)",
          "Software Defect Prediction (2015)",
          "Software Defect Prediction (2015)",
          "Software Defect Prediction (2015)",
          "Software Defect Prediction (2015)",
          "Software Defect Prediction (2015)",
          "Software Defect Prediction (2015)",
          "Software Defect Prediction (2015)",
          "Software Defect Prediction (2015)",
          "Software Defect Prediction (2015)",
          "Software Defect Prediction (2015)",
          "Software Defect Prediction (2015)",
          "Software Defect Prediction (2015)",
          "Software Defect Prediction (2015)",
          "Software Defect Prediction (2015)",
          "Software Defect Prediction (2015)",
          "Software Defect Prediction (2015)",
          "Software Defect Prediction (2015)",
          "Software Defect Prediction (2015)",
          "Software Defect Prediction (2015)",
          "Software Defect Prediction (2015)",
          "Software Defect Prediction (2015)",
          "Software Defect Prediction (2015)",
          "Software Defect Prediction (2015)",
          "Software Defect Prediction (2015)",
          "Software Defect Prediction (2015)",
          "Software Defect Prediction (2015)",
          "Software Defect Prediction (2015)",
          "Software Defect Prediction (2015)",
          "Software Defect Prediction (2015)",
          "Software Defect Prediction (2015)",
          "Software Defect Prediction (2015)",
          "Software Defect Prediction (2015)",
          "Software Defect Prediction (2015)",
          "Software Defect Prediction (2015)",
          "Software Defect Prediction (2015)",
          "Software Defect Prediction (2015)",
          "Software Defect Prediction (2015)",
          "Software Defect Prediction (2015)",
          "Software Defect Prediction (2015)"
         ],
         "x0": " ",
         "xaxis": "x",
         "y": [
          33,
          1,
          17,
          12,
          39,
          70,
          20,
          2,
          28,
          6,
          14,
          35,
          10,
          6,
          17,
          18,
          11,
          7,
          3,
          13,
          6,
          6,
          5,
          5,
          7,
          14,
          4,
          7,
          2,
          5,
          2,
          10,
          26,
          0,
          5,
          24,
          64,
          13,
          17,
          67,
          19,
          14,
          172,
          179,
          11,
          17,
          24,
          100,
          154,
          6,
          49,
          22,
          48,
          13,
          95,
          17,
          43,
          3,
          50,
          9,
          8,
          4,
          32,
          10,
          41,
          16,
          34,
          0,
          11,
          71,
          7,
          8,
          3,
          7,
          25,
          17,
          3,
          2,
          18,
          7,
          36,
          126,
          28,
          283,
          17,
          3,
          24,
          16,
          19,
          14,
          3,
          7,
          6,
          42,
          7,
          7,
          5,
          12,
          2,
          7,
          23,
          36,
          75,
          9,
          138,
          9,
          3,
          22,
          340,
          9,
          9,
          41,
          41,
          80,
          49,
          12,
          11,
          44,
          5,
          162,
          31,
          25,
          54,
          39,
          10,
          2,
          124,
          21,
          31,
          40,
          244,
          12,
          121,
          8,
          11,
          43,
          427,
          27,
          7,
          8,
          39,
          57,
          14,
          18,
          2,
          3,
          5,
          4,
          0,
          0,
          158,
          3,
          309,
          40,
          195,
          22,
          5,
          61,
          61,
          9,
          0,
          56,
          44,
          228,
          151,
          20,
          15,
          14,
          44,
          47,
          39,
          48,
          43,
          14,
          13,
          28,
          192,
          75,
          77,
          138,
          1180,
          255,
          85,
          30,
          71,
          74,
          21,
          148,
          559,
          81,
          6,
          35,
          302,
          237,
          25,
          96,
          39,
          24,
          678,
          403,
          5,
          257,
          50,
          227,
          586,
          153,
          148,
          70,
          1032,
          214,
          21,
          581,
          307,
          455,
          17,
          554,
          31,
          24,
          117,
          11,
          101,
          480,
          16,
          9,
          39,
          142,
          62,
          413,
          44,
          105,
          423,
          152,
          399,
          22,
          52,
          274,
          588,
          46,
          123,
          180,
          382,
          358,
          91,
          282,
          78,
          243,
          55,
          53,
          124,
          43,
          154,
          392,
          76,
          155,
          8,
          171,
          432,
          450,
          47,
          119,
          36,
          26,
          27,
          558,
          89,
          102,
          43,
          21,
          151,
          257,
          23,
          61,
          1032,
          59,
          22,
          138,
          64,
          153,
          945
         ],
         "y0": " ",
         "yaxis": "y"
        }
       ],
       "layout": {
        "boxmode": "group",
        "font": {
         "family": "Modern Computer"
        },
        "height": 800,
        "legend": {
         "font": {
          "size": 20
         },
         "title": {
          "text": ""
         },
         "tracegroupgap": 0
        },
        "showlegend": true,
        "template": {
         "data": {
          "bar": [
           {
            "error_x": {
             "color": "rgb(36,36,36)"
            },
            "error_y": {
             "color": "rgb(36,36,36)"
            },
            "marker": {
             "line": {
              "color": "rgb(234,234,242)",
              "width": 0.5
             },
             "pattern": {
              "fillmode": "overlay",
              "size": 10,
              "solidity": 0.2
             }
            },
            "type": "bar"
           }
          ],
          "barpolar": [
           {
            "marker": {
             "line": {
              "color": "rgb(234,234,242)",
              "width": 0.5
             },
             "pattern": {
              "fillmode": "overlay",
              "size": 10,
              "solidity": 0.2
             }
            },
            "type": "barpolar"
           }
          ],
          "carpet": [
           {
            "aaxis": {
             "endlinecolor": "rgb(36,36,36)",
             "gridcolor": "white",
             "linecolor": "white",
             "minorgridcolor": "white",
             "startlinecolor": "rgb(36,36,36)"
            },
            "baxis": {
             "endlinecolor": "rgb(36,36,36)",
             "gridcolor": "white",
             "linecolor": "white",
             "minorgridcolor": "white",
             "startlinecolor": "rgb(36,36,36)"
            },
            "type": "carpet"
           }
          ],
          "choropleth": [
           {
            "colorbar": {
             "outlinewidth": 0,
             "tickcolor": "rgb(36,36,36)",
             "ticklen": 8,
             "ticks": "outside",
             "tickwidth": 2
            },
            "type": "choropleth"
           }
          ],
          "contour": [
           {
            "colorbar": {
             "outlinewidth": 0,
             "tickcolor": "rgb(36,36,36)",
             "ticklen": 8,
             "ticks": "outside",
             "tickwidth": 2
            },
            "colorscale": [
             [
              0,
              "rgb(2,4,25)"
             ],
             [
              0.06274509803921569,
              "rgb(24,15,41)"
             ],
             [
              0.12549019607843137,
              "rgb(47,23,57)"
             ],
             [
              0.18823529411764706,
              "rgb(71,28,72)"
             ],
             [
              0.25098039215686274,
              "rgb(97,30,82)"
             ],
             [
              0.3137254901960784,
              "rgb(123,30,89)"
             ],
             [
              0.3764705882352941,
              "rgb(150,27,91)"
             ],
             [
              0.4392156862745098,
              "rgb(177,22,88)"
             ],
             [
              0.5019607843137255,
              "rgb(203,26,79)"
             ],
             [
              0.5647058823529412,
              "rgb(223,47,67)"
             ],
             [
              0.6274509803921569,
              "rgb(236,76,61)"
             ],
             [
              0.6901960784313725,
              "rgb(242,107,73)"
             ],
             [
              0.7529411764705882,
              "rgb(244,135,95)"
             ],
             [
              0.8156862745098039,
              "rgb(245,162,122)"
             ],
             [
              0.8784313725490196,
              "rgb(246,188,153)"
             ],
             [
              0.9411764705882353,
              "rgb(247,212,187)"
             ],
             [
              1,
              "rgb(250,234,220)"
             ]
            ],
            "type": "contour"
           }
          ],
          "contourcarpet": [
           {
            "colorbar": {
             "outlinewidth": 0,
             "tickcolor": "rgb(36,36,36)",
             "ticklen": 8,
             "ticks": "outside",
             "tickwidth": 2
            },
            "type": "contourcarpet"
           }
          ],
          "heatmap": [
           {
            "colorbar": {
             "outlinewidth": 0,
             "tickcolor": "rgb(36,36,36)",
             "ticklen": 8,
             "ticks": "outside",
             "tickwidth": 2
            },
            "colorscale": [
             [
              0,
              "rgb(2,4,25)"
             ],
             [
              0.06274509803921569,
              "rgb(24,15,41)"
             ],
             [
              0.12549019607843137,
              "rgb(47,23,57)"
             ],
             [
              0.18823529411764706,
              "rgb(71,28,72)"
             ],
             [
              0.25098039215686274,
              "rgb(97,30,82)"
             ],
             [
              0.3137254901960784,
              "rgb(123,30,89)"
             ],
             [
              0.3764705882352941,
              "rgb(150,27,91)"
             ],
             [
              0.4392156862745098,
              "rgb(177,22,88)"
             ],
             [
              0.5019607843137255,
              "rgb(203,26,79)"
             ],
             [
              0.5647058823529412,
              "rgb(223,47,67)"
             ],
             [
              0.6274509803921569,
              "rgb(236,76,61)"
             ],
             [
              0.6901960784313725,
              "rgb(242,107,73)"
             ],
             [
              0.7529411764705882,
              "rgb(244,135,95)"
             ],
             [
              0.8156862745098039,
              "rgb(245,162,122)"
             ],
             [
              0.8784313725490196,
              "rgb(246,188,153)"
             ],
             [
              0.9411764705882353,
              "rgb(247,212,187)"
             ],
             [
              1,
              "rgb(250,234,220)"
             ]
            ],
            "type": "heatmap"
           }
          ],
          "heatmapgl": [
           {
            "colorbar": {
             "outlinewidth": 0,
             "tickcolor": "rgb(36,36,36)",
             "ticklen": 8,
             "ticks": "outside",
             "tickwidth": 2
            },
            "colorscale": [
             [
              0,
              "rgb(2,4,25)"
             ],
             [
              0.06274509803921569,
              "rgb(24,15,41)"
             ],
             [
              0.12549019607843137,
              "rgb(47,23,57)"
             ],
             [
              0.18823529411764706,
              "rgb(71,28,72)"
             ],
             [
              0.25098039215686274,
              "rgb(97,30,82)"
             ],
             [
              0.3137254901960784,
              "rgb(123,30,89)"
             ],
             [
              0.3764705882352941,
              "rgb(150,27,91)"
             ],
             [
              0.4392156862745098,
              "rgb(177,22,88)"
             ],
             [
              0.5019607843137255,
              "rgb(203,26,79)"
             ],
             [
              0.5647058823529412,
              "rgb(223,47,67)"
             ],
             [
              0.6274509803921569,
              "rgb(236,76,61)"
             ],
             [
              0.6901960784313725,
              "rgb(242,107,73)"
             ],
             [
              0.7529411764705882,
              "rgb(244,135,95)"
             ],
             [
              0.8156862745098039,
              "rgb(245,162,122)"
             ],
             [
              0.8784313725490196,
              "rgb(246,188,153)"
             ],
             [
              0.9411764705882353,
              "rgb(247,212,187)"
             ],
             [
              1,
              "rgb(250,234,220)"
             ]
            ],
            "type": "heatmapgl"
           }
          ],
          "histogram": [
           {
            "marker": {
             "pattern": {
              "fillmode": "overlay",
              "size": 10,
              "solidity": 0.2
             }
            },
            "type": "histogram"
           }
          ],
          "histogram2d": [
           {
            "colorbar": {
             "outlinewidth": 0,
             "tickcolor": "rgb(36,36,36)",
             "ticklen": 8,
             "ticks": "outside",
             "tickwidth": 2
            },
            "colorscale": [
             [
              0,
              "rgb(2,4,25)"
             ],
             [
              0.06274509803921569,
              "rgb(24,15,41)"
             ],
             [
              0.12549019607843137,
              "rgb(47,23,57)"
             ],
             [
              0.18823529411764706,
              "rgb(71,28,72)"
             ],
             [
              0.25098039215686274,
              "rgb(97,30,82)"
             ],
             [
              0.3137254901960784,
              "rgb(123,30,89)"
             ],
             [
              0.3764705882352941,
              "rgb(150,27,91)"
             ],
             [
              0.4392156862745098,
              "rgb(177,22,88)"
             ],
             [
              0.5019607843137255,
              "rgb(203,26,79)"
             ],
             [
              0.5647058823529412,
              "rgb(223,47,67)"
             ],
             [
              0.6274509803921569,
              "rgb(236,76,61)"
             ],
             [
              0.6901960784313725,
              "rgb(242,107,73)"
             ],
             [
              0.7529411764705882,
              "rgb(244,135,95)"
             ],
             [
              0.8156862745098039,
              "rgb(245,162,122)"
             ],
             [
              0.8784313725490196,
              "rgb(246,188,153)"
             ],
             [
              0.9411764705882353,
              "rgb(247,212,187)"
             ],
             [
              1,
              "rgb(250,234,220)"
             ]
            ],
            "type": "histogram2d"
           }
          ],
          "histogram2dcontour": [
           {
            "colorbar": {
             "outlinewidth": 0,
             "tickcolor": "rgb(36,36,36)",
             "ticklen": 8,
             "ticks": "outside",
             "tickwidth": 2
            },
            "colorscale": [
             [
              0,
              "rgb(2,4,25)"
             ],
             [
              0.06274509803921569,
              "rgb(24,15,41)"
             ],
             [
              0.12549019607843137,
              "rgb(47,23,57)"
             ],
             [
              0.18823529411764706,
              "rgb(71,28,72)"
             ],
             [
              0.25098039215686274,
              "rgb(97,30,82)"
             ],
             [
              0.3137254901960784,
              "rgb(123,30,89)"
             ],
             [
              0.3764705882352941,
              "rgb(150,27,91)"
             ],
             [
              0.4392156862745098,
              "rgb(177,22,88)"
             ],
             [
              0.5019607843137255,
              "rgb(203,26,79)"
             ],
             [
              0.5647058823529412,
              "rgb(223,47,67)"
             ],
             [
              0.6274509803921569,
              "rgb(236,76,61)"
             ],
             [
              0.6901960784313725,
              "rgb(242,107,73)"
             ],
             [
              0.7529411764705882,
              "rgb(244,135,95)"
             ],
             [
              0.8156862745098039,
              "rgb(245,162,122)"
             ],
             [
              0.8784313725490196,
              "rgb(246,188,153)"
             ],
             [
              0.9411764705882353,
              "rgb(247,212,187)"
             ],
             [
              1,
              "rgb(250,234,220)"
             ]
            ],
            "type": "histogram2dcontour"
           }
          ],
          "mesh3d": [
           {
            "colorbar": {
             "outlinewidth": 0,
             "tickcolor": "rgb(36,36,36)",
             "ticklen": 8,
             "ticks": "outside",
             "tickwidth": 2
            },
            "type": "mesh3d"
           }
          ],
          "parcoords": [
           {
            "line": {
             "colorbar": {
              "outlinewidth": 0,
              "tickcolor": "rgb(36,36,36)",
              "ticklen": 8,
              "ticks": "outside",
              "tickwidth": 2
             }
            },
            "type": "parcoords"
           }
          ],
          "pie": [
           {
            "automargin": true,
            "type": "pie"
           }
          ],
          "scatter": [
           {
            "fillpattern": {
             "fillmode": "overlay",
             "size": 10,
             "solidity": 0.2
            },
            "type": "scatter"
           }
          ],
          "scatter3d": [
           {
            "line": {
             "colorbar": {
              "outlinewidth": 0,
              "tickcolor": "rgb(36,36,36)",
              "ticklen": 8,
              "ticks": "outside",
              "tickwidth": 2
             }
            },
            "marker": {
             "colorbar": {
              "outlinewidth": 0,
              "tickcolor": "rgb(36,36,36)",
              "ticklen": 8,
              "ticks": "outside",
              "tickwidth": 2
             }
            },
            "type": "scatter3d"
           }
          ],
          "scattercarpet": [
           {
            "marker": {
             "colorbar": {
              "outlinewidth": 0,
              "tickcolor": "rgb(36,36,36)",
              "ticklen": 8,
              "ticks": "outside",
              "tickwidth": 2
             }
            },
            "type": "scattercarpet"
           }
          ],
          "scattergeo": [
           {
            "marker": {
             "colorbar": {
              "outlinewidth": 0,
              "tickcolor": "rgb(36,36,36)",
              "ticklen": 8,
              "ticks": "outside",
              "tickwidth": 2
             }
            },
            "type": "scattergeo"
           }
          ],
          "scattergl": [
           {
            "marker": {
             "colorbar": {
              "outlinewidth": 0,
              "tickcolor": "rgb(36,36,36)",
              "ticklen": 8,
              "ticks": "outside",
              "tickwidth": 2
             }
            },
            "type": "scattergl"
           }
          ],
          "scattermapbox": [
           {
            "marker": {
             "colorbar": {
              "outlinewidth": 0,
              "tickcolor": "rgb(36,36,36)",
              "ticklen": 8,
              "ticks": "outside",
              "tickwidth": 2
             }
            },
            "type": "scattermapbox"
           }
          ],
          "scatterpolar": [
           {
            "marker": {
             "colorbar": {
              "outlinewidth": 0,
              "tickcolor": "rgb(36,36,36)",
              "ticklen": 8,
              "ticks": "outside",
              "tickwidth": 2
             }
            },
            "type": "scatterpolar"
           }
          ],
          "scatterpolargl": [
           {
            "marker": {
             "colorbar": {
              "outlinewidth": 0,
              "tickcolor": "rgb(36,36,36)",
              "ticklen": 8,
              "ticks": "outside",
              "tickwidth": 2
             }
            },
            "type": "scatterpolargl"
           }
          ],
          "scatterternary": [
           {
            "marker": {
             "colorbar": {
              "outlinewidth": 0,
              "tickcolor": "rgb(36,36,36)",
              "ticklen": 8,
              "ticks": "outside",
              "tickwidth": 2
             }
            },
            "type": "scatterternary"
           }
          ],
          "surface": [
           {
            "colorbar": {
             "outlinewidth": 0,
             "tickcolor": "rgb(36,36,36)",
             "ticklen": 8,
             "ticks": "outside",
             "tickwidth": 2
            },
            "colorscale": [
             [
              0,
              "rgb(2,4,25)"
             ],
             [
              0.06274509803921569,
              "rgb(24,15,41)"
             ],
             [
              0.12549019607843137,
              "rgb(47,23,57)"
             ],
             [
              0.18823529411764706,
              "rgb(71,28,72)"
             ],
             [
              0.25098039215686274,
              "rgb(97,30,82)"
             ],
             [
              0.3137254901960784,
              "rgb(123,30,89)"
             ],
             [
              0.3764705882352941,
              "rgb(150,27,91)"
             ],
             [
              0.4392156862745098,
              "rgb(177,22,88)"
             ],
             [
              0.5019607843137255,
              "rgb(203,26,79)"
             ],
             [
              0.5647058823529412,
              "rgb(223,47,67)"
             ],
             [
              0.6274509803921569,
              "rgb(236,76,61)"
             ],
             [
              0.6901960784313725,
              "rgb(242,107,73)"
             ],
             [
              0.7529411764705882,
              "rgb(244,135,95)"
             ],
             [
              0.8156862745098039,
              "rgb(245,162,122)"
             ],
             [
              0.8784313725490196,
              "rgb(246,188,153)"
             ],
             [
              0.9411764705882353,
              "rgb(247,212,187)"
             ],
             [
              1,
              "rgb(250,234,220)"
             ]
            ],
            "type": "surface"
           }
          ],
          "table": [
           {
            "cells": {
             "fill": {
              "color": "rgb(231,231,240)"
             },
             "line": {
              "color": "white"
             }
            },
            "header": {
             "fill": {
              "color": "rgb(183,183,191)"
             },
             "line": {
              "color": "white"
             }
            },
            "type": "table"
           }
          ]
         },
         "layout": {
          "annotationdefaults": {
           "arrowcolor": "rgb(67,103,167)"
          },
          "autotypenumbers": "strict",
          "coloraxis": {
           "colorbar": {
            "outlinewidth": 0,
            "tickcolor": "rgb(36,36,36)",
            "ticklen": 8,
            "ticks": "outside",
            "tickwidth": 2
           }
          },
          "colorscale": {
           "sequential": [
            [
             0,
             "rgb(2,4,25)"
            ],
            [
             0.06274509803921569,
             "rgb(24,15,41)"
            ],
            [
             0.12549019607843137,
             "rgb(47,23,57)"
            ],
            [
             0.18823529411764706,
             "rgb(71,28,72)"
            ],
            [
             0.25098039215686274,
             "rgb(97,30,82)"
            ],
            [
             0.3137254901960784,
             "rgb(123,30,89)"
            ],
            [
             0.3764705882352941,
             "rgb(150,27,91)"
            ],
            [
             0.4392156862745098,
             "rgb(177,22,88)"
            ],
            [
             0.5019607843137255,
             "rgb(203,26,79)"
            ],
            [
             0.5647058823529412,
             "rgb(223,47,67)"
            ],
            [
             0.6274509803921569,
             "rgb(236,76,61)"
            ],
            [
             0.6901960784313725,
             "rgb(242,107,73)"
            ],
            [
             0.7529411764705882,
             "rgb(244,135,95)"
            ],
            [
             0.8156862745098039,
             "rgb(245,162,122)"
            ],
            [
             0.8784313725490196,
             "rgb(246,188,153)"
            ],
            [
             0.9411764705882353,
             "rgb(247,212,187)"
            ],
            [
             1,
             "rgb(250,234,220)"
            ]
           ],
           "sequentialminus": [
            [
             0,
             "rgb(2,4,25)"
            ],
            [
             0.06274509803921569,
             "rgb(24,15,41)"
            ],
            [
             0.12549019607843137,
             "rgb(47,23,57)"
            ],
            [
             0.18823529411764706,
             "rgb(71,28,72)"
            ],
            [
             0.25098039215686274,
             "rgb(97,30,82)"
            ],
            [
             0.3137254901960784,
             "rgb(123,30,89)"
            ],
            [
             0.3764705882352941,
             "rgb(150,27,91)"
            ],
            [
             0.4392156862745098,
             "rgb(177,22,88)"
            ],
            [
             0.5019607843137255,
             "rgb(203,26,79)"
            ],
            [
             0.5647058823529412,
             "rgb(223,47,67)"
            ],
            [
             0.6274509803921569,
             "rgb(236,76,61)"
            ],
            [
             0.6901960784313725,
             "rgb(242,107,73)"
            ],
            [
             0.7529411764705882,
             "rgb(244,135,95)"
            ],
            [
             0.8156862745098039,
             "rgb(245,162,122)"
            ],
            [
             0.8784313725490196,
             "rgb(246,188,153)"
            ],
            [
             0.9411764705882353,
             "rgb(247,212,187)"
            ],
            [
             1,
             "rgb(250,234,220)"
            ]
           ]
          },
          "colorway": [
           "rgb(76,114,176)",
           "rgb(221,132,82)",
           "rgb(85,168,104)",
           "rgb(196,78,82)",
           "rgb(129,114,179)",
           "rgb(147,120,96)",
           "rgb(218,139,195)",
           "rgb(140,140,140)",
           "rgb(204,185,116)",
           "rgb(100,181,205)"
          ],
          "font": {
           "color": "rgb(36,36,36)"
          },
          "geo": {
           "bgcolor": "white",
           "lakecolor": "white",
           "landcolor": "rgb(234,234,242)",
           "showlakes": true,
           "showland": true,
           "subunitcolor": "white"
          },
          "hoverlabel": {
           "align": "left"
          },
          "hovermode": "closest",
          "paper_bgcolor": "white",
          "plot_bgcolor": "rgb(234,234,242)",
          "polar": {
           "angularaxis": {
            "gridcolor": "white",
            "linecolor": "white",
            "showgrid": true,
            "ticks": ""
           },
           "bgcolor": "rgb(234,234,242)",
           "radialaxis": {
            "gridcolor": "white",
            "linecolor": "white",
            "showgrid": true,
            "ticks": ""
           }
          },
          "scene": {
           "xaxis": {
            "backgroundcolor": "rgb(234,234,242)",
            "gridcolor": "white",
            "gridwidth": 2,
            "linecolor": "white",
            "showbackground": true,
            "showgrid": true,
            "ticks": "",
            "zerolinecolor": "white"
           },
           "yaxis": {
            "backgroundcolor": "rgb(234,234,242)",
            "gridcolor": "white",
            "gridwidth": 2,
            "linecolor": "white",
            "showbackground": true,
            "showgrid": true,
            "ticks": "",
            "zerolinecolor": "white"
           },
           "zaxis": {
            "backgroundcolor": "rgb(234,234,242)",
            "gridcolor": "white",
            "gridwidth": 2,
            "linecolor": "white",
            "showbackground": true,
            "showgrid": true,
            "ticks": "",
            "zerolinecolor": "white"
           }
          },
          "shapedefaults": {
           "fillcolor": "rgb(67,103,167)",
           "line": {
            "width": 0
           },
           "opacity": 0.5
          },
          "ternary": {
           "aaxis": {
            "gridcolor": "white",
            "linecolor": "white",
            "showgrid": true,
            "ticks": ""
           },
           "baxis": {
            "gridcolor": "white",
            "linecolor": "white",
            "showgrid": true,
            "ticks": ""
           },
           "bgcolor": "rgb(234,234,242)",
           "caxis": {
            "gridcolor": "white",
            "linecolor": "white",
            "showgrid": true,
            "ticks": ""
           }
          },
          "xaxis": {
           "automargin": true,
           "gridcolor": "white",
           "linecolor": "white",
           "showgrid": true,
           "ticks": "",
           "title": {
            "standoff": 15
           },
           "zerolinecolor": "white"
          },
          "yaxis": {
           "automargin": true,
           "gridcolor": "white",
           "linecolor": "white",
           "showgrid": true,
           "ticks": "",
           "title": {
            "standoff": 15
           },
           "zerolinecolor": "white"
          }
         }
        },
        "title": {
         "font": {
          "family": "Modern Computer",
          "size": 30
         },
         "text": "CPs Citation Count",
         "x": 0.42
        },
        "width": 1300,
        "xaxis": {
         "anchor": "y",
         "domain": [
          0,
          1
         ],
         "tickangle": 45,
         "tickfont": {
          "size": 20
         },
         "title": {
          "font": {
           "size": 25
          },
          "text": "Topic"
         }
        },
        "yaxis": {
         "anchor": "x",
         "domain": [
          0,
          1
         ],
         "tickfont": {
          "size": 20
         },
         "title": {
          "font": {
           "size": 25
          },
          "text": "Number of citations"
         }
        }
       }
      }
     },
     "metadata": {},
     "output_type": "display_data"
    }
   ],
   "source": [
    "# explore citation distribution per topic\n",
    "fig = px.box(core_pubs, x=\"Topic\", y=\"times_cited\", title=\"CPs Citation Count\",\n",
    "              points=\"all\", color=\"Type\")\n",
    "fig.update_layout(**PLOT_CONFIGS)\n",
    "fig.update_traces(marker_size=5)\n",
    "fig.update_layout(xaxis_title_text=\"Topic\", yaxis_title_text=\"Number of citations\", title_font_size=30,\n",
    "                  legend_font_size=20, yaxis_tickfont_size=20, xaxis_tickfont_size=20, title_x=0.42,\n",
    "                  xaxis_title_font_size=25, yaxis_title_font_size=25, width=1300, height=800)\n",
    "fig.show()\n",
    "# fig.write_image(\"./LitQEval-report/pics/citation-distribution.pdf\")"
   ]
  },
  {
   "cell_type": "code",
   "execution_count": 21,
   "metadata": {},
   "outputs": [
    {
     "data": {
      "application/vnd.plotly.v1+json": {
       "config": {
        "plotlyServerURL": "https://plot.ly"
       },
       "data": [
        {
         "alignmentgroup": "True",
         "boxpoints": "all",
         "customdata": [
          [
           "pub.1010407598"
          ],
          [
           "pub.1022279877"
          ],
          [
           "pub.1022297654"
          ],
          [
           "pub.1021275892"
          ],
          [
           "pub.1048602129"
          ],
          [
           "pub.1002786107"
          ],
          [
           "pub.1016534270"
          ],
          [
           "pub.1001000963"
          ],
          [
           "pub.1006120611"
          ],
          [
           "pub.1009412636"
          ],
          [
           "pub.1067589570"
          ],
          [
           "pub.1025786828"
          ],
          [
           "pub.1021654569"
          ],
          [
           "pub.1026899122"
          ],
          [
           "pub.1028250908"
          ],
          [
           "pub.1036497140"
          ],
          [
           "pub.1004364700"
          ],
          [
           "pub.1052700485"
          ],
          [
           "pub.1033127471"
          ],
          [
           "pub.1036018285"
          ],
          [
           "pub.1042528786"
          ],
          [
           "pub.1009258787"
          ],
          [
           "pub.1014359908"
          ],
          [
           "pub.1028022455"
          ],
          [
           "pub.1046952734"
          ],
          [
           "pub.1024208323"
          ],
          [
           "pub.1037881716"
          ],
          [
           "pub.1020751277"
          ],
          [
           "pub.1035931199"
          ],
          [
           "pub.1069908041"
          ],
          [
           "pub.1070196019"
          ],
          [
           "pub.1075056726"
          ],
          [
           "pub.1030211703"
          ],
          [
           "pub.1013827626"
          ],
          [
           "pub.1008687306"
          ],
          [
           "pub.1075345922"
          ],
          [
           "pub.1031594587"
          ],
          [
           "pub.1031821349"
          ],
          [
           "pub.1047959878"
          ],
          [
           "pub.1036458898"
          ],
          [
           "pub.1048916231"
          ],
          [
           "pub.1043814808"
          ],
          [
           "pub.1041282031"
          ],
          [
           "pub.1034737787"
          ],
          [
           "pub.1020050164"
          ],
          [
           "pub.1032563790"
          ],
          [
           "pub.1031829691"
          ],
          [
           "pub.1016764583"
          ],
          [
           "pub.1018062843"
          ],
          [
           "pub.1030632837"
          ],
          [
           "pub.1037654624"
          ],
          [
           "pub.1007826013"
          ],
          [
           "pub.1068893080"
          ],
          [
           "pub.1034074696"
          ],
          [
           "pub.1024110809"
          ],
          [
           "pub.1038222550"
          ],
          [
           "pub.1068893336"
          ],
          [
           "pub.1071097240"
          ],
          [
           "pub.1036299701"
          ],
          [
           "pub.1071103060"
          ],
          [
           "pub.1045861847"
          ],
          [
           "pub.1037790804"
          ],
          [
           "pub.1020803753"
          ],
          [
           "pub.1079276563"
          ],
          [
           "pub.1017401652"
          ],
          [
           "pub.1080091058"
          ],
          [
           "pub.1021857143"
          ],
          [
           "pub.1028542573"
          ],
          [
           "pub.1015407573"
          ],
          [
           "pub.1071103439"
          ],
          [
           "pub.1014052117"
          ],
          [
           "pub.1034944004"
          ],
          [
           "pub.1053723341"
          ],
          [
           "pub.1028420740"
          ],
          [
           "pub.1071103239"
          ],
          [
           "pub.1036336702"
          ],
          [
           "pub.1049890557"
          ],
          [
           "pub.1071098440"
          ],
          [
           "pub.1071097586"
          ],
          [
           "pub.1068890012"
          ],
          [
           "pub.1023278334"
          ],
          [
           "pub.1041327125"
          ],
          [
           "pub.1071076802"
          ],
          [
           "pub.1038098923"
          ],
          [
           "pub.1071095985"
          ],
          [
           "pub.1016889944"
          ],
          [
           "pub.1039231588"
          ],
          [
           "pub.1071103618"
          ],
          [
           "pub.1050443276"
          ],
          [
           "pub.1003399679"
          ],
          [
           "pub.1009748592"
          ],
          [
           "pub.1043047033"
          ],
          [
           "pub.1040115320"
          ],
          [
           "pub.1035509307"
          ],
          [
           "pub.1071268140"
          ],
          [
           "pub.1027978650"
          ],
          [
           "pub.1007702481"
          ],
          [
           "pub.1061610686"
          ],
          [
           "pub.1014003350"
          ],
          [
           "pub.1094775321"
          ],
          [
           "pub.1023847193"
          ],
          [
           "pub.1113441179"
          ],
          [
           "pub.1061280901"
          ],
          [
           "pub.1013849273"
          ],
          [
           "pub.1010901465"
          ],
          [
           "pub.1020655667"
          ],
          [
           "pub.1028947023"
          ],
          [
           "pub.1000225286"
          ],
          [
           "pub.1032694598"
          ],
          [
           "pub.1003882381"
          ],
          [
           "pub.1025608752"
          ],
          [
           "pub.1022922533"
          ],
          [
           "pub.1052390127"
          ],
          [
           "pub.1092454498"
          ],
          [
           "pub.1002161636"
          ],
          [
           "pub.1007471000"
          ],
          [
           "pub.1086143194"
          ],
          [
           "pub.1107454237"
          ],
          [
           "pub.1033569916"
          ],
          [
           "pub.1100744263"
          ],
          [
           "pub.1121440882"
          ],
          [
           "pub.1028449260"
          ],
          [
           "pub.1077881457"
          ],
          [
           "pub.1039984345"
          ],
          [
           "pub.1085617296"
          ],
          [
           "pub.1085423980"
          ],
          [
           "pub.1041693000"
          ],
          [
           "pub.1091777297"
          ],
          [
           "pub.1061184595"
          ],
          [
           "pub.1101146035"
          ],
          [
           "pub.1036848872"
          ],
          [
           "pub.1111052246"
          ],
          [
           "pub.1105917414"
          ],
          [
           "pub.1053567618"
          ],
          [
           "pub.1092914867"
          ],
          [
           "pub.1022546608"
          ],
          [
           "pub.1105926995"
          ],
          [
           "pub.1023819845"
          ],
          [
           "pub.1047113435"
          ],
          [
           "pub.1092198359"
          ],
          [
           "pub.1107054942"
          ],
          [
           "pub.1083695994"
          ],
          [
           "pub.1045115204"
          ],
          [
           "pub.1030382394"
          ],
          [
           "pub.1061784304"
          ],
          [
           "pub.1033163258"
          ],
          [
           "pub.1040431710"
          ],
          [
           "pub.1123098811"
          ],
          [
           "pub.1046566936"
          ],
          [
           "pub.1105227244"
          ],
          [
           "pub.1003009109"
          ],
          [
           "pub.1064886544"
          ],
          [
           "pub.1020705223"
          ],
          [
           "pub.1034566767"
          ],
          [
           "pub.1014011841"
          ],
          [
           "pub.1012736542"
          ],
          [
           "pub.1068895745"
          ],
          [
           "pub.1000309245"
          ],
          [
           "pub.1048135360"
          ],
          [
           "pub.1068898169"
          ],
          [
           "pub.1053428144"
          ],
          [
           "pub.1060167433"
          ],
          [
           "pub.1051764285"
          ],
          [
           "pub.1060167437"
          ],
          [
           "pub.1091247330"
          ],
          [
           "pub.1085727340"
          ],
          [
           "pub.1053869439"
          ],
          [
           "pub.1009708400"
          ],
          [
           "pub.1037299542"
          ],
          [
           "pub.1062681758"
          ],
          [
           "pub.1061419831"
          ],
          [
           "pub.1052588601"
          ],
          [
           "pub.1035546790"
          ],
          [
           "pub.1061419786"
          ],
          [
           "pub.1018093320"
          ],
          [
           "pub.1048672075"
          ],
          [
           "pub.1059311431"
          ],
          [
           "pub.1046958784"
          ],
          [
           "pub.1000285042"
          ],
          [
           "pub.1050931185"
          ],
          [
           "pub.1016383527"
          ],
          [
           "pub.1022244206"
          ],
          [
           "pub.1013312043"
          ],
          [
           "pub.1010861669"
          ],
          [
           "pub.1034332217"
          ],
          [
           "pub.1014191409"
          ],
          [
           "pub.1032973919"
          ],
          [
           "pub.1063202700"
          ],
          [
           "pub.1094524387"
          ],
          [
           "pub.1047578355"
          ],
          [
           "pub.1061784814"
          ],
          [
           "pub.1061692527"
          ],
          [
           "pub.1006036928"
          ],
          [
           "pub.1046414848"
          ],
          [
           "pub.1021059830"
          ],
          [
           "pub.1033757657"
          ],
          [
           "pub.1053745766"
          ],
          [
           "pub.1000810498"
          ],
          [
           "pub.1033376226"
          ],
          [
           "pub.1053750775"
          ],
          [
           "pub.1034653502"
          ],
          [
           "pub.1007878277"
          ],
          [
           "pub.1001562704"
          ],
          [
           "pub.1032490977"
          ],
          [
           "pub.1090346357"
          ],
          [
           "pub.1022720888"
          ],
          [
           "pub.1035901982"
          ],
          [
           "pub.1017098340"
          ],
          [
           "pub.1047663892"
          ],
          [
           "pub.1029520182"
          ],
          [
           "pub.1072794279"
          ],
          [
           "pub.1003840912"
          ],
          [
           "pub.1049141736"
          ],
          [
           "pub.1053802942"
          ],
          [
           "pub.1007170077"
          ],
          [
           "pub.1004299966"
          ],
          [
           "pub.1072794260"
          ],
          [
           "pub.1013412296"
          ],
          [
           "pub.1004840356"
          ],
          [
           "pub.1013871876"
          ],
          [
           "pub.1029979518"
          ],
          [
           "pub.1011854038"
          ],
          [
           "pub.1033108925"
          ],
          [
           "pub.1019705090"
          ],
          [
           "pub.1029649992"
          ],
          [
           "pub.1100248345"
          ],
          [
           "pub.1004602535"
          ],
          [
           "pub.1122753999"
          ],
          [
           "pub.1019376553"
          ],
          [
           "pub.1052968606"
          ],
          [
           "pub.1002495312"
          ],
          [
           "pub.1104374325"
          ],
          [
           "pub.1023206201"
          ],
          [
           "pub.1049492388"
          ],
          [
           "pub.1044581237"
          ],
          [
           "pub.1101561277"
          ],
          [
           "pub.1015524088"
          ],
          [
           "pub.1023297174"
          ],
          [
           "pub.1111565453"
          ],
          [
           "pub.1061934170"
          ],
          [
           "pub.1037107713"
          ],
          [
           "pub.1034672998"
          ],
          [
           "pub.1052527949"
          ],
          [
           "pub.1113705995"
          ],
          [
           "pub.1026369526"
          ],
          [
           "pub.1072974020"
          ],
          [
           "pub.1048939047"
          ],
          [
           "pub.1050772383"
          ],
          [
           "pub.1128580761"
          ],
          [
           "pub.1061934137"
          ],
          [
           "pub.1111976854"
          ],
          [
           "pub.1047356473"
          ],
          [
           "pub.1009744782"
          ],
          [
           "pub.1125099402"
          ],
          [
           "pub.1042117532"
          ],
          [
           "pub.1107587297"
          ],
          [
           "pub.1059570180"
          ],
          [
           "pub.1103810413"
          ],
          [
           "pub.1011757946"
          ],
          [
           "pub.1003364215"
          ],
          [
           "pub.1014664202"
          ],
          [
           "pub.1019951181"
          ],
          [
           "pub.1029572917"
          ],
          [
           "pub.1024929365"
          ],
          [
           "pub.1040677299"
          ],
          [
           "pub.1009832103"
          ],
          [
           "pub.1034625256"
          ],
          [
           "pub.1100466182"
          ],
          [
           "pub.1038072171"
          ],
          [
           "pub.1046534403"
          ],
          [
           "pub.1005629396"
          ],
          [
           "pub.1031075757"
          ],
          [
           "pub.1038778560"
          ],
          [
           "pub.1035387745"
          ],
          [
           "pub.1046826509"
          ],
          [
           "pub.1036002565"
          ],
          [
           "pub.1048709708"
          ],
          [
           "pub.1050276749"
          ],
          [
           "pub.1021666873"
          ],
          [
           "pub.1028529625"
          ],
          [
           "pub.1001343412"
          ],
          [
           "pub.1017225012"
          ],
          [
           "pub.1020647724"
          ],
          [
           "pub.1064567937"
          ],
          [
           "pub.1056221800"
          ],
          [
           "pub.1041771334"
          ],
          [
           "pub.1015833771"
          ],
          [
           "pub.1055504074"
          ],
          [
           "pub.1062447105"
          ],
          [
           "pub.1047132329"
          ],
          [
           "pub.1039641194"
          ],
          [
           "pub.1034007004"
          ],
          [
           "pub.1008013568"
          ],
          [
           "pub.1056143784"
          ],
          [
           "pub.1027828956"
          ],
          [
           "pub.1029482017"
          ],
          [
           "pub.1039713086"
          ],
          [
           "pub.1033416172"
          ],
          [
           "pub.1040077610"
          ],
          [
           "pub.1051411109"
          ],
          [
           "pub.1005792673"
          ],
          [
           "pub.1020673706"
          ],
          [
           "pub.1024367203"
          ],
          [
           "pub.1028058184"
          ],
          [
           "pub.1016714991"
          ],
          [
           "pub.1052990623"
          ],
          [
           "pub.1050579616"
          ],
          [
           "pub.1002703153"
          ],
          [
           "pub.1035623214"
          ],
          [
           "pub.1035909146"
          ],
          [
           "pub.1035474832"
          ],
          [
           "pub.1044670756"
          ],
          [
           "pub.1026661243"
          ],
          [
           "pub.1041163416"
          ],
          [
           "pub.1013655144"
          ],
          [
           "pub.1040302077"
          ],
          [
           "pub.1044430846"
          ],
          [
           "pub.1025760895"
          ],
          [
           "pub.1039601245"
          ],
          [
           "pub.1009246618"
          ],
          [
           "pub.1158048403"
          ],
          [
           "pub.1159957570"
          ],
          [
           "pub.1163801313"
          ],
          [
           "pub.1174552302"
          ],
          [
           "pub.1165045432"
          ],
          [
           "pub.1158362233"
          ],
          [
           "pub.1160686387"
          ],
          [
           "pub.1165052499"
          ],
          [
           "pub.1166074282"
          ],
          [
           "pub.1160324074"
          ],
          [
           "pub.1163986255"
          ],
          [
           "pub.1147833193"
          ],
          [
           "pub.1146620041"
          ],
          [
           "pub.1144465306"
          ],
          [
           "pub.1146009839"
          ],
          [
           "pub.1154888847"
          ],
          [
           "pub.1149826171"
          ],
          [
           "pub.1144054488"
          ],
          [
           "pub.1141876155"
          ],
          [
           "pub.1155457945"
          ],
          [
           "pub.1147021977"
          ],
          [
           "pub.1147054891"
          ],
          [
           "pub.1147185686"
          ],
          [
           "pub.1157586280"
          ],
          [
           "pub.1146288953"
          ],
          [
           "pub.1145696652"
          ],
          [
           "pub.1145043743"
          ],
          [
           "pub.1147293706"
          ],
          [
           "pub.1144827854"
          ],
          [
           "pub.1138791522"
          ],
          [
           "pub.1130180156"
          ],
          [
           "pub.1130342326"
          ],
          [
           "pub.1126001650"
          ],
          [
           "pub.1127953927"
          ],
          [
           "pub.1125842670"
          ],
          [
           "pub.1120098405"
          ],
          [
           "pub.1121161391"
          ],
          [
           "pub.1126155979"
          ],
          [
           "pub.1123270626"
          ],
          [
           "pub.1119922340"
          ],
          [
           "pub.1120216323"
          ],
          [
           "pub.1113285021"
          ],
          [
           "pub.1112019846"
          ],
          [
           "pub.1110525171"
          ],
          [
           "pub.1104201531"
          ],
          [
           "pub.1092868344"
          ],
          [
           "pub.1099594878"
          ],
          [
           "pub.1035930497"
          ],
          [
           "pub.1090587762"
          ],
          [
           "pub.1103540197"
          ],
          [
           "pub.1071706254"
          ],
          [
           "pub.1002243471"
          ],
          [
           "pub.1024780163"
          ],
          [
           "pub.1018121211"
          ],
          [
           "pub.1026334040"
          ],
          [
           "pub.1093378447"
          ],
          [
           "pub.1029079666"
          ],
          [
           "pub.1013525464"
          ],
          [
           "pub.1092850655"
          ],
          [
           "pub.1015425126"
          ],
          [
           "pub.1015228225"
          ],
          [
           "pub.1008996397"
          ],
          [
           "pub.1013561216"
          ],
          [
           "pub.1042065361"
          ],
          [
           "pub.1095085621"
          ],
          [
           "pub.1095382211"
          ],
          [
           "pub.1024210708"
          ],
          [
           "pub.1093463283"
          ],
          [
           "pub.1095264568"
          ],
          [
           "pub.1093507023"
          ],
          [
           "pub.1044514690"
          ],
          [
           "pub.1094225194"
          ],
          [
           "pub.1044290948"
          ],
          [
           "pub.1061324932"
          ],
          [
           "pub.1094830611"
          ],
          [
           "pub.1061632443"
          ],
          [
           "pub.1093357343"
          ],
          [
           "pub.1095490861"
          ],
          [
           "pub.1094970902"
          ],
          [
           "pub.1025765207"
          ],
          [
           "pub.1094969147"
          ],
          [
           "pub.1001751876"
          ],
          [
           "pub.1034508886"
          ],
          [
           "pub.1095382199"
          ],
          [
           "pub.1095770589"
          ],
          [
           "pub.1093739978"
          ],
          [
           "pub.1031978033"
          ],
          [
           "pub.1016352338"
          ],
          [
           "pub.1038434872"
          ],
          [
           "pub.1095255025"
          ],
          [
           "pub.1124148063"
          ],
          [
           "pub.1118735394"
          ],
          [
           "pub.1104338333"
          ],
          [
           "pub.1110363845"
          ],
          [
           "pub.1124081996"
          ],
          [
           "pub.1122515167"
          ],
          [
           "pub.1110420318"
          ],
          [
           "pub.1122519012"
          ],
          [
           "pub.1125166037"
          ],
          [
           "pub.1128852448"
          ],
          [
           "pub.1125925617"
          ],
          [
           "pub.1121194812"
          ],
          [
           "pub.1121628094"
          ],
          [
           "pub.1106394770"
          ],
          [
           "pub.1116154247"
          ],
          [
           "pub.1127250882"
          ],
          [
           "pub.1128716869"
          ],
          [
           "pub.1128479095"
          ],
          [
           "pub.1125166251"
          ],
          [
           "pub.1122235047"
          ],
          [
           "pub.1114352564"
          ],
          [
           "pub.1112862699"
          ],
          [
           "pub.1126481351"
          ],
          [
           "pub.1117920554"
          ],
          [
           "pub.1122596363"
          ],
          [
           "pub.1107023934"
          ],
          [
           "pub.1118023870"
          ],
          [
           "pub.1113065842"
          ],
          [
           "pub.1083507587"
          ],
          [
           "pub.1094646899"
          ],
          [
           "pub.1100673785"
          ],
          [
           "pub.1121932678"
          ],
          [
           "pub.1103977084"
          ],
          [
           "pub.1122068746"
          ],
          [
           "pub.1123810093"
          ],
          [
           "pub.1124436340"
          ],
          [
           "pub.1105144504"
          ],
          [
           "pub.1111503060"
          ],
          [
           "pub.1111269831"
          ],
          [
           "pub.1112087374"
          ],
          [
           "pub.1105021375"
          ],
          [
           "pub.1103323054"
          ],
          [
           "pub.1103481417"
          ],
          [
           "pub.1106034026"
          ],
          [
           "pub.1107298395"
          ],
          [
           "pub.1106284861"
          ],
          [
           "pub.1106988165"
          ],
          [
           "pub.1105035509"
          ],
          [
           "pub.1085732641"
          ],
          [
           "pub.1107925034"
          ],
          [
           "pub.1061334272"
          ],
          [
           "pub.1084919232"
          ],
          [
           "pub.1085640773"
          ],
          [
           "pub.1083753722"
          ],
          [
           "pub.1013313926"
          ],
          [
           "pub.1083415540"
          ],
          [
           "pub.1094483007"
          ],
          [
           "pub.1095777829"
          ],
          [
           "pub.1061614459"
          ],
          [
           "pub.1093448171"
          ],
          [
           "pub.1031921576"
          ],
          [
           "pub.1033490641"
          ],
          [
           "pub.1003896548"
          ],
          [
           "pub.1040894579"
          ],
          [
           "pub.1094154280"
          ],
          [
           "pub.1094455706"
          ],
          [
           "pub.1016061586"
          ],
          [
           "pub.1093670904"
          ],
          [
           "pub.1095337245"
          ],
          [
           "pub.1003708746"
          ],
          [
           "pub.1072842102"
          ],
          [
           "pub.1001065952"
          ],
          [
           "pub.1093207217"
          ],
          [
           "pub.1001894773"
          ],
          [
           "pub.1033258084"
          ],
          [
           "pub.1041052930"
          ],
          [
           "pub.1005691069"
          ],
          [
           "pub.1004965338"
          ],
          [
           "pub.1028808547"
          ],
          [
           "pub.1011532234"
          ]
         ],
         "hovertemplate": "Type=Bibliometric Analysis<br>Topic=%{x}<br>year=%{y}<br>Pub_id=%{customdata[0]}<extra></extra>",
         "legendgroup": "Bibliometric Analysis",
         "marker": {
          "color": "rgb(76,114,176)"
         },
         "name": "Bibliometric Analysis",
         "notched": false,
         "offsetgroup": "Bibliometric Analysis",
         "orientation": "v",
         "showlegend": true,
         "type": "box",
         "x": [
          "Synthetic Biology (2012)",
          "Synthetic Biology (2012)",
          "Synthetic Biology (2012)",
          "Synthetic Biology (2012)",
          "Synthetic Biology (2012)",
          "Synthetic Biology (2012)",
          "Synthetic Biology (2012)",
          "Synthetic Biology (2012)",
          "Synthetic Biology (2012)",
          "Synthetic Biology (2012)",
          "Synthetic Biology (2012)",
          "Synthetic Biology (2012)",
          "Synthetic Biology (2012)",
          "Synthetic Biology (2012)",
          "Synthetic Biology (2012)",
          "Synthetic Biology (2012)",
          "Synthetic Biology (2012)",
          "Synthetic Biology (2012)",
          "Synthetic Biology (2012)",
          "Synthetic Biology (2012)",
          "Synthetic Biology (2012)",
          "Synthetic Biology (2012)",
          "Synthetic Biology (2012)",
          "Synthetic Biology (2012)",
          "Synthetic Biology (2012)",
          "Synthetic Biology (2012)",
          "Synthetic Biology (2012)",
          "Synthetic Biology (2012)",
          "Synthetic Biology (2012)",
          "Resilience in Business and management (2015)",
          "Resilience in Business and management (2015)",
          "Resilience in Business and management (2015)",
          "Resilience in Business and management (2015)",
          "Resilience in Business and management (2015)",
          "Resilience in Business and management (2015)",
          "Resilience in Business and management (2015)",
          "Resilience in Business and management (2015)",
          "Resilience in Business and management (2015)",
          "Resilience in Business and management (2015)",
          "Resilience in Business and management (2015)",
          "Resilience in Business and management (2015)",
          "Resilience in Business and management (2015)",
          "Resilience in Business and management (2015)",
          "Resilience in Business and management (2015)",
          "Resilience in Business and management (2015)",
          "Resilience in Business and management (2015)",
          "Resilience in Business and management (2015)",
          "Resilience in Business and management (2015)",
          "Resilience in Business and management (2015)",
          "Resilience in Business and management (2015)",
          "Cervical Myelopathy (2018)",
          "Cervical Myelopathy (2018)",
          "Cervical Myelopathy (2018)",
          "Cervical Myelopathy (2018)",
          "Cervical Myelopathy (2018)",
          "Cervical Myelopathy (2018)",
          "Cervical Myelopathy (2018)",
          "Cervical Myelopathy (2018)",
          "Cervical Myelopathy (2018)",
          "Cervical Myelopathy (2018)",
          "Cervical Myelopathy (2018)",
          "Cervical Myelopathy (2018)",
          "Cervical Myelopathy (2018)",
          "Cervical Myelopathy (2018)",
          "Cervical Myelopathy (2018)",
          "Cervical Myelopathy (2018)",
          "Cervical Myelopathy (2018)",
          "Cervical Myelopathy (2018)",
          "Cervical Myelopathy (2018)",
          "Cervical Myelopathy (2018)",
          "Cervical Myelopathy (2018)",
          "Cervical Myelopathy (2018)",
          "Cervical Myelopathy (2018)",
          "Cervical Myelopathy (2018)",
          "Cervical Myelopathy (2018)",
          "Cervical Myelopathy (2018)",
          "Cervical Myelopathy (2018)",
          "Cervical Myelopathy (2018)",
          "Cervical Myelopathy (2018)",
          "Cervical Myelopathy (2018)",
          "Cervical Myelopathy (2018)",
          "Cervical Myelopathy (2018)",
          "Cervical Myelopathy (2018)",
          "Cervical Myelopathy (2018)",
          "Cervical Myelopathy (2018)",
          "Cervical Myelopathy (2018)",
          "Cervical Myelopathy (2018)",
          "Cervical Myelopathy (2018)",
          "Cervical Myelopathy (2018)",
          "Cervical Myelopathy (2018)",
          "Cervical Myelopathy (2018)",
          "Cervical Myelopathy (2018)",
          "Cervical Myelopathy (2018)",
          "Cervical Myelopathy (2018)",
          "Drones in Agriculture (2022)",
          "Drones in Agriculture (2022)",
          "Drones in Agriculture (2022)",
          "Drones in Agriculture (2022)",
          "Drones in Agriculture (2022)",
          "Drones in Agriculture (2022)",
          "Drones in Agriculture (2022)",
          "Drones in Agriculture (2022)",
          "Drones in Agriculture (2022)",
          "Drones in Agriculture (2022)",
          "Drones in Agriculture (2022)",
          "Drones in Agriculture (2022)",
          "Drones in Agriculture (2022)",
          "Drones in Agriculture (2022)",
          "Drones in Agriculture (2022)",
          "Drones in Agriculture (2022)",
          "Drones in Agriculture (2022)",
          "Drones in Agriculture (2022)",
          "Drones in Agriculture (2022)",
          "Drones in Agriculture (2022)",
          "Drones in Agriculture (2022)",
          "Drones in Agriculture (2022)",
          "Drones in Agriculture (2022)",
          "Robotic Arthroplasty (2023)",
          "Robotic Arthroplasty (2023)",
          "Robotic Arthroplasty (2023)",
          "Robotic Arthroplasty (2023)",
          "Robotic Arthroplasty (2023)",
          "Robotic Arthroplasty (2023)",
          "Robotic Arthroplasty (2023)",
          "Robotic Arthroplasty (2023)",
          "Robotic Arthroplasty (2023)",
          "Robotic Arthroplasty (2023)",
          "Robotic Arthroplasty (2023)",
          "Robotic Arthroplasty (2023)",
          "Robotic Arthroplasty (2023)",
          "Robotic Arthroplasty (2023)",
          "Robotic Arthroplasty (2023)",
          "Robotic Arthroplasty (2023)",
          "Robotic Arthroplasty (2023)",
          "Robotic Arthroplasty (2023)",
          "Robotic Arthroplasty (2023)",
          "Robotic Arthroplasty (2023)",
          "Robotic Arthroplasty (2023)",
          "Robotic Arthroplasty (2023)",
          "Robotic Arthroplasty (2023)",
          "Robotic Arthroplasty (2023)",
          "Robotic Arthroplasty (2023)",
          "Robotic Arthroplasty (2023)",
          "Robotic Arthroplasty (2023)",
          "Robotic Arthroplasty (2023)",
          "Robotic Arthroplasty (2023)",
          "Robotic Arthroplasty (2023)",
          "Robotic Arthroplasty (2023)",
          "Robotic Arthroplasty (2023)",
          "Robotic Arthroplasty (2023)",
          "Robotic Arthroplasty (2023)",
          "Robotic Arthroplasty (2023)",
          "Robotic Arthroplasty (2023)",
          "Robotic Arthroplasty (2023)",
          "Robotic Arthroplasty (2023)",
          "Robotic Arthroplasty (2023)",
          "Robotic Arthroplasty (2023)",
          "Robotic Arthroplasty (2023)",
          "Robotic Arthroplasty (2023)",
          "Robotic Arthroplasty (2023)",
          "Robotic Arthroplasty (2023)",
          "Robotic Arthroplasty (2023)",
          "Robotic Arthroplasty (2023)",
          "Robotic Arthroplasty (2023)",
          "Soft Robotics (2018)",
          "Soft Robotics (2018)",
          "Soft Robotics (2018)",
          "Soft Robotics (2018)",
          "Soft Robotics (2018)",
          "Soft Robotics (2018)",
          "Soft Robotics (2018)",
          "Soft Robotics (2018)",
          "Soft Robotics (2018)",
          "Soft Robotics (2018)",
          "Soft Robotics (2018)",
          "Soft Robotics (2018)",
          "Soft Robotics (2018)",
          "Soft Robotics (2018)",
          "Soft Robotics (2018)",
          "Soft Robotics (2018)",
          "Soft Robotics (2018)",
          "Soft Robotics (2018)",
          "Soft Robotics (2018)",
          "Soft Robotics (2018)",
          "Soft Robotics (2018)",
          "Soft Robotics (2018)",
          "Soft Robotics (2018)",
          "Soft Robotics (2018)",
          "Soft Robotics (2018)",
          "Soft Robotics (2018)",
          "Soft Robotics (2018)",
          "Soft Robotics (2018)",
          "Soft Robotics (2018)",
          "Soft Robotics (2018)",
          "Soft Robotics (2018)",
          "Soft Robotics (2018)",
          "Soft Robotics (2018)",
          "Tourism Growth Nexus (2020)",
          "Tourism Growth Nexus (2020)",
          "Tourism Growth Nexus (2020)",
          "Tourism Growth Nexus (2020)",
          "Tourism Growth Nexus (2020)",
          "Tourism Growth Nexus (2020)",
          "Tourism Growth Nexus (2020)",
          "Tourism Growth Nexus (2020)",
          "Tourism Growth Nexus (2020)",
          "Tourism Growth Nexus (2020)",
          "Tourism Growth Nexus (2020)",
          "Tourism Growth Nexus (2020)",
          "Tourism Growth Nexus (2020)",
          "Tourism Growth Nexus (2020)",
          "Tourism Growth Nexus (2020)",
          "Tourism Growth Nexus (2020)",
          "Tourism Growth Nexus (2020)",
          "Tourism Growth Nexus (2020)",
          "Tourism Growth Nexus (2020)",
          "Tourism Growth Nexus (2020)",
          "Tourism Growth Nexus (2020)",
          "Tourism Growth Nexus (2020)",
          "Tourism Growth Nexus (2020)",
          "Tourism Growth Nexus (2020)",
          "Tourism Growth Nexus (2020)",
          "Sustainable Biofuel Economy (2023)",
          "Sustainable Biofuel Economy (2023)",
          "Sustainable Biofuel Economy (2023)",
          "Sustainable Biofuel Economy (2023)",
          "Sustainable Biofuel Economy (2023)",
          "Sustainable Biofuel Economy (2023)",
          "Sustainable Biofuel Economy (2023)",
          "Sustainable Biofuel Economy (2023)",
          "Sustainable Biofuel Economy (2023)",
          "Sustainable Biofuel Economy (2023)",
          "Sustainable Biofuel Economy (2023)",
          "Sustainable Biofuel Economy (2023)",
          "Sustainable Biofuel Economy (2023)",
          "Sustainable Biofuel Economy (2023)",
          "Sustainable Biofuel Economy (2023)",
          "Sustainable Biofuel Economy (2023)",
          "Sustainable Biofuel Economy (2023)",
          "Sustainable Biofuel Economy (2023)",
          "Sustainable Biofuel Economy (2023)",
          "Sustainable Biofuel Economy (2023)",
          "Sustainable Biofuel Economy (2023)",
          "Sustainable Biofuel Economy (2023)",
          "Sustainable Biofuel Economy (2023)",
          "Sustainable Biofuel Economy (2023)",
          "Sustainable Biofuel Economy (2023)",
          "Sustainable Biofuel Economy (2023)",
          "Sustainable Biofuel Economy (2023)",
          "Sustainable Biofuel Economy (2023)",
          "Sustainable Biofuel Economy (2023)",
          "Sustainable Biofuel Economy (2023)",
          "Sustainable Biofuel Economy (2023)",
          "Sustainable Biofuel Economy (2023)",
          "Sustainable Biofuel Economy (2023)",
          "Sustainable Biofuel Economy (2023)",
          "Sustainable Biofuel Economy (2023)",
          "Sustainable Biofuel Economy (2023)",
          "Sustainable Biofuel Economy (2023)",
          "Sustainable Biofuel Economy (2023)",
          "Sustainable Biofuel Economy (2023)",
          "Sustainable Biofuel Economy (2023)",
          "Sustainable Biofuel Economy (2023)",
          "Sustainable Biofuel Economy (2023)",
          "Sustainable Biofuel Economy (2023)",
          "Sustainable Biofuel Economy (2023)",
          "Sustainable Biofuel Economy (2023)",
          "Sustainable Biofuel Economy (2023)",
          "Sustainable Biofuel Economy (2023)",
          "Sustainable Biofuel Economy (2023)",
          "Nanopharmaceuticals OR Nanonutraceuticals (2020)",
          "Nanopharmaceuticals OR Nanonutraceuticals (2020)",
          "Nanopharmaceuticals OR Nanonutraceuticals (2020)",
          "Nanopharmaceuticals OR Nanonutraceuticals (2020)",
          "Nanopharmaceuticals OR Nanonutraceuticals (2020)",
          "Nanopharmaceuticals OR Nanonutraceuticals (2020)",
          "Nanopharmaceuticals OR Nanonutraceuticals (2020)",
          "Nanopharmaceuticals OR Nanonutraceuticals (2020)",
          "Nanopharmaceuticals OR Nanonutraceuticals (2020)",
          "Nanopharmaceuticals OR Nanonutraceuticals (2020)",
          "Nanopharmaceuticals OR Nanonutraceuticals (2020)",
          "Nanopharmaceuticals OR Nanonutraceuticals (2020)",
          "Nanopharmaceuticals OR Nanonutraceuticals (2020)",
          "Nanopharmaceuticals OR Nanonutraceuticals (2020)",
          "Nanopharmaceuticals OR Nanonutraceuticals (2020)",
          "Nanopharmaceuticals OR Nanonutraceuticals (2020)",
          "Nanopharmaceuticals OR Nanonutraceuticals (2020)",
          "Nanopharmaceuticals OR Nanonutraceuticals (2020)",
          "Nanopharmaceuticals OR Nanonutraceuticals (2020)",
          "Nanopharmaceuticals OR Nanonutraceuticals (2020)",
          "Nanopharmaceuticals OR Nanonutraceuticals (2020)",
          "Nanopharmaceuticals OR Nanonutraceuticals (2020)",
          "Nanopharmaceuticals OR Nanonutraceuticals (2020)",
          "Nanopharmaceuticals OR Nanonutraceuticals (2020)",
          "Nanopharmaceuticals OR Nanonutraceuticals (2020)",
          "Nanopharmaceuticals OR Nanonutraceuticals (2020)",
          "Nanopharmaceuticals OR Nanonutraceuticals (2020)",
          "Nanopharmaceuticals OR Nanonutraceuticals (2020)",
          "Nanopharmaceuticals OR Nanonutraceuticals (2020)",
          "Nanopharmaceuticals OR Nanonutraceuticals (2020)",
          "Nanopharmaceuticals OR Nanonutraceuticals (2020)",
          "Nanopharmaceuticals OR Nanonutraceuticals (2020)",
          "Nanopharmaceuticals OR Nanonutraceuticals (2020)",
          "Nanopharmaceuticals OR Nanonutraceuticals (2020)",
          "Nanopharmaceuticals OR Nanonutraceuticals (2020)",
          "Nanopharmaceuticals OR Nanonutraceuticals (2020)",
          "Nanopharmaceuticals OR Nanonutraceuticals (2020)",
          "Nanopharmaceuticals OR Nanonutraceuticals (2020)",
          "Nanopharmaceuticals OR Nanonutraceuticals (2020)",
          "Nanopharmaceuticals OR Nanonutraceuticals (2020)",
          "Nanopharmaceuticals OR Nanonutraceuticals (2020)",
          "Nanopharmaceuticals OR Nanonutraceuticals (2020)",
          "Nanopharmaceuticals OR Nanonutraceuticals (2020)",
          "Nanopharmaceuticals OR Nanonutraceuticals (2020)",
          "Nanopharmaceuticals OR Nanonutraceuticals (2020)",
          "Nanopharmaceuticals OR Nanonutraceuticals (2020)",
          "Nanopharmaceuticals OR Nanonutraceuticals (2020)",
          "Nanopharmaceuticals OR Nanonutraceuticals (2020)",
          "Nanopharmaceuticals OR Nanonutraceuticals (2020)",
          "Nanopharmaceuticals OR Nanonutraceuticals (2020)",
          "Perovskite Solar Cells Stability (2024)",
          "Perovskite Solar Cells Stability (2024)",
          "Perovskite Solar Cells Stability (2024)",
          "Perovskite Solar Cells Stability (2024)",
          "Perovskite Solar Cells Stability (2024)",
          "Perovskite Solar Cells Stability (2024)",
          "Perovskite Solar Cells Stability (2024)",
          "Perovskite Solar Cells Stability (2024)",
          "Perovskite Solar Cells Stability (2024)",
          "Perovskite Solar Cells Stability (2024)",
          "Perovskite Solar Cells Stability (2024)",
          "Perovskite Solar Cells Stability (2024)",
          "Perovskite Solar Cells Stability (2024)",
          "Perovskite Solar Cells Stability (2024)",
          "Perovskite Solar Cells Stability (2024)",
          "Perovskite Solar Cells Stability (2024)",
          "Perovskite Solar Cells Stability (2024)",
          "Perovskite Solar Cells Stability (2024)",
          "Perovskite Solar Cells Stability (2024)",
          "Perovskite Solar Cells Stability (2024)",
          "Perovskite Solar Cells Stability (2024)",
          "Perovskite Solar Cells Stability (2024)",
          "Perovskite Solar Cells Stability (2024)",
          "Perovskite Solar Cells Stability (2024)",
          "Perovskite Solar Cells Stability (2024)",
          "Perovskite Solar Cells Stability (2024)",
          "Perovskite Solar Cells Stability (2024)",
          "Perovskite Solar Cells Stability (2024)",
          "Perovskite Solar Cells Stability (2024)",
          "Green Warehousing (2023)",
          "Green Warehousing (2023)",
          "Green Warehousing (2023)",
          "Green Warehousing (2023)",
          "Green Warehousing (2023)",
          "Green Warehousing (2023)",
          "Green Warehousing (2023)",
          "Green Warehousing (2023)",
          "Green Warehousing (2023)",
          "Green Warehousing (2023)",
          "Green Warehousing (2023)",
          "Green Warehousing (2023)",
          "Green Warehousing (2023)",
          "Green Warehousing (2023)",
          "Green Warehousing (2023)",
          "Green Warehousing (2023)",
          "Green Warehousing (2023)",
          "Green Warehousing (2023)",
          "Green Warehousing (2023)",
          "Green Warehousing (2023)",
          "Green Warehousing (2023)",
          "Green Warehousing (2023)",
          "Green Warehousing (2023)",
          "Green Warehousing (2023)",
          "Green Warehousing (2023)",
          "Green Warehousing (2023)",
          "Green Warehousing (2023)",
          "Green Warehousing (2023)",
          "Green Warehousing (2023)",
          "Green Warehousing (2023)",
          "Green Warehousing (2023)",
          "Green Warehousing (2023)",
          "Green Warehousing (2023)",
          "Green Warehousing (2023)",
          "Internet of Things in Healthcare (2018)",
          "Internet of Things in Healthcare (2018)",
          "Internet of Things in Healthcare (2018)",
          "Internet of Things in Healthcare (2018)",
          "Internet of Things in Healthcare (2018)",
          "Internet of Things in Healthcare (2018)",
          "Internet of Things in Healthcare (2018)",
          "Internet of Things in Healthcare (2018)",
          "Internet of Things in Healthcare (2018)",
          "Internet of Things in Healthcare (2018)",
          "Internet of Things in Healthcare (2018)",
          "Internet of Things in Healthcare (2018)",
          "Internet of Things in Healthcare (2018)",
          "Internet of Things in Healthcare (2018)",
          "Internet of Things in Healthcare (2018)",
          "Internet of Things in Healthcare (2018)",
          "Internet of Things in Healthcare (2018)",
          "Internet of Things in Healthcare (2018)",
          "Internet of Things in Healthcare (2018)",
          "Internet of Things in Healthcare (2018)",
          "Internet of Things in Healthcare (2018)",
          "Internet of Things in Healthcare (2018)",
          "Internet of Things in Healthcare (2018)",
          "Internet of Things in Healthcare (2018)",
          "Internet of Things in Healthcare (2018)",
          "Internet of Things in Healthcare (2018)",
          "Internet of Things in Healthcare (2018)",
          "AI on Edge Devices (2022)",
          "AI on Edge Devices (2022)",
          "AI on Edge Devices (2022)",
          "AI on Edge Devices (2022)",
          "AI on Edge Devices (2022)",
          "AI on Edge Devices (2022)",
          "AI on Edge Devices (2022)",
          "AI on Edge Devices (2022)",
          "AI on Edge Devices (2022)",
          "AI on Edge Devices (2022)",
          "AI on Edge Devices (2022)",
          "AI on Edge Devices (2022)",
          "AI on Edge Devices (2022)",
          "AI on Edge Devices (2022)",
          "AI on Edge Devices (2022)",
          "AI on Edge Devices (2022)",
          "AI on Edge Devices (2022)",
          "AI on Edge Devices (2022)",
          "AI on Edge Devices (2022)",
          "AI on Edge Devices (2022)",
          "AI on Edge Devices (2022)",
          "AI on Edge Devices (2022)",
          "AI on Edge Devices (2022)",
          "AI on Edge Devices (2022)",
          "AI on Edge Devices (2022)",
          "AI on Edge Devices (2022)",
          "AI on Edge Devices (2022)",
          "AI on Edge Devices (2022)",
          "AI on Edge Devices (2022)",
          "AI on Edge Devices (2022)",
          "AI on Edge Devices (2022)",
          "AI on Edge Devices (2022)",
          "AI on Edge Devices (2022)",
          "AI on Edge Devices (2022)",
          "AI on Edge Devices (2022)",
          "AI on Edge Devices (2022)",
          "Crop Yield Prediction (2020)",
          "Crop Yield Prediction (2020)",
          "Crop Yield Prediction (2020)",
          "Crop Yield Prediction (2020)",
          "Crop Yield Prediction (2020)",
          "Crop Yield Prediction (2020)",
          "Crop Yield Prediction (2020)",
          "Crop Yield Prediction (2020)",
          "Crop Yield Prediction (2020)",
          "Crop Yield Prediction (2020)",
          "Crop Yield Prediction (2020)",
          "Crop Yield Prediction (2020)",
          "Crop Yield Prediction (2020)",
          "Crop Yield Prediction (2020)",
          "Crop Yield Prediction (2020)",
          "Crop Yield Prediction (2020)",
          "Crop Yield Prediction (2020)",
          "Crop Yield Prediction (2020)",
          "Crop Yield Prediction (2020)",
          "Crop Yield Prediction (2020)",
          "Crop Yield Prediction (2020)",
          "Crop Yield Prediction (2020)",
          "Crop Yield Prediction (2020)",
          "Crop Yield Prediction (2020)",
          "Crop Yield Prediction (2020)",
          "Crop Yield Prediction (2020)",
          "Crop Yield Prediction (2020)",
          "Crop Yield Prediction (2020)",
          "Crop Yield Prediction (2020)",
          "Crop Yield Prediction (2020)",
          "Crop Yield Prediction (2020)",
          "Crop Yield Prediction (2020)",
          "Crop Yield Prediction (2020)",
          "Crop Yield Prediction (2020)",
          "Crop Yield Prediction (2020)",
          "Crop Yield Prediction (2020)",
          "Crop Yield Prediction (2020)",
          "Crop Yield Prediction (2020)",
          "Crop Yield Prediction (2020)",
          "Crop Yield Prediction (2020)",
          "Crop Yield Prediction (2020)",
          "Crop Yield Prediction (2020)",
          "Crop Yield Prediction (2020)",
          "Crop Yield Prediction (2020)"
         ],
         "x0": " ",
         "xaxis": "x",
         "y": [
          2004,
          2002,
          2003,
          2008,
          2005,
          2000,
          2000,
          2005,
          2006,
          2008,
          2005,
          2005,
          2002,
          2006,
          2003,
          2009,
          2002,
          2004,
          2000,
          2002,
          2004,
          2002,
          2005,
          2008,
          2009,
          2010,
          2004,
          2009,
          2005,
          1982,
          2002,
          2002,
          2002,
          2005,
          2004,
          2003,
          2006,
          2006,
          2007,
          2007,
          2007,
          2007,
          2008,
          2009,
          2009,
          2009,
          2010,
          2011,
          2010,
          2010,
          1994,
          2004,
          1998,
          1993,
          2007,
          1983,
          1999,
          1994,
          1999,
          1999,
          2003,
          1985,
          1993,
          1989,
          1983,
          1985,
          2000,
          2001,
          1990,
          2002,
          2003,
          2002,
          2007,
          1992,
          2000,
          2001,
          1991,
          1997,
          1995,
          1989,
          2003,
          1997,
          2011,
          2006,
          1991,
          2002,
          2001,
          2003,
          2001,
          1985,
          2001,
          2003,
          1991,
          1996,
          2008,
          2004,
          2010,
          2009,
          2008,
          2005,
          2010,
          2019,
          2017,
          2015,
          2013,
          2012,
          2009,
          2015,
          2015,
          2015,
          2011,
          2015,
          2013,
          2017,
          2014,
          2014,
          2017,
          2018,
          2016,
          2018,
          2019,
          2014,
          2009,
          2015,
          2017,
          2017,
          2006,
          2017,
          1995,
          2018,
          2015,
          2019,
          2018,
          2016,
          2017,
          2013,
          2018,
          2009,
          2015,
          2017,
          2018,
          2017,
          2013,
          2011,
          2003,
          2007,
          2007,
          2019,
          2013,
          2018,
          2007,
          2011,
          2011,
          2001,
          2009,
          2013,
          2003,
          2013,
          2002,
          2016,
          2016,
          1998,
          2006,
          1998,
          2017,
          2017,
          2017,
          2016,
          2016,
          2016,
          2016,
          2015,
          2015,
          2015,
          2015,
          2015,
          2014,
          2013,
          2014,
          2014,
          2012,
          2012,
          2011,
          2011,
          2010,
          2009,
          2009,
          2008,
          1999,
          2013,
          2008,
          2009,
          2013,
          2010,
          2012,
          2011,
          2007,
          2010,
          2013,
          2013,
          2012,
          2009,
          2015,
          2013,
          2018,
          2009,
          2017,
          2014,
          2011,
          2015,
          2004,
          2011,
          2005,
          2016,
          2015,
          2013,
          2004,
          2009,
          2005,
          2005,
          2002,
          2008,
          2010,
          2007,
          2013,
          2018,
          2012,
          2020,
          2009,
          2014,
          2012,
          2018,
          2012,
          2009,
          2017,
          2018,
          2014,
          2008,
          2019,
          2009,
          2007,
          2010,
          2013,
          2019,
          2010,
          2010,
          2010,
          2014,
          2020,
          2009,
          2019,
          2013,
          2009,
          2020,
          2010,
          2019,
          2008,
          2018,
          2017,
          2012,
          2009,
          2015,
          2014,
          2015,
          2010,
          2013,
          2007,
          2018,
          2011,
          2009,
          2010,
          2005,
          2004,
          2006,
          2008,
          2012,
          2013,
          1999,
          2006,
          2008,
          2006,
          1999,
          2003,
          2006,
          2009,
          2012,
          2008,
          2012,
          2003,
          2005,
          2006,
          2004,
          2011,
          2002,
          2005,
          2000,
          2002,
          2010,
          2011,
          2009,
          2010,
          2005,
          2006,
          2008,
          2003,
          2007,
          2010,
          2007,
          2002,
          2010,
          2007,
          2007,
          2008,
          2007,
          2010,
          2009,
          2007,
          2004,
          2004,
          2006,
          2023,
          2023,
          2023,
          2024,
          2023,
          2023,
          2023,
          2023,
          2023,
          2023,
          2023,
          2022,
          2022,
          2022,
          2022,
          2023,
          2022,
          2021,
          2021,
          2023,
          2022,
          2022,
          2022,
          2023,
          2022,
          2022,
          2022,
          2022,
          2022,
          2021,
          2020,
          2020,
          2020,
          2020,
          2020,
          2020,
          2020,
          2020,
          2019,
          2019,
          2019,
          2019,
          2018,
          2018,
          2018,
          2018,
          2017,
          2016,
          2017,
          2016,
          2016,
          2014,
          2015,
          2015,
          2015,
          2013,
          2013,
          2014,
          2013,
          2011,
          2011,
          2009,
          2008,
          2015,
          2015,
          2016,
          2015,
          2012,
          2015,
          2016,
          2016,
          2014,
          2016,
          2016,
          2016,
          2014,
          2015,
          2014,
          2014,
          2015,
          2015,
          2016,
          2016,
          2012,
          2015,
          2015,
          2016,
          2016,
          2016,
          2015,
          2020,
          2017,
          2018,
          2018,
          2019,
          2019,
          2018,
          2019,
          2019,
          2020,
          2020,
          2019,
          2019,
          2018,
          2019,
          2020,
          2020,
          2020,
          2019,
          2019,
          2019,
          2019,
          2020,
          2019,
          2019,
          2018,
          2019,
          2019,
          2018,
          2015,
          2018,
          2019,
          2018,
          2019,
          2019,
          2020,
          2018,
          2019,
          2019,
          2019,
          2018,
          2018,
          2018,
          2018,
          2018,
          2018,
          2018,
          2018,
          2017,
          2018,
          2016,
          2016,
          2017,
          2017,
          2017,
          2017,
          2016,
          2016,
          2016,
          2016,
          2016,
          2016,
          2016,
          2016,
          2015,
          2015,
          2014,
          2014,
          2014,
          2014,
          2014,
          2014,
          2013,
          2013,
          2016,
          2012,
          2011,
          2010,
          2009,
          2008
         ],
         "y0": " ",
         "yaxis": "y"
        },
        {
         "alignmentgroup": "True",
         "boxpoints": "all",
         "customdata": [
          [
           "pub.1049196757"
          ],
          [
           "pub.1030802993"
          ],
          [
           "pub.1047709746"
          ],
          [
           "pub.1093698709"
          ],
          [
           "pub.1008187633"
          ],
          [
           "pub.1050026341"
          ],
          [
           "pub.1007551255"
          ],
          [
           "pub.1044176397"
          ],
          [
           "pub.1095285212"
          ],
          [
           "pub.1095507755"
          ],
          [
           "pub.1094407996"
          ],
          [
           "pub.1002692059"
          ],
          [
           "pub.1094372965"
          ],
          [
           "pub.1095083693"
          ],
          [
           "pub.1093832512"
          ],
          [
           "pub.1021871976"
          ],
          [
           "pub.1093480635"
          ],
          [
           "pub.1033018638"
          ],
          [
           "pub.1094703784"
          ],
          [
           "pub.1043851254"
          ],
          [
           "pub.1062959772"
          ],
          [
           "pub.1036866528"
          ],
          [
           "pub.1050251793"
          ],
          [
           "pub.1000719345"
          ],
          [
           "pub.1029370861"
          ],
          [
           "pub.1094563585"
          ],
          [
           "pub.1038922413"
          ],
          [
           "pub.1107809783"
          ],
          [
           "pub.1106070091"
          ],
          [
           "pub.1104018773"
          ],
          [
           "pub.1110365318"
          ],
          [
           "pub.1094827284"
          ],
          [
           "pub.1093611620"
          ],
          [
           "pub.1085997260"
          ],
          [
           "pub.1091160240"
          ],
          [
           "pub.1023915518"
          ],
          [
           "pub.1103991503"
          ],
          [
           "pub.1086071207"
          ],
          [
           "pub.1042603016"
          ],
          [
           "pub.1018598520"
          ],
          [
           "pub.1012606071"
          ],
          [
           "pub.1044962254"
          ],
          [
           "pub.1043395206"
          ],
          [
           "pub.1015991543"
          ],
          [
           "pub.1005124287"
          ],
          [
           "pub.1106923111"
          ],
          [
           "pub.1040187607"
          ],
          [
           "pub.1092569607"
          ],
          [
           "pub.1106072382"
          ],
          [
           "pub.1047880318"
          ],
          [
           "pub.1053223966"
          ],
          [
           "pub.1098870698"
          ],
          [
           "pub.1007287400"
          ],
          [
           "pub.1004391931"
          ],
          [
           "pub.1022138468"
          ],
          [
           "pub.1047717752"
          ],
          [
           "pub.1011754334"
          ],
          [
           "pub.1028394848"
          ],
          [
           "pub.1061716021"
          ],
          [
           "pub.1107307625"
          ],
          [
           "pub.1095129896"
          ],
          [
           "pub.1051953792"
          ],
          [
           "pub.1027552609"
          ],
          [
           "pub.1085044268"
          ],
          [
           "pub.1003923740"
          ],
          [
           "pub.1019780188"
          ],
          [
           "pub.1053737749"
          ],
          [
           "pub.1017589856"
          ],
          [
           "pub.1051363944"
          ],
          [
           "pub.1026868921"
          ],
          [
           "pub.1020294488"
          ],
          [
           "pub.1028489924"
          ],
          [
           "pub.1017108908"
          ],
          [
           "pub.1091198101"
          ],
          [
           "pub.1105021384"
          ],
          [
           "pub.1038952871"
          ],
          [
           "pub.1046421221"
          ],
          [
           "pub.1022055976"
          ],
          [
           "pub.1015987089"
          ],
          [
           "pub.1020410305"
          ],
          [
           "pub.1000213201"
          ],
          [
           "pub.1091641317"
          ],
          [
           "pub.1091508847"
          ],
          [
           "pub.1011592440"
          ],
          [
           "pub.1027575106"
          ],
          [
           "pub.1019059277"
          ],
          [
           "pub.1002873060"
          ],
          [
           "pub.1003323638"
          ],
          [
           "pub.1009920573"
          ],
          [
           "pub.1023581144"
          ],
          [
           "pub.1021765870"
          ],
          [
           "pub.1027453968"
          ],
          [
           "pub.1019477087"
          ],
          [
           "pub.1009990370"
          ],
          [
           "pub.1002953010"
          ],
          [
           "pub.1050319886"
          ],
          [
           "pub.1045321562"
          ],
          [
           "pub.1043780503"
          ],
          [
           "pub.1047534361"
          ],
          [
           "pub.1009745429"
          ],
          [
           "pub.1087132733"
          ],
          [
           "pub.1090317520"
          ],
          [
           "pub.1105056307"
          ],
          [
           "pub.1006491994"
          ],
          [
           "pub.1052895230"
          ],
          [
           "pub.1110301891"
          ],
          [
           "pub.1084731217"
          ],
          [
           "pub.1086073267"
          ],
          [
           "pub.1025884987"
          ],
          [
           "pub.1093214085"
          ],
          [
           "pub.1095475458"
          ],
          [
           "pub.1047113209"
          ],
          [
           "pub.1008876262"
          ],
          [
           "pub.1036461743"
          ],
          [
           "pub.1010483144"
          ],
          [
           "pub.1006163752"
          ],
          [
           "pub.1016839878"
          ],
          [
           "pub.1008663385"
          ],
          [
           "pub.1013367507"
          ],
          [
           "pub.1053416319"
          ],
          [
           "pub.1009455055"
          ],
          [
           "pub.1095792619"
          ],
          [
           "pub.1095376931"
          ],
          [
           "pub.1093446551"
          ],
          [
           "pub.1051544866"
          ],
          [
           "pub.1116305779"
          ],
          [
           "pub.1029836641"
          ],
          [
           "pub.1094447170"
          ],
          [
           "pub.1061421075"
          ],
          [
           "pub.1061399768"
          ],
          [
           "pub.1036049428"
          ],
          [
           "pub.1004373119"
          ],
          [
           "pub.1074245157"
          ],
          [
           "pub.1094223098"
          ],
          [
           "pub.1021257745"
          ],
          [
           "pub.1041687543"
          ],
          [
           "pub.1027518140"
          ],
          [
           "pub.1061423303"
          ],
          [
           "pub.1094231277"
          ],
          [
           "pub.1053016373"
          ],
          [
           "pub.1016245318"
          ],
          [
           "pub.1031284348"
          ],
          [
           "pub.1037936517"
          ],
          [
           "pub.1039682850"
          ],
          [
           "pub.1095570190"
          ],
          [
           "pub.1027165238"
          ],
          [
           "pub.1094511177"
          ],
          [
           "pub.1047632364"
          ],
          [
           "pub.1119355454"
          ],
          [
           "pub.1119340740"
          ],
          [
           "pub.1095265173"
          ],
          [
           "pub.1063202943"
          ],
          [
           "pub.1093861837"
          ],
          [
           "pub.1094182579"
          ],
          [
           "pub.1061753868"
          ],
          [
           "pub.1052167219"
          ],
          [
           "pub.1094355382"
          ],
          [
           "pub.1061408760"
          ],
          [
           "pub.1094505139"
          ],
          [
           "pub.1094808840"
          ],
          [
           "pub.1119463839"
          ],
          [
           "pub.1093694541"
          ],
          [
           "pub.1094203398"
          ],
          [
           "pub.1093422882"
          ],
          [
           "pub.1026275219"
          ],
          [
           "pub.1094635108"
          ],
          [
           "pub.1095459235"
          ],
          [
           "pub.1095784692"
          ],
          [
           "pub.1093590373"
          ],
          [
           "pub.1015329134"
          ],
          [
           "pub.1095092589"
          ],
          [
           "pub.1031146575"
          ],
          [
           "pub.1029470968"
          ],
          [
           "pub.1094056660"
          ],
          [
           "pub.1095101569"
          ],
          [
           "pub.1017004215"
          ],
          [
           "pub.1027646047"
          ],
          [
           "pub.1063158434"
          ],
          [
           "pub.1095280257"
          ],
          [
           "pub.1095624517"
          ],
          [
           "pub.1061154182"
          ],
          [
           "pub.1061154197"
          ],
          [
           "pub.1094566044"
          ],
          [
           "pub.1094661240"
          ],
          [
           "pub.1093776808"
          ],
          [
           "pub.1094303700"
          ],
          [
           "pub.1094349395"
          ],
          [
           "pub.1093506486"
          ],
          [
           "pub.1061154618"
          ],
          [
           "pub.1095336786"
          ],
          [
           "pub.1094791278"
          ],
          [
           "pub.1093396093"
          ],
          [
           "pub.1061154750"
          ],
          [
           "pub.1061788213"
          ],
          [
           "pub.1094902607"
          ],
          [
           "pub.1093519125"
          ],
          [
           "pub.1094933957"
          ],
          [
           "pub.1094572706"
          ],
          [
           "pub.1061788438"
          ],
          [
           "pub.1005717752"
          ],
          [
           "pub.1095448393"
          ],
          [
           "pub.1061788513"
          ],
          [
           "pub.1093266454"
          ],
          [
           "pub.1061788591"
          ],
          [
           "pub.1095418072"
          ],
          [
           "pub.1061788629"
          ],
          [
           "pub.1093292255"
          ],
          [
           "pub.1095355101"
          ],
          [
           "pub.1061788604"
          ],
          [
           "pub.1061788656"
          ],
          [
           "pub.1094238526"
          ],
          [
           "pub.1031519727"
          ],
          [
           "pub.1048522318"
          ],
          [
           "pub.1022710599"
          ],
          [
           "pub.1095559062"
          ],
          [
           "pub.1095317546"
          ],
          [
           "pub.1095132962"
          ],
          [
           "pub.1093362345"
          ],
          [
           "pub.1094242278"
          ],
          [
           "pub.1094738621"
          ],
          [
           "pub.1093856281"
          ],
          [
           "pub.1095496474"
          ],
          [
           "pub.1094464848"
          ],
          [
           "pub.1093508390"
          ],
          [
           "pub.1093246157"
          ],
          [
           "pub.1094870261"
          ],
          [
           "pub.1093463018"
          ],
          [
           "pub.1038168456"
          ],
          [
           "pub.1016640320"
          ],
          [
           "pub.1044795300"
          ],
          [
           "pub.1049597330"
          ],
          [
           "pub.1030311613"
          ],
          [
           "pub.1030916580"
          ],
          [
           "pub.1061798146"
          ],
          [
           "pub.1095749524"
          ],
          [
           "pub.1040067116"
          ],
          [
           "pub.1016659627"
          ],
          [
           "pub.1032338646"
          ],
          [
           "pub.1061788822"
          ],
          [
           "pub.1009020017"
          ],
          [
           "pub.1006992827"
          ],
          [
           "pub.1029996552"
          ],
          [
           "pub.1093583251"
          ],
          [
           "pub.1061788851"
          ],
          [
           "pub.1050027319"
          ],
          [
           "pub.1061795697"
          ],
          [
           "pub.1026182535"
          ],
          [
           "pub.1014268670"
          ],
          [
           "pub.1061662354"
          ],
          [
           "pub.1061783611"
          ],
          [
           "pub.1061798471"
          ],
          [
           "pub.1041664266"
          ],
          [
           "pub.1027402804"
          ],
          [
           "pub.1061783588"
          ],
          [
           "pub.1093218381"
          ],
          [
           "pub.1061788960"
          ],
          [
           "pub.1061789009"
          ],
          [
           "pub.1061783724"
          ],
          [
           "pub.1014545963"
          ],
          [
           "pub.1061789060"
          ],
          [
           "pub.1028857888"
          ],
          [
           "pub.1093454342"
          ],
          [
           "pub.1042524665"
          ],
          [
           "pub.1061788479"
          ],
          [
           "pub.1094284227"
          ],
          [
           "pub.1093778985"
          ],
          [
           "pub.1011990728"
          ],
          [
           "pub.1048561887"
          ],
          [
           "pub.1061788527"
          ],
          [
           "pub.1061788513"
          ],
          [
           "pub.1094706654"
          ],
          [
           "pub.1031601770"
          ],
          [
           "pub.1061788604"
          ],
          [
           "pub.1061795230"
          ],
          [
           "pub.1095092354"
          ],
          [
           "pub.1053284993"
          ],
          [
           "pub.1012487871"
          ],
          [
           "pub.1061788629"
          ],
          [
           "pub.1061788688"
          ]
         ],
         "hovertemplate": "Type=Systematic Literature Review<br>Topic=%{x}<br>year=%{y}<br>Pub_id=%{customdata[0]}<extra></extra>",
         "legendgroup": "Systematic Literature Review",
         "marker": {
          "color": "rgb(221,132,82)"
         },
         "name": "Systematic Literature Review",
         "notched": false,
         "offsetgroup": "Systematic Literature Review",
         "orientation": "v",
         "showlegend": true,
         "type": "box",
         "x": [
          "Software Process Line (2019)",
          "Software Process Line (2019)",
          "Software Process Line (2019)",
          "Software Process Line (2019)",
          "Software Process Line (2019)",
          "Software Process Line (2019)",
          "Software Process Line (2019)",
          "Software Process Line (2019)",
          "Software Process Line (2019)",
          "Software Process Line (2019)",
          "Software Process Line (2019)",
          "Software Process Line (2019)",
          "Software Process Line (2019)",
          "Software Process Line (2019)",
          "Software Process Line (2019)",
          "Software Process Line (2019)",
          "Software Process Line (2019)",
          "Software Process Line (2019)",
          "Software Process Line (2019)",
          "Software Process Line (2019)",
          "Software Process Line (2019)",
          "Software Process Line (2019)",
          "Software Process Line (2019)",
          "Software Process Line (2019)",
          "Software Process Line (2019)",
          "Software Process Line (2019)",
          "Software Process Line (2019)",
          "Software Process Line (2019)",
          "Software Process Line (2019)",
          "Software Process Line (2019)",
          "Software Process Line (2019)",
          "Software Process Line (2019)",
          "Software Process Line (2019)",
          "Software Process Line (2019)",
          "Software Process Line (2019)",
          "Data Stream Processing Latency (2019)",
          "Data Stream Processing Latency (2019)",
          "Data Stream Processing Latency (2019)",
          "Data Stream Processing Latency (2019)",
          "Data Stream Processing Latency (2019)",
          "Data Stream Processing Latency (2019)",
          "Data Stream Processing Latency (2019)",
          "Data Stream Processing Latency (2019)",
          "Data Stream Processing Latency (2019)",
          "Data Stream Processing Latency (2019)",
          "Data Stream Processing Latency (2019)",
          "Data Stream Processing Latency (2019)",
          "Data Stream Processing Latency (2019)",
          "Data Stream Processing Latency (2019)",
          "Data Stream Processing Latency (2019)",
          "Data Stream Processing Latency (2019)",
          "Data Stream Processing Latency (2019)",
          "Data Stream Processing Latency (2019)",
          "Data Stream Processing Latency (2019)",
          "Data Stream Processing Latency (2019)",
          "Data Stream Processing Latency (2019)",
          "Data Stream Processing Latency (2019)",
          "Data Stream Processing Latency (2019)",
          "Data Stream Processing Latency (2019)",
          "Data Stream Processing Latency (2019)",
          "Data Stream Processing Latency (2019)",
          "Data Stream Processing Latency (2019)",
          "Data Stream Processing Latency (2019)",
          "Data Stream Processing Latency (2019)",
          "Data Stream Processing Latency (2019)",
          "Data Stream Processing Latency (2019)",
          "Data Stream Processing Latency (2019)",
          "Data Stream Processing Latency (2019)",
          "Data Stream Processing Latency (2019)",
          "Data Stream Processing Latency (2019)",
          "Data Stream Processing Latency (2019)",
          "Data Stream Processing Latency (2019)",
          "Data Stream Processing Latency (2019)",
          "Data Stream Processing Latency (2019)",
          "Data Stream Processing Latency (2019)",
          "Data Stream Processing Latency (2019)",
          "Data Stream Processing Latency (2019)",
          "Data Stream Processing Latency (2019)",
          "Data Stream Processing Latency (2019)",
          "Data Stream Processing Latency (2019)",
          "Data Stream Processing Latency (2019)",
          "Data Stream Processing Latency (2019)",
          "Data Stream Processing Latency (2019)",
          "Data Stream Processing Latency (2019)",
          "Data Stream Processing Latency (2019)",
          "Data Stream Processing Latency (2019)",
          "Data Stream Processing Latency (2019)",
          "Data Stream Processing Latency (2019)",
          "Data Stream Processing Latency (2019)",
          "Data Stream Processing Latency (2019)",
          "Data Stream Processing Latency (2019)",
          "Data Stream Processing Latency (2019)",
          "Data Stream Processing Latency (2019)",
          "Data Stream Processing Latency (2019)",
          "Data Stream Processing Latency (2019)",
          "Data Stream Processing Latency (2019)",
          "Data Stream Processing Latency (2019)",
          "Data Stream Processing Latency (2019)",
          "Data Stream Processing Latency (2019)",
          "Data Stream Processing Latency (2019)",
          "Data Stream Processing Latency (2019)",
          "Data Stream Processing Latency (2019)",
          "Data Stream Processing Latency (2019)",
          "Business Process Meta Models (2021)",
          "Business Process Meta Models (2021)",
          "Business Process Meta Models (2021)",
          "Business Process Meta Models (2021)",
          "Business Process Meta Models (2021)",
          "Business Process Meta Models (2021)",
          "Business Process Meta Models (2021)",
          "Business Process Meta Models (2021)",
          "Business Process Meta Models (2021)",
          "Business Process Meta Models (2021)",
          "Business Process Meta Models (2021)",
          "Business Process Meta Models (2021)",
          "Business Process Meta Models (2021)",
          "Business Process Meta Models (2021)",
          "Business Process Meta Models (2021)",
          "Business Process Meta Models (2021)",
          "Business Process Meta Models (2021)",
          "Business Process Meta Models (2021)",
          "Business Process Meta Models (2021)",
          "Business Process Meta Models (2021)",
          "Business Process Meta Models (2021)",
          "Business Process Meta Models (2021)",
          "Multicore Performance Prediction (2017)",
          "Multicore Performance Prediction (2017)",
          "Multicore Performance Prediction (2017)",
          "Multicore Performance Prediction (2017)",
          "Multicore Performance Prediction (2017)",
          "Multicore Performance Prediction (2017)",
          "Multicore Performance Prediction (2017)",
          "Multicore Performance Prediction (2017)",
          "Multicore Performance Prediction (2017)",
          "Multicore Performance Prediction (2017)",
          "Multicore Performance Prediction (2017)",
          "Multicore Performance Prediction (2017)",
          "Multicore Performance Prediction (2017)",
          "Multicore Performance Prediction (2017)",
          "Multicore Performance Prediction (2017)",
          "Multicore Performance Prediction (2017)",
          "Multicore Performance Prediction (2017)",
          "Multicore Performance Prediction (2017)",
          "Multicore Performance Prediction (2017)",
          "Multicore Performance Prediction (2017)",
          "Multicore Performance Prediction (2017)",
          "Multicore Performance Prediction (2017)",
          "Multicore Performance Prediction (2017)",
          "Multicore Performance Prediction (2017)",
          "Multicore Performance Prediction (2017)",
          "Multicore Performance Prediction (2017)",
          "Multicore Performance Prediction (2017)",
          "Multicore Performance Prediction (2017)",
          "Multicore Performance Prediction (2017)",
          "Multicore Performance Prediction (2017)",
          "Multicore Performance Prediction (2017)",
          "Multicore Performance Prediction (2017)",
          "Multicore Performance Prediction (2017)",
          "Cloud Migration (2014)",
          "Cloud Migration (2014)",
          "Cloud Migration (2014)",
          "Cloud Migration (2014)",
          "Cloud Migration (2014)",
          "Cloud Migration (2014)",
          "Cloud Migration (2014)",
          "Cloud Migration (2014)",
          "Cloud Migration (2014)",
          "Cloud Migration (2014)",
          "Cloud Migration (2014)",
          "Cloud Migration (2014)",
          "Cloud Migration (2014)",
          "Cloud Migration (2014)",
          "Cloud Migration (2014)",
          "Cloud Migration (2014)",
          "Cloud Migration (2014)",
          "Cloud Migration (2014)",
          "Cloud Migration (2014)",
          "Cloud Migration (2014)",
          "Cloud Migration (2014)",
          "Software Fault Prediction Metrics (2013)",
          "Software Fault Prediction Metrics (2013)",
          "Software Fault Prediction Metrics (2013)",
          "Software Fault Prediction Metrics (2013)",
          "Software Fault Prediction Metrics (2013)",
          "Software Fault Prediction Metrics (2013)",
          "Software Fault Prediction Metrics (2013)",
          "Software Fault Prediction Metrics (2013)",
          "Software Fault Prediction Metrics (2013)",
          "Software Fault Prediction Metrics (2013)",
          "Software Fault Prediction Metrics (2013)",
          "Software Fault Prediction Metrics (2013)",
          "Software Fault Prediction Metrics (2013)",
          "Software Fault Prediction Metrics (2013)",
          "Software Fault Prediction Metrics (2013)",
          "Software Fault Prediction Metrics (2013)",
          "Software Fault Prediction Metrics (2013)",
          "Software Fault Prediction Metrics (2013)",
          "Software Fault Prediction Metrics (2013)",
          "Software Fault Prediction Metrics (2013)",
          "Software Fault Prediction Metrics (2013)",
          "Software Fault Prediction Metrics (2013)",
          "Software Fault Prediction Metrics (2013)",
          "Software Fault Prediction Metrics (2013)",
          "Software Fault Prediction Metrics (2013)",
          "Software Fault Prediction Metrics (2013)",
          "Software Fault Prediction Metrics (2013)",
          "Software Fault Prediction Metrics (2013)",
          "Software Fault Prediction Metrics (2013)",
          "Software Fault Prediction Metrics (2013)",
          "Software Fault Prediction Metrics (2013)",
          "Software Fault Prediction Metrics (2013)",
          "Software Fault Prediction Metrics (2013)",
          "Software Fault Prediction Metrics (2013)",
          "Software Fault Prediction Metrics (2013)",
          "Software Fault Prediction Metrics (2013)",
          "Software Fault Prediction Metrics (2013)",
          "Software Fault Prediction Metrics (2013)",
          "Software Fault Prediction Metrics (2013)",
          "Software Fault Prediction Metrics (2013)",
          "Software Fault Prediction Metrics (2013)",
          "Software Fault Prediction Metrics (2013)",
          "Software Fault Prediction Metrics (2013)",
          "Software Fault Prediction Metrics (2013)",
          "Software Fault Prediction Metrics (2013)",
          "Software Fault Prediction Metrics (2013)",
          "Software Fault Prediction Metrics (2013)",
          "Software Fault Prediction Metrics (2013)",
          "Software Defect Prediction (2015)",
          "Software Defect Prediction (2015)",
          "Software Defect Prediction (2015)",
          "Software Defect Prediction (2015)",
          "Software Defect Prediction (2015)",
          "Software Defect Prediction (2015)",
          "Software Defect Prediction (2015)",
          "Software Defect Prediction (2015)",
          "Software Defect Prediction (2015)",
          "Software Defect Prediction (2015)",
          "Software Defect Prediction (2015)",
          "Software Defect Prediction (2015)",
          "Software Defect Prediction (2015)",
          "Software Defect Prediction (2015)",
          "Software Defect Prediction (2015)",
          "Software Defect Prediction (2015)",
          "Software Defect Prediction (2015)",
          "Software Defect Prediction (2015)",
          "Software Defect Prediction (2015)",
          "Software Defect Prediction (2015)",
          "Software Defect Prediction (2015)",
          "Software Defect Prediction (2015)",
          "Software Defect Prediction (2015)",
          "Software Defect Prediction (2015)",
          "Software Defect Prediction (2015)",
          "Software Defect Prediction (2015)",
          "Software Defect Prediction (2015)",
          "Software Defect Prediction (2015)",
          "Software Defect Prediction (2015)",
          "Software Defect Prediction (2015)",
          "Software Defect Prediction (2015)",
          "Software Defect Prediction (2015)",
          "Software Defect Prediction (2015)",
          "Software Defect Prediction (2015)",
          "Software Defect Prediction (2015)",
          "Software Defect Prediction (2015)",
          "Software Defect Prediction (2015)",
          "Software Defect Prediction (2015)",
          "Software Defect Prediction (2015)",
          "Software Defect Prediction (2015)",
          "Software Defect Prediction (2015)",
          "Software Defect Prediction (2015)",
          "Software Defect Prediction (2015)",
          "Software Defect Prediction (2015)",
          "Software Defect Prediction (2015)",
          "Software Defect Prediction (2015)",
          "Software Defect Prediction (2015)",
          "Software Defect Prediction (2015)",
          "Software Defect Prediction (2015)",
          "Software Defect Prediction (2015)",
          "Software Defect Prediction (2015)",
          "Software Defect Prediction (2015)"
         ],
         "x0": " ",
         "xaxis": "x",
         "y": [
          2009,
          2007,
          2007,
          2006,
          2006,
          2006,
          2005,
          2004,
          2009,
          2010,
          2010,
          2011,
          2011,
          2012,
          2012,
          2013,
          2013,
          2014,
          2014,
          2014,
          2014,
          2015,
          2015,
          2015,
          2015,
          2015,
          2015,
          2018,
          2018,
          2018,
          2018,
          1998,
          1996,
          2015,
          2017,
          2016,
          2018,
          2017,
          2016,
          2017,
          2008,
          2016,
          2009,
          2013,
          2008,
          2018,
          2009,
          2017,
          2018,
          2015,
          2006,
          2014,
          2014,
          2012,
          2014,
          2015,
          2014,
          2016,
          2016,
          2018,
          2011,
          2008,
          2011,
          2017,
          2013,
          2012,
          2015,
          2011,
          2016,
          2015,
          2015,
          2011,
          2009,
          2017,
          2018,
          2008,
          2014,
          2014,
          2012,
          2014,
          2016,
          2017,
          2018,
          2011,
          2016,
          2014,
          2016,
          2009,
          2015,
          2016,
          2016,
          2012,
          2012,
          2017,
          2010,
          2006,
          2016,
          2013,
          2015,
          2013,
          2016,
          2017,
          2018,
          2012,
          2003,
          2018,
          2016,
          2017,
          2005,
          2011,
          2011,
          2011,
          2004,
          2011,
          2003,
          2014,
          2006,
          2008,
          2010,
          2006,
          2016,
          2013,
          2012,
          2005,
          2006,
          2019,
          2005,
          2005,
          2009,
          2008,
          2009,
          2015,
          2017,
          2016,
          2006,
          2008,
          2009,
          2009,
          2009,
          2009,
          2010,
          2010,
          2010,
          2011,
          2011,
          2011,
          2012,
          2011,
          2011,
          2011,
          2008,
          2009,
          2009,
          2011,
          2012,
          2015,
          2012,
          2011,
          2012,
          2011,
          2012,
          2012,
          2011,
          2010,
          2012,
          2011,
          2012,
          2011,
          2011,
          2011,
          2010,
          2011,
          2011,
          2011,
          2011,
          2012,
          2011,
          2010,
          2013,
          1996,
          1996,
          1996,
          1998,
          1998,
          1998,
          1998,
          1999,
          1999,
          2000,
          2000,
          2000,
          2001,
          2001,
          2002,
          2002,
          2002,
          2004,
          2005,
          2005,
          2005,
          2006,
          2006,
          2006,
          2007,
          2007,
          2007,
          2007,
          2007,
          2007,
          2008,
          2008,
          2008,
          2008,
          2008,
          2009,
          2009,
          2009,
          2009,
          2009,
          2009,
          2009,
          2010,
          2010,
          2010,
          2010,
          2010,
          2011,
          2013,
          2008,
          2008,
          2009,
          2008,
          2008,
          2009,
          2009,
          2009,
          2009,
          2009,
          2010,
          2010,
          2010,
          2010,
          2010,
          2011,
          2011,
          2010,
          2011,
          2011,
          2012,
          2012,
          2012,
          2012,
          2012,
          2011,
          2012,
          2013,
          2013,
          2013,
          2013,
          2013,
          2003,
          2004,
          2004,
          2005,
          2005,
          2005,
          2005,
          2005,
          2006,
          2006,
          2006,
          2006,
          2007,
          2007,
          2007,
          2007,
          2007,
          2007,
          2008
         ],
         "y0": " ",
         "yaxis": "y"
        }
       ],
       "layout": {
        "boxmode": "group",
        "font": {
         "family": "Modern Computer"
        },
        "height": 400,
        "legend": {
         "font": {
          "size": 15
         },
         "title": {
          "text": ""
         },
         "tracegroupgap": 0
        },
        "shapes": [
         {
          "line": {
           "color": "red",
           "width": 1
          },
          "name": "Survey year",
          "showlegend": true,
          "type": "line",
          "x0": -0.5,
          "x1": 0,
          "y0": 2012,
          "y1": 2012
         },
         {
          "line": {
           "color": "red",
           "width": 1
          },
          "name": "Survey year",
          "showlegend": false,
          "type": "line",
          "x0": 0.5,
          "x1": 1,
          "y0": 2015,
          "y1": 2015
         },
         {
          "line": {
           "color": "red",
           "width": 1
          },
          "name": "Survey year",
          "showlegend": false,
          "type": "line",
          "x0": 1.5,
          "x1": 2,
          "y0": 2018,
          "y1": 2018
         },
         {
          "line": {
           "color": "red",
           "width": 1
          },
          "name": "Survey year",
          "showlegend": false,
          "type": "line",
          "x0": 2.5,
          "x1": 3,
          "y0": 2022,
          "y1": 2022
         },
         {
          "line": {
           "color": "red",
           "width": 1
          },
          "name": "Survey year",
          "showlegend": false,
          "type": "line",
          "x0": 3.5,
          "x1": 4,
          "y0": 2023,
          "y1": 2023
         },
         {
          "line": {
           "color": "red",
           "width": 1
          },
          "name": "Survey year",
          "showlegend": false,
          "type": "line",
          "x0": 4.5,
          "x1": 5,
          "y0": 2018,
          "y1": 2018
         },
         {
          "line": {
           "color": "red",
           "width": 1
          },
          "name": "Survey year",
          "showlegend": false,
          "type": "line",
          "x0": 5.5,
          "x1": 6,
          "y0": 2020,
          "y1": 2020
         },
         {
          "line": {
           "color": "red",
           "width": 1
          },
          "name": "Survey year",
          "showlegend": false,
          "type": "line",
          "x0": 6.5,
          "x1": 7,
          "y0": 2023,
          "y1": 2023
         },
         {
          "line": {
           "color": "red",
           "width": 1
          },
          "name": "Survey year",
          "showlegend": false,
          "type": "line",
          "x0": 7.5,
          "x1": 8,
          "y0": 2020,
          "y1": 2020
         },
         {
          "line": {
           "color": "red",
           "width": 1
          },
          "name": "Survey year",
          "showlegend": false,
          "type": "line",
          "x0": 8.5,
          "x1": 9,
          "y0": 2024,
          "y1": 2024
         },
         {
          "line": {
           "color": "red",
           "width": 1
          },
          "name": "Survey year",
          "showlegend": false,
          "type": "line",
          "x0": 9.5,
          "x1": 10,
          "y0": 2023,
          "y1": 2023
         },
         {
          "line": {
           "color": "red",
           "width": 1
          },
          "name": "Survey year",
          "showlegend": false,
          "type": "line",
          "x0": 10.5,
          "x1": 11,
          "y0": 2018,
          "y1": 2018
         },
         {
          "line": {
           "color": "red",
           "width": 1
          },
          "name": "Survey year",
          "showlegend": false,
          "type": "line",
          "x0": 11.5,
          "x1": 12,
          "y0": 2022,
          "y1": 2022
         },
         {
          "line": {
           "color": "red",
           "width": 1
          },
          "name": "Survey year",
          "showlegend": false,
          "type": "line",
          "x0": 12.5,
          "x1": 13,
          "y0": 2020,
          "y1": 2020
         },
         {
          "line": {
           "color": "red",
           "width": 1
          },
          "name": "Survey year",
          "showlegend": false,
          "type": "line",
          "x0": 13.5,
          "x1": 14,
          "y0": 2019,
          "y1": 2019
         },
         {
          "line": {
           "color": "red",
           "width": 1
          },
          "name": "Survey year",
          "showlegend": false,
          "type": "line",
          "x0": 14.5,
          "x1": 15,
          "y0": 2019,
          "y1": 2019
         },
         {
          "line": {
           "color": "red",
           "width": 1
          },
          "name": "Survey year",
          "showlegend": false,
          "type": "line",
          "x0": 15.5,
          "x1": 16,
          "y0": 2021,
          "y1": 2021
         },
         {
          "line": {
           "color": "red",
           "width": 1
          },
          "name": "Survey year",
          "showlegend": false,
          "type": "line",
          "x0": 16.5,
          "x1": 17,
          "y0": 2017,
          "y1": 2017
         },
         {
          "line": {
           "color": "red",
           "width": 1
          },
          "name": "Survey year",
          "showlegend": false,
          "type": "line",
          "x0": 17.5,
          "x1": 18,
          "y0": 2014,
          "y1": 2014
         },
         {
          "line": {
           "color": "red",
           "width": 1
          },
          "name": "Survey year",
          "showlegend": false,
          "type": "line",
          "x0": 18.5,
          "x1": 19,
          "y0": 2013,
          "y1": 2013
         },
         {
          "line": {
           "color": "red",
           "width": 1
          },
          "name": "Survey year",
          "showlegend": false,
          "type": "line",
          "x0": 19.5,
          "x1": 20,
          "y0": 2015,
          "y1": 2015
         }
        ],
        "showlegend": true,
        "template": {
         "data": {
          "bar": [
           {
            "error_x": {
             "color": "rgb(36,36,36)"
            },
            "error_y": {
             "color": "rgb(36,36,36)"
            },
            "marker": {
             "line": {
              "color": "rgb(234,234,242)",
              "width": 0.5
             },
             "pattern": {
              "fillmode": "overlay",
              "size": 10,
              "solidity": 0.2
             }
            },
            "type": "bar"
           }
          ],
          "barpolar": [
           {
            "marker": {
             "line": {
              "color": "rgb(234,234,242)",
              "width": 0.5
             },
             "pattern": {
              "fillmode": "overlay",
              "size": 10,
              "solidity": 0.2
             }
            },
            "type": "barpolar"
           }
          ],
          "carpet": [
           {
            "aaxis": {
             "endlinecolor": "rgb(36,36,36)",
             "gridcolor": "white",
             "linecolor": "white",
             "minorgridcolor": "white",
             "startlinecolor": "rgb(36,36,36)"
            },
            "baxis": {
             "endlinecolor": "rgb(36,36,36)",
             "gridcolor": "white",
             "linecolor": "white",
             "minorgridcolor": "white",
             "startlinecolor": "rgb(36,36,36)"
            },
            "type": "carpet"
           }
          ],
          "choropleth": [
           {
            "colorbar": {
             "outlinewidth": 0,
             "tickcolor": "rgb(36,36,36)",
             "ticklen": 8,
             "ticks": "outside",
             "tickwidth": 2
            },
            "type": "choropleth"
           }
          ],
          "contour": [
           {
            "colorbar": {
             "outlinewidth": 0,
             "tickcolor": "rgb(36,36,36)",
             "ticklen": 8,
             "ticks": "outside",
             "tickwidth": 2
            },
            "colorscale": [
             [
              0,
              "rgb(2,4,25)"
             ],
             [
              0.06274509803921569,
              "rgb(24,15,41)"
             ],
             [
              0.12549019607843137,
              "rgb(47,23,57)"
             ],
             [
              0.18823529411764706,
              "rgb(71,28,72)"
             ],
             [
              0.25098039215686274,
              "rgb(97,30,82)"
             ],
             [
              0.3137254901960784,
              "rgb(123,30,89)"
             ],
             [
              0.3764705882352941,
              "rgb(150,27,91)"
             ],
             [
              0.4392156862745098,
              "rgb(177,22,88)"
             ],
             [
              0.5019607843137255,
              "rgb(203,26,79)"
             ],
             [
              0.5647058823529412,
              "rgb(223,47,67)"
             ],
             [
              0.6274509803921569,
              "rgb(236,76,61)"
             ],
             [
              0.6901960784313725,
              "rgb(242,107,73)"
             ],
             [
              0.7529411764705882,
              "rgb(244,135,95)"
             ],
             [
              0.8156862745098039,
              "rgb(245,162,122)"
             ],
             [
              0.8784313725490196,
              "rgb(246,188,153)"
             ],
             [
              0.9411764705882353,
              "rgb(247,212,187)"
             ],
             [
              1,
              "rgb(250,234,220)"
             ]
            ],
            "type": "contour"
           }
          ],
          "contourcarpet": [
           {
            "colorbar": {
             "outlinewidth": 0,
             "tickcolor": "rgb(36,36,36)",
             "ticklen": 8,
             "ticks": "outside",
             "tickwidth": 2
            },
            "type": "contourcarpet"
           }
          ],
          "heatmap": [
           {
            "colorbar": {
             "outlinewidth": 0,
             "tickcolor": "rgb(36,36,36)",
             "ticklen": 8,
             "ticks": "outside",
             "tickwidth": 2
            },
            "colorscale": [
             [
              0,
              "rgb(2,4,25)"
             ],
             [
              0.06274509803921569,
              "rgb(24,15,41)"
             ],
             [
              0.12549019607843137,
              "rgb(47,23,57)"
             ],
             [
              0.18823529411764706,
              "rgb(71,28,72)"
             ],
             [
              0.25098039215686274,
              "rgb(97,30,82)"
             ],
             [
              0.3137254901960784,
              "rgb(123,30,89)"
             ],
             [
              0.3764705882352941,
              "rgb(150,27,91)"
             ],
             [
              0.4392156862745098,
              "rgb(177,22,88)"
             ],
             [
              0.5019607843137255,
              "rgb(203,26,79)"
             ],
             [
              0.5647058823529412,
              "rgb(223,47,67)"
             ],
             [
              0.6274509803921569,
              "rgb(236,76,61)"
             ],
             [
              0.6901960784313725,
              "rgb(242,107,73)"
             ],
             [
              0.7529411764705882,
              "rgb(244,135,95)"
             ],
             [
              0.8156862745098039,
              "rgb(245,162,122)"
             ],
             [
              0.8784313725490196,
              "rgb(246,188,153)"
             ],
             [
              0.9411764705882353,
              "rgb(247,212,187)"
             ],
             [
              1,
              "rgb(250,234,220)"
             ]
            ],
            "type": "heatmap"
           }
          ],
          "heatmapgl": [
           {
            "colorbar": {
             "outlinewidth": 0,
             "tickcolor": "rgb(36,36,36)",
             "ticklen": 8,
             "ticks": "outside",
             "tickwidth": 2
            },
            "colorscale": [
             [
              0,
              "rgb(2,4,25)"
             ],
             [
              0.06274509803921569,
              "rgb(24,15,41)"
             ],
             [
              0.12549019607843137,
              "rgb(47,23,57)"
             ],
             [
              0.18823529411764706,
              "rgb(71,28,72)"
             ],
             [
              0.25098039215686274,
              "rgb(97,30,82)"
             ],
             [
              0.3137254901960784,
              "rgb(123,30,89)"
             ],
             [
              0.3764705882352941,
              "rgb(150,27,91)"
             ],
             [
              0.4392156862745098,
              "rgb(177,22,88)"
             ],
             [
              0.5019607843137255,
              "rgb(203,26,79)"
             ],
             [
              0.5647058823529412,
              "rgb(223,47,67)"
             ],
             [
              0.6274509803921569,
              "rgb(236,76,61)"
             ],
             [
              0.6901960784313725,
              "rgb(242,107,73)"
             ],
             [
              0.7529411764705882,
              "rgb(244,135,95)"
             ],
             [
              0.8156862745098039,
              "rgb(245,162,122)"
             ],
             [
              0.8784313725490196,
              "rgb(246,188,153)"
             ],
             [
              0.9411764705882353,
              "rgb(247,212,187)"
             ],
             [
              1,
              "rgb(250,234,220)"
             ]
            ],
            "type": "heatmapgl"
           }
          ],
          "histogram": [
           {
            "marker": {
             "pattern": {
              "fillmode": "overlay",
              "size": 10,
              "solidity": 0.2
             }
            },
            "type": "histogram"
           }
          ],
          "histogram2d": [
           {
            "colorbar": {
             "outlinewidth": 0,
             "tickcolor": "rgb(36,36,36)",
             "ticklen": 8,
             "ticks": "outside",
             "tickwidth": 2
            },
            "colorscale": [
             [
              0,
              "rgb(2,4,25)"
             ],
             [
              0.06274509803921569,
              "rgb(24,15,41)"
             ],
             [
              0.12549019607843137,
              "rgb(47,23,57)"
             ],
             [
              0.18823529411764706,
              "rgb(71,28,72)"
             ],
             [
              0.25098039215686274,
              "rgb(97,30,82)"
             ],
             [
              0.3137254901960784,
              "rgb(123,30,89)"
             ],
             [
              0.3764705882352941,
              "rgb(150,27,91)"
             ],
             [
              0.4392156862745098,
              "rgb(177,22,88)"
             ],
             [
              0.5019607843137255,
              "rgb(203,26,79)"
             ],
             [
              0.5647058823529412,
              "rgb(223,47,67)"
             ],
             [
              0.6274509803921569,
              "rgb(236,76,61)"
             ],
             [
              0.6901960784313725,
              "rgb(242,107,73)"
             ],
             [
              0.7529411764705882,
              "rgb(244,135,95)"
             ],
             [
              0.8156862745098039,
              "rgb(245,162,122)"
             ],
             [
              0.8784313725490196,
              "rgb(246,188,153)"
             ],
             [
              0.9411764705882353,
              "rgb(247,212,187)"
             ],
             [
              1,
              "rgb(250,234,220)"
             ]
            ],
            "type": "histogram2d"
           }
          ],
          "histogram2dcontour": [
           {
            "colorbar": {
             "outlinewidth": 0,
             "tickcolor": "rgb(36,36,36)",
             "ticklen": 8,
             "ticks": "outside",
             "tickwidth": 2
            },
            "colorscale": [
             [
              0,
              "rgb(2,4,25)"
             ],
             [
              0.06274509803921569,
              "rgb(24,15,41)"
             ],
             [
              0.12549019607843137,
              "rgb(47,23,57)"
             ],
             [
              0.18823529411764706,
              "rgb(71,28,72)"
             ],
             [
              0.25098039215686274,
              "rgb(97,30,82)"
             ],
             [
              0.3137254901960784,
              "rgb(123,30,89)"
             ],
             [
              0.3764705882352941,
              "rgb(150,27,91)"
             ],
             [
              0.4392156862745098,
              "rgb(177,22,88)"
             ],
             [
              0.5019607843137255,
              "rgb(203,26,79)"
             ],
             [
              0.5647058823529412,
              "rgb(223,47,67)"
             ],
             [
              0.6274509803921569,
              "rgb(236,76,61)"
             ],
             [
              0.6901960784313725,
              "rgb(242,107,73)"
             ],
             [
              0.7529411764705882,
              "rgb(244,135,95)"
             ],
             [
              0.8156862745098039,
              "rgb(245,162,122)"
             ],
             [
              0.8784313725490196,
              "rgb(246,188,153)"
             ],
             [
              0.9411764705882353,
              "rgb(247,212,187)"
             ],
             [
              1,
              "rgb(250,234,220)"
             ]
            ],
            "type": "histogram2dcontour"
           }
          ],
          "mesh3d": [
           {
            "colorbar": {
             "outlinewidth": 0,
             "tickcolor": "rgb(36,36,36)",
             "ticklen": 8,
             "ticks": "outside",
             "tickwidth": 2
            },
            "type": "mesh3d"
           }
          ],
          "parcoords": [
           {
            "line": {
             "colorbar": {
              "outlinewidth": 0,
              "tickcolor": "rgb(36,36,36)",
              "ticklen": 8,
              "ticks": "outside",
              "tickwidth": 2
             }
            },
            "type": "parcoords"
           }
          ],
          "pie": [
           {
            "automargin": true,
            "type": "pie"
           }
          ],
          "scatter": [
           {
            "fillpattern": {
             "fillmode": "overlay",
             "size": 10,
             "solidity": 0.2
            },
            "type": "scatter"
           }
          ],
          "scatter3d": [
           {
            "line": {
             "colorbar": {
              "outlinewidth": 0,
              "tickcolor": "rgb(36,36,36)",
              "ticklen": 8,
              "ticks": "outside",
              "tickwidth": 2
             }
            },
            "marker": {
             "colorbar": {
              "outlinewidth": 0,
              "tickcolor": "rgb(36,36,36)",
              "ticklen": 8,
              "ticks": "outside",
              "tickwidth": 2
             }
            },
            "type": "scatter3d"
           }
          ],
          "scattercarpet": [
           {
            "marker": {
             "colorbar": {
              "outlinewidth": 0,
              "tickcolor": "rgb(36,36,36)",
              "ticklen": 8,
              "ticks": "outside",
              "tickwidth": 2
             }
            },
            "type": "scattercarpet"
           }
          ],
          "scattergeo": [
           {
            "marker": {
             "colorbar": {
              "outlinewidth": 0,
              "tickcolor": "rgb(36,36,36)",
              "ticklen": 8,
              "ticks": "outside",
              "tickwidth": 2
             }
            },
            "type": "scattergeo"
           }
          ],
          "scattergl": [
           {
            "marker": {
             "colorbar": {
              "outlinewidth": 0,
              "tickcolor": "rgb(36,36,36)",
              "ticklen": 8,
              "ticks": "outside",
              "tickwidth": 2
             }
            },
            "type": "scattergl"
           }
          ],
          "scattermapbox": [
           {
            "marker": {
             "colorbar": {
              "outlinewidth": 0,
              "tickcolor": "rgb(36,36,36)",
              "ticklen": 8,
              "ticks": "outside",
              "tickwidth": 2
             }
            },
            "type": "scattermapbox"
           }
          ],
          "scatterpolar": [
           {
            "marker": {
             "colorbar": {
              "outlinewidth": 0,
              "tickcolor": "rgb(36,36,36)",
              "ticklen": 8,
              "ticks": "outside",
              "tickwidth": 2
             }
            },
            "type": "scatterpolar"
           }
          ],
          "scatterpolargl": [
           {
            "marker": {
             "colorbar": {
              "outlinewidth": 0,
              "tickcolor": "rgb(36,36,36)",
              "ticklen": 8,
              "ticks": "outside",
              "tickwidth": 2
             }
            },
            "type": "scatterpolargl"
           }
          ],
          "scatterternary": [
           {
            "marker": {
             "colorbar": {
              "outlinewidth": 0,
              "tickcolor": "rgb(36,36,36)",
              "ticklen": 8,
              "ticks": "outside",
              "tickwidth": 2
             }
            },
            "type": "scatterternary"
           }
          ],
          "surface": [
           {
            "colorbar": {
             "outlinewidth": 0,
             "tickcolor": "rgb(36,36,36)",
             "ticklen": 8,
             "ticks": "outside",
             "tickwidth": 2
            },
            "colorscale": [
             [
              0,
              "rgb(2,4,25)"
             ],
             [
              0.06274509803921569,
              "rgb(24,15,41)"
             ],
             [
              0.12549019607843137,
              "rgb(47,23,57)"
             ],
             [
              0.18823529411764706,
              "rgb(71,28,72)"
             ],
             [
              0.25098039215686274,
              "rgb(97,30,82)"
             ],
             [
              0.3137254901960784,
              "rgb(123,30,89)"
             ],
             [
              0.3764705882352941,
              "rgb(150,27,91)"
             ],
             [
              0.4392156862745098,
              "rgb(177,22,88)"
             ],
             [
              0.5019607843137255,
              "rgb(203,26,79)"
             ],
             [
              0.5647058823529412,
              "rgb(223,47,67)"
             ],
             [
              0.6274509803921569,
              "rgb(236,76,61)"
             ],
             [
              0.6901960784313725,
              "rgb(242,107,73)"
             ],
             [
              0.7529411764705882,
              "rgb(244,135,95)"
             ],
             [
              0.8156862745098039,
              "rgb(245,162,122)"
             ],
             [
              0.8784313725490196,
              "rgb(246,188,153)"
             ],
             [
              0.9411764705882353,
              "rgb(247,212,187)"
             ],
             [
              1,
              "rgb(250,234,220)"
             ]
            ],
            "type": "surface"
           }
          ],
          "table": [
           {
            "cells": {
             "fill": {
              "color": "rgb(231,231,240)"
             },
             "line": {
              "color": "white"
             }
            },
            "header": {
             "fill": {
              "color": "rgb(183,183,191)"
             },
             "line": {
              "color": "white"
             }
            },
            "type": "table"
           }
          ]
         },
         "layout": {
          "annotationdefaults": {
           "arrowcolor": "rgb(67,103,167)"
          },
          "autotypenumbers": "strict",
          "coloraxis": {
           "colorbar": {
            "outlinewidth": 0,
            "tickcolor": "rgb(36,36,36)",
            "ticklen": 8,
            "ticks": "outside",
            "tickwidth": 2
           }
          },
          "colorscale": {
           "sequential": [
            [
             0,
             "rgb(2,4,25)"
            ],
            [
             0.06274509803921569,
             "rgb(24,15,41)"
            ],
            [
             0.12549019607843137,
             "rgb(47,23,57)"
            ],
            [
             0.18823529411764706,
             "rgb(71,28,72)"
            ],
            [
             0.25098039215686274,
             "rgb(97,30,82)"
            ],
            [
             0.3137254901960784,
             "rgb(123,30,89)"
            ],
            [
             0.3764705882352941,
             "rgb(150,27,91)"
            ],
            [
             0.4392156862745098,
             "rgb(177,22,88)"
            ],
            [
             0.5019607843137255,
             "rgb(203,26,79)"
            ],
            [
             0.5647058823529412,
             "rgb(223,47,67)"
            ],
            [
             0.6274509803921569,
             "rgb(236,76,61)"
            ],
            [
             0.6901960784313725,
             "rgb(242,107,73)"
            ],
            [
             0.7529411764705882,
             "rgb(244,135,95)"
            ],
            [
             0.8156862745098039,
             "rgb(245,162,122)"
            ],
            [
             0.8784313725490196,
             "rgb(246,188,153)"
            ],
            [
             0.9411764705882353,
             "rgb(247,212,187)"
            ],
            [
             1,
             "rgb(250,234,220)"
            ]
           ],
           "sequentialminus": [
            [
             0,
             "rgb(2,4,25)"
            ],
            [
             0.06274509803921569,
             "rgb(24,15,41)"
            ],
            [
             0.12549019607843137,
             "rgb(47,23,57)"
            ],
            [
             0.18823529411764706,
             "rgb(71,28,72)"
            ],
            [
             0.25098039215686274,
             "rgb(97,30,82)"
            ],
            [
             0.3137254901960784,
             "rgb(123,30,89)"
            ],
            [
             0.3764705882352941,
             "rgb(150,27,91)"
            ],
            [
             0.4392156862745098,
             "rgb(177,22,88)"
            ],
            [
             0.5019607843137255,
             "rgb(203,26,79)"
            ],
            [
             0.5647058823529412,
             "rgb(223,47,67)"
            ],
            [
             0.6274509803921569,
             "rgb(236,76,61)"
            ],
            [
             0.6901960784313725,
             "rgb(242,107,73)"
            ],
            [
             0.7529411764705882,
             "rgb(244,135,95)"
            ],
            [
             0.8156862745098039,
             "rgb(245,162,122)"
            ],
            [
             0.8784313725490196,
             "rgb(246,188,153)"
            ],
            [
             0.9411764705882353,
             "rgb(247,212,187)"
            ],
            [
             1,
             "rgb(250,234,220)"
            ]
           ]
          },
          "colorway": [
           "rgb(76,114,176)",
           "rgb(221,132,82)",
           "rgb(85,168,104)",
           "rgb(196,78,82)",
           "rgb(129,114,179)",
           "rgb(147,120,96)",
           "rgb(218,139,195)",
           "rgb(140,140,140)",
           "rgb(204,185,116)",
           "rgb(100,181,205)"
          ],
          "font": {
           "color": "rgb(36,36,36)"
          },
          "geo": {
           "bgcolor": "white",
           "lakecolor": "white",
           "landcolor": "rgb(234,234,242)",
           "showlakes": true,
           "showland": true,
           "subunitcolor": "white"
          },
          "hoverlabel": {
           "align": "left"
          },
          "hovermode": "closest",
          "paper_bgcolor": "white",
          "plot_bgcolor": "rgb(234,234,242)",
          "polar": {
           "angularaxis": {
            "gridcolor": "white",
            "linecolor": "white",
            "showgrid": true,
            "ticks": ""
           },
           "bgcolor": "rgb(234,234,242)",
           "radialaxis": {
            "gridcolor": "white",
            "linecolor": "white",
            "showgrid": true,
            "ticks": ""
           }
          },
          "scene": {
           "xaxis": {
            "backgroundcolor": "rgb(234,234,242)",
            "gridcolor": "white",
            "gridwidth": 2,
            "linecolor": "white",
            "showbackground": true,
            "showgrid": true,
            "ticks": "",
            "zerolinecolor": "white"
           },
           "yaxis": {
            "backgroundcolor": "rgb(234,234,242)",
            "gridcolor": "white",
            "gridwidth": 2,
            "linecolor": "white",
            "showbackground": true,
            "showgrid": true,
            "ticks": "",
            "zerolinecolor": "white"
           },
           "zaxis": {
            "backgroundcolor": "rgb(234,234,242)",
            "gridcolor": "white",
            "gridwidth": 2,
            "linecolor": "white",
            "showbackground": true,
            "showgrid": true,
            "ticks": "",
            "zerolinecolor": "white"
           }
          },
          "shapedefaults": {
           "fillcolor": "rgb(67,103,167)",
           "line": {
            "width": 0
           },
           "opacity": 0.5
          },
          "ternary": {
           "aaxis": {
            "gridcolor": "white",
            "linecolor": "white",
            "showgrid": true,
            "ticks": ""
           },
           "baxis": {
            "gridcolor": "white",
            "linecolor": "white",
            "showgrid": true,
            "ticks": ""
           },
           "bgcolor": "rgb(234,234,242)",
           "caxis": {
            "gridcolor": "white",
            "linecolor": "white",
            "showgrid": true,
            "ticks": ""
           }
          },
          "xaxis": {
           "automargin": true,
           "gridcolor": "white",
           "linecolor": "white",
           "showgrid": true,
           "ticks": "",
           "title": {
            "standoff": 15
           },
           "zerolinecolor": "white"
          },
          "yaxis": {
           "automargin": true,
           "gridcolor": "white",
           "linecolor": "white",
           "showgrid": true,
           "ticks": "",
           "title": {
            "standoff": 15
           },
           "zerolinecolor": "white"
          }
         }
        },
        "title": {
         "font": {
          "family": "Modern Computer",
          "size": 20
         },
         "text": "Publishing Date Distribution of the CPs",
         "x": 0.5
        },
        "width": 650,
        "xaxis": {
         "anchor": "y",
         "domain": [
          0,
          1
         ],
         "tickangle": 45,
         "tickfont": {
          "size": 12
         },
         "title": {
          "font": {
           "size": 17
          },
          "text": ""
         }
        },
        "yaxis": {
         "anchor": "x",
         "domain": [
          0,
          1
         ],
         "tickfont": {
          "size": 12
         },
         "title": {
          "font": {
           "size": 17
          },
          "text": ""
         }
        }
       }
      }
     },
     "metadata": {},
     "output_type": "display_data"
    }
   ],
   "source": [
    "years_plot_df = core_pubs.copy()\n",
    "years_plot_df.loc[years_plot_df[\"year\"] < 1980, \"year\"] = 1980\n",
    "fig = px.box(years_plot_df, x=\"Topic\", y=\"year\",\n",
    "             title=\"Publishing Date Distribution of the CPs\", points=\"all\", height=450,\n",
    "                color=\"Type\", hover_data=[\"Pub_id\"])\n",
    "markers = [2012, 2015, 2018, 2022, 2023, 2018, 2020, 2023, 2020, 2024,\n",
    "           2023, 2018, 2022, 2020, 2019, 2019, 2021, 2017, 2014, 2013, 2015]\n",
    "# add X markers at the corresponding y each to the next x\n",
    "showlegend = True\n",
    "for i, marker in enumerate(markers):\n",
    "    if i == 1:\n",
    "        showlegend = False\n",
    "    fig.add_shape(type=\"line\", x0=i - 0.5, x1=i, showlegend=showlegend,\n",
    "                   y0=marker, y1=marker,\n",
    "                     line=dict(color=\"red\", width=1), name=\"Survey year\")\n",
    "fig.update_layout(**PLOT_CONFIGS)\n",
    "fig.show()\n",
    "fig.update_traces(marker_size=5)\n",
    "fig.update_layout(xaxis_title_text=\"Topic\", yaxis_title_text=\"Year\", title_font_size=30,\n",
    "                  legend_font_size=20, yaxis_tickfont_size=20, xaxis_tickfont_size=20, title_x=0.25,\n",
    "                  xaxis_title_font_size=25, yaxis_title_font_size=25, width=1300, height=800)\n",
    "# fig.write_image(\"./LitQEval-report/pics/year-distribution.pdf\")"
   ]
  }
 ],
 "metadata": {
  "kernelspec": {
   "display_name": "litqeval-2HojBpDP-py3.10",
   "language": "python",
   "name": "python3"
  },
  "language_info": {
   "codemirror_mode": {
    "name": "ipython",
    "version": 3
   },
   "file_extension": ".py",
   "mimetype": "text/x-python",
   "name": "python",
   "nbconvert_exporter": "python",
   "pygments_lexer": "ipython3",
   "version": "3.10.11"
  }
 },
 "nbformat": 4,
 "nbformat_minor": 2
}
