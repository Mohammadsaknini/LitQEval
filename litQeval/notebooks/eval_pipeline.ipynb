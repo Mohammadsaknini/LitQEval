{
 "cells": [
  {
   "cell_type": "code",
   "execution_count": 83,
   "metadata": {},
   "outputs": [],
   "source": [
    "from sklearn.metrics.pairwise import cosine_similarity\n",
    "from litQeval.eval_utils import *\n",
    "import plotly.express as px\n",
    "from tqdm.auto import tqdm\n",
    "import pandas as pd\n",
    "import numpy as np"
   ]
  },
  {
   "cell_type": "code",
   "execution_count": 84,
   "metadata": {},
   "outputs": [
    {
     "data": {
      "text/plain": [
       "((1, 1536), (844, 1536), (13918, 1536))"
      ]
     },
     "execution_count": 84,
     "metadata": {},
     "output_type": "execute_result"
    }
   ],
   "source": [
    "baseline = 'Software Process Line'\n",
    "predicted = \"\"\"\n",
    "(\"process adaptation\" OR \"processes adaptation\" OR \"customization of processes\" OR \"software processes customization\" OR \"software process customization\" OR \"customizing software processes\" OR \"process definition\" OR \"processes definition\" OR \"process composition\" OR \"compose processes\" OR \"processes composition\" OR \"process tailoring\" OR \"processes tailoring\" OR \"tailing of processes\" OR \"process development\" OR \"processes development\" OR \"process engineering\" OR \"processes engineering\" OR \"process design\" OR \"software process modelling\" OR \"software process modelling\" OR \"process implementation\" OR \"managing processes\")\n",
    "\n",
    "AND\n",
    "\n",
    "(\"family of software process\" OR \"family of software processes\" OR \"families of software process\" OR \"families of software processes\" OR \"software process line\" OR \"software process lines\" OR \"software processes line\" OR \"software processes lines\" OR \"process-line\" OR \"process-lines\" OR \"processes-line\" OR \"processes-lines\" OR \"software process family\" OR \"software processes family\" OR \"software process families\" OR \"software processes families\" OR \"process-family\" OR \"processes-family\" OR \"process-families\" OR \"processes-families\" OR \"software process variability\" OR \"software process variabilities\" OR \"software processes variability\" OR \"software processes variabilities\" OR \"variabilities in software processes\" OR \"process domain engineering\" OR \"processes domain engineering\" OR \"process feature\" OR \"process features\" OR \"processes feature\" OR \"processes features\" OR \"process asset reuse\")\"\"\"\n",
    "\n",
    "data = get_data(baseline, predicted, True)\n",
    "core_pubs = data[\"core_pubs\"]\n",
    "core_mean_embedding = data[\"core_mean_embedding\"]\n",
    "baseline_pubs = data[\"baseline_pubs\"]\n",
    "predicted_pubs = data[\"predicted_pubs\"]\n",
    "baseline_vs = data[\"baseline_vs\"]\n",
    "predicted_vs = data[\"predicted_vs\"]\n",
    "core_vs = data[\"core_vs\"]\n",
    "core_embeddigs = data[\"core_embeddings\"]\n",
    "core_threshold = data[\"core_threshold\"]\n",
    "core_embeddings = data[\"core_embeddings\"]\n",
    "predicted_embeddings = np.array([embedding for embedding in predicted_vs.get(include=[\"embeddings\"])[\"embeddings\"]])\n",
    "baseline_embeddings = np.array([embedding for embedding in baseline_vs.get(include=[\"embeddings\"])[\"embeddings\"]])\n",
    "core_mean_embedding.shape, predicted_embeddings.shape, baseline_embeddings.shape"
   ]
  },
  {
   "cell_type": "code",
   "execution_count": 85,
   "metadata": {},
   "outputs": [
    {
     "name": "stdout",
     "output_type": "stream",
     "text": [
      "Number of core publications in the baseline: 26\n",
      "Number of relevant publications in the baseline: 5135\n"
     ]
    }
   ],
   "source": [
    "cosine_sim = cosine_similarity(core_mean_embedding, baseline_embeddings).flatten()\n",
    "baseline_pubs[\"similarity\"] = cosine_sim\n",
    "\n",
    "core_pubs_in_baseline = baseline_pubs[baseline_pubs[\"id\"].isin(core_pubs)]\n",
    "relevent_baseline_pubs = baseline_pubs[baseline_pubs[\"similarity\"] >= core_threshold].copy()\n",
    "print(f\"Number of core publications in the baseline: {core_pubs_in_baseline.shape[0]}\")\n",
    "print(f\"Number of relevant publications in the baseline: {relevent_baseline_pubs.shape[0]}\")"
   ]
  },
  {
   "cell_type": "code",
   "execution_count": 86,
   "metadata": {},
   "outputs": [
    {
     "name": "stdout",
     "output_type": "stream",
     "text": [
      "Number of core publications in the predicted: 12\n",
      "Number of relevant publications in the predicted: 403\n"
     ]
    }
   ],
   "source": [
    "# predicted\n",
    "cosine_sim = cosine_similarity(core_mean_embedding, predicted_embeddings).flatten()\n",
    "predicted_pubs[\"similarity\"] = cosine_sim\n",
    "\n",
    "core_pubs_in_predicted = predicted_pubs[predicted_pubs[\"id\"].isin(core_pubs)]\n",
    "relevant_predicted_pubs = predicted_pubs[predicted_pubs[\"similarity\"] >= core_threshold].copy()\n",
    "print(f\"Number of core publications in the predicted: {core_pubs_in_predicted.shape[0]}\")\n",
    "print(f\"Number of relevant publications in the predicted: {relevant_predicted_pubs.shape[0]}\")"
   ]
  },
  {
   "cell_type": "markdown",
   "metadata": {},
   "source": [
    "### Cosine Similarity Measure"
   ]
  },
  {
   "cell_type": "code",
   "execution_count": 87,
   "metadata": {},
   "outputs": [
    {
     "data": {
      "text/html": [
       "<div>\n",
       "<style scoped>\n",
       "    .dataframe tbody tr th:only-of-type {\n",
       "        vertical-align: middle;\n",
       "    }\n",
       "\n",
       "    .dataframe tbody tr th {\n",
       "        vertical-align: top;\n",
       "    }\n",
       "\n",
       "    .dataframe thead th {\n",
       "        text-align: right;\n",
       "    }\n",
       "</style>\n",
       "<table border=\"1\" class=\"dataframe\">\n",
       "  <thead>\n",
       "    <tr style=\"text-align: right;\">\n",
       "      <th></th>\n",
       "      <th>Semantic Precision</th>\n",
       "      <th>Recall</th>\n",
       "      <th>Semantic F2</th>\n",
       "    </tr>\n",
       "  </thead>\n",
       "  <tbody>\n",
       "    <tr>\n",
       "      <th>Predicted</th>\n",
       "      <td>0.477488</td>\n",
       "      <td>0.279070</td>\n",
       "      <td>0.304365</td>\n",
       "    </tr>\n",
       "    <tr>\n",
       "      <th>Baseline</th>\n",
       "      <td>0.368947</td>\n",
       "      <td>0.604651</td>\n",
       "      <td>0.536147</td>\n",
       "    </tr>\n",
       "  </tbody>\n",
       "</table>\n",
       "</div>"
      ],
      "text/plain": [
       "           Semantic Precision    Recall  Semantic F2\n",
       "Predicted            0.477488  0.279070     0.304365\n",
       "Baseline             0.368947  0.604651     0.536147"
      ]
     },
     "execution_count": 87,
     "metadata": {},
     "output_type": "execute_result"
    }
   ],
   "source": [
    "recall = evaluate_recall(core_pubs, baseline_pubs, predicted_pubs)\n",
    "# semnatic precision: every element that is more similar than the least similar core publication is considered relevant\n",
    "# relevant_predicted_pubs: publications that are more similar than the least similar core publication.\n",
    "pred_precision = relevant_predicted_pubs.shape[0] / predicted_pubs.shape[0] # total number of found publications\n",
    "baseline_precision = (relevent_baseline_pubs.shape[0] / baseline_pubs.shape[0]) if baseline_pubs.shape[0] > 0 else 0\n",
    "pred_f2 = fscore(pred_precision, recall[\"predicted_recall\"], 2)\n",
    "baseline_f2 = fscore(baseline_precision, recall[\"baseline_recall\"], 2)\n",
    "df = pd.DataFrame({\n",
    "    \"Semantic Precision\": [pred_precision, baseline_precision],\n",
    "    \"Recall\": [recall[\"predicted_recall\"], recall[\"baseline_recall\"]],\n",
    "    \"Semantic F2\": [pred_f2, baseline_f2]\n",
    "}, index=[\"Predicted\", \"Baseline\"])\n",
    "df"
   ]
  },
  {
   "cell_type": "markdown",
   "metadata": {},
   "source": [
    "### Minimum Volume Enclosing Ellipsoid MMVE"
   ]
  },
  {
   "cell_type": "code",
   "execution_count": 88,
   "metadata": {},
   "outputs": [
    {
     "name": "stderr",
     "output_type": "stream",
     "text": [
      "100%|██████████| 13918/13918 [00:02<00:00, 6068.99it/s]\n",
      "100%|██████████| 844/844 [00:00<00:00, 5985.78it/s]\n"
     ]
    }
   ],
   "source": [
    "A, c = mvee(core_embeddings)\n",
    "base_is_inside = is_inside_ellipse(A, c, baseline_embeddings)\n",
    "predicted_is_inside = is_inside_ellipse(A, c, predicted_embeddings)"
   ]
  },
  {
   "cell_type": "code",
   "execution_count": 89,
   "metadata": {},
   "outputs": [
    {
     "name": "stdout",
     "output_type": "stream",
     "text": [
      "Baseline - Inside: 5988\n",
      "Predicted - Inside: 379\n"
     ]
    },
    {
     "data": {
      "text/html": [
       "<div>\n",
       "<style scoped>\n",
       "    .dataframe tbody tr th:only-of-type {\n",
       "        vertical-align: middle;\n",
       "    }\n",
       "\n",
       "    .dataframe tbody tr th {\n",
       "        vertical-align: top;\n",
       "    }\n",
       "\n",
       "    .dataframe thead th {\n",
       "        text-align: right;\n",
       "    }\n",
       "</style>\n",
       "<table border=\"1\" class=\"dataframe\">\n",
       "  <thead>\n",
       "    <tr style=\"text-align: right;\">\n",
       "      <th></th>\n",
       "      <th>MVVE Precision</th>\n",
       "      <th>Recall</th>\n",
       "      <th>MVVE F2</th>\n",
       "    </tr>\n",
       "  </thead>\n",
       "  <tbody>\n",
       "    <tr>\n",
       "      <th>Predicted</th>\n",
       "      <td>0.449052</td>\n",
       "      <td>0.279070</td>\n",
       "      <td>0.301928</td>\n",
       "    </tr>\n",
       "    <tr>\n",
       "      <th>Baseline</th>\n",
       "      <td>0.430234</td>\n",
       "      <td>0.604651</td>\n",
       "      <td>0.559303</td>\n",
       "    </tr>\n",
       "  </tbody>\n",
       "</table>\n",
       "</div>"
      ],
      "text/plain": [
       "           MVVE Precision    Recall   MVVE F2\n",
       "Predicted        0.449052  0.279070  0.301928\n",
       "Baseline         0.430234  0.604651  0.559303"
      ]
     },
     "execution_count": 89,
     "metadata": {},
     "output_type": "execute_result"
    }
   ],
   "source": [
    "mvve_prec_baseline = base_is_inside.sum() / len(base_is_inside)\n",
    "mvve_prec_predicted = predicted_is_inside.sum() / len(predicted_is_inside)\n",
    "\n",
    "mvve_df = pd.DataFrame({\n",
    "    \"MVVE Precision\": [mvve_prec_predicted, mvve_prec_baseline],\n",
    "    \"Recall\": [recall[\"predicted_recall\"], recall[\"baseline_recall\"]],\n",
    "    \"MVVE F2\": [fscore(mvve_prec_predicted, recall[\"predicted_recall\"], 2), fscore(mvve_prec_baseline, recall[\"baseline_recall\"], 2)]\n",
    "}, index=[\"Predicted\", \"Baseline\"])\n",
    "print(f\"Baseline - Inside: {base_is_inside.sum()}\")\n",
    "print(f\"Predicted - Inside: {predicted_is_inside.sum()}\")\n",
    "mvve_df"
   ]
  },
  {
   "cell_type": "code",
   "execution_count": 90,
   "metadata": {},
   "outputs": [
    {
     "data": {
      "text/html": [
       "<div>\n",
       "<style scoped>\n",
       "    .dataframe tbody tr th:only-of-type {\n",
       "        vertical-align: middle;\n",
       "    }\n",
       "\n",
       "    .dataframe tbody tr th {\n",
       "        vertical-align: top;\n",
       "    }\n",
       "\n",
       "    .dataframe thead th {\n",
       "        text-align: right;\n",
       "    }\n",
       "</style>\n",
       "<table border=\"1\" class=\"dataframe\">\n",
       "  <thead>\n",
       "    <tr style=\"text-align: right;\">\n",
       "      <th></th>\n",
       "      <th>Query</th>\n",
       "      <th>Recall</th>\n",
       "      <th>Semantic Precision</th>\n",
       "      <th>Semantic F2</th>\n",
       "      <th>MVVE Precision</th>\n",
       "      <th>MVVE F2</th>\n",
       "    </tr>\n",
       "  </thead>\n",
       "  <tbody>\n",
       "    <tr>\n",
       "      <th>Predicted</th>\n",
       "      <td>\"digital surgery\" OR \"surgical navigation\" OR ...</td>\n",
       "      <td>0.957</td>\n",
       "      <td>0.081</td>\n",
       "      <td>0.302</td>\n",
       "      <td>0.348</td>\n",
       "      <td>0.709</td>\n",
       "    </tr>\n",
       "    <tr>\n",
       "      <th>Baseline</th>\n",
       "      <td>Robotic Arthroplasty</td>\n",
       "      <td>0.957</td>\n",
       "      <td>0.720</td>\n",
       "      <td>0.898</td>\n",
       "      <td>0.469</td>\n",
       "      <td>0.792</td>\n",
       "    </tr>\n",
       "    <tr>\n",
       "      <th>Predicted</th>\n",
       "      <td>\"compliant materials\" OR (soft robotics) OR \"s...</td>\n",
       "      <td>0.722</td>\n",
       "      <td>0.507</td>\n",
       "      <td>0.666</td>\n",
       "      <td>0.422</td>\n",
       "      <td>0.632</td>\n",
       "    </tr>\n",
       "    <tr>\n",
       "      <th>Baseline</th>\n",
       "      <td>Soft Robotics</td>\n",
       "      <td>0.556</td>\n",
       "      <td>0.755</td>\n",
       "      <td>0.587</td>\n",
       "      <td>0.464</td>\n",
       "      <td>0.534</td>\n",
       "    </tr>\n",
       "    <tr>\n",
       "      <th>Predicted</th>\n",
       "      <td>\"crop yield estimation\" OR \"crop simulation mo...</td>\n",
       "      <td>0.652</td>\n",
       "      <td>0.250</td>\n",
       "      <td>0.494</td>\n",
       "      <td>0.638</td>\n",
       "      <td>0.649</td>\n",
       "    </tr>\n",
       "    <tr>\n",
       "      <th>Baseline</th>\n",
       "      <td>Crop Yield Prediction</td>\n",
       "      <td>0.543</td>\n",
       "      <td>0.622</td>\n",
       "      <td>0.558</td>\n",
       "      <td>0.573</td>\n",
       "      <td>0.549</td>\n",
       "    </tr>\n",
       "    <tr>\n",
       "      <th>Predicted</th>\n",
       "      <td>\\n(\"process adaptation\" OR \"processes adaptati...</td>\n",
       "      <td>0.279</td>\n",
       "      <td>0.477</td>\n",
       "      <td>0.304</td>\n",
       "      <td>0.449</td>\n",
       "      <td>0.302</td>\n",
       "    </tr>\n",
       "    <tr>\n",
       "      <th>Baseline</th>\n",
       "      <td>Software Process Line</td>\n",
       "      <td>0.605</td>\n",
       "      <td>0.369</td>\n",
       "      <td>0.536</td>\n",
       "      <td>0.430</td>\n",
       "      <td>0.559</td>\n",
       "    </tr>\n",
       "    <tr>\n",
       "      <th>Predicted</th>\n",
       "      <td>(synthetic biology) OR \"genome editing\" OR \"mi...</td>\n",
       "      <td>0.586</td>\n",
       "      <td>0.553</td>\n",
       "      <td>0.579</td>\n",
       "      <td>0.502</td>\n",
       "      <td>0.567</td>\n",
       "    </tr>\n",
       "    <tr>\n",
       "      <th>Baseline</th>\n",
       "      <td>Synthetic Biology</td>\n",
       "      <td>0.207</td>\n",
       "      <td>0.619</td>\n",
       "      <td>0.239</td>\n",
       "      <td>0.463</td>\n",
       "      <td>0.233</td>\n",
       "    </tr>\n",
       "    <tr>\n",
       "      <th>Predicted</th>\n",
       "      <td>\"resilience assessment\" OR \"resilience strateg...</td>\n",
       "      <td>0.222</td>\n",
       "      <td>0.290</td>\n",
       "      <td>0.233</td>\n",
       "      <td>0.532</td>\n",
       "      <td>0.252</td>\n",
       "    </tr>\n",
       "    <tr>\n",
       "      <th>Baseline</th>\n",
       "      <td>Resilience in Business and management</td>\n",
       "      <td>0.000</td>\n",
       "      <td>0.484</td>\n",
       "      <td>0.000</td>\n",
       "      <td>0.497</td>\n",
       "      <td>0.000</td>\n",
       "    </tr>\n",
       "    <tr>\n",
       "      <th>Predicted</th>\n",
       "      <td>\"spinal cord compression\" OR \"spinal stenosis\"...</td>\n",
       "      <td>0.872</td>\n",
       "      <td>0.454</td>\n",
       "      <td>0.737</td>\n",
       "      <td>0.514</td>\n",
       "      <td>0.766</td>\n",
       "    </tr>\n",
       "    <tr>\n",
       "      <th>Baseline</th>\n",
       "      <td>Cervical Myelopathy</td>\n",
       "      <td>0.787</td>\n",
       "      <td>0.748</td>\n",
       "      <td>0.779</td>\n",
       "      <td>0.485</td>\n",
       "      <td>0.700</td>\n",
       "    </tr>\n",
       "    <tr>\n",
       "      <th>Predicted</th>\n",
       "      <td>\"precision agriculture\" OR \"geospatial analysi...</td>\n",
       "      <td>0.520</td>\n",
       "      <td>0.271</td>\n",
       "      <td>0.439</td>\n",
       "      <td>0.460</td>\n",
       "      <td>0.507</td>\n",
       "    </tr>\n",
       "    <tr>\n",
       "      <th>Baseline</th>\n",
       "      <td>Drones in Agriculture</td>\n",
       "      <td>0.040</td>\n",
       "      <td>0.568</td>\n",
       "      <td>0.049</td>\n",
       "      <td>0.556</td>\n",
       "      <td>0.049</td>\n",
       "    </tr>\n",
       "    <tr>\n",
       "      <th>Predicted</th>\n",
       "      <td>\"heritage tourism\" OR \"nature tourism\" OR \"tou...</td>\n",
       "      <td>0.080</td>\n",
       "      <td>0.005</td>\n",
       "      <td>0.019</td>\n",
       "      <td>0.398</td>\n",
       "      <td>0.095</td>\n",
       "    </tr>\n",
       "    <tr>\n",
       "      <th>Baseline</th>\n",
       "      <td>Tourism Growth Nexus</td>\n",
       "      <td>0.080</td>\n",
       "      <td>0.362</td>\n",
       "      <td>0.095</td>\n",
       "      <td>0.421</td>\n",
       "      <td>0.095</td>\n",
       "    </tr>\n",
       "    <tr>\n",
       "      <th>Predicted</th>\n",
       "      <td>\"exergy analysis\" OR \"sustainable biofuel\" OR ...</td>\n",
       "      <td>0.360</td>\n",
       "      <td>0.472</td>\n",
       "      <td>0.378</td>\n",
       "      <td>0.470</td>\n",
       "      <td>0.378</td>\n",
       "    </tr>\n",
       "    <tr>\n",
       "      <th>Baseline</th>\n",
       "      <td>Sustainable Biofuel Economy</td>\n",
       "      <td>0.020</td>\n",
       "      <td>0.619</td>\n",
       "      <td>0.025</td>\n",
       "      <td>0.526</td>\n",
       "      <td>0.025</td>\n",
       "    </tr>\n",
       "    <tr>\n",
       "      <th>Predicted</th>\n",
       "      <td>\"perovskite solar cells\" OR \"perovskite compos...</td>\n",
       "      <td>1.000</td>\n",
       "      <td>0.524</td>\n",
       "      <td>0.846</td>\n",
       "      <td>0.516</td>\n",
       "      <td>0.842</td>\n",
       "    </tr>\n",
       "    <tr>\n",
       "      <th>Baseline</th>\n",
       "      <td>Perovskite Solar Cells Stability</td>\n",
       "      <td>0.897</td>\n",
       "      <td>0.815</td>\n",
       "      <td>0.879</td>\n",
       "      <td>0.495</td>\n",
       "      <td>0.771</td>\n",
       "    </tr>\n",
       "    <tr>\n",
       "      <th>Predicted</th>\n",
       "      <td>\"nanocarriers\" OR \"nanoparticle characterizati...</td>\n",
       "      <td>0.040</td>\n",
       "      <td>0.888</td>\n",
       "      <td>0.049</td>\n",
       "      <td>0.506</td>\n",
       "      <td>0.049</td>\n",
       "    </tr>\n",
       "    <tr>\n",
       "      <th>Baseline</th>\n",
       "      <td>Nanopharmaceuticals OR Nanonutraceuticals</td>\n",
       "      <td>0.000</td>\n",
       "      <td>0.996</td>\n",
       "      <td>0.000</td>\n",
       "      <td>0.506</td>\n",
       "      <td>0.000</td>\n",
       "    </tr>\n",
       "    <tr>\n",
       "      <th>Predicted</th>\n",
       "      <td>\"climate action\" OR \"logistics efficiency\" OR ...</td>\n",
       "      <td>0.237</td>\n",
       "      <td>0.281</td>\n",
       "      <td>0.245</td>\n",
       "      <td>0.616</td>\n",
       "      <td>0.270</td>\n",
       "    </tr>\n",
       "    <tr>\n",
       "      <th>Baseline</th>\n",
       "      <td>Green Warehousing</td>\n",
       "      <td>0.158</td>\n",
       "      <td>0.797</td>\n",
       "      <td>0.188</td>\n",
       "      <td>0.513</td>\n",
       "      <td>0.183</td>\n",
       "    </tr>\n",
       "    <tr>\n",
       "      <th>Predicted</th>\n",
       "      <td>\"edge data processing\" OR \"distributed machine...</td>\n",
       "      <td>0.389</td>\n",
       "      <td>0.636</td>\n",
       "      <td>0.422</td>\n",
       "      <td>0.464</td>\n",
       "      <td>0.402</td>\n",
       "    </tr>\n",
       "    <tr>\n",
       "      <th>Baseline</th>\n",
       "      <td>AI on Edge Devices</td>\n",
       "      <td>0.111</td>\n",
       "      <td>0.868</td>\n",
       "      <td>0.135</td>\n",
       "      <td>0.436</td>\n",
       "      <td>0.131</td>\n",
       "    </tr>\n",
       "    <tr>\n",
       "      <th>Predicted</th>\n",
       "      <td>\"smart healthcare\" OR \"mhealth\" OR (internet o...</td>\n",
       "      <td>0.517</td>\n",
       "      <td>0.404</td>\n",
       "      <td>0.490</td>\n",
       "      <td>0.482</td>\n",
       "      <td>0.510</td>\n",
       "    </tr>\n",
       "    <tr>\n",
       "      <th>Baseline</th>\n",
       "      <td>Internet of Things in Healthcare</td>\n",
       "      <td>0.345</td>\n",
       "      <td>0.690</td>\n",
       "      <td>0.383</td>\n",
       "      <td>0.451</td>\n",
       "      <td>0.362</td>\n",
       "    </tr>\n",
       "    <tr>\n",
       "      <th>Predicted</th>\n",
       "      <td>\"bioenergy\" OR \"decarbonization\" OR (energy gr...</td>\n",
       "      <td>0.037</td>\n",
       "      <td>0.032</td>\n",
       "      <td>0.036</td>\n",
       "      <td>0.412</td>\n",
       "      <td>0.045</td>\n",
       "    </tr>\n",
       "    <tr>\n",
       "      <th>Baseline</th>\n",
       "      <td>Energy Growth Nexus</td>\n",
       "      <td>0.037</td>\n",
       "      <td>0.420</td>\n",
       "      <td>0.045</td>\n",
       "      <td>0.428</td>\n",
       "      <td>0.045</td>\n",
       "    </tr>\n",
       "  </tbody>\n",
       "</table>\n",
       "</div>"
      ],
      "text/plain": [
       "                                                       Query  Recall  \\\n",
       "Predicted  \"digital surgery\" OR \"surgical navigation\" OR ...   0.957   \n",
       "Baseline                                Robotic Arthroplasty   0.957   \n",
       "Predicted  \"compliant materials\" OR (soft robotics) OR \"s...   0.722   \n",
       "Baseline                                       Soft Robotics   0.556   \n",
       "Predicted  \"crop yield estimation\" OR \"crop simulation mo...   0.652   \n",
       "Baseline                               Crop Yield Prediction   0.543   \n",
       "Predicted  \\n(\"process adaptation\" OR \"processes adaptati...   0.279   \n",
       "Baseline                               Software Process Line   0.605   \n",
       "Predicted  (synthetic biology) OR \"genome editing\" OR \"mi...   0.586   \n",
       "Baseline                                   Synthetic Biology   0.207   \n",
       "Predicted  \"resilience assessment\" OR \"resilience strateg...   0.222   \n",
       "Baseline               Resilience in Business and management   0.000   \n",
       "Predicted  \"spinal cord compression\" OR \"spinal stenosis\"...   0.872   \n",
       "Baseline                                 Cervical Myelopathy   0.787   \n",
       "Predicted  \"precision agriculture\" OR \"geospatial analysi...   0.520   \n",
       "Baseline                               Drones in Agriculture   0.040   \n",
       "Predicted  \"heritage tourism\" OR \"nature tourism\" OR \"tou...   0.080   \n",
       "Baseline                                Tourism Growth Nexus   0.080   \n",
       "Predicted  \"exergy analysis\" OR \"sustainable biofuel\" OR ...   0.360   \n",
       "Baseline                         Sustainable Biofuel Economy   0.020   \n",
       "Predicted  \"perovskite solar cells\" OR \"perovskite compos...   1.000   \n",
       "Baseline                    Perovskite Solar Cells Stability   0.897   \n",
       "Predicted  \"nanocarriers\" OR \"nanoparticle characterizati...   0.040   \n",
       "Baseline           Nanopharmaceuticals OR Nanonutraceuticals   0.000   \n",
       "Predicted  \"climate action\" OR \"logistics efficiency\" OR ...   0.237   \n",
       "Baseline                                   Green Warehousing   0.158   \n",
       "Predicted  \"edge data processing\" OR \"distributed machine...   0.389   \n",
       "Baseline                                  AI on Edge Devices   0.111   \n",
       "Predicted  \"smart healthcare\" OR \"mhealth\" OR (internet o...   0.517   \n",
       "Baseline                    Internet of Things in Healthcare   0.345   \n",
       "Predicted  \"bioenergy\" OR \"decarbonization\" OR (energy gr...   0.037   \n",
       "Baseline                                 Energy Growth Nexus   0.037   \n",
       "\n",
       "           Semantic Precision  Semantic F2  MVVE Precision  MVVE F2  \n",
       "Predicted               0.081        0.302           0.348    0.709  \n",
       "Baseline                0.720        0.898           0.469    0.792  \n",
       "Predicted               0.507        0.666           0.422    0.632  \n",
       "Baseline                0.755        0.587           0.464    0.534  \n",
       "Predicted               0.250        0.494           0.638    0.649  \n",
       "Baseline                0.622        0.558           0.573    0.549  \n",
       "Predicted               0.477        0.304           0.449    0.302  \n",
       "Baseline                0.369        0.536           0.430    0.559  \n",
       "Predicted               0.553        0.579           0.502    0.567  \n",
       "Baseline                0.619        0.239           0.463    0.233  \n",
       "Predicted               0.290        0.233           0.532    0.252  \n",
       "Baseline                0.484        0.000           0.497    0.000  \n",
       "Predicted               0.454        0.737           0.514    0.766  \n",
       "Baseline                0.748        0.779           0.485    0.700  \n",
       "Predicted               0.271        0.439           0.460    0.507  \n",
       "Baseline                0.568        0.049           0.556    0.049  \n",
       "Predicted               0.005        0.019           0.398    0.095  \n",
       "Baseline                0.362        0.095           0.421    0.095  \n",
       "Predicted               0.472        0.378           0.470    0.378  \n",
       "Baseline                0.619        0.025           0.526    0.025  \n",
       "Predicted               0.524        0.846           0.516    0.842  \n",
       "Baseline                0.815        0.879           0.495    0.771  \n",
       "Predicted               0.888        0.049           0.506    0.049  \n",
       "Baseline                0.996        0.000           0.506    0.000  \n",
       "Predicted               0.281        0.245           0.616    0.270  \n",
       "Baseline                0.797        0.188           0.513    0.183  \n",
       "Predicted               0.636        0.422           0.464    0.402  \n",
       "Baseline                0.868        0.135           0.436    0.131  \n",
       "Predicted               0.404        0.490           0.482    0.510  \n",
       "Baseline                0.690        0.383           0.451    0.362  \n",
       "Predicted               0.032        0.036           0.412    0.045  \n",
       "Baseline                0.420        0.045           0.428    0.045  "
      ]
     },
     "metadata": {},
     "output_type": "display_data"
    }
   ],
   "source": [
    "results = pd.DataFrame({\n",
    "    \"Query\": [predicted] + [baseline],\n",
    "    \"Recall\": [recall[\"predicted_recall\"], recall[\"baseline_recall\"]],\n",
    "    \"Semantic Precision\": [pred_precision, baseline_precision],\n",
    "    \"Semantic F2\": [pred_f2, baseline_f2],\n",
    "    \"MVVE Precision\": [mvve_prec_predicted, mvve_prec_baseline],\n",
    "    \"MVVE F2\": [fscore(mvve_prec_predicted, recall[\"predicted_recall\"], 2), fscore(mvve_prec_baseline, recall[\"baseline_recall\"], 2)]\n",
    "}, index=[\"Predicted\", \"Baseline\"])\n",
    "\n",
    "try:\n",
    "    old_results = pd.read_excel(\"results.xlsx\", index_col=0)\n",
    "    results = pd.concat([old_results, results]).drop_duplicates(subset=[\"Query\"]).round(3)\n",
    "    results.to_excel(\"results.xlsx\")\n",
    "except FileNotFoundError:\n",
    "    results.to_excel(\"results.xlsx\")\n",
    "\n",
    "display(results)"
   ]
  },
  {
   "cell_type": "code",
   "execution_count": 91,
   "metadata": {},
   "outputs": [
    {
     "name": "stderr",
     "output_type": "stream",
     "text": [
      "C:\\Users\\Mohammad Sakhnini\\AppData\\Local\\Temp\\ipykernel_19892\\2014097421.py:2: FutureWarning:\n",
      "\n",
      "ChainedAssignmentError: behaviour will change in pandas 3.0!\n",
      "You are setting values through chained assignment. Currently this works in certain cases, but when using Copy-on-Write (which will become the default behaviour in pandas 3.0) this will never work to update the original DataFrame or Series, because the intermediate object on which we are setting values will behave as a copy.\n",
      "A typical example is when you are setting values in a column of a DataFrame, like:\n",
      "\n",
      "df[\"col\"][row_indexer] = value\n",
      "\n",
      "Use `df.loc[row_indexer, \"col\"] = values` instead, to perform the assignment in a single step and ensure this keeps updating the original `df`.\n",
      "\n",
      "See the caveats in the documentation: https://pandas.pydata.org/pandas-docs/stable/user_guide/indexing.html#returning-a-view-versus-a-copy\n",
      "\n",
      "\n",
      "C:\\Users\\Mohammad Sakhnini\\AppData\\Local\\Temp\\ipykernel_19892\\2014097421.py:2: SettingWithCopyWarning:\n",
      "\n",
      "\n",
      "A value is trying to be set on a copy of a slice from a DataFrame\n",
      "\n",
      "See the caveats in the documentation: https://pandas.pydata.org/pandas-docs/stable/user_guide/indexing.html#returning-a-view-versus-a-copy\n",
      "\n"
     ]
    }
   ],
   "source": [
    "results[\"Topic\"] = results[\"Query\"].copy()\n",
    "results[\"Topic\"][0::2] = np.nan\n",
    "plt_df = results.bfill()\n",
    "plt_df.reset_index(inplace=True)"
   ]
  },
  {
   "cell_type": "code",
   "execution_count": 92,
   "metadata": {},
   "outputs": [
    {
     "data": {
      "application/vnd.plotly.v1+json": {
       "config": {
        "plotlyServerURL": "https://plot.ly"
       },
       "data": [
        {
         "alignmentgroup": "True",
         "bingroup": "x",
         "histfunc": "sum",
         "hovertemplate": "variable=Recall<br>index=Predicted<br>Topic=%{x}<br>sum of value=%{y}<extra></extra>",
         "legendgroup": "Recall",
         "marker": {
          "color": "#636efa",
          "pattern": {
           "shape": ""
          }
         },
         "name": "Recall",
         "offsetgroup": "Recall",
         "orientation": "v",
         "showlegend": true,
         "type": "histogram",
         "x": [
          "Energy Growth Nexus",
          "Internet of Things in Healthcare",
          "AI on Edge Devices",
          "Green Warehousing",
          "Nanopharmaceuticals OR Nanonutraceuticals",
          "Perovskite Solar Cells Stability",
          "Sustainable Biofuel Economy",
          "Tourism Growth Nexus",
          "Drones in Agriculture",
          "Cervical Myelopathy",
          "Resilience in Business and management",
          "Synthetic Biology",
          "Software Process Line",
          "Crop Yield Prediction",
          "Soft Robotics",
          "Robotic Arthroplasty"
         ],
         "xaxis": "x2",
         "y": [
          0.037,
          0.517,
          0.389,
          0.237,
          0.04,
          1,
          0.36,
          0.08,
          0.52,
          0.872,
          0.222,
          0.586,
          0.279,
          0.652,
          0.722,
          0.957
         ],
         "yaxis": "y2"
        },
        {
         "alignmentgroup": "True",
         "bingroup": "x",
         "histfunc": "sum",
         "hovertemplate": "variable=Recall<br>index=Baseline<br>Topic=%{x}<br>sum of value=%{y}<extra></extra>",
         "legendgroup": "Recall",
         "marker": {
          "color": "#636efa",
          "pattern": {
           "shape": ""
          }
         },
         "name": "Recall",
         "offsetgroup": "Recall",
         "orientation": "v",
         "showlegend": false,
         "type": "histogram",
         "x": [
          "Energy Growth Nexus",
          "Internet of Things in Healthcare",
          "AI on Edge Devices",
          "Green Warehousing",
          "Nanopharmaceuticals OR Nanonutraceuticals",
          "Perovskite Solar Cells Stability",
          "Sustainable Biofuel Economy",
          "Tourism Growth Nexus",
          "Drones in Agriculture",
          "Cervical Myelopathy",
          "Resilience in Business and management",
          "Synthetic Biology",
          "Software Process Line",
          "Crop Yield Prediction",
          "Soft Robotics",
          "Robotic Arthroplasty"
         ],
         "xaxis": "x",
         "y": [
          0.037,
          0.345,
          0.111,
          0.158,
          0,
          0.897,
          0.02,
          0.08,
          0.04,
          0.787,
          0,
          0.207,
          0.605,
          0.543,
          0.556,
          0.957
         ],
         "yaxis": "y"
        },
        {
         "alignmentgroup": "True",
         "bingroup": "x",
         "histfunc": "sum",
         "hovertemplate": "variable=Semantic Precision<br>index=Predicted<br>Topic=%{x}<br>sum of value=%{y}<extra></extra>",
         "legendgroup": "Semantic Precision",
         "marker": {
          "color": "#EF553B",
          "pattern": {
           "shape": ""
          }
         },
         "name": "Semantic Precision",
         "offsetgroup": "Semantic Precision",
         "orientation": "v",
         "showlegend": true,
         "type": "histogram",
         "x": [
          "Energy Growth Nexus",
          "Internet of Things in Healthcare",
          "AI on Edge Devices",
          "Green Warehousing",
          "Nanopharmaceuticals OR Nanonutraceuticals",
          "Perovskite Solar Cells Stability",
          "Sustainable Biofuel Economy",
          "Tourism Growth Nexus",
          "Drones in Agriculture",
          "Cervical Myelopathy",
          "Resilience in Business and management",
          "Synthetic Biology",
          "Software Process Line",
          "Crop Yield Prediction",
          "Soft Robotics",
          "Robotic Arthroplasty"
         ],
         "xaxis": "x2",
         "y": [
          0.032,
          0.404,
          0.636,
          0.281,
          0.888,
          0.524,
          0.472,
          0.005,
          0.271,
          0.454,
          0.29,
          0.553,
          0.477,
          0.25,
          0.507,
          0.081
         ],
         "yaxis": "y2"
        },
        {
         "alignmentgroup": "True",
         "bingroup": "x",
         "histfunc": "sum",
         "hovertemplate": "variable=Semantic Precision<br>index=Baseline<br>Topic=%{x}<br>sum of value=%{y}<extra></extra>",
         "legendgroup": "Semantic Precision",
         "marker": {
          "color": "#EF553B",
          "pattern": {
           "shape": ""
          }
         },
         "name": "Semantic Precision",
         "offsetgroup": "Semantic Precision",
         "orientation": "v",
         "showlegend": false,
         "type": "histogram",
         "x": [
          "Energy Growth Nexus",
          "Internet of Things in Healthcare",
          "AI on Edge Devices",
          "Green Warehousing",
          "Nanopharmaceuticals OR Nanonutraceuticals",
          "Perovskite Solar Cells Stability",
          "Sustainable Biofuel Economy",
          "Tourism Growth Nexus",
          "Drones in Agriculture",
          "Cervical Myelopathy",
          "Resilience in Business and management",
          "Synthetic Biology",
          "Software Process Line",
          "Crop Yield Prediction",
          "Soft Robotics",
          "Robotic Arthroplasty"
         ],
         "xaxis": "x",
         "y": [
          0.42,
          0.69,
          0.868,
          0.797,
          0.996,
          0.815,
          0.619,
          0.362,
          0.568,
          0.748,
          0.484,
          0.619,
          0.369,
          0.622,
          0.755,
          0.72
         ],
         "yaxis": "y"
        },
        {
         "alignmentgroup": "True",
         "bingroup": "x",
         "histfunc": "sum",
         "hovertemplate": "variable=MVVE Precision<br>index=Predicted<br>Topic=%{x}<br>sum of value=%{y}<extra></extra>",
         "legendgroup": "MVVE Precision",
         "marker": {
          "color": "#00cc96",
          "pattern": {
           "shape": ""
          }
         },
         "name": "MVVE Precision",
         "offsetgroup": "MVVE Precision",
         "orientation": "v",
         "showlegend": true,
         "type": "histogram",
         "x": [
          "Energy Growth Nexus",
          "Internet of Things in Healthcare",
          "AI on Edge Devices",
          "Green Warehousing",
          "Nanopharmaceuticals OR Nanonutraceuticals",
          "Perovskite Solar Cells Stability",
          "Sustainable Biofuel Economy",
          "Tourism Growth Nexus",
          "Drones in Agriculture",
          "Cervical Myelopathy",
          "Resilience in Business and management",
          "Synthetic Biology",
          "Software Process Line",
          "Crop Yield Prediction",
          "Soft Robotics",
          "Robotic Arthroplasty"
         ],
         "xaxis": "x2",
         "y": [
          0.412,
          0.482,
          0.464,
          0.616,
          0.506,
          0.516,
          0.47,
          0.398,
          0.46,
          0.514,
          0.532,
          0.502,
          0.449,
          0.638,
          0.422,
          0.348
         ],
         "yaxis": "y2"
        },
        {
         "alignmentgroup": "True",
         "bingroup": "x",
         "histfunc": "sum",
         "hovertemplate": "variable=MVVE Precision<br>index=Baseline<br>Topic=%{x}<br>sum of value=%{y}<extra></extra>",
         "legendgroup": "MVVE Precision",
         "marker": {
          "color": "#00cc96",
          "pattern": {
           "shape": ""
          }
         },
         "name": "MVVE Precision",
         "offsetgroup": "MVVE Precision",
         "orientation": "v",
         "showlegend": false,
         "type": "histogram",
         "x": [
          "Energy Growth Nexus",
          "Internet of Things in Healthcare",
          "AI on Edge Devices",
          "Green Warehousing",
          "Nanopharmaceuticals OR Nanonutraceuticals",
          "Perovskite Solar Cells Stability",
          "Sustainable Biofuel Economy",
          "Tourism Growth Nexus",
          "Drones in Agriculture",
          "Cervical Myelopathy",
          "Resilience in Business and management",
          "Synthetic Biology",
          "Software Process Line",
          "Crop Yield Prediction",
          "Soft Robotics",
          "Robotic Arthroplasty"
         ],
         "xaxis": "x",
         "y": [
          0.428,
          0.451,
          0.436,
          0.513,
          0.506,
          0.495,
          0.526,
          0.421,
          0.556,
          0.485,
          0.497,
          0.463,
          0.43,
          0.573,
          0.464,
          0.469
         ],
         "yaxis": "y"
        },
        {
         "alignmentgroup": "True",
         "bingroup": "x",
         "histfunc": "sum",
         "hovertemplate": "variable=Semantic F2<br>index=Predicted<br>Topic=%{x}<br>sum of value=%{y}<extra></extra>",
         "legendgroup": "Semantic F2",
         "marker": {
          "color": "#ab63fa",
          "pattern": {
           "shape": ""
          }
         },
         "name": "Semantic F2",
         "offsetgroup": "Semantic F2",
         "orientation": "v",
         "showlegend": true,
         "type": "histogram",
         "x": [
          "Energy Growth Nexus",
          "Internet of Things in Healthcare",
          "AI on Edge Devices",
          "Green Warehousing",
          "Nanopharmaceuticals OR Nanonutraceuticals",
          "Perovskite Solar Cells Stability",
          "Sustainable Biofuel Economy",
          "Tourism Growth Nexus",
          "Drones in Agriculture",
          "Cervical Myelopathy",
          "Resilience in Business and management",
          "Synthetic Biology",
          "Software Process Line",
          "Crop Yield Prediction",
          "Soft Robotics",
          "Robotic Arthroplasty"
         ],
         "xaxis": "x2",
         "y": [
          0.036,
          0.49,
          0.422,
          0.245,
          0.049,
          0.846,
          0.378,
          0.019,
          0.439,
          0.737,
          0.233,
          0.579,
          0.304,
          0.494,
          0.666,
          0.302
         ],
         "yaxis": "y2"
        },
        {
         "alignmentgroup": "True",
         "bingroup": "x",
         "histfunc": "sum",
         "hovertemplate": "variable=Semantic F2<br>index=Baseline<br>Topic=%{x}<br>sum of value=%{y}<extra></extra>",
         "legendgroup": "Semantic F2",
         "marker": {
          "color": "#ab63fa",
          "pattern": {
           "shape": ""
          }
         },
         "name": "Semantic F2",
         "offsetgroup": "Semantic F2",
         "orientation": "v",
         "showlegend": false,
         "type": "histogram",
         "x": [
          "Energy Growth Nexus",
          "Internet of Things in Healthcare",
          "AI on Edge Devices",
          "Green Warehousing",
          "Nanopharmaceuticals OR Nanonutraceuticals",
          "Perovskite Solar Cells Stability",
          "Sustainable Biofuel Economy",
          "Tourism Growth Nexus",
          "Drones in Agriculture",
          "Cervical Myelopathy",
          "Resilience in Business and management",
          "Synthetic Biology",
          "Software Process Line",
          "Crop Yield Prediction",
          "Soft Robotics",
          "Robotic Arthroplasty"
         ],
         "xaxis": "x",
         "y": [
          0.045,
          0.383,
          0.135,
          0.188,
          0,
          0.879,
          0.025,
          0.095,
          0.049,
          0.779,
          0,
          0.239,
          0.536,
          0.558,
          0.587,
          0.898
         ],
         "yaxis": "y"
        },
        {
         "alignmentgroup": "True",
         "bingroup": "x",
         "histfunc": "sum",
         "hovertemplate": "variable=MVVE F2<br>index=Predicted<br>Topic=%{x}<br>sum of value=%{y}<extra></extra>",
         "legendgroup": "MVVE F2",
         "marker": {
          "color": "#FFA15A",
          "pattern": {
           "shape": ""
          }
         },
         "name": "MVVE F2",
         "offsetgroup": "MVVE F2",
         "orientation": "v",
         "showlegend": true,
         "type": "histogram",
         "x": [
          "Energy Growth Nexus",
          "Internet of Things in Healthcare",
          "AI on Edge Devices",
          "Green Warehousing",
          "Nanopharmaceuticals OR Nanonutraceuticals",
          "Perovskite Solar Cells Stability",
          "Sustainable Biofuel Economy",
          "Tourism Growth Nexus",
          "Drones in Agriculture",
          "Cervical Myelopathy",
          "Resilience in Business and management",
          "Synthetic Biology",
          "Software Process Line",
          "Crop Yield Prediction",
          "Soft Robotics",
          "Robotic Arthroplasty"
         ],
         "xaxis": "x2",
         "y": [
          0.045,
          0.51,
          0.402,
          0.27,
          0.049,
          0.842,
          0.378,
          0.095,
          0.507,
          0.766,
          0.252,
          0.567,
          0.302,
          0.649,
          0.632,
          0.709
         ],
         "yaxis": "y2"
        },
        {
         "alignmentgroup": "True",
         "bingroup": "x",
         "histfunc": "sum",
         "hovertemplate": "variable=MVVE F2<br>index=Baseline<br>Topic=%{x}<br>sum of value=%{y}<extra></extra>",
         "legendgroup": "MVVE F2",
         "marker": {
          "color": "#FFA15A",
          "pattern": {
           "shape": ""
          }
         },
         "name": "MVVE F2",
         "offsetgroup": "MVVE F2",
         "orientation": "v",
         "showlegend": false,
         "type": "histogram",
         "x": [
          "Energy Growth Nexus",
          "Internet of Things in Healthcare",
          "AI on Edge Devices",
          "Green Warehousing",
          "Nanopharmaceuticals OR Nanonutraceuticals",
          "Perovskite Solar Cells Stability",
          "Sustainable Biofuel Economy",
          "Tourism Growth Nexus",
          "Drones in Agriculture",
          "Cervical Myelopathy",
          "Resilience in Business and management",
          "Synthetic Biology",
          "Software Process Line",
          "Crop Yield Prediction",
          "Soft Robotics",
          "Robotic Arthroplasty"
         ],
         "xaxis": "x",
         "y": [
          0.045,
          0.362,
          0.131,
          0.183,
          0,
          0.771,
          0.025,
          0.095,
          0.049,
          0.7,
          0,
          0.233,
          0.559,
          0.549,
          0.534,
          0.792
         ],
         "yaxis": "y"
        }
       ],
       "layout": {
        "annotations": [
         {
          "font": {},
          "showarrow": false,
          "text": "Baseline",
          "textangle": 90,
          "x": 0.98,
          "xanchor": "left",
          "xref": "paper",
          "y": 0.225,
          "yanchor": "middle",
          "yref": "paper"
         },
         {
          "font": {},
          "showarrow": false,
          "text": "Predicted",
          "textangle": 90,
          "x": 0.98,
          "xanchor": "left",
          "xref": "paper",
          "y": 0.775,
          "yanchor": "middle",
          "yref": "paper"
         }
        ],
        "barmode": "group",
        "legend": {
         "title": {
          "text": "variable"
         },
         "tracegroupgap": 0
        },
        "template": {
         "data": {
          "bar": [
           {
            "error_x": {
             "color": "#2a3f5f"
            },
            "error_y": {
             "color": "#2a3f5f"
            },
            "marker": {
             "line": {
              "color": "#E5ECF6",
              "width": 0.5
             },
             "pattern": {
              "fillmode": "overlay",
              "size": 10,
              "solidity": 0.2
             }
            },
            "type": "bar"
           }
          ],
          "barpolar": [
           {
            "marker": {
             "line": {
              "color": "#E5ECF6",
              "width": 0.5
             },
             "pattern": {
              "fillmode": "overlay",
              "size": 10,
              "solidity": 0.2
             }
            },
            "type": "barpolar"
           }
          ],
          "carpet": [
           {
            "aaxis": {
             "endlinecolor": "#2a3f5f",
             "gridcolor": "white",
             "linecolor": "white",
             "minorgridcolor": "white",
             "startlinecolor": "#2a3f5f"
            },
            "baxis": {
             "endlinecolor": "#2a3f5f",
             "gridcolor": "white",
             "linecolor": "white",
             "minorgridcolor": "white",
             "startlinecolor": "#2a3f5f"
            },
            "type": "carpet"
           }
          ],
          "choropleth": [
           {
            "colorbar": {
             "outlinewidth": 0,
             "ticks": ""
            },
            "type": "choropleth"
           }
          ],
          "contour": [
           {
            "colorbar": {
             "outlinewidth": 0,
             "ticks": ""
            },
            "colorscale": [
             [
              0,
              "#0d0887"
             ],
             [
              0.1111111111111111,
              "#46039f"
             ],
             [
              0.2222222222222222,
              "#7201a8"
             ],
             [
              0.3333333333333333,
              "#9c179e"
             ],
             [
              0.4444444444444444,
              "#bd3786"
             ],
             [
              0.5555555555555556,
              "#d8576b"
             ],
             [
              0.6666666666666666,
              "#ed7953"
             ],
             [
              0.7777777777777778,
              "#fb9f3a"
             ],
             [
              0.8888888888888888,
              "#fdca26"
             ],
             [
              1,
              "#f0f921"
             ]
            ],
            "type": "contour"
           }
          ],
          "contourcarpet": [
           {
            "colorbar": {
             "outlinewidth": 0,
             "ticks": ""
            },
            "type": "contourcarpet"
           }
          ],
          "heatmap": [
           {
            "colorbar": {
             "outlinewidth": 0,
             "ticks": ""
            },
            "colorscale": [
             [
              0,
              "#0d0887"
             ],
             [
              0.1111111111111111,
              "#46039f"
             ],
             [
              0.2222222222222222,
              "#7201a8"
             ],
             [
              0.3333333333333333,
              "#9c179e"
             ],
             [
              0.4444444444444444,
              "#bd3786"
             ],
             [
              0.5555555555555556,
              "#d8576b"
             ],
             [
              0.6666666666666666,
              "#ed7953"
             ],
             [
              0.7777777777777778,
              "#fb9f3a"
             ],
             [
              0.8888888888888888,
              "#fdca26"
             ],
             [
              1,
              "#f0f921"
             ]
            ],
            "type": "heatmap"
           }
          ],
          "heatmapgl": [
           {
            "colorbar": {
             "outlinewidth": 0,
             "ticks": ""
            },
            "colorscale": [
             [
              0,
              "#0d0887"
             ],
             [
              0.1111111111111111,
              "#46039f"
             ],
             [
              0.2222222222222222,
              "#7201a8"
             ],
             [
              0.3333333333333333,
              "#9c179e"
             ],
             [
              0.4444444444444444,
              "#bd3786"
             ],
             [
              0.5555555555555556,
              "#d8576b"
             ],
             [
              0.6666666666666666,
              "#ed7953"
             ],
             [
              0.7777777777777778,
              "#fb9f3a"
             ],
             [
              0.8888888888888888,
              "#fdca26"
             ],
             [
              1,
              "#f0f921"
             ]
            ],
            "type": "heatmapgl"
           }
          ],
          "histogram": [
           {
            "marker": {
             "pattern": {
              "fillmode": "overlay",
              "size": 10,
              "solidity": 0.2
             }
            },
            "type": "histogram"
           }
          ],
          "histogram2d": [
           {
            "colorbar": {
             "outlinewidth": 0,
             "ticks": ""
            },
            "colorscale": [
             [
              0,
              "#0d0887"
             ],
             [
              0.1111111111111111,
              "#46039f"
             ],
             [
              0.2222222222222222,
              "#7201a8"
             ],
             [
              0.3333333333333333,
              "#9c179e"
             ],
             [
              0.4444444444444444,
              "#bd3786"
             ],
             [
              0.5555555555555556,
              "#d8576b"
             ],
             [
              0.6666666666666666,
              "#ed7953"
             ],
             [
              0.7777777777777778,
              "#fb9f3a"
             ],
             [
              0.8888888888888888,
              "#fdca26"
             ],
             [
              1,
              "#f0f921"
             ]
            ],
            "type": "histogram2d"
           }
          ],
          "histogram2dcontour": [
           {
            "colorbar": {
             "outlinewidth": 0,
             "ticks": ""
            },
            "colorscale": [
             [
              0,
              "#0d0887"
             ],
             [
              0.1111111111111111,
              "#46039f"
             ],
             [
              0.2222222222222222,
              "#7201a8"
             ],
             [
              0.3333333333333333,
              "#9c179e"
             ],
             [
              0.4444444444444444,
              "#bd3786"
             ],
             [
              0.5555555555555556,
              "#d8576b"
             ],
             [
              0.6666666666666666,
              "#ed7953"
             ],
             [
              0.7777777777777778,
              "#fb9f3a"
             ],
             [
              0.8888888888888888,
              "#fdca26"
             ],
             [
              1,
              "#f0f921"
             ]
            ],
            "type": "histogram2dcontour"
           }
          ],
          "mesh3d": [
           {
            "colorbar": {
             "outlinewidth": 0,
             "ticks": ""
            },
            "type": "mesh3d"
           }
          ],
          "parcoords": [
           {
            "line": {
             "colorbar": {
              "outlinewidth": 0,
              "ticks": ""
             }
            },
            "type": "parcoords"
           }
          ],
          "pie": [
           {
            "automargin": true,
            "type": "pie"
           }
          ],
          "scatter": [
           {
            "fillpattern": {
             "fillmode": "overlay",
             "size": 10,
             "solidity": 0.2
            },
            "type": "scatter"
           }
          ],
          "scatter3d": [
           {
            "line": {
             "colorbar": {
              "outlinewidth": 0,
              "ticks": ""
             }
            },
            "marker": {
             "colorbar": {
              "outlinewidth": 0,
              "ticks": ""
             }
            },
            "type": "scatter3d"
           }
          ],
          "scattercarpet": [
           {
            "marker": {
             "colorbar": {
              "outlinewidth": 0,
              "ticks": ""
             }
            },
            "type": "scattercarpet"
           }
          ],
          "scattergeo": [
           {
            "marker": {
             "colorbar": {
              "outlinewidth": 0,
              "ticks": ""
             }
            },
            "type": "scattergeo"
           }
          ],
          "scattergl": [
           {
            "marker": {
             "colorbar": {
              "outlinewidth": 0,
              "ticks": ""
             }
            },
            "type": "scattergl"
           }
          ],
          "scattermapbox": [
           {
            "marker": {
             "colorbar": {
              "outlinewidth": 0,
              "ticks": ""
             }
            },
            "type": "scattermapbox"
           }
          ],
          "scatterpolar": [
           {
            "marker": {
             "colorbar": {
              "outlinewidth": 0,
              "ticks": ""
             }
            },
            "type": "scatterpolar"
           }
          ],
          "scatterpolargl": [
           {
            "marker": {
             "colorbar": {
              "outlinewidth": 0,
              "ticks": ""
             }
            },
            "type": "scatterpolargl"
           }
          ],
          "scatterternary": [
           {
            "marker": {
             "colorbar": {
              "outlinewidth": 0,
              "ticks": ""
             }
            },
            "type": "scatterternary"
           }
          ],
          "surface": [
           {
            "colorbar": {
             "outlinewidth": 0,
             "ticks": ""
            },
            "colorscale": [
             [
              0,
              "#0d0887"
             ],
             [
              0.1111111111111111,
              "#46039f"
             ],
             [
              0.2222222222222222,
              "#7201a8"
             ],
             [
              0.3333333333333333,
              "#9c179e"
             ],
             [
              0.4444444444444444,
              "#bd3786"
             ],
             [
              0.5555555555555556,
              "#d8576b"
             ],
             [
              0.6666666666666666,
              "#ed7953"
             ],
             [
              0.7777777777777778,
              "#fb9f3a"
             ],
             [
              0.8888888888888888,
              "#fdca26"
             ],
             [
              1,
              "#f0f921"
             ]
            ],
            "type": "surface"
           }
          ],
          "table": [
           {
            "cells": {
             "fill": {
              "color": "#EBF0F8"
             },
             "line": {
              "color": "white"
             }
            },
            "header": {
             "fill": {
              "color": "#C8D4E3"
             },
             "line": {
              "color": "white"
             }
            },
            "type": "table"
           }
          ]
         },
         "layout": {
          "annotationdefaults": {
           "arrowcolor": "#2a3f5f",
           "arrowhead": 0,
           "arrowwidth": 1
          },
          "autotypenumbers": "strict",
          "coloraxis": {
           "colorbar": {
            "outlinewidth": 0,
            "ticks": ""
           }
          },
          "colorscale": {
           "diverging": [
            [
             0,
             "#8e0152"
            ],
            [
             0.1,
             "#c51b7d"
            ],
            [
             0.2,
             "#de77ae"
            ],
            [
             0.3,
             "#f1b6da"
            ],
            [
             0.4,
             "#fde0ef"
            ],
            [
             0.5,
             "#f7f7f7"
            ],
            [
             0.6,
             "#e6f5d0"
            ],
            [
             0.7,
             "#b8e186"
            ],
            [
             0.8,
             "#7fbc41"
            ],
            [
             0.9,
             "#4d9221"
            ],
            [
             1,
             "#276419"
            ]
           ],
           "sequential": [
            [
             0,
             "#0d0887"
            ],
            [
             0.1111111111111111,
             "#46039f"
            ],
            [
             0.2222222222222222,
             "#7201a8"
            ],
            [
             0.3333333333333333,
             "#9c179e"
            ],
            [
             0.4444444444444444,
             "#bd3786"
            ],
            [
             0.5555555555555556,
             "#d8576b"
            ],
            [
             0.6666666666666666,
             "#ed7953"
            ],
            [
             0.7777777777777778,
             "#fb9f3a"
            ],
            [
             0.8888888888888888,
             "#fdca26"
            ],
            [
             1,
             "#f0f921"
            ]
           ],
           "sequentialminus": [
            [
             0,
             "#0d0887"
            ],
            [
             0.1111111111111111,
             "#46039f"
            ],
            [
             0.2222222222222222,
             "#7201a8"
            ],
            [
             0.3333333333333333,
             "#9c179e"
            ],
            [
             0.4444444444444444,
             "#bd3786"
            ],
            [
             0.5555555555555556,
             "#d8576b"
            ],
            [
             0.6666666666666666,
             "#ed7953"
            ],
            [
             0.7777777777777778,
             "#fb9f3a"
            ],
            [
             0.8888888888888888,
             "#fdca26"
            ],
            [
             1,
             "#f0f921"
            ]
           ]
          },
          "colorway": [
           "#636efa",
           "#EF553B",
           "#00cc96",
           "#ab63fa",
           "#FFA15A",
           "#19d3f3",
           "#FF6692",
           "#B6E880",
           "#FF97FF",
           "#FECB52"
          ],
          "font": {
           "color": "#2a3f5f"
          },
          "geo": {
           "bgcolor": "white",
           "lakecolor": "white",
           "landcolor": "#E5ECF6",
           "showlakes": true,
           "showland": true,
           "subunitcolor": "white"
          },
          "hoverlabel": {
           "align": "left"
          },
          "hovermode": "closest",
          "mapbox": {
           "style": "light"
          },
          "paper_bgcolor": "white",
          "plot_bgcolor": "#E5ECF6",
          "polar": {
           "angularaxis": {
            "gridcolor": "white",
            "linecolor": "white",
            "ticks": ""
           },
           "bgcolor": "#E5ECF6",
           "radialaxis": {
            "gridcolor": "white",
            "linecolor": "white",
            "ticks": ""
           }
          },
          "scene": {
           "xaxis": {
            "backgroundcolor": "#E5ECF6",
            "gridcolor": "white",
            "gridwidth": 2,
            "linecolor": "white",
            "showbackground": true,
            "ticks": "",
            "zerolinecolor": "white"
           },
           "yaxis": {
            "backgroundcolor": "#E5ECF6",
            "gridcolor": "white",
            "gridwidth": 2,
            "linecolor": "white",
            "showbackground": true,
            "ticks": "",
            "zerolinecolor": "white"
           },
           "zaxis": {
            "backgroundcolor": "#E5ECF6",
            "gridcolor": "white",
            "gridwidth": 2,
            "linecolor": "white",
            "showbackground": true,
            "ticks": "",
            "zerolinecolor": "white"
           }
          },
          "shapedefaults": {
           "line": {
            "color": "#2a3f5f"
           }
          },
          "ternary": {
           "aaxis": {
            "gridcolor": "white",
            "linecolor": "white",
            "ticks": ""
           },
           "baxis": {
            "gridcolor": "white",
            "linecolor": "white",
            "ticks": ""
           },
           "bgcolor": "#E5ECF6",
           "caxis": {
            "gridcolor": "white",
            "linecolor": "white",
            "ticks": ""
           }
          },
          "title": {
           "x": 0.05
          },
          "xaxis": {
           "automargin": true,
           "gridcolor": "white",
           "linecolor": "white",
           "ticks": "",
           "title": {
            "standoff": 15
           },
           "zerolinecolor": "white",
           "zerolinewidth": 2
          },
          "yaxis": {
           "automargin": true,
           "gridcolor": "white",
           "linecolor": "white",
           "ticks": "",
           "title": {
            "standoff": 15
           },
           "zerolinecolor": "white",
           "zerolinewidth": 2
          }
         }
        },
        "title": {
         "text": "Metrics for Predicted and Baseline Queries"
        },
        "xaxis": {
         "anchor": "y",
         "domain": [
          0,
          0.98
         ],
         "title": {
          "text": "Topic"
         }
        },
        "xaxis2": {
         "anchor": "y2",
         "domain": [
          0,
          0.98
         ],
         "matches": "x",
         "showticklabels": false
        },
        "yaxis": {
         "anchor": "x",
         "domain": [
          0,
          0.45
         ],
         "dtick": 0.2,
         "title": {
          "text": ""
         }
        },
        "yaxis2": {
         "anchor": "x2",
         "domain": [
          0.55,
          1
         ],
         "dtick": 0.2,
         "matches": "y",
         "title": {
          "text": ""
         }
        }
       }
      }
     },
     "metadata": {},
     "output_type": "display_data"
    }
   ],
   "source": [
    "fig = px.histogram(plt_df, x=\"Topic\", y=[\"Recall\", \"Semantic Precision\", \"MVVE Precision\", \"Semantic F2\", \"MVVE F2\"], title=\"Metrics for Predicted and Baseline Queries\", barmode=\"group\",\n",
    "                   facet_row=\"index\", facet_row_spacing=0.1)\n",
    "\n",
    "# Sort by value\n",
    "fig.for_each_trace(lambda t: t.update(x=t.x[::-1], y=t.y[::-1]))\n",
    "fig.for_each_annotation(lambda a: a.update(text=a.text.split(\"=\")[-1]))\n",
    "fig.update_layout(yaxis1_title=\"\", yaxis2_title=\"\", yaxis1_dtick=0.2, yaxis2_dtick=0.2)\n",
    "fig.show()"
   ]
  },
  {
   "cell_type": "code",
   "execution_count": 128,
   "metadata": {},
   "outputs": [
    {
     "data": {
      "text/html": [
       "<style type=\"text/css\">\n",
       "#T_9160d_row0_col1, #T_9160d_row0_col2, #T_9160d_row12_col1 {\n",
       "  background-color: #6b0801;\n",
       "}\n",
       "#T_9160d_row0_col3, #T_9160d_row0_col4, #T_9160d_row1_col1, #T_9160d_row1_col3, #T_9160d_row2_col1, #T_9160d_row2_col2, #T_9160d_row3_col0, #T_9160d_row3_col2, #T_9160d_row3_col4, #T_9160d_row4_col1, #T_9160d_row5_col1, #T_9160d_row6_col1, #T_9160d_row6_col2, #T_9160d_row7_col1, #T_9160d_row7_col3, #T_9160d_row8_col1, #T_9160d_row8_col2, #T_9160d_row8_col3, #T_9160d_row9_col1, #T_9160d_row9_col3, #T_9160d_row10_col1, #T_9160d_row10_col2, #T_9160d_row11_col1, #T_9160d_row13_col1, #T_9160d_row14_col1, #T_9160d_row15_col1, #T_9160d_row15_col2, #T_9160d_row15_col3 {\n",
       "  background-color: #a82b22;\n",
       "}\n",
       "</style>\n",
       "<table id=\"T_9160d\">\n",
       "  <caption>Difference in metrics between predicted and baseline (Red indicates a decrease in the metric in comparison to the baseline</caption>\n",
       "  <thead>\n",
       "    <tr>\n",
       "      <th class=\"blank level0\" >&nbsp;</th>\n",
       "      <th id=\"T_9160d_level0_col0\" class=\"col_heading level0 col0\" >Recall</th>\n",
       "      <th id=\"T_9160d_level0_col1\" class=\"col_heading level0 col1\" >Semantic Precision</th>\n",
       "      <th id=\"T_9160d_level0_col2\" class=\"col_heading level0 col2\" >Semantic F2</th>\n",
       "      <th id=\"T_9160d_level0_col3\" class=\"col_heading level0 col3\" >MVVE Precision</th>\n",
       "      <th id=\"T_9160d_level0_col4\" class=\"col_heading level0 col4\" >MVVE F2</th>\n",
       "    </tr>\n",
       "    <tr>\n",
       "      <th class=\"index_name level0\" >Query</th>\n",
       "      <th class=\"blank col0\" >&nbsp;</th>\n",
       "      <th class=\"blank col1\" >&nbsp;</th>\n",
       "      <th class=\"blank col2\" >&nbsp;</th>\n",
       "      <th class=\"blank col3\" >&nbsp;</th>\n",
       "      <th class=\"blank col4\" >&nbsp;</th>\n",
       "    </tr>\n",
       "  </thead>\n",
       "  <tbody>\n",
       "    <tr>\n",
       "      <th id=\"T_9160d_level0_row0\" class=\"row_heading level0 row0\" >Robotic Arthroplasty</th>\n",
       "      <td id=\"T_9160d_row0_col0\" class=\"data row0 col0\" >0.000</td>\n",
       "      <td id=\"T_9160d_row0_col1\" class=\"data row0 col1\" >-0.639</td>\n",
       "      <td id=\"T_9160d_row0_col2\" class=\"data row0 col2\" >-0.596</td>\n",
       "      <td id=\"T_9160d_row0_col3\" class=\"data row0 col3\" >-0.121</td>\n",
       "      <td id=\"T_9160d_row0_col4\" class=\"data row0 col4\" >-0.083</td>\n",
       "    </tr>\n",
       "    <tr>\n",
       "      <th id=\"T_9160d_level0_row1\" class=\"row_heading level0 row1\" >Soft Robotics</th>\n",
       "      <td id=\"T_9160d_row1_col0\" class=\"data row1 col0\" >0.166</td>\n",
       "      <td id=\"T_9160d_row1_col1\" class=\"data row1 col1\" >-0.248</td>\n",
       "      <td id=\"T_9160d_row1_col2\" class=\"data row1 col2\" >0.079</td>\n",
       "      <td id=\"T_9160d_row1_col3\" class=\"data row1 col3\" >-0.042</td>\n",
       "      <td id=\"T_9160d_row1_col4\" class=\"data row1 col4\" >0.098</td>\n",
       "    </tr>\n",
       "    <tr>\n",
       "      <th id=\"T_9160d_level0_row2\" class=\"row_heading level0 row2\" >Crop Yield Prediction</th>\n",
       "      <td id=\"T_9160d_row2_col0\" class=\"data row2 col0\" >0.109</td>\n",
       "      <td id=\"T_9160d_row2_col1\" class=\"data row2 col1\" >-0.372</td>\n",
       "      <td id=\"T_9160d_row2_col2\" class=\"data row2 col2\" >-0.064</td>\n",
       "      <td id=\"T_9160d_row2_col3\" class=\"data row2 col3\" >0.065</td>\n",
       "      <td id=\"T_9160d_row2_col4\" class=\"data row2 col4\" >0.100</td>\n",
       "    </tr>\n",
       "    <tr>\n",
       "      <th id=\"T_9160d_level0_row3\" class=\"row_heading level0 row3\" >Software Process Line</th>\n",
       "      <td id=\"T_9160d_row3_col0\" class=\"data row3 col0\" >-0.326</td>\n",
       "      <td id=\"T_9160d_row3_col1\" class=\"data row3 col1\" >0.108</td>\n",
       "      <td id=\"T_9160d_row3_col2\" class=\"data row3 col2\" >-0.232</td>\n",
       "      <td id=\"T_9160d_row3_col3\" class=\"data row3 col3\" >0.019</td>\n",
       "      <td id=\"T_9160d_row3_col4\" class=\"data row3 col4\" >-0.257</td>\n",
       "    </tr>\n",
       "    <tr>\n",
       "      <th id=\"T_9160d_level0_row4\" class=\"row_heading level0 row4\" >Synthetic Biology</th>\n",
       "      <td id=\"T_9160d_row4_col0\" class=\"data row4 col0\" >0.379</td>\n",
       "      <td id=\"T_9160d_row4_col1\" class=\"data row4 col1\" >-0.066</td>\n",
       "      <td id=\"T_9160d_row4_col2\" class=\"data row4 col2\" >0.340</td>\n",
       "      <td id=\"T_9160d_row4_col3\" class=\"data row4 col3\" >0.039</td>\n",
       "      <td id=\"T_9160d_row4_col4\" class=\"data row4 col4\" >0.334</td>\n",
       "    </tr>\n",
       "    <tr>\n",
       "      <th id=\"T_9160d_level0_row5\" class=\"row_heading level0 row5\" >Resilience in Business and management</th>\n",
       "      <td id=\"T_9160d_row5_col0\" class=\"data row5 col0\" >0.222</td>\n",
       "      <td id=\"T_9160d_row5_col1\" class=\"data row5 col1\" >-0.194</td>\n",
       "      <td id=\"T_9160d_row5_col2\" class=\"data row5 col2\" >0.233</td>\n",
       "      <td id=\"T_9160d_row5_col3\" class=\"data row5 col3\" >0.035</td>\n",
       "      <td id=\"T_9160d_row5_col4\" class=\"data row5 col4\" >0.252</td>\n",
       "    </tr>\n",
       "    <tr>\n",
       "      <th id=\"T_9160d_level0_row6\" class=\"row_heading level0 row6\" >Cervical Myelopathy</th>\n",
       "      <td id=\"T_9160d_row6_col0\" class=\"data row6 col0\" >0.085</td>\n",
       "      <td id=\"T_9160d_row6_col1\" class=\"data row6 col1\" >-0.294</td>\n",
       "      <td id=\"T_9160d_row6_col2\" class=\"data row6 col2\" >-0.042</td>\n",
       "      <td id=\"T_9160d_row6_col3\" class=\"data row6 col3\" >0.029</td>\n",
       "      <td id=\"T_9160d_row6_col4\" class=\"data row6 col4\" >0.066</td>\n",
       "    </tr>\n",
       "    <tr>\n",
       "      <th id=\"T_9160d_level0_row7\" class=\"row_heading level0 row7\" >Drones in Agriculture</th>\n",
       "      <td id=\"T_9160d_row7_col0\" class=\"data row7 col0\" >0.480</td>\n",
       "      <td id=\"T_9160d_row7_col1\" class=\"data row7 col1\" >-0.297</td>\n",
       "      <td id=\"T_9160d_row7_col2\" class=\"data row7 col2\" >0.390</td>\n",
       "      <td id=\"T_9160d_row7_col3\" class=\"data row7 col3\" >-0.096</td>\n",
       "      <td id=\"T_9160d_row7_col4\" class=\"data row7 col4\" >0.458</td>\n",
       "    </tr>\n",
       "    <tr>\n",
       "      <th id=\"T_9160d_level0_row8\" class=\"row_heading level0 row8\" >Tourism Growth Nexus</th>\n",
       "      <td id=\"T_9160d_row8_col0\" class=\"data row8 col0\" >0.000</td>\n",
       "      <td id=\"T_9160d_row8_col1\" class=\"data row8 col1\" >-0.357</td>\n",
       "      <td id=\"T_9160d_row8_col2\" class=\"data row8 col2\" >-0.076</td>\n",
       "      <td id=\"T_9160d_row8_col3\" class=\"data row8 col3\" >-0.023</td>\n",
       "      <td id=\"T_9160d_row8_col4\" class=\"data row8 col4\" >0.000</td>\n",
       "    </tr>\n",
       "    <tr>\n",
       "      <th id=\"T_9160d_level0_row9\" class=\"row_heading level0 row9\" >Sustainable Biofuel Economy</th>\n",
       "      <td id=\"T_9160d_row9_col0\" class=\"data row9 col0\" >0.340</td>\n",
       "      <td id=\"T_9160d_row9_col1\" class=\"data row9 col1\" >-0.147</td>\n",
       "      <td id=\"T_9160d_row9_col2\" class=\"data row9 col2\" >0.353</td>\n",
       "      <td id=\"T_9160d_row9_col3\" class=\"data row9 col3\" >-0.056</td>\n",
       "      <td id=\"T_9160d_row9_col4\" class=\"data row9 col4\" >0.353</td>\n",
       "    </tr>\n",
       "    <tr>\n",
       "      <th id=\"T_9160d_level0_row10\" class=\"row_heading level0 row10\" >Perovskite Solar Cells Stability</th>\n",
       "      <td id=\"T_9160d_row10_col0\" class=\"data row10 col0\" >0.103</td>\n",
       "      <td id=\"T_9160d_row10_col1\" class=\"data row10 col1\" >-0.291</td>\n",
       "      <td id=\"T_9160d_row10_col2\" class=\"data row10 col2\" >-0.033</td>\n",
       "      <td id=\"T_9160d_row10_col3\" class=\"data row10 col3\" >0.021</td>\n",
       "      <td id=\"T_9160d_row10_col4\" class=\"data row10 col4\" >0.071</td>\n",
       "    </tr>\n",
       "    <tr>\n",
       "      <th id=\"T_9160d_level0_row11\" class=\"row_heading level0 row11\" >Nanopharmaceuticals OR Nanonutraceuticals</th>\n",
       "      <td id=\"T_9160d_row11_col0\" class=\"data row11 col0\" >0.040</td>\n",
       "      <td id=\"T_9160d_row11_col1\" class=\"data row11 col1\" >-0.108</td>\n",
       "      <td id=\"T_9160d_row11_col2\" class=\"data row11 col2\" >0.049</td>\n",
       "      <td id=\"T_9160d_row11_col3\" class=\"data row11 col3\" >0.000</td>\n",
       "      <td id=\"T_9160d_row11_col4\" class=\"data row11 col4\" >0.049</td>\n",
       "    </tr>\n",
       "    <tr>\n",
       "      <th id=\"T_9160d_level0_row12\" class=\"row_heading level0 row12\" >Green Warehousing</th>\n",
       "      <td id=\"T_9160d_row12_col0\" class=\"data row12 col0\" >0.079</td>\n",
       "      <td id=\"T_9160d_row12_col1\" class=\"data row12 col1\" >-0.516</td>\n",
       "      <td id=\"T_9160d_row12_col2\" class=\"data row12 col2\" >0.057</td>\n",
       "      <td id=\"T_9160d_row12_col3\" class=\"data row12 col3\" >0.103</td>\n",
       "      <td id=\"T_9160d_row12_col4\" class=\"data row12 col4\" >0.087</td>\n",
       "    </tr>\n",
       "    <tr>\n",
       "      <th id=\"T_9160d_level0_row13\" class=\"row_heading level0 row13\" >AI on Edge Devices</th>\n",
       "      <td id=\"T_9160d_row13_col0\" class=\"data row13 col0\" >0.278</td>\n",
       "      <td id=\"T_9160d_row13_col1\" class=\"data row13 col1\" >-0.232</td>\n",
       "      <td id=\"T_9160d_row13_col2\" class=\"data row13 col2\" >0.287</td>\n",
       "      <td id=\"T_9160d_row13_col3\" class=\"data row13 col3\" >0.028</td>\n",
       "      <td id=\"T_9160d_row13_col4\" class=\"data row13 col4\" >0.271</td>\n",
       "    </tr>\n",
       "    <tr>\n",
       "      <th id=\"T_9160d_level0_row14\" class=\"row_heading level0 row14\" >Internet of Things in Healthcare</th>\n",
       "      <td id=\"T_9160d_row14_col0\" class=\"data row14 col0\" >0.172</td>\n",
       "      <td id=\"T_9160d_row14_col1\" class=\"data row14 col1\" >-0.286</td>\n",
       "      <td id=\"T_9160d_row14_col2\" class=\"data row14 col2\" >0.107</td>\n",
       "      <td id=\"T_9160d_row14_col3\" class=\"data row14 col3\" >0.031</td>\n",
       "      <td id=\"T_9160d_row14_col4\" class=\"data row14 col4\" >0.148</td>\n",
       "    </tr>\n",
       "    <tr>\n",
       "      <th id=\"T_9160d_level0_row15\" class=\"row_heading level0 row15\" >Energy Growth Nexus</th>\n",
       "      <td id=\"T_9160d_row15_col0\" class=\"data row15 col0\" >0.000</td>\n",
       "      <td id=\"T_9160d_row15_col1\" class=\"data row15 col1\" >-0.388</td>\n",
       "      <td id=\"T_9160d_row15_col2\" class=\"data row15 col2\" >-0.009</td>\n",
       "      <td id=\"T_9160d_row15_col3\" class=\"data row15 col3\" >-0.016</td>\n",
       "      <td id=\"T_9160d_row15_col4\" class=\"data row15 col4\" >0.000</td>\n",
       "    </tr>\n",
       "  </tbody>\n",
       "</table>\n"
      ],
      "text/plain": [
       "<pandas.io.formats.style.Styler at 0x1fc03ebb760>"
      ]
     },
     "execution_count": 128,
     "metadata": {},
     "output_type": "execute_result"
    }
   ],
   "source": [
    "# difference in metrics between predicted and baseline (Recall\tSemantic Precision\tSemantic F2\tMVVE Precision\tMVVE F2\t)\n",
    "diff_df = results.loc[\"Predicted\"][[\"Recall\",\"Semantic Precision\" ,\"Semantic F2\" ,\"MVVE Precision\", \"MVVE F2\"]].values\\\n",
    "      - results.loc[\"Baseline\"][[\"Recall\",\"Semantic Precision\" ,\"Semantic F2\" ,\"MVVE Precision\", \"MVVE F2\"]].values\n",
    "\n",
    "diff_df = pd.DataFrame(diff_df.round(3), columns=[\"Recall\",\"Semantic Precision\" ,\"Semantic F2\" ,\"MVVE Precision\", \"MVVE F2\"], index=results.loc[\"Baseline\"][\"Query\"])\n",
    "diff_df = diff_df.style.map(lambda x: 'background-color: #6b0801' if x < -0.5 else 'background-color: #a82b22' if x < 0 else '')\n",
    "diff_df.format(\"{:.3f}\").set_caption(\"Difference in metrics between predicted and baseline (Red indicates a decrease in the metric in comparison to the baseline\")"
   ]
  }
 ],
 "metadata": {
  "kernelspec": {
   "display_name": "litqeval-nY2J0JWW-py3.10",
   "language": "python",
   "name": "python3"
  },
  "language_info": {
   "codemirror_mode": {
    "name": "ipython",
    "version": 3
   },
   "file_extension": ".py",
   "mimetype": "text/x-python",
   "name": "python",
   "nbconvert_exporter": "python",
   "pygments_lexer": "ipython3",
   "version": "3.10.7"
  }
 },
 "nbformat": 4,
 "nbformat_minor": 2
}
