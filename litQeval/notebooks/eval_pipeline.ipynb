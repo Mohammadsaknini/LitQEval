{
 "cells": [
  {
   "cell_type": "code",
   "execution_count": 62,
   "metadata": {},
   "outputs": [],
   "source": [
    "from sklearn.metrics.pairwise import cosine_similarity\n",
    "from litQeval.eval_utils import *\n",
    "import plotly.express as px\n",
    "from tqdm.auto import tqdm\n",
    "import pandas as pd\n",
    "import numpy as np"
   ]
  },
  {
   "cell_type": "code",
   "execution_count": 63,
   "metadata": {},
   "outputs": [
    {
     "data": {
      "text/plain": [
       "((1, 1536), (49060, 1536), (3269, 1536))"
      ]
     },
     "execution_count": 63,
     "metadata": {},
     "output_type": "execute_result"
    }
   ],
   "source": [
    "baseline = 'Internet of Things in Healthcare'\n",
    "predicted = \"\"\"\n",
    "\"smart healthcare\" OR \"mhealth\" OR (internet of things in healthcare) OR \"medical device integration\" OR \"internet of medical things\" OR \"smart hospitals\" OR \"ai in healthcare\" OR \"real-time health tracking\" OR \"healthcare interoperability\" OR \n",
    "((\"chronic disease management\" OR \"health monitoring systems\" OR \"population health management\" OR \"wearable devices\" OR \"connected health\" OR \"digital health\" OR \"interoperability\" OR \"electronic health records\" OR \"patient engagement\" OR \"telemedicine\" OR \"virtual health\" OR \"personalized medicine\" OR \"remote patient monitoring\" OR \"health information exchange\" OR \"predictive analytics\" OR \"secure health data\" OR \"digital therapeutics\" OR \"health data analytics\" OR \"healthcare automation\") AND (IoT))\n",
    "\"\"\"\n",
    "\n",
    "data = get_data(baseline, predicted)\n",
    "core_pubs = data[\"core_pubs\"]\n",
    "core_mean_embedding = data[\"core_mean_embedding\"]\n",
    "baseline_pubs = data[\"baseline_pubs\"]\n",
    "predicted_pubs = data[\"predicted_pubs\"]\n",
    "baseline_vs = data[\"baseline_vs\"]\n",
    "predicted_vs = data[\"predicted_vs\"]\n",
    "core_vs = data[\"core_vs\"]\n",
    "predicted_embeddings = np.array([embedding for embedding in predicted_vs.get(include=[\"embeddings\"])[\"embeddings\"]])\n",
    "baseline_embeddings = np.array([embedding for embedding in baseline_vs.get(include=[\"embeddings\"])[\"embeddings\"]])\n",
    "core_embeddings = np.squeeze([core_vs.get(i,include=[\"embeddings\"])[\"embeddings\"] for i in core_pubs])\n",
    "core_mean_embedding.reshape(1, -1).shape, predicted_embeddings.shape, baseline_embeddings.shape\n"
   ]
  },
  {
   "cell_type": "code",
   "execution_count": 64,
   "metadata": {},
   "outputs": [
    {
     "name": "stdout",
     "output_type": "stream",
     "text": [
      "Number of core publications in the baseline: 4\n",
      "Number of relevant publications in the baseline: 378\n"
     ]
    }
   ],
   "source": [
    "# baseline\n",
    "cosine_sim = cosine_similarity(core_mean_embedding, baseline_embeddings).flatten()\n",
    "baseline_pubs[\"similarity\"] = cosine_sim\n",
    "\n",
    "core_pubs_in_baseline = baseline_pubs[baseline_pubs[\"id\"].isin(core_pubs)]\n",
    "threshold = core_pubs_in_baseline[\"similarity\"].min()\n",
    "relevent_baseline_pubs = baseline_pubs[baseline_pubs[\"similarity\"] >= threshold].copy()\n",
    "print(f\"Number of core publications in the baseline: {core_pubs_in_baseline.shape[0]}\")\n",
    "print(f\"Number of relevant publications in the baseline: {relevent_baseline_pubs.shape[0]}\")"
   ]
  },
  {
   "cell_type": "code",
   "execution_count": 65,
   "metadata": {},
   "outputs": [
    {
     "name": "stdout",
     "output_type": "stream",
     "text": [
      "Number of core publications in the predicted: 14\n",
      "Number of relevant publications in the predicted: 7922\n"
     ]
    }
   ],
   "source": [
    "# predicted\n",
    "cosine_sim = cosine_similarity(core_mean_embedding, predicted_embeddings).flatten()\n",
    "predicted_pubs[\"similarity\"] = cosine_sim\n",
    "\n",
    "core_pubs_in_predicted = predicted_pubs[predicted_pubs[\"id\"].isin(core_pubs)]\n",
    "threshold = core_pubs_in_predicted[\"similarity\"].min()\n",
    "relevant_predicted_pubs = predicted_pubs[predicted_pubs[\"similarity\"] >= threshold].copy()\n",
    "print(f\"Number of core publications in the predicted: {core_pubs_in_predicted.shape[0]}\")\n",
    "print(f\"Number of relevant publications in the predicted: {relevant_predicted_pubs.shape[0]}\")"
   ]
  },
  {
   "cell_type": "markdown",
   "metadata": {},
   "source": [
    "### Cosine Similarity Measure"
   ]
  },
  {
   "cell_type": "code",
   "execution_count": 66,
   "metadata": {},
   "outputs": [
    {
     "data": {
      "text/html": [
       "<div>\n",
       "<style scoped>\n",
       "    .dataframe tbody tr th:only-of-type {\n",
       "        vertical-align: middle;\n",
       "    }\n",
       "\n",
       "    .dataframe tbody tr th {\n",
       "        vertical-align: top;\n",
       "    }\n",
       "\n",
       "    .dataframe thead th {\n",
       "        text-align: right;\n",
       "    }\n",
       "</style>\n",
       "<table border=\"1\" class=\"dataframe\">\n",
       "  <thead>\n",
       "    <tr style=\"text-align: right;\">\n",
       "      <th></th>\n",
       "      <th>Semantic Precision</th>\n",
       "      <th>Recall</th>\n",
       "      <th>Semantic F2</th>\n",
       "    </tr>\n",
       "  </thead>\n",
       "  <tbody>\n",
       "    <tr>\n",
       "      <th>Predicted</th>\n",
       "      <td>0.161476</td>\n",
       "      <td>0.388889</td>\n",
       "      <td>0.303424</td>\n",
       "    </tr>\n",
       "    <tr>\n",
       "      <th>Baseline</th>\n",
       "      <td>0.115632</td>\n",
       "      <td>0.111111</td>\n",
       "      <td>0.111987</td>\n",
       "    </tr>\n",
       "  </tbody>\n",
       "</table>\n",
       "</div>"
      ],
      "text/plain": [
       "           Semantic Precision    Recall  Semantic F2\n",
       "Predicted            0.161476  0.388889     0.303424\n",
       "Baseline             0.115632  0.111111     0.111987"
      ]
     },
     "execution_count": 66,
     "metadata": {},
     "output_type": "execute_result"
    }
   ],
   "source": [
    "recall = evaluate_recall(core_pubs, baseline_pubs, predicted_pubs)\n",
    "# semnatic precision: every element that is more similar than the least similar core publication is considered relevant\n",
    "# relevant_predicted_pubs: publications that are more similar than the least similar core publication.\n",
    "pred_precision = relevant_predicted_pubs.shape[0] / predicted_pubs.shape[0] # total number of found publications\n",
    "baseline_precision = (relevent_baseline_pubs.shape[0] / baseline_pubs.shape[0]) if baseline_pubs.shape[0] > 0 else 0\n",
    "pred_f2 = fscore(pred_precision, recall[\"predicted_recall\"], 2)\n",
    "baseline_f2 = fscore(baseline_precision, recall[\"baseline_recall\"], 2)\n",
    "df = pd.DataFrame({\n",
    "    \"Semantic Precision\": [pred_precision, baseline_precision],\n",
    "    \"Recall\": [recall[\"predicted_recall\"], recall[\"baseline_recall\"]],\n",
    "    \"Semantic F2\": [pred_f2, baseline_f2]\n",
    "}, index=[\"Predicted\", \"Baseline\"])\n",
    "df"
   ]
  },
  {
   "cell_type": "markdown",
   "metadata": {},
   "source": [
    "### Minimum Volume Enclosing Ellipsoid MMVE"
   ]
  },
  {
   "cell_type": "code",
   "execution_count": 67,
   "metadata": {},
   "outputs": [],
   "source": [
    "import numpy.linalg as la\n",
    "\n",
    "def mvee(points, tol=0.0001):\n",
    "    \"\"\"\n",
    "    Finds the ellipse equation in \"center form\"\n",
    "    (x-c).T * A * (x-c) = 1\n",
    "    \"\"\"\n",
    "    N, d = points.shape\n",
    "    Q = np.column_stack((points, np.ones(N))).T\n",
    "    err = tol+1.0\n",
    "    u = np.ones(N)/N\n",
    "    while err > tol:\n",
    "        # assert u.sum() == 1 # invariant\n",
    "        X = np.dot(np.dot(Q, np.diag(u)), Q.T)\n",
    "        M = np.diag(np.dot(np.dot(Q.T, la.inv(X)), Q))\n",
    "        jdx = np.argmax(M)\n",
    "        step_size = (M[jdx]-d-1.0)/((d+1)*(M[jdx]-1.0))\n",
    "        new_u = (1-step_size)*u\n",
    "        new_u[jdx] += step_size\n",
    "        err = la.norm(new_u-u)\n",
    "        u = new_u\n",
    "    c = np.dot(u, points)\n",
    "    A = la.inv(np.dot(np.dot(points.T, np.diag(u)), points)\n",
    "               - np.multiply.outer(c, c))/d\n",
    "    return A, c\n",
    "\n",
    "A, c = mvee(core_embeddings)"
   ]
  },
  {
   "cell_type": "code",
   "execution_count": 68,
   "metadata": {},
   "outputs": [
    {
     "name": "stderr",
     "output_type": "stream",
     "text": [
      "100%|██████████| 3269/3269 [00:04<00:00, 693.35it/s]\n",
      "100%|██████████| 49060/49060 [01:13<00:00, 667.33it/s]\n"
     ]
    }
   ],
   "source": [
    "base_is_inside = is_inside_ellipse(A, c, baseline_embeddings)\n",
    "predicted_is_inside = is_inside_ellipse(A, c, predicted_embeddings)"
   ]
  },
  {
   "cell_type": "code",
   "execution_count": 69,
   "metadata": {},
   "outputs": [
    {
     "name": "stdout",
     "output_type": "stream",
     "text": [
      "Baseline - Inside: 1578\n",
      "Predicted - Inside: 25604\n"
     ]
    },
    {
     "data": {
      "text/html": [
       "<div>\n",
       "<style scoped>\n",
       "    .dataframe tbody tr th:only-of-type {\n",
       "        vertical-align: middle;\n",
       "    }\n",
       "\n",
       "    .dataframe tbody tr th {\n",
       "        vertical-align: top;\n",
       "    }\n",
       "\n",
       "    .dataframe thead th {\n",
       "        text-align: right;\n",
       "    }\n",
       "</style>\n",
       "<table border=\"1\" class=\"dataframe\">\n",
       "  <thead>\n",
       "    <tr style=\"text-align: right;\">\n",
       "      <th></th>\n",
       "      <th>MVVE Precision</th>\n",
       "      <th>Recall</th>\n",
       "      <th>MVVE F2</th>\n",
       "    </tr>\n",
       "  </thead>\n",
       "  <tbody>\n",
       "    <tr>\n",
       "      <th>Predicted</th>\n",
       "      <td>0.521892</td>\n",
       "      <td>0.388889</td>\n",
       "      <td>0.409775</td>\n",
       "    </tr>\n",
       "    <tr>\n",
       "      <th>Baseline</th>\n",
       "      <td>0.482716</td>\n",
       "      <td>0.111111</td>\n",
       "      <td>0.131331</td>\n",
       "    </tr>\n",
       "  </tbody>\n",
       "</table>\n",
       "</div>"
      ],
      "text/plain": [
       "           MVVE Precision    Recall   MVVE F2\n",
       "Predicted        0.521892  0.388889  0.409775\n",
       "Baseline         0.482716  0.111111  0.131331"
      ]
     },
     "execution_count": 69,
     "metadata": {},
     "output_type": "execute_result"
    }
   ],
   "source": [
    "mvve_prec_baseline = base_is_inside.sum() / len(base_is_inside)\n",
    "mvve_prec_predicted = predicted_is_inside.sum() / len(predicted_is_inside)\n",
    "\n",
    "mvve_df = pd.DataFrame({\n",
    "    \"MVVE Precision\": [mvve_prec_predicted, mvve_prec_baseline],\n",
    "    \"Recall\": [recall[\"predicted_recall\"], recall[\"baseline_recall\"]],\n",
    "    \"MVVE F2\": [fscore(mvve_prec_predicted, recall[\"predicted_recall\"], 2), fscore(mvve_prec_baseline, recall[\"baseline_recall\"], 2)]\n",
    "}, index=[\"Predicted\", \"Baseline\"])\n",
    "print(f\"Baseline - Inside: {base_is_inside.sum()}\")\n",
    "print(f\"Predicted - Inside: {predicted_is_inside.sum()}\")\n",
    "mvve_df"
   ]
  },
  {
   "cell_type": "code",
   "execution_count": 70,
   "metadata": {},
   "outputs": [
    {
     "data": {
      "text/html": [
       "<div>\n",
       "<style scoped>\n",
       "    .dataframe tbody tr th:only-of-type {\n",
       "        vertical-align: middle;\n",
       "    }\n",
       "\n",
       "    .dataframe tbody tr th {\n",
       "        vertical-align: top;\n",
       "    }\n",
       "\n",
       "    .dataframe thead th {\n",
       "        text-align: right;\n",
       "    }\n",
       "</style>\n",
       "<table border=\"1\" class=\"dataframe\">\n",
       "  <thead>\n",
       "    <tr style=\"text-align: right;\">\n",
       "      <th></th>\n",
       "      <th>Query</th>\n",
       "      <th>Recall</th>\n",
       "      <th>Semantic Precision</th>\n",
       "      <th>Semantic F2</th>\n",
       "      <th>MVVE Precision</th>\n",
       "      <th>MVVE F2</th>\n",
       "    </tr>\n",
       "  </thead>\n",
       "  <tbody>\n",
       "    <tr>\n",
       "      <th>Predicted</th>\n",
       "      <td>\\n\"digital surgery\" OR \"surgical navigation\" O...</td>\n",
       "      <td>0.957</td>\n",
       "      <td>0.061</td>\n",
       "      <td>0.244</td>\n",
       "      <td>0.330</td>\n",
       "      <td>0.694</td>\n",
       "    </tr>\n",
       "    <tr>\n",
       "      <th>Baseline</th>\n",
       "      <td>Robotic Arthroplasty</td>\n",
       "      <td>0.957</td>\n",
       "      <td>0.595</td>\n",
       "      <td>0.853</td>\n",
       "      <td>0.401</td>\n",
       "      <td>0.749</td>\n",
       "    </tr>\n",
       "    <tr>\n",
       "      <th>Predicted</th>\n",
       "      <td>\\n\"compliant materials\" OR (soft robotics) OR ...</td>\n",
       "      <td>0.722</td>\n",
       "      <td>0.212</td>\n",
       "      <td>0.487</td>\n",
       "      <td>0.451</td>\n",
       "      <td>0.644</td>\n",
       "    </tr>\n",
       "    <tr>\n",
       "      <th>Baseline</th>\n",
       "      <td>Soft Robotics</td>\n",
       "      <td>0.556</td>\n",
       "      <td>0.452</td>\n",
       "      <td>0.531</td>\n",
       "      <td>0.492</td>\n",
       "      <td>0.542</td>\n",
       "    </tr>\n",
       "    <tr>\n",
       "      <th>Predicted</th>\n",
       "      <td>\\n\"crop yield estimation\" OR \"crop simulation ...</td>\n",
       "      <td>0.652</td>\n",
       "      <td>0.106</td>\n",
       "      <td>0.321</td>\n",
       "      <td>0.528</td>\n",
       "      <td>0.623</td>\n",
       "    </tr>\n",
       "    <tr>\n",
       "      <th>Baseline</th>\n",
       "      <td>Crop Yield Prediction</td>\n",
       "      <td>0.543</td>\n",
       "      <td>0.370</td>\n",
       "      <td>0.497</td>\n",
       "      <td>0.508</td>\n",
       "      <td>0.536</td>\n",
       "    </tr>\n",
       "    <tr>\n",
       "      <th>Predicted</th>\n",
       "      <td>\\n(\"process adaptation\" OR \"processes adaptati...</td>\n",
       "      <td>0.279</td>\n",
       "      <td>0.046</td>\n",
       "      <td>0.139</td>\n",
       "      <td>0.528</td>\n",
       "      <td>0.308</td>\n",
       "    </tr>\n",
       "    <tr>\n",
       "      <th>Baseline</th>\n",
       "      <td>Software Process Line</td>\n",
       "      <td>0.605</td>\n",
       "      <td>0.023</td>\n",
       "      <td>0.101</td>\n",
       "      <td>0.480</td>\n",
       "      <td>0.575</td>\n",
       "    </tr>\n",
       "    <tr>\n",
       "      <th>Predicted</th>\n",
       "      <td>\\n(synthetic biology) OR \"genome editing\" OR \"...</td>\n",
       "      <td>0.586</td>\n",
       "      <td>0.339</td>\n",
       "      <td>0.512</td>\n",
       "      <td>0.489</td>\n",
       "      <td>0.564</td>\n",
       "    </tr>\n",
       "    <tr>\n",
       "      <th>Baseline</th>\n",
       "      <td>Synthetic Biology</td>\n",
       "      <td>0.207</td>\n",
       "      <td>0.032</td>\n",
       "      <td>0.098</td>\n",
       "      <td>0.501</td>\n",
       "      <td>0.234</td>\n",
       "    </tr>\n",
       "    <tr>\n",
       "      <th>Predicted</th>\n",
       "      <td>\\n\"resilience assessment\" OR \"resilience strat...</td>\n",
       "      <td>0.222</td>\n",
       "      <td>0.073</td>\n",
       "      <td>0.157</td>\n",
       "      <td>0.499</td>\n",
       "      <td>0.250</td>\n",
       "    </tr>\n",
       "    <tr>\n",
       "      <th>Baseline</th>\n",
       "      <td>Resilience in Business and management</td>\n",
       "      <td>0.000</td>\n",
       "      <td>0.000</td>\n",
       "      <td>0.000</td>\n",
       "      <td>0.502</td>\n",
       "      <td>0.000</td>\n",
       "    </tr>\n",
       "    <tr>\n",
       "      <th>Predicted</th>\n",
       "      <td>\"spinal cord compression\" OR \"spinal stenosis\"...</td>\n",
       "      <td>0.872</td>\n",
       "      <td>0.334</td>\n",
       "      <td>0.660</td>\n",
       "      <td>0.470</td>\n",
       "      <td>0.745</td>\n",
       "    </tr>\n",
       "    <tr>\n",
       "      <th>Baseline</th>\n",
       "      <td>Cervical Myelopathy</td>\n",
       "      <td>0.787</td>\n",
       "      <td>0.636</td>\n",
       "      <td>0.752</td>\n",
       "      <td>0.484</td>\n",
       "      <td>0.699</td>\n",
       "    </tr>\n",
       "    <tr>\n",
       "      <th>Predicted</th>\n",
       "      <td>\\n\"precision agriculture\" OR \"geospatial analy...</td>\n",
       "      <td>0.520</td>\n",
       "      <td>0.178</td>\n",
       "      <td>0.375</td>\n",
       "      <td>0.482</td>\n",
       "      <td>0.512</td>\n",
       "    </tr>\n",
       "    <tr>\n",
       "      <th>Baseline</th>\n",
       "      <td>Drones in Agriculture</td>\n",
       "      <td>0.040</td>\n",
       "      <td>0.429</td>\n",
       "      <td>0.049</td>\n",
       "      <td>0.495</td>\n",
       "      <td>0.049</td>\n",
       "    </tr>\n",
       "    <tr>\n",
       "      <th>Predicted</th>\n",
       "      <td>\\n\"heritage tourism\" OR \"nature tourism\" OR \"t...</td>\n",
       "      <td>0.080</td>\n",
       "      <td>0.000</td>\n",
       "      <td>0.001</td>\n",
       "      <td>0.413</td>\n",
       "      <td>0.095</td>\n",
       "    </tr>\n",
       "    <tr>\n",
       "      <th>Baseline</th>\n",
       "      <td>Tourism Growth Nexus</td>\n",
       "      <td>0.080</td>\n",
       "      <td>0.019</td>\n",
       "      <td>0.049</td>\n",
       "      <td>0.421</td>\n",
       "      <td>0.095</td>\n",
       "    </tr>\n",
       "    <tr>\n",
       "      <th>Predicted</th>\n",
       "      <td>\\n\"exergy analysis\" OR \"sustainable biofuel\" O...</td>\n",
       "      <td>0.360</td>\n",
       "      <td>0.454</td>\n",
       "      <td>0.375</td>\n",
       "      <td>0.413</td>\n",
       "      <td>0.369</td>\n",
       "    </tr>\n",
       "    <tr>\n",
       "      <th>Baseline</th>\n",
       "      <td>Sustainable Biofuel Economy</td>\n",
       "      <td>0.020</td>\n",
       "      <td>0.151</td>\n",
       "      <td>0.024</td>\n",
       "      <td>0.467</td>\n",
       "      <td>0.025</td>\n",
       "    </tr>\n",
       "    <tr>\n",
       "      <th>Predicted</th>\n",
       "      <td>\\n\"perovskite solar cells\" OR \"perovskite comp...</td>\n",
       "      <td>1.000</td>\n",
       "      <td>0.524</td>\n",
       "      <td>0.846</td>\n",
       "      <td>0.461</td>\n",
       "      <td>0.811</td>\n",
       "    </tr>\n",
       "    <tr>\n",
       "      <th>Baseline</th>\n",
       "      <td>Perovskite Solar Cells Stability</td>\n",
       "      <td>0.897</td>\n",
       "      <td>0.815</td>\n",
       "      <td>0.879</td>\n",
       "      <td>0.481</td>\n",
       "      <td>0.764</td>\n",
       "    </tr>\n",
       "    <tr>\n",
       "      <th>Predicted</th>\n",
       "      <td>\\n\"nanocarriers\" OR \"nanoparticle characteriza...</td>\n",
       "      <td>0.040</td>\n",
       "      <td>0.007</td>\n",
       "      <td>0.021</td>\n",
       "      <td>0.534</td>\n",
       "      <td>0.049</td>\n",
       "    </tr>\n",
       "    <tr>\n",
       "      <th>Baseline</th>\n",
       "      <td>Nanopharmaceuticals OR Nanonutraceuticals</td>\n",
       "      <td>0.000</td>\n",
       "      <td>0.000</td>\n",
       "      <td>0.000</td>\n",
       "      <td>0.583</td>\n",
       "      <td>0.000</td>\n",
       "    </tr>\n",
       "    <tr>\n",
       "      <th>Predicted</th>\n",
       "      <td>\\n\"climate action\" OR \"logistics efficiency\" O...</td>\n",
       "      <td>0.237</td>\n",
       "      <td>0.015</td>\n",
       "      <td>0.061</td>\n",
       "      <td>0.432</td>\n",
       "      <td>0.260</td>\n",
       "    </tr>\n",
       "    <tr>\n",
       "      <th>Baseline</th>\n",
       "      <td>Green Warehousing</td>\n",
       "      <td>0.158</td>\n",
       "      <td>0.422</td>\n",
       "      <td>0.181</td>\n",
       "      <td>0.412</td>\n",
       "      <td>0.180</td>\n",
       "    </tr>\n",
       "    <tr>\n",
       "      <th>Predicted</th>\n",
       "      <td>\\n\"edge data processing\" OR \"distributed machi...</td>\n",
       "      <td>0.389</td>\n",
       "      <td>0.161</td>\n",
       "      <td>0.303</td>\n",
       "      <td>0.522</td>\n",
       "      <td>0.410</td>\n",
       "    </tr>\n",
       "    <tr>\n",
       "      <th>Baseline</th>\n",
       "      <td>AI on Edge Devices</td>\n",
       "      <td>0.111</td>\n",
       "      <td>0.116</td>\n",
       "      <td>0.112</td>\n",
       "      <td>0.483</td>\n",
       "      <td>0.131</td>\n",
       "    </tr>\n",
       "  </tbody>\n",
       "</table>\n",
       "</div>"
      ],
      "text/plain": [
       "                                                       Query  Recall  \\\n",
       "Predicted  \\n\"digital surgery\" OR \"surgical navigation\" O...   0.957   \n",
       "Baseline                                Robotic Arthroplasty   0.957   \n",
       "Predicted  \\n\"compliant materials\" OR (soft robotics) OR ...   0.722   \n",
       "Baseline                                       Soft Robotics   0.556   \n",
       "Predicted  \\n\"crop yield estimation\" OR \"crop simulation ...   0.652   \n",
       "Baseline                               Crop Yield Prediction   0.543   \n",
       "Predicted  \\n(\"process adaptation\" OR \"processes adaptati...   0.279   \n",
       "Baseline                               Software Process Line   0.605   \n",
       "Predicted  \\n(synthetic biology) OR \"genome editing\" OR \"...   0.586   \n",
       "Baseline                                   Synthetic Biology   0.207   \n",
       "Predicted  \\n\"resilience assessment\" OR \"resilience strat...   0.222   \n",
       "Baseline               Resilience in Business and management   0.000   \n",
       "Predicted  \"spinal cord compression\" OR \"spinal stenosis\"...   0.872   \n",
       "Baseline                                 Cervical Myelopathy   0.787   \n",
       "Predicted  \\n\"precision agriculture\" OR \"geospatial analy...   0.520   \n",
       "Baseline                               Drones in Agriculture   0.040   \n",
       "Predicted  \\n\"heritage tourism\" OR \"nature tourism\" OR \"t...   0.080   \n",
       "Baseline                                Tourism Growth Nexus   0.080   \n",
       "Predicted  \\n\"exergy analysis\" OR \"sustainable biofuel\" O...   0.360   \n",
       "Baseline                         Sustainable Biofuel Economy   0.020   \n",
       "Predicted  \\n\"perovskite solar cells\" OR \"perovskite comp...   1.000   \n",
       "Baseline                    Perovskite Solar Cells Stability   0.897   \n",
       "Predicted  \\n\"nanocarriers\" OR \"nanoparticle characteriza...   0.040   \n",
       "Baseline           Nanopharmaceuticals OR Nanonutraceuticals   0.000   \n",
       "Predicted  \\n\"climate action\" OR \"logistics efficiency\" O...   0.237   \n",
       "Baseline                                   Green Warehousing   0.158   \n",
       "Predicted  \\n\"edge data processing\" OR \"distributed machi...   0.389   \n",
       "Baseline                                  AI on Edge Devices   0.111   \n",
       "\n",
       "           Semantic Precision  Semantic F2  MVVE Precision  MVVE F2  \n",
       "Predicted               0.061        0.244           0.330    0.694  \n",
       "Baseline                0.595        0.853           0.401    0.749  \n",
       "Predicted               0.212        0.487           0.451    0.644  \n",
       "Baseline                0.452        0.531           0.492    0.542  \n",
       "Predicted               0.106        0.321           0.528    0.623  \n",
       "Baseline                0.370        0.497           0.508    0.536  \n",
       "Predicted               0.046        0.139           0.528    0.308  \n",
       "Baseline                0.023        0.101           0.480    0.575  \n",
       "Predicted               0.339        0.512           0.489    0.564  \n",
       "Baseline                0.032        0.098           0.501    0.234  \n",
       "Predicted               0.073        0.157           0.499    0.250  \n",
       "Baseline                0.000        0.000           0.502    0.000  \n",
       "Predicted               0.334        0.660           0.470    0.745  \n",
       "Baseline                0.636        0.752           0.484    0.699  \n",
       "Predicted               0.178        0.375           0.482    0.512  \n",
       "Baseline                0.429        0.049           0.495    0.049  \n",
       "Predicted               0.000        0.001           0.413    0.095  \n",
       "Baseline                0.019        0.049           0.421    0.095  \n",
       "Predicted               0.454        0.375           0.413    0.369  \n",
       "Baseline                0.151        0.024           0.467    0.025  \n",
       "Predicted               0.524        0.846           0.461    0.811  \n",
       "Baseline                0.815        0.879           0.481    0.764  \n",
       "Predicted               0.007        0.021           0.534    0.049  \n",
       "Baseline                0.000        0.000           0.583    0.000  \n",
       "Predicted               0.015        0.061           0.432    0.260  \n",
       "Baseline                0.422        0.181           0.412    0.180  \n",
       "Predicted               0.161        0.303           0.522    0.410  \n",
       "Baseline                0.116        0.112           0.483    0.131  "
      ]
     },
     "metadata": {},
     "output_type": "display_data"
    }
   ],
   "source": [
    "results = pd.DataFrame({\n",
    "    \"Query\": [predicted] + [baseline],\n",
    "    \"Recall\": [recall[\"predicted_recall\"], recall[\"baseline_recall\"]],\n",
    "    \"Semantic Precision\": [pred_precision, baseline_precision],\n",
    "    \"Semantic F2\": [pred_f2, baseline_f2],\n",
    "    \"MVVE Precision\": [mvve_prec_predicted, mvve_prec_baseline],\n",
    "    \"MVVE F2\": [fscore(mvve_prec_predicted, recall[\"predicted_recall\"], 2), fscore(mvve_prec_baseline, recall[\"baseline_recall\"], 2)]\n",
    "}, index=[\"Predicted\", \"Baseline\"])\n",
    "\n",
    "try:\n",
    "    old_results = pd.read_excel(\"results.xlsx\", index_col=0)\n",
    "    results = pd.concat([old_results, results]).drop_duplicates(subset=[\"Query\"]).round(3)\n",
    "    results.to_excel(\"results.xlsx\")\n",
    "except FileNotFoundError:\n",
    "    results.to_excel(\"results.xlsx\")\n",
    "\n",
    "display(results)"
   ]
  },
  {
   "cell_type": "code",
   "execution_count": 71,
   "metadata": {},
   "outputs": [
    {
     "name": "stderr",
     "output_type": "stream",
     "text": [
      "C:\\Users\\saknini\\AppData\\Local\\Temp\\ipykernel_1988\\2014097421.py:2: FutureWarning:\n",
      "\n",
      "ChainedAssignmentError: behaviour will change in pandas 3.0!\n",
      "You are setting values through chained assignment. Currently this works in certain cases, but when using Copy-on-Write (which will become the default behaviour in pandas 3.0) this will never work to update the original DataFrame or Series, because the intermediate object on which we are setting values will behave as a copy.\n",
      "A typical example is when you are setting values in a column of a DataFrame, like:\n",
      "\n",
      "df[\"col\"][row_indexer] = value\n",
      "\n",
      "Use `df.loc[row_indexer, \"col\"] = values` instead, to perform the assignment in a single step and ensure this keeps updating the original `df`.\n",
      "\n",
      "See the caveats in the documentation: https://pandas.pydata.org/pandas-docs/stable/user_guide/indexing.html#returning-a-view-versus-a-copy\n",
      "\n",
      "\n",
      "C:\\Users\\saknini\\AppData\\Local\\Temp\\ipykernel_1988\\2014097421.py:2: SettingWithCopyWarning:\n",
      "\n",
      "\n",
      "A value is trying to be set on a copy of a slice from a DataFrame\n",
      "\n",
      "See the caveats in the documentation: https://pandas.pydata.org/pandas-docs/stable/user_guide/indexing.html#returning-a-view-versus-a-copy\n",
      "\n"
     ]
    }
   ],
   "source": [
    "results[\"Topic\"] = results[\"Query\"].copy()\n",
    "results[\"Topic\"][0::2] = np.nan\n",
    "plt_df = results.bfill()\n",
    "plt_df.reset_index(inplace=True)"
   ]
  },
  {
   "cell_type": "code",
   "execution_count": 72,
   "metadata": {},
   "outputs": [
    {
     "data": {
      "application/vnd.plotly.v1+json": {
       "config": {
        "plotlyServerURL": "https://plot.ly"
       },
       "data": [
        {
         "alignmentgroup": "True",
         "bingroup": "x",
         "histfunc": "sum",
         "hovertemplate": "variable=Recall<br>index=Predicted<br>Topic=%{x}<br>sum of value=%{y}<extra></extra>",
         "legendgroup": "Recall",
         "marker": {
          "color": "#636efa",
          "pattern": {
           "shape": ""
          }
         },
         "name": "Recall",
         "offsetgroup": "Recall",
         "orientation": "v",
         "showlegend": true,
         "type": "histogram",
         "x": [
          "AI on Edge Devices",
          "Green Warehousing",
          "Nanopharmaceuticals OR Nanonutraceuticals",
          "Perovskite Solar Cells Stability",
          "Sustainable Biofuel Economy",
          "Tourism Growth Nexus",
          "Drones in Agriculture",
          "Cervical Myelopathy",
          "Resilience in Business and management",
          "Synthetic Biology",
          "Software Process Line",
          "Crop Yield Prediction",
          "Soft Robotics",
          "Robotic Arthroplasty"
         ],
         "xaxis": "x2",
         "y": [
          0.389,
          0.237,
          0.04,
          1,
          0.36,
          0.08,
          0.52,
          0.872,
          0.222,
          0.586,
          0.279,
          0.652,
          0.722,
          0.957
         ],
         "yaxis": "y2"
        },
        {
         "alignmentgroup": "True",
         "bingroup": "x",
         "histfunc": "sum",
         "hovertemplate": "variable=Recall<br>index=Baseline<br>Topic=%{x}<br>sum of value=%{y}<extra></extra>",
         "legendgroup": "Recall",
         "marker": {
          "color": "#636efa",
          "pattern": {
           "shape": ""
          }
         },
         "name": "Recall",
         "offsetgroup": "Recall",
         "orientation": "v",
         "showlegend": false,
         "type": "histogram",
         "x": [
          "AI on Edge Devices",
          "Green Warehousing",
          "Nanopharmaceuticals OR Nanonutraceuticals",
          "Perovskite Solar Cells Stability",
          "Sustainable Biofuel Economy",
          "Tourism Growth Nexus",
          "Drones in Agriculture",
          "Cervical Myelopathy",
          "Resilience in Business and management",
          "Synthetic Biology",
          "Software Process Line",
          "Crop Yield Prediction",
          "Soft Robotics",
          "Robotic Arthroplasty"
         ],
         "xaxis": "x",
         "y": [
          0.111,
          0.158,
          0,
          0.897,
          0.02,
          0.08,
          0.04,
          0.787,
          0,
          0.207,
          0.605,
          0.543,
          0.556,
          0.957
         ],
         "yaxis": "y"
        },
        {
         "alignmentgroup": "True",
         "bingroup": "x",
         "histfunc": "sum",
         "hovertemplate": "variable=Semantic Precision<br>index=Predicted<br>Topic=%{x}<br>sum of value=%{y}<extra></extra>",
         "legendgroup": "Semantic Precision",
         "marker": {
          "color": "#EF553B",
          "pattern": {
           "shape": ""
          }
         },
         "name": "Semantic Precision",
         "offsetgroup": "Semantic Precision",
         "orientation": "v",
         "showlegend": true,
         "type": "histogram",
         "x": [
          "AI on Edge Devices",
          "Green Warehousing",
          "Nanopharmaceuticals OR Nanonutraceuticals",
          "Perovskite Solar Cells Stability",
          "Sustainable Biofuel Economy",
          "Tourism Growth Nexus",
          "Drones in Agriculture",
          "Cervical Myelopathy",
          "Resilience in Business and management",
          "Synthetic Biology",
          "Software Process Line",
          "Crop Yield Prediction",
          "Soft Robotics",
          "Robotic Arthroplasty"
         ],
         "xaxis": "x2",
         "y": [
          0.161,
          0.015,
          0.007,
          0.524,
          0.454,
          0,
          0.178,
          0.334,
          0.073,
          0.339,
          0.046,
          0.106,
          0.212,
          0.061
         ],
         "yaxis": "y2"
        },
        {
         "alignmentgroup": "True",
         "bingroup": "x",
         "histfunc": "sum",
         "hovertemplate": "variable=Semantic Precision<br>index=Baseline<br>Topic=%{x}<br>sum of value=%{y}<extra></extra>",
         "legendgroup": "Semantic Precision",
         "marker": {
          "color": "#EF553B",
          "pattern": {
           "shape": ""
          }
         },
         "name": "Semantic Precision",
         "offsetgroup": "Semantic Precision",
         "orientation": "v",
         "showlegend": false,
         "type": "histogram",
         "x": [
          "AI on Edge Devices",
          "Green Warehousing",
          "Nanopharmaceuticals OR Nanonutraceuticals",
          "Perovskite Solar Cells Stability",
          "Sustainable Biofuel Economy",
          "Tourism Growth Nexus",
          "Drones in Agriculture",
          "Cervical Myelopathy",
          "Resilience in Business and management",
          "Synthetic Biology",
          "Software Process Line",
          "Crop Yield Prediction",
          "Soft Robotics",
          "Robotic Arthroplasty"
         ],
         "xaxis": "x",
         "y": [
          0.116,
          0.422,
          0,
          0.815,
          0.151,
          0.019,
          0.429,
          0.636,
          0,
          0.032,
          0.023,
          0.37,
          0.452,
          0.595
         ],
         "yaxis": "y"
        },
        {
         "alignmentgroup": "True",
         "bingroup": "x",
         "histfunc": "sum",
         "hovertemplate": "variable=MVVE Precision<br>index=Predicted<br>Topic=%{x}<br>sum of value=%{y}<extra></extra>",
         "legendgroup": "MVVE Precision",
         "marker": {
          "color": "#00cc96",
          "pattern": {
           "shape": ""
          }
         },
         "name": "MVVE Precision",
         "offsetgroup": "MVVE Precision",
         "orientation": "v",
         "showlegend": true,
         "type": "histogram",
         "x": [
          "AI on Edge Devices",
          "Green Warehousing",
          "Nanopharmaceuticals OR Nanonutraceuticals",
          "Perovskite Solar Cells Stability",
          "Sustainable Biofuel Economy",
          "Tourism Growth Nexus",
          "Drones in Agriculture",
          "Cervical Myelopathy",
          "Resilience in Business and management",
          "Synthetic Biology",
          "Software Process Line",
          "Crop Yield Prediction",
          "Soft Robotics",
          "Robotic Arthroplasty"
         ],
         "xaxis": "x2",
         "y": [
          0.522,
          0.432,
          0.534,
          0.461,
          0.413,
          0.413,
          0.482,
          0.47,
          0.499,
          0.489,
          0.528,
          0.528,
          0.451,
          0.33
         ],
         "yaxis": "y2"
        },
        {
         "alignmentgroup": "True",
         "bingroup": "x",
         "histfunc": "sum",
         "hovertemplate": "variable=MVVE Precision<br>index=Baseline<br>Topic=%{x}<br>sum of value=%{y}<extra></extra>",
         "legendgroup": "MVVE Precision",
         "marker": {
          "color": "#00cc96",
          "pattern": {
           "shape": ""
          }
         },
         "name": "MVVE Precision",
         "offsetgroup": "MVVE Precision",
         "orientation": "v",
         "showlegend": false,
         "type": "histogram",
         "x": [
          "AI on Edge Devices",
          "Green Warehousing",
          "Nanopharmaceuticals OR Nanonutraceuticals",
          "Perovskite Solar Cells Stability",
          "Sustainable Biofuel Economy",
          "Tourism Growth Nexus",
          "Drones in Agriculture",
          "Cervical Myelopathy",
          "Resilience in Business and management",
          "Synthetic Biology",
          "Software Process Line",
          "Crop Yield Prediction",
          "Soft Robotics",
          "Robotic Arthroplasty"
         ],
         "xaxis": "x",
         "y": [
          0.483,
          0.412,
          0.583,
          0.481,
          0.467,
          0.421,
          0.495,
          0.484,
          0.502,
          0.501,
          0.48,
          0.508,
          0.492,
          0.401
         ],
         "yaxis": "y"
        },
        {
         "alignmentgroup": "True",
         "bingroup": "x",
         "histfunc": "sum",
         "hovertemplate": "variable=Semantic F2<br>index=Predicted<br>Topic=%{x}<br>sum of value=%{y}<extra></extra>",
         "legendgroup": "Semantic F2",
         "marker": {
          "color": "#ab63fa",
          "pattern": {
           "shape": ""
          }
         },
         "name": "Semantic F2",
         "offsetgroup": "Semantic F2",
         "orientation": "v",
         "showlegend": true,
         "type": "histogram",
         "x": [
          "AI on Edge Devices",
          "Green Warehousing",
          "Nanopharmaceuticals OR Nanonutraceuticals",
          "Perovskite Solar Cells Stability",
          "Sustainable Biofuel Economy",
          "Tourism Growth Nexus",
          "Drones in Agriculture",
          "Cervical Myelopathy",
          "Resilience in Business and management",
          "Synthetic Biology",
          "Software Process Line",
          "Crop Yield Prediction",
          "Soft Robotics",
          "Robotic Arthroplasty"
         ],
         "xaxis": "x2",
         "y": [
          0.303,
          0.061,
          0.021,
          0.846,
          0.375,
          0.001,
          0.375,
          0.66,
          0.157,
          0.512,
          0.139,
          0.321,
          0.487,
          0.244
         ],
         "yaxis": "y2"
        },
        {
         "alignmentgroup": "True",
         "bingroup": "x",
         "histfunc": "sum",
         "hovertemplate": "variable=Semantic F2<br>index=Baseline<br>Topic=%{x}<br>sum of value=%{y}<extra></extra>",
         "legendgroup": "Semantic F2",
         "marker": {
          "color": "#ab63fa",
          "pattern": {
           "shape": ""
          }
         },
         "name": "Semantic F2",
         "offsetgroup": "Semantic F2",
         "orientation": "v",
         "showlegend": false,
         "type": "histogram",
         "x": [
          "AI on Edge Devices",
          "Green Warehousing",
          "Nanopharmaceuticals OR Nanonutraceuticals",
          "Perovskite Solar Cells Stability",
          "Sustainable Biofuel Economy",
          "Tourism Growth Nexus",
          "Drones in Agriculture",
          "Cervical Myelopathy",
          "Resilience in Business and management",
          "Synthetic Biology",
          "Software Process Line",
          "Crop Yield Prediction",
          "Soft Robotics",
          "Robotic Arthroplasty"
         ],
         "xaxis": "x",
         "y": [
          0.112,
          0.181,
          0,
          0.879,
          0.024,
          0.049,
          0.049,
          0.752,
          0,
          0.098,
          0.101,
          0.497,
          0.531,
          0.853
         ],
         "yaxis": "y"
        },
        {
         "alignmentgroup": "True",
         "bingroup": "x",
         "histfunc": "sum",
         "hovertemplate": "variable=MVVE F2<br>index=Predicted<br>Topic=%{x}<br>sum of value=%{y}<extra></extra>",
         "legendgroup": "MVVE F2",
         "marker": {
          "color": "#FFA15A",
          "pattern": {
           "shape": ""
          }
         },
         "name": "MVVE F2",
         "offsetgroup": "MVVE F2",
         "orientation": "v",
         "showlegend": true,
         "type": "histogram",
         "x": [
          "AI on Edge Devices",
          "Green Warehousing",
          "Nanopharmaceuticals OR Nanonutraceuticals",
          "Perovskite Solar Cells Stability",
          "Sustainable Biofuel Economy",
          "Tourism Growth Nexus",
          "Drones in Agriculture",
          "Cervical Myelopathy",
          "Resilience in Business and management",
          "Synthetic Biology",
          "Software Process Line",
          "Crop Yield Prediction",
          "Soft Robotics",
          "Robotic Arthroplasty"
         ],
         "xaxis": "x2",
         "y": [
          0.41,
          0.26,
          0.049,
          0.811,
          0.369,
          0.095,
          0.512,
          0.745,
          0.25,
          0.564,
          0.308,
          0.623,
          0.644,
          0.694
         ],
         "yaxis": "y2"
        },
        {
         "alignmentgroup": "True",
         "bingroup": "x",
         "histfunc": "sum",
         "hovertemplate": "variable=MVVE F2<br>index=Baseline<br>Topic=%{x}<br>sum of value=%{y}<extra></extra>",
         "legendgroup": "MVVE F2",
         "marker": {
          "color": "#FFA15A",
          "pattern": {
           "shape": ""
          }
         },
         "name": "MVVE F2",
         "offsetgroup": "MVVE F2",
         "orientation": "v",
         "showlegend": false,
         "type": "histogram",
         "x": [
          "AI on Edge Devices",
          "Green Warehousing",
          "Nanopharmaceuticals OR Nanonutraceuticals",
          "Perovskite Solar Cells Stability",
          "Sustainable Biofuel Economy",
          "Tourism Growth Nexus",
          "Drones in Agriculture",
          "Cervical Myelopathy",
          "Resilience in Business and management",
          "Synthetic Biology",
          "Software Process Line",
          "Crop Yield Prediction",
          "Soft Robotics",
          "Robotic Arthroplasty"
         ],
         "xaxis": "x",
         "y": [
          0.131,
          0.18,
          0,
          0.764,
          0.025,
          0.095,
          0.049,
          0.699,
          0,
          0.234,
          0.575,
          0.536,
          0.542,
          0.749
         ],
         "yaxis": "y"
        }
       ],
       "layout": {
        "annotations": [
         {
          "font": {},
          "showarrow": false,
          "text": "Baseline",
          "textangle": 90,
          "x": 0.98,
          "xanchor": "left",
          "xref": "paper",
          "y": 0.225,
          "yanchor": "middle",
          "yref": "paper"
         },
         {
          "font": {},
          "showarrow": false,
          "text": "Predicted",
          "textangle": 90,
          "x": 0.98,
          "xanchor": "left",
          "xref": "paper",
          "y": 0.775,
          "yanchor": "middle",
          "yref": "paper"
         }
        ],
        "barmode": "group",
        "legend": {
         "title": {
          "text": "variable"
         },
         "tracegroupgap": 0
        },
        "template": {
         "data": {
          "bar": [
           {
            "error_x": {
             "color": "#2a3f5f"
            },
            "error_y": {
             "color": "#2a3f5f"
            },
            "marker": {
             "line": {
              "color": "#E5ECF6",
              "width": 0.5
             },
             "pattern": {
              "fillmode": "overlay",
              "size": 10,
              "solidity": 0.2
             }
            },
            "type": "bar"
           }
          ],
          "barpolar": [
           {
            "marker": {
             "line": {
              "color": "#E5ECF6",
              "width": 0.5
             },
             "pattern": {
              "fillmode": "overlay",
              "size": 10,
              "solidity": 0.2
             }
            },
            "type": "barpolar"
           }
          ],
          "carpet": [
           {
            "aaxis": {
             "endlinecolor": "#2a3f5f",
             "gridcolor": "white",
             "linecolor": "white",
             "minorgridcolor": "white",
             "startlinecolor": "#2a3f5f"
            },
            "baxis": {
             "endlinecolor": "#2a3f5f",
             "gridcolor": "white",
             "linecolor": "white",
             "minorgridcolor": "white",
             "startlinecolor": "#2a3f5f"
            },
            "type": "carpet"
           }
          ],
          "choropleth": [
           {
            "colorbar": {
             "outlinewidth": 0,
             "ticks": ""
            },
            "type": "choropleth"
           }
          ],
          "contour": [
           {
            "colorbar": {
             "outlinewidth": 0,
             "ticks": ""
            },
            "colorscale": [
             [
              0,
              "#0d0887"
             ],
             [
              0.1111111111111111,
              "#46039f"
             ],
             [
              0.2222222222222222,
              "#7201a8"
             ],
             [
              0.3333333333333333,
              "#9c179e"
             ],
             [
              0.4444444444444444,
              "#bd3786"
             ],
             [
              0.5555555555555556,
              "#d8576b"
             ],
             [
              0.6666666666666666,
              "#ed7953"
             ],
             [
              0.7777777777777778,
              "#fb9f3a"
             ],
             [
              0.8888888888888888,
              "#fdca26"
             ],
             [
              1,
              "#f0f921"
             ]
            ],
            "type": "contour"
           }
          ],
          "contourcarpet": [
           {
            "colorbar": {
             "outlinewidth": 0,
             "ticks": ""
            },
            "type": "contourcarpet"
           }
          ],
          "heatmap": [
           {
            "colorbar": {
             "outlinewidth": 0,
             "ticks": ""
            },
            "colorscale": [
             [
              0,
              "#0d0887"
             ],
             [
              0.1111111111111111,
              "#46039f"
             ],
             [
              0.2222222222222222,
              "#7201a8"
             ],
             [
              0.3333333333333333,
              "#9c179e"
             ],
             [
              0.4444444444444444,
              "#bd3786"
             ],
             [
              0.5555555555555556,
              "#d8576b"
             ],
             [
              0.6666666666666666,
              "#ed7953"
             ],
             [
              0.7777777777777778,
              "#fb9f3a"
             ],
             [
              0.8888888888888888,
              "#fdca26"
             ],
             [
              1,
              "#f0f921"
             ]
            ],
            "type": "heatmap"
           }
          ],
          "heatmapgl": [
           {
            "colorbar": {
             "outlinewidth": 0,
             "ticks": ""
            },
            "colorscale": [
             [
              0,
              "#0d0887"
             ],
             [
              0.1111111111111111,
              "#46039f"
             ],
             [
              0.2222222222222222,
              "#7201a8"
             ],
             [
              0.3333333333333333,
              "#9c179e"
             ],
             [
              0.4444444444444444,
              "#bd3786"
             ],
             [
              0.5555555555555556,
              "#d8576b"
             ],
             [
              0.6666666666666666,
              "#ed7953"
             ],
             [
              0.7777777777777778,
              "#fb9f3a"
             ],
             [
              0.8888888888888888,
              "#fdca26"
             ],
             [
              1,
              "#f0f921"
             ]
            ],
            "type": "heatmapgl"
           }
          ],
          "histogram": [
           {
            "marker": {
             "pattern": {
              "fillmode": "overlay",
              "size": 10,
              "solidity": 0.2
             }
            },
            "type": "histogram"
           }
          ],
          "histogram2d": [
           {
            "colorbar": {
             "outlinewidth": 0,
             "ticks": ""
            },
            "colorscale": [
             [
              0,
              "#0d0887"
             ],
             [
              0.1111111111111111,
              "#46039f"
             ],
             [
              0.2222222222222222,
              "#7201a8"
             ],
             [
              0.3333333333333333,
              "#9c179e"
             ],
             [
              0.4444444444444444,
              "#bd3786"
             ],
             [
              0.5555555555555556,
              "#d8576b"
             ],
             [
              0.6666666666666666,
              "#ed7953"
             ],
             [
              0.7777777777777778,
              "#fb9f3a"
             ],
             [
              0.8888888888888888,
              "#fdca26"
             ],
             [
              1,
              "#f0f921"
             ]
            ],
            "type": "histogram2d"
           }
          ],
          "histogram2dcontour": [
           {
            "colorbar": {
             "outlinewidth": 0,
             "ticks": ""
            },
            "colorscale": [
             [
              0,
              "#0d0887"
             ],
             [
              0.1111111111111111,
              "#46039f"
             ],
             [
              0.2222222222222222,
              "#7201a8"
             ],
             [
              0.3333333333333333,
              "#9c179e"
             ],
             [
              0.4444444444444444,
              "#bd3786"
             ],
             [
              0.5555555555555556,
              "#d8576b"
             ],
             [
              0.6666666666666666,
              "#ed7953"
             ],
             [
              0.7777777777777778,
              "#fb9f3a"
             ],
             [
              0.8888888888888888,
              "#fdca26"
             ],
             [
              1,
              "#f0f921"
             ]
            ],
            "type": "histogram2dcontour"
           }
          ],
          "mesh3d": [
           {
            "colorbar": {
             "outlinewidth": 0,
             "ticks": ""
            },
            "type": "mesh3d"
           }
          ],
          "parcoords": [
           {
            "line": {
             "colorbar": {
              "outlinewidth": 0,
              "ticks": ""
             }
            },
            "type": "parcoords"
           }
          ],
          "pie": [
           {
            "automargin": true,
            "type": "pie"
           }
          ],
          "scatter": [
           {
            "fillpattern": {
             "fillmode": "overlay",
             "size": 10,
             "solidity": 0.2
            },
            "type": "scatter"
           }
          ],
          "scatter3d": [
           {
            "line": {
             "colorbar": {
              "outlinewidth": 0,
              "ticks": ""
             }
            },
            "marker": {
             "colorbar": {
              "outlinewidth": 0,
              "ticks": ""
             }
            },
            "type": "scatter3d"
           }
          ],
          "scattercarpet": [
           {
            "marker": {
             "colorbar": {
              "outlinewidth": 0,
              "ticks": ""
             }
            },
            "type": "scattercarpet"
           }
          ],
          "scattergeo": [
           {
            "marker": {
             "colorbar": {
              "outlinewidth": 0,
              "ticks": ""
             }
            },
            "type": "scattergeo"
           }
          ],
          "scattergl": [
           {
            "marker": {
             "colorbar": {
              "outlinewidth": 0,
              "ticks": ""
             }
            },
            "type": "scattergl"
           }
          ],
          "scattermapbox": [
           {
            "marker": {
             "colorbar": {
              "outlinewidth": 0,
              "ticks": ""
             }
            },
            "type": "scattermapbox"
           }
          ],
          "scatterpolar": [
           {
            "marker": {
             "colorbar": {
              "outlinewidth": 0,
              "ticks": ""
             }
            },
            "type": "scatterpolar"
           }
          ],
          "scatterpolargl": [
           {
            "marker": {
             "colorbar": {
              "outlinewidth": 0,
              "ticks": ""
             }
            },
            "type": "scatterpolargl"
           }
          ],
          "scatterternary": [
           {
            "marker": {
             "colorbar": {
              "outlinewidth": 0,
              "ticks": ""
             }
            },
            "type": "scatterternary"
           }
          ],
          "surface": [
           {
            "colorbar": {
             "outlinewidth": 0,
             "ticks": ""
            },
            "colorscale": [
             [
              0,
              "#0d0887"
             ],
             [
              0.1111111111111111,
              "#46039f"
             ],
             [
              0.2222222222222222,
              "#7201a8"
             ],
             [
              0.3333333333333333,
              "#9c179e"
             ],
             [
              0.4444444444444444,
              "#bd3786"
             ],
             [
              0.5555555555555556,
              "#d8576b"
             ],
             [
              0.6666666666666666,
              "#ed7953"
             ],
             [
              0.7777777777777778,
              "#fb9f3a"
             ],
             [
              0.8888888888888888,
              "#fdca26"
             ],
             [
              1,
              "#f0f921"
             ]
            ],
            "type": "surface"
           }
          ],
          "table": [
           {
            "cells": {
             "fill": {
              "color": "#EBF0F8"
             },
             "line": {
              "color": "white"
             }
            },
            "header": {
             "fill": {
              "color": "#C8D4E3"
             },
             "line": {
              "color": "white"
             }
            },
            "type": "table"
           }
          ]
         },
         "layout": {
          "annotationdefaults": {
           "arrowcolor": "#2a3f5f",
           "arrowhead": 0,
           "arrowwidth": 1
          },
          "autotypenumbers": "strict",
          "coloraxis": {
           "colorbar": {
            "outlinewidth": 0,
            "ticks": ""
           }
          },
          "colorscale": {
           "diverging": [
            [
             0,
             "#8e0152"
            ],
            [
             0.1,
             "#c51b7d"
            ],
            [
             0.2,
             "#de77ae"
            ],
            [
             0.3,
             "#f1b6da"
            ],
            [
             0.4,
             "#fde0ef"
            ],
            [
             0.5,
             "#f7f7f7"
            ],
            [
             0.6,
             "#e6f5d0"
            ],
            [
             0.7,
             "#b8e186"
            ],
            [
             0.8,
             "#7fbc41"
            ],
            [
             0.9,
             "#4d9221"
            ],
            [
             1,
             "#276419"
            ]
           ],
           "sequential": [
            [
             0,
             "#0d0887"
            ],
            [
             0.1111111111111111,
             "#46039f"
            ],
            [
             0.2222222222222222,
             "#7201a8"
            ],
            [
             0.3333333333333333,
             "#9c179e"
            ],
            [
             0.4444444444444444,
             "#bd3786"
            ],
            [
             0.5555555555555556,
             "#d8576b"
            ],
            [
             0.6666666666666666,
             "#ed7953"
            ],
            [
             0.7777777777777778,
             "#fb9f3a"
            ],
            [
             0.8888888888888888,
             "#fdca26"
            ],
            [
             1,
             "#f0f921"
            ]
           ],
           "sequentialminus": [
            [
             0,
             "#0d0887"
            ],
            [
             0.1111111111111111,
             "#46039f"
            ],
            [
             0.2222222222222222,
             "#7201a8"
            ],
            [
             0.3333333333333333,
             "#9c179e"
            ],
            [
             0.4444444444444444,
             "#bd3786"
            ],
            [
             0.5555555555555556,
             "#d8576b"
            ],
            [
             0.6666666666666666,
             "#ed7953"
            ],
            [
             0.7777777777777778,
             "#fb9f3a"
            ],
            [
             0.8888888888888888,
             "#fdca26"
            ],
            [
             1,
             "#f0f921"
            ]
           ]
          },
          "colorway": [
           "#636efa",
           "#EF553B",
           "#00cc96",
           "#ab63fa",
           "#FFA15A",
           "#19d3f3",
           "#FF6692",
           "#B6E880",
           "#FF97FF",
           "#FECB52"
          ],
          "font": {
           "color": "#2a3f5f"
          },
          "geo": {
           "bgcolor": "white",
           "lakecolor": "white",
           "landcolor": "#E5ECF6",
           "showlakes": true,
           "showland": true,
           "subunitcolor": "white"
          },
          "hoverlabel": {
           "align": "left"
          },
          "hovermode": "closest",
          "mapbox": {
           "style": "light"
          },
          "paper_bgcolor": "white",
          "plot_bgcolor": "#E5ECF6",
          "polar": {
           "angularaxis": {
            "gridcolor": "white",
            "linecolor": "white",
            "ticks": ""
           },
           "bgcolor": "#E5ECF6",
           "radialaxis": {
            "gridcolor": "white",
            "linecolor": "white",
            "ticks": ""
           }
          },
          "scene": {
           "xaxis": {
            "backgroundcolor": "#E5ECF6",
            "gridcolor": "white",
            "gridwidth": 2,
            "linecolor": "white",
            "showbackground": true,
            "ticks": "",
            "zerolinecolor": "white"
           },
           "yaxis": {
            "backgroundcolor": "#E5ECF6",
            "gridcolor": "white",
            "gridwidth": 2,
            "linecolor": "white",
            "showbackground": true,
            "ticks": "",
            "zerolinecolor": "white"
           },
           "zaxis": {
            "backgroundcolor": "#E5ECF6",
            "gridcolor": "white",
            "gridwidth": 2,
            "linecolor": "white",
            "showbackground": true,
            "ticks": "",
            "zerolinecolor": "white"
           }
          },
          "shapedefaults": {
           "line": {
            "color": "#2a3f5f"
           }
          },
          "ternary": {
           "aaxis": {
            "gridcolor": "white",
            "linecolor": "white",
            "ticks": ""
           },
           "baxis": {
            "gridcolor": "white",
            "linecolor": "white",
            "ticks": ""
           },
           "bgcolor": "#E5ECF6",
           "caxis": {
            "gridcolor": "white",
            "linecolor": "white",
            "ticks": ""
           }
          },
          "title": {
           "x": 0.05
          },
          "xaxis": {
           "automargin": true,
           "gridcolor": "white",
           "linecolor": "white",
           "ticks": "",
           "title": {
            "standoff": 15
           },
           "zerolinecolor": "white",
           "zerolinewidth": 2
          },
          "yaxis": {
           "automargin": true,
           "gridcolor": "white",
           "linecolor": "white",
           "ticks": "",
           "title": {
            "standoff": 15
           },
           "zerolinecolor": "white",
           "zerolinewidth": 2
          }
         }
        },
        "title": {
         "text": "Metrics for Predicted and Baseline Queries"
        },
        "xaxis": {
         "anchor": "y",
         "domain": [
          0,
          0.98
         ],
         "title": {
          "text": "Topic"
         }
        },
        "xaxis2": {
         "anchor": "y2",
         "domain": [
          0,
          0.98
         ],
         "matches": "x",
         "showticklabels": false
        },
        "yaxis": {
         "anchor": "x",
         "domain": [
          0,
          0.45
         ],
         "dtick": 0.2,
         "title": {
          "text": ""
         }
        },
        "yaxis2": {
         "anchor": "x2",
         "domain": [
          0.55,
          1
         ],
         "dtick": 0.2,
         "matches": "y",
         "title": {
          "text": ""
         }
        }
       }
      }
     },
     "metadata": {},
     "output_type": "display_data"
    }
   ],
   "source": [
    "fig = px.histogram(plt_df, x=\"Topic\", y=[\"Recall\", \"Semantic Precision\", \"MVVE Precision\", \"Semantic F2\", \"MVVE F2\"], title=\"Metrics for Predicted and Baseline Queries\", barmode=\"group\",\n",
    "                   facet_row=\"index\", facet_row_spacing=0.1)\n",
    "\n",
    "# Sort by value\n",
    "fig.for_each_trace(lambda t: t.update(x=t.x[::-1], y=t.y[::-1]))\n",
    "fig.for_each_annotation(lambda a: a.update(text=a.text.split(\"=\")[-1]))\n",
    "fig.update_layout(yaxis1_title=\"\", yaxis2_title=\"\", yaxis1_dtick=0.2, yaxis2_dtick=0.2)\n",
    "fig.show()"
   ]
  }
 ],
 "metadata": {
  "kernelspec": {
   "display_name": "litqeval-nY2J0JWW-py3.11",
   "language": "python",
   "name": "python3"
  },
  "language_info": {
   "codemirror_mode": {
    "name": "ipython",
    "version": 3
   },
   "file_extension": ".py",
   "mimetype": "text/x-python",
   "name": "python",
   "nbconvert_exporter": "python",
   "pygments_lexer": "ipython3",
   "version": "3.10.4"
  }
 },
 "nbformat": 4,
 "nbformat_minor": 2
}
