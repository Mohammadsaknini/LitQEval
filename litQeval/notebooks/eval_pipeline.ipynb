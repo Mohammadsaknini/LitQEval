{
 "cells": [
  {
   "cell_type": "code",
   "execution_count": 2,
   "metadata": {},
   "outputs": [],
   "source": [
    "from sklearn.metrics.pairwise import cosine_similarity\n",
    "from litQeval.eval_utils import *\n",
    "import plotly.express as px\n",
    "import plotly.io as pio\n",
    "from tqdm.auto import tqdm\n",
    "import pandas as pd\n",
    "import numpy as np\n",
    "import json\n",
    "pio.templates.default = \"seaborn\""
   ]
  },
  {
   "cell_type": "code",
   "execution_count": 3,
   "metadata": {},
   "outputs": [
    {
     "data": {
      "text/plain": [
       "((1, 1536), (14651, 1536), (3563, 1536))"
      ]
     },
     "execution_count": 3,
     "metadata": {},
     "output_type": "execute_result"
    }
   ],
   "source": [
    "for i in json.load(open('data/queries.json')):\n",
    "    if i[\"baseline\"] == \"Software Defect Prediction\":\n",
    "        baseline = i[\"baseline\"]\n",
    "        predicted = i[\"predicted\"]\n",
    "        break\n",
    "data = get_data(baseline, predicted)\n",
    "core_pubs = data[\"core_pubs\"]\n",
    "core_mean_embedding = data[\"core_mean_embedding\"]\n",
    "baseline_pubs = data[\"baseline_pubs\"]\n",
    "predicted_pubs = data[\"predicted_pubs\"]\n",
    "baseline_vs = data[\"baseline_vs\"]\n",
    "predicted_vs = data[\"predicted_vs\"]\n",
    "core_vs = data[\"core_vs\"]\n",
    "core_embeddigs = data[\"core_embeddings\"]\n",
    "core_threshold = data[\"core_threshold\"]\n",
    "core_embeddings = data[\"core_embeddings\"]\n",
    "predicted_embeddings = np.array([embedding for embedding in predicted_vs.get(include=[\"embeddings\"])[\"embeddings\"]])\n",
    "baseline_embeddings = np.array([embedding for embedding in baseline_vs.get(include=[\"embeddings\"])[\"embeddings\"]])\n",
    "core_mean_embedding.shape, predicted_embeddings.shape, baseline_embeddings.shape"
   ]
  },
  {
   "cell_type": "code",
   "execution_count": 4,
   "metadata": {},
   "outputs": [
    {
     "name": "stdout",
     "output_type": "stream",
     "text": [
      "Number of core publications in the baseline: 18\n",
      "Number of relevant publications in the baseline: 3366\n"
     ]
    }
   ],
   "source": [
    "cosine_sim = cosine_similarity(core_mean_embedding, baseline_embeddings).flatten()\n",
    "baseline_pubs[\"similarity\"] = cosine_sim\n",
    "\n",
    "core_pubs_in_baseline = baseline_pubs[baseline_pubs[\"id\"].isin(core_pubs)]\n",
    "relevent_baseline_pubs = baseline_pubs[baseline_pubs[\"similarity\"] >= core_threshold].copy()\n",
    "print(f\"Number of core publications in the baseline: {core_pubs_in_baseline.shape[0]}\")\n",
    "print(f\"Number of relevant publications in the baseline: {relevent_baseline_pubs.shape[0]}\")"
   ]
  },
  {
   "cell_type": "code",
   "execution_count": 5,
   "metadata": {},
   "outputs": [
    {
     "name": "stdout",
     "output_type": "stream",
     "text": [
      "Number of core publications in the predicted: 11\n",
      "Number of relevant publications in the predicted: 6485\n"
     ]
    }
   ],
   "source": [
    "# predicted\n",
    "cosine_sim = cosine_similarity(core_mean_embedding, predicted_embeddings).flatten()\n",
    "predicted_pubs[\"similarity\"] = cosine_sim\n",
    "\n",
    "core_pubs_in_predicted = predicted_pubs[predicted_pubs[\"id\"].isin(core_pubs)]\n",
    "relevant_predicted_pubs = predicted_pubs[predicted_pubs[\"similarity\"] >= core_threshold].copy()\n",
    "print(f\"Number of core publications in the predicted: {core_pubs_in_predicted.shape[0]}\")\n",
    "print(f\"Number of relevant publications in the predicted: {relevant_predicted_pubs.shape[0]}\")"
   ]
  },
  {
   "cell_type": "markdown",
   "metadata": {},
   "source": [
    "### Cosine Similarity Measure"
   ]
  },
  {
   "cell_type": "code",
   "execution_count": 6,
   "metadata": {},
   "outputs": [
    {
     "data": {
      "text/html": [
       "<div>\n",
       "<style scoped>\n",
       "    .dataframe tbody tr th:only-of-type {\n",
       "        vertical-align: middle;\n",
       "    }\n",
       "\n",
       "    .dataframe tbody tr th {\n",
       "        vertical-align: top;\n",
       "    }\n",
       "\n",
       "    .dataframe thead th {\n",
       "        text-align: right;\n",
       "    }\n",
       "</style>\n",
       "<table border=\"1\" class=\"dataframe\">\n",
       "  <thead>\n",
       "    <tr style=\"text-align: right;\">\n",
       "      <th></th>\n",
       "      <th>Semantic Precision</th>\n",
       "      <th>Recall</th>\n",
       "      <th>Semantic F2</th>\n",
       "    </tr>\n",
       "  </thead>\n",
       "  <tbody>\n",
       "    <tr>\n",
       "      <th>Predicted</th>\n",
       "      <td>0.442632</td>\n",
       "      <td>0.200000</td>\n",
       "      <td>0.224626</td>\n",
       "    </tr>\n",
       "    <tr>\n",
       "      <th>Baseline</th>\n",
       "      <td>0.944710</td>\n",
       "      <td>0.327273</td>\n",
       "      <td>0.376485</td>\n",
       "    </tr>\n",
       "  </tbody>\n",
       "</table>\n",
       "</div>"
      ],
      "text/plain": [
       "           Semantic Precision    Recall  Semantic F2\n",
       "Predicted            0.442632  0.200000     0.224626\n",
       "Baseline             0.944710  0.327273     0.376485"
      ]
     },
     "execution_count": 6,
     "metadata": {},
     "output_type": "execute_result"
    }
   ],
   "source": [
    "recall = evaluate_recall(core_pubs, baseline_pubs, predicted_pubs)\n",
    "# semnatic precision: every element that is more similar than the least similar core publication is considered relevant\n",
    "# relevant_predicted_pubs: publications that are more similar than the least similar core publication.\n",
    "pred_precision = relevant_predicted_pubs.shape[0] / predicted_pubs.shape[0] # total number of found publications\n",
    "baseline_precision = (relevent_baseline_pubs.shape[0] / baseline_pubs.shape[0]) if baseline_pubs.shape[0] > 0 else 0\n",
    "pred_f2 = fscore(pred_precision, recall[\"predicted_recall\"], 2)\n",
    "baseline_f2 = fscore(baseline_precision, recall[\"baseline_recall\"], 2)\n",
    "df = pd.DataFrame({\n",
    "    \"Semantic Precision\": [pred_precision, baseline_precision],\n",
    "    \"Recall\": [recall[\"predicted_recall\"], recall[\"baseline_recall\"]],\n",
    "    \"Semantic F2\": [pred_f2, baseline_f2]\n",
    "}, index=[\"Predicted\", \"Baseline\"])\n",
    "df"
   ]
  },
  {
   "cell_type": "markdown",
   "metadata": {},
   "source": [
    "### Minimum Volume Enclosing Ellipsoid MMVE"
   ]
  },
  {
   "cell_type": "code",
   "execution_count": 7,
   "metadata": {},
   "outputs": [
    {
     "name": "stderr",
     "output_type": "stream",
     "text": [
      "100%|██████████| 3563/3563 [00:00<00:00, 5374.07it/s]\n",
      "100%|██████████| 14651/14651 [00:02<00:00, 5705.92it/s]\n"
     ]
    }
   ],
   "source": [
    "A, c = mvee(core_embeddings)\n",
    "base_is_inside = is_inside_ellipse(A, c, baseline_embeddings)\n",
    "predicted_is_inside = is_inside_ellipse(A, c, predicted_embeddings)"
   ]
  },
  {
   "cell_type": "code",
   "execution_count": 8,
   "metadata": {},
   "outputs": [
    {
     "name": "stdout",
     "output_type": "stream",
     "text": [
      "Baseline - Inside: 1979\n",
      "Predicted - Inside: 9151\n"
     ]
    },
    {
     "data": {
      "text/html": [
       "<div>\n",
       "<style scoped>\n",
       "    .dataframe tbody tr th:only-of-type {\n",
       "        vertical-align: middle;\n",
       "    }\n",
       "\n",
       "    .dataframe tbody tr th {\n",
       "        vertical-align: top;\n",
       "    }\n",
       "\n",
       "    .dataframe thead th {\n",
       "        text-align: right;\n",
       "    }\n",
       "</style>\n",
       "<table border=\"1\" class=\"dataframe\">\n",
       "  <thead>\n",
       "    <tr style=\"text-align: right;\">\n",
       "      <th></th>\n",
       "      <th>MVVE Precision</th>\n",
       "      <th>Recall</th>\n",
       "      <th>MVVE F2</th>\n",
       "    </tr>\n",
       "  </thead>\n",
       "  <tbody>\n",
       "    <tr>\n",
       "      <th>Predicted</th>\n",
       "      <td>0.624599</td>\n",
       "      <td>0.200000</td>\n",
       "      <td>0.231470</td>\n",
       "    </tr>\n",
       "    <tr>\n",
       "      <th>Baseline</th>\n",
       "      <td>0.555431</td>\n",
       "      <td>0.327273</td>\n",
       "      <td>0.356567</td>\n",
       "    </tr>\n",
       "  </tbody>\n",
       "</table>\n",
       "</div>"
      ],
      "text/plain": [
       "           MVVE Precision    Recall   MVVE F2\n",
       "Predicted        0.624599  0.200000  0.231470\n",
       "Baseline         0.555431  0.327273  0.356567"
      ]
     },
     "execution_count": 8,
     "metadata": {},
     "output_type": "execute_result"
    }
   ],
   "source": [
    "mvve_prec_baseline = base_is_inside.sum() / len(base_is_inside)\n",
    "mvve_prec_predicted = predicted_is_inside.sum() / len(predicted_is_inside)\n",
    "\n",
    "mvve_df = pd.DataFrame({\n",
    "    \"MVVE Precision\": [mvve_prec_predicted, mvve_prec_baseline],\n",
    "    \"Recall\": [recall[\"predicted_recall\"], recall[\"baseline_recall\"]],\n",
    "    \"MVVE F2\": [fscore(mvve_prec_predicted, recall[\"predicted_recall\"], 2), fscore(mvve_prec_baseline, recall[\"baseline_recall\"], 2)]\n",
    "}, index=[\"Predicted\", \"Baseline\"])\n",
    "print(f\"Baseline - Inside: {base_is_inside.sum()}\")\n",
    "print(f\"Predicted - Inside: {predicted_is_inside.sum()}\")\n",
    "mvve_df"
   ]
  },
  {
   "cell_type": "code",
   "execution_count": 9,
   "metadata": {},
   "outputs": [
    {
     "data": {
      "text/html": [
       "<div>\n",
       "<style scoped>\n",
       "    .dataframe tbody tr th:only-of-type {\n",
       "        vertical-align: middle;\n",
       "    }\n",
       "\n",
       "    .dataframe tbody tr th {\n",
       "        vertical-align: top;\n",
       "    }\n",
       "\n",
       "    .dataframe thead th {\n",
       "        text-align: right;\n",
       "    }\n",
       "</style>\n",
       "<table border=\"1\" class=\"dataframe\">\n",
       "  <thead>\n",
       "    <tr style=\"text-align: right;\">\n",
       "      <th></th>\n",
       "      <th>Query</th>\n",
       "      <th>Recall</th>\n",
       "      <th>Semantic Precision</th>\n",
       "      <th>Semantic F2</th>\n",
       "      <th>MVVE Precision</th>\n",
       "      <th>MVVE F2</th>\n",
       "    </tr>\n",
       "  </thead>\n",
       "  <tbody>\n",
       "    <tr>\n",
       "      <th>Predicted</th>\n",
       "      <td>\"digital surgery\" OR \"surgical navigation\" OR ...</td>\n",
       "      <td>0.957</td>\n",
       "      <td>0.081</td>\n",
       "      <td>0.302</td>\n",
       "      <td>0.523</td>\n",
       "      <td>0.821</td>\n",
       "    </tr>\n",
       "    <tr>\n",
       "      <th>Baseline</th>\n",
       "      <td>Robotic Arthroplasty</td>\n",
       "      <td>0.957</td>\n",
       "      <td>0.720</td>\n",
       "      <td>0.898</td>\n",
       "      <td>0.483</td>\n",
       "      <td>0.800</td>\n",
       "    </tr>\n",
       "    <tr>\n",
       "      <th>Predicted</th>\n",
       "      <td>\"compliant materials\" OR (soft robotics) OR \"s...</td>\n",
       "      <td>0.722</td>\n",
       "      <td>0.507</td>\n",
       "      <td>0.666</td>\n",
       "      <td>0.620</td>\n",
       "      <td>0.699</td>\n",
       "    </tr>\n",
       "    <tr>\n",
       "      <th>Baseline</th>\n",
       "      <td>Soft Robotics</td>\n",
       "      <td>0.556</td>\n",
       "      <td>0.755</td>\n",
       "      <td>0.587</td>\n",
       "      <td>0.563</td>\n",
       "      <td>0.557</td>\n",
       "    </tr>\n",
       "    <tr>\n",
       "      <th>Predicted</th>\n",
       "      <td>\"crop yield estimation\" OR \"crop simulation mo...</td>\n",
       "      <td>0.652</td>\n",
       "      <td>0.250</td>\n",
       "      <td>0.494</td>\n",
       "      <td>0.527</td>\n",
       "      <td>0.623</td>\n",
       "    </tr>\n",
       "    <tr>\n",
       "      <th>Baseline</th>\n",
       "      <td>Crop Yield Prediction</td>\n",
       "      <td>0.543</td>\n",
       "      <td>0.622</td>\n",
       "      <td>0.558</td>\n",
       "      <td>0.551</td>\n",
       "      <td>0.545</td>\n",
       "    </tr>\n",
       "    <tr>\n",
       "      <th>Predicted</th>\n",
       "      <td>(synthetic biology) OR \"genome editing\" OR \"mi...</td>\n",
       "      <td>0.586</td>\n",
       "      <td>0.552</td>\n",
       "      <td>0.579</td>\n",
       "      <td>0.532</td>\n",
       "      <td>0.574</td>\n",
       "    </tr>\n",
       "    <tr>\n",
       "      <th>Baseline</th>\n",
       "      <td>Synthetic Biology</td>\n",
       "      <td>0.207</td>\n",
       "      <td>0.619</td>\n",
       "      <td>0.239</td>\n",
       "      <td>0.563</td>\n",
       "      <td>0.237</td>\n",
       "    </tr>\n",
       "    <tr>\n",
       "      <th>Predicted</th>\n",
       "      <td>\"resilience assessment\" OR \"resilience strateg...</td>\n",
       "      <td>0.222</td>\n",
       "      <td>0.290</td>\n",
       "      <td>0.233</td>\n",
       "      <td>0.419</td>\n",
       "      <td>0.245</td>\n",
       "    </tr>\n",
       "    <tr>\n",
       "      <th>Baseline</th>\n",
       "      <td>Resilience in Business and management</td>\n",
       "      <td>0.000</td>\n",
       "      <td>0.484</td>\n",
       "      <td>0.000</td>\n",
       "      <td>0.450</td>\n",
       "      <td>0.000</td>\n",
       "    </tr>\n",
       "    <tr>\n",
       "      <th>Predicted</th>\n",
       "      <td>\"spinal cord compression\" OR \"spinal stenosis\"...</td>\n",
       "      <td>0.872</td>\n",
       "      <td>0.454</td>\n",
       "      <td>0.737</td>\n",
       "      <td>0.488</td>\n",
       "      <td>0.754</td>\n",
       "    </tr>\n",
       "    <tr>\n",
       "      <th>Baseline</th>\n",
       "      <td>Cervical Myelopathy</td>\n",
       "      <td>0.787</td>\n",
       "      <td>0.748</td>\n",
       "      <td>0.779</td>\n",
       "      <td>0.525</td>\n",
       "      <td>0.716</td>\n",
       "    </tr>\n",
       "    <tr>\n",
       "      <th>Predicted</th>\n",
       "      <td>\"precision agriculture\" OR \"geospatial analysi...</td>\n",
       "      <td>0.520</td>\n",
       "      <td>0.271</td>\n",
       "      <td>0.439</td>\n",
       "      <td>0.492</td>\n",
       "      <td>0.514</td>\n",
       "    </tr>\n",
       "    <tr>\n",
       "      <th>Baseline</th>\n",
       "      <td>Drones in Agriculture</td>\n",
       "      <td>0.040</td>\n",
       "      <td>0.568</td>\n",
       "      <td>0.049</td>\n",
       "      <td>0.500</td>\n",
       "      <td>0.049</td>\n",
       "    </tr>\n",
       "    <tr>\n",
       "      <th>Predicted</th>\n",
       "      <td>\"heritage tourism\" OR \"nature tourism\" OR \"tou...</td>\n",
       "      <td>0.080</td>\n",
       "      <td>0.005</td>\n",
       "      <td>0.019</td>\n",
       "      <td>0.484</td>\n",
       "      <td>0.096</td>\n",
       "    </tr>\n",
       "    <tr>\n",
       "      <th>Baseline</th>\n",
       "      <td>Tourism Growth Nexus</td>\n",
       "      <td>0.080</td>\n",
       "      <td>0.362</td>\n",
       "      <td>0.095</td>\n",
       "      <td>0.465</td>\n",
       "      <td>0.096</td>\n",
       "    </tr>\n",
       "    <tr>\n",
       "      <th>Predicted</th>\n",
       "      <td>\"exergy analysis\" OR \"sustainable biofuel\" OR ...</td>\n",
       "      <td>0.360</td>\n",
       "      <td>0.473</td>\n",
       "      <td>0.378</td>\n",
       "      <td>0.514</td>\n",
       "      <td>0.383</td>\n",
       "    </tr>\n",
       "    <tr>\n",
       "      <th>Baseline</th>\n",
       "      <td>Sustainable Biofuel Economy</td>\n",
       "      <td>0.020</td>\n",
       "      <td>0.619</td>\n",
       "      <td>0.025</td>\n",
       "      <td>0.499</td>\n",
       "      <td>0.025</td>\n",
       "    </tr>\n",
       "    <tr>\n",
       "      <th>Predicted</th>\n",
       "      <td>\"perovskite solar cells\" OR \"perovskite compos...</td>\n",
       "      <td>1.000</td>\n",
       "      <td>0.524</td>\n",
       "      <td>0.846</td>\n",
       "      <td>0.514</td>\n",
       "      <td>0.841</td>\n",
       "    </tr>\n",
       "    <tr>\n",
       "      <th>Baseline</th>\n",
       "      <td>Perovskite Solar Cells Stability</td>\n",
       "      <td>0.897</td>\n",
       "      <td>0.815</td>\n",
       "      <td>0.879</td>\n",
       "      <td>0.521</td>\n",
       "      <td>0.784</td>\n",
       "    </tr>\n",
       "    <tr>\n",
       "      <th>Predicted</th>\n",
       "      <td>\"nanocarriers\" OR \"nanoparticle characterizati...</td>\n",
       "      <td>0.040</td>\n",
       "      <td>0.888</td>\n",
       "      <td>0.049</td>\n",
       "      <td>0.517</td>\n",
       "      <td>0.049</td>\n",
       "    </tr>\n",
       "    <tr>\n",
       "      <th>Baseline</th>\n",
       "      <td>Nanopharmaceuticals OR Nanonutraceuticals</td>\n",
       "      <td>0.000</td>\n",
       "      <td>0.996</td>\n",
       "      <td>0.000</td>\n",
       "      <td>0.425</td>\n",
       "      <td>0.000</td>\n",
       "    </tr>\n",
       "    <tr>\n",
       "      <th>Predicted</th>\n",
       "      <td>\"climate action\" OR \"logistics efficiency\" OR ...</td>\n",
       "      <td>0.237</td>\n",
       "      <td>0.281</td>\n",
       "      <td>0.245</td>\n",
       "      <td>0.529</td>\n",
       "      <td>0.266</td>\n",
       "    </tr>\n",
       "    <tr>\n",
       "      <th>Baseline</th>\n",
       "      <td>Green Warehousing</td>\n",
       "      <td>0.158</td>\n",
       "      <td>0.797</td>\n",
       "      <td>0.188</td>\n",
       "      <td>0.604</td>\n",
       "      <td>0.185</td>\n",
       "    </tr>\n",
       "    <tr>\n",
       "      <th>Predicted</th>\n",
       "      <td>\"edge data processing\" OR \"distributed machine...</td>\n",
       "      <td>0.389</td>\n",
       "      <td>0.636</td>\n",
       "      <td>0.422</td>\n",
       "      <td>0.493</td>\n",
       "      <td>0.406</td>\n",
       "    </tr>\n",
       "    <tr>\n",
       "      <th>Baseline</th>\n",
       "      <td>AI on Edge Devices</td>\n",
       "      <td>0.111</td>\n",
       "      <td>0.868</td>\n",
       "      <td>0.135</td>\n",
       "      <td>0.516</td>\n",
       "      <td>0.132</td>\n",
       "    </tr>\n",
       "    <tr>\n",
       "      <th>Predicted</th>\n",
       "      <td>\"smart healthcare\" OR \"mhealth\" OR (internet o...</td>\n",
       "      <td>0.517</td>\n",
       "      <td>0.404</td>\n",
       "      <td>0.490</td>\n",
       "      <td>0.471</td>\n",
       "      <td>0.507</td>\n",
       "    </tr>\n",
       "    <tr>\n",
       "      <th>Baseline</th>\n",
       "      <td>Internet of Things in Healthcare</td>\n",
       "      <td>0.345</td>\n",
       "      <td>0.690</td>\n",
       "      <td>0.383</td>\n",
       "      <td>0.458</td>\n",
       "      <td>0.363</td>\n",
       "    </tr>\n",
       "    <tr>\n",
       "      <th>Predicted</th>\n",
       "      <td>\"bioenergy\" OR \"decarbonization\" OR (energy gr...</td>\n",
       "      <td>0.037</td>\n",
       "      <td>0.032</td>\n",
       "      <td>0.036</td>\n",
       "      <td>0.555</td>\n",
       "      <td>0.046</td>\n",
       "    </tr>\n",
       "    <tr>\n",
       "      <th>Baseline</th>\n",
       "      <td>Energy Growth Nexus</td>\n",
       "      <td>0.037</td>\n",
       "      <td>0.420</td>\n",
       "      <td>0.045</td>\n",
       "      <td>0.613</td>\n",
       "      <td>0.046</td>\n",
       "    </tr>\n",
       "    <tr>\n",
       "      <th>Predicted</th>\n",
       "      <td>(\"process adaptation\" OR \"processes adaptation...</td>\n",
       "      <td>0.372</td>\n",
       "      <td>0.693</td>\n",
       "      <td>0.410</td>\n",
       "      <td>0.386</td>\n",
       "      <td>0.375</td>\n",
       "    </tr>\n",
       "    <tr>\n",
       "      <th>Baseline</th>\n",
       "      <td>Software Process Line</td>\n",
       "      <td>0.605</td>\n",
       "      <td>0.369</td>\n",
       "      <td>0.536</td>\n",
       "      <td>0.429</td>\n",
       "      <td>0.559</td>\n",
       "    </tr>\n",
       "    <tr>\n",
       "      <th>Predicted</th>\n",
       "      <td>(stream processing OR \"continuous query\" OR \"s...</td>\n",
       "      <td>0.130</td>\n",
       "      <td>0.642</td>\n",
       "      <td>0.155</td>\n",
       "      <td>0.481</td>\n",
       "      <td>0.153</td>\n",
       "    </tr>\n",
       "    <tr>\n",
       "      <th>Baseline</th>\n",
       "      <td>Data Stream Processing Latency</td>\n",
       "      <td>0.188</td>\n",
       "      <td>0.635</td>\n",
       "      <td>0.219</td>\n",
       "      <td>0.460</td>\n",
       "      <td>0.214</td>\n",
       "    </tr>\n",
       "    <tr>\n",
       "      <th>Predicted</th>\n",
       "      <td>(\"metamodel\" OR \"meta-model\") AND (\"business p...</td>\n",
       "      <td>0.654</td>\n",
       "      <td>0.585</td>\n",
       "      <td>0.639</td>\n",
       "      <td>0.521</td>\n",
       "      <td>0.622</td>\n",
       "    </tr>\n",
       "    <tr>\n",
       "      <th>Baseline</th>\n",
       "      <td>Business Process Meta Models</td>\n",
       "      <td>0.308</td>\n",
       "      <td>0.494</td>\n",
       "      <td>0.333</td>\n",
       "      <td>0.525</td>\n",
       "      <td>0.335</td>\n",
       "    </tr>\n",
       "    <tr>\n",
       "      <th>Predicted</th>\n",
       "      <td>((\"Parallel Programming\") AND Modeling) OR (M...</td>\n",
       "      <td>0.000</td>\n",
       "      <td>0.889</td>\n",
       "      <td>0.000</td>\n",
       "      <td>0.444</td>\n",
       "      <td>0.000</td>\n",
       "    </tr>\n",
       "    <tr>\n",
       "      <th>Baseline</th>\n",
       "      <td>Multicore Performance Prediction</td>\n",
       "      <td>0.000</td>\n",
       "      <td>0.872</td>\n",
       "      <td>0.000</td>\n",
       "      <td>0.518</td>\n",
       "      <td>0.000</td>\n",
       "    </tr>\n",
       "    <tr>\n",
       "      <th>Predicted</th>\n",
       "      <td>((migration OR evolution OR adaptation OR tran...</td>\n",
       "      <td>0.000</td>\n",
       "      <td>0.010</td>\n",
       "      <td>0.000</td>\n",
       "      <td>0.531</td>\n",
       "      <td>0.000</td>\n",
       "    </tr>\n",
       "    <tr>\n",
       "      <th>Baseline</th>\n",
       "      <td>Cloud Migration</td>\n",
       "      <td>0.000</td>\n",
       "      <td>0.003</td>\n",
       "      <td>0.000</td>\n",
       "      <td>0.560</td>\n",
       "      <td>0.000</td>\n",
       "    </tr>\n",
       "    <tr>\n",
       "      <th>Predicted</th>\n",
       "      <td>software AND (metric OR measurement) AND (faul...</td>\n",
       "      <td>0.812</td>\n",
       "      <td>0.134</td>\n",
       "      <td>0.403</td>\n",
       "      <td>0.450</td>\n",
       "      <td>0.700</td>\n",
       "    </tr>\n",
       "    <tr>\n",
       "      <th>Baseline</th>\n",
       "      <td>Software Fault Prediction Metrics</td>\n",
       "      <td>0.250</td>\n",
       "      <td>0.806</td>\n",
       "      <td>0.290</td>\n",
       "      <td>0.434</td>\n",
       "      <td>0.273</td>\n",
       "    </tr>\n",
       "    <tr>\n",
       "      <th>Predicted</th>\n",
       "      <td>(software OR applicati* OR systems ) AND (faul...</td>\n",
       "      <td>0.200</td>\n",
       "      <td>0.443</td>\n",
       "      <td>0.225</td>\n",
       "      <td>0.625</td>\n",
       "      <td>0.231</td>\n",
       "    </tr>\n",
       "    <tr>\n",
       "      <th>Baseline</th>\n",
       "      <td>Software Defect Prediction</td>\n",
       "      <td>0.327</td>\n",
       "      <td>0.945</td>\n",
       "      <td>0.376</td>\n",
       "      <td>0.555</td>\n",
       "      <td>0.357</td>\n",
       "    </tr>\n",
       "  </tbody>\n",
       "</table>\n",
       "</div>"
      ],
      "text/plain": [
       "                                                       Query  Recall  \\\n",
       "Predicted  \"digital surgery\" OR \"surgical navigation\" OR ...   0.957   \n",
       "Baseline                                Robotic Arthroplasty   0.957   \n",
       "Predicted  \"compliant materials\" OR (soft robotics) OR \"s...   0.722   \n",
       "Baseline                                       Soft Robotics   0.556   \n",
       "Predicted  \"crop yield estimation\" OR \"crop simulation mo...   0.652   \n",
       "Baseline                               Crop Yield Prediction   0.543   \n",
       "Predicted  (synthetic biology) OR \"genome editing\" OR \"mi...   0.586   \n",
       "Baseline                                   Synthetic Biology   0.207   \n",
       "Predicted  \"resilience assessment\" OR \"resilience strateg...   0.222   \n",
       "Baseline               Resilience in Business and management   0.000   \n",
       "Predicted  \"spinal cord compression\" OR \"spinal stenosis\"...   0.872   \n",
       "Baseline                                 Cervical Myelopathy   0.787   \n",
       "Predicted  \"precision agriculture\" OR \"geospatial analysi...   0.520   \n",
       "Baseline                               Drones in Agriculture   0.040   \n",
       "Predicted  \"heritage tourism\" OR \"nature tourism\" OR \"tou...   0.080   \n",
       "Baseline                                Tourism Growth Nexus   0.080   \n",
       "Predicted  \"exergy analysis\" OR \"sustainable biofuel\" OR ...   0.360   \n",
       "Baseline                         Sustainable Biofuel Economy   0.020   \n",
       "Predicted  \"perovskite solar cells\" OR \"perovskite compos...   1.000   \n",
       "Baseline                    Perovskite Solar Cells Stability   0.897   \n",
       "Predicted  \"nanocarriers\" OR \"nanoparticle characterizati...   0.040   \n",
       "Baseline           Nanopharmaceuticals OR Nanonutraceuticals   0.000   \n",
       "Predicted  \"climate action\" OR \"logistics efficiency\" OR ...   0.237   \n",
       "Baseline                                   Green Warehousing   0.158   \n",
       "Predicted  \"edge data processing\" OR \"distributed machine...   0.389   \n",
       "Baseline                                  AI on Edge Devices   0.111   \n",
       "Predicted  \"smart healthcare\" OR \"mhealth\" OR (internet o...   0.517   \n",
       "Baseline                    Internet of Things in Healthcare   0.345   \n",
       "Predicted  \"bioenergy\" OR \"decarbonization\" OR (energy gr...   0.037   \n",
       "Baseline                                 Energy Growth Nexus   0.037   \n",
       "Predicted  (\"process adaptation\" OR \"processes adaptation...   0.372   \n",
       "Baseline                               Software Process Line   0.605   \n",
       "Predicted  (stream processing OR \"continuous query\" OR \"s...   0.130   \n",
       "Baseline                      Data Stream Processing Latency   0.188   \n",
       "Predicted  (\"metamodel\" OR \"meta-model\") AND (\"business p...   0.654   \n",
       "Baseline                        Business Process Meta Models   0.308   \n",
       "Predicted   ((\"Parallel Programming\") AND Modeling) OR (M...   0.000   \n",
       "Baseline                    Multicore Performance Prediction   0.000   \n",
       "Predicted  ((migration OR evolution OR adaptation OR tran...   0.000   \n",
       "Baseline                                     Cloud Migration   0.000   \n",
       "Predicted  software AND (metric OR measurement) AND (faul...   0.812   \n",
       "Baseline                   Software Fault Prediction Metrics   0.250   \n",
       "Predicted  (software OR applicati* OR systems ) AND (faul...   0.200   \n",
       "Baseline                          Software Defect Prediction   0.327   \n",
       "\n",
       "           Semantic Precision  Semantic F2  MVVE Precision  MVVE F2  \n",
       "Predicted               0.081        0.302           0.523    0.821  \n",
       "Baseline                0.720        0.898           0.483    0.800  \n",
       "Predicted               0.507        0.666           0.620    0.699  \n",
       "Baseline                0.755        0.587           0.563    0.557  \n",
       "Predicted               0.250        0.494           0.527    0.623  \n",
       "Baseline                0.622        0.558           0.551    0.545  \n",
       "Predicted               0.552        0.579           0.532    0.574  \n",
       "Baseline                0.619        0.239           0.563    0.237  \n",
       "Predicted               0.290        0.233           0.419    0.245  \n",
       "Baseline                0.484        0.000           0.450    0.000  \n",
       "Predicted               0.454        0.737           0.488    0.754  \n",
       "Baseline                0.748        0.779           0.525    0.716  \n",
       "Predicted               0.271        0.439           0.492    0.514  \n",
       "Baseline                0.568        0.049           0.500    0.049  \n",
       "Predicted               0.005        0.019           0.484    0.096  \n",
       "Baseline                0.362        0.095           0.465    0.096  \n",
       "Predicted               0.473        0.378           0.514    0.383  \n",
       "Baseline                0.619        0.025           0.499    0.025  \n",
       "Predicted               0.524        0.846           0.514    0.841  \n",
       "Baseline                0.815        0.879           0.521    0.784  \n",
       "Predicted               0.888        0.049           0.517    0.049  \n",
       "Baseline                0.996        0.000           0.425    0.000  \n",
       "Predicted               0.281        0.245           0.529    0.266  \n",
       "Baseline                0.797        0.188           0.604    0.185  \n",
       "Predicted               0.636        0.422           0.493    0.406  \n",
       "Baseline                0.868        0.135           0.516    0.132  \n",
       "Predicted               0.404        0.490           0.471    0.507  \n",
       "Baseline                0.690        0.383           0.458    0.363  \n",
       "Predicted               0.032        0.036           0.555    0.046  \n",
       "Baseline                0.420        0.045           0.613    0.046  \n",
       "Predicted               0.693        0.410           0.386    0.375  \n",
       "Baseline                0.369        0.536           0.429    0.559  \n",
       "Predicted               0.642        0.155           0.481    0.153  \n",
       "Baseline                0.635        0.219           0.460    0.214  \n",
       "Predicted               0.585        0.639           0.521    0.622  \n",
       "Baseline                0.494        0.333           0.525    0.335  \n",
       "Predicted               0.889        0.000           0.444    0.000  \n",
       "Baseline                0.872        0.000           0.518    0.000  \n",
       "Predicted               0.010        0.000           0.531    0.000  \n",
       "Baseline                0.003        0.000           0.560    0.000  \n",
       "Predicted               0.134        0.403           0.450    0.700  \n",
       "Baseline                0.806        0.290           0.434    0.273  \n",
       "Predicted               0.443        0.225           0.625    0.231  \n",
       "Baseline                0.945        0.376           0.555    0.357  "
      ]
     },
     "metadata": {},
     "output_type": "display_data"
    }
   ],
   "source": [
    "results = pd.DataFrame({\n",
    "    \"Query\": [predicted] + [baseline],\n",
    "    \"Recall\": [recall[\"predicted_recall\"], recall[\"baseline_recall\"]],\n",
    "    \"Semantic Precision\": [pred_precision, baseline_precision],\n",
    "    \"Semantic F2\": [pred_f2, baseline_f2],\n",
    "    \"MVVE Precision\": [mvve_prec_predicted, mvve_prec_baseline],\n",
    "    \"MVVE F2\": [fscore(mvve_prec_predicted, recall[\"predicted_recall\"], 2), fscore(mvve_prec_baseline, recall[\"baseline_recall\"], 2)]\n",
    "}, index=[\"Predicted\", \"Baseline\"])\n",
    "\n",
    "try:\n",
    "    old_results = pd.read_excel(\"results.xlsx\", index_col=0)\n",
    "    results = pd.concat([old_results, results]).drop_duplicates(subset=[\"Query\"]).round(3)\n",
    "    results.to_excel(\"results.xlsx\")\n",
    "except FileNotFoundError:\n",
    "    results.to_excel(\"results.xlsx\")\n",
    "\n",
    "display(results)"
   ]
  },
  {
   "cell_type": "code",
   "execution_count": 10,
   "metadata": {},
   "outputs": [
    {
     "name": "stderr",
     "output_type": "stream",
     "text": [
      "C:\\Users\\Mohammad Sakhnini\\AppData\\Local\\Temp\\ipykernel_32356\\2014097421.py:2: FutureWarning: ChainedAssignmentError: behaviour will change in pandas 3.0!\n",
      "You are setting values through chained assignment. Currently this works in certain cases, but when using Copy-on-Write (which will become the default behaviour in pandas 3.0) this will never work to update the original DataFrame or Series, because the intermediate object on which we are setting values will behave as a copy.\n",
      "A typical example is when you are setting values in a column of a DataFrame, like:\n",
      "\n",
      "df[\"col\"][row_indexer] = value\n",
      "\n",
      "Use `df.loc[row_indexer, \"col\"] = values` instead, to perform the assignment in a single step and ensure this keeps updating the original `df`.\n",
      "\n",
      "See the caveats in the documentation: https://pandas.pydata.org/pandas-docs/stable/user_guide/indexing.html#returning-a-view-versus-a-copy\n",
      "\n",
      "  results[\"Topic\"][0::2] = np.nan\n",
      "C:\\Users\\Mohammad Sakhnini\\AppData\\Local\\Temp\\ipykernel_32356\\2014097421.py:2: SettingWithCopyWarning: \n",
      "A value is trying to be set on a copy of a slice from a DataFrame\n",
      "\n",
      "See the caveats in the documentation: https://pandas.pydata.org/pandas-docs/stable/user_guide/indexing.html#returning-a-view-versus-a-copy\n",
      "  results[\"Topic\"][0::2] = np.nan\n"
     ]
    }
   ],
   "source": [
    "results[\"Topic\"] = results[\"Query\"].copy()\n",
    "results[\"Topic\"][0::2] = np.nan\n",
    "plt_df = results.bfill()\n",
    "plt_df.reset_index(inplace=True)"
   ]
  },
  {
   "cell_type": "code",
   "execution_count": 11,
   "metadata": {},
   "outputs": [
    {
     "data": {
      "application/vnd.plotly.v1+json": {
       "config": {
        "plotlyServerURL": "https://plot.ly"
       },
       "data": [
        {
         "alignmentgroup": "True",
         "bingroup": "x",
         "histfunc": "sum",
         "hovertemplate": "variable=Recall<br>index=Predicted<br>Topic=%{x}<br>sum of value=%{y}<extra></extra>",
         "legendgroup": "Recall",
         "marker": {
          "color": "rgb(76,114,176)",
          "pattern": {
           "shape": ""
          }
         },
         "name": "Recall",
         "offsetgroup": "Recall",
         "orientation": "v",
         "showlegend": true,
         "type": "histogram",
         "x": [
          "Software Defect Prediction",
          "Software Fault Prediction Metrics",
          "Cloud Migration",
          "Multicore Performance Prediction",
          "Business Process Meta Models",
          "Data Stream Processing Latency",
          "Software Process Line",
          "Energy Growth Nexus",
          "Internet of Things in Healthcare",
          "AI on Edge Devices",
          "Green Warehousing",
          "Nanopharmaceuticals OR Nanonutraceuticals",
          "Perovskite Solar Cells Stability",
          "Sustainable Biofuel Economy",
          "Tourism Growth Nexus",
          "Drones in Agriculture",
          "Cervical Myelopathy",
          "Resilience in Business and management",
          "Synthetic Biology",
          "Crop Yield Prediction",
          "Soft Robotics",
          "Robotic Arthroplasty"
         ],
         "xaxis": "x2",
         "y": [
          0.2,
          0.812,
          0,
          0,
          0.654,
          0.13,
          0.372,
          0.037,
          0.517,
          0.389,
          0.237,
          0.04,
          1,
          0.36,
          0.08,
          0.52,
          0.872,
          0.222,
          0.586,
          0.652,
          0.722,
          0.957
         ],
         "yaxis": "y2"
        },
        {
         "alignmentgroup": "True",
         "bingroup": "x",
         "histfunc": "sum",
         "hovertemplate": "variable=Recall<br>index=Baseline<br>Topic=%{x}<br>sum of value=%{y}<extra></extra>",
         "legendgroup": "Recall",
         "marker": {
          "color": "rgb(76,114,176)",
          "pattern": {
           "shape": ""
          }
         },
         "name": "Recall",
         "offsetgroup": "Recall",
         "orientation": "v",
         "showlegend": false,
         "type": "histogram",
         "x": [
          "Software Defect Prediction",
          "Software Fault Prediction Metrics",
          "Cloud Migration",
          "Multicore Performance Prediction",
          "Business Process Meta Models",
          "Data Stream Processing Latency",
          "Software Process Line",
          "Energy Growth Nexus",
          "Internet of Things in Healthcare",
          "AI on Edge Devices",
          "Green Warehousing",
          "Nanopharmaceuticals OR Nanonutraceuticals",
          "Perovskite Solar Cells Stability",
          "Sustainable Biofuel Economy",
          "Tourism Growth Nexus",
          "Drones in Agriculture",
          "Cervical Myelopathy",
          "Resilience in Business and management",
          "Synthetic Biology",
          "Crop Yield Prediction",
          "Soft Robotics",
          "Robotic Arthroplasty"
         ],
         "xaxis": "x",
         "y": [
          0.327,
          0.25,
          0,
          0,
          0.308,
          0.188,
          0.605,
          0.037,
          0.345,
          0.111,
          0.158,
          0,
          0.897,
          0.02,
          0.08,
          0.04,
          0.787,
          0,
          0.207,
          0.543,
          0.556,
          0.957
         ],
         "yaxis": "y"
        },
        {
         "alignmentgroup": "True",
         "bingroup": "x",
         "histfunc": "sum",
         "hovertemplate": "variable=Semantic Precision<br>index=Predicted<br>Topic=%{x}<br>sum of value=%{y}<extra></extra>",
         "legendgroup": "Semantic Precision",
         "marker": {
          "color": "rgb(221,132,82)",
          "pattern": {
           "shape": ""
          }
         },
         "name": "Semantic Precision",
         "offsetgroup": "Semantic Precision",
         "orientation": "v",
         "showlegend": true,
         "type": "histogram",
         "x": [
          "Software Defect Prediction",
          "Software Fault Prediction Metrics",
          "Cloud Migration",
          "Multicore Performance Prediction",
          "Business Process Meta Models",
          "Data Stream Processing Latency",
          "Software Process Line",
          "Energy Growth Nexus",
          "Internet of Things in Healthcare",
          "AI on Edge Devices",
          "Green Warehousing",
          "Nanopharmaceuticals OR Nanonutraceuticals",
          "Perovskite Solar Cells Stability",
          "Sustainable Biofuel Economy",
          "Tourism Growth Nexus",
          "Drones in Agriculture",
          "Cervical Myelopathy",
          "Resilience in Business and management",
          "Synthetic Biology",
          "Crop Yield Prediction",
          "Soft Robotics",
          "Robotic Arthroplasty"
         ],
         "xaxis": "x2",
         "y": [
          0.443,
          0.134,
          0.01,
          0.889,
          0.585,
          0.642,
          0.693,
          0.032,
          0.404,
          0.636,
          0.281,
          0.888,
          0.524,
          0.473,
          0.005,
          0.271,
          0.454,
          0.29,
          0.552,
          0.25,
          0.507,
          0.081
         ],
         "yaxis": "y2"
        },
        {
         "alignmentgroup": "True",
         "bingroup": "x",
         "histfunc": "sum",
         "hovertemplate": "variable=Semantic Precision<br>index=Baseline<br>Topic=%{x}<br>sum of value=%{y}<extra></extra>",
         "legendgroup": "Semantic Precision",
         "marker": {
          "color": "rgb(221,132,82)",
          "pattern": {
           "shape": ""
          }
         },
         "name": "Semantic Precision",
         "offsetgroup": "Semantic Precision",
         "orientation": "v",
         "showlegend": false,
         "type": "histogram",
         "x": [
          "Software Defect Prediction",
          "Software Fault Prediction Metrics",
          "Cloud Migration",
          "Multicore Performance Prediction",
          "Business Process Meta Models",
          "Data Stream Processing Latency",
          "Software Process Line",
          "Energy Growth Nexus",
          "Internet of Things in Healthcare",
          "AI on Edge Devices",
          "Green Warehousing",
          "Nanopharmaceuticals OR Nanonutraceuticals",
          "Perovskite Solar Cells Stability",
          "Sustainable Biofuel Economy",
          "Tourism Growth Nexus",
          "Drones in Agriculture",
          "Cervical Myelopathy",
          "Resilience in Business and management",
          "Synthetic Biology",
          "Crop Yield Prediction",
          "Soft Robotics",
          "Robotic Arthroplasty"
         ],
         "xaxis": "x",
         "y": [
          0.945,
          0.806,
          0.003,
          0.872,
          0.494,
          0.635,
          0.369,
          0.42,
          0.69,
          0.868,
          0.797,
          0.996,
          0.815,
          0.619,
          0.362,
          0.568,
          0.748,
          0.484,
          0.619,
          0.622,
          0.755,
          0.72
         ],
         "yaxis": "y"
        },
        {
         "alignmentgroup": "True",
         "bingroup": "x",
         "histfunc": "sum",
         "hovertemplate": "variable=MVVE Precision<br>index=Predicted<br>Topic=%{x}<br>sum of value=%{y}<extra></extra>",
         "legendgroup": "MVVE Precision",
         "marker": {
          "color": "rgb(85,168,104)",
          "pattern": {
           "shape": ""
          }
         },
         "name": "MVVE Precision",
         "offsetgroup": "MVVE Precision",
         "orientation": "v",
         "showlegend": true,
         "type": "histogram",
         "x": [
          "Software Defect Prediction",
          "Software Fault Prediction Metrics",
          "Cloud Migration",
          "Multicore Performance Prediction",
          "Business Process Meta Models",
          "Data Stream Processing Latency",
          "Software Process Line",
          "Energy Growth Nexus",
          "Internet of Things in Healthcare",
          "AI on Edge Devices",
          "Green Warehousing",
          "Nanopharmaceuticals OR Nanonutraceuticals",
          "Perovskite Solar Cells Stability",
          "Sustainable Biofuel Economy",
          "Tourism Growth Nexus",
          "Drones in Agriculture",
          "Cervical Myelopathy",
          "Resilience in Business and management",
          "Synthetic Biology",
          "Crop Yield Prediction",
          "Soft Robotics",
          "Robotic Arthroplasty"
         ],
         "xaxis": "x2",
         "y": [
          0.625,
          0.45,
          0.531,
          0.444,
          0.521,
          0.481,
          0.386,
          0.555,
          0.471,
          0.493,
          0.529,
          0.517,
          0.514,
          0.514,
          0.484,
          0.492,
          0.488,
          0.419,
          0.532,
          0.527,
          0.62,
          0.523
         ],
         "yaxis": "y2"
        },
        {
         "alignmentgroup": "True",
         "bingroup": "x",
         "histfunc": "sum",
         "hovertemplate": "variable=MVVE Precision<br>index=Baseline<br>Topic=%{x}<br>sum of value=%{y}<extra></extra>",
         "legendgroup": "MVVE Precision",
         "marker": {
          "color": "rgb(85,168,104)",
          "pattern": {
           "shape": ""
          }
         },
         "name": "MVVE Precision",
         "offsetgroup": "MVVE Precision",
         "orientation": "v",
         "showlegend": false,
         "type": "histogram",
         "x": [
          "Software Defect Prediction",
          "Software Fault Prediction Metrics",
          "Cloud Migration",
          "Multicore Performance Prediction",
          "Business Process Meta Models",
          "Data Stream Processing Latency",
          "Software Process Line",
          "Energy Growth Nexus",
          "Internet of Things in Healthcare",
          "AI on Edge Devices",
          "Green Warehousing",
          "Nanopharmaceuticals OR Nanonutraceuticals",
          "Perovskite Solar Cells Stability",
          "Sustainable Biofuel Economy",
          "Tourism Growth Nexus",
          "Drones in Agriculture",
          "Cervical Myelopathy",
          "Resilience in Business and management",
          "Synthetic Biology",
          "Crop Yield Prediction",
          "Soft Robotics",
          "Robotic Arthroplasty"
         ],
         "xaxis": "x",
         "y": [
          0.555,
          0.434,
          0.56,
          0.518,
          0.525,
          0.46,
          0.429,
          0.613,
          0.458,
          0.516,
          0.604,
          0.425,
          0.521,
          0.499,
          0.465,
          0.5,
          0.525,
          0.45,
          0.563,
          0.551,
          0.563,
          0.483
         ],
         "yaxis": "y"
        },
        {
         "alignmentgroup": "True",
         "bingroup": "x",
         "histfunc": "sum",
         "hovertemplate": "variable=Semantic F2<br>index=Predicted<br>Topic=%{x}<br>sum of value=%{y}<extra></extra>",
         "legendgroup": "Semantic F2",
         "marker": {
          "color": "rgb(196,78,82)",
          "pattern": {
           "shape": ""
          }
         },
         "name": "Semantic F2",
         "offsetgroup": "Semantic F2",
         "orientation": "v",
         "showlegend": true,
         "type": "histogram",
         "x": [
          "Software Defect Prediction",
          "Software Fault Prediction Metrics",
          "Cloud Migration",
          "Multicore Performance Prediction",
          "Business Process Meta Models",
          "Data Stream Processing Latency",
          "Software Process Line",
          "Energy Growth Nexus",
          "Internet of Things in Healthcare",
          "AI on Edge Devices",
          "Green Warehousing",
          "Nanopharmaceuticals OR Nanonutraceuticals",
          "Perovskite Solar Cells Stability",
          "Sustainable Biofuel Economy",
          "Tourism Growth Nexus",
          "Drones in Agriculture",
          "Cervical Myelopathy",
          "Resilience in Business and management",
          "Synthetic Biology",
          "Crop Yield Prediction",
          "Soft Robotics",
          "Robotic Arthroplasty"
         ],
         "xaxis": "x2",
         "y": [
          0.225,
          0.403,
          0,
          0,
          0.639,
          0.155,
          0.41,
          0.036,
          0.49,
          0.422,
          0.245,
          0.049,
          0.846,
          0.378,
          0.019,
          0.439,
          0.737,
          0.233,
          0.579,
          0.494,
          0.666,
          0.302
         ],
         "yaxis": "y2"
        },
        {
         "alignmentgroup": "True",
         "bingroup": "x",
         "histfunc": "sum",
         "hovertemplate": "variable=Semantic F2<br>index=Baseline<br>Topic=%{x}<br>sum of value=%{y}<extra></extra>",
         "legendgroup": "Semantic F2",
         "marker": {
          "color": "rgb(196,78,82)",
          "pattern": {
           "shape": ""
          }
         },
         "name": "Semantic F2",
         "offsetgroup": "Semantic F2",
         "orientation": "v",
         "showlegend": false,
         "type": "histogram",
         "x": [
          "Software Defect Prediction",
          "Software Fault Prediction Metrics",
          "Cloud Migration",
          "Multicore Performance Prediction",
          "Business Process Meta Models",
          "Data Stream Processing Latency",
          "Software Process Line",
          "Energy Growth Nexus",
          "Internet of Things in Healthcare",
          "AI on Edge Devices",
          "Green Warehousing",
          "Nanopharmaceuticals OR Nanonutraceuticals",
          "Perovskite Solar Cells Stability",
          "Sustainable Biofuel Economy",
          "Tourism Growth Nexus",
          "Drones in Agriculture",
          "Cervical Myelopathy",
          "Resilience in Business and management",
          "Synthetic Biology",
          "Crop Yield Prediction",
          "Soft Robotics",
          "Robotic Arthroplasty"
         ],
         "xaxis": "x",
         "y": [
          0.376,
          0.29,
          0,
          0,
          0.333,
          0.219,
          0.536,
          0.045,
          0.383,
          0.135,
          0.188,
          0,
          0.879,
          0.025,
          0.095,
          0.049,
          0.779,
          0,
          0.239,
          0.558,
          0.587,
          0.898
         ],
         "yaxis": "y"
        },
        {
         "alignmentgroup": "True",
         "bingroup": "x",
         "histfunc": "sum",
         "hovertemplate": "variable=MVVE F2<br>index=Predicted<br>Topic=%{x}<br>sum of value=%{y}<extra></extra>",
         "legendgroup": "MVVE F2",
         "marker": {
          "color": "rgb(129,114,179)",
          "pattern": {
           "shape": ""
          }
         },
         "name": "MVVE F2",
         "offsetgroup": "MVVE F2",
         "orientation": "v",
         "showlegend": true,
         "type": "histogram",
         "x": [
          "Software Defect Prediction",
          "Software Fault Prediction Metrics",
          "Cloud Migration",
          "Multicore Performance Prediction",
          "Business Process Meta Models",
          "Data Stream Processing Latency",
          "Software Process Line",
          "Energy Growth Nexus",
          "Internet of Things in Healthcare",
          "AI on Edge Devices",
          "Green Warehousing",
          "Nanopharmaceuticals OR Nanonutraceuticals",
          "Perovskite Solar Cells Stability",
          "Sustainable Biofuel Economy",
          "Tourism Growth Nexus",
          "Drones in Agriculture",
          "Cervical Myelopathy",
          "Resilience in Business and management",
          "Synthetic Biology",
          "Crop Yield Prediction",
          "Soft Robotics",
          "Robotic Arthroplasty"
         ],
         "xaxis": "x2",
         "y": [
          0.231,
          0.7,
          0,
          0,
          0.622,
          0.153,
          0.375,
          0.046,
          0.507,
          0.406,
          0.266,
          0.049,
          0.841,
          0.383,
          0.096,
          0.514,
          0.754,
          0.245,
          0.574,
          0.623,
          0.699,
          0.821
         ],
         "yaxis": "y2"
        },
        {
         "alignmentgroup": "True",
         "bingroup": "x",
         "histfunc": "sum",
         "hovertemplate": "variable=MVVE F2<br>index=Baseline<br>Topic=%{x}<br>sum of value=%{y}<extra></extra>",
         "legendgroup": "MVVE F2",
         "marker": {
          "color": "rgb(129,114,179)",
          "pattern": {
           "shape": ""
          }
         },
         "name": "MVVE F2",
         "offsetgroup": "MVVE F2",
         "orientation": "v",
         "showlegend": false,
         "type": "histogram",
         "x": [
          "Software Defect Prediction",
          "Software Fault Prediction Metrics",
          "Cloud Migration",
          "Multicore Performance Prediction",
          "Business Process Meta Models",
          "Data Stream Processing Latency",
          "Software Process Line",
          "Energy Growth Nexus",
          "Internet of Things in Healthcare",
          "AI on Edge Devices",
          "Green Warehousing",
          "Nanopharmaceuticals OR Nanonutraceuticals",
          "Perovskite Solar Cells Stability",
          "Sustainable Biofuel Economy",
          "Tourism Growth Nexus",
          "Drones in Agriculture",
          "Cervical Myelopathy",
          "Resilience in Business and management",
          "Synthetic Biology",
          "Crop Yield Prediction",
          "Soft Robotics",
          "Robotic Arthroplasty"
         ],
         "xaxis": "x",
         "y": [
          0.357,
          0.273,
          0,
          0,
          0.335,
          0.214,
          0.559,
          0.046,
          0.363,
          0.132,
          0.185,
          0,
          0.784,
          0.025,
          0.096,
          0.049,
          0.716,
          0,
          0.237,
          0.545,
          0.557,
          0.8
         ],
         "yaxis": "y"
        }
       ],
       "layout": {
        "annotations": [
         {
          "font": {},
          "showarrow": false,
          "text": "Baseline",
          "textangle": 90,
          "x": 0.98,
          "xanchor": "left",
          "xref": "paper",
          "y": 0.225,
          "yanchor": "middle",
          "yref": "paper"
         },
         {
          "font": {},
          "showarrow": false,
          "text": "Predicted",
          "textangle": 90,
          "x": 0.98,
          "xanchor": "left",
          "xref": "paper",
          "y": 0.775,
          "yanchor": "middle",
          "yref": "paper"
         }
        ],
        "barmode": "group",
        "legend": {
         "title": {
          "text": "variable"
         },
         "tracegroupgap": 0
        },
        "template": {
         "data": {
          "bar": [
           {
            "error_x": {
             "color": "rgb(36,36,36)"
            },
            "error_y": {
             "color": "rgb(36,36,36)"
            },
            "marker": {
             "line": {
              "color": "rgb(234,234,242)",
              "width": 0.5
             },
             "pattern": {
              "fillmode": "overlay",
              "size": 10,
              "solidity": 0.2
             }
            },
            "type": "bar"
           }
          ],
          "barpolar": [
           {
            "marker": {
             "line": {
              "color": "rgb(234,234,242)",
              "width": 0.5
             },
             "pattern": {
              "fillmode": "overlay",
              "size": 10,
              "solidity": 0.2
             }
            },
            "type": "barpolar"
           }
          ],
          "carpet": [
           {
            "aaxis": {
             "endlinecolor": "rgb(36,36,36)",
             "gridcolor": "white",
             "linecolor": "white",
             "minorgridcolor": "white",
             "startlinecolor": "rgb(36,36,36)"
            },
            "baxis": {
             "endlinecolor": "rgb(36,36,36)",
             "gridcolor": "white",
             "linecolor": "white",
             "minorgridcolor": "white",
             "startlinecolor": "rgb(36,36,36)"
            },
            "type": "carpet"
           }
          ],
          "choropleth": [
           {
            "colorbar": {
             "outlinewidth": 0,
             "tickcolor": "rgb(36,36,36)",
             "ticklen": 8,
             "ticks": "outside",
             "tickwidth": 2
            },
            "type": "choropleth"
           }
          ],
          "contour": [
           {
            "colorbar": {
             "outlinewidth": 0,
             "tickcolor": "rgb(36,36,36)",
             "ticklen": 8,
             "ticks": "outside",
             "tickwidth": 2
            },
            "colorscale": [
             [
              0,
              "rgb(2,4,25)"
             ],
             [
              0.06274509803921569,
              "rgb(24,15,41)"
             ],
             [
              0.12549019607843137,
              "rgb(47,23,57)"
             ],
             [
              0.18823529411764706,
              "rgb(71,28,72)"
             ],
             [
              0.25098039215686274,
              "rgb(97,30,82)"
             ],
             [
              0.3137254901960784,
              "rgb(123,30,89)"
             ],
             [
              0.3764705882352941,
              "rgb(150,27,91)"
             ],
             [
              0.4392156862745098,
              "rgb(177,22,88)"
             ],
             [
              0.5019607843137255,
              "rgb(203,26,79)"
             ],
             [
              0.5647058823529412,
              "rgb(223,47,67)"
             ],
             [
              0.6274509803921569,
              "rgb(236,76,61)"
             ],
             [
              0.6901960784313725,
              "rgb(242,107,73)"
             ],
             [
              0.7529411764705882,
              "rgb(244,135,95)"
             ],
             [
              0.8156862745098039,
              "rgb(245,162,122)"
             ],
             [
              0.8784313725490196,
              "rgb(246,188,153)"
             ],
             [
              0.9411764705882353,
              "rgb(247,212,187)"
             ],
             [
              1,
              "rgb(250,234,220)"
             ]
            ],
            "type": "contour"
           }
          ],
          "contourcarpet": [
           {
            "colorbar": {
             "outlinewidth": 0,
             "tickcolor": "rgb(36,36,36)",
             "ticklen": 8,
             "ticks": "outside",
             "tickwidth": 2
            },
            "type": "contourcarpet"
           }
          ],
          "heatmap": [
           {
            "colorbar": {
             "outlinewidth": 0,
             "tickcolor": "rgb(36,36,36)",
             "ticklen": 8,
             "ticks": "outside",
             "tickwidth": 2
            },
            "colorscale": [
             [
              0,
              "rgb(2,4,25)"
             ],
             [
              0.06274509803921569,
              "rgb(24,15,41)"
             ],
             [
              0.12549019607843137,
              "rgb(47,23,57)"
             ],
             [
              0.18823529411764706,
              "rgb(71,28,72)"
             ],
             [
              0.25098039215686274,
              "rgb(97,30,82)"
             ],
             [
              0.3137254901960784,
              "rgb(123,30,89)"
             ],
             [
              0.3764705882352941,
              "rgb(150,27,91)"
             ],
             [
              0.4392156862745098,
              "rgb(177,22,88)"
             ],
             [
              0.5019607843137255,
              "rgb(203,26,79)"
             ],
             [
              0.5647058823529412,
              "rgb(223,47,67)"
             ],
             [
              0.6274509803921569,
              "rgb(236,76,61)"
             ],
             [
              0.6901960784313725,
              "rgb(242,107,73)"
             ],
             [
              0.7529411764705882,
              "rgb(244,135,95)"
             ],
             [
              0.8156862745098039,
              "rgb(245,162,122)"
             ],
             [
              0.8784313725490196,
              "rgb(246,188,153)"
             ],
             [
              0.9411764705882353,
              "rgb(247,212,187)"
             ],
             [
              1,
              "rgb(250,234,220)"
             ]
            ],
            "type": "heatmap"
           }
          ],
          "heatmapgl": [
           {
            "colorbar": {
             "outlinewidth": 0,
             "tickcolor": "rgb(36,36,36)",
             "ticklen": 8,
             "ticks": "outside",
             "tickwidth": 2
            },
            "colorscale": [
             [
              0,
              "rgb(2,4,25)"
             ],
             [
              0.06274509803921569,
              "rgb(24,15,41)"
             ],
             [
              0.12549019607843137,
              "rgb(47,23,57)"
             ],
             [
              0.18823529411764706,
              "rgb(71,28,72)"
             ],
             [
              0.25098039215686274,
              "rgb(97,30,82)"
             ],
             [
              0.3137254901960784,
              "rgb(123,30,89)"
             ],
             [
              0.3764705882352941,
              "rgb(150,27,91)"
             ],
             [
              0.4392156862745098,
              "rgb(177,22,88)"
             ],
             [
              0.5019607843137255,
              "rgb(203,26,79)"
             ],
             [
              0.5647058823529412,
              "rgb(223,47,67)"
             ],
             [
              0.6274509803921569,
              "rgb(236,76,61)"
             ],
             [
              0.6901960784313725,
              "rgb(242,107,73)"
             ],
             [
              0.7529411764705882,
              "rgb(244,135,95)"
             ],
             [
              0.8156862745098039,
              "rgb(245,162,122)"
             ],
             [
              0.8784313725490196,
              "rgb(246,188,153)"
             ],
             [
              0.9411764705882353,
              "rgb(247,212,187)"
             ],
             [
              1,
              "rgb(250,234,220)"
             ]
            ],
            "type": "heatmapgl"
           }
          ],
          "histogram": [
           {
            "marker": {
             "pattern": {
              "fillmode": "overlay",
              "size": 10,
              "solidity": 0.2
             }
            },
            "type": "histogram"
           }
          ],
          "histogram2d": [
           {
            "colorbar": {
             "outlinewidth": 0,
             "tickcolor": "rgb(36,36,36)",
             "ticklen": 8,
             "ticks": "outside",
             "tickwidth": 2
            },
            "colorscale": [
             [
              0,
              "rgb(2,4,25)"
             ],
             [
              0.06274509803921569,
              "rgb(24,15,41)"
             ],
             [
              0.12549019607843137,
              "rgb(47,23,57)"
             ],
             [
              0.18823529411764706,
              "rgb(71,28,72)"
             ],
             [
              0.25098039215686274,
              "rgb(97,30,82)"
             ],
             [
              0.3137254901960784,
              "rgb(123,30,89)"
             ],
             [
              0.3764705882352941,
              "rgb(150,27,91)"
             ],
             [
              0.4392156862745098,
              "rgb(177,22,88)"
             ],
             [
              0.5019607843137255,
              "rgb(203,26,79)"
             ],
             [
              0.5647058823529412,
              "rgb(223,47,67)"
             ],
             [
              0.6274509803921569,
              "rgb(236,76,61)"
             ],
             [
              0.6901960784313725,
              "rgb(242,107,73)"
             ],
             [
              0.7529411764705882,
              "rgb(244,135,95)"
             ],
             [
              0.8156862745098039,
              "rgb(245,162,122)"
             ],
             [
              0.8784313725490196,
              "rgb(246,188,153)"
             ],
             [
              0.9411764705882353,
              "rgb(247,212,187)"
             ],
             [
              1,
              "rgb(250,234,220)"
             ]
            ],
            "type": "histogram2d"
           }
          ],
          "histogram2dcontour": [
           {
            "colorbar": {
             "outlinewidth": 0,
             "tickcolor": "rgb(36,36,36)",
             "ticklen": 8,
             "ticks": "outside",
             "tickwidth": 2
            },
            "colorscale": [
             [
              0,
              "rgb(2,4,25)"
             ],
             [
              0.06274509803921569,
              "rgb(24,15,41)"
             ],
             [
              0.12549019607843137,
              "rgb(47,23,57)"
             ],
             [
              0.18823529411764706,
              "rgb(71,28,72)"
             ],
             [
              0.25098039215686274,
              "rgb(97,30,82)"
             ],
             [
              0.3137254901960784,
              "rgb(123,30,89)"
             ],
             [
              0.3764705882352941,
              "rgb(150,27,91)"
             ],
             [
              0.4392156862745098,
              "rgb(177,22,88)"
             ],
             [
              0.5019607843137255,
              "rgb(203,26,79)"
             ],
             [
              0.5647058823529412,
              "rgb(223,47,67)"
             ],
             [
              0.6274509803921569,
              "rgb(236,76,61)"
             ],
             [
              0.6901960784313725,
              "rgb(242,107,73)"
             ],
             [
              0.7529411764705882,
              "rgb(244,135,95)"
             ],
             [
              0.8156862745098039,
              "rgb(245,162,122)"
             ],
             [
              0.8784313725490196,
              "rgb(246,188,153)"
             ],
             [
              0.9411764705882353,
              "rgb(247,212,187)"
             ],
             [
              1,
              "rgb(250,234,220)"
             ]
            ],
            "type": "histogram2dcontour"
           }
          ],
          "mesh3d": [
           {
            "colorbar": {
             "outlinewidth": 0,
             "tickcolor": "rgb(36,36,36)",
             "ticklen": 8,
             "ticks": "outside",
             "tickwidth": 2
            },
            "type": "mesh3d"
           }
          ],
          "parcoords": [
           {
            "line": {
             "colorbar": {
              "outlinewidth": 0,
              "tickcolor": "rgb(36,36,36)",
              "ticklen": 8,
              "ticks": "outside",
              "tickwidth": 2
             }
            },
            "type": "parcoords"
           }
          ],
          "pie": [
           {
            "automargin": true,
            "type": "pie"
           }
          ],
          "scatter": [
           {
            "fillpattern": {
             "fillmode": "overlay",
             "size": 10,
             "solidity": 0.2
            },
            "type": "scatter"
           }
          ],
          "scatter3d": [
           {
            "line": {
             "colorbar": {
              "outlinewidth": 0,
              "tickcolor": "rgb(36,36,36)",
              "ticklen": 8,
              "ticks": "outside",
              "tickwidth": 2
             }
            },
            "marker": {
             "colorbar": {
              "outlinewidth": 0,
              "tickcolor": "rgb(36,36,36)",
              "ticklen": 8,
              "ticks": "outside",
              "tickwidth": 2
             }
            },
            "type": "scatter3d"
           }
          ],
          "scattercarpet": [
           {
            "marker": {
             "colorbar": {
              "outlinewidth": 0,
              "tickcolor": "rgb(36,36,36)",
              "ticklen": 8,
              "ticks": "outside",
              "tickwidth": 2
             }
            },
            "type": "scattercarpet"
           }
          ],
          "scattergeo": [
           {
            "marker": {
             "colorbar": {
              "outlinewidth": 0,
              "tickcolor": "rgb(36,36,36)",
              "ticklen": 8,
              "ticks": "outside",
              "tickwidth": 2
             }
            },
            "type": "scattergeo"
           }
          ],
          "scattergl": [
           {
            "marker": {
             "colorbar": {
              "outlinewidth": 0,
              "tickcolor": "rgb(36,36,36)",
              "ticklen": 8,
              "ticks": "outside",
              "tickwidth": 2
             }
            },
            "type": "scattergl"
           }
          ],
          "scattermapbox": [
           {
            "marker": {
             "colorbar": {
              "outlinewidth": 0,
              "tickcolor": "rgb(36,36,36)",
              "ticklen": 8,
              "ticks": "outside",
              "tickwidth": 2
             }
            },
            "type": "scattermapbox"
           }
          ],
          "scatterpolar": [
           {
            "marker": {
             "colorbar": {
              "outlinewidth": 0,
              "tickcolor": "rgb(36,36,36)",
              "ticklen": 8,
              "ticks": "outside",
              "tickwidth": 2
             }
            },
            "type": "scatterpolar"
           }
          ],
          "scatterpolargl": [
           {
            "marker": {
             "colorbar": {
              "outlinewidth": 0,
              "tickcolor": "rgb(36,36,36)",
              "ticklen": 8,
              "ticks": "outside",
              "tickwidth": 2
             }
            },
            "type": "scatterpolargl"
           }
          ],
          "scatterternary": [
           {
            "marker": {
             "colorbar": {
              "outlinewidth": 0,
              "tickcolor": "rgb(36,36,36)",
              "ticklen": 8,
              "ticks": "outside",
              "tickwidth": 2
             }
            },
            "type": "scatterternary"
           }
          ],
          "surface": [
           {
            "colorbar": {
             "outlinewidth": 0,
             "tickcolor": "rgb(36,36,36)",
             "ticklen": 8,
             "ticks": "outside",
             "tickwidth": 2
            },
            "colorscale": [
             [
              0,
              "rgb(2,4,25)"
             ],
             [
              0.06274509803921569,
              "rgb(24,15,41)"
             ],
             [
              0.12549019607843137,
              "rgb(47,23,57)"
             ],
             [
              0.18823529411764706,
              "rgb(71,28,72)"
             ],
             [
              0.25098039215686274,
              "rgb(97,30,82)"
             ],
             [
              0.3137254901960784,
              "rgb(123,30,89)"
             ],
             [
              0.3764705882352941,
              "rgb(150,27,91)"
             ],
             [
              0.4392156862745098,
              "rgb(177,22,88)"
             ],
             [
              0.5019607843137255,
              "rgb(203,26,79)"
             ],
             [
              0.5647058823529412,
              "rgb(223,47,67)"
             ],
             [
              0.6274509803921569,
              "rgb(236,76,61)"
             ],
             [
              0.6901960784313725,
              "rgb(242,107,73)"
             ],
             [
              0.7529411764705882,
              "rgb(244,135,95)"
             ],
             [
              0.8156862745098039,
              "rgb(245,162,122)"
             ],
             [
              0.8784313725490196,
              "rgb(246,188,153)"
             ],
             [
              0.9411764705882353,
              "rgb(247,212,187)"
             ],
             [
              1,
              "rgb(250,234,220)"
             ]
            ],
            "type": "surface"
           }
          ],
          "table": [
           {
            "cells": {
             "fill": {
              "color": "rgb(231,231,240)"
             },
             "line": {
              "color": "white"
             }
            },
            "header": {
             "fill": {
              "color": "rgb(183,183,191)"
             },
             "line": {
              "color": "white"
             }
            },
            "type": "table"
           }
          ]
         },
         "layout": {
          "annotationdefaults": {
           "arrowcolor": "rgb(67,103,167)"
          },
          "autotypenumbers": "strict",
          "coloraxis": {
           "colorbar": {
            "outlinewidth": 0,
            "tickcolor": "rgb(36,36,36)",
            "ticklen": 8,
            "ticks": "outside",
            "tickwidth": 2
           }
          },
          "colorscale": {
           "sequential": [
            [
             0,
             "rgb(2,4,25)"
            ],
            [
             0.06274509803921569,
             "rgb(24,15,41)"
            ],
            [
             0.12549019607843137,
             "rgb(47,23,57)"
            ],
            [
             0.18823529411764706,
             "rgb(71,28,72)"
            ],
            [
             0.25098039215686274,
             "rgb(97,30,82)"
            ],
            [
             0.3137254901960784,
             "rgb(123,30,89)"
            ],
            [
             0.3764705882352941,
             "rgb(150,27,91)"
            ],
            [
             0.4392156862745098,
             "rgb(177,22,88)"
            ],
            [
             0.5019607843137255,
             "rgb(203,26,79)"
            ],
            [
             0.5647058823529412,
             "rgb(223,47,67)"
            ],
            [
             0.6274509803921569,
             "rgb(236,76,61)"
            ],
            [
             0.6901960784313725,
             "rgb(242,107,73)"
            ],
            [
             0.7529411764705882,
             "rgb(244,135,95)"
            ],
            [
             0.8156862745098039,
             "rgb(245,162,122)"
            ],
            [
             0.8784313725490196,
             "rgb(246,188,153)"
            ],
            [
             0.9411764705882353,
             "rgb(247,212,187)"
            ],
            [
             1,
             "rgb(250,234,220)"
            ]
           ],
           "sequentialminus": [
            [
             0,
             "rgb(2,4,25)"
            ],
            [
             0.06274509803921569,
             "rgb(24,15,41)"
            ],
            [
             0.12549019607843137,
             "rgb(47,23,57)"
            ],
            [
             0.18823529411764706,
             "rgb(71,28,72)"
            ],
            [
             0.25098039215686274,
             "rgb(97,30,82)"
            ],
            [
             0.3137254901960784,
             "rgb(123,30,89)"
            ],
            [
             0.3764705882352941,
             "rgb(150,27,91)"
            ],
            [
             0.4392156862745098,
             "rgb(177,22,88)"
            ],
            [
             0.5019607843137255,
             "rgb(203,26,79)"
            ],
            [
             0.5647058823529412,
             "rgb(223,47,67)"
            ],
            [
             0.6274509803921569,
             "rgb(236,76,61)"
            ],
            [
             0.6901960784313725,
             "rgb(242,107,73)"
            ],
            [
             0.7529411764705882,
             "rgb(244,135,95)"
            ],
            [
             0.8156862745098039,
             "rgb(245,162,122)"
            ],
            [
             0.8784313725490196,
             "rgb(246,188,153)"
            ],
            [
             0.9411764705882353,
             "rgb(247,212,187)"
            ],
            [
             1,
             "rgb(250,234,220)"
            ]
           ]
          },
          "colorway": [
           "rgb(76,114,176)",
           "rgb(221,132,82)",
           "rgb(85,168,104)",
           "rgb(196,78,82)",
           "rgb(129,114,179)",
           "rgb(147,120,96)",
           "rgb(218,139,195)",
           "rgb(140,140,140)",
           "rgb(204,185,116)",
           "rgb(100,181,205)"
          ],
          "font": {
           "color": "rgb(36,36,36)"
          },
          "geo": {
           "bgcolor": "white",
           "lakecolor": "white",
           "landcolor": "rgb(234,234,242)",
           "showlakes": true,
           "showland": true,
           "subunitcolor": "white"
          },
          "hoverlabel": {
           "align": "left"
          },
          "hovermode": "closest",
          "paper_bgcolor": "white",
          "plot_bgcolor": "rgb(234,234,242)",
          "polar": {
           "angularaxis": {
            "gridcolor": "white",
            "linecolor": "white",
            "showgrid": true,
            "ticks": ""
           },
           "bgcolor": "rgb(234,234,242)",
           "radialaxis": {
            "gridcolor": "white",
            "linecolor": "white",
            "showgrid": true,
            "ticks": ""
           }
          },
          "scene": {
           "xaxis": {
            "backgroundcolor": "rgb(234,234,242)",
            "gridcolor": "white",
            "gridwidth": 2,
            "linecolor": "white",
            "showbackground": true,
            "showgrid": true,
            "ticks": "",
            "zerolinecolor": "white"
           },
           "yaxis": {
            "backgroundcolor": "rgb(234,234,242)",
            "gridcolor": "white",
            "gridwidth": 2,
            "linecolor": "white",
            "showbackground": true,
            "showgrid": true,
            "ticks": "",
            "zerolinecolor": "white"
           },
           "zaxis": {
            "backgroundcolor": "rgb(234,234,242)",
            "gridcolor": "white",
            "gridwidth": 2,
            "linecolor": "white",
            "showbackground": true,
            "showgrid": true,
            "ticks": "",
            "zerolinecolor": "white"
           }
          },
          "shapedefaults": {
           "fillcolor": "rgb(67,103,167)",
           "line": {
            "width": 0
           },
           "opacity": 0.5
          },
          "ternary": {
           "aaxis": {
            "gridcolor": "white",
            "linecolor": "white",
            "showgrid": true,
            "ticks": ""
           },
           "baxis": {
            "gridcolor": "white",
            "linecolor": "white",
            "showgrid": true,
            "ticks": ""
           },
           "bgcolor": "rgb(234,234,242)",
           "caxis": {
            "gridcolor": "white",
            "linecolor": "white",
            "showgrid": true,
            "ticks": ""
           }
          },
          "xaxis": {
           "automargin": true,
           "gridcolor": "white",
           "linecolor": "white",
           "showgrid": true,
           "ticks": "",
           "title": {
            "standoff": 15
           },
           "zerolinecolor": "white"
          },
          "yaxis": {
           "automargin": true,
           "gridcolor": "white",
           "linecolor": "white",
           "showgrid": true,
           "ticks": "",
           "title": {
            "standoff": 15
           },
           "zerolinecolor": "white"
          }
         }
        },
        "title": {
         "text": "Metrics for Predicted and Baseline Queries"
        },
        "xaxis": {
         "anchor": "y",
         "domain": [
          0,
          0.98
         ],
         "title": {
          "text": "Topic"
         }
        },
        "xaxis2": {
         "anchor": "y2",
         "domain": [
          0,
          0.98
         ],
         "matches": "x",
         "showticklabels": false
        },
        "yaxis": {
         "anchor": "x",
         "domain": [
          0,
          0.45
         ],
         "dtick": 0.2,
         "title": {
          "text": ""
         }
        },
        "yaxis2": {
         "anchor": "x2",
         "domain": [
          0.55,
          1
         ],
         "dtick": 0.2,
         "matches": "y",
         "title": {
          "text": ""
         }
        }
       }
      }
     },
     "metadata": {},
     "output_type": "display_data"
    }
   ],
   "source": [
    "fig = px.histogram(plt_df, x=\"Topic\", y=[\"Recall\", \"Semantic Precision\", \"MVVE Precision\", \"Semantic F2\", \"MVVE F2\"], title=\"Metrics for Predicted and Baseline Queries\", barmode=\"group\",\n",
    "                   facet_row=\"index\", facet_row_spacing=0.1)\n",
    "\n",
    "# Sort by value\n",
    "fig.for_each_trace(lambda t: t.update(x=t.x[::-1], y=t.y[::-1]))\n",
    "fig.for_each_annotation(lambda a: a.update(text=a.text.split(\"=\")[-1]))\n",
    "fig.update_layout(yaxis1_title=\"\", yaxis2_title=\"\", yaxis1_dtick=0.2, yaxis2_dtick=0.2)\n",
    "fig.show()"
   ]
  },
  {
   "cell_type": "code",
   "execution_count": 70,
   "metadata": {},
   "outputs": [
    {
     "data": {
      "text/html": [
       "<style type=\"text/css\">\n",
       "#T_b26ce_row0_col1, #T_b26ce_row0_col2, #T_b26ce_row11_col1 {\n",
       "  background-color: #6b0801;\n",
       "}\n",
       "#T_b26ce_row1_col1, #T_b26ce_row2_col1, #T_b26ce_row2_col2, #T_b26ce_row2_col3, #T_b26ce_row3_col1, #T_b26ce_row3_col3, #T_b26ce_row4_col1, #T_b26ce_row4_col3, #T_b26ce_row5_col1, #T_b26ce_row5_col2, #T_b26ce_row5_col3, #T_b26ce_row6_col1, #T_b26ce_row6_col3, #T_b26ce_row7_col1, #T_b26ce_row7_col2, #T_b26ce_row8_col1, #T_b26ce_row9_col1, #T_b26ce_row9_col2, #T_b26ce_row9_col3, #T_b26ce_row10_col1, #T_b26ce_row11_col3, #T_b26ce_row12_col1, #T_b26ce_row12_col3, #T_b26ce_row13_col1, #T_b26ce_row14_col1, #T_b26ce_row14_col2, #T_b26ce_row14_col3 {\n",
       "  background-color: #a82b22;\n",
       "}\n",
       "</style>\n",
       "<table id=\"T_b26ce\">\n",
       "  <caption>Difference in metrics between predicted and baseline (Negative means the baseline is better)</caption>\n",
       "  <thead>\n",
       "    <tr>\n",
       "      <th class=\"blank level0\" >&nbsp;</th>\n",
       "      <th id=\"T_b26ce_level0_col0\" class=\"col_heading level0 col0\" >Recall</th>\n",
       "      <th id=\"T_b26ce_level0_col1\" class=\"col_heading level0 col1\" >Semantic Precision</th>\n",
       "      <th id=\"T_b26ce_level0_col2\" class=\"col_heading level0 col2\" >Semantic F2</th>\n",
       "      <th id=\"T_b26ce_level0_col3\" class=\"col_heading level0 col3\" >MVVE Precision</th>\n",
       "      <th id=\"T_b26ce_level0_col4\" class=\"col_heading level0 col4\" >MVVE F2</th>\n",
       "    </tr>\n",
       "    <tr>\n",
       "      <th class=\"index_name level0\" >Query</th>\n",
       "      <th class=\"blank col0\" >&nbsp;</th>\n",
       "      <th class=\"blank col1\" >&nbsp;</th>\n",
       "      <th class=\"blank col2\" >&nbsp;</th>\n",
       "      <th class=\"blank col3\" >&nbsp;</th>\n",
       "      <th class=\"blank col4\" >&nbsp;</th>\n",
       "    </tr>\n",
       "  </thead>\n",
       "  <tbody>\n",
       "    <tr>\n",
       "      <th id=\"T_b26ce_level0_row0\" class=\"row_heading level0 row0\" >Robotic Arthroplasty</th>\n",
       "      <td id=\"T_b26ce_row0_col0\" class=\"data row0 col0\" >0.000</td>\n",
       "      <td id=\"T_b26ce_row0_col1\" class=\"data row0 col1\" >-0.639</td>\n",
       "      <td id=\"T_b26ce_row0_col2\" class=\"data row0 col2\" >-0.596</td>\n",
       "      <td id=\"T_b26ce_row0_col3\" class=\"data row0 col3\" >0.040</td>\n",
       "      <td id=\"T_b26ce_row0_col4\" class=\"data row0 col4\" >0.021</td>\n",
       "    </tr>\n",
       "    <tr>\n",
       "      <th id=\"T_b26ce_level0_row1\" class=\"row_heading level0 row1\" >Soft Robotics</th>\n",
       "      <td id=\"T_b26ce_row1_col0\" class=\"data row1 col0\" >0.166</td>\n",
       "      <td id=\"T_b26ce_row1_col1\" class=\"data row1 col1\" >-0.248</td>\n",
       "      <td id=\"T_b26ce_row1_col2\" class=\"data row1 col2\" >0.079</td>\n",
       "      <td id=\"T_b26ce_row1_col3\" class=\"data row1 col3\" >0.057</td>\n",
       "      <td id=\"T_b26ce_row1_col4\" class=\"data row1 col4\" >0.142</td>\n",
       "    </tr>\n",
       "    <tr>\n",
       "      <th id=\"T_b26ce_level0_row2\" class=\"row_heading level0 row2\" >Crop Yield Prediction</th>\n",
       "      <td id=\"T_b26ce_row2_col0\" class=\"data row2 col0\" >0.109</td>\n",
       "      <td id=\"T_b26ce_row2_col1\" class=\"data row2 col1\" >-0.372</td>\n",
       "      <td id=\"T_b26ce_row2_col2\" class=\"data row2 col2\" >-0.064</td>\n",
       "      <td id=\"T_b26ce_row2_col3\" class=\"data row2 col3\" >-0.024</td>\n",
       "      <td id=\"T_b26ce_row2_col4\" class=\"data row2 col4\" >0.078</td>\n",
       "    </tr>\n",
       "    <tr>\n",
       "      <th id=\"T_b26ce_level0_row3\" class=\"row_heading level0 row3\" >Synthetic Biology</th>\n",
       "      <td id=\"T_b26ce_row3_col0\" class=\"data row3 col0\" >0.379</td>\n",
       "      <td id=\"T_b26ce_row3_col1\" class=\"data row3 col1\" >-0.067</td>\n",
       "      <td id=\"T_b26ce_row3_col2\" class=\"data row3 col2\" >0.340</td>\n",
       "      <td id=\"T_b26ce_row3_col3\" class=\"data row3 col3\" >-0.031</td>\n",
       "      <td id=\"T_b26ce_row3_col4\" class=\"data row3 col4\" >0.337</td>\n",
       "    </tr>\n",
       "    <tr>\n",
       "      <th id=\"T_b26ce_level0_row4\" class=\"row_heading level0 row4\" >Resilience in Business and management</th>\n",
       "      <td id=\"T_b26ce_row4_col0\" class=\"data row4 col0\" >0.222</td>\n",
       "      <td id=\"T_b26ce_row4_col1\" class=\"data row4 col1\" >-0.194</td>\n",
       "      <td id=\"T_b26ce_row4_col2\" class=\"data row4 col2\" >0.233</td>\n",
       "      <td id=\"T_b26ce_row4_col3\" class=\"data row4 col3\" >-0.031</td>\n",
       "      <td id=\"T_b26ce_row4_col4\" class=\"data row4 col4\" >0.245</td>\n",
       "    </tr>\n",
       "    <tr>\n",
       "      <th id=\"T_b26ce_level0_row5\" class=\"row_heading level0 row5\" >Cervical Myelopathy</th>\n",
       "      <td id=\"T_b26ce_row5_col0\" class=\"data row5 col0\" >0.085</td>\n",
       "      <td id=\"T_b26ce_row5_col1\" class=\"data row5 col1\" >-0.294</td>\n",
       "      <td id=\"T_b26ce_row5_col2\" class=\"data row5 col2\" >-0.042</td>\n",
       "      <td id=\"T_b26ce_row5_col3\" class=\"data row5 col3\" >-0.037</td>\n",
       "      <td id=\"T_b26ce_row5_col4\" class=\"data row5 col4\" >0.038</td>\n",
       "    </tr>\n",
       "    <tr>\n",
       "      <th id=\"T_b26ce_level0_row6\" class=\"row_heading level0 row6\" >Drones in Agriculture</th>\n",
       "      <td id=\"T_b26ce_row6_col0\" class=\"data row6 col0\" >0.480</td>\n",
       "      <td id=\"T_b26ce_row6_col1\" class=\"data row6 col1\" >-0.297</td>\n",
       "      <td id=\"T_b26ce_row6_col2\" class=\"data row6 col2\" >0.390</td>\n",
       "      <td id=\"T_b26ce_row6_col3\" class=\"data row6 col3\" >-0.008</td>\n",
       "      <td id=\"T_b26ce_row6_col4\" class=\"data row6 col4\" >0.465</td>\n",
       "    </tr>\n",
       "    <tr>\n",
       "      <th id=\"T_b26ce_level0_row7\" class=\"row_heading level0 row7\" >Tourism Growth Nexus</th>\n",
       "      <td id=\"T_b26ce_row7_col0\" class=\"data row7 col0\" >0.000</td>\n",
       "      <td id=\"T_b26ce_row7_col1\" class=\"data row7 col1\" >-0.357</td>\n",
       "      <td id=\"T_b26ce_row7_col2\" class=\"data row7 col2\" >-0.076</td>\n",
       "      <td id=\"T_b26ce_row7_col3\" class=\"data row7 col3\" >0.019</td>\n",
       "      <td id=\"T_b26ce_row7_col4\" class=\"data row7 col4\" >0.000</td>\n",
       "    </tr>\n",
       "    <tr>\n",
       "      <th id=\"T_b26ce_level0_row8\" class=\"row_heading level0 row8\" >Sustainable Biofuel Economy</th>\n",
       "      <td id=\"T_b26ce_row8_col0\" class=\"data row8 col0\" >0.340</td>\n",
       "      <td id=\"T_b26ce_row8_col1\" class=\"data row8 col1\" >-0.146</td>\n",
       "      <td id=\"T_b26ce_row8_col2\" class=\"data row8 col2\" >0.353</td>\n",
       "      <td id=\"T_b26ce_row8_col3\" class=\"data row8 col3\" >0.015</td>\n",
       "      <td id=\"T_b26ce_row8_col4\" class=\"data row8 col4\" >0.358</td>\n",
       "    </tr>\n",
       "    <tr>\n",
       "      <th id=\"T_b26ce_level0_row9\" class=\"row_heading level0 row9\" >Perovskite Solar Cells Stability</th>\n",
       "      <td id=\"T_b26ce_row9_col0\" class=\"data row9 col0\" >0.103</td>\n",
       "      <td id=\"T_b26ce_row9_col1\" class=\"data row9 col1\" >-0.291</td>\n",
       "      <td id=\"T_b26ce_row9_col2\" class=\"data row9 col2\" >-0.033</td>\n",
       "      <td id=\"T_b26ce_row9_col3\" class=\"data row9 col3\" >-0.007</td>\n",
       "      <td id=\"T_b26ce_row9_col4\" class=\"data row9 col4\" >0.057</td>\n",
       "    </tr>\n",
       "    <tr>\n",
       "      <th id=\"T_b26ce_level0_row10\" class=\"row_heading level0 row10\" >Nanopharmaceuticals OR Nanonutraceuticals</th>\n",
       "      <td id=\"T_b26ce_row10_col0\" class=\"data row10 col0\" >0.040</td>\n",
       "      <td id=\"T_b26ce_row10_col1\" class=\"data row10 col1\" >-0.108</td>\n",
       "      <td id=\"T_b26ce_row10_col2\" class=\"data row10 col2\" >0.049</td>\n",
       "      <td id=\"T_b26ce_row10_col3\" class=\"data row10 col3\" >0.092</td>\n",
       "      <td id=\"T_b26ce_row10_col4\" class=\"data row10 col4\" >0.049</td>\n",
       "    </tr>\n",
       "    <tr>\n",
       "      <th id=\"T_b26ce_level0_row11\" class=\"row_heading level0 row11\" >Green Warehousing</th>\n",
       "      <td id=\"T_b26ce_row11_col0\" class=\"data row11 col0\" >0.079</td>\n",
       "      <td id=\"T_b26ce_row11_col1\" class=\"data row11 col1\" >-0.516</td>\n",
       "      <td id=\"T_b26ce_row11_col2\" class=\"data row11 col2\" >0.057</td>\n",
       "      <td id=\"T_b26ce_row11_col3\" class=\"data row11 col3\" >-0.075</td>\n",
       "      <td id=\"T_b26ce_row11_col4\" class=\"data row11 col4\" >0.081</td>\n",
       "    </tr>\n",
       "    <tr>\n",
       "      <th id=\"T_b26ce_level0_row12\" class=\"row_heading level0 row12\" >AI on Edge Devices</th>\n",
       "      <td id=\"T_b26ce_row12_col0\" class=\"data row12 col0\" >0.278</td>\n",
       "      <td id=\"T_b26ce_row12_col1\" class=\"data row12 col1\" >-0.232</td>\n",
       "      <td id=\"T_b26ce_row12_col2\" class=\"data row12 col2\" >0.287</td>\n",
       "      <td id=\"T_b26ce_row12_col3\" class=\"data row12 col3\" >-0.023</td>\n",
       "      <td id=\"T_b26ce_row12_col4\" class=\"data row12 col4\" >0.274</td>\n",
       "    </tr>\n",
       "    <tr>\n",
       "      <th id=\"T_b26ce_level0_row13\" class=\"row_heading level0 row13\" >Internet of Things in Healthcare</th>\n",
       "      <td id=\"T_b26ce_row13_col0\" class=\"data row13 col0\" >0.172</td>\n",
       "      <td id=\"T_b26ce_row13_col1\" class=\"data row13 col1\" >-0.286</td>\n",
       "      <td id=\"T_b26ce_row13_col2\" class=\"data row13 col2\" >0.107</td>\n",
       "      <td id=\"T_b26ce_row13_col3\" class=\"data row13 col3\" >0.013</td>\n",
       "      <td id=\"T_b26ce_row13_col4\" class=\"data row13 col4\" >0.144</td>\n",
       "    </tr>\n",
       "    <tr>\n",
       "      <th id=\"T_b26ce_level0_row14\" class=\"row_heading level0 row14\" >Energy Growth Nexus</th>\n",
       "      <td id=\"T_b26ce_row14_col0\" class=\"data row14 col0\" >0.000</td>\n",
       "      <td id=\"T_b26ce_row14_col1\" class=\"data row14 col1\" >-0.388</td>\n",
       "      <td id=\"T_b26ce_row14_col2\" class=\"data row14 col2\" >-0.009</td>\n",
       "      <td id=\"T_b26ce_row14_col3\" class=\"data row14 col3\" >-0.058</td>\n",
       "      <td id=\"T_b26ce_row14_col4\" class=\"data row14 col4\" >0.000</td>\n",
       "    </tr>\n",
       "  </tbody>\n",
       "</table>\n"
      ],
      "text/plain": [
       "<pandas.io.formats.style.Styler at 0x1c90c8bbaf0>"
      ]
     },
     "execution_count": 70,
     "metadata": {},
     "output_type": "execute_result"
    }
   ],
   "source": [
    "# difference in metrics between predicted and baseline (Recall\tSemantic Precision\tSemantic F2\tMVVE Precision\tMVVE F2\t)\n",
    "diff_df = results.loc[\"Predicted\"][[\"Recall\",\"Semantic Precision\" ,\"Semantic F2\" ,\"MVVE Precision\", \"MVVE F2\"]].values\\\n",
    "      - results.loc[\"Baseline\"][[\"Recall\",\"Semantic Precision\" ,\"Semantic F2\" ,\"MVVE Precision\", \"MVVE F2\"]].values\n",
    "\n",
    "diff_df = pd.DataFrame(diff_df.round(3), columns=[\"Recall\",\"Semantic Precision\" ,\"Semantic F2\" ,\"MVVE Precision\", \"MVVE F2\"], index=results.loc[\"Baseline\"][\"Query\"])\n",
    "diff_df = diff_df.style.map(lambda x: 'background-color: #6b0801' if x < -0.5 else 'background-color: #a82b22' if x < 0 else '')\n",
    "diff_df.format(\"{:.3f}\").set_caption(\"Difference in metrics between predicted and baseline (Negative means the baseline is better)\")\n",
    "# hide the first row\n",
    "diff_df.hide(subset=diff_df.index[-7:])"
   ]
  },
  {
   "cell_type": "code",
   "execution_count": 48,
   "metadata": {},
   "outputs": [
    {
     "data": {
      "text/html": [
       "<style type=\"text/css\">\n",
       "#T_42f1d_row15_col0, #T_42f1d_row15_col2, #T_42f1d_row15_col3, #T_42f1d_row15_col4, #T_42f1d_row16_col0, #T_42f1d_row16_col2, #T_42f1d_row16_col4, #T_42f1d_row17_col3, #T_42f1d_row18_col3, #T_42f1d_row19_col3, #T_42f1d_row21_col0, #T_42f1d_row21_col2, #T_42f1d_row21_col4 {\n",
       "  background-color: #a82b22;\n",
       "}\n",
       "#T_42f1d_row20_col1, #T_42f1d_row21_col1 {\n",
       "  background-color: #6b0801;\n",
       "}\n",
       "</style>\n",
       "<table id=\"T_42f1d\">\n",
       "  <caption>Difference in metrics between predicted and baseline (Negative means the baseline is better)</caption>\n",
       "  <thead>\n",
       "    <tr>\n",
       "      <th class=\"blank level0\" >&nbsp;</th>\n",
       "      <th id=\"T_42f1d_level0_col0\" class=\"col_heading level0 col0\" >Recall</th>\n",
       "      <th id=\"T_42f1d_level0_col1\" class=\"col_heading level0 col1\" >Semantic Precision</th>\n",
       "      <th id=\"T_42f1d_level0_col2\" class=\"col_heading level0 col2\" >Semantic F2</th>\n",
       "      <th id=\"T_42f1d_level0_col3\" class=\"col_heading level0 col3\" >MVVE Precision</th>\n",
       "      <th id=\"T_42f1d_level0_col4\" class=\"col_heading level0 col4\" >MVVE F2</th>\n",
       "    </tr>\n",
       "    <tr>\n",
       "      <th class=\"index_name level0\" >Query</th>\n",
       "      <th class=\"blank col0\" >&nbsp;</th>\n",
       "      <th class=\"blank col1\" >&nbsp;</th>\n",
       "      <th class=\"blank col2\" >&nbsp;</th>\n",
       "      <th class=\"blank col3\" >&nbsp;</th>\n",
       "      <th class=\"blank col4\" >&nbsp;</th>\n",
       "    </tr>\n",
       "  </thead>\n",
       "  <tbody>\n",
       "    <tr>\n",
       "      <th id=\"T_42f1d_level0_row15\" class=\"row_heading level0 row15\" >Software Process Line</th>\n",
       "      <td id=\"T_42f1d_row15_col0\" class=\"data row15 col0\" >-0.233</td>\n",
       "      <td id=\"T_42f1d_row15_col1\" class=\"data row15 col1\" >0.324</td>\n",
       "      <td id=\"T_42f1d_row15_col2\" class=\"data row15 col2\" >-0.126</td>\n",
       "      <td id=\"T_42f1d_row15_col3\" class=\"data row15 col3\" >-0.043</td>\n",
       "      <td id=\"T_42f1d_row15_col4\" class=\"data row15 col4\" >-0.184</td>\n",
       "    </tr>\n",
       "    <tr>\n",
       "      <th id=\"T_42f1d_level0_row16\" class=\"row_heading level0 row16\" >Data Stream Processing Latency</th>\n",
       "      <td id=\"T_42f1d_row16_col0\" class=\"data row16 col0\" >-0.058</td>\n",
       "      <td id=\"T_42f1d_row16_col1\" class=\"data row16 col1\" >0.007</td>\n",
       "      <td id=\"T_42f1d_row16_col2\" class=\"data row16 col2\" >-0.064</td>\n",
       "      <td id=\"T_42f1d_row16_col3\" class=\"data row16 col3\" >0.021</td>\n",
       "      <td id=\"T_42f1d_row16_col4\" class=\"data row16 col4\" >-0.061</td>\n",
       "    </tr>\n",
       "    <tr>\n",
       "      <th id=\"T_42f1d_level0_row17\" class=\"row_heading level0 row17\" >Business Process Meta Models</th>\n",
       "      <td id=\"T_42f1d_row17_col0\" class=\"data row17 col0\" >0.346</td>\n",
       "      <td id=\"T_42f1d_row17_col1\" class=\"data row17 col1\" >0.091</td>\n",
       "      <td id=\"T_42f1d_row17_col2\" class=\"data row17 col2\" >0.306</td>\n",
       "      <td id=\"T_42f1d_row17_col3\" class=\"data row17 col3\" >-0.004</td>\n",
       "      <td id=\"T_42f1d_row17_col4\" class=\"data row17 col4\" >0.287</td>\n",
       "    </tr>\n",
       "    <tr>\n",
       "      <th id=\"T_42f1d_level0_row18\" class=\"row_heading level0 row18\" >Multicore Performance Prediction</th>\n",
       "      <td id=\"T_42f1d_row18_col0\" class=\"data row18 col0\" >0.000</td>\n",
       "      <td id=\"T_42f1d_row18_col1\" class=\"data row18 col1\" >0.017</td>\n",
       "      <td id=\"T_42f1d_row18_col2\" class=\"data row18 col2\" >0.000</td>\n",
       "      <td id=\"T_42f1d_row18_col3\" class=\"data row18 col3\" >-0.074</td>\n",
       "      <td id=\"T_42f1d_row18_col4\" class=\"data row18 col4\" >0.000</td>\n",
       "    </tr>\n",
       "    <tr>\n",
       "      <th id=\"T_42f1d_level0_row19\" class=\"row_heading level0 row19\" >Cloud Migration</th>\n",
       "      <td id=\"T_42f1d_row19_col0\" class=\"data row19 col0\" >0.000</td>\n",
       "      <td id=\"T_42f1d_row19_col1\" class=\"data row19 col1\" >0.007</td>\n",
       "      <td id=\"T_42f1d_row19_col2\" class=\"data row19 col2\" >0.000</td>\n",
       "      <td id=\"T_42f1d_row19_col3\" class=\"data row19 col3\" >-0.029</td>\n",
       "      <td id=\"T_42f1d_row19_col4\" class=\"data row19 col4\" >0.000</td>\n",
       "    </tr>\n",
       "    <tr>\n",
       "      <th id=\"T_42f1d_level0_row20\" class=\"row_heading level0 row20\" >Software Fault Prediction Metrics</th>\n",
       "      <td id=\"T_42f1d_row20_col0\" class=\"data row20 col0\" >0.562</td>\n",
       "      <td id=\"T_42f1d_row20_col1\" class=\"data row20 col1\" >-0.672</td>\n",
       "      <td id=\"T_42f1d_row20_col2\" class=\"data row20 col2\" >0.113</td>\n",
       "      <td id=\"T_42f1d_row20_col3\" class=\"data row20 col3\" >0.016</td>\n",
       "      <td id=\"T_42f1d_row20_col4\" class=\"data row20 col4\" >0.427</td>\n",
       "    </tr>\n",
       "    <tr>\n",
       "      <th id=\"T_42f1d_level0_row21\" class=\"row_heading level0 row21\" >Software Defect Prediction</th>\n",
       "      <td id=\"T_42f1d_row21_col0\" class=\"data row21 col0\" >-0.127</td>\n",
       "      <td id=\"T_42f1d_row21_col1\" class=\"data row21 col1\" >-0.502</td>\n",
       "      <td id=\"T_42f1d_row21_col2\" class=\"data row21 col2\" >-0.151</td>\n",
       "      <td id=\"T_42f1d_row21_col3\" class=\"data row21 col3\" >0.070</td>\n",
       "      <td id=\"T_42f1d_row21_col4\" class=\"data row21 col4\" >-0.126</td>\n",
       "    </tr>\n",
       "  </tbody>\n",
       "</table>\n"
      ],
      "text/plain": [
       "<pandas.io.formats.style.Styler at 0x1c90c7e6a10>"
      ]
     },
     "execution_count": 48,
     "metadata": {},
     "output_type": "execute_result"
    }
   ],
   "source": [
    "diff_df.hide(subset=diff_df.index[:15])\n"
   ]
  }
 ],
 "metadata": {
  "kernelspec": {
   "display_name": "litqeval-nY2J0JWW-py3.10",
   "language": "python",
   "name": "python3"
  },
  "language_info": {
   "codemirror_mode": {
    "name": "ipython",
    "version": 3
   },
   "file_extension": ".py",
   "mimetype": "text/x-python",
   "name": "python",
   "nbconvert_exporter": "python",
   "pygments_lexer": "ipython3",
   "version": "3.10.7"
  }
 },
 "nbformat": 4,
 "nbformat_minor": 2
}
