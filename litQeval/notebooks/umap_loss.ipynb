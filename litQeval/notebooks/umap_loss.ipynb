{
 "cells": [
  {
   "cell_type": "markdown",
   "metadata": {},
   "source": [
    "#### The goal of this notebook is to determine how much information are we losing by using UMAP to visualize the data."
   ]
  },
  {
   "cell_type": "code",
   "execution_count": 1,
   "metadata": {},
   "outputs": [],
   "source": [
    "from sklearn.metrics import accuracy_score\n",
    "from litQeval.eval_utils import *\n",
    "from xgboost import XGBClassifier\n",
    "from sklearn.model_selection import train_test_split\n",
    "import plotly.io as pio\n",
    "import numpy as np\n",
    "import umap\n",
    "import json\n",
    "pio.templates.default = \"seaborn\"\n",
    "COLORS = ['#1f77b4', '#ff7f0e', '#2ca02c', '#d62728', '#9467bd',\n",
    "          '#8c564b', '#e377c2', '#7f7f7f', '#bcbd22', '#17becf']\n",
    "PLOT_CONFIGS = dict(\n",
    "    title_x=0.5, title_font_size=25, title_font_family=\"Modern Computer\", font_family=\"Modern Computer\",\n",
    "    xaxis_title=\"\", yaxis_title=\"\", showlegend=True, legend_title=\"\",\n",
    "    xaxis_tickfont_size=15, yaxis_tickfont_size=15, legend_font_size=20, legend_itemsizing=\"constant\",\n",
    "    legend_orientation=\"h\", legend_yanchor=\"bottom\", legend_y=-0.3, legend_xanchor=\"center\", legend_x=0.5\n",
    ")"
   ]
  },
  {
   "cell_type": "code",
   "execution_count": 2,
   "metadata": {},
   "outputs": [],
   "source": [
    "topics = [i[\"baseline\"] for i in json.load(open('data/queries.json'))]"
   ]
  },
  {
   "cell_type": "code",
   "execution_count": 3,
   "metadata": {},
   "outputs": [
    {
     "name": "stderr",
     "output_type": "stream",
     "text": [
      "100%|██████████| 22/22 [04:13<00:00, 11.52s/it]\n"
     ]
    }
   ],
   "source": [
    "umap_data = []\n",
    "embeddings_data = []\n",
    "for idx, topic in tqdm(enumerate(topics), total=len(topics)):\n",
    "    data = get_data(topic, None)\n",
    "    core_pubs = data[\"core_pubs\"]\n",
    "    core_mean_embedding = data[\"core_mean_embedding\"]\n",
    "    baseline_pubs = data[\"baseline_pubs\"]\n",
    "    predicted_pubs = data[\"predicted_pubs\"]\n",
    "    predicted_vs = data[\"predicted_vs\"]\n",
    "    baseline_vs = data[\"baseline_vs\"]\n",
    "    core_vs = data[\"core_vs\"]\n",
    "    core_embeddings = data[\"core_embeddings\"]\n",
    "    core_threshold = data[\"core_threshold\"]\n",
    "    df = pd.concat([baseline_pubs, predicted_pubs])\n",
    "    df[\"Source\"] = \"Predicted\"\n",
    "    df.loc[df.duplicated(subset=[\"id\"]), \"Source\"] = \"Baseline\"\n",
    "    df.drop_duplicates(subset=[\"id\"], inplace=True, keep=\"last\")\n",
    "\n",
    "    # ids in baseline but not in predicted\n",
    "    missing_ids = set(baseline_pubs[\"id\"]) - set(predicted_pubs[\"id\"])\n",
    "    pub_ids = list(set(df[\"id\"].values.tolist()) - missing_ids)\n",
    "    embeddings_dict = {}\n",
    "    for i in range(0, len(pub_ids), 25000):\n",
    "        items = predicted_vs.get(pub_ids[i:i+25000], include=[\"embeddings\"])\n",
    "        for j in range(len(items[\"ids\"])):\n",
    "            embeddings_dict[items[\"ids\"][j]] = items[\"embeddings\"][j]\n",
    "\n",
    "    # get the missing embeddings from baseline_vs\n",
    "    for i in missing_ids:\n",
    "        items = baseline_vs.get(i, include=[\"embeddings\"])\n",
    "        for j in range(len(items[\"ids\"])):\n",
    "            embeddings_dict[items[\"ids\"][j]] = items[\"embeddings\"][j]\n",
    "\n",
    "    # sort the df in the same order as embeddings.keys()\n",
    "    custom_sorting = {k: v for v, k in enumerate(embeddings_dict.keys())}\n",
    "    df.sort_values(by=\"id\", key=lambda x: x.map(custom_sorting), inplace=True)\n",
    "    embeddings = np.array([embeddings_dict[i] for i in df[\"id\"]])\n",
    "    umap_embeddings = umap.UMAP(metric=\"cosine\").fit_transform(np.vstack([core_embeddings, embeddings]))\n",
    "\n",
    "    umap_data.append([umap_embeddings, topic])\n",
    "    embeddings_data.append([embeddings, topic])"
   ]
  },
  {
   "cell_type": "code",
   "execution_count": 4,
   "metadata": {},
   "outputs": [],
   "source": [
    "umap_df = pd.concat(\n",
    "    [pd.DataFrame(umap, columns=[\"x\", \"y\"]).assign(topic=topic) for umap, topic in umap_data],\n",
    "    ignore_index=True\n",
    ")\n",
    "embeddings_df = pd.concat(\n",
    "    [pd.DataFrame(embeddings).assign(topic=topic) for embeddings, topic in embeddings_data],\n",
    "    ignore_index=True\n",
    ")"
   ]
  },
  {
   "cell_type": "code",
   "execution_count": 5,
   "metadata": {},
   "outputs": [
    {
     "data": {
      "text/plain": [
       "22551"
      ]
     },
     "execution_count": 5,
     "metadata": {},
     "output_type": "execute_result"
    }
   ],
   "source": [
    "import gc\n",
    "# clear all prior data\n",
    "del umap_data, embeddings_data, df, embeddings_dict, core_embeddings, core_pubs, core_mean_embedding, baseline_pubs, predicted_pubs, predicted_vs, baseline_vs, core_vs\n",
    "gc.collect()"
   ]
  },
  {
   "cell_type": "code",
   "execution_count": 8,
   "metadata": {},
   "outputs": [
    {
     "name": "stdout",
     "output_type": "stream",
     "text": [
      "The accuracy of the embeddings is 0.83\n"
     ]
    }
   ],
   "source": [
    "X = embeddings_df.drop(columns=\"topic\")\n",
    "y = embeddings_df[\"topic\"].astype(\"category\").cat.codes\n",
    "X_train, X_test, y_train, y_test = train_test_split(X, y, test_size=0.2, stratify=y, random_state=42)\n",
    "\n",
    "clf = XGBClassifier(random_state=42, device=\"cuda\", tree_method=\"hist\", enable_categorical=True)\n",
    "clf.fit(X_train, y_train, verbose=True)\n",
    "y_pred = clf.predict(X_test)\n",
    "accuracy = accuracy_score(y_test, y_pred)\n",
    "print(f\"The accuracy of the embeddings is {accuracy:.2f}\")"
   ]
  },
  {
   "cell_type": "code",
   "execution_count": 9,
   "metadata": {},
   "outputs": [
    {
     "name": "stdout",
     "output_type": "stream",
     "text": [
      "The accuracy of the UMAP embeddings is 0.47\n"
     ]
    }
   ],
   "source": [
    "X = umap_df.drop(columns=\"topic\")\n",
    "y = umap_df[\"topic\"].astype(\"category\").cat.codes\n",
    "X_train, X_test, y_train, y_test = train_test_split(X, y, test_size=0.2, stratify=y, random_state=42)\n",
    "\n",
    "clf = XGBClassifier(random_state=42, device=\"cuda\", tree_method=\"hist\", enable_categorical=True)\n",
    "clf.fit(X_train, y_train, verbose=True)\n",
    "y_pred = clf.predict(X_test)\n",
    "accuracy = accuracy_score(y_test, y_pred)\n",
    "print(f\"The accuracy of the UMAP embeddings is {accuracy:.2f}\")"
   ]
  }
 ],
 "metadata": {
  "kernelspec": {
   "display_name": "litqeval-nY2J0JWW-py3.10",
   "language": "python",
   "name": "python3"
  },
  "language_info": {
   "codemirror_mode": {
    "name": "ipython",
    "version": 3
   },
   "file_extension": ".py",
   "mimetype": "text/x-python",
   "name": "python",
   "nbconvert_exporter": "python",
   "pygments_lexer": "ipython3",
   "version": "3.10.7"
  }
 },
 "nbformat": 4,
 "nbformat_minor": 2
}
