{
 "cells": [
  {
   "cell_type": "markdown",
   "metadata": {},
   "source": [
    "#### The goal of this notebook is to determine how much information are we losing by using UMAP to visualize the data."
   ]
  },
  {
   "cell_type": "code",
   "execution_count": null,
   "metadata": {},
   "outputs": [],
   "source": [
    "from sklearn.metrics.pairwise import cosine_similarity\n",
    "from plotly.subplots import make_subplots\n",
    "from sklearn.cluster import KMeans, HDBSCAN\n",
    "from sklearn.preprocessing import normalize\n",
    "from litQeval.eval_utils import *\n",
    "import plotly.graph_objects as go\n",
    "import plotly.express as px\n",
    "from tqdm.auto import tqdm\n",
    "import plotly.io as pio\n",
    "import pandas as pd\n",
    "import numpy as np\n",
    "import umap\n",
    "import json\n",
    "pio.templates.default = \"seaborn\"\n",
    "COLORS = ['#1f77b4', '#ff7f0e', '#2ca02c', '#d62728', '#9467bd',\n",
    "          '#8c564b', '#e377c2', '#7f7f7f', '#bcbd22', '#17becf']\n",
    "PLOT_CONFIGS = dict(\n",
    "    title_x=0.5, title_font_size=25, title_font_family=\"Modern Computer\", font_family=\"Modern Computer\",\n",
    "    xaxis_title=\"\", yaxis_title=\"\", showlegend=True, legend_title=\"\",\n",
    "    xaxis_tickfont_size=15, yaxis_tickfont_size=15, legend_font_size=20, legend_itemsizing=\"constant\",\n",
    "    legend_orientation=\"h\", legend_yanchor=\"bottom\", legend_y=-0.3, legend_xanchor=\"center\", legend_x=0.5\n",
    ")"
   ]
  }
 ],
 "metadata": {
  "kernelspec": {
   "display_name": "litqeval-nY2J0JWW-py3.10",
   "language": "python",
   "name": "python3"
  },
  "language_info": {
   "name": "python",
   "version": "3.10.7"
  }
 },
 "nbformat": 4,
 "nbformat_minor": 2
}
