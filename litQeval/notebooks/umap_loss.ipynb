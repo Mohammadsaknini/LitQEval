{
 "cells": [
  {
   "cell_type": "markdown",
   "metadata": {},
   "source": [
    "#### The goal of this notebook is to determine how much information are we losing by using UMAP to visualize the data."
   ]
  },
  {
   "cell_type": "code",
   "execution_count": 23,
   "metadata": {},
   "outputs": [],
   "source": [
    "from sklearn.cross_decomposition import PLSRegression\n",
    "from sklearn.decomposition import PCA\n",
    "from sklearn.metrics import r2_score\n",
    "from litQeval.eval_utils import *\n",
    "import plotly.io as pio\n",
    "import numpy as np\n",
    "pio.templates.default = \"seaborn\""
   ]
  },
  {
   "cell_type": "code",
   "execution_count": 24,
   "metadata": {},
   "outputs": [],
   "source": [
    "topic = \"Soft Robotics\"\n",
    "data = get_evaluation_data(topic)\n",
    "baseline_pubs = data[\"baseline_pubs\"]\n",
    "predicted_pubs = data[\"predicted_pubs\"]\n",
    "core_pubs = data[\"core_pubs\"]\n",
    "\n",
    "baseline_vs = data[\"baseline_vs\"]\n",
    "predicted_vs = data[\"predicted_vs\"]\n",
    "core_vs = data[\"core_vs\"]\n",
    "threshold = data[\"core_threshold\"]\n",
    "\n",
    "umap_embeddings = data[\"umap_embeddings\"]\n",
    "umap_core_embeddings = data[\"umap_core_embeddings\"]\n",
    "core_mean_embedding = data[\"core_mean_embedding\"]\n",
    "\n",
    "embeddings = data[\"embeddings\"]\n",
    "baseline_embeddings = data[\"baseline_embeddings\"]\n",
    "predicted_embeddings = data[\"predicted_embeddings\"]\n",
    "core_embeddings = data[\"core_embeddings\"]\n",
    "\n",
    "baseline_umap_embeddings = data[\"baseline_umap_embeddings\"]\n",
    "predicted_umap_embeddings = data[\"predicted_umap_embeddings\"]\n",
    "baseline_core_umap_embeddings = data[\"baseline_core_umap_embeddings\"]\n",
    "predicted_core_umap_embeddings = data[\"predicted_core_umap_embeddings\"]\n",
    "\n",
    "df = data[\"df\"]"
   ]
  },
  {
   "cell_type": "code",
   "execution_count": 25,
   "metadata": {},
   "outputs": [
    {
     "data": {
      "text/plain": [
       "(0.12990180903316279, 0.12990180909084714)"
      ]
     },
     "execution_count": 25,
     "metadata": {},
     "output_type": "execute_result"
    }
   ],
   "source": [
    "# Compare PLS with the actual explained variance\n",
    "pca = PCA(n_components=2)\n",
    "pca.fit(embeddings)\n",
    "pca_embeddings = pca.transform(embeddings)\n",
    "pls = PLSRegression(n_components = 2)\n",
    "pls.fit(pca_embeddings, embeddings)\n",
    "y_pred = pls.predict(pca_embeddings)\n",
    "pca.explained_variance_ratio_.sum(), r2_score(embeddings, y_pred, multioutput = 'variance_weighted')"
   ]
  },
  {
   "cell_type": "code",
   "execution_count": 31,
   "metadata": {},
   "outputs": [
    {
     "data": {
      "text/plain": [
       "0.0715698716060278"
      ]
     },
     "execution_count": 31,
     "metadata": {},
     "output_type": "execute_result"
    }
   ],
   "source": [
    "pls = PLSRegression(n_components = 2)\n",
    "pls.fit(umap_embeddings, embeddings)\n",
    "y_pred = pls.predict(umap_embeddings)\n",
    "r2_score(embeddings, y_pred, multioutput = 'variance_weighted')"
   ]
  }
 ],
 "metadata": {
  "kernelspec": {
   "display_name": "litqeval-nY2J0JWW-py3.10",
   "language": "python",
   "name": "python3"
  },
  "language_info": {
   "codemirror_mode": {
    "name": "ipython",
    "version": 3
   },
   "file_extension": ".py",
   "mimetype": "text/x-python",
   "name": "python",
   "nbconvert_exporter": "python",
   "pygments_lexer": "ipython3",
   "version": "3.10.7"
  }
 },
 "nbformat": 4,
 "nbformat_minor": 2
}
