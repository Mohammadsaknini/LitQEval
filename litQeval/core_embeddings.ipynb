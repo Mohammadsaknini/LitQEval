{
 "cells": [
  {
   "cell_type": "code",
   "execution_count": 1,
   "metadata": {},
   "outputs": [],
   "source": [
    "from langchain_openai.embeddings import OpenAIEmbeddings\n",
    "from langchain_community.vectorstores import FAISS\n",
    "from langchain_core.documents import Document\n",
    "from sklearn.cluster import KMeans\n",
    "from sklearn.manifold import TSNE\n",
    "import plotly.express as px\n",
    "import plotly.io as pio\n",
    "import pandas as pd\n",
    "import numpy as np\n",
    "\n",
    "COLORS = [\n",
    "    \"#2f4f4f\",\n",
    "    \"#a0522d\",\n",
    "    \"#006400\",\n",
    "    \"#000080\",\n",
    "    \"#ff0000\",\n",
    "    \"#00ced1\",\n",
    "    \"#ffa500\",\n",
    "    \"#ffff00\",\n",
    "    \"#00ff00\",\n",
    "    \"#00fa9a\",\n",
    "    \"#0000ff\",\n",
    "    \"#ff00ff\",\n",
    "    \"#1e90ff\",\n",
    "    \"#eee8aa\",\n",
    "    \"#000000\",\n",
    "]\n",
    "\n",
    "pio.templates[pio.templates.default].layout.colorway = COLORS"
   ]
  },
  {
   "cell_type": "code",
   "execution_count": 2,
   "metadata": {},
   "outputs": [],
   "source": [
    "df = pd.read_excel(\"../data/metadata.xlsx\")\n",
    "core_pubs = pd.read_excel(\"../data/core_publications.xlsx\")"
   ]
  },
  {
   "cell_type": "code",
   "execution_count": 3,
   "metadata": {},
   "outputs": [],
   "source": [
    "documents = []\n",
    "# id, title and abstract as meta data\n",
    "for i, row in df.iterrows():\n",
    "    pub_id = row[\"id\"]\n",
    "    group = core_pubs[core_pubs[\"Core Publications\"] == pub_id]\n",
    "    if group.empty:\n",
    "        group = \"Survey\"\n",
    "    else:\n",
    "        group = group[\"Group\"].values[0]\n",
    "    content = f'Title: {row[\"title\"]}\\nAbstract: {row[\"abstract\"]}'\n",
    "    doc = Document(page_content=content, metadata={\"id\": row[\"id\"], \"group\": group})\n",
    "    documents.append(doc)\n",
    "embedding_model = OpenAIEmbeddings(model=\"text-embedding-3-small\")\n",
    "\n",
    "\n",
    "def create_embeddings():\n",
    "    vector_store = FAISS.from_documents(documents, embedding_model)\n",
    "    vector_store.save_local(\"../data/vector_store\")\n",
    "\n",
    "\n",
    "vector_store = FAISS.load_local(\n",
    "    \"../data/vector_store\", embedding_model, allow_dangerous_deserialization=True\n",
    ")"
   ]
  },
  {
   "cell_type": "code",
   "execution_count": 4,
   "metadata": {},
   "outputs": [],
   "source": [
    "all_embeddings = np.array(\n",
    "    [vector_store.index.reconstruct(i) for i in range(vector_store.index.ntotal)]\n",
    ")\n",
    "labels = [doc.metadata[\"group\"] for doc in documents]\n",
    "pub_ids = [doc.metadata[\"id\"] for doc in documents]\n",
    "\n",
    "n_clusters = 15  # 15 topics\n",
    "kmeans = KMeans(n_clusters=n_clusters, random_state=0).fit(all_embeddings)\n",
    "cluster_labels = kmeans.labels_\n",
    "\n",
    "tsne = TSNE(n_components=2, random_state=0)\n",
    "tsne_embeddings = tsne.fit_transform(all_embeddings)\n",
    "\n",
    "df = pd.DataFrame(tsne_embeddings, columns=[\"x\", \"y\"])\n",
    "df[\"label\"] = labels\n",
    "df[\"cluster\"] = cluster_labels\n",
    "df[\"pub_id\"] = pub_ids\n",
    "\n",
    "# Add true label to survey\n",
    "df[\"survey_group\"] = df.apply(\n",
    "    lambda x: f\"{x['label']} - {core_pubs[core_pubs['Survey'] == x['pub_id']]['Group'].values[0]}\"\n",
    "    if x[\"label\"] == \"Survey\"\n",
    "    else \"\",\n",
    "    axis=1,\n",
    ")"
   ]
  },
  {
   "cell_type": "code",
   "execution_count": 5,
   "metadata": {},
   "outputs": [
    {
     "data": {
      "application/vnd.plotly.v1+json": {
       "config": {
        "plotlyServerURL": "https://plot.ly"
       },
       "data": [
        {
         "customdata": [
          [
           "Survey",
           0,
           "pub.1175782890",
           "Survey - Perovskite Solar Cells Stability"
          ],
          [
           "Survey",
           14,
           "pub.1163752603",
           "Survey - Green Warehousing"
          ],
          [
           "Survey",
           4,
           "pub.1156021846",
           "Survey - Sustainable Biofuel"
          ],
          [
           "Survey",
           1,
           "pub.1147958699",
           "Survey - Drones in Agriculture"
          ],
          [
           "Survey",
           8,
           "pub.1130187939",
           "Survey - Crop Yield Prediction"
          ],
          [
           "Survey",
           5,
           "pub.1129627241",
           "Survey - Tourism Growth Nexus"
          ],
          [
           "Survey",
           3,
           "pub.1127137176",
           "Survey - Nanoparticles"
          ],
          [
           "Survey",
           7,
           "pub.1103814815",
           "Survey - Internet of Things in Healthcare"
          ],
          [
           "Survey",
           2,
           "pub.1159788042",
           "Survey - Robotic Arthroplasty"
          ],
          [
           "Survey",
           7,
           "pub.1146747333",
           "Survey - AI on Edge Devices"
          ],
          [
           "Survey",
           12,
           "pub.1110896992",
           "Survey - Cervical Myelopathy"
          ],
          [
           "Survey",
           6,
           "pub.1104146079",
           "Survey - Soft Robotics"
          ],
          [
           "Survey",
           13,
           "pub.1035441940",
           "Survey - Synthetic Biology"
          ],
          [
           "Survey",
           10,
           "pub.1022983337",
           "Survey - Resilience in Business and management"
          ],
          [
           "Survey",
           5,
           "pub.1019398108",
           "Survey - Energy Growth Nexus"
          ]
         ],
         "hovertemplate": "label=%{customdata[0]}<br>x=%{x}<br>y=%{y}<br>cluster=%{customdata[1]}<br>pub_id=%{customdata[2]}<br>survey_group=%{customdata[3]}<extra></extra>",
         "legendgroup": "Survey",
         "marker": {
          "color": "#2f4f4f",
          "opacity": 0.9,
          "symbol": "circle"
         },
         "mode": "markers",
         "name": "Survey",
         "orientation": "v",
         "showlegend": true,
         "type": "scatter",
         "x": [
          20.912378,
          -12.778522,
          -12.946221,
          -12.560009,
          -21.535568,
          -31.211416,
          22.690948,
          -0.57723653,
          17.917006,
          -7.605696,
          37.455345,
          6.365909,
          7.7075357,
          -6.875088,
          -28.95959
         ],
         "xaxis": "x",
         "y": [
          21.583511,
          -3.6682608,
          -14.73561,
          16.390364,
          16.162521,
          -17.465977,
          1.4577631,
          24.511917,
          -18.236761,
          22.991095,
          -16.228767,
          -3.662275,
          5.4098434,
          -3.347745,
          -16.886091
         ],
         "yaxis": "y"
        },
        {
         "customdata": [
          [
           "Perovskite Solar Cells Stability",
           0,
           "pub.1165052499",
           ""
          ],
          [
           "Perovskite Solar Cells Stability",
           0,
           "pub.1165045432",
           ""
          ],
          [
           "Perovskite Solar Cells Stability",
           0,
           "pub.1163801313",
           ""
          ],
          [
           "Perovskite Solar Cells Stability",
           0,
           "pub.1149826171",
           ""
          ],
          [
           "Perovskite Solar Cells Stability",
           0,
           "pub.1147021977",
           ""
          ],
          [
           "Perovskite Solar Cells Stability",
           0,
           "pub.1146288953",
           ""
          ],
          [
           "Perovskite Solar Cells Stability",
           0,
           "pub.1146009839",
           ""
          ],
          [
           "Perovskite Solar Cells Stability",
           0,
           "pub.1145696652",
           ""
          ],
          [
           "Perovskite Solar Cells Stability",
           0,
           "pub.1145043743",
           ""
          ],
          [
           "Perovskite Solar Cells Stability",
           0,
           "pub.1144827854",
           ""
          ],
          [
           "Perovskite Solar Cells Stability",
           0,
           "pub.1144465306",
           ""
          ],
          [
           "Perovskite Solar Cells Stability",
           0,
           "pub.1144054488",
           ""
          ],
          [
           "Perovskite Solar Cells Stability",
           0,
           "pub.1174552302",
           ""
          ],
          [
           "Perovskite Solar Cells Stability",
           0,
           "pub.1166074282",
           ""
          ],
          [
           "Perovskite Solar Cells Stability",
           0,
           "pub.1163986255",
           ""
          ],
          [
           "Perovskite Solar Cells Stability",
           0,
           "pub.1160686387",
           ""
          ],
          [
           "Perovskite Solar Cells Stability",
           0,
           "pub.1160324074",
           ""
          ],
          [
           "Perovskite Solar Cells Stability",
           0,
           "pub.1159957570",
           ""
          ],
          [
           "Perovskite Solar Cells Stability",
           0,
           "pub.1158362233",
           ""
          ],
          [
           "Perovskite Solar Cells Stability",
           0,
           "pub.1158048403",
           ""
          ],
          [
           "Perovskite Solar Cells Stability",
           0,
           "pub.1157586280",
           ""
          ],
          [
           "Perovskite Solar Cells Stability",
           0,
           "pub.1155457945",
           ""
          ],
          [
           "Perovskite Solar Cells Stability",
           0,
           "pub.1154888847",
           ""
          ],
          [
           "Perovskite Solar Cells Stability",
           0,
           "pub.1147833193",
           ""
          ],
          [
           "Perovskite Solar Cells Stability",
           0,
           "pub.1147293706",
           ""
          ],
          [
           "Perovskite Solar Cells Stability",
           0,
           "pub.1147185686",
           ""
          ],
          [
           "Perovskite Solar Cells Stability",
           0,
           "pub.1147054891",
           ""
          ],
          [
           "Perovskite Solar Cells Stability",
           0,
           "pub.1146620041",
           ""
          ],
          [
           "Perovskite Solar Cells Stability",
           0,
           "pub.1141876155",
           ""
          ]
         ],
         "hovertemplate": "label=%{customdata[0]}<br>x=%{x}<br>y=%{y}<br>cluster=%{customdata[1]}<br>pub_id=%{customdata[2]}<br>survey_group=%{customdata[3]}<extra></extra>",
         "legendgroup": "Perovskite Solar Cells Stability",
         "marker": {
          "color": "#a0522d",
          "opacity": 0.9,
          "symbol": "circle"
         },
         "mode": "markers",
         "name": "Perovskite Solar Cells Stability",
         "orientation": "v",
         "showlegend": true,
         "type": "scatter",
         "x": [
          20.958437,
          20.903637,
          19.771353,
          20.06164,
          22.53525,
          21.297132,
          19.99645,
          19.80566,
          21.625927,
          19.916931,
          19.214277,
          22.016748,
          21.78749,
          20.777912,
          20.687365,
          20.337473,
          21.007,
          20.578812,
          21.729849,
          20.102705,
          21.350927,
          21.356459,
          20.09185,
          19.25085,
          20.389652,
          20.199202,
          19.194164,
          20.68151,
          19.062284
         ],
         "xaxis": "x",
         "y": [
          19.910328,
          20.630463,
          19.891209,
          17.989635,
          20.1413,
          20.316185,
          20.786182,
          20.504871,
          19.620033,
          19.230728,
          20.072836,
          20.91436,
          20.907091,
          19.529215,
          20.972704,
          20.369919,
          18.955711,
          19.779356,
          19.21349,
          18.062477,
          19.199106,
          18.387814,
          21.002375,
          19.1349,
          19.337702,
          18.861593,
          18.816841,
          18.846336,
          19.918777
         ],
         "yaxis": "y"
        },
        {
         "customdata": [
          [
           "Green Warehousing",
           14,
           "pub.1138791522",
           ""
          ],
          [
           "Green Warehousing",
           14,
           "pub.1130342326",
           ""
          ],
          [
           "Green Warehousing",
           14,
           "pub.1130180156",
           ""
          ],
          [
           "Green Warehousing",
           14,
           "pub.1126001650",
           ""
          ],
          [
           "Green Warehousing",
           14,
           "pub.1123270626",
           ""
          ],
          [
           "Green Warehousing",
           14,
           "pub.1119922340",
           ""
          ],
          [
           "Green Warehousing",
           14,
           "pub.1113285021",
           ""
          ],
          [
           "Green Warehousing",
           14,
           "pub.1112019846",
           ""
          ],
          [
           "Green Warehousing",
           14,
           "pub.1110525171",
           ""
          ],
          [
           "Green Warehousing",
           14,
           "pub.1104201531",
           ""
          ],
          [
           "Green Warehousing",
           14,
           "pub.1103540197",
           ""
          ],
          [
           "Green Warehousing",
           14,
           "pub.1093378447",
           ""
          ],
          [
           "Green Warehousing",
           14,
           "pub.1092850655",
           ""
          ],
          [
           "Green Warehousing",
           14,
           "pub.1090587762",
           ""
          ],
          [
           "Green Warehousing",
           14,
           "pub.1071706254",
           ""
          ],
          [
           "Green Warehousing",
           14,
           "pub.1029079666",
           ""
          ],
          [
           "Green Warehousing",
           14,
           "pub.1026334040",
           ""
          ],
          [
           "Green Warehousing",
           14,
           "pub.1024780163",
           ""
          ],
          [
           "Green Warehousing",
           14,
           "pub.1018121211",
           ""
          ],
          [
           "Green Warehousing",
           14,
           "pub.1015228225",
           ""
          ],
          [
           "Green Warehousing",
           14,
           "pub.1013561216",
           ""
          ],
          [
           "Green Warehousing",
           14,
           "pub.1013525464",
           ""
          ],
          [
           "Green Warehousing",
           14,
           "pub.1002243471",
           ""
          ],
          [
           "Green Warehousing",
           14,
           "pub.1127953927",
           ""
          ],
          [
           "Green Warehousing",
           14,
           "pub.1126155979",
           ""
          ],
          [
           "Green Warehousing",
           14,
           "pub.1125842670",
           ""
          ],
          [
           "Green Warehousing",
           14,
           "pub.1121161391",
           ""
          ],
          [
           "Green Warehousing",
           14,
           "pub.1120216323",
           ""
          ],
          [
           "Green Warehousing",
           14,
           "pub.1120098405",
           ""
          ],
          [
           "Green Warehousing",
           14,
           "pub.1106687077",
           ""
          ],
          [
           "Green Warehousing",
           14,
           "pub.1105183849",
           ""
          ],
          [
           "Green Warehousing",
           14,
           "pub.1099594878",
           ""
          ],
          [
           "Green Warehousing",
           14,
           "pub.1092868344",
           ""
          ],
          [
           "Green Warehousing",
           14,
           "pub.1087177293",
           ""
          ],
          [
           "Green Warehousing",
           14,
           "pub.1067495690",
           ""
          ],
          [
           "Green Warehousing",
           14,
           "pub.1035930497",
           ""
          ],
          [
           "Green Warehousing",
           14,
           "pub.1015425126",
           ""
          ],
          [
           "Green Warehousing",
           14,
           "pub.1008996397",
           ""
          ]
         ],
         "hovertemplate": "label=%{customdata[0]}<br>x=%{x}<br>y=%{y}<br>cluster=%{customdata[1]}<br>pub_id=%{customdata[2]}<br>survey_group=%{customdata[3]}<extra></extra>",
         "legendgroup": "Green Warehousing",
         "marker": {
          "color": "#006400",
          "opacity": 0.9,
          "symbol": "circle"
         },
         "mode": "markers",
         "name": "Green Warehousing",
         "orientation": "v",
         "showlegend": true,
         "type": "scatter",
         "x": [
          -15.5285845,
          -12.14271,
          -17.91289,
          -16.953255,
          -12.637028,
          -16.972872,
          -12.842388,
          -17.009834,
          -15.741904,
          -15.688989,
          -12.193466,
          -15.730463,
          -17.591623,
          -14.165357,
          -14.773469,
          -14.170215,
          -13.78052,
          -13.930672,
          -16.173323,
          -15.527713,
          -11.257283,
          -17.254265,
          -13.939149,
          -12.651099,
          -14.46838,
          -13.437932,
          -12.512596,
          -13.467191,
          -16.649717,
          -12.703688,
          -11.738188,
          -17.68641,
          -16.95145,
          -12.795085,
          -13.131107,
          -13.891263,
          -16.436615,
          -12.9845495
         ],
         "xaxis": "x",
         "y": [
          -1.7464932,
          -4.345081,
          -0.55356276,
          -1.3440791,
          -4.4388638,
          -3.0701423,
          -3.638299,
          -0.46445444,
          -5.0989423,
          -1.5722611,
          -4.542662,
          -5.1133595,
          -0.8145221,
          -1.1327091,
          -3.1980412,
          -1.483814,
          -2.4446084,
          -3.1466074,
          0.046111736,
          -2.7705383,
          -4.3316016,
          -2.1413696,
          -1.5427094,
          -4.4427676,
          -2.2442102,
          -2.7178886,
          -5.206111,
          -3.9782348,
          -2.7502742,
          -1.9558463,
          -3.086748,
          -0.07684007,
          -1.5781901,
          -2.208695,
          -1.568953,
          -3.4591043,
          -1.7673475,
          -2.8470707
         ],
         "yaxis": "y"
        },
        {
         "customdata": [
          [
           "AI on Edge Devices",
           7,
           "pub.1128852448",
           ""
          ],
          [
           "AI on Edge Devices",
           7,
           "pub.1128479095",
           ""
          ],
          [
           "AI on Edge Devices",
           7,
           "pub.1127250882",
           ""
          ],
          [
           "AI on Edge Devices",
           7,
           "pub.1126481351",
           ""
          ],
          [
           "AI on Edge Devices",
           7,
           "pub.1125925617",
           ""
          ],
          [
           "AI on Edge Devices",
           7,
           "pub.1124148063",
           ""
          ],
          [
           "AI on Edge Devices",
           7,
           "pub.1122515167",
           ""
          ],
          [
           "AI on Edge Devices",
           7,
           "pub.1122235047",
           ""
          ],
          [
           "AI on Edge Devices",
           7,
           "pub.1121932678",
           ""
          ],
          [
           "AI on Edge Devices",
           7,
           "pub.1121194812",
           ""
          ],
          [
           "AI on Edge Devices",
           7,
           "pub.1118735394",
           ""
          ],
          [
           "AI on Edge Devices",
           7,
           "pub.1118023870",
           ""
          ],
          [
           "AI on Edge Devices",
           7,
           "pub.1117920554",
           ""
          ],
          [
           "AI on Edge Devices",
           1,
           "pub.1114352564",
           ""
          ],
          [
           "AI on Edge Devices",
           7,
           "pub.1112862699",
           ""
          ],
          [
           "AI on Edge Devices",
           7,
           "pub.1110420318",
           ""
          ],
          [
           "AI on Edge Devices",
           7,
           "pub.1104338333",
           ""
          ],
          [
           "AI on Edge Devices",
           7,
           "pub.1100673785",
           ""
          ],
          [
           "AI on Edge Devices",
           7,
           "pub.1083507587",
           ""
          ],
          [
           "AI on Edge Devices",
           7,
           "pub.1128716869",
           ""
          ],
          [
           "AI on Edge Devices",
           7,
           "pub.1125166251",
           ""
          ],
          [
           "AI on Edge Devices",
           7,
           "pub.1125166037",
           ""
          ],
          [
           "AI on Edge Devices",
           7,
           "pub.1124436340",
           ""
          ],
          [
           "AI on Edge Devices",
           7,
           "pub.1124081996",
           ""
          ],
          [
           "AI on Edge Devices",
           7,
           "pub.1123810093",
           ""
          ],
          [
           "AI on Edge Devices",
           7,
           "pub.1122596363",
           ""
          ],
          [
           "AI on Edge Devices",
           7,
           "pub.1122519012",
           ""
          ],
          [
           "AI on Edge Devices",
           7,
           "pub.1122068746",
           ""
          ],
          [
           "AI on Edge Devices",
           7,
           "pub.1121628094",
           ""
          ],
          [
           "AI on Edge Devices",
           7,
           "pub.1116154247",
           ""
          ],
          [
           "AI on Edge Devices",
           7,
           "pub.1113065842",
           ""
          ],
          [
           "AI on Edge Devices",
           7,
           "pub.1110363845",
           ""
          ],
          [
           "AI on Edge Devices",
           7,
           "pub.1107023934",
           ""
          ],
          [
           "AI on Edge Devices",
           7,
           "pub.1106394770",
           ""
          ],
          [
           "AI on Edge Devices",
           7,
           "pub.1103977084",
           ""
          ],
          [
           "AI on Edge Devices",
           7,
           "pub.1094646899",
           ""
          ]
         ],
         "hovertemplate": "label=%{customdata[0]}<br>x=%{x}<br>y=%{y}<br>cluster=%{customdata[1]}<br>pub_id=%{customdata[2]}<br>survey_group=%{customdata[3]}<extra></extra>",
         "legendgroup": "AI on Edge Devices",
         "marker": {
          "color": "#000080",
          "opacity": 0.9,
          "symbol": "circle"
         },
         "mode": "markers",
         "name": "AI on Edge Devices",
         "orientation": "v",
         "showlegend": true,
         "type": "scatter",
         "x": [
          -10.712537,
          -7.109883,
          -5.1325784,
          -5.4895525,
          -10.493564,
          -9.526,
          -7.899115,
          -7.384363,
          -8.268375,
          -9.014466,
          -10.197491,
          -8.646807,
          -5.816078,
          -10.2704115,
          -7.9800243,
          -8.467808,
          -5.4375014,
          -6.9246182,
          -7.3506975,
          -10.117519,
          -3.7709937,
          -6.6875033,
          -7.629863,
          -6.6089597,
          -6.5689445,
          -6.468356,
          -4.6460667,
          -8.970129,
          -8.4405575,
          -6.8316693,
          -6.111193,
          -8.999873,
          -5.4991755,
          -7.207913,
          -6.8293805,
          -4.768847
         ],
         "xaxis": "x",
         "y": [
          19.673435,
          23.2831,
          22.317993,
          21.410444,
          23.327625,
          23.23357,
          21.247904,
          21.989763,
          22.380661,
          22.453934,
          23.943113,
          24.889996,
          23.693476,
          19.595932,
          25.076006,
          23.747164,
          25.02512,
          22.9963,
          24.175482,
          23.114153,
          24.497377,
          23.926683,
          22.500027,
          25.004261,
          22.678278,
          21.846254,
          21.056326,
          24.379854,
          22.111927,
          21.938908,
          22.723888,
          23.063208,
          21.189165,
          22.553549,
          23.604343,
          24.764019
         ],
         "yaxis": "y"
        },
        {
         "customdata": [
          [
           "Energy Growth Nexus",
           5,
           "pub.1123961798",
           ""
          ],
          [
           "Energy Growth Nexus",
           5,
           "pub.1052820957",
           ""
          ],
          [
           "Energy Growth Nexus",
           5,
           "pub.1050136415",
           ""
          ],
          [
           "Energy Growth Nexus",
           5,
           "pub.1048730269",
           ""
          ],
          [
           "Energy Growth Nexus",
           5,
           "pub.1047256779",
           ""
          ],
          [
           "Energy Growth Nexus",
           5,
           "pub.1045412034",
           ""
          ],
          [
           "Energy Growth Nexus",
           5,
           "pub.1042544661",
           ""
          ],
          [
           "Energy Growth Nexus",
           5,
           "pub.1042017662",
           ""
          ],
          [
           "Energy Growth Nexus",
           5,
           "pub.1041338787",
           ""
          ],
          [
           "Energy Growth Nexus",
           5,
           "pub.1036973953",
           ""
          ],
          [
           "Energy Growth Nexus",
           5,
           "pub.1022049865",
           ""
          ],
          [
           "Energy Growth Nexus",
           5,
           "pub.1021980170",
           ""
          ],
          [
           "Energy Growth Nexus",
           5,
           "pub.1009749897",
           ""
          ],
          [
           "Energy Growth Nexus",
           5,
           "pub.1009651790",
           ""
          ],
          [
           "Energy Growth Nexus",
           5,
           "pub.1009389919",
           ""
          ],
          [
           "Energy Growth Nexus",
           5,
           "pub.1006191975",
           ""
          ],
          [
           "Energy Growth Nexus",
           5,
           "pub.1002720309",
           ""
          ],
          [
           "Energy Growth Nexus",
           5,
           "pub.1053441851",
           ""
          ],
          [
           "Energy Growth Nexus",
           5,
           "pub.1052542598",
           ""
          ],
          [
           "Energy Growth Nexus",
           5,
           "pub.1051802627",
           ""
          ],
          [
           "Energy Growth Nexus",
           5,
           "pub.1040160107",
           ""
          ],
          [
           "Energy Growth Nexus",
           5,
           "pub.1032217726",
           ""
          ],
          [
           "Energy Growth Nexus",
           5,
           "pub.1031321996",
           ""
          ],
          [
           "Energy Growth Nexus",
           5,
           "pub.1024937016",
           ""
          ],
          [
           "Energy Growth Nexus",
           5,
           "pub.1013831878",
           ""
          ],
          [
           "Energy Growth Nexus",
           5,
           "pub.1006882307",
           ""
          ],
          [
           "Energy Growth Nexus",
           5,
           "pub.1005732591",
           ""
          ]
         ],
         "hovertemplate": "label=%{customdata[0]}<br>x=%{x}<br>y=%{y}<br>cluster=%{customdata[1]}<br>pub_id=%{customdata[2]}<br>survey_group=%{customdata[3]}<extra></extra>",
         "legendgroup": "Energy Growth Nexus",
         "marker": {
          "color": "#ff0000",
          "opacity": 0.9,
          "symbol": "circle"
         },
         "mode": "markers",
         "name": "Energy Growth Nexus",
         "orientation": "v",
         "showlegend": true,
         "type": "scatter",
         "x": [
          -29.619215,
          -27.119108,
          -28.936153,
          -28.56304,
          -29.755577,
          -28.865206,
          -30.411034,
          -28.731451,
          -28.551891,
          -30.340885,
          -28.520054,
          -27.201588,
          -30.212736,
          -28.611683,
          -27.910145,
          -27.81607,
          -27.41347,
          -28.384953,
          -27.472843,
          -29.32131,
          -28.483587,
          -27.344082,
          -28.80024,
          -30.34533,
          -29.36899,
          -27.578905,
          -29.542511
         ],
         "xaxis": "x",
         "y": [
          -17.392397,
          -16.641897,
          -14.81268,
          -14.818126,
          -14.169518,
          -14.338987,
          -12.878226,
          -16.759043,
          -15.37485,
          -12.875479,
          -15.492431,
          -14.882232,
          -12.860303,
          -14.665558,
          -14.784154,
          -13.65701,
          -16.169315,
          -14.2007885,
          -15.794325,
          -15.331909,
          -14.924234,
          -14.286926,
          -12.856517,
          -12.918751,
          -13.312551,
          -13.261483,
          -15.672836
         ],
         "yaxis": "y"
        },
        {
         "customdata": [
          [
           "Drones in Agriculture",
           1,
           "pub.1113441179",
           ""
          ],
          [
           "Drones in Agriculture",
           1,
           "pub.1094775321",
           ""
          ],
          [
           "Drones in Agriculture",
           1,
           "pub.1092454498",
           ""
          ],
          [
           "Drones in Agriculture",
           1,
           "pub.1086143194",
           ""
          ],
          [
           "Drones in Agriculture",
           1,
           "pub.1071268140",
           ""
          ],
          [
           "Drones in Agriculture",
           1,
           "pub.1064896140",
           ""
          ],
          [
           "Drones in Agriculture",
           1,
           "pub.1064892999",
           ""
          ],
          [
           "Drones in Agriculture",
           1,
           "pub.1032694598",
           ""
          ],
          [
           "Drones in Agriculture",
           1,
           "pub.1022922533",
           ""
          ],
          [
           "Drones in Agriculture",
           1,
           "pub.1013849273",
           ""
          ],
          [
           "Drones in Agriculture",
           1,
           "pub.1007471000",
           ""
          ],
          [
           "Drones in Agriculture",
           1,
           "pub.1002161636",
           ""
          ],
          [
           "Drones in Agriculture",
           1,
           "pub.1000225286",
           ""
          ],
          [
           "Drones in Agriculture",
           1,
           "pub.1061610686",
           ""
          ],
          [
           "Drones in Agriculture",
           1,
           "pub.1061280901",
           ""
          ],
          [
           "Drones in Agriculture",
           1,
           "pub.1052390127",
           ""
          ],
          [
           "Drones in Agriculture",
           1,
           "pub.1028947023",
           ""
          ],
          [
           "Drones in Agriculture",
           1,
           "pub.1027978650",
           ""
          ],
          [
           "Drones in Agriculture",
           1,
           "pub.1025608752",
           ""
          ],
          [
           "Drones in Agriculture",
           1,
           "pub.1023847193",
           ""
          ],
          [
           "Drones in Agriculture",
           1,
           "pub.1020655667",
           ""
          ],
          [
           "Drones in Agriculture",
           1,
           "pub.1014003350",
           ""
          ],
          [
           "Drones in Agriculture",
           1,
           "pub.1010901465",
           ""
          ],
          [
           "Drones in Agriculture",
           1,
           "pub.1007702481",
           ""
          ],
          [
           "Drones in Agriculture",
           1,
           "pub.1003882381",
           ""
          ]
         ],
         "hovertemplate": "label=%{customdata[0]}<br>x=%{x}<br>y=%{y}<br>cluster=%{customdata[1]}<br>pub_id=%{customdata[2]}<br>survey_group=%{customdata[3]}<extra></extra>",
         "legendgroup": "Drones in Agriculture",
         "marker": {
          "color": "#00ced1",
          "opacity": 0.9,
          "symbol": "circle"
         },
         "mode": "markers",
         "name": "Drones in Agriculture",
         "orientation": "v",
         "showlegend": true,
         "type": "scatter",
         "x": [
          -11.940113,
          -11.598568,
          -13.898595,
          -16.2558,
          -14.462735,
          -13.028623,
          -14.227392,
          -13.721908,
          -14.269978,
          -11.355193,
          -16.292963,
          -14.969769,
          -14.895747,
          -14.086194,
          -11.774385,
          -14.272018,
          -12.349193,
          -13.594619,
          -13.265406,
          -12.650191,
          -13.373781,
          -12.80072,
          -13.191777,
          -14.55116,
          -14.583788
         ],
         "xaxis": "x",
         "y": [
          16.771894,
          18.65762,
          16.35498,
          16.986238,
          15.302403,
          13.488083,
          13.856309,
          15.584105,
          15.99367,
          16.803196,
          15.005856,
          15.523536,
          15.722105,
          15.352174,
          16.857695,
          15.816973,
          15.016062,
          15.232402,
          15.02262,
          14.365449,
          16.203085,
          14.60489,
          16.82616,
          14.921831,
          16.435793
         ],
         "yaxis": "y"
        },
        {
         "customdata": [
          [
           "Crop Yield Prediction",
           8,
           "pub.1112087374",
           ""
          ],
          [
           "Crop Yield Prediction",
           8,
           "pub.1111503060",
           ""
          ],
          [
           "Crop Yield Prediction",
           8,
           "pub.1107925034",
           ""
          ],
          [
           "Crop Yield Prediction",
           8,
           "pub.1107298395",
           ""
          ],
          [
           "Crop Yield Prediction",
           8,
           "pub.1106988165",
           ""
          ],
          [
           "Crop Yield Prediction",
           8,
           "pub.1106034026",
           ""
          ],
          [
           "Crop Yield Prediction",
           8,
           "pub.1105035509",
           ""
          ],
          [
           "Crop Yield Prediction",
           8,
           "pub.1103323054",
           ""
          ],
          [
           "Crop Yield Prediction",
           8,
           "pub.1103286049",
           ""
          ],
          [
           "Crop Yield Prediction",
           8,
           "pub.1095777829",
           ""
          ],
          [
           "Crop Yield Prediction",
           8,
           "pub.1095337245",
           ""
          ],
          [
           "Crop Yield Prediction",
           8,
           "pub.1094455706",
           ""
          ],
          [
           "Crop Yield Prediction",
           8,
           "pub.1094154280",
           ""
          ],
          [
           "Crop Yield Prediction",
           8,
           "pub.1093448171",
           ""
          ],
          [
           "Crop Yield Prediction",
           8,
           "pub.1087231057",
           ""
          ],
          [
           "Crop Yield Prediction",
           8,
           "pub.1085732641",
           ""
          ],
          [
           "Crop Yield Prediction",
           8,
           "pub.1085640773",
           ""
          ],
          [
           "Crop Yield Prediction",
           8,
           "pub.1083753722",
           ""
          ],
          [
           "Crop Yield Prediction",
           8,
           "pub.1072842102",
           ""
          ],
          [
           "Crop Yield Prediction",
           8,
           "pub.1061334272",
           ""
          ],
          [
           "Crop Yield Prediction",
           8,
           "pub.1040894579",
           ""
          ],
          [
           "Crop Yield Prediction",
           8,
           "pub.1016061586",
           ""
          ],
          [
           "Crop Yield Prediction",
           8,
           "pub.1013313926",
           ""
          ],
          [
           "Crop Yield Prediction",
           8,
           "pub.1011532234",
           ""
          ],
          [
           "Crop Yield Prediction",
           8,
           "pub.1003896548",
           ""
          ],
          [
           "Crop Yield Prediction",
           8,
           "pub.1003708746",
           ""
          ],
          [
           "Crop Yield Prediction",
           8,
           "pub.1001065952",
           ""
          ],
          [
           "Crop Yield Prediction",
           8,
           "pub.1111269831",
           ""
          ],
          [
           "Crop Yield Prediction",
           8,
           "pub.1106284861",
           ""
          ],
          [
           "Crop Yield Prediction",
           8,
           "pub.1105144504",
           ""
          ],
          [
           "Crop Yield Prediction",
           8,
           "pub.1105021375",
           ""
          ],
          [
           "Crop Yield Prediction",
           8,
           "pub.1103481417",
           ""
          ],
          [
           "Crop Yield Prediction",
           8,
           "pub.1094483007",
           ""
          ],
          [
           "Crop Yield Prediction",
           8,
           "pub.1093670904",
           ""
          ],
          [
           "Crop Yield Prediction",
           8,
           "pub.1093207217",
           ""
          ],
          [
           "Crop Yield Prediction",
           8,
           "pub.1084919232",
           ""
          ],
          [
           "Crop Yield Prediction",
           8,
           "pub.1083415540",
           ""
          ],
          [
           "Crop Yield Prediction",
           8,
           "pub.1061614459",
           ""
          ],
          [
           "Crop Yield Prediction",
           8,
           "pub.1041052930",
           ""
          ],
          [
           "Crop Yield Prediction",
           8,
           "pub.1033490641",
           ""
          ],
          [
           "Crop Yield Prediction",
           8,
           "pub.1033258084",
           ""
          ],
          [
           "Crop Yield Prediction",
           8,
           "pub.1031921576",
           ""
          ],
          [
           "Crop Yield Prediction",
           8,
           "pub.1028808547",
           ""
          ],
          [
           "Crop Yield Prediction",
           8,
           "pub.1005691069",
           ""
          ],
          [
           "Crop Yield Prediction",
           8,
           "pub.1004965338",
           ""
          ],
          [
           "Crop Yield Prediction",
           8,
           "pub.1001894773",
           ""
          ]
         ],
         "hovertemplate": "label=%{customdata[0]}<br>x=%{x}<br>y=%{y}<br>cluster=%{customdata[1]}<br>pub_id=%{customdata[2]}<br>survey_group=%{customdata[3]}<extra></extra>",
         "legendgroup": "Crop Yield Prediction",
         "marker": {
          "color": "#ffa500",
          "opacity": 0.9,
          "symbol": "circle"
         },
         "mode": "markers",
         "name": "Crop Yield Prediction",
         "orientation": "v",
         "showlegend": true,
         "type": "scatter",
         "x": [
          -19.979279,
          -19.376259,
          -21.529158,
          -21.671585,
          -21.416662,
          -19.744879,
          -21.141945,
          -19.344109,
          -21.96073,
          -22.334948,
          -21.264439,
          -23.384155,
          -22.618507,
          -22.434416,
          -21.269188,
          -19.110943,
          -21.194683,
          -19.063955,
          -21.449247,
          -18.195993,
          -20.433498,
          -21.666216,
          -19.552301,
          -20.673368,
          -20.834595,
          -20.378859,
          -20.953049,
          -20.335026,
          -19.755823,
          -22.018358,
          -19.618912,
          -22.038322,
          -22.7719,
          -23.698387,
          -23.306828,
          -23.855354,
          -22.726238,
          -19.56257,
          -19.48215,
          -18.494566,
          -20.140398,
          -21.606428,
          -21.450342,
          -22.192608,
          -19.254147,
          -20.515942
         ],
         "xaxis": "x",
         "y": [
          13.756943,
          14.605189,
          14.309997,
          13.723211,
          16.413704,
          15.012526,
          15.376603,
          19.354074,
          18.644175,
          17.013985,
          17.638388,
          16.253944,
          16.265615,
          15.25003,
          18.425835,
          15.96413,
          13.028108,
          19.170856,
          15.938687,
          14.91791,
          16.663708,
          17.08573,
          18.830746,
          17.353456,
          14.73598,
          16.675377,
          15.790243,
          15.529377,
          15.805445,
          12.98409,
          16.9943,
          15.682337,
          15.945166,
          16.433825,
          15.129136,
          16.308622,
          14.547019,
          17.935038,
          18.888163,
          13.684571,
          15.215383,
          13.28891,
          13.282513,
          17.558819,
          16.499025,
          16.117004
         ],
         "yaxis": "y"
        },
        {
         "customdata": [
          [
           "Sustainable Biofuel",
           9,
           "pub.1107587297",
           ""
          ],
          [
           "Sustainable Biofuel",
           4,
           "pub.1100466182",
           ""
          ],
          [
           "Sustainable Biofuel",
           4,
           "pub.1072974020",
           ""
          ],
          [
           "Sustainable Biofuel",
           4,
           "pub.1061936485",
           ""
          ],
          [
           "Sustainable Biofuel",
           4,
           "pub.1059379956",
           ""
          ],
          [
           "Sustainable Biofuel",
           9,
           "pub.1052527949",
           ""
          ],
          [
           "Sustainable Biofuel",
           9,
           "pub.1050772383",
           ""
          ],
          [
           "Sustainable Biofuel",
           4,
           "pub.1046534403",
           ""
          ],
          [
           "Sustainable Biofuel",
           4,
           "pub.1042117532",
           ""
          ],
          [
           "Sustainable Biofuel",
           4,
           "pub.1040677299",
           ""
          ],
          [
           "Sustainable Biofuel",
           4,
           "pub.1037107713",
           ""
          ],
          [
           "Sustainable Biofuel",
           9,
           "pub.1034672998",
           ""
          ],
          [
           "Sustainable Biofuel",
           4,
           "pub.1029572917",
           ""
          ],
          [
           "Sustainable Biofuel",
           9,
           "pub.1024929365",
           ""
          ],
          [
           "Sustainable Biofuel",
           9,
           "pub.1023297174",
           ""
          ],
          [
           "Sustainable Biofuel",
           4,
           "pub.1023206201",
           ""
          ],
          [
           "Sustainable Biofuel",
           9,
           "pub.1019705090",
           ""
          ],
          [
           "Sustainable Biofuel",
           9,
           "pub.1015524088",
           ""
          ],
          [
           "Sustainable Biofuel",
           9,
           "pub.1011757946",
           ""
          ],
          [
           "Sustainable Biofuel",
           4,
           "pub.1003364215",
           ""
          ],
          [
           "Sustainable Biofuel",
           9,
           "pub.1128580761",
           ""
          ],
          [
           "Sustainable Biofuel",
           9,
           "pub.1125099402",
           ""
          ],
          [
           "Sustainable Biofuel",
           9,
           "pub.1122753999",
           ""
          ],
          [
           "Sustainable Biofuel",
           4,
           "pub.1113705995",
           ""
          ],
          [
           "Sustainable Biofuel",
           9,
           "pub.1111976854",
           ""
          ],
          [
           "Sustainable Biofuel",
           9,
           "pub.1111565453",
           ""
          ],
          [
           "Sustainable Biofuel",
           9,
           "pub.1104374325",
           ""
          ],
          [
           "Sustainable Biofuel",
           4,
           "pub.1103810413",
           ""
          ],
          [
           "Sustainable Biofuel",
           4,
           "pub.1101561277",
           ""
          ],
          [
           "Sustainable Biofuel",
           4,
           "pub.1100248345",
           ""
          ],
          [
           "Sustainable Biofuel",
           4,
           "pub.1061934170",
           ""
          ],
          [
           "Sustainable Biofuel",
           4,
           "pub.1061934137",
           ""
          ],
          [
           "Sustainable Biofuel",
           4,
           "pub.1059570180",
           ""
          ],
          [
           "Sustainable Biofuel",
           9,
           "pub.1052968606",
           ""
          ],
          [
           "Sustainable Biofuel",
           4,
           "pub.1049492388",
           ""
          ],
          [
           "Sustainable Biofuel",
           9,
           "pub.1048939047",
           ""
          ],
          [
           "Sustainable Biofuel",
           4,
           "pub.1047356473",
           ""
          ],
          [
           "Sustainable Biofuel",
           9,
           "pub.1044581237",
           ""
          ],
          [
           "Sustainable Biofuel",
           4,
           "pub.1038072171",
           ""
          ],
          [
           "Sustainable Biofuel",
           9,
           "pub.1034625256",
           ""
          ],
          [
           "Sustainable Biofuel",
           9,
           "pub.1033108925",
           ""
          ],
          [
           "Sustainable Biofuel",
           9,
           "pub.1029649992",
           ""
          ],
          [
           "Sustainable Biofuel",
           4,
           "pub.1026369526",
           ""
          ],
          [
           "Sustainable Biofuel",
           4,
           "pub.1019951181",
           ""
          ],
          [
           "Sustainable Biofuel",
           9,
           "pub.1019376553",
           ""
          ],
          [
           "Sustainable Biofuel",
           4,
           "pub.1014664202",
           ""
          ],
          [
           "Sustainable Biofuel",
           9,
           "pub.1009832103",
           ""
          ],
          [
           "Sustainable Biofuel",
           9,
           "pub.1009744782",
           ""
          ],
          [
           "Sustainable Biofuel",
           4,
           "pub.1004602535",
           ""
          ],
          [
           "Sustainable Biofuel",
           9,
           "pub.1002495312",
           ""
          ]
         ],
         "hovertemplate": "label=%{customdata[0]}<br>x=%{x}<br>y=%{y}<br>cluster=%{customdata[1]}<br>pub_id=%{customdata[2]}<br>survey_group=%{customdata[3]}<extra></extra>",
         "legendgroup": "Sustainable Biofuel",
         "marker": {
          "color": "#ffff00",
          "opacity": 0.9,
          "symbol": "circle"
         },
         "mode": "markers",
         "name": "Sustainable Biofuel",
         "orientation": "v",
         "showlegend": true,
         "type": "scatter",
         "x": [
          -8.435747,
          -10.4935055,
          -13.8991585,
          -14.580264,
          -14.805952,
          -11.075951,
          -10.628997,
          -12.196375,
          -13.901128,
          -12.728635,
          -13.584303,
          -11.719699,
          -12.165212,
          -10.193321,
          -10.080461,
          -11.264987,
          -10.574345,
          -10.406515,
          -9.080618,
          -12.676224,
          -8.643476,
          -8.497857,
          -9.656225,
          -12.76327,
          -9.210561,
          -8.947772,
          -10.17672,
          -12.637656,
          -12.628057,
          -12.186789,
          -13.686378,
          -14.137006,
          -13.83846,
          -9.190701,
          -13.284076,
          -10.223682,
          -14.980287,
          -12.086744,
          -13.046876,
          -9.722387,
          -10.760308,
          -8.40594,
          -12.891133,
          -14.580549,
          -10.251806,
          -14.798684,
          -8.378836,
          -9.097422,
          -15.414675,
          -11.592276
         ],
         "xaxis": "x",
         "y": [
          -17.614033,
          -13.935189,
          -14.234886,
          -13.522382,
          -13.951341,
          -15.343338,
          -17.765682,
          -13.913292,
          -15.061105,
          -11.812898,
          -13.679684,
          -16.46522,
          -14.745194,
          -13.650124,
          -15.746483,
          -15.647096,
          -16.557823,
          -14.181057,
          -16.251284,
          -11.697998,
          -16.272615,
          -15.851389,
          -14.548295,
          -14.494991,
          -17.6721,
          -16.305042,
          -18.316034,
          -15.085484,
          -12.375425,
          -11.492217,
          -13.601053,
          -15.097337,
          -13.909363,
          -17.422527,
          -15.741086,
          -16.067997,
          -14.435151,
          -11.620105,
          -13.788935,
          -16.617275,
          -17.95788,
          -17.40129,
          -16.675098,
          -15.939505,
          -15.792168,
          -16.169006,
          -16.706858,
          -16.529736,
          -14.359868,
          -16.9383
         ],
         "yaxis": "y"
        },
        {
         "customdata": [
          [
           "Robotic Arthroplasty",
           2,
           "pub.1107054942",
           ""
          ],
          [
           "Robotic Arthroplasty",
           2,
           "pub.1105926995",
           ""
          ],
          [
           "Robotic Arthroplasty",
           2,
           "pub.1092914867",
           ""
          ],
          [
           "Robotic Arthroplasty",
           2,
           "pub.1092198359",
           ""
          ],
          [
           "Robotic Arthroplasty",
           2,
           "pub.1083695994",
           ""
          ],
          [
           "Robotic Arthroplasty",
           2,
           "pub.1077881457",
           ""
          ],
          [
           "Robotic Arthroplasty",
           2,
           "pub.1068898169",
           ""
          ],
          [
           "Robotic Arthroplasty",
           2,
           "pub.1068895745",
           ""
          ],
          [
           "Robotic Arthroplasty",
           2,
           "pub.1060167437",
           ""
          ],
          [
           "Robotic Arthroplasty",
           2,
           "pub.1060167433",
           ""
          ],
          [
           "Robotic Arthroplasty",
           2,
           "pub.1053567618",
           ""
          ],
          [
           "Robotic Arthroplasty",
           2,
           "pub.1053428144",
           ""
          ],
          [
           "Robotic Arthroplasty",
           2,
           "pub.1041693000",
           ""
          ],
          [
           "Robotic Arthroplasty",
           2,
           "pub.1040431710",
           ""
          ],
          [
           "Robotic Arthroplasty",
           2,
           "pub.1039984345",
           ""
          ],
          [
           "Robotic Arthroplasty",
           2,
           "pub.1036848872",
           ""
          ],
          [
           "Robotic Arthroplasty",
           2,
           "pub.1034566767",
           ""
          ],
          [
           "Robotic Arthroplasty",
           2,
           "pub.1033569916",
           ""
          ],
          [
           "Robotic Arthroplasty",
           2,
           "pub.1028449260",
           ""
          ],
          [
           "Robotic Arthroplasty",
           2,
           "pub.1014011841",
           ""
          ],
          [
           "Robotic Arthroplasty",
           2,
           "pub.1012736542",
           ""
          ],
          [
           "Robotic Arthroplasty",
           2,
           "pub.1003009109",
           ""
          ],
          [
           "Robotic Arthroplasty",
           2,
           "pub.1123098811",
           ""
          ],
          [
           "Robotic Arthroplasty",
           2,
           "pub.1121440882",
           ""
          ],
          [
           "Robotic Arthroplasty",
           2,
           "pub.1111052246",
           ""
          ],
          [
           "Robotic Arthroplasty",
           2,
           "pub.1107454237",
           ""
          ],
          [
           "Robotic Arthroplasty",
           2,
           "pub.1105917414",
           ""
          ],
          [
           "Robotic Arthroplasty",
           2,
           "pub.1105227244",
           ""
          ],
          [
           "Robotic Arthroplasty",
           2,
           "pub.1101146035",
           ""
          ],
          [
           "Robotic Arthroplasty",
           2,
           "pub.1100744263",
           ""
          ],
          [
           "Robotic Arthroplasty",
           2,
           "pub.1091777297",
           ""
          ],
          [
           "Robotic Arthroplasty",
           2,
           "pub.1085617296",
           ""
          ],
          [
           "Robotic Arthroplasty",
           2,
           "pub.1085423980",
           ""
          ],
          [
           "Robotic Arthroplasty",
           2,
           "pub.1064886544",
           ""
          ],
          [
           "Robotic Arthroplasty",
           2,
           "pub.1061784304",
           ""
          ],
          [
           "Robotic Arthroplasty",
           2,
           "pub.1061184595",
           ""
          ],
          [
           "Robotic Arthroplasty",
           2,
           "pub.1051764285",
           ""
          ],
          [
           "Robotic Arthroplasty",
           2,
           "pub.1048135360",
           ""
          ],
          [
           "Robotic Arthroplasty",
           2,
           "pub.1047113435",
           ""
          ],
          [
           "Robotic Arthroplasty",
           2,
           "pub.1046566936",
           ""
          ],
          [
           "Robotic Arthroplasty",
           2,
           "pub.1045115204",
           ""
          ],
          [
           "Robotic Arthroplasty",
           2,
           "pub.1033163258",
           ""
          ],
          [
           "Robotic Arthroplasty",
           2,
           "pub.1030382394",
           ""
          ],
          [
           "Robotic Arthroplasty",
           2,
           "pub.1023819845",
           ""
          ],
          [
           "Robotic Arthroplasty",
           2,
           "pub.1022546608",
           ""
          ],
          [
           "Robotic Arthroplasty",
           2,
           "pub.1020705223",
           ""
          ],
          [
           "Robotic Arthroplasty",
           2,
           "pub.1000309245",
           ""
          ]
         ],
         "hovertemplate": "label=%{customdata[0]}<br>x=%{x}<br>y=%{y}<br>cluster=%{customdata[1]}<br>pub_id=%{customdata[2]}<br>survey_group=%{customdata[3]}<extra></extra>",
         "legendgroup": "Robotic Arthroplasty",
         "marker": {
          "color": "#00ff00",
          "opacity": 0.9,
          "symbol": "circle"
         },
         "mode": "markers",
         "name": "Robotic Arthroplasty",
         "orientation": "v",
         "showlegend": true,
         "type": "scatter",
         "x": [
          19.19516,
          19.766855,
          18.994709,
          21.772926,
          20.905169,
          17.869041,
          19.422117,
          20.846096,
          20.343939,
          18.548407,
          21.296028,
          18.85929,
          21.396275,
          19.317295,
          20.80956,
          22.509686,
          17.636948,
          22.110378,
          20.090837,
          19.138052,
          22.112257,
          20.537634,
          19.741095,
          19.560091,
          20.237673,
          21.356586,
          19.211267,
          20.435658,
          20.297626,
          20.872313,
          19.519915,
          21.72427,
          21.140339,
          18.937319,
          17.610888,
          19.391773,
          18.15281,
          19.65885,
          18.435074,
          20.159899,
          19.56299,
          20.447222,
          18.548637,
          21.158966,
          18.67435,
          20.714872,
          20.51401
         ],
         "xaxis": "x",
         "y": [
          -21.095753,
          -22.920702,
          -20.993082,
          -21.632746,
          -22.922113,
          -19.28488,
          -22.342617,
          -19.360054,
          -17.990746,
          -19.626118,
          -21.740082,
          -19.080442,
          -18.433659,
          -19.967457,
          -23.904469,
          -19.415674,
          -20.448917,
          -19.715721,
          -22.952662,
          -22.904476,
          -19.795788,
          -19.702562,
          -22.387716,
          -20.264713,
          -22.090216,
          -19.644892,
          -21.74783,
          -21.383793,
          -22.51052,
          -22.931993,
          -23.460928,
          -19.753399,
          -21.053102,
          -18.590322,
          -20.486046,
          -17.735947,
          -21.478857,
          -20.080135,
          -22.382505,
          -20.715267,
          -18.718674,
          -17.94541,
          -23.483967,
          -19.10086,
          -23.572834,
          -20.798473,
          -20.909306
         ],
         "yaxis": "y"
        },
        {
         "customdata": [
          [
           "Soft Robotics",
           6,
           "pub.1099769159",
           ""
          ],
          [
           "Soft Robotics",
           6,
           "pub.1091247330",
           ""
          ],
          [
           "Soft Robotics",
           6,
           "pub.1085727340",
           ""
          ],
          [
           "Soft Robotics",
           6,
           "pub.1071553028",
           ""
          ],
          [
           "Soft Robotics",
           6,
           "pub.1063202700",
           ""
          ],
          [
           "Soft Robotics",
           6,
           "pub.1061784814",
           ""
          ],
          [
           "Soft Robotics",
           6,
           "pub.1061419831",
           ""
          ],
          [
           "Soft Robotics",
           6,
           "pub.1061419786",
           ""
          ],
          [
           "Soft Robotics",
           6,
           "pub.1052588601",
           ""
          ],
          [
           "Soft Robotics",
           3,
           "pub.1047578355",
           ""
          ],
          [
           "Soft Robotics",
           6,
           "pub.1046414848",
           ""
          ],
          [
           "Soft Robotics",
           6,
           "pub.1037299542",
           ""
          ],
          [
           "Soft Robotics",
           6,
           "pub.1032973919",
           ""
          ],
          [
           "Soft Robotics",
           6,
           "pub.1022244206",
           ""
          ],
          [
           "Soft Robotics",
           6,
           "pub.1021059830",
           ""
          ],
          [
           "Soft Robotics",
           6,
           "pub.1018093320",
           ""
          ],
          [
           "Soft Robotics",
           6,
           "pub.1013312043",
           ""
          ],
          [
           "Soft Robotics",
           6,
           "pub.1010861669",
           ""
          ],
          [
           "Soft Robotics",
           6,
           "pub.1009708400",
           ""
          ],
          [
           "Soft Robotics",
           6,
           "pub.1006036928",
           ""
          ],
          [
           "Soft Robotics",
           6,
           "pub.1099769145",
           ""
          ],
          [
           "Soft Robotics",
           6,
           "pub.1094524387",
           ""
          ],
          [
           "Soft Robotics",
           6,
           "pub.1062681758",
           ""
          ],
          [
           "Soft Robotics",
           6,
           "pub.1061692527",
           ""
          ],
          [
           "Soft Robotics",
           6,
           "pub.1059311431",
           ""
          ],
          [
           "Soft Robotics",
           6,
           "pub.1053869439",
           ""
          ],
          [
           "Soft Robotics",
           6,
           "pub.1053745766",
           ""
          ],
          [
           "Soft Robotics",
           6,
           "pub.1050931185",
           ""
          ],
          [
           "Soft Robotics",
           6,
           "pub.1048672075",
           ""
          ],
          [
           "Soft Robotics",
           6,
           "pub.1046958784",
           ""
          ],
          [
           "Soft Robotics",
           6,
           "pub.1035546790",
           ""
          ],
          [
           "Soft Robotics",
           6,
           "pub.1034332217",
           ""
          ],
          [
           "Soft Robotics",
           6,
           "pub.1033757657",
           ""
          ],
          [
           "Soft Robotics",
           6,
           "pub.1016383527",
           ""
          ],
          [
           "Soft Robotics",
           6,
           "pub.1014191409",
           ""
          ],
          [
           "Soft Robotics",
           6,
           "pub.1000285042",
           ""
          ]
         ],
         "hovertemplate": "label=%{customdata[0]}<br>x=%{x}<br>y=%{y}<br>cluster=%{customdata[1]}<br>pub_id=%{customdata[2]}<br>survey_group=%{customdata[3]}<extra></extra>",
         "legendgroup": "Soft Robotics",
         "marker": {
          "color": "#00fa9a",
          "opacity": 0.9,
          "symbol": "circle"
         },
         "mode": "markers",
         "name": "Soft Robotics",
         "orientation": "v",
         "showlegend": true,
         "type": "scatter",
         "x": [
          6.7272534,
          10.692108,
          8.767981,
          6.710728,
          7.9254823,
          8.3987665,
          8.272725,
          7.537415,
          10.570538,
          12.231958,
          10.950443,
          8.07883,
          8.847685,
          6.909426,
          11.723181,
          8.313225,
          7.9116535,
          7.4757047,
          8.534764,
          7.5218997,
          6.658196,
          9.324994,
          7.172954,
          10.180805,
          10.231442,
          8.794974,
          7.0323877,
          7.696464,
          9.016093,
          9.908354,
          7.554475,
          11.030823,
          8.329867,
          10.905192,
          11.054762,
          7.384697
         ],
         "xaxis": "x",
         "y": [
          -4.8134217,
          -3.163696,
          -4.2211185,
          -5.464401,
          -3.2630088,
          -6.0386534,
          -3.9471295,
          -4.4157276,
          -2.32096,
          -2.4750586,
          -3.2333465,
          -2.036066,
          -2.9466455,
          -2.7589397,
          -2.649064,
          -4.172777,
          -4.9570985,
          -3.436192,
          -3.5171275,
          -2.7955692,
          -5.614582,
          -5.237835,
          -3.660853,
          -1.5099999,
          -2.4659793,
          -3.8707695,
          -1.8807071,
          -3.8264828,
          -3.5308495,
          -3.3896782,
          -3.3361194,
          -4.601667,
          -5.311366,
          -2.2908106,
          -4.6744685,
          -3.5532622
         ],
         "yaxis": "y"
        },
        {
         "customdata": [
          [
           "Internet of Things in Healthcare",
           7,
           "pub.1099281667",
           ""
          ],
          [
           "Internet of Things in Healthcare",
           7,
           "pub.1095490861",
           ""
          ],
          [
           "Internet of Things in Healthcare",
           7,
           "pub.1095264568",
           ""
          ],
          [
           "Internet of Things in Healthcare",
           7,
           "pub.1095255025",
           ""
          ],
          [
           "Internet of Things in Healthcare",
           7,
           "pub.1095085621",
           ""
          ],
          [
           "Internet of Things in Healthcare",
           7,
           "pub.1094970902",
           ""
          ],
          [
           "Internet of Things in Healthcare",
           7,
           "pub.1094969147",
           ""
          ],
          [
           "Internet of Things in Healthcare",
           7,
           "pub.1094830611",
           ""
          ],
          [
           "Internet of Things in Healthcare",
           7,
           "pub.1094225194",
           ""
          ],
          [
           "Internet of Things in Healthcare",
           7,
           "pub.1093507023",
           ""
          ],
          [
           "Internet of Things in Healthcare",
           7,
           "pub.1093357343",
           ""
          ],
          [
           "Internet of Things in Healthcare",
           7,
           "pub.1067238716",
           ""
          ],
          [
           "Internet of Things in Healthcare",
           7,
           "pub.1038434872",
           ""
          ],
          [
           "Internet of Things in Healthcare",
           7,
           "pub.1034508886",
           ""
          ],
          [
           "Internet of Things in Healthcare",
           7,
           "pub.1016352338",
           ""
          ],
          [
           "Internet of Things in Healthcare",
           7,
           "pub.1001751876",
           ""
          ],
          [
           "Internet of Things in Healthcare",
           7,
           "pub.1095770589",
           ""
          ],
          [
           "Internet of Things in Healthcare",
           7,
           "pub.1095382211",
           ""
          ],
          [
           "Internet of Things in Healthcare",
           7,
           "pub.1095382199",
           ""
          ],
          [
           "Internet of Things in Healthcare",
           7,
           "pub.1093739978",
           ""
          ],
          [
           "Internet of Things in Healthcare",
           7,
           "pub.1093463283",
           ""
          ],
          [
           "Internet of Things in Healthcare",
           7,
           "pub.1061632443",
           ""
          ],
          [
           "Internet of Things in Healthcare",
           7,
           "pub.1061324932",
           ""
          ],
          [
           "Internet of Things in Healthcare",
           7,
           "pub.1044514690",
           ""
          ],
          [
           "Internet of Things in Healthcare",
           7,
           "pub.1044290948",
           ""
          ],
          [
           "Internet of Things in Healthcare",
           7,
           "pub.1042065361",
           ""
          ],
          [
           "Internet of Things in Healthcare",
           7,
           "pub.1031978033",
           ""
          ],
          [
           "Internet of Things in Healthcare",
           7,
           "pub.1025765207",
           ""
          ],
          [
           "Internet of Things in Healthcare",
           7,
           "pub.1024210708",
           ""
          ]
         ],
         "hovertemplate": "label=%{customdata[0]}<br>x=%{x}<br>y=%{y}<br>cluster=%{customdata[1]}<br>pub_id=%{customdata[2]}<br>survey_group=%{customdata[3]}<extra></extra>",
         "legendgroup": "Internet of Things in Healthcare",
         "marker": {
          "color": "#0000ff",
          "opacity": 0.9,
          "symbol": "circle"
         },
         "mode": "markers",
         "name": "Internet of Things in Healthcare",
         "orientation": "v",
         "showlegend": true,
         "type": "scatter",
         "x": [
          0.24489097,
          0.42763546,
          -0.79027635,
          0.55115676,
          -3.6076837,
          -0.4510911,
          -2.4308863,
          -0.7214544,
          -1.7777839,
          -0.8495194,
          -0.6034857,
          0.40024552,
          -1.1652492,
          -1.2562228,
          -2.0705523,
          -0.9164702,
          -1.393979,
          -3.8252397,
          -1.9581883,
          0.7653741,
          -1.9389693,
          -0.20547861,
          -2.1137066,
          -1.154336,
          -0.51547813,
          -4.432198,
          -2.3213263,
          -1.3140243,
          -1.1991603
         ],
         "xaxis": "x",
         "y": [
          23.465883,
          24.531792,
          25.309658,
          26.315222,
          24.977915,
          25.651535,
          25.505173,
          26.267792,
          24.955011,
          24.535177,
          24.23938,
          22.993095,
          27.12325,
          23.375536,
          24.493982,
          26.099764,
          25.63554,
          25.474709,
          25.487755,
          25.556017,
          24.383898,
          25.230536,
          26.126144,
          25.061699,
          24.944782,
          24.675364,
          24.162508,
          26.469482,
          23.617016
         ],
         "yaxis": "y"
        },
        {
         "customdata": [
          [
           "Tourism Growth Nexus",
           5,
           "pub.1090346357",
           ""
          ],
          [
           "Tourism Growth Nexus",
           5,
           "pub.1072794279",
           ""
          ],
          [
           "Tourism Growth Nexus",
           5,
           "pub.1049141736",
           ""
          ],
          [
           "Tourism Growth Nexus",
           5,
           "pub.1047663892",
           ""
          ],
          [
           "Tourism Growth Nexus",
           5,
           "pub.1035901982",
           ""
          ],
          [
           "Tourism Growth Nexus",
           5,
           "pub.1034653502",
           ""
          ],
          [
           "Tourism Growth Nexus",
           5,
           "pub.1029979518",
           ""
          ],
          [
           "Tourism Growth Nexus",
           5,
           "pub.1013412296",
           ""
          ],
          [
           "Tourism Growth Nexus",
           5,
           "pub.1011854038",
           ""
          ],
          [
           "Tourism Growth Nexus",
           5,
           "pub.1007878277",
           ""
          ],
          [
           "Tourism Growth Nexus",
           5,
           "pub.1007170077",
           ""
          ],
          [
           "Tourism Growth Nexus",
           5,
           "pub.1004840356",
           ""
          ],
          [
           "Tourism Growth Nexus",
           5,
           "pub.1004299966",
           ""
          ],
          [
           "Tourism Growth Nexus",
           5,
           "pub.1001562704",
           ""
          ],
          [
           "Tourism Growth Nexus",
           5,
           "pub.1000810498",
           ""
          ],
          [
           "Tourism Growth Nexus",
           5,
           "pub.1072794260",
           ""
          ],
          [
           "Tourism Growth Nexus",
           5,
           "pub.1053802942",
           ""
          ],
          [
           "Tourism Growth Nexus",
           5,
           "pub.1053750775",
           ""
          ],
          [
           "Tourism Growth Nexus",
           5,
           "pub.1033376226",
           ""
          ],
          [
           "Tourism Growth Nexus",
           5,
           "pub.1032490977",
           ""
          ],
          [
           "Tourism Growth Nexus",
           5,
           "pub.1029520182",
           ""
          ],
          [
           "Tourism Growth Nexus",
           5,
           "pub.1022720888",
           ""
          ],
          [
           "Tourism Growth Nexus",
           5,
           "pub.1017098340",
           ""
          ],
          [
           "Tourism Growth Nexus",
           5,
           "pub.1013871876",
           ""
          ],
          [
           "Tourism Growth Nexus",
           5,
           "pub.1003840912",
           ""
          ]
         ],
         "hovertemplate": "label=%{customdata[0]}<br>x=%{x}<br>y=%{y}<br>cluster=%{customdata[1]}<br>pub_id=%{customdata[2]}<br>survey_group=%{customdata[3]}<extra></extra>",
         "legendgroup": "Tourism Growth Nexus",
         "marker": {
          "color": "#ff00ff",
          "opacity": 0.9,
          "symbol": "circle"
         },
         "mode": "markers",
         "name": "Tourism Growth Nexus",
         "orientation": "v",
         "showlegend": true,
         "type": "scatter",
         "x": [
          -33.04806,
          -33.51761,
          -34.61022,
          -33.016945,
          -34.30108,
          -34.35132,
          -33.57969,
          -34.61152,
          -32.575546,
          -33.760265,
          -34.80816,
          -33.678284,
          -31.916359,
          -33.01963,
          -33.87895,
          -33.54207,
          -32.00931,
          -32.78564,
          -32.59744,
          -34.89974,
          -30.130396,
          -33.747467,
          -32.92614,
          -34.07971,
          -32.94103
         ],
         "xaxis": "x",
         "y": [
          -16.226662,
          -16.95728,
          -15.474296,
          -17.326025,
          -17.337526,
          -15.979026,
          -15.897001,
          -15.404539,
          -15.969918,
          -14.326991,
          -16.421804,
          -14.45132,
          -15.676831,
          -15.30588,
          -16.588558,
          -15.628327,
          -16.107302,
          -16.6403,
          -15.777546,
          -16.40568,
          -14.389934,
          -15.366954,
          -15.8171215,
          -14.58799,
          -17.02213
         ],
         "yaxis": "y"
        },
        {
         "customdata": [
          [
           "Cervical Myelopathy",
           12,
           "pub.1080091058",
           ""
          ],
          [
           "Cervical Myelopathy",
           12,
           "pub.1079276563",
           ""
          ],
          [
           "Cervical Myelopathy",
           12,
           "pub.1071103439",
           ""
          ],
          [
           "Cervical Myelopathy",
           12,
           "pub.1071103239",
           ""
          ],
          [
           "Cervical Myelopathy",
           12,
           "pub.1071098440",
           ""
          ],
          [
           "Cervical Myelopathy",
           12,
           "pub.1071097240",
           ""
          ],
          [
           "Cervical Myelopathy",
           12,
           "pub.1068893336",
           ""
          ],
          [
           "Cervical Myelopathy",
           12,
           "pub.1068893080",
           ""
          ],
          [
           "Cervical Myelopathy",
           12,
           "pub.1068890012",
           ""
          ],
          [
           "Cervical Myelopathy",
           11,
           "pub.1059443086",
           ""
          ],
          [
           "Cervical Myelopathy",
           12,
           "pub.1049890557",
           ""
          ],
          [
           "Cervical Myelopathy",
           12,
           "pub.1045861847",
           ""
          ],
          [
           "Cervical Myelopathy",
           12,
           "pub.1043047033",
           ""
          ],
          [
           "Cervical Myelopathy",
           12,
           "pub.1041327125",
           ""
          ],
          [
           "Cervical Myelopathy",
           12,
           "pub.1040115320",
           ""
          ],
          [
           "Cervical Myelopathy",
           12,
           "pub.1038222550",
           ""
          ],
          [
           "Cervical Myelopathy",
           12,
           "pub.1037790804",
           ""
          ],
          [
           "Cervical Myelopathy",
           12,
           "pub.1037654624",
           ""
          ],
          [
           "Cervical Myelopathy",
           12,
           "pub.1036336702",
           ""
          ],
          [
           "Cervical Myelopathy",
           12,
           "pub.1035509307",
           ""
          ],
          [
           "Cervical Myelopathy",
           12,
           "pub.1034944004",
           ""
          ],
          [
           "Cervical Myelopathy",
           12,
           "pub.1028542573",
           ""
          ],
          [
           "Cervical Myelopathy",
           12,
           "pub.1028420740",
           ""
          ],
          [
           "Cervical Myelopathy",
           12,
           "pub.1021857143",
           ""
          ],
          [
           "Cervical Myelopathy",
           12,
           "pub.1017401652",
           ""
          ],
          [
           "Cervical Myelopathy",
           12,
           "pub.1015407573",
           ""
          ],
          [
           "Cervical Myelopathy",
           12,
           "pub.1014052117",
           ""
          ],
          [
           "Cervical Myelopathy",
           12,
           "pub.1009748592",
           ""
          ],
          [
           "Cervical Myelopathy",
           12,
           "pub.1007826013",
           ""
          ],
          [
           "Cervical Myelopathy",
           12,
           "pub.1071103618",
           ""
          ],
          [
           "Cervical Myelopathy",
           12,
           "pub.1071103060",
           ""
          ],
          [
           "Cervical Myelopathy",
           12,
           "pub.1071097586",
           ""
          ],
          [
           "Cervical Myelopathy",
           12,
           "pub.1071095985",
           ""
          ],
          [
           "Cervical Myelopathy",
           11,
           "pub.1071088479",
           ""
          ],
          [
           "Cervical Myelopathy",
           12,
           "pub.1071076802",
           ""
          ],
          [
           "Cervical Myelopathy",
           11,
           "pub.1059442903",
           ""
          ],
          [
           "Cervical Myelopathy",
           12,
           "pub.1053723341",
           ""
          ],
          [
           "Cervical Myelopathy",
           12,
           "pub.1050443276",
           ""
          ],
          [
           "Cervical Myelopathy",
           12,
           "pub.1039231588",
           ""
          ],
          [
           "Cervical Myelopathy",
           12,
           "pub.1038098923",
           ""
          ],
          [
           "Cervical Myelopathy",
           12,
           "pub.1036299701",
           ""
          ],
          [
           "Cervical Myelopathy",
           12,
           "pub.1034074696",
           ""
          ],
          [
           "Cervical Myelopathy",
           12,
           "pub.1024110809",
           ""
          ],
          [
           "Cervical Myelopathy",
           12,
           "pub.1023278334",
           ""
          ],
          [
           "Cervical Myelopathy",
           12,
           "pub.1020803753",
           ""
          ],
          [
           "Cervical Myelopathy",
           12,
           "pub.1016889944",
           ""
          ],
          [
           "Cervical Myelopathy",
           12,
           "pub.1003399679",
           ""
          ]
         ],
         "hovertemplate": "label=%{customdata[0]}<br>x=%{x}<br>y=%{y}<br>cluster=%{customdata[1]}<br>pub_id=%{customdata[2]}<br>survey_group=%{customdata[3]}<extra></extra>",
         "legendgroup": "Cervical Myelopathy",
         "marker": {
          "color": "#1e90ff",
          "opacity": 0.9,
          "symbol": "circle"
         },
         "mode": "markers",
         "name": "Cervical Myelopathy",
         "orientation": "v",
         "showlegend": true,
         "type": "scatter",
         "x": [
          35.807247,
          36.31992,
          37.89851,
          36.80989,
          34.722294,
          34.957767,
          33.98981,
          34.972828,
          34.829796,
          34.13806,
          35.120853,
          36.458065,
          32.27929,
          34.541397,
          36.691833,
          38.136303,
          36.251118,
          38.13201,
          36.156773,
          36.238422,
          35.971203,
          36.60745,
          36.262802,
          36.282623,
          35.783413,
          36.438667,
          33.877518,
          36.05128,
          33.436317,
          36.789715,
          34.872356,
          35.865623,
          35.395557,
          34.162434,
          31.975527,
          34.123158,
          34.4842,
          38.036846,
          37.64757,
          37.928978,
          33.68688,
          33.764484,
          34.057686,
          37.140945,
          36.63452,
          32.2495,
          37.588566
         ],
         "xaxis": "x",
         "y": [
          -16.493952,
          -15.252085,
          -18.58537,
          -19.23286,
          -17.608183,
          -18.90066,
          -16.84682,
          -17.010946,
          -18.550589,
          -13.295596,
          -15.742766,
          -13.8597555,
          -17.395304,
          -19.332193,
          -17.62467,
          -17.709167,
          -17.037321,
          -18.351984,
          -18.49602,
          -19.468754,
          -18.2505,
          -15.028877,
          -18.038815,
          -16.167969,
          -14.9158125,
          -14.3563795,
          -18.227234,
          -18.043024,
          -16.87601,
          -18.574625,
          -17.714966,
          -16.633286,
          -16.978704,
          -13.28274,
          -17.517626,
          -13.285569,
          -15.604406,
          -18.370743,
          -14.975545,
          -18.38557,
          -18.703344,
          -16.852472,
          -16.141167,
          -19.23166,
          -14.918032,
          -17.419044,
          -17.61783
         ],
         "yaxis": "y"
        },
        {
         "customdata": [
          [
           "Resilience in Business and management",
           10,
           "pub.1075345922",
           ""
          ],
          [
           "Resilience in Business and management",
           10,
           "pub.1073407503",
           ""
          ],
          [
           "Resilience in Business and management",
           10,
           "pub.1072896311",
           ""
          ],
          [
           "Resilience in Business and management",
           10,
           "pub.1072894681",
           ""
          ],
          [
           "Resilience in Business and management",
           10,
           "pub.1070196019",
           ""
          ],
          [
           "Resilience in Business and management",
           10,
           "pub.1069908660",
           ""
          ],
          [
           "Resilience in Business and management",
           10,
           "pub.1069908041",
           ""
          ],
          [
           "Resilience in Business and management",
           10,
           "pub.1069907901",
           ""
          ],
          [
           "Resilience in Business and management",
           10,
           "pub.1047959878",
           ""
          ],
          [
           "Resilience in Business and management",
           10,
           "pub.1041282031",
           ""
          ],
          [
           "Resilience in Business and management",
           10,
           "pub.1036458898",
           ""
          ],
          [
           "Resilience in Business and management",
           10,
           "pub.1032563790",
           ""
          ],
          [
           "Resilience in Business and management",
           10,
           "pub.1031594587",
           ""
          ],
          [
           "Resilience in Business and management",
           10,
           "pub.1030211703",
           ""
          ],
          [
           "Resilience in Business and management",
           10,
           "pub.1020050164",
           ""
          ],
          [
           "Resilience in Business and management",
           10,
           "pub.1008687306",
           ""
          ],
          [
           "Resilience in Business and management",
           10,
           "pub.1075056726",
           ""
          ],
          [
           "Resilience in Business and management",
           10,
           "pub.1069908683",
           ""
          ],
          [
           "Resilience in Business and management",
           10,
           "pub.1048916231",
           ""
          ],
          [
           "Resilience in Business and management",
           10,
           "pub.1043814808",
           ""
          ],
          [
           "Resilience in Business and management",
           10,
           "pub.1034737787",
           ""
          ],
          [
           "Resilience in Business and management",
           10,
           "pub.1031829691",
           ""
          ],
          [
           "Resilience in Business and management",
           10,
           "pub.1031821349",
           ""
          ],
          [
           "Resilience in Business and management",
           10,
           "pub.1030632837",
           ""
          ],
          [
           "Resilience in Business and management",
           10,
           "pub.1018062843",
           ""
          ],
          [
           "Resilience in Business and management",
           10,
           "pub.1016764583",
           ""
          ],
          [
           "Resilience in Business and management",
           10,
           "pub.1013827626",
           ""
          ]
         ],
         "hovertemplate": "label=%{customdata[0]}<br>x=%{x}<br>y=%{y}<br>cluster=%{customdata[1]}<br>pub_id=%{customdata[2]}<br>survey_group=%{customdata[3]}<extra></extra>",
         "legendgroup": "Resilience in Business and management",
         "marker": {
          "color": "#eee8aa",
          "opacity": 0.9,
          "symbol": "circle"
         },
         "mode": "markers",
         "name": "Resilience in Business and management",
         "orientation": "v",
         "showlegend": true,
         "type": "scatter",
         "x": [
          -6.024724,
          -5.5556436,
          -4.490363,
          -3.6683505,
          -5.745603,
          -4.0779996,
          -5.1840153,
          -3.7892535,
          -7.569642,
          -3.7509809,
          -3.5763624,
          -4.1018443,
          -5.710774,
          -3.0891724,
          -7.664536,
          -7.6179585,
          -5.9463854,
          -3.4549048,
          -3.324398,
          -3.7669785,
          -5.4455543,
          -7.691774,
          -4.475503,
          -4.358826,
          -8.2560835,
          -7.770539,
          -7.271498
         ],
         "xaxis": "x",
         "y": [
          -2.9686236,
          -2.6544673,
          -0.2353413,
          -1.5989418,
          -4.6981425,
          -3.9837878,
          -4.248611,
          -2.5139027,
          -4.5677834,
          -0.9418961,
          -1.0310346,
          -0.7726276,
          -3.775608,
          -1.3110952,
          -3.827385,
          -3.9206188,
          -3.1202307,
          -3.4579926,
          -1.2172893,
          -0.44492522,
          -3.8876605,
          -3.6304445,
          -0.03213194,
          -0.16337751,
          -4.6146665,
          -3.889805,
          -4.72594
         ],
         "yaxis": "y"
        },
        {
         "customdata": [
          [
           "Synthetic Biology",
           13,
           "pub.1067589570",
           ""
          ],
          [
           "Synthetic Biology",
           13,
           "pub.1052700485",
           ""
          ],
          [
           "Synthetic Biology",
           13,
           "pub.1042528786",
           ""
          ],
          [
           "Synthetic Biology",
           13,
           "pub.1037881716",
           ""
          ],
          [
           "Synthetic Biology",
           13,
           "pub.1036497140",
           ""
          ],
          [
           "Synthetic Biology",
           13,
           "pub.1036018285",
           ""
          ],
          [
           "Synthetic Biology",
           13,
           "pub.1035931199",
           ""
          ],
          [
           "Synthetic Biology",
           13,
           "pub.1028250908",
           ""
          ],
          [
           "Synthetic Biology",
           13,
           "pub.1026899122",
           ""
          ],
          [
           "Synthetic Biology",
           13,
           "pub.1025786828",
           ""
          ],
          [
           "Synthetic Biology",
           9,
           "pub.1022297654",
           ""
          ],
          [
           "Synthetic Biology",
           13,
           "pub.1022279877",
           ""
          ],
          [
           "Synthetic Biology",
           13,
           "pub.1021654569",
           ""
          ],
          [
           "Synthetic Biology",
           13,
           "pub.1021275892",
           ""
          ],
          [
           "Synthetic Biology",
           13,
           "pub.1020751277",
           ""
          ],
          [
           "Synthetic Biology",
           13,
           "pub.1016534270",
           ""
          ],
          [
           "Synthetic Biology",
           13,
           "pub.1014359908",
           ""
          ],
          [
           "Synthetic Biology",
           13,
           "pub.1009258787",
           ""
          ],
          [
           "Synthetic Biology",
           9,
           "pub.1006120611",
           ""
          ],
          [
           "Synthetic Biology",
           13,
           "pub.1002786107",
           ""
          ],
          [
           "Synthetic Biology",
           13,
           "pub.1001000963",
           ""
          ],
          [
           "Synthetic Biology",
           13,
           "pub.1048602129",
           ""
          ],
          [
           "Synthetic Biology",
           13,
           "pub.1046952734",
           ""
          ],
          [
           "Synthetic Biology",
           13,
           "pub.1033127471",
           ""
          ],
          [
           "Synthetic Biology",
           13,
           "pub.1028022455",
           ""
          ],
          [
           "Synthetic Biology",
           13,
           "pub.1024208323",
           ""
          ],
          [
           "Synthetic Biology",
           13,
           "pub.1010407598",
           ""
          ],
          [
           "Synthetic Biology",
           13,
           "pub.1009412636",
           ""
          ],
          [
           "Synthetic Biology",
           13,
           "pub.1004364700",
           ""
          ]
         ],
         "hovertemplate": "label=%{customdata[0]}<br>x=%{x}<br>y=%{y}<br>cluster=%{customdata[1]}<br>pub_id=%{customdata[2]}<br>survey_group=%{customdata[3]}<extra></extra>",
         "legendgroup": "Synthetic Biology",
         "marker": {
          "color": "#000000",
          "opacity": 0.9,
          "symbol": "circle"
         },
         "mode": "markers",
         "name": "Synthetic Biology",
         "orientation": "v",
         "showlegend": true,
         "type": "scatter",
         "x": [
          8.270973,
          10.095581,
          11.25731,
          11.59192,
          10.853702,
          9.185503,
          11.857037,
          9.5195875,
          8.698077,
          8.245636,
          11.718062,
          9.754502,
          12.031643,
          8.64838,
          9.799996,
          10.856584,
          12.339938,
          10.012197,
          11.724607,
          11.006927,
          9.872816,
          9.6459875,
          8.598188,
          11.5971575,
          10.858887,
          9.615661,
          11.141631,
          9.583162,
          9.992292
         ],
         "xaxis": "x",
         "y": [
          5.3325906,
          6.6778946,
          5.771049,
          5.4840717,
          4.3325953,
          7.98303,
          6.878781,
          7.664844,
          5.4612923,
          4.5431046,
          9.700381,
          5.22186,
          4.8402452,
          4.575131,
          5.9260845,
          4.702329,
          6.3333564,
          5.2852345,
          9.717691,
          5.5964,
          4.249985,
          5.1434793,
          5.060455,
          4.746378,
          4.4170647,
          7.6435876,
          5.8230305,
          7.7139974,
          5.7588773
         ],
         "yaxis": "y"
        },
        {
         "customdata": [
          [
           "Nanoparticles",
           3,
           "pub.1064567937",
           ""
          ],
          [
           "Nanoparticles",
           3,
           "pub.1062447105",
           ""
          ],
          [
           "Nanoparticles",
           3,
           "pub.1050579616",
           ""
          ],
          [
           "Nanoparticles",
           3,
           "pub.1041771334",
           ""
          ],
          [
           "Nanoparticles",
           3,
           "pub.1040302077",
           ""
          ],
          [
           "Nanoparticles",
           3,
           "pub.1039641194",
           ""
          ],
          [
           "Nanoparticles",
           3,
           "pub.1038778560",
           ""
          ],
          [
           "Nanoparticles",
           3,
           "pub.1029482017",
           ""
          ],
          [
           "Nanoparticles",
           3,
           "pub.1028058184",
           ""
          ],
          [
           "Nanoparticles",
           3,
           "pub.1027828956",
           ""
          ],
          [
           "Nanoparticles",
           3,
           "pub.1026661243",
           ""
          ],
          [
           "Nanoparticles",
           3,
           "pub.1025760895",
           ""
          ],
          [
           "Nanoparticles",
           3,
           "pub.1021666873",
           ""
          ],
          [
           "Nanoparticles",
           3,
           "pub.1020673706",
           ""
          ],
          [
           "Nanoparticles",
           3,
           "pub.1020647724",
           ""
          ],
          [
           "Nanoparticles",
           3,
           "pub.1015833771",
           ""
          ],
          [
           "Nanoparticles",
           3,
           "pub.1013655144",
           ""
          ],
          [
           "Nanoparticles",
           3,
           "pub.1009246618",
           ""
          ],
          [
           "Nanoparticles",
           3,
           "pub.1008013568",
           ""
          ],
          [
           "Nanoparticles",
           3,
           "pub.1005792673",
           ""
          ],
          [
           "Nanoparticles",
           3,
           "pub.1002703153",
           ""
          ],
          [
           "Nanoparticles",
           3,
           "pub.1001343412",
           ""
          ],
          [
           "Nanoparticles",
           3,
           "pub.1056221800",
           ""
          ],
          [
           "Nanoparticles",
           3,
           "pub.1056143784",
           ""
          ],
          [
           "Nanoparticles",
           3,
           "pub.1055504074",
           ""
          ],
          [
           "Nanoparticles",
           3,
           "pub.1052990623",
           ""
          ],
          [
           "Nanoparticles",
           3,
           "pub.1051411109",
           ""
          ],
          [
           "Nanoparticles",
           3,
           "pub.1050276749",
           ""
          ],
          [
           "Nanoparticles",
           3,
           "pub.1048709708",
           ""
          ],
          [
           "Nanoparticles",
           3,
           "pub.1047132329",
           ""
          ],
          [
           "Nanoparticles",
           3,
           "pub.1046826509",
           ""
          ],
          [
           "Nanoparticles",
           3,
           "pub.1044670756",
           ""
          ],
          [
           "Nanoparticles",
           3,
           "pub.1044430846",
           ""
          ],
          [
           "Nanoparticles",
           3,
           "pub.1041163416",
           ""
          ],
          [
           "Nanoparticles",
           3,
           "pub.1040077610",
           ""
          ],
          [
           "Nanoparticles",
           3,
           "pub.1039713086",
           ""
          ],
          [
           "Nanoparticles",
           3,
           "pub.1039601245",
           ""
          ],
          [
           "Nanoparticles",
           3,
           "pub.1036002565",
           ""
          ],
          [
           "Nanoparticles",
           3,
           "pub.1035909146",
           ""
          ],
          [
           "Nanoparticles",
           3,
           "pub.1035623214",
           ""
          ],
          [
           "Nanoparticles",
           3,
           "pub.1035474832",
           ""
          ],
          [
           "Nanoparticles",
           3,
           "pub.1035387745",
           ""
          ],
          [
           "Nanoparticles",
           3,
           "pub.1034007004",
           ""
          ],
          [
           "Nanoparticles",
           3,
           "pub.1033416172",
           ""
          ],
          [
           "Nanoparticles",
           3,
           "pub.1031075757",
           ""
          ],
          [
           "Nanoparticles",
           3,
           "pub.1028529625",
           ""
          ],
          [
           "Nanoparticles",
           3,
           "pub.1024367203",
           ""
          ],
          [
           "Nanoparticles",
           3,
           "pub.1017225012",
           ""
          ],
          [
           "Nanoparticles",
           3,
           "pub.1016714991",
           ""
          ],
          [
           "Nanoparticles",
           3,
           "pub.1005629396",
           ""
          ]
         ],
         "hovertemplate": "label=%{customdata[0]}<br>x=%{x}<br>y=%{y}<br>cluster=%{customdata[1]}<br>pub_id=%{customdata[2]}<br>survey_group=%{customdata[3]}<extra></extra>",
         "legendgroup": "Nanoparticles",
         "marker": {
          "color": "#2f4f4f",
          "opacity": 0.9,
          "symbol": "circle"
         },
         "mode": "markers",
         "name": "Nanoparticles",
         "orientation": "v",
         "showlegend": true,
         "type": "scatter",
         "x": [
          22.148905,
          19.207935,
          15.713346,
          21.643547,
          19.15014,
          19.52341,
          21.79157,
          21.164898,
          19.044563,
          22.155586,
          20.041054,
          18.379747,
          21.65722,
          23.562197,
          20.526598,
          18.794546,
          20.672852,
          21.524553,
          21.646744,
          20.627092,
          19.70752,
          21.173687,
          20.644138,
          18.367764,
          23.752161,
          21.747274,
          20.005909,
          17.875444,
          21.090971,
          20.772629,
          22.594938,
          21.596283,
          18.406633,
          18.631855,
          20.040585,
          20.54131,
          20.642263,
          21.38366,
          23.05487,
          20.461678,
          21.176893,
          22.581127,
          23.05524,
          21.182222,
          18.106705,
          22.296337,
          22.618362,
          23.53237,
          18.008871,
          21.238304
         ],
         "xaxis": "x",
         "y": [
          4.0463605,
          3.310598,
          3.2974901,
          2.4546022,
          4.469261,
          4.403166,
          4.543867,
          2.1233075,
          4.842425,
          2.9353023,
          2.4584525,
          7.7825212,
          4.493294,
          4.371029,
          5.6285233,
          5.142884,
          6.7890844,
          5.0988894,
          1.5447049,
          2.9137554,
          2.7477221,
          3.601103,
          3.4092693,
          7.791995,
          6.9972496,
          2.6720464,
          5.61866,
          3.3803096,
          1.48206,
          3.259512,
          6.573512,
          1.5512832,
          7.7709737,
          5.860522,
          3.400506,
          5.0811663,
          5.321099,
          5.68463,
          5.203835,
          6.909093,
          5.38842,
          6.495318,
          7.1988797,
          9.286897,
          4.311021,
          3.4672306,
          4.514864,
          3.1690216,
          4.2138915,
          9.218442
         ],
         "yaxis": "y"
        }
       ],
       "layout": {
        "legend": {
         "title": {
          "text": "label"
         },
         "tracegroupgap": 0
        },
        "margin": {
         "t": 60
        },
        "template": {
         "data": {
          "bar": [
           {
            "error_x": {
             "color": "#2a3f5f"
            },
            "error_y": {
             "color": "#2a3f5f"
            },
            "marker": {
             "line": {
              "color": "#E5ECF6",
              "width": 0.5
             },
             "pattern": {
              "fillmode": "overlay",
              "size": 10,
              "solidity": 0.2
             }
            },
            "type": "bar"
           }
          ],
          "barpolar": [
           {
            "marker": {
             "line": {
              "color": "#E5ECF6",
              "width": 0.5
             },
             "pattern": {
              "fillmode": "overlay",
              "size": 10,
              "solidity": 0.2
             }
            },
            "type": "barpolar"
           }
          ],
          "carpet": [
           {
            "aaxis": {
             "endlinecolor": "#2a3f5f",
             "gridcolor": "white",
             "linecolor": "white",
             "minorgridcolor": "white",
             "startlinecolor": "#2a3f5f"
            },
            "baxis": {
             "endlinecolor": "#2a3f5f",
             "gridcolor": "white",
             "linecolor": "white",
             "minorgridcolor": "white",
             "startlinecolor": "#2a3f5f"
            },
            "type": "carpet"
           }
          ],
          "choropleth": [
           {
            "colorbar": {
             "outlinewidth": 0,
             "ticks": ""
            },
            "type": "choropleth"
           }
          ],
          "contour": [
           {
            "colorbar": {
             "outlinewidth": 0,
             "ticks": ""
            },
            "colorscale": [
             [
              0,
              "#0d0887"
             ],
             [
              0.1111111111111111,
              "#46039f"
             ],
             [
              0.2222222222222222,
              "#7201a8"
             ],
             [
              0.3333333333333333,
              "#9c179e"
             ],
             [
              0.4444444444444444,
              "#bd3786"
             ],
             [
              0.5555555555555556,
              "#d8576b"
             ],
             [
              0.6666666666666666,
              "#ed7953"
             ],
             [
              0.7777777777777778,
              "#fb9f3a"
             ],
             [
              0.8888888888888888,
              "#fdca26"
             ],
             [
              1,
              "#f0f921"
             ]
            ],
            "type": "contour"
           }
          ],
          "contourcarpet": [
           {
            "colorbar": {
             "outlinewidth": 0,
             "ticks": ""
            },
            "type": "contourcarpet"
           }
          ],
          "heatmap": [
           {
            "colorbar": {
             "outlinewidth": 0,
             "ticks": ""
            },
            "colorscale": [
             [
              0,
              "#0d0887"
             ],
             [
              0.1111111111111111,
              "#46039f"
             ],
             [
              0.2222222222222222,
              "#7201a8"
             ],
             [
              0.3333333333333333,
              "#9c179e"
             ],
             [
              0.4444444444444444,
              "#bd3786"
             ],
             [
              0.5555555555555556,
              "#d8576b"
             ],
             [
              0.6666666666666666,
              "#ed7953"
             ],
             [
              0.7777777777777778,
              "#fb9f3a"
             ],
             [
              0.8888888888888888,
              "#fdca26"
             ],
             [
              1,
              "#f0f921"
             ]
            ],
            "type": "heatmap"
           }
          ],
          "heatmapgl": [
           {
            "colorbar": {
             "outlinewidth": 0,
             "ticks": ""
            },
            "colorscale": [
             [
              0,
              "#0d0887"
             ],
             [
              0.1111111111111111,
              "#46039f"
             ],
             [
              0.2222222222222222,
              "#7201a8"
             ],
             [
              0.3333333333333333,
              "#9c179e"
             ],
             [
              0.4444444444444444,
              "#bd3786"
             ],
             [
              0.5555555555555556,
              "#d8576b"
             ],
             [
              0.6666666666666666,
              "#ed7953"
             ],
             [
              0.7777777777777778,
              "#fb9f3a"
             ],
             [
              0.8888888888888888,
              "#fdca26"
             ],
             [
              1,
              "#f0f921"
             ]
            ],
            "type": "heatmapgl"
           }
          ],
          "histogram": [
           {
            "marker": {
             "pattern": {
              "fillmode": "overlay",
              "size": 10,
              "solidity": 0.2
             }
            },
            "type": "histogram"
           }
          ],
          "histogram2d": [
           {
            "colorbar": {
             "outlinewidth": 0,
             "ticks": ""
            },
            "colorscale": [
             [
              0,
              "#0d0887"
             ],
             [
              0.1111111111111111,
              "#46039f"
             ],
             [
              0.2222222222222222,
              "#7201a8"
             ],
             [
              0.3333333333333333,
              "#9c179e"
             ],
             [
              0.4444444444444444,
              "#bd3786"
             ],
             [
              0.5555555555555556,
              "#d8576b"
             ],
             [
              0.6666666666666666,
              "#ed7953"
             ],
             [
              0.7777777777777778,
              "#fb9f3a"
             ],
             [
              0.8888888888888888,
              "#fdca26"
             ],
             [
              1,
              "#f0f921"
             ]
            ],
            "type": "histogram2d"
           }
          ],
          "histogram2dcontour": [
           {
            "colorbar": {
             "outlinewidth": 0,
             "ticks": ""
            },
            "colorscale": [
             [
              0,
              "#0d0887"
             ],
             [
              0.1111111111111111,
              "#46039f"
             ],
             [
              0.2222222222222222,
              "#7201a8"
             ],
             [
              0.3333333333333333,
              "#9c179e"
             ],
             [
              0.4444444444444444,
              "#bd3786"
             ],
             [
              0.5555555555555556,
              "#d8576b"
             ],
             [
              0.6666666666666666,
              "#ed7953"
             ],
             [
              0.7777777777777778,
              "#fb9f3a"
             ],
             [
              0.8888888888888888,
              "#fdca26"
             ],
             [
              1,
              "#f0f921"
             ]
            ],
            "type": "histogram2dcontour"
           }
          ],
          "mesh3d": [
           {
            "colorbar": {
             "outlinewidth": 0,
             "ticks": ""
            },
            "type": "mesh3d"
           }
          ],
          "parcoords": [
           {
            "line": {
             "colorbar": {
              "outlinewidth": 0,
              "ticks": ""
             }
            },
            "type": "parcoords"
           }
          ],
          "pie": [
           {
            "automargin": true,
            "type": "pie"
           }
          ],
          "scatter": [
           {
            "fillpattern": {
             "fillmode": "overlay",
             "size": 10,
             "solidity": 0.2
            },
            "type": "scatter"
           }
          ],
          "scatter3d": [
           {
            "line": {
             "colorbar": {
              "outlinewidth": 0,
              "ticks": ""
             }
            },
            "marker": {
             "colorbar": {
              "outlinewidth": 0,
              "ticks": ""
             }
            },
            "type": "scatter3d"
           }
          ],
          "scattercarpet": [
           {
            "marker": {
             "colorbar": {
              "outlinewidth": 0,
              "ticks": ""
             }
            },
            "type": "scattercarpet"
           }
          ],
          "scattergeo": [
           {
            "marker": {
             "colorbar": {
              "outlinewidth": 0,
              "ticks": ""
             }
            },
            "type": "scattergeo"
           }
          ],
          "scattergl": [
           {
            "marker": {
             "colorbar": {
              "outlinewidth": 0,
              "ticks": ""
             }
            },
            "type": "scattergl"
           }
          ],
          "scattermapbox": [
           {
            "marker": {
             "colorbar": {
              "outlinewidth": 0,
              "ticks": ""
             }
            },
            "type": "scattermapbox"
           }
          ],
          "scatterpolar": [
           {
            "marker": {
             "colorbar": {
              "outlinewidth": 0,
              "ticks": ""
             }
            },
            "type": "scatterpolar"
           }
          ],
          "scatterpolargl": [
           {
            "marker": {
             "colorbar": {
              "outlinewidth": 0,
              "ticks": ""
             }
            },
            "type": "scatterpolargl"
           }
          ],
          "scatterternary": [
           {
            "marker": {
             "colorbar": {
              "outlinewidth": 0,
              "ticks": ""
             }
            },
            "type": "scatterternary"
           }
          ],
          "surface": [
           {
            "colorbar": {
             "outlinewidth": 0,
             "ticks": ""
            },
            "colorscale": [
             [
              0,
              "#0d0887"
             ],
             [
              0.1111111111111111,
              "#46039f"
             ],
             [
              0.2222222222222222,
              "#7201a8"
             ],
             [
              0.3333333333333333,
              "#9c179e"
             ],
             [
              0.4444444444444444,
              "#bd3786"
             ],
             [
              0.5555555555555556,
              "#d8576b"
             ],
             [
              0.6666666666666666,
              "#ed7953"
             ],
             [
              0.7777777777777778,
              "#fb9f3a"
             ],
             [
              0.8888888888888888,
              "#fdca26"
             ],
             [
              1,
              "#f0f921"
             ]
            ],
            "type": "surface"
           }
          ],
          "table": [
           {
            "cells": {
             "fill": {
              "color": "#EBF0F8"
             },
             "line": {
              "color": "white"
             }
            },
            "header": {
             "fill": {
              "color": "#C8D4E3"
             },
             "line": {
              "color": "white"
             }
            },
            "type": "table"
           }
          ]
         },
         "layout": {
          "annotationdefaults": {
           "arrowcolor": "#2a3f5f",
           "arrowhead": 0,
           "arrowwidth": 1
          },
          "autotypenumbers": "strict",
          "coloraxis": {
           "colorbar": {
            "outlinewidth": 0,
            "ticks": ""
           }
          },
          "colorscale": {
           "diverging": [
            [
             0,
             "#8e0152"
            ],
            [
             0.1,
             "#c51b7d"
            ],
            [
             0.2,
             "#de77ae"
            ],
            [
             0.3,
             "#f1b6da"
            ],
            [
             0.4,
             "#fde0ef"
            ],
            [
             0.5,
             "#f7f7f7"
            ],
            [
             0.6,
             "#e6f5d0"
            ],
            [
             0.7,
             "#b8e186"
            ],
            [
             0.8,
             "#7fbc41"
            ],
            [
             0.9,
             "#4d9221"
            ],
            [
             1,
             "#276419"
            ]
           ],
           "sequential": [
            [
             0,
             "#0d0887"
            ],
            [
             0.1111111111111111,
             "#46039f"
            ],
            [
             0.2222222222222222,
             "#7201a8"
            ],
            [
             0.3333333333333333,
             "#9c179e"
            ],
            [
             0.4444444444444444,
             "#bd3786"
            ],
            [
             0.5555555555555556,
             "#d8576b"
            ],
            [
             0.6666666666666666,
             "#ed7953"
            ],
            [
             0.7777777777777778,
             "#fb9f3a"
            ],
            [
             0.8888888888888888,
             "#fdca26"
            ],
            [
             1,
             "#f0f921"
            ]
           ],
           "sequentialminus": [
            [
             0,
             "#0d0887"
            ],
            [
             0.1111111111111111,
             "#46039f"
            ],
            [
             0.2222222222222222,
             "#7201a8"
            ],
            [
             0.3333333333333333,
             "#9c179e"
            ],
            [
             0.4444444444444444,
             "#bd3786"
            ],
            [
             0.5555555555555556,
             "#d8576b"
            ],
            [
             0.6666666666666666,
             "#ed7953"
            ],
            [
             0.7777777777777778,
             "#fb9f3a"
            ],
            [
             0.8888888888888888,
             "#fdca26"
            ],
            [
             1,
             "#f0f921"
            ]
           ]
          },
          "colorway": [
           "#2f4f4f",
           "#a0522d",
           "#006400",
           "#000080",
           "#ff0000",
           "#00ced1",
           "#ffa500",
           "#ffff00",
           "#00ff00",
           "#00fa9a",
           "#0000ff",
           "#ff00ff",
           "#1e90ff",
           "#eee8aa",
           "#000000"
          ],
          "font": {
           "color": "#2a3f5f"
          },
          "geo": {
           "bgcolor": "white",
           "lakecolor": "white",
           "landcolor": "#E5ECF6",
           "showlakes": true,
           "showland": true,
           "subunitcolor": "white"
          },
          "hoverlabel": {
           "align": "left"
          },
          "hovermode": "closest",
          "mapbox": {
           "style": "light"
          },
          "paper_bgcolor": "white",
          "plot_bgcolor": "#E5ECF6",
          "polar": {
           "angularaxis": {
            "gridcolor": "white",
            "linecolor": "white",
            "ticks": ""
           },
           "bgcolor": "#E5ECF6",
           "radialaxis": {
            "gridcolor": "white",
            "linecolor": "white",
            "ticks": ""
           }
          },
          "scene": {
           "xaxis": {
            "backgroundcolor": "#E5ECF6",
            "gridcolor": "white",
            "gridwidth": 2,
            "linecolor": "white",
            "showbackground": true,
            "ticks": "",
            "zerolinecolor": "white"
           },
           "yaxis": {
            "backgroundcolor": "#E5ECF6",
            "gridcolor": "white",
            "gridwidth": 2,
            "linecolor": "white",
            "showbackground": true,
            "ticks": "",
            "zerolinecolor": "white"
           },
           "zaxis": {
            "backgroundcolor": "#E5ECF6",
            "gridcolor": "white",
            "gridwidth": 2,
            "linecolor": "white",
            "showbackground": true,
            "ticks": "",
            "zerolinecolor": "white"
           }
          },
          "shapedefaults": {
           "line": {
            "color": "#2a3f5f"
           }
          },
          "ternary": {
           "aaxis": {
            "gridcolor": "white",
            "linecolor": "white",
            "ticks": ""
           },
           "baxis": {
            "gridcolor": "white",
            "linecolor": "white",
            "ticks": ""
           },
           "bgcolor": "#E5ECF6",
           "caxis": {
            "gridcolor": "white",
            "linecolor": "white",
            "ticks": ""
           }
          },
          "title": {
           "x": 0.05
          },
          "xaxis": {
           "automargin": true,
           "gridcolor": "white",
           "linecolor": "white",
           "ticks": "",
           "title": {
            "standoff": 15
           },
           "zerolinecolor": "white",
           "zerolinewidth": 2
          },
          "yaxis": {
           "automargin": true,
           "gridcolor": "white",
           "linecolor": "white",
           "ticks": "",
           "title": {
            "standoff": 15
           },
           "zerolinecolor": "white",
           "zerolinewidth": 2
          }
         }
        },
        "xaxis": {
         "anchor": "y",
         "domain": [
          0,
          1
         ],
         "title": {
          "text": "x"
         }
        },
        "yaxis": {
         "anchor": "x",
         "domain": [
          0,
          1
         ],
         "title": {
          "text": "y"
         }
        }
       }
      }
     },
     "metadata": {},
     "output_type": "display_data"
    }
   ],
   "source": [
    "fig = px.scatter(\n",
    "    df,\n",
    "    x=\"x\",\n",
    "    y=\"y\",\n",
    "    color=\"label\",\n",
    "    hover_data=[\"label\", \"cluster\", \"pub_id\", \"survey_group\"],\n",
    ")\n",
    "fig.update_traces(marker_opacity=0.9)\n",
    "fig.show()"
   ]
  },
  {
   "cell_type": "code",
   "execution_count": 27,
   "metadata": {},
   "outputs": [],
   "source": [
    "import umap\n",
    "\n",
    "umap_embeddings = umap.UMAP(n_neighbors=20, min_dist=0.2, metric=\"cosine\").fit_transform(\n",
    "    all_embeddings\n",
    ")"
   ]
  },
  {
   "cell_type": "code",
   "execution_count": 28,
   "metadata": {},
   "outputs": [
    {
     "data": {
      "application/vnd.plotly.v1+json": {
       "config": {
        "plotlyServerURL": "https://plot.ly"
       },
       "data": [
        {
         "customdata": [
          [
           "Survey",
           0,
           "pub.1175782890",
           "Survey - Perovskite Solar Cells Stability"
          ],
          [
           "Survey",
           14,
           "pub.1163752603",
           "Survey - Green Warehousing"
          ],
          [
           "Survey",
           4,
           "pub.1156021846",
           "Survey - Sustainable Biofuel"
          ],
          [
           "Survey",
           1,
           "pub.1147958699",
           "Survey - Drones in Agriculture"
          ],
          [
           "Survey",
           8,
           "pub.1130187939",
           "Survey - Crop Yield Prediction"
          ],
          [
           "Survey",
           5,
           "pub.1129627241",
           "Survey - Tourism Growth Nexus"
          ],
          [
           "Survey",
           3,
           "pub.1127137176",
           "Survey - Nanoparticles"
          ],
          [
           "Survey",
           7,
           "pub.1103814815",
           "Survey - Internet of Things in Healthcare"
          ],
          [
           "Survey",
           2,
           "pub.1159788042",
           "Survey - Robotic Arthroplasty"
          ],
          [
           "Survey",
           7,
           "pub.1146747333",
           "Survey - AI on Edge Devices"
          ],
          [
           "Survey",
           12,
           "pub.1110896992",
           "Survey - Cervical Myelopathy"
          ],
          [
           "Survey",
           6,
           "pub.1104146079",
           "Survey - Soft Robotics"
          ],
          [
           "Survey",
           13,
           "pub.1035441940",
           "Survey - Synthetic Biology"
          ],
          [
           "Survey",
           10,
           "pub.1022983337",
           "Survey - Resilience in Business and management"
          ],
          [
           "Survey",
           5,
           "pub.1019398108",
           "Survey - Energy Growth Nexus"
          ]
         ],
         "hovertemplate": "label=%{customdata[0]}<br>x=%{x}<br>y=%{y}<br>cluster=%{customdata[1]}<br>pub_id=%{customdata[2]}<br>survey_group=%{customdata[3]}<extra></extra>",
         "legendgroup": "Survey",
         "marker": {
          "color": "#2f4f4f",
          "opacity": 0.9,
          "symbol": "circle"
         },
         "mode": "markers",
         "name": "Survey",
         "orientation": "v",
         "showlegend": true,
         "type": "scatter",
         "x": [
          6.801948,
          12.35588,
          16.154062,
          14.915999,
          11.985629,
          5.9972324,
          10.231768,
          19.79134,
          -3.089813,
          17.745644,
          -3.9758039,
          6.9253383,
          7.432118,
          14.034694,
          7.456339
         ],
         "xaxis": "x",
         "y": [
          -3.520809,
          -3.5264633,
          1.1483872,
          14.33437,
          14.573829,
          -10.206379,
          5.5189157,
          12.75145,
          5.0302033,
          12.623549,
          9.572832,
          8.647087,
          3.670801,
          -2.7796082,
          -11.280062
         ],
         "yaxis": "y"
        },
        {
         "customdata": [
          [
           "Perovskite Solar Cells Stability",
           0,
           "pub.1165052499",
           ""
          ],
          [
           "Perovskite Solar Cells Stability",
           0,
           "pub.1165045432",
           ""
          ],
          [
           "Perovskite Solar Cells Stability",
           0,
           "pub.1163801313",
           ""
          ],
          [
           "Perovskite Solar Cells Stability",
           0,
           "pub.1149826171",
           ""
          ],
          [
           "Perovskite Solar Cells Stability",
           0,
           "pub.1147021977",
           ""
          ],
          [
           "Perovskite Solar Cells Stability",
           0,
           "pub.1146288953",
           ""
          ],
          [
           "Perovskite Solar Cells Stability",
           0,
           "pub.1146009839",
           ""
          ],
          [
           "Perovskite Solar Cells Stability",
           0,
           "pub.1145696652",
           ""
          ],
          [
           "Perovskite Solar Cells Stability",
           0,
           "pub.1145043743",
           ""
          ],
          [
           "Perovskite Solar Cells Stability",
           0,
           "pub.1144827854",
           ""
          ],
          [
           "Perovskite Solar Cells Stability",
           0,
           "pub.1144465306",
           ""
          ],
          [
           "Perovskite Solar Cells Stability",
           0,
           "pub.1144054488",
           ""
          ],
          [
           "Perovskite Solar Cells Stability",
           0,
           "pub.1174552302",
           ""
          ],
          [
           "Perovskite Solar Cells Stability",
           0,
           "pub.1166074282",
           ""
          ],
          [
           "Perovskite Solar Cells Stability",
           0,
           "pub.1163986255",
           ""
          ],
          [
           "Perovskite Solar Cells Stability",
           0,
           "pub.1160686387",
           ""
          ],
          [
           "Perovskite Solar Cells Stability",
           0,
           "pub.1160324074",
           ""
          ],
          [
           "Perovskite Solar Cells Stability",
           0,
           "pub.1159957570",
           ""
          ],
          [
           "Perovskite Solar Cells Stability",
           0,
           "pub.1158362233",
           ""
          ],
          [
           "Perovskite Solar Cells Stability",
           0,
           "pub.1158048403",
           ""
          ],
          [
           "Perovskite Solar Cells Stability",
           0,
           "pub.1157586280",
           ""
          ],
          [
           "Perovskite Solar Cells Stability",
           0,
           "pub.1155457945",
           ""
          ],
          [
           "Perovskite Solar Cells Stability",
           0,
           "pub.1154888847",
           ""
          ],
          [
           "Perovskite Solar Cells Stability",
           0,
           "pub.1147833193",
           ""
          ],
          [
           "Perovskite Solar Cells Stability",
           0,
           "pub.1147293706",
           ""
          ],
          [
           "Perovskite Solar Cells Stability",
           0,
           "pub.1147185686",
           ""
          ],
          [
           "Perovskite Solar Cells Stability",
           0,
           "pub.1147054891",
           ""
          ],
          [
           "Perovskite Solar Cells Stability",
           0,
           "pub.1146620041",
           ""
          ],
          [
           "Perovskite Solar Cells Stability",
           0,
           "pub.1141876155",
           ""
          ]
         ],
         "hovertemplate": "label=%{customdata[0]}<br>x=%{x}<br>y=%{y}<br>cluster=%{customdata[1]}<br>pub_id=%{customdata[2]}<br>survey_group=%{customdata[3]}<extra></extra>",
         "legendgroup": "Perovskite Solar Cells Stability",
         "marker": {
          "color": "#a0522d",
          "opacity": 0.9,
          "symbol": "circle"
         },
         "mode": "markers",
         "name": "Perovskite Solar Cells Stability",
         "orientation": "v",
         "showlegend": true,
         "type": "scatter",
         "x": [
          6.63812,
          6.7427616,
          6.542583,
          6.86567,
          6.468332,
          6.595602,
          6.8227367,
          6.87371,
          6.435205,
          6.6340947,
          6.8022614,
          6.5337486,
          6.4910517,
          6.532428,
          6.838857,
          6.7199636,
          6.5207853,
          6.6562405,
          6.624503,
          6.9680266,
          6.365062,
          6.716811,
          6.7689614,
          6.843966,
          6.4942656,
          6.6588287,
          6.74234,
          6.467612,
          6.9301367
         ],
         "xaxis": "x",
         "y": [
          -3.3197973,
          -3.3006473,
          -3.2558346,
          -2.892922,
          -3.3513932,
          -3.277501,
          -3.2365386,
          -3.2668703,
          -3.0650637,
          -3.072221,
          -3.0397797,
          -3.4469934,
          -3.4424431,
          -3.0801363,
          -3.5170321,
          -3.2300892,
          -2.9635837,
          -3.1759388,
          -3.1894834,
          -2.9249117,
          -3.00766,
          -2.9897728,
          -3.3331401,
          -2.9021673,
          -3.022562,
          -3.0389326,
          -2.8938668,
          -2.9416533,
          -2.9732523
         ],
         "yaxis": "y"
        },
        {
         "customdata": [
          [
           "Green Warehousing",
           14,
           "pub.1138791522",
           ""
          ],
          [
           "Green Warehousing",
           14,
           "pub.1130342326",
           ""
          ],
          [
           "Green Warehousing",
           14,
           "pub.1130180156",
           ""
          ],
          [
           "Green Warehousing",
           14,
           "pub.1126001650",
           ""
          ],
          [
           "Green Warehousing",
           14,
           "pub.1123270626",
           ""
          ],
          [
           "Green Warehousing",
           14,
           "pub.1119922340",
           ""
          ],
          [
           "Green Warehousing",
           14,
           "pub.1113285021",
           ""
          ],
          [
           "Green Warehousing",
           14,
           "pub.1112019846",
           ""
          ],
          [
           "Green Warehousing",
           14,
           "pub.1110525171",
           ""
          ],
          [
           "Green Warehousing",
           14,
           "pub.1104201531",
           ""
          ],
          [
           "Green Warehousing",
           14,
           "pub.1103540197",
           ""
          ],
          [
           "Green Warehousing",
           14,
           "pub.1093378447",
           ""
          ],
          [
           "Green Warehousing",
           14,
           "pub.1092850655",
           ""
          ],
          [
           "Green Warehousing",
           14,
           "pub.1090587762",
           ""
          ],
          [
           "Green Warehousing",
           14,
           "pub.1071706254",
           ""
          ],
          [
           "Green Warehousing",
           14,
           "pub.1029079666",
           ""
          ],
          [
           "Green Warehousing",
           14,
           "pub.1026334040",
           ""
          ],
          [
           "Green Warehousing",
           14,
           "pub.1024780163",
           ""
          ],
          [
           "Green Warehousing",
           14,
           "pub.1018121211",
           ""
          ],
          [
           "Green Warehousing",
           14,
           "pub.1015228225",
           ""
          ],
          [
           "Green Warehousing",
           14,
           "pub.1013561216",
           ""
          ],
          [
           "Green Warehousing",
           14,
           "pub.1013525464",
           ""
          ],
          [
           "Green Warehousing",
           14,
           "pub.1002243471",
           ""
          ],
          [
           "Green Warehousing",
           14,
           "pub.1127953927",
           ""
          ],
          [
           "Green Warehousing",
           14,
           "pub.1126155979",
           ""
          ],
          [
           "Green Warehousing",
           14,
           "pub.1125842670",
           ""
          ],
          [
           "Green Warehousing",
           14,
           "pub.1121161391",
           ""
          ],
          [
           "Green Warehousing",
           14,
           "pub.1120216323",
           ""
          ],
          [
           "Green Warehousing",
           14,
           "pub.1120098405",
           ""
          ],
          [
           "Green Warehousing",
           14,
           "pub.1106687077",
           ""
          ],
          [
           "Green Warehousing",
           14,
           "pub.1105183849",
           ""
          ],
          [
           "Green Warehousing",
           14,
           "pub.1099594878",
           ""
          ],
          [
           "Green Warehousing",
           14,
           "pub.1092868344",
           ""
          ],
          [
           "Green Warehousing",
           14,
           "pub.1087177293",
           ""
          ],
          [
           "Green Warehousing",
           14,
           "pub.1067495690",
           ""
          ],
          [
           "Green Warehousing",
           14,
           "pub.1035930497",
           ""
          ],
          [
           "Green Warehousing",
           14,
           "pub.1015425126",
           ""
          ],
          [
           "Green Warehousing",
           14,
           "pub.1008996397",
           ""
          ]
         ],
         "hovertemplate": "label=%{customdata[0]}<br>x=%{x}<br>y=%{y}<br>cluster=%{customdata[1]}<br>pub_id=%{customdata[2]}<br>survey_group=%{customdata[3]}<extra></extra>",
         "legendgroup": "Green Warehousing",
         "marker": {
          "color": "#006400",
          "opacity": 0.9,
          "symbol": "circle"
         },
         "mode": "markers",
         "name": "Green Warehousing",
         "orientation": "v",
         "showlegend": true,
         "type": "scatter",
         "x": [
          11.701172,
          12.657022,
          11.038633,
          11.272588,
          12.5206995,
          11.529135,
          12.369447,
          11.235391,
          11.770489,
          11.701479,
          12.54692,
          11.93654,
          11.157536,
          11.733021,
          11.966471,
          11.936854,
          12.051718,
          12.148884,
          11.263883,
          11.840134,
          12.4808655,
          11.351173,
          11.843933,
          12.466287,
          12.001765,
          12.238604,
          12.598747,
          12.412807,
          11.541202,
          12.2457075,
          12.628865,
          11.099464,
          11.274005,
          12.195311,
          12.050368,
          12.195301,
          11.442063,
          12.2875595
         ],
         "xaxis": "x",
         "y": [
          -3.333669,
          -3.814763,
          -3.3038511,
          -3.4308972,
          -3.750138,
          -3.6601973,
          -3.5496752,
          -3.290486,
          -3.1798263,
          -3.4619267,
          -3.763104,
          -3.321566,
          -3.3544185,
          -3.019813,
          -3.1881952,
          -3.0471551,
          -3.3621287,
          -3.4432974,
          -3.177912,
          -3.6101918,
          -3.6644409,
          -3.515561,
          -3.2503731,
          -3.6900828,
          -3.113971,
          -3.4197056,
          -3.8090823,
          -3.6203678,
          -3.5411034,
          -3.2957537,
          -3.4841833,
          -3.336604,
          -3.5261962,
          -3.3339345,
          -3.151178,
          -3.5944908,
          -3.4500659,
          -3.4126804
         ],
         "yaxis": "y"
        },
        {
         "customdata": [
          [
           "AI on Edge Devices",
           7,
           "pub.1128852448",
           ""
          ],
          [
           "AI on Edge Devices",
           7,
           "pub.1128479095",
           ""
          ],
          [
           "AI on Edge Devices",
           7,
           "pub.1127250882",
           ""
          ],
          [
           "AI on Edge Devices",
           7,
           "pub.1126481351",
           ""
          ],
          [
           "AI on Edge Devices",
           7,
           "pub.1125925617",
           ""
          ],
          [
           "AI on Edge Devices",
           7,
           "pub.1124148063",
           ""
          ],
          [
           "AI on Edge Devices",
           7,
           "pub.1122515167",
           ""
          ],
          [
           "AI on Edge Devices",
           7,
           "pub.1122235047",
           ""
          ],
          [
           "AI on Edge Devices",
           7,
           "pub.1121932678",
           ""
          ],
          [
           "AI on Edge Devices",
           7,
           "pub.1121194812",
           ""
          ],
          [
           "AI on Edge Devices",
           7,
           "pub.1118735394",
           ""
          ],
          [
           "AI on Edge Devices",
           7,
           "pub.1118023870",
           ""
          ],
          [
           "AI on Edge Devices",
           7,
           "pub.1117920554",
           ""
          ],
          [
           "AI on Edge Devices",
           1,
           "pub.1114352564",
           ""
          ],
          [
           "AI on Edge Devices",
           7,
           "pub.1112862699",
           ""
          ],
          [
           "AI on Edge Devices",
           7,
           "pub.1110420318",
           ""
          ],
          [
           "AI on Edge Devices",
           7,
           "pub.1104338333",
           ""
          ],
          [
           "AI on Edge Devices",
           7,
           "pub.1100673785",
           ""
          ],
          [
           "AI on Edge Devices",
           7,
           "pub.1083507587",
           ""
          ],
          [
           "AI on Edge Devices",
           7,
           "pub.1128716869",
           ""
          ],
          [
           "AI on Edge Devices",
           7,
           "pub.1125166251",
           ""
          ],
          [
           "AI on Edge Devices",
           7,
           "pub.1125166037",
           ""
          ],
          [
           "AI on Edge Devices",
           7,
           "pub.1124436340",
           ""
          ],
          [
           "AI on Edge Devices",
           7,
           "pub.1124081996",
           ""
          ],
          [
           "AI on Edge Devices",
           7,
           "pub.1123810093",
           ""
          ],
          [
           "AI on Edge Devices",
           7,
           "pub.1122596363",
           ""
          ],
          [
           "AI on Edge Devices",
           7,
           "pub.1122519012",
           ""
          ],
          [
           "AI on Edge Devices",
           7,
           "pub.1122068746",
           ""
          ],
          [
           "AI on Edge Devices",
           7,
           "pub.1121628094",
           ""
          ],
          [
           "AI on Edge Devices",
           7,
           "pub.1116154247",
           ""
          ],
          [
           "AI on Edge Devices",
           7,
           "pub.1113065842",
           ""
          ],
          [
           "AI on Edge Devices",
           7,
           "pub.1110363845",
           ""
          ],
          [
           "AI on Edge Devices",
           7,
           "pub.1107023934",
           ""
          ],
          [
           "AI on Edge Devices",
           7,
           "pub.1106394770",
           ""
          ],
          [
           "AI on Edge Devices",
           7,
           "pub.1103977084",
           ""
          ],
          [
           "AI on Edge Devices",
           7,
           "pub.1094646899",
           ""
          ]
         ],
         "hovertemplate": "label=%{customdata[0]}<br>x=%{x}<br>y=%{y}<br>cluster=%{customdata[1]}<br>pub_id=%{customdata[2]}<br>survey_group=%{customdata[3]}<extra></extra>",
         "legendgroup": "AI on Edge Devices",
         "marker": {
          "color": "#000080",
          "opacity": 0.9,
          "symbol": "circle"
         },
         "mode": "markers",
         "name": "AI on Edge Devices",
         "orientation": "v",
         "showlegend": true,
         "type": "scatter",
         "x": [
          17.041428,
          17.62754,
          18.122288,
          18.00443,
          17.34529,
          17.419641,
          17.943266,
          17.783224,
          17.61945,
          17.430704,
          17.345161,
          17.674803,
          18.148035,
          17.063026,
          17.69082,
          17.672115,
          18.488985,
          17.840122,
          17.785292,
          17.359486,
          19.068295,
          17.963846,
          17.836405,
          18.14159,
          17.81521,
          17.903135,
          18.417322,
          17.361666,
          17.746244,
          17.954933,
          17.874512,
          17.556473,
          17.728708,
          17.58941,
          17.816902,
          18.557722
         ],
         "xaxis": "x",
         "y": [
          12.918224,
          12.536729,
          12.650658,
          12.436738,
          12.935021,
          12.813529,
          12.8275175,
          12.874211,
          12.827558,
          12.993818,
          12.843618,
          12.336193,
          12.44557,
          13.041215,
          12.424312,
          12.712093,
          12.640029,
          12.601626,
          12.434064,
          12.989941,
          12.516462,
          12.574408,
          12.594922,
          12.58299,
          12.738934,
          12.619997,
          12.495368,
          12.609593,
          12.736833,
          12.743101,
          12.637829,
          12.859045,
          12.552006,
          12.83254,
          12.707094,
          12.6864195
         ],
         "yaxis": "y"
        },
        {
         "customdata": [
          [
           "Energy Growth Nexus",
           5,
           "pub.1123961798",
           ""
          ],
          [
           "Energy Growth Nexus",
           5,
           "pub.1052820957",
           ""
          ],
          [
           "Energy Growth Nexus",
           5,
           "pub.1050136415",
           ""
          ],
          [
           "Energy Growth Nexus",
           5,
           "pub.1048730269",
           ""
          ],
          [
           "Energy Growth Nexus",
           5,
           "pub.1047256779",
           ""
          ],
          [
           "Energy Growth Nexus",
           5,
           "pub.1045412034",
           ""
          ],
          [
           "Energy Growth Nexus",
           5,
           "pub.1042544661",
           ""
          ],
          [
           "Energy Growth Nexus",
           5,
           "pub.1042017662",
           ""
          ],
          [
           "Energy Growth Nexus",
           5,
           "pub.1041338787",
           ""
          ],
          [
           "Energy Growth Nexus",
           5,
           "pub.1036973953",
           ""
          ],
          [
           "Energy Growth Nexus",
           5,
           "pub.1022049865",
           ""
          ],
          [
           "Energy Growth Nexus",
           5,
           "pub.1021980170",
           ""
          ],
          [
           "Energy Growth Nexus",
           5,
           "pub.1009749897",
           ""
          ],
          [
           "Energy Growth Nexus",
           5,
           "pub.1009651790",
           ""
          ],
          [
           "Energy Growth Nexus",
           5,
           "pub.1009389919",
           ""
          ],
          [
           "Energy Growth Nexus",
           5,
           "pub.1006191975",
           ""
          ],
          [
           "Energy Growth Nexus",
           5,
           "pub.1002720309",
           ""
          ],
          [
           "Energy Growth Nexus",
           5,
           "pub.1053441851",
           ""
          ],
          [
           "Energy Growth Nexus",
           5,
           "pub.1052542598",
           ""
          ],
          [
           "Energy Growth Nexus",
           5,
           "pub.1051802627",
           ""
          ],
          [
           "Energy Growth Nexus",
           5,
           "pub.1040160107",
           ""
          ],
          [
           "Energy Growth Nexus",
           5,
           "pub.1032217726",
           ""
          ],
          [
           "Energy Growth Nexus",
           5,
           "pub.1031321996",
           ""
          ],
          [
           "Energy Growth Nexus",
           5,
           "pub.1024937016",
           ""
          ],
          [
           "Energy Growth Nexus",
           5,
           "pub.1013831878",
           ""
          ],
          [
           "Energy Growth Nexus",
           5,
           "pub.1006882307",
           ""
          ],
          [
           "Energy Growth Nexus",
           5,
           "pub.1005732591",
           ""
          ]
         ],
         "hovertemplate": "label=%{customdata[0]}<br>x=%{x}<br>y=%{y}<br>cluster=%{customdata[1]}<br>pub_id=%{customdata[2]}<br>survey_group=%{customdata[3]}<extra></extra>",
         "legendgroup": "Energy Growth Nexus",
         "marker": {
          "color": "#ff0000",
          "opacity": 0.9,
          "symbol": "circle"
         },
         "mode": "markers",
         "name": "Energy Growth Nexus",
         "orientation": "v",
         "showlegend": true,
         "type": "scatter",
         "x": [
          7.2680087,
          6.7870493,
          7.1542473,
          7.207044,
          6.862427,
          7.0410686,
          6.6909537,
          7.4578915,
          7.2415385,
          6.800822,
          7.300092,
          7.3655095,
          6.907261,
          7.108393,
          7.055212,
          6.9886465,
          7.1921687,
          7.040416,
          7.3251433,
          7.153091,
          7.027591,
          7.079599,
          6.968002,
          6.7328424,
          6.8843374,
          6.9223843,
          7.2078495
         ],
         "xaxis": "x",
         "y": [
          -10.870168,
          -11.199661,
          -11.361645,
          -11.343107,
          -11.005242,
          -11.48927,
          -10.611095,
          -11.1177635,
          -11.257471,
          -10.603906,
          -11.424168,
          -11.234784,
          -10.832051,
          -11.239055,
          -11.135667,
          -11.346406,
          -11.361833,
          -11.23893,
          -11.357312,
          -11.33161,
          -11.463628,
          -10.994907,
          -10.910677,
          -10.646062,
          -10.857881,
          -11.065599,
          -11.402891
         ],
         "yaxis": "y"
        },
        {
         "customdata": [
          [
           "Drones in Agriculture",
           1,
           "pub.1113441179",
           ""
          ],
          [
           "Drones in Agriculture",
           1,
           "pub.1094775321",
           ""
          ],
          [
           "Drones in Agriculture",
           1,
           "pub.1092454498",
           ""
          ],
          [
           "Drones in Agriculture",
           1,
           "pub.1086143194",
           ""
          ],
          [
           "Drones in Agriculture",
           1,
           "pub.1071268140",
           ""
          ],
          [
           "Drones in Agriculture",
           1,
           "pub.1064896140",
           ""
          ],
          [
           "Drones in Agriculture",
           1,
           "pub.1064892999",
           ""
          ],
          [
           "Drones in Agriculture",
           1,
           "pub.1032694598",
           ""
          ],
          [
           "Drones in Agriculture",
           1,
           "pub.1022922533",
           ""
          ],
          [
           "Drones in Agriculture",
           1,
           "pub.1013849273",
           ""
          ],
          [
           "Drones in Agriculture",
           1,
           "pub.1007471000",
           ""
          ],
          [
           "Drones in Agriculture",
           1,
           "pub.1002161636",
           ""
          ],
          [
           "Drones in Agriculture",
           1,
           "pub.1000225286",
           ""
          ],
          [
           "Drones in Agriculture",
           1,
           "pub.1061610686",
           ""
          ],
          [
           "Drones in Agriculture",
           1,
           "pub.1061280901",
           ""
          ],
          [
           "Drones in Agriculture",
           1,
           "pub.1052390127",
           ""
          ],
          [
           "Drones in Agriculture",
           1,
           "pub.1028947023",
           ""
          ],
          [
           "Drones in Agriculture",
           1,
           "pub.1027978650",
           ""
          ],
          [
           "Drones in Agriculture",
           1,
           "pub.1025608752",
           ""
          ],
          [
           "Drones in Agriculture",
           1,
           "pub.1023847193",
           ""
          ],
          [
           "Drones in Agriculture",
           1,
           "pub.1020655667",
           ""
          ],
          [
           "Drones in Agriculture",
           1,
           "pub.1014003350",
           ""
          ],
          [
           "Drones in Agriculture",
           1,
           "pub.1010901465",
           ""
          ],
          [
           "Drones in Agriculture",
           1,
           "pub.1007702481",
           ""
          ],
          [
           "Drones in Agriculture",
           1,
           "pub.1003882381",
           ""
          ]
         ],
         "hovertemplate": "label=%{customdata[0]}<br>x=%{x}<br>y=%{y}<br>cluster=%{customdata[1]}<br>pub_id=%{customdata[2]}<br>survey_group=%{customdata[3]}<extra></extra>",
         "legendgroup": "Drones in Agriculture",
         "marker": {
          "color": "#00ced1",
          "opacity": 0.9,
          "symbol": "circle"
         },
         "mode": "markers",
         "name": "Drones in Agriculture",
         "orientation": "v",
         "showlegend": true,
         "type": "scatter",
         "x": [
          14.94918,
          15.231086,
          14.507662,
          14.004951,
          14.3455305,
          14.901067,
          14.575337,
          14.692897,
          14.505515,
          15.1078205,
          13.921028,
          14.4724245,
          14.362117,
          14.411854,
          15.034152,
          14.466794,
          14.80618,
          14.558386,
          14.819131,
          14.715177,
          14.562571,
          14.767826,
          14.633053,
          14.424696,
          14.534598
         ],
         "xaxis": "x",
         "y": [
          14.235853,
          13.747617,
          14.381554,
          14.349804,
          14.1441345,
          14.102433,
          14.010628,
          13.981254,
          14.203146,
          14.178041,
          14.209443,
          13.956288,
          14.107655,
          14.112546,
          14.236063,
          14.13493,
          14.117588,
          13.968003,
          14.211242,
          14.070329,
          14.374539,
          14.189857,
          14.438956,
          14.036302,
          14.168896
         ],
         "yaxis": "y"
        },
        {
         "customdata": [
          [
           "Crop Yield Prediction",
           8,
           "pub.1112087374",
           ""
          ],
          [
           "Crop Yield Prediction",
           8,
           "pub.1111503060",
           ""
          ],
          [
           "Crop Yield Prediction",
           8,
           "pub.1107925034",
           ""
          ],
          [
           "Crop Yield Prediction",
           8,
           "pub.1107298395",
           ""
          ],
          [
           "Crop Yield Prediction",
           8,
           "pub.1106988165",
           ""
          ],
          [
           "Crop Yield Prediction",
           8,
           "pub.1106034026",
           ""
          ],
          [
           "Crop Yield Prediction",
           8,
           "pub.1105035509",
           ""
          ],
          [
           "Crop Yield Prediction",
           8,
           "pub.1103323054",
           ""
          ],
          [
           "Crop Yield Prediction",
           8,
           "pub.1103286049",
           ""
          ],
          [
           "Crop Yield Prediction",
           8,
           "pub.1095777829",
           ""
          ],
          [
           "Crop Yield Prediction",
           8,
           "pub.1095337245",
           ""
          ],
          [
           "Crop Yield Prediction",
           8,
           "pub.1094455706",
           ""
          ],
          [
           "Crop Yield Prediction",
           8,
           "pub.1094154280",
           ""
          ],
          [
           "Crop Yield Prediction",
           8,
           "pub.1093448171",
           ""
          ],
          [
           "Crop Yield Prediction",
           8,
           "pub.1087231057",
           ""
          ],
          [
           "Crop Yield Prediction",
           8,
           "pub.1085732641",
           ""
          ],
          [
           "Crop Yield Prediction",
           8,
           "pub.1085640773",
           ""
          ],
          [
           "Crop Yield Prediction",
           8,
           "pub.1083753722",
           ""
          ],
          [
           "Crop Yield Prediction",
           8,
           "pub.1072842102",
           ""
          ],
          [
           "Crop Yield Prediction",
           8,
           "pub.1061334272",
           ""
          ],
          [
           "Crop Yield Prediction",
           8,
           "pub.1040894579",
           ""
          ],
          [
           "Crop Yield Prediction",
           8,
           "pub.1016061586",
           ""
          ],
          [
           "Crop Yield Prediction",
           8,
           "pub.1013313926",
           ""
          ],
          [
           "Crop Yield Prediction",
           8,
           "pub.1011532234",
           ""
          ],
          [
           "Crop Yield Prediction",
           8,
           "pub.1003896548",
           ""
          ],
          [
           "Crop Yield Prediction",
           8,
           "pub.1003708746",
           ""
          ],
          [
           "Crop Yield Prediction",
           8,
           "pub.1001065952",
           ""
          ],
          [
           "Crop Yield Prediction",
           8,
           "pub.1111269831",
           ""
          ],
          [
           "Crop Yield Prediction",
           8,
           "pub.1106284861",
           ""
          ],
          [
           "Crop Yield Prediction",
           8,
           "pub.1105144504",
           ""
          ],
          [
           "Crop Yield Prediction",
           8,
           "pub.1105021375",
           ""
          ],
          [
           "Crop Yield Prediction",
           8,
           "pub.1103481417",
           ""
          ],
          [
           "Crop Yield Prediction",
           8,
           "pub.1094483007",
           ""
          ],
          [
           "Crop Yield Prediction",
           8,
           "pub.1093670904",
           ""
          ],
          [
           "Crop Yield Prediction",
           8,
           "pub.1093207217",
           ""
          ],
          [
           "Crop Yield Prediction",
           8,
           "pub.1084919232",
           ""
          ],
          [
           "Crop Yield Prediction",
           8,
           "pub.1083415540",
           ""
          ],
          [
           "Crop Yield Prediction",
           8,
           "pub.1061614459",
           ""
          ],
          [
           "Crop Yield Prediction",
           8,
           "pub.1041052930",
           ""
          ],
          [
           "Crop Yield Prediction",
           8,
           "pub.1033490641",
           ""
          ],
          [
           "Crop Yield Prediction",
           8,
           "pub.1033258084",
           ""
          ],
          [
           "Crop Yield Prediction",
           8,
           "pub.1031921576",
           ""
          ],
          [
           "Crop Yield Prediction",
           8,
           "pub.1028808547",
           ""
          ],
          [
           "Crop Yield Prediction",
           8,
           "pub.1005691069",
           ""
          ],
          [
           "Crop Yield Prediction",
           8,
           "pub.1004965338",
           ""
          ],
          [
           "Crop Yield Prediction",
           8,
           "pub.1001894773",
           ""
          ]
         ],
         "hovertemplate": "label=%{customdata[0]}<br>x=%{x}<br>y=%{y}<br>cluster=%{customdata[1]}<br>pub_id=%{customdata[2]}<br>survey_group=%{customdata[3]}<extra></extra>",
         "legendgroup": "Crop Yield Prediction",
         "marker": {
          "color": "#ffa500",
          "opacity": 0.9,
          "symbol": "circle"
         },
         "mode": "markers",
         "name": "Crop Yield Prediction",
         "orientation": "v",
         "showlegend": true,
         "type": "scatter",
         "x": [
          12.119113,
          12.016358,
          12.261877,
          12.038671,
          12.253197,
          12.355163,
          12.16632,
          12.686842,
          12.309817,
          11.923153,
          12.290497,
          11.690753,
          12.027409,
          11.821128,
          12.49583,
          12.398168,
          12.037302,
          12.815163,
          12.112589,
          12.952494,
          12.478626,
          12.240092,
          12.53747,
          12.389974,
          12.287007,
          12.415773,
          12.200416,
          12.256541,
          12.612948,
          11.990498,
          12.484503,
          12.013267,
          11.798852,
          11.91385,
          11.858109,
          11.772598,
          11.913879,
          12.679398,
          12.54808,
          12.6189575,
          12.38046,
          11.994426,
          11.925426,
          12.12986,
          12.50304,
          12.3014765
         ],
         "xaxis": "x",
         "y": [
          14.417942,
          14.515599,
          14.699192,
          14.375617,
          14.516491,
          14.463812,
          14.881205,
          14.03032,
          14.590521,
          14.195503,
          14.266753,
          14.821349,
          14.814873,
          14.448216,
          14.438128,
          14.942941,
          14.164849,
          14.126095,
          14.578424,
          14.541028,
          14.486621,
          14.325692,
          14.076182,
          14.712719,
          14.678984,
          14.767222,
          15.007073,
          14.781374,
          14.660354,
          14.492825,
          14.785775,
          14.747047,
          14.739465,
          14.592717,
          14.852644,
          14.734304,
          14.520701,
          14.178368,
          14.104302,
          14.574216,
          14.293522,
          14.301101,
          14.221605,
          14.105488,
          14.963574,
          14.90298
         ],
         "yaxis": "y"
        },
        {
         "customdata": [
          [
           "Sustainable Biofuel",
           9,
           "pub.1107587297",
           ""
          ],
          [
           "Sustainable Biofuel",
           4,
           "pub.1100466182",
           ""
          ],
          [
           "Sustainable Biofuel",
           4,
           "pub.1072974020",
           ""
          ],
          [
           "Sustainable Biofuel",
           4,
           "pub.1061936485",
           ""
          ],
          [
           "Sustainable Biofuel",
           4,
           "pub.1059379956",
           ""
          ],
          [
           "Sustainable Biofuel",
           9,
           "pub.1052527949",
           ""
          ],
          [
           "Sustainable Biofuel",
           9,
           "pub.1050772383",
           ""
          ],
          [
           "Sustainable Biofuel",
           4,
           "pub.1046534403",
           ""
          ],
          [
           "Sustainable Biofuel",
           4,
           "pub.1042117532",
           ""
          ],
          [
           "Sustainable Biofuel",
           4,
           "pub.1040677299",
           ""
          ],
          [
           "Sustainable Biofuel",
           4,
           "pub.1037107713",
           ""
          ],
          [
           "Sustainable Biofuel",
           9,
           "pub.1034672998",
           ""
          ],
          [
           "Sustainable Biofuel",
           4,
           "pub.1029572917",
           ""
          ],
          [
           "Sustainable Biofuel",
           9,
           "pub.1024929365",
           ""
          ],
          [
           "Sustainable Biofuel",
           9,
           "pub.1023297174",
           ""
          ],
          [
           "Sustainable Biofuel",
           4,
           "pub.1023206201",
           ""
          ],
          [
           "Sustainable Biofuel",
           9,
           "pub.1019705090",
           ""
          ],
          [
           "Sustainable Biofuel",
           9,
           "pub.1015524088",
           ""
          ],
          [
           "Sustainable Biofuel",
           9,
           "pub.1011757946",
           ""
          ],
          [
           "Sustainable Biofuel",
           4,
           "pub.1003364215",
           ""
          ],
          [
           "Sustainable Biofuel",
           9,
           "pub.1128580761",
           ""
          ],
          [
           "Sustainable Biofuel",
           9,
           "pub.1125099402",
           ""
          ],
          [
           "Sustainable Biofuel",
           9,
           "pub.1122753999",
           ""
          ],
          [
           "Sustainable Biofuel",
           4,
           "pub.1113705995",
           ""
          ],
          [
           "Sustainable Biofuel",
           9,
           "pub.1111976854",
           ""
          ],
          [
           "Sustainable Biofuel",
           9,
           "pub.1111565453",
           ""
          ],
          [
           "Sustainable Biofuel",
           9,
           "pub.1104374325",
           ""
          ],
          [
           "Sustainable Biofuel",
           4,
           "pub.1103810413",
           ""
          ],
          [
           "Sustainable Biofuel",
           4,
           "pub.1101561277",
           ""
          ],
          [
           "Sustainable Biofuel",
           4,
           "pub.1100248345",
           ""
          ],
          [
           "Sustainable Biofuel",
           4,
           "pub.1061934170",
           ""
          ],
          [
           "Sustainable Biofuel",
           4,
           "pub.1061934137",
           ""
          ],
          [
           "Sustainable Biofuel",
           4,
           "pub.1059570180",
           ""
          ],
          [
           "Sustainable Biofuel",
           9,
           "pub.1052968606",
           ""
          ],
          [
           "Sustainable Biofuel",
           4,
           "pub.1049492388",
           ""
          ],
          [
           "Sustainable Biofuel",
           9,
           "pub.1048939047",
           ""
          ],
          [
           "Sustainable Biofuel",
           4,
           "pub.1047356473",
           ""
          ],
          [
           "Sustainable Biofuel",
           9,
           "pub.1044581237",
           ""
          ],
          [
           "Sustainable Biofuel",
           4,
           "pub.1038072171",
           ""
          ],
          [
           "Sustainable Biofuel",
           9,
           "pub.1034625256",
           ""
          ],
          [
           "Sustainable Biofuel",
           9,
           "pub.1033108925",
           ""
          ],
          [
           "Sustainable Biofuel",
           9,
           "pub.1029649992",
           ""
          ],
          [
           "Sustainable Biofuel",
           4,
           "pub.1026369526",
           ""
          ],
          [
           "Sustainable Biofuel",
           4,
           "pub.1019951181",
           ""
          ],
          [
           "Sustainable Biofuel",
           9,
           "pub.1019376553",
           ""
          ],
          [
           "Sustainable Biofuel",
           4,
           "pub.1014664202",
           ""
          ],
          [
           "Sustainable Biofuel",
           9,
           "pub.1009832103",
           ""
          ],
          [
           "Sustainable Biofuel",
           9,
           "pub.1009744782",
           ""
          ],
          [
           "Sustainable Biofuel",
           4,
           "pub.1004602535",
           ""
          ],
          [
           "Sustainable Biofuel",
           9,
           "pub.1002495312",
           ""
          ]
         ],
         "hovertemplate": "label=%{customdata[0]}<br>x=%{x}<br>y=%{y}<br>cluster=%{customdata[1]}<br>pub_id=%{customdata[2]}<br>survey_group=%{customdata[3]}<extra></extra>",
         "legendgroup": "Sustainable Biofuel",
         "marker": {
          "color": "#ffff00",
          "opacity": 0.9,
          "symbol": "circle"
         },
         "mode": "markers",
         "name": "Sustainable Biofuel",
         "orientation": "v",
         "showlegend": true,
         "type": "scatter",
         "x": [
          15.289788,
          15.577987,
          16.28817,
          16.42541,
          16.38483,
          15.719234,
          15.573795,
          15.849202,
          16.298803,
          16.440193,
          16.157074,
          15.883305,
          15.938249,
          15.474702,
          15.5905,
          15.871395,
          15.700923,
          15.61354,
          15.348242,
          16.557177,
          15.297345,
          15.203243,
          15.274503,
          15.92925,
          15.378371,
          15.22186,
          15.629838,
          15.82938,
          16.354197,
          16.517042,
          16.366673,
          16.449059,
          16.218351,
          15.31526,
          16.206383,
          15.687848,
          16.30104,
          16.4038,
          15.987542,
          15.461055,
          15.411548,
          15.374095,
          15.879613,
          16.168415,
          15.597172,
          16.123558,
          15.331294,
          15.201097,
          16.445335,
          15.86803
         ],
         "xaxis": "x",
         "y": [
          2.1756003,
          1.3720362,
          0.777422,
          0.8963524,
          0.850803,
          1.5759696,
          2.0318816,
          1.3127925,
          0.96021193,
          1.2575388,
          0.9333661,
          1.652898,
          1.3381609,
          1.5553262,
          1.9278078,
          1.726201,
          1.9539608,
          1.4935954,
          2.1513226,
          1.269233,
          2.328599,
          2.1211295,
          1.6995413,
          1.016625,
          1.9461045,
          2.1224754,
          2.3577802,
          1.1024109,
          1.2479378,
          1.3947206,
          0.8165579,
          0.96749276,
          0.88608116,
          2.171265,
          1.1145161,
          1.9448931,
          0.96881914,
          1.543511,
          1.0974793,
          1.9660739,
          1.877994,
          2.1636486,
          1.4021953,
          0.91020936,
          1.8508327,
          0.967466,
          2.2539334,
          2.2546706,
          1.0960016,
          1.737649
         ],
         "yaxis": "y"
        },
        {
         "customdata": [
          [
           "Robotic Arthroplasty",
           2,
           "pub.1107054942",
           ""
          ],
          [
           "Robotic Arthroplasty",
           2,
           "pub.1105926995",
           ""
          ],
          [
           "Robotic Arthroplasty",
           2,
           "pub.1092914867",
           ""
          ],
          [
           "Robotic Arthroplasty",
           2,
           "pub.1092198359",
           ""
          ],
          [
           "Robotic Arthroplasty",
           2,
           "pub.1083695994",
           ""
          ],
          [
           "Robotic Arthroplasty",
           2,
           "pub.1077881457",
           ""
          ],
          [
           "Robotic Arthroplasty",
           2,
           "pub.1068898169",
           ""
          ],
          [
           "Robotic Arthroplasty",
           2,
           "pub.1068895745",
           ""
          ],
          [
           "Robotic Arthroplasty",
           2,
           "pub.1060167437",
           ""
          ],
          [
           "Robotic Arthroplasty",
           2,
           "pub.1060167433",
           ""
          ],
          [
           "Robotic Arthroplasty",
           2,
           "pub.1053567618",
           ""
          ],
          [
           "Robotic Arthroplasty",
           2,
           "pub.1053428144",
           ""
          ],
          [
           "Robotic Arthroplasty",
           2,
           "pub.1041693000",
           ""
          ],
          [
           "Robotic Arthroplasty",
           2,
           "pub.1040431710",
           ""
          ],
          [
           "Robotic Arthroplasty",
           2,
           "pub.1039984345",
           ""
          ],
          [
           "Robotic Arthroplasty",
           2,
           "pub.1036848872",
           ""
          ],
          [
           "Robotic Arthroplasty",
           2,
           "pub.1034566767",
           ""
          ],
          [
           "Robotic Arthroplasty",
           2,
           "pub.1033569916",
           ""
          ],
          [
           "Robotic Arthroplasty",
           2,
           "pub.1028449260",
           ""
          ],
          [
           "Robotic Arthroplasty",
           2,
           "pub.1014011841",
           ""
          ],
          [
           "Robotic Arthroplasty",
           2,
           "pub.1012736542",
           ""
          ],
          [
           "Robotic Arthroplasty",
           2,
           "pub.1003009109",
           ""
          ],
          [
           "Robotic Arthroplasty",
           2,
           "pub.1123098811",
           ""
          ],
          [
           "Robotic Arthroplasty",
           2,
           "pub.1121440882",
           ""
          ],
          [
           "Robotic Arthroplasty",
           2,
           "pub.1111052246",
           ""
          ],
          [
           "Robotic Arthroplasty",
           2,
           "pub.1107454237",
           ""
          ],
          [
           "Robotic Arthroplasty",
           2,
           "pub.1105917414",
           ""
          ],
          [
           "Robotic Arthroplasty",
           2,
           "pub.1105227244",
           ""
          ],
          [
           "Robotic Arthroplasty",
           2,
           "pub.1101146035",
           ""
          ],
          [
           "Robotic Arthroplasty",
           2,
           "pub.1100744263",
           ""
          ],
          [
           "Robotic Arthroplasty",
           2,
           "pub.1091777297",
           ""
          ],
          [
           "Robotic Arthroplasty",
           2,
           "pub.1085617296",
           ""
          ],
          [
           "Robotic Arthroplasty",
           2,
           "pub.1085423980",
           ""
          ],
          [
           "Robotic Arthroplasty",
           2,
           "pub.1064886544",
           ""
          ],
          [
           "Robotic Arthroplasty",
           2,
           "pub.1061784304",
           ""
          ],
          [
           "Robotic Arthroplasty",
           2,
           "pub.1061184595",
           ""
          ],
          [
           "Robotic Arthroplasty",
           2,
           "pub.1051764285",
           ""
          ],
          [
           "Robotic Arthroplasty",
           2,
           "pub.1048135360",
           ""
          ],
          [
           "Robotic Arthroplasty",
           2,
           "pub.1047113435",
           ""
          ],
          [
           "Robotic Arthroplasty",
           2,
           "pub.1046566936",
           ""
          ],
          [
           "Robotic Arthroplasty",
           2,
           "pub.1045115204",
           ""
          ],
          [
           "Robotic Arthroplasty",
           2,
           "pub.1033163258",
           ""
          ],
          [
           "Robotic Arthroplasty",
           2,
           "pub.1030382394",
           ""
          ],
          [
           "Robotic Arthroplasty",
           2,
           "pub.1023819845",
           ""
          ],
          [
           "Robotic Arthroplasty",
           2,
           "pub.1022546608",
           ""
          ],
          [
           "Robotic Arthroplasty",
           2,
           "pub.1020705223",
           ""
          ],
          [
           "Robotic Arthroplasty",
           2,
           "pub.1000309245",
           ""
          ]
         ],
         "hovertemplate": "label=%{customdata[0]}<br>x=%{x}<br>y=%{y}<br>cluster=%{customdata[1]}<br>pub_id=%{customdata[2]}<br>survey_group=%{customdata[3]}<extra></extra>",
         "legendgroup": "Robotic Arthroplasty",
         "marker": {
          "color": "#00ff00",
          "opacity": 0.9,
          "symbol": "circle"
         },
         "mode": "markers",
         "name": "Robotic Arthroplasty",
         "orientation": "v",
         "showlegend": true,
         "type": "scatter",
         "x": [
          -3.299188,
          -3.840328,
          -3.3291895,
          -3.3132517,
          -3.6886945,
          -3.096628,
          -3.6280553,
          -2.723607,
          -2.5372825,
          -2.8186526,
          -3.22684,
          -2.9391937,
          -2.7197049,
          -3.0095308,
          -3.8538158,
          -2.7868526,
          -3.0585988,
          -2.6022627,
          -3.825584,
          -3.993519,
          -2.7019663,
          -2.8880267,
          -3.8064067,
          -3.0344853,
          -3.6526537,
          -2.7607758,
          -3.6627126,
          -3.3180482,
          -3.742478,
          -3.9137688,
          -3.9295251,
          -2.7144206,
          -3.108604,
          -2.7105412,
          -3.0622134,
          -2.6396997,
          -3.445072,
          -2.9729838,
          -3.6835806,
          -3.1851745,
          -2.7247996,
          -2.491827,
          -3.914961,
          -2.637623,
          -4.012664,
          -3.1767485,
          -3.1618435
         ],
         "xaxis": "x",
         "y": [
          5.0575466,
          4.6911235,
          5.0664663,
          4.6467624,
          4.8455653,
          5.39193,
          4.568355,
          4.8929853,
          4.939229,
          5.2816267,
          4.724897,
          5.4201784,
          4.771335,
          5.1880164,
          4.7617917,
          5.124543,
          4.9160433,
          5.111533,
          4.7170963,
          4.8007936,
          4.983471,
          4.945159,
          4.7027636,
          5.169376,
          4.8765697,
          4.9037685,
          4.9828606,
          4.9215393,
          4.7789974,
          4.752117,
          4.8048387,
          4.9561,
          4.6626797,
          5.283272,
          4.8480673,
          5.1277876,
          4.7025375,
          5.136837,
          4.982631,
          4.8276615,
          5.316604,
          4.956913,
          4.8592663,
          4.817942,
          4.8372054,
          4.7626653,
          4.7785645
         ],
         "yaxis": "y"
        },
        {
         "customdata": [
          [
           "Soft Robotics",
           6,
           "pub.1099769159",
           ""
          ],
          [
           "Soft Robotics",
           6,
           "pub.1091247330",
           ""
          ],
          [
           "Soft Robotics",
           6,
           "pub.1085727340",
           ""
          ],
          [
           "Soft Robotics",
           6,
           "pub.1071553028",
           ""
          ],
          [
           "Soft Robotics",
           6,
           "pub.1063202700",
           ""
          ],
          [
           "Soft Robotics",
           6,
           "pub.1061784814",
           ""
          ],
          [
           "Soft Robotics",
           6,
           "pub.1061419831",
           ""
          ],
          [
           "Soft Robotics",
           6,
           "pub.1061419786",
           ""
          ],
          [
           "Soft Robotics",
           6,
           "pub.1052588601",
           ""
          ],
          [
           "Soft Robotics",
           3,
           "pub.1047578355",
           ""
          ],
          [
           "Soft Robotics",
           6,
           "pub.1046414848",
           ""
          ],
          [
           "Soft Robotics",
           6,
           "pub.1037299542",
           ""
          ],
          [
           "Soft Robotics",
           6,
           "pub.1032973919",
           ""
          ],
          [
           "Soft Robotics",
           6,
           "pub.1022244206",
           ""
          ],
          [
           "Soft Robotics",
           6,
           "pub.1021059830",
           ""
          ],
          [
           "Soft Robotics",
           6,
           "pub.1018093320",
           ""
          ],
          [
           "Soft Robotics",
           6,
           "pub.1013312043",
           ""
          ],
          [
           "Soft Robotics",
           6,
           "pub.1010861669",
           ""
          ],
          [
           "Soft Robotics",
           6,
           "pub.1009708400",
           ""
          ],
          [
           "Soft Robotics",
           6,
           "pub.1006036928",
           ""
          ],
          [
           "Soft Robotics",
           6,
           "pub.1099769145",
           ""
          ],
          [
           "Soft Robotics",
           6,
           "pub.1094524387",
           ""
          ],
          [
           "Soft Robotics",
           6,
           "pub.1062681758",
           ""
          ],
          [
           "Soft Robotics",
           6,
           "pub.1061692527",
           ""
          ],
          [
           "Soft Robotics",
           6,
           "pub.1059311431",
           ""
          ],
          [
           "Soft Robotics",
           6,
           "pub.1053869439",
           ""
          ],
          [
           "Soft Robotics",
           6,
           "pub.1053745766",
           ""
          ],
          [
           "Soft Robotics",
           6,
           "pub.1050931185",
           ""
          ],
          [
           "Soft Robotics",
           6,
           "pub.1048672075",
           ""
          ],
          [
           "Soft Robotics",
           6,
           "pub.1046958784",
           ""
          ],
          [
           "Soft Robotics",
           6,
           "pub.1035546790",
           ""
          ],
          [
           "Soft Robotics",
           6,
           "pub.1034332217",
           ""
          ],
          [
           "Soft Robotics",
           6,
           "pub.1033757657",
           ""
          ],
          [
           "Soft Robotics",
           6,
           "pub.1016383527",
           ""
          ],
          [
           "Soft Robotics",
           6,
           "pub.1014191409",
           ""
          ],
          [
           "Soft Robotics",
           6,
           "pub.1000285042",
           ""
          ]
         ],
         "hovertemplate": "label=%{customdata[0]}<br>x=%{x}<br>y=%{y}<br>cluster=%{customdata[1]}<br>pub_id=%{customdata[2]}<br>survey_group=%{customdata[3]}<extra></extra>",
         "legendgroup": "Soft Robotics",
         "marker": {
          "color": "#00fa9a",
          "opacity": 0.9,
          "symbol": "circle"
         },
         "mode": "markers",
         "name": "Soft Robotics",
         "orientation": "v",
         "showlegend": true,
         "type": "scatter",
         "x": [
          6.942392,
          7.5869875,
          7.0302405,
          6.886265,
          7.126502,
          6.9334836,
          7.175832,
          7.066404,
          7.6574693,
          7.783401,
          7.712781,
          7.1636095,
          7.154236,
          6.9944067,
          7.683413,
          7.078337,
          7.113933,
          6.793897,
          7.2008443,
          6.8220654,
          6.994887,
          7.081823,
          6.90956,
          7.671195,
          7.6160345,
          7.234825,
          6.862253,
          6.910601,
          7.2121787,
          7.4468985,
          7.0063105,
          7.570562,
          7.110075,
          7.749167,
          7.482759,
          6.900146
         ],
         "xaxis": "x",
         "y": [
          9.187004,
          9.01631,
          8.957714,
          9.158031,
          8.725122,
          8.942698,
          9.005864,
          8.875781,
          9.16524,
          9.114767,
          9.059448,
          8.630757,
          9.047621,
          8.768866,
          9.108151,
          9.116306,
          8.894224,
          8.832375,
          8.902738,
          8.875484,
          9.049544,
          8.735369,
          8.7182255,
          9.007571,
          9.082478,
          9.063623,
          8.628067,
          8.816651,
          8.976789,
          9.193114,
          8.706047,
          8.966863,
          8.763537,
          9.051251,
          9.05546,
          8.809711
         ],
         "yaxis": "y"
        },
        {
         "customdata": [
          [
           "Internet of Things in Healthcare",
           7,
           "pub.1099281667",
           ""
          ],
          [
           "Internet of Things in Healthcare",
           7,
           "pub.1095490861",
           ""
          ],
          [
           "Internet of Things in Healthcare",
           7,
           "pub.1095264568",
           ""
          ],
          [
           "Internet of Things in Healthcare",
           7,
           "pub.1095255025",
           ""
          ],
          [
           "Internet of Things in Healthcare",
           7,
           "pub.1095085621",
           ""
          ],
          [
           "Internet of Things in Healthcare",
           7,
           "pub.1094970902",
           ""
          ],
          [
           "Internet of Things in Healthcare",
           7,
           "pub.1094969147",
           ""
          ],
          [
           "Internet of Things in Healthcare",
           7,
           "pub.1094830611",
           ""
          ],
          [
           "Internet of Things in Healthcare",
           7,
           "pub.1094225194",
           ""
          ],
          [
           "Internet of Things in Healthcare",
           7,
           "pub.1093507023",
           ""
          ],
          [
           "Internet of Things in Healthcare",
           7,
           "pub.1093357343",
           ""
          ],
          [
           "Internet of Things in Healthcare",
           7,
           "pub.1067238716",
           ""
          ],
          [
           "Internet of Things in Healthcare",
           7,
           "pub.1038434872",
           ""
          ],
          [
           "Internet of Things in Healthcare",
           7,
           "pub.1034508886",
           ""
          ],
          [
           "Internet of Things in Healthcare",
           7,
           "pub.1016352338",
           ""
          ],
          [
           "Internet of Things in Healthcare",
           7,
           "pub.1001751876",
           ""
          ],
          [
           "Internet of Things in Healthcare",
           7,
           "pub.1095770589",
           ""
          ],
          [
           "Internet of Things in Healthcare",
           7,
           "pub.1095382211",
           ""
          ],
          [
           "Internet of Things in Healthcare",
           7,
           "pub.1095382199",
           ""
          ],
          [
           "Internet of Things in Healthcare",
           7,
           "pub.1093739978",
           ""
          ],
          [
           "Internet of Things in Healthcare",
           7,
           "pub.1093463283",
           ""
          ],
          [
           "Internet of Things in Healthcare",
           7,
           "pub.1061632443",
           ""
          ],
          [
           "Internet of Things in Healthcare",
           7,
           "pub.1061324932",
           ""
          ],
          [
           "Internet of Things in Healthcare",
           7,
           "pub.1044514690",
           ""
          ],
          [
           "Internet of Things in Healthcare",
           7,
           "pub.1044290948",
           ""
          ],
          [
           "Internet of Things in Healthcare",
           7,
           "pub.1042065361",
           ""
          ],
          [
           "Internet of Things in Healthcare",
           7,
           "pub.1031978033",
           ""
          ],
          [
           "Internet of Things in Healthcare",
           7,
           "pub.1025765207",
           ""
          ],
          [
           "Internet of Things in Healthcare",
           7,
           "pub.1024210708",
           ""
          ]
         ],
         "hovertemplate": "label=%{customdata[0]}<br>x=%{x}<br>y=%{y}<br>cluster=%{customdata[1]}<br>pub_id=%{customdata[2]}<br>survey_group=%{customdata[3]}<extra></extra>",
         "legendgroup": "Internet of Things in Healthcare",
         "marker": {
          "color": "#0000ff",
          "opacity": 0.9,
          "symbol": "circle"
         },
         "mode": "markers",
         "name": "Internet of Things in Healthcare",
         "orientation": "v",
         "showlegend": true,
         "type": "scatter",
         "x": [
          19.643059,
          19.886177,
          19.782755,
          19.689962,
          19.128872,
          19.790407,
          19.478916,
          19.725937,
          19.58133,
          19.814238,
          19.860802,
          19.925564,
          19.451504,
          19.817055,
          19.49215,
          19.674467,
          19.881401,
          19.02427,
          19.93931,
          19.729784,
          19.564402,
          19.87878,
          19.60269,
          19.642376,
          19.71904,
          18.486427,
          19.401676,
          19.52625,
          19.933022
         ],
         "xaxis": "x",
         "y": [
          12.430437,
          12.676409,
          12.520361,
          12.658609,
          12.564603,
          12.477194,
          12.456307,
          12.429948,
          12.654663,
          12.946328,
          12.802148,
          12.406391,
          12.582545,
          12.860186,
          12.6158085,
          12.424439,
          12.755768,
          12.612886,
          12.53683,
          12.536035,
          12.745579,
          12.710262,
          12.449632,
          12.727479,
          12.729414,
          12.565624,
          12.644144,
          12.498712,
          12.865546
         ],
         "yaxis": "y"
        },
        {
         "customdata": [
          [
           "Tourism Growth Nexus",
           5,
           "pub.1090346357",
           ""
          ],
          [
           "Tourism Growth Nexus",
           5,
           "pub.1072794279",
           ""
          ],
          [
           "Tourism Growth Nexus",
           5,
           "pub.1049141736",
           ""
          ],
          [
           "Tourism Growth Nexus",
           5,
           "pub.1047663892",
           ""
          ],
          [
           "Tourism Growth Nexus",
           5,
           "pub.1035901982",
           ""
          ],
          [
           "Tourism Growth Nexus",
           5,
           "pub.1034653502",
           ""
          ],
          [
           "Tourism Growth Nexus",
           5,
           "pub.1029979518",
           ""
          ],
          [
           "Tourism Growth Nexus",
           5,
           "pub.1013412296",
           ""
          ],
          [
           "Tourism Growth Nexus",
           5,
           "pub.1011854038",
           ""
          ],
          [
           "Tourism Growth Nexus",
           5,
           "pub.1007878277",
           ""
          ],
          [
           "Tourism Growth Nexus",
           5,
           "pub.1007170077",
           ""
          ],
          [
           "Tourism Growth Nexus",
           5,
           "pub.1004840356",
           ""
          ],
          [
           "Tourism Growth Nexus",
           5,
           "pub.1004299966",
           ""
          ],
          [
           "Tourism Growth Nexus",
           5,
           "pub.1001562704",
           ""
          ],
          [
           "Tourism Growth Nexus",
           5,
           "pub.1000810498",
           ""
          ],
          [
           "Tourism Growth Nexus",
           5,
           "pub.1072794260",
           ""
          ],
          [
           "Tourism Growth Nexus",
           5,
           "pub.1053802942",
           ""
          ],
          [
           "Tourism Growth Nexus",
           5,
           "pub.1053750775",
           ""
          ],
          [
           "Tourism Growth Nexus",
           5,
           "pub.1033376226",
           ""
          ],
          [
           "Tourism Growth Nexus",
           5,
           "pub.1032490977",
           ""
          ],
          [
           "Tourism Growth Nexus",
           5,
           "pub.1029520182",
           ""
          ],
          [
           "Tourism Growth Nexus",
           5,
           "pub.1022720888",
           ""
          ],
          [
           "Tourism Growth Nexus",
           5,
           "pub.1017098340",
           ""
          ],
          [
           "Tourism Growth Nexus",
           5,
           "pub.1013871876",
           ""
          ],
          [
           "Tourism Growth Nexus",
           5,
           "pub.1003840912",
           ""
          ]
         ],
         "hovertemplate": "label=%{customdata[0]}<br>x=%{x}<br>y=%{y}<br>cluster=%{customdata[1]}<br>pub_id=%{customdata[2]}<br>survey_group=%{customdata[3]}<extra></extra>",
         "legendgroup": "Tourism Growth Nexus",
         "marker": {
          "color": "#ff00ff",
          "opacity": 0.9,
          "symbol": "circle"
         },
         "mode": "markers",
         "name": "Tourism Growth Nexus",
         "orientation": "v",
         "showlegend": true,
         "type": "scatter",
         "x": [
          5.696936,
          5.7797627,
          5.7831535,
          5.5102825,
          5.375591,
          5.6277666,
          5.8247643,
          5.704643,
          5.716865,
          5.39614,
          5.763694,
          5.4672613,
          5.8329535,
          5.7444267,
          5.586295,
          5.6255174,
          5.66024,
          5.5146785,
          5.67259,
          5.6186557,
          6.663533,
          5.5523057,
          5.637277,
          5.4053726,
          5.7180114
         ],
         "xaxis": "x",
         "y": [
          -9.937217,
          -10.078576,
          -9.64357,
          -10.099999,
          -9.645205,
          -9.9255,
          -9.8251505,
          -9.948203,
          -9.904839,
          -9.866381,
          -9.732493,
          -9.911245,
          -10.1712055,
          -9.778877,
          -10.027511,
          -10.07901,
          -10.02757,
          -9.8134985,
          -9.84215,
          -9.885031,
          -11.039811,
          -10.020111,
          -9.942519,
          -9.906083,
          -10.010112
         ],
         "yaxis": "y"
        },
        {
         "customdata": [
          [
           "Cervical Myelopathy",
           12,
           "pub.1080091058",
           ""
          ],
          [
           "Cervical Myelopathy",
           12,
           "pub.1079276563",
           ""
          ],
          [
           "Cervical Myelopathy",
           12,
           "pub.1071103439",
           ""
          ],
          [
           "Cervical Myelopathy",
           12,
           "pub.1071103239",
           ""
          ],
          [
           "Cervical Myelopathy",
           12,
           "pub.1071098440",
           ""
          ],
          [
           "Cervical Myelopathy",
           12,
           "pub.1071097240",
           ""
          ],
          [
           "Cervical Myelopathy",
           12,
           "pub.1068893336",
           ""
          ],
          [
           "Cervical Myelopathy",
           12,
           "pub.1068893080",
           ""
          ],
          [
           "Cervical Myelopathy",
           12,
           "pub.1068890012",
           ""
          ],
          [
           "Cervical Myelopathy",
           11,
           "pub.1059443086",
           ""
          ],
          [
           "Cervical Myelopathy",
           12,
           "pub.1049890557",
           ""
          ],
          [
           "Cervical Myelopathy",
           12,
           "pub.1045861847",
           ""
          ],
          [
           "Cervical Myelopathy",
           12,
           "pub.1043047033",
           ""
          ],
          [
           "Cervical Myelopathy",
           12,
           "pub.1041327125",
           ""
          ],
          [
           "Cervical Myelopathy",
           12,
           "pub.1040115320",
           ""
          ],
          [
           "Cervical Myelopathy",
           12,
           "pub.1038222550",
           ""
          ],
          [
           "Cervical Myelopathy",
           12,
           "pub.1037790804",
           ""
          ],
          [
           "Cervical Myelopathy",
           12,
           "pub.1037654624",
           ""
          ],
          [
           "Cervical Myelopathy",
           12,
           "pub.1036336702",
           ""
          ],
          [
           "Cervical Myelopathy",
           12,
           "pub.1035509307",
           ""
          ],
          [
           "Cervical Myelopathy",
           12,
           "pub.1034944004",
           ""
          ],
          [
           "Cervical Myelopathy",
           12,
           "pub.1028542573",
           ""
          ],
          [
           "Cervical Myelopathy",
           12,
           "pub.1028420740",
           ""
          ],
          [
           "Cervical Myelopathy",
           12,
           "pub.1021857143",
           ""
          ],
          [
           "Cervical Myelopathy",
           12,
           "pub.1017401652",
           ""
          ],
          [
           "Cervical Myelopathy",
           12,
           "pub.1015407573",
           ""
          ],
          [
           "Cervical Myelopathy",
           12,
           "pub.1014052117",
           ""
          ],
          [
           "Cervical Myelopathy",
           12,
           "pub.1009748592",
           ""
          ],
          [
           "Cervical Myelopathy",
           12,
           "pub.1007826013",
           ""
          ],
          [
           "Cervical Myelopathy",
           12,
           "pub.1071103618",
           ""
          ],
          [
           "Cervical Myelopathy",
           12,
           "pub.1071103060",
           ""
          ],
          [
           "Cervical Myelopathy",
           12,
           "pub.1071097586",
           ""
          ],
          [
           "Cervical Myelopathy",
           12,
           "pub.1071095985",
           ""
          ],
          [
           "Cervical Myelopathy",
           11,
           "pub.1071088479",
           ""
          ],
          [
           "Cervical Myelopathy",
           12,
           "pub.1071076802",
           ""
          ],
          [
           "Cervical Myelopathy",
           11,
           "pub.1059442903",
           ""
          ],
          [
           "Cervical Myelopathy",
           12,
           "pub.1053723341",
           ""
          ],
          [
           "Cervical Myelopathy",
           12,
           "pub.1050443276",
           ""
          ],
          [
           "Cervical Myelopathy",
           12,
           "pub.1039231588",
           ""
          ],
          [
           "Cervical Myelopathy",
           12,
           "pub.1038098923",
           ""
          ],
          [
           "Cervical Myelopathy",
           12,
           "pub.1036299701",
           ""
          ],
          [
           "Cervical Myelopathy",
           12,
           "pub.1034074696",
           ""
          ],
          [
           "Cervical Myelopathy",
           12,
           "pub.1024110809",
           ""
          ],
          [
           "Cervical Myelopathy",
           12,
           "pub.1023278334",
           ""
          ],
          [
           "Cervical Myelopathy",
           12,
           "pub.1020803753",
           ""
          ],
          [
           "Cervical Myelopathy",
           12,
           "pub.1016889944",
           ""
          ],
          [
           "Cervical Myelopathy",
           12,
           "pub.1003399679",
           ""
          ]
         ],
         "hovertemplate": "label=%{customdata[0]}<br>x=%{x}<br>y=%{y}<br>cluster=%{customdata[1]}<br>pub_id=%{customdata[2]}<br>survey_group=%{customdata[3]}<extra></extra>",
         "legendgroup": "Cervical Myelopathy",
         "marker": {
          "color": "#1e90ff",
          "opacity": 0.9,
          "symbol": "circle"
         },
         "mode": "markers",
         "name": "Cervical Myelopathy",
         "orientation": "v",
         "showlegend": true,
         "type": "scatter",
         "x": [
          -3.8031228,
          -3.6245098,
          -4.5066047,
          -4.3375845,
          -3.9618816,
          -4.208458,
          -3.7132194,
          -3.656723,
          -4.1205716,
          -3.8893738,
          -3.6699395,
          -3.5366912,
          -3.661761,
          -4.129027,
          -4.1411676,
          -4.699153,
          -3.9401312,
          -4.5415297,
          -4.38896,
          -4.3272743,
          -4.193294,
          -3.6229715,
          -4.2330556,
          -3.843493,
          -3.6350367,
          -3.485952,
          -3.9666693,
          -4.1466074,
          -3.6803641,
          -4.3490887,
          -3.8976371,
          -3.9741395,
          -4.0374556,
          -4.073503,
          -3.6172073,
          -4.0103555,
          -3.7073314,
          -4.587262,
          -3.707881,
          -4.632092,
          -3.9894617,
          -3.572294,
          -3.6265578,
          -4.4279804,
          -3.6069527,
          -3.740826,
          -4.566412
         ],
         "xaxis": "x",
         "y": [
          9.787109,
          9.446862,
          10.0402975,
          10.120848,
          10.292777,
          10.461738,
          10.149309,
          10.062806,
          10.40848,
          9.468125,
          9.693637,
          9.589175,
          10.314367,
          10.4853735,
          9.787169,
          10.010055,
          9.879603,
          9.900554,
          9.946323,
          9.999482,
          10.193033,
          9.423364,
          9.946626,
          9.717457,
          9.452044,
          9.453793,
          10.464234,
          10.172285,
          10.222511,
          9.850573,
          10.227061,
          9.859973,
          10.006174,
          9.439214,
          10.405753,
          9.630454,
          10.016787,
          9.867516,
          9.566067,
          9.931014,
          10.596681,
          9.989219,
          10.1439705,
          10.123523,
          9.487518,
          10.388013,
          9.96315
         ],
         "yaxis": "y"
        },
        {
         "customdata": [
          [
           "Resilience in Business and management",
           10,
           "pub.1075345922",
           ""
          ],
          [
           "Resilience in Business and management",
           10,
           "pub.1073407503",
           ""
          ],
          [
           "Resilience in Business and management",
           10,
           "pub.1072896311",
           ""
          ],
          [
           "Resilience in Business and management",
           10,
           "pub.1072894681",
           ""
          ],
          [
           "Resilience in Business and management",
           10,
           "pub.1070196019",
           ""
          ],
          [
           "Resilience in Business and management",
           10,
           "pub.1069908660",
           ""
          ],
          [
           "Resilience in Business and management",
           10,
           "pub.1069908041",
           ""
          ],
          [
           "Resilience in Business and management",
           10,
           "pub.1069907901",
           ""
          ],
          [
           "Resilience in Business and management",
           10,
           "pub.1047959878",
           ""
          ],
          [
           "Resilience in Business and management",
           10,
           "pub.1041282031",
           ""
          ],
          [
           "Resilience in Business and management",
           10,
           "pub.1036458898",
           ""
          ],
          [
           "Resilience in Business and management",
           10,
           "pub.1032563790",
           ""
          ],
          [
           "Resilience in Business and management",
           10,
           "pub.1031594587",
           ""
          ],
          [
           "Resilience in Business and management",
           10,
           "pub.1030211703",
           ""
          ],
          [
           "Resilience in Business and management",
           10,
           "pub.1020050164",
           ""
          ],
          [
           "Resilience in Business and management",
           10,
           "pub.1008687306",
           ""
          ],
          [
           "Resilience in Business and management",
           10,
           "pub.1075056726",
           ""
          ],
          [
           "Resilience in Business and management",
           10,
           "pub.1069908683",
           ""
          ],
          [
           "Resilience in Business and management",
           10,
           "pub.1048916231",
           ""
          ],
          [
           "Resilience in Business and management",
           10,
           "pub.1043814808",
           ""
          ],
          [
           "Resilience in Business and management",
           10,
           "pub.1034737787",
           ""
          ],
          [
           "Resilience in Business and management",
           10,
           "pub.1031829691",
           ""
          ],
          [
           "Resilience in Business and management",
           10,
           "pub.1031821349",
           ""
          ],
          [
           "Resilience in Business and management",
           10,
           "pub.1030632837",
           ""
          ],
          [
           "Resilience in Business and management",
           10,
           "pub.1018062843",
           ""
          ],
          [
           "Resilience in Business and management",
           10,
           "pub.1016764583",
           ""
          ],
          [
           "Resilience in Business and management",
           10,
           "pub.1013827626",
           ""
          ]
         ],
         "hovertemplate": "label=%{customdata[0]}<br>x=%{x}<br>y=%{y}<br>cluster=%{customdata[1]}<br>pub_id=%{customdata[2]}<br>survey_group=%{customdata[3]}<extra></extra>",
         "legendgroup": "Resilience in Business and management",
         "marker": {
          "color": "#eee8aa",
          "opacity": 0.9,
          "symbol": "circle"
         },
         "mode": "markers",
         "name": "Resilience in Business and management",
         "orientation": "v",
         "showlegend": true,
         "type": "scatter",
         "x": [
          14.122922,
          14.263539,
          14.9133215,
          14.718807,
          14.16773,
          14.185258,
          14.393508,
          14.574796,
          13.944687,
          14.707089,
          14.656363,
          14.886569,
          14.21295,
          14.730872,
          13.812598,
          13.876978,
          14.211476,
          14.428742,
          14.797433,
          14.792767,
          14.310743,
          13.765072,
          14.831907,
          14.947226,
          13.740286,
          13.877849,
          13.881259
         ],
         "xaxis": "x",
         "y": [
          -2.7938566,
          -2.6087425,
          -2.437254,
          -2.5548925,
          -2.8425024,
          -2.6682806,
          -2.913506,
          -2.6275258,
          -2.8565562,
          -2.759663,
          -2.5903041,
          -2.5826914,
          -2.8588195,
          -2.6711276,
          -2.9483945,
          -2.8396878,
          -2.7377706,
          -2.4275477,
          -2.688934,
          -2.6610482,
          -2.7447515,
          -2.9663382,
          -2.6085296,
          -2.744254,
          -2.9165187,
          -2.9035106,
          -2.9725974
         ],
         "yaxis": "y"
        },
        {
         "customdata": [
          [
           "Synthetic Biology",
           13,
           "pub.1067589570",
           ""
          ],
          [
           "Synthetic Biology",
           13,
           "pub.1052700485",
           ""
          ],
          [
           "Synthetic Biology",
           13,
           "pub.1042528786",
           ""
          ],
          [
           "Synthetic Biology",
           13,
           "pub.1037881716",
           ""
          ],
          [
           "Synthetic Biology",
           13,
           "pub.1036497140",
           ""
          ],
          [
           "Synthetic Biology",
           13,
           "pub.1036018285",
           ""
          ],
          [
           "Synthetic Biology",
           13,
           "pub.1035931199",
           ""
          ],
          [
           "Synthetic Biology",
           13,
           "pub.1028250908",
           ""
          ],
          [
           "Synthetic Biology",
           13,
           "pub.1026899122",
           ""
          ],
          [
           "Synthetic Biology",
           13,
           "pub.1025786828",
           ""
          ],
          [
           "Synthetic Biology",
           9,
           "pub.1022297654",
           ""
          ],
          [
           "Synthetic Biology",
           13,
           "pub.1022279877",
           ""
          ],
          [
           "Synthetic Biology",
           13,
           "pub.1021654569",
           ""
          ],
          [
           "Synthetic Biology",
           13,
           "pub.1021275892",
           ""
          ],
          [
           "Synthetic Biology",
           13,
           "pub.1020751277",
           ""
          ],
          [
           "Synthetic Biology",
           13,
           "pub.1016534270",
           ""
          ],
          [
           "Synthetic Biology",
           13,
           "pub.1014359908",
           ""
          ],
          [
           "Synthetic Biology",
           13,
           "pub.1009258787",
           ""
          ],
          [
           "Synthetic Biology",
           9,
           "pub.1006120611",
           ""
          ],
          [
           "Synthetic Biology",
           13,
           "pub.1002786107",
           ""
          ],
          [
           "Synthetic Biology",
           13,
           "pub.1001000963",
           ""
          ],
          [
           "Synthetic Biology",
           13,
           "pub.1048602129",
           ""
          ],
          [
           "Synthetic Biology",
           13,
           "pub.1046952734",
           ""
          ],
          [
           "Synthetic Biology",
           13,
           "pub.1033127471",
           ""
          ],
          [
           "Synthetic Biology",
           13,
           "pub.1028022455",
           ""
          ],
          [
           "Synthetic Biology",
           13,
           "pub.1024208323",
           ""
          ],
          [
           "Synthetic Biology",
           13,
           "pub.1010407598",
           ""
          ],
          [
           "Synthetic Biology",
           13,
           "pub.1009412636",
           ""
          ],
          [
           "Synthetic Biology",
           13,
           "pub.1004364700",
           ""
          ]
         ],
         "hovertemplate": "label=%{customdata[0]}<br>x=%{x}<br>y=%{y}<br>cluster=%{customdata[1]}<br>pub_id=%{customdata[2]}<br>survey_group=%{customdata[3]}<extra></extra>",
         "legendgroup": "Synthetic Biology",
         "marker": {
          "color": "#000000",
          "opacity": 0.9,
          "symbol": "circle"
         },
         "mode": "markers",
         "name": "Synthetic Biology",
         "orientation": "v",
         "showlegend": true,
         "type": "scatter",
         "x": [
          7.4087505,
          7.9279995,
          7.7986827,
          7.966447,
          7.72091,
          7.919505,
          8.073537,
          7.834305,
          7.589462,
          7.560997,
          8.392045,
          7.646404,
          7.816482,
          7.5734987,
          7.7857556,
          7.795098,
          8.249605,
          7.6457973,
          8.364191,
          7.633421,
          7.6706038,
          7.5230036,
          7.4969544,
          7.717681,
          7.8501525,
          8.007168,
          7.9617834,
          8.032191,
          7.7290726
         ],
         "xaxis": "x",
         "y": [
          3.679518,
          3.0270293,
          3.2423208,
          3.2251592,
          3.1511924,
          2.9771411,
          3.3729393,
          2.9797204,
          3.4955597,
          3.7167084,
          3.1731923,
          3.4067223,
          3.2736995,
          3.5092697,
          3.3838308,
          3.2013962,
          3.426934,
          3.289975,
          3.1425154,
          3.157283,
          3.3190162,
          3.4019976,
          3.563493,
          3.3188572,
          3.257938,
          2.9477177,
          3.2205832,
          2.9238265,
          3.141646
         ],
         "yaxis": "y"
        },
        {
         "customdata": [
          [
           "Nanoparticles",
           3,
           "pub.1064567937",
           ""
          ],
          [
           "Nanoparticles",
           3,
           "pub.1062447105",
           ""
          ],
          [
           "Nanoparticles",
           3,
           "pub.1050579616",
           ""
          ],
          [
           "Nanoparticles",
           3,
           "pub.1041771334",
           ""
          ],
          [
           "Nanoparticles",
           3,
           "pub.1040302077",
           ""
          ],
          [
           "Nanoparticles",
           3,
           "pub.1039641194",
           ""
          ],
          [
           "Nanoparticles",
           3,
           "pub.1038778560",
           ""
          ],
          [
           "Nanoparticles",
           3,
           "pub.1029482017",
           ""
          ],
          [
           "Nanoparticles",
           3,
           "pub.1028058184",
           ""
          ],
          [
           "Nanoparticles",
           3,
           "pub.1027828956",
           ""
          ],
          [
           "Nanoparticles",
           3,
           "pub.1026661243",
           ""
          ],
          [
           "Nanoparticles",
           3,
           "pub.1025760895",
           ""
          ],
          [
           "Nanoparticles",
           3,
           "pub.1021666873",
           ""
          ],
          [
           "Nanoparticles",
           3,
           "pub.1020673706",
           ""
          ],
          [
           "Nanoparticles",
           3,
           "pub.1020647724",
           ""
          ],
          [
           "Nanoparticles",
           3,
           "pub.1015833771",
           ""
          ],
          [
           "Nanoparticles",
           3,
           "pub.1013655144",
           ""
          ],
          [
           "Nanoparticles",
           3,
           "pub.1009246618",
           ""
          ],
          [
           "Nanoparticles",
           3,
           "pub.1008013568",
           ""
          ],
          [
           "Nanoparticles",
           3,
           "pub.1005792673",
           ""
          ],
          [
           "Nanoparticles",
           3,
           "pub.1002703153",
           ""
          ],
          [
           "Nanoparticles",
           3,
           "pub.1001343412",
           ""
          ],
          [
           "Nanoparticles",
           3,
           "pub.1056221800",
           ""
          ],
          [
           "Nanoparticles",
           3,
           "pub.1056143784",
           ""
          ],
          [
           "Nanoparticles",
           3,
           "pub.1055504074",
           ""
          ],
          [
           "Nanoparticles",
           3,
           "pub.1052990623",
           ""
          ],
          [
           "Nanoparticles",
           3,
           "pub.1051411109",
           ""
          ],
          [
           "Nanoparticles",
           3,
           "pub.1050276749",
           ""
          ],
          [
           "Nanoparticles",
           3,
           "pub.1048709708",
           ""
          ],
          [
           "Nanoparticles",
           3,
           "pub.1047132329",
           ""
          ],
          [
           "Nanoparticles",
           3,
           "pub.1046826509",
           ""
          ],
          [
           "Nanoparticles",
           3,
           "pub.1044670756",
           ""
          ],
          [
           "Nanoparticles",
           3,
           "pub.1044430846",
           ""
          ],
          [
           "Nanoparticles",
           3,
           "pub.1041163416",
           ""
          ],
          [
           "Nanoparticles",
           3,
           "pub.1040077610",
           ""
          ],
          [
           "Nanoparticles",
           3,
           "pub.1039713086",
           ""
          ],
          [
           "Nanoparticles",
           3,
           "pub.1039601245",
           ""
          ],
          [
           "Nanoparticles",
           3,
           "pub.1036002565",
           ""
          ],
          [
           "Nanoparticles",
           3,
           "pub.1035909146",
           ""
          ],
          [
           "Nanoparticles",
           3,
           "pub.1035623214",
           ""
          ],
          [
           "Nanoparticles",
           3,
           "pub.1035474832",
           ""
          ],
          [
           "Nanoparticles",
           3,
           "pub.1035387745",
           ""
          ],
          [
           "Nanoparticles",
           3,
           "pub.1034007004",
           ""
          ],
          [
           "Nanoparticles",
           3,
           "pub.1033416172",
           ""
          ],
          [
           "Nanoparticles",
           3,
           "pub.1031075757",
           ""
          ],
          [
           "Nanoparticles",
           3,
           "pub.1028529625",
           ""
          ],
          [
           "Nanoparticles",
           3,
           "pub.1024367203",
           ""
          ],
          [
           "Nanoparticles",
           3,
           "pub.1017225012",
           ""
          ],
          [
           "Nanoparticles",
           3,
           "pub.1016714991",
           ""
          ],
          [
           "Nanoparticles",
           3,
           "pub.1005629396",
           ""
          ]
         ],
         "hovertemplate": "label=%{customdata[0]}<br>x=%{x}<br>y=%{y}<br>cluster=%{customdata[1]}<br>pub_id=%{customdata[2]}<br>survey_group=%{customdata[3]}<extra></extra>",
         "legendgroup": "Nanoparticles",
         "marker": {
          "color": "#2f4f4f",
          "opacity": 0.9,
          "symbol": "circle"
         },
         "mode": "markers",
         "name": "Nanoparticles",
         "orientation": "v",
         "showlegend": true,
         "type": "scatter",
         "x": [
          9.636187,
          9.894615,
          9.21943,
          10.306995,
          9.898499,
          9.8979435,
          9.529053,
          10.268004,
          9.922112,
          10.108797,
          10.218601,
          10.364509,
          9.559528,
          9.662064,
          9.542338,
          10.041795,
          10.00348,
          9.544862,
          10.42917,
          10.124694,
          10.044223,
          10.060054,
          9.991333,
          10.389112,
          9.648157,
          10.193111,
          9.643131,
          10.193181,
          10.207082,
          9.852674,
          9.461127,
          10.373707,
          10.434047,
          10.296508,
          10.008451,
          9.674353,
          9.42558,
          9.424885,
          9.502325,
          10.406554,
          9.661794,
          9.563177,
          9.675806,
          10.074322,
          10.001338,
          9.870169,
          9.613171,
          9.749562,
          10.126274,
          9.870221
         ],
         "xaxis": "x",
         "y": [
          4.9462004,
          4.754257,
          4.821362,
          5.2921185,
          4.685324,
          4.640567,
          4.928142,
          5.3769317,
          4.461451,
          5.2322216,
          5.202143,
          4.9724193,
          5.075458,
          5.177641,
          4.6767344,
          4.4903193,
          4.742232,
          4.5887356,
          5.3723383,
          5.228356,
          4.8768077,
          5.1784096,
          5.129634,
          4.7852354,
          5.4717183,
          5.375334,
          4.5510907,
          4.4949694,
          4.9835343,
          5.1659493,
          5.2199593,
          5.138724,
          5.1072197,
          4.5622873,
          4.8538747,
          4.669592,
          4.49418,
          4.472168,
          4.686294,
          4.8401484,
          4.529701,
          5.057486,
          5.4608426,
          4.7541447,
          4.43574,
          5.27737,
          4.9010415,
          5.2226615,
          4.5968747,
          5.113089
         ],
         "yaxis": "y"
        }
       ],
       "layout": {
        "legend": {
         "title": {
          "text": "label"
         },
         "tracegroupgap": 0
        },
        "margin": {
         "t": 60
        },
        "template": {
         "data": {
          "bar": [
           {
            "error_x": {
             "color": "#2a3f5f"
            },
            "error_y": {
             "color": "#2a3f5f"
            },
            "marker": {
             "line": {
              "color": "#E5ECF6",
              "width": 0.5
             },
             "pattern": {
              "fillmode": "overlay",
              "size": 10,
              "solidity": 0.2
             }
            },
            "type": "bar"
           }
          ],
          "barpolar": [
           {
            "marker": {
             "line": {
              "color": "#E5ECF6",
              "width": 0.5
             },
             "pattern": {
              "fillmode": "overlay",
              "size": 10,
              "solidity": 0.2
             }
            },
            "type": "barpolar"
           }
          ],
          "carpet": [
           {
            "aaxis": {
             "endlinecolor": "#2a3f5f",
             "gridcolor": "white",
             "linecolor": "white",
             "minorgridcolor": "white",
             "startlinecolor": "#2a3f5f"
            },
            "baxis": {
             "endlinecolor": "#2a3f5f",
             "gridcolor": "white",
             "linecolor": "white",
             "minorgridcolor": "white",
             "startlinecolor": "#2a3f5f"
            },
            "type": "carpet"
           }
          ],
          "choropleth": [
           {
            "colorbar": {
             "outlinewidth": 0,
             "ticks": ""
            },
            "type": "choropleth"
           }
          ],
          "contour": [
           {
            "colorbar": {
             "outlinewidth": 0,
             "ticks": ""
            },
            "colorscale": [
             [
              0,
              "#0d0887"
             ],
             [
              0.1111111111111111,
              "#46039f"
             ],
             [
              0.2222222222222222,
              "#7201a8"
             ],
             [
              0.3333333333333333,
              "#9c179e"
             ],
             [
              0.4444444444444444,
              "#bd3786"
             ],
             [
              0.5555555555555556,
              "#d8576b"
             ],
             [
              0.6666666666666666,
              "#ed7953"
             ],
             [
              0.7777777777777778,
              "#fb9f3a"
             ],
             [
              0.8888888888888888,
              "#fdca26"
             ],
             [
              1,
              "#f0f921"
             ]
            ],
            "type": "contour"
           }
          ],
          "contourcarpet": [
           {
            "colorbar": {
             "outlinewidth": 0,
             "ticks": ""
            },
            "type": "contourcarpet"
           }
          ],
          "heatmap": [
           {
            "colorbar": {
             "outlinewidth": 0,
             "ticks": ""
            },
            "colorscale": [
             [
              0,
              "#0d0887"
             ],
             [
              0.1111111111111111,
              "#46039f"
             ],
             [
              0.2222222222222222,
              "#7201a8"
             ],
             [
              0.3333333333333333,
              "#9c179e"
             ],
             [
              0.4444444444444444,
              "#bd3786"
             ],
             [
              0.5555555555555556,
              "#d8576b"
             ],
             [
              0.6666666666666666,
              "#ed7953"
             ],
             [
              0.7777777777777778,
              "#fb9f3a"
             ],
             [
              0.8888888888888888,
              "#fdca26"
             ],
             [
              1,
              "#f0f921"
             ]
            ],
            "type": "heatmap"
           }
          ],
          "heatmapgl": [
           {
            "colorbar": {
             "outlinewidth": 0,
             "ticks": ""
            },
            "colorscale": [
             [
              0,
              "#0d0887"
             ],
             [
              0.1111111111111111,
              "#46039f"
             ],
             [
              0.2222222222222222,
              "#7201a8"
             ],
             [
              0.3333333333333333,
              "#9c179e"
             ],
             [
              0.4444444444444444,
              "#bd3786"
             ],
             [
              0.5555555555555556,
              "#d8576b"
             ],
             [
              0.6666666666666666,
              "#ed7953"
             ],
             [
              0.7777777777777778,
              "#fb9f3a"
             ],
             [
              0.8888888888888888,
              "#fdca26"
             ],
             [
              1,
              "#f0f921"
             ]
            ],
            "type": "heatmapgl"
           }
          ],
          "histogram": [
           {
            "marker": {
             "pattern": {
              "fillmode": "overlay",
              "size": 10,
              "solidity": 0.2
             }
            },
            "type": "histogram"
           }
          ],
          "histogram2d": [
           {
            "colorbar": {
             "outlinewidth": 0,
             "ticks": ""
            },
            "colorscale": [
             [
              0,
              "#0d0887"
             ],
             [
              0.1111111111111111,
              "#46039f"
             ],
             [
              0.2222222222222222,
              "#7201a8"
             ],
             [
              0.3333333333333333,
              "#9c179e"
             ],
             [
              0.4444444444444444,
              "#bd3786"
             ],
             [
              0.5555555555555556,
              "#d8576b"
             ],
             [
              0.6666666666666666,
              "#ed7953"
             ],
             [
              0.7777777777777778,
              "#fb9f3a"
             ],
             [
              0.8888888888888888,
              "#fdca26"
             ],
             [
              1,
              "#f0f921"
             ]
            ],
            "type": "histogram2d"
           }
          ],
          "histogram2dcontour": [
           {
            "colorbar": {
             "outlinewidth": 0,
             "ticks": ""
            },
            "colorscale": [
             [
              0,
              "#0d0887"
             ],
             [
              0.1111111111111111,
              "#46039f"
             ],
             [
              0.2222222222222222,
              "#7201a8"
             ],
             [
              0.3333333333333333,
              "#9c179e"
             ],
             [
              0.4444444444444444,
              "#bd3786"
             ],
             [
              0.5555555555555556,
              "#d8576b"
             ],
             [
              0.6666666666666666,
              "#ed7953"
             ],
             [
              0.7777777777777778,
              "#fb9f3a"
             ],
             [
              0.8888888888888888,
              "#fdca26"
             ],
             [
              1,
              "#f0f921"
             ]
            ],
            "type": "histogram2dcontour"
           }
          ],
          "mesh3d": [
           {
            "colorbar": {
             "outlinewidth": 0,
             "ticks": ""
            },
            "type": "mesh3d"
           }
          ],
          "parcoords": [
           {
            "line": {
             "colorbar": {
              "outlinewidth": 0,
              "ticks": ""
             }
            },
            "type": "parcoords"
           }
          ],
          "pie": [
           {
            "automargin": true,
            "type": "pie"
           }
          ],
          "scatter": [
           {
            "fillpattern": {
             "fillmode": "overlay",
             "size": 10,
             "solidity": 0.2
            },
            "type": "scatter"
           }
          ],
          "scatter3d": [
           {
            "line": {
             "colorbar": {
              "outlinewidth": 0,
              "ticks": ""
             }
            },
            "marker": {
             "colorbar": {
              "outlinewidth": 0,
              "ticks": ""
             }
            },
            "type": "scatter3d"
           }
          ],
          "scattercarpet": [
           {
            "marker": {
             "colorbar": {
              "outlinewidth": 0,
              "ticks": ""
             }
            },
            "type": "scattercarpet"
           }
          ],
          "scattergeo": [
           {
            "marker": {
             "colorbar": {
              "outlinewidth": 0,
              "ticks": ""
             }
            },
            "type": "scattergeo"
           }
          ],
          "scattergl": [
           {
            "marker": {
             "colorbar": {
              "outlinewidth": 0,
              "ticks": ""
             }
            },
            "type": "scattergl"
           }
          ],
          "scattermapbox": [
           {
            "marker": {
             "colorbar": {
              "outlinewidth": 0,
              "ticks": ""
             }
            },
            "type": "scattermapbox"
           }
          ],
          "scatterpolar": [
           {
            "marker": {
             "colorbar": {
              "outlinewidth": 0,
              "ticks": ""
             }
            },
            "type": "scatterpolar"
           }
          ],
          "scatterpolargl": [
           {
            "marker": {
             "colorbar": {
              "outlinewidth": 0,
              "ticks": ""
             }
            },
            "type": "scatterpolargl"
           }
          ],
          "scatterternary": [
           {
            "marker": {
             "colorbar": {
              "outlinewidth": 0,
              "ticks": ""
             }
            },
            "type": "scatterternary"
           }
          ],
          "surface": [
           {
            "colorbar": {
             "outlinewidth": 0,
             "ticks": ""
            },
            "colorscale": [
             [
              0,
              "#0d0887"
             ],
             [
              0.1111111111111111,
              "#46039f"
             ],
             [
              0.2222222222222222,
              "#7201a8"
             ],
             [
              0.3333333333333333,
              "#9c179e"
             ],
             [
              0.4444444444444444,
              "#bd3786"
             ],
             [
              0.5555555555555556,
              "#d8576b"
             ],
             [
              0.6666666666666666,
              "#ed7953"
             ],
             [
              0.7777777777777778,
              "#fb9f3a"
             ],
             [
              0.8888888888888888,
              "#fdca26"
             ],
             [
              1,
              "#f0f921"
             ]
            ],
            "type": "surface"
           }
          ],
          "table": [
           {
            "cells": {
             "fill": {
              "color": "#EBF0F8"
             },
             "line": {
              "color": "white"
             }
            },
            "header": {
             "fill": {
              "color": "#C8D4E3"
             },
             "line": {
              "color": "white"
             }
            },
            "type": "table"
           }
          ]
         },
         "layout": {
          "annotationdefaults": {
           "arrowcolor": "#2a3f5f",
           "arrowhead": 0,
           "arrowwidth": 1
          },
          "autotypenumbers": "strict",
          "coloraxis": {
           "colorbar": {
            "outlinewidth": 0,
            "ticks": ""
           }
          },
          "colorscale": {
           "diverging": [
            [
             0,
             "#8e0152"
            ],
            [
             0.1,
             "#c51b7d"
            ],
            [
             0.2,
             "#de77ae"
            ],
            [
             0.3,
             "#f1b6da"
            ],
            [
             0.4,
             "#fde0ef"
            ],
            [
             0.5,
             "#f7f7f7"
            ],
            [
             0.6,
             "#e6f5d0"
            ],
            [
             0.7,
             "#b8e186"
            ],
            [
             0.8,
             "#7fbc41"
            ],
            [
             0.9,
             "#4d9221"
            ],
            [
             1,
             "#276419"
            ]
           ],
           "sequential": [
            [
             0,
             "#0d0887"
            ],
            [
             0.1111111111111111,
             "#46039f"
            ],
            [
             0.2222222222222222,
             "#7201a8"
            ],
            [
             0.3333333333333333,
             "#9c179e"
            ],
            [
             0.4444444444444444,
             "#bd3786"
            ],
            [
             0.5555555555555556,
             "#d8576b"
            ],
            [
             0.6666666666666666,
             "#ed7953"
            ],
            [
             0.7777777777777778,
             "#fb9f3a"
            ],
            [
             0.8888888888888888,
             "#fdca26"
            ],
            [
             1,
             "#f0f921"
            ]
           ],
           "sequentialminus": [
            [
             0,
             "#0d0887"
            ],
            [
             0.1111111111111111,
             "#46039f"
            ],
            [
             0.2222222222222222,
             "#7201a8"
            ],
            [
             0.3333333333333333,
             "#9c179e"
            ],
            [
             0.4444444444444444,
             "#bd3786"
            ],
            [
             0.5555555555555556,
             "#d8576b"
            ],
            [
             0.6666666666666666,
             "#ed7953"
            ],
            [
             0.7777777777777778,
             "#fb9f3a"
            ],
            [
             0.8888888888888888,
             "#fdca26"
            ],
            [
             1,
             "#f0f921"
            ]
           ]
          },
          "colorway": [
           "#2f4f4f",
           "#a0522d",
           "#006400",
           "#000080",
           "#ff0000",
           "#00ced1",
           "#ffa500",
           "#ffff00",
           "#00ff00",
           "#00fa9a",
           "#0000ff",
           "#ff00ff",
           "#1e90ff",
           "#eee8aa",
           "#000000"
          ],
          "font": {
           "color": "#2a3f5f"
          },
          "geo": {
           "bgcolor": "white",
           "lakecolor": "white",
           "landcolor": "#E5ECF6",
           "showlakes": true,
           "showland": true,
           "subunitcolor": "white"
          },
          "hoverlabel": {
           "align": "left"
          },
          "hovermode": "closest",
          "mapbox": {
           "style": "light"
          },
          "paper_bgcolor": "white",
          "plot_bgcolor": "#E5ECF6",
          "polar": {
           "angularaxis": {
            "gridcolor": "white",
            "linecolor": "white",
            "ticks": ""
           },
           "bgcolor": "#E5ECF6",
           "radialaxis": {
            "gridcolor": "white",
            "linecolor": "white",
            "ticks": ""
           }
          },
          "scene": {
           "xaxis": {
            "backgroundcolor": "#E5ECF6",
            "gridcolor": "white",
            "gridwidth": 2,
            "linecolor": "white",
            "showbackground": true,
            "ticks": "",
            "zerolinecolor": "white"
           },
           "yaxis": {
            "backgroundcolor": "#E5ECF6",
            "gridcolor": "white",
            "gridwidth": 2,
            "linecolor": "white",
            "showbackground": true,
            "ticks": "",
            "zerolinecolor": "white"
           },
           "zaxis": {
            "backgroundcolor": "#E5ECF6",
            "gridcolor": "white",
            "gridwidth": 2,
            "linecolor": "white",
            "showbackground": true,
            "ticks": "",
            "zerolinecolor": "white"
           }
          },
          "shapedefaults": {
           "line": {
            "color": "#2a3f5f"
           }
          },
          "ternary": {
           "aaxis": {
            "gridcolor": "white",
            "linecolor": "white",
            "ticks": ""
           },
           "baxis": {
            "gridcolor": "white",
            "linecolor": "white",
            "ticks": ""
           },
           "bgcolor": "#E5ECF6",
           "caxis": {
            "gridcolor": "white",
            "linecolor": "white",
            "ticks": ""
           }
          },
          "title": {
           "x": 0.05
          },
          "xaxis": {
           "automargin": true,
           "gridcolor": "white",
           "linecolor": "white",
           "ticks": "",
           "title": {
            "standoff": 15
           },
           "zerolinecolor": "white",
           "zerolinewidth": 2
          },
          "yaxis": {
           "automargin": true,
           "gridcolor": "white",
           "linecolor": "white",
           "ticks": "",
           "title": {
            "standoff": 15
           },
           "zerolinecolor": "white",
           "zerolinewidth": 2
          }
         }
        },
        "xaxis": {
         "anchor": "y",
         "domain": [
          0,
          1
         ],
         "title": {
          "text": "x"
         }
        },
        "yaxis": {
         "anchor": "x",
         "domain": [
          0,
          1
         ],
         "title": {
          "text": "y"
         }
        }
       }
      }
     },
     "metadata": {},
     "output_type": "display_data"
    }
   ],
   "source": [
    "\n",
    "df = pd.DataFrame(umap_embeddings, columns=[\"x\", \"y\"])\n",
    "df[\"label\"] = labels\n",
    "df[\"cluster\"] = cluster_labels\n",
    "df[\"pub_id\"] = pub_ids\n",
    "# Add true label to survey\n",
    "df[\"survey_group\"] = df.apply(\n",
    "    lambda x: f\"{x['label']} - {core_pubs[core_pubs['Survey'] == x['pub_id']]['Group'].values[0]}\"\n",
    "    if x[\"label\"] == \"Survey\"\n",
    "    else \"\",\n",
    "    axis=1,\n",
    ")\n",
    "\n",
    "fig = px.scatter(\n",
    "    df,\n",
    "    x=\"x\",\n",
    "    y=\"y\",\n",
    "    color=\"label\",\n",
    "    hover_data=[\"label\", \"cluster\", \"pub_id\", \"survey_group\"],\n",
    ")\n",
    "fig.update_traces(marker_opacity=0.9)\n",
    "fig.show()"
   ]
  }
 ],
 "metadata": {
  "kernelspec": {
   "display_name": ".venv",
   "language": "python",
   "name": "python3"
  },
  "language_info": {
   "codemirror_mode": {
    "name": "ipython",
    "version": 3
   },
   "file_extension": ".py",
   "mimetype": "text/x-python",
   "name": "python",
   "nbconvert_exporter": "python",
   "pygments_lexer": "ipython3",
   "version": "3.10.4"
  }
 },
 "nbformat": 4,
 "nbformat_minor": 2
}
