{
 "cells": [
  {
   "cell_type": "code",
   "execution_count": 8,
   "metadata": {},
   "outputs": [],
   "source": [
    "from langchain_openai.embeddings import OpenAIEmbeddings\n",
    "from langchain_core.documents import Document\n",
    "from langchain_chroma import Chroma\n",
    "from sklearn.cluster import KMeans\n",
    "from sklearn.manifold import TSNE\n",
    "import plotly.express as px\n",
    "import plotly.io as pio\n",
    "import pandas as pd\n",
    "import numpy as np\n",
    "\n",
    "COLORS = [\n",
    "    \"#2f4f4f\",\n",
    "    \"#a0522d\",\n",
    "    \"#006400\",\n",
    "    \"#000080\",\n",
    "    \"#ff0000\",\n",
    "    \"#00ced1\",\n",
    "    \"#ffa500\",\n",
    "    \"#ffff00\",\n",
    "    \"#00ff00\",\n",
    "    \"#00fa9a\",\n",
    "    \"#0000ff\",\n",
    "    \"#ff00ff\",\n",
    "    \"#1e90ff\",\n",
    "    \"#eee8aa\",\n",
    "    \"#000000\",\n",
    "]\n",
    "\n",
    "pio.templates[pio.templates.default].layout.colorway = COLORS"
   ]
  },
  {
   "cell_type": "code",
   "execution_count": 9,
   "metadata": {},
   "outputs": [],
   "source": [
    "df = pd.read_excel(\"./data/metadata.xlsx\")\n",
    "core_pubs = pd.read_excel(\"./data/core_publications.xlsx\")"
   ]
  },
  {
   "cell_type": "code",
   "execution_count": 14,
   "metadata": {},
   "outputs": [
    {
     "data": {
      "text/plain": [
       "<langchain_chroma.vectorstores.Chroma at 0x2b4255d7490>"
      ]
     },
     "execution_count": 14,
     "metadata": {},
     "output_type": "execute_result"
    }
   ],
   "source": [
    "documents = []\n",
    "pub_ids = []\n",
    "# id, title and abstract as meta data\n",
    "for i, row in df.iterrows():\n",
    "    pub_id = row[\"id\"]\n",
    "    group = core_pubs[core_pubs[\"Pub_id\"] == pub_id]\n",
    "    if group.empty:\n",
    "        group = \"Survey\"\n",
    "    else:\n",
    "        group = group[\"Topic\"].values[0]\n",
    "    content = f'Title: {row[\"title\"]}\\nAbstract: {row[\"abstract\"]}'\n",
    "    doc = Document(page_content=content, metadata={\"id\": row[\"id\"], \"topic\": group})\n",
    "    documents.append(doc)\n",
    "    pub_ids.append(row[\"id\"])\n",
    "\n",
    "def create_embeddings(documents, ids):\n",
    "    embedding_model = OpenAIEmbeddings(model=\"text-embedding-3-small\")\n",
    "    vs = Chroma(\"core_publications\", embedding_model, persist_directory=\"./data/vs/core_publications\")\n",
    "    vs.add_documents(documents, ids=ids)\n",
    "    return vs\n",
    "# create_embeddings(documents, pub_ids)"
   ]
  },
  {
   "cell_type": "code",
   "execution_count": 18,
   "metadata": {},
   "outputs": [],
   "source": [
    "collection = Chroma(\"core_publications\", persist_directory=\"./data/vs/core_publications\")\n",
    "pub_ids = collection.get()[\"ids\"]\n",
    "all_embeddings = []\n",
    "labels = []\n",
    "for i in pub_ids:\n",
    "    all_embeddings.append(collection.get(i, include=[\"embeddings\"])[\"embeddings\"])\n",
    "    labels.append(collection.get(i)[\"metadatas\"][0][\"topic\"])\n",
    "\n",
    "all_embeddings = np.squeeze(all_embeddings)\n",
    "n_clusters = 15  # 15 topics\n",
    "kmeans = KMeans(n_clusters=n_clusters, random_state=0).fit(all_embeddings)\n",
    "cluster_labels = kmeans.labels_\n",
    "\n",
    "tsne = TSNE(n_components=2, random_state=0)\n",
    "tsne_embeddings = tsne.fit_transform(all_embeddings)\n",
    "\n",
    "df = pd.DataFrame(\n",
    "    {\n",
    "        \"x\": tsne_embeddings[:, 0],\n",
    "        \"y\": tsne_embeddings[:, 1],\n",
    "        \"label\": labels,\n",
    "        \"cluster\": cluster_labels,\n",
    "        \"pub_id\": pub_ids,\n",
    "    }\n",
    ")\n",
    "\n",
    "# Add true label to survey\n",
    "df[\"survey_group\"] = df.apply(\n",
    "    lambda x: f\"{x['label']} - {core_pubs[core_pubs['Survey'] == x['pub_id']]['Topic'].values[0]}\"\n",
    "    if x[\"label\"] == \"Survey\"\n",
    "    else \"\",\n",
    "    axis=1,\n",
    ")"
   ]
  },
  {
   "cell_type": "code",
   "execution_count": 19,
   "metadata": {},
   "outputs": [
    {
     "data": {
      "application/vnd.plotly.v1+json": {
       "config": {
        "plotlyServerURL": "https://plot.ly"
       },
       "data": [
        {
         "customdata": [
          [
           "Survey",
           0,
           "pub.1175782890",
           "Survey - Perovskite Solar Cells Stability"
          ],
          [
           "Survey",
           14,
           "pub.1163752603",
           "Survey - Green Warehousing"
          ],
          [
           "Survey",
           4,
           "pub.1156021846",
           "Survey - Sustainable Biofuel"
          ],
          [
           "Survey",
           1,
           "pub.1147958699",
           "Survey - Drones in Agriculture"
          ],
          [
           "Survey",
           8,
           "pub.1130187939",
           "Survey - Crop Yield Prediction"
          ],
          [
           "Survey",
           5,
           "pub.1129627241",
           "Survey - Tourism Growth Nexus"
          ],
          [
           "Survey",
           3,
           "pub.1127137176",
           "Survey - Nanoparticles"
          ],
          [
           "Survey",
           7,
           "pub.1103814815",
           "Survey - Internet of Things in Healthcare"
          ],
          [
           "Survey",
           2,
           "pub.1159788042",
           "Survey - Robotic Arthroplasty"
          ],
          [
           "Survey",
           7,
           "pub.1146747333",
           "Survey - AI on Edge Devices"
          ],
          [
           "Survey",
           12,
           "pub.1110896992",
           "Survey - Cervical Myelopathy"
          ],
          [
           "Survey",
           6,
           "pub.1104146079",
           "Survey - Soft Robotics"
          ],
          [
           "Survey",
           13,
           "pub.1035441940",
           "Survey - Synthetic Biology"
          ],
          [
           "Survey",
           10,
           "pub.1022983337",
           "Survey - Resilience in Business and management"
          ],
          [
           "Survey",
           5,
           "pub.1019398108",
           "Survey - Energy Growth Nexus"
          ]
         ],
         "hovertemplate": "label=%{customdata[0]}<br>x=%{x}<br>y=%{y}<br>cluster=%{customdata[1]}<br>pub_id=%{customdata[2]}<br>survey_group=%{customdata[3]}<extra></extra>",
         "legendgroup": "Survey",
         "marker": {
          "color": "#2f4f4f",
          "opacity": 0.9,
          "symbol": "circle"
         },
         "mode": "markers",
         "name": "Survey",
         "orientation": "v",
         "showlegend": true,
         "type": "scatter",
         "x": [
          20.574854,
          -12.944243,
          -11.684838,
          -13.022125,
          -21.880585,
          -28.483782,
          22.390652,
          -1.1734351,
          17.317648,
          -8.127685,
          36.226574,
          5.800761,
          7.1745243,
          -7.2759356,
          -26.05251
         ],
         "xaxis": "x",
         "y": [
          20.992292,
          -3.7769852,
          -14.9254055,
          16.84474,
          16.237217,
          -18.417048,
          3.2292624,
          24.49473,
          -17.356915,
          23.35502,
          -14.413617,
          -3.431668,
          4.1171055,
          -3.04242,
          -17.598907
         ],
         "yaxis": "y"
        },
        {
         "customdata": [
          [
           "Perovskite Solar Cells Stability",
           0,
           "pub.1165052499",
           ""
          ],
          [
           "Perovskite Solar Cells Stability",
           0,
           "pub.1165045432",
           ""
          ],
          [
           "Perovskite Solar Cells Stability",
           0,
           "pub.1163801313",
           ""
          ],
          [
           "Perovskite Solar Cells Stability",
           0,
           "pub.1149826171",
           ""
          ],
          [
           "Perovskite Solar Cells Stability",
           0,
           "pub.1147021977",
           ""
          ],
          [
           "Perovskite Solar Cells Stability",
           0,
           "pub.1146288953",
           ""
          ],
          [
           "Perovskite Solar Cells Stability",
           0,
           "pub.1146009839",
           ""
          ],
          [
           "Perovskite Solar Cells Stability",
           0,
           "pub.1145696652",
           ""
          ],
          [
           "Perovskite Solar Cells Stability",
           0,
           "pub.1145043743",
           ""
          ],
          [
           "Perovskite Solar Cells Stability",
           0,
           "pub.1144827854",
           ""
          ],
          [
           "Perovskite Solar Cells Stability",
           0,
           "pub.1144465306",
           ""
          ],
          [
           "Perovskite Solar Cells Stability",
           0,
           "pub.1144054488",
           ""
          ],
          [
           "Perovskite Solar Cells Stability",
           0,
           "pub.1174552302",
           ""
          ],
          [
           "Perovskite Solar Cells Stability",
           0,
           "pub.1166074282",
           ""
          ],
          [
           "Perovskite Solar Cells Stability",
           0,
           "pub.1163986255",
           ""
          ],
          [
           "Perovskite Solar Cells Stability",
           0,
           "pub.1160686387",
           ""
          ],
          [
           "Perovskite Solar Cells Stability",
           0,
           "pub.1160324074",
           ""
          ],
          [
           "Perovskite Solar Cells Stability",
           0,
           "pub.1159957570",
           ""
          ],
          [
           "Perovskite Solar Cells Stability",
           0,
           "pub.1158362233",
           ""
          ],
          [
           "Perovskite Solar Cells Stability",
           0,
           "pub.1158048403",
           ""
          ],
          [
           "Perovskite Solar Cells Stability",
           0,
           "pub.1157586280",
           ""
          ],
          [
           "Perovskite Solar Cells Stability",
           0,
           "pub.1155457945",
           ""
          ],
          [
           "Perovskite Solar Cells Stability",
           0,
           "pub.1154888847",
           ""
          ],
          [
           "Perovskite Solar Cells Stability",
           0,
           "pub.1147833193",
           ""
          ],
          [
           "Perovskite Solar Cells Stability",
           0,
           "pub.1147293706",
           ""
          ],
          [
           "Perovskite Solar Cells Stability",
           0,
           "pub.1147185686",
           ""
          ],
          [
           "Perovskite Solar Cells Stability",
           0,
           "pub.1147054891",
           ""
          ],
          [
           "Perovskite Solar Cells Stability",
           0,
           "pub.1146620041",
           ""
          ],
          [
           "Perovskite Solar Cells Stability",
           0,
           "pub.1141876155",
           ""
          ]
         ],
         "hovertemplate": "label=%{customdata[0]}<br>x=%{x}<br>y=%{y}<br>cluster=%{customdata[1]}<br>pub_id=%{customdata[2]}<br>survey_group=%{customdata[3]}<extra></extra>",
         "legendgroup": "Perovskite Solar Cells Stability",
         "marker": {
          "color": "#a0522d",
          "opacity": 0.9,
          "symbol": "circle"
         },
         "mode": "markers",
         "name": "Perovskite Solar Cells Stability",
         "orientation": "v",
         "showlegend": true,
         "type": "scatter",
         "x": [
          20.689661,
          20.58512,
          19.479103,
          19.827988,
          22.213966,
          20.962112,
          19.725143,
          19.546043,
          21.332306,
          19.63621,
          18.946373,
          21.684021,
          21.458857,
          20.482416,
          20.370409,
          20.043146,
          20.708838,
          20.292679,
          21.395132,
          19.867304,
          21.052475,
          21.008999,
          19.792694,
          18.966497,
          20.096714,
          19.90419,
          18.916924,
          20.36646,
          18.796461
         ],
         "xaxis": "x",
         "y": [
          19.348017,
          20.0652,
          19.317274,
          17.470863,
          19.58049,
          19.769588,
          20.178455,
          19.929916,
          19.070793,
          18.668264,
          19.515574,
          20.350615,
          20.340391,
          18.98627,
          20.389463,
          19.784569,
          18.443888,
          19.210537,
          18.611618,
          17.548885,
          18.650013,
          17.850178,
          20.40296,
          18.569452,
          18.797966,
          18.345936,
          18.263466,
          18.330715,
          19.376219
         ],
         "yaxis": "y"
        },
        {
         "customdata": [
          [
           "Green Warehousing",
           14,
           "pub.1138791522",
           ""
          ],
          [
           "Green Warehousing",
           14,
           "pub.1130342326",
           ""
          ],
          [
           "Green Warehousing",
           14,
           "pub.1130180156",
           ""
          ],
          [
           "Green Warehousing",
           14,
           "pub.1126001650",
           ""
          ],
          [
           "Green Warehousing",
           14,
           "pub.1123270626",
           ""
          ],
          [
           "Green Warehousing",
           14,
           "pub.1119922340",
           ""
          ],
          [
           "Green Warehousing",
           14,
           "pub.1113285021",
           ""
          ],
          [
           "Green Warehousing",
           14,
           "pub.1112019846",
           ""
          ],
          [
           "Green Warehousing",
           14,
           "pub.1110525171",
           ""
          ],
          [
           "Green Warehousing",
           14,
           "pub.1104201531",
           ""
          ],
          [
           "Green Warehousing",
           14,
           "pub.1103540197",
           ""
          ],
          [
           "Green Warehousing",
           14,
           "pub.1093378447",
           ""
          ],
          [
           "Green Warehousing",
           14,
           "pub.1092850655",
           ""
          ],
          [
           "Green Warehousing",
           14,
           "pub.1090587762",
           ""
          ],
          [
           "Green Warehousing",
           14,
           "pub.1071706254",
           ""
          ],
          [
           "Green Warehousing",
           14,
           "pub.1029079666",
           ""
          ],
          [
           "Green Warehousing",
           14,
           "pub.1026334040",
           ""
          ],
          [
           "Green Warehousing",
           14,
           "pub.1024780163",
           ""
          ],
          [
           "Green Warehousing",
           14,
           "pub.1018121211",
           ""
          ],
          [
           "Green Warehousing",
           14,
           "pub.1015228225",
           ""
          ],
          [
           "Green Warehousing",
           14,
           "pub.1013561216",
           ""
          ],
          [
           "Green Warehousing",
           14,
           "pub.1013525464",
           ""
          ],
          [
           "Green Warehousing",
           14,
           "pub.1002243471",
           ""
          ],
          [
           "Green Warehousing",
           14,
           "pub.1127953927",
           ""
          ],
          [
           "Green Warehousing",
           14,
           "pub.1126155979",
           ""
          ],
          [
           "Green Warehousing",
           14,
           "pub.1125842670",
           ""
          ],
          [
           "Green Warehousing",
           14,
           "pub.1121161391",
           ""
          ],
          [
           "Green Warehousing",
           14,
           "pub.1120216323",
           ""
          ],
          [
           "Green Warehousing",
           14,
           "pub.1120098405",
           ""
          ],
          [
           "Green Warehousing",
           14,
           "pub.1106687077",
           ""
          ],
          [
           "Green Warehousing",
           14,
           "pub.1105183849",
           ""
          ],
          [
           "Green Warehousing",
           14,
           "pub.1099594878",
           ""
          ],
          [
           "Green Warehousing",
           14,
           "pub.1092868344",
           ""
          ],
          [
           "Green Warehousing",
           14,
           "pub.1087177293",
           ""
          ],
          [
           "Green Warehousing",
           14,
           "pub.1067495690",
           ""
          ],
          [
           "Green Warehousing",
           14,
           "pub.1035930497",
           ""
          ],
          [
           "Green Warehousing",
           14,
           "pub.1015425126",
           ""
          ],
          [
           "Green Warehousing",
           14,
           "pub.1008996397",
           ""
          ]
         ],
         "hovertemplate": "label=%{customdata[0]}<br>x=%{x}<br>y=%{y}<br>cluster=%{customdata[1]}<br>pub_id=%{customdata[2]}<br>survey_group=%{customdata[3]}<extra></extra>",
         "legendgroup": "Green Warehousing",
         "marker": {
          "color": "#006400",
          "opacity": 0.9,
          "symbol": "circle"
         },
         "mode": "markers",
         "name": "Green Warehousing",
         "orientation": "v",
         "showlegend": true,
         "type": "scatter",
         "x": [
          -15.678135,
          -12.324628,
          -18.022726,
          -17.091158,
          -12.812802,
          -17.097052,
          -13.009223,
          -17.144358,
          -15.857035,
          -15.839809,
          -12.387238,
          -15.845396,
          -17.7096,
          -14.344387,
          -14.926434,
          -14.347123,
          -13.95049,
          -14.089301,
          -16.33063,
          -15.679084,
          -11.469785,
          -17.37865,
          -14.126265,
          -12.834487,
          -14.631813,
          -13.615661,
          -12.622881,
          -13.61861,
          -16.784815,
          -12.907574,
          -11.925795,
          -17.80666,
          -17.083168,
          -12.992455,
          -13.325959,
          -14.048031,
          -16.56807,
          -13.164788
         ],
         "xaxis": "x",
         "y": [
          -1.8824015,
          -4.433937,
          -0.6822823,
          -1.4810696,
          -4.5394607,
          -3.180425,
          -3.7486966,
          -0.611444,
          -5.153962,
          -1.703685,
          -4.629183,
          -5.169563,
          -0.94565445,
          -1.3093507,
          -3.3063076,
          -1.6542174,
          -2.5882013,
          -3.275138,
          -0.10557363,
          -2.8855772,
          -4.385643,
          -2.2595308,
          -1.7016248,
          -4.5487547,
          -2.4023526,
          -2.8536792,
          -5.281019,
          -4.076695,
          -2.860877,
          -2.0866697,
          -3.1848757,
          -0.22470859,
          -1.705576,
          -2.3399398,
          -1.7174629,
          -3.5802813,
          -1.8958355,
          -2.9727838
         ],
         "yaxis": "y"
        },
        {
         "customdata": [
          [
           "AI on Edge Devices",
           7,
           "pub.1128852448",
           ""
          ],
          [
           "AI on Edge Devices",
           7,
           "pub.1128479095",
           ""
          ],
          [
           "AI on Edge Devices",
           7,
           "pub.1127250882",
           ""
          ],
          [
           "AI on Edge Devices",
           7,
           "pub.1126481351",
           ""
          ],
          [
           "AI on Edge Devices",
           7,
           "pub.1125925617",
           ""
          ],
          [
           "AI on Edge Devices",
           7,
           "pub.1124148063",
           ""
          ],
          [
           "AI on Edge Devices",
           7,
           "pub.1122515167",
           ""
          ],
          [
           "AI on Edge Devices",
           7,
           "pub.1122235047",
           ""
          ],
          [
           "AI on Edge Devices",
           7,
           "pub.1121932678",
           ""
          ],
          [
           "AI on Edge Devices",
           7,
           "pub.1121194812",
           ""
          ],
          [
           "AI on Edge Devices",
           7,
           "pub.1118735394",
           ""
          ],
          [
           "AI on Edge Devices",
           7,
           "pub.1118023870",
           ""
          ],
          [
           "AI on Edge Devices",
           7,
           "pub.1117920554",
           ""
          ],
          [
           "AI on Edge Devices",
           1,
           "pub.1114352564",
           ""
          ],
          [
           "AI on Edge Devices",
           7,
           "pub.1112862699",
           ""
          ],
          [
           "AI on Edge Devices",
           7,
           "pub.1110420318",
           ""
          ],
          [
           "AI on Edge Devices",
           7,
           "pub.1104338333",
           ""
          ],
          [
           "AI on Edge Devices",
           7,
           "pub.1100673785",
           ""
          ],
          [
           "AI on Edge Devices",
           7,
           "pub.1083507587",
           ""
          ],
          [
           "AI on Edge Devices",
           7,
           "pub.1128716869",
           ""
          ],
          [
           "AI on Edge Devices",
           7,
           "pub.1125166251",
           ""
          ],
          [
           "AI on Edge Devices",
           7,
           "pub.1125166037",
           ""
          ],
          [
           "AI on Edge Devices",
           7,
           "pub.1124436340",
           ""
          ],
          [
           "AI on Edge Devices",
           7,
           "pub.1124081996",
           ""
          ],
          [
           "AI on Edge Devices",
           7,
           "pub.1123810093",
           ""
          ],
          [
           "AI on Edge Devices",
           7,
           "pub.1122596363",
           ""
          ],
          [
           "AI on Edge Devices",
           7,
           "pub.1122519012",
           ""
          ],
          [
           "AI on Edge Devices",
           7,
           "pub.1122068746",
           ""
          ],
          [
           "AI on Edge Devices",
           7,
           "pub.1121628094",
           ""
          ],
          [
           "AI on Edge Devices",
           7,
           "pub.1116154247",
           ""
          ],
          [
           "AI on Edge Devices",
           7,
           "pub.1113065842",
           ""
          ],
          [
           "AI on Edge Devices",
           7,
           "pub.1110363845",
           ""
          ],
          [
           "AI on Edge Devices",
           7,
           "pub.1107023934",
           ""
          ],
          [
           "AI on Edge Devices",
           7,
           "pub.1106394770",
           ""
          ],
          [
           "AI on Edge Devices",
           7,
           "pub.1103977084",
           ""
          ],
          [
           "AI on Edge Devices",
           7,
           "pub.1094646899",
           ""
          ]
         ],
         "hovertemplate": "label=%{customdata[0]}<br>x=%{x}<br>y=%{y}<br>cluster=%{customdata[1]}<br>pub_id=%{customdata[2]}<br>survey_group=%{customdata[3]}<extra></extra>",
         "legendgroup": "AI on Edge Devices",
         "marker": {
          "color": "#000080",
          "opacity": 0.9,
          "symbol": "circle"
         },
         "mode": "markers",
         "name": "AI on Edge Devices",
         "orientation": "v",
         "showlegend": true,
         "type": "scatter",
         "x": [
          -11.211249,
          -7.601059,
          -5.7428837,
          -6.123263,
          -10.915838,
          -9.976478,
          -8.548602,
          -7.9816313,
          -8.819883,
          -9.55889,
          -10.594547,
          -8.9710045,
          -6.3272853,
          -10.814966,
          -8.3260145,
          -8.907035,
          -5.859038,
          -7.462408,
          -7.7677093,
          -10.575953,
          -4.273727,
          -7.1740675,
          -8.188713,
          -7.0049953,
          -7.140681,
          -7.0916824,
          -5.3163123,
          -9.321905,
          -9.0028925,
          -7.4425793,
          -6.683473,
          -9.483081,
          -6.142157,
          -7.7645874,
          -7.3302283,
          -5.221174
         ],
         "xaxis": "x",
         "y": [
          20.08853,
          23.59012,
          22.566433,
          21.695019,
          23.92423,
          23.761272,
          21.679544,
          22.35588,
          22.837612,
          22.946083,
          24.480843,
          25.304995,
          23.939428,
          19.985542,
          25.445164,
          24.18462,
          25.226269,
          23.309158,
          24.495565,
          23.692434,
          24.610603,
          24.208977,
          22.87771,
          25.26886,
          22.98198,
          22.149837,
          21.291563,
          24.837698,
          22.590944,
          22.261393,
          22.999914,
          23.559427,
          21.4757,
          22.885283,
          23.90015,
          24.956455
         ],
         "yaxis": "y"
        },
        {
         "customdata": [
          [
           "Energy Growth Nexus",
           5,
           "pub.1123961798",
           ""
          ],
          [
           "Energy Growth Nexus",
           5,
           "pub.1052820957",
           ""
          ],
          [
           "Energy Growth Nexus",
           5,
           "pub.1050136415",
           ""
          ],
          [
           "Energy Growth Nexus",
           5,
           "pub.1048730269",
           ""
          ],
          [
           "Energy Growth Nexus",
           5,
           "pub.1047256779",
           ""
          ],
          [
           "Energy Growth Nexus",
           5,
           "pub.1045412034",
           ""
          ],
          [
           "Energy Growth Nexus",
           5,
           "pub.1042544661",
           ""
          ],
          [
           "Energy Growth Nexus",
           5,
           "pub.1042017662",
           ""
          ],
          [
           "Energy Growth Nexus",
           5,
           "pub.1041338787",
           ""
          ],
          [
           "Energy Growth Nexus",
           5,
           "pub.1036973953",
           ""
          ],
          [
           "Energy Growth Nexus",
           5,
           "pub.1022049865",
           ""
          ],
          [
           "Energy Growth Nexus",
           5,
           "pub.1021980170",
           ""
          ],
          [
           "Energy Growth Nexus",
           5,
           "pub.1009749897",
           ""
          ],
          [
           "Energy Growth Nexus",
           5,
           "pub.1009651790",
           ""
          ],
          [
           "Energy Growth Nexus",
           5,
           "pub.1009389919",
           ""
          ],
          [
           "Energy Growth Nexus",
           5,
           "pub.1006191975",
           ""
          ],
          [
           "Energy Growth Nexus",
           5,
           "pub.1002720309",
           ""
          ],
          [
           "Energy Growth Nexus",
           5,
           "pub.1053441851",
           ""
          ],
          [
           "Energy Growth Nexus",
           5,
           "pub.1052542598",
           ""
          ],
          [
           "Energy Growth Nexus",
           5,
           "pub.1051802627",
           ""
          ],
          [
           "Energy Growth Nexus",
           5,
           "pub.1040160107",
           ""
          ],
          [
           "Energy Growth Nexus",
           5,
           "pub.1032217726",
           ""
          ],
          [
           "Energy Growth Nexus",
           5,
           "pub.1031321996",
           ""
          ],
          [
           "Energy Growth Nexus",
           5,
           "pub.1024937016",
           ""
          ],
          [
           "Energy Growth Nexus",
           5,
           "pub.1013831878",
           ""
          ],
          [
           "Energy Growth Nexus",
           5,
           "pub.1006882307",
           ""
          ],
          [
           "Energy Growth Nexus",
           5,
           "pub.1005732591",
           ""
          ]
         ],
         "hovertemplate": "label=%{customdata[0]}<br>x=%{x}<br>y=%{y}<br>cluster=%{customdata[1]}<br>pub_id=%{customdata[2]}<br>survey_group=%{customdata[3]}<extra></extra>",
         "legendgroup": "Energy Growth Nexus",
         "marker": {
          "color": "#ff0000",
          "opacity": 0.9,
          "symbol": "circle"
         },
         "mode": "markers",
         "name": "Energy Growth Nexus",
         "orientation": "v",
         "showlegend": true,
         "type": "scatter",
         "x": [
          -26.491093,
          -27.290792,
          -25.23368,
          -25.64496,
          -27.08856,
          -24.86262,
          -27.968157,
          -25.9181,
          -25.629824,
          -27.916147,
          -25.463861,
          -25.66203,
          -27.695108,
          -25.925095,
          -26.188951,
          -24.56243,
          -26.640821,
          -25.644684,
          -26.318586,
          -24.90415,
          -25.76757,
          -25.791536,
          -26.650219,
          -27.872776,
          -27.129414,
          -25.410437,
          -24.553375
         ],
         "xaxis": "x",
         "y": [
          -18.229904,
          -16.81363,
          -15.463817,
          -15.473676,
          -15.099905,
          -15.266656,
          -13.806006,
          -17.410545,
          -15.961605,
          -13.8156,
          -16.073393,
          -14.373358,
          -13.670962,
          -15.416417,
          -15.16353,
          -14.587267,
          -16.53357,
          -14.938891,
          -16.459309,
          -16.071466,
          -15.506709,
          -14.118238,
          -13.866282,
          -13.797477,
          -14.514912,
          -13.572565,
          -16.422785
         ],
         "yaxis": "y"
        },
        {
         "customdata": [
          [
           "Drones in Agriculture",
           1,
           "pub.1113441179",
           ""
          ],
          [
           "Drones in Agriculture",
           1,
           "pub.1094775321",
           ""
          ],
          [
           "Drones in Agriculture",
           1,
           "pub.1092454498",
           ""
          ],
          [
           "Drones in Agriculture",
           1,
           "pub.1086143194",
           ""
          ],
          [
           "Drones in Agriculture",
           1,
           "pub.1071268140",
           ""
          ],
          [
           "Drones in Agriculture",
           1,
           "pub.1064896140",
           ""
          ],
          [
           "Drones in Agriculture",
           1,
           "pub.1064892999",
           ""
          ],
          [
           "Drones in Agriculture",
           1,
           "pub.1032694598",
           ""
          ],
          [
           "Drones in Agriculture",
           1,
           "pub.1022922533",
           ""
          ],
          [
           "Drones in Agriculture",
           1,
           "pub.1013849273",
           ""
          ],
          [
           "Drones in Agriculture",
           1,
           "pub.1007471000",
           ""
          ],
          [
           "Drones in Agriculture",
           1,
           "pub.1002161636",
           ""
          ],
          [
           "Drones in Agriculture",
           1,
           "pub.1000225286",
           ""
          ],
          [
           "Drones in Agriculture",
           1,
           "pub.1061610686",
           ""
          ],
          [
           "Drones in Agriculture",
           1,
           "pub.1061280901",
           ""
          ],
          [
           "Drones in Agriculture",
           1,
           "pub.1052390127",
           ""
          ],
          [
           "Drones in Agriculture",
           1,
           "pub.1028947023",
           ""
          ],
          [
           "Drones in Agriculture",
           1,
           "pub.1027978650",
           ""
          ],
          [
           "Drones in Agriculture",
           1,
           "pub.1025608752",
           ""
          ],
          [
           "Drones in Agriculture",
           1,
           "pub.1023847193",
           ""
          ],
          [
           "Drones in Agriculture",
           1,
           "pub.1020655667",
           ""
          ],
          [
           "Drones in Agriculture",
           1,
           "pub.1014003350",
           ""
          ],
          [
           "Drones in Agriculture",
           1,
           "pub.1010901465",
           ""
          ],
          [
           "Drones in Agriculture",
           1,
           "pub.1007702481",
           ""
          ],
          [
           "Drones in Agriculture",
           1,
           "pub.1003882381",
           ""
          ]
         ],
         "hovertemplate": "label=%{customdata[0]}<br>x=%{x}<br>y=%{y}<br>cluster=%{customdata[1]}<br>pub_id=%{customdata[2]}<br>survey_group=%{customdata[3]}<extra></extra>",
         "legendgroup": "Drones in Agriculture",
         "marker": {
          "color": "#00ced1",
          "opacity": 0.9,
          "symbol": "circle"
         },
         "mode": "markers",
         "name": "Drones in Agriculture",
         "orientation": "v",
         "showlegend": true,
         "type": "scatter",
         "x": [
          -12.438073,
          -12.079503,
          -14.3277025,
          -16.708218,
          -14.882014,
          -13.427465,
          -14.610325,
          -14.154143,
          -14.6912,
          -11.866407,
          -16.65355,
          -15.360956,
          -15.299233,
          -14.509724,
          -12.280467,
          -14.693056,
          -12.798095,
          -14.036916,
          -13.703799,
          -13.098206,
          -13.814551,
          -13.247742,
          -13.663452,
          -14.970421,
          -14.998968
         ],
         "xaxis": "x",
         "y": [
          17.2449,
          19.09913,
          16.787802,
          17.295895,
          15.741675,
          13.9863615,
          14.324046,
          16.030659,
          16.423445,
          17.300274,
          15.382393,
          15.980422,
          16.161383,
          15.805452,
          17.327238,
          16.247662,
          15.4781,
          15.680724,
          15.501524,
          14.855742,
          16.636475,
          15.091338,
          17.267733,
          15.371551,
          16.848164
         ],
         "yaxis": "y"
        },
        {
         "customdata": [
          [
           "Crop Yield Prediction",
           8,
           "pub.1112087374",
           ""
          ],
          [
           "Crop Yield Prediction",
           8,
           "pub.1111503060",
           ""
          ],
          [
           "Crop Yield Prediction",
           8,
           "pub.1107925034",
           ""
          ],
          [
           "Crop Yield Prediction",
           8,
           "pub.1107298395",
           ""
          ],
          [
           "Crop Yield Prediction",
           8,
           "pub.1106988165",
           ""
          ],
          [
           "Crop Yield Prediction",
           8,
           "pub.1106034026",
           ""
          ],
          [
           "Crop Yield Prediction",
           8,
           "pub.1105035509",
           ""
          ],
          [
           "Crop Yield Prediction",
           8,
           "pub.1103323054",
           ""
          ],
          [
           "Crop Yield Prediction",
           8,
           "pub.1103286049",
           ""
          ],
          [
           "Crop Yield Prediction",
           8,
           "pub.1095777829",
           ""
          ],
          [
           "Crop Yield Prediction",
           8,
           "pub.1095337245",
           ""
          ],
          [
           "Crop Yield Prediction",
           8,
           "pub.1094455706",
           ""
          ],
          [
           "Crop Yield Prediction",
           8,
           "pub.1094154280",
           ""
          ],
          [
           "Crop Yield Prediction",
           8,
           "pub.1093448171",
           ""
          ],
          [
           "Crop Yield Prediction",
           8,
           "pub.1087231057",
           ""
          ],
          [
           "Crop Yield Prediction",
           8,
           "pub.1085732641",
           ""
          ],
          [
           "Crop Yield Prediction",
           8,
           "pub.1085640773",
           ""
          ],
          [
           "Crop Yield Prediction",
           8,
           "pub.1083753722",
           ""
          ],
          [
           "Crop Yield Prediction",
           8,
           "pub.1072842102",
           ""
          ],
          [
           "Crop Yield Prediction",
           8,
           "pub.1061334272",
           ""
          ],
          [
           "Crop Yield Prediction",
           8,
           "pub.1040894579",
           ""
          ],
          [
           "Crop Yield Prediction",
           8,
           "pub.1016061586",
           ""
          ],
          [
           "Crop Yield Prediction",
           8,
           "pub.1013313926",
           ""
          ],
          [
           "Crop Yield Prediction",
           8,
           "pub.1011532234",
           ""
          ],
          [
           "Crop Yield Prediction",
           8,
           "pub.1003896548",
           ""
          ],
          [
           "Crop Yield Prediction",
           8,
           "pub.1003708746",
           ""
          ],
          [
           "Crop Yield Prediction",
           8,
           "pub.1001065952",
           ""
          ],
          [
           "Crop Yield Prediction",
           8,
           "pub.1111269831",
           ""
          ],
          [
           "Crop Yield Prediction",
           8,
           "pub.1106284861",
           ""
          ],
          [
           "Crop Yield Prediction",
           8,
           "pub.1105144504",
           ""
          ],
          [
           "Crop Yield Prediction",
           8,
           "pub.1105021375",
           ""
          ],
          [
           "Crop Yield Prediction",
           8,
           "pub.1103481417",
           ""
          ],
          [
           "Crop Yield Prediction",
           8,
           "pub.1094483007",
           ""
          ],
          [
           "Crop Yield Prediction",
           8,
           "pub.1093670904",
           ""
          ],
          [
           "Crop Yield Prediction",
           8,
           "pub.1093207217",
           ""
          ],
          [
           "Crop Yield Prediction",
           8,
           "pub.1084919232",
           ""
          ],
          [
           "Crop Yield Prediction",
           8,
           "pub.1083415540",
           ""
          ],
          [
           "Crop Yield Prediction",
           8,
           "pub.1061614459",
           ""
          ],
          [
           "Crop Yield Prediction",
           8,
           "pub.1041052930",
           ""
          ],
          [
           "Crop Yield Prediction",
           8,
           "pub.1033490641",
           ""
          ],
          [
           "Crop Yield Prediction",
           8,
           "pub.1033258084",
           ""
          ],
          [
           "Crop Yield Prediction",
           8,
           "pub.1031921576",
           ""
          ],
          [
           "Crop Yield Prediction",
           8,
           "pub.1028808547",
           ""
          ],
          [
           "Crop Yield Prediction",
           8,
           "pub.1005691069",
           ""
          ],
          [
           "Crop Yield Prediction",
           8,
           "pub.1004965338",
           ""
          ],
          [
           "Crop Yield Prediction",
           8,
           "pub.1001894773",
           ""
          ]
         ],
         "hovertemplate": "label=%{customdata[0]}<br>x=%{x}<br>y=%{y}<br>cluster=%{customdata[1]}<br>pub_id=%{customdata[2]}<br>survey_group=%{customdata[3]}<extra></extra>",
         "legendgroup": "Crop Yield Prediction",
         "marker": {
          "color": "#ffa500",
          "opacity": 0.9,
          "symbol": "circle"
         },
         "mode": "markers",
         "name": "Crop Yield Prediction",
         "orientation": "v",
         "showlegend": true,
         "type": "scatter",
         "x": [
          -20.24504,
          -19.673655,
          -21.936071,
          -22.014395,
          -21.765863,
          -20.071878,
          -21.469503,
          -19.837929,
          -22.446383,
          -22.667933,
          -21.64729,
          -23.694157,
          -22.930168,
          -22.748096,
          -21.746525,
          -19.490835,
          -21.31046,
          -19.602348,
          -21.78972,
          -18.528372,
          -20.808779,
          -22.015514,
          -20.073057,
          -21.067831,
          -21.157633,
          -20.753223,
          -21.302263,
          -20.679487,
          -20.11434,
          -22.035551,
          -19.989038,
          -22.360794,
          -23.072754,
          -24.001312,
          -23.569029,
          -24.152363,
          -23.05387,
          -20.013046,
          -20.006771,
          -18.819464,
          -20.47952,
          -21.710665,
          -21.569937,
          -22.538633,
          -19.656727,
          -20.876575
         ],
         "xaxis": "x",
         "y": [
          14.042606,
          14.849965,
          14.400226,
          13.803727,
          16.487165,
          15.219155,
          15.474757,
          19.480282,
          18.658264,
          17.062103,
          17.707159,
          16.307787,
          16.339638,
          15.33831,
          18.487434,
          16.159801,
          13.236231,
          19.335814,
          16.02574,
          15.171656,
          16.780602,
          17.147793,
          18.981012,
          17.44819,
          14.857896,
          16.793736,
          15.895762,
          15.664736,
          15.978069,
          13.047311,
          17.151249,
          15.766337,
          16.01923,
          16.454142,
          15.212897,
          16.33936,
          14.603731,
          18.093676,
          19.04233,
          13.922412,
          15.368331,
          13.427476,
          13.458303,
          17.59991,
          16.672491,
          16.236057
         ],
         "yaxis": "y"
        },
        {
         "customdata": [
          [
           "Sustainable Biofuel",
           9,
           "pub.1107587297",
           ""
          ],
          [
           "Sustainable Biofuel",
           4,
           "pub.1100466182",
           ""
          ],
          [
           "Sustainable Biofuel",
           4,
           "pub.1072974020",
           ""
          ],
          [
           "Sustainable Biofuel",
           4,
           "pub.1061936485",
           ""
          ],
          [
           "Sustainable Biofuel",
           4,
           "pub.1059379956",
           ""
          ],
          [
           "Sustainable Biofuel",
           9,
           "pub.1052527949",
           ""
          ],
          [
           "Sustainable Biofuel",
           9,
           "pub.1050772383",
           ""
          ],
          [
           "Sustainable Biofuel",
           4,
           "pub.1046534403",
           ""
          ],
          [
           "Sustainable Biofuel",
           4,
           "pub.1042117532",
           ""
          ],
          [
           "Sustainable Biofuel",
           4,
           "pub.1040677299",
           ""
          ],
          [
           "Sustainable Biofuel",
           4,
           "pub.1037107713",
           ""
          ],
          [
           "Sustainable Biofuel",
           9,
           "pub.1034672998",
           ""
          ],
          [
           "Sustainable Biofuel",
           4,
           "pub.1029572917",
           ""
          ],
          [
           "Sustainable Biofuel",
           9,
           "pub.1024929365",
           ""
          ],
          [
           "Sustainable Biofuel",
           9,
           "pub.1023297174",
           ""
          ],
          [
           "Sustainable Biofuel",
           4,
           "pub.1023206201",
           ""
          ],
          [
           "Sustainable Biofuel",
           9,
           "pub.1019705090",
           ""
          ],
          [
           "Sustainable Biofuel",
           9,
           "pub.1015524088",
           ""
          ],
          [
           "Sustainable Biofuel",
           9,
           "pub.1011757946",
           ""
          ],
          [
           "Sustainable Biofuel",
           4,
           "pub.1003364215",
           ""
          ],
          [
           "Sustainable Biofuel",
           9,
           "pub.1128580761",
           ""
          ],
          [
           "Sustainable Biofuel",
           9,
           "pub.1125099402",
           ""
          ],
          [
           "Sustainable Biofuel",
           9,
           "pub.1122753999",
           ""
          ],
          [
           "Sustainable Biofuel",
           4,
           "pub.1113705995",
           ""
          ],
          [
           "Sustainable Biofuel",
           9,
           "pub.1111976854",
           ""
          ],
          [
           "Sustainable Biofuel",
           9,
           "pub.1111565453",
           ""
          ],
          [
           "Sustainable Biofuel",
           9,
           "pub.1104374325",
           ""
          ],
          [
           "Sustainable Biofuel",
           4,
           "pub.1103810413",
           ""
          ],
          [
           "Sustainable Biofuel",
           4,
           "pub.1101561277",
           ""
          ],
          [
           "Sustainable Biofuel",
           4,
           "pub.1100248345",
           ""
          ],
          [
           "Sustainable Biofuel",
           4,
           "pub.1061934170",
           ""
          ],
          [
           "Sustainable Biofuel",
           4,
           "pub.1061934137",
           ""
          ],
          [
           "Sustainable Biofuel",
           4,
           "pub.1059570180",
           ""
          ],
          [
           "Sustainable Biofuel",
           9,
           "pub.1052968606",
           ""
          ],
          [
           "Sustainable Biofuel",
           4,
           "pub.1049492388",
           ""
          ],
          [
           "Sustainable Biofuel",
           9,
           "pub.1048939047",
           ""
          ],
          [
           "Sustainable Biofuel",
           4,
           "pub.1047356473",
           ""
          ],
          [
           "Sustainable Biofuel",
           9,
           "pub.1044581237",
           ""
          ],
          [
           "Sustainable Biofuel",
           4,
           "pub.1038072171",
           ""
          ],
          [
           "Sustainable Biofuel",
           9,
           "pub.1034625256",
           ""
          ],
          [
           "Sustainable Biofuel",
           9,
           "pub.1033108925",
           ""
          ],
          [
           "Sustainable Biofuel",
           9,
           "pub.1029649992",
           ""
          ],
          [
           "Sustainable Biofuel",
           4,
           "pub.1026369526",
           ""
          ],
          [
           "Sustainable Biofuel",
           4,
           "pub.1019951181",
           ""
          ],
          [
           "Sustainable Biofuel",
           9,
           "pub.1019376553",
           ""
          ],
          [
           "Sustainable Biofuel",
           4,
           "pub.1014664202",
           ""
          ],
          [
           "Sustainable Biofuel",
           9,
           "pub.1009832103",
           ""
          ],
          [
           "Sustainable Biofuel",
           9,
           "pub.1009744782",
           ""
          ],
          [
           "Sustainable Biofuel",
           4,
           "pub.1004602535",
           ""
          ],
          [
           "Sustainable Biofuel",
           9,
           "pub.1002495312",
           ""
          ]
         ],
         "hovertemplate": "label=%{customdata[0]}<br>x=%{x}<br>y=%{y}<br>cluster=%{customdata[1]}<br>pub_id=%{customdata[2]}<br>survey_group=%{customdata[3]}<extra></extra>",
         "legendgroup": "Sustainable Biofuel",
         "marker": {
          "color": "#ffff00",
          "opacity": 0.9,
          "symbol": "circle"
         },
         "mode": "markers",
         "name": "Sustainable Biofuel",
         "orientation": "v",
         "showlegend": true,
         "type": "scatter",
         "x": [
          -7.0809445,
          -9.356084,
          -12.674701,
          -13.404947,
          -13.588543,
          -9.813306,
          -9.205256,
          -11.018741,
          -12.594787,
          -11.724642,
          -12.421541,
          -10.372236,
          -10.929553,
          -9.076299,
          -8.8110895,
          -9.974945,
          -9.229996,
          -9.248197,
          -7.787745,
          -11.684098,
          -7.36656,
          -7.237122,
          -8.480242,
          -11.516231,
          -7.830186,
          -7.6501565,
          -8.7214775,
          -11.353809,
          -11.583943,
          -11.236239,
          -12.530083,
          -12.818255,
          -12.64593,
          -7.8216286,
          -11.939001,
          -8.930651,
          -13.724768,
          -11.128444,
          -11.881468,
          -8.392519,
          -9.323312,
          -7.061577,
          -11.498815,
          -13.211112,
          -8.975029,
          -13.408703,
          -7.079221,
          -7.777838,
          -14.156435,
          -10.221686
         ],
         "xaxis": "x",
         "y": [
          -17.446676,
          -13.963449,
          -14.529917,
          -13.910444,
          -14.346987,
          -15.387446,
          -17.7446,
          -14.071466,
          -15.342755,
          -12.045615,
          -13.965921,
          -16.536781,
          -14.8808975,
          -13.663672,
          -15.721903,
          -15.674429,
          -16.554726,
          -14.193473,
          -16.155268,
          -11.926953,
          -16.139051,
          -15.724988,
          -14.506664,
          -14.642223,
          -17.533665,
          -16.184612,
          -18.239702,
          -15.232464,
          -12.5908,
          -11.690198,
          -13.901315,
          -15.406227,
          -14.204187,
          -17.305494,
          -15.95291,
          -16.050545,
          -14.827225,
          -11.808163,
          -14.014735,
          -16.541777,
          -17.973648,
          -17.236137,
          -16.8285,
          -16.257385,
          -15.778906,
          -16.505114,
          -16.54785,
          -16.399239,
          -14.786169,
          -16.99763
         ],
         "yaxis": "y"
        },
        {
         "customdata": [
          [
           "Robotic Arthroplasty",
           2,
           "pub.1107054942",
           ""
          ],
          [
           "Robotic Arthroplasty",
           2,
           "pub.1105926995",
           ""
          ],
          [
           "Robotic Arthroplasty",
           2,
           "pub.1092914867",
           ""
          ],
          [
           "Robotic Arthroplasty",
           2,
           "pub.1092198359",
           ""
          ],
          [
           "Robotic Arthroplasty",
           2,
           "pub.1083695994",
           ""
          ],
          [
           "Robotic Arthroplasty",
           2,
           "pub.1077881457",
           ""
          ],
          [
           "Robotic Arthroplasty",
           2,
           "pub.1068898169",
           ""
          ],
          [
           "Robotic Arthroplasty",
           2,
           "pub.1068895745",
           ""
          ],
          [
           "Robotic Arthroplasty",
           2,
           "pub.1060167437",
           ""
          ],
          [
           "Robotic Arthroplasty",
           2,
           "pub.1060167433",
           ""
          ],
          [
           "Robotic Arthroplasty",
           2,
           "pub.1053567618",
           ""
          ],
          [
           "Robotic Arthroplasty",
           2,
           "pub.1053428144",
           ""
          ],
          [
           "Robotic Arthroplasty",
           2,
           "pub.1041693000",
           ""
          ],
          [
           "Robotic Arthroplasty",
           2,
           "pub.1040431710",
           ""
          ],
          [
           "Robotic Arthroplasty",
           2,
           "pub.1039984345",
           ""
          ],
          [
           "Robotic Arthroplasty",
           2,
           "pub.1036848872",
           ""
          ],
          [
           "Robotic Arthroplasty",
           2,
           "pub.1034566767",
           ""
          ],
          [
           "Robotic Arthroplasty",
           2,
           "pub.1033569916",
           ""
          ],
          [
           "Robotic Arthroplasty",
           2,
           "pub.1028449260",
           ""
          ],
          [
           "Robotic Arthroplasty",
           2,
           "pub.1014011841",
           ""
          ],
          [
           "Robotic Arthroplasty",
           2,
           "pub.1012736542",
           ""
          ],
          [
           "Robotic Arthroplasty",
           2,
           "pub.1003009109",
           ""
          ],
          [
           "Robotic Arthroplasty",
           2,
           "pub.1123098811",
           ""
          ],
          [
           "Robotic Arthroplasty",
           2,
           "pub.1121440882",
           ""
          ],
          [
           "Robotic Arthroplasty",
           2,
           "pub.1111052246",
           ""
          ],
          [
           "Robotic Arthroplasty",
           2,
           "pub.1107454237",
           ""
          ],
          [
           "Robotic Arthroplasty",
           2,
           "pub.1105917414",
           ""
          ],
          [
           "Robotic Arthroplasty",
           2,
           "pub.1105227244",
           ""
          ],
          [
           "Robotic Arthroplasty",
           2,
           "pub.1101146035",
           ""
          ],
          [
           "Robotic Arthroplasty",
           2,
           "pub.1100744263",
           ""
          ],
          [
           "Robotic Arthroplasty",
           2,
           "pub.1091777297",
           ""
          ],
          [
           "Robotic Arthroplasty",
           2,
           "pub.1085617296",
           ""
          ],
          [
           "Robotic Arthroplasty",
           2,
           "pub.1085423980",
           ""
          ],
          [
           "Robotic Arthroplasty",
           2,
           "pub.1064886544",
           ""
          ],
          [
           "Robotic Arthroplasty",
           2,
           "pub.1061784304",
           ""
          ],
          [
           "Robotic Arthroplasty",
           2,
           "pub.1061184595",
           ""
          ],
          [
           "Robotic Arthroplasty",
           2,
           "pub.1051764285",
           ""
          ],
          [
           "Robotic Arthroplasty",
           2,
           "pub.1048135360",
           ""
          ],
          [
           "Robotic Arthroplasty",
           2,
           "pub.1047113435",
           ""
          ],
          [
           "Robotic Arthroplasty",
           2,
           "pub.1046566936",
           ""
          ],
          [
           "Robotic Arthroplasty",
           2,
           "pub.1045115204",
           ""
          ],
          [
           "Robotic Arthroplasty",
           2,
           "pub.1033163258",
           ""
          ],
          [
           "Robotic Arthroplasty",
           2,
           "pub.1030382394",
           ""
          ],
          [
           "Robotic Arthroplasty",
           2,
           "pub.1023819845",
           ""
          ],
          [
           "Robotic Arthroplasty",
           2,
           "pub.1022546608",
           ""
          ],
          [
           "Robotic Arthroplasty",
           2,
           "pub.1020705223",
           ""
          ],
          [
           "Robotic Arthroplasty",
           2,
           "pub.1000309245",
           ""
          ]
         ],
         "hovertemplate": "label=%{customdata[0]}<br>x=%{x}<br>y=%{y}<br>cluster=%{customdata[1]}<br>pub_id=%{customdata[2]}<br>survey_group=%{customdata[3]}<extra></extra>",
         "legendgroup": "Robotic Arthroplasty",
         "marker": {
          "color": "#00ff00",
          "opacity": 0.9,
          "symbol": "circle"
         },
         "mode": "markers",
         "name": "Robotic Arthroplasty",
         "orientation": "v",
         "showlegend": true,
         "type": "scatter",
         "x": [
          19.586535,
          20.332003,
          19.49491,
          18.954195,
          20.974388,
          17.672508,
          19.70097,
          17.406458,
          15.980156,
          16.757614,
          19.316998,
          17.324272,
          16.606503,
          17.75889,
          21.840782,
          17.941843,
          15.967491,
          18.012033,
          20.446396,
          20.164618,
          18.131918,
          17.667255,
          20.014235,
          18.106438,
          20.149445,
          17.815498,
          20.158503,
          19.184278,
          20.268652,
          20.97196,
          20.805828,
          17.919643,
          18.767845,
          16.79701,
          15.934384,
          15.554865,
          19.258276,
          17.729393,
          20.949242,
          18.597635,
          16.585773,
          15.975522,
          20.562052,
          17.197319,
          20.742243,
          18.579004,
          18.755909
         ],
         "xaxis": "x",
         "y": [
          -18.243732,
          -20.75254,
          -17.908026,
          -18.747297,
          -19.96312,
          -18.035166,
          -20.949133,
          -20.981844,
          -20.767357,
          -19.445133,
          -19.357416,
          -18.705776,
          -21.735703,
          -19.386604,
          -20.042837,
          -22.598743,
          -18.733429,
          -22.135834,
          -20.41534,
          -21.294638,
          -22.103567,
          -20.67469,
          -20.311161,
          -19.174736,
          -19.458284,
          -21.458223,
          -18.737568,
          -19.141043,
          -20.041412,
          -20.018154,
          -21.116684,
          -21.740213,
          -19.846989,
          -18.709488,
          -18.735514,
          -19.903364,
          -21.007011,
          -19.689594,
          -19.12319,
          -20.419174,
          -19.886967,
          -20.863127,
          -21.967854,
          -21.337053,
          -21.870861,
          -19.934046,
          -20.070148
         ],
         "yaxis": "y"
        },
        {
         "customdata": [
          [
           "Soft Robotics",
           6,
           "pub.1099769159",
           ""
          ],
          [
           "Soft Robotics",
           6,
           "pub.1091247330",
           ""
          ],
          [
           "Soft Robotics",
           6,
           "pub.1085727340",
           ""
          ],
          [
           "Soft Robotics",
           6,
           "pub.1071553028",
           ""
          ],
          [
           "Soft Robotics",
           6,
           "pub.1063202700",
           ""
          ],
          [
           "Soft Robotics",
           6,
           "pub.1061784814",
           ""
          ],
          [
           "Soft Robotics",
           6,
           "pub.1061419831",
           ""
          ],
          [
           "Soft Robotics",
           6,
           "pub.1061419786",
           ""
          ],
          [
           "Soft Robotics",
           6,
           "pub.1052588601",
           ""
          ],
          [
           "Soft Robotics",
           3,
           "pub.1047578355",
           ""
          ],
          [
           "Soft Robotics",
           6,
           "pub.1046414848",
           ""
          ],
          [
           "Soft Robotics",
           6,
           "pub.1037299542",
           ""
          ],
          [
           "Soft Robotics",
           6,
           "pub.1032973919",
           ""
          ],
          [
           "Soft Robotics",
           6,
           "pub.1022244206",
           ""
          ],
          [
           "Soft Robotics",
           6,
           "pub.1021059830",
           ""
          ],
          [
           "Soft Robotics",
           6,
           "pub.1018093320",
           ""
          ],
          [
           "Soft Robotics",
           6,
           "pub.1013312043",
           ""
          ],
          [
           "Soft Robotics",
           6,
           "pub.1010861669",
           ""
          ],
          [
           "Soft Robotics",
           6,
           "pub.1009708400",
           ""
          ],
          [
           "Soft Robotics",
           6,
           "pub.1006036928",
           ""
          ],
          [
           "Soft Robotics",
           6,
           "pub.1099769145",
           ""
          ],
          [
           "Soft Robotics",
           6,
           "pub.1094524387",
           ""
          ],
          [
           "Soft Robotics",
           6,
           "pub.1062681758",
           ""
          ],
          [
           "Soft Robotics",
           6,
           "pub.1061692527",
           ""
          ],
          [
           "Soft Robotics",
           6,
           "pub.1059311431",
           ""
          ],
          [
           "Soft Robotics",
           6,
           "pub.1053869439",
           ""
          ],
          [
           "Soft Robotics",
           6,
           "pub.1053745766",
           ""
          ],
          [
           "Soft Robotics",
           6,
           "pub.1050931185",
           ""
          ],
          [
           "Soft Robotics",
           6,
           "pub.1048672075",
           ""
          ],
          [
           "Soft Robotics",
           6,
           "pub.1046958784",
           ""
          ],
          [
           "Soft Robotics",
           6,
           "pub.1035546790",
           ""
          ],
          [
           "Soft Robotics",
           6,
           "pub.1034332217",
           ""
          ],
          [
           "Soft Robotics",
           6,
           "pub.1033757657",
           ""
          ],
          [
           "Soft Robotics",
           6,
           "pub.1016383527",
           ""
          ],
          [
           "Soft Robotics",
           6,
           "pub.1014191409",
           ""
          ],
          [
           "Soft Robotics",
           6,
           "pub.1000285042",
           ""
          ]
         ],
         "hovertemplate": "label=%{customdata[0]}<br>x=%{x}<br>y=%{y}<br>cluster=%{customdata[1]}<br>pub_id=%{customdata[2]}<br>survey_group=%{customdata[3]}<extra></extra>",
         "legendgroup": "Soft Robotics",
         "marker": {
          "color": "#00fa9a",
          "opacity": 0.9,
          "symbol": "circle"
         },
         "mode": "markers",
         "name": "Soft Robotics",
         "orientation": "v",
         "showlegend": true,
         "type": "scatter",
         "x": [
          6.186493,
          10.043477,
          8.177336,
          6.1723046,
          7.3251915,
          7.819236,
          7.6952477,
          6.995394,
          9.893842,
          11.53771,
          10.296603,
          7.435036,
          8.225042,
          6.332869,
          11.038319,
          7.72899,
          7.355957,
          6.8946295,
          7.932953,
          6.9236913,
          6.1195283,
          8.750935,
          6.605421,
          9.46173,
          9.56507,
          8.190273,
          6.3832636,
          7.115927,
          8.402004,
          9.268579,
          6.950323,
          10.4197645,
          7.761431,
          10.216094,
          10.447244,
          6.804757
         ],
         "xaxis": "x",
         "y": [
          -4.548651,
          -2.8119886,
          -3.9236975,
          -5.1775675,
          -3.0131989,
          -5.725176,
          -3.6519513,
          -4.1500745,
          -1.995913,
          -2.0565279,
          -2.8751264,
          -1.8053,
          -2.6916955,
          -2.5271971,
          -2.2543569,
          -3.881701,
          -4.6682296,
          -3.187495,
          -3.2539818,
          -2.5633202,
          -5.323619,
          -4.954025,
          -3.4083793,
          -1.2145208,
          -2.1511085,
          -3.5835803,
          -1.6787784,
          -3.5528138,
          -3.2513213,
          -3.0709445,
          -3.1082883,
          -4.234534,
          -5.003211,
          -1.944873,
          -4.308359,
          -3.3075304
         ],
         "yaxis": "y"
        },
        {
         "customdata": [
          [
           "Internet of Things in Healthcare",
           7,
           "pub.1099281667",
           ""
          ],
          [
           "Internet of Things in Healthcare",
           7,
           "pub.1095490861",
           ""
          ],
          [
           "Internet of Things in Healthcare",
           7,
           "pub.1095264568",
           ""
          ],
          [
           "Internet of Things in Healthcare",
           7,
           "pub.1095255025",
           ""
          ],
          [
           "Internet of Things in Healthcare",
           7,
           "pub.1095085621",
           ""
          ],
          [
           "Internet of Things in Healthcare",
           7,
           "pub.1094970902",
           ""
          ],
          [
           "Internet of Things in Healthcare",
           7,
           "pub.1094969147",
           ""
          ],
          [
           "Internet of Things in Healthcare",
           7,
           "pub.1094830611",
           ""
          ],
          [
           "Internet of Things in Healthcare",
           7,
           "pub.1094225194",
           ""
          ],
          [
           "Internet of Things in Healthcare",
           7,
           "pub.1093507023",
           ""
          ],
          [
           "Internet of Things in Healthcare",
           7,
           "pub.1093357343",
           ""
          ],
          [
           "Internet of Things in Healthcare",
           7,
           "pub.1067238716",
           ""
          ],
          [
           "Internet of Things in Healthcare",
           7,
           "pub.1038434872",
           ""
          ],
          [
           "Internet of Things in Healthcare",
           7,
           "pub.1034508886",
           ""
          ],
          [
           "Internet of Things in Healthcare",
           7,
           "pub.1016352338",
           ""
          ],
          [
           "Internet of Things in Healthcare",
           7,
           "pub.1001751876",
           ""
          ],
          [
           "Internet of Things in Healthcare",
           7,
           "pub.1095770589",
           ""
          ],
          [
           "Internet of Things in Healthcare",
           7,
           "pub.1095382211",
           ""
          ],
          [
           "Internet of Things in Healthcare",
           7,
           "pub.1095382199",
           ""
          ],
          [
           "Internet of Things in Healthcare",
           7,
           "pub.1093739978",
           ""
          ],
          [
           "Internet of Things in Healthcare",
           7,
           "pub.1093463283",
           ""
          ],
          [
           "Internet of Things in Healthcare",
           7,
           "pub.1061632443",
           ""
          ],
          [
           "Internet of Things in Healthcare",
           7,
           "pub.1061324932",
           ""
          ],
          [
           "Internet of Things in Healthcare",
           7,
           "pub.1044514690",
           ""
          ],
          [
           "Internet of Things in Healthcare",
           7,
           "pub.1044290948",
           ""
          ],
          [
           "Internet of Things in Healthcare",
           7,
           "pub.1042065361",
           ""
          ],
          [
           "Internet of Things in Healthcare",
           7,
           "pub.1031978033",
           ""
          ],
          [
           "Internet of Things in Healthcare",
           7,
           "pub.1025765207",
           ""
          ],
          [
           "Internet of Things in Healthcare",
           7,
           "pub.1024210708",
           ""
          ]
         ],
         "hovertemplate": "label=%{customdata[0]}<br>x=%{x}<br>y=%{y}<br>cluster=%{customdata[1]}<br>pub_id=%{customdata[2]}<br>survey_group=%{customdata[3]}<extra></extra>",
         "legendgroup": "Internet of Things in Healthcare",
         "marker": {
          "color": "#0000ff",
          "opacity": 0.9,
          "symbol": "circle"
         },
         "mode": "markers",
         "name": "Internet of Things in Healthcare",
         "orientation": "v",
         "showlegend": true,
         "type": "scatter",
         "x": [
          -0.3583252,
          -0.18443109,
          -1.3630341,
          0.16633213,
          -4.082495,
          -0.9498652,
          -2.8993523,
          -1.6835632,
          -2.296028,
          -1.356399,
          -1.2035704,
          -0.23233734,
          -0.8562631,
          -1.7986273,
          -2.5638492,
          -1.5312245,
          -1.9468418,
          -4.2659597,
          -2.4367962,
          0.2339671,
          -2.4447718,
          -0.7604797,
          -2.5336134,
          -1.6693096,
          -1.0356001,
          -4.904548,
          -2.836514,
          -1.1213119,
          -1.7226281
         ],
         "xaxis": "x",
         "y": [
          23.40979,
          24.41109,
          25.282978,
          26.004654,
          25.110374,
          25.602137,
          25.574348,
          26.300165,
          24.98034,
          24.532846,
          24.226114,
          22.928675,
          26.87071,
          23.376505,
          24.498531,
          26.06928,
          25.649424,
          25.615164,
          25.465609,
          25.336416,
          24.397133,
          25.144299,
          26.222065,
          25.063845,
          24.903248,
          24.844637,
          24.19335,
          26.308441,
          23.617094
         ],
         "yaxis": "y"
        },
        {
         "customdata": [
          [
           "Tourism Growth Nexus",
           5,
           "pub.1090346357",
           ""
          ],
          [
           "Tourism Growth Nexus",
           5,
           "pub.1072794279",
           ""
          ],
          [
           "Tourism Growth Nexus",
           5,
           "pub.1049141736",
           ""
          ],
          [
           "Tourism Growth Nexus",
           5,
           "pub.1047663892",
           ""
          ],
          [
           "Tourism Growth Nexus",
           5,
           "pub.1035901982",
           ""
          ],
          [
           "Tourism Growth Nexus",
           5,
           "pub.1034653502",
           ""
          ],
          [
           "Tourism Growth Nexus",
           5,
           "pub.1029979518",
           ""
          ],
          [
           "Tourism Growth Nexus",
           5,
           "pub.1013412296",
           ""
          ],
          [
           "Tourism Growth Nexus",
           5,
           "pub.1011854038",
           ""
          ],
          [
           "Tourism Growth Nexus",
           5,
           "pub.1007878277",
           ""
          ],
          [
           "Tourism Growth Nexus",
           5,
           "pub.1007170077",
           ""
          ],
          [
           "Tourism Growth Nexus",
           5,
           "pub.1004840356",
           ""
          ],
          [
           "Tourism Growth Nexus",
           5,
           "pub.1004299966",
           ""
          ],
          [
           "Tourism Growth Nexus",
           5,
           "pub.1001562704",
           ""
          ],
          [
           "Tourism Growth Nexus",
           5,
           "pub.1000810498",
           ""
          ],
          [
           "Tourism Growth Nexus",
           5,
           "pub.1072794260",
           ""
          ],
          [
           "Tourism Growth Nexus",
           5,
           "pub.1053802942",
           ""
          ],
          [
           "Tourism Growth Nexus",
           5,
           "pub.1053750775",
           ""
          ],
          [
           "Tourism Growth Nexus",
           5,
           "pub.1033376226",
           ""
          ],
          [
           "Tourism Growth Nexus",
           5,
           "pub.1032490977",
           ""
          ],
          [
           "Tourism Growth Nexus",
           5,
           "pub.1029520182",
           ""
          ],
          [
           "Tourism Growth Nexus",
           5,
           "pub.1022720888",
           ""
          ],
          [
           "Tourism Growth Nexus",
           5,
           "pub.1017098340",
           ""
          ],
          [
           "Tourism Growth Nexus",
           5,
           "pub.1013871876",
           ""
          ],
          [
           "Tourism Growth Nexus",
           5,
           "pub.1003840912",
           ""
          ]
         ],
         "hovertemplate": "label=%{customdata[0]}<br>x=%{x}<br>y=%{y}<br>cluster=%{customdata[1]}<br>pub_id=%{customdata[2]}<br>survey_group=%{customdata[3]}<extra></extra>",
         "legendgroup": "Tourism Growth Nexus",
         "marker": {
          "color": "#ff00ff",
          "opacity": 0.9,
          "symbol": "circle"
         },
         "mode": "markers",
         "name": "Tourism Growth Nexus",
         "orientation": "v",
         "showlegend": true,
         "type": "scatter",
         "x": [
          -30.201933,
          -30.812386,
          -31.773935,
          -30.31169,
          -31.790445,
          -31.614687,
          -30.884949,
          -31.763367,
          -29.889109,
          -30.802774,
          -32.10829,
          -30.734741,
          -29.24653,
          -30.663012,
          -31.233831,
          -30.79453,
          -29.322395,
          -30.003723,
          -29.90706,
          -32.193863,
          -27.449446,
          -30.930443,
          -30.205011,
          -31.021826,
          -30.257807
         ],
         "xaxis": "x",
         "y": [
          -17.348736,
          -18.058115,
          -16.315573,
          -18.366333,
          -18.124043,
          -16.852968,
          -17.031649,
          -16.237051,
          -16.804634,
          -15.395314,
          -17.170021,
          -15.531866,
          -16.731415,
          -17.150291,
          -17.736166,
          -16.704504,
          -17.107046,
          -17.676893,
          -16.738375,
          -17.1411,
          -15.293149,
          -16.389282,
          -16.794502,
          -15.589585,
          -18.06545
         ],
         "yaxis": "y"
        },
        {
         "customdata": [
          [
           "Cervical Myelopathy",
           12,
           "pub.1080091058",
           ""
          ],
          [
           "Cervical Myelopathy",
           12,
           "pub.1079276563",
           ""
          ],
          [
           "Cervical Myelopathy",
           12,
           "pub.1071103439",
           ""
          ],
          [
           "Cervical Myelopathy",
           12,
           "pub.1071103239",
           ""
          ],
          [
           "Cervical Myelopathy",
           12,
           "pub.1071098440",
           ""
          ],
          [
           "Cervical Myelopathy",
           12,
           "pub.1071097240",
           ""
          ],
          [
           "Cervical Myelopathy",
           12,
           "pub.1068893336",
           ""
          ],
          [
           "Cervical Myelopathy",
           12,
           "pub.1068893080",
           ""
          ],
          [
           "Cervical Myelopathy",
           12,
           "pub.1068890012",
           ""
          ],
          [
           "Cervical Myelopathy",
           11,
           "pub.1059443086",
           ""
          ],
          [
           "Cervical Myelopathy",
           12,
           "pub.1049890557",
           ""
          ],
          [
           "Cervical Myelopathy",
           12,
           "pub.1045861847",
           ""
          ],
          [
           "Cervical Myelopathy",
           12,
           "pub.1043047033",
           ""
          ],
          [
           "Cervical Myelopathy",
           12,
           "pub.1041327125",
           ""
          ],
          [
           "Cervical Myelopathy",
           12,
           "pub.1040115320",
           ""
          ],
          [
           "Cervical Myelopathy",
           12,
           "pub.1038222550",
           ""
          ],
          [
           "Cervical Myelopathy",
           12,
           "pub.1037790804",
           ""
          ],
          [
           "Cervical Myelopathy",
           12,
           "pub.1037654624",
           ""
          ],
          [
           "Cervical Myelopathy",
           12,
           "pub.1036336702",
           ""
          ],
          [
           "Cervical Myelopathy",
           12,
           "pub.1035509307",
           ""
          ],
          [
           "Cervical Myelopathy",
           12,
           "pub.1034944004",
           ""
          ],
          [
           "Cervical Myelopathy",
           12,
           "pub.1028542573",
           ""
          ],
          [
           "Cervical Myelopathy",
           12,
           "pub.1028420740",
           ""
          ],
          [
           "Cervical Myelopathy",
           12,
           "pub.1021857143",
           ""
          ],
          [
           "Cervical Myelopathy",
           12,
           "pub.1017401652",
           ""
          ],
          [
           "Cervical Myelopathy",
           12,
           "pub.1015407573",
           ""
          ],
          [
           "Cervical Myelopathy",
           12,
           "pub.1014052117",
           ""
          ],
          [
           "Cervical Myelopathy",
           12,
           "pub.1009748592",
           ""
          ],
          [
           "Cervical Myelopathy",
           12,
           "pub.1007826013",
           ""
          ],
          [
           "Cervical Myelopathy",
           12,
           "pub.1071103618",
           ""
          ],
          [
           "Cervical Myelopathy",
           12,
           "pub.1071103060",
           ""
          ],
          [
           "Cervical Myelopathy",
           12,
           "pub.1071097586",
           ""
          ],
          [
           "Cervical Myelopathy",
           12,
           "pub.1071095985",
           ""
          ],
          [
           "Cervical Myelopathy",
           11,
           "pub.1071088479",
           ""
          ],
          [
           "Cervical Myelopathy",
           12,
           "pub.1071076802",
           ""
          ],
          [
           "Cervical Myelopathy",
           11,
           "pub.1059442903",
           ""
          ],
          [
           "Cervical Myelopathy",
           12,
           "pub.1053723341",
           ""
          ],
          [
           "Cervical Myelopathy",
           12,
           "pub.1050443276",
           ""
          ],
          [
           "Cervical Myelopathy",
           12,
           "pub.1039231588",
           ""
          ],
          [
           "Cervical Myelopathy",
           12,
           "pub.1038098923",
           ""
          ],
          [
           "Cervical Myelopathy",
           12,
           "pub.1036299701",
           ""
          ],
          [
           "Cervical Myelopathy",
           12,
           "pub.1034074696",
           ""
          ],
          [
           "Cervical Myelopathy",
           12,
           "pub.1024110809",
           ""
          ],
          [
           "Cervical Myelopathy",
           12,
           "pub.1023278334",
           ""
          ],
          [
           "Cervical Myelopathy",
           12,
           "pub.1020803753",
           ""
          ],
          [
           "Cervical Myelopathy",
           12,
           "pub.1016889944",
           ""
          ],
          [
           "Cervical Myelopathy",
           12,
           "pub.1003399679",
           ""
          ]
         ],
         "hovertemplate": "label=%{customdata[0]}<br>x=%{x}<br>y=%{y}<br>cluster=%{customdata[1]}<br>pub_id=%{customdata[2]}<br>survey_group=%{customdata[3]}<extra></extra>",
         "legendgroup": "Cervical Myelopathy",
         "marker": {
          "color": "#1e90ff",
          "opacity": 0.9,
          "symbol": "circle"
         },
         "mode": "markers",
         "name": "Cervical Myelopathy",
         "orientation": "v",
         "showlegend": true,
         "type": "scatter",
         "x": [
          34.650455,
          35.006012,
          36.9116,
          35.904987,
          33.712875,
          34.05599,
          32.91904,
          33.887558,
          33.896545,
          32.674595,
          33.889145,
          34.991814,
          31.302967,
          33.71124,
          35.624786,
          37.05679,
          35.12614,
          37.111164,
          35.198536,
          35.399143,
          34.991314,
          35.256756,
          35.263935,
          35.075974,
          34.451347,
          35.01601,
          32.9227,
          35.055656,
          32.391163,
          35.823097,
          33.857597,
          34.720516,
          34.296917,
          32.69705,
          30.999454,
          32.65956,
          33.24188,
          37.02385,
          36.256542,
          36.920208,
          32.784172,
          32.71792,
          32.87885,
          36.232502,
          35.261646,
          31.271317,
          36.513138
         ],
         "xaxis": "x",
         "y": [
          -14.852661,
          -13.588901,
          -16.669111,
          -17.411966,
          -16.04951,
          -17.298893,
          -15.381683,
          -15.444499,
          -16.967693,
          -11.869389,
          -14.186842,
          -12.222522,
          -15.956342,
          -17.759283,
          -15.870753,
          -15.802314,
          -15.343214,
          -16.424839,
          -16.769047,
          -17.707617,
          -16.556168,
          -13.340548,
          -16.321377,
          -14.48302,
          -13.319183,
          -12.71685,
          -16.749163,
          -16.348906,
          -15.456604,
          -16.78546,
          -16.149443,
          -14.986371,
          -15.376724,
          -11.854115,
          -16.078962,
          -11.860787,
          -14.116947,
          -16.451668,
          -13.162097,
          -16.477345,
          -17.226137,
          -15.416669,
          -14.679183,
          -17.380507,
          -13.237205,
          -15.976519,
          -15.764138
         ],
         "yaxis": "y"
        },
        {
         "customdata": [
          [
           "Resilience in Business and management",
           10,
           "pub.1075345922",
           ""
          ],
          [
           "Resilience in Business and management",
           10,
           "pub.1073407503",
           ""
          ],
          [
           "Resilience in Business and management",
           10,
           "pub.1072896311",
           ""
          ],
          [
           "Resilience in Business and management",
           10,
           "pub.1072894681",
           ""
          ],
          [
           "Resilience in Business and management",
           10,
           "pub.1070196019",
           ""
          ],
          [
           "Resilience in Business and management",
           10,
           "pub.1069908660",
           ""
          ],
          [
           "Resilience in Business and management",
           10,
           "pub.1069908041",
           ""
          ],
          [
           "Resilience in Business and management",
           10,
           "pub.1069907901",
           ""
          ],
          [
           "Resilience in Business and management",
           10,
           "pub.1047959878",
           ""
          ],
          [
           "Resilience in Business and management",
           10,
           "pub.1041282031",
           ""
          ],
          [
           "Resilience in Business and management",
           10,
           "pub.1036458898",
           ""
          ],
          [
           "Resilience in Business and management",
           10,
           "pub.1032563790",
           ""
          ],
          [
           "Resilience in Business and management",
           10,
           "pub.1031594587",
           ""
          ],
          [
           "Resilience in Business and management",
           10,
           "pub.1030211703",
           ""
          ],
          [
           "Resilience in Business and management",
           10,
           "pub.1020050164",
           ""
          ],
          [
           "Resilience in Business and management",
           10,
           "pub.1008687306",
           ""
          ],
          [
           "Resilience in Business and management",
           10,
           "pub.1075056726",
           ""
          ],
          [
           "Resilience in Business and management",
           10,
           "pub.1069908683",
           ""
          ],
          [
           "Resilience in Business and management",
           10,
           "pub.1048916231",
           ""
          ],
          [
           "Resilience in Business and management",
           10,
           "pub.1043814808",
           ""
          ],
          [
           "Resilience in Business and management",
           10,
           "pub.1034737787",
           ""
          ],
          [
           "Resilience in Business and management",
           10,
           "pub.1031829691",
           ""
          ],
          [
           "Resilience in Business and management",
           10,
           "pub.1031821349",
           ""
          ],
          [
           "Resilience in Business and management",
           10,
           "pub.1030632837",
           ""
          ],
          [
           "Resilience in Business and management",
           10,
           "pub.1018062843",
           ""
          ],
          [
           "Resilience in Business and management",
           10,
           "pub.1016764583",
           ""
          ],
          [
           "Resilience in Business and management",
           10,
           "pub.1013827626",
           ""
          ]
         ],
         "hovertemplate": "label=%{customdata[0]}<br>x=%{x}<br>y=%{y}<br>cluster=%{customdata[1]}<br>pub_id=%{customdata[2]}<br>survey_group=%{customdata[3]}<extra></extra>",
         "legendgroup": "Resilience in Business and management",
         "marker": {
          "color": "#eee8aa",
          "opacity": 0.9,
          "symbol": "circle"
         },
         "mode": "markers",
         "name": "Resilience in Business and management",
         "orientation": "v",
         "showlegend": true,
         "type": "scatter",
         "x": [
          -6.4592752,
          -6.034614,
          -4.97132,
          -4.1471753,
          -6.0580773,
          -4.4901896,
          -5.5665126,
          -4.22137,
          -7.9097705,
          -4.2693763,
          -4.097585,
          -4.618068,
          -6.0975885,
          -3.6178744,
          -8.019849,
          -7.9836545,
          -6.365926,
          -3.886238,
          -3.8462882,
          -4.3082213,
          -5.831707,
          -8.057674,
          -4.9757457,
          -4.863479,
          -8.563367,
          -8.112616,
          -7.6139874
         ],
         "xaxis": "x",
         "y": [
          -2.638861,
          -2.316054,
          0.10042588,
          -1.2569972,
          -4.3291306,
          -3.6461687,
          -3.8438365,
          -2.1828334,
          -4.281474,
          -0.62227905,
          -0.70564944,
          -0.4570955,
          -3.4070854,
          -0.97153115,
          -3.562951,
          -3.64299,
          -2.782557,
          -3.1028032,
          -0.879298,
          -0.14997584,
          -3.507599,
          -3.3743434,
          0.27931735,
          0.1470594,
          -4.353658,
          -3.6322293,
          -4.4299126
         ],
         "yaxis": "y"
        },
        {
         "customdata": [
          [
           "Synthetic Biology",
           13,
           "pub.1067589570",
           ""
          ],
          [
           "Synthetic Biology",
           13,
           "pub.1052700485",
           ""
          ],
          [
           "Synthetic Biology",
           13,
           "pub.1042528786",
           ""
          ],
          [
           "Synthetic Biology",
           13,
           "pub.1037881716",
           ""
          ],
          [
           "Synthetic Biology",
           13,
           "pub.1036497140",
           ""
          ],
          [
           "Synthetic Biology",
           13,
           "pub.1036018285",
           ""
          ],
          [
           "Synthetic Biology",
           13,
           "pub.1035931199",
           ""
          ],
          [
           "Synthetic Biology",
           13,
           "pub.1028250908",
           ""
          ],
          [
           "Synthetic Biology",
           13,
           "pub.1026899122",
           ""
          ],
          [
           "Synthetic Biology",
           13,
           "pub.1025786828",
           ""
          ],
          [
           "Synthetic Biology",
           9,
           "pub.1022297654",
           ""
          ],
          [
           "Synthetic Biology",
           13,
           "pub.1022279877",
           ""
          ],
          [
           "Synthetic Biology",
           13,
           "pub.1021654569",
           ""
          ],
          [
           "Synthetic Biology",
           13,
           "pub.1021275892",
           ""
          ],
          [
           "Synthetic Biology",
           13,
           "pub.1020751277",
           ""
          ],
          [
           "Synthetic Biology",
           13,
           "pub.1016534270",
           ""
          ],
          [
           "Synthetic Biology",
           13,
           "pub.1014359908",
           ""
          ],
          [
           "Synthetic Biology",
           13,
           "pub.1009258787",
           ""
          ],
          [
           "Synthetic Biology",
           9,
           "pub.1006120611",
           ""
          ],
          [
           "Synthetic Biology",
           13,
           "pub.1002786107",
           ""
          ],
          [
           "Synthetic Biology",
           13,
           "pub.1001000963",
           ""
          ],
          [
           "Synthetic Biology",
           13,
           "pub.1048602129",
           ""
          ],
          [
           "Synthetic Biology",
           13,
           "pub.1046952734",
           ""
          ],
          [
           "Synthetic Biology",
           13,
           "pub.1033127471",
           ""
          ],
          [
           "Synthetic Biology",
           13,
           "pub.1028022455",
           ""
          ],
          [
           "Synthetic Biology",
           13,
           "pub.1024208323",
           ""
          ],
          [
           "Synthetic Biology",
           13,
           "pub.1010407598",
           ""
          ],
          [
           "Synthetic Biology",
           13,
           "pub.1009412636",
           ""
          ],
          [
           "Synthetic Biology",
           13,
           "pub.1004364700",
           ""
          ]
         ],
         "hovertemplate": "label=%{customdata[0]}<br>x=%{x}<br>y=%{y}<br>cluster=%{customdata[1]}<br>pub_id=%{customdata[2]}<br>survey_group=%{customdata[3]}<extra></extra>",
         "legendgroup": "Synthetic Biology",
         "marker": {
          "color": "#000000",
          "opacity": 0.9,
          "symbol": "circle"
         },
         "mode": "markers",
         "name": "Synthetic Biology",
         "orientation": "v",
         "showlegend": true,
         "type": "scatter",
         "x": [
          7.61682,
          9.334111,
          8.662821,
          8.71062,
          7.9023376,
          10.733986,
          9.811221,
          10.379187,
          7.720198,
          8.077889,
          11.88476,
          7.9103866,
          6.8423605,
          8.346837,
          7.205788,
          7.66707,
          9.856648,
          8.053376,
          11.914327,
          8.417035,
          8.6283865,
          8.002299,
          7.8882494,
          7.1427517,
          7.830538,
          10.365569,
          8.8357315,
          10.429508,
          7.629857
         ],
         "xaxis": "x",
         "y": [
          4.5119343,
          5.9386735,
          7.699339,
          6.9623203,
          7.826543,
          5.27748,
          7.817381,
          5.52412,
          4.9236484,
          4.1639633,
          8.818044,
          5.902916,
          7.4386463,
          4.556975,
          6.1298547,
          7.210978,
          7.3373837,
          6.145369,
          8.824024,
          7.369574,
          5.998288,
          5.781884,
          4.73212,
          7.1749344,
          7.663387,
          5.6477757,
          6.9135237,
          5.5912676,
          6.2422986
         ],
         "yaxis": "y"
        },
        {
         "customdata": [
          [
           "Nanoparticles",
           3,
           "pub.1064567937",
           ""
          ],
          [
           "Nanoparticles",
           3,
           "pub.1062447105",
           ""
          ],
          [
           "Nanoparticles",
           3,
           "pub.1050579616",
           ""
          ],
          [
           "Nanoparticles",
           3,
           "pub.1041771334",
           ""
          ],
          [
           "Nanoparticles",
           3,
           "pub.1040302077",
           ""
          ],
          [
           "Nanoparticles",
           3,
           "pub.1039641194",
           ""
          ],
          [
           "Nanoparticles",
           3,
           "pub.1038778560",
           ""
          ],
          [
           "Nanoparticles",
           3,
           "pub.1029482017",
           ""
          ],
          [
           "Nanoparticles",
           3,
           "pub.1028058184",
           ""
          ],
          [
           "Nanoparticles",
           3,
           "pub.1027828956",
           ""
          ],
          [
           "Nanoparticles",
           3,
           "pub.1026661243",
           ""
          ],
          [
           "Nanoparticles",
           3,
           "pub.1025760895",
           ""
          ],
          [
           "Nanoparticles",
           3,
           "pub.1021666873",
           ""
          ],
          [
           "Nanoparticles",
           3,
           "pub.1020673706",
           ""
          ],
          [
           "Nanoparticles",
           3,
           "pub.1020647724",
           ""
          ],
          [
           "Nanoparticles",
           3,
           "pub.1015833771",
           ""
          ],
          [
           "Nanoparticles",
           3,
           "pub.1013655144",
           ""
          ],
          [
           "Nanoparticles",
           3,
           "pub.1009246618",
           ""
          ],
          [
           "Nanoparticles",
           3,
           "pub.1008013568",
           ""
          ],
          [
           "Nanoparticles",
           3,
           "pub.1005792673",
           ""
          ],
          [
           "Nanoparticles",
           3,
           "pub.1002703153",
           ""
          ],
          [
           "Nanoparticles",
           3,
           "pub.1001343412",
           ""
          ],
          [
           "Nanoparticles",
           3,
           "pub.1056221800",
           ""
          ],
          [
           "Nanoparticles",
           3,
           "pub.1056143784",
           ""
          ],
          [
           "Nanoparticles",
           3,
           "pub.1055504074",
           ""
          ],
          [
           "Nanoparticles",
           3,
           "pub.1052990623",
           ""
          ],
          [
           "Nanoparticles",
           3,
           "pub.1051411109",
           ""
          ],
          [
           "Nanoparticles",
           3,
           "pub.1050276749",
           ""
          ],
          [
           "Nanoparticles",
           3,
           "pub.1048709708",
           ""
          ],
          [
           "Nanoparticles",
           3,
           "pub.1047132329",
           ""
          ],
          [
           "Nanoparticles",
           3,
           "pub.1046826509",
           ""
          ],
          [
           "Nanoparticles",
           3,
           "pub.1044670756",
           ""
          ],
          [
           "Nanoparticles",
           3,
           "pub.1044430846",
           ""
          ],
          [
           "Nanoparticles",
           3,
           "pub.1041163416",
           ""
          ],
          [
           "Nanoparticles",
           3,
           "pub.1040077610",
           ""
          ],
          [
           "Nanoparticles",
           3,
           "pub.1039713086",
           ""
          ],
          [
           "Nanoparticles",
           3,
           "pub.1039601245",
           ""
          ],
          [
           "Nanoparticles",
           3,
           "pub.1036002565",
           ""
          ],
          [
           "Nanoparticles",
           3,
           "pub.1035909146",
           ""
          ],
          [
           "Nanoparticles",
           3,
           "pub.1035623214",
           ""
          ],
          [
           "Nanoparticles",
           3,
           "pub.1035474832",
           ""
          ],
          [
           "Nanoparticles",
           3,
           "pub.1035387745",
           ""
          ],
          [
           "Nanoparticles",
           3,
           "pub.1034007004",
           ""
          ],
          [
           "Nanoparticles",
           3,
           "pub.1033416172",
           ""
          ],
          [
           "Nanoparticles",
           3,
           "pub.1031075757",
           ""
          ],
          [
           "Nanoparticles",
           3,
           "pub.1028529625",
           ""
          ],
          [
           "Nanoparticles",
           3,
           "pub.1024367203",
           ""
          ],
          [
           "Nanoparticles",
           3,
           "pub.1017225012",
           ""
          ],
          [
           "Nanoparticles",
           3,
           "pub.1016714991",
           ""
          ],
          [
           "Nanoparticles",
           3,
           "pub.1005629396",
           ""
          ]
         ],
         "hovertemplate": "label=%{customdata[0]}<br>x=%{x}<br>y=%{y}<br>cluster=%{customdata[1]}<br>pub_id=%{customdata[2]}<br>survey_group=%{customdata[3]}<extra></extra>",
         "legendgroup": "Nanoparticles",
         "marker": {
          "color": "#2f4f4f",
          "opacity": 0.9,
          "symbol": "circle"
         },
         "mode": "markers",
         "name": "Nanoparticles",
         "orientation": "v",
         "showlegend": true,
         "type": "scatter",
         "x": [
          20.469423,
          18.044327,
          14.315709,
          20.84163,
          17.561413,
          17.938309,
          19.78493,
          20.59632,
          17.33584,
          20.956718,
          19.202604,
          16.858274,
          19.92801,
          22.322824,
          18.271286,
          17.009813,
          18.754045,
          19.401228,
          21.45195,
          19.617422,
          18.761892,
          19.63799,
          19.416897,
          16.823938,
          22.809025,
          20.743448,
          17.83457,
          16.70956,
          21.111162,
          19.589828,
          21.495403,
          21.40643,
          16.892504,
          16.655142,
          18.812794,
          18.520279,
          18.492727,
          18.734062,
          20.05406,
          19.100107,
          19.165018,
          21.447756,
          22.240671,
          20.46936,
          16.676413,
          20.887407,
          19.571747,
          19.967295,
          16.625555,
          20.51875
         ],
         "xaxis": "x",
         "y": [
          5.0735106,
          2.8944602,
          3.6268518,
          3.5270154,
          3.9606724,
          3.9601462,
          4.9738283,
          2.5755577,
          4.269866,
          4.2319183,
          2.389858,
          7.6936703,
          5.1124687,
          4.4683886,
          5.3791904,
          4.4750786,
          6.8385186,
          5.4586105,
          2.817159,
          2.9125035,
          2.5142605,
          3.6587107,
          3.439911,
          7.7006855,
          5.8779845,
          3.7414505,
          5.5152555,
          2.5415387,
          2.957741,
          2.9511464,
          6.2103477,
          2.8911204,
          7.6836953,
          5.1433444,
          3.1667962,
          4.986677,
          5.2093706,
          5.7623687,
          6.3913293,
          6.974681,
          5.7036242,
          6.170247,
          6.2125955,
          9.0566845,
          3.4614933,
          4.769498,
          4.3003664,
          1.6047592,
          3.3427866,
          8.966985
         ],
         "yaxis": "y"
        }
       ],
       "layout": {
        "legend": {
         "title": {
          "text": "label"
         },
         "tracegroupgap": 0
        },
        "margin": {
         "t": 60
        },
        "template": {
         "data": {
          "bar": [
           {
            "error_x": {
             "color": "#2a3f5f"
            },
            "error_y": {
             "color": "#2a3f5f"
            },
            "marker": {
             "line": {
              "color": "#E5ECF6",
              "width": 0.5
             },
             "pattern": {
              "fillmode": "overlay",
              "size": 10,
              "solidity": 0.2
             }
            },
            "type": "bar"
           }
          ],
          "barpolar": [
           {
            "marker": {
             "line": {
              "color": "#E5ECF6",
              "width": 0.5
             },
             "pattern": {
              "fillmode": "overlay",
              "size": 10,
              "solidity": 0.2
             }
            },
            "type": "barpolar"
           }
          ],
          "carpet": [
           {
            "aaxis": {
             "endlinecolor": "#2a3f5f",
             "gridcolor": "white",
             "linecolor": "white",
             "minorgridcolor": "white",
             "startlinecolor": "#2a3f5f"
            },
            "baxis": {
             "endlinecolor": "#2a3f5f",
             "gridcolor": "white",
             "linecolor": "white",
             "minorgridcolor": "white",
             "startlinecolor": "#2a3f5f"
            },
            "type": "carpet"
           }
          ],
          "choropleth": [
           {
            "colorbar": {
             "outlinewidth": 0,
             "ticks": ""
            },
            "type": "choropleth"
           }
          ],
          "contour": [
           {
            "colorbar": {
             "outlinewidth": 0,
             "ticks": ""
            },
            "colorscale": [
             [
              0,
              "#0d0887"
             ],
             [
              0.1111111111111111,
              "#46039f"
             ],
             [
              0.2222222222222222,
              "#7201a8"
             ],
             [
              0.3333333333333333,
              "#9c179e"
             ],
             [
              0.4444444444444444,
              "#bd3786"
             ],
             [
              0.5555555555555556,
              "#d8576b"
             ],
             [
              0.6666666666666666,
              "#ed7953"
             ],
             [
              0.7777777777777778,
              "#fb9f3a"
             ],
             [
              0.8888888888888888,
              "#fdca26"
             ],
             [
              1,
              "#f0f921"
             ]
            ],
            "type": "contour"
           }
          ],
          "contourcarpet": [
           {
            "colorbar": {
             "outlinewidth": 0,
             "ticks": ""
            },
            "type": "contourcarpet"
           }
          ],
          "heatmap": [
           {
            "colorbar": {
             "outlinewidth": 0,
             "ticks": ""
            },
            "colorscale": [
             [
              0,
              "#0d0887"
             ],
             [
              0.1111111111111111,
              "#46039f"
             ],
             [
              0.2222222222222222,
              "#7201a8"
             ],
             [
              0.3333333333333333,
              "#9c179e"
             ],
             [
              0.4444444444444444,
              "#bd3786"
             ],
             [
              0.5555555555555556,
              "#d8576b"
             ],
             [
              0.6666666666666666,
              "#ed7953"
             ],
             [
              0.7777777777777778,
              "#fb9f3a"
             ],
             [
              0.8888888888888888,
              "#fdca26"
             ],
             [
              1,
              "#f0f921"
             ]
            ],
            "type": "heatmap"
           }
          ],
          "heatmapgl": [
           {
            "colorbar": {
             "outlinewidth": 0,
             "ticks": ""
            },
            "colorscale": [
             [
              0,
              "#0d0887"
             ],
             [
              0.1111111111111111,
              "#46039f"
             ],
             [
              0.2222222222222222,
              "#7201a8"
             ],
             [
              0.3333333333333333,
              "#9c179e"
             ],
             [
              0.4444444444444444,
              "#bd3786"
             ],
             [
              0.5555555555555556,
              "#d8576b"
             ],
             [
              0.6666666666666666,
              "#ed7953"
             ],
             [
              0.7777777777777778,
              "#fb9f3a"
             ],
             [
              0.8888888888888888,
              "#fdca26"
             ],
             [
              1,
              "#f0f921"
             ]
            ],
            "type": "heatmapgl"
           }
          ],
          "histogram": [
           {
            "marker": {
             "pattern": {
              "fillmode": "overlay",
              "size": 10,
              "solidity": 0.2
             }
            },
            "type": "histogram"
           }
          ],
          "histogram2d": [
           {
            "colorbar": {
             "outlinewidth": 0,
             "ticks": ""
            },
            "colorscale": [
             [
              0,
              "#0d0887"
             ],
             [
              0.1111111111111111,
              "#46039f"
             ],
             [
              0.2222222222222222,
              "#7201a8"
             ],
             [
              0.3333333333333333,
              "#9c179e"
             ],
             [
              0.4444444444444444,
              "#bd3786"
             ],
             [
              0.5555555555555556,
              "#d8576b"
             ],
             [
              0.6666666666666666,
              "#ed7953"
             ],
             [
              0.7777777777777778,
              "#fb9f3a"
             ],
             [
              0.8888888888888888,
              "#fdca26"
             ],
             [
              1,
              "#f0f921"
             ]
            ],
            "type": "histogram2d"
           }
          ],
          "histogram2dcontour": [
           {
            "colorbar": {
             "outlinewidth": 0,
             "ticks": ""
            },
            "colorscale": [
             [
              0,
              "#0d0887"
             ],
             [
              0.1111111111111111,
              "#46039f"
             ],
             [
              0.2222222222222222,
              "#7201a8"
             ],
             [
              0.3333333333333333,
              "#9c179e"
             ],
             [
              0.4444444444444444,
              "#bd3786"
             ],
             [
              0.5555555555555556,
              "#d8576b"
             ],
             [
              0.6666666666666666,
              "#ed7953"
             ],
             [
              0.7777777777777778,
              "#fb9f3a"
             ],
             [
              0.8888888888888888,
              "#fdca26"
             ],
             [
              1,
              "#f0f921"
             ]
            ],
            "type": "histogram2dcontour"
           }
          ],
          "mesh3d": [
           {
            "colorbar": {
             "outlinewidth": 0,
             "ticks": ""
            },
            "type": "mesh3d"
           }
          ],
          "parcoords": [
           {
            "line": {
             "colorbar": {
              "outlinewidth": 0,
              "ticks": ""
             }
            },
            "type": "parcoords"
           }
          ],
          "pie": [
           {
            "automargin": true,
            "type": "pie"
           }
          ],
          "scatter": [
           {
            "fillpattern": {
             "fillmode": "overlay",
             "size": 10,
             "solidity": 0.2
            },
            "type": "scatter"
           }
          ],
          "scatter3d": [
           {
            "line": {
             "colorbar": {
              "outlinewidth": 0,
              "ticks": ""
             }
            },
            "marker": {
             "colorbar": {
              "outlinewidth": 0,
              "ticks": ""
             }
            },
            "type": "scatter3d"
           }
          ],
          "scattercarpet": [
           {
            "marker": {
             "colorbar": {
              "outlinewidth": 0,
              "ticks": ""
             }
            },
            "type": "scattercarpet"
           }
          ],
          "scattergeo": [
           {
            "marker": {
             "colorbar": {
              "outlinewidth": 0,
              "ticks": ""
             }
            },
            "type": "scattergeo"
           }
          ],
          "scattergl": [
           {
            "marker": {
             "colorbar": {
              "outlinewidth": 0,
              "ticks": ""
             }
            },
            "type": "scattergl"
           }
          ],
          "scattermapbox": [
           {
            "marker": {
             "colorbar": {
              "outlinewidth": 0,
              "ticks": ""
             }
            },
            "type": "scattermapbox"
           }
          ],
          "scatterpolar": [
           {
            "marker": {
             "colorbar": {
              "outlinewidth": 0,
              "ticks": ""
             }
            },
            "type": "scatterpolar"
           }
          ],
          "scatterpolargl": [
           {
            "marker": {
             "colorbar": {
              "outlinewidth": 0,
              "ticks": ""
             }
            },
            "type": "scatterpolargl"
           }
          ],
          "scatterternary": [
           {
            "marker": {
             "colorbar": {
              "outlinewidth": 0,
              "ticks": ""
             }
            },
            "type": "scatterternary"
           }
          ],
          "surface": [
           {
            "colorbar": {
             "outlinewidth": 0,
             "ticks": ""
            },
            "colorscale": [
             [
              0,
              "#0d0887"
             ],
             [
              0.1111111111111111,
              "#46039f"
             ],
             [
              0.2222222222222222,
              "#7201a8"
             ],
             [
              0.3333333333333333,
              "#9c179e"
             ],
             [
              0.4444444444444444,
              "#bd3786"
             ],
             [
              0.5555555555555556,
              "#d8576b"
             ],
             [
              0.6666666666666666,
              "#ed7953"
             ],
             [
              0.7777777777777778,
              "#fb9f3a"
             ],
             [
              0.8888888888888888,
              "#fdca26"
             ],
             [
              1,
              "#f0f921"
             ]
            ],
            "type": "surface"
           }
          ],
          "table": [
           {
            "cells": {
             "fill": {
              "color": "#EBF0F8"
             },
             "line": {
              "color": "white"
             }
            },
            "header": {
             "fill": {
              "color": "#C8D4E3"
             },
             "line": {
              "color": "white"
             }
            },
            "type": "table"
           }
          ]
         },
         "layout": {
          "annotationdefaults": {
           "arrowcolor": "#2a3f5f",
           "arrowhead": 0,
           "arrowwidth": 1
          },
          "autotypenumbers": "strict",
          "coloraxis": {
           "colorbar": {
            "outlinewidth": 0,
            "ticks": ""
           }
          },
          "colorscale": {
           "diverging": [
            [
             0,
             "#8e0152"
            ],
            [
             0.1,
             "#c51b7d"
            ],
            [
             0.2,
             "#de77ae"
            ],
            [
             0.3,
             "#f1b6da"
            ],
            [
             0.4,
             "#fde0ef"
            ],
            [
             0.5,
             "#f7f7f7"
            ],
            [
             0.6,
             "#e6f5d0"
            ],
            [
             0.7,
             "#b8e186"
            ],
            [
             0.8,
             "#7fbc41"
            ],
            [
             0.9,
             "#4d9221"
            ],
            [
             1,
             "#276419"
            ]
           ],
           "sequential": [
            [
             0,
             "#0d0887"
            ],
            [
             0.1111111111111111,
             "#46039f"
            ],
            [
             0.2222222222222222,
             "#7201a8"
            ],
            [
             0.3333333333333333,
             "#9c179e"
            ],
            [
             0.4444444444444444,
             "#bd3786"
            ],
            [
             0.5555555555555556,
             "#d8576b"
            ],
            [
             0.6666666666666666,
             "#ed7953"
            ],
            [
             0.7777777777777778,
             "#fb9f3a"
            ],
            [
             0.8888888888888888,
             "#fdca26"
            ],
            [
             1,
             "#f0f921"
            ]
           ],
           "sequentialminus": [
            [
             0,
             "#0d0887"
            ],
            [
             0.1111111111111111,
             "#46039f"
            ],
            [
             0.2222222222222222,
             "#7201a8"
            ],
            [
             0.3333333333333333,
             "#9c179e"
            ],
            [
             0.4444444444444444,
             "#bd3786"
            ],
            [
             0.5555555555555556,
             "#d8576b"
            ],
            [
             0.6666666666666666,
             "#ed7953"
            ],
            [
             0.7777777777777778,
             "#fb9f3a"
            ],
            [
             0.8888888888888888,
             "#fdca26"
            ],
            [
             1,
             "#f0f921"
            ]
           ]
          },
          "colorway": [
           "#2f4f4f",
           "#a0522d",
           "#006400",
           "#000080",
           "#ff0000",
           "#00ced1",
           "#ffa500",
           "#ffff00",
           "#00ff00",
           "#00fa9a",
           "#0000ff",
           "#ff00ff",
           "#1e90ff",
           "#eee8aa",
           "#000000"
          ],
          "font": {
           "color": "#2a3f5f"
          },
          "geo": {
           "bgcolor": "white",
           "lakecolor": "white",
           "landcolor": "#E5ECF6",
           "showlakes": true,
           "showland": true,
           "subunitcolor": "white"
          },
          "hoverlabel": {
           "align": "left"
          },
          "hovermode": "closest",
          "mapbox": {
           "style": "light"
          },
          "paper_bgcolor": "white",
          "plot_bgcolor": "#E5ECF6",
          "polar": {
           "angularaxis": {
            "gridcolor": "white",
            "linecolor": "white",
            "ticks": ""
           },
           "bgcolor": "#E5ECF6",
           "radialaxis": {
            "gridcolor": "white",
            "linecolor": "white",
            "ticks": ""
           }
          },
          "scene": {
           "xaxis": {
            "backgroundcolor": "#E5ECF6",
            "gridcolor": "white",
            "gridwidth": 2,
            "linecolor": "white",
            "showbackground": true,
            "ticks": "",
            "zerolinecolor": "white"
           },
           "yaxis": {
            "backgroundcolor": "#E5ECF6",
            "gridcolor": "white",
            "gridwidth": 2,
            "linecolor": "white",
            "showbackground": true,
            "ticks": "",
            "zerolinecolor": "white"
           },
           "zaxis": {
            "backgroundcolor": "#E5ECF6",
            "gridcolor": "white",
            "gridwidth": 2,
            "linecolor": "white",
            "showbackground": true,
            "ticks": "",
            "zerolinecolor": "white"
           }
          },
          "shapedefaults": {
           "line": {
            "color": "#2a3f5f"
           }
          },
          "ternary": {
           "aaxis": {
            "gridcolor": "white",
            "linecolor": "white",
            "ticks": ""
           },
           "baxis": {
            "gridcolor": "white",
            "linecolor": "white",
            "ticks": ""
           },
           "bgcolor": "#E5ECF6",
           "caxis": {
            "gridcolor": "white",
            "linecolor": "white",
            "ticks": ""
           }
          },
          "title": {
           "x": 0.05
          },
          "xaxis": {
           "automargin": true,
           "gridcolor": "white",
           "linecolor": "white",
           "ticks": "",
           "title": {
            "standoff": 15
           },
           "zerolinecolor": "white",
           "zerolinewidth": 2
          },
          "yaxis": {
           "automargin": true,
           "gridcolor": "white",
           "linecolor": "white",
           "ticks": "",
           "title": {
            "standoff": 15
           },
           "zerolinecolor": "white",
           "zerolinewidth": 2
          }
         }
        },
        "xaxis": {
         "anchor": "y",
         "domain": [
          0,
          1
         ],
         "title": {
          "text": "x"
         }
        },
        "yaxis": {
         "anchor": "x",
         "domain": [
          0,
          1
         ],
         "title": {
          "text": "y"
         }
        }
       }
      }
     },
     "metadata": {},
     "output_type": "display_data"
    }
   ],
   "source": [
    "fig = px.scatter(\n",
    "    df,\n",
    "    x=\"x\",\n",
    "    y=\"y\",\n",
    "    color=\"label\",\n",
    "    hover_data=[\"label\", \"cluster\", \"pub_id\", \"survey_group\"],\n",
    ")\n",
    "fig.update_traces(marker_opacity=0.9)\n",
    "fig.show()"
   ]
  },
  {
   "cell_type": "code",
   "execution_count": null,
   "metadata": {},
   "outputs": [],
   "source": [
    "import umap\n",
    "\n",
    "umap_embeddings = umap.UMAP(n_neighbors=20, min_dist=0.2, metric=\"cosine\").fit_transform(\n",
    "    all_embeddings\n",
    ")"
   ]
  },
  {
   "cell_type": "code",
   "execution_count": null,
   "metadata": {},
   "outputs": [],
   "source": [
    "\n",
    "df = pd.DataFrame(umap_embeddings, columns=[\"x\", \"y\"])\n",
    "df[\"label\"] = labels\n",
    "df[\"cluster\"] = cluster_labels\n",
    "df[\"pub_id\"] = pub_ids\n",
    "# Add true label to survey\n",
    "df[\"survey_group\"] = df.apply(\n",
    "    lambda x: f\"{x['label']} - {core_pubs[core_pubs['Survey'] == x['pub_id']]['Group'].values[0]}\"\n",
    "    if x[\"label\"] == \"Survey\"\n",
    "    else \"\",\n",
    "    axis=1,\n",
    ")\n",
    "\n",
    "fig = px.scatter(\n",
    "    df,\n",
    "    x=\"x\",\n",
    "    y=\"y\",\n",
    "    color=\"label\",\n",
    "    hover_data=[\"label\", \"cluster\", \"pub_id\", \"survey_group\"],\n",
    ")\n",
    "fig.update_traces(marker_opacity=0.9)\n",
    "fig.show()"
   ]
  }
 ],
 "metadata": {
  "kernelspec": {
   "display_name": ".venv",
   "language": "python",
   "name": "python3"
  },
  "language_info": {
   "codemirror_mode": {
    "name": "ipython",
    "version": 3
   },
   "file_extension": ".py",
   "mimetype": "text/x-python",
   "name": "python",
   "nbconvert_exporter": "python",
   "pygments_lexer": "ipython3",
   "version": "3.10.4"
  }
 },
 "nbformat": 4,
 "nbformat_minor": 2
}
