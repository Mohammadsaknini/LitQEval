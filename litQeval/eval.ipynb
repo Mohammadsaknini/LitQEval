{
 "cells": [
  {
   "cell_type": "code",
   "execution_count": 62,
   "metadata": {},
   "outputs": [],
   "source": [
    "from sklearn.metrics.pairwise import cosine_similarity\n",
    "from litQeval.eval_utils import get_data, evaluate_recall\n",
    "import pandas as pd\n",
    "import numpy as np"
   ]
  },
  {
   "cell_type": "code",
   "execution_count": 63,
   "metadata": {},
   "outputs": [],
   "source": [
    "baseline = '\"Cervical Myelopathy\"'\n",
    "predicted = \"\"\"\n",
    "\"spinal stenosis\" OR \"spinal surgery risks\" OR \"cervical myelopathy\" OR \"gait disturbance\" OR \"corticosteroid injections\" OR \"degenerative disc disease\" OR \"surgery for myelopathy\" OR \"myelopathy symptoms\" OR \"nerve root compression\" OR \"upper limb weakness\" OR \"mri cervical spine\" OR \"cervical radiculopathy\" OR \"cervical spondylotic myelopathy\" OR \"myelopathy assessment\" OR \n",
    "((\"rehabilitation\" OR \"long-term outcomes\" OR \"patient education\" OR \"pain management\" OR \"chronic pain\" OR \"physical therapy\" OR \"neurological symptoms\" OR \"postoperative care\" OR \"cervical spine\" OR \"neck pain\" OR \"reflex changes\" OR \"mobility issues\" OR \"spinal cord compression\" OR \"electromyography (emg)\") AND (\"Cervical Myelopathy\"))\n",
    "\"\"\"\n",
    "\n",
    "data = get_data(baseline, predicted)\n",
    "core_pubs = data[\"core_pubs\"]\n",
    "core_mean_embedding = data[\"core_mean_embedding\"]\n",
    "baseline_pubs = data[\"baseline_pubs\"]\n",
    "predicted_pubs = data[\"predicted_pubs\"]\n",
    "baseline_vs = data[\"baseline_vs\"]\n",
    "predicted_vs = data[\"predicted_vs\"]\n",
    "predicted_embeddings = np.array([embedding for embedding in predicted_vs.get(include=[\"embeddings\"])[\"embeddings\"]])\n",
    "baseline_embeddings = np.array([embedding for embedding in baseline_vs.get(include=[\"embeddings\"])[\"embeddings\"]])"
   ]
  },
  {
   "cell_type": "code",
   "execution_count": 64,
   "metadata": {},
   "outputs": [
    {
     "data": {
      "text/plain": [
       "{'baseline_recall': 0.2765957446808511, 'predicted_recall': 0.723404255319149}"
      ]
     },
     "execution_count": 64,
     "metadata": {},
     "output_type": "execute_result"
    }
   ],
   "source": [
    "evaluate_recall(core_pubs, baseline_pubs, predicted_pubs)"
   ]
  },
  {
   "cell_type": "code",
   "execution_count": 65,
   "metadata": {},
   "outputs": [
    {
     "data": {
      "text/plain": [
       "((1, 1536), (37068, 1536), (4298, 1536))"
      ]
     },
     "execution_count": 65,
     "metadata": {},
     "output_type": "execute_result"
    }
   ],
   "source": [
    "core_mean_embedding.reshape(1, -1).shape, predicted_embeddings.shape, baseline_embeddings.shape"
   ]
  },
  {
   "cell_type": "code",
   "execution_count": 72,
   "metadata": {},
   "outputs": [
    {
     "data": {
      "text/plain": [
       "(11719, 4)"
      ]
     },
     "execution_count": 72,
     "metadata": {},
     "output_type": "execute_result"
    }
   ],
   "source": [
    "cosine_sim = cosine_similarity(core_mean_embedding, predicted_embeddings).flatten()\n",
    "predicted_pubs[\"similarity\"] = cosine_sim\n",
    "\n",
    "threshold = predicted_pubs[predicted_pubs[\"id\"].isin(core_pubs)][\"similarity\"].min()\n",
    "relevant_pubs = predicted_pubs[predicted_pubs[\"similarity\"] >= threshold].copy()\n",
    "relevant_pubs.shape"
   ]
  },
  {
   "cell_type": "code",
   "execution_count": 76,
   "metadata": {},
   "outputs": [
    {
     "data": {
      "text/plain": [
       "0.3161486996870616"
      ]
     },
     "execution_count": 76,
     "metadata": {},
     "output_type": "execute_result"
    }
   ],
   "source": [
    "# every element that is more similar than the least similar core publication is considered relevant\n",
    "relevant_pubs.shape[0] / predicted_pubs.shape[0]"
   ]
  }
 ],
 "metadata": {
  "kernelspec": {
   "display_name": ".venv",
   "language": "python",
   "name": "python3"
  },
  "language_info": {
   "codemirror_mode": {
    "name": "ipython",
    "version": 3
   },
   "file_extension": ".py",
   "mimetype": "text/x-python",
   "name": "python",
   "nbconvert_exporter": "python",
   "pygments_lexer": "ipython3",
   "version": "3.10.4"
  }
 },
 "nbformat": 4,
 "nbformat_minor": 2
}
