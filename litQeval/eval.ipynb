{
 "cells": [
  {
   "cell_type": "code",
   "execution_count": 2,
   "metadata": {},
   "outputs": [],
   "source": [
    "from sklearn.metrics.pairwise import cosine_similarity\n",
    "from litQeval.eval_utils import get_data, evaluate_recall\n",
    "import pandas as pd\n",
    "import numpy as np"
   ]
  },
  {
   "cell_type": "code",
   "execution_count": 3,
   "metadata": {},
   "outputs": [],
   "source": [
    "baseline = '\"Cervical Myelopathy\"'\n",
    "predicted = \"\"\"\n",
    "\"spinal stenosis\" OR \"spinal surgery risks\" OR \"cervical myelopathy\" OR \"gait disturbance\" OR \"corticosteroid injections\" OR \"degenerative disc disease\" OR \"surgery for myelopathy\" OR \"myelopathy symptoms\" OR \"nerve root compression\" OR \"upper limb weakness\" OR \"mri cervical spine\" OR \"cervical radiculopathy\" OR \"cervical spondylotic myelopathy\" OR \"myelopathy assessment\" OR \n",
    "((\"rehabilitation\" OR \"long-term outcomes\" OR \"patient education\" OR \"pain management\" OR \"chronic pain\" OR \"physical therapy\" OR \"neurological symptoms\" OR \"postoperative care\" OR \"cervical spine\" OR \"neck pain\" OR \"reflex changes\" OR \"mobility issues\" OR \"spinal cord compression\" OR \"electromyography (emg)\") AND (\"Cervical Myelopathy\"))\n",
    "\"\"\"\n",
    "\n",
    "data = get_data(baseline, predicted)\n",
    "core_pubs = data[\"core_pubs\"]\n",
    "core_mean_embedding = data[\"core_mean_embedding\"]\n",
    "baseline_pubs = data[\"baseline_pubs\"]\n",
    "predicted_pubs = data[\"predicted_pubs\"]\n",
    "baseline_vs = data[\"baseline_vs\"]\n",
    "predicted_vs = data[\"predicted_vs\"]\n",
    "predicted_embeddings = np.array([embedding for embedding in predicted_vs.get(include=[\"embeddings\"])[\"embeddings\"]])\n",
    "baseline_embeddings = np.array([embedding for embedding in baseline_vs.get(include=[\"embeddings\"])[\"embeddings\"]])"
   ]
  },
  {
   "cell_type": "code",
   "execution_count": 4,
   "metadata": {},
   "outputs": [
    {
     "data": {
      "text/plain": [
       "((1, 1536), (37068, 1536), (4298, 1536))"
      ]
     },
     "execution_count": 4,
     "metadata": {},
     "output_type": "execute_result"
    }
   ],
   "source": [
    "core_mean_embedding.reshape(1, -1).shape, predicted_embeddings.shape, baseline_embeddings.shape"
   ]
  },
  {
   "cell_type": "code",
   "execution_count": 29,
   "metadata": {},
   "outputs": [
    {
     "data": {
      "text/plain": [
       "(11719, 0.723404255319149)"
      ]
     },
     "execution_count": 29,
     "metadata": {},
     "output_type": "execute_result"
    }
   ],
   "source": [
    "# predicted\n",
    "cosine_sim = cosine_similarity(core_mean_embedding, predicted_embeddings).flatten()\n",
    "predicted_pubs[\"similarity\"] = cosine_sim\n",
    "\n",
    "core_pubs_in_predicted = predicted_pubs[predicted_pubs[\"id\"].isin(core_pubs)]\n",
    "threshold = core_pubs_in_predicted[\"similarity\"].min()\n",
    "relevant_predicted_pubs = predicted_pubs[predicted_pubs[\"similarity\"] >= threshold].copy()\n",
    "core_in_predicted_ratio = len(core_pubs_in_predicted) / len(core_pubs)\n",
    "relevant_predicted_pubs.shape[0], core_in_predicted_ratio "
   ]
  },
  {
   "cell_type": "code",
   "execution_count": 30,
   "metadata": {},
   "outputs": [
    {
     "data": {
      "text/plain": [
       "(2249, 0.2765957446808511)"
      ]
     },
     "execution_count": 30,
     "metadata": {},
     "output_type": "execute_result"
    }
   ],
   "source": [
    "# baseline\n",
    "cosine_sim = cosine_similarity(core_mean_embedding, baseline_embeddings).flatten()\n",
    "baseline_pubs[\"similarity\"] = cosine_sim\n",
    "\n",
    "core_pubs_in_baseline = baseline_pubs[baseline_pubs[\"id\"].isin(core_pubs)]\n",
    "threshold = core_pubs_in_baseline[\"similarity\"].min()\n",
    "relevent_baseline_pubs = baseline_pubs[baseline_pubs[\"similarity\"] >= threshold].copy()\n",
    "core_in_baseline_ratio = len(core_pubs_in_baseline) / len(core_pubs)\n",
    "relevent_baseline_pubs.shape[0], core_in_baseline_ratio"
   ]
  },
  {
   "cell_type": "code",
   "execution_count": 33,
   "metadata": {},
   "outputs": [
    {
     "data": {
      "text/plain": [
       "{'pred_score': 0.22870331466723606,\n",
       " 'baseline_score': 0.14473332475273012,\n",
       " 'baseline_recall': 0.2765957446808511,\n",
       " 'predicted_recall': 0.723404255319149}"
      ]
     },
     "execution_count": 33,
     "metadata": {},
     "output_type": "execute_result"
    }
   ],
   "source": [
    "# every element that is more similar than the least similar core publication is considered relevant\n",
    "pred_score = (relevant_predicted_pubs.shape[0] / predicted_pubs.shape[0]) * core_in_predicted_ratio\n",
    "baseline_score = (relevent_baseline_pubs.shape[0] / baseline_pubs.shape[0]) * core_in_baseline_ratio\n",
    "recall = evaluate_recall(core_pubs, baseline_pubs, predicted_pubs)\n",
    "\n",
    "{\"pred_score\": pred_score, \"baseline_score\": baseline_score, \"baseline_recall\": recall[\"baseline_recall\"], \"predicted_recall\": recall[\"predicted_recall\"]}"
   ]
  }
 ],
 "metadata": {
  "kernelspec": {
   "display_name": ".venv",
   "language": "python",
   "name": "python3"
  },
  "language_info": {
   "codemirror_mode": {
    "name": "ipython",
    "version": 3
   },
   "file_extension": ".py",
   "mimetype": "text/x-python",
   "name": "python",
   "nbconvert_exporter": "python",
   "pygments_lexer": "ipython3",
   "version": "3.10.4"
  }
 },
 "nbformat": 4,
 "nbformat_minor": 2
}
